{
 "cells": [
  {
   "cell_type": "markdown",
   "metadata": {
    "id": "M7QJM91r-lbL"
   },
   "source": [
    "# Tutorial"
   ]
  },
  {
   "cell_type": "markdown",
   "metadata": {
    "id": "VlwxbjckMHpK"
   },
   "source": [
    "# House Keeping"
   ]
  },
  {
   "cell_type": "code",
   "execution_count": null,
   "metadata": {},
   "outputs": [],
   "source": [
    "import pandas as pd\n",
    "import numpy as np\n",
    "import plotly.express as px\n",
    "import plotly.graph_objects as go\n",
    "from scipy.stats import chi2_contingency\n",
    "import statsmodels.formula.api as smf\n",
    "import statsmodels.api as sm\n",
    "import matplotlib.pyplot as plt # type: ignore\n",
    "from statsmodels.nonparametric.smoothers_lowess import lowess\n",
    "\n",
    "\n",
    "import seaborn as sns # type: ignore\n",
    "from causalml.match import NearestNeighborMatch # type: ignore\n",
    "from causalml.match import create_table_one # type: ignore\n",
    "import dowhy.datasets # type: ignore"
   ]
  },
  {
   "cell_type": "markdown",
   "metadata": {
    "id": "3rl1Fmq0GW_i"
   },
   "source": [
    "# DiD: Effect of a Garbage Incinerator on Housing Price.\n",
    "\n",
    "This question is Based on Kiel and McClain (1995). The data is from Wooldridge Example 13.3. The data [description](https://www.dropbox.com/s/mn2iu0gkix0pqii/KIELMC.DES?dl=0) and [raw data](https://www.dropbox.com/s/6nga0ds63zhujwq/KIELMC.raw?dl=0) are provided to you.\n",
    "The variables and their meanings are listed below.\n",
    "\n",
    "Obs:   321\n",
    "\n",
    "1. year:                     1978 or 1981\n",
    "2. age:                      age of house\n",
    "3. agesq:                    age^2\n",
    "4. nbh:                      neighborhood #, 1 to 6\n",
    "5. cbd:                      dist. to central bus. dstrct, feet\n",
    "6. intst:                    dist. to interstate, feet\n",
    "7. lintst:                   log(intst)\n",
    "8. price:                    selling price\n",
    "9. rooms:                    # rooms in house\n",
    "10. area:                     square footage of house\n",
    "11. land:                     square footage lot\n",
    "12. baths:                    # bathrooms\n",
    "13. dist:                     dist. from house to incinerator, feet\n",
    "14. ldist:                    log(dist)\n",
    "15. wind:                     perc. time wind incin. to house\n",
    "16. lprice:                   log(price)\n",
    "17. y81:                      =1 if year == 1981\n",
    "18. larea:                    log(area)\n",
    "19. lland:                    log(land)\n",
    "20. y81ldist:                 y81*ldist\n",
    "21. lintstsq:                 lintst^2\n",
    "22. nearinc:                  =1 if dist <= 15840\n",
    "23. y81nrinc:                 y81*nearinc\n",
    "24. rprice:                   price, 1978 dollars\n",
    "25. lrprice:                  log(rprice)\n",
    "\n",
    "\n",
    "- Read the data and give proper names to each variable.\n",
    "  - Note: The raw data is not a CSV, so `read.csv` does not work. What can you do about it?\n",
    "- Use 1981 data to estimate a linear model of `rprice` on `nearinc`.\n",
    "  - Why not use `price`?\n",
    "- Use 1978 data to estimate the same model.\n",
    "- What is the treatment effect based on the previous two regression results?\n",
    "- Set up a DiD regression as in the lecture and find the treatment effect."
   ]
  },
  {
   "cell_type": "markdown",
   "metadata": {
    "id": "p1nCXuorzBdn"
   },
   "source": [
    "# RDD\n",
    "\n",
    "Let's have a competition to see who can estimate the local ATE more precisely. The true value will be revealed after the competition.\n",
    "\n",
    "The data is [here](https://drive.google.com/file/d/1cGLkO_NkNAjOe-Q2RMNVGOMFP9Y13-0T/view?usp=sharing).\n",
    "- $y$ is the output\n",
    "- $d$ is the treatment\n",
    "- $r$ is the running variable.\n",
    "\n"
   ]
  },
  {
   "cell_type": "markdown",
   "metadata": {
    "id": "MBc9VpWFLVty"
   },
   "source": [
    "# IV\n",
    "\n",
    "IV is well covered in Basic Econometrics. We are happy to help you in consultation if you need more details. The routines in the lecture note shall serve most purposes."
   ]
  },
  {
   "cell_type": "markdown",
   "metadata": {},
   "source": [
    "# Matching\n",
    "\n",
    "- the effect of job training on subsequent earnings\n",
    "- focus on estimating the effect of the treatment (treat) on earnings in 1978 (re78), conditional on covariates."
   ]
  },
  {
   "cell_type": "markdown",
   "metadata": {},
   "source": [
    "A data frame with 445 observations, corresponding to 185 treated and 260 control subjects. The treatment assignment indicator is the first variable of the data frame: treatment (1 = treated; 0 = control). More covariates are:\n",
    "\n",
    "- age, measured in years;\n",
    "- education, measured in years;\n",
    "- black, indicating race (1 if black, 0 otherwise);\n",
    "- hispanic, indicating race (1 if Hispanic, 0 otherwise);\n",
    "- married, indicating marital status (1 if married, 0 otherwise);\n",
    "- nodegree, indicating high school diploma (1 if no degree, 0 otherwise);\n",
    "- re74, real earnings in 1974;\n",
    "- re75, real earnings in 1975.\n",
    "- The last variable of the data frame is re78, the real the earnings in 1978.\n",
    "- u74 and u75 are derived, meaning zero income or not in the corresponding year."
   ]
  },
  {
   "cell_type": "code",
   "execution_count": null,
   "metadata": {},
   "outputs": [],
   "source": [
    "lalonde = dowhy.datasets.lalonde_dataset() # type: ignore #ignore\n"
   ]
  }
 ],
 "metadata": {
  "colab": {
   "authorship_tag": "ABX9TyO7FUaQkgH24HQ8KWdvAFUj",
   "provenance": [
    {
     "file_id": "1_uZxYSmiQx6GezjVPkv4kwpqeXG3FYSO",
     "timestamp": 1724321824619
    }
   ],
   "toc_visible": true
  },
  "kernelspec": {
   "display_name": "Python 3",
   "name": "python3"
  },
  "language_info": {
   "name": "python"
  }
 },
 "nbformat": 4,
 "nbformat_minor": 0
}
