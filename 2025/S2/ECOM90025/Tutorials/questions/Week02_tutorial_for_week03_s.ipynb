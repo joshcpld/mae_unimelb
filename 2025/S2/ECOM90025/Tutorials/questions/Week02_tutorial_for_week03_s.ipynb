{
 "cells": [
  {
   "cell_type": "markdown",
   "metadata": {
    "id": "gAYxNyPmc_6c"
   },
   "source": [
    "# Tutorial\n",
    "\n",
    "[Alpha Vantage](https://www.alphavantage.co/best_stock_market_api_review/) provides very convenient way (API) to get their data for free. \n",
    "\n",
    "\n",
    "1. Investigate and learn a quick way to obtain their data. Get the API key to download the S&P500 ETF data.\n",
    "1. Estimate an AR(1) model as\n",
    "$y_t=\\alpha + \\rho y_{t-1}+ɛ_t,$ where $y_t$ is the *Adjusted Closing Price*.\n",
    "3. Construct return data as\n",
    "$r_t=\\frac{y_t-y_{t-1}}{y_{t-1}}$.\n",
    "Plot the return and estimate an AR(1) model by using returns. Comment on the coefficients and their significance.\n",
    "1. Use the cross validation(CV) method to check the predictabiilty of AR(1) model for index returns. Discuss your results.\n",
    "1. Try other time series such as foreign exchange or cryptocurrency to understand their dynamic patterns."
   ]
  },
  {
   "cell_type": "code",
   "execution_count": null,
   "metadata": {
    "id": "u_mDqdxOfV8w"
   },
   "outputs": [],
   "source": [
    "import pandas as pd\n",
    "import numpy as np\n",
    "import plotly.express as px\n",
    "import plotly.graph_objects as go\n",
    "from scipy.stats import norm\n",
    "import statsmodels.api as sm\n",
    "from sklearn.linear_model import LinearRegression\n",
    "from sklearn.preprocessing import OneHotEncoder\n",
    "import itertools\n",
    "import statsmodels.formula.api as smf\n",
    "from patsy.builtins import Q\n",
    "import matplotlib.pyplot as plt\n",
    "from sklearn.model_selection import KFold\n",
    "import warnings\n",
    "from statsmodels.tools.sm_exceptions import ConvergenceWarning\n",
    "\n",
    "import sy_functions as sy"
   ]
  }
 ],
 "metadata": {
  "colab": {
   "authorship_tag": "ABX9TyN7C4oCxIMkfznL9GJMaLQl",
   "provenance": [
    {
     "file_id": "1ZrVEMD48ylOu1aQsarvxbKeAuDOtObGM",
     "timestamp": 1720772057073
    },
    {
     "file_id": "15TUwYexyrn86UdIfaI5UI0QwdUnFI7e0",
     "timestamp": 1720759625016
    }
   ]
  },
  "kernelspec": {
   "display_name": "Python 3",
   "name": "python3"
  },
  "language_info": {
   "name": "python"
  }
 },
 "nbformat": 4,
 "nbformat_minor": 0
}
