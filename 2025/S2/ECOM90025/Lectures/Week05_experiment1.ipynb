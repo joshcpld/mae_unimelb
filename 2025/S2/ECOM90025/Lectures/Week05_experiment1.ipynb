{
 "cells": [
  {
   "cell_type": "markdown",
   "metadata": {
    "id": "JgFsPCaMCMIj"
   },
   "source": [
    "# House Keeping"
   ]
  },
  {
   "cell_type": "code",
   "execution_count": 1,
   "metadata": {
    "executionInfo": {
     "elapsed": 4036,
     "status": "ok",
     "timestamp": 1724119656283,
     "user": {
      "displayName": "Yong Song",
      "userId": "00576951217859821315"
     },
     "user_tz": -600
    },
    "id": "Ym_YxAxJALRG"
   },
   "outputs": [],
   "source": [
    "import pandas as pd\n",
    "import numpy as np\n",
    "import statsmodels.formula.api as smf # type: ignore\n",
    "import plotly.express as px\n",
    "import plotly.graph_objects as go\n",
    "from scipy.stats import chi2_contingency # type: ignore\n",
    "import statsmodels.formula.api as smf # type: ignore"
   ]
  },
  {
   "cell_type": "markdown",
   "metadata": {
    "id": "2mxLtxJn3BFP"
   },
   "source": [
    "# Reading\n",
    "\n",
    "Textbook Page 127-139."
   ]
  },
  {
   "cell_type": "markdown",
   "metadata": {
    "id": "sDQC1985xGAO"
   },
   "source": [
    "# Correlation and Causation\n",
    "\n",
    "- Some examples of correlation and causation.\n",
    "  - Salary and Education\n",
    "  - Asset Return and Volatility\n",
    "  - Economic growth and Oil price change\n",
    "  - Unemployment and Inflation\n",
    "  - Sales and Promotion\n",
    "  - Investment and Consumption\n",
    "  - Hotel price and Sales\n",
    "\n",
    "\n",
    "- Econometrics are more into causality, while ML loves prediction.\n",
    "\n",
    "- Only when causality is established we can make **counterfactual prediction**."
   ]
  },
  {
   "cell_type": "markdown",
   "metadata": {
    "id": "K2Dr0Z6izugY"
   },
   "source": [
    "## Randomised Controlled Trials (RCT)\n",
    "\n",
    "The terminology is easy to understand. Control for everything else and only change something you want to understand to see the difference. It is also labelled as **AB testing** in the textbook and business optimisation in general.\n",
    "\n",
    "- **Treatment Effect (TE)**\n",
    "- **Treatment Variable**: $d$, which can be discrete or continuous.\n",
    "  - enter a program or not\n",
    "  - price cut for sale\n",
    "  - new drug intake amount\n",
    "\n",
    "AB trial is also known as *completely randomized design*.\n",
    "- A is control group and B is treatment group\n",
    "- Average Treatment Effect（ATE）\n",
    "  $$ATE = E(y\\mid d=1)-E(y\\mid d=0)$$\n",
    "- $d$ must be independent of all other factors.\n",
    "- Estimate\n",
    "  $$\\widehat{ATE}=\\overline{y}_1-\\overline{y}_0$$\n",
    "- The standard error is the same as the SE of comparing two independent sample means in QM1. See (5.3) from the textbook. We briefly mention it here for completeness."
   ]
  },
  {
   "cell_type": "markdown",
   "metadata": {
    "id": "b4YjkvxCwhYq"
   },
   "source": [
    "# [The Oregon Health Insurance Experiment](https://www.nber.org/programs-projects/projects-and-centers/oregon-health-insurance-experiment?page=1&perPage=50)\n",
    "\n",
    "2008, Oregon expand its coverage for Medicaid. Because demand is higher than supply, the state used lottery to allocate. This is the Oregon Health Insurance Experiment (OHIE), a randomised controlled AB trial to meausre the treatment effect of Medicaid eligibility (note: NOT access).\n",
    "\n",
    "- people were tracked for 12 months.\n"
   ]
  },
  {
   "cell_type": "markdown",
   "metadata": {
    "id": "6BKV8puPwhYq"
   },
   "source": [
    "We will work with a data file from an actual scientific publication. They shared key data in various files in the Stata statistical program's main data format. So we'll load that.\n",
    "\n",
    "- `person_id`  is a key for the people in the study.\n",
    "- `treatment` is in the description file. This is the $d$ variable!\n",
    "\n",
    "- For more details, you may visit their [NBER page](https://www.nber.org/research/data/oregon-health-insurance-experiment-data)\n",
    "\n",
    "We are interested in the effect of health insurance on increased costs and utilization (health would be longer term)."
   ]
  },
  {
   "cell_type": "markdown",
   "metadata": {},
   "source": [
    "For details, see\n",
    "- [description codebook](https://www.dropbox.com/s/l8oymjphxb5sojl/oregonhie_descriptivevars_codebook.pdf?dl=0)\n",
    "- [program codebook](https://www.dropbox.com/s/03f5xyf1top6a2z/oregonhie_stateprograms_codebook.pdf?dl=0)\n",
    "- [survey 12 month codebook](https://www.dropbox.com/s/ut3uzm1e431a5v5/oregonhie_survey12m_codebook.pdf?dl=0)"
   ]
  },
  {
   "cell_type": "code",
   "execution_count": 2,
   "metadata": {
    "id": "Ux-O2H0qy713"
   },
   "outputs": [],
   "source": [
    "descr = pd.read_csv(\"https://www.dropbox.com/scl/fi/0fdjb40d8p2opcvkdrhp9/descr.csv?rlkey=9mlcyhwwt0d4lbtovb023qjp2&dl=1\")\n",
    "prgm = pd.read_csv(\"https://www.dropbox.com/scl/fi/29yal1nt9we4kbdvsx4bc/prgm.csv?rlkey=l2dkn0hsgq7401a8fbgicri9n&dl=1\")\n",
    "s12 = pd.read_csv(\"https://www.dropbox.com/scl/fi/6t7u5d3a9bxnnev2xthog/s12.csv?rlkey=foauwm8b5w4mahhfcfqp6narb&dl=1\")"
   ]
  },
  {
   "cell_type": "markdown",
   "metadata": {},
   "source": [
    "## description file"
   ]
  },
  {
   "cell_type": "code",
   "execution_count": 3,
   "metadata": {
    "colab": {
     "base_uri": "https://localhost:8080/"
    },
    "executionInfo": {
     "elapsed": 310,
     "status": "ok",
     "timestamp": 1723151192041,
     "user": {
      "displayName": "Yong Song",
      "userId": "00576951217859821315"
     },
     "user_tz": -600
    },
    "id": "7CpeOb9J320M",
    "outputId": "05053bd6-df01-491d-ea1c-449db2508754"
   },
   "outputs": [
    {
     "name": "stdout",
     "output_type": "stream",
     "text": [
      "<class 'pandas.core.frame.DataFrame'>\n",
      "RangeIndex: 74922 entries, 0 to 74921\n",
      "Data columns (total 22 columns):\n",
      " #   Column             Non-Null Count  Dtype \n",
      "---  ------             --------------  ----- \n",
      " 0   person_id          74922 non-null  int64 \n",
      " 1   household_id       74922 non-null  int64 \n",
      " 2   treatment          74922 non-null  object\n",
      " 3   draw_treat         29834 non-null  object\n",
      " 4   draw_lottery       74922 non-null  object\n",
      " 5   applied_app        29799 non-null  object\n",
      " 6   approved_app       29799 non-null  object\n",
      " 7   dt_notify_lottery  74922 non-null  object\n",
      " 8   dt_retro_coverage  74922 non-null  object\n",
      " 9   dt_app_decision    18101 non-null  object\n",
      " 10  postn_death        74922 non-null  object\n",
      " 11  numhh_list         74922 non-null  object\n",
      " 12  birthyear_list     74922 non-null  int64 \n",
      " 13  have_phone_list    74922 non-null  object\n",
      " 14  english_list       74922 non-null  object\n",
      " 15  female_list        74921 non-null  object\n",
      " 16  first_day_list     74922 non-null  object\n",
      " 17  last_day_list      74922 non-null  object\n",
      " 18  pobox_list         74922 non-null  object\n",
      " 19  self_list          74922 non-null  object\n",
      " 20  week_list          74922 non-null  object\n",
      " 21  zip_msa_list       74920 non-null  object\n",
      "dtypes: int64(3), object(19)\n",
      "memory usage: 12.6+ MB\n"
     ]
    }
   ],
   "source": [
    "descr.info()"
   ]
  },
  {
   "cell_type": "markdown",
   "metadata": {},
   "source": [
    "|variable name | label |\n",
    "|--------------|--------|\n",
    "| person_id | personal identifier | \n",
    "| household_id | household identifier|\n",
    "| treatment    | **selected** in the lottery|\n",
    "| draw_treat  | Lottery draw for thoese selected|\n",
    "|  draw_lottery |     Lottery draw fro thoese selected, \"matched\" draw. This is the  *control group*|\n",
    "|   applied_app | Submitted an application to OHP|\n",
    "|   approved_app | Applicatin approved |\n",
    "|   dt_notify_lottery | Lottery draw date |\n",
    "|  dt_retro_coverage  | insurance begin date, retroactively after approval|\n",
    "|  dt_app_decision    | data for application decision |\n",
    "|  postn_death        | death post notificaiton date |\n",
    "| numhh_list          | number of people in hoursehold|\n",
    "|  birthyear_list     | birth year |\n",
    "| have_phone_list    | gave a phone number? |\n",
    "|  english_list       | request English material? |\n",
    "|  female_list        | gender |\n",
    "| first_day_list     | signed up for lottery list on the first day. *important psychological date*|\n",
    "| last_day_list      | signed up for lottery list on the last day. *important psychological date*|\n",
    "| pobox_list      | gave a PO box? |\n",
    "|  self_list          | self signed up for lottery list?|\n",
    "| week_list         | week of lottery sign up. *patience?*|\n",
    "| zip_msa_list | Zip code in metropolitan statistical area?|"
   ]
  },
  {
   "cell_type": "code",
   "execution_count": 4,
   "metadata": {
    "colab": {
     "base_uri": "https://localhost:8080/",
     "height": 481
    },
    "executionInfo": {
     "elapsed": 631,
     "status": "ok",
     "timestamp": 1723151197975,
     "user": {
      "displayName": "Yong Song",
      "userId": "00576951217859821315"
     },
     "user_tz": -600
    },
    "id": "kszzJDe244er",
    "outputId": "6eeefb3b-a3dd-4312-ff54-d78147f3ccb3"
   },
   "outputs": [
    {
     "data": {
      "text/html": [
       "<div>\n",
       "<style scoped>\n",
       "    .dataframe tbody tr th:only-of-type {\n",
       "        vertical-align: middle;\n",
       "    }\n",
       "\n",
       "    .dataframe tbody tr th {\n",
       "        vertical-align: top;\n",
       "    }\n",
       "\n",
       "    .dataframe thead th {\n",
       "        text-align: right;\n",
       "    }\n",
       "</style>\n",
       "<table border=\"1\" class=\"dataframe\">\n",
       "  <thead>\n",
       "    <tr style=\"text-align: right;\">\n",
       "      <th></th>\n",
       "      <th>0</th>\n",
       "      <th>1</th>\n",
       "      <th>2</th>\n",
       "      <th>3</th>\n",
       "      <th>4</th>\n",
       "    </tr>\n",
       "  </thead>\n",
       "  <tbody>\n",
       "    <tr>\n",
       "      <th>person_id</th>\n",
       "      <td>1</td>\n",
       "      <td>2</td>\n",
       "      <td>3</td>\n",
       "      <td>4</td>\n",
       "      <td>5</td>\n",
       "    </tr>\n",
       "    <tr>\n",
       "      <th>household_id</th>\n",
       "      <td>100001</td>\n",
       "      <td>100002</td>\n",
       "      <td>100003</td>\n",
       "      <td>100004</td>\n",
       "      <td>100005</td>\n",
       "    </tr>\n",
       "    <tr>\n",
       "      <th>treatment</th>\n",
       "      <td>Selected</td>\n",
       "      <td>Selected</td>\n",
       "      <td>Not selected</td>\n",
       "      <td>Not selected</td>\n",
       "      <td>Selected</td>\n",
       "    </tr>\n",
       "    <tr>\n",
       "      <th>draw_treat</th>\n",
       "      <td>Draw 7: selected in lottery 08/01/2008</td>\n",
       "      <td>Draw 6: selected in lottery 07/01/2008</td>\n",
       "      <td>NaN</td>\n",
       "      <td>NaN</td>\n",
       "      <td>Draw 7: selected in lottery 08/01/2008</td>\n",
       "    </tr>\n",
       "    <tr>\n",
       "      <th>draw_lottery</th>\n",
       "      <td>Lottery Draw 7</td>\n",
       "      <td>Lottery Draw 6</td>\n",
       "      <td>Lottery Draw 2</td>\n",
       "      <td>Lottery Draw 8</td>\n",
       "      <td>Lottery Draw 7</td>\n",
       "    </tr>\n",
       "    <tr>\n",
       "      <th>applied_app</th>\n",
       "      <td>Submitted an Application to OHP</td>\n",
       "      <td>Did NOT submit an application to OHP</td>\n",
       "      <td>NaN</td>\n",
       "      <td>NaN</td>\n",
       "      <td>Did NOT submit an application to OHP</td>\n",
       "    </tr>\n",
       "    <tr>\n",
       "      <th>approved_app</th>\n",
       "      <td>No</td>\n",
       "      <td>No</td>\n",
       "      <td>NaN</td>\n",
       "      <td>NaN</td>\n",
       "      <td>No</td>\n",
       "    </tr>\n",
       "    <tr>\n",
       "      <th>dt_notify_lottery</th>\n",
       "      <td>2008-08-12</td>\n",
       "      <td>2008-07-14</td>\n",
       "      <td>2008-04-07</td>\n",
       "      <td>2008-09-11</td>\n",
       "      <td>2008-08-12</td>\n",
       "    </tr>\n",
       "    <tr>\n",
       "      <th>dt_retro_coverage</th>\n",
       "      <td>2008-09-08</td>\n",
       "      <td>2008-08-08</td>\n",
       "      <td>2008-04-08</td>\n",
       "      <td>2008-10-08</td>\n",
       "      <td>2008-09-08</td>\n",
       "    </tr>\n",
       "    <tr>\n",
       "      <th>dt_app_decision</th>\n",
       "      <td>2008-12-31</td>\n",
       "      <td>NaN</td>\n",
       "      <td>NaN</td>\n",
       "      <td>NaN</td>\n",
       "      <td>NaN</td>\n",
       "    </tr>\n",
       "    <tr>\n",
       "      <th>postn_death</th>\n",
       "      <td>Alive</td>\n",
       "      <td>Alive</td>\n",
       "      <td>Alive</td>\n",
       "      <td>Alive</td>\n",
       "      <td>Alive</td>\n",
       "    </tr>\n",
       "    <tr>\n",
       "      <th>numhh_list</th>\n",
       "      <td>signed self up</td>\n",
       "      <td>signed self up</td>\n",
       "      <td>signed self up</td>\n",
       "      <td>signed self up</td>\n",
       "      <td>signed self up</td>\n",
       "    </tr>\n",
       "    <tr>\n",
       "      <th>birthyear_list</th>\n",
       "      <td>1978</td>\n",
       "      <td>1984</td>\n",
       "      <td>1971</td>\n",
       "      <td>1955</td>\n",
       "      <td>1969</td>\n",
       "    </tr>\n",
       "    <tr>\n",
       "      <th>have_phone_list</th>\n",
       "      <td>Gave Phone Number</td>\n",
       "      <td>Gave Phone Number</td>\n",
       "      <td>Gave Phone Number</td>\n",
       "      <td>Gave Phone Number</td>\n",
       "      <td>Gave Phone Number</td>\n",
       "    </tr>\n",
       "    <tr>\n",
       "      <th>english_list</th>\n",
       "      <td>Requested English materials</td>\n",
       "      <td>Requested English materials</td>\n",
       "      <td>Requested English materials</td>\n",
       "      <td>Requested English materials</td>\n",
       "      <td>Requested materials in language other than eng...</td>\n",
       "    </tr>\n",
       "    <tr>\n",
       "      <th>female_list</th>\n",
       "      <td>0: Male</td>\n",
       "      <td>1: Female</td>\n",
       "      <td>1: Female</td>\n",
       "      <td>1: Female</td>\n",
       "      <td>1: Female</td>\n",
       "    </tr>\n",
       "    <tr>\n",
       "      <th>first_day_list</th>\n",
       "      <td>Did NOT sign up for lottery list on first day</td>\n",
       "      <td>Did NOT sign up for lottery list on first day</td>\n",
       "      <td>Did NOT sign up for lottery list on first day</td>\n",
       "      <td>Did NOT sign up for lottery list on first day</td>\n",
       "      <td>Did NOT sign up for lottery list on first day</td>\n",
       "    </tr>\n",
       "    <tr>\n",
       "      <th>last_day_list</th>\n",
       "      <td>Did NOT sign up for lottery list on last day</td>\n",
       "      <td>Did NOT sign up for lottery list on last day</td>\n",
       "      <td>Did NOT sign up for lottery list on last day</td>\n",
       "      <td>Did NOT sign up for lottery list on last day</td>\n",
       "      <td>Did NOT sign up for lottery list on last day</td>\n",
       "    </tr>\n",
       "    <tr>\n",
       "      <th>pobox_list</th>\n",
       "      <td>1: POBOX</td>\n",
       "      <td>0: Not POBOX</td>\n",
       "      <td>0: Not POBOX</td>\n",
       "      <td>0: Not POBOX</td>\n",
       "      <td>0: Not POBOX</td>\n",
       "    </tr>\n",
       "    <tr>\n",
       "      <th>self_list</th>\n",
       "      <td>Signed self up</td>\n",
       "      <td>Signed self up</td>\n",
       "      <td>Signed self up</td>\n",
       "      <td>Signed self up</td>\n",
       "      <td>Signed self up</td>\n",
       "    </tr>\n",
       "    <tr>\n",
       "      <th>week_list</th>\n",
       "      <td>Week 2</td>\n",
       "      <td>Week 3</td>\n",
       "      <td>Week 3</td>\n",
       "      <td>Week 1</td>\n",
       "      <td>Week 2</td>\n",
       "    </tr>\n",
       "    <tr>\n",
       "      <th>zip_msa_list</th>\n",
       "      <td>Zip code of residence in a MSA</td>\n",
       "      <td>Zip code of residence in a MSA</td>\n",
       "      <td>Zip code of residence in a MSA</td>\n",
       "      <td>Zip code of residence in a MSA</td>\n",
       "      <td>Zip code of residence in a MSA</td>\n",
       "    </tr>\n",
       "  </tbody>\n",
       "</table>\n",
       "</div>"
      ],
      "text/plain": [
       "                                                               0  \\\n",
       "person_id                                                      1   \n",
       "household_id                                              100001   \n",
       "treatment                                               Selected   \n",
       "draw_treat                Draw 7: selected in lottery 08/01/2008   \n",
       "draw_lottery                                      Lottery Draw 7   \n",
       "applied_app                      Submitted an Application to OHP   \n",
       "approved_app                                                  No   \n",
       "dt_notify_lottery                                     2008-08-12   \n",
       "dt_retro_coverage                                     2008-09-08   \n",
       "dt_app_decision                                       2008-12-31   \n",
       "postn_death                                                Alive   \n",
       "numhh_list                                        signed self up   \n",
       "birthyear_list                                              1978   \n",
       "have_phone_list                                Gave Phone Number   \n",
       "english_list                         Requested English materials   \n",
       "female_list                                              0: Male   \n",
       "first_day_list     Did NOT sign up for lottery list on first day   \n",
       "last_day_list       Did NOT sign up for lottery list on last day   \n",
       "pobox_list                                              1: POBOX   \n",
       "self_list                                         Signed self up   \n",
       "week_list                                                 Week 2   \n",
       "zip_msa_list                      Zip code of residence in a MSA   \n",
       "\n",
       "                                                               1  \\\n",
       "person_id                                                      2   \n",
       "household_id                                              100002   \n",
       "treatment                                               Selected   \n",
       "draw_treat                Draw 6: selected in lottery 07/01/2008   \n",
       "draw_lottery                                      Lottery Draw 6   \n",
       "applied_app                 Did NOT submit an application to OHP   \n",
       "approved_app                                                  No   \n",
       "dt_notify_lottery                                     2008-07-14   \n",
       "dt_retro_coverage                                     2008-08-08   \n",
       "dt_app_decision                                              NaN   \n",
       "postn_death                                                Alive   \n",
       "numhh_list                                        signed self up   \n",
       "birthyear_list                                              1984   \n",
       "have_phone_list                                Gave Phone Number   \n",
       "english_list                         Requested English materials   \n",
       "female_list                                            1: Female   \n",
       "first_day_list     Did NOT sign up for lottery list on first day   \n",
       "last_day_list       Did NOT sign up for lottery list on last day   \n",
       "pobox_list                                          0: Not POBOX   \n",
       "self_list                                         Signed self up   \n",
       "week_list                                                 Week 3   \n",
       "zip_msa_list                      Zip code of residence in a MSA   \n",
       "\n",
       "                                                               2  \\\n",
       "person_id                                                      3   \n",
       "household_id                                              100003   \n",
       "treatment                                           Not selected   \n",
       "draw_treat                                                   NaN   \n",
       "draw_lottery                                      Lottery Draw 2   \n",
       "applied_app                                                  NaN   \n",
       "approved_app                                                 NaN   \n",
       "dt_notify_lottery                                     2008-04-07   \n",
       "dt_retro_coverage                                     2008-04-08   \n",
       "dt_app_decision                                              NaN   \n",
       "postn_death                                                Alive   \n",
       "numhh_list                                        signed self up   \n",
       "birthyear_list                                              1971   \n",
       "have_phone_list                                Gave Phone Number   \n",
       "english_list                         Requested English materials   \n",
       "female_list                                            1: Female   \n",
       "first_day_list     Did NOT sign up for lottery list on first day   \n",
       "last_day_list       Did NOT sign up for lottery list on last day   \n",
       "pobox_list                                          0: Not POBOX   \n",
       "self_list                                         Signed self up   \n",
       "week_list                                                 Week 3   \n",
       "zip_msa_list                      Zip code of residence in a MSA   \n",
       "\n",
       "                                                               3  \\\n",
       "person_id                                                      4   \n",
       "household_id                                              100004   \n",
       "treatment                                           Not selected   \n",
       "draw_treat                                                   NaN   \n",
       "draw_lottery                                      Lottery Draw 8   \n",
       "applied_app                                                  NaN   \n",
       "approved_app                                                 NaN   \n",
       "dt_notify_lottery                                     2008-09-11   \n",
       "dt_retro_coverage                                     2008-10-08   \n",
       "dt_app_decision                                              NaN   \n",
       "postn_death                                                Alive   \n",
       "numhh_list                                        signed self up   \n",
       "birthyear_list                                              1955   \n",
       "have_phone_list                                Gave Phone Number   \n",
       "english_list                         Requested English materials   \n",
       "female_list                                            1: Female   \n",
       "first_day_list     Did NOT sign up for lottery list on first day   \n",
       "last_day_list       Did NOT sign up for lottery list on last day   \n",
       "pobox_list                                          0: Not POBOX   \n",
       "self_list                                         Signed self up   \n",
       "week_list                                                 Week 1   \n",
       "zip_msa_list                      Zip code of residence in a MSA   \n",
       "\n",
       "                                                                   4  \n",
       "person_id                                                          5  \n",
       "household_id                                                  100005  \n",
       "treatment                                                   Selected  \n",
       "draw_treat                    Draw 7: selected in lottery 08/01/2008  \n",
       "draw_lottery                                          Lottery Draw 7  \n",
       "applied_app                     Did NOT submit an application to OHP  \n",
       "approved_app                                                      No  \n",
       "dt_notify_lottery                                         2008-08-12  \n",
       "dt_retro_coverage                                         2008-09-08  \n",
       "dt_app_decision                                                  NaN  \n",
       "postn_death                                                    Alive  \n",
       "numhh_list                                            signed self up  \n",
       "birthyear_list                                                  1969  \n",
       "have_phone_list                                    Gave Phone Number  \n",
       "english_list       Requested materials in language other than eng...  \n",
       "female_list                                                1: Female  \n",
       "first_day_list         Did NOT sign up for lottery list on first day  \n",
       "last_day_list           Did NOT sign up for lottery list on last day  \n",
       "pobox_list                                              0: Not POBOX  \n",
       "self_list                                             Signed self up  \n",
       "week_list                                                     Week 2  \n",
       "zip_msa_list                          Zip code of residence in a MSA  "
      ]
     },
     "execution_count": 4,
     "metadata": {},
     "output_type": "execute_result"
    }
   ],
   "source": [
    "descr.head().T"
   ]
  },
  {
   "cell_type": "code",
   "execution_count": 6,
   "metadata": {},
   "outputs": [
    {
     "data": {
      "text/plain": [
       "array(['Zip code of residence in a MSA',\n",
       "       'Zip code of residence NOT in a MSA', nan], dtype=object)"
      ]
     },
     "execution_count": 6,
     "metadata": {},
     "output_type": "execute_result"
    }
   ],
   "source": [
    "descr.zip_msa_list.unique()"
   ]
  },
  {
   "cell_type": "markdown",
   "metadata": {},
   "source": [
    "## program file"
   ]
  },
  {
   "cell_type": "code",
   "execution_count": 5,
   "metadata": {
    "colab": {
     "base_uri": "https://localhost:8080/"
    },
    "executionInfo": {
     "elapsed": 326,
     "status": "ok",
     "timestamp": 1723151215906,
     "user": {
      "displayName": "Yong Song",
      "userId": "00576951217859821315"
     },
     "user_tz": -600
    },
    "id": "Rxuugmnp4-1E",
    "outputId": "13f4cd69-2fc0-4f94-c2c0-c2a419640bd3"
   },
   "outputs": [
    {
     "name": "stdout",
     "output_type": "stream",
     "text": [
      "<class 'pandas.core.frame.DataFrame'>\n",
      "RangeIndex: 74922 entries, 0 to 74921\n",
      "Data columns (total 36 columns):\n",
      " #   Column                         Non-Null Count  Dtype  \n",
      "---  ------                         --------------  -----  \n",
      " 0   person_id                      74922 non-null  int64  \n",
      " 1   ohp_all_ever_matchn_30sep2009  74922 non-null  object \n",
      " 2   ohp_all_ever_firstn_survey0m   58405 non-null  object \n",
      " 3   ohp_all_ever_firstn_survey6m   13024 non-null  object \n",
      " 4   ohp_all_ever_inperson          20745 non-null  object \n",
      " 5   ohp_all_ever_firstn_30sep2009  74922 non-null  object \n",
      " 6   ohp_all_end_30sep2009          74922 non-null  object \n",
      " 7   ohp_all_end_survey0m           58405 non-null  object \n",
      " 8   ohp_all_end_survey6m           13024 non-null  object \n",
      " 9   ohp_all_end_inperson           20745 non-null  object \n",
      " 10  ohp_all_at_12m                 58405 non-null  object \n",
      " 11  ohp_all_mo_matchn_30sep2009    74922 non-null  object \n",
      " 12  ohp_all_mo_firstn_survey0m     58405 non-null  object \n",
      " 13  ohp_all_mo_firstn_survey6m     13024 non-null  object \n",
      " 14  ohp_all_mo_inperson            20745 non-null  object \n",
      " 15  ohp_all_mo_firstn_30sep2009    74922 non-null  object \n",
      " 16  ohp_all_mo_12m                 58405 non-null  object \n",
      " 17  ohp_std_ever_matchn_30sep2009  74922 non-null  object \n",
      " 18  ohp_std_ever_inperson          20745 non-null  object \n",
      " 19  ohp_std_ever_firstn_30sep2009  74922 non-null  object \n",
      " 20  snap_ever_prenotify07          74922 non-null  object \n",
      " 21  snap_ever_presurvey12m         58405 non-null  object \n",
      " 22  snap_ever_matchn_30sep2009     74922 non-null  object \n",
      " 23  snap_ever_firstn_survey12m     58405 non-null  object \n",
      " 24  snap_tot_hh_prenotify07        74922 non-null  int64  \n",
      " 25  snap_tot_hh_presurvey12m       58405 non-null  float64\n",
      " 26  snap_tot_hh_30sep2009          74922 non-null  int64  \n",
      " 27  snap_tot_hh_firstn_survey12m   58405 non-null  float64\n",
      " 28  tanf_ever_prenotify07          74922 non-null  object \n",
      " 29  tanf_ever_presurvey12m         58405 non-null  object \n",
      " 30  tanf_ever_matchn_30sep2009     74922 non-null  object \n",
      " 31  tanf_ever_firstn_survey12m     58405 non-null  object \n",
      " 32  tanf_tot_hh_prenotify07        74922 non-null  float64\n",
      " 33  tanf_tot_hh_presurvey12m       58405 non-null  float64\n",
      " 34  tanf_tot_hh_30sep2009          74922 non-null  float64\n",
      " 35  tanf_tot_hh_firstn_survey12m   58405 non-null  float64\n",
      "dtypes: float64(6), int64(3), object(27)\n",
      "memory usage: 20.6+ MB\n"
     ]
    }
   ],
   "source": [
    "prgm.info()"
   ]
  },
  {
   "cell_type": "markdown",
   "metadata": {},
   "source": [
    "｜ variable | label |\n",
    "|---|---|\n",
    "|  person_id | individual identifier|\n",
    "|   ohp_all_ever_matchn_30sep2009  | ever enrolled in Medicaid? from notification data to 30Sep2009|\n",
    "|  ohp_all_ever_firstn_survey0m   | ever enrolled in Medicaid? from 10Mar2008 to 30Aug2008. *dates are meaningful, but not individual dependent*|\n",
    "|  ohp_all_ever_firstn_survey6m | ever enrolled in Medicaid? from 10Mar2008 to 28Feb2009. |\n",
    "| ohp_all_ever_inperson | ever enrolled in Medicaid? from 10Mar2008 until in-person interview. For in-person interview only|\n",
    "|  ohp_all_ever_firstn_30sep2009   | ever enrolled in Medicaid? from 10Mar2008 to 30Sep2009. |\n",
    "|  ohp_all_end_30sep2009 | Enrolled? on 30Sep2009 |\n",
    "| ohp_all_end_survey0m. | Enrolled? on 30Aug2008 |\n",
    "|   ohp_all_end_survey6m |           Enroled? on 28Feb2009 |\n",
    "|   ohp_all_end_inperson | Enrolled? on in-person interview |\n",
    "|  ohp_all_at_12m | enrolled? when they return 12m mail survey |\n",
    "|  ohp_all_mo_matchn_30sep2009 | number of months on Medicaid between matched notificaiton date and 30Sep2009|\n",
    "| ohp_all_mo_firstn_survey0m   | number of months on Medicaid between 10Mar2008 to 30Aug2008 |\n",
    "|  ohp_all_mo_firstn_survey6m   | number of months on Medicaid between 10Mar2008 to 28Feb2009|\n",
    "|  ohp_all_mo_inperson           |  number of months on Medicaid between 10Mar2008 and in-person interview\n",
    "|  ohp_all_mo_firstn_30sep2009  |   number of months on Medicaid between from 10Mar2008 to 30Sep2009 |\n",
    "|  ohp_all_mo_12m             |    number of months on Medicaid during 6 months prior to 12m survey return |\n",
    "| ohp_std_ever_matchn_30sep2009 | Enroled in OHP standard (lottery)? from notification data to 30Sep2009 |\n",
    "|  ohp_std_ever_inperson       |  Enroled in OHP standard (lottery)? from 10Mar2008 until in-person interview\n",
    "| ohp_std_ever_firstn_30sep2009 |  Enroled in OHP standard (lottery)? from 10Mar2008 to 30Sep2009|\n",
    "| - |  Supplemental Nutrition Assistance Program (SNAP) provides monthly food benefits to help you buy healthy food|\n",
    "| snap_ever_prenotify07      |   In SNAP between 01Jan2007 and notificaiton date | \n",
    "| snap_ever_presurvey12m      |   In SNAP between 01Jan2007 and 10Mar2008 if in 12m sample | \n",
    "|  snap_ever_matchn_30sep2009  |   In SNAP between notification data to 30Sep2009 |\n",
    "|  snap_ever_firstn_survey12m  |   In SNAP between 10Mar2008 to 30Sep2009 |\n",
    "| snap_tot_hh_prenotify07      |  total household benefit from SNAP between 01Jan2007 and notificaiton date |\n",
    "| snap_tot_hh_presurvey12m     |  total household benefit from SNAP between 01Jan2007 and 10Mar2008 if in 12m sample | \n",
    "| snap_tot_hh_30sep2009        |  total household benefit from SNAP between notification data to 30Sep2009 |\n",
    "|  snap_tot_hh_firstn_survey12m  |  total household benefit from SNAP between 10Mar2008 to 30Sep2009 |\n",
    "| - | TANF provides cash benefits to low-income families and new parents|\n",
    "| tanf_ever_prenotify07        | Ever on TANF? between 01Jan2007 and notificaiton date | \n",
    "|  tanf_ever_presurvey12m       | Ever on TANF? between 01Jan2007 and 10Mar2008 if in 12m sample | \n",
    "| tanf_ever_matchn_30sep2009     | Ever on TANF? between notification data to 30Sep2009 |\n",
    "|  tanf_ever_firstn_survey12m    | Ever on TANF? between 10Mar2008 to 30Sep2009 |\n",
    "| tanf_tot_hh_prenotify07         | Total household benefit from TANF? between 01Jan2007 and notificaiton date |\n",
    "|  tanf_tot_hh_presurvey12m     | Total household benefit from TANF?  between 01Jan2007 and 10Mar2008 if in 12m sample | \n",
    "|  tanf_tot_hh_30sep2009        | Total household benefit from TANF? between notification data to 30Sep2009 |\n",
    "|  tanf_tot_hh_firstn_survey12m  | Total household benefit from TANF? between 10Mar2008 to 30Sep2009|"
   ]
  },
  {
   "cell_type": "code",
   "execution_count": 4,
   "metadata": {},
   "outputs": [
    {
     "data": {
      "application/vnd.microsoft.datawrangler.viewer.v0+json": {
       "columns": [
        {
         "name": "index",
         "rawType": "object",
         "type": "string"
        },
        {
         "name": "0",
         "rawType": "object",
         "type": "unknown"
        },
        {
         "name": "1",
         "rawType": "object",
         "type": "unknown"
        },
        {
         "name": "2",
         "rawType": "object",
         "type": "unknown"
        },
        {
         "name": "3",
         "rawType": "object",
         "type": "unknown"
        },
        {
         "name": "4",
         "rawType": "object",
         "type": "unknown"
        }
       ],
       "ref": "33820d56-6624-4650-8917-f1a0de0ca0fe",
       "rows": [
        [
         "person_id",
         "1",
         "2",
         "3",
         "4",
         "5"
        ],
        [
         "ohp_all_ever_matchn_30sep2009",
         "NOT enrolled",
         "Enrolled",
         "NOT enrolled",
         "Enrolled",
         "NOT enrolled"
        ],
        [
         "ohp_all_ever_firstn_survey0m",
         "NOT enrolled",
         "Enrolled",
         "NOT enrolled",
         null,
         "NOT enrolled"
        ],
        [
         "ohp_all_ever_firstn_survey6m",
         null,
         null,
         null,
         null,
         "NOT enrolled"
        ],
        [
         "ohp_all_ever_inperson",
         null,
         null,
         null,
         null,
         "NOT enrolled"
        ],
        [
         "ohp_all_ever_firstn_30sep2009",
         "NOT enrolled",
         "Enrolled",
         "NOT enrolled",
         "Enrolled",
         "NOT enrolled"
        ],
        [
         "ohp_all_end_30sep2009",
         "NOT enrolled",
         "NOT enrolled",
         "NOT enrolled",
         "Enrolled",
         "NOT enrolled"
        ],
        [
         "ohp_all_end_survey0m",
         "NOT enrolled",
         "Enrolled",
         "NOT enrolled",
         null,
         "NOT enrolled"
        ],
        [
         "ohp_all_end_survey6m",
         null,
         null,
         null,
         null,
         "NOT enrolled"
        ],
        [
         "ohp_all_end_inperson",
         null,
         null,
         null,
         null,
         "NOT enrolled"
        ],
        [
         "ohp_all_at_12m",
         "NOT enrolled",
         "NOT enrolled",
         "NOT enrolled",
         null,
         "NOT enrolled"
        ],
        [
         "ohp_all_mo_matchn_30sep2009",
         "0 months",
         "8 months",
         "0 months",
         "13 months",
         "0 months"
        ],
        [
         "ohp_all_mo_firstn_survey0m",
         "0 months",
         "6 months",
         "0 months",
         null,
         "0 months"
        ],
        [
         "ohp_all_mo_firstn_survey6m",
         null,
         null,
         null,
         null,
         "0 months"
        ],
        [
         "ohp_all_mo_inperson",
         null,
         null,
         null,
         null,
         "0 months"
        ],
        [
         "ohp_all_mo_firstn_30sep2009",
         "0 months",
         "12 months",
         "0 months",
         "18 months",
         "0 months"
        ],
        [
         "ohp_all_mo_12m",
         "0 months",
         "0 months",
         "0 months",
         null,
         "0 months"
        ],
        [
         "ohp_std_ever_matchn_30sep2009",
         "NOT enrolled",
         "Enrolled",
         "NOT enrolled",
         "Enrolled",
         "NOT enrolled"
        ],
        [
         "ohp_std_ever_inperson",
         null,
         null,
         null,
         null,
         "NOT enrolled"
        ],
        [
         "ohp_std_ever_firstn_30sep2009",
         "NOT enrolled",
         "Enrolled",
         "NOT enrolled",
         "Enrolled",
         "NOT enrolled"
        ],
        [
         "snap_ever_prenotify07",
         "Yes",
         "Yes",
         "Yes",
         "Yes",
         "No"
        ],
        [
         "snap_ever_presurvey12m",
         "Yes",
         "Yes",
         "Yes",
         null,
         "No"
        ],
        [
         "snap_ever_matchn_30sep2009",
         "Yes",
         "Yes",
         "Yes",
         "Yes",
         "No"
        ],
        [
         "snap_ever_firstn_survey12m",
         "Yes",
         "Yes",
         "Yes",
         null,
         "No"
        ],
        [
         "snap_tot_hh_prenotify07",
         "7453",
         "2404",
         "2367",
         "1150",
         "0"
        ],
        [
         "snap_tot_hh_presurvey12m",
         "5575.0",
         "1212.0",
         "2205.0",
         null,
         "0.0"
        ],
        [
         "snap_tot_hh_30sep2009",
         "746",
         "3962",
         "3212",
         "1260",
         "0"
        ],
        [
         "snap_tot_hh_firstn_survey12m",
         "2624.0",
         "5154.0",
         "3374.0",
         null,
         "0.0"
        ],
        [
         "tanf_ever_prenotify07",
         "No",
         "No",
         "No",
         "No",
         "No"
        ],
        [
         "tanf_ever_presurvey12m",
         "No",
         "No",
         "No",
         null,
         "No"
        ],
        [
         "tanf_ever_matchn_30sep2009",
         "No",
         "No",
         "No",
         "No",
         "No"
        ],
        [
         "tanf_ever_firstn_survey12m",
         "No",
         "No",
         "No",
         null,
         "No"
        ],
        [
         "tanf_tot_hh_prenotify07",
         "0.0",
         "0.0",
         "0.0",
         "0.0",
         "0.0"
        ],
        [
         "tanf_tot_hh_presurvey12m",
         "0.0",
         "0.0",
         "0.0",
         null,
         "0.0"
        ],
        [
         "tanf_tot_hh_30sep2009",
         "0.0",
         "0.0",
         "0.0",
         "0.0",
         "0.0"
        ],
        [
         "tanf_tot_hh_firstn_survey12m",
         "0.0",
         "0.0",
         "0.0",
         null,
         "0.0"
        ]
       ],
       "shape": {
        "columns": 5,
        "rows": 36
       }
      },
      "text/html": [
       "<div>\n",
       "<style scoped>\n",
       "    .dataframe tbody tr th:only-of-type {\n",
       "        vertical-align: middle;\n",
       "    }\n",
       "\n",
       "    .dataframe tbody tr th {\n",
       "        vertical-align: top;\n",
       "    }\n",
       "\n",
       "    .dataframe thead th {\n",
       "        text-align: right;\n",
       "    }\n",
       "</style>\n",
       "<table border=\"1\" class=\"dataframe\">\n",
       "  <thead>\n",
       "    <tr style=\"text-align: right;\">\n",
       "      <th></th>\n",
       "      <th>0</th>\n",
       "      <th>1</th>\n",
       "      <th>2</th>\n",
       "      <th>3</th>\n",
       "      <th>4</th>\n",
       "    </tr>\n",
       "  </thead>\n",
       "  <tbody>\n",
       "    <tr>\n",
       "      <th>person_id</th>\n",
       "      <td>1</td>\n",
       "      <td>2</td>\n",
       "      <td>3</td>\n",
       "      <td>4</td>\n",
       "      <td>5</td>\n",
       "    </tr>\n",
       "    <tr>\n",
       "      <th>ohp_all_ever_matchn_30sep2009</th>\n",
       "      <td>NOT enrolled</td>\n",
       "      <td>Enrolled</td>\n",
       "      <td>NOT enrolled</td>\n",
       "      <td>Enrolled</td>\n",
       "      <td>NOT enrolled</td>\n",
       "    </tr>\n",
       "    <tr>\n",
       "      <th>ohp_all_ever_firstn_survey0m</th>\n",
       "      <td>NOT enrolled</td>\n",
       "      <td>Enrolled</td>\n",
       "      <td>NOT enrolled</td>\n",
       "      <td>NaN</td>\n",
       "      <td>NOT enrolled</td>\n",
       "    </tr>\n",
       "    <tr>\n",
       "      <th>ohp_all_ever_firstn_survey6m</th>\n",
       "      <td>NaN</td>\n",
       "      <td>NaN</td>\n",
       "      <td>NaN</td>\n",
       "      <td>NaN</td>\n",
       "      <td>NOT enrolled</td>\n",
       "    </tr>\n",
       "    <tr>\n",
       "      <th>ohp_all_ever_inperson</th>\n",
       "      <td>NaN</td>\n",
       "      <td>NaN</td>\n",
       "      <td>NaN</td>\n",
       "      <td>NaN</td>\n",
       "      <td>NOT enrolled</td>\n",
       "    </tr>\n",
       "    <tr>\n",
       "      <th>ohp_all_ever_firstn_30sep2009</th>\n",
       "      <td>NOT enrolled</td>\n",
       "      <td>Enrolled</td>\n",
       "      <td>NOT enrolled</td>\n",
       "      <td>Enrolled</td>\n",
       "      <td>NOT enrolled</td>\n",
       "    </tr>\n",
       "    <tr>\n",
       "      <th>ohp_all_end_30sep2009</th>\n",
       "      <td>NOT enrolled</td>\n",
       "      <td>NOT enrolled</td>\n",
       "      <td>NOT enrolled</td>\n",
       "      <td>Enrolled</td>\n",
       "      <td>NOT enrolled</td>\n",
       "    </tr>\n",
       "    <tr>\n",
       "      <th>ohp_all_end_survey0m</th>\n",
       "      <td>NOT enrolled</td>\n",
       "      <td>Enrolled</td>\n",
       "      <td>NOT enrolled</td>\n",
       "      <td>NaN</td>\n",
       "      <td>NOT enrolled</td>\n",
       "    </tr>\n",
       "    <tr>\n",
       "      <th>ohp_all_end_survey6m</th>\n",
       "      <td>NaN</td>\n",
       "      <td>NaN</td>\n",
       "      <td>NaN</td>\n",
       "      <td>NaN</td>\n",
       "      <td>NOT enrolled</td>\n",
       "    </tr>\n",
       "    <tr>\n",
       "      <th>ohp_all_end_inperson</th>\n",
       "      <td>NaN</td>\n",
       "      <td>NaN</td>\n",
       "      <td>NaN</td>\n",
       "      <td>NaN</td>\n",
       "      <td>NOT enrolled</td>\n",
       "    </tr>\n",
       "    <tr>\n",
       "      <th>ohp_all_at_12m</th>\n",
       "      <td>NOT enrolled</td>\n",
       "      <td>NOT enrolled</td>\n",
       "      <td>NOT enrolled</td>\n",
       "      <td>NaN</td>\n",
       "      <td>NOT enrolled</td>\n",
       "    </tr>\n",
       "    <tr>\n",
       "      <th>ohp_all_mo_matchn_30sep2009</th>\n",
       "      <td>0 months</td>\n",
       "      <td>8 months</td>\n",
       "      <td>0 months</td>\n",
       "      <td>13 months</td>\n",
       "      <td>0 months</td>\n",
       "    </tr>\n",
       "    <tr>\n",
       "      <th>ohp_all_mo_firstn_survey0m</th>\n",
       "      <td>0 months</td>\n",
       "      <td>6 months</td>\n",
       "      <td>0 months</td>\n",
       "      <td>NaN</td>\n",
       "      <td>0 months</td>\n",
       "    </tr>\n",
       "    <tr>\n",
       "      <th>ohp_all_mo_firstn_survey6m</th>\n",
       "      <td>NaN</td>\n",
       "      <td>NaN</td>\n",
       "      <td>NaN</td>\n",
       "      <td>NaN</td>\n",
       "      <td>0 months</td>\n",
       "    </tr>\n",
       "    <tr>\n",
       "      <th>ohp_all_mo_inperson</th>\n",
       "      <td>NaN</td>\n",
       "      <td>NaN</td>\n",
       "      <td>NaN</td>\n",
       "      <td>NaN</td>\n",
       "      <td>0 months</td>\n",
       "    </tr>\n",
       "    <tr>\n",
       "      <th>ohp_all_mo_firstn_30sep2009</th>\n",
       "      <td>0 months</td>\n",
       "      <td>12 months</td>\n",
       "      <td>0 months</td>\n",
       "      <td>18 months</td>\n",
       "      <td>0 months</td>\n",
       "    </tr>\n",
       "    <tr>\n",
       "      <th>ohp_all_mo_12m</th>\n",
       "      <td>0 months</td>\n",
       "      <td>0 months</td>\n",
       "      <td>0 months</td>\n",
       "      <td>NaN</td>\n",
       "      <td>0 months</td>\n",
       "    </tr>\n",
       "    <tr>\n",
       "      <th>ohp_std_ever_matchn_30sep2009</th>\n",
       "      <td>NOT enrolled</td>\n",
       "      <td>Enrolled</td>\n",
       "      <td>NOT enrolled</td>\n",
       "      <td>Enrolled</td>\n",
       "      <td>NOT enrolled</td>\n",
       "    </tr>\n",
       "    <tr>\n",
       "      <th>ohp_std_ever_inperson</th>\n",
       "      <td>NaN</td>\n",
       "      <td>NaN</td>\n",
       "      <td>NaN</td>\n",
       "      <td>NaN</td>\n",
       "      <td>NOT enrolled</td>\n",
       "    </tr>\n",
       "    <tr>\n",
       "      <th>ohp_std_ever_firstn_30sep2009</th>\n",
       "      <td>NOT enrolled</td>\n",
       "      <td>Enrolled</td>\n",
       "      <td>NOT enrolled</td>\n",
       "      <td>Enrolled</td>\n",
       "      <td>NOT enrolled</td>\n",
       "    </tr>\n",
       "    <tr>\n",
       "      <th>snap_ever_prenotify07</th>\n",
       "      <td>Yes</td>\n",
       "      <td>Yes</td>\n",
       "      <td>Yes</td>\n",
       "      <td>Yes</td>\n",
       "      <td>No</td>\n",
       "    </tr>\n",
       "    <tr>\n",
       "      <th>snap_ever_presurvey12m</th>\n",
       "      <td>Yes</td>\n",
       "      <td>Yes</td>\n",
       "      <td>Yes</td>\n",
       "      <td>NaN</td>\n",
       "      <td>No</td>\n",
       "    </tr>\n",
       "    <tr>\n",
       "      <th>snap_ever_matchn_30sep2009</th>\n",
       "      <td>Yes</td>\n",
       "      <td>Yes</td>\n",
       "      <td>Yes</td>\n",
       "      <td>Yes</td>\n",
       "      <td>No</td>\n",
       "    </tr>\n",
       "    <tr>\n",
       "      <th>snap_ever_firstn_survey12m</th>\n",
       "      <td>Yes</td>\n",
       "      <td>Yes</td>\n",
       "      <td>Yes</td>\n",
       "      <td>NaN</td>\n",
       "      <td>No</td>\n",
       "    </tr>\n",
       "    <tr>\n",
       "      <th>snap_tot_hh_prenotify07</th>\n",
       "      <td>7453</td>\n",
       "      <td>2404</td>\n",
       "      <td>2367</td>\n",
       "      <td>1150</td>\n",
       "      <td>0</td>\n",
       "    </tr>\n",
       "    <tr>\n",
       "      <th>snap_tot_hh_presurvey12m</th>\n",
       "      <td>5575.0</td>\n",
       "      <td>1212.0</td>\n",
       "      <td>2205.0</td>\n",
       "      <td>NaN</td>\n",
       "      <td>0.0</td>\n",
       "    </tr>\n",
       "    <tr>\n",
       "      <th>snap_tot_hh_30sep2009</th>\n",
       "      <td>746</td>\n",
       "      <td>3962</td>\n",
       "      <td>3212</td>\n",
       "      <td>1260</td>\n",
       "      <td>0</td>\n",
       "    </tr>\n",
       "    <tr>\n",
       "      <th>snap_tot_hh_firstn_survey12m</th>\n",
       "      <td>2624.0</td>\n",
       "      <td>5154.0</td>\n",
       "      <td>3374.0</td>\n",
       "      <td>NaN</td>\n",
       "      <td>0.0</td>\n",
       "    </tr>\n",
       "    <tr>\n",
       "      <th>tanf_ever_prenotify07</th>\n",
       "      <td>No</td>\n",
       "      <td>No</td>\n",
       "      <td>No</td>\n",
       "      <td>No</td>\n",
       "      <td>No</td>\n",
       "    </tr>\n",
       "    <tr>\n",
       "      <th>tanf_ever_presurvey12m</th>\n",
       "      <td>No</td>\n",
       "      <td>No</td>\n",
       "      <td>No</td>\n",
       "      <td>NaN</td>\n",
       "      <td>No</td>\n",
       "    </tr>\n",
       "    <tr>\n",
       "      <th>tanf_ever_matchn_30sep2009</th>\n",
       "      <td>No</td>\n",
       "      <td>No</td>\n",
       "      <td>No</td>\n",
       "      <td>No</td>\n",
       "      <td>No</td>\n",
       "    </tr>\n",
       "    <tr>\n",
       "      <th>tanf_ever_firstn_survey12m</th>\n",
       "      <td>No</td>\n",
       "      <td>No</td>\n",
       "      <td>No</td>\n",
       "      <td>NaN</td>\n",
       "      <td>No</td>\n",
       "    </tr>\n",
       "    <tr>\n",
       "      <th>tanf_tot_hh_prenotify07</th>\n",
       "      <td>0.0</td>\n",
       "      <td>0.0</td>\n",
       "      <td>0.0</td>\n",
       "      <td>0.0</td>\n",
       "      <td>0.0</td>\n",
       "    </tr>\n",
       "    <tr>\n",
       "      <th>tanf_tot_hh_presurvey12m</th>\n",
       "      <td>0.0</td>\n",
       "      <td>0.0</td>\n",
       "      <td>0.0</td>\n",
       "      <td>NaN</td>\n",
       "      <td>0.0</td>\n",
       "    </tr>\n",
       "    <tr>\n",
       "      <th>tanf_tot_hh_30sep2009</th>\n",
       "      <td>0.0</td>\n",
       "      <td>0.0</td>\n",
       "      <td>0.0</td>\n",
       "      <td>0.0</td>\n",
       "      <td>0.0</td>\n",
       "    </tr>\n",
       "    <tr>\n",
       "      <th>tanf_tot_hh_firstn_survey12m</th>\n",
       "      <td>0.0</td>\n",
       "      <td>0.0</td>\n",
       "      <td>0.0</td>\n",
       "      <td>NaN</td>\n",
       "      <td>0.0</td>\n",
       "    </tr>\n",
       "  </tbody>\n",
       "</table>\n",
       "</div>"
      ],
      "text/plain": [
       "                                          0             1             2  \\\n",
       "person_id                                 1             2             3   \n",
       "ohp_all_ever_matchn_30sep2009  NOT enrolled      Enrolled  NOT enrolled   \n",
       "ohp_all_ever_firstn_survey0m   NOT enrolled      Enrolled  NOT enrolled   \n",
       "ohp_all_ever_firstn_survey6m            NaN           NaN           NaN   \n",
       "ohp_all_ever_inperson                   NaN           NaN           NaN   \n",
       "ohp_all_ever_firstn_30sep2009  NOT enrolled      Enrolled  NOT enrolled   \n",
       "ohp_all_end_30sep2009          NOT enrolled  NOT enrolled  NOT enrolled   \n",
       "ohp_all_end_survey0m           NOT enrolled      Enrolled  NOT enrolled   \n",
       "ohp_all_end_survey6m                    NaN           NaN           NaN   \n",
       "ohp_all_end_inperson                    NaN           NaN           NaN   \n",
       "ohp_all_at_12m                 NOT enrolled  NOT enrolled  NOT enrolled   \n",
       "ohp_all_mo_matchn_30sep2009        0 months      8 months      0 months   \n",
       "ohp_all_mo_firstn_survey0m         0 months      6 months      0 months   \n",
       "ohp_all_mo_firstn_survey6m              NaN           NaN           NaN   \n",
       "ohp_all_mo_inperson                     NaN           NaN           NaN   \n",
       "ohp_all_mo_firstn_30sep2009        0 months     12 months      0 months   \n",
       "ohp_all_mo_12m                     0 months      0 months      0 months   \n",
       "ohp_std_ever_matchn_30sep2009  NOT enrolled      Enrolled  NOT enrolled   \n",
       "ohp_std_ever_inperson                   NaN           NaN           NaN   \n",
       "ohp_std_ever_firstn_30sep2009  NOT enrolled      Enrolled  NOT enrolled   \n",
       "snap_ever_prenotify07                   Yes           Yes           Yes   \n",
       "snap_ever_presurvey12m                  Yes           Yes           Yes   \n",
       "snap_ever_matchn_30sep2009              Yes           Yes           Yes   \n",
       "snap_ever_firstn_survey12m              Yes           Yes           Yes   \n",
       "snap_tot_hh_prenotify07                7453          2404          2367   \n",
       "snap_tot_hh_presurvey12m             5575.0        1212.0        2205.0   \n",
       "snap_tot_hh_30sep2009                   746          3962          3212   \n",
       "snap_tot_hh_firstn_survey12m         2624.0        5154.0        3374.0   \n",
       "tanf_ever_prenotify07                    No            No            No   \n",
       "tanf_ever_presurvey12m                   No            No            No   \n",
       "tanf_ever_matchn_30sep2009               No            No            No   \n",
       "tanf_ever_firstn_survey12m               No            No            No   \n",
       "tanf_tot_hh_prenotify07                 0.0           0.0           0.0   \n",
       "tanf_tot_hh_presurvey12m                0.0           0.0           0.0   \n",
       "tanf_tot_hh_30sep2009                   0.0           0.0           0.0   \n",
       "tanf_tot_hh_firstn_survey12m            0.0           0.0           0.0   \n",
       "\n",
       "                                       3             4  \n",
       "person_id                              4             5  \n",
       "ohp_all_ever_matchn_30sep2009   Enrolled  NOT enrolled  \n",
       "ohp_all_ever_firstn_survey0m         NaN  NOT enrolled  \n",
       "ohp_all_ever_firstn_survey6m         NaN  NOT enrolled  \n",
       "ohp_all_ever_inperson                NaN  NOT enrolled  \n",
       "ohp_all_ever_firstn_30sep2009   Enrolled  NOT enrolled  \n",
       "ohp_all_end_30sep2009           Enrolled  NOT enrolled  \n",
       "ohp_all_end_survey0m                 NaN  NOT enrolled  \n",
       "ohp_all_end_survey6m                 NaN  NOT enrolled  \n",
       "ohp_all_end_inperson                 NaN  NOT enrolled  \n",
       "ohp_all_at_12m                       NaN  NOT enrolled  \n",
       "ohp_all_mo_matchn_30sep2009    13 months      0 months  \n",
       "ohp_all_mo_firstn_survey0m           NaN      0 months  \n",
       "ohp_all_mo_firstn_survey6m           NaN      0 months  \n",
       "ohp_all_mo_inperson                  NaN      0 months  \n",
       "ohp_all_mo_firstn_30sep2009    18 months      0 months  \n",
       "ohp_all_mo_12m                       NaN      0 months  \n",
       "ohp_std_ever_matchn_30sep2009   Enrolled  NOT enrolled  \n",
       "ohp_std_ever_inperson                NaN  NOT enrolled  \n",
       "ohp_std_ever_firstn_30sep2009   Enrolled  NOT enrolled  \n",
       "snap_ever_prenotify07                Yes            No  \n",
       "snap_ever_presurvey12m               NaN            No  \n",
       "snap_ever_matchn_30sep2009           Yes            No  \n",
       "snap_ever_firstn_survey12m           NaN            No  \n",
       "snap_tot_hh_prenotify07             1150             0  \n",
       "snap_tot_hh_presurvey12m             NaN           0.0  \n",
       "snap_tot_hh_30sep2009               1260             0  \n",
       "snap_tot_hh_firstn_survey12m         NaN           0.0  \n",
       "tanf_ever_prenotify07                 No            No  \n",
       "tanf_ever_presurvey12m               NaN            No  \n",
       "tanf_ever_matchn_30sep2009            No            No  \n",
       "tanf_ever_firstn_survey12m           NaN            No  \n",
       "tanf_tot_hh_prenotify07              0.0           0.0  \n",
       "tanf_tot_hh_presurvey12m             NaN           0.0  \n",
       "tanf_tot_hh_30sep2009                0.0           0.0  \n",
       "tanf_tot_hh_firstn_survey12m         NaN           0.0  "
      ]
     },
     "execution_count": 4,
     "metadata": {},
     "output_type": "execute_result"
    }
   ],
   "source": [
    "prgm.head().T"
   ]
  },
  {
   "cell_type": "markdown",
   "metadata": {},
   "source": [
    "## survey 12m file"
   ]
  },
  {
   "cell_type": "code",
   "execution_count": 3,
   "metadata": {
    "colab": {
     "base_uri": "https://localhost:8080/"
    },
    "executionInfo": {
     "elapsed": 331,
     "status": "ok",
     "timestamp": 1723151229110,
     "user": {
      "displayName": "Yong Song",
      "userId": "00576951217859821315"
     },
     "user_tz": -600
    },
    "id": "Nv2YnB-t5IKk",
    "outputId": "c957b320-f621-4a57-d068-22655662d826"
   },
   "outputs": [
    {
     "name": "stdout",
     "output_type": "stream",
     "text": [
      "<class 'pandas.core.frame.DataFrame'>\n",
      "RangeIndex: 74922 entries, 0 to 74921\n",
      "Columns: 150 entries, person_id to needmet_dent_cor_12m\n",
      "dtypes: float64(21), int64(1), object(128)\n",
      "memory usage: 85.7+ MB\n"
     ]
    }
   ],
   "source": [
    "s12.info()\n",
    "# too many to show"
   ]
  },
  {
   "cell_type": "code",
   "execution_count": 4,
   "metadata": {},
   "outputs": [
    {
     "data": {
      "text/plain": [
       "Index(['person_id', 'sample_12m', 'dt_mail_12m', 'dt_returned_12m',\n",
       "       'ret_mode_12m', 'returned_12m', 'surv_lang_12m', 'in_survey_12m',\n",
       "       'sample_12m_resp', 'sample_12m_nonresp',\n",
       "       ...\n",
       "       'live_alone_12m', 'live_parents_12m', 'live_relatives_12m',\n",
       "       'live_friends_12m', 'live_other_12m', 'hhsize_12m', 'num19_12m',\n",
       "       'needmet_med_cor_12m', 'needmet_rx_cor_12m', 'needmet_dent_cor_12m'],\n",
       "      dtype='object', length=150)"
      ]
     },
     "execution_count": 4,
     "metadata": {},
     "output_type": "execute_result"
    }
   ],
   "source": [
    "s12.columns"
   ]
  },
  {
   "cell_type": "markdown",
   "metadata": {},
   "source": [
    "| variable | label|\n",
    "|---|---|\n",
    "| person_id | identifier| \n",
    "| sample_12m | 12 month survey? |\n",
    "| dt_mail_12m | date of first survey mailing 12m |\n",
    "| dr_returned_12m | survey return date|\n",
    "| ret_mode_12m | return method |\n",
    "|returned_12m | returned survey |\n",
    "|surv_lang_12m | Survey language |\n",
    "|in_survey_12m | has 12m survey data|\n",
    "|sample_12m_resp | responder with nonzero weight? | \n",
    "| sample_12m_nonresp | non-responder with nonzero weight?|\n",
    "| sample_12m_nonzeroweight | nonzero weight invididual |\n",
    "| weight_intensive_12m | weight for some non-responders. **The RM data has weight too**|\n",
    "| *other weights| weight_newlottery_12m, weight_12m. **weights** are used to find the *unbiased* target| \n",
    "| wave_survey12m | multiple waves of survey |\n",
    "| protocal_12m | intensive follow up indicator |\n",
    "| Q1 health insurance cover | ins_any_12m， ins_ohp_12m, ins_medicare_12m, ins_employer_12m, ins_privpay_12m, ins_othcov_12m, ins_noins_12m, ins_private_12m, ins_other_12m. Some variables are derived|\n",
    "| Q2 isn_month_12m| how many of last 6 months did you have insurance?|\n",
    "|Q3 usual_place_12m | any usual place for medical care? |\n",
    "|Q4 usual_care_12m | specific place for Q3. usual_clinic_12m is derived from it. |\n",
    "|Q5 usual_doc_12m | Do you have one person as personal doctor?|\n",
    "|Q6 need_med_12m | Did you need medical care in the last 6 month?|\n",
    "| Q7 needmet_qn_med_12m | if you needed medicare care, did you get it?. Q6+Q7 derive *needmet_med_12m*|\n",
    "|Q8 reasons for without needed medical care | reason_care_cost_12m, reason_care_ins_12m, reason_care_doc_12m, reason_care_owe_12m, reason_care_apt_12m, reason_care_closed_12m, reason_care_nodoc_12m, reason_Care_other_12m, reason_care_dont_12m |\n",
    "| Q9 need_rx_12m | need presciption medications in the last 6 months?|\n",
    "|Q10 needmet_qn_rx_12m | based on Q9, if needed, did you get it? Q9+Q10 derive *neemet_rx_12m*|\n",
    "|Q11 reason for without medication (most recent) | reason_rx_cost_12m, reason_rx_ins_12m, reason_rx_doc_12m, reason_rx_get_12m, reaason_rx_pharm_12m, reason_rx_other_12m, reason_rx_dont_12m|\n",
    "|rx_any_12m| =1 if Q12>0 (taking any prescription medication?)|\n",
    "|Q12 rx_num_mod_12m | number of prescription meds currently taking |\n",
    "|Q13 need_dent_12m| needed dental care in the last 6 months?|\n",
    "|Q14 needmet_qn_dent_12m| if needed dental care, did you get it? Q13+Q14 derive *needmet_dent_12m*|\n",
    "|doc_any_12m | =1 if Q15>0. See a doctor?|\n",
    "|Q15 doc_num_mod_12m | number of care visits in the last 6 month|\n",
    "|er_any_12m | =1 if Q16>0. visit ER?|\n",
    "|Q16 er_num_mod_12m |number of ER vistis |\n",
    "|Q17 reason to ER | reason_er_need_12m, reason_er_insure_12m, reason_er_closed_12m (clear typo in the file), reason_er_apt_12m, reason_er_doc_12m, reason_er_copay_12m, reason_er_go_12m, reason_er_other_12m, reason_er_rx_12m, reason_er_dont_12m. They derive *er_noner_12m*|\n",
    "|hosp_any_12m | =1 if Q18>0 |\n",
    "|Q18 hosp_num_mod_12m |  number of times visit a hopital as a patient at leaset overnight|\n",
    "|Q19 med_qual_12m| quality of medical care recieved in the past 6 months |\n",
    "| Q20 cost_any_oop_12m | paid out of pocket costs for medical care in the past 6 months?|\n",
    "|Q21 OOP payment| cost_doc_oop_12m, cost_er_oop_12m, cost_rx_oop_12m,\n",
    "cost_oth_oop_12m. They derive *cost_tot_oop_12m*|\n",
    "|Q22 cost_any_owe_12m| owe money b/c medical expenses? *cost_tot_owe_12m* is the amount|\n",
    "|Q23 cost_borrow_12m| borrow money to pay health care bill in the last 6 months?|\n",
    "|Q24 cost_refused_12m| have you been refused care because you owed money for a past treatment?|\n",
    "|Q25 happiness_12m| overall happiness|\n",
    "|Q26 health_gen_12m| self-evaluated health. It derives *health_gen_bin_12m*|\n",
    "|Q27 health_chg_12m| how has your health changed in the past 6 months. It derives *health_chg_bin_12m*|\n",
    "|Q28 baddays_phys_12m| number of days (past 30 days) in bad physical health|\n",
    "|Q29 baddays_ment_12m| number of days (past 30 days) in bad mental health|\n",
    "|Q30 baddays_tot_12m| umber of days (past 30 days) in bad health|\n",
    "|Q31 health_work_12m| health affect your work?|\n",
    "|Q32 physical_act_12m| are you phisically more, same or less active than your peer?|\n",
    "|Q33 dep_interst_12m| how often have you been disinterested in doing things in the past 2 weeks?|\n",
    "|Q34 dep_sad_12m| How often have you felt down, depressed, hopeless in the past 2 weeks |\n",
    "|Q35 informed disease| dia_dx_12m, ast_dx_12m, hbp_dx_12m, emp_dx_12m, ami_dx_12m, chf_dx_12m, dep_dx_12m, chl_dx_12, kid_dx_12m|\n",
    "|Q36 take medication for some disease| dia_rx_12m, ast_rx_12m, hbp_rx_12m, emp_rx_12m, ami_rx_12m, chf_rx_12m, dep_rx_12m, chil_rx_12m, kid_rx_12m|\n",
    "|ever checked something? | Q37 chl_chk_12m, Q38 dia_chk_12m, Q39 mam_chk_12m, Q40 pap_chk_12m |\n",
    "| Q41 smk_ever_12m | smoked at least 100 cigs in your entire life? |\n",
    "|Q42 smk_curr_12m| do you currently smoke cigs?|\n",
    "|Q43 smk_avg_mod_12m| average number of cigs per day |\n",
    "|Q44 smk_quit_12m| advised to quit smoking?|\n",
    "|Q45 female_12m| - |\n",
    "|Q46 birthyear_12m | - |\n",
    "|Q47 employ_det_12m| employed or self_employed. It derives *employ_12m*|\n",
    "|Q48 employ_hrs_12m | average hours worked per week|\n",
    "|Q49 hhinc_cat_12m| household income category| \n",
    "|hhinc_pctfpl_12m | household income as percent of federal poverty line. This value is derived. |\n",
    "|Q50-Q51 race| race_hisp_12m, race_white_12m, race_amerindian_12m, race_asian_12m, race_pacific_12m, race_other_qn_12m|\n",
    "|Q52 edu_12m| highest level of education|\n",
    "|Q53 live arragement| live_partner_12m, live_alone_12m, live_parents_12m, live_relatives_12m, live_friends_12m, live_other_12m|\n",
    "|Q54 hhsize_12m| household size (adults and children)|\n",
    "|Q55 num19_12m| number of family members under 19 in the house|\n",
    "||corrections|\n",
    "|needmet_med_cor_12m |derived. Got all needed medical care in last 6 months or no need. |\n",
    "|needmet_rx_cor_12m | derived. Got all needed prescriptions in last 6 months, or no rx care needed|\n",
    "|needmet_dent_cor_12m | Derived. Got all needed dental care in last 6 month or no dental care needed.|\n",
    "\n",
    "\n",
    "\n",
    "\n",
    "\n",
    "\n"
   ]
  },
  {
   "cell_type": "code",
   "execution_count": 3,
   "metadata": {
    "colab": {
     "base_uri": "https://localhost:8080/",
     "height": 429
    },
    "executionInfo": {
     "elapsed": 322,
     "status": "ok",
     "timestamp": 1723151232026,
     "user": {
      "displayName": "Yong Song",
      "userId": "00576951217859821315"
     },
     "user_tz": -600
    },
    "id": "fwA_MGVC5QIS",
    "outputId": "7927e603-947b-4605-eecb-a51b5ab627de"
   },
   "outputs": [
    {
     "data": {
      "application/vnd.microsoft.datawrangler.viewer.v0+json": {
       "columns": [
        {
         "name": "index",
         "rawType": "object",
         "type": "string"
        },
        {
         "name": "0",
         "rawType": "object",
         "type": "unknown"
        },
        {
         "name": "1",
         "rawType": "object",
         "type": "unknown"
        },
        {
         "name": "2",
         "rawType": "object",
         "type": "unknown"
        },
        {
         "name": "3",
         "rawType": "object",
         "type": "unknown"
        },
        {
         "name": "4",
         "rawType": "object",
         "type": "unknown"
        }
       ],
       "ref": "493caf50-bc2c-4a28-8ab5-c35569801275",
       "rows": [
        [
         "person_id",
         "1",
         "2",
         "3",
         "4",
         "5"
        ],
        [
         "sample_12m",
         "In 12m mail survey sample",
         "In 12m mail survey sample",
         "In 12m mail survey sample",
         "NOT in 12m mail survey sample",
         "In 12m mail survey sample"
        ],
        [
         "dt_mail_12m",
         "2009-08-11",
         "2009-08-11",
         "2009-08-03",
         null,
         "2009-08-14"
        ],
        [
         "dt_returned_12m",
         "2009-11-24",
         "2009-08-31",
         null,
         null,
         "2009-08-21"
        ],
        [
         "ret_mode_12m",
         "Mail",
         "Mail",
         null,
         null,
         "Mail"
        ],
        [
         "returned_12m",
         "Yes",
         "Yes",
         "No",
         null,
         "Yes"
        ],
        [
         "surv_lang_12m",
         "English",
         "English",
         null,
         null,
         "Spanish"
        ],
        [
         "in_survey_12m",
         "Yes",
         "Yes",
         "No",
         null,
         "Yes"
        ],
        [
         "sample_12m_resp",
         "12m mail survey responder",
         "12m mail survey responder",
         "NOT a 12m mail survey responder",
         "NOT a 12m mail survey responder",
         "12m mail survey responder"
        ],
        [
         "sample_12m_nonresp",
         "NOT a 12m mail survey nonresponder",
         "NOT a 12m mail survey nonresponder",
         "NOT a 12m mail survey nonresponder",
         "NOT a 12m mail survey nonresponder",
         "NOT a 12m mail survey nonresponder"
        ],
        [
         "sample_12m_nonzeroweight",
         "Non-zero weight member of 12m mail survey sample",
         "Non-zero weight member of 12m mail survey sample",
         "NOT a non-zero weight member of 12m mail survey sample",
         "NOT a non-zero weight member of 12m mail survey sample",
         "Non-zero weight member of 12m mail survey sample"
        ],
        [
         "weight_intensive_12m",
         "1.0",
         "1.0",
         "0.0",
         null,
         "1.0"
        ],
        [
         "weight_newlottery_12m",
         "1.0",
         "1.0",
         "1.04652619361877",
         null,
         "1.0"
        ],
        [
         "weight_12m",
         "1.0",
         "1.0",
         "0.0",
         null,
         "1.0"
        ],
        [
         "wave_survey12m",
         "Survey Draw 6",
         "Survey Draw 6",
         "Survey Draw 4",
         null,
         "Survey Draws 7 & 8"
        ],
        [
         "protocol_12m",
         "Basic",
         "Basic",
         "Basic",
         null,
         "Basic"
        ],
        [
         "ins_any_12m",
         "No",
         "No",
         null,
         null,
         "Yes"
        ],
        [
         "ins_ohp_12m",
         "No",
         "No",
         null,
         null,
         "No"
        ],
        [
         "ins_medicare_12m",
         "No",
         "No",
         null,
         null,
         "No"
        ],
        [
         "ins_employer_12m",
         "No",
         "No",
         null,
         null,
         "No"
        ],
        [
         "ins_privpay_12m",
         "No",
         "No",
         null,
         null,
         "No"
        ],
        [
         "ins_othcov_12m",
         "No",
         "No",
         null,
         null,
         "Yes"
        ],
        [
         "ins_noins_12m",
         "Yes",
         "Yes",
         null,
         null,
         "No"
        ],
        [
         "ins_private_12m",
         "No",
         "No",
         null,
         null,
         "No"
        ],
        [
         "ins_other_12m",
         "No",
         "No",
         null,
         null,
         "Yes"
        ],
        [
         "ins_months_12m",
         "0 months",
         "0 months",
         null,
         null,
         null
        ],
        [
         "usual_place_12m",
         "No",
         "No",
         null,
         null,
         "No"
        ],
        [
         "usual_care_12m",
         null,
         null,
         null,
         null,
         "don't have usual place"
        ],
        [
         "usual_clinic_12m",
         "No",
         "No",
         null,
         null,
         "No"
        ],
        [
         "usual_doc_12m",
         "No",
         "No",
         null,
         null,
         "Yes"
        ],
        [
         "need_med_12m",
         "Yes",
         "Yes",
         null,
         null,
         "No"
        ],
        [
         "needmet_qn_med_12m",
         "No",
         "No",
         null,
         null,
         "Didn't need care"
        ],
        [
         "needmet_med_12m",
         "No",
         "No",
         null,
         null,
         "Yes"
        ],
        [
         "reason_care_cost_12m",
         "Yes",
         "Yes",
         null,
         null,
         null
        ],
        [
         "reason_care_ins_12m",
         "Yes",
         "Yes",
         null,
         null,
         null
        ],
        [
         "reason_care_doc_12m",
         "No",
         "No",
         null,
         null,
         null
        ],
        [
         "reason_care_owe_12m",
         "No",
         "No",
         null,
         null,
         null
        ],
        [
         "reason_care_apt_12m",
         "No",
         "No",
         null,
         null,
         null
        ],
        [
         "reason_care_closed_12m",
         "No",
         "No",
         null,
         null,
         null
        ],
        [
         "reason_care_nodoc_12m",
         "No",
         "No",
         null,
         null,
         null
        ],
        [
         "reason_care_other_12m",
         "No",
         "No",
         null,
         null,
         null
        ],
        [
         "reason_care_dont_12m",
         "No",
         "No",
         null,
         null,
         null
        ],
        [
         "need_rx_12m",
         "Yes",
         "Yes",
         null,
         null,
         "No"
        ],
        [
         "needmet_qn_rx_12m",
         "No",
         "No",
         null,
         null,
         "Didn't need care"
        ],
        [
         "needmet_rx_12m",
         "No",
         "No",
         null,
         null,
         "Yes"
        ],
        [
         "reason_rx_cost_12m",
         "Yes",
         "Yes",
         null,
         null,
         null
        ],
        [
         "reason_rx_ins_12m",
         "Yes",
         "Yes",
         null,
         null,
         null
        ],
        [
         "reason_rx_doc_12m",
         "No",
         "Yes",
         null,
         null,
         null
        ],
        [
         "reason_rx_get_12m",
         "No",
         "Yes",
         null,
         null,
         null
        ],
        [
         "reason_rx_pharm_12m",
         "No",
         "No",
         null,
         null,
         null
        ]
       ],
       "shape": {
        "columns": 5,
        "rows": 150
       }
      },
      "text/html": [
       "<div>\n",
       "<style scoped>\n",
       "    .dataframe tbody tr th:only-of-type {\n",
       "        vertical-align: middle;\n",
       "    }\n",
       "\n",
       "    .dataframe tbody tr th {\n",
       "        vertical-align: top;\n",
       "    }\n",
       "\n",
       "    .dataframe thead th {\n",
       "        text-align: right;\n",
       "    }\n",
       "</style>\n",
       "<table border=\"1\" class=\"dataframe\">\n",
       "  <thead>\n",
       "    <tr style=\"text-align: right;\">\n",
       "      <th></th>\n",
       "      <th>0</th>\n",
       "      <th>1</th>\n",
       "      <th>2</th>\n",
       "      <th>3</th>\n",
       "      <th>4</th>\n",
       "    </tr>\n",
       "  </thead>\n",
       "  <tbody>\n",
       "    <tr>\n",
       "      <th>person_id</th>\n",
       "      <td>1</td>\n",
       "      <td>2</td>\n",
       "      <td>3</td>\n",
       "      <td>4</td>\n",
       "      <td>5</td>\n",
       "    </tr>\n",
       "    <tr>\n",
       "      <th>sample_12m</th>\n",
       "      <td>In 12m mail survey sample</td>\n",
       "      <td>In 12m mail survey sample</td>\n",
       "      <td>In 12m mail survey sample</td>\n",
       "      <td>NOT in 12m mail survey sample</td>\n",
       "      <td>In 12m mail survey sample</td>\n",
       "    </tr>\n",
       "    <tr>\n",
       "      <th>dt_mail_12m</th>\n",
       "      <td>2009-08-11</td>\n",
       "      <td>2009-08-11</td>\n",
       "      <td>2009-08-03</td>\n",
       "      <td>NaN</td>\n",
       "      <td>2009-08-14</td>\n",
       "    </tr>\n",
       "    <tr>\n",
       "      <th>dt_returned_12m</th>\n",
       "      <td>2009-11-24</td>\n",
       "      <td>2009-08-31</td>\n",
       "      <td>NaN</td>\n",
       "      <td>NaN</td>\n",
       "      <td>2009-08-21</td>\n",
       "    </tr>\n",
       "    <tr>\n",
       "      <th>ret_mode_12m</th>\n",
       "      <td>Mail</td>\n",
       "      <td>Mail</td>\n",
       "      <td>NaN</td>\n",
       "      <td>NaN</td>\n",
       "      <td>Mail</td>\n",
       "    </tr>\n",
       "    <tr>\n",
       "      <th>...</th>\n",
       "      <td>...</td>\n",
       "      <td>...</td>\n",
       "      <td>...</td>\n",
       "      <td>...</td>\n",
       "      <td>...</td>\n",
       "    </tr>\n",
       "    <tr>\n",
       "      <th>hhsize_12m</th>\n",
       "      <td>3.0</td>\n",
       "      <td>2.0</td>\n",
       "      <td>NaN</td>\n",
       "      <td>NaN</td>\n",
       "      <td>3.0</td>\n",
       "    </tr>\n",
       "    <tr>\n",
       "      <th>num19_12m</th>\n",
       "      <td>0.0</td>\n",
       "      <td>1.0</td>\n",
       "      <td>NaN</td>\n",
       "      <td>NaN</td>\n",
       "      <td>NaN</td>\n",
       "    </tr>\n",
       "    <tr>\n",
       "      <th>needmet_med_cor_12m</th>\n",
       "      <td>No</td>\n",
       "      <td>No</td>\n",
       "      <td>NaN</td>\n",
       "      <td>NaN</td>\n",
       "      <td>Yes</td>\n",
       "    </tr>\n",
       "    <tr>\n",
       "      <th>needmet_rx_cor_12m</th>\n",
       "      <td>No</td>\n",
       "      <td>No</td>\n",
       "      <td>NaN</td>\n",
       "      <td>NaN</td>\n",
       "      <td>Yes</td>\n",
       "    </tr>\n",
       "    <tr>\n",
       "      <th>needmet_dent_cor_12m</th>\n",
       "      <td>No</td>\n",
       "      <td>No</td>\n",
       "      <td>NaN</td>\n",
       "      <td>NaN</td>\n",
       "      <td>No</td>\n",
       "    </tr>\n",
       "  </tbody>\n",
       "</table>\n",
       "<p>150 rows × 5 columns</p>\n",
       "</div>"
      ],
      "text/plain": [
       "                                              0                          1  \\\n",
       "person_id                                     1                          2   \n",
       "sample_12m            In 12m mail survey sample  In 12m mail survey sample   \n",
       "dt_mail_12m                          2009-08-11                 2009-08-11   \n",
       "dt_returned_12m                      2009-11-24                 2009-08-31   \n",
       "ret_mode_12m                               Mail                       Mail   \n",
       "...                                         ...                        ...   \n",
       "hhsize_12m                                  3.0                        2.0   \n",
       "num19_12m                                   0.0                        1.0   \n",
       "needmet_med_cor_12m                          No                         No   \n",
       "needmet_rx_cor_12m                           No                         No   \n",
       "needmet_dent_cor_12m                         No                         No   \n",
       "\n",
       "                                              2  \\\n",
       "person_id                                     3   \n",
       "sample_12m            In 12m mail survey sample   \n",
       "dt_mail_12m                          2009-08-03   \n",
       "dt_returned_12m                             NaN   \n",
       "ret_mode_12m                                NaN   \n",
       "...                                         ...   \n",
       "hhsize_12m                                  NaN   \n",
       "num19_12m                                   NaN   \n",
       "needmet_med_cor_12m                         NaN   \n",
       "needmet_rx_cor_12m                          NaN   \n",
       "needmet_dent_cor_12m                        NaN   \n",
       "\n",
       "                                                  3                          4  \n",
       "person_id                                         4                          5  \n",
       "sample_12m            NOT in 12m mail survey sample  In 12m mail survey sample  \n",
       "dt_mail_12m                                     NaN                 2009-08-14  \n",
       "dt_returned_12m                                 NaN                 2009-08-21  \n",
       "ret_mode_12m                                    NaN                       Mail  \n",
       "...                                             ...                        ...  \n",
       "hhsize_12m                                      NaN                        3.0  \n",
       "num19_12m                                       NaN                        NaN  \n",
       "needmet_med_cor_12m                             NaN                        Yes  \n",
       "needmet_rx_cor_12m                              NaN                        Yes  \n",
       "needmet_dent_cor_12m                            NaN                         No  \n",
       "\n",
       "[150 rows x 5 columns]"
      ]
     },
     "execution_count": 3,
     "metadata": {},
     "output_type": "execute_result"
    }
   ],
   "source": [
    "s12.head().T"
   ]
  },
  {
   "cell_type": "markdown",
   "metadata": {
    "id": "WZQeAZWRwhYr"
   },
   "source": [
    "## Sanity check:\n",
    "- Is the key able to link data? See if the identifiers line up across the data sources.\n",
    "- How many variables?\n",
    "- How many observations?"
   ]
  },
  {
   "cell_type": "code",
   "execution_count": 4,
   "metadata": {
    "colab": {
     "base_uri": "https://localhost:8080/"
    },
    "executionInfo": {
     "elapsed": 313,
     "status": "ok",
     "timestamp": 1723151245148,
     "user": {
      "displayName": "Yong Song",
      "userId": "00576951217859821315"
     },
     "user_tz": -600
    },
    "id": "a2KE3aTmwhYs",
    "outputId": "f1097509-be7e-4bd8-cefe-03463ba60f09"
   },
   "outputs": [
    {
     "name": "stdout",
     "output_type": "stream",
     "text": [
      "True\n",
      "True\n"
     ]
    }
   ],
   "source": [
    "print(all(s12.person_id == descr.person_id))\n",
    "print(all(s12.person_id == prgm.person_id))\n",
    "# Is the function all() self-explained?"
   ]
  },
  {
   "cell_type": "markdown",
   "metadata": {
    "id": "Gn-zzWCtwuOA"
   },
   "source": [
    "## Data Wrangling\n",
    "\n",
    "This sub-section follows the textbook stuff.\n",
    "\n",
    "Let's collect some key variables into a new data frame, `P`."
   ]
  },
  {
   "cell_type": "code",
   "execution_count": 5,
   "metadata": {
    "id": "kCkg-TSHgBfJ"
   },
   "outputs": [],
   "source": [
    "P = descr[[\"person_id\", \"household_id\", \"numhh_list\"]].copy()\n",
    "P[\"medicaid\"] = pd.to_numeric(prgm[\"ohp_all_ever_firstn_30sep2009\"] == \"Enrolled\")\n",
    "P[\"selected\"] = pd.to_numeric(descr[\"treatment\"] == \"Selected\")\n",
    "P[\"numhh_list\"] = P[\"numhh_list\"].replace({\"signed self up\": \"1\",\n",
    "                                           \"signed self up + 1 additional person\": \"2\",\n",
    "                                           \"signed self up + 2 additional people\": \"3+\"})"
   ]
  },
  {
   "cell_type": "code",
   "execution_count": 10,
   "metadata": {
    "colab": {
     "base_uri": "https://localhost:8080/",
     "height": 206
    },
    "executionInfo": {
     "elapsed": 342,
     "status": "ok",
     "timestamp": 1723151315200,
     "user": {
      "displayName": "Yong Song",
      "userId": "00576951217859821315"
     },
     "user_tz": -600
    },
    "id": "dZymffcjgJyh",
    "outputId": "2bf7857b-34ee-44f8-f939-1b3f08fc444a"
   },
   "outputs": [
    {
     "data": {
      "application/vnd.microsoft.datawrangler.viewer.v0+json": {
       "columns": [
        {
         "name": "index",
         "rawType": "int64",
         "type": "integer"
        },
        {
         "name": "person_id",
         "rawType": "int64",
         "type": "integer"
        },
        {
         "name": "household_id",
         "rawType": "int64",
         "type": "integer"
        },
        {
         "name": "numhh_list",
         "rawType": "object",
         "type": "string"
        },
        {
         "name": "medicaid",
         "rawType": "bool",
         "type": "boolean"
        },
        {
         "name": "selected",
         "rawType": "bool",
         "type": "boolean"
        }
       ],
       "ref": "99486fff-cb01-4653-8ae4-b249b9e3364d",
       "rows": [
        [
         "0",
         "1",
         "100001",
         "1",
         "False",
         "True"
        ],
        [
         "1",
         "2",
         "100002",
         "1",
         "True",
         "True"
        ],
        [
         "2",
         "3",
         "100003",
         "1",
         "False",
         "False"
        ],
        [
         "3",
         "4",
         "100004",
         "1",
         "True",
         "False"
        ],
        [
         "4",
         "5",
         "100005",
         "1",
         "False",
         "True"
        ]
       ],
       "shape": {
        "columns": 5,
        "rows": 5
       }
      },
      "text/html": [
       "<div>\n",
       "<style scoped>\n",
       "    .dataframe tbody tr th:only-of-type {\n",
       "        vertical-align: middle;\n",
       "    }\n",
       "\n",
       "    .dataframe tbody tr th {\n",
       "        vertical-align: top;\n",
       "    }\n",
       "\n",
       "    .dataframe thead th {\n",
       "        text-align: right;\n",
       "    }\n",
       "</style>\n",
       "<table border=\"1\" class=\"dataframe\">\n",
       "  <thead>\n",
       "    <tr style=\"text-align: right;\">\n",
       "      <th></th>\n",
       "      <th>person_id</th>\n",
       "      <th>household_id</th>\n",
       "      <th>numhh_list</th>\n",
       "      <th>medicaid</th>\n",
       "      <th>selected</th>\n",
       "    </tr>\n",
       "  </thead>\n",
       "  <tbody>\n",
       "    <tr>\n",
       "      <th>0</th>\n",
       "      <td>1</td>\n",
       "      <td>100001</td>\n",
       "      <td>1</td>\n",
       "      <td>False</td>\n",
       "      <td>True</td>\n",
       "    </tr>\n",
       "    <tr>\n",
       "      <th>1</th>\n",
       "      <td>2</td>\n",
       "      <td>100002</td>\n",
       "      <td>1</td>\n",
       "      <td>True</td>\n",
       "      <td>True</td>\n",
       "    </tr>\n",
       "    <tr>\n",
       "      <th>2</th>\n",
       "      <td>3</td>\n",
       "      <td>100003</td>\n",
       "      <td>1</td>\n",
       "      <td>False</td>\n",
       "      <td>False</td>\n",
       "    </tr>\n",
       "    <tr>\n",
       "      <th>3</th>\n",
       "      <td>4</td>\n",
       "      <td>100004</td>\n",
       "      <td>1</td>\n",
       "      <td>True</td>\n",
       "      <td>False</td>\n",
       "    </tr>\n",
       "    <tr>\n",
       "      <th>4</th>\n",
       "      <td>5</td>\n",
       "      <td>100005</td>\n",
       "      <td>1</td>\n",
       "      <td>False</td>\n",
       "      <td>True</td>\n",
       "    </tr>\n",
       "  </tbody>\n",
       "</table>\n",
       "</div>"
      ],
      "text/plain": [
       "   person_id  household_id numhh_list  medicaid  selected\n",
       "0          1        100001          1     False      True\n",
       "1          2        100002          1      True      True\n",
       "2          3        100003          1     False     False\n",
       "3          4        100004          1      True     False\n",
       "4          5        100005          1     False      True"
      ]
     },
     "execution_count": 10,
     "metadata": {},
     "output_type": "execute_result"
    }
   ],
   "source": [
    "P.head()"
   ]
  },
  {
   "cell_type": "code",
   "execution_count": 6,
   "metadata": {
    "colab": {
     "base_uri": "https://localhost:8080/"
    },
    "executionInfo": {
     "elapsed": 307,
     "status": "ok",
     "timestamp": 1723151321256,
     "user": {
      "displayName": "Yong Song",
      "userId": "00576951217859821315"
     },
     "user_tz": -600
    },
    "id": "WlK_FL8JUWQi",
    "outputId": "bcb4ba6f-1362-4835-cdbf-b46ad811614f"
   },
   "outputs": [
    {
     "name": "stdout",
     "output_type": "stream",
     "text": [
      "<class 'pandas.core.frame.DataFrame'>\n",
      "RangeIndex: 74922 entries, 0 to 74921\n",
      "Data columns (total 5 columns):\n",
      " #   Column        Non-Null Count  Dtype \n",
      "---  ------        --------------  ----- \n",
      " 0   person_id     74922 non-null  int64 \n",
      " 1   household_id  74922 non-null  int64 \n",
      " 2   numhh_list    74922 non-null  object\n",
      " 3   medicaid      74922 non-null  bool  \n",
      " 4   selected      74922 non-null  bool  \n",
      "dtypes: bool(2), int64(2), object(1)\n",
      "memory usage: 1.9+ MB\n"
     ]
    }
   ],
   "source": [
    "P.info()"
   ]
  },
  {
   "cell_type": "markdown",
   "metadata": {
    "id": "zv_WwIvpwhYt"
   },
   "source": [
    "The 12-month follow-up is the survey that really matters for outcomes that we are collecting into `Y`."
   ]
  },
  {
   "cell_type": "code",
   "execution_count": 7,
   "metadata": {
    "id": "cQ3dx_efZnKS"
   },
   "outputs": [],
   "source": [
    "Y = s12[[\"weight_12m\", \"doc_any_12m\", \"doc_num_mod_12m\", \"er_any_12m\", \"er_num_mod_12m\", \"hosp_any_12m\", \"hosp_num_mod_12m\"]].copy()\n",
    "\n",
    "# Converting values in 'doc_any_12m', 'er_any_12m', and 'hosp_any_12m' columns to numeric\n",
    "Y[\"doc_any_12m\"] = pd.to_numeric(Y[\"doc_any_12m\"] == \"Yes\")\n",
    "Y[\"er_any_12m\"] = pd.to_numeric(Y[\"er_any_12m\"] == \"Yes\")\n",
    "Y[\"hosp_any_12m\"] = pd.to_numeric(Y[\"hosp_any_12m\"] == \"Yes\")"
   ]
  },
  {
   "cell_type": "code",
   "execution_count": 8,
   "metadata": {
    "colab": {
     "base_uri": "https://localhost:8080/"
    },
    "executionInfo": {
     "elapsed": 337,
     "status": "ok",
     "timestamp": 1723151330887,
     "user": {
      "displayName": "Yong Song",
      "userId": "00576951217859821315"
     },
     "user_tz": -600
    },
    "id": "PDH2uBvVZrJs",
    "outputId": "b24b2641-7356-42fb-cea0-ec7e9562978d"
   },
   "outputs": [
    {
     "name": "stdout",
     "output_type": "stream",
     "text": [
      "<class 'pandas.core.frame.DataFrame'>\n",
      "RangeIndex: 74922 entries, 0 to 74921\n",
      "Data columns (total 7 columns):\n",
      " #   Column            Non-Null Count  Dtype  \n",
      "---  ------            --------------  -----  \n",
      " 0   weight_12m        58405 non-null  float64\n",
      " 1   doc_any_12m       74922 non-null  bool   \n",
      " 2   doc_num_mod_12m   23477 non-null  float64\n",
      " 3   er_any_12m        74922 non-null  bool   \n",
      " 4   er_num_mod_12m    23517 non-null  float64\n",
      " 5   hosp_any_12m      74922 non-null  bool   \n",
      " 6   hosp_num_mod_12m  23575 non-null  float64\n",
      "dtypes: bool(3), float64(4)\n",
      "memory usage: 2.5 MB\n"
     ]
    }
   ],
   "source": [
    "Y.info()"
   ]
  },
  {
   "cell_type": "code",
   "execution_count": 10,
   "metadata": {
    "colab": {
     "base_uri": "https://localhost:8080/",
     "height": 226
    },
    "executionInfo": {
     "elapsed": 322,
     "status": "ok",
     "timestamp": 1723151342138,
     "user": {
      "displayName": "Yong Song",
      "userId": "00576951217859821315"
     },
     "user_tz": -600
    },
    "id": "xrTW8Mmlad_g",
    "outputId": "7248cdc8-27f7-4e2d-e083-a1f219586316"
   },
   "outputs": [
    {
     "data": {
      "application/vnd.microsoft.datawrangler.viewer.v0+json": {
       "columns": [
        {
         "name": "index",
         "rawType": "int64",
         "type": "integer"
        },
        {
         "name": "weight_12m",
         "rawType": "float64",
         "type": "float"
        },
        {
         "name": "doc_any_12m",
         "rawType": "bool",
         "type": "boolean"
        },
        {
         "name": "doc_num_mod_12m",
         "rawType": "float64",
         "type": "float"
        },
        {
         "name": "er_any_12m",
         "rawType": "bool",
         "type": "boolean"
        },
        {
         "name": "er_num_mod_12m",
         "rawType": "float64",
         "type": "float"
        },
        {
         "name": "hosp_any_12m",
         "rawType": "bool",
         "type": "boolean"
        },
        {
         "name": "hosp_num_mod_12m",
         "rawType": "float64",
         "type": "float"
        }
       ],
       "ref": "ca054751-568b-4315-a291-0909b4ffb073",
       "rows": [
        [
         "0",
         "1.0",
         "False",
         "0.0",
         "False",
         "0.0",
         "False",
         "0.0"
        ],
        [
         "1",
         "1.0",
         "False",
         "0.0",
         "False",
         "0.0",
         "False",
         "0.0"
        ],
        [
         "2",
         "0.0",
         "False",
         null,
         "False",
         null,
         "False",
         null
        ],
        [
         "3",
         null,
         "False",
         null,
         "False",
         null,
         "False",
         null
        ],
        [
         "4",
         "1.0",
         "False",
         "0.0",
         "False",
         "0.0",
         "False",
         "0.0"
        ]
       ],
       "shape": {
        "columns": 7,
        "rows": 5
       }
      },
      "text/html": [
       "<div>\n",
       "<style scoped>\n",
       "    .dataframe tbody tr th:only-of-type {\n",
       "        vertical-align: middle;\n",
       "    }\n",
       "\n",
       "    .dataframe tbody tr th {\n",
       "        vertical-align: top;\n",
       "    }\n",
       "\n",
       "    .dataframe thead th {\n",
       "        text-align: right;\n",
       "    }\n",
       "</style>\n",
       "<table border=\"1\" class=\"dataframe\">\n",
       "  <thead>\n",
       "    <tr style=\"text-align: right;\">\n",
       "      <th></th>\n",
       "      <th>weight_12m</th>\n",
       "      <th>doc_any_12m</th>\n",
       "      <th>doc_num_mod_12m</th>\n",
       "      <th>er_any_12m</th>\n",
       "      <th>er_num_mod_12m</th>\n",
       "      <th>hosp_any_12m</th>\n",
       "      <th>hosp_num_mod_12m</th>\n",
       "    </tr>\n",
       "  </thead>\n",
       "  <tbody>\n",
       "    <tr>\n",
       "      <th>0</th>\n",
       "      <td>1.0</td>\n",
       "      <td>False</td>\n",
       "      <td>0.0</td>\n",
       "      <td>False</td>\n",
       "      <td>0.0</td>\n",
       "      <td>False</td>\n",
       "      <td>0.0</td>\n",
       "    </tr>\n",
       "    <tr>\n",
       "      <th>1</th>\n",
       "      <td>1.0</td>\n",
       "      <td>False</td>\n",
       "      <td>0.0</td>\n",
       "      <td>False</td>\n",
       "      <td>0.0</td>\n",
       "      <td>False</td>\n",
       "      <td>0.0</td>\n",
       "    </tr>\n",
       "    <tr>\n",
       "      <th>2</th>\n",
       "      <td>0.0</td>\n",
       "      <td>False</td>\n",
       "      <td>NaN</td>\n",
       "      <td>False</td>\n",
       "      <td>NaN</td>\n",
       "      <td>False</td>\n",
       "      <td>NaN</td>\n",
       "    </tr>\n",
       "    <tr>\n",
       "      <th>3</th>\n",
       "      <td>NaN</td>\n",
       "      <td>False</td>\n",
       "      <td>NaN</td>\n",
       "      <td>False</td>\n",
       "      <td>NaN</td>\n",
       "      <td>False</td>\n",
       "      <td>NaN</td>\n",
       "    </tr>\n",
       "    <tr>\n",
       "      <th>4</th>\n",
       "      <td>1.0</td>\n",
       "      <td>False</td>\n",
       "      <td>0.0</td>\n",
       "      <td>False</td>\n",
       "      <td>0.0</td>\n",
       "      <td>False</td>\n",
       "      <td>0.0</td>\n",
       "    </tr>\n",
       "  </tbody>\n",
       "</table>\n",
       "</div>"
      ],
      "text/plain": [
       "   weight_12m  doc_any_12m  doc_num_mod_12m  er_any_12m  er_num_mod_12m  \\\n",
       "0         1.0        False              0.0       False             0.0   \n",
       "1         1.0        False              0.0       False             0.0   \n",
       "2         0.0        False              NaN       False             NaN   \n",
       "3         NaN        False              NaN       False             NaN   \n",
       "4         1.0        False              0.0       False             0.0   \n",
       "\n",
       "   hosp_any_12m  hosp_num_mod_12m  \n",
       "0         False               0.0  \n",
       "1         False               0.0  \n",
       "2         False               NaN  \n",
       "3         False               NaN  \n",
       "4         False               0.0  "
      ]
     },
     "execution_count": 10,
     "metadata": {},
     "output_type": "execute_result"
    }
   ],
   "source": [
    "Y.head()"
   ]
  },
  {
   "cell_type": "markdown",
   "metadata": {
    "id": "z5er5KkPwhYu"
   },
   "source": [
    "There are a few covariates that will explain in heterogeneity in responses (or more importantly, treatment effects),or we care about them purely for descriptive purposes. We collect these into `X`."
   ]
  },
  {
   "cell_type": "code",
   "execution_count": 13,
   "metadata": {
    "id": "4oKbTb_qerrK"
   },
   "outputs": [],
   "source": [
    "X = s12.iloc[:, 120:147].copy()\n",
    "X[\"dt_returned_12m\"] = pd.to_datetime(s12[\"dt_returned_12m\"])\n",
    "X[\"dt_returned\"] = X[\"dt_returned_12m\"].dt.strftime(\"%Y-%m\")"
   ]
  },
  {
   "cell_type": "code",
   "execution_count": 11,
   "metadata": {},
   "outputs": [
    {
     "data": {
      "text/plain": [
       "Index(['smk_ever_12m', 'smk_curr_12m', 'smk_avg_mod_12m', 'smk_quit_12m',\n",
       "       'female_12m', 'birthyear_12m', 'employ_12m', 'employ_det_12m',\n",
       "       'employ_hrs_12m', 'hhinc_cat_12m', 'hhinc_pctfpl_12m', 'race_hisp_12m',\n",
       "       'race_white_12m', 'race_black_12m', 'race_amerindian_12m',\n",
       "       'race_asian_12m', 'race_pacific_12m', 'race_other_qn_12m', 'edu_12m',\n",
       "       'live_partner_12m', 'live_alone_12m', 'live_parents_12m',\n",
       "       'live_relatives_12m', 'live_friends_12m', 'live_other_12m',\n",
       "       'hhsize_12m', 'num19_12m'],\n",
       "      dtype='object')"
      ]
     },
     "execution_count": 11,
     "metadata": {},
     "output_type": "execute_result"
    }
   ],
   "source": [
    "s12.columns[120:147]"
   ]
  },
  {
   "cell_type": "code",
   "execution_count": 14,
   "metadata": {
    "colab": {
     "base_uri": "https://localhost:8080/",
     "height": 429
    },
    "executionInfo": {
     "elapsed": 322,
     "status": "ok",
     "timestamp": 1723151383816,
     "user": {
      "displayName": "Yong Song",
      "userId": "00576951217859821315"
     },
     "user_tz": -600
    },
    "id": "G99_lCjDewwy",
    "outputId": "293e604d-9cb6-4dda-d357-2ac1c4d35d18"
   },
   "outputs": [
    {
     "data": {
      "application/vnd.microsoft.datawrangler.viewer.v0+json": {
       "columns": [
        {
         "name": "dt_returned",
         "rawType": "object",
         "type": "string"
        },
        {
         "name": "count",
         "rawType": "int64",
         "type": "integer"
        }
       ],
       "ref": "ec724687-85c6-4fbf-af44-6b9351119948",
       "rows": [
        [
         "2009-08",
         "10574"
        ],
        [
         "2009-09",
         "4688"
        ],
        [
         "2009-07",
         "3965"
        ],
        [
         "2009-10",
         "2061"
        ],
        [
         "2009-11",
         "708"
        ],
        [
         "2009-12",
         "516"
        ],
        [
         "2010-02",
         "483"
        ],
        [
         "2010-01",
         "365"
        ],
        [
         "2010-03",
         "262"
        ],
        [
         "2009-06",
         "155"
        ]
       ],
       "shape": {
        "columns": 1,
        "rows": 10
       }
      },
      "text/plain": [
       "dt_returned\n",
       "2009-08    10574\n",
       "2009-09     4688\n",
       "2009-07     3965\n",
       "2009-10     2061\n",
       "2009-11      708\n",
       "2009-12      516\n",
       "2010-02      483\n",
       "2010-01      365\n",
       "2010-03      262\n",
       "2009-06      155\n",
       "Name: count, dtype: int64"
      ]
     },
     "execution_count": 14,
     "metadata": {},
     "output_type": "execute_result"
    }
   ],
   "source": [
    "X[\"dt_returned\"].value_counts()"
   ]
  },
  {
   "cell_type": "code",
   "execution_count": 15,
   "metadata": {
    "id": "6fGk-fIjg5ZI"
   },
   "outputs": [],
   "source": [
    "insurv = s12.index[s12[\"sample_12m_resp\"] == \"12m mail survey responder\"]\n",
    "\n",
    "# Select rows from X, Y, and P based on the insurv indices\n",
    "X = X.loc[insurv].copy()\n",
    "Y = Y.loc[insurv].copy()\n",
    "P = P.loc[insurv].copy()"
   ]
  },
  {
   "cell_type": "code",
   "execution_count": 16,
   "metadata": {
    "colab": {
     "base_uri": "https://localhost:8080/"
    },
    "executionInfo": {
     "elapsed": 303,
     "status": "ok",
     "timestamp": 1723151444936,
     "user": {
      "displayName": "Yong Song",
      "userId": "00576951217859821315"
     },
     "user_tz": -600
    },
    "id": "rWq5mOW3neTe",
    "outputId": "9d5110b0-e961-4ad1-abd6-4a1f0c1c5ee9"
   },
   "outputs": [
    {
     "name": "stdout",
     "output_type": "stream",
     "text": [
      "weight_12m            0\n",
      "doc_any_12m           0\n",
      "doc_num_mod_12m     300\n",
      "er_any_12m            0\n",
      "er_num_mod_12m      260\n",
      "hosp_any_12m          0\n",
      "hosp_num_mod_12m    202\n",
      "dtype: int64\n"
     ]
    }
   ],
   "source": [
    "nan_counts = Y.apply(lambda y: y.isna().sum())\n",
    "\n",
    "print(nan_counts)"
   ]
  },
  {
   "cell_type": "code",
   "execution_count": 17,
   "metadata": {
    "id": "7bPN3KhmoCh6"
   },
   "outputs": [],
   "source": [
    "# Finding indices of rows where there are no missing values in any column of Y\n",
    "nomiss_indices = Y[~Y.apply(lambda y: y.isna().any(), axis=1)].index\n",
    "\n",
    "# Selecting rows from X, Y, and P based on the nomiss_indices\n",
    "X = X.loc[nomiss_indices].copy()\n",
    "Y = Y.loc[nomiss_indices].copy()\n",
    "P = P.loc[nomiss_indices].copy()"
   ]
  },
  {
   "cell_type": "code",
   "execution_count": 18,
   "metadata": {
    "colab": {
     "base_uri": "https://localhost:8080/",
     "height": 458
    },
    "executionInfo": {
     "elapsed": 386,
     "status": "ok",
     "timestamp": 1723201183518,
     "user": {
      "displayName": "Yong Song",
      "userId": "00576951217859821315"
     },
     "user_tz": -600
    },
    "id": "yg5XFF7MoNEp",
    "outputId": "19006c89-05f0-4a16-9dac-7bc1e7324eb1"
   },
   "outputs": [
    {
     "data": {
      "application/vnd.microsoft.datawrangler.viewer.v0+json": {
       "columns": [
        {
         "name": "index",
         "rawType": "int64",
         "type": "integer"
        },
        {
         "name": "weight_12m",
         "rawType": "float64",
         "type": "float"
        }
       ],
       "ref": "63b99421-31d8-4096-b40f-62fb01c5a9c3",
       "rows": [
        [
         "0",
         "1.0"
        ],
        [
         "1",
         "1.0"
        ],
        [
         "4",
         "1.0"
        ],
        [
         "5",
         "1.0"
        ],
        [
         "7",
         "1.0"
        ],
        [
         "8",
         "1.0"
        ],
        [
         "9",
         "1.0"
        ],
        [
         "12",
         "1.0"
        ],
        [
         "13",
         "1.0"
        ],
        [
         "22",
         "1.0"
        ],
        [
         "24",
         "1.0"
        ],
        [
         "25",
         "1.0"
        ],
        [
         "26",
         "1.0"
        ],
        [
         "27",
         "1.0"
        ],
        [
         "28",
         "2.82379746437073"
        ],
        [
         "29",
         "1.0"
        ],
        [
         "31",
         "1.0"
        ],
        [
         "35",
         "1.0"
        ],
        [
         "36",
         "1.0"
        ],
        [
         "37",
         "2.82379746437073"
        ],
        [
         "41",
         "1.0"
        ],
        [
         "43",
         "1.0"
        ],
        [
         "46",
         "1.0"
        ],
        [
         "48",
         "1.0"
        ],
        [
         "49",
         "1.0"
        ],
        [
         "52",
         "1.0"
        ],
        [
         "56",
         "1.0"
        ],
        [
         "57",
         "1.0"
        ],
        [
         "58",
         "1.0"
        ],
        [
         "63",
         "1.0"
        ],
        [
         "65",
         "1.0"
        ],
        [
         "69",
         "1.0"
        ],
        [
         "70",
         "1.0"
        ],
        [
         "74",
         "1.0"
        ],
        [
         "76",
         "1.0"
        ],
        [
         "77",
         "1.0"
        ],
        [
         "78",
         "1.0"
        ],
        [
         "81",
         "1.0"
        ],
        [
         "82",
         "1.0"
        ],
        [
         "86",
         "1.0"
        ],
        [
         "87",
         "2.82379746437073"
        ],
        [
         "88",
         "1.0"
        ],
        [
         "89",
         "1.0"
        ],
        [
         "90",
         "1.0"
        ],
        [
         "92",
         "1.0"
        ],
        [
         "95",
         "2.82379746437073"
        ],
        [
         "97",
         "1.0"
        ],
        [
         "99",
         "1.0"
        ],
        [
         "100",
         "1.0"
        ],
        [
         "103",
         "1.0"
        ]
       ],
       "shape": {
        "columns": 1,
        "rows": 23107
       }
      },
      "text/plain": [
       "0        1.0\n",
       "1        1.0\n",
       "4        1.0\n",
       "5        1.0\n",
       "7        1.0\n",
       "        ... \n",
       "74904    1.0\n",
       "74909    1.0\n",
       "74910    1.0\n",
       "74916    1.0\n",
       "74920    1.0\n",
       "Name: weight_12m, Length: 23107, dtype: float64"
      ]
     },
     "execution_count": 18,
     "metadata": {},
     "output_type": "execute_result"
    }
   ],
   "source": [
    "weights = Y.iloc[:,0].copy()\n",
    "weights"
   ]
  },
  {
   "cell_type": "code",
   "execution_count": 19,
   "metadata": {},
   "outputs": [
    {
     "name": "stdout",
     "output_type": "stream",
     "text": [
      "<class 'pandas.core.frame.DataFrame'>\n",
      "Index: 23107 entries, 0 to 74920\n",
      "Data columns (total 7 columns):\n",
      " #   Column            Non-Null Count  Dtype  \n",
      "---  ------            --------------  -----  \n",
      " 0   weight_12m        23107 non-null  float64\n",
      " 1   doc_any_12m       23107 non-null  bool   \n",
      " 2   doc_num_mod_12m   23107 non-null  float64\n",
      " 3   er_any_12m        23107 non-null  bool   \n",
      " 4   er_num_mod_12m    23107 non-null  float64\n",
      " 5   hosp_any_12m      23107 non-null  bool   \n",
      " 6   hosp_num_mod_12m  23107 non-null  float64\n",
      "dtypes: bool(3), float64(4)\n",
      "memory usage: 970.3 KB\n"
     ]
    }
   ],
   "source": [
    "Y.info()"
   ]
  },
  {
   "cell_type": "code",
   "execution_count": 20,
   "metadata": {
    "colab": {
     "base_uri": "https://localhost:8080/",
     "height": 423
    },
    "executionInfo": {
     "elapsed": 353,
     "status": "ok",
     "timestamp": 1723151511573,
     "user": {
      "displayName": "Yong Song",
      "userId": "00576951217859821315"
     },
     "user_tz": -600
    },
    "id": "2VD2Nm13rGwZ",
    "outputId": "78d586a3-7bd5-47e7-926d-fb277f2c3cab"
   },
   "outputs": [
    {
     "data": {
      "application/vnd.microsoft.datawrangler.viewer.v0+json": {
       "columns": [
        {
         "name": "index",
         "rawType": "int64",
         "type": "integer"
        },
        {
         "name": "weight_12m",
         "rawType": "float64",
         "type": "float"
        },
        {
         "name": "doc_any_12m",
         "rawType": "bool",
         "type": "boolean"
        },
        {
         "name": "doc_num_mod_12m",
         "rawType": "float64",
         "type": "float"
        },
        {
         "name": "er_any_12m",
         "rawType": "bool",
         "type": "boolean"
        },
        {
         "name": "er_num_mod_12m",
         "rawType": "float64",
         "type": "float"
        },
        {
         "name": "hosp_any_12m",
         "rawType": "bool",
         "type": "boolean"
        }
       ],
       "ref": "ae92c44b-8285-4224-9385-0042bae7880b",
       "rows": [
        [
         "0",
         "1.0",
         "False",
         "0.0",
         "False",
         "0.0",
         "False"
        ],
        [
         "1",
         "1.0",
         "False",
         "0.0",
         "False",
         "0.0",
         "False"
        ],
        [
         "4",
         "1.0",
         "False",
         "0.0",
         "False",
         "0.0",
         "False"
        ],
        [
         "5",
         "1.0",
         "True",
         "1.0",
         "False",
         "0.0",
         "False"
        ],
        [
         "7",
         "1.0",
         "False",
         "0.0",
         "False",
         "0.0",
         "False"
        ],
        [
         "8",
         "1.0",
         "True",
         "1.0",
         "False",
         "0.0",
         "False"
        ],
        [
         "9",
         "1.0",
         "True",
         "3.0",
         "False",
         "0.0",
         "False"
        ],
        [
         "12",
         "1.0",
         "True",
         "10.0",
         "False",
         "0.0",
         "False"
        ],
        [
         "13",
         "1.0",
         "False",
         "0.0",
         "False",
         "0.0",
         "False"
        ],
        [
         "22",
         "1.0",
         "True",
         "4.0",
         "False",
         "0.0",
         "False"
        ],
        [
         "24",
         "1.0",
         "True",
         "3.0",
         "True",
         "1.0",
         "False"
        ],
        [
         "25",
         "1.0",
         "False",
         "0.0",
         "False",
         "0.0",
         "False"
        ],
        [
         "26",
         "1.0",
         "False",
         "0.0",
         "False",
         "0.0",
         "False"
        ],
        [
         "27",
         "1.0",
         "True",
         "1.0",
         "False",
         "0.0",
         "False"
        ],
        [
         "28",
         "2.82379746437073",
         "True",
         "10.0",
         "True",
         "5.0",
         "False"
        ],
        [
         "29",
         "1.0",
         "False",
         "0.0",
         "False",
         "0.0",
         "False"
        ],
        [
         "31",
         "1.0",
         "True",
         "2.0",
         "True",
         "1.0",
         "False"
        ],
        [
         "35",
         "1.0",
         "True",
         "3.0",
         "False",
         "0.0",
         "False"
        ],
        [
         "36",
         "1.0",
         "False",
         "0.0",
         "False",
         "0.0",
         "False"
        ],
        [
         "37",
         "2.82379746437073",
         "False",
         "0.0",
         "False",
         "0.0",
         "False"
        ],
        [
         "41",
         "1.0",
         "False",
         "0.0",
         "False",
         "0.0",
         "False"
        ],
        [
         "43",
         "1.0",
         "True",
         "1.0",
         "False",
         "0.0",
         "False"
        ],
        [
         "46",
         "1.0",
         "False",
         "0.0",
         "False",
         "0.0",
         "False"
        ],
        [
         "48",
         "1.0",
         "True",
         "5.0",
         "False",
         "0.0",
         "False"
        ],
        [
         "49",
         "1.0",
         "False",
         "0.0",
         "False",
         "0.0",
         "False"
        ],
        [
         "52",
         "1.0",
         "True",
         "4.0",
         "False",
         "0.0",
         "False"
        ],
        [
         "56",
         "1.0",
         "False",
         "0.0",
         "True",
         "3.0",
         "False"
        ],
        [
         "57",
         "1.0",
         "True",
         "3.0",
         "False",
         "0.0",
         "False"
        ],
        [
         "58",
         "1.0",
         "True",
         "5.0",
         "False",
         "0.0",
         "False"
        ],
        [
         "63",
         "1.0",
         "True",
         "1.0",
         "False",
         "0.0",
         "False"
        ],
        [
         "65",
         "1.0",
         "True",
         "2.0",
         "True",
         "1.0",
         "True"
        ],
        [
         "69",
         "1.0",
         "True",
         "4.0",
         "False",
         "0.0",
         "False"
        ],
        [
         "70",
         "1.0",
         "True",
         "2.0",
         "True",
         "1.0",
         "False"
        ],
        [
         "74",
         "1.0",
         "False",
         "0.0",
         "False",
         "0.0",
         "False"
        ],
        [
         "76",
         "1.0",
         "False",
         "0.0",
         "False",
         "0.0",
         "False"
        ],
        [
         "77",
         "1.0",
         "True",
         "2.0",
         "True",
         "2.0",
         "True"
        ],
        [
         "78",
         "1.0",
         "False",
         "0.0",
         "False",
         "0.0",
         "False"
        ],
        [
         "81",
         "1.0",
         "True",
         "1.0",
         "False",
         "0.0",
         "False"
        ],
        [
         "82",
         "1.0",
         "True",
         "3.0",
         "True",
         "3.0",
         "True"
        ],
        [
         "86",
         "1.0",
         "False",
         "0.0",
         "False",
         "0.0",
         "False"
        ],
        [
         "87",
         "2.82379746437073",
         "True",
         "3.0",
         "False",
         "0.0",
         "False"
        ],
        [
         "88",
         "1.0",
         "True",
         "3.0",
         "False",
         "0.0",
         "False"
        ],
        [
         "89",
         "1.0",
         "False",
         "0.0",
         "True",
         "1.0",
         "False"
        ],
        [
         "90",
         "1.0",
         "False",
         "0.0",
         "False",
         "0.0",
         "False"
        ],
        [
         "92",
         "1.0",
         "False",
         "0.0",
         "False",
         "0.0",
         "False"
        ],
        [
         "95",
         "2.82379746437073",
         "False",
         "0.0",
         "False",
         "0.0",
         "False"
        ],
        [
         "97",
         "1.0",
         "False",
         "0.0",
         "False",
         "0.0",
         "False"
        ],
        [
         "99",
         "1.0",
         "True",
         "2.0",
         "False",
         "0.0",
         "False"
        ],
        [
         "100",
         "1.0",
         "True",
         "2.0",
         "False",
         "0.0",
         "False"
        ],
        [
         "103",
         "1.0",
         "True",
         "2.0",
         "False",
         "0.0",
         "False"
        ]
       ],
       "shape": {
        "columns": 6,
        "rows": 23107
       }
      },
      "text/html": [
       "<div>\n",
       "<style scoped>\n",
       "    .dataframe tbody tr th:only-of-type {\n",
       "        vertical-align: middle;\n",
       "    }\n",
       "\n",
       "    .dataframe tbody tr th {\n",
       "        vertical-align: top;\n",
       "    }\n",
       "\n",
       "    .dataframe thead th {\n",
       "        text-align: right;\n",
       "    }\n",
       "</style>\n",
       "<table border=\"1\" class=\"dataframe\">\n",
       "  <thead>\n",
       "    <tr style=\"text-align: right;\">\n",
       "      <th></th>\n",
       "      <th>weight_12m</th>\n",
       "      <th>doc_any_12m</th>\n",
       "      <th>doc_num_mod_12m</th>\n",
       "      <th>er_any_12m</th>\n",
       "      <th>er_num_mod_12m</th>\n",
       "      <th>hosp_any_12m</th>\n",
       "    </tr>\n",
       "  </thead>\n",
       "  <tbody>\n",
       "    <tr>\n",
       "      <th>0</th>\n",
       "      <td>1.0</td>\n",
       "      <td>False</td>\n",
       "      <td>0.0</td>\n",
       "      <td>False</td>\n",
       "      <td>0.0</td>\n",
       "      <td>False</td>\n",
       "    </tr>\n",
       "    <tr>\n",
       "      <th>1</th>\n",
       "      <td>1.0</td>\n",
       "      <td>False</td>\n",
       "      <td>0.0</td>\n",
       "      <td>False</td>\n",
       "      <td>0.0</td>\n",
       "      <td>False</td>\n",
       "    </tr>\n",
       "    <tr>\n",
       "      <th>4</th>\n",
       "      <td>1.0</td>\n",
       "      <td>False</td>\n",
       "      <td>0.0</td>\n",
       "      <td>False</td>\n",
       "      <td>0.0</td>\n",
       "      <td>False</td>\n",
       "    </tr>\n",
       "    <tr>\n",
       "      <th>5</th>\n",
       "      <td>1.0</td>\n",
       "      <td>True</td>\n",
       "      <td>1.0</td>\n",
       "      <td>False</td>\n",
       "      <td>0.0</td>\n",
       "      <td>False</td>\n",
       "    </tr>\n",
       "    <tr>\n",
       "      <th>7</th>\n",
       "      <td>1.0</td>\n",
       "      <td>False</td>\n",
       "      <td>0.0</td>\n",
       "      <td>False</td>\n",
       "      <td>0.0</td>\n",
       "      <td>False</td>\n",
       "    </tr>\n",
       "    <tr>\n",
       "      <th>...</th>\n",
       "      <td>...</td>\n",
       "      <td>...</td>\n",
       "      <td>...</td>\n",
       "      <td>...</td>\n",
       "      <td>...</td>\n",
       "      <td>...</td>\n",
       "    </tr>\n",
       "    <tr>\n",
       "      <th>74904</th>\n",
       "      <td>1.0</td>\n",
       "      <td>True</td>\n",
       "      <td>4.0</td>\n",
       "      <td>False</td>\n",
       "      <td>0.0</td>\n",
       "      <td>False</td>\n",
       "    </tr>\n",
       "    <tr>\n",
       "      <th>74909</th>\n",
       "      <td>1.0</td>\n",
       "      <td>True</td>\n",
       "      <td>2.0</td>\n",
       "      <td>False</td>\n",
       "      <td>0.0</td>\n",
       "      <td>False</td>\n",
       "    </tr>\n",
       "    <tr>\n",
       "      <th>74910</th>\n",
       "      <td>1.0</td>\n",
       "      <td>True</td>\n",
       "      <td>2.0</td>\n",
       "      <td>False</td>\n",
       "      <td>0.0</td>\n",
       "      <td>False</td>\n",
       "    </tr>\n",
       "    <tr>\n",
       "      <th>74916</th>\n",
       "      <td>1.0</td>\n",
       "      <td>True</td>\n",
       "      <td>5.0</td>\n",
       "      <td>True</td>\n",
       "      <td>3.0</td>\n",
       "      <td>True</td>\n",
       "    </tr>\n",
       "    <tr>\n",
       "      <th>74920</th>\n",
       "      <td>1.0</td>\n",
       "      <td>True</td>\n",
       "      <td>1.0</td>\n",
       "      <td>False</td>\n",
       "      <td>0.0</td>\n",
       "      <td>False</td>\n",
       "    </tr>\n",
       "  </tbody>\n",
       "</table>\n",
       "<p>23107 rows × 6 columns</p>\n",
       "</div>"
      ],
      "text/plain": [
       "       weight_12m  doc_any_12m  doc_num_mod_12m  er_any_12m  er_num_mod_12m  \\\n",
       "0             1.0        False              0.0       False             0.0   \n",
       "1             1.0        False              0.0       False             0.0   \n",
       "4             1.0        False              0.0       False             0.0   \n",
       "5             1.0         True              1.0       False             0.0   \n",
       "7             1.0        False              0.0       False             0.0   \n",
       "...           ...          ...              ...         ...             ...   \n",
       "74904         1.0         True              4.0       False             0.0   \n",
       "74909         1.0         True              2.0       False             0.0   \n",
       "74910         1.0         True              2.0       False             0.0   \n",
       "74916         1.0         True              5.0        True             3.0   \n",
       "74920         1.0         True              1.0       False             0.0   \n",
       "\n",
       "       hosp_any_12m  \n",
       "0             False  \n",
       "1             False  \n",
       "4             False  \n",
       "5             False  \n",
       "7             False  \n",
       "...             ...  \n",
       "74904         False  \n",
       "74909         False  \n",
       "74910         False  \n",
       "74916          True  \n",
       "74920         False  \n",
       "\n",
       "[23107 rows x 6 columns]"
      ]
     },
     "execution_count": 20,
     "metadata": {},
     "output_type": "execute_result"
    }
   ],
   "source": [
    "Y = Y.iloc[:, :-1] # This is actually a dangerous snippet. Why?\n",
    "Y"
   ]
  },
  {
   "cell_type": "markdown",
   "metadata": {
    "id": "rgQuIF9KwhYw"
   },
   "source": [
    "Replace some ridiculous values in survey and drop a variable"
   ]
  },
  {
   "cell_type": "code",
   "execution_count": 21,
   "metadata": {},
   "outputs": [
    {
     "data": {
      "application/vnd.microsoft.datawrangler.viewer.v0+json": {
       "columns": [
        {
         "name": "hhsize_12m",
         "rawType": "float64",
         "type": "float"
        },
        {
         "name": "count",
         "rawType": "int64",
         "type": "integer"
        }
       ],
       "ref": "a8c2116c-1b42-4947-a9d7-564133462acf",
       "rows": [
        [
         "2.0",
         "6331"
        ],
        [
         "1.0",
         "4223"
        ],
        [
         "3.0",
         "4065"
        ],
        [
         "4.0",
         "3477"
        ],
        [
         "5.0",
         "2027"
        ],
        [
         "6.0",
         "973"
        ],
        [
         "7.0",
         "445"
        ],
        [
         "8.0",
         "198"
        ],
        [
         "9.0",
         "75"
        ],
        [
         "10.0",
         "49"
        ],
        [
         "11.0",
         "27"
        ],
        [
         "12.0",
         "12"
        ],
        [
         "20.0",
         "6"
        ],
        [
         "14.0",
         "5"
        ],
        [
         "13.0",
         "3"
        ],
        [
         "18.0",
         "3"
        ],
        [
         "25.0",
         "2"
        ],
        [
         "21.0",
         "1"
        ],
        [
         "35.0",
         "1"
        ],
        [
         "50.0",
         "1"
        ],
        [
         "23.0",
         "1"
        ],
        [
         "15.0",
         "1"
        ],
        [
         "16.0",
         "1"
        ],
        [
         "1000.0",
         "1"
        ],
        [
         "163559.0",
         "1"
        ],
        [
         "38.0",
         "1"
        ],
        [
         "29.0",
         "1"
        ],
        [
         "500.0",
         "1"
        ]
       ],
       "shape": {
        "columns": 1,
        "rows": 28
       }
      },
      "text/plain": [
       "hhsize_12m\n",
       "2.0         6331\n",
       "1.0         4223\n",
       "3.0         4065\n",
       "4.0         3477\n",
       "5.0         2027\n",
       "6.0          973\n",
       "7.0          445\n",
       "8.0          198\n",
       "9.0           75\n",
       "10.0          49\n",
       "11.0          27\n",
       "12.0          12\n",
       "20.0           6\n",
       "14.0           5\n",
       "13.0           3\n",
       "18.0           3\n",
       "25.0           2\n",
       "21.0           1\n",
       "35.0           1\n",
       "50.0           1\n",
       "23.0           1\n",
       "15.0           1\n",
       "16.0           1\n",
       "1000.0         1\n",
       "163559.0       1\n",
       "38.0           1\n",
       "29.0           1\n",
       "500.0          1\n",
       "Name: count, dtype: int64"
      ]
     },
     "execution_count": 21,
     "metadata": {},
     "output_type": "execute_result"
    }
   ],
   "source": [
    "X['hhsize_12m'].value_counts()"
   ]
  },
  {
   "cell_type": "code",
   "execution_count": 22,
   "metadata": {
    "id": "wqh_uj4wwhYw"
   },
   "outputs": [],
   "source": [
    "X.loc[X['hhsize_12m'] > 10, 'hhsize_12m'] = 10 # this needs discretion, be aware\n",
    "# How does Matt how the magic number 10? He must have checked the distribution!\n",
    "X.drop(columns=['num19_12m'], inplace=True) #remove a variable from dataFrame"
   ]
  },
  {
   "cell_type": "markdown",
   "metadata": {
    "id": "M99v9iMrwhYw"
   },
   "source": [
    "Attach `doc_any` to `P` and organize things to make it pretty for text"
   ]
  },
  {
   "cell_type": "code",
   "execution_count": 23,
   "metadata": {
    "colab": {
     "base_uri": "https://localhost:8080/"
    },
    "executionInfo": {
     "elapsed": 391,
     "status": "ok",
     "timestamp": 1723151633269,
     "user": {
      "displayName": "Yong Song",
      "userId": "00576951217859821315"
     },
     "user_tz": -600
    },
    "id": "4l4gAvd0t4da",
    "outputId": "e71058c2-558d-4059-c0f5-a8f4c54d3d57"
   },
   "outputs": [
    {
     "data": {
      "text/plain": [
       "Index(['person_id', 'household_id', 'numhh_list', 'medicaid', 'selected'], dtype='object')"
      ]
     },
     "execution_count": 23,
     "metadata": {},
     "output_type": "execute_result"
    }
   ],
   "source": [
    "P.columns"
   ]
  },
  {
   "cell_type": "code",
   "execution_count": 24,
   "metadata": {
    "id": "wWdKDtQtt29M"
   },
   "outputs": [],
   "source": [
    "P['doc_any_12m'] = Y['doc_any_12m']\n",
    "P = P.iloc[:, [0,1,5,4,3,2]]\n",
    "P.rename(columns={P.columns[5]: 'numhh'}, inplace=True)"
   ]
  },
  {
   "cell_type": "code",
   "execution_count": 25,
   "metadata": {
    "colab": {
     "base_uri": "https://localhost:8080/"
    },
    "executionInfo": {
     "elapsed": 319,
     "status": "ok",
     "timestamp": 1723151645230,
     "user": {
      "displayName": "Yong Song",
      "userId": "00576951217859821315"
     },
     "user_tz": -600
    },
    "id": "F3Yd3DjQwhYw",
    "outputId": "90864ea3-aa83-4081-9c15-4bca413fe09a"
   },
   "outputs": [
    {
     "data": {
      "text/plain": [
       "Index(['person_id', 'household_id', 'doc_any_12m', 'selected', 'medicaid',\n",
       "       'numhh'],\n",
       "      dtype='object')"
      ]
     },
     "execution_count": 25,
     "metadata": {},
     "output_type": "execute_result"
    }
   ],
   "source": [
    "P.columns"
   ]
  },
  {
   "cell_type": "code",
   "execution_count": 25,
   "metadata": {
    "id": "VT0_QBkoumtz"
   },
   "outputs": [],
   "source": [
    "# intermediate data, not necessary\n",
    "P.to_csv(\"P.csv\", index=False)\n",
    "X.to_csv(\"X.csv\", index=False)\n",
    "Y.to_csv(\"Y.csv\", index=False)"
   ]
  },
  {
   "cell_type": "markdown",
   "metadata": {
    "id": "jeppkU12whYx"
   },
   "source": [
    "# This is where the book starts analysis\n",
    "\n",
    "Why?\n",
    "- Most work is data processing.\n",
    "- Models are usually well prepared for you.\n",
    "- Make the data fit the function/package/library requirements.\n",
    "\n",
    "A simple count of two groups."
   ]
  },
  {
   "cell_type": "code",
   "execution_count": 26,
   "metadata": {
    "colab": {
     "base_uri": "https://localhost:8080/",
     "height": 206
    },
    "executionInfo": {
     "elapsed": 1372,
     "status": "ok",
     "timestamp": 1724119812312,
     "user": {
      "displayName": "Yong Song",
      "userId": "00576951217859821315"
     },
     "user_tz": -600
    },
    "id": "2EDg6ro9xM0h",
    "outputId": "aa5f4bf4-76b3-43f7-d981-b978eb3b6dc7"
   },
   "outputs": [
    {
     "data": {
      "application/vnd.microsoft.datawrangler.viewer.v0+json": {
       "columns": [
        {
         "name": "index",
         "rawType": "int64",
         "type": "integer"
        },
        {
         "name": "person_id",
         "rawType": "int64",
         "type": "integer"
        },
        {
         "name": "household_id",
         "rawType": "int64",
         "type": "integer"
        },
        {
         "name": "doc_any_12m",
         "rawType": "bool",
         "type": "boolean"
        },
        {
         "name": "selected",
         "rawType": "bool",
         "type": "boolean"
        },
        {
         "name": "medicaid",
         "rawType": "bool",
         "type": "boolean"
        },
        {
         "name": "numhh",
         "rawType": "object",
         "type": "string"
        }
       ],
       "ref": "26d8ed3f-827c-4ec1-9f69-d7a5ae054a43",
       "rows": [
        [
         "0",
         "1",
         "100001",
         "False",
         "True",
         "False",
         "1"
        ],
        [
         "1",
         "2",
         "100002",
         "False",
         "True",
         "True",
         "1"
        ],
        [
         "2",
         "5",
         "100005",
         "False",
         "True",
         "False",
         "1"
        ],
        [
         "3",
         "6",
         "100006",
         "True",
         "True",
         "False",
         "1"
        ],
        [
         "4",
         "8",
         "102094",
         "False",
         "False",
         "False",
         "2"
        ]
       ],
       "shape": {
        "columns": 6,
        "rows": 5
       }
      },
      "text/html": [
       "<div>\n",
       "<style scoped>\n",
       "    .dataframe tbody tr th:only-of-type {\n",
       "        vertical-align: middle;\n",
       "    }\n",
       "\n",
       "    .dataframe tbody tr th {\n",
       "        vertical-align: top;\n",
       "    }\n",
       "\n",
       "    .dataframe thead th {\n",
       "        text-align: right;\n",
       "    }\n",
       "</style>\n",
       "<table border=\"1\" class=\"dataframe\">\n",
       "  <thead>\n",
       "    <tr style=\"text-align: right;\">\n",
       "      <th></th>\n",
       "      <th>person_id</th>\n",
       "      <th>household_id</th>\n",
       "      <th>doc_any_12m</th>\n",
       "      <th>selected</th>\n",
       "      <th>medicaid</th>\n",
       "      <th>numhh</th>\n",
       "    </tr>\n",
       "  </thead>\n",
       "  <tbody>\n",
       "    <tr>\n",
       "      <th>0</th>\n",
       "      <td>1</td>\n",
       "      <td>100001</td>\n",
       "      <td>False</td>\n",
       "      <td>True</td>\n",
       "      <td>False</td>\n",
       "      <td>1</td>\n",
       "    </tr>\n",
       "    <tr>\n",
       "      <th>1</th>\n",
       "      <td>2</td>\n",
       "      <td>100002</td>\n",
       "      <td>False</td>\n",
       "      <td>True</td>\n",
       "      <td>True</td>\n",
       "      <td>1</td>\n",
       "    </tr>\n",
       "    <tr>\n",
       "      <th>2</th>\n",
       "      <td>5</td>\n",
       "      <td>100005</td>\n",
       "      <td>False</td>\n",
       "      <td>True</td>\n",
       "      <td>False</td>\n",
       "      <td>1</td>\n",
       "    </tr>\n",
       "    <tr>\n",
       "      <th>3</th>\n",
       "      <td>6</td>\n",
       "      <td>100006</td>\n",
       "      <td>True</td>\n",
       "      <td>True</td>\n",
       "      <td>False</td>\n",
       "      <td>1</td>\n",
       "    </tr>\n",
       "    <tr>\n",
       "      <th>4</th>\n",
       "      <td>8</td>\n",
       "      <td>102094</td>\n",
       "      <td>False</td>\n",
       "      <td>False</td>\n",
       "      <td>False</td>\n",
       "      <td>2</td>\n",
       "    </tr>\n",
       "  </tbody>\n",
       "</table>\n",
       "</div>"
      ],
      "text/plain": [
       "   person_id  household_id  doc_any_12m  selected  medicaid numhh\n",
       "0          1        100001        False      True     False     1\n",
       "1          2        100002        False      True      True     1\n",
       "2          5        100005        False      True     False     1\n",
       "3          6        100006         True      True     False     1\n",
       "4          8        102094        False     False     False     2"
      ]
     },
     "execution_count": 26,
     "metadata": {},
     "output_type": "execute_result"
    }
   ],
   "source": [
    "P = pd.read_csv(\"https://www.dropbox.com/scl/fi/yyse8x40k9xyxti2qassp/P.csv?rlkey=yx32o46r3j9pnqoyve3936p1y&dl=1\")\n",
    "P.head()"
   ]
  },
  {
   "cell_type": "code",
   "execution_count": 27,
   "metadata": {
    "colab": {
     "base_uri": "https://localhost:8080/",
     "height": 178
    },
    "executionInfo": {
     "elapsed": 373,
     "status": "ok",
     "timestamp": 1723201084921,
     "user": {
      "displayName": "Yong Song",
      "userId": "00576951217859821315"
     },
     "user_tz": -600
    },
    "id": "PsJzrE7FFUYf",
    "outputId": "ade83d01-3c69-4d34-dd8a-1caa58311c46"
   },
   "outputs": [
    {
     "data": {
      "application/vnd.microsoft.datawrangler.viewer.v0+json": {
       "columns": [
        {
         "name": "selected",
         "rawType": "bool",
         "type": "boolean"
        },
        {
         "name": "count",
         "rawType": "int64",
         "type": "integer"
        }
       ],
       "ref": "bfdfe2eb-440a-4bac-9c13-d0f359c208fb",
       "rows": [
        [
         "False",
         "11629"
        ],
        [
         "True",
         "11478"
        ]
       ],
       "shape": {
        "columns": 1,
        "rows": 2
       }
      },
      "text/plain": [
       "selected\n",
       "False    11629\n",
       "True     11478\n",
       "Name: count, dtype: int64"
      ]
     },
     "execution_count": 27,
     "metadata": {},
     "output_type": "execute_result"
    }
   ],
   "source": [
    "P.selected.value_counts()"
   ]
  },
  {
   "cell_type": "code",
   "execution_count": 28,
   "metadata": {
    "executionInfo": {
     "elapsed": 2477,
     "status": "ok",
     "timestamp": 1724119799518,
     "user": {
      "displayName": "Yong Song",
      "userId": "00576951217859821315"
     },
     "user_tz": -600
    },
    "id": "jcQN2dz-jAin"
   },
   "outputs": [],
   "source": [
    "Y = pd.read_csv(\"https://www.dropbox.com/scl/fi/peldi8mjzknsh0ggo43sh/Y.csv?rlkey=9yulu7fo5zszp3d5skjed3nqk&dl=1\")"
   ]
  },
  {
   "cell_type": "markdown",
   "metadata": {
    "id": "i4C0fvKZQU1z"
   },
   "source": [
    "## ATE"
   ]
  },
  {
   "cell_type": "code",
   "execution_count": 30,
   "metadata": {
    "colab": {
     "base_uri": "https://localhost:8080/"
    },
    "executionInfo": {
     "elapsed": 359,
     "status": "ok",
     "timestamp": 1724119816651,
     "user": {
      "displayName": "Yong Song",
      "userId": "00576951217859821315"
     },
     "user_tz": -600
    },
    "id": "8qLnZEANJx5Z",
    "outputId": "e49f6f16-1410-4479-dbfe-e0de22f28f51"
   },
   "outputs": [
    {
     "name": "stdout",
     "output_type": "stream",
     "text": [
      "selected\n",
      "False    0.573480\n",
      "True     0.630946\n",
      "Name: doc_any_12m, dtype: float64\n",
      "0.05746606499595419\n"
     ]
    }
   ],
   "source": [
    "ybar = P.groupby('selected')['doc_any_12m'].mean()\n",
    "print(ybar)\n",
    "\n",
    "# Calculating the Average Treatment Effect (ATE)\n",
    "ATE = ybar.iloc[1] - ybar.iloc[0]\n",
    "print(ATE)"
   ]
  },
  {
   "cell_type": "markdown",
   "metadata": {
    "id": "MBANn-YwwhYx"
   },
   "source": [
    "Let's quantify the uncertainty in the estimate:\n",
    "\n",
    "Can you recall the formula for standard error of the difference of sample means of independent samples?"
   ]
  },
  {
   "cell_type": "code",
   "execution_count": 31,
   "metadata": {
    "colab": {
     "base_uri": "https://localhost:8080/"
    },
    "executionInfo": {
     "elapsed": 367,
     "status": "ok",
     "timestamp": 1723201114050,
     "user": {
      "displayName": "Yong Song",
      "userId": "00576951217859821315"
     },
     "user_tz": -600
    },
    "id": "l665H5CyNtJ_",
    "outputId": "7b339d2e-5af8-41be-d80c-6fd8c89d5fa3"
   },
   "outputs": [
    {
     "name": "stdout",
     "output_type": "stream",
     "text": [
      "Counts for 'selected':\n",
      "selected\n",
      "False    11629\n",
      "True     11478\n",
      "Name: count, dtype: int64\n",
      "Variance of 'doc_any_12m' by 'selected':\n",
      "selected\n",
      "False    0.244622\n",
      "True     0.232873\n",
      "Name: doc_any_12m, dtype: float64\n",
      "Standard Error of ATE: 0.006428387291688661\n",
      "95% Confidence Interval for ATE: [0.04460929 0.07032284]\n"
     ]
    }
   ],
   "source": [
    "nsel = P['selected'].value_counts()\n",
    "yvar = P.groupby('selected')['doc_any_12m'].var()\n",
    "seATE = np.sqrt(np.sum(yvar / nsel))\n",
    "conf_interval = ATE + np.array([-2, 2]) * seATE\n",
    "\n",
    "# Printing the results\n",
    "print(\"Counts for 'selected':\")\n",
    "print(nsel)\n",
    "print(\"Variance of 'doc_any_12m' by 'selected':\")\n",
    "print(yvar)\n",
    "print(\"Standard Error of ATE:\", seATE)\n",
    "print(\"95% Confidence Interval for ATE:\", conf_interval)"
   ]
  },
  {
   "cell_type": "markdown",
   "metadata": {
    "id": "bK0hNsjlwhYy"
   },
   "source": [
    "## reweight\n",
    "\n",
    "- why re-weighting?"
   ]
  },
  {
   "cell_type": "code",
   "execution_count": 32,
   "metadata": {
    "colab": {
     "base_uri": "https://localhost:8080/",
     "height": 542
    },
    "executionInfo": {
     "elapsed": 1761,
     "status": "ok",
     "timestamp": 1692238429422,
     "user": {
      "displayName": "Yong Song",
      "userId": "00576951217859821315"
     },
     "user_tz": -600
    },
    "id": "ajYpcrStQp8C",
    "outputId": "67d40de8-a8d9-4e0a-f773-bcdeda5df897"
   },
   "outputs": [
    {
     "data": {
      "application/vnd.plotly.v1+json": {
       "config": {
        "plotlyServerURL": "https://plot.ly"
       },
       "data": [
        {
         "bingroup": "x",
         "hovertemplate": "variable=weight_12m<br>value=%{x}<br>count=%{y}<extra></extra>",
         "legendgroup": "weight_12m",
         "marker": {
          "color": "#636efa",
          "pattern": {
           "shape": ""
          }
         },
         "name": "weight_12m",
         "nbinsx": 20,
         "orientation": "v",
         "showlegend": true,
         "type": "histogram",
         "x": {
          "bdata": "AAAAAAAA8D8AAAAAAADwPwAAAAAAAPA/AAAAAAAA8D8AAAAAAADwPwAAAAAAAPA/AAAAAAAA8D8AAAAAAADwPwAAAAAAAPA/AAAAAAAA8D8AAAAAAADwPwAAAAAAAPA/AAAAAAAA8D8AAAAAAADwPwYAACAjlwZAAAAAAAAA8D8AAAAAAADwPwAAAAAAAPA/AAAAAAAA8D8GAAAgI5cGQAAAAAAAAPA/AAAAAAAA8D8AAAAAAADwPwAAAAAAAPA/AAAAAAAA8D8AAAAAAADwPwAAAAAAAPA/AAAAAAAA8D8AAAAAAADwPwAAAAAAAPA/AAAAAAAA8D8AAAAAAADwPwAAAAAAAPA/AAAAAAAA8D8AAAAAAADwPwAAAAAAAPA/AAAAAAAA8D8AAAAAAADwPwAAAAAAAPA/AAAAAAAA8D8GAAAgI5cGQAAAAAAAAPA/AAAAAAAA8D8AAAAAAADwPwAAAAAAAPA/BgAAICOXBkAAAAAAAADwPwAAAAAAAPA/AAAAAAAA8D8AAAAAAADwPwAAAAAAAPA/AAAAAAAA8D8AAAAAAADwPwAAAAAAAPA/AAAAAAAA8D8GAAAgI5cGQAAAAAAAAPA/AAAAAAAA8D8AAAAAAADwPwAAAAAAAPA/AAAAAAAA8D8AAAAAAADwPwAAAAAAAPA/AAAAAAAA8D8GAAAgI5cGQAAAAAAAAPA/AAAAAAAA8D8AAAAAAADwPwAAAAAAAPA/AAAAAAAA8D8AAAAAAADwPwAAAAAAAPA/AAAAAAAA8D8AAAAAAADwPwYAACAjlwZAAAAAAAAA8D8AAAAAAADwPwYAACAjlwZAAAAAAAAA8D8AAAAAAADwPwAAAAAAAPA/AAAAAAAA8D8AAAAAAADwPwAAAAAAAPA/AAAAAAAA8D8AAAAAAADwPwAAAAAAAPA/AAAAAAAA8D8AAAAAAADwPwYAACAjlwZAAAAAAAAA8D8AAAAAAADwPwAAAAAAAPA/AAAAAAAA8D8AAAAAAADwPwAAAAAAAPA/AAAAAAAA8D8AAAAAAADwPwAAAAAAAPA/AAAAAAAA8D8GAAAgI5cGQAAAAAAAAPA/BgAAICOXBkAGAAAgI5cGQAAAAAAAAPA/AAAAAAAA8D8GAAAgI5cGQAAAAAAAAPA/BgAAICOXBkAAAAAAAADwPwAAAAAAAPA/AAAAAAAA8D8AAAAAAADwPwAAAAAAAPA/AAAAAAAA8D8GAAAgI5cGQAAAAAAAAPA/AAAAAAAA8D8AAAAAAADwPwAAAAAAAPA/AAAAAAAA8D8AAAAAAADwPwYAACAjlwZAAAAAAAAA8D8AAAAAAADwPwAAAAAAAPA/AAAAAAAA8D8AAAAAAADwPwYAACAjlwZAAAAAAAAA8D8AAAAAAADwPwAAAAAAAPA/AAAAAAAA8D8AAAAAAADwPwYAACAjlwZAAAAAAAAA8D8GAAAgI5cGQAAAAAAAAPA/AAAAAAAA8D8AAAAAAADwPwAAAAAAAPA/AAAAAAAA8D8AAAAAAADwPwAAAAAAAPA/AAAAAAAA8D8AAAAAAADwPwAAAAAAAPA/BgAAICOXBkAAAAAAAADwPwAAAAAAAPA/AAAAAAAA8D8AAAAAAADwPwYAACAjlwZAAAAAAAAA8D8AAAAAAADwP/j//180pAdAAAAAAAAA8D8AAAAAAADwPwAAAAAAAPA/AAAAAAAA8D8AAAAAAADwPwAAAAAAAPA/AAAAAAAA8D8AAAAAAADwPwYAACAjlwZAAAAAAAAA8D8AAAAAAADwPwYAACAjlwZAAAAAAAAA8D8GAAAgI5cGQAAAAAAAAPA/AAAAAAAA8D8AAAAAAADwPwAAAAAAAPA/AAAAAAAA8D8AAAAAAADwPwYAACAjlwZAAAAAAAAA8D8AAAAAAADwPwAAAAAAAPA/AAAAAAAA8D8AAAAAAADwPwAAAAAAAPA/AAAAAAAA8D8AAAAAAADwPwAAAAAAAPA/AAAAAAAA8D8AAAAAAADwPwAAAAAAAPA/BgAAICOXBkAAAAAAAADwPwAAAAAAAPA/AAAAAAAA8D8AAAAAAADwPwAAAAAAAPA/AAAAAAAA8D8AAAAAAADwPwAAAAAAAPA/BgAAICOXBkAAAAAAAADwPwYAACAjlwZABgAAICOXBkAAAAAAAADwPwAAAAAAAPA/AAAAAAAA8D8AAAAAAADwPwAAAAAAAPA/AAAAAAAA8D8AAAAAAADwPwAAAAAAAPA/BgAAICOXBkAAAAAAAADwPwAAAAAAAPA/AAAAAAAA8D8AAAAAAADwPwAAAAAAAPA/AAAAAAAA8D8AAAAAAADwPwAAAAAAAPA/BgAAICOXBkAAAAAAAADwPwAAAAAAAPA/AAAAAAAA8D8AAAAAAADwPwAAAAAAAPA/AAAAAAAA8D8AAAAAAADwPwAAAAAAAPA/7f//35ev8T8GAAAgI5cGQAAAAAAAAPA/AAAAAAAA8D8AAAAAAADwPwAAAAAAAPA/BgAAICOXBkAAAAAAAADwPwAAAAAAAPA/AAAAAAAA8D8AAAAAAADwPwAAAAAAAPA/AAAAAAAA8D8AAAAAAADwPwAAAAAAAPA/AAAAAAAA8D8AAAAAAADwPwAAAAAAAPA/AAAAAAAA8D8AAAAAAADwPwYAACAjlwZAAAAAAAAA8D8AAAAAAADwPwAAAAAAAPA/BgAAICOXBkAAAAAAAADwPwAAAAAAAPA/AAAAAAAA8D8AAAAAAADwPwAAAAAAAPA/AAAAAAAA8D8AAAAAAADwPwYAACAjlwZAAAAAAAAA8D8AAAAAAADwPwAAAAAAAPA/AAAAAAAA8D8AAAAAAADwPwYAACAjlwZAAAAAAAAA8D8AAAAAAADwPwAAAAAAAPA/AAAAAAAA8D8AAAAAAADwPwAAAAAAAPA/AAAAAAAA8D8AAAAAAADwPwAAAAAAAPA/AAAAAAAA8D8AAAAAAADwPwAAAAAAAPA/AAAAAAAA8D8AAAAAAADwPwAAAAAAAPA/AAAAAAAA8D8AAAAAAADwPwAAAAAAAPA/AAAAAAAA8D8AAAAAAADwPwAAAAAAAPA/AAAAAAAA8D8AAAAAAADwPwAAAAAAAPA/BgAAICOXBkAAAAAAAADwPwAAAAAAAPA/AAAAAAAA8D8AAAAAAADwPwAAAAAAAPA/AAAAAAAA8D8AAAAAAADwPwYAACAjlwZABgAAICOXBkAAAAAAAADwPwYAACAjlwZABgAAICOXBkAAAAAAAADwPwAAAAAAAPA/AAAAAAAA8D8GAAAgI5cGQAAAAAAAAPA/AAAAAAAA8D/4///fgPgIQAAAAAAAAPA/BgAAICOXBkAAAAAAAADwPwAAAAAAAPA/AAAAAAAA8D8AAAAAAADwPwAAAAAAAPA/AAAAAAAA8D8AAAAAAADwPwAAAAAAAPA/AAAAAAAA8D8AAAAAAADwPwAAAAAAAPA/AAAAAAAA8D8GAAAgI5cGQAAAAAAAAPA/AAAAAAAA8D8AAAAAAADwPwAAAAAAAPA/AAAAAAAA8D8AAAAAAADwPwYAACAjlwZABgAAICOXBkAAAAAAAADwPwAAAAAAAPA/AAAAAAAA8D8AAAAAAADwPwAAAAAAAPA/AAAAAAAA8D8AAAAAAADwPwYAACAjlwZAAAAAAAAA8D8AAAAAAADwPwAAAAAAAPA/AAAAAAAA8D8AAAAAAADwPwAAAAAAAPA/AAAAAAAA8D8AAAAAAADwPwAAAAAAAPA/AAAAAAAA8D8AAAAAAADwPwAAAAAAAPA/AAAAAAAA8D8AAAAAAADwPwAAAAAAAPA/AAAAAAAA8D8GAAAgI5cGQAYAACAjlwZABgAAICOXBkAAAAAAAADwPwAAAAAAAPA/AAAAAAAA8D8AAAAAAADwPwAAAAAAAPA/AAAAAAAA8D8AAAAAAADwPwAAAAAAAPA/BgAAICOXBkAAAAAAAADwPwAAAAAAAPA/AAAAAAAA8D8AAAAAAADwPwAAAAAAAPA/AAAAAAAA8D8GAAAgI5cGQAYAACAjlwZAAAAAAAAA8D8AAAAAAADwPwAAAAAAAPA/AAAAAAAA8D8AAAAAAADwPwAAAAAAAPA/AAAAAAAA8D8AAAAAAADwPwYAACAjlwZAAwAAIE6+C0AAAAAAAADwPwAAAAAAAPA/AAAAAAAA8D8AAAAAAADwPwAAAAAAAPA/AAAAAAAA8D8GAAAgI5cGQAYAACAjlwZAAAAAAAAA8D8AAAAAAADwPwAAAAAAAPA/BgAAICOXBkAGAAAgI5cGQAAAAAAAAPA/AAAAAAAA8D8AAAAAAADwPwAAAAAAAPA/AAAAAAAA8D8AAAAAAADwPwAAAAAAAPA/AAAAAAAA8D8AAAAAAADwPwAAAAAAAPA/AAAAAAAA8D8GAAAgI5cGQAAAAAAAAPA/AAAAAAAA8D8AAAAAAADwPwAAAAAAAPA/+P//34D4CEAAAAAAAADwPwAAAAAAAPA/AAAAAAAA8D8AAAAAAADwPwAAAAAAAPA/BgAAICOXBkAAAAAAAADwPwAAAAAAAPA/AAAAAAAA8D8AAAAAAADwPwAAAAAAAPA/AAAAAAAA8D8AAAAAAADwPwAAAAAAAPA/AAAAAAAA8D8AAAAAAADwPwYAACAjlwZAAAAAAAAA8D8AAAAAAADwPwAAAAAAAPA/AAAAAAAA8D8AAAAAAADwPwAAAAAAAPA/AAAAAAAA8D8AAAAAAADwPwAAAAAAAPA/AAAAAAAA8D8AAAAAAADwPwAAAAAAAPA/AAAAAAAA8D8AAAAAAADwPwAAAAAAAPA/AAAAAAAA8D8AAAAAAADwPwAAAAAAAPA/AAAAAAAA8D8GAAAgI5cGQAAAAAAAAPA/BgAAICOXBkAAAAAAAADwPwAAAAAAAPA/AAAAAAAA8D8AAAAAAADwPwAAAAAAAPA/AAAAAAAA8D8AAAAAAADwPwAAAAAAAPA/AAAAAAAA8D8AAAAAAADwPwYAACAjlwZAAAAAAAAA8D8AAAAAAADwPwAAAAAAAPA/AAAAAAAA8D8GAAAgI5cGQAAAAAAAAPA/AAAAAAAA8D8AAAAAAADwPwAAAAAAAPA/AAAAAAAA8D8AAAAAAADwPwAAAAAAAPA/AAAAAAAA8D8AAAAAAADwPwYAACAjlwZAAAAAAAAA8D8AAAAAAADwPwAAAAAAAPA/AAAAAAAA8D8AAAAAAADwPwAAAAAAAPA/AAAAAAAA8D8AAAAAAADwPwAAAAAAAPA/AAAAAAAA8D8AAAAAAADwPwAAAAAAAPA/AAAAAAAA8D8AAAAAAADwPwAAAAAAAPA/AAAAAAAA8D8AAAAAAADwPwAAAAAAAPA/AAAAAAAA8D8AAAAAAADwPwAAAAAAAPA/AAAAAAAA8D8AAAAAAADwPwAAAAAAAPA/AAAAAAAA8D8AAAAAAADwPwAAAAAAAPA/AAAAAAAA8D8AAAAAAADwPwAAAAAAAPA/AAAAAAAA8D8AAAAAAADwP+3//9+Xr/E/AAAAAAAA8D8AAAAAAADwPwAAAAAAAPA/AAAAAAAA8D8AAAAAAADwPwAAAAAAAPA/AAAAAAAA8D8AAAAAAADwPwAAAAAAAPA/AAAAAAAA8D8AAAAAAADwPwAAAAAAAPA/AAAAAAAA8D8AAAAAAADwPwAAAAAAAPA/BgAAICOXBkAAAAAAAADwPwAAAAAAAPA/AAAAAAAA8D8GAAAgI5cGQAAAAAAAAPA/AAAAAAAA8D8AAAAAAADwPwYAACAjlwZABgAAICOXBkAGAAAgI5cGQAAAAAAAAPA/AAAAAAAA8D8AAAAAAADwPwAAAAAAAPA/BgAAICOXBkAAAAAAAADwPwYAACAjlwZAAAAAAAAA8D8AAAAAAADwPwAAAAAAAPA/AAAAAAAA8D8AAAAAAADwPwYAACAjlwZABgAAICOXBkAAAAAAAADwPwYAACAjlwZAAAAAAAAA8D8GAAAgI5cGQAAAAAAAAPA/AAAAAAAA8D8AAAAAAADwPwAAAAAAAPA/BgAAICOXBkAAAAAAAADwPwAAAAAAAPA/AAAAAAAA8D8GAAAgI5cGQAAAAAAAAPA/BgAAICOXBkAAAAAAAADwPwAAAAAAAPA/AAAAAAAA8D8AAAAAAADwP+3//9+Xr/E/AAAAAAAA8D8GAAAgI5cGQAAAAAAAAPA/AAAAAAAA8D8AAAAAAADwPwAAAAAAAPA/AAAAAAAA8D8AAAAAAADwPwAAAAAAAPA/AAAAAAAA8D8AAAAAAADwPwAAAAAAAPA/BgAAICOXBkAAAAAAAADwPwAAAAAAAPA/AAAAAAAA8D8AAAAAAADwPwAAAAAAAPA/+P//34D4CEAAAAAAAADwPwAAAAAAAPA/AAAAAAAA8D8AAAAAAADwPwAAAAAAAPA/AAAAAAAA8D8AAAAAAADwPwYAACAjlwZAAAAAAAAA8D8AAAAAAADwPwAAAAAAAPA/AAAAAAAA8D8AAAAAAADwPwAAAAAAAPA/AAAAAAAA8D8AAAAAAADwPwAAAAAAAPA/AAAAAAAA8D8AAAAAAADwPwAAAAAAAPA/AAAAAAAA8D8AAAAAAADwPwYAACAjlwZAAAAAAAAA8D8GAAAgI5cGQAAAAAAAAPA/AAAAAAAA8D8AAAAAAADwPwAAAAAAAPA/AAAAAAAA8D8AAAAAAADwPwAAAAAAAPA/BgAAICOXBkAAAAAAAADwPwAAAAAAAPA/AAAAAAAA8D8AAAAAAADwPwAAAAAAAPA/AAAAAAAA8D8AAAAAAADwPwAAAAAAAPA/AAAAAAAA8D8AAAAAAADwPwAAAAAAAPA/AAAAAAAA8D8AAAAAAADwPwAAAAAAAPA/AAAAAAAA8D8GAAAgI5cGQAAAAAAAAPA/AAAAAAAA8D8AAAAAAADwPwAAAAAAAPA/AAAAAAAA8D8AAAAAAADwPwAAAAAAAPA/AAAAAAAA8D8AAAAAAADwPwYAACAjlwZAAAAAAAAA8D8AAAAAAADwPwAAAAAAAPA/AAAAAAAA8D8AAAAAAADwPwAAAAAAAPA/AAAAAAAA8D8AAAAAAADwPwAAAAAAAPA/AAAAAAAA8D8AAAAAAADwPwAAAAAAAPA/AAAAAAAA8D8GAAAgI5cGQAAAAAAAAPA/AAAAAAAA8D8AAAAAAADwPwAAAAAAAPA/AAAAAAAA8D8AAAAAAADwPwAAAAAAAPA/AAAAAAAA8D8AAAAAAADwPwAAAAAAAPA/BgAAICOXBkAAAAAAAADwPwAAAAAAAPA/AAAAAAAA8D8AAAAAAADwPwAAAAAAAPA/AAAAAAAA8D8AAAAAAADwPwAAAAAAAPA/AAAAAAAA8D8AAAAAAADwPwAAAAAAAPA/AAAAAAAA8D8AAAAAAADwPwAAAAAAAPA/AAAAAAAA8D8AAAAAAADwPwAAAAAAAPA/AAAAAAAA8D8GAAAgI5cGQAAAAAAAAPA/AAAAAAAA8D8AAAAAAADwPwAAAAAAAPA/AAAAAAAA8D8AAAAAAADwPwAAAAAAAPA/AAAAAAAA8D8AAAAAAADwPwAAAAAAAPA/AAAAAAAA8D8AAAAAAADwPwAAAAAAAPA/AAAAAAAA8D8AAAAAAADwPwAAAAAAAPA/AAAAAAAA8D8AAAAAAADwPwYAACAjlwZAAAAAAAAA8D8AAAAAAADwPwAAAAAAAPA/AAAAAAAA8D8AAAAAAADwPwAAAAAAAPA/AAAAAAAA8D8AAAAAAADwPwAAAAAAAPA/AAAAAAAA8D8AAAAAAADwPwAAAAAAAPA/AAAAAAAA8D8GAAAgI5cGQAAAAAAAAPA/AAAAAAAA8D8AAAAAAADwPwAAAAAAAPA/AAAAAAAA8D8AAAAAAADwPwAAAAAAAPA/AAAAAAAA8D8AAAAAAADwPwAAAAAAAPA/AAAAAAAA8D8AAAAAAADwPwYAACAjlwZA+P//34D4CEAGAAAgI5cGQAAAAAAAAPA/AAAAAAAA8D8AAAAAAADwPwAAAAAAAPA/AAAAAAAA8D8AAAAAAADwPwAAAAAAAPA/AAAAAAAA8D8AAAAAAADwPwAAAAAAAPA/AAAAAAAA8D8GAAAgI5cGQAAAAAAAAPA/AAAAAAAA8D8AAAAAAADwPwAAAAAAAPA/AAAAAAAA8D8AAAAAAADwPwAAAAAAAPA/AAAAAAAA8D8AAAAAAADwPwAAAAAAAPA/AAAAAAAA8D8AAAAAAADwPwAAAAAAAPA/AAAAAAAA8D8AAAAAAADwPwAAAAAAAPA/BgAAICOXBkAAAAAAAADwPwAAAAAAAPA/AAAAAAAA8D8AAAAAAADwPwAAAAAAAPA/AAAAAAAA8D8AAAAAAADwPwAAAAAAAPA/BgAAICOXBkAAAAAAAADwPwYAACAjlwZAAAAAAAAA8D8AAAAAAADwPwAAAAAAAPA/BgAAICOXBkAAAAAAAADwPwAAAAAAAPA/AAAAAAAA8D8AAAAAAADwPwAAAAAAAPA/AAAAAAAA8D8AAAAAAADwPwAAAAAAAPA/AAAAAAAA8D8AAAAAAADwPwAAAAAAAPA/AAAAAAAA8D8AAAAAAADwPwAAAAAAAPA/AAAAAAAA8D8AAAAAAADwPwAAAAAAAPA/BgAAICOXBkAAAAAAAADwPwAAAAAAAPA/AAAAAAAA8D8AAAAAAADwPwAAAAAAAPA/AAAAAAAA8D8AAAAAAADwPwAAAAAAAPA/BgAAICOXBkAAAAAAAADwPwAAAAAAAPA/AAAAAAAA8D8AAAAAAADwPwAAAAAAAPA/AAAAAAAA8D8AAAAAAADwPwYAACAjlwZAAAAAAAAA8D8AAAAAAADwPwAAAAAAAPA/AAAAAAAA8D8AAAAAAADwPwYAACAjlwZAAAAAAAAA8D8AAAAAAADwPwAAAAAAAPA/BgAAICOXBkAAAAAAAADwPwAAAAAAAPA/AAAAAAAA8D8AAAAAAADwPwAAAAAAAPA/AAAAAAAA8D8AAAAAAADwPwAAAAAAAPA/AAAAAAAA8D8AAAAAAADwPwAAAAAAAPA/AAAAAAAA8D8AAAAAAADwPwAAAAAAAPA/AAAAAAAA8D8AAAAAAADwPwAAAAAAAPA/AAAAAAAA8D8AAAAAAADwPwAAAAAAAPA/AAAAAAAA8D8GAAAgI5cGQAAAAAAAAPA/AAAAAAAA8D8AAAAAAADwPwYAACAjlwZAAAAAAAAA8D8AAAAAAADwPwAAAAAAAPA/AAAAAAAA8D8GAAAgI5cGQAAAAAAAAPA/AAAAAAAA8D8AAAAAAADwPwAAAAAAAPA/AAAAAAAA8D8AAAAAAADwPwAAAAAAAPA/+P//XzSkB0AAAAAAAADwPwAAAAAAAPA/AAAAAAAA8D8AAAAAAADwPwAAAAAAAPA/AAAAAAAA8D8AAAAAAADwPwAAAAAAAPA/AAAAAAAA8D8AAAAAAADwPwAAAAAAAPA/AAAAAAAA8D8AAAAAAADwPwAAAAAAAPA/BgAAICOXBkAGAAAgI5cGQAAAAAAAAPA/AAAAAAAA8D8GAAAgI5cGQAYAACAjlwZABgAAICOXBkAAAAAAAADwPwYAACAjlwZAAAAAAAAA8D8AAAAAAADwPwAAAAAAAPA/AAAAAAAA8D8AAAAAAADwPwAAAAAAAPA/BgAAICOXBkAAAAAAAADwPwAAAAAAAPA/AAAAAAAA8D8AAAAAAADwPwAAAAAAAPA/AAAAAAAA8D8AAAAAAADwPwYAACAjlwZAAAAAAAAA8D8AAAAAAADwPwAAAAAAAPA/AAAAAAAA8D8AAAAAAADwPwAAAAAAAPA/AAAAAAAA8D8AAAAAAADwPwAAAAAAAPA/AAAAAAAA8D8AAAAAAADwPwAAAAAAAPA/AAAAAAAA8D8AAAAAAADwPwAAAAAAAPA/AAAAAAAA8D8AAAAAAADwPwAAAAAAAPA/AAAAAAAA8D8AAAAAAADwPwYAACAjlwZAAAAAAAAA8D8AAAAAAADwPwAAAAAAAPA/BgAAICOXBkAAAAAAAADwPwAAAAAAAPA/AAAAAAAA8D8AAAAAAADwPwAAAAAAAPA/AAAAAAAA8D8AAAAAAADwPwAAAAAAAPA/AAAAAAAA8D8AAAAAAADwPwAAAAAAAPA/AAAAAAAA8D8AAAAAAADwPwAAAAAAAPA/AAAAAAAA8D8AAAAAAADwPwAAAAAAAPA/AAAAAAAA8D8AAAAAAADwPwAAAAAAAPA/AAAAAAAA8D8GAAAgI5cGQAAAAAAAAPA/BgAAICOXBkAAAAAAAADwPwAAAAAAAPA/AAAAAAAA8D8AAAAAAADwPwAAAAAAAPA/AAAAAAAA8D8AAAAAAADwPwAAAAAAAPA/AAAAAAAA8D8AAAAAAADwPwAAAAAAAPA/AAAAAAAA8D8AAAAAAADwPwAAAAAAAPA/AAAAAAAA8D8AAAAAAADwPwAAAAAAAPA/AAAAAAAA8D8AAAAAAADwPwAAAAAAAPA/AAAAAAAA8D8AAAAAAADwPwAAAAAAAPA/AAAAAAAA8D8GAAAgI5cGQAAAAAAAAPA/AAAAAAAA8D8AAAAAAADwPwAAAAAAAPA/AAAAAAAA8D8AAAAAAADwPwAAAAAAAPA/AAAAAAAA8D8AAAAAAADwPwYAACAjlwZAAAAAAAAA8D8AAAAAAADwPwAAAAAAAPA/AAAAAAAA8D8AAAAAAADwPwAAAAAAAPA/AAAAAAAA8D8AAAAAAADwPwAAAAAAAPA/BgAAICOXBkAAAAAAAADwPwYAACAjlwZAAAAAAAAA8D8AAAAAAADwPwAAAAAAAPA/AAAAAAAA8D8AAAAAAADwPwYAACAjlwZAAAAAAAAA8D8GAAAgI5cGQAAAAAAAAPA/AAAAAAAA8D8AAAAAAADwPwAAAAAAAPA/AAAAAAAA8D8AAAAAAADwPwAAAAAAAPA/AAAAAAAA8D8GAAAgI5cGQAAAAAAAAPA/AAAAAAAA8D8GAAAgI5cGQAAAAAAAAPA/AAAAAAAA8D8GAAAgI5cGQAAAAAAAAPA/AAAAAAAA8D8AAAAAAADwPwAAAAAAAPA/AAAAAAAA8D8AAAAAAADwPwAAAAAAAPA/AAAAAAAA8D8GAAAgI5cGQAAAAAAAAPA/AAAAAAAA8D8AAAAAAADwPwAAAAAAAPA/AAAAAAAA8D8AAAAAAADwPwAAAAAAAPA/AAAAAAAA8D8AAAAAAADwPwAAAAAAAPA/AAAAAAAA8D8AAAAAAADwPwYAACAjlwZAAAAAAAAA8D8AAAAAAADwPwAAAAAAAPA/AAAAAAAA8D8AAAAAAADwPwAAAAAAAPA/AAAAAAAA8D8AAAAAAADwPwAAAAAAAPA/AAAAAAAA8D8AAAAAAADwPwAAAAAAAPA/AAAAAAAA8D8AAAAAAADwPwYAACAjlwZAAAAAAAAA8D8AAAAAAADwPwAAAAAAAPA/AAAAAAAA8D8GAAAgI5cGQAAAAAAAAPA/BgAAICOXBkAAAAAAAADwPwYAACAjlwZAAAAAAAAA8D8AAAAAAADwPwAAAAAAAPA/AAAAAAAA8D8AAAAAAADwPwAAAAAAAPA/BgAAICOXBkAAAAAAAADwPwAAAAAAAPA/BgAAICOXBkAAAAAAAADwPwAAAAAAAPA/AAAAAAAA8D8AAAAAAADwPwAAAAAAAPA/AAAAAAAA8D8AAAAAAADwPwAAAAAAAPA/AAAAAAAA8D8AAAAAAADwPwAAAAAAAPA/AAAAAAAA8D8AAAAAAADwPwAAAAAAAPA/AAAAAAAA8D8AAAAAAADwPwYAACAjlwZAAAAAAAAA8D8AAAAAAADwPwAAAAAAAPA/AAAAAAAA8D8AAAAAAADwPwAAAAAAAPA/AAAAAAAA8D8AAAAAAADwPwAAAAAAAPA/AAAAAAAA8D8AAAAAAADwPwAAAAAAAPA/AAAAAAAA8D8AAAAAAADwPwAAAAAAAPA/AAAAAAAA8D8AAAAAAADwPwAAAAAAAPA/AAAAAAAA8D8AAAAAAADwPwAAAAAAAPA/AAAAAAAA8D8AAAAAAADwPwAAAAAAAPA/AAAAAAAA8D8AAAAAAADwPwAAAAAAAPA/AAAAAAAA8D8AAAAAAADwPwAAAAAAAPA/AAAAAAAA8D8AAAAAAADwPwYAACAjlwZAAAAAAAAA8D8AAAAAAADwPwAAAAAAAPA/AAAAAAAA8D8GAAAgI5cGQAAAAAAAAPA/AAAAAAAA8D8AAAAAAADwPwAAAAAAAPA/AAAAAAAA8D8AAAAAAADwPwAAAAAAAPA/AAAAAAAA8D8AAAAAAADwPwAAAAAAAPA/AAAAAAAA8D8AAAAAAADwPwAAAAAAAPA/AAAAAAAA8D8AAAAAAADwPwAAAAAAAPA/AAAAAAAA8D8AAAAAAADwPwAAAAAAAPA/BgAAICOXBkAAAAAAAADwPwAAAAAAAPA/AAAAAAAA8D8AAAAAAADwPwAAAAAAAPA/AAAAAAAA8D8AAAAAAADwPwAAAAAAAPA/BgAAICOXBkAAAAAAAADwPwAAAAAAAPA/AAAAAAAA8D8AAAAAAADwPwAAAAAAAPA/AAAAAAAA8D8AAAAAAADwPwAAAAAAAPA/AAAAAAAA8D8AAAAAAADwPwAAAAAAAPA/AAAAAAAA8D8AAAAAAADwPwAAAAAAAPA/BgAAICOXBkAAAAAAAADwPwAAAAAAAPA/AAAAAAAA8D8AAAAAAADwPwAAAAAAAPA/AAAAAAAA8D8GAAAgI5cGQAAAAAAAAPA/AAAAAAAA8D8AAAAAAADwPwAAAAAAAPA/AAAAAAAA8D8AAAAAAADwPwAAAAAAAPA/AAAAAAAA8D8AAAAAAADwPwAAAAAAAPA/AAAAAAAA8D8AAAAAAADwPwAAAAAAAPA/AAAAAAAA8D8AAAAAAADwPwYAACAjlwZAAAAAAAAA8D8AAAAAAADwPwAAAAAAAPA/AAAAAAAA8D8AAAAAAADwPwAAAAAAAPA/AAAAAAAA8D8AAAAAAADwPwAAAAAAAPA/AAAAAAAA8D8AAAAAAADwPwAAAAAAAPA/AAAAAAAA8D8AAAAAAADwPwAAAAAAAPA/AAAAAAAA8D8AAAAAAADwPwAAAAAAAPA/AAAAAAAA8D8GAAAgI5cGQAAAAAAAAPA/AAAAAAAA8D8AAAAAAADwPwAAAAAAAPA/AAAAAAAA8D8AAAAAAADwPwAAAAAAAPA/AAAAAAAA8D8GAAAgI5cGQAYAACAjlwZAAAAAAAAA8D8AAAAAAADwPwAAAAAAAPA/AAAAAAAA8D8AAAAAAADwPwAAAAAAAPA/AAAAAAAA8D8AAAAAAADwPwAAAAAAAPA/AAAAAAAA8D8AAAAAAADwPwAAAAAAAPA/AAAAAAAA8D8AAAAAAADwPwAAAAAAAPA/AAAAAAAA8D8AAAAAAADwPwYAACAjlwZAAAAAAAAA8D8AAAAAAADwPwAAAAAAAPA/AAAAAAAA8D8AAAAAAADwPwAAAAAAAPA/AAAAAAAA8D8AAAAAAADwPwAAAAAAAPA/AAAAAAAA8D8AAAAAAADwPwAAAAAAAPA/AAAAAAAA8D8AAAAAAADwPwAAAAAAAPA/AAAAAAAA8D8AAAAAAADwPwAAAAAAAPA/BgAAICOXBkAAAAAAAADwPwAAAAAAAPA/AAAAAAAA8D8AAAAAAADwPwAAAAAAAPA/BgAAICOXBkAAAAAAAADwPwAAAAAAAPA/AAAAAAAA8D8AAAAAAADwPwAAAAAAAPA/AAAAAAAA8D8AAAAAAADwPwYAACAjlwZAAAAAAAAA8D8GAAAgI5cGQAAAAAAAAPA/AAAAAAAA8D8AAAAAAADwPwAAAAAAAPA/AAAAAAAA8D8AAAAAAADwPwAAAAAAAPA/AAAAAAAA8D8AAAAAAADwPwAAAAAAAPA/AAAAAAAA8D8AAAAAAADwPwAAAAAAAPA/AAAAAAAA8D8AAAAAAADwPwAAAAAAAPA/AAAAAAAA8D8GAAAgI5cGQAAAAAAAAPA/AAAAAAAA8D8AAAAAAADwPwAAAAAAAPA/AAAAAAAA8D8AAAAAAADwPwAAAAAAAPA/AAAAAAAA8D8AAAAAAADwPwAAAAAAAPA/AAAAAAAA8D8GAAAgI5cGQAAAAAAAAPA/AAAAAAAA8D8AAAAAAADwPwAAAAAAAPA/AAAAAAAA8D8AAAAAAADwPwAAAAAAAPA/AAAAAAAA8D8AAAAAAADwPwAAAAAAAPA/AAAAAAAA8D8GAAAgI5cGQAAAAAAAAPA/AAAAAAAA8D8AAAAAAADwPwAAAAAAAPA/AAAAAAAA8D8AAAAAAADwPwAAAAAAAPA/AAAAAAAA8D8AAAAAAADwPwAAAAAAAPA/AAAAAAAA8D8AAAAAAADwPwAAAAAAAPA/AAAAAAAA8D8AAAAAAADwPwAAAAAAAPA/AAAAAAAA8D8AAAAAAADwPwAAAAAAAPA/AAAAAAAA8D8GAAAgI5cGQAAAAAAAAPA/AAAAAAAA8D8GAAAgI5cGQAAAAAAAAPA/AAAAAAAA8D8AAAAAAADwPwAAAAAAAPA/BgAAICOXBkAAAAAAAADwPwAAAAAAAPA/BgAAICOXBkAAAAAAAADwPwAAAAAAAPA/AAAAAAAA8D8AAAAAAADwPwAAAAAAAPA/AAAAAAAA8D8AAAAAAADwPwAAAAAAAPA/BgAAICOXBkAAAAAAAADwPwAAAAAAAPA/AAAAAAAA8D8AAAAAAADwPwAAAAAAAPA/AAAAAAAA8D8AAAAAAADwPwAAAAAAAPA/AAAAAAAA8D8AAAAAAADwPwAAAAAAAPA/BgAAICOXBkAAAAAAAADwPwAAAAAAAPA/AAAAAAAA8D8AAAAAAADwPwAAAAAAAPA/AAAAAAAA8D8AAAAAAADwPwAAAAAAAPA/AAAAAAAA8D8AAAAAAADwPwAAAAAAAPA/AAAAAAAA8D8AAAAAAADwPwYAACAjlwZABgAAICOXBkAAAAAAAADwPwAAAAAAAPA/AAAAAAAA8D8AAAAAAADwPwAAAAAAAPA/AAAAAAAA8D8AAAAAAADwPwAAAAAAAPA/AAAAAAAA8D8AAAAAAADwPwAAAAAAAPA/AAAAAAAA8D8AAAAAAADwPwAAAAAAAPA/7f//35ev8T8AAAAAAADwPwAAAAAAAPA/AAAAAAAA8D8AAAAAAADwPwAAAAAAAPA/AAAAAAAA8D8AAAAAAADwPwYAACAjlwZAAAAAAAAA8D8AAAAAAADwPwAAAAAAAPA/AAAAAAAA8D8AAAAAAADwPwAAAAAAAPA/AAAAAAAA8D8GAAAgI5cGQAAAAAAAAPA/BgAAICOXBkAAAAAAAADwPwAAAAAAAPA/AAAAAAAA8D8AAAAAAADwPwAAAAAAAPA/AAAAAAAA8D8AAAAAAADwPwAAAAAAAPA/AAAAAAAA8D8AAAAAAADwPwAAAAAAAPA/BgAAICOXBkAAAAAAAADwPwYAACAjlwZAAAAAAAAA8D8AAAAAAADwPwAAAAAAAPA/AAAAAAAA8D8GAAAgI5cGQAAAAAAAAPA/AAAAAAAA8D8AAAAAAADwPwAAAAAAAPA/AAAAAAAA8D8AAAAAAADwPwAAAAAAAPA/AAAAAAAA8D8AAAAAAADwPwAAAAAAAPA/AAAAAAAA8D8AAAAAAADwPwAAAAAAAPA/BgAAICOXBkAGAAAgI5cGQAYAACAjlwZAAAAAAAAA8D8AAAAAAADwPwAAAAAAAPA/BgAAICOXBkAAAAAAAADwPwAAAAAAAPA/AAAAAAAA8D8AAAAAAADwPwAAAAAAAPA/AAAAAAAA8D8GAAAgI5cGQAAAAAAAAPA/AAAAAAAA8D8AAAAAAADwPwAAAAAAAPA/AAAAAAAA8D8GAAAgI5cGQAAAAAAAAPA/AAAAAAAA8D8AAAAAAADwPwAAAAAAAPA/AAAAAAAA8D8AAAAAAADwPwAAAAAAAPA/AAAAAAAA8D8AAAAAAADwPwAAAAAAAPA/AAAAAAAA8D8GAAAgI5cGQAAAAAAAAPA/AAAAAAAA8D8AAAAAAADwPwAAAAAAAPA/AAAAAAAA8D8AAAAAAADwPwAAAAAAAPA/AAAAAAAA8D8AAAAAAADwPwAAAAAAAPA/AAAAAAAA8D8AAAAAAADwPwYAACAjlwZAAAAAAAAA8D8AAAAAAADwPwAAAAAAAPA/AAAAAAAA8D8AAAAAAADwPwAAAAAAAPA/AAAAAAAA8D8AAAAAAADwPwAAAAAAAPA/AAAAAAAA8D8AAAAAAADwPwAAAAAAAPA/AAAAAAAA8D8AAAAAAADwPwAAAAAAAPA/AAAAAAAA8D8AAAAAAADwPwAAAAAAAPA/BgAAICOXBkAAAAAAAADwPwAAAAAAAPA/AAAAAAAA8D8AAAAAAADwPwAAAAAAAPA/AAAAAAAA8D8AAAAAAADwPwAAAAAAAPA/AAAAAAAA8D8GAAAgI5cGQAAAAAAAAPA/AAAAAAAA8D8AAAAAAADwPwAAAAAAAPA/AAAAAAAA8D8AAAAAAADwPwAAAAAAAPA/AAAAAAAA8D8AAAAAAADwPwAAAAAAAPA/AAAAAAAA8D8AAAAAAADwPwAAAAAAAPA/AAAAAAAA8D8AAAAAAADwPwAAAAAAAPA/AAAAAAAA8D8AAAAAAADwPwAAAAAAAPA/AAAAAAAA8D8AAAAAAADwPwAAAAAAAPA/AAAAAAAA8D8AAAAAAADwPwAAAAAAAPA/AAAAAAAA8D8AAAAAAADwPwAAAAAAAPA/AAAAAAAA8D8GAAAgI5cGQAAAAAAAAPA/AAAAAAAA8D8AAAAAAADwPwAAAAAAAPA/AAAAAAAA8D8AAAAAAADwPwAAAAAAAPA/AAAAAAAA8D8AAAAAAADwPwAAAAAAAPA/AAAAAAAA8D8AAAAAAADwPwAAAAAAAPA/AAAAAAAA8D8AAAAAAADwPwAAAAAAAPA/AAAAAAAA8D8AAAAAAADwPwAAAAAAAPA/AAAAAAAA8D8AAAAAAADwPwYAACAjlwZAAAAAAAAA8D8GAAAgI5cGQAAAAAAAAPA/AAAAAAAA8D8AAAAAAADwPwAAAAAAAPA/AAAAAAAA8D8AAAAAAADwPwAAAAAAAPA/AAAAAAAA8D8AAAAAAADwPwAAAAAAAPA/AAAAAAAA8D8AAAAAAADwPwYAACAjlwZAAAAAAAAA8D8AAAAAAADwPwAAAAAAAPA/AAAAAAAA8D8AAAAAAADwPwAAAAAAAPA/AAAAAAAA8D8AAAAAAADwPwAAAAAAAPA/AAAAAAAA8D8AAAAAAADwPwAAAAAAAPA/AAAAAAAA8D8GAAAgI5cGQAAAAAAAAPA/AAAAAAAA8D8GAAAgI5cGQAAAAAAAAPA/AAAAAAAA8D8AAAAAAADwPwAAAAAAAPA/AAAAAAAA8D8AAAAAAADwPwAAAAAAAPA/AAAAAAAA8D8AAAAAAADwPwAAAAAAAPA/AAAAAAAA8D8AAAAAAADwPwAAAAAAAPA/AAAAAAAA8D8AAAAAAADwPwAAAAAAAPA/AAAAAAAA8D/t///fl6/xPwAAAAAAAPA/AAAAAAAA8D8AAAAAAADwPwAAAAAAAPA/AAAAAAAA8D8AAAAAAADwPwAAAAAAAPA/AAAAAAAA8D8AAAAAAADwPwAAAAAAAPA/AAAAAAAA8D8AAAAAAADwPwAAAAAAAPA/AAAAAAAA8D8AAAAAAADwPwAAAAAAAPA/AAAAAAAA8D8AAAAAAADwPwAAAAAAAPA/AAAAAAAA8D8GAAAgI5cGQAAAAAAAAPA/AAAAAAAA8D8AAAAAAADwPwAAAAAAAPA/AAAAAAAA8D8AAAAAAADwPwAAAAAAAPA/AAAAAAAA8D8AAAAAAADwPwAAAAAAAPA/AAAAAAAA8D/4///fgPgIQAAAAAAAAPA/AAAAAAAA8D8GAAAgI5cGQAAAAAAAAPA/AAAAAAAA8D8AAAAAAADwPwAAAAAAAPA/BgAAICOXBkAAAAAAAADwPwYAACAjlwZAAAAAAAAA8D8AAAAAAADwPwAAAAAAAPA/AAAAAAAA8D8AAAAAAADwPwAAAAAAAPA/BgAAICOXBkAGAAAgI5cGQAAAAAAAAPA/BgAAICOXBkAAAAAAAADwPwAAAAAAAPA/7f//35ev8T8AAAAAAADwPwAAAAAAAPA/AAAAAAAA8D8AAAAAAADwPwAAAAAAAPA/AAAAAAAA8D8AAAAAAADwPwAAAAAAAPA/AAAAAAAA8D8AAAAAAADwPwYAACAjlwZAAAAAAAAA8D8AAAAAAADwPwAAAAAAAPA/AAAAAAAA8D8AAAAAAADwPwAAAAAAAPA/AAAAAAAA8D8GAAAgI5cGQAAAAAAAAPA/AAAAAAAA8D8AAAAAAADwPwAAAAAAAPA/AAAAAAAA8D8AAAAAAADwPwAAAAAAAPA/AAAAAAAA8D8AAAAAAADwPwAAAAAAAPA/BgAAICOXBkAAAAAAAADwPwAAAAAAAPA/AAAAAAAA8D8AAAAAAADwPwAAAAAAAPA/AAAAAAAA8D8AAAAAAADwPwAAAAAAAPA/AAAAAAAA8D8AAAAAAADwPwAAAAAAAPA/AAAAAAAA8D8AAAAAAADwPwAAAAAAAPA/AAAAAAAA8D8AAAAAAADwPwAAAAAAAPA/AAAAAAAA8D8AAAAAAADwPwAAAAAAAPA/AAAAAAAA8D8AAAAAAADwPwAAAAAAAPA/AAAAAAAA8D8AAAAAAADwPwAAAAAAAPA/AAAAAAAA8D8AAAAAAADwPwAAAAAAAPA/AAAAAAAA8D8AAAAAAADwPwAAAAAAAPA/AAAAAAAA8D8AAAAAAADwPwAAAAAAAPA/BgAAICOXBkAAAAAAAADwPwAAAAAAAPA/AAAAAAAA8D8AAAAAAADwPwAAAAAAAPA/AAAAAAAA8D8AAAAAAADwPwYAACAjlwZABgAAICOXBkAAAAAAAADwPwAAAAAAAPA/AAAAAAAA8D8AAAAAAADwPwAAAAAAAPA/AAAAAAAA8D8AAAAAAADwPwAAAAAAAPA/BgAAICOXBkAAAAAAAADwPwAAAAAAAPA/BgAAICOXBkAAAAAAAADwPwAAAAAAAPA/AAAAAAAA8D8AAAAAAADwPwAAAAAAAPA/AAAAAAAA8D8AAAAAAADwPwAAAAAAAPA/AAAAAAAA8D8AAAAAAADwPwAAAAAAAPA/AAAAAAAA8D8AAAAAAADwPwYAACAjlwZAAAAAAAAA8D8AAAAAAADwPwAAAAAAAPA/BgAAICOXBkAAAAAAAADwPwAAAAAAAPA/BgAAICOXBkAAAAAAAADwPwAAAAAAAPA/AAAAAAAA8D8AAAAAAADwPwAAAAAAAPA/BgAAICOXBkAAAAAAAADwPwAAAAAAAPA/BgAAICOXBkAAAAAAAADwPwAAAAAAAPA/AAAAAAAA8D8AAAAAAADwPwAAAAAAAPA/AAAAAAAA8D8AAAAAAADwPwAAAAAAAPA/AAAAAAAA8D8AAAAAAADwPwAAAAAAAPA/BgAAICOXBkAGAAAgI5cGQAAAAAAAAPA/AAAAAAAA8D8AAAAAAADwPwAAAAAAAPA/AAAAAAAA8D8AAAAAAADwPwAAAAAAAPA/AAAAAAAA8D8AAAAAAADwP+3//9+Xr/E/AAAAAAAA8D8GAAAgI5cGQAAAAAAAAPA/AAAAAAAA8D8AAAAAAADwPwAAAAAAAPA/AAAAAAAA8D8AAAAAAADwPwYAACAjlwZAAAAAAAAA8D8AAAAAAADwPwAAAAAAAPA/AAAAAAAA8D8AAAAAAADwPwAAAAAAAPA/AAAAAAAA8D8AAAAAAADwPwAAAAAAAPA/BgAAICOXBkAAAAAAAADwPwAAAAAAAPA/AAAAAAAA8D8AAAAAAADwP/j//9+A+AhAAAAAAAAA8D8AAAAAAADwPwAAAAAAAPA/AAAAAAAA8D8AAAAAAADwPwAAAAAAAPA/AAAAAAAA8D8AAAAAAADwPwAAAAAAAPA/AAAAAAAA8D8AAAAAAADwPwAAAAAAAPA/+P//34D4CEAAAAAAAADwPwAAAAAAAPA/CAAAALQhB0AAAAAAAADwPwAAAAAAAPA/BgAAICOXBkAGAAAgI5cGQAAAAAAAAPA/BgAAICOXBkAAAAAAAADwPwAAAAAAAPA/AAAAAAAA8D8GAAAgI5cGQAAAAAAAAPA/AAAAAAAA8D8AAAAAAADwPwAAAAAAAPA/AAAAAAAA8D8AAAAAAADwPwAAAAAAAPA/AAAAAAAA8D8AAAAAAADwPwAAAAAAAPA/AAAAAAAA8D8AAAAAAADwPwAAAAAAAPA/AAAAAAAA8D8AAAAAAADwPwAAAAAAAPA/BgAAICOXBkAAAAAAAADwPwAAAAAAAPA/AAAAAAAA8D8AAAAAAADwPwAAAAAAAPA/AAAAAAAA8D8AAAAAAADwPwAAAAAAAPA/AAAAAAAA8D8AAAAAAADwPwYAACAjlwZAAAAAAAAA8D8GAAAgI5cGQAYAACAjlwZAAAAAAAAA8D8AAAAAAADwPwAAAAAAAPA/AAAAAAAA8D8GAAAgI5cGQAYAACAjlwZAAAAAAAAA8D8AAAAAAADwPwAAAAAAAPA/AAAAAAAA8D8AAAAAAADwPwAAAAAAAPA/AAAAAAAA8D8GAAAgI5cGQAAAAAAAAPA/BgAAICOXBkAAAAAAAADwPwAAAAAAAPA/AAAAAAAA8D8AAAAAAADwPwAAAAAAAPA/AwAAIE6+C0AAAAAAAADwPwAAAAAAAPA/AAAAAAAA8D8AAAAAAADwPwAAAAAAAPA/AAAAAAAA8D8GAAAgI5cGQAAAAAAAAPA/AAAAAAAA8D8AAAAAAADwPwAAAAAAAPA/AAAAAAAA8D8AAAAAAADwPwAAAAAAAPA/AAAAAAAA8D8AAAAAAADwPwAAAAAAAPA/AAAAAAAA8D8GAAAgI5cGQAYAACAjlwZAAAAAAAAA8D8AAAAAAADwPwAAAAAAAPA/AAAAAAAA8D8AAAAAAADwPwAAAAAAAPA/CAAAALQhB0AAAAAAAADwPwAAAAAAAPA/AAAAAAAA8D8AAAAAAADwPwYAACAjlwZAAAAAAAAA8D8AAAAAAADwPwAAAAAAAPA/AAAAAAAA8D8AAAAAAADwPwAAAAAAAPA/AAAAAAAA8D8AAAAAAADwPwAAAAAAAPA/AAAAAAAA8D8AAAAAAADwPwAAAAAAAPA/BgAAICOXBkAGAAAgI5cGQAAAAAAAAPA/AAAAAAAA8D8AAAAAAADwPwYAACAjlwZAAAAAAAAA8D8AAAAAAADwPwAAAAAAAPA/AAAAAAAA8D8AAAAAAADwPwAAAAAAAPA/AAAAAAAA8D8AAAAAAADwPwAAAAAAAPA/AAAAAAAA8D8AAAAAAADwPwYAACAjlwZAAAAAAAAA8D8AAAAAAADwPwYAACAjlwZAAAAAAAAA8D8AAAAAAADwPwYAACAjlwZAAAAAAAAA8D8AAAAAAADwPwAAAAAAAPA/AAAAAAAA8D8AAAAAAADwPwAAAAAAAPA/AAAAAAAA8D8AAAAAAADwPwAAAAAAAPA/AAAAAAAA8D8AAAAAAADwPwAAAAAAAPA/AAAAAAAA8D8AAAAAAADwPwAAAAAAAPA/AAAAAAAA8D8AAAAAAADwPwAAAAAAAPA/AAAAAAAA8D8AAAAAAADwPwAAAAAAAPA/BgAAICOXBkAAAAAAAADwPwAAAAAAAPA/AAAAAAAA8D8AAAAAAADwPwAAAAAAAPA/AAAAAAAA8D8AAAAAAADwPwAAAAAAAPA/AAAAAAAA8D8AAAAAAADwPwAAAAAAAPA/AAAAAAAA8D8AAAAAAADwPwAAAAAAAPA/AAAAAAAA8D8AAAAAAADwPwAAAAAAAPA/AAAAAAAA8D8AAAAAAADwPwAAAAAAAPA/BgAAICOXBkAAAAAAAADwPwAAAAAAAPA/BgAAICOXBkAAAAAAAADwPwAAAAAAAPA/AAAAAAAA8D8GAAAgI5cGQAAAAAAAAPA/AAAAAAAA8D8AAAAAAADwPwAAAAAAAPA/AAAAAAAA8D8AAAAAAADwPwAAAAAAAPA/AAAAAAAA8D8AAAAAAADwPwAAAAAAAPA/AwAAIE6+C0AAAAAAAADwPwYAACAjlwZAAAAAAAAA8D8GAAAgI5cGQAYAACAjlwZAAAAAAAAA8D8AAAAAAADwPwAAAAAAAPA/AAAAAAAA8D8GAAAgI5cGQAAAAAAAAPA/AAAAAAAA8D8AAAAAAADwPwAAAAAAAPA/AAAAAAAA8D8AAAAAAADwPwAAAAAAAPA/BgAAICOXBkAGAAAgI5cGQAAAAAAAAPA/AAAAAAAA8D8AAAAAAADwPwAAAAAAAPA/BgAAICOXBkAAAAAAAADwPwAAAAAAAPA/AAAAAAAA8D8AAAAAAADwPwAAAAAAAPA/AAAAAAAA8D8AAAAAAADwPwAAAAAAAPA/AAAAAAAA8D8AAAAAAADwPwAAAAAAAPA/AAAAAAAA8D8AAAAAAADwPwAAAAAAAPA/AAAAAAAA8D8AAAAAAADwPwAAAAAAAPA/AAAAAAAA8D8AAAAAAADwPwAAAAAAAPA/AAAAAAAA8D8AAAAAAADwPwAAAAAAAPA/AAAAAAAA8D8AAAAAAADwPwAAAAAAAPA/AAAAAAAA8D8GAAAgI5cGQAAAAAAAAPA/AAAAAAAA8D8AAAAAAADwPwAAAAAAAPA/AAAAAAAA8D8AAAAAAADwPwYAACAjlwZAAAAAAAAA8D8AAAAAAADwPwAAAAAAAPA/AAAAAAAA8D8AAAAAAADwPwAAAAAAAPA/BgAAICOXBkAAAAAAAADwPwAAAAAAAPA/AAAAAAAA8D8AAAAAAADwPwAAAAAAAPA/AAAAAAAA8D8GAAAgI5cGQAAAAAAAAPA/AAAAAAAA8D8AAAAAAADwPwAAAAAAAPA/AAAAAAAA8D8GAAAgI5cGQAAAAAAAAPA/BgAAICOXBkAAAAAAAADwPwAAAAAAAPA/BgAAICOXBkAAAAAAAADwPwAAAAAAAPA/BgAAICOXBkAAAAAAAADwPwAAAAAAAPA/AAAAAAAA8D8GAAAgI5cGQAAAAAAAAPA/AAAAAAAA8D8AAAAAAADwPwAAAAAAAPA/AAAAAAAA8D8AAAAAAADwPwAAAAAAAPA/AAAAAAAA8D8AAAAAAADwPwAAAAAAAPA/AAAAAAAA8D8AAAAAAADwPwAAAAAAAPA/AAAAAAAA8D8AAAAAAADwPwAAAAAAAPA/AAAAAAAA8D8AAAAAAADwPwAAAAAAAPA/AAAAAAAA8D/4///fgPgIQAAAAAAAAPA/BgAAICOXBkAAAAAAAADwPwAAAAAAAPA/AAAAAAAA8D8AAAAAAADwPwAAAAAAAPA/AAAAAAAA8D8AAAAAAADwPwAAAAAAAPA/7f//35ev8T8AAAAAAADwPwAAAAAAAPA/BgAAICOXBkAGAAAgI5cGQAAAAAAAAPA/AAAAAAAA8D8AAAAAAADwPwAAAAAAAPA/AAAAAAAA8D8AAAAAAADwPwAAAAAAAPA/AAAAAAAA8D8AAAAAAADwPwAAAAAAAPA/AAAAAAAA8D8AAAAAAADwPwAAAAAAAPA/AAAAAAAA8D8AAAAAAADwPwAAAAAAAPA/AAAAAAAA8D8AAAAAAADwPwAAAAAAAPA/AAAAAAAA8D8AAAAAAADwPwYAACAjlwZAAAAAAAAA8D8AAAAAAADwPwAAAAAAAPA/AAAAAAAA8D8GAAAgI5cGQAYAACAjlwZAAAAAAAAA8D8AAAAAAADwPwAAAAAAAPA/AAAAAAAA8D8AAAAAAADwPwAAAAAAAPA/AAAAAAAA8D8AAAAAAADwPwYAACAjlwZABgAAICOXBkAAAAAAAADwPwAAAAAAAPA/AAAAAAAA8D8AAAAAAADwPwAAAAAAAPA/AAAAAAAA8D8AAAAAAADwPwAAAAAAAPA/AAAAAAAA8D8AAAAAAADwPwAAAAAAAPA/AAAAAAAA8D8AAAAAAADwPwAAAAAAAPA/AAAAAAAA8D8AAAAAAADwPwAAAAAAAPA/AAAAAAAA8D8AAAAAAADwPwYAACAjlwZAAAAAAAAA8D8AAAAAAADwPwAAAAAAAPA/AAAAAAAA8D8AAAAAAADwPwAAAAAAAPA/AAAAAAAA8D8AAAAAAADwPwAAAAAAAPA/AAAAAAAA8D8AAAAAAADwPwAAAAAAAPA/AAAAAAAA8D8AAAAAAADwPwAAAAAAAPA/AAAAAAAA8D8AAAAAAADwPwAAAAAAAPA/BgAAICOXBkAAAAAAAADwPwYAACAjlwZAAAAAAAAA8D8GAAAgI5cGQAAAAAAAAPA/AAAAAAAA8D8AAAAAAADwPwAAAAAAAPA/BgAAICOXBkAAAAAAAADwPwAAAAAAAPA/AAAAAAAA8D8AAAAAAADwPwAAAAAAAPA/AAAAAAAA8D8AAAAAAADwPwAAAAAAAPA/AAAAAAAA8D8AAAAAAADwPwAAAAAAAPA/AAAAAAAA8D8AAAAAAADwPwAAAAAAAPA/AAAAAAAA8D8AAAAAAADwPwAAAAAAAPA/AAAAAAAA8D8AAAAAAADwPwAAAAAAAPA/AAAAAAAA8D8GAAAgI5cGQAAAAAAAAPA/AAAAAAAA8D8AAAAAAADwPwAAAAAAAPA/AAAAAAAA8D8AAAAAAADwPwAAAAAAAPA/AAAAAAAA8D8AAAAAAADwPwAAAAAAAPA/AAAAAAAA8D8AAAAAAADwPwAAAAAAAPA/AAAAAAAA8D8GAAAgI5cGQAYAACAjlwZAAAAAAAAA8D8AAAAAAADwPwYAACAjlwZAAAAAAAAA8D8GAAAgI5cGQAAAAAAAAPA/AAAAAAAA8D8AAAAAAADwPwAAAAAAAPA/AAAAAAAA8D8AAAAAAADwPwAAAAAAAPA/AAAAAAAA8D8AAAAAAADwPwAAAAAAAPA/AAAAAAAA8D8AAAAAAADwPwAAAAAAAPA/AAAAAAAA8D8GAAAgI5cGQAYAACAjlwZAAAAAAAAA8D8GAAAgI5cGQAAAAAAAAPA/AAAAAAAA8D8GAAAgI5cGQAAAAAAAAPA/AAAAAAAA8D8AAAAAAADwPwAAAAAAAPA/AAAAAAAA8D8AAAAAAADwPwYAACAjlwZAAAAAAAAA8D8AAAAAAADwPwAAAAAAAPA/AAAAAAAA8D8AAAAAAADwPwAAAAAAAPA/AAAAAAAA8D8AAAAAAADwPwAAAAAAAPA/AAAAAAAA8D8AAAAAAADwPwAAAAAAAPA/AAAAAAAA8D8AAAAAAADwPwAAAAAAAPA/AAAAAAAA8D8AAAAAAADwPwAAAAAAAPA/AAAAAAAA8D8GAAAgI5cGQAAAAAAAAPA/AAAAAAAA8D8AAAAAAADwPwAAAAAAAPA/AAAAAAAA8D8AAAAAAADwP/j//9+A+AhAAAAAAAAA8D8AAAAAAADwPwAAAAAAAPA/AAAAAAAA8D8AAAAAAADwPwAAAAAAAPA/AAAAAAAA8D8AAAAAAADwPwAAAAAAAPA/AAAAAAAA8D8GAAAgI5cGQAAAAAAAAPA/AAAAAAAA8D8AAAAAAADwPwYAACAjlwZAAAAAAAAA8D8GAAAgI5cGQAAAAAAAAPA/AAAAAAAA8D8AAAAAAADwPwAAAAAAAPA/AAAAAAAA8D8GAAAgI5cGQAAAAAAAAPA/AAAAAAAA8D8AAAAAAADwPwAAAAAAAPA/AAAAAAAA8D8AAAAAAADwPwAAAAAAAPA/AAAAAAAA8D8AAAAAAADwPwYAACAjlwZABgAAICOXBkAAAAAAAADwPwAAAAAAAPA/AAAAAAAA8D8AAAAAAADwPwAAAAAAAPA/AAAAAAAA8D8AAAAAAADwPwAAAAAAAPA/AAAAAAAA8D8GAACAq5EJQAAAAAAAAPA/AAAAAAAA8D8AAAAAAADwPwYAACAjlwZAAAAAAAAA8D8AAAAAAADwPwAAAAAAAPA/AAAAAAAA8D8AAAAAAADwPwYAACAjlwZABgAAICOXBkAAAAAAAADwPwAAAAAAAPA/AAAAAAAA8D/4///fgPgIQAAAAAAAAPA/AAAAAAAA8D8AAAAAAADwPwAAAAAAAPA/AAAAAAAA8D8AAAAAAADwPwAAAAAAAPA/AAAAAAAA8D8AAAAAAADwPwAAAAAAAPA/AAAAAAAA8D8AAAAAAADwPwAAAAAAAPA/AAAAAAAA8D/4///fgPgIQAAAAAAAAPA/AAAAAAAA8D8AAAAAAADwPwAAAAAAAPA/AAAAAAAA8D8AAAAAAADwPwAAAAAAAPA/AAAAAAAA8D8AAAAAAADwPwAAAAAAAPA/AAAAAAAA8D8AAAAAAADwPwAAAAAAAPA/AAAAAAAA8D8AAAAAAADwPwAAAAAAAPA/AAAAAAAA8D8AAAAAAADwPwAAAAAAAPA/AAAAAAAA8D8AAAAAAADwPwAAAAAAAPA/AAAAAAAA8D8GAAAgI5cGQAAAAAAAAPA/AAAAAAAA8D8AAAAAAADwPwAAAAAAAPA/AAAAAAAA8D8AAAAAAADwPwAAAAAAAPA/AAAAAAAA8D8AAAAAAADwPwAAAAAAAPA/AAAAAAAA8D8AAAAAAADwPwAAAAAAAPA/AAAAAAAA8D8AAAAAAADwPwAAAAAAAPA/AAAAAAAA8D8AAAAAAADwPwAAAAAAAPA/AAAAAAAA8D8AAAAAAADwPwAAAAAAAPA/BgAAICOXBkAAAAAAAADwPwAAAAAAAPA/AAAAAAAA8D8AAAAAAADwPwYAACAjlwZAAAAAAAAA8D8AAAAAAADwPwYAACAjlwZAAAAAAAAA8D8AAAAAAADwPwAAAAAAAPA/AAAAAAAA8D8AAAAAAADwPwAAAAAAAPA/BgAAICOXBkAAAAAAAADwPwAAAAAAAPA/AAAAAAAA8D8AAAAAAADwPwAAAAAAAPA/AAAAAAAA8D8AAAAAAADwPwAAAAAAAPA/AAAAAAAA8D8AAAAAAADwPwAAAAAAAPA/AAAAAAAA8D8AAAAAAADwPwAAAAAAAPA/AAAAAAAA8D8AAAAAAADwPwYAACAjlwZABgAAICOXBkAGAAAgI5cGQAAAAAAAAPA/AAAAAAAA8D8GAAAgI5cGQAAAAAAAAPA/AAAAAAAA8D8AAAAAAADwPwAAAAAAAPA/BgAAICOXBkAAAAAAAADwPwAAAAAAAPA/AAAAAAAA8D8AAAAAAADwPwAAAAAAAPA/AAAAAAAA8D8AAAAAAADwPwYAACAjlwZAAAAAAAAA8D8AAAAAAADwPwAAAAAAAPA/AAAAAAAA8D8AAAAAAADwPwAAAAAAAPA/BgAAICOXBkAAAAAAAADwPwYAACAjlwZAAAAAAAAA8D8AAAAAAADwPwAAAAAAAPA/AAAAAAAA8D8AAAAAAADwPwAAAAAAAPA/BgAAICOXBkAAAAAAAADwPwAAAAAAAPA/AAAAAAAA8D8GAAAgI5cGQAAAAAAAAPA/AAAAAAAA8D8AAAAAAADwPwAAAAAAAPA/AAAAAAAA8D8AAAAAAADwPwAAAAAAAPA/AAAAAAAA8D8AAAAAAADwPwAAAAAAAPA/BgAAICOXBkAAAAAAAADwPwYAACAjlwZAAAAAAAAA8D8GAAAgI5cGQAAAAAAAAPA/AAAAAAAA8D8AAAAAAADwPwAAAAAAAPA/AAAAAAAA8D8AAAAAAADwPwAAAAAAAPA/AAAAAAAA8D8AAAAAAADwPwAAAAAAAPA/BgAAICOXBkAAAAAAAADwPwAAAAAAAPA/AAAAAAAA8D8AAAAAAADwPwYAACAjlwZAAAAAAAAA8D8AAAAAAADwPwAAAAAAAPA/BgAAICOXBkAAAAAAAADwPwAAAAAAAPA/AAAAAAAA8D8AAAAAAADwPwAAAAAAAPA/AAAAAAAA8D8AAAAAAADwPwAAAAAAAPA/AAAAAAAA8D/4///fgPgIQAAAAAAAAPA/AAAAAAAA8D8GAAAgI5cGQAAAAAAAAPA/AAAAAAAA8D8AAAAAAADwPwAAAAAAAPA/BgAAICOXBkAAAAAAAADwPwAAAAAAAPA/AAAAAAAA8D8AAAAAAADwPwAAAAAAAPA/AAAAAAAA8D8GAAAgI5cGQAAAAAAAAPA/AAAAAAAA8D8AAAAAAADwPwAAAAAAAPA/BgAAICOXBkAAAAAAAADwPwAAAAAAAPA/AAAAAAAA8D8AAAAAAADwPwAAAAAAAPA/AAAAAAAA8D8AAAAAAADwPwAAAAAAAPA/AAAAAAAA8D8GAAAgI5cGQAYAACAjlwZAAAAAAAAA8D8AAAAAAADwP/j//9+A+AhAAAAAAAAA8D8GAAAgI5cGQAAAAAAAAPA/AAAAAAAA8D8AAAAAAADwPwAAAAAAAPA/AAAAAAAA8D8AAAAAAADwPwAAAAAAAPA/AAAAAAAA8D8AAAAAAADwPwAAAAAAAPA/BgAAICOXBkAGAAAgI5cGQAAAAAAAAPA/AAAAAAAA8D8AAAAAAADwPwAAAAAAAPA/BgAAICOXBkD4///fgPgIQAAAAAAAAPA/AAAAAAAA8D8AAAAAAADwPwAAAAAAAPA/AAAAAAAA8D8AAAAAAADwPwYAACAjlwZAAAAAAAAA8D8AAAAAAADwPwAAAAAAAPA/AAAAAAAA8D8AAAAAAADwPwAAAAAAAPA/BgAAICOXBkAAAAAAAADwPwAAAAAAAPA/AAAAAAAA8D8AAAAAAADwPwAAAAAAAPA/BgAAICOXBkAGAAAgI5cGQAAAAAAAAPA/AAAAAAAA8D8AAAAAAADwPwAAAAAAAPA/AAAAAAAA8D8GAAAgI5cGQAAAAAAAAPA/AAAAAAAA8D8AAAAAAADwPwAAAAAAAPA/AAAAAAAA8D8AAAAAAADwPwAAAAAAAPA/BgAAICOXBkAAAAAAAADwPwAAAAAAAPA/AAAAAAAA8D8AAAAAAADwPwAAAAAAAPA/AAAAAAAA8D8AAAAAAADwPwAAAAAAAPA/AAAAAAAA8D8AAAAAAADwPwAAAAAAAPA/BgAAICOXBkAAAAAAAADwPwAAAAAAAPA/AAAAAAAA8D8DAAAgTr4LQAYAACAjlwZABgAAICOXBkAAAAAAAADwPwAAAAAAAPA/AAAAAAAA8D8AAAAAAADwPwAAAAAAAPA/AAAAAAAA8D8AAAAAAADwPwYAACAjlwZAAAAAAAAA8D8AAAAAAADwPwAAAAAAAPA/AAAAAAAA8D8AAAAAAADwPwAAAAAAAPA/AAAAAAAA8D8GAAAgI5cGQAAAAAAAAPA/AAAAAAAA8D8AAAAAAADwPwAAAAAAAPA/AAAAAAAA8D8AAAAAAADwPwAAAAAAAPA/AwAAIE6+C0AAAAAAAADwPwAAAAAAAPA/AAAAAAAA8D8GAAAgI5cGQAAAAAAAAPA/AAAAAAAA8D8AAAAAAADwPwAAAAAAAPA/AAAAAAAA8D8AAAAAAADwPwAAAAAAAPA/AAAAAAAA8D8AAAAAAADwPwAAAAAAAPA/AAAAAAAA8D8AAAAAAADwPwAAAAAAAPA/AAAAAAAA8D8AAAAAAADwPwAAAAAAAPA/BgAAICOXBkAAAAAAAADwPwAAAAAAAPA/AAAAAAAA8D8AAAAAAADwPwAAAAAAAPA/AAAAAAAA8D8AAAAAAADwPwAAAAAAAPA/AAAAAAAA8D8AAAAAAADwPwAAAAAAAPA/AAAAAAAA8D8AAAAAAADwPwAAAAAAAPA/AAAAAAAA8D8AAAAAAADwPwAAAAAAAPA/BgAAICOXBkAGAAAgI5cGQAAAAAAAAPA/AAAAAAAA8D8AAAAAAADwPwYAACAjlwZAAAAAAAAA8D8AAAAAAADwPwAAAAAAAPA/AAAAAAAA8D8GAAAgI5cGQAYAACAjlwZA/f//nzuFDUAAAAAAAADwPwAAAAAAAPA/AAAAAAAA8D8AAAAAAADwPwAAAAAAAPA/AAAAAAAA8D8AAAAAAADwPwAAAAAAAPA/AAAAAAAA8D8GAAAgI5cGQAAAAAAAAPA/AAAAAAAA8D8AAAAAAADwPwAAAAAAAPA/AAAAAAAA8D8AAAAAAADwPwAAAAAAAPA/AAAAAAAA8D8AAAAAAADwPwAAAAAAAPA/AAAAAAAA8D8AAAAAAADwPwAAAAAAAPA/AAAAAAAA8D8AAAAAAADwPwAAAAAAAPA/AAAAAAAA8D8AAAAAAADwPwAAAAAAAPA/AAAAAAAA8D8AAAAAAADwPwAAAAAAAPA/AAAAAAAA8D8GAAAgI5cGQAAAAAAAAPA/AAAAAAAA8D8AAAAAAADwPwAAAAAAAPA/AAAAAAAA8D8AAAAAAADwPwAAAAAAAPA/AAAAAAAA8D8GAAAgI5cGQAAAAAAAAPA/AAAAAAAA8D8AAAAAAADwPwAAAAAAAPA/BgAAICOXBkAAAAAAAADwPwAAAAAAAPA/AAAAAAAA8D8AAAAAAADwPwAAAAAAAPA/AAAAAAAA8D8AAAAAAADwPwAAAAAAAPA/AAAAAAAA8D8AAAAAAADwPwAAAAAAAPA/AAAAAAAA8D8AAAAAAADwPwAAAAAAAPA/AAAAAAAA8D8AAAAAAADwPwAAAAAAAPA/AAAAAAAA8D8AAAAAAADwPwAAAAAAAPA/AAAAAAAA8D8AAAAAAADwPwAAAAAAAPA/AAAAAAAA8D8AAAAAAADwPwAAAAAAAPA/AAAAAAAA8D8AAAAAAADwPwAAAAAAAPA/BgAAICOXBkAAAAAAAADwPwAAAAAAAPA/AAAAAAAA8D8AAAAAAADwPwAAAAAAAPA/AAAAAAAA8D8AAAAAAADwPwAAAAAAAPA/AAAAAAAA8D8AAAAAAADwPwAAAAAAAPA/AAAAAAAA8D8GAAAgI5cGQAAAAAAAAPA/AAAAAAAA8D8AAAAAAADwPwAAAAAAAPA/BgAAICOXBkAAAAAAAADwPwAAAAAAAPA/AAAAAAAA8D8AAAAAAADwPwAAAAAAAPA/AAAAAAAA8D8GAAAgI5cGQAAAAAAAAPA/AAAAAAAA8D8AAAAAAADwPwAAAAAAAPA/AAAAAAAA8D8AAAAAAADwPwAAAAAAAPA/BgAAICOXBkAAAAAAAADwPwAAAAAAAPA/AAAAAAAA8D8GAAAgI5cGQAYAACAjlwZAAAAAAAAA8D8AAAAAAADwPwAAAAAAAPA/AAAAAAAA8D8AAAAAAADwPwAAAAAAAPA/AAAAAAAA8D8AAAAAAADwPwAAAAAAAPA/BgAAICOXBkAGAAAgI5cGQAAAAAAAAPA/AAAAAAAA8D8AAAAAAADwPwAAAAAAAPA/AAAAAAAA8D8AAAAAAADwPwYAACAjlwZAAAAAAAAA8D8AAAAAAADwPwAAAAAAAPA/AAAAAAAA8D8AAAAAAADwPwAAAAAAAPA/AAAAAAAA8D8AAAAAAADwPwAAAAAAAPA/AAAAAAAA8D8AAAAAAADwPwAAAAAAAPA/AAAAAAAA8D8AAAAAAADwPwAAAAAAAPA/BgAAICOXBkAAAAAAAADwPwAAAAAAAPA/AAAAAAAA8D8AAAAAAADwPwAAAAAAAPA/AAAAAAAA8D8AAAAAAADwPwAAAAAAAPA/AAAAAAAA8D8AAAAAAADwPwAAAAAAAPA/BgAAICOXBkAAAAAAAADwPwAAAAAAAPA/AAAAAAAA8D8AAAAAAADwPwAAAAAAAPA/AAAAAAAA8D8AAAAAAADwPwAAAAAAAPA/AAAAAAAA8D8AAAAAAADwPwAAAAAAAPA/AAAAAAAA8D8AAAAAAADwP/j//9+A+AhABgAAICOXBkAAAAAAAADwPwAAAAAAAPA/AAAAAAAA8D8AAAAAAADwPwAAAAAAAPA/AAAAAAAA8D8AAAAAAADwPwAAAAAAAPA/AAAAAAAA8D8AAAAAAADwPwAAAAAAAPA/AAAAAAAA8D8AAAAAAADwPwAAAAAAAPA/AAAAAAAA8D8AAAAAAADwPwAAAAAAAPA/AAAAAAAA8D8AAAAAAADwPwAAAAAAAPA/AAAAAAAA8D8AAAAAAADwPwAAAAAAAPA/AAAAAAAA8D8AAAAAAADwPwAAAAAAAPA/AAAAAAAA8D8AAAAAAADwPwAAAAAAAPA/AAAAAAAA8D8AAAAAAADwPwAAAAAAAPA/AAAAAAAA8D8AAAAAAADwPwAAAAAAAPA/AAAAAAAA8D8AAAAAAADwPwAAAAAAAPA/AAAAAAAA8D8AAAAAAADwPwAAAAAAAPA/BgAAICOXBkAAAAAAAADwPwAAAAAAAPA/AAAAAAAA8D8AAAAAAADwPwAAAAAAAPA/AAAAAAAA8D8AAAAAAADwPwAAAAAAAPA/BgAAICOXBkAAAAAAAADwPwYAACAjlwZAAAAAAAAA8D8AAAAAAADwPwAAAAAAAPA/AAAAAAAA8D8AAAAAAADwPwAAAAAAAPA/BgAAICOXBkAAAAAAAADwPwYAACAjlwZAAAAAAAAA8D8GAAAgI5cGQAAAAAAAAPA/AAAAAAAA8D8AAAAAAADwPwAAAAAAAPA/AAAAAAAA8D8AAAAAAADwPwAAAAAAAPA/AAAAAAAA8D8AAAAAAADwPwAAAAAAAPA/AAAAAAAA8D8AAAAAAADwPwYAACAjlwZAAAAAAAAA8D8AAAAAAADwPwAAAAAAAPA/BgAAICOXBkAAAAAAAADwPwAAAAAAAPA/AAAAAAAA8D8AAAAAAADwPwAAAAAAAPA/AAAAAAAA8D8AAAAAAADwPwAAAAAAAPA/AAAAAAAA8D8AAAAAAADwPwAAAAAAAPA/AAAAAAAA8D8AAAAAAADwPwAAAAAAAPA/AAAAAAAA8D8GAAAgI5cGQAMAACBOvgtAAAAAAAAA8D8AAAAAAADwPwAAAAAAAPA/AAAAAAAA8D8AAAAAAADwPwAAAAAAAPA/AAAAAAAA8D8AAAAAAADwPwAAAAAAAPA/AAAAAAAA8D8AAAAAAADwPwAAAAAAAPA/AAAAAAAA8D8AAAAAAADwPwYAACAjlwZABgAAICOXBkAAAAAAAADwPwAAAAAAAPA/AAAAAAAA8D8AAAAAAADwPwAAAAAAAPA/AAAAAAAA8D8GAAAgI5cGQAAAAAAAAPA/AAAAAAAA8D8AAAAAAADwPwAAAAAAAPA/AAAAAAAA8D8AAAAAAADwPwAAAAAAAPA/AAAAAAAA8D/t///fl6/xPwAAAAAAAPA/AAAAAAAA8D8AAAAAAADwPwAAAAAAAPA/AAAAAAAA8D8AAAAAAADwPwAAAAAAAPA/AAAAAAAA8D8AAAAAAADwPwAAAAAAAPA/BgAAICOXBkAAAAAAAADwPwAAAAAAAPA/AAAAAAAA8D8GAAAgI5cGQAAAAAAAAPA/AAAAAAAA8D8AAAAAAADwPwAAAAAAAPA/AAAAAAAA8D8AAAAAAADwPwAAAAAAAPA/AAAAAAAA8D8AAAAAAADwPwAAAAAAAPA/BgAAICOXBkAAAAAAAADwPwAAAAAAAPA/BgAAICOXBkAAAAAAAADwPwAAAAAAAPA/BgAAICOXBkAGAAAgI5cGQAAAAAAAAPA/AAAAAAAA8D8AAAAAAADwPwYAACAjlwZAAAAAAAAA8D8AAAAAAADwPwYAACAjlwZABgAAICOXBkAAAAAAAADwPwAAAAAAAPA/AAAAAAAA8D8AAAAAAADwPwAAAAAAAPA/AAAAAAAA8D8AAAAAAADwPwAAAAAAAPA/BgAAICOXBkAAAAAAAADwPwAAAAAAAPA/AAAAAAAA8D8AAAAAAADwPwAAAAAAAPA/AAAAAAAA8D8AAAAAAADwPwAAAAAAAPA/AAAAAAAA8D8AAAAAAADwPwAAAAAAAPA/AAAAAAAA8D8AAAAAAADwPwAAAAAAAPA/AAAAAAAA8D8AAAAAAADwPwAAAAAAAPA/AAAAAAAA8D8AAAAAAADwPwAAAAAAAPA/AAAAAAAA8D8AAAAAAADwPwAAAAAAAPA/AAAAAAAA8D8AAAAAAADwPwAAAAAAAPA/AAAAAAAA8D8AAAAAAADwPwAAAAAAAPA/AAAAAAAA8D8AAAAAAADwPwAAAAAAAPA/AAAAAAAA8D8AAAAAAADwPwYAACAjlwZAAAAAAAAA8D8AAAAAAADwPwYAACAjlwZAAAAAAAAA8D8AAAAAAADwPwYAACAjlwZAAAAAAAAA8D8AAAAAAADwPwAAAAAAAPA/AAAAAAAA8D8AAAAAAADwPwAAAAAAAPA/AAAAAAAA8D8AAAAAAADwPwAAAAAAAPA/AAAAAAAA8D8AAAAAAADwPwAAAAAAAPA/AAAAAAAA8D8AAAAAAADwPwAAAAAAAPA/AAAAAAAA8D8AAAAAAADwPwAAAAAAAPA/BgAAICOXBkAAAAAAAADwPwAAAAAAAPA/AAAAAAAA8D8AAAAAAADwPwAAAAAAAPA/AAAAAAAA8D8AAAAAAADwPwAAAAAAAPA/AAAAAAAA8D8GAAAgI5cGQAAAAAAAAPA/AAAAAAAA8D8AAAAAAADwPwAAAAAAAPA/AAAAAAAA8D8AAAAAAADwPwAAAAAAAPA/BgAAICOXBkAGAAAgI5cGQAAAAAAAAPA/AAAAAAAA8D8AAAAAAADwPwAAAAAAAPA/AAAAAAAA8D8AAAAAAADwPwYAACAjlwZAAAAAAAAA8D8AAAAAAADwPwAAAAAAAPA/AAAAAAAA8D8AAAAAAADwPwAAAAAAAPA/AAAAAAAA8D8AAAAAAADwPwAAAAAAAPA/AAAAAAAA8D8AAAAAAADwPwAAAAAAAPA/AAAAAAAA8D8AAAAAAADwPwAAAAAAAPA/AAAAAAAA8D8AAAAAAADwPwAAAAAAAPA/BgAAICOXBkAAAAAAAADwPwAAAAAAAPA/AAAAAAAA8D8AAAAAAADwPwAAAAAAAPA/AAAAAAAA8D8GAAAgI5cGQAAAAAAAAPA/AAAAAAAA8D8AAAAAAADwPwAAAAAAAPA/AAAAAAAA8D8AAAAAAADwPwAAAAAAAPA/AAAAAAAA8D8AAAAAAADwPwAAAAAAAPA/AAAAAAAA8D8AAAAAAADwPwYAACAjlwZAAAAAAAAA8D8AAAAAAADwPwAAAAAAAPA/BgAAICOXBkAAAAAAAADwPwAAAAAAAPA/AAAAAAAA8D8AAAAAAADwPwYAACAjlwZAAAAAAAAA8D8AAAAAAADwPwAAAAAAAPA/AAAAAAAA8D8AAAAAAADwPwAAAAAAAPA/AAAAAAAA8D8AAAAAAADwPwAAAAAAAPA/AAAAAAAA8D8AAAAAAADwPwAAAAAAAPA/AAAAAAAA8D8AAAAAAADwPwAAAAAAAPA/AAAAAAAA8D8AAAAAAADwPwAAAAAAAPA/AAAAAAAA8D8AAAAAAADwPwAAAAAAAPA/BgAAICOXBkAAAAAAAADwPwAAAAAAAPA/AAAAAAAA8D8AAAAAAADwPwAAAAAAAPA/AAAAAAAA8D8AAAAAAADwPwAAAAAAAPA/BgAAICOXBkAAAAAAAADwPwAAAAAAAPA/AAAAAAAA8D8AAAAAAADwPwYAACAjlwZAAAAAAAAA8D8AAAAAAADwPwAAAAAAAPA/AAAAAAAA8D8AAAAAAADwPwAAAAAAAPA/AAAAAAAA8D8AAAAAAADwPwAAAAAAAPA/AAAAAAAA8D8AAAAAAADwPwAAAAAAAPA/AAAAAAAA8D8AAAAAAADwPwAAAAAAAPA/AAAAAAAA8D8AAAAAAADwPwAAAAAAAPA/BgAAICOXBkAAAAAAAADwPwAAAAAAAPA/AAAAAAAA8D8AAAAAAADwPwAAAAAAAPA/AAAAAAAA8D8AAAAAAADwPwAAAAAAAPA/AAAAAAAA8D8AAAAAAADwPwAAAAAAAPA/AAAAAAAA8D8AAAAAAADwPwAAAAAAAPA/AAAAAAAA8D8GAAAgI5cGQAAAAAAAAPA/AAAAAAAA8D8AAAAAAADwPwAAAAAAAPA/AAAAAAAA8D8AAAAAAADwPwAAAAAAAPA/AAAAAAAA8D8AAAAAAADwPwAAAAAAAPA/AAAAAAAA8D8AAAAAAADwPwAAAAAAAPA/AAAAAAAA8D8AAAAAAADwPwAAAAAAAPA/AAAAAAAA8D8AAAAAAADwPwAAAAAAAPA/AAAAAAAA8D8AAAAAAADwPwAAAAAAAPA/AAAAAAAA8D8AAAAAAADwPwAAAAAAAPA/AAAAAAAA8D8AAAAAAADwPwAAAAAAAPA/AAAAAAAA8D8AAAAAAADwPwAAAAAAAPA/AAAAAAAA8D8AAAAAAADwPwAAAAAAAPA/AAAAAAAA8D8AAAAAAADwPwAAAAAAAPA/BgAAICOXBkAAAAAAAADwPwAAAAAAAPA/AAAAAAAA8D8AAAAAAADwPwAAAAAAAPA/AAAAAAAA8D8AAAAAAADwPwAAAAAAAPA/AAAAAAAA8D8AAAAAAADwPwAAAAAAAPA/BgAAICOXBkAAAAAAAADwPwAAAAAAAPA/AAAAAAAA8D8AAAAAAADwPwYAACAjlwZAAAAAAAAA8D8AAAAAAADwPwAAAAAAAPA/BgAAICOXBkAAAAAAAADwPwAAAAAAAPA/AAAAAAAA8D8AAAAAAADwPwYAACAjlwZAAAAAAAAA8D8AAAAAAADwPwAAAAAAAPA/AAAAAAAA8D8AAAAAAADwPwYAACAjlwZAAAAAAAAA8D8AAAAAAADwPwAAAAAAAPA/AAAAAAAA8D8AAAAAAADwPwAAAAAAAPA/AAAAAAAA8D8AAAAAAADwPwAAAAAAAPA/AAAAAAAA8D8GAAAgI5cGQAAAAAAAAPA/AAAAAAAA8D8AAAAAAADwPwYAACAjlwZAAAAAAAAA8D8AAAAAAADwPwAAAAAAAPA/AAAAAAAA8D8AAAAAAADwPwYAACAjlwZABgAAICOXBkAAAAAAAADwP/r//x/sIQpABgAAICOXBkAAAAAAAADwPwAAAAAAAPA/BgAAICOXBkAGAAAgI5cGQAAAAAAAAPA/AAAAAAAA8D8AAAAAAADwPwAAAAAAAPA/AAAAAAAA8D8AAAAAAADwPwAAAAAAAPA/AAAAAAAA8D8AAAAAAADwPwAAAAAAAPA/AAAAAAAA8D8AAAAAAADwPwAAAAAAAPA/AAAAAAAA8D8AAAAAAADwPwYAACAjlwZAAAAAAAAA8D8GAAAgI5cGQAAAAAAAAPA/AAAAAAAA8D8AAAAAAADwPwYAACAjlwZAAAAAAAAA8D/t///fl6/xPwYAACAjlwZAAAAAAAAA8D8AAAAAAADwPwAAAAAAAPA/AAAAAAAA8D8AAAAAAADwPwAAAAAAAPA/BgAAICOXBkAAAAAAAADwPwAAAAAAAPA/AAAAAAAA8D8AAAAAAADwPwAAAAAAAPA/AAAAAAAA8D8AAAAAAADwPwYAACAjlwZAAAAAAAAA8D8AAAAAAADwPwAAAAAAAPA/AAAAAAAA8D8AAAAAAADwPwAAAAAAAPA/AAAAAAAA8D8AAAAAAADwPwAAAAAAAPA/AAAAAAAA8D8GAAAgI5cGQAAAAAAAAPA/BgAAICOXBkAAAAAAAADwPwAAAAAAAPA/AAAAAAAA8D8AAAAAAADwPwAAAAAAAPA/AAAAAAAA8D8AAAAAAADwPwAAAAAAAPA/BgAAICOXBkAGAAAgI5cGQAYAACAjlwZAAAAAAAAA8D8GAAAgI5cGQAAAAAAAAPA/AAAAAAAA8D8AAAAAAADwPwAAAAAAAPA/AAAAAAAA8D8AAAAAAADwPwAAAAAAAPA/AAAAAAAA8D8AAAAAAADwPwAAAAAAAPA/AAAAAAAA8D8AAAAAAADwPwAAAAAAAPA/AAAAAAAA8D8AAAAAAADwPwAAAAAAAPA/AAAAAAAA8D8AAAAAAADwPwAAAAAAAPA/AAAAAAAA8D8AAAAAAADwPwAAAAAAAPA/BgAAICOXBkAAAAAAAADwPwYAACAjlwZAAAAAAAAA8D8AAAAAAADwPwAAAAAAAPA/AAAAAAAA8D8AAAAAAADwPwAAAAAAAPA/AAAAAAAA8D8AAAAAAADwPwAAAAAAAPA/AAAAAAAA8D8AAAAAAADwPwAAAAAAAPA/BgAAICOXBkAAAAAAAADwPwYAACAjlwZABgAAICOXBkAAAAAAAADwPwAAAAAAAPA/AAAAAAAA8D8AAAAAAADwPwAAAAAAAPA/AAAAAAAA8D8AAAAAAADwPwAAAAAAAPA/AAAAAAAA8D8AAAAAAADwPwAAAAAAAPA/AAAAAAAA8D8AAAAAAADwPwAAAAAAAPA/BgAAICOXBkAGAAAgI5cGQAAAAAAAAPA/AAAAAAAA8D8AAAAAAADwPwAAAAAAAPA/AAAAAAAA8D8AAAAAAADwPwAAAAAAAPA/AAAAAAAA8D8AAAAAAADwPwAAAAAAAPA/AAAAAAAA8D8AAAAAAADwPwYAACAjlwZAAAAAAAAA8D8AAAAAAADwPwAAAAAAAPA/AAAAAAAA8D8AAAAAAADwPwAAAAAAAPA/AAAAAAAA8D8GAAAgI5cGQAAAAAAAAPA/AAAAAAAA8D8AAAAAAADwPwAAAAAAAPA/AAAAAAAA8D8AAAAAAADwPwAAAAAAAPA/AAAAAAAA8D8AAAAAAADwPwAAAAAAAPA/BgAAICOXBkAGAAAgI5cGQAAAAAAAAPA/AAAAAAAA8D8GAAAgI5cGQAAAAAAAAPA/AAAAAAAA8D8AAAAAAADwPwAAAAAAAPA/BgAAICOXBkAAAAAAAADwPwAAAAAAAPA/AAAAAAAA8D8AAAAAAADwPwAAAAAAAPA/AAAAAAAA8D8AAAAAAADwPwAAAAAAAPA/AAAAAAAA8D8AAAAAAADwPwAAAAAAAPA/AAAAAAAA8D8GAAAgI5cGQAAAAAAAAPA/AAAAAAAA8D8AAAAAAADwPwAAAAAAAPA/AAAAAAAA8D8AAAAAAADwPwAAAAAAAPA/AAAAAAAA8D8AAAAAAADwPwYAACAjlwZAAAAAAAAA8D8AAAAAAADwPwAAAAAAAPA/AAAAAAAA8D8AAAAAAADwPwAAAAAAAPA/AAAAAAAA8D8AAAAAAADwPwAAAAAAAPA/AAAAAAAA8D/4///fgPgIQAAAAAAAAPA/AAAAAAAA8D8AAAAAAADwPwAAAAAAAPA/AAAAAAAA8D8AAAAAAADwPwAAAAAAAPA/BgAAICOXBkAAAAAAAADwPwYAACAjlwZAAAAAAAAA8D8AAAAAAADwP/j//9+A+AhAAAAAAAAA8D8AAAAAAADwPwAAAAAAAPA/AAAAAAAA8D8AAAAAAADwPwAAAAAAAPA/AAAAAAAA8D8AAAAAAADwPwAAAAAAAPA/BgAAICOXBkAGAAAgI5cGQAAAAAAAAPA/AAAAAAAA8D8AAAAAAADwPwAAAAAAAPA/AAAAAAAA8D8AAAAAAADwPwAAAAAAAPA/AAAAAAAA8D8AAAAAAADwPwAAAAAAAPA/AAAAAAAA8D8GAAAgI5cGQAAAAAAAAPA/AAAAAAAA8D8GAAAgI5cGQAAAAAAAAPA/BgAAICOXBkAAAAAAAADwPwYAACAjlwZAAAAAAAAA8D8GAAAgI5cGQAAAAAAAAPA/AAAAAAAA8D8AAAAAAADwPwAAAAAAAPA/AAAAAAAA8D8AAAAAAADwPwAAAAAAAPA/AAAAAAAA8D8AAAAAAADwPwYAACAjlwZAAAAAAAAA8D8AAAAAAADwPwAAAAAAAPA/BgAAICOXBkAAAAAAAADwPwAAAAAAAPA/AAAAAAAA8D8AAAAAAADwPwAAAAAAAPA/AAAAAAAA8D8AAAAAAADwPwAAAAAAAPA/AAAAAAAA8D8AAAAAAADwPwAAAAAAAPA/CQAAQJEJCEAAAAAAAADwPwAAAAAAAPA/AAAAAAAA8D8AAAAAAADwPwAAAAAAAPA/AAAAAAAA8D8AAAAAAADwPwAAAAAAAPA/AAAAAAAA8D8AAAAAAADwPwAAAAAAAPA/AAAAAAAA8D8GAAAgI5cGQAAAAAAAAPA/AAAAAAAA8D8AAAAAAADwPwAAAAAAAPA/AAAAAAAA8D8AAAAAAADwPwAAAAAAAPA/AAAAAAAA8D8AAAAAAADwPwAAAAAAAPA/AAAAAAAA8D8AAAAAAADwPwAAAAAAAPA/AAAAAAAA8D8GAAAgI5cGQAAAAAAAAPA/AAAAAAAA8D8GAAAgI5cGQAAAAAAAAPA/AAAAAAAA8D8GAAAgI5cGQAAAAAAAAPA/AAAAAAAA8D8AAAAAAADwPwAAAAAAAPA/AAAAAAAA8D8AAAAAAADwPwAAAAAAAPA/BgAAICOXBkAAAAAAAADwPwAAAAAAAPA/AAAAAAAA8D8GAAAgI5cGQAAAAAAAAPA/AAAAAAAA8D8AAAAAAADwPwAAAAAAAPA/AAAAAAAA8D8AAAAAAADwPwAAAAAAAPA/AAAAAAAA8D8AAAAAAADwPwAAAAAAAPA/AAAAAAAA8D8GAAAgI5cGQAAAAAAAAPA/AAAAAAAA8D8AAAAAAADwPwAAAAAAAPA/AAAAAAAA8D8AAAAAAADwPwAAAAAAAPA/AAAAAAAA8D8AAAAAAADwP+3//9+Xr/E/AAAAAAAA8D8AAAAAAADwPwAAAAAAAPA/AAAAAAAA8D8AAAAAAADwPwAAAAAAAPA/AAAAAAAA8D8AAAAAAADwPwAAAAAAAPA/AAAAAAAA8D8AAAAAAADwPwAAAAAAAPA/AAAAAAAA8D8AAAAAAADwPwAAAAAAAPA/AAAAAAAA8D8AAAAAAADwPwAAAAAAAPA/AAAAAAAA8D8AAAAAAADwPwAAAAAAAPA/AAAAAAAA8D8AAAAAAADwPwAAAAAAAPA/AAAAAAAA8D8AAAAAAADwPwAAAAAAAPA/AAAAAAAA8D8AAAAAAADwPwAAAAAAAPA/AAAAAAAA8D8GAAAgI5cGQAAAAAAAAPA/AAAAAAAA8D8GAAAgI5cGQAAAAAAAAPA/AAAAAAAA8D8AAAAAAADwPwAAAAAAAPA/AAAAAAAA8D8AAAAAAADwPwAAAAAAAPA/BgAAICOXBkAAAAAAAADwPwAAAAAAAPA/AAAAAAAA8D8AAAAAAADwPwAAAAAAAPA/AAAAAAAA8D8AAAAAAADwPwAAAAAAAPA/AAAAAAAA8D8AAAAAAADwPwAAAAAAAPA/AAAAAAAA8D8AAAAAAADwPwAAAAAAAPA/AAAAAAAA8D8AAAAAAADwPwAAAAAAAPA/AAAAAAAA8D8AAAAAAADwPwAAAAAAAPA/AAAAAAAA8D8AAAAAAADwPwAAAAAAAPA/AAAAAAAA8D8GAAAgI5cGQAAAAAAAAPA/AAAAAAAA8D8AAAAAAADwPwAAAAAAAPA/AAAAAAAA8D8AAAAAAADwPwAAAAAAAPA/7f//35ev8T8AAAAAAADwPwAAAAAAAPA/AAAAAAAA8D8AAAAAAADwPwAAAAAAAPA/AAAAAAAA8D8GAAAgI5cGQAAAAAAAAPA/AAAAAAAA8D8AAAAAAADwPwAAAAAAAPA/AAAAAAAA8D8AAAAAAADwPwAAAAAAAPA/AAAAAAAA8D8AAAAAAADwPwAAAAAAAPA/AAAAAAAA8D8AAAAAAADwPwAAAAAAAPA/AAAAAAAA8D8AAAAAAADwPwYAACAjlwZAAAAAAAAA8D8AAAAAAADwPwYAACAjlwZAAAAAAAAA8D8AAAAAAADwPwAAAAAAAPA/AAAAAAAA8D8AAAAAAADwPwYAACAjlwZAAAAAAAAA8D8AAAAAAADwPwAAAAAAAPA/AAAAAAAA8D8AAAAAAADwPwAAAAAAAPA/AAAAAAAA8D8AAAAAAADwPwAAAAAAAPA/AAAAAAAA8D8AAAAAAADwPwAAAAAAAPA/AAAAAAAA8D8AAAAAAADwPwAAAAAAAPA/AAAAAAAA8D8AAAAAAADwPwAAAAAAAPA/AAAAAAAA8D8AAAAAAADwPwAAAAAAAPA/AAAAAAAA8D8AAAAAAADwPwYAACAjlwZAAAAAAAAA8D8AAAAAAADwPwAAAAAAAPA/AAAAAAAA8D8AAAAAAADwPwAAAAAAAPA/AAAAAAAA8D8AAAAAAADwPwAAAAAAAPA/AAAAAAAA8D8AAAAAAADwPwAAAAAAAPA/AAAAAAAA8D8AAAAAAADwPwAAAAAAAPA/BgAAICOXBkAAAAAAAADwPwYAACAjlwZAAAAAAAAA8D8AAAAAAADwPwAAAAAAAPA/AAAAAAAA8D8AAAAAAADwPwYAACAjlwZAAAAAAAAA8D8GAAAgI5cGQAAAAAAAAPA/BgAAICOXBkAAAAAAAADwPwYAACAjlwZAAAAAAAAA8D8AAAAAAADwPwAAAAAAAPA/AAAAAAAA8D8AAAAAAADwPwAAAAAAAPA/BgAAICOXBkAAAAAAAADwPwAAAAAAAPA/AAAAAAAA8D8AAAAAAADwPwYAACAjlwZAAAAAAAAA8D8AAAAAAADwPwAAAAAAAPA/AAAAAAAA8D8AAAAAAADwPwAAAAAAAPA/AAAAAAAA8D8AAAAAAADwPwAAAAAAAPA/AAAAAAAA8D8AAAAAAADwPwAAAAAAAPA/AAAAAAAA8D8GAAAgI5cGQAAAAAAAAPA/AAAAAAAA8D8AAAAAAADwPwAAAAAAAPA/AAAAAAAA8D8AAAAAAADwPwAAAAAAAPA/+P//34D4CEAAAAAAAADwPwAAAAAAAPA/AAAAAAAA8D8AAAAAAADwPwAAAAAAAPA/AAAAAAAA8D8AAAAAAADwPwAAAAAAAPA/AAAAAAAA8D8AAAAAAADwPwYAACAjlwZAAAAAAAAA8D8AAAAAAADwPwYAACAjlwZABgAAICOXBkAAAAAAAADwPwAAAAAAAPA/AAAAAAAA8D8AAAAAAADwPwAAAAAAAPA/AAAAAAAA8D8AAAAAAADwPwAAAAAAAPA/AAAAAAAA8D8AAAAAAADwPwAAAAAAAPA/AAAAAAAA8D8AAAAAAADwPwAAAAAAAPA/AAAAAAAA8D8AAAAAAADwPwAAAAAAAPA/AAAAAAAA8D8AAAAAAADwPwAAAAAAAPA/AAAAAAAA8D8AAAAAAADwPwAAAAAAAPA/AAAAAAAA8D8AAAAAAADwPwAAAAAAAPA/AAAAAAAA8D8AAAAAAADwPwAAAAAAAPA/AAAAAAAA8D8AAAAAAADwPwAAAAAAAPA/BgAAICOXBkAAAAAAAADwPwAAAAAAAPA/AAAAAAAA8D8AAAAAAADwPwAAAAAAAPA/AAAAAAAA8D8AAAAAAADwPwAAAAAAAPA/AAAAAAAA8D8AAAAAAADwPwAAAAAAAPA/AAAAAAAA8D8AAAAAAADwPwAAAAAAAPA/AAAAAAAA8D8GAAAgI5cGQAAAAAAAAPA/AAAAAAAA8D8AAAAAAADwPwAAAAAAAPA/AAAAAAAA8D8AAAAAAADwPwYAACAjlwZAAAAAAAAA8D8AAAAAAADwPwAAAAAAAPA/AAAAAAAA8D8GAAAgI5cGQAYAACAjlwZAAAAAAAAA8D8AAAAAAADwPwAAAAAAAPA/AAAAAAAA8D8AAAAAAADwPwAAAAAAAPA/AAAAAAAA8D8AAAAAAADwPwAAAAAAAPA/AAAAAAAA8D8AAAAAAADwPwAAAAAAAPA/AAAAAAAA8D8AAAAAAADwPwAAAAAAAPA/AAAAAAAA8D8AAAAAAADwPwAAAAAAAPA/AAAAAAAA8D8AAAAAAADwPwAAAAAAAPA/AAAAAAAA8D8AAAAAAADwPwAAAAAAAPA/BgAAICOXBkAGAAAgI5cGQAAAAAAAAPA/AAAAAAAA8D8AAAAAAADwPwAAAAAAAPA/AAAAAAAA8D8AAAAAAADwPwAAAAAAAPA/AAAAAAAA8D8AAAAAAADwPwAAAAAAAPA/AAAAAAAA8D8AAAAAAADwPwAAAAAAAPA/AAAAAAAA8D8AAAAAAADwPwAAAAAAAPA/AAAAAAAA8D8AAAAAAADwPwAAAAAAAPA/AwAAIE6+C0AAAAAAAADwPwAAAAAAAPA/AAAAAAAA8D8AAAAAAADwPwAAAAAAAPA/AAAAAAAA8D8GAAAgI5cGQAAAAAAAAPA/AAAAAAAA8D8AAAAAAADwPwAAAAAAAPA/AAAAAAAA8D8AAAAAAADwPwAAAAAAAPA/AAAAAAAA8D8AAAAAAADwPwAAAAAAAPA/AAAAAAAA8D8AAAAAAADwPwAAAAAAAPA/AAAAAAAA8D8AAAAAAADwPwAAAAAAAPA/AAAAAAAA8D8GAAAgI5cGQAAAAAAAAPA/AAAAAAAA8D8AAAAAAADwPwYAACAjlwZAAAAAAAAA8D8AAAAAAADwPwAAAAAAAPA/AAAAAAAA8D8AAAAAAADwPwAAAAAAAPA/AAAAAAAA8D8AAAAAAADwPwAAAAAAAPA/AAAAAAAA8D8AAAAAAADwPwAAAAAAAPA/BgAAICOXBkAAAAAAAADwPwAAAAAAAPA/BgAAICOXBkAAAAAAAADwPwAAAAAAAPA/AAAAAAAA8D8AAAAAAADwPwAAAAAAAPA/AAAAAAAA8D8AAAAAAADwPwAAAAAAAPA/AAAAAAAA8D8AAAAAAADwPwAAAAAAAPA/BgAAICOXBkAAAAAAAADwPwYAACAjlwZAAAAAAAAA8D8AAAAAAADwPwAAAAAAAPA/AAAAAAAA8D8AAAAAAADwPwAAAAAAAPA/AAAAAAAA8D8AAAAAAADwPwAAAAAAAPA/AAAAAAAA8D8AAAAAAADwPwAAAAAAAPA/AAAAAAAA8D8AAAAAAADwPwAAAAAAAPA/AAAAAAAA8D8GAAAgI5cGQAAAAAAAAPA/AAAAAAAA8D8AAAAAAADwPwAAAAAAAPA/AAAAAAAA8D8AAAAAAADwPwAAAAAAAPA/AAAAAAAA8D8AAAAAAADwPwYAACAjlwZABgAAICOXBkAAAAAAAADwPwAAAAAAAPA/AAAAAAAA8D8AAAAAAADwPwAAAAAAAPA/AAAAAAAA8D8AAAAAAADwPwAAAAAAAPA/AAAAAAAA8D8AAAAAAADwPwAAAAAAAPA/AAAAAAAA8D8AAAAAAADwPwAAAAAAAPA/AAAAAAAA8D8AAAAAAADwPwAAAAAAAPA/AAAAAAAA8D8AAAAAAADwPwAAAAAAAPA/AAAAAAAA8D8AAAAAAADwPwAAAAAAAPA/BgAAICOXBkAAAAAAAADwPwAAAAAAAPA/AAAAAAAA8D8GAAAgI5cGQAAAAAAAAPA/BgAAICOXBkAAAAAAAADwPwAAAAAAAPA/AAAAAAAA8D8AAAAAAADwPwAAAAAAAPA/AAAAAAAA8D8AAAAAAADwPwAAAAAAAPA/AAAAAAAA8D8AAAAAAADwPwAAAAAAAPA/AAAAAAAA8D8AAAAAAADwPwAAAAAAAPA/AAAAAAAA8D8AAAAAAADwPwYAACAjlwZAAAAAAAAA8D8AAAAAAADwPwYAACAjlwZAAAAAAAAA8D8AAAAAAADwPwAAAAAAAPA/AAAAAAAA8D8AAAAAAADwPwAAAAAAAPA/AAAAAAAA8D8AAAAAAADwPwAAAAAAAPA/AAAAAAAA8D8AAAAAAADwPwAAAAAAAPA/BgAAICOXBkAAAAAAAADwP/j//180pAdAAAAAAAAA8D8GAAAgI5cGQAAAAAAAAPA/AAAAAAAA8D8AAAAAAADwPwAAAAAAAPA/AAAAAAAA8D8AAAAAAADwPwAAAAAAAPA/AAAAAAAA8D8AAAAAAADwPwAAAAAAAPA/BgAAICOXBkDt///fl6/xPwAAAAAAAPA/AAAAAAAA8D8AAAAAAADwPwAAAAAAAPA/AAAAAAAA8D8AAAAAAADwPwAAAAAAAPA/AAAAAAAA8D8AAAAAAADwPwAAAAAAAPA/AAAAAAAA8D8AAAAAAADwPwAAAAAAAPA/AAAAAAAA8D8AAAAAAADwPwAAAAAAAPA/BgAAICOXBkAAAAAAAADwPwYAACAjlwZAAAAAAAAA8D8AAAAAAADwPwAAAAAAAPA/AAAAAAAA8D8AAAAAAADwPwAAAAAAAPA/AAAAAAAA8D8AAAAAAADwPwAAAAAAAPA/AAAAAAAA8D8AAAAAAADwPwAAAAAAAPA/AAAAAAAA8D8GAAAgI5cGQAAAAAAAAPA/AAAAAAAA8D8AAAAAAADwPwAAAAAAAPA/AAAAAAAA8D8AAAAAAADwPwAAAAAAAPA/AAAAAAAA8D8GAAAgI5cGQAAAAAAAAPA/AAAAAAAA8D8AAAAAAADwPwAAAAAAAPA/AAAAAAAA8D8AAAAAAADwPwAAAAAAAPA/AAAAAAAA8D8GAAAgI5cGQAAAAAAAAPA/AAAAAAAA8D8AAAAAAADwPwAAAAAAAPA/AAAAAAAA8D8AAAAAAADwPwAAAAAAAPA/BgAAICOXBkAAAAAAAADwPwAAAAAAAPA/AAAAAAAA8D8GAAAgI5cGQAAAAAAAAPA/AAAAAAAA8D8AAAAAAADwPwAAAAAAAPA/AAAAAAAA8D8GAAAgI5cGQAAAAAAAAPA/AAAAAAAA8D8AAAAAAADwPwAAAAAAAPA/AAAAAAAA8D8AAAAAAADwPwAAAAAAAPA/AAAAAAAA8D8AAAAAAADwPwAAAAAAAPA/AAAAAAAA8D8AAAAAAADwPwAAAAAAAPA/AAAAAAAA8D8AAAAAAADwPwAAAAAAAPA/AAAAAAAA8D8AAAAAAADwPwAAAAAAAPA/AAAAAAAA8D8AAAAAAADwPwAAAAAAAPA/AAAAAAAA8D8AAAAAAADwPwAAAAAAAPA/BgAAICOXBkAAAAAAAADwPwAAAAAAAPA/AAAAAAAA8D8AAAAAAADwPwYAACAjlwZAAAAAAAAA8D8AAAAAAADwPwAAAAAAAPA/AAAAAAAA8D8AAAAAAADwPwAAAAAAAPA/AAAAAAAA8D8AAAAAAADwPwYAACAjlwZAAAAAAAAA8D8AAAAAAADwPwAAAAAAAPA/AAAAAAAA8D8AAAAAAADwPwAAAAAAAPA/AAAAAAAA8D8AAAAAAADwPwAAAAAAAPA/AAAAAAAA8D8AAAAAAADwPwAAAAAAAPA/AAAAAAAA8D8AAAAAAADwPwAAAAAAAPA/AAAAAAAA8D8AAAAAAADwPwAAAAAAAPA/AAAAAAAA8D8AAAAAAADwPwAAAAAAAPA/AAAAAAAA8D8AAAAAAADwPwAAAAAAAPA/AAAAAAAA8D8AAAAAAADwPwAAAAAAAPA/AAAAAAAA8D8GAAAgI5cGQAAAAAAAAPA/AAAAAAAA8D8AAAAAAADwPwAAAAAAAPA/AAAAAAAA8D8AAAAAAADwPwAAAAAAAPA/AAAAAAAA8D8AAAAAAADwPwAAAAAAAPA/AAAAAAAA8D8AAAAAAADwPwAAAAAAAPA/AAAAAAAA8D/4///fgPgIQAAAAAAAAPA/AAAAAAAA8D8AAAAAAADwPwAAAAAAAPA/AAAAAAAA8D8AAAAAAADwPwAAAAAAAPA/AAAAAAAA8D8GAAAgI5cGQAAAAAAAAPA/AAAAAAAA8D8AAAAAAADwPwAAAAAAAPA/BgAAICOXBkAAAAAAAADwPwAAAAAAAPA/AAAAAAAA8D8AAAAAAADwPwYAACAjlwZAAAAAAAAA8D8AAAAAAADwPwYAACAjlwZAAAAAAAAA8D8AAAAAAADwPwAAAAAAAPA/AAAAAAAA8D8AAAAAAADwPwAAAAAAAPA/BgAAICOXBkAAAAAAAADwPwAAAAAAAPA/AAAAAAAA8D8AAAAAAADwPwAAAAAAAPA/BgAAICOXBkAAAAAAAADwPwAAAAAAAPA/AAAAAAAA8D8AAAAAAADwPwAAAAAAAPA/AAAAAAAA8D8AAAAAAADwPwAAAAAAAPA/BgAAICOXBkAAAAAAAADwPwAAAAAAAPA/AAAAAAAA8D8GAAAgI5cGQAAAAAAAAPA/AAAAAAAA8D8AAAAAAADwPwAAAAAAAPA/AAAAAAAA8D8AAAAAAADwPwAAAAAAAPA/AAAAAAAA8D8AAAAAAADwPwAAAAAAAPA/AAAAAAAA8D8AAAAAAADwPwAAAAAAAPA/AAAAAAAA8D8AAAAAAADwPwAAAAAAAPA/AAAAAAAA8D8AAAAAAADwPwAAAAAAAPA/AAAAAAAA8D8GAAAgI5cGQAAAAAAAAPA/AAAAAAAA8D8GAAAgI5cGQAAAAAAAAPA/AAAAAAAA8D8AAAAAAADwPwAAAAAAAPA/AAAAAAAA8D8AAAAAAADwPwAAAAAAAPA/AAAAAAAA8D8GAAAgI5cGQAYAACAjlwZAAAAAAAAA8D8AAAAAAADwPwYAACAjlwZAAAAAAAAA8D8AAAAAAADwPwAAAAAAAPA/AAAAAAAA8D8AAAAAAADwPwAAAAAAAPA/AAAAAAAA8D8GAAAgI5cGQAAAAAAAAPA/AAAAAAAA8D8AAAAAAADwPwAAAAAAAPA/AAAAAAAA8D8AAAAAAADwPwAAAAAAAPA/AAAAAAAA8D8AAAAAAADwPwAAAAAAAPA/AAAAAAAA8D8AAAAAAADwPwAAAAAAAPA/AAAAAAAA8D8AAAAAAADwPwAAAAAAAPA/AAAAAAAA8D8GAAAgI5cGQAAAAAAAAPA/AAAAAAAA8D8AAAAAAADwPwAAAAAAAPA/AAAAAAAA8D8AAAAAAADwPwAAAAAAAPA/AAAAAAAA8D8AAAAAAADwPwAAAAAAAPA/AAAAAAAA8D8AAAAAAADwPwAAAAAAAPA/AAAAAAAA8D8AAAAAAADwPwYAACAjlwZAAAAAAAAA8D8AAAAAAADwPwAAAAAAAPA/AAAAAAAA8D8AAAAAAADwPwAAAAAAAPA/AAAAAAAA8D8AAAAAAADwPwAAAAAAAPA/AAAAAAAA8D8AAAAAAADwPwAAAAAAAPA/AAAAAAAA8D8GAAAgI5cGQAAAAAAAAPA/AAAAAAAA8D8AAAAAAADwPwAAAAAAAPA/AAAAAAAA8D8AAAAAAADwPwAAAAAAAPA/BgAAICOXBkAAAAAAAADwPwAAAAAAAPA/AAAAAAAA8D8AAAAAAADwPwAAAAAAAPA/AAAAAAAA8D8AAAAAAADwPwYAACAjlwZAAAAAAAAA8D8AAAAAAADwPwYAACAjlwZAAAAAAAAA8D8AAAAAAADwPwAAAAAAAPA/AAAAAAAA8D8AAAAAAADwPwYAACAjlwZAAAAAAAAA8D8AAAAAAADwPwAAAAAAAPA/AAAAAAAA8D8AAAAAAADwPwAAAAAAAPA/AAAAAAAA8D8AAAAAAADwPwAAAAAAAPA/AAAAAAAA8D8AAAAAAADwPwAAAAAAAPA/AAAAAAAA8D8AAAAAAADwPwAAAAAAAPA/AAAAAAAA8D8AAAAAAADwPwAAAAAAAPA/AAAAAAAA8D8GAAAgI5cGQAAAAAAAAPA/AAAAAAAA8D8AAAAAAADwP/j//9+A+AhAAAAAAAAA8D8AAAAAAADwPwAAAAAAAPA/AAAAAAAA8D8AAAAAAADwPwYAACAjlwZAAAAAAAAA8D8AAAAAAADwPwkAAECRCQhAAAAAAAAA8D8AAAAAAADwPwAAAAAAAPA/AAAAAAAA8D8AAAAAAADwPwYAACAjlwZAAAAAAAAA8D8AAAAAAADwPwAAAAAAAPA/AAAAAAAA8D8AAAAAAADwPwAAAAAAAPA/AAAAAAAA8D8GAAAgI5cGQAAAAAAAAPA/AAAAAAAA8D8GAAAgI5cGQO3//9+Xr/E/AAAAAAAA8D8AAAAAAADwPwAAAAAAAPA/AAAAAAAA8D8AAAAAAADwP/j//9+A+AhAAAAAAAAA8D8AAAAAAADwPwAAAAAAAPA/AAAAAAAA8D8AAAAAAADwPwAAAAAAAPA/AAAAAAAA8D8AAAAAAADwPwAAAAAAAPA/AAAAAAAA8D8AAAAAAADwPwAAAAAAAPA/AAAAAAAA8D8AAAAAAADwPwAAAAAAAPA/AAAAAAAA8D8AAAAAAADwPwAAAAAAAPA/AAAAAAAA8D8AAAAAAADwPwYAACAjlwZAAAAAAAAA8D8AAAAAAADwPwAAAAAAAPA/AAAAAAAA8D8AAAAAAADwPwAAAAAAAPA/AAAAAAAA8D8GAAAgI5cGQAAAAAAAAPA/AAAAAAAA8D8AAAAAAADwPwYAACAjlwZAAAAAAAAA8D8AAAAAAADwPwYAACAjlwZAAAAAAAAA8D8AAAAAAADwPwAAAAAAAPA/AAAAAAAA8D8AAAAAAADwPwAAAAAAAPA/AAAAAAAA8D8AAAAAAADwPwAAAAAAAPA/BgAAICOXBkAAAAAAAADwPwAAAAAAAPA/AAAAAAAA8D8AAAAAAADwPwAAAAAAAPA/AAAAAAAA8D8AAAAAAADwPwAAAAAAAPA/AAAAAAAA8D8AAAAAAADwPwAAAAAAAPA/AAAAAAAA8D8AAAAAAADwPwAAAAAAAPA/AAAAAAAA8D8AAAAAAADwPwYAACAjlwZAAAAAAAAA8D8GAAAgI5cGQAAAAAAAAPA/AAAAAAAA8D8AAAAAAADwPwYAACAjlwZAAAAAAAAA8D8AAAAAAADwPwAAAAAAAPA/AAAAAAAA8D8AAAAAAADwPwYAACAjlwZAAAAAAAAA8D8AAAAAAADwPwYAACAjlwZA7v//X1Km8z8AAAAAAADwPwAAAAAAAPA/AAAAAAAA8D8AAAAAAADwPwYAACAjlwZAAAAAAAAA8D8AAAAAAADwPwAAAAAAAPA/AAAAAAAA8D8AAAAAAADwPwAAAAAAAPA/AAAAAAAA8D8AAAAAAADwPwAAAAAAAPA/AAAAAAAA8D8AAAAAAADwPwYAACAjlwZAAAAAAAAA8D8AAAAAAADwPwAAAAAAAPA/AAAAAAAA8D8AAAAAAADwPwAAAAAAAPA/BgAAICOXBkAAAAAAAADwPwAAAAAAAPA/AAAAAAAA8D8AAAAAAADwPwYAACAjlwZAAAAAAAAA8D/t///fl6/xPwAAAAAAAPA/BgAAICOXBkAAAAAAAADwPwAAAAAAAPA/AAAAAAAA8D8AAAAAAADwPwAAAAAAAPA/AAAAAAAA8D8AAAAAAADwPwAAAAAAAPA/AAAAAAAA8D8AAAAAAADwPwAAAAAAAPA/AAAAAAAA8D8AAAAAAADwPwAAAAAAAPA/AAAAAAAA8D8AAAAAAADwPwAAAAAAAPA/AAAAAAAA8D8AAAAAAADwPwAAAAAAAPA/AAAAAAAA8D8AAAAAAADwPwAAAAAAAPA/AAAAAAAA8D8AAAAAAADwPwAAAAAAAPA/AAAAAAAA8D8AAAAAAADwPwYAACAjlwZAAAAAAAAA8D8AAAAAAADwPwAAAAAAAPA/AAAAAAAA8D8AAAAAAADwPwAAAAAAAPA/AAAAAAAA8D8AAAAAAADwPwYAACAjlwZAAAAAAAAA8D8AAAAAAADwPwAAAAAAAPA/AAAAAAAA8D8AAAAAAADwPwAAAAAAAPA/AAAAAAAA8D8AAAAAAADwPwAAAAAAAPA/AAAAAAAA8D8AAAAAAADwPwAAAAAAAPA/AAAAAAAA8D8AAAAAAADwPwAAAAAAAPA/AAAAAAAA8D8AAAAAAADwPwYAACAjlwZAAAAAAAAA8D8AAAAAAADwPwAAAAAAAPA/AAAAAAAA8D8AAAAAAADwPwAAAAAAAPA/AAAAAAAA8D8AAAAAAADwPwAAAAAAAPA/AAAAAAAA8D8AAAAAAADwPwAAAAAAAPA/AAAAAAAA8D8GAAAgI5cGQAAAAAAAAPA/AAAAAAAA8D8AAAAAAADwPwAAAAAAAPA/AAAAAAAA8D8AAAAAAADwPwYAACAjlwZAAAAAAAAA8D/4///fgPgIQAAAAAAAAPA/AAAAAAAA8D8AAAAAAADwPwAAAAAAAPA/AAAAAAAA8D8AAAAAAADwPwAAAAAAAPA/AAAAAAAA8D8GAAAgI5cGQAYAACAjlwZAAAAAAAAA8D8AAAAAAADwPwAAAAAAAPA/AAAAAAAA8D8AAAAAAADwPwAAAAAAAPA/7f//35ev8T8AAAAAAADwPwAAAAAAAPA/AAAAAAAA8D8AAAAAAADwPwAAAAAAAPA/AAAAAAAA8D8AAAAAAADwPwAAAAAAAPA/AAAAAAAA8D8AAAAAAADwPwAAAAAAAPA/AAAAAAAA8D8GAAAgI5cGQAAAAAAAAPA/AAAAAAAA8D8AAAAAAADwPwAAAAAAAPA/AAAAAAAA8D8GAAAgI5cGQAAAAAAAAPA/AAAAAAAA8D8AAAAAAADwPwAAAAAAAPA/AAAAAAAA8D8AAAAAAADwPwAAAAAAAPA/BgAAICOXBkAAAAAAAADwPwAAAAAAAPA/AAAAAAAA8D8AAAAAAADwPwAAAAAAAPA/AAAAAAAA8D8GAAAgI5cGQAAAAAAAAPA/AAAAAAAA8D8AAAAAAADwPwAAAAAAAPA/AAAAAAAA8D8AAAAAAADwPwAAAAAAAPA/AAAAAAAA8D8AAAAAAADwPwAAAAAAAPA/AAAAAAAA8D8AAAAAAADwPwAAAAAAAPA/AAAAAAAA8D8AAAAAAADwPwAAAAAAAPA/AAAAAAAA8D8AAAAAAADwPwYAACAjlwZAAAAAAAAA8D8AAAAAAADwPwAAAAAAAPA/AAAAAAAA8D8AAAAAAADwPwAAAAAAAPA/AAAAAAAA8D8AAAAAAADwPwAAAAAAAPA/BgAAICOXBkAAAAAAAADwPwAAAAAAAPA/AAAAAAAA8D8AAAAAAADwPwAAAAAAAPA/AAAAAAAA8D8AAAAAAADwPwYAACAjlwZAAAAAAAAA8D8AAAAAAADwPwAAAAAAAPA/AAAAAAAA8D8GAAAgI5cGQAAAAAAAAPA/AAAAAAAA8D8AAAAAAADwPwYAACAjlwZAAAAAAAAA8D8AAAAAAADwPwAAAAAAAPA/AAAAAAAA8D8AAAAAAADwPwAAAAAAAPA/BgAAICOXBkAAAAAAAADwPwAAAAAAAPA/BgAAICOXBkAGAAAgI5cGQAAAAAAAAPA/AAAAAAAA8D8AAAAAAADwPwAAAAAAAPA/AAAAAAAA8D8AAAAAAADwPwAAAAAAAPA/AAAAAAAA8D8AAAAAAADwPwAAAAAAAPA/AAAAAAAA8D8AAAAAAADwPwAAAAAAAPA/BgAAICOXBkAAAAAAAADwPwAAAAAAAPA/AAAAAAAA8D8AAAAAAADwPwAAAAAAAPA/AAAAAAAA8D8AAAAAAADwPwAAAAAAAPA/AAAAAAAA8D8AAAAAAADwPwAAAAAAAPA/AAAAAAAA8D8AAAAAAADwPwAAAAAAAPA/AAAAAAAA8D8AAAAAAADwPwAAAAAAAPA/AAAAAAAA8D8AAAAAAADwPwYAACAjlwZAAAAAAAAA8D8AAAAAAADwPwAAAAAAAPA/AAAAAAAA8D8AAAAAAADwPwAAAAAAAPA/AAAAAAAA8D8AAAAAAADwPwAAAAAAAPA/AAAAAAAA8D8AAAAAAADwPwAAAAAAAPA/AAAAAAAA8D8GAAAgI5cGQAAAAAAAAPA/AAAAAAAA8D8AAAAAAADwPwAAAAAAAPA/AAAAAAAA8D/t///fl6/xPwIAACCgJA9AAAAAAAAA8D8AAAAAAADwPwAAAAAAAPA/AAAAAAAA8D8AAAAAAADwPwAAAAAAAPA/AAAAAAAA8D8AAAAAAADwPwAAAAAAAPA/AAAAAAAA8D8AAAAAAADwPwAAAAAAAPA/AAAAAAAA8D8AAAAAAADwPwYAACAjlwZAAAAAAAAA8D8AAAAAAADwPwYAACAjlwZAAAAAAAAA8D8AAAAAAADwPwAAAAAAAPA/AAAAAAAA8D8GAAAgI5cGQAAAAAAAAPA/AAAAAAAA8D8AAAAAAADwPwAAAAAAAPA/AAAAAAAA8D8AAAAAAADwPwAAAAAAAPA/AAAAAAAA8D8AAAAAAADwPwAAAAAAAPA/AAAAAAAA8D8AAAAAAADwPwAAAAAAAPA/AAAAAAAA8D8AAAAAAADwPwYAACAjlwZAAAAAAAAA8D8AAAAAAADwPwAAAAAAAPA/BgAAICOXBkAAAAAAAADwPwAAAAAAAPA/AAAAAAAA8D8AAAAAAADwPwYAACAjlwZABgAAICOXBkAAAAAAAADwPwYAACAjlwZAAAAAAAAA8D8AAAAAAADwPwAAAAAAAPA/AAAAAAAA8D8AAAAAAADwPwAAAAAAAPA/BgAAICOXBkAAAAAAAADwPwAAAAAAAPA/AAAAAAAA8D8GAAAgI5cGQAAAAAAAAPA/AAAAAAAA8D8AAAAAAADwPwAAAAAAAPA/AAAAAAAA8D8AAAAAAADwPwAAAAAAAPA/AAAAAAAA8D8AAAAAAADwPwAAAAAAAPA/AAAAAAAA8D8AAAAAAADwPwAAAAAAAPA/AAAAAAAA8D8AAAAAAADwPwAAAAAAAPA/AAAAAAAA8D/s//8/kr7wPwAAAAAAAPA/AAAAAAAA8D8AAAAAAADwPwAAAAAAAPA/AAAAAAAA8D8AAAAAAADwPwAAAAAAAPA/BgAAICOXBkAAAAAAAADwPwAAAAAAAPA/BgAAICOXBkAGAAAgI5cGQAAAAAAAAPA/AAAAAAAA8D8AAAAAAADwPwAAAAAAAPA/BgAAICOXBkAAAAAAAADwPwAAAAAAAPA/AAAAAAAA8D8AAAAAAADwPwAAAAAAAPA/AAAAAAAA8D8AAAAAAADwPwAAAAAAAPA/AAAAAAAA8D8AAAAAAADwPwYAACAjlwZAAAAAAAAA8D8GAAAgI5cGQAYAACAjlwZAAAAAAAAA8D8GAAAgI5cGQAAAAAAAAPA/AAAAAAAA8D8AAAAAAADwPwAAAAAAAPA/AAAAAAAA8D8AAAAAAADwPwAAAAAAAPA/AAAAAAAA8D8AAAAAAADwPwAAAAAAAPA/AAAAAAAA8D8AAAAAAADwPwAAAAAAAPA/AAAAAAAA8D8GAAAgI5cGQAAAAAAAAPA/AAAAAAAA8D8AAAAAAADwPwAAAAAAAPA/AAAAAAAA8D8AAAAAAADwPwAAAAAAAPA/AAAAAAAA8D8AAAAAAADwPwYAACAjlwZAAAAAAAAA8D8AAAAAAADwPwAAAAAAAPA/AAAAAAAA8D8AAAAAAADwPwAAAAAAAPA/AAAAAAAA8D8AAAAAAADwPwAAAAAAAPA/AAAAAAAA8D8AAAAAAADwPwAAAAAAAPA/AAAAAAAA8D8AAAAAAADwPwAAAAAAAPA/AAAAAAAA8D8AAAAAAADwPwAAAAAAAPA/AAAAAAAA8D8AAAAAAADwPwAAAAAAAPA/AAAAAAAA8D8AAAAAAADwPwAAAAAAAPA/AAAAAAAA8D8AAAAAAADwPwAAAAAAAPA/BgAAICOXBkAAAAAAAADwPwAAAAAAAPA/AAAAAAAA8D8AAAAAAADwPwAAAAAAAPA/AAAAAAAA8D8AAAAAAADwPwAAAAAAAPA/AAAAAAAA8D8AAAAAAADwPwAAAAAAAPA/BgAAICOXBkAAAAAAAADwPwYAACAjlwZAAAAAAAAA8D8AAAAAAADwPwAAAAAAAPA/AAAAAAAA8D8AAAAAAADwPwAAAAAAAPA/AAAAAAAA8D8AAAAAAADwPwAAAAAAAPA/AAAAAAAA8D8AAAAAAADwPwAAAAAAAPA/AAAAAAAA8D8AAAAAAADwPwAAAAAAAPA/AAAAAAAA8D8AAAAAAADwPwYAACAjlwZAAAAAAAAA8D8AAAAAAADwPwAAAAAAAPA/AAAAAAAA8D8GAAAgI5cGQAYAACAjlwZAAAAAAAAA8D8AAAAAAADwPwAAAAAAAPA/AAAAAAAA8D8AAAAAAADwPwAAAAAAAPA/AAAAAAAA8D8AAAAAAADwPwAAAAAAAPA/AAAAAAAA8D8GAAAgI5cGQAAAAAAAAPA/AAAAAAAA8D8AAAAAAADwPwAAAAAAAPA/AAAAAAAA8D8AAAAAAADwPwAAAAAAAPA/AAAAAAAA8D8AAAAAAADwPwAAAAAAAPA/AAAAAAAA8D8AAAAAAADwPwAAAAAAAPA/AAAAAAAA8D8AAAAAAADwPwAAAAAAAPA/AAAAAAAA8D8AAAAAAADwPwAAAAAAAPA/AAAAAAAA8D8AAAAAAADwPwAAAAAAAPA/AAAAAAAA8D8AAAAAAADwPwAAAAAAAPA/BgAAICOXBkAAAAAAAADwPwAAAAAAAPA/AAAAAAAA8D8AAAAAAADwPwAAAAAAAPA/AAAAAAAA8D8AAAAAAADwPwAAAAAAAPA/AAAAAAAA8D8AAAAAAADwPwYAACAjlwZAAAAAAAAA8D8AAAAAAADwPwAAAAAAAPA/AAAAAAAA8D8AAAAAAADwPwAAAAAAAPA/AAAAAAAA8D8GAAAgI5cGQAAAAAAAAPA/BgAAgKuRCUAAAAAAAADwPwAAAAAAAPA/AAAAAAAA8D8GAAAgI5cGQAAAAAAAAPA/7f//35ev8T8AAAAAAADwPwAAAAAAAPA/AAAAAAAA8D8AAAAAAADwPwAAAAAAAPA/BgAAICOXBkAAAAAAAADwPwAAAAAAAPA/AAAAAAAA8D8AAAAAAADwPwYAACAjlwZAAAAAAAAA8D8AAAAAAADwPwAAAAAAAPA/AAAAAAAA8D8AAAAAAADwPwAAAAAAAPA/BgAAICOXBkAAAAAAAADwPwAAAAAAAPA/AAAAAAAA8D8AAAAAAADwPwAAAAAAAPA/AAAAAAAA8D8AAAAAAADwPwAAAAAAAPA/BgAAICOXBkAAAAAAAADwPwAAAAAAAPA/AAAAAAAA8D8AAAAAAADwPwAAAAAAAPA/AAAAAAAA8D8IAAAA7fXxPwAAAAAAAPA/AAAAAAAA8D8AAAAAAADwPwAAAAAAAPA/AAAAAAAA8D8GAAAgI5cGQAAAAAAAAPA/AAAAAAAA8D8AAAAAAADwPwAAAAAAAPA/AAAAAAAA8D8AAAAAAADwPwAAAAAAAPA/AAAAAAAA8D8AAAAAAADwPwAAAAAAAPA/AAAAAAAA8D8AAAAAAADwPwAAAAAAAPA/AAAAAAAA8D8AAAAAAADwPwAAAAAAAPA/BgAAICOXBkAAAAAAAADwPwAAAAAAAPA/7f//35ev8T8AAAAAAADwPwYAACAjlwZAAAAAAAAA8D8AAAAAAADwPwAAAAAAAPA/AAAAAAAA8D8AAAAAAADwPwAAAAAAAPA/AAAAAAAA8D8AAAAAAADwPwAAAAAAAPA/AAAAAAAA8D8AAAAAAADwPwAAAAAAAPA/AAAAAAAA8D8AAAAAAADwPwAAAAAAAPA/AAAAAAAA8D8AAAAAAADwPwAAAAAAAPA/AAAAAAAA8D8GAAAgI5cGQAAAAAAAAPA/AAAAAAAA8D8AAAAAAADwPwAAAAAAAPA/AAAAAAAA8D8AAAAAAADwPwAAAAAAAPA/AAAAAAAA8D8AAAAAAADwPwAAAAAAAPA/AAAAAAAA8D8AAAAAAADwPwAAAAAAAPA/AAAAAAAA8D8GAAAgI5cGQAAAAAAAAPA/BgAAICOXBkAAAAAAAADwPwAAAAAAAPA/AAAAAAAA8D8AAAAAAADwPwAAAAAAAPA/AAAAAAAA8D8AAAAAAADwPwAAAAAAAPA/AAAAAAAA8D8GAAAgI5cGQAAAAAAAAPA/AAAAAAAA8D8AAAAAAADwPwYAACAjlwZAAAAAAAAA8D8AAAAAAADwPwAAAAAAAPA/BgAAICOXBkAGAAAgI5cGQAAAAAAAAPA/AAAAAAAA8D8AAAAAAADwPwYAACAjlwZAAAAAAAAA8D8AAAAAAADwPwAAAAAAAPA/AAAAAAAA8D8AAAAAAADwPwYAACAjlwZAAAAAAAAA8D8AAAAAAADwPwAAAAAAAPA/AAAAAAAA8D8AAAAAAADwPwAAAAAAAPA/AAAAAAAA8D8AAAAAAADwPwAAAAAAAPA/BgAAICOXBkAGAAAgI5cGQAAAAAAAAPA/AAAAAAAA8D8AAAAAAADwPwAAAAAAAPA/AAAAAAAA8D8AAAAAAADwPwAAAAAAAPA/AAAAAAAA8D8AAAAAAADwP+3//9+Xr/E/AAAAAAAA8D8AAAAAAADwPwAAAAAAAPA/AAAAAAAA8D8GAAAgI5cGQAAAAAAAAPA/BgAAICOXBkAAAAAAAADwPwAAAAAAAPA/BgAAICOXBkAAAAAAAADwP+3//9+Xr/E/AAAAAAAA8D8AAAAAAADwPwAAAAAAAPA/AAAAAAAA8D8AAAAAAADwPwAAAAAAAPA/AAAAAAAA8D8AAAAAAADwPwAAAAAAAPA/AAAAAAAA8D8AAAAAAADwPwAAAAAAAPA/AAAAAAAA8D8AAAAAAADwPwAAAAAAAPA/AAAAAAAA8D8AAAAAAADwPwAAAAAAAPA/AAAAAAAA8D8AAAAAAADwPwAAAAAAAPA/AAAAAAAA8D8AAAAAAADwPwAAAAAAAPA/AAAAAAAA8D8AAAAAAADwPwAAAAAAAPA/AAAAAAAA8D8GAAAgI5cGQAAAAAAAAPA/AAAAAAAA8D8AAAAAAADwPwAAAAAAAPA/AAAAAAAA8D8AAAAAAADwPwAAAAAAAPA/AAAAAAAA8D8AAAAAAADwPwAAAAAAAPA/7f//35ev8T8AAAAAAADwPwAAAAAAAPA/AAAAAAAA8D8AAAAAAADwPwAAAAAAAPA/BgAAICOXBkAAAAAAAADwPwAAAAAAAPA/AAAAAAAA8D8AAAAAAADwPwAAAAAAAPA/AAAAAAAA8D8GAAAgI5cGQAAAAAAAAPA/BgAAICOXBkAAAAAAAADwPwYAACAjlwZAAAAAAAAA8D8AAAAAAADwPwAAAAAAAPA/+P//34D4CEAAAAAAAADwPwAAAAAAAPA/AAAAAAAA8D8AAAAAAADwPwYAACAjlwZAAAAAAAAA8D8GAAAgI5cGQAAAAAAAAPA/BgAAICOXBkAGAAAgI5cGQAAAAAAAAPA/AAAAAAAA8D8AAAAAAADwPwAAAAAAAPA/AAAAAAAA8D8GAAAgI5cGQAAAAAAAAPA/AAAAAAAA8D8AAAAAAADwPwAAAAAAAPA/AAAAAAAA8D8AAAAAAADwPwAAAAAAAPA/AAAAAAAA8D8AAAAAAADwPwAAAAAAAPA/AAAAAAAA8D8AAAAAAADwPwAAAAAAAPA/AAAAAAAA8D8AAAAAAADwPwAAAAAAAPA/AAAAAAAA8D8AAAAAAADwPwAAAAAAAPA/AAAAAAAA8D8AAAAAAADwPwAAAAAAAPA/AAAAAAAA8D8AAAAAAADwPwAAAAAAAPA/AAAAAAAA8D8AAAAAAADwPwAAAAAAAPA/AAAAAAAA8D8AAAAAAADwPwAAAAAAAPA/AAAAAAAA8D8AAAAAAADwPwAAAAAAAPA/AAAAAAAA8D8GAAAgI5cGQAAAAAAAAPA/AAAAAAAA8D8AAAAAAADwPwAAAAAAAPA/+v//H+whCkAAAAAAAADwPwAAAAAAAPA/AAAAAAAA8D8AAAAAAADwPwAAAAAAAPA/AAAAAAAA8D8AAAAAAADwPwAAAAAAAPA/AAAAAAAA8D8AAAAAAADwPwAAAAAAAPA/AAAAAAAA8D8AAAAAAADwPwAAAAAAAPA/AAAAAAAA8D8GAAAgI5cGQAYAACAjlwZAAAAAAAAA8D8AAAAAAADwPwAAAAAAAPA/AAAAAAAA8D8GAAAgI5cGQAAAAAAAAPA/AAAAAAAA8D8AAAAAAADwPwAAAAAAAPA/AAAAAAAA8D8AAAAAAADwPwAAAAAAAPA/BgAAICOXBkAAAAAAAADwPwAAAAAAAPA/AAAAAAAA8D8AAAAAAADwPwAAAAAAAPA/AAAAAAAA8D8AAAAAAADwPwAAAAAAAPA/AAAAAAAA8D8AAAAAAADwPwAAAAAAAPA/AAAAAAAA8D8AAAAAAADwPwAAAAAAAPA/AAAAAAAA8D8AAAAAAADwPwAAAAAAAPA/AAAAAAAA8D8AAAAAAADwPwAAAAAAAPA/AAAAAAAA8D8AAAAAAADwPwAAAAAAAPA/BgAAICOXBkAAAAAAAADwPwAAAAAAAPA/AAAAAAAA8D8AAAAAAADwPwAAAAAAAPA/AAAAAAAA8D8AAAAAAADwPwAAAAAAAPA/AAAAAAAA8D8GAAAgI5cGQAAAAAAAAPA/AAAAAAAA8D8AAAAAAADwPwYAACAjlwZAAAAAAAAA8D8AAAAAAADwPwAAAAAAAPA/AAAAAAAA8D8AAAAAAADwPwYAACAjlwZAAAAAAAAA8D8AAAAAAADwPwAAAAAAAPA/AAAAAAAA8D8AAAAAAADwPwAAAAAAAPA/AAAAAAAA8D8AAAAAAADwP/j//9+A+AhAAAAAAAAA8D8AAAAAAADwPwAAAAAAAPA/AAAAAAAA8D8AAAAAAADwPwYAACAjlwZAAAAAAAAA8D8AAAAAAADwPwAAAAAAAPA/AAAAAAAA8D8AAAAAAADwP/j//9+A+AhAAAAAAAAA8D8AAAAAAADwPwAAAAAAAPA/AAAAAAAA8D8AAAAAAADwPwAAAAAAAPA/AAAAAAAA8D8AAAAAAADwPwYAACAjlwZAAAAAAAAA8D8AAAAAAADwPwAAAAAAAPA/AAAAAAAA8D8AAAAAAADwPwAAAAAAAPA/AAAAAAAA8D8AAAAAAADwPwAAAAAAAPA/AAAAAAAA8D8AAAAAAADwPwAAAAAAAPA/AAAAAAAA8D8AAAAAAADwPwAAAAAAAPA/AAAAAAAA8D8AAAAAAADwPwAAAAAAAPA/AAAAAAAA8D8AAAAAAADwPwAAAAAAAPA/AAAAAAAA8D8AAAAAAADwPwAAAAAAAPA/AAAAAAAA8D8AAAAAAADwPwAAAAAAAPA/AAAAAAAA8D8AAAAAAADwPwAAAAAAAPA/AAAAAAAA8D8AAAAAAADwPwAAAAAAAPA/AAAAAAAA8D8AAAAAAADwPwAAAAAAAPA/AAAAAAAA8D8GAAAgI5cGQAAAAAAAAPA/7f//35ev8T8GAAAgI5cGQAAAAAAAAPA/AAAAAAAA8D8AAAAAAADwPwAAAAAAAPA/AAAAAAAA8D8AAAAAAADwPwAAAAAAAPA/AAAAAAAA8D8AAAAAAADwPwAAAAAAAPA/BgAAICOXBkAAAAAAAADwPwAAAAAAAPA/AAAAAAAA8D8AAAAAAADwPwAAAAAAAPA/AAAAAAAA8D8AAAAAAADwPwAAAAAAAPA/AAAAAAAA8D8AAAAAAADwPwYAACAjlwZAAAAAAAAA8D8GAAAgI5cGQAAAAAAAAPA/AAAAAAAA8D8AAAAAAADwPwAAAAAAAPA/AAAAAAAA8D8AAAAAAADwPwAAAAAAAPA/AAAAAAAA8D8AAAAAAADwPwAAAAAAAPA/AAAAAAAA8D8AAAAAAADwPwMAACBOvgtAAAAAAAAA8D8AAAAAAADwPwAAAAAAAPA/AAAAAAAA8D8AAAAAAADwPwAAAAAAAPA/AAAAAAAA8D8AAAAAAADwPwAAAAAAAPA/AAAAAAAA8D8AAAAAAADwPwAAAAAAAPA/AAAAAAAA8D8AAAAAAADwPwAAAAAAAPA/AAAAAAAA8D8AAAAAAADwPwAAAAAAAPA/AAAAAAAA8D8AAAAAAADwPwYAACAjlwZAAAAAAAAA8D8AAAAAAADwPwAAAAAAAPA/AAAAAAAA8D8AAAAAAADwPwAAAAAAAPA/AAAAAAAA8D8AAAAAAADwPwAAAAAAAPA/AAAAAAAA8D8GAAAgI5cGQAAAAAAAAPA/AAAAAAAA8D8AAAAAAADwPwAAAAAAAPA/BgAAICOXBkAGAAAgI5cGQAAAAAAAAPA/AAAAAAAA8D8AAAAAAADwPwAAAAAAAPA/AAAAAAAA8D8AAAAAAADwPwAAAAAAAPA/AAAAAAAA8D8AAAAAAADwPwAAAAAAAPA/AAAAAAAA8D8AAAAAAADwPwAAAAAAAPA/AAAAAAAA8D8AAAAAAADwPwAAAAAAAPA/BgAAICOXBkAGAAAgI5cGQAAAAAAAAPA/AAAAAAAA8D8AAAAAAADwPwAAAAAAAPA/AAAAAAAA8D8AAAAAAADwPwYAACAjlwZAAAAAAAAA8D8AAAAAAADwPwAAAAAAAPA/AAAAAAAA8D8AAAAAAADwPwAAAAAAAPA/AAAAAAAA8D8AAAAAAADwPwAAAAAAAPA/AAAAAAAA8D8GAAAgI5cGQAAAAAAAAPA/AAAAAAAA8D8GAAAgI5cGQAAAAAAAAPA/BgAAICOXBkAAAAAAAADwPwAAAAAAAPA/AAAAAAAA8D8AAAAAAADwPwAAAAAAAPA/AAAAAAAA8D8AAAAAAADwPwAAAAAAAPA/AAAAAAAA8D8AAAAAAADwPwAAAAAAAPA/AAAAAAAA8D8AAAAAAADwPwAAAAAAAPA/AAAAAAAA8D8AAAAAAADwPwAAAAAAAPA/AAAAAAAA8D8AAAAAAADwPwAAAAAAAPA/AAAAAAAA8D8GAAAgI5cGQAAAAAAAAPA/AAAAAAAA8D8GAAAgI5cGQAAAAAAAAPA/AAAAAAAA8D8AAAAAAADwPwAAAAAAAPA/AAAAAAAA8D8AAAAAAADwPwAAAAAAAPA/AAAAAAAA8D8AAAAAAADwPwAAAAAAAPA/AAAAAAAA8D8AAAAAAADwPwAAAAAAAPA/BgAAICOXBkAAAAAAAADwPwAAAAAAAPA/AAAAAAAA8D8GAAAgI5cGQAAAAAAAAPA/AAAAAAAA8D8AAAAAAADwPwAAAAAAAPA/AAAAAAAA8D8GAAAgI5cGQAAAAAAAAPA/AAAAAAAA8D8AAAAAAADwPwAAAAAAAPA/BgAAICOXBkAAAAAAAADwPwAAAAAAAPA/AAAAAAAA8D8AAAAAAADwPwAAAAAAAPA/BgAAICOXBkAAAAAAAADwPwAAAAAAAPA/BgAAICOXBkAAAAAAAADwPwAAAAAAAPA/AAAAAAAA8D8AAAAAAADwPwAAAAAAAPA/AAAAAAAA8D8AAAAAAADwPwYAACAjlwZAAAAAAAAA8D8AAAAAAADwP/j//9+A+AhAAAAAAAAA8D8AAAAAAADwPwAAAAAAAPA/AAAAAAAA8D8AAAAAAADwPwAAAAAAAPA/AAAAAAAA8D8AAAAAAADwPwAAAAAAAPA/AAAAAAAA8D8AAAAAAADwPwAAAAAAAPA/AAAAAAAA8D8AAAAAAADwPwAAAAAAAPA/AAAAAAAA8D8AAAAAAADwPwAAAAAAAPA/AAAAAAAA8D8AAAAAAADwPwAAAAAAAPA/AAAAAAAA8D8AAAAAAADwPwAAAAAAAPA/AAAAAAAA8D8AAAAAAADwPwAAAAAAAPA/AAAAAAAA8D8AAAAAAADwPwAAAAAAAPA/AAAAAAAA8D8AAAAAAADwPwYAACAjlwZAAAAAAAAA8D8AAAAAAADwPwAAAAAAAPA/AAAAAAAA8D8AAAAAAADwPwAAAAAAAPA/AAAAAAAA8D8AAAAAAADwPwAAAAAAAPA/AAAAAAAA8D8AAAAAAADwPwAAAAAAAPA/AAAAAAAA8D8AAAAAAADwPwAAAAAAAPA/BgAAICOXBkAAAAAAAADwPwAAAAAAAPA/AAAAAAAA8D8GAAAgI5cGQAAAAAAAAPA/AAAAAAAA8D8AAAAAAADwPwAAAAAAAPA/AAAAAAAA8D8AAAAAAADwPwMAACBOvgtABgAAICOXBkAAAAAAAADwPwAAAAAAAPA/AAAAAAAA8D8AAAAAAADwPwAAAAAAAPA/AAAAAAAA8D8AAAAAAADwPwAAAAAAAPA/AAAAAAAA8D8AAAAAAADwPwAAAAAAAPA/AAAAAAAA8D8AAAAAAADwPwAAAAAAAPA/AAAAAAAA8D8AAAAAAADwPwAAAAAAAPA/AAAAAAAA8D8AAAAAAADwPwAAAAAAAPA/AAAAAAAA8D8AAAAAAADwPwAAAAAAAPA/AAAAAAAA8D8AAAAAAADwPwAAAAAAAPA/AAAAAAAA8D8AAAAAAADwPwAAAAAAAPA/AAAAAAAA8D8AAAAAAADwPwAAAAAAAPA/AAAAAAAA8D8AAAAAAADwPwAAAAAAAPA/AAAAAAAA8D8AAAAAAADwPwAAAAAAAPA/AAAAAAAA8D8AAAAAAADwPwAAAAAAAPA/AAAAAAAA8D8AAAAAAADwPwAAAAAAAPA/AAAAAAAA8D8AAAAAAADwPwAAAAAAAPA/AAAAAAAA8D8GAAAgI5cGQAAAAAAAAPA/AAAAAAAA8D8AAAAAAADwPwAAAAAAAPA/AAAAAAAA8D8AAAAAAADwPwYAACAjlwZAAAAAAAAA8D8AAAAAAADwPwAAAAAAAPA/AAAAAAAA8D8AAAAAAADwPwAAAAAAAPA/AAAAAAAA8D8AAAAAAADwPwAAAAAAAPA/AAAAAAAA8D8AAAAAAADwPwAAAAAAAPA/AAAAAAAA8D8AAAAAAADwPwAAAAAAAPA/AAAAAAAA8D8AAAAAAADwPwAAAAAAAPA/BgAAICOXBkAAAAAAAADwPwAAAAAAAPA/AAAAAAAA8D8AAAAAAADwPwAAAAAAAPA/AAAAAAAA8D8AAAAAAADwPwYAACAjlwZAAAAAAAAA8D8AAAAAAADwPwAAAAAAAPA/AAAAAAAA8D8AAAAAAADwPwAAAAAAAPA/AAAAAAAA8D8AAAAAAADwPwAAAAAAAPA/AAAAAAAA8D8AAAAAAADwPwAAAAAAAPA/AAAAAAAA8D8GAAAgI5cGQAAAAAAAAPA/AAAAAAAA8D8AAAAAAADwPwAAAAAAAPA/BgAAICOXBkAAAAAAAADwPwAAAAAAAPA/AAAAAAAA8D8GAAAgI5cGQAAAAAAAAPA/AAAAAAAA8D8AAAAAAADwPwAAAAAAAPA/AAAAAAAA8D8AAAAAAADwPwAAAAAAAPA/AAAAAAAA8D8AAAAAAADwPwAAAAAAAPA/AAAAAAAA8D8AAAAAAADwPwAAAAAAAPA/AAAAAAAA8D8AAAAAAADwPwAAAAAAAPA/AAAAAAAA8D8AAAAAAADwPwAAAAAAAPA/AAAAAAAA8D8AAAAAAADwPwAAAAAAAPA/AAAAAAAA8D8AAAAAAADwPwAAAAAAAPA/AAAAAAAA8D8AAAAAAADwPwAAAAAAAPA/AAAAAAAA8D8GAAAgI5cGQAYAACAjlwZAAAAAAAAA8D8AAAAAAADwPwgAAAC0IQdAAAAAAAAA8D8AAAAAAADwPwAAAAAAAPA/AAAAAAAA8D8AAAAAAADwPwAAAAAAAPA/AAAAAAAA8D8AAAAAAADwPwAAAAAAAPA/AAAAAAAA8D8AAAAAAADwPwAAAAAAAPA/AAAAAAAA8D8AAAAAAADwPwAAAAAAAPA/AAAAAAAA8D8GAAAgI5cGQAAAAAAAAPA/AAAAAAAA8D8GAAAgI5cGQAAAAAAAAPA/AAAAAAAA8D8AAAAAAADwPwAAAAAAAPA/AAAAAAAA8D8AAAAAAADwPwAAAAAAAPA/AAAAAAAA8D8AAAAAAADwPwAAAAAAAPA/AAAAAAAA8D8AAAAAAADwPwYAACAjlwZAAAAAAAAA8D8AAAAAAADwPwAAAAAAAPA/AAAAAAAA8D8AAAAAAADwPwAAAAAAAPA/AAAAAAAA8D8AAAAAAADwPwAAAAAAAPA/AAAAAAAA8D8AAAAAAADwPwAAAAAAAPA/AAAAAAAA8D8AAAAAAADwPwAAAAAAAPA/AAAAAAAA8D8AAAAAAADwPwAAAAAAAPA/AAAAAAAA8D8AAAAAAADwPwAAAAAAAPA/BgAAICOXBkAAAAAAAADwPwAAAAAAAPA/AAAAAAAA8D8AAAAAAADwPwAAAAAAAPA/AAAAAAAA8D8AAAAAAADwPwAAAAAAAPA/AAAAAAAA8D8AAAAAAADwPwAAAAAAAPA/AAAAAAAA8D8AAAAAAADwPwAAAAAAAPA/AAAAAAAA8D8AAAAAAADwPwAAAAAAAPA/AAAAAAAA8D8AAAAAAADwPwAAAAAAAPA/AAAAAAAA8D8AAAAAAADwPwAAAAAAAPA/AAAAAAAA8D8AAAAAAADwPwAAAAAAAPA/BgAAICOXBkAAAAAAAADwPwAAAAAAAPA/AAAAAAAA8D/4///fgPgIQAAAAAAAAPA/AAAAAAAA8D8AAAAAAADwP+3//9+Xr/E/AAAAAAAA8D8AAAAAAADwPwAAAAAAAPA/AAAAAAAA8D8AAAAAAADwP+7//19SpvM/AAAAAAAA8D8AAAAAAADwPwAAAAAAAPA/+P//34D4CEAGAAAgI5cGQAAAAAAAAPA/AAAAAAAA8D8AAAAAAADwPwAAAAAAAPA/AAAAAAAA8D8AAAAAAADwPwYAACAjlwZAAAAAAAAA8D8AAAAAAADwPwAAAAAAAPA/AAAAAAAA8D8AAAAAAADwPwYAACAjlwZAAAAAAAAA8D8GAAAgI5cGQAAAAAAAAPA/AAAAAAAA8D8AAAAAAADwPwAAAAAAAPA/AAAAAAAA8D8AAAAAAADwPwAAAAAAAPA/AAAAAAAA8D8AAAAAAADwPwAAAAAAAPA/BgAAICOXBkAGAAAgI5cGQAAAAAAAAPA/AAAAAAAA8D8AAAAAAADwPwAAAAAAAPA/AAAAAAAA8D8AAAAAAADwPwAAAAAAAPA/AAAAAAAA8D8AAAAAAADwPwAAAAAAAPA/AAAAAAAA8D8AAAAAAADwPwAAAAAAAPA/AAAAAAAA8D8GAAAgI5cGQAAAAAAAAPA/BgAAICOXBkAAAAAAAADwPwAAAAAAAPA/AAAAAAAA8D8AAAAAAADwPwAAAAAAAPA/AAAAAAAA8D8AAAAAAADwPwAAAAAAAPA/AAAAAAAA8D8AAAAAAADwPwAAAAAAAPA/BgAAICOXBkAAAAAAAADwPwAAAAAAAPA/AAAAAAAA8D8AAAAAAADwPwAAAAAAAPA/AAAAAAAA8D8AAAAAAADwPwAAAAAAAPA/AAAAAAAA8D8AAAAAAADwPwAAAAAAAPA/AAAAAAAA8D8AAAAAAADwPwAAAAAAAPA/BgAAICOXBkAAAAAAAADwPwAAAAAAAPA/AAAAAAAA8D8GAAAgI5cGQAAAAAAAAPA/AAAAAAAA8D8AAAAAAADwPwAAAAAAAPA/AAAAAAAA8D8AAAAAAADwPwAAAAAAAPA/AAAAAAAA8D8AAAAAAADwPwAAAAAAAPA/AAAAAAAA8D8AAAAAAADwPwAAAAAAAPA/AAAAAAAA8D8AAAAAAADwPwAAAAAAAPA/AAAAAAAA8D8AAAAAAADwPwAAAAAAAPA/AAAAAAAA8D8AAAAAAADwPwYAACAjlwZAAAAAAAAA8D8AAAAAAADwPwAAAAAAAPA/BgAAICOXBkAAAAAAAADwPwAAAAAAAPA/AAAAAAAA8D8AAAAAAADwPwYAACAjlwZAAAAAAAAA8D8AAAAAAADwPwAAAAAAAPA/BgAAICOXBkAAAAAAAADwPwAAAAAAAPA/AAAAAAAA8D8AAAAAAADwPwAAAAAAAPA/AAAAAAAA8D8AAAAAAADwPwYAACAjlwZAAAAAAAAA8D8AAAAAAADwPwYAACAjlwZAAAAAAAAA8D8AAAAAAADwPwYAACAjlwZAAAAAAAAA8D8AAAAAAADwP/j//9+A+AhAAAAAAAAA8D8AAAAAAADwPwAAAAAAAPA/AAAAAAAA8D8AAAAAAADwPwAAAAAAAPA/AAAAAAAA8D8AAAAAAADwPwAAAAAAAPA/AAAAAAAA8D8AAAAAAADwPwAAAAAAAPA/AAAAAAAA8D8AAAAAAADwPwAAAAAAAPA/AAAAAAAA8D8AAAAAAADwPwYAACAjlwZAAAAAAAAA8D8AAAAAAADwPwAAAAAAAPA/AAAAAAAA8D8AAAAAAADwPwAAAAAAAPA/AAAAAAAA8D8AAAAAAADwPwYAACAjlwZAAAAAAAAA8D8AAAAAAADwPwAAAAAAAPA/AAAAAAAA8D8GAAAgI5cGQAYAACAjlwZAAAAAAAAA8D8AAAAAAADwPwAAAAAAAPA/AAAAAAAA8D8AAAAAAADwPwYAACAjlwZABgAAICOXBkAAAAAAAADwPwAAAAAAAPA/BgAAICOXBkAAAAAAAADwPwAAAAAAAPA/AAAAAAAA8D8GAAAgI5cGQAAAAAAAAPA/BgAAICOXBkAAAAAAAADwPwAAAAAAAPA/AAAAAAAA8D8AAAAAAADwPwAAAAAAAPA/AAAAAAAA8D8AAAAAAADwPwAAAAAAAPA/AAAAAAAA8D8AAAAAAADwPwAAAAAAAPA/AAAAAAAA8D8AAAAAAADwPwAAAAAAAPA/AAAAAAAA8D8AAAAAAADwPwAAAAAAAPA/AAAAAAAA8D8AAAAAAADwPwAAAAAAAPA/AAAAAAAA8D8GAAAgI5cGQAAAAAAAAPA/AAAAAAAA8D8AAAAAAADwPwAAAAAAAPA/AAAAAAAA8D8AAAAAAADwPwAAAAAAAPA/AAAAAAAA8D8GAAAgI5cGQAAAAAAAAPA/AAAAAAAA8D8AAAAAAADwPwAAAAAAAPA/AAAAAAAA8D8AAAAAAADwPwAAAAAAAPA/AAAAAAAA8D8AAAAAAADwPwAAAAAAAPA/AAAAAAAA8D8AAAAAAADwPwAAAAAAAPA/BgAAICOXBkAAAAAAAADwPwAAAAAAAPA/AAAAAAAA8D8AAAAAAADwPwAAAAAAAPA/AAAAAAAA8D8AAAAAAADwPwAAAAAAAPA/BgAAICOXBkAAAAAAAADwPwAAAAAAAPA/AAAAAAAA8D8AAAAAAADwPwAAAAAAAPA/BgAAICOXBkAAAAAAAADwPwAAAAAAAPA/AAAAAAAA8D8AAAAAAADwPwAAAAAAAPA/AAAAAAAA8D8AAAAAAADwPwAAAAAAAPA/AAAAAAAA8D8AAAAAAADwPwAAAAAAAPA/AAAAAAAA8D8AAAAAAADwPwAAAAAAAPA/AAAAAAAA8D8AAAAAAADwPwAAAAAAAPA/AAAAAAAA8D8AAAAAAADwPwAAAAAAAPA/AAAAAAAA8D8AAAAAAADwPwAAAAAAAPA/AAAAAAAA8D8AAAAAAADwPwAAAAAAAPA/AAAAAAAA8D8GAAAgI5cGQAAAAAAAAPA/AAAAAAAA8D8GAAAgI5cGQAAAAAAAAPA/AAAAAAAA8D8AAAAAAADwPwAAAAAAAPA/AAAAAAAA8D8AAAAAAADwPwAAAAAAAPA/AAAAAAAA8D8AAAAAAADwPwAAAAAAAPA/BgAAICOXBkAAAAAAAADwPwAAAAAAAPA/AAAAAAAA8D8AAAAAAADwPwAAAAAAAPA/AAAAAAAA8D8AAAAAAADwPwAAAAAAAPA/AAAAAAAA8D8AAAAAAADwPwAAAAAAAPA/AAAAAAAA8D8AAAAAAADwPwAAAAAAAPA/AAAAAAAA8D8AAAAAAADwPwAAAAAAAPA/AAAAAAAA8D8AAAAAAADwPwAAAAAAAPA/AAAAAAAA8D8AAAAAAADwPwAAAAAAAPA/AAAAAAAA8D8GAAAgI5cGQAAAAAAAAPA/BgAAICOXBkAAAAAAAADwPwAAAAAAAPA/AAAAAAAA8D8AAAAAAADwPwAAAAAAAPA/AAAAAAAA8D8AAAAAAADwPwYAACAjlwZAAAAAAAAA8D8GAAAgI5cGQAAAAAAAAPA/AAAAAAAA8D8AAAAAAADwPwAAAAAAAPA/AAAAAAAA8D/u//9fUqbzPwAAAAAAAPA/AAAAAAAA8D8AAAAAAADwPwAAAAAAAPA/AAAAAAAA8D8AAAAAAADwPwAAAAAAAPA/AAAAAAAA8D8AAAAAAADwPwAAAAAAAPA/AAAAAAAA8D8AAAAAAADwPwAAAAAAAPA/AAAAAAAA8D8AAAAAAADwPwAAAAAAAPA/AAAAAAAA8D8AAAAAAADwPwAAAAAAAPA/AAAAAAAA8D8AAAAAAADwPwAAAAAAAPA/AAAAAAAA8D8AAAAAAADwPwAAAAAAAPA/AAAAAAAA8D8AAAAAAADwPwAAAAAAAPA/AAAAAAAA8D8AAAAAAADwPwAAAAAAAPA/AAAAAAAA8D8AAAAAAADwPwAAAAAAAPA/AAAAAAAA8D8AAAAAAADwPwAAAAAAAPA/AAAAAAAA8D8AAAAAAADwPwAAAAAAAPA/AAAAAAAA8D8AAAAAAADwPwkAAECRCQhAAAAAAAAA8D8AAAAAAADwPwAAAAAAAPA/BgAAICOXBkAGAAAgI5cGQAAAAAAAAPA/AAAAAAAA8D8AAAAAAADwPwAAAAAAAPA/AAAAAAAA8D8AAAAAAADwP+3//9+Xr/E/BgAAICOXBkAGAAAgI5cGQAAAAAAAAPA/BgAAICOXBkAGAAAgI5cGQAAAAAAAAPA/AAAAAAAA8D8AAAAAAADwPwAAAAAAAPA/AAAAAAAA8D8AAAAAAADwPwAAAAAAAPA/BgAAICOXBkAAAAAAAADwPwAAAAAAAPA/BgAAICOXBkAAAAAAAADwPwAAAAAAAPA/AAAAAAAA8D8GAAAgI5cGQAAAAAAAAPA/AAAAAAAA8D8AAAAAAADwPwAAAAAAAPA/AAAAAAAA8D8AAAAAAADwPwAAAAAAAPA/AAAAAAAA8D8AAAAAAADwPwAAAAAAAPA/AAAAAAAA8D8GAAAgI5cGQAAAAAAAAPA/AAAAAAAA8D8AAAAAAADwPwYAACAjlwZAAAAAAAAA8D8AAAAAAADwPwAAAAAAAPA/AAAAAAAA8D8AAAAAAADwPwYAACAjlwZAAAAAAAAA8D8AAAAAAADwPwAAAAAAAPA/AAAAAAAA8D8AAAAAAADwPwYAACAjlwZAAAAAAAAA8D8AAAAAAADwPwAAAAAAAPA/AAAAAAAA8D8AAAAAAADwPwAAAAAAAPA/AAAAAAAA8D8GAAAgI5cGQAAAAAAAAPA/AAAAAAAA8D8AAAAAAADwPwAAAAAAAPA/AAAAAAAA8D8AAAAAAADwPwAAAAAAAPA/AAAAAAAA8D8AAAAAAADwPwAAAAAAAPA/BgAAICOXBkAAAAAAAADwPwAAAAAAAPA/AAAAAAAA8D8AAAAAAADwPwAAAAAAAPA/BgAAICOXBkAAAAAAAADwPwAAAAAAAPA/AAAAAAAA8D8AAAAAAADwPwAAAAAAAPA/AAAAAAAA8D8AAAAAAADwPwAAAAAAAPA/AAAAAAAA8D8GAAAgI5cGQAAAAAAAAPA/AAAAAAAA8D8AAAAAAADwPwAAAAAAAPA/AAAAAAAA8D8AAAAAAADwPwAAAAAAAPA/AAAAAAAA8D8GAAAgI5cGQAAAAAAAAPA/AAAAAAAA8D8GAAAgI5cGQAAAAAAAAPA/BgAAICOXBkAAAAAAAADwPwAAAAAAAPA/AAAAAAAA8D8GAAAgI5cGQAYAACAjlwZABgAAICOXBkAAAAAAAADwPwAAAAAAAPA/AAAAAAAA8D8AAAAAAADwPwAAAAAAAPA/AAAAAAAA8D8AAAAAAADwPwAAAAAAAPA/AAAAAAAA8D8AAAAAAADwPwAAAAAAAPA/+P//v5UWB0AAAAAAAADwPwAAAAAAAPA/AAAAAAAA8D8AAAAAAADwPwYAACAjlwZAAAAAAAAA8D8AAAAAAADwPwAAAAAAAPA/AAAAAAAA8D8AAAAAAADwPwAAAAAAAPA/AAAAAAAA8D8AAAAAAADwPwAAAAAAAPA/AAAAAAAA8D8AAAAAAADwPwAAAAAAAPA/AAAAAAAA8D8AAAAAAADwPwAAAAAAAPA/AAAAAAAA8D8AAAAAAADwPwAAAAAAAPA/AAAAAAAA8D8AAAAAAADwPwAAAAAAAPA/BgAAICOXBkAAAAAAAADwPwAAAAAAAPA/AAAAAAAA8D8AAAAAAADwPwAAAAAAAPA/AAAAAAAA8D8AAAAAAADwP/j//9+A+AhABgAAICOXBkAAAAAAAADwPwAAAAAAAPA/AAAAAAAA8D8AAAAAAADwPwAAAAAAAPA/BgAAICOXBkAAAAAAAADwPwYAACAjlwZAAAAAAAAA8D8AAAAAAADwPwAAAAAAAPA/AAAAAAAA8D8AAAAAAADwPwAAAAAAAPA/AAAAAAAA8D8AAAAAAADwPwAAAAAAAPA/AAAAAAAA8D8GAAAgI5cGQAYAACAjlwZAAAAAAAAA8D8AAAAAAADwPwAAAAAAAPA/AAAAAAAA8D8AAAAAAADwPwYAACAjlwZAAAAAAAAA8D8AAAAAAADwPwAAAAAAAPA/AAAAAAAA8D8AAAAAAADwPwAAAAAAAPA/AAAAAAAA8D8AAAAAAADwPwAAAAAAAPA/AAAAAAAA8D8AAAAAAADwPwAAAAAAAPA/AAAAAAAA8D8AAAAAAADwPwAAAAAAAPA/AAAAAAAA8D8AAAAAAADwPwAAAAAAAPA/AAAAAAAA8D8AAAAAAADwPwYAACAjlwZABgAAICOXBkAAAAAAAADwPwAAAAAAAPA/AAAAAAAA8D8AAAAAAADwPwAAAAAAAPA/AAAAAAAA8D8AAAAAAADwPwAAAAAAAPA/AAAAAAAA8D8AAAAAAADwPwAAAAAAAPA/AAAAAAAA8D8GAAAgI5cGQAAAAAAAAPA/AAAAAAAA8D8AAAAAAADwPwAAAAAAAPA/AAAAAAAA8D8AAAAAAADwPwAAAAAAAPA/AAAAAAAA8D8AAAAAAADwPwAAAAAAAPA/AAAAAAAA8D8AAAAAAADwPwAAAAAAAPA/AAAAAAAA8D8AAAAAAADwPwAAAAAAAPA/AAAAAAAA8D8AAAAAAADwPwAAAAAAAPA/AAAAAAAA8D8AAAAAAADwPwAAAAAAAPA/AAAAAAAA8D8GAAAgI5cGQAAAAAAAAPA/AAAAAAAA8D8AAAAAAADwPwYAACAjlwZABgAAICOXBkAAAAAAAADwPwAAAAAAAPA/AAAAAAAA8D8AAAAAAADwPwAAAAAAAPA/AAAAAAAA8D8AAAAAAADwPwAAAAAAAPA/AAAAAAAA8D8GAAAgI5cGQAAAAAAAAPA/BgAAICOXBkAAAAAAAADwPwAAAAAAAPA/AAAAAAAA8D8AAAAAAADwPwAAAAAAAPA/AAAAAAAA8D8AAAAAAADwPwAAAAAAAPA/AAAAAAAA8D8AAAAAAADwPwAAAAAAAPA/AAAAAAAA8D8AAAAAAADwPwAAAAAAAPA/AAAAAAAA8D8AAAAAAADwPwAAAAAAAPA/AAAAAAAA8D8AAAAAAADwPwAAAAAAAPA/AAAAAAAA8D8GAAAgI5cGQAAAAAAAAPA/AAAAAAAA8D8AAAAAAADwPwAAAAAAAPA/AAAAAAAA8D8AAAAAAADwPwAAAAAAAPA/AAAAAAAA8D8AAAAAAADwPwAAAAAAAPA/AAAAAAAA8D8AAAAAAADwPwAAAAAAAPA/AAAAAAAA8D8AAAAAAADwPwYAACAjlwZAAAAAAAAA8D8AAAAAAADwPwAAAAAAAPA/AAAAAAAA8D8AAAAAAADwPwAAAAAAAPA/AAAAAAAA8D8GAAAgI5cGQAAAAAAAAPA/AAAAAAAA8D8GAAAgI5cGQAAAAAAAAPA/AAAAAAAA8D8AAAAAAADwPwAAAAAAAPA/AAAAAAAA8D8GAAAgI5cGQAYAACAjlwZAAAAAAAAA8D8AAAAAAADwPwAAAAAAAPA/AAAAAAAA8D8AAAAAAADwPwAAAAAAAPA/AAAAAAAA8D8AAAAAAADwPwAAAAAAAPA/AAAAAAAA8D8AAAAAAADwPwYAACAjlwZAAAAAAAAA8D8AAAAAAADwPwAAAAAAAPA/AAAAAAAA8D8AAAAAAADwPwAAAAAAAPA/AAAAAAAA8D8AAAAAAADwPwAAAAAAAPA/AAAAAAAA8D8AAAAAAADwPwAAAAAAAPA/AAAAAAAA8D8AAAAAAADwPwAAAAAAAPA/AAAAAAAA8D8AAAAAAADwPwAAAAAAAPA/AAAAAAAA8D8AAAAAAADwPwAAAAAAAPA/AAAAAAAA8D8DAAAgTr4LQAAAAAAAAPA/AAAAAAAA8D8AAAAAAADwPwAAAAAAAPA/AAAAAAAA8D8AAAAAAADwPwAAAAAAAPA/AAAAAAAA8D8AAAAAAADwPwAAAAAAAPA/AAAAAAAA8D8AAAAAAADwPwAAAAAAAPA/BgAAICOXBkAAAAAAAADwPwAAAAAAAPA/AAAAAAAA8D8AAAAAAADwPwAAAAAAAPA/AAAAAAAA8D8AAAAAAADwPwAAAAAAAPA/AAAAAAAA8D8AAAAAAADwPwAAAAAAAPA/AAAAAAAA8D8GAAAgI5cGQAAAAAAAAPA/AAAAAAAA8D8AAAAAAADwPwYAACAjlwZAAAAAAAAA8D8AAAAAAADwPwAAAAAAAPA/BgAAICOXBkAAAAAAAADwPwAAAAAAAPA/AAAAAAAA8D8AAAAAAADwPwAAAAAAAPA/AAAAAAAA8D8GAAAgI5cGQAAAAAAAAPA/AAAAAAAA8D8AAAAAAADwPwAAAAAAAPA/AAAAAAAA8D8AAAAAAADwPwAAAAAAAPA/+P//34D4CEAAAAAAAADwPwAAAAAAAPA/AAAAAAAA8D8AAAAAAADwPwAAAAAAAPA/AAAAAAAA8D8AAAAAAADwPwAAAAAAAPA/AAAAAAAA8D8AAAAAAADwPwAAAAAAAPA/BgAAICOXBkAAAAAAAADwPwAAAAAAAPA/AAAAAAAA8D8AAAAAAADwPwAAAAAAAPA/AAAAAAAA8D8AAAAAAADwPwYAACAjlwZAAAAAAAAA8D8AAAAAAADwPwAAAAAAAPA/AAAAAAAA8D8GAAAgI5cGQAAAAAAAAPA/AAAAAAAA8D8AAAAAAADwPwAAAAAAAPA/BgAAICOXBkAAAAAAAADwPwAAAAAAAPA/AAAAAAAA8D8AAAAAAADwPwAAAAAAAPA/BgAAICOXBkAAAAAAAADwPwAAAAAAAPA/AAAAAAAA8D8GAAAgI5cGQAAAAAAAAPA/AAAAAAAA8D8GAAAgI5cGQAAAAAAAAPA/AAAAAAAA8D8AAAAAAADwPwAAAAAAAPA/BgAAICOXBkAAAAAAAADwPwAAAAAAAPA/AAAAAAAA8D8GAAAgI5cGQAAAAAAAAPA/AAAAAAAA8D8AAAAAAADwPwAAAAAAAPA/AAAAAAAA8D8AAAAAAADwPwAAAAAAAPA/AAAAAAAA8D8GAAAgI5cGQAAAAAAAAPA/AAAAAAAA8D8AAAAAAADwPwAAAAAAAPA/AAAAAAAA8D8AAAAAAADwPwAAAAAAAPA/BgAAICOXBkAGAAAgI5cGQAAAAAAAAPA/AAAAAAAA8D8GAAAgI5cGQAAAAAAAAPA/AAAAAAAA8D8AAAAAAADwPwAAAAAAAPA/AAAAAAAA8D8AAAAAAADwPwAAAAAAAPA/AAAAAAAA8D8AAAAAAADwPwAAAAAAAPA/AAAAAAAA8D8AAAAAAADwPwYAAICrkQlAAAAAAAAA8D8AAAAAAADwPwAAAAAAAPA/AAAAAAAA8D8GAAAgI5cGQAAAAAAAAPA/AAAAAAAA8D8GAAAgI5cGQAAAAAAAAPA/AAAAAAAA8D8AAAAAAADwPwYAACAjlwZAAAAAAAAA8D8AAAAAAADwPwAAAAAAAPA/AAAAAAAA8D8AAAAAAADwPwAAAAAAAPA/AAAAAAAA8D8AAAAAAADwPwAAAAAAAPA/AAAAAAAA8D8AAAAAAADwPwYAACAjlwZAAAAAAAAA8D8AAAAAAADwPwAAAAAAAPA/AAAAAAAA8D8AAAAAAADwPwAAAAAAAPA/AAAAAAAA8D8AAAAAAADwPwAAAAAAAPA/AAAAAAAA8D8AAAAAAADwPwYAACAjlwZAAAAAAAAA8D8AAAAAAADwPwAAAAAAAPA/AAAAAAAA8D8GAAAgI5cGQAAAAAAAAPA/AAAAAAAA8D8AAAAAAADwPwAAAAAAAPA/AAAAAAAA8D8GAAAgI5cGQAAAAAAAAPA/AAAAAAAA8D8AAAAAAADwPwAAAAAAAPA/AAAAAAAA8D8AAAAAAADwPwAAAAAAAPA/BgAAICOXBkAAAAAAAADwPwAAAAAAAPA/AAAAAAAA8D8AAAAAAADwPwAAAAAAAPA/AAAAAAAA8D8AAAAAAADwPwAAAAAAAPA/AAAAAAAA8D8GAAAgI5cGQAAAAAAAAPA/AAAAAAAA8D8GAAAgI5cGQAAAAAAAAPA/AAAAAAAA8D8GAAAgI5cGQAAAAAAAAPA/AAAAAAAA8D8AAAAAAADwPwAAAAAAAPA/AAAAAAAA8D8AAAAAAADwPwAAAAAAAPA/BgAAICOXBkAAAAAAAADwPwAAAAAAAPA/AAAAAAAA8D8AAAAAAADwPwAAAAAAAPA/AAAAAAAA8D8AAAAAAADwPwAAAAAAAPA/AAAAAAAA8D8AAAAAAADwPwAAAAAAAPA/AAAAAAAA8D8AAAAAAADwPwAAAAAAAPA/AAAAAAAA8D8AAAAAAADwPwAAAAAAAPA/BgAAICOXBkAAAAAAAADwPwAAAAAAAPA/AAAAAAAA8D8AAAAAAADwPwYAACAjlwZAAAAAAAAA8D8AAAAAAADwPwAAAAAAAPA/BgAAICOXBkAAAAAAAADwPwYAACAjlwZAAAAAAAAA8D8AAAAAAADwPwAAAAAAAPA/AAAAAAAA8D8GAAAgI5cGQAAAAAAAAPA/AAAAAAAA8D8AAAAAAADwPwAAAAAAAPA/BgAAICOXBkAAAAAAAADwPwAAAAAAAPA/AAAAAAAA8D8AAAAAAADwPwAAAAAAAPA/AAAAAAAA8D8AAAAAAADwPwYAACAjlwZAAAAAAAAA8D8AAAAAAADwPwAAAAAAAPA/AAAAAAAA8D8AAAAAAADwPwAAAAAAAPA/BgAAICOXBkAAAAAAAADwPwAAAAAAAPA/AAAAAAAA8D8AAAAAAADwPwAAAAAAAPA/BgAAICOXBkAAAAAAAADwPwAAAAAAAPA/AAAAAAAA8D8AAAAAAADwPwYAACAjlwZAAAAAAAAA8D8AAAAAAADwPwAAAAAAAPA/AAAAAAAA8D8AAAAAAADwPwAAAAAAAPA/AAAAAAAA8D8AAAAAAADwPwAAAAAAAPA/AAAAAAAA8D8AAAAAAADwPwYAACAjlwZAAAAAAAAA8D8AAAAAAADwPwAAAAAAAPA/AAAAAAAA8D8GAAAgI5cGQAAAAAAAAPA/AAAAAAAA8D8AAAAAAADwPwAAAAAAAPA/BgAAICOXBkAAAAAAAADwPwAAAAAAAPA/AAAAAAAA8D8AAAAAAADwPwAAAAAAAPA/BgAAICOXBkAAAAAAAADwPwAAAAAAAPA/AAAAAAAA8D8AAAAAAADwPwAAAAAAAPA/AAAAAAAA8D8AAAAAAADwPwAAAAAAAPA/AAAAAAAA8D8AAAAAAADwPwYAACAjlwZAAAAAAAAA8D8AAAAAAADwPwYAACAjlwZAAAAAAAAA8D8AAAAAAADwPwAAAAAAAPA/AAAAAAAA8D8GAAAgI5cGQAAAAAAAAPA/AAAAAAAA8D8AAAAAAADwPwAAAAAAAPA/AAAAAAAA8D8GAAAgI5cGQAAAAAAAAPA/AAAAAAAA8D8AAAAAAADwPwAAAAAAAPA/AAAAAAAA8D8AAAAAAADwPwAAAAAAAPA/AAAAAAAA8D8AAAAAAADwPwAAAAAAAPA/BgAAICOXBkAAAAAAAADwPwAAAAAAAPA/AAAAAAAA8D8AAAAAAADwPwAAAAAAAPA/AAAAAAAA8D8AAAAAAADwPwYAACAjlwZAAAAAAAAA8D8AAAAAAADwPwYAACAjlwZABgAAICOXBkAAAAAAAADwPwAAAAAAAPA/AAAAAAAA8D8AAAAAAADwPwAAAAAAAPA/AAAAAAAA8D8GAAAgI5cGQAAAAAAAAPA/AAAAAAAA8D8AAAAAAADwPwAAAAAAAPA/AAAAAAAA8D8AAAAAAADwPwAAAAAAAPA/AAAAAAAA8D8AAAAAAADwPwAAAAAAAPA/BgAAICOXBkAAAAAAAADwPwAAAAAAAPA/AAAAAAAA8D8AAAAAAADwPwAAAAAAAPA/AAAAAAAA8D8AAAAAAADwPwYAACAjlwZAAAAAAAAA8D8AAAAAAADwPwAAAAAAAPA/AAAAAAAA8D8AAAAAAADwPwAAAAAAAPA/AAAAAAAA8D8AAAAAAADwPwAAAAAAAPA/BgAAICOXBkAAAAAAAADwPwAAAAAAAPA/AAAAAAAA8D8AAAAAAADwPwAAAAAAAPA/AAAAAAAA8D8AAAAAAADwPwAAAAAAAPA/AAAAAAAA8D8AAAAAAADwPwAAAAAAAPA/AAAAAAAA8D8AAAAAAADwPwAAAAAAAPA/AAAAAAAA8D8AAAAAAADwPwYAACAjlwZAAAAAAAAA8D8AAAAAAADwPwAAAAAAAPA/AAAAAAAA8D8GAAAgI5cGQAAAAAAAAPA/BgAAICOXBkAAAAAAAADwPwAAAAAAAPA/AAAAAAAA8D8AAAAAAADwPwAAAAAAAPA/AAAAAAAA8D8AAAAAAADwPwAAAAAAAPA/AAAAAAAA8D8AAAAAAADwPwAAAAAAAPA/AAAAAAAA8D8AAAAAAADwPwAAAAAAAPA/BgAAICOXBkAAAAAAAADwPwAAAAAAAPA/AAAAAAAA8D8AAAAAAADwPwAAAAAAAPA/AAAAAAAA8D8AAAAAAADwPwAAAAAAAPA/AAAAAAAA8D8AAAAAAADwPwAAAAAAAPA/AAAAAAAA8D8AAAAAAADwPwYAACAjlwZAAAAAAAAA8D8AAAAAAADwPwAAAAAAAPA/AAAAAAAA8D8AAAAAAADwPwAAAAAAAPA/AAAAAAAA8D8AAAAAAADwPwkAAECRCQhAAAAAAAAA8D8AAAAAAADwPwAAAAAAAPA/AAAAAAAA8D8AAAAAAADwPwAAAAAAAPA/AAAAAAAA8D8AAAAAAADwPwAAAAAAAPA/AAAAAAAA8D8AAAAAAADwPwAAAAAAAPA/AAAAAAAA8D8AAAAAAADwPwAAAAAAAPA/AAAAAAAA8D8AAAAAAADwPwAAAAAAAPA/AAAAAAAA8D8AAAAAAADwPwAAAAAAAPA/AAAAAAAA8D8AAAAAAADwPwAAAAAAAPA/AAAAAAAA8D8AAAAAAADwPwAAAAAAAPA/AAAAAAAA8D8AAAAAAADwPwAAAAAAAPA/AAAAAAAA8D8GAAAgI5cGQAYAACAjlwZABgAAICOXBkAAAAAAAADwPwAAAAAAAPA/AAAAAAAA8D8AAAAAAADwPwAAAAAAAPA/AAAAAAAA8D8AAAAAAADwPwAAAAAAAPA/AAAAAAAA8D8AAAAAAADwPwAAAAAAAPA/AAAAAAAA8D8AAAAAAADwPwAAAAAAAPA/AAAAAAAA8D8AAAAAAADwPwAAAAAAAPA/AAAAAAAA8D8AAAAAAADwPwAAAAAAAPA/AAAAAAAA8D8AAAAAAADwPwAAAAAAAPA/AAAAAAAA8D8AAAAAAADwPwAAAAAAAPA/AAAAAAAA8D8AAAAAAADwPwAAAAAAAPA/AAAAAAAA8D8GAAAgI5cGQAAAAAAAAPA/AAAAAAAA8D8AAAAAAADwPwAAAAAAAPA/AAAAAAAA8D8AAAAAAADwPwAAAAAAAPA/AAAAAAAA8D8AAAAAAADwPwAAAAAAAPA/BgAAICOXBkAAAAAAAADwPwAAAAAAAPA/AAAAAAAA8D8GAAAgI5cGQAAAAAAAAPA/AAAAAAAA8D8AAAAAAADwPwAAAAAAAPA/AAAAAAAA8D8AAAAAAADwPwAAAAAAAPA/AAAAAAAA8D8AAAAAAADwPwAAAAAAAPA/AAAAAAAA8D8AAAAAAADwPwAAAAAAAPA/AAAAAAAA8D8AAAAAAADwPwAAAAAAAPA/AAAAAAAA8D8AAAAAAADwPwAAAAAAAPA/AAAAAAAA8D8AAAAAAADwPwAAAAAAAPA/BgAAICOXBkAAAAAAAADwPwAAAAAAAPA/AAAAAAAA8D/6//8f7CEKQAAAAAAAAPA/BgAAICOXBkAAAAAAAADwPwYAACAjlwZAAAAAAAAA8D8AAAAAAADwPwAAAAAAAPA/AAAAAAAA8D8AAAAAAADwPwAAAAAAAPA/AAAAAAAA8D8AAAAAAADwPwAAAAAAAPA/AAAAAAAA8D8AAAAAAADwPwAAAAAAAPA/AAAAAAAA8D8AAAAAAADwPwAAAAAAAPA/AAAAAAAA8D8AAAAAAADwPwYAACAjlwZAAAAAAAAA8D8AAAAAAADwPwAAAAAAAPA/AAAAAAAA8D8AAAAAAADwPwAAAAAAAPA/AAAAAAAA8D8AAAAAAADwPwAAAAAAAPA/AAAAAAAA8D8AAAAAAADwPwYAACAjlwZABgAAICOXBkAAAAAAAADwPwAAAAAAAPA/AAAAAAAA8D8AAAAAAADwPwAAAAAAAPA/AAAAAAAA8D8GAAAgI5cGQAAAAAAAAPA/AAAAAAAA8D8AAAAAAADwPwAAAAAAAPA/AAAAAAAA8D8AAAAAAADwPwAAAAAAAPA/7f//35ev8T8GAAAgI5cGQAAAAAAAAPA/AAAAAAAA8D8AAAAAAADwPwAAAAAAAPA/BgAAICOXBkAAAAAAAADwPwAAAAAAAPA/AAAAAAAA8D8AAAAAAADwPwAAAAAAAPA/BgAAICOXBkAAAAAAAADwPwAAAAAAAPA/AAAAAAAA8D8AAAAAAADwPwAAAAAAAPA/AAAAAAAA8D8AAAAAAADwPwYAACAjlwZAAAAAAAAA8D8AAAAAAADwPwAAAAAAAPA/AAAAAAAA8D8AAAAAAADwPwAAAAAAAPA/BgAAICOXBkAAAAAAAADwPwAAAAAAAPA/AAAAAAAA8D8AAAAAAADwPwAAAAAAAPA/AAAAAAAA8D8GAAAgI5cGQAAAAAAAAPA/AAAAAAAA8D8AAAAAAADwPwAAAAAAAPA/AAAAAAAA8D8AAAAAAADwPwAAAAAAAPA/BgAAICOXBkAAAAAAAADwPwAAAAAAAPA/AAAAAAAA8D8AAAAAAADwPwAAAAAAAPA/AAAAAAAA8D8AAAAAAADwPwYAACAjlwZAAAAAAAAA8D8AAAAAAADwPwAAAAAAAPA/AAAAAAAA8D8AAAAAAADwPwAAAAAAAPA/AAAAAAAA8D8AAAAAAADwPwAAAAAAAPA/AAAAAAAA8D8AAAAAAADwPwAAAAAAAPA/AAAAAAAA8D8AAAAAAADwPwAAAAAAAPA/AAAAAAAA8D8AAAAAAADwPwAAAAAAAPA/AAAAAAAA8D8AAAAAAADwP+3//9+Xr/E/AAAAAAAA8D8AAAAAAADwPwAAAAAAAPA/AAAAAAAA8D8AAAAAAADwPwAAAAAAAPA/AAAAAAAA8D8AAAAAAADwPwAAAAAAAPA/AAAAAAAA8D8AAAAAAADwPwAAAAAAAPA/AAAAAAAA8D8AAAAAAADwPwAAAAAAAPA/AAAAAAAA8D8AAAAAAADwPwAAAAAAAPA/BgAAICOXBkAAAAAAAADwPwAAAAAAAPA/BgAAICOXBkAAAAAAAADwPwAAAAAAAPA/AAAAAAAA8D8AAAAAAADwPwYAACAjlwZABgAAICOXBkAAAAAAAADwPwAAAAAAAPA/AAAAAAAA8D8AAAAAAADwPwAAAAAAAPA/BgAAICOXBkAAAAAAAADwPwAAAAAAAPA/AAAAAAAA8D8AAAAAAADwPwYAACAjlwZAAAAAAAAA8D8AAAAAAADwPwAAAAAAAPA/AAAAAAAA8D8AAAAAAADwPwAAAAAAAPA/AAAAAAAA8D8AAAAAAADwPwAAAAAAAPA/AAAAAAAA8D8AAAAAAADwPwAAAAAAAPA/AAAAAAAA8D8AAAAAAADwPwYAACAjlwZAAAAAAAAA8D8AAAAAAADwPwAAAAAAAPA/AAAAAAAA8D8AAAAAAADwPwAAAAAAAPA/AAAAAAAA8D8AAAAAAADwPwYAACAjlwZAAAAAAAAA8D8AAAAAAADwPwAAAAAAAPA/BgAAICOXBkAAAAAAAADwP/j//9+A+AhABgAAICOXBkAAAAAAAADwPwAAAAAAAPA/BgAAICOXBkAAAAAAAADwPwAAAAAAAPA/AAAAAAAA8D8AAAAAAADwPwAAAAAAAPA/AAAAAAAA8D8AAAAAAADwPwAAAAAAAPA/AAAAAAAA8D8AAAAAAADwPwAAAAAAAPA/AAAAAAAA8D8AAAAAAADwPwAAAAAAAPA/AAAAAAAA8D8AAAAAAADwPwYAACAjlwZAAAAAAAAA8D8AAAAAAADwPwAAAAAAAPA/AAAAAAAA8D8AAAAAAADwPwAAAAAAAPA/AAAAAAAA8D8AAAAAAADwPwAAAAAAAPA/AAAAAAAA8D8AAAAAAADwPwAAAAAAAPA/AAAAAAAA8D8AAAAAAADwPwAAAAAAAPA/AAAAAAAA8D8AAAAAAADwPwAAAAAAAPA/AAAAAAAA8D8GAAAgI5cGQAAAAAAAAPA/AAAAAAAA8D8AAAAAAADwPwAAAAAAAPA/AAAAAAAA8D8AAAAAAADwPwAAAAAAAPA/AAAAAAAA8D8AAAAAAADwPwAAAAAAAPA/AAAAAAAA8D8AAAAAAADwPwAAAAAAAPA/AAAAAAAA8D8AAAAAAADwPwAAAAAAAPA/AAAAAAAA8D8AAAAAAADwPwAAAAAAAPA/AAAAAAAA8D8AAAAAAADwPwAAAAAAAPA/AAAAAAAA8D8AAAAAAADwPwAAAAAAAPA/AAAAAAAA8D8AAAAAAADwPwAAAAAAAPA/AAAAAAAA8D8AAAAAAADwPwAAAAAAAPA/AAAAAAAA8D8AAAAAAADwPwAAAAAAAPA/AAAAAAAA8D8AAAAAAADwPwYAACAjlwZAAAAAAAAA8D8AAAAAAADwPwAAAAAAAPA/BgAAICOXBkAAAAAAAADwPwAAAAAAAPA/AAAAAAAA8D8AAAAAAADwPwYAACAjlwZAAAAAAAAA8D8AAAAAAADwPwYAACAjlwZAAAAAAAAA8D8AAAAAAADwPwAAAAAAAPA/AAAAAAAA8D8AAAAAAADwPwAAAAAAAPA/AAAAAAAA8D8AAAAAAADwPwAAAAAAAPA/AAAAAAAA8D8AAAAAAADwPwAAAAAAAPA/AAAAAAAA8D8AAAAAAADwPwAAAAAAAPA/AAAAAAAA8D8AAAAAAADwPwAAAAAAAPA/AAAAAAAA8D8AAAAAAADwPwAAAAAAAPA/AAAAAAAA8D8AAAAAAADwPwAAAAAAAPA/AAAAAAAA8D8AAAAAAADwPwAAAAAAAPA/AAAAAAAA8D8AAAAAAADwPwAAAAAAAPA/AAAAAAAA8D8AAAAAAADwPwAAAAAAAPA/BgAAICOXBkAAAAAAAADwPwAAAAAAAPA/AAAAAAAA8D8AAAAAAADwPwYAACAjlwZAAAAAAAAA8D8AAAAAAADwPwAAAAAAAPA/AAAAAAAA8D8AAAAAAADwPwAAAAAAAPA/AAAAAAAA8D8AAAAAAADwPwAAAAAAAPA/AAAAAAAA8D8AAAAAAADwPwYAACAjlwZAAAAAAAAA8D8AAAAAAADwPwAAAAAAAPA/AAAAAAAA8D8AAAAAAADwPwAAAAAAAPA/AAAAAAAA8D8AAAAAAADwPwAAAAAAAPA/AAAAAAAA8D8AAAAAAADwPwAAAAAAAPA/BgAAICOXBkAAAAAAAADwPwYAACAjlwZAAAAAAAAA8D8GAAAgI5cGQAAAAAAAAPA/AAAAAAAA8D8AAAAAAADwPwAAAAAAAPA/AAAAAAAA8D8AAAAAAADwPwAAAAAAAPA/BgAAICOXBkAAAAAAAADwPwAAAAAAAPA/AAAAAAAA8D8AAAAAAADwPwAAAAAAAPA/AAAAAAAA8D8GAAAgI5cGQAAAAAAAAPA/AAAAAAAA8D8AAAAAAADwPwAAAAAAAPA/AAAAAAAA8D8AAAAAAADwPwAAAAAAAPA/AAAAAAAA8D8AAAAAAADwPwAAAAAAAPA/AAAAAAAA8D8AAAAAAADwPwAAAAAAAPA/AAAAAAAA8D8AAAAAAADwPwAAAAAAAPA/AAAAAAAA8D8AAAAAAADwPwAAAAAAAPA/BgAAICOXBkAAAAAAAADwPwYAACAjlwZAAAAAAAAA8D8AAAAAAADwPwYAACAjlwZAAAAAAAAA8D8AAAAAAADwPwAAAAAAAPA/AAAAAAAA8D8AAAAAAADwPwAAAAAAAPA/BgAAICOXBkAAAAAAAADwPwAAAAAAAPA/AAAAAAAA8D8AAAAAAADwPwAAAAAAAPA/AAAAAAAA8D8AAAAAAADwPwAAAAAAAPA/BgAAICOXBkAAAAAAAADwPwAAAAAAAPA/AAAAAAAA8D8AAAAAAADwPwAAAAAAAPA/AAAAAAAA8D8AAAAAAADwPwAAAAAAAPA/BgAAICOXBkAAAAAAAADwPwAAAAAAAPA/AAAAAAAA8D8AAAAAAADwPwYAACAjlwZAAAAAAAAA8D8AAAAAAADwPwYAACAjlwZAAAAAAAAA8D8AAAAAAADwPwAAAAAAAPA/AAAAAAAA8D8AAAAAAADwPwAAAAAAAPA/BgAAICOXBkAGAAAgI5cGQAAAAAAAAPA/AAAAAAAA8D8AAAAAAADwPwAAAAAAAPA/AAAAAAAA8D8AAAAAAADwPwAAAAAAAPA/AAAAAAAA8D8AAAAAAADwPwAAAAAAAPA/BgAAICOXBkAAAAAAAADwPwYAACAjlwZAAAAAAAAA8D8AAAAAAADwPwAAAAAAAPA/AAAAAAAA8D8AAAAAAADwPwAAAAAAAPA/BgAAICOXBkAAAAAAAADwPwYAACAjlwZAAAAAAAAA8D8AAAAAAADwPwAAAAAAAPA/AAAAAAAA8D8GAAAgI5cGQAAAAAAAAPA/AAAAAAAA8D8AAAAAAADwPwAAAAAAAPA/AAAAAAAA8D8AAAAAAADwPwAAAAAAAPA/AAAAAAAA8D8AAAAAAADwPwAAAAAAAPA/AAAAAAAA8D8AAAAAAADwPwAAAAAAAPA/AAAAAAAA8D8AAAAAAADwPwAAAAAAAPA/7v//X1Km8z8AAAAAAADwPwAAAAAAAPA/AAAAAAAA8D8AAAAAAADwPwAAAAAAAPA/AAAAAAAA8D8AAAAAAADwPwAAAAAAAPA/BgAAICOXBkAAAAAAAADwPwYAACAjlwZAAAAAAAAA8D8AAAAAAADwPwAAAAAAAPA/AAAAAAAA8D8AAAAAAADwPwAAAAAAAPA/AAAAAAAA8D8GAAAgI5cGQAYAACAjlwZAAAAAAAAA8D8AAAAAAADwPwAAAAAAAPA/AAAAAAAA8D8GAAAgI5cGQAAAAAAAAPA/AAAAAAAA8D8AAAAAAADwPwAAAAAAAPA/AAAAAAAA8D8AAAAAAADwPwAAAAAAAPA/AAAAAAAA8D8AAAAAAADwPwAAAAAAAPA/AAAAAAAA8D8AAAAAAADwPwAAAAAAAPA/AAAAAAAA8D8GAAAgI5cGQAAAAAAAAPA/AAAAAAAA8D8AAAAAAADwPwAAAAAAAPA/AAAAAAAA8D8AAAAAAADwPwAAAAAAAPA/AAAAAAAA8D8AAAAAAADwPwYAACAjlwZAAAAAAAAA8D8DAAAgTr4LQAAAAAAAAPA/AAAAAAAA8D8AAAAAAADwPwYAACAjlwZAAAAAAAAA8D8GAAAgI5cGQAAAAAAAAPA/BgAAICOXBkAAAAAAAADwPwYAACAjlwZAAAAAAAAA8D8AAAAAAADwPwAAAAAAAPA/BgAAICOXBkAAAAAAAADwPwAAAAAAAPA/AAAAAAAA8D8AAAAAAADwPwAAAAAAAPA/AAAAAAAA8D8AAAAAAADwPwAAAAAAAPA/BgAAICOXBkAAAAAAAADwPwAAAAAAAPA/AAAAAAAA8D8AAAAAAADwPwAAAAAAAPA/AAAAAAAA8D8AAAAAAADwPwAAAAAAAPA/BgAAICOXBkAAAAAAAADwPwAAAAAAAPA/AAAAAAAA8D8AAAAAAADwPwAAAAAAAPA/AAAAAAAA8D8AAAAAAADwPwAAAAAAAPA/AAAAAAAA8D8AAAAAAADwPwAAAAAAAPA/AAAAAAAA8D8AAAAAAADwPwAAAAAAAPA/AAAAAAAA8D8AAAAAAADwPwAAAAAAAPA/AAAAAAAA8D8AAAAAAADwPwAAAAAAAPA/AAAAAAAA8D8AAAAAAADwPwAAAAAAAPA/AAAAAAAA8D8AAAAAAADwPwYAACAjlwZAAAAAAAAA8D8AAAAAAADwPwAAAAAAAPA/AAAAAAAA8D8AAAAAAADwPwAAAAAAAPA/AAAAAAAA8D8AAAAAAADwPwYAACAjlwZAAAAAAAAA8D8GAAAgI5cGQAAAAAAAAPA/AAAAAAAA8D8AAAAAAADwPwAAAAAAAPA/AAAAAAAA8D8AAAAAAADwPwAAAAAAAPA/BgAAICOXBkAAAAAAAADwPwAAAAAAAPA/AAAAAAAA8D8AAAAAAADwPwAAAAAAAPA/AAAAAAAA8D8AAAAAAADwPwAAAAAAAPA/AAAAAAAA8D8AAAAAAADwPwAAAAAAAPA/AAAAAAAA8D8AAAAAAADwP/j//9+A+AhAAAAAAAAA8D8AAAAAAADwPwAAAAAAAPA/AAAAAAAA8D8AAAAAAADwPwAAAAAAAPA/AAAAAAAA8D8GAAAgI5cGQAYAACAjlwZAAAAAAAAA8D8AAAAAAADwPwAAAAAAAPA/AAAAAAAA8D8AAAAAAADwPwAAAAAAAPA/BgAAICOXBkAAAAAAAADwPwAAAAAAAPA/AAAAAAAA8D8AAAAAAADwPwAAAAAAAPA/AAAAAAAA8D8AAAAAAADwPwAAAAAAAPA/BgAAICOXBkAAAAAAAADwPwAAAAAAAPA/AAAAAAAA8D8AAAAAAADwPwAAAAAAAPA/+P//34D4CEAAAAAAAADwPwAAAAAAAPA/AAAAAAAA8D8AAAAAAADwPwAAAAAAAPA/AAAAAAAA8D8AAAAAAADwPwAAAAAAAPA/AAAAAAAA8D8AAAAAAADwPwAAAAAAAPA/AAAAAAAA8D8AAAAAAADwPwAAAAAAAPA/BgAAICOXBkAAAAAAAADwPwAAAAAAAPA/AAAAAAAA8D8AAAAAAADwPwYAACAjlwZAAAAAAAAA8D8AAAAAAADwPwAAAAAAAPA/AAAAAAAA8D8AAAAAAADwPwAAAAAAAPA/AAAAAAAA8D8GAAAgI5cGQAYAACAjlwZAAAAAAAAA8D8GAAAgI5cGQAAAAAAAAPA/AAAAAAAA8D8AAAAAAADwPwYAACAjlwZAAAAAAAAA8D8AAAAAAADwPwYAACAjlwZABgAAICOXBkAAAAAAAADwPwAAAAAAAPA/AAAAAAAA8D8AAAAAAADwPwAAAAAAAPA/AAAAAAAA8D8AAAAAAADwPwAAAAAAAPA/AAAAAAAA8D8AAAAAAADwPwAAAAAAAPA/AAAAAAAA8D8AAAAAAADwPwAAAAAAAPA/AAAAAAAA8D8AAAAAAADwPwAAAAAAAPA/AAAAAAAA8D8AAAAAAADwPwAAAAAAAPA/AAAAAAAA8D8AAAAAAADwPwAAAAAAAPA/AAAAAAAA8D8AAAAAAADwPwAAAAAAAPA/AAAAAAAA8D8AAAAAAADwPwAAAAAAAPA/AAAAAAAA8D8AAAAAAADwPwAAAAAAAPA/BgAAICOXBkAAAAAAAADwPwYAACAjlwZAAAAAAAAA8D8GAAAgI5cGQAYAACAjlwZAAAAAAAAA8D8AAAAAAADwPwAAAAAAAPA/AAAAAAAA8D8AAAAAAADwPwAAAAAAAPA/BgAAICOXBkAAAAAAAADwPwAAAAAAAPA/AAAAAAAA8D8AAAAAAADwPwAAAAAAAPA/AAAAAAAA8D8AAAAAAADwPwYAACAjlwZAAAAAAAAA8D8GAAAgI5cGQAAAAAAAAPA/AAAAAAAA8D8AAAAAAADwPwAAAAAAAPA/AAAAAAAA8D8AAAAAAADwPwAAAAAAAPA/AAAAAAAA8D8AAAAAAADwPwAAAAAAAPA/BgAAICOXBkAAAAAAAADwPwAAAAAAAPA/BgAAICOXBkAAAAAAAADwPwAAAAAAAPA/AAAAAAAA8D8AAAAAAADwPwYAACAjlwZABgAAICOXBkAAAAAAAADwPwAAAAAAAPA/AAAAAAAA8D8AAAAAAADwPwAAAAAAAPA/AAAAAAAA8D8AAAAAAADwPwAAAAAAAPA/AAAAAAAA8D8AAAAAAADwPwAAAAAAAPA/AAAAAAAA8D8AAAAAAADwPwAAAAAAAPA/AAAAAAAA8D8AAAAAAADwPwAAAAAAAPA/AAAAAAAA8D8GAAAgI5cGQAAAAAAAAPA/AAAAAAAA8D8AAAAAAADwPwAAAAAAAPA/AAAAAAAA8D8AAAAAAADwPwAAAAAAAPA/AAAAAAAA8D8AAAAAAADwPwAAAAAAAPA/AAAAAAAA8D8AAAAAAADwPwYAACAjlwZAAAAAAAAA8D8AAAAAAADwPwAAAAAAAPA/AAAAAAAA8D8AAAAAAADwPwAAAAAAAPA/AAAAAAAA8D8GAAAgI5cGQAAAAAAAAPA/AAAAAAAA8D8AAAAAAADwPwAAAAAAAPA/BgAAICOXBkAAAAAAAADwPwAAAAAAAPA/AAAAAAAA8D8AAAAAAADwPwAAAAAAAPA/AAAAAAAA8D8AAAAAAADwPwAAAAAAAPA/AAAAAAAA8D8AAAAAAADwPwYAACAjlwZAAAAAAAAA8D8AAAAAAADwPwAAAAAAAPA/AAAAAAAA8D8AAAAAAADwPwAAAAAAAPA/AAAAAAAA8D8AAAAAAADwPwAAAAAAAPA/AAAAAAAA8D8AAACAExzyPwAAAAAAAPA/AAAAAAAA8D8AAAAAAADwPwYAACAjlwZAAAAAAAAA8D8GAAAgI5cGQAAAAAAAAPA/AAAAAAAA8D8AAAAAAADwPwAAAAAAAPA/AAAAAAAA8D8GAAAgI5cGQAYAACAjlwZAAAAAAAAA8D8AAAAAAADwPwAAAAAAAPA/AAAAAAAA8D8AAAAAAADwPwAAAAAAAPA/BgAAICOXBkAAAAAAAADwPwAAAAAAAPA/BgAAICOXBkDt///fl6/xPwYAACAjlwZABgAAICOXBkAAAAAAAADwPwAAAAAAAPA/BgAAICOXBkDt///fl6/xPwAAAAAAAPA/AAAAAAAA8D8AAAAAAADwPwAAAAAAAPA/AAAAAAAA8D8AAAAAAADwPwAAAAAAAPA/AAAAAAAA8D8AAAAAAADwPwAAAAAAAPA/AAAAAAAA8D8GAAAgI5cGQAAAAAAAAPA/AAAAAAAA8D8AAAAAAADwPwAAAAAAAPA/AAAAAAAA8D8AAAAAAADwPwAAAAAAAPA/AAAAAAAA8D8AAAAAAADwPwAAAAAAAPA/AAAAAAAA8D8AAAAAAADwPwAAAAAAAPA/AAAAAAAA8D8AAAAAAADwPwAAAAAAAPA/AAAAAAAA8D8AAAAAAADwPwAAAAAAAPA/AAAAAAAA8D8AAAAAAADwP/j//9+A+AhAAAAAAAAA8D8AAAAAAADwPwAAAAAAAPA/AAAAAAAA8D8AAAAAAADwPwAAAAAAAPA/AAAAAAAA8D8AAAAAAADwPwAAAAAAAPA/AAAAAAAA8D8GAAAgI5cGQAAAAAAAAPA/AAAAAAAA8D8AAAAAAADwPwAAAAAAAPA/AAAAAAAA8D8GAAAgI5cGQAAAAAAAAPA/AAAAAAAA8D8AAAAAAADwPwAAAAAAAPA/AAAAAAAA8D8AAAAAAADwPwAAAAAAAPA/AAAAAAAA8D8AAAAAAADwPwAAAAAAAPA/AAAAAAAA8D8GAAAgI5cGQAAAAAAAAPA/AAAAAAAA8D8AAAAAAADwPwAAAAAAAPA/AAAAAAAA8D8AAAAAAADwPwAAAAAAAPA/AAAAAAAA8D8AAAAAAADwPwAAAAAAAPA/AAAAAAAA8D8AAAAAAADwPwAAAAAAAPA/AAAAAAAA8D8AAAAAAADwPwAAAAAAAPA/BgAAICOXBkAAAAAAAADwPwYAACAjlwZAAAAAAAAA8D8AAAAAAADwPwAAAAAAAPA/AAAAAAAA8D8AAAAAAADwPwAAAAAAAPA/AAAAAAAA8D8AAAAAAADwPwAAAAAAAPA/AAAAAAAA8D8AAAAAAADwPwAAAAAAAPA/AAAAAAAA8D8AAAAAAADwPwAAAAAAAPA/AAAAAAAA8D8AAAAAAADwPwAAAAAAAPA/AAAAAAAA8D8AAAAAAADwPwAAAAAAAPA/AAAAAAAA8D8AAAAAAADwPwAAAAAAAPA/AAAAAAAA8D8AAAAAAADwPwAAAAAAAPA/AAAAAAAA8D8AAAAAAADwPwYAACAjlwZAAAAAAAAA8D8AAAAAAADwPwAAAAAAAPA/AAAAAAAA8D8AAAAAAADwPwAAAAAAAPA/AAAAAAAA8D8AAAAAAADwPwAAAAAAAPA/AAAAAAAA8D8AAAAAAADwPwAAAAAAAPA/AAAAAAAA8D8AAAAAAADwPwAAAAAAAPA/AAAAAAAA8D8GAAAgI5cGQAAAAAAAAPA/BgAAICOXBkAGAAAgI5cGQAAAAAAAAPA/AAAAAAAA8D8AAAAAAADwPwAAAAAAAPA/AAAAAAAA8D8AAAAAAADwPwAAAAAAAPA/AAAAAAAA8D8GAAAgI5cGQAAAAAAAAPA/AAAAAAAA8D8AAAAAAADwPwAAAAAAAPA/AAAAAAAA8D8AAAAAAADwPwAAAAAAAPA/AAAAAAAA8D8GAAAgI5cGQAAAAAAAAPA/AAAAAAAA8D8AAAAAAADwPwAAAAAAAPA/AAAAAAAA8D8AAAAAAADwPwAAAAAAAPA/AAAAAAAA8D8AAAAAAADwPwAAAAAAAPA/AAAAAAAA8D8AAAAAAADwPwAAAAAAAPA/AAAAAAAA8D8AAAAAAADwPwAAAAAAAPA/BgAAICOXBkAGAAAgI5cGQAAAAAAAAPA/AAAAAAAA8D8AAAAAAADwPwYAACAjlwZAAAAAAAAA8D8AAAAAAADwPwYAACAjlwZAAAAAAAAA8D8AAAAAAADwPwAAAAAAAPA/AAAAAAAA8D8AAAAAAADwPwAAAAAAAPA/AAAAAAAA8D8AAAAAAADwPwAAAAAAAPA/BgAAICOXBkAAAAAAAADwPwAAAAAAAPA/BgAAICOXBkAAAAAAAADwPwAAAAAAAPA/AAAAAAAA8D8GAAAgI5cGQAYAACAjlwZAAAAAAAAA8D8AAAAAAADwP/j//9+A+AhAAAAAAAAA8D8GAAAgI5cGQAYAACAjlwZAAAAAAAAA8D8AAAAAAADwPwAAAAAAAPA/AAAAAAAA8D8AAAAAAADwPwAAAAAAAPA/AAAAAAAA8D8GAAAgI5cGQAAAAAAAAPA/AAAAAAAA8D8AAAAAAADwPwAAAAAAAPA/AAAAAAAA8D8AAAAAAADwPwAAAAAAAPA/AAAAAAAA8D8AAAAAAADwPwAAAAAAAPA/BgAAICOXBkAAAAAAAADwPwAAAAAAAPA/AAAAAAAA8D8AAAAAAADwPwAAAAAAAPA/AAAAAAAA8D8AAAAAAADwPwAAAAAAAPA/AAAAAAAA8D8AAAAAAADwPwAAAAAAAPA/AAAAAAAA8D8AAAAAAADwPwAAAAAAAPA/AAAAAAAA8D8AAAAAAADwPwYAACAjlwZAAAAAAAAA8D8AAAAAAADwPwYAACAjlwZAAAAAAAAA8D8AAAAAAADwPwAAAAAAAPA/AAAAAAAA8D8AAAAAAADwPwAAAAAAAPA/AAAAAAAA8D8AAAAAAADwPwAAAAAAAPA/AAAAAAAA8D8AAAAAAADwPwYAACAjlwZAAAAAAAAA8D8AAAAAAADwPwYAACAjlwZAAAAAAAAA8D8AAAAAAADwPwYAACAjlwZAAAAAAAAA8D8AAAAAAADwPwAAAAAAAPA/AAAAAAAA8D8AAAAAAADwPwAAAAAAAPA/AAAAAAAA8D8AAAAAAADwPwAAAAAAAPA/AAAAAAAA8D/s//+/PoLyPwAAAAAAAPA/AAAAAAAA8D8AAAAAAADwPwAAAAAAAPA/AAAAAAAA8D8AAAAAAADwPwAAAAAAAPA/AAAAAAAA8D8AAAAAAADwPwAAAAAAAPA/AAAAAAAA8D8AAAAAAADwPwAAAAAAAPA/AAAAAAAA8D8AAAAAAADwPwAAAAAAAPA/AAAAAAAA8D8AAAAAAADwPwAAAAAAAPA/AAAAAAAA8D8GAAAgI5cGQAAAAAAAAPA/AAAAAAAA8D8AAAAAAADwPwAAAAAAAPA/AAAAAAAA8D8GAAAgI5cGQAAAAAAAAPA/AAAAAAAA8D8AAAAAAADwPwAAAAAAAPA/AAAAAAAA8D8AAAAAAADwPwAAAAAAAPA/BgAAICOXBkAAAAAAAADwPwAAAAAAAPA/BgAAICOXBkAAAAAAAADwPwAAAAAAAPA/AAAAAAAA8D8AAAAAAADwPwAAAAAAAPA/BgAAICOXBkAAAAAAAADwPwAAAAAAAPA/AAAAAAAA8D8AAAAAAADwPwAAAAAAAPA/AAAAAAAA8D8AAAAAAADwPwAAAAAAAPA/AAAAAAAA8D8AAAAAAADwPwYAACAjlwZABgAAICOXBkAAAAAAAADwPwAAAAAAAPA/BgAAICOXBkAGAAAgI5cGQAAAAAAAAPA/AAAAAAAA8D8AAAAAAADwPwAAAAAAAPA/BgAAICOXBkAAAAAAAADwPwAAAAAAAPA/AAAAAAAA8D8AAAAAAADwPwAAAAAAAPA/AAAAAAAA8D8GAAAgI5cGQAAAAAAAAPA/BgAAICOXBkAAAAAAAADwPwAAAAAAAPA/AAAAAAAA8D8AAAAAAADwPwAAAAAAAPA/AAAAAAAA8D8AAAAAAADwPwAAAAAAAPA/AAAAAAAA8D8AAAAAAADwPwAAAAAAAPA/AAAAAAAA8D8AAAAAAADwPwAAAAAAAPA/AAAAAAAA8D8AAAAAAADwPwAAAAAAAPA/AAAAAAAA8D8AAAAAAADwPwYAACAjlwZAAAAAAAAA8D8AAAAAAADwPwAAAAAAAPA/AAAAAAAA8D8AAAAAAADwPwYAACAjlwZAAAAAAAAA8D8AAAAAAADwPwAAAAAAAPA/AAAAAAAA8D8AAAAAAADwPwAAAAAAAPA/AAAAAAAA8D8AAAAAAADwPwAAAAAAAPA/AAAAAAAA8D8AAAAAAADwPwAAAAAAAPA/AAAAAAAA8D8AAAAAAADwPwAAAAAAAPA/AAAAAAAA8D8AAAAAAADwPwAAAAAAAPA/AAAAAAAA8D8GAAAgI5cGQAAAAAAAAPA/BgAAICOXBkAAAAAAAADwPwAAAAAAAPA/AAAAAAAA8D8AAAAAAADwPwYAACAjlwZAAAAAAAAA8D8AAAAAAADwPwAAAAAAAPA/AAAAAAAA8D8GAAAgI5cGQAAAAAAAAPA/AAAAAAAA8D8AAAAAAADwPwAAAAAAAPA/AAAAAAAA8D8AAAAAAADwPwAAAAAAAPA/AAAAAAAA8D8AAAAAAADwPwAAAAAAAPA/AAAAAAAA8D8GAAAgI5cGQAAAAAAAAPA/AAAAAAAA8D8AAAAAAADwPwAAAAAAAPA/AAAAAAAA8D8AAAAAAADwPwAAAAAAAPA/AAAAAAAA8D8AAAAAAADwPwAAAAAAAPA/AAAAAAAA8D8AAAAAAADwPwAAAAAAAPA/AAAAAAAA8D8AAAAAAADwPwAAAAAAAPA/AAAAAAAA8D8AAAAAAADwPwYAACAjlwZAAAAAAAAA8D8AAAAAAADwPwAAAAAAAPA/AAAAAAAA8D8AAAAAAADwPwAAAAAAAPA/AAAAAAAA8D8AAAAAAADwPwAAAAAAAPA/AAAAAAAA8D8GAAAgI5cGQAAAAAAAAPA/AAAAAAAA8D8AAAAAAADwPwAAAAAAAPA/AAAAAAAA8D8AAAAAAADwPwYAACAjlwZAAAAAAAAA8D8GAAAgI5cGQAAAAAAAAPA/AAAAAAAA8D8AAAAAAADwPwAAAAAAAPA/AAAAAAAA8D8AAAAAAADwPwYAACAjlwZABgAAICOXBkAAAAAAAADwPwAAAAAAAPA/AAAAAAAA8D8AAAAAAADwPwAAAAAAAPA/AAAAAAAA8D8AAAAAAADwPwAAAAAAAPA/AAAAAAAA8D8AAAAAAADwPwAAAAAAAPA/AAAAAAAA8D8AAAAAAADwPwAAAAAAAPA/AAAAAAAA8D8AAAAAAADwPwAAAAAAAPA/AAAAAAAA8D8AAAAAAADwPwAAAAAAAPA/AAAAAAAA8D8AAAAAAADwPwAAAAAAAPA/AAAAAAAA8D8GAAAgI5cGQAAAAAAAAPA/AAAAAAAA8D8AAAAAAADwPwAAAAAAAPA/AAAAAAAA8D8AAAAAAADwPwAAAAAAAPA/AAAAAAAA8D8AAAAAAADwPwAAAAAAAPA/AAAAAAAA8D8AAAAAAADwPwAAAAAAAPA/AAAAAAAA8D8AAAAAAADwPwAAAAAAAPA/AAAAAAAA8D8AAAAAAADwPwAAAAAAAPA/AAAAAAAA8D8AAAAAAADwPwAAAAAAAPA/AAAAAAAA8D8AAAAAAADwPwAAAAAAAPA/AAAAAAAA8D8AAAAAAADwPwAAAAAAAPA/AAAAAAAA8D8AAAAAAADwPwAAAAAAAPA/AAAAAAAA8D8GAAAgI5cGQAAAAAAAAPA/AAAAAAAA8D8AAAAAAADwPwAAAAAAAPA/AAAAAAAA8D8AAAAAAADwPwAAAAAAAPA/AAAAAAAA8D8AAAAAAADwPwAAAAAAAPA/AAAAAAAA8D8GAAAgI5cGQAAAAAAAAPA/AAAAAAAA8D8AAAAAAADwPwAAAAAAAPA/AAAAAAAA8D8AAAAAAADwPwYAACAjlwZAAAAAAAAA8D8AAAAAAADwPwAAAAAAAPA/AAAAAAAA8D8AAAAAAADwPwAAAAAAAPA/AAAAAAAA8D8AAAAAAADwPwAAAAAAAPA/AAAAAAAA8D8AAAAAAADwPwAAAAAAAPA/AAAAAAAA8D8AAAAAAADwPwAAAAAAAPA/AAAAAAAA8D8AAAAAAADwPwAAAAAAAPA/AAAAAAAA8D8GAAAgI5cGQAAAAAAAAPA/AAAAAAAA8D8AAAAAAADwPwAAAAAAAPA/BgAAICOXBkAAAAAAAADwPwAAAAAAAPA/AAAAAAAA8D8AAAAAAADwPwAAAAAAAPA/AAAAAAAA8D8AAAAAAADwPwAAAAAAAPA/AAAAAAAA8D8GAAAgI5cGQAAAAAAAAPA/AAAAAAAA8D8AAAAAAADwPwAAAAAAAPA/AAAAAAAA8D8AAAAAAADwPwAAAAAAAPA/AAAAAAAA8D8AAAAAAADwPwAAAAAAAPA/AAAAAAAA8D8AAAAAAADwPwAAAAAAAPA/AAAAAAAA8D8AAAAAAADwPwAAAAAAAPA/AAAAAAAA8D8AAAAAAADwP+3//9+Xr/E/BgAAICOXBkAGAAAgI5cGQAAAAAAAAPA/AAAAAAAA8D8AAAAAAADwPwAAAAAAAPA/AAAAAAAA8D8AAAAAAADwPwAAAAAAAPA/AAAAAAAA8D8AAAAAAADwPwYAACAjlwZAAAAAAAAA8D8AAAAAAADwPwAAAAAAAPA/AAAAAAAA8D8AAAAAAADwPwAAAAAAAPA/AAAAAAAA8D8GAAAgI5cGQAAAAAAAAPA/AAAAAAAA8D8AAAAAAADwPwAAAAAAAPA/AAAAAAAA8D8AAAAAAADwPwAAAAAAAPA/AAAAAAAA8D8AAAAAAADwPwAAAAAAAPA/AAAAAAAA8D8AAAAAAADwPwAAAAAAAPA/BgAAICOXBkAGAAAgI5cGQAAAAAAAAPA/AAAAAAAA8D8AAAAAAADwPwAAAAAAAPA/AAAAAAAA8D8AAAAAAADwPwAAAAAAAPA/AAAAAAAA8D8AAAAAAADwPwAAAAAAAPA/AAAAAAAA8D8AAAAAAADwPwAAAAAAAPA/AAAAAAAA8D8AAAAAAADwPwAAAAAAAPA/AAAAAAAA8D8AAAAAAADwPwAAAAAAAPA/AAAAAAAA8D8AAAAAAADwP/j//9+A+AhAAAAAAAAA8D8AAAAAAADwPwAAAAAAAPA/AAAAAAAA8D8AAAAAAADwPwAAAAAAAPA/AAAAAAAA8D8AAAAAAADwPwAAAAAAAPA/AAAAAAAA8D8AAAAAAADwPwYAACAjlwZAAAAAAAAA8D8AAAAAAADwPwAAAAAAAPA/AAAAAAAA8D8AAAAAAADwPwAAAAAAAPA/AAAAAAAA8D8AAAAAAADwPwAAAAAAAPA/AAAAAAAA8D8GAAAgI5cGQAYAACAjlwZAAAAAAAAA8D8AAAAAAADwPwAAAAAAAPA/AAAAAAAA8D8AAAAAAADwPwAAAAAAAPA/AAAAAAAA8D8AAAAAAADwPwAAAAAAAPA/AAAAAAAA8D8AAAAAAADwPwAAAAAAAPA/AAAAAAAA8D8AAAAAAADwPwAAAAAAAPA/AAAAAAAA8D8AAAAAAADwPwAAAAAAAPA/AAAAAAAA8D8AAAAAAADwPwAAAAAAAPA/AAAAAAAA8D8AAAAAAADwPwAAAAAAAPA/AAAAAAAA8D8AAAAAAADwPwAAAAAAAPA/AAAAAAAA8D/t///fl6/xPwAAAAAAAPA/AAAAAAAA8D8AAAAAAADwPwAAAAAAAPA/AAAAAAAA8D8AAAAAAADwPwAAAAAAAPA/AAAAAAAA8D8AAAAAAADwPwAAAAAAAPA/AAAAAAAA8D8AAAAAAADwPwAAAAAAAPA/AAAAAAAA8D8AAAAAAADwPwAAAAAAAPA/AAAAAAAA8D8AAAAAAADwPwAAAAAAAPA/AAAAAAAA8D8AAAAAAADwPwAAAAAAAPA/AAAAAAAA8D8AAAAAAADwPwYAACAjlwZAAAAAAAAA8D8AAAAAAADwPwAAAAAAAPA/BgAAICOXBkAAAAAAAADwPwAAAAAAAPA/BgAAICOXBkAAAAAAAADwPwAAAAAAAPA/BgAAICOXBkAAAAAAAADwPwAAAAAAAPA/AAAAAAAA8D8AAAAAAADwPwAAAAAAAPA/AAAAAAAA8D8AAAAAAADwPwAAAAAAAPA/AAAAAAAA8D8GAAAgI5cGQAAAAAAAAPA/AAAAAAAA8D8AAAAAAADwPwAAAAAAAPA/AAAAAAAA8D8AAAAAAADwPwAAAAAAAPA/AAAAAAAA8D8AAAAAAADwPwAAAAAAAPA/AAAAAAAA8D8AAAAAAADwPwAAAAAAAPA/AAAAAAAA8D8AAAAAAADwPwAAAAAAAPA/AAAAAAAA8D8AAAAAAADwPwAAAAAAAPA/BgAAICOXBkAAAAAAAADwPwAAAAAAAPA/AAAAAAAA8D8AAAAAAADwPwAAAAAAAPA/AAAAAAAA8D8AAAAAAADwPwAAAAAAAPA/AAAAAAAA8D8AAAAAAADwPwAAAAAAAPA/AAAAAAAA8D8GAAAgI5cGQAAAAAAAAPA/AAAAAAAA8D8AAAAAAADwPwAAAAAAAPA/AAAAAAAA8D8AAAAAAADwPwAAAAAAAPA/AAAAAAAA8D8AAAAAAADwPwAAAAAAAPA/BgAAICOXBkAAAAAAAADwPwAAAAAAAPA/AAAAAAAA8D8AAAAAAADwPwAAAAAAAPA/BgAAICOXBkAAAAAAAADwPwAAAAAAAPA/AAAAAAAA8D8AAAAAAADwPwAAAAAAAPA/AAAAAAAA8D8AAAAAAADwPwAAAAAAAPA/AAAAAAAA8D8GAAAgI5cGQAAAAAAAAPA/AAAAAAAA8D8AAAAAAADwPwAAAAAAAPA/AAAAAAAA8D8AAAAAAADwPwYAACAjlwZABgAAICOXBkAAAAAAAADwPwAAAAAAAPA/AAAAAAAA8D8AAAAAAADwPwAAAAAAAPA/AAAAAAAA8D8AAAAAAADwPwAAAAAAAPA/AAAAAAAA8D8GAAAgI5cGQAAAAAAAAPA/BgAAICOXBkAGAAAgI5cGQAAAAAAAAPA/AAAAAAAA8D8AAAAAAADwPwAAAAAAAPA/AAAAAAAA8D8AAAAAAADwPwAAAAAAAPA/BgAAICOXBkAAAAAAAADwPwAAAAAAAPA/AAAAAAAA8D8AAAAAAADwPwAAAAAAAPA/AAAAAAAA8D8AAAAAAADwPwAAAAAAAPA/AAAAAAAA8D8AAAAAAADwPwAAAAAAAPA/AAAAAAAA8D8GAAAgI5cGQAAAAAAAAPA/AAAAAAAA8D8AAAAAAADwPwAAAAAAAPA/AAAAAAAA8D8AAAAAAADwPwAAAAAAAPA/AAAAAAAA8D8GAAAgI5cGQAAAAAAAAPA/AAAAAAAA8D8GAAAgI5cGQAAAAAAAAPA/AAAAAAAA8D8AAAAAAADwPwAAAAAAAPA/BgAAICOXBkAAAAAAAADwPwAAAAAAAPA/AAAAAAAA8D8AAAAAAADwPwAAAAAAAPA/AAAAAAAA8D8GAAAgI5cGQAAAAAAAAPA/AAAAAAAA8D8GAAAgI5cGQAAAAAAAAPA/AAAAAAAA8D8AAAAAAADwPwAAAAAAAPA/AAAAAAAA8D8AAAAAAADwPwAAAAAAAPA/AAAAAAAA8D8AAAAAAADwPwYAACAjlwZAAAAAAAAA8D8AAAAAAADwPwAAAAAAAPA/AAAAAAAA8D8AAAAAAADwPwAAAAAAAPA/AAAAAAAA8D8GAAAgI5cGQAAAAAAAAPA/AAAAAAAA8D8AAAAAAADwPwAAAAAAAPA/AAAAAAAA8D8AAAAAAADwPwAAAAAAAPA/AAAAAAAA8D8AAAAAAADwPwAAAAAAAPA/AAAAAAAA8D8AAAAAAADwPwAAAAAAAPA/AAAAAAAA8D8AAAAAAADwPwYAACAjlwZAAAAAAAAA8D8AAAAAAADwPwAAAAAAAPA/AAAAAAAA8D8AAAAAAADwPwYAACAjlwZAAAAAAAAA8D8AAAAAAADwPwAAAAAAAPA/BgAAICOXBkAAAAAAAADwPwAAAAAAAPA/AAAAAAAA8D8AAAAAAADwPwAAAAAAAPA/AAAAAAAA8D8AAAAAAADwPwAAAAAAAPA/AAAAAAAA8D8AAAAAAADwPwAAAAAAAPA/AAAAAAAA8D8AAAAAAADwPwAAAAAAAPA/BgAAICOXBkAAAAAAAADwPwYAACAjlwZAAAAAAAAA8D8AAAAAAADwPwYAACAjlwZAAAAAAAAA8D8AAAAAAADwP/3//587hQ1ABgAAICOXBkAAAAAAAADwPwAAAAAAAPA/AAAAAAAA8D8AAAAAAADwPwAAAAAAAPA/AAAAAAAA8D8AAAAAAADwPwYAACAjlwZAAAAAAAAA8D8AAAAAAADwPwAAAAAAAPA/AAAAAAAA8D8AAAAAAADwPwAAAAAAAPA/AAAAAAAA8D8AAAAAAADwPwAAAAAAAPA/BgAAICOXBkAAAAAAAADwPwAAAAAAAPA/AAAAAAAA8D8AAAAAAADwPwAAAAAAAPA/AAAAAAAA8D8AAAAAAADwPwAAAAAAAPA/AAAAAAAA8D8AAAAAAADwPwAAAAAAAPA/AAAAAAAA8D8AAAAAAADwPwAAAAAAAPA/AAAAAAAA8D8AAAAAAADwPwAAAAAAAPA/AAAAAAAA8D8AAAAAAADwPwAAAAAAAPA/AAAAAAAA8D8AAAAAAADwPwAAAAAAAPA/AAAAAAAA8D8AAAAAAADwPwAAAAAAAPA/AAAAAAAA8D8AAAAAAADwPwAAAAAAAPA/AAAAAAAA8D8AAAAAAADwPwAAAAAAAPA/AAAAAAAA8D8AAAAAAADwPwAAAAAAAPA/AAAAAAAA8D8AAAAAAADwPwYAACAjlwZAAAAAAAAA8D8AAAAAAADwPwAAAAAAAPA/AAAAAAAA8D8GAAAgI5cGQAAAAAAAAPA/BgAAICOXBkAAAAAAAADwPwAAAAAAAPA/AAAAAAAA8D8AAAAAAADwPwAAAAAAAPA/AAAAAAAA8D8GAAAgI5cGQAAAAAAAAPA/AAAAAAAA8D8GAAAgI5cGQAAAAAAAAPA/AAAAAAAA8D8AAAAAAADwPwAAAAAAAPA/AAAAAAAA8D8AAAAAAADwPwAAAAAAAPA/AAAAAAAA8D8AAAAAAADwPwAAAAAAAPA/AAAAAAAA8D8AAAAAAADwPwYAACAjlwZAAAAAAAAA8D8AAAAAAADwPwAAAAAAAPA/AAAAAAAA8D8AAAAAAADwPwAAAAAAAPA/AAAAAAAA8D8AAAAAAADwPwAAAAAAAPA/AAAAAAAA8D8AAAAAAADwPwAAAAAAAPA/AAAAAAAA8D8AAAAAAADwPwAAAAAAAPA/BgAAICOXBkAAAAAAAADwPwAAAAAAAPA/AAAAAAAA8D8AAAAAAADwPwAAAAAAAPA/AAAAAAAA8D8AAAAAAADwPwAAAAAAAPA/AAAAAAAA8D8AAAAAAADwPwAAAAAAAPA/BgAAICOXBkAAAAAAAADwPwAAAAAAAPA/BgAAICOXBkAAAAAAAADwPwAAAAAAAPA/AAAAAAAA8D8AAAAAAADwPwAAAAAAAPA/AAAAAAAA8D8AAAAAAADwPwAAAAAAAPA/AAAAAAAA8D8GAAAgI5cGQAAAAAAAAPA/BgAAICOXBkAAAAAAAADwPwAAAAAAAPA/BgAAICOXBkAGAAAgI5cGQAAAAAAAAPA/BgAAICOXBkAAAAAAAADwPwYAACAjlwZAAAAAAAAA8D8AAAAAAADwPwAAAAAAAPA/AAAAAAAA8D8AAAAAAADwPwAAAAAAAPA/AAAAAAAA8D8AAAAAAADwPwAAAAAAAPA/BgAAICOXBkAGAAAgI5cGQAAAAAAAAPA/BgAAICOXBkAAAAAAAADwPwYAACAjlwZAAAAAAAAA8D8AAAAAAADwPwAAAAAAAPA/AAAAAAAA8D8AAAAAAADwPwAAAAAAAPA/AAAAAAAA8D8AAAAAAADwPwAAAAAAAPA/AAAAAAAA8D8GAAAgI5cGQAAAAAAAAPA/AAAAAAAA8D8AAAAAAADwPwAAAAAAAPA/BgAAICOXBkAGAAAgI5cGQAAAAAAAAPA/AAAAAAAA8D8AAAAAAADwPwAAAAAAAPA/AAAAAAAA8D8GAAAgI5cGQAAAAAAAAPA/AAAAAAAA8D8AAAAAAADwPwYAACAjlwZABgAAICOXBkAAAAAAAADwPwAAAAAAAPA/AAAAAAAA8D8GAAAgI5cGQAYAACAjlwZAAAAAAAAA8D8AAAAAAADwPwAAAAAAAPA/AAAAAAAA8D8AAAAAAADwPwAAAAAAAPA/AAAAAAAA8D8AAAAAAADwPwAAAAAAAPA/AAAAAAAA8D8AAAAAAADwPwAAAAAAAPA/BgAAICOXBkAAAAAAAADwPwAAAAAAAPA/AAAAAAAA8D8GAAAgI5cGQAAAAAAAAPA/AAAAAAAA8D8GAAAgI5cGQAAAAAAAAPA/AAAAAAAA8D8GAAAgI5cGQAAAAAAAAPA/AAAAAAAA8D8AAAAAAADwPwAAAAAAAPA/AAAAAAAA8D8AAAAAAADwPwAAAAAAAPA/AAAAAAAA8D8AAAAAAADwPwAAAAAAAPA/AAAAAAAA8D8AAAAAAADwPwAAAAAAAPA/BgAAICOXBkAAAAAAAADwPwYAACAjlwZAAAAAAAAA8D8AAAAAAADwPwAAAAAAAPA/AAAAAAAA8D8AAAAAAADwPwAAAAAAAPA/AAAAAAAA8D8AAAAAAADwPwAAAAAAAPA/BgAAICOXBkAAAAAAAADwPwAAAAAAAPA/AAAAAAAA8D8AAAAAAADwPwAAAAAAAPA/AAAAAAAA8D8AAAAAAADwPwAAAAAAAPA/AAAAAAAA8D8GAAAgI5cGQAAAAAAAAPA/AAAAAAAA8D8IAAAAtCEHQAAAAAAAAPA/AAAAAAAA8D8AAAAAAADwPwYAACAjlwZAAAAAAAAA8D8AAAAAAADwPwYAACAjlwZAAAAAAAAA8D8AAAAAAADwPwAAAAAAAPA/AAAAAAAA8D8AAAAAAADwPwAAAAAAAPA/AAAAAAAA8D8AAAAAAADwPwAAAAAAAPA/AAAAAAAA8D8GAAAgI5cGQAAAAAAAAPA/AAAAAAAA8D8AAAAAAADwPwAAAAAAAPA/AAAAAAAA8D8AAAAAAADwPwAAAAAAAPA/BgAAICOXBkAAAAAAAADwPwAAAAAAAPA/AAAAAAAA8D8AAAAAAADwPwAAAAAAAPA/AAAAAAAA8D8AAAAAAADwPwAAAAAAAPA/BgAAICOXBkAAAAAAAADwPwAAAAAAAPA/BgAAICOXBkAAAAAAAADwPwAAAAAAAPA/AAAAAAAA8D8GAAAgI5cGQAAAAAAAAPA/AAAAAAAA8D8AAAAAAADwPwAAAAAAAPA/AAAAAAAA8D8AAAAAAADwPwAAAAAAAPA/AAAAAAAA8D8AAAAAAADwPwAAAAAAAPA/BgAAICOXBkAAAAAAAADwPwAAAAAAAPA/AAAAAAAA8D8AAAAAAADwPwAAAAAAAPA/AAAAAAAA8D8GAAAgI5cGQAAAAAAAAPA/AAAAAAAA8D8AAAAAAADwPwMAACBOvgtAAAAAAAAA8D8AAAAAAADwPwAAAAAAAPA/AAAAAAAA8D8AAAAAAADwPwAAAAAAAPA/BgAAICOXBkAAAAAAAADwPwAAAAAAAPA/AAAAAAAA8D8AAAAAAADwPwAAAAAAAPA/AAAAAAAA8D8AAAAAAADwPwAAAAAAAPA/AAAAAAAA8D8AAAAAAADwPwAAAAAAAPA/AAAAAAAA8D8AAAAAAADwPwAAAAAAAPA/AAAAAAAA8D8AAAAAAADwPwAAAAAAAPA/AAAAAAAA8D8AAAAAAADwPwAAAAAAAPA/AAAAAAAA8D8AAAAAAADwPwAAAAAAAPA/AAAAAAAA8D8AAAAAAADwPwAAAAAAAPA/AAAAAAAA8D8AAAAAAADwPwAAAAAAAPA/AAAAAAAA8D8AAAAAAADwPwYAACAjlwZAAAAAAAAA8D8AAAAAAADwPwAAAAAAAPA/AAAAAAAA8D8AAAAAAADwPwAAAAAAAPA/AAAAAAAA8D8AAAAAAADwPwAAAAAAAPA/AAAAAAAA8D8AAAAAAADwPwAAAAAAAPA/AAAAAAAA8D8FAABAzlsJQAYAACAjlwZABgAAICOXBkAAAAAAAADwPwYAACAjlwZAAAAAAAAA8D8AAAAAAADwPwAAAAAAAPA/BgAAICOXBkAAAAAAAADwPwYAACAjlwZAAAAAAAAA8D8AAAAAAADwPwAAAAAAAPA/AAAAAAAA8D8AAAAAAADwPwAAAAAAAPA/AAAAAAAA8D8AAAAAAADwPwYAACAjlwZAAAAAAAAA8D8AAAAAAADwPwAAAAAAAPA/AAAAAAAA8D8AAAAAAADwPwAAAAAAAPA/BgAAANgHDEAAAAAAAADwPwAAAAAAAPA/AAAAAAAA8D8AAAAAAADwPwAAAAAAAPA/AAAAAAAA8D8AAAAAAADwPwAAAAAAAPA/AAAAAAAA8D8GAAAgI5cGQAYAACAjlwZAAAAAAAAA8D8AAAAAAADwPwAAAAAAAPA/AAAAAAAA8D8AAAAAAADwPwAAAAAAAPA/AAAAAAAA8D8AAAAAAADwPwAAAAAAAPA/AAAAAAAA8D8AAAAAAADwPwAAAAAAAPA/AAAAAAAA8D8AAAAAAADwPwAAAAAAAPA/AAAAAAAA8D8AAAAAAADwPwYAACAjlwZAAAAAAAAA8D8GAAAgI5cGQAAAAAAAAPA/AAAAAAAA8D8AAAAAAADwPwAAAAAAAPA/AAAAAAAA8D8AAAAAAADwPwAAAAAAAPA/AAAAAAAA8D8AAAAAAADwPwAAAAAAAPA/AAAAAAAA8D8AAAAAAADwPwAAAAAAAPA/AAAAAAAA8D8AAAAAAADwPwAAAAAAAPA/AAAAAAAA8D8AAAAAAADwPwAAAAAAAPA/AAAAAAAA8D8AAAAAAADwPwAAAAAAAPA/AAAAAAAA8D8AAAAAAADwPwAAAAAAAPA/AAAAAAAA8D8AAAAAAADwPwAAAAAAAPA/AAAAAAAA8D8AAAAAAADwPwAAAAAAAPA/AAAAAAAA8D8AAAAAAADwPwAAAAAAAPA/AAAAAAAA8D8AAAAAAADwPwAAAAAAAPA/AAAAAAAA8D8AAAAAAADwPwAAAAAAAPA/AAAAAAAA8D8AAAAAAADwPwAAAAAAAPA/AAAAAAAA8D8AAAAAAADwPwYAACAjlwZAAAAAAAAA8D8AAAAAAADwPwAAAAAAAPA/AAAAAAAA8D8AAAAAAADwPwAAAAAAAPA/AAAAAAAA8D8AAAAAAADwPwAAAAAAAPA/AAAAAAAA8D8GAAAgI5cGQAYAACAjlwZAAAAAAAAA8D8GAAAgI5cGQAAAAAAAAPA/AAAAAAAA8D8AAAAAAADwPwAAAAAAAPA/AAAAAAAA8D8AAAAAAADwPwYAACAjlwZAAAAAAAAA8D8AAAAAAADwPwAAAAAAAPA/AAAAAAAA8D8AAAAAAADwPwAAAAAAAPA/AAAAAAAA8D8AAAAAAADwPwAAAAAAAPA/AAAAAAAA8D8AAAAAAADwPwYAACAjlwZAAAAAAAAA8D8AAAAAAADwPwAAAAAAAPA/AAAAAAAA8D8AAAAAAADwPwAAAAAAAPA/AAAAAAAA8D8AAAAAAADwPwAAAAAAAPA/AAAAAAAA8D8AAAAAAADwPwAAAAAAAPA/AAAAAAAA8D8AAAAAAADwPwAAAAAAAPA/AAAAAAAA8D8AAAAAAADwPwAAAAAAAPA/AAAAAAAA8D8AAAAAAADwPwAAAAAAAPA/BgAAICOXBkAGAAAgI5cGQAAAAAAAAPA/AAAAAAAA8D8AAAAAAADwPwAAAAAAAPA/AAAAAAAA8D8AAAAAAADwPwAAAAAAAPA/AAAAAAAA8D8AAAAAAADwPwAAAAAAAPA/AAAAAAAA8D8AAAAAAADwPwAAAAAAAPA/AAAAAAAA8D8AAAAAAADwPwAAAAAAAPA/AAAAAAAA8D8AAAAAAADwPwAAAAAAAPA/AAAAAAAA8D8AAAAAAADwPwAAAAAAAPA/AAAAAAAA8D8AAAAAAADwPwAAAAAAAPA/AAAAAAAA8D8AAAAAAADwPwAAAAAAAPA/AAAAAAAA8D8AAAAAAADwPwAAAAAAAPA/AAAAAAAA8D8AAAAAAADwPwAAAAAAAPA/AAAAAAAA8D8GAAAgI5cGQAAAAAAAAPA/AAAAAAAA8D8GAAAgI5cGQAAAAAAAAPA/AAAAAAAA8D8AAAAAAADwPwAAAAAAAPA/AAAAAAAA8D8AAAAAAADwPwAAAAAAAPA/AAAAAAAA8D8AAAAAAADwPwAAAAAAAPA/AAAAAAAA8D8AAAAAAADwPwAAAAAAAPA/AAAAAAAA8D8AAAAAAADwPwAAAAAAAPA/AAAAAAAA8D8AAAAAAADwPwAAAAAAAPA/AAAAAAAA8D8AAAAAAADwPwAAAAAAAPA/AAAAAAAA8D8GAAAgI5cGQAAAAAAAAPA/AAAAAAAA8D8AAAAAAADwPwAAAAAAAPA/AAAAAAAA8D8AAAAAAADwPwAAAAAAAPA/AAAAAAAA8D8AAAAAAADwPwAAAAAAAPA/AAAAAAAA8D8AAAAAAADwPwAAAAAAAPA/AAAAAAAA8D8AAAAAAADwPwAAAAAAAPA/AAAAAAAA8D8AAAAAAADwPwAAAAAAAPA/AAAAAAAA8D8AAAAAAADwPwAAAAAAAPA/BgAAICOXBkAAAAAAAADwPwYAACAjlwZAAAAAAAAA8D8AAAAAAADwPwAAAAAAAPA/AAAAAAAA8D8AAAAAAADwPwYAACAjlwZAAAAAAAAA8D8AAAAAAADwPwAAAAAAAPA/AAAAAAAA8D8AAAAAAADwPwAAAAAAAPA/BgAAICOXBkAAAAAAAADwPwAAAAAAAPA/AAAAAAAA8D8AAAAAAADwPwYAACAjlwZABgAAICOXBkAGAAAgI5cGQAAAAAAAAPA/AAAAAAAA8D8GAAAgI5cGQAAAAAAAAPA/AAAAAAAA8D8AAAAAAADwPwAAAAAAAPA/AAAAAAAA8D8GAAAgI5cGQAAAAAAAAPA/AAAAAAAA8D8AAAAAAADwPwAAAAAAAPA/AAAAAAAA8D8AAAAAAADwPwAAAAAAAPA/AAAAAAAA8D8AAAAAAADwPwYAACAjlwZA+v//H+whCkAAAAAAAADwPwAAAAAAAPA/BgAAICOXBkAAAAAAAADwPwAAAAAAAPA/AAAAAAAA8D8AAAAAAADwPwAAAAAAAPA/AAAAAAAA8D8AAAAAAADwPwAAAAAAAPA/AAAAAAAA8D8AAAAAAADwPwAAAAAAAPA/AAAAAAAA8D8AAAAAAADwPwYAACAjlwZAAAAAAAAA8D8GAAAgI5cGQAAAAAAAAPA/BgAAICOXBkAAAAAAAADwPwAAAAAAAPA/AAAAAAAA8D8AAAAAAADwPwAAAAAAAPA/AAAAAAAA8D8AAAAAAADwPwAAAAAAAPA/AAAAAAAA8D8AAAAAAADwPwAAAAAAAPA/AAAAAAAA8D8AAAAAAADwPwAAAAAAAPA/AAAAAAAA8D8AAAAAAADwPwAAAAAAAPA/AAAAAAAA8D8GAAAgI5cGQAAAAAAAAPA/AAAAAAAA8D8AAAAAAADwPwAAAAAAAPA/AAAAAAAA8D8AAAAAAADwPwAAAAAAAPA/AAAAAAAA8D8AAAAAAADwPwAAAAAAAPA/AAAAAAAA8D8AAAAAAADwPwYAACAjlwZAAAAAAAAA8D8GAAAgI5cGQAAAAAAAAPA/AAAAAAAA8D8AAAAAAADwPwAAAAAAAPA/BgAAICOXBkAGAAAgI5cGQAAAAAAAAPA/AAAAAAAA8D8AAAAAAADwPwYAACAjlwZAAAAAAAAA8D8GAAAgI5cGQAAAAAAAAPA/AAAAAAAA8D8AAAAAAADwPwAAAAAAAPA/AAAAAAAA8D8AAAAAAADwPwAAAAAAAPA/AAAAAAAA8D8AAAAAAADwPwAAAAAAAPA/AAAAAAAA8D8AAAAAAADwPwAAAAAAAPA/AAAAAAAA8D8AAAAAAADwPwAAAAAAAPA/AAAAAAAA8D8AAAAAAADwPwAAAAAAAPA/AAAAAAAA8D8AAAAAAADwPwAAAAAAAPA/AAAAAAAA8D8AAAAAAADwPwAAAAAAAPA/AAAAAAAA8D8GAAAgI5cGQAAAAAAAAPA/AAAAAAAA8D8AAAAAAADwPwYAACAjlwZAAAAAAAAA8D8AAAAAAADwPwAAAAAAAPA/AAAAAAAA8D8AAAAAAADwPwAAAAAAAPA/AAAAAAAA8D8AAAAAAADwPwAAAAAAAPA/AAAAAAAA8D8GAAAgI5cGQAAAAAAAAPA/AAAAAAAA8D8AAAAAAADwPwAAAAAAAPA/AAAAAAAA8D8AAAAAAADwPwAAAAAAAPA/AAAAAAAA8D8GAAAgI5cGQAAAAAAAAPA/AAAAAAAA8D8AAAAAAADwPwAAAAAAAPA/AAAAAAAA8D8AAAAAAADwPwAAAAAAAPA/AAAAAAAA8D8AAAAAAADwPwAAAAAAAPA/AAAAAAAA8D8AAAAAAADwPwAAAAAAAPA/AAAAAAAA8D8AAAAAAADwPwAAAAAAAPA/BgAAICOXBkAAAAAAAADwPwAAAAAAAPA/AAAAAAAA8D8AAAAAAADwPwAAAAAAAPA/AAAAAAAA8D8AAAAAAADwPwYAACAjlwZAAAAAAAAA8D8AAAAAAADwPwAAAAAAAPA/AAAAAAAA8D8AAAAAAADwPwYAACAjlwZABgAAICOXBkAGAAAgI5cGQAAAAAAAAPA/AAAAAAAA8D8AAAAAAADwPwAAAAAAAPA/AAAAAAAA8D8AAAAAAADwPwAAAAAAAPA/AAAAAAAA8D8AAAAAAADwPwAAAAAAAPA/AAAAAAAA8D8GAAAgI5cGQAAAAAAAAPA/AAAAAAAA8D8GAAAgI5cGQAAAAAAAAPA/AAAAAAAA8D8AAAAAAADwPwAAAAAAAPA/AAAAAAAA8D8GAAAgI5cGQAAAAAAAAPA/AAAAAAAA8D8AAAAAAADwPwAAAAAAAPA/AAAAAAAA8D8AAAAAAADwPwAAAAAAAPA/AAAAAAAA8D8AAAAAAADwPwAAAAAAAPA/AAAAAAAA8D8AAAAAAADwPwYAACAjlwZAAAAAAAAA8D8AAAAAAADwPwAAAAAAAPA/AAAAAAAA8D8AAAAAAADwPwAAAAAAAPA/AAAAAAAA8D8AAAAAAADwPwAAAAAAAPA/BgAAICOXBkAAAAAAAADwPwAAAAAAAPA/AAAAAAAA8D8AAAAAAADwPwAAAAAAAPA/AAAAAAAA8D8GAAAgI5cGQAYAACAjlwZAAAAAAAAA8D8GAAAgI5cGQAAAAAAAAPA/AAAAAAAA8D8AAAAAAADwPwMAACBOvgtAAAAAAAAA8D8AAAAAAADwPwYAACAjlwZAAAAAAAAA8D8AAAAAAADwPwAAAAAAAPA/AAAAAAAA8D8AAAAAAADwPwAAAAAAAPA/AAAAAAAA8D8AAAAAAADwPwAAAAAAAPA/AAAAAAAA8D8GAAAgI5cGQAYAACAjlwZAAAAAAAAA8D8AAAAAAADwPwAAAAAAAPA/AAAAAAAA8D8AAAAAAADwPwAAAAAAAPA/AAAAAAAA8D8AAAAAAADwPwAAAAAAAPA/AAAAAAAA8D8AAAAAAADwPwAAAAAAAPA/AAAAAAAA8D8AAAAAAADwPwAAAAAAAPA/AAAAAAAA8D8AAAAAAADwPwAAAAAAAPA/AAAAAAAA8D8GAAAgI5cGQAAAAAAAAPA/AAAAAAAA8D8AAAAAAADwPwAAAAAAAPA/AAAAAAAA8D8AAAAAAADwPwAAAAAAAPA/AAAAAAAA8D8AAAAAAADwPwAAAAAAAPA/AAAAAAAA8D8GAAAgI5cGQAAAAAAAAPA/AAAAAAAA8D8AAAAAAADwPwYAACAjlwZAAAAAAAAA8D8AAAAAAADwPwAAAAAAAPA/AAAAAAAA8D8AAAAAAADwPwYAACAjlwZAAAAAAAAA8D8AAAAAAADwPwAAAAAAAPA/AAAAAAAA8D8AAAAAAADwPwAAAAAAAPA/AAAAAAAA8D8AAAAAAADwPwYAACAjlwZAAAAAAAAA8D8AAAAAAADwPwAAAAAAAPA/7f//35ev8T8AAAAAAADwPwAAAAAAAPA/BgAAICOXBkAGAAAgI5cGQAYAACAjlwZA+P//34D4CEAAAAAAAADwPwAAAAAAAPA/AAAAAAAA8D8GAAAgI5cGQAAAAAAAAPA/AAAAAAAA8D8AAAAAAADwPwAAAAAAAPA/AAAAAAAA8D8GAAAgI5cGQAAAAAAAAPA/AAAAAAAA8D8AAAAAAADwPwAAAAAAAPA/BgAAICOXBkAAAAAAAADwPwYAACAjlwZAAAAAAAAA8D8AAAAAAADwPwAAAAAAAPA/AAAAAAAA8D8GAAAgI5cGQAAAAAAAAPA/BgAAICOXBkAAAAAAAADwPwAAAAAAAPA/BgAAICOXBkAAAAAAAADwPwAAAAAAAPA/AAAAAAAA8D8GAAAgI5cGQAAAAAAAAPA/AAAAAAAA8D8AAAAAAADwPwAAAAAAAPA/AAAAAAAA8D8AAAAAAADwPwAAAAAAAPA/AAAAAAAA8D8AAAAAAADwPwAAAAAAAPA/AAAAAAAA8D8AAAAAAADwPwYAACAjlwZAAAAAAAAA8D8AAAAAAADwPwAAAAAAAPA/AAAAAAAA8D8AAAAAAADwPwAAAAAAAPA/BgAAICOXBkAAAAAAAADwPwAAAAAAAPA/AAAAAAAA8D8AAAAAAADwPwAAAAAAAPA/AAAAAAAA8D8AAAAAAADwPwAAAAAAAPA/AAAAAAAA8D8GAAAgI5cGQAAAAAAAAPA/AAAAAAAA8D8AAAAAAADwPwAAAAAAAPA/AAAAAAAA8D8AAAAAAADwPwAAAAAAAPA/AAAAAAAA8D8AAAAAAADwPwAAAAAAAPA/AAAAAAAA8D8AAAAAAADwPwAAAAAAAPA/AAAAAAAA8D8AAAAAAADwPwAAAAAAAPA/AAAAAAAA8D8AAAAAAADwPwAAAAAAAPA/AAAAAAAA8D8AAAAAAADwPwAAAAAAAPA/AAAAAAAA8D8AAAAAAADwPwAAAAAAAPA/BgAAICOXBkAAAAAAAADwPwYAACAjlwZAAAAAAAAA8D8AAAAAAADwPwAAAAAAAPA/AAAAAAAA8D8AAAAAAADwPwAAAAAAAPA/AAAAAAAA8D8AAAAAAADwPwAAAAAAAPA/AAAAAAAA8D8AAAAAAADwPwAAAAAAAPA/AAAAAAAA8D8AAAAAAADwPwAAAAAAAPA/AAAAAAAA8D8AAAAAAADwPwAAAAAAAPA/AAAAAAAA8D8AAAAAAADwPwAAAAAAAPA/AAAAAAAA8D8AAAAAAADwPwAAAAAAAPA/AAAAAAAA8D8AAAAAAADwPwAAAAAAAPA/AAAAAAAA8D8AAAAAAADwPwAAAAAAAPA/BgAAICOXBkAAAAAAAADwPwAAAAAAAPA/BgAAICOXBkAAAAAAAADwPwAAAAAAAPA/AAAAAAAA8D8GAAAgI5cGQAAAAAAAAPA/AAAAAAAA8D8AAAAAAADwPwAAAAAAAPA/BgAAICOXBkAAAAAAAADwPwYAACAjlwZAAAAAAAAA8D8GAAAgI5cGQAAAAAAAAPA/BgAAICOXBkAAAAAAAADwPwAAAAAAAPA/AAAAAAAA8D8AAAAAAADwPwAAAAAAAPA/AAAAAAAA8D8AAAAAAADwPwAAAAAAAPA/AAAAAAAA8D8AAAAAAADwPwAAAAAAAPA/AAAAAAAA8D8GAAAgI5cGQAAAAAAAAPA/AAAAAAAA8D8AAAAAAADwPwAAAAAAAPA/BgAAICOXBkAAAAAAAADwPwAAAAAAAPA/AAAAAAAA8D8GAAAgI5cGQAAAAAAAAPA/AAAAAAAA8D8AAAAAAADwPwAAAAAAAPA/AAAAAAAA8D8AAAAAAADwPwAAAAAAAPA/AAAAAAAA8D8AAAAAAADwPwYAACAjlwZAAAAAAAAA8D8AAAAAAADwPwAAAAAAAPA/AAAAAAAA8D8AAAAAAADwPwAAAAAAAPA/AAAAAAAA8D8AAAAAAADwPwAAAAAAAPA/AAAAAAAA8D8AAAAAAADwPwAAAAAAAPA/AAAAAAAA8D8AAAAAAADwPwAAAAAAAPA/BgAAICOXBkAAAAAAAADwPwAAAAAAAPA/AAAAAAAA8D8AAAAAAADwPwAAAAAAAPA/AAAAAAAA8D8AAAAAAADwPwYAACAjlwZAAAAAAAAA8D8AAAAAAADwPwYAACAjlwZAAAAAAAAA8D8AAAAAAADwPwAAAAAAAPA/AAAAAAAA8D8AAAAAAADwPwAAAAAAAPA/AAAAAAAA8D8AAAAAAADwPwAAAAAAAPA/AAAAAAAA8D8AAAAAAADwPwAAAAAAAPA/AAAAAAAA8D8AAAAAAADwPwAAAAAAAPA/AAAAAAAA8D8AAAAAAADwPwYAACAjlwZAAAAAAAAA8D8AAAAAAADwPwYAACAjlwZAAAAAAAAA8D8AAAAAAADwPwAAAAAAAPA/AAAAAAAA8D8AAAAAAADwPwAAAAAAAPA/AAAAAAAA8D8AAAAAAADwPwAAAAAAAPA/AAAAAAAA8D8AAAAAAADwPwAAAAAAAPA/AAAAAAAA8D8AAAAAAADwPwAAAAAAAPA/AAAAAAAA8D8AAAAAAADwPwAAAAAAAPA/AAAAAAAA8D8AAAAAAADwPwAAAAAAAPA/AAAAAAAA8D8AAAAAAADwPwAAAAAAAPA/AAAAAAAA8D8GAAAgI5cGQAAAAAAAAPA/AAAAAAAA8D8GAAAgI5cGQAAAAAAAAPA/AAAAAAAA8D8AAAAAAADwPwAAAAAAAPA/BgAAICOXBkAAAAAAAADwPwAAAAAAAPA/AAAAAAAA8D8AAAAAAADwPwAAAAAAAPA/AAAAAAAA8D8AAAAAAADwPwAAAAAAAPA/AAAAAAAA8D8AAAAAAADwPwAAAAAAAPA/AAAAAAAA8D8GAAAgI5cGQAAAAAAAAPA/AAAAAAAA8D8AAAAAAADwPwAAAAAAAPA/AAAAAAAA8D8AAAAAAADwPwAAAAAAAPA/AAAAAAAA8D8AAAAAAADwPwAAAAAAAPA/AAAAAAAA8D8AAAAAAADwPwAAAAAAAPA/AAAAAAAA8D8GAAAgI5cGQAAAAAAAAPA/BgAAICOXBkAAAAAAAADwPwYAACAjlwZAAAAAAAAA8D8AAAAAAADwPwAAAAAAAPA/AAAAAAAA8D8AAAAAAADwPwAAAAAAAPA/BgAAICOXBkAAAAAAAADwPwAAAAAAAPA/AAAAAAAA8D8AAAAAAADwPwAAAAAAAPA/AAAAAAAA8D8AAAAAAADwPwAAAAAAAPA/AAAAAAAA8D8AAAAAAADwPwAAAAAAAPA/+P//34D4CEAGAAAgI5cGQAAAAAAAAPA/AAAAAAAA8D8AAAAAAADwPwAAAAAAAPA/AAAAAAAA8D8AAAAAAADwPwYAACAjlwZAAAAAAAAA8D8AAAAAAADwPwAAAAAAAPA/AAAAAAAA8D8AAAAAAADwPwAAAAAAAPA/AAAAAAAA8D8AAAAAAADwPwAAAAAAAPA/AAAAAAAA8D8AAAAAAADwPwAAAAAAAPA/AAAAAAAA8D8AAAAAAADwPwAAAAAAAPA/AAAAAAAA8D8AAAAAAADwPwAAAAAAAPA/BgAAICOXBkAAAAAAAADwPwAAAAAAAPA/AAAAAAAA8D8AAAAAAADwPwAAAAAAAPA/AAAAAAAA8D8AAAAAAADwPwAAAAAAAPA/AAAAAAAA8D8AAAAAAADwPwAAAAAAAPA/AAAAAAAA8D8AAAAAAADwPwAAAAAAAPA/AAAAAAAA8D8AAAAAAADwPwAAAAAAAPA/AAAAAAAA8D8AAAAAAADwPwYAACAjlwZAAAAAAAAA8D8AAAAAAADwPwAAAAAAAPA/AAAAAAAA8D8AAAAAAADwPwAAAAAAAPA/AAAAAAAA8D8AAAAAAADwPwAAAAAAAPA/AAAAAAAA8D8AAAAAAADwPwYAACAjlwZAAAAAAAAA8D8AAAAAAADwPwAAAAAAAPA/AAAAAAAA8D8AAAAAAADwPwAAAAAAAPA/AAAAAAAA8D8AAAAAAADwPwAAAAAAAPA/BgAAICOXBkAAAAAAAADwPwAAAAAAAPA/AAAAAAAA8D8AAAAAAADwPwAAAAAAAPA/AAAAAAAA8D8AAAAAAADwPwAAAAAAAPA/AAAAAAAA8D8AAAAAAADwPwAAAAAAAPA/AAAAAAAA8D8AAAAAAADwPwAAAAAAAPA/AAAAAAAA8D8AAAAAAADwPwAAAAAAAPA/AAAAAAAA8D8AAAAAAADwPwAAAAAAAPA/AAAAAAAA8D8AAAAAAADwPwAAAAAAAPA/AAAAAAAA8D8AAAAAAADwPwAAAAAAAPA/AAAAAAAA8D8AAAAAAADwPwAAAAAAAPA/AAAAAAAA8D8AAAAAAADwPwYAACAjlwZAAAAAAAAA8D8AAAAAAADwPwAAAAAAAPA/AAAAAAAA8D8AAAAAAADwPwYAACAjlwZAAAAAAAAA8D8AAAAAAADwPwAAAAAAAPA/AAAAAAAA8D8AAAAAAADwPwAAAAAAAPA/AAAAAAAA8D8AAAAAAADwPwAAAAAAAPA/BgAAICOXBkAGAAAgI5cGQAAAAAAAAPA/AAAAAAAA8D8AAAAAAADwPwAAAAAAAPA/AAAAAAAA8D8AAAAAAADwPwAAAAAAAPA/AAAAAAAA8D/4///fgPgIQAAAAAAAAPA/AAAAAAAA8D8AAAAAAADwPwYAACAjlwZAAAAAAAAA8D8AAAAAAADwPwAAAAAAAPA/AAAAAAAA8D8AAAAAAADwPwYAACAjlwZAAAAAAAAA8D8AAAAAAADwPwAAAAAAAPA/AAAAAAAA8D8AAAAAAADwPwAAAAAAAPA/AAAAAAAA8D8GAAAgI5cGQAAAAAAAAPA/AAAAAAAA8D8AAAAAAADwPwAAAAAAAPA/AAAAAAAA8D8GAAAgI5cGQAAAAAAAAPA/AAAAAAAA8D8AAAAAAADwPwAAAAAAAPA/AAAAAAAA8D8GAAAgI5cGQAAAAAAAAPA/BgAAICOXBkAAAAAAAADwPwAAAAAAAPA/AAAAAAAA8D8AAAAAAADwPwYAACAjlwZAAAAAAAAA8D8AAAAAAADwPwAAAAAAAPA/AAAAAAAA8D8AAAAAAADwPwAAAAAAAPA/AAAAAAAA8D8AAAAAAADwPwAAAAAAAPA/AAAAAAAA8D8AAAAAAADwPwAAAAAAAPA/BgAAICOXBkAAAAAAAADwPwAAAAAAAPA/AAAAAAAA8D8AAAAAAADwPwAAAAAAAPA/BgAAICOXBkAAAAAAAADwPwAAAAAAAPA/AAAAAAAA8D8GAAAgI5cGQAAAAAAAAPA/AAAAAAAA8D8AAAAAAADwPwAAAAAAAPA/AAAAAAAA8D8AAAAAAADwPwAAAAAAAPA/AAAAAAAA8D8GAAAgI5cGQAAAAAAAAPA/AAAAAAAA8D8AAAAAAADwPwAAAAAAAPA/AAAAAAAA8D8AAAAAAADwPwAAAAAAAPA/AAAAAAAA8D8AAAAAAADwPwAAAAAAAPA/AAAAAAAA8D8AAAAAAADwPwAAAAAAAPA/AAAAAAAA8D8AAAAAAADwPwAAAAAAAPA/AAAAAAAA8D8AAAAAAADwPwAAAAAAAPA/AAAAAAAA8D8AAAAAAADwPwAAAAAAAPA/AAAAAAAA8D8AAAAAAADwPwAAAAAAAPA/AAAAAAAA8D8AAAAAAADwPwYAACAjlwZAAAAAAAAA8D8AAAAAAADwPwAAAAAAAPA/AAAAAAAA8D8AAAAAAADwPwAAAAAAAPA/AAAAAAAA8D8AAAAAAADwPwAAAAAAAPA/AAAAAAAA8D8AAAAAAADwPwYAACAjlwZAAAAAAAAA8D8AAAAAAADwPwAAAAAAAPA/AAAAAAAA8D8AAAAAAADwPwAAAAAAAPA/AAAAAAAA8D8AAAAAAADwPwYAACAjlwZA+P//34D4CEAAAAAAAADwPwAAAAAAAPA/AAAAAAAA8D8AAAAAAADwPwAAAAAAAPA/AAAAAAAA8D8GAAAgI5cGQAAAAAAAAPA/AAAAAAAA8D8AAAAAAADwPwAAAAAAAPA/AAAAAAAA8D8AAAAAAADwPwAAAAAAAPA/AAAAAAAA8D8AAAAAAADwPwAAAAAAAPA/AAAAAAAA8D8AAAAAAADwPwAAAAAAAPA/AAAAAAAA8D8AAAAAAADwPwAAAAAAAPA/AAAAAAAA8D8AAAAAAADwPwAAAAAAAPA/AAAAAAAA8D8AAAAAAADwPwAAAAAAAPA/AAAAAAAA8D8GAAAgI5cGQAAAAAAAAPA/BgAAICOXBkAAAAAAAADwPwAAAAAAAPA/AAAAAAAA8D8AAAAAAADwPwYAACAjlwZAAAAAAAAA8D8AAAAAAADwPwAAAAAAAPA/AAAAAAAA8D8AAAAAAADwPwAAAAAAAPA/BgAAICOXBkAAAAAAAADwPwAAAAAAAPA/BgAAICOXBkAAAAAAAADwPwAAAAAAAPA/AAAAAAAA8D8AAAAAAADwPwYAACAjlwZAAAAAAAAA8D8AAAAAAADwPwAAAAAAAPA/AAAAAAAA8D8AAAAAAADwPwAAAAAAAPA/AAAAAAAA8D8GAAAgI5cGQAYAACAjlwZAAAAAAAAA8D8AAAAAAADwPwYAACAjlwZAAAAAAAAA8D8AAAAAAADwPwYAACAjlwZAAAAAAAAA8D8AAAAAAADwPwAAAAAAAPA/AAAAAAAA8D8AAAAAAADwPwAAAAAAAPA/AAAAAAAA8D8AAAAAAADwPwAAAAAAAPA/AAAAAAAA8D8AAAAAAADwPwAAAAAAAPA/AAAAAAAA8D8AAAAAAADwPwAAAAAAAPA/AAAAAAAA8D8AAAAAAADwPwAAAAAAAPA/AAAAAAAA8D8AAAAAAADwPwAAAAAAAPA/BgAAICOXBkAAAAAAAADwPwAAAAAAAPA/BgAAICOXBkAAAAAAAADwPwAAAAAAAPA/AAAAAAAA8D8AAAAAAADwPwAAAAAAAPA/AAAAAAAA8D8AAAAAAADwPwAAAAAAAPA/AAAAAAAA8D8AAAAAAADwPwAAAAAAAPA/AAAAAAAA8D8AAAAAAADwPwAAAAAAAPA/AAAAAAAA8D8AAAAAAADwPwAAAAAAAPA/BgAAICOXBkAAAAAAAADwPwAAAAAAAPA/AAAAAAAA8D8AAAAAAADwPwAAAAAAAPA/AAAAAAAA8D8AAAAAAADwPwAAAAAAAPA/AAAAAAAA8D8AAAAAAADwPwYAACAjlwZAAAAAAAAA8D8AAAAAAADwPwAAAAAAAPA/AAAAAAAA8D8AAAAAAADwPwAAAAAAAPA/AAAAAAAA8D8GAAAgI5cGQAAAAAAAAPA/AAAAAAAA8D8AAAAAAADwPwAAAAAAAPA/BgAAICOXBkAAAAAAAADwPwAAAAAAAPA/AAAAAAAA8D8AAAAAAADwPwAAAAAAAPA/BgAAICOXBkAAAAAAAADwPwAAAAAAAPA/AAAAAAAA8D8GAAAgI5cGQPj//9+A+AhAAAAAAAAA8D8AAAAAAADwPwAAAAAAAPA/AAAAAAAA8D8AAAAAAADwPwAAAAAAAPA/AAAAAAAA8D8AAAAAAADwPwAAAAAAAPA/AAAAAAAA8D8AAAAAAADwPwYAACAjlwZAAAAAAAAA8D8AAAAAAADwPwYAACAjlwZAAAAAAAAA8D8AAAAAAADwPwAAAAAAAPA/AAAAAAAA8D8AAAAAAADwPwAAAAAAAPA/AAAAAAAA8D8AAAAAAADwPwAAAAAAAPA/AAAAAAAA8D8AAAAAAADwPwAAAAAAAPA/AAAAAAAA8D8AAAAAAADwPwAAAAAAAPA/BgAAICOXBkAAAAAAAADwPwAAAAAAAPA/AAAAAAAA8D8GAAAgI5cGQAAAAAAAAPA/AAAAAAAA8D8AAAAAAADwPwAAAAAAAPA/AAAAAAAA8D8AAAAAAADwPwAAAAAAAPA/AAAAAAAA8D8GAAAgI5cGQAAAAAAAAPA/AAAAAAAA8D8AAAAAAADwPwAAAAAAAPA/AAAAAAAA8D8AAAAAAADwPwAAAAAAAPA/AAAAAAAA8D8AAAAAAADwPwAAAAAAAPA/AAAAAAAA8D8AAAAAAADwPwAAAAAAAPA/7f//35ev8T8AAAAAAADwPwAAAAAAAPA/AAAAAAAA8D8AAAAAAADwPwAAAAAAAPA/AAAAAAAA8D8GAAAgI5cGQAAAAAAAAPA/AAAAAAAA8D8AAAAAAADwPwYAACAjlwZABgAAICOXBkAAAAAAAADwPwAAAAAAAPA/BgAAICOXBkAAAAAAAADwPwYAACAjlwZAAAAAAAAA8D8AAAAAAADwPwAAAAAAAPA/BgAAICOXBkAAAAAAAADwPwAAAAAAAPA/AAAAAAAA8D8AAAAAAADwPwAAAAAAAPA/AAAAAAAA8D8AAAAAAADwPwAAAAAAAPA/AAAAAAAA8D8GAAAgI5cGQAAAAAAAAPA/AAAAAAAA8D8AAAAAAADwPwAAAAAAAPA/AAAAAAAA8D8AAAAAAADwPwAAAAAAAPA/BgAAICOXBkAGAAAgI5cGQAAAAAAAAPA/AAAAAAAA8D8AAAAAAADwPwAAAAAAAPA/AAAAAAAA8D8AAAAAAADwPwAAAAAAAPA/AAAAAAAA8D8AAAAAAADwPwAAAAAAAPA/AAAAAAAA8D8GAAAgI5cGQAAAAAAAAPA/BgAAICOXBkAAAAAAAADwPwAAAAAAAPA/AAAAAAAA8D8AAAAAAADwPwAAAAAAAPA/AAAAAAAA8D8AAAAAAADwPwAAAAAAAPA/AAAAAAAA8D8AAAAAAADwPwAAAAAAAPA/BgAAICOXBkAGAAAgI5cGQAAAAAAAAPA/AAAAAAAA8D8AAAAAAADwPwAAAAAAAPA/AAAAAAAA8D8AAAAAAADwPwAAAAAAAPA/AAAAAAAA8D8AAAAAAADwPwAAAAAAAPA/AAAAAAAA8D8AAAAAAADwPwAAAAAAAPA/AAAAAAAA8D8AAAAAAADwPwAAAAAAAPA/AAAAAAAA8D8AAAAAAADwPwAAAAAAAPA/AAAAAAAA8D8GAAAgI5cGQAAAAAAAAPA/AAAAAAAA8D8AAAAAAADwPwAAAAAAAPA/AAAAAAAA8D8AAAAAAADwPwAAAAAAAPA/AAAAAAAA8D8AAAAAAADwPwAAAAAAAPA/AAAAAAAA8D8AAAAAAADwPwYAACAjlwZAAAAAAAAA8D8AAAAAAADwPwAAAAAAAPA/AAAAAAAA8D8AAAAAAADwPwAAAAAAAPA/AAAAAAAA8D8AAAAAAADwPwAAAAAAAPA/BgAAICOXBkAAAAAAAADwPwAAAAAAAPA/AAAAAAAA8D8AAAAAAADwPwAAAAAAAPA/AAAAAAAA8D8AAAAAAADwPwAAAAAAAPA/BgAAICOXBkAAAAAAAADwP+3//9+Xr/E/AAAAAAAA8D8GAAAgI5cGQAAAAAAAAPA/AAAAAAAA8D8AAAAAAADwPwAAAAAAAPA/BgAAICOXBkAAAAAAAADwPwAAAAAAAPA/AAAAAAAA8D8AAAAAAADwPwYAACAjlwZAAAAAAAAA8D8AAAAAAADwPwAAAAAAAPA/AAAAAAAA8D8GAAAgI5cGQAAAAAAAAPA/AAAAAAAA8D8GAAAgI5cGQAAAAAAAAPA/BgAAICOXBkAAAAAAAADwPwAAAAAAAPA/AAAAAAAA8D8AAAAAAADwPwAAAAAAAPA/AAAAAAAA8D8AAAAAAADwPwAAAAAAAPA/AAAAAAAA8D8DAAAgTr4LQAAAAAAAAPA/AAAAAAAA8D8AAAAAAADwPwAAAAAAAPA/AAAAAAAA8D8AAAAAAADwPwYAACAjlwZAAAAAAAAA8D8AAAAAAADwPwAAAAAAAPA/BgAAICOXBkAAAAAAAADwPwAAAAAAAPA/AAAAAAAA8D8AAAAAAADwPwAAAAAAAPA/AAAAAAAA8D8AAAAAAADwPwYAACAjlwZAAAAAAAAA8D8GAAAgI5cGQAAAAAAAAPA/AAAAAAAA8D8AAAAAAADwPwAAAAAAAPA/AAAAAAAA8D8AAAAAAADwPwYAACAjlwZAAAAAAAAA8D8AAAAAAADwPwAAAAAAAPA/AAAAAAAA8D8AAAAAAADwPwAAAAAAAPA/AAAAAAAA8D8GAAAgI5cGQAYAACAjlwZAAAAAAAAA8D8AAAAAAADwPwYAACAjlwZAAAAAAAAA8D8AAAAAAADwPwYAACAjlwZAAAAAAAAA8D8AAAAAAADwPwYAACAjlwZAAAAAAAAA8D8AAAAAAADwPwAAAAAAAPA/AAAAAAAA8D8AAAAAAADwPwAAAAAAAPA/AAAAAAAA8D8AAAAAAADwPwAAAAAAAPA/AAAAAAAA8D8AAAAAAADwPwAAAAAAAPA/AAAAAAAA8D8AAAAAAADwPwAAAAAAAPA/AAAAAAAA8D8AAAAAAADwPwAAAAAAAPA/BgAAICOXBkAAAAAAAADwPwAAAAAAAPA/AAAAAAAA8D8GAAAgI5cGQAAAAAAAAPA/AAAAAAAA8D8AAAAAAADwPwAAAAAAAPA/AAAAAAAA8D8AAAAAAADwPwAAAAAAAPA/AAAAAAAA8D8GAAAgI5cGQAAAAAAAAPA/AAAAAAAA8D8AAAAAAADwPwAAAAAAAPA/AAAAAAAA8D8AAAAAAADwPwAAAAAAAPA/AAAAAAAA8D8AAAAAAADwPwYAACAjlwZABgAAICOXBkAAAAAAAADwPwAAAAAAAPA/BgAAICOXBkAAAAAAAADwPwAAAAAAAPA/AAAAAAAA8D8GAAAgI5cGQAAAAAAAAPA/AAAAAAAA8D8AAAAAAADwPwAAAAAAAPA/BgAAICOXBkAAAAAAAADwPwYAACAjlwZAAAAAAAAA8D8AAAAAAADwPwAAAAAAAPA/AAAAAAAA8D8AAAAAAADwPwAAAAAAAPA/AAAAAAAA8D8AAAAAAADwPwAAAAAAAPA/AAAAAAAA8D8AAAAAAADwPwAAAAAAAPA/AAAAAAAA8D8AAAAAAADwPwAAAAAAAPA/BgAAICOXBkAAAAAAAADwPwAAAAAAAPA/AAAAAAAA8D8GAAAgI5cGQAAAAAAAAPA/AAAAAAAA8D8AAAAAAADwPwAAAAAAAPA/+P//34D4CEAAAAAAAADwPwAAAAAAAPA/AAAAAAAA8D8AAAAAAADwPwAAAAAAAPA/AAAAAAAA8D8AAAAAAADwPwAAAAAAAPA/AAAAAAAA8D8AAAAAAADwPwYAACAjlwZAAAAAAAAA8D8GAAAgI5cGQAAAAAAAAPA/AAAAAAAA8D8AAAAAAADwPwAAAAAAAPA/AAAAAAAA8D8AAAAAAADwPwAAAAAAAPA/BgAAICOXBkAAAAAAAADwPwAAAAAAAPA/AAAAAAAA8D8GAAAgI5cGQAYAACAjlwZAAAAAAAAA8D8AAAAAAADwPwAAAAAAAPA/AAAAAAAA8D8AAAAAAADwPwAAAAAAAPA/AAAAAAAA8D8AAAAAAADwPwAAAAAAAPA/AAAAAAAA8D8AAAAAAADwPwAAAAAAAPA/AAAAAAAA8D8AAAAAAADwPwAAAAAAAPA/AAAAAAAA8D8AAAAAAADwPwAAAAAAAPA/AAAAAAAA8D8AAAAAAADwPwAAAAAAAPA/AAAAAAAA8D8AAAAAAADwPwAAAAAAAPA/AAAAAAAA8D8AAAAAAADwPwAAAAAAAPA/AAAAAAAA8D8AAAAAAADwPwAAAAAAAPA/AAAAAAAA8D8AAAAAAADwPwAAAAAAAPA/AAAAAAAA8D8AAAAAAADwPwAAAAAAAPA/AAAAAAAA8D8GAAAgI5cGQAAAAAAAAPA/AAAAAAAA8D8AAAAAAADwPwYAACAjlwZAAAAAAAAA8D8AAAAAAADwPwAAAAAAAPA/AAAAAAAA8D8AAAAAAADwPwAAAAAAAPA/AAAAAAAA8D8AAAAAAADwPwYAACAjlwZAAAAAAAAA8D8AAAAAAADwPwYAACAjlwZAAAAAAAAA8D8AAAAAAADwPwAAAAAAAPA/AAAAAAAA8D8AAAAAAADwPwAAAAAAAPA/AAAAAAAA8D8GAAAgI5cGQAAAAAAAAPA/AAAAAAAA8D8AAAAAAADwPwAAAAAAAPA/AAAAAAAA8D8AAAAAAADwPwAAAAAAAPA/BgAAICOXBkAAAAAAAADwPwAAAAAAAPA/AAAAAAAA8D8AAAAAAADwPwAAAAAAAPA/AAAAAAAA8D8AAAAAAADwPwAAAAAAAPA/AAAAAAAA8D8AAAAAAADwPwAAAAAAAPA/AAAAAAAA8D8AAAAAAADwPwAAAAAAAPA/AAAAAAAA8D8AAAAAAADwPwAAAAAAAPA/AAAAAAAA8D8AAAAAAADwPwAAAAAAAPA/AAAAAAAA8D8AAAAAAADwPwAAAAAAAPA/AAAAAAAA8D8AAAAAAADwPwAAAAAAAPA/AAAAAAAA8D8AAAAAAADwPwAAAAAAAPA/AAAAAAAA8D8AAAAAAADwPwAAAAAAAPA/AAAAAAAA8D8AAAAAAADwPwYAACAjlwZAAAAAAAAA8D8AAAAAAADwPwAAAAAAAPA/AAAAAAAA8D8AAAAAAADwPwAAAAAAAPA/BgAAICOXBkAAAAAAAADwPwAAAAAAAPA/AAAAAAAA8D8AAAAAAADwPwAAAAAAAPA/BgAAICOXBkAAAAAAAADwPwAAAAAAAPA/AAAAAAAA8D8AAAAAAADwPwAAAAAAAPA/BgAAICOXBkAAAAAAAADwPwAAAAAAAPA/AAAAAAAA8D8AAAAAAADwPwAAAAAAAPA/BgAAICOXBkAGAACAq5EJQAAAAAAAAPA/AAAAAAAA8D8AAAAAAADwPwAAAAAAAPA/BgAAICOXBkAAAAAAAADwPwAAAAAAAPA/AAAAAAAA8D8AAAAAAADwPwAAAAAAAPA/BgAAICOXBkAAAAAAAADwPwAAAAAAAPA/AAAAAAAA8D8AAAAAAADwPwAAAAAAAPA/AAAAAAAA8D8AAAAAAADwPwAAAAAAAPA/+v//H+whCkAAAAAAAADwPwYAACAjlwZAAAAAAAAA8D8AAAAAAADwPwAAAAAAAPA/BgAAICOXBkAAAAAAAADwPwAAAAAAAPA/AAAAAAAA8D8AAAAAAADwPwAAAAAAAPA/AAAAAAAA8D8AAAAAAADwPwAAAAAAAPA/AAAAAAAA8D8AAAAAAADwPwAAAAAAAPA/AAAAAAAA8D8AAAAAAADwPwAAAAAAAPA/BgAAICOXBkAAAAAAAADwPwAAAAAAAPA/AAAAAAAA8D8AAAAAAADwPwYAACAjlwZAAAAAAAAA8D8AAAAAAADwPwAAAAAAAPA/AAAAAAAA8D8AAAAAAADwPwAAAAAAAPA/AAAAAAAA8D8AAAAAAADwPwAAAAAAAPA/AAAAAAAA8D8AAAAAAADwPwAAAAAAAPA/AAAAAAAA8D8GAAAgI5cGQAYAACAjlwZAAAAAAAAA8D8AAAAAAADwPwYAACAjlwZAAAAAAAAA8D8AAAAAAADwPwAAAAAAAPA/AAAAAAAA8D8AAAAAAADwPwYAACAjlwZAAAAAAAAA8D8AAAAAAADwPwAAAAAAAPA/AAAAAAAA8D8AAAAAAADwPwAAAAAAAPA/AAAAAAAA8D8AAAAAAADwPwAAAAAAAPA/AAAAAAAA8D8AAAAAAADwPwAAAAAAAPA/AAAAAAAA8D8AAAAAAADwPwAAAAAAAPA/AAAAAAAA8D8AAAAAAADwPwYAACAjlwZABgAAICOXBkAGAAAgI5cGQAAAAAAAAPA/AAAAAAAA8D8AAAAAAADwPwYAACAjlwZAAAAAAAAA8D8AAAAAAADwPwAAAAAAAPA/AAAAAAAA8D8AAAAAAADwPwAAAAAAAPA/AAAAAAAA8D8AAAAAAADwPwAAAAAAAPA/AAAAAAAA8D8AAAAAAADwPwAAAAAAAPA/AAAAAAAA8D8AAAAAAADwPwAAAAAAAPA/AAAAAAAA8D8AAAAAAADwPwAAAAAAAPA/BgAAICOXBkAAAAAAAADwPwAAAAAAAPA/AAAAAAAA8D8AAAAAAADwPwAAAAAAAPA/AAAAAAAA8D8AAAAAAADwPwAAAAAAAPA/AAAAAAAA8D8AAAAAAADwPwAAAAAAAPA/BgAAICOXBkAAAAAAAADwPwAAAAAAAPA/AAAAAAAA8D8AAAAAAADwPwYAACAjlwZABgAAICOXBkAAAAAAAADwPwYAACAjlwZABgAAICOXBkAAAAAAAADwPwAAAAAAAPA/AAAAAAAA8D8AAAAAAADwPwAAAAAAAPA/AAAAAAAA8D8AAAAAAADwPwAAAAAAAPA/BgAAICOXBkAAAAAAAADwPwAAAAAAAPA/AAAAAAAA8D8AAAAAAADwPwAAAAAAAPA/AAAAAAAA8D8AAAAAAADwPwAAAAAAAPA/AAAAAAAA8D8AAAAAAADwPwAAAAAAAPA/AAAAAAAA8D8AAAAAAADwPwAAAAAAAPA/AAAAAAAA8D8AAAAAAADwPwAAAAAAAPA/AAAAAAAA8D8AAAAAAADwPwAAAAAAAPA/AAAAAAAA8D8AAAAAAADwPwAAAAAAAPA/AAAAAAAA8D8AAAAAAADwPwAAAAAAAPA/AAAAAAAA8D8AAAAAAADwPwAAAAAAAPA/AAAAAAAA8D8AAAAAAADwPwAAAAAAAPA/AAAAAAAA8D8AAAAAAADwPwAAAAAAAPA/AAAAAAAA8D8GAAAgI5cGQAAAAAAAAPA/AAAAAAAA8D8GAAAgI5cGQAYAACAjlwZAAAAAAAAA8D8GAAAgI5cGQAAAAAAAAPA/AAAAAAAA8D8AAAAAAADwPwAAAAAAAPA/AAAAAAAA8D8AAAAAAADwPwAAAAAAAPA/AAAAAAAA8D8AAAAAAADwPwAAAAAAAPA/AAAAAAAA8D8AAAAAAADwPwAAAAAAAPA/AAAAAAAA8D8AAAAAAADwPwAAAAAAAPA/AAAAAAAA8D8AAAAAAADwPwYAACAjlwZAAAAAAAAA8D8AAAAAAADwPwAAAAAAAPA/AAAAAAAA8D8AAAAAAADwPwAAAAAAAPA/AAAAAAAA8D8GAAAgI5cGQAAAAAAAAPA/AAAAAAAA8D8GAAAgI5cGQAAAAAAAAPA/BgAAICOXBkAAAAAAAADwPwYAACAjlwZAAAAAAAAA8D8AAAAAAADwPwAAAAAAAPA/AAAAAAAA8D8AAAAAAADwPwAAAAAAAPA/AAAAAAAA8D8GAAAgI5cGQAAAAAAAAPA/AAAAAAAA8D8AAAAAAADwPwAAAAAAAPA/AAAAAAAA8D8AAAAAAADwPwAAAAAAAPA/BgAAICOXBkAAAAAAAADwPwAAAAAAAPA/BgAAICOXBkAAAAAAAADwPwAAAAAAAPA/AAAAAAAA8D8AAAAAAADwPwAAAAAAAPA/AAAAAAAA8D8AAAAAAADwPwAAAAAAAPA/9///nwPVB0AAAAAAAADwPwYAACAjlwZAAAAAAAAA8D8AAAAAAADwPwAAAAAAAPA/AAAAAAAA8D8AAAAAAADwPwAAAAAAAPA/AAAAAAAA8D8AAAAAAADwPwAAAAAAAPA/AAAAAAAA8D8AAAAAAADwPwYAACAjlwZAAAAAAAAA8D8AAAAAAADwPwAAAAAAAPA/AAAAAAAA8D8AAAAAAADwPwAAAAAAAPA/AAAAAAAA8D8AAAAAAADwPwAAAAAAAPA/AAAAAAAA8D8AAAAAAADwPwYAACAjlwZAAAAAAAAA8D8AAAAAAADwPwAAAAAAAPA/AAAAAAAA8D8AAAAAAADwPwAAAAAAAPA/BgAAICOXBkAAAAAAAADwPwAAAAAAAPA/AAAAAAAA8D8AAAAAAADwPwAAAAAAAPA/AAAAAAAA8D8AAAAAAADwPwYAACAjlwZAAAAAAAAA8D8AAAAAAADwPwAAAAAAAPA/AAAAAAAA8D8AAAAAAADwPwAAAAAAAPA/AAAAAAAA8D8AAAAAAADwPwAAAAAAAPA/BgAAICOXBkAAAAAAAADwPwAAAAAAAPA/BgAAICOXBkAAAAAAAADwPwYAACAjlwZAAAAAAAAA8D8AAAAAAADwPwAAAAAAAPA/AAAAAAAA8D8AAAAAAADwPwAAAAAAAPA/AAAAAAAA8D8AAAAAAADwPwAAAAAAAPA/AAAAAAAA8D8AAAAAAADwPwAAAAAAAPA/AAAAAAAA8D8AAAAAAADwPwAAAAAAAPA/AAAAAAAA8D8AAAAAAADwPwAAAAAAAPA/AAAAAAAA8D8AAAAAAADwPwAAAAAAAPA/AAAAAAAA8D8AAAAAAADwPwAAAAAAAPA/AAAAAAAA8D8AAAAAAADwPwAAAAAAAPA/BgAAICOXBkAAAAAAAADwPwAAAAAAAPA/AAAAAAAA8D8AAAAAAADwPwAAAAAAAPA/AAAAAAAA8D8AAAAAAADwPwAAAAAAAPA/AAAAAAAA8D8AAAAAAADwPwAAAAAAAPA/AAAAAAAA8D8AAAAAAADwPwAAAAAAAPA/AAAAAAAA8D8AAAAAAADwPwAAAAAAAPA/AAAAAAAA8D8AAAAAAADwPwAAAAAAAPA/AAAAAAAA8D8AAAAAAADwPwYAACAjlwZAAAAAAAAA8D8AAAAAAADwPwAAAAAAAPA/BgAAICOXBkAAAAAAAADwPwAAAAAAAPA/BgAAICOXBkAAAAAAAADwPwAAAAAAAPA/BgAAICOXBkAAAAAAAADwPwAAAAAAAPA/AAAAAAAA8D8AAAAAAADwPwYAACAjlwZABgAAICOXBkAAAAAAAADwPwAAAAAAAPA/AAAAAAAA8D8AAAAAAADwPwAAAAAAAPA/AAAAAAAA8D8AAAAAAADwPwAAAAAAAPA/AAAAAAAA8D8AAAAAAADwPwAAAAAAAPA/AAAAAAAA8D8AAAAAAADwPwYAACAjlwZAAAAAAAAA8D8AAAAAAADwPwAAAAAAAPA/AAAAAAAA8D8AAAAAAADwPwYAACAjlwZAAAAAAAAA8D8AAAAAAADwPwAAAAAAAPA/BgAAICOXBkAAAAAAAADwPwAAAAAAAPA/AAAAAAAA8D8GAAAgI5cGQAAAAAAAAPA/AAAAAAAA8D8AAAAAAADwPwYAACAjlwZAAAAAAAAA8D8GAAAgI5cGQAYAACAjlwZAAAAAAAAA8D8AAAAAAADwPwAAAAAAAPA/AAAAAAAA8D8GAAAgI5cGQAAAAAAAAPA/AAAAAAAA8D8AAAAAAADwPwAAAAAAAPA/AAAAAAAA8D8AAAAAAADwPwAAAAAAAPA/AAAAAAAA8D8AAAAAAADwPwYAACAjlwZAAAAAAAAA8D8AAAAAAADwPwAAAAAAAPA/AAAAAAAA8D8AAAAAAADwPwAAAAAAAPA/AAAAAAAA8D8AAAAAAADwPwAAAAAAAPA/AAAAAAAA8D8AAAAAAADwPwAAAAAAAPA/AAAAAAAA8D8AAAAAAADwPwAAAAAAAPA/AAAAAAAA8D8AAAAAAADwPwAAAAAAAPA/AAAAAAAA8D8AAAAAAADwPwAAAAAAAPA/AAAAAAAA8D8AAAAAAADwPwAAAAAAAPA/AAAAAAAA8D8GAAAgI5cGQAYAACAjlwZAAAAAAAAA8D8AAAAAAADwPwAAAAAAAPA/AAAAAAAA8D8AAAAAAADwPwAAAAAAAPA/AAAAAAAA8D8AAAAAAADwPwAAAAAAAPA/AAAAAAAA8D8AAAAAAADwPwAAAAAAAPA/AAAAAAAA8D8AAAAAAADwPwAAAAAAAPA/BgAAICOXBkAGAAAgI5cGQAAAAAAAAPA/AAAAAAAA8D8AAAAAAADwP+3//9+Xr/E/AAAAAAAA8D8AAAAAAADwPwAAAAAAAPA/AAAAAAAA8D8AAAAAAADwPwAAAAAAAPA/BgAAICOXBkAAAAAAAADwPwAAAAAAAPA/BgAAICOXBkAAAAAAAADwPwAAAAAAAPA/AAAAAAAA8D8GAAAgI5cGQAAAAAAAAPA/AAAAAAAA8D8GAAAgI5cGQAYAACAjlwZAAAAAAAAA8D8AAAAAAADwPwAAAAAAAPA/BgAAICOXBkAAAAAAAADwP/j//9+A+AhAAAAAAAAA8D8AAAAAAADwPwAAAAAAAPA/AAAAAAAA8D8AAAAAAADwPwAAAAAAAPA/BgAAICOXBkAAAAAAAADwPwAAAAAAAPA/AAAAAAAA8D8GAAAgI5cGQAAAAAAAAPA/AAAAAAAA8D8AAAAAAADwPwAAAAAAAPA/AAAAAAAA8D8AAAAAAADwPwAAAAAAAPA/BgAAICOXBkAAAAAAAADwPwYAACAjlwZAAAAAAAAA8D8AAAAAAADwPwAAAAAAAPA/AAAAAAAA8D8AAAAAAADwPwAAAAAAAPA/AAAAAAAA8D8AAAAAAADwPwAAAAAAAPA/AAAAAAAA8D8AAAAAAADwPwAAAAAAAPA/BgAAICOXBkAAAAAAAADwPwAAAAAAAPA/BgAAICOXBkAAAAAAAADwPwYAACAjlwZAAAAAAAAA8D8AAAAAAADwPwAAAAAAAPA/AAAAAAAA8D8AAAAAAADwPwAAAAAAAPA/AAAAAAAA8D8AAAAAAADwPwYAACAjlwZAAAAAAAAA8D/4///fgPgIQAAAAAAAAPA/AAAAAAAA8D8GAAAgI5cGQAAAAAAAAPA/AAAAAAAA8D8GAAAgI5cGQAAAAAAAAPA/AAAAAAAA8D8AAAAAAADwPwAAAAAAAPA/BgAAICOXBkAAAAAAAADwPwAAAAAAAPA/AAAAAAAA8D8AAAAAAADwPwAAAAAAAPA/AAAAAAAA8D8AAAAAAADwPwAAAAAAAPA/AAAAAAAA8D8AAAAAAADwPwAAAAAAAPA/AAAAAAAA8D8AAAAAAADwPwAAAAAAAPA/AAAAAAAA8D8AAAAAAADwPwAAAAAAAPA/AAAAAAAA8D8AAAAAAADwPwAAAAAAAPA/AAAAAAAA8D8AAAAAAADwPwAAAAAAAPA/AAAAAAAA8D8AAAAAAADwPwAAAAAAAPA/BgAAICOXBkAGAAAgI5cGQAYAACAjlwZAAAAAAAAA8D8GAAAgI5cGQAAAAAAAAPA/AAAAAAAA8D8AAAAAAADwPwAAAAAAAPA/AAAAAAAA8D8AAAAAAADwPwAAAAAAAPA/7f//35ev8T8AAAAAAADwPwAAAAAAAPA/AAAAAAAA8D8AAAAAAADwPwAAAAAAAPA/AAAAAAAA8D8AAAAAAADwPwAAAAAAAPA/AAAAAAAA8D8AAAAAAADwPwAAAAAAAPA/BgAAICOXBkAAAAAAAADwPwAAAAAAAPA/7f//35ev8T8AAAAAAADwPwAAAAAAAPA/AAAAAAAA8D8AAAAAAADwPwYAACAjlwZAAAAAAAAA8D8AAAAAAADwPwAAAAAAAPA/AAAAAAAA8D8AAAAAAADwPwAAAAAAAPA/AAAAAAAA8D8AAAAAAADwPwAAAAAAAPA/AAAAAAAA8D8AAAAAAADwPwAAAAAAAPA/AAAAAAAA8D8AAAAAAADwPwAAAAAAAPA/AAAAAAAA8D8AAAAAAADwPwAAAAAAAPA/BgAAICOXBkAAAAAAAADwPwYAACAjlwZAAAAAAAAA8D8AAAAAAADwPwAAAAAAAPA/AAAAAAAA8D8AAAAAAADwPwAAAAAAAPA/AAAAAAAA8D8AAAAAAADwPwAAAAAAAPA/AAAAAAAA8D8AAAAAAADwPwAAAAAAAPA/AAAAAAAA8D8AAAAAAADwPwYAACAjlwZAAAAAAAAA8D8AAAAAAADwPwYAACAjlwZAAAAAAAAA8D8AAAAAAADwPwAAAAAAAPA/AAAAAAAA8D8AAAAAAADwPwAAAAAAAPA/AAAAAAAA8D8AAAAAAADwPwAAAAAAAPA/AAAAAAAA8D8AAAAAAADwPwAAAAAAAPA/AAAAAAAA8D8AAAAAAADwPwAAAAAAAPA/AAAAAAAA8D8AAAAAAADwPwAAAAAAAPA/AAAAAAAA8D8AAAAAAADwPwAAAAAAAPA/AAAAAAAA8D8AAAAAAADwPwAAAAAAAPA/AAAAAAAA8D8AAAAAAADwPwAAAAAAAPA/AAAAAAAA8D8AAAAAAADwPwAAAAAAAPA/AAAAAAAA8D8AAAAAAADwPwAAAAAAAPA/AAAAAAAA8D8AAAAAAADwPwAAAAAAAPA/AAAAAAAA8D8GAAAgI5cGQAAAAAAAAPA/AAAAAAAA8D/t///fl6/xPwAAAAAAAPA/AAAAAAAA8D8AAAAAAADwPwAAAAAAAPA/AAAAAAAA8D8AAAAAAADwPwAAAAAAAPA/AAAAAAAA8D8AAAAAAADwPwAAAAAAAPA/AAAAAAAA8D8AAAAAAADwPwAAAAAAAPA/AAAAAAAA8D8GAAAgI5cGQAAAAAAAAPA/AAAAAAAA8D8AAAAAAADwPwAAAAAAAPA/BgAAICOXBkAAAAAAAADwPwYAACAjlwZAAAAAAAAA8D8AAAAAAADwPwAAAAAAAPA/AAAAAAAA8D8AAAAAAADwPwAAAAAAAPA/AAAAAAAA8D8GAAAgI5cGQAAAAAAAAPA/AAAAAAAA8D8AAAAAAADwPwAAAAAAAPA/AAAAAAAA8D8AAAAAAADwPwAAAAAAAPA/AAAAAAAA8D8AAAAAAADwPwAAAAAAAPA/AAAAAAAA8D8AAAAAAADwPwAAAAAAAPA/AAAAAAAA8D8AAAAAAADwPwYAACAjlwZAAAAAAAAA8D8AAAAAAADwPwAAAAAAAPA/AAAAAAAA8D8AAAAAAADwPwYAACAjlwZAAAAAAAAA8D8AAAAAAADwPwAAAAAAAPA/AAAAAAAA8D8AAAAAAADwPwYAACAjlwZAAAAAAAAA8D8AAAAAAADwPwAAAAAAAPA/AAAAAAAA8D8AAAAAAADwPwYAACAjlwZAAAAAAAAA8D8AAAAAAADwPwAAAAAAAPA/AAAAAAAA8D8AAAAAAADwPwAAAAAAAPA/AAAAAAAA8D8AAAAAAADwPwAAAAAAAPA/AAAAAAAA8D/t///fl6/xPwAAAAAAAPA/AAAAAAAA8D8AAAAAAADwPwAAAAAAAPA/AAAAAAAA8D8AAAAAAADwPwAAAAAAAPA/BgAAICOXBkAAAAAAAADwPwAAAAAAAPA/AAAAAAAA8D8GAAAgI5cGQAAAAAAAAPA/AAAAAAAA8D8AAAAAAADwPwAAAAAAAPA/AAAAAAAA8D8GAAAgI5cGQAAAAAAAAPA/AAAAAAAA8D8AAAAAAADwPwAAAAAAAPA/AAAAAAAA8D8AAAAAAADwPwAAAAAAAPA/AAAAAAAA8D8AAAAAAADwPwAAAAAAAPA/AAAAAAAA8D8GAAAgI5cGQAAAAAAAAPA/AAAAAAAA8D8AAAAAAADwPwAAAAAAAPA/AAAAAAAA8D8AAAAAAADwPwAAAAAAAPA/AAAAAAAA8D8AAAAAAADwPwAAAAAAAPA/AAAAAAAA8D8AAAAAAADwPwYAACAjlwZAAAAAAAAA8D8AAAAAAADwPwAAAAAAAPA/AAAAAAAA8D8GAAAgI5cGQAAAAAAAAPA/BgAAICOXBkAAAAAAAADwPwAAAAAAAPA/AAAAAAAA8D8AAAAAAADwPwAAAAAAAPA/AAAAAAAA8D8AAAAAAADwPwAAAAAAAPA/AAAAAAAA8D8AAAAAAADwPwYAACAjlwZAAAAAAAAA8D8GAAAgI5cGQAAAAAAAAPA/AAAAAAAA8D/4///fgPgIQAAAAAAAAPA/AAAAAAAA8D8AAAAAAADwPwAAAAAAAPA/AAAAAAAA8D8AAAAAAADwPwAAAAAAAPA/AAAAAAAA8D8AAAAAAADwPwAAAAAAAPA/AAAAAAAA8D8AAAAAAADwPwAAAAAAAPA/AAAAAAAA8D8AAAAAAADwPwYAACAjlwZAAAAAAAAA8D8AAAAAAADwPwAAAAAAAPA/AAAAAAAA8D8AAAAAAADwPwAAAAAAAPA/AAAAAAAA8D8AAAAAAADwPwAAAAAAAPA/AAAAAAAA8D8AAAAAAADwPwAAAAAAAPA/AAAAAAAA8D8AAAAAAADwPwAAAAAAAPA/AAAAAAAA8D8GAAAgI5cGQAAAAAAAAPA/AAAAAAAA8D8AAAAAAADwPwAAAAAAAPA/AAAAAAAA8D8AAAAAAADwPwAAAAAAAPA/BgAAICOXBkAAAAAAAADwPwAAAAAAAPA/AAAAAAAA8D8AAAAAAADwPwYAACAjlwZAAAAAAAAA8D8AAAAAAADwPwAAAAAAAPA/BgAAICOXBkAAAAAAAADwPwAAAAAAAPA/AAAAAAAA8D8AAAAAAADwPwAAAAAAAPA/AAAAAAAA8D8AAAAAAADwPwAAAAAAAPA/AAAAAAAA8D8AAAAAAADwPwAAAAAAAPA/BgAAICOXBkAGAAAgI5cGQAAAAAAAAPA/BgAAICOXBkAAAAAAAADwPwAAAAAAAPA/AAAAAAAA8D8AAAAAAADwPwAAAAAAAPA/AAAAAAAA8D8AAAAAAADwPwAAAAAAAPA/AAAAAAAA8D8AAAAAAADwPwAAAAAAAPA/AAAAAAAA8D8AAAAAAADwPwAAAAAAAPA/AAAAAAAA8D8AAAAAAADwPwAAAAAAAPA/AAAAAAAA8D8AAAAAAADwPwAAAAAAAPA/AAAAAAAA8D8AAAAAAADwPwYAACAjlwZAAAAAAAAA8D8AAAAAAADwP/j//9+A+AhAAAAAAAAA8D8AAAAAAADwPwAAAAAAAPA/AAAAAAAA8D8AAAAAAADwPwAAAAAAAPA/AAAAAAAA8D8AAAAAAADwPwAAAAAAAPA/AAAAAAAA8D8AAAAAAADwPwAAAAAAAPA/AAAAAAAA8D8AAAAAAADwPwAAAAAAAPA/AAAAAAAA8D8AAAAAAADwPwAAAAAAAPA/AAAAAAAA8D8AAAAAAADwPwYAACAjlwZAAAAAAAAA8D8AAAAAAADwPwAAAAAAAPA/AAAAAAAA8D8AAAAAAADwPwAAAAAAAPA/AAAAAAAA8D8AAAAAAADwPwAAAAAAAPA/AAAAAAAA8D8AAAAAAADwPwAAAAAAAPA/AAAAAAAA8D8AAAAAAADwP+3//9+Xr/E/AAAAAAAA8D8AAAAAAADwPwAAAAAAAPA/AAAAAAAA8D8AAAAAAADwPwAAAAAAAPA/AAAAAAAA8D8AAAAAAADwPwAAAAAAAPA/AAAAAAAA8D8AAAAAAADwPwAAAAAAAPA/AAAAAAAA8D8AAAAAAADwPwAAAAAAAPA/AAAAAAAA8D8AAAAAAADwPwYAACAjlwZAAAAAAAAA8D8AAAAAAADwPwAAAAAAAPA/BgAAICOXBkAAAAAAAADwPwAAAAAAAPA/AAAAAAAA8D8AAAAAAADwPwUAAGAyZwhAAAAAAAAA8D8AAAAAAADwPwAAAAAAAPA/AAAAAAAA8D8AAAAAAADwPwAAAAAAAPA/AAAAAAAA8D8AAAAAAADwPwAAAAAAAPA/BgAAICOXBkAAAAAAAADwPwAAAAAAAPA/AAAAAAAA8D8AAAAAAADwPwYAACAjlwZAAAAAAAAA8D8AAAAAAADwPwYAACAjlwZAAAAAAAAA8D8GAAAgI5cGQAYAACAjlwZAAAAAAAAA8D8AAAAAAADwPwAAAAAAAPA/AAAAAAAA8D8AAAAAAADwPwAAAAAAAPA/AAAAAAAA8D8AAAAAAADwP/j//9+A+AhAAAAAAAAA8D8AAAAAAADwPwAAAAAAAPA/AAAAAAAA8D8AAAAAAADwPwAAAAAAAPA/AAAAAAAA8D8AAAAAAADwPwYAACAjlwZAAAAAAAAA8D8AAAAAAADwPwYAACAjlwZABgAAICOXBkAAAAAAAADwPwAAAAAAAPA/AAAAAAAA8D8AAAAAAADwPwAAAAAAAPA/BgAAICOXBkAAAAAAAADwPwAAAAAAAPA/BgAAICOXBkAAAAAAAADwPwAAAAAAAPA/BgAAICOXBkAAAAAAAADwPwAAAAAAAPA/AAAAAAAA8D8AAAAAAADwPwAAAAAAAPA/AAAAAAAA8D8GAAAgI5cGQAAAAAAAAPA/AAAAAAAA8D8AAAAAAADwPwAAAAAAAPA/AAAAAAAA8D8AAAAAAADwPwYAACAjlwZAAAAAAAAA8D8AAAAAAADwPwAAAAAAAPA/AAAAAAAA8D8AAAAAAADwPwAAAAAAAPA/AAAAAAAA8D8AAAAAAADwPwAAAAAAAPA/AAAAAAAA8D8AAAAAAADwPwAAAAAAAPA/AAAAAAAA8D8AAAAAAADwPwAAAAAAAPA/AAAAAAAA8D8AAAAAAADwPwAAAAAAAPA/AAAAAAAA8D8AAAAAAADwPwAAAAAAAPA/AAAAAAAA8D8AAAAAAADwPwAAAAAAAPA/AAAAAAAA8D8AAAAAAADwPwAAAAAAAPA/AAAAAAAA8D8AAAAAAADwPwAAAAAAAPA/AAAAAAAA8D8AAAAAAADwPwAAAAAAAPA/BgAAICOXBkAAAAAAAADwPwAAAAAAAPA/AAAAAAAA8D8AAAAAAADwPwAAAAAAAPA/AAAAAAAA8D8AAAAAAADwPwAAAAAAAPA/BgAAICOXBkAAAAAAAADwPwYAACAjlwZAAAAAAAAA8D8AAAAAAADwPwAAAAAAAPA/AAAAAAAA8D8GAAAgI5cGQAYAACAjlwZAAAAAAAAA8D8AAAAAAADwPwAAAAAAAPA/AAAAAAAA8D8AAAAAAADwPwAAAAAAAPA/AAAAAAAA8D8AAAAAAADwPwAAAAAAAPA/AAAAAAAA8D8AAAAAAADwPwAAAAAAAPA/BgAAICOXBkAAAAAAAADwPwAAAAAAAPA/AAAAAAAA8D8AAAAAAADwPwAAAAAAAPA/AAAAAAAA8D8AAAAAAADwPwAAAAAAAPA/BgAAICOXBkAAAAAAAADwPwYAACAjlwZAAAAAAAAA8D8AAAAAAADwPwAAAAAAAPA/AAAAAAAA8D8AAAAAAADwPwAAAAAAAPA/AAAAAAAA8D8AAAAAAADwPwAAAAAAAPA/AAAAAAAA8D8AAAAAAADwPwAAAAAAAPA/AAAAAAAA8D8AAAAAAADwPwAAAAAAAPA/AAAAAAAA8D8AAAAAAADwPwAAAAAAAPA/AAAAAAAA8D8AAAAAAADwPwAAAAAAAPA/AAAAAAAA8D8GAAAgI5cGQAAAAAAAAPA/AAAAAAAA8D8AAAAAAADwPwAAAAAAAPA/AAAAAAAA8D8GAAAgI5cGQAAAAAAAAPA/AAAAAAAA8D8AAAAAAADwPwAAAAAAAPA/AAAAAAAA8D8AAAAAAADwPwAAAAAAAPA/AAAAAAAA8D8GAAAgI5cGQAAAAAAAAPA/BgAAICOXBkAAAAAAAADwPwAAAAAAAPA/AAAAAAAA8D8AAAAAAADwPwAAAAAAAPA/AAAAAAAA8D8AAAAAAADwPwAAAAAAAPA/AAAAAAAA8D8GAAAgI5cGQAAAAAAAAPA/AAAAAAAA8D8AAAAAAADwPwAAAAAAAPA/BgAAICOXBkAAAAAAAADwPwAAAAAAAPA/AAAAAAAA8D8AAAAAAADwPwAAAAAAAPA/AAAAAAAA8D8AAAAAAADwPwAAAAAAAPA/AAAAAAAA8D8GAAAgI5cGQAAAAAAAAPA/AAAAAAAA8D8AAAAAAADwPwAAAAAAAPA/AAAAAAAA8D8AAAAAAADwPwAAAAAAAPA/AAAAAAAA8D8GAAAgI5cGQAAAAAAAAPA/AAAAAAAA8D8AAAAAAADwPwAAAAAAAPA/BgAAICOXBkAAAAAAAADwPwAAAAAAAPA/AAAAAAAA8D8AAAAAAADwPwAAAAAAAPA/BgAAICOXBkAAAAAAAADwPwAAAAAAAPA/AAAAAAAA8D8AAAAAAADwPwAAAAAAAPA/AAAAAAAA8D8GAAAgI5cGQAAAAAAAAPA/AAAAAAAA8D8AAAAAAADwPwAAAAAAAPA/AAAAAAAA8D8AAAAAAADwPwAAAAAAAPA/AAAAAAAA8D8AAAAAAADwPwAAAAAAAPA/AAAAAAAA8D8AAAAAAADwPwAAAAAAAPA/BgAAICOXBkAAAAAAAADwPwAAAAAAAPA/AAAAAAAA8D8AAAAAAADwPwAAAAAAAPA/AAAAAAAA8D8AAAAAAADwPwAAAAAAAPA/AAAAAAAA8D8AAAAAAADwPwAAAAAAAPA/AAAAAAAA8D8AAAAAAADwPwAAAAAAAPA/AAAAAAAA8D8AAAAAAADwPwAAAAAAAPA/AAAAAAAA8D8AAAAAAADwPwAAAAAAAPA/BgAAICOXBkAAAAAAAADwPwAAAAAAAPA/AAAAAAAA8D8AAAAAAADwPwAAAAAAAPA/AAAAAAAA8D8AAAAAAADwP+7//19SpvM/AAAAAAAA8D8AAAAAAADwPwAAAAAAAPA/AAAAAAAA8D8AAAAAAADwPwAAAAAAAPA/BgAAICOXBkAGAAAgI5cGQAAAAAAAAPA/AAAAAAAA8D8AAAAAAADwPwAAAAAAAPA/AAAAAAAA8D8AAAAAAADwPwYAACAjlwZAAAAAAAAA8D8AAAAAAADwPwAAAAAAAPA/AAAAAAAA8D8AAAAAAADwPwAAAAAAAPA/AAAAAAAA8D8AAAAAAADwPwAAAAAAAPA/AAAAAAAA8D8GAAAgI5cGQAAAAAAAAPA/AAAAAAAA8D8AAAAAAADwPwAAAAAAAPA/AAAAAAAA8D8GAAAgI5cGQAAAAAAAAPA/AAAAAAAA8D8AAAAAAADwPwAAAAAAAPA/AAAAAAAA8D8AAAAAAADwPwAAAAAAAPA/AAAAAAAA8D8AAAAAAADwPwAAAAAAAPA/BgAAICOXBkAAAAAAAADwPwYAACAjlwZAAAAAAAAA8D8AAAAAAADwPwAAAAAAAPA/AAAAAAAA8D8GAAAgI5cGQAAAAAAAAPA/AAAAAAAA8D8AAAAAAADwPwAAAAAAAPA/AAAAAAAA8D8AAAAAAADwPwAAAAAAAPA/AAAAAAAA8D8AAAAAAADwPwYAACAjlwZAAAAAAAAA8D8AAAAAAADwPwAAAAAAAPA/AAAAAAAA8D8AAAAAAADwPwAAAAAAAPA/AAAAAAAA8D8AAAAAAADwPwAAAAAAAPA/BgAAICOXBkAAAAAAAADwPwAAAAAAAPA/AAAAAAAA8D8AAAAAAADwPwAAAAAAAPA/AAAAAAAA8D8AAAAAAADwPwYAACAjlwZABgAAICOXBkAAAAAAAADwPwAAAAAAAPA/AAAAAAAA8D8AAAAAAADwPwAAAAAAAPA/AAAAAAAA8D8AAAAAAADwPwAAAAAAAPA/AAAAAAAA8D8AAAAAAADwPwYAACAjlwZAAAAAAAAA8D8AAAAAAADwPwAAAAAAAPA/AAAAAAAA8D8AAAAAAADwPwAAAAAAAPA/AAAAAAAA8D8AAAAAAADwPwAAAAAAAPA/AAAAAAAA8D8AAAAAAADwPwAAAAAAAPA/AAAAAAAA8D8AAAAAAADwPwAAAAAAAPA/AAAAAAAA8D8AAAAAAADwPwAAAAAAAPA/AAAAAAAA8D8AAAAAAADwPwAAAAAAAPA/AAAAAAAA8D8AAAAAAADwPwAAAAAAAPA/AAAAAAAA8D8AAAAAAADwPwAAAAAAAPA/AAAAAAAA8D8AAAAAAADwPwAAAAAAAPA/AAAAAAAA8D8AAAAAAADwPwYAACAjlwZAAAAAAAAA8D8AAAAAAADwPwAAAAAAAPA/AAAAAAAA8D8AAAAAAADwPwAAAAAAAPA/BgAAICOXBkAAAAAAAADwPwAAAAAAAPA/AAAAAAAA8D8AAAAAAADwPwAAAAAAAPA/AAAAAAAA8D8AAAAAAADwPwAAAAAAAPA/AAAAAAAA8D8AAAAAAADwPwAAAAAAAPA/AAAAAAAA8D8AAAAAAADwPwAAAAAAAPA/AAAAAAAA8D8AAAAAAADwPwYAACAjlwZAAAAAAAAA8D8GAAAgI5cGQAAAAAAAAPA/AAAAAAAA8D8AAAAAAADwPwAAAAAAAPA/AAAAAAAA8D8AAAAAAADwPwYAACAjlwZAAAAAAAAA8D8AAAAAAADwPwAAAAAAAPA/AAAAAAAA8D8GAAAgI5cGQAYAACAjlwZAAAAAAAAA8D8AAAAAAADwPwAAAAAAAPA/AAAAAAAA8D8AAAAAAADwPwAAAAAAAPA/AAAAAAAA8D8AAAAAAADwPwAAAAAAAPA/AAAAAAAA8D8AAAAAAADwPwAAAAAAAPA/AAAAAAAA8D/t///fl6/xPwAAAAAAAPA/AAAAAAAA8D8AAAAAAADwP/j//9+A+AhAAAAAAAAA8D8AAAAAAADwPwAAAAAAAPA/AAAAAAAA8D8AAAAAAADwPwYAACAjlwZAAAAAAAAA8D8AAAAAAADwPwAAAAAAAPA/AAAAAAAA8D8AAAAAAADwPwAAAAAAAPA/BgAAICOXBkAAAAAAAADwPwAAAAAAAPA/AAAAAAAA8D8AAAAAAADwPwYAACAjlwZAAAAAAAAA8D8GAAAgI5cGQAAAAAAAAPA/AAAAAAAA8D8AAAAAAADwPwAAAAAAAPA/AAAAAAAA8D8AAAAAAADwPwAAAAAAAPA/AAAAAAAA8D8AAAAAAADwPwAAAAAAAPA/AAAAAAAA8D8AAAAAAADwPwAAAAAAAPA/AAAAAAAA8D8AAAAAAADwPwYAACAjlwZAAAAAAAAA8D8GAAAgI5cGQAAAAAAAAPA/AAAAAAAA8D8AAAAAAADwPwAAAAAAAPA/AAAAAAAA8D8AAAAAAADwPwAAAAAAAPA/AAAAAAAA8D8AAAAAAADwPwYAACAjlwZAAAAAAAAA8D8AAAAAAADwPwAAAAAAAPA/AAAAAAAA8D8AAAAAAADwPwAAAAAAAPA/AAAAAAAA8D8AAAAAAADwPwAAAAAAAPA/AAAAAAAA8D8AAAAAAADwPwAAAAAAAPA/AAAAAAAA8D8AAAAAAADwPwAAAAAAAPA/AAAAAAAA8D8AAAAAAADwPwYAACAjlwZABgAAICOXBkAAAAAAAADwPwAAAAAAAPA/AAAAAAAA8D8AAAAAAADwPwAAAAAAAPA/AAAAAAAA8D8AAAAAAADwPwAAAAAAAPA/AAAAAAAA8D8AAAAAAADwPwYAACAjlwZAAAAAAAAA8D8AAAAAAADwPwAAAAAAAPA/AAAAAAAA8D8AAAAAAADwPwYAACAjlwZAAAAAAAAA8D8AAAAAAADwPwAAAAAAAPA/AAAAAAAA8D8AAAAAAADwPwAAAAAAAPA/AAAAAAAA8D8AAAAAAADwPwAAAAAAAPA/AAAAAAAA8D8AAAAAAADwPwAAAAAAAPA/AAAAAAAA8D8AAAAAAADwPwYAACAjlwZAAAAAAAAA8D8AAAAAAADwPwAAAAAAAPA/AAAAAAAA8D8AAAAAAADwPwAAAAAAAPA/AAAAAAAA8D8AAAAAAADwPwAAAAAAAPA/AAAAAAAA8D8AAAAAAADwPwAAAAAAAPA/AAAAAAAA8D8AAAAAAADwPwYAACAjlwZAAAAAAAAA8D8AAAAAAADwPwYAACAjlwZAAAAAAAAA8D8AAAAAAADwPwAAAAAAAPA/AAAAAAAA8D8AAAAAAADwPwYAACAjlwZAAAAAAAAA8D8AAAAAAADwPwAAAAAAAPA/AAAAAAAA8D8AAAAAAADwPwAAAAAAAPA/AAAAAAAA8D8AAAAAAADwPwAAAAAAAPA/AAAAAAAA8D8AAAAAAADwPwAAAAAAAPA/AAAAAAAA8D8AAAAAAADwPwAAAAAAAPA/BgAAICOXBkAAAAAAAADwPwAAAAAAAPA/AAAAAAAA8D8AAAAAAADwPwAAAAAAAPA/AAAAAAAA8D8AAAAAAADwPwAAAAAAAPA/AAAAAAAA8D8AAAAAAADwPwAAAAAAAPA/BgAAICOXBkAAAAAAAADwPwAAAAAAAPA/7f//35ev8T8AAAAAAADwPwAAAAAAAPA/AAAAAAAA8D8AAAAAAADwPwAAAAAAAPA/AAAAAAAA8D8AAAAAAADwPwAAAAAAAPA/BgAAICOXBkAAAAAAAADwPwAAAAAAAPA/AAAAAAAA8D8AAAAAAADwPwAAAAAAAPA/AAAAAAAA8D8GAAAgI5cGQAAAAAAAAPA/AAAAAAAA8D8AAAAAAADwPwAAAAAAAPA/AAAAAAAA8D8AAAAAAADwPwAAAAAAAPA/BgAAICOXBkAAAAAAAADwPwYAACAjlwZABgAAICOXBkAAAAAAAADwPwAAAAAAAPA/AAAAAAAA8D8AAAAAAADwPwAAAAAAAPA/AAAAAAAA8D8AAAAAAADwPwAAAAAAAPA/AAAAAAAA8D8AAAAAAADwPwAAAAAAAPA/AAAAAAAA8D8AAAAAAADwPwAAAAAAAPA/AAAAAAAA8D8AAAAAAADwPwAAAAAAAPA/BgAAICOXBkAAAAAAAADwPwAAAAAAAPA/AAAAAAAA8D8AAAAAAADwPwAAAAAAAPA/AAAAAAAA8D8AAAAAAADwPwAAAAAAAPA/AAAAAAAA8D8AAAAAAADwPwAAAAAAAPA/AAAAAAAA8D8AAAAAAADwPwAAAAAAAPA/AAAAAAAA8D8AAAAAAADwPwAAAAAAAPA/AAAAAAAA8D8AAAAAAADwPwAAAAAAAPA/BgAAICOXBkAAAAAAAADwPwAAAAAAAPA/BgAAICOXBkAAAAAAAADwPwYAACAjlwZAAAAAAAAA8D8AAAAAAADwPwYAACAjlwZAAAAAAAAA8D8AAAAAAADwPwAAAAAAAPA/AAAAAAAA8D8AAAAAAADwPwYAACAjlwZAAAAAAAAA8D8AAAAAAADwPwAAAAAAAPA/AAAAAAAA8D8AAAAAAADwPwAAAAAAAPA/AAAAAAAA8D8AAAAAAADwPwAAAAAAAPA/AAAAAAAA8D8AAAAAAADwPwAAAAAAAPA/AAAAAAAA8D8AAAAAAADwPwAAAAAAAPA/AAAAAAAA8D8AAAAAAADwPwAAAAAAAPA/AAAAAAAA8D8AAAAAAADwPwYAACAjlwZABgAAICOXBkAAAAAAAADwPwAAAAAAAPA/AAAAAAAA8D8AAAAAAADwPwAAAAAAAPA/AAAAAAAA8D8AAAAAAADwPwAAAAAAAPA/AAAAAAAA8D8AAAAAAADwPwYAACAjlwZAAAAAAAAA8D8GAAAgI5cGQAAAAAAAAPA/AAAAAAAA8D8AAAAAAADwPwYAACAjlwZAAAAAAAAA8D8AAAAAAADwPwAAAAAAAPA/AAAAAAAA8D8GAAAgI5cGQAAAAAAAAPA/AAAAAAAA8D8AAAAAAADwPwIAACCgJA9AAAAAAAAA8D8GAAAgI5cGQAAAAAAAAPA/BgAAICOXBkADAAAgTr4LQAAAAAAAAPA/AAAAAAAA8D8AAAAAAADwPwAAAAAAAPA/AAAAAAAA8D8AAAAAAADwPwAAAAAAAPA/AAAAAAAA8D8AAAAAAADwPwAAAAAAAPA/AAAAAAAA8D8AAAAAAADwPwAAAAAAAPA/BgAAICOXBkAAAAAAAADwPwAAAAAAAPA/AAAAAAAA8D8AAAAAAADwPwAAAAAAAPA/BgAAICOXBkAAAAAAAADwPwAAAAAAAPA/AAAAAAAA8D8AAAAAAADwPwAAAAAAAPA/AAAAAAAA8D8AAAAAAADwPwAAAAAAAPA/AAAAAAAA8D8AAAAAAADwPwAAAAAAAPA/AAAAAAAA8D8AAAAAAADwPwAAAAAAAPA/BgAAICOXBkAAAAAAAADwPwAAAAAAAPA/AAAAAAAA8D8AAAAAAADwPwAAAAAAAPA/AAAAAAAA8D8AAAAAAADwPwAAAAAAAPA/AAAAAAAA8D8AAAAAAADwPwAAAAAAAPA/AAAAAAAA8D8AAAAAAADwPwAAAAAAAPA/AAAAAAAA8D8AAAAAAADwPwAAAAAAAPA/AAAAAAAA8D8AAAAAAADwPwYAACAjlwZAAAAAAAAA8D8AAAAAAADwPwAAAAAAAPA/BgAAICOXBkAAAAAAAADwPwAAAAAAAPA/AAAAAAAA8D8AAAAAAADwPwAAAAAAAPA/AAAAAAAA8D8AAAAAAADwPwAAAAAAAPA/AAAAAAAA8D8AAAAAAADwPwAAAAAAAPA/AAAAAAAA8D8AAAAAAADwPwAAAAAAAPA/AAAAAAAA8D8AAAAAAADwPwAAAAAAAPA/AAAAAAAA8D8AAAAAAADwPwAAAAAAAPA/AAAAAAAA8D8AAAAAAADwPwAAAAAAAPA/AAAAAAAA8D8AAAAAAADwPwAAAAAAAPA/AAAAAAAA8D8GAAAgI5cGQAAAAAAAAPA/AAAAAAAA8D8AAAAAAADwPwAAAAAAAPA/AAAAAAAA8D8GAAAgI5cGQAAAAAAAAPA/AAAAAAAA8D8AAAAAAADwPwAAAAAAAPA/AAAAAAAA8D8AAAAAAADwPwAAAAAAAPA/AAAAAAAA8D8AAAAAAADwPwAAAAAAAPA/AAAAAAAA8D8AAAAAAADwP/j//9+A+AhAAAAAAAAA8D8AAAAAAADwPwAAAAAAAPA/AAAAAAAA8D8AAAAAAADwPwAAAAAAAPA/AAAAAAAA8D8AAAAAAADwPwAAAAAAAPA/AAAAAAAA8D8AAAAAAADwPwAAAAAAAPA/BgAAICOXBkAAAAAAAADwPwYAACAjlwZAAAAAAAAA8D8GAAAgI5cGQAAAAAAAAPA/AAAAAAAA8D8AAAAAAADwPwAAAAAAAPA/AAAAAAAA8D8GAAAgI5cGQAAAAAAAAPA/AAAAAAAA8D8AAAAAAADwPwYAACAjlwZAAAAAAAAA8D8AAAAAAADwPwAAAAAAAPA/AAAAAAAA8D8GAAAgI5cGQAAAAAAAAPA/AAAAAAAA8D8AAAAAAADwPwAAAAAAAPA/AAAAAAAA8D8AAAAAAADwPwAAAAAAAPA/AAAAAAAA8D8AAAAAAADwPwAAAAAAAPA/AAAAAAAA8D8AAAAAAADwPwAAAAAAAPA/BgAAICOXBkAAAAAAAADwPwAAAAAAAPA/AAAAAAAA8D8AAAAAAADwP/j//9+A+AhABgAAICOXBkAAAAAAAADwPwAAAAAAAPA/AAAAAAAA8D8GAAAgI5cGQAYAACAjlwZAAAAAAAAA8D8AAAAAAADwPwAAAAAAAPA/BgAAICOXBkAGAAAgI5cGQAAAAAAAAPA/AAAAAAAA8D8GAAAgI5cGQAAAAAAAAPA/AAAAAAAA8D8GAAAgI5cGQAAAAAAAAPA/AAAAAAAA8D8AAAAAAADwPwAAAAAAAPA/AAAAAAAA8D8AAAAAAADwPwYAACAjlwZAAAAAAAAA8D8AAAAAAADwPwAAAAAAAPA/AAAAAAAA8D8AAAAAAADwPwAAAAAAAPA/AAAAAAAA8D8AAAAAAADwPwAAAAAAAPA/AAAAAAAA8D8AAAAAAADwPwAAAAAAAPA/BgAAICOXBkAGAAAgI5cGQAYAACAjlwZABgAAICOXBkAAAAAAAADwPwAAAAAAAPA/AAAAAAAA8D8AAAAAAADwPwYAACAjlwZAAAAAAAAA8D8GAAAgI5cGQAAAAAAAAPA/AAAAAAAA8D8AAAAAAADwPwAAAAAAAPA/AAAAAAAA8D8AAAAAAADwPwAAAAAAAPA/AAAAAAAA8D8AAAAAAADwPwAAAAAAAPA/AAAAAAAA8D8AAAAAAADwPwAAAAAAAPA/AAAAAAAA8D8AAAAAAADwPwAAAAAAAPA/AAAAAAAA8D8AAAAAAADwPwAAAAAAAPA/AAAAAAAA8D8AAAAAAADwPwAAAAAAAPA/BgAAICOXBkAAAAAAAADwPwAAAAAAAPA/AAAAAAAA8D8AAAAAAADwPwAAAAAAAPA/AAAAAAAA8D8GAAAgI5cGQAAAAAAAAPA/AAAAAAAA8D8AAAAAAADwPwAAAAAAAPA/AAAAAAAA8D8AAAAAAADwPwAAAAAAAPA/AAAAAAAA8D8AAAAAAADwPwAAAAAAAPA/AAAAAAAA8D8GAAAgI5cGQAAAAAAAAPA/AAAAAAAA8D8AAAAAAADwPwAAAAAAAPA/AAAAAAAA8D8AAAAAAADwPwAAAAAAAPA/AAAAAAAA8D8AAAAAAADwPwAAAAAAAPA/AAAAAAAA8D8AAAAAAADwPwAAAAAAAPA/AAAAAAAA8D8AAAAAAADwPwAAAAAAAPA/BgAAICOXBkAAAAAAAADwPwAAAAAAAPA/AAAAAAAA8D8AAAAAAADwPwAAAAAAAPA/AAAAAAAA8D8AAAAAAADwPwAAAAAAAPA/AAAAAAAA8D8AAAAAAADwPwAAAAAAAPA/AAAAAAAA8D8AAAAAAADwPwMAACBOvgtAAAAAAAAA8D8GAAAgI5cGQAAAAAAAAPA/AAAAAAAA8D8AAAAAAADwPwYAACAjlwZAAAAAAAAA8D8GAAAgI5cGQAAAAAAAAPA/AAAAAAAA8D8AAAAAAADwPwAAAAAAAPA/AAAAAAAA8D8AAAAAAADwPwAAAAAAAPA/BgAAICOXBkAAAAAAAADwPwAAAAAAAPA/BgAAICOXBkAAAAAAAADwPwYAACAjlwZAAAAAAAAA8D8AAAAAAADwPwAAAAAAAPA/AAAAAAAA8D8AAAAAAADwPwAAAAAAAPA/AAAAAAAA8D8AAAAAAADwPwAAAAAAAPA/BgAAICOXBkAAAAAAAADwPwAAAAAAAPA/AAAAAAAA8D8AAAAAAADwPwYAACAjlwZAAAAAAAAA8D8AAAAAAADwPwAAAAAAAPA/AAAAAAAA8D8AAAAAAADwPwAAAAAAAPA/AAAAAAAA8D8AAAAAAADwPwAAAAAAAPA/AAAAAAAA8D8AAAAAAADwPwAAAAAAAPA/AAAAAAAA8D8AAAAAAADwPwAAAAAAAPA/AAAAAAAA8D8AAAAAAADwPwAAAAAAAPA/AAAAAAAA8D8AAAAAAADwPwAAAAAAAPA/AAAAAAAA8D8AAAAAAADwPwAAAAAAAPA/BgAAICOXBkAAAAAAAADwPwAAAAAAAPA/AAAAAAAA8D8AAAAAAADwPwAAAAAAAPA/AAAAAAAA8D8AAAAAAADwPwYAACAjlwZAAAAAAAAA8D8AAAAAAADwPwAAAAAAAPA/AgAAIKAkD0AAAAAAAADwPwAAAAAAAPA/AAAAAAAA8D8AAAAAAADwPwAAAAAAAPA/AAAAAAAA8D8AAAAAAADwPwAAAAAAAPA/BgAAICOXBkAAAAAAAADwPwAAAAAAAPA/BgAAICOXBkAAAAAAAADwPwAAAAAAAPA/BgAAICOXBkAAAAAAAADwPwAAAAAAAPA/AAAAAAAA8D8AAAAAAADwPwAAAAAAAPA/BgAAICOXBkAGAAAgI5cGQAAAAAAAAPA/AAAAAAAA8D8AAAAAAADwPwAAAAAAAPA/AAAAAAAA8D8AAAAAAADwPwAAAAAAAPA/AAAAAAAA8D8AAAAAAADwPwAAAAAAAPA/AAAAAAAA8D8AAAAAAADwPwAAAAAAAPA/AAAAAAAA8D8AAAAAAADwPwAAAAAAAPA/AAAAAAAA8D8AAAAAAADwPwAAAAAAAPA/AAAAAAAA8D8AAAAAAADwPwAAAAAAAPA/AAAAAAAA8D8AAAAAAADwPwAAAAAAAPA/AAAAAAAA8D8AAAAAAADwPwYAACAjlwZAAAAAAAAA8D8AAAAAAADwPwAAAAAAAPA/AAAAAAAA8D8AAAAAAADwPwAAAAAAAPA/AAAAAAAA8D8GAAAgI5cGQAYAACAjlwZAAAAAAAAA8D8AAAAAAADwPwAAAAAAAPA/AAAAAAAA8D8GAAAgI5cGQAAAAAAAAPA/AAAAAAAA8D8AAAAAAADwPwAAAAAAAPA/AAAAAAAA8D8AAAAAAADwPwAAAAAAAPA/AAAAAAAA8D8AAAAAAADwP+3//9+Xr/E/AAAAAAAA8D8AAAAAAADwPwAAAAAAAPA/AAAAAAAA8D8AAAAAAADwPwAAAAAAAPA/AAAAAAAA8D8AAAAAAADwPwAAAAAAAPA/AAAAAAAA8D8AAAAAAADwPwYAACAjlwZAAAAAAAAA8D8AAAAAAADwPwYAACAjlwZAAAAAAAAA8D8AAAAAAADwPwAAAAAAAPA/AAAAAAAA8D8AAAAAAADwPwYAACAjlwZAAAAAAAAA8D8GAAAgI5cGQPj//9+A+AhABgAAICOXBkAAAAAAAADwPwAAAAAAAPA/AAAAAAAA8D8AAAAAAADwPwAAAAAAAPA/AAAAAAAA8D8AAAAAAADwPwAAAAAAAPA/AAAAAAAA8D8AAAAAAADwPwAAAAAAAPA/AAAAAAAA8D8AAAAAAADwPwAAAAAAAPA/BgAAICOXBkAAAAAAAADwPwAAAAAAAPA/AAAAAAAA8D8AAAAAAADwPwAAAAAAAPA/AAAAAAAA8D8AAAAAAADwPwAAAAAAAPA/AAAAAAAA8D8GAAAgI5cGQAAAAAAAAPA/AAAAAAAA8D8AAAAAAADwPwAAAAAAAPA/BgAAICOXBkAAAAAAAADwPwAAAAAAAPA/AAAAAAAA8D8AAAAAAADwPwAAAAAAAPA/AAAAAAAA8D8AAAAAAADwPwAAAAAAAPA/AAAAAAAA8D8AAAAAAADwPwAAAAAAAPA/AAAAAAAA8D8AAAAAAADwPwAAAAAAAPA/AAAAAAAA8D8AAAAAAADwPwAAAAAAAPA/AAAAAAAA8D8AAAAAAADwPwAAAAAAAPA/AAAAAAAA8D8AAAAAAADwPwAAAAAAAPA/AAAAAAAA8D8AAAAAAADwPwAAAAAAAPA/AAAAAAAA8D8AAAAAAADwPwAAAAAAAPA/AAAAAAAA8D8AAAAAAADwPwAAAAAAAPA/AAAAAAAA8D8GAAAgI5cGQAAAAAAAAPA/AAAAAAAA8D8AAAAAAADwPwAAAAAAAPA/AAAAAAAA8D8AAAAAAADwPwAAAAAAAPA/AAAAAAAA8D8AAAAAAADwPwAAAAAAAPA/AAAAAAAA8D8AAAAAAADwPwYAACAjlwZAAAAAAAAA8D8AAAAAAADwPwAAAAAAAPA/AAAAAAAA8D8AAAAAAADwPwAAAAAAAPA/AAAAAAAA8D8AAAAAAADwPwAAAAAAAPA/AAAAAAAA8D8AAAAAAADwPwAAAAAAAPA/AAAAAAAA8D8AAAAAAADwPwAAAAAAAPA/AAAAAAAA8D8AAAAAAADwPwAAAAAAAPA/AAAAAAAA8D8AAAAAAADwPwAAAAAAAPA/AAAAAAAA8D8AAAAAAADwPwAAAAAAAPA/AAAAAAAA8D8AAAAAAADwPwAAAAAAAPA/BgAAICOXBkAAAAAAAADwPwAAAAAAAPA/AAAAAAAA8D8AAAAAAADwPwAAAAAAAPA/AAAAAAAA8D8GAAAgI5cGQAYAACAjlwZAAAAAAAAA8D8AAAAAAADwPwAAAAAAAPA/AAAAAAAA8D8GAAAgI5cGQAAAAAAAAPA/BgAAICOXBkAAAAAAAADwPwYAACAjlwZAAAAAAAAA8D8AAAAAAADwPwAAAAAAAPA/AAAAAAAA8D8GAAAgI5cGQAAAAAAAAPA/AAAAAAAA8D8AAAAAAADwPwAAAAAAAPA/AAAAAAAA8D8AAAAAAADwPwYAACAjlwZAAAAAAAAA8D8AAAAAAADwPwAAAAAAAPA/BgAAICOXBkAAAAAAAADwPwYAACAjlwZABgAAICOXBkAAAAAAAADwPwAAAAAAAPA/AAAAAAAA8D8AAAAAAADwPwYAACAjlwZABgAAICOXBkAAAAAAAADwPwAAAAAAAPA/+v//H+whCkAAAAAAAADwPwAAAAAAAPA/AAAAAAAA8D8AAAAAAADwPwAAAAAAAPA/AAAAAAAA8D8AAAAAAADwPwAAAAAAAPA/AAAAAAAA8D8AAAAAAADwPwAAAAAAAPA/AAAAAAAA8D8AAAAAAADwPwAAAAAAAPA/AAAAAAAA8D8AAAAAAADwPwAAAAAAAPA/BgAAICOXBkAAAAAAAADwPwAAAAAAAPA/AAAAAAAA8D8AAAAAAADwPwAAAAAAAPA/AAAAAAAA8D8AAAAAAADwPwAAAAAAAPA/AAAAAAAA8D8AAAAAAADwPwYAACAjlwZAAAAAAAAA8D8AAAAAAADwPwAAAAAAAPA/BgAAICOXBkAAAAAAAADwPwAAAAAAAPA/AAAAAAAA8D8GAAAgI5cGQAAAAAAAAPA/AAAAAAAA8D8AAAAAAADwPwAAAAAAAPA/AAAAAAAA8D8GAAAgI5cGQAAAAAAAAPA/AAAAAAAA8D8AAAAAAADwPwAAAAAAAPA/AAAAAAAA8D8AAAAAAADwPwAAAAAAAPA/AAAAAAAA8D8AAAAAAADwPwAAAAAAAPA/AAAAAAAA8D8AAAAAAADwPwAAAAAAAPA/AAAAAAAA8D8AAAAAAADwPwAAAAAAAPA/AAAAAAAA8D8AAAAAAADwPwAAAAAAAPA/AAAAAAAA8D8AAAAAAADwPwAAAAAAAPA/AAAAAAAA8D8AAAAAAADwPwAAAAAAAPA/AAAAAAAA8D8AAAAAAADwPwAAAAAAAPA/AAAAAAAA8D8GAAAgI5cGQAAAAAAAAPA/AAAAAAAA8D8AAAAAAADwPwAAAAAAAPA/BgAAICOXBkAAAAAAAADwPwAAAAAAAPA/AAAAAAAA8D8AAAAAAADwPwAAAAAAAPA/AAAAAAAA8D8AAAAAAADwPwAAAAAAAPA/AAAAAAAA8D8AAAAAAADwPwYAACAjlwZAAAAAAAAA8D8AAAAAAADwPwYAACAjlwZAAAAAAAAA8D8AAAAAAADwPwAAAAAAAPA/AAAAAAAA8D8AAAAAAADwPwAAAAAAAPA/AAAAAAAA8D8AAAAAAADwPwAAAAAAAPA/AAAAAAAA8D8AAAAAAADwPwAAAAAAAPA/AAAAAAAA8D8AAAAAAADwPwAAAAAAAPA/AAAAAAAA8D8AAAAAAADwPwAAAAAAAPA/AAAAAAAA8D8GAAAgI5cGQAAAAAAAAPA/BgAAICOXBkAAAAAAAADwPwAAAAAAAPA/AAAAAAAA8D8AAAAAAADwPwYAACAjlwZABgAAICOXBkAAAAAAAADwPwAAAAAAAPA/AAAAAAAA8D8AAAAAAADwPwAAAAAAAPA/BgAAICOXBkAAAAAAAADwPwYAACAjlwZAAAAAAAAA8D8AAAAAAADwPwAAAAAAAPA/BgAAICOXBkAAAAAAAADwPwAAAAAAAPA/AAAAAAAA8D8AAAAAAADwPwAAAAAAAPA/AAAAAAAA8D8AAAAAAADwPwAAAAAAAPA/AAAAAAAA8D8AAAAAAADwPwAAAAAAAPA/AAAAAAAA8D8GAAAgI5cGQAAAAAAAAPA/AAAAAAAA8D8AAAAAAADwPwAAAAAAAPA/AAAAAAAA8D8AAAAAAADwPwYAACAjlwZAAAAAAAAA8D8AAAAAAADwPwAAAAAAAPA/AAAAAAAA8D8GAAAgI5cGQAAAAAAAAPA/AAAAAAAA8D8AAAAAAADwPwAAAAAAAPA/AAAAAAAA8D8AAAAAAADwPwAAAAAAAPA/AAAAAAAA8D8AAAAAAADwPwAAAAAAAPA/AAAAAAAA8D8AAAAAAADwPwAAAAAAAPA/BgAAICOXBkAAAAAAAADwPwAAAAAAAPA/AAAAAAAA8D8AAAAAAADwPwAAAAAAAPA/AAAAAAAA8D8AAAAAAADwPwAAAAAAAPA/AAAAAAAA8D8AAAAAAADwPwAAAAAAAPA/AAAAAAAA8D8GAAAgI5cGQAAAAAAAAPA/AAAAAAAA8D8AAAAAAADwPwAAAAAAAPA/AAAAAAAA8D8AAAAAAADwPwAAAAAAAPA/AAAAAAAA8D8GAAAgI5cGQAAAAAAAAPA/AAAAAAAA8D8AAAAAAADwPwAAAAAAAPA/AAAAAAAA8D8AAAAAAADwPwAAAAAAAPA/AAAAAAAA8D8AAAAAAADwPwAAAAAAAPA/AAAAAAAA8D8AAAAAAADwPwAAAAAAAPA/AAAAAAAA8D8GAAAgI5cGQAAAAAAAAPA/AAAAAAAA8D8AAAAAAADwPwAAAAAAAPA/AAAAAAAA8D8AAAAAAADwPwAAAAAAAPA/AAAAAAAA8D8AAAAAAADwPwAAAAAAAPA/AAAAAAAA8D8AAAAAAADwPwAAAAAAAPA/AAAAAAAA8D8AAAAAAADwPwAAAAAAAPA/AAAAAAAA8D8AAAAAAADwPwAAAAAAAPA/AAAAAAAA8D8AAAAAAADwP/j//9+A+AhAAAAAAAAA8D8AAAAAAADwPwAAAAAAAPA/AAAAAAAA8D8AAAAAAADwPwAAAAAAAPA/BgAAICOXBkAGAACAq5EJQAAAAAAAAPA/AAAAAAAA8D8GAAAgI5cGQAAAAAAAAPA/AAAAAAAA8D8GAACAq5EJQAAAAAAAAPA/AAAAAAAA8D8AAAAAAADwPwAAAAAAAPA/AAAAAAAA8D8AAAAAAADwPwAAAAAAAPA/AAAAAAAA8D8AAAAAAADwPwAAAAAAAPA/AAAAAAAA8D8GAAAgI5cGQAYAACAjlwZAAAAAAAAA8D8GAAAgI5cGQAYAACAjlwZAAAAAAAAA8D8GAAAgI5cGQAAAAAAAAPA/BgAAICOXBkAAAAAAAADwPwAAAAAAAPA/BgAAICOXBkAAAAAAAADwPwAAAAAAAPA/AAAAAAAA8D8AAAAAAADwPwAAAAAAAPA/BgAAICOXBkAAAAAAAADwP/j//9+A+AhAAAAAAAAA8D8AAAAAAADwPwAAAAAAAPA/AAAAAAAA8D8AAAAAAADwPwAAAAAAAPA/AAAAAAAA8D8AAAAAAADwPwAAAAAAAPA/AAAAAAAA8D8AAAAAAADwPwAAAAAAAPA/AAAAAAAA8D8AAAAAAADwPwYAACAjlwZAAAAAAAAA8D8AAAAAAADwPwAAAAAAAPA/AAAAAAAA8D8AAAAAAADwPwAAAAAAAPA/AAAAAAAA8D8GAAAgI5cGQAYAACAjlwZAAAAAAAAA8D8AAAAAAADwPwAAAAAAAPA/AAAAAAAA8D8AAAAAAADwPwAAAAAAAPA/AAAAAAAA8D8AAAAAAADwPwAAAAAAAPA/AAAAAAAA8D8AAAAAAADwPwAAAAAAAPA/AAAAAAAA8D8AAAAAAADwPwYAACAjlwZAAAAAAAAA8D8AAAAAAADwPwAAAAAAAPA/AAAAAAAA8D8AAAAAAADwPwAAAAAAAPA/AAAAAAAA8D8AAAAAAADwPwAAAAAAAPA/AAAAAAAA8D8AAAAAAADwPwAAAAAAAPA/AAAAAAAA8D8AAAAAAADwPwAAAAAAAPA/AAAAAAAA8D8AAAAAAADwPwAAAAAAAPA/AAAAAAAA8D8AAAAAAADwP/r//x/sIQpAAAAAAAAA8D8AAAAAAADwPwAAAAAAAPA/BgAAICOXBkAAAAAAAADwPwAAAAAAAPA/AAAAAAAA8D8AAAAAAADwPwYAACAjlwZAAAAAAAAA8D8AAAAAAADwPwAAAAAAAPA/AAAAAAAA8D8AAAAAAADwPwAAAAAAAPA/AAAAAAAA8D8AAAAAAADwPwAAAAAAAPA/AAAAAAAA8D8AAAAAAADwPwAAAAAAAPA/AAAAAAAA8D8AAAAAAADwPwAAAAAAAPA/BgAAICOXBkAAAAAAAADwPwAAAAAAAPA/BgAAICOXBkAAAAAAAADwPwAAAAAAAPA/AAAAAAAA8D8AAAAAAADwPwAAAAAAAPA/AAAAAAAA8D8AAAAAAADwPwAAAAAAAPA/AAAAAAAA8D8AAAAAAADwPwAAAAAAAPA/AAAAAAAA8D8AAAAAAADwPwAAAAAAAPA/AAAAAAAA8D8AAAAAAADwPwAAAAAAAPA/AAAAAAAA8D8AAAAAAADwPwAAAAAAAPA/AAAAAAAA8D8AAAAAAADwPwYAACAjlwZAAAAAAAAA8D8AAAAAAADwPwYAAICrkQlAAAAAAAAA8D8GAAAgI5cGQAAAAAAAAPA/AAAAAAAA8D8AAAAAAADwPwAAAAAAAPA/AAAAAAAA8D8AAAAAAADwPwAAAAAAAPA/AAAAAAAA8D8AAAAAAADwPwYAACAjlwZAAAAAAAAA8D8GAAAgI5cGQAAAAAAAAPA/AAAAAAAA8D8AAAAAAADwPwAAAAAAAPA/BgAAICOXBkAAAAAAAADwPwAAAAAAAPA/AAAAAAAA8D8AAAAAAADwPwAAAAAAAPA/BgAAICOXBkAAAAAAAADwPwAAAAAAAPA/AAAAAAAA8D8AAAAAAADwPwAAAAAAAPA/AAAAAAAA8D8AAAAAAADwPwAAAAAAAPA/AAAAAAAA8D8AAAAAAADwPwAAAAAAAPA/AAAAAAAA8D8AAAAAAADwPwAAAAAAAPA/AAAAAAAA8D8AAAAAAADwPwAAAAAAAPA/AAAAAAAA8D8AAAAAAADwPwAAAAAAAPA/AAAAAAAA8D8AAAAAAADwPwYAACAjlwZABgAAICOXBkAGAAAgI5cGQAYAACAjlwZABgAAICOXBkAAAAAAAADwPwAAAAAAAPA/AAAAAAAA8D8AAAAAAADwPwAAAAAAAPA/AAAAAAAA8D8AAAAAAADwPwAAAAAAAPA/AAAAAAAA8D8AAAAAAADwPwAAAAAAAPA/BgAAICOXBkAAAAAAAADwPwAAAAAAAPA/AAAAAAAA8D8AAAAAAADwPwAAAAAAAPA/AAAAAAAA8D8AAAAAAADwPwAAAAAAAPA/AAAAAAAA8D8GAAAgI5cGQAAAAAAAAPA/AAAAAAAA8D8GAAAgI5cGQAAAAAAAAPA/AAAAAAAA8D8AAAAAAADwPwAAAAAAAPA/AAAAAAAA8D8AAAAAAADwPwAAAAAAAPA/BgAAICOXBkAAAAAAAADwPwAAAAAAAPA/BgAAICOXBkAAAAAAAADwPwAAAAAAAPA/AAAAAAAA8D8AAAAAAADwPwAAAAAAAPA/AAAAAAAA8D8AAAAAAADwPwAAAAAAAPA/BgAAICOXBkAGAAAgI5cGQAAAAAAAAPA/AAAAAAAA8D8AAAAAAADwPwAAAAAAAPA/AAAAAAAA8D8AAAAAAADwPwAAAAAAAPA/AAAAAAAA8D8AAAAAAADwPwAAAAAAAPA/AAAAAAAA8D8AAAAAAADwPwAAAAAAAPA/AAAAAAAA8D8AAAAAAADwPwAAAAAAAPA/AAAAAAAA8D8GAAAgI5cGQAAAAAAAAPA/BgAAICOXBkAAAAAAAADwPwAAAAAAAPA/AAAAAAAA8D8AAAAAAADwPwAAAAAAAPA/AAAAAAAA8D8AAAAAAADwPwAAAAAAAPA/AAAAAAAA8D8AAAAAAADwPwAAAAAAAPA/AAAAAAAA8D8AAAAAAADwPwAAAAAAAPA/AAAAAAAA8D8AAAAAAADwPwAAAAAAAPA/BgAAICOXBkAAAAAAAADwPwAAAAAAAPA/AAAAAAAA8D8AAAAAAADwPwAAAAAAAPA/AAAAAAAA8D8AAAAAAADwPwAAAAAAAPA/AAAAAAAA8D8AAAAAAADwPwAAAAAAAPA/AAAAAAAA8D8AAAAAAADwPwAAAAAAAPA/AAAAAAAA8D8AAAAAAADwPwAAAAAAAPA/AAAAAAAA8D8AAAAAAADwPwYAACAjlwZAAAAAAAAA8D8AAAAAAADwPwAAAAAAAPA/AAAAAAAA8D8AAAAAAADwPwAAAAAAAPA/AAAAAAAA8D8AAAAAAADwPwAAAAAAAPA/AAAAAAAA8D8AAAAAAADwPwAAAAAAAPA/BgAAICOXBkAAAAAAAADwPwAAAAAAAPA/AAAAAAAA8D8AAAAAAADwPwAAAAAAAPA/AAAAAAAA8D8AAAAAAADwPwAAAAAAAPA/AAAAAAAA8D8AAAAAAADwPwAAAAAAAPA/AAAAAAAA8D8AAAAAAADwPwAAAAAAAPA/BgAAICOXBkAAAAAAAADwPwAAAAAAAPA/+P//XzSkB0AAAAAAAADwPwAAAAAAAPA/AAAAAAAA8D8AAAAAAADwPwAAAAAAAPA/AAAAAAAA8D8GAAAgI5cGQAAAAAAAAPA/AAAAAAAA8D8AAAAAAADwPwAAAAAAAPA/BgAAICOXBkAAAAAAAADwPwAAAAAAAPA/CAAAALQhB0AAAAAAAADwPwAAAAAAAPA/BgAAICOXBkAAAAAAAADwPwAAAAAAAPA/AAAAAAAA8D8AAAAAAADwP/j//180pAdAAAAAAAAA8D8AAAAAAADwPwAAAAAAAPA/BgAAICOXBkAAAAAAAADwPwAAAAAAAPA/AAAAAAAA8D8AAAAAAADwPwAAAAAAAPA/AAAAAAAA8D8GAAAgI5cGQAAAAAAAAPA/AAAAAAAA8D8AAAAAAADwPwYAACAjlwZAAAAAAAAA8D8AAAAAAADwPwAAAAAAAPA/AAAAAAAA8D8AAAAAAADwPwAAAAAAAPA/AAAAAAAA8D8AAAAAAADwPwAAAAAAAPA/AAAAAAAA8D8AAAAAAADwPwAAAAAAAPA/AAAAAAAA8D8AAAAAAADwPwAAAAAAAPA/AAAAAAAA8D8AAAAAAADwPwAAAAAAAPA/AAAAAAAA8D8AAAAAAADwPwAAAAAAAPA/AAAAAAAA8D8AAAAAAADwPwAAAAAAAPA/BgAAICOXBkD4///fgPgIQAYAACAjlwZAAAAAAAAA8D8GAAAgI5cGQAAAAAAAAPA/AAAAAAAA8D8AAAAAAADwPwAAAAAAAPA/AAAAAAAA8D8AAAAAAADwPwAAAAAAAPA/AAAAAAAA8D8AAAAAAADwPwAAAAAAAPA/AAAAAAAA8D8AAAAAAADwPwAAAAAAAPA/BgAAICOXBkAAAAAAAADwPwAAAAAAAPA/AAAAAAAA8D8GAAAgI5cGQAAAAAAAAPA/AAAAAAAA8D8AAAAAAADwPwAAAAAAAPA/AAAAAAAA8D8AAAAAAADwPwYAACAjlwZAAAAAAAAA8D8GAAAgI5cGQAYAACAjlwZAAAAAAAAA8D8AAAAAAADwPwAAAAAAAPA/AAAAAAAA8D8AAAAAAADwPwAAAAAAAPA/AAAAAAAA8D8AAAAAAADwPwAAAAAAAPA/AAAAAAAA8D8AAAAAAADwPwAAAAAAAPA/AAAAAAAA8D8AAAAAAADwPwAAAAAAAPA/BgAAICOXBkAAAAAAAADwPwAAAAAAAPA/AAAAAAAA8D8AAAAAAADwPwAAAAAAAPA/AAAAAAAA8D8AAAAAAADwPwAAAAAAAPA/AAAAAAAA8D8AAAAAAADwPwAAAAAAAPA/AAAAAAAA8D8AAAAAAADwPwYAACAjlwZAAAAAAAAA8D8AAAAAAADwPwAAAAAAAPA/AAAAAAAA8D8AAAAAAADwPwAAAAAAAPA/AAAAAAAA8D8AAAAAAADwPwAAAAAAAPA/AAAAAAAA8D8AAAAAAADwPwAAAAAAAPA/AAAAAAAA8D8AAAAAAADwPwAAAAAAAPA/AAAAAAAA8D8AAAAAAADwPwAAAAAAAPA/AAAAAAAA8D8AAAAAAADwPwAAAAAAAPA/AAAAAAAA8D8GAAAgI5cGQAAAAAAAAPA/AAAAAAAA8D8GAAAgI5cGQAAAAAAAAPA/AAAAAAAA8D8AAAAAAADwPwAAAAAAAPA/AAAAAAAA8D8AAAAAAADwPwAAAAAAAPA/AAAAAAAA8D8AAAAAAADwPwAAAAAAAPA/AAAAAAAA8D8AAAAAAADwPwAAAAAAAPA/AAAAAAAA8D8GAAAgI5cGQAAAAAAAAPA/AAAAAAAA8D8AAAAAAADwPwAAAAAAAPA/AAAAAAAA8D8AAAAAAADwPwAAAAAAAPA/AAAAAAAA8D8GAAAgI5cGQAAAAAAAAPA/AAAAAAAA8D8AAAAAAADwPwYAACAjlwZAAAAAAAAA8D8AAAAAAADwPwAAAAAAAPA/AAAAAAAA8D8AAAAAAADwPwAAAAAAAPA/AAAAAAAA8D8AAAAAAADwPwAAAAAAAPA/AAAAAAAA8D8AAAAAAADwPwYAACAjlwZAAAAAAAAA8D8AAAAAAADwPwAAAAAAAPA/AAAAAAAA8D8AAAAAAADwPwAAAAAAAPA/AAAAAAAA8D8AAAAAAADwP+3//9+Xr/E/AAAAAAAA8D8AAAAAAADwPwAAAAAAAPA/AAAAAAAA8D8AAAAAAADwPwAAAAAAAPA/AAAAAAAA8D8AAAAAAADwPwAAAAAAAPA/AAAAAAAA8D8GAAAgI5cGQAAAAAAAAPA/AAAAAAAA8D8GAAAgI5cGQAYAACAjlwZAAAAAAAAA8D8GAAAgI5cGQAAAAAAAAPA/AAAAAAAA8D8AAAAAAADwPwAAAAAAAPA/AAAAAAAA8D8AAAAAAADwPwAAAAAAAPA/AAAAAAAA8D8AAAAAAADwPwAAAAAAAPA/AAAAAAAA8D8AAAAAAADwPwAAAAAAAPA/AAAAAAAA8D8AAAAAAADwPwAAAAAAAPA/AAAAAAAA8D8AAAAAAADwPwYAACAjlwZAAAAAAAAA8D/4///fgPgIQAAAAAAAAPA/AAAAAAAA8D8AAAAAAADwPwYAACAjlwZABgAAICOXBkAAAAAAAADwP/j//9+A+AhAAAAAAAAA8D8AAAAAAADwPwAAAAAAAPA/AAAAAAAA8D8AAAAAAADwPwYAACAjlwZABgAAICOXBkAAAAAAAADwP/j//9+A+AhAAAAAAAAA8D8AAAAAAADwPwAAAAAAAPA/AAAAAAAA8D8GAAAgI5cGQAAAAAAAAPA/BgAAICOXBkAAAAAAAADwPwAAAAAAAPA/BgAAICOXBkAAAAAAAADwPwAAAAAAAPA/+P//XzSkB0AAAAAAAADwPwAAAAAAAPA/BgAAICOXBkAAAAAAAADwPwAAAAAAAPA/AAAAAAAA8D8AAAAAAADwPwAAAAAAAPA/AAAAAAAA8D8AAAAAAADwPwAAAAAAAPA/AAAAAAAA8D8AAAAAAADwPwAAAAAAAPA/BgAAICOXBkAAAAAAAADwPwAAAAAAAPA/AAAAAAAA8D8AAAAAAADwPwAAAAAAAPA/BgAAICOXBkAAAAAAAADwPwAAAAAAAPA/BgAAICOXBkAAAAAAAADwPwAAAAAAAPA/AAAAAAAA8D8AAAAAAADwPwAAAAAAAPA/AAAAAAAA8D8AAAAAAADwPwAAAAAAAPA/AAAAAAAA8D8AAAAAAADwPwAAAAAAAPA/AAAAAAAA8D8AAAAAAADwPwAAAAAAAPA/AAAAAAAA8D8AAAAAAADwPwAAAAAAAPA/AAAAAAAA8D8AAAAAAADwPwYAACAjlwZAAAAAAAAA8D8AAAAAAADwPwAAAAAAAPA/AAAAAAAA8D8AAAAAAADwPwAAAAAAAPA/AAAAAAAA8D8AAAAAAADwPwAAAAAAAPA/AAAAAAAA8D8AAAAAAADwPwAAAAAAAPA/BgAAICOXBkAAAAAAAADwPwYAACAjlwZAAAAAAAAA8D8AAAAAAADwPwYAACAjlwZAAAAAAAAA8D8AAAAAAADwPwYAACAjlwZAAAAAAAAA8D8AAAAAAADwPwYAACAjlwZAAAAAAAAA8D8AAAAAAADwPwAAAAAAAPA/AAAAAAAA8D8AAAAAAADwPwAAAAAAAPA/AAAAAAAA8D8AAAAAAADwPwAAAAAAAPA/AAAAAAAA8D8AAAAAAADwPwAAAAAAAPA/AAAAAAAA8D8AAAAAAADwPwAAAAAAAPA/AAAAAAAA8D8AAAAAAADwPwAAAAAAAPA/AAAAAAAA8D8AAAAAAADwPwAAAAAAAPA/AAAAAAAA8D8AAAAAAADwP+3//9+Xr/E/AAAAAAAA8D8AAAAAAADwPwYAACAjlwZAAAAAAAAA8D8AAAAAAADwPwAAAAAAAPA/AAAAAAAA8D8GAAAgI5cGQAAAAAAAAPA/AAAAAAAA8D8AAAAAAADwPwYAACAjlwZAAAAAAAAA8D8AAAAAAADwPwAAAAAAAPA/AAAAAAAA8D8AAAAAAADwPwAAAAAAAPA/AAAAAAAA8D/4///fgPgIQAAAAAAAAPA/BgAAICOXBkAAAAAAAADwPwAAAAAAAPA/AAAAAAAA8D8AAAAAAADwPwYAACAjlwZAAAAAAAAA8D8GAAAgI5cGQAAAAAAAAPA/AAAAAAAA8D8AAAAAAADwPwYAACAjlwZAAAAAAAAA8D8AAAAAAADwPwAAAAAAAPA/AAAAAAAA8D8AAAAAAADwPwAAAAAAAPA/AAAAAAAA8D8AAAAAAADwPwAAAAAAAPA/AAAAAAAA8D8AAAAAAADwPwAAAAAAAPA/AAAAAAAA8D8GAAAgI5cGQAAAAAAAAPA/AAAAAAAA8D8AAAAAAADwPwYAACAjlwZAAAAAAAAA8D8GAAAgI5cGQAAAAAAAAPA/AAAAAAAA8D8AAAAAAADwPwAAAAAAAPA/AAAAAAAA8D8AAAAAAADwPwYAACAjlwZAAAAAAAAA8D8AAAAAAADwPwAAAAAAAPA/BgAAICOXBkAAAAAAAADwPwAAAAAAAPA/AAAAAAAA8D8AAAAAAADwPwAAAAAAAPA/AAAAAAAA8D8AAAAAAADwPwAAAAAAAPA/AAAAAAAA8D8AAAAAAADwPwYAACAjlwZAAAAAAAAA8D8GAAAgI5cGQAAAAAAAAPA/AAAAAAAA8D8AAAAAAADwPwAAAAAAAPA/AAAAAAAA8D8GAAAgI5cGQAAAAAAAAPA/AAAAAAAA8D8AAAAAAADwPwAAAAAAAPA/AAAAAAAA8D8AAAAAAADwPwAAAAAAAPA/AAAAAAAA8D8AAAAAAADwPwAAAAAAAPA/BgAAICOXBkAAAAAAAADwPwAAAAAAAPA/AAAAAAAA8D8AAAAAAADwPwAAAAAAAPA/AAAAAAAA8D8AAAAAAADwPwAAAAAAAPA/AAAAAAAA8D8AAAAAAADwPwAAAAAAAPA/AAAAAAAA8D8AAAAAAADwPwAAAAAAAPA/AAAAAAAA8D8AAAAAAADwPwAAAAAAAPA/AAAAAAAA8D8AAAAAAADwPwAAAAAAAPA/AAAAAAAA8D8AAAAAAADwPwAAAAAAAPA/AAAAAAAA8D8AAAAAAADwPwAAAAAAAPA/AAAAAAAA8D8AAAAAAADwPwAAAAAAAPA/AAAAAAAA8D8AAAAAAADwPwAAAAAAAPA/AAAAAAAA8D8AAAAAAADwPwAAAAAAAPA/AAAAAAAA8D8AAAAAAADwPwAAAAAAAPA/AAAAAAAA8D8GAAAgI5cGQAYAACAjlwZABgAAICOXBkAAAAAAAADwPwAAAAAAAPA/AAAAAAAA8D8AAAAAAADwPwAAAAAAAPA/AwAAIE6+C0AAAAAAAADwPwYAACAjlwZAAAAAAAAA8D8AAAAAAADwPwAAAAAAAPA/AAAAAAAA8D8AAAAAAADwPwAAAAAAAPA/AAAAAAAA8D8AAAAAAADwPwAAAAAAAPA/AAAAAAAA8D8AAAAAAADwPwAAAAAAAPA/AAAAAAAA8D8AAAAAAADwPwAAAAAAAPA/AAAAAAAA8D8AAAAAAADwPwAAAAAAAPA/AAAAAAAA8D8AAAAAAADwPwAAAAAAAPA/AAAAAAAA8D8AAAAAAADwPwAAAAAAAPA/AAAAAAAA8D8GAAAgI5cGQAAAAAAAAPA/AAAAAAAA8D8AAAAAAADwPwAAAAAAAPA/AAAAAAAA8D8GAAAgI5cGQAAAAAAAAPA/AAAAAAAA8D8AAAAAAADwPwAAAAAAAPA/AAAAAAAA8D8AAAAAAADwPwAAAAAAAPA/AAAAAAAA8D8AAAAAAADwPwAAAAAAAPA/AAAAAAAA8D8AAAAAAADwPwAAAAAAAPA/AAAAAAAA8D8AAAAAAADwPwAAAAAAAPA/AAAAAAAA8D8AAAAAAADwPwYAACAjlwZAAAAAAAAA8D8AAAAAAADwPwAAAAAAAPA/AAAAAAAA8D8AAAAAAADwPwAAAAAAAPA/AAAAAAAA8D8AAAAAAADwPwAAAAAAAPA/AAAAAAAA8D8AAAAAAADwPwAAAAAAAPA/AAAAAAAA8D8AAAAAAADwPwAAAAAAAPA/AAAAAAAA8D8AAAAAAADwPwYAACAjlwZAAAAAAAAA8D8GAAAgI5cGQAAAAAAAAPA/AAAAAAAA8D8AAAAAAADwPwAAAAAAAPA/AAAAAAAA8D8AAAAAAADwPwAAAAAAAPA/AAAAAAAA8D8AAAAAAADwPwAAAAAAAPA/AAAAAAAA8D8AAAAAAADwPwAAAAAAAPA/AAAAAAAA8D8AAAAAAADwPwAAAAAAAPA/AAAAAAAA8D8AAAAAAADwPwAAAAAAAPA/BgAAICOXBkAAAAAAAADwPwAAAAAAAPA/AAAAAAAA8D8AAAAAAADwPwAAAAAAAPA/AAAAAAAA8D8AAAAAAADwPwAAAAAAAPA/AAAAAAAA8D8AAAAAAADwPwAAAAAAAPA/AAAAAAAA8D8GAAAgI5cGQAAAAAAAAPA/BgAAICOXBkAAAAAAAADwPwAAAAAAAPA/AAAAAAAA8D8AAAAAAADwPwAAAAAAAPA/BgAAICOXBkAAAAAAAADwPwAAAAAAAPA/AAAAAAAA8D8AAAAAAADwPwAAAAAAAPA/AAAAAAAA8D8AAAAAAADwPwAAAAAAAPA/AAAAAAAA8D8AAAAAAADwPwAAAAAAAPA/AAAAAAAA8D8GAAAgI5cGQAAAAAAAAPA/AAAAAAAA8D8AAAAAAADwPwAAAAAAAPA/AAAAAAAA8D8GAAAgI5cGQAAAAAAAAPA/AAAAAAAA8D8AAAAAAADwPwMAACBOvgtAAAAAAAAA8D8AAAAAAADwPwAAAAAAAPA/AAAAAAAA8D8AAAAAAADwPwAAAAAAAPA/AAAAAAAA8D8GAAAgI5cGQAAAAAAAAPA/AAAAAAAA8D8AAAAAAADwPwAAAAAAAPA/BgAAICOXBkAAAAAAAADwPwAAAAAAAPA/AAAAAAAA8D8AAAAAAADwPwYAACAjlwZAAAAAAAAA8D8AAAAAAADwPwAAAAAAAPA/AAAAAAAA8D8AAAAAAADwPwAAAAAAAPA/AAAAAAAA8D8AAAAAAADwPwAAAAAAAPA/AAAAAAAA8D8AAAAAAADwPwYAACAjlwZAAAAAAAAA8D8AAAAAAADwPwAAAAAAAPA/AAAAAAAA8D8AAAAAAADwPwYAACAjlwZABgAAICOXBkAGAAAgI5cGQAAAAAAAAPA/BgAAICOXBkAAAAAAAADwPwAAAAAAAPA/AAAAAAAA8D8AAAAAAADwPwAAAAAAAPA/AAAAAAAA8D8AAAAAAADwPwAAAAAAAPA/AAAAAAAA8D8AAAAAAADwPwYAACAjlwZAAAAAAAAA8D/6//8f7CEKQAAAAAAAAPA/AAAAAAAA8D8AAAAAAADwPwAAAAAAAPA/AAAAAAAA8D8AAAAAAADwPwAAAAAAAPA/AAAAAAAA8D8AAAAAAADwPwAAAAAAAPA/AAAAAAAA8D8GAAAgI5cGQAAAAAAAAPA/AAAAAAAA8D8AAAAAAADwPwAAAAAAAPA/AAAAAAAA8D8AAAAAAADwPwAAAAAAAPA/AAAAAAAA8D8AAAAAAADwPwYAACAjlwZAAAAAAAAA8D8AAAAAAADwPwAAAAAAAPA/AAAAAAAA8D8AAAAAAADwPwAAAAAAAPA/AAAAAAAA8D8AAAAAAADwP/j//9+A+AhAAAAAAAAA8D8AAAAAAADwPwAAAAAAAPA/AAAAAAAA8D8AAAAAAADwPwAAAAAAAPA/AAAAAAAA8D8AAAAAAADwPwAAAAAAAPA/AAAAAAAA8D8AAAAAAADwPwAAAAAAAPA/AAAAAAAA8D8AAAAAAADwPwAAAAAAAPA/AAAAAAAA8D8AAAAAAADwPwAAAAAAAPA/AAAAAAAA8D8AAAAAAADwPwYAACAjlwZAAAAAAAAA8D8AAAAAAADwPwAAAAAAAPA/AAAAAAAA8D8AAAAAAADwPwAAAAAAAPA/AAAAAAAA8D8AAAAAAADwPwYAACAjlwZAAAAAAAAA8D8AAAAAAADwPwAAAAAAAPA/AAAAAAAA8D8GAAAgI5cGQAAAAAAAAPA/BgAAICOXBkAAAAAAAADwPwAAAAAAAPA/AAAAAAAA8D8AAAAAAADwPwAAAAAAAPA/AAAAAAAA8D8AAAAAAADwPwAAAAAAAPA/AAAAAAAA8D8AAAAAAADwPwYAACAjlwZAAAAAAAAA8D8AAAAAAADwPwAAAAAAAPA/AAAAAAAA8D8GAAAgI5cGQAAAAAAAAPA/AAAAAAAA8D8AAAAAAADwPwAAAAAAAPA/AAAAAAAA8D8AAAAAAADwPwYAACAjlwZAAAAAAAAA8D8AAAAAAADwPwAAAAAAAPA/AAAAAAAA8D8AAAAAAADwPwYAACAjlwZAAAAAAAAA8D8AAAAAAADwPwAAAAAAAPA/AAAAAAAA8D8AAAAAAADwPwAAAAAAAPA/AAAAAAAA8D8AAAAAAADwPwAAAAAAAPA/AAAAAAAA8D8GAAAgI5cGQAAAAAAAAPA/BgAAICOXBkAGAAAgI5cGQAAAAAAAAPA/AAAAAAAA8D8GAAAgI5cGQAAAAAAAAPA/AAAAAAAA8D8AAAAAAADwPwAAAAAAAPA/AAAAAAAA8D8AAAAAAADwPwAAAAAAAPA/AAAAAAAA8D8AAAAAAADwPwAAAAAAAPA/AAAAAAAA8D8AAAAAAADwPwAAAAAAAPA/AAAAAAAA8D8AAAAAAADwPwAAAAAAAPA/AAAAAAAA8D8AAAAAAADwPwAAAAAAAPA/AAAAAAAA8D8AAAAAAADwPwAAAAAAAPA/AAAAAAAA8D8AAAAAAADwPwAAAAAAAPA/AAAAAAAA8D8AAAAAAADwPwYAACAjlwZAAAAAAAAA8D8AAAAAAADwPwAAAAAAAPA/AAAAAAAA8D8GAAAgI5cGQAAAAAAAAPA/AAAAAAAA8D8AAAAAAADwPwAAAAAAAPA/AAAAAAAA8D8AAAAAAADwPwAAAAAAAPA/BgAAICOXBkD4///fgPgIQAAAAAAAAPA/AAAAAAAA8D8AAAAAAADwPwAAAAAAAPA/AAAAAAAA8D8AAAAAAADwPwAAAAAAAPA/AAAAAAAA8D8AAAAAAADwPwAAAAAAAPA/AAAAAAAA8D8AAAAAAADwPwAAAAAAAPA/AAAAAAAA8D8AAAAAAADwPwAAAAAAAPA/AAAAAAAA8D8AAAAAAADwPwAAAAAAAPA/AAAAAAAA8D8AAAAAAADwPwUAAEDOWwlAAAAAAAAA8D8AAAAAAADwPwAAAAAAAPA/AAAAAAAA8D8AAAAAAADwPwAAAAAAAPA/AAAAAAAA8D8AAAAAAADwPwAAAAAAAPA/AAAAAAAA8D8AAAAAAADwPwAAAAAAAPA/BgAAICOXBkAAAAAAAADwPwAAAAAAAPA/AAAAAAAA8D8AAAAAAADwPwAAAAAAAPA/AAAAAAAA8D8AAAAAAADwPwAAAAAAAPA/AAAAAAAA8D8GAAAgI5cGQAAAAAAAAPA/BgAAICOXBkAAAAAAAADwPwYAACAjlwZAAAAAAAAA8D8GAAAgI5cGQAAAAAAAAPA/AAAAAAAA8D8GAAAgI5cGQAAAAAAAAPA/AAAAAAAA8D8AAAAAAADwPwAAAAAAAPA/AAAAAAAA8D8AAAAAAADwPwMAACBOvgtAAAAAAAAA8D8AAAAAAADwPwAAAAAAAPA/AAAAAAAA8D8AAAAAAADwPwAAAAAAAPA/AAAAAAAA8D8AAAAAAADwPwAAAAAAAPA/AAAAAAAA8D8AAAAAAADwPwAAAAAAAPA/AAAAAAAA8D8AAAAAAADwPwAAAAAAAPA/AAAAAAAA8D8AAAAAAADwPwAAAAAAAPA/AAAAAAAA8D8AAAAAAADwPwAAAAAAAPA/AAAAAAAA8D8AAAAAAADwPwAAAAAAAPA/AAAAAAAA8D8AAAAAAADwPwYAACAjlwZAAAAAAAAA8D8AAAAAAADwPwAAAAAAAPA/AAAAAAAA8D8AAAAAAADwPwAAAAAAAPA/AAAAAAAA8D8AAAAAAADwPwAAAAAAAPA/AAAAAAAA8D8GAAAgI5cGQAAAAAAAAPA/AAAAAAAA8D8AAAAAAADwPwAAAAAAAPA/BgAAICOXBkAAAAAAAADwPwAAAAAAAPA/BgAAICOXBkAAAAAAAADwPwAAAAAAAPA/AAAAAAAA8D8AAAAAAADwPwAAAAAAAPA/AAAAAAAA8D8AAAAAAADwPwAAAAAAAPA/AAAAAAAA8D8AAAAAAADwPwAAAAAAAPA/AAAAAAAA8D8AAAAAAADwPwAAAAAAAPA/AAAAAAAA8D8AAAAAAADwPwYAACAjlwZAAAAAAAAA8D8AAAAAAADwPwAAAAAAAPA/AAAAAAAA8D8AAAAAAADwPwAAAAAAAPA/AAAAAAAA8D8AAAAAAADwPwAAAAAAAPA/AAAAAAAA8D8AAAAAAADwPwAAAAAAAPA/AAAAAAAA8D8AAAAAAADwPwAAAAAAAPA/AAAAAAAA8D8AAAAAAADwPwAAAAAAAPA/AAAAAAAA8D8AAAAAAADwPwAAAAAAAPA/AAAAAAAA8D8AAAAAAADwPwAAAAAAAPA/AAAAAAAA8D8AAAAAAADwPwAAAAAAAPA/AAAAAAAA8D8AAAAAAADwPwAAAAAAAPA/BgAAICOXBkAAAAAAAADwPwAAAAAAAPA/AAAAAAAA8D8AAAAAAADwPwAAAAAAAPA/BgAAICOXBkAAAAAAAADwPwAAAAAAAPA/AAAAAAAA8D8AAAAAAADwPwYAACAjlwZAAAAAAAAA8D8AAAAAAADwPwYAACAjlwZAAAAAAAAA8D8AAAAAAADwPwAAAAAAAPA/AAAAAAAA8D8AAAAAAADwPwAAAAAAAPA/AAAAAAAA8D8AAAAAAADwPwAAAAAAAPA/AAAAAAAA8D8AAAAAAADwPwYAACAjlwZAAAAAAAAA8D8AAAAAAADwPwAAAAAAAPA/AAAAAAAA8D8AAAAAAADwPwAAAAAAAPA/AAAAAAAA8D8AAAAAAADwPwAAAAAAAPA/AAAAAAAA8D8GAAAgI5cGQAYAACAjlwZAAAAAAAAA8D8AAAAAAADwPwAAAAAAAPA/AAAAAAAA8D8AAAAAAADwPwAAAAAAAPA/BgAAICOXBkAGAAAgI5cGQAYAACAjlwZA+P//XzSkB0AGAAAgI5cGQAAAAAAAAPA/AAAAAAAA8D8GAAAgI5cGQAAAAAAAAPA/AAAAAAAA8D8AAAAAAADwPwAAAAAAAPA/AAAAAAAA8D8AAAAAAADwPwAAAAAAAPA/AAAAAAAA8D8AAAAAAADwPwAAAAAAAPA/AAAAAAAA8D8AAAAAAADwPwAAAAAAAPA/BgAAICOXBkAAAAAAAADwPwAAAAAAAPA/AAAAAAAA8D8AAAAAAADwPwAAAAAAAPA/AAAAAAAA8D8AAAAAAADwPwAAAAAAAPA/BgAAgKuRCUAAAAAAAADwPwAAAAAAAPA/AAAAAAAA8D8AAAAAAADwPwAAAAAAAPA/BgAAICOXBkAAAAAAAADwPwAAAAAAAPA/AAAAAAAA8D8AAAAAAADwPwYAACAjlwZAAAAAAAAA8D8AAAAAAADwPwAAAAAAAPA/AAAAAAAA8D8AAAAAAADwPwAAAAAAAPA/AAAAAAAA8D8AAAAAAADwPwAAAAAAAPA/AAAAAAAA8D8AAAAAAADwPwAAAAAAAPA/AAAAAAAA8D8AAAAAAADwPwAAAAAAAPA/AAAAAAAA8D8AAAAAAADwPwAAAAAAAPA/AAAAAAAA8D8AAAAAAADwPwAAAAAAAPA/BgAAICOXBkAAAAAAAADwPwAAAAAAAPA/BgAAICOXBkAAAAAAAADwPwAAAAAAAPA/AAAAAAAA8D8AAAAAAADwPwAAAAAAAPA/AAAAAAAA8D8AAAAAAADwPwAAAAAAAPA/BgAAICOXBkAAAAAAAADwPwAAAAAAAPA/AAAAAAAA8D8AAAAAAADwPwAAAAAAAPA/AAAAAAAA8D8AAAAAAADwPwYAACAjlwZAAAAAAAAA8D8AAAAAAADwPwAAAAAAAPA/AAAAAAAA8D8AAAAAAADwPwAAAAAAAPA/AAAAAAAA8D/4///fgPgIQAYAACAjlwZAAAAAAAAA8D8AAAAAAADwPwAAAAAAAPA/AAAAAAAA8D8AAAAAAADwPwAAAAAAAPA/BgAAICOXBkAAAAAAAADwPwAAAAAAAPA/AAAAAAAA8D8AAAAAAADwPwAAAAAAAPA/AAAAAAAA8D8GAAAgI5cGQAAAAAAAAPA/AAAAAAAA8D8AAAAAAADwPwAAAAAAAPA/AAAAAAAA8D8AAAAAAADwPwYAACAjlwZAAAAAAAAA8D8AAAAAAADwPwAAAAAAAPA/AAAAAAAA8D8AAAAAAADwPwAAAAAAAPA/AAAAAAAA8D8AAAAAAADwPwgAAAC0IQdAAAAAAAAA8D8AAAAAAADwPwAAAAAAAPA/AAAAAAAA8D8AAAAAAADwPwAAAAAAAPA/AAAAAAAA8D8AAAAAAADwPwAAAAAAAPA/AAAAAAAA8D8AAAAAAADwPwAAAAAAAPA/AAAAAAAA8D8AAAAAAADwPwAAAAAAAPA/AAAAAAAA8D8AAAAAAADwPwAAAAAAAPA/BgAAICOXBkAAAAAAAADwPwAAAAAAAPA/AAAAAAAA8D8AAAAAAADwPwAAAAAAAPA/BgAAICOXBkAAAAAAAADwPwAAAAAAAPA/BgAAICOXBkAAAAAAAADwPwAAAAAAAPA/AAAAAAAA8D8AAAAAAADwPwAAAAAAAPA/AAAAAAAA8D8AAAAAAADwPwYAACAjlwZAAAAAAAAA8D8AAAAAAADwPwAAAAAAAPA/AAAAAAAA8D8AAAAAAADwPwAAAAAAAPA/AAAAAAAA8D8AAAAAAADwPwAAAAAAAPA/AAAAAAAA8D8AAAAAAADwPwAAAAAAAPA/AAAAAAAA8D8AAAAAAADwPwAAAAAAAPA/AAAAAAAA8D8AAAAAAADwPwAAAAAAAPA/AAAAAAAA8D8AAAAAAADwPwAAAAAAAPA/AAAAAAAA8D8AAAAAAADwPwYAACAjlwZAAAAAAAAA8D8AAAAAAADwPwYAACAjlwZABgAAICOXBkAAAAAAAADwPwAAAAAAAPA/AAAAAAAA8D8AAAAAAADwPwAAAAAAAPA/BgAAICOXBkAGAAAgI5cGQAAAAAAAAPA/AAAAAAAA8D8AAAAAAADwPwAAAAAAAPA/BgAAICOXBkAAAAAAAADwPwYAACAjlwZAAAAAAAAA8D8GAAAgI5cGQAAAAAAAAPA/AAAAAAAA8D8AAAAAAADwPwAAAAAAAPA/AAAAAAAA8D8AAAAAAADwPwAAAAAAAPA/AAAAAAAA8D8AAAAAAADwPwAAAAAAAPA/AAAAAAAA8D8GAAAgI5cGQAAAAAAAAPA/AAAAAAAA8D8AAAAAAADwPwYAACAjlwZAAAAAAAAA8D8GAAAgI5cGQAAAAAAAAPA/AAAAAAAA8D8AAAAAAADwPwAAAAAAAPA/AAAAAAAA8D8AAAAAAADwPwAAAAAAAPA/AAAAAAAA8D8AAAAAAADwPwAAAAAAAPA/AAAAAAAA8D8AAAAAAADwPwAAAAAAAPA/AAAAAAAA8D8AAAAAAADwPwAAAAAAAPA/AAAAAAAA8D8AAAAAAADwPwAAAAAAAPA/BgAAICOXBkAAAAAAAADwPwAAAAAAAPA/AAAAAAAA8D8AAAAAAADwPwAAAAAAAPA/AAAAAAAA8D8GAAAgI5cGQAAAAAAAAPA/AAAAAAAA8D8AAAAAAADwPwAAAAAAAPA/AAAAAAAA8D8AAAAAAADwPwAAAAAAAPA/AAAAAAAA8D8AAAAAAADwPwAAAAAAAPA/AAAAAAAA8D8AAAAAAADwPwAAAAAAAPA/AAAAAAAA8D8AAAAAAADwPwAAAAAAAPA/AAAAAAAA8D8AAAAAAADwPwAAAAAAAPA/AAAAAAAA8D8AAAAAAADwPwAAAAAAAPA/AAAAAAAA8D8AAAAAAADwPwYAACAjlwZAAAAAAAAA8D8AAAAAAADwPwAAAAAAAPA/AAAAAAAA8D8AAAAAAADwPwYAACAjlwZAAAAAAAAA8D8AAAAAAADwPwAAAAAAAPA/AAAAAAAA8D8AAAAAAADwPwAAAAAAAPA/AAAAAAAA8D8AAAAAAADwPwAAAAAAAPA/AAAAAAAA8D8AAAAAAADwPwAAAAAAAPA/AAAAAAAA8D8AAAAAAADwPwAAAAAAAPA/BgAAICOXBkAAAAAAAADwPwAAAAAAAPA/AAAAAAAA8D8AAAAAAADwPwAAAAAAAPA/AAAAAAAA8D8AAAAAAADwPwAAAAAAAPA/AAAAAAAA8D8AAAAAAADwPwAAAAAAAPA/AAAAAAAA8D8GAAAgI5cGQAAAAAAAAPA/AAAAAAAA8D8AAAAAAADwPwAAAAAAAPA/AAAAAAAA8D8AAAAAAADwPwAAAAAAAPA/BgAAICOXBkAAAAAAAADwPwAAAAAAAPA/AAAAAAAA8D8AAAAAAADwPwAAAAAAAPA/AAAAAAAA8D8GAAAgI5cGQAAAAAAAAPA/AAAAAAAA8D8AAAAAAADwPwAAAAAAAPA/AAAAAAAA8D8AAAAAAADwPwAAAAAAAPA/AAAAAAAA8D8AAAAAAADwPwAAAAAAAPA/AAAAAAAA8D8AAAAAAADwPwAAAAAAAPA/AAAAAAAA8D8AAAAAAADwPwAAAAAAAPA/AAAAAAAA8D8AAAAAAADwPwAAAAAAAPA/AAAAAAAA8D8AAAAAAADwPwAAAAAAAPA/AAAAAAAA8D8AAAAAAADwPwYAACAjlwZAAAAAAAAA8D8AAAAAAADwPwAAAAAAAPA/AAAAAAAA8D8AAAAAAADwPwAAAAAAAPA/AAAAAAAA8D8AAAAAAADwPwYAACAjlwZAAAAAAAAA8D8GAAAgI5cGQAAAAAAAAPA/AAAAAAAA8D8AAAAAAADwPwAAAAAAAPA/AAAAAAAA8D8AAAAAAADwPwAAAAAAAPA/AAAAAAAA8D8AAAAAAADwPwAAAAAAAPA/AAAAAAAA8D8AAAAAAADwPwAAAAAAAPA/AAAAAAAA8D8GAAAgI5cGQAAAAAAAAPA/AAAAAAAA8D8GAAAgI5cGQAAAAAAAAPA/BgAAICOXBkAAAAAAAADwPwAAAAAAAPA/AAAAAAAA8D8AAAAAAADwPwAAAAAAAPA/AAAAAAAA8D8AAAAAAADwPwAAAAAAAPA/AAAAAAAA8D8AAAAAAADwPwAAAAAAAPA/BgAAICOXBkAAAAAAAADwPwAAAAAAAPA/BgAAICOXBkAAAAAAAADwPwAAAAAAAPA/AAAAAAAA8D8AAAAAAADwPwAAAAAAAPA/AAAAAAAA8D8AAAAAAADwPwAAAAAAAPA/AAAAAAAA8D8GAAAgI5cGQAYAACAjlwZAAAAAAAAA8D8AAAAAAADwPwAAAAAAAPA/BgAAICOXBkAAAAAAAADwPwAAAAAAAPA/AAAAAAAA8D8AAAAAAADwPwAAAAAAAPA/AAAAAAAA8D8AAAAAAADwPwAAAAAAAPA/AAAAAAAA8D8AAAAAAADwPwYAACAjlwZACAAAALQhB0AAAAAAAADwPwAAAAAAAPA/AAAAAAAA8D8AAAAAAADwPwYAACAjlwZAAAAAAAAA8D8AAAAAAADwPwAAAAAAAPA/AAAAAAAA8D8AAAAAAADwPwAAAAAAAPA/AAAAAAAA8D8AAAAAAADwPwAAAAAAAPA/BgAAICOXBkAAAAAAAADwPwAAAAAAAPA/AAAAAAAA8D8AAAAAAADwPwAAAAAAAPA/AAAAAAAA8D8AAAAAAADwPwAAAAAAAPA/AAAAAAAA8D8AAAAAAADwPwAAAAAAAPA/AAAAAAAA8D8AAAAAAADwPwAAAAAAAPA/AAAAAAAA8D8AAAAAAADwPwAAAAAAAPA/AAAAAAAA8D8AAAAAAADwPwAAAAAAAPA/AAAAAAAA8D8AAAAAAADwPwAAAAAAAPA/AAAAAAAA8D8AAAAAAADwPwAAAAAAAPA/AAAAAAAA8D8AAAAAAADwPwAAAAAAAPA/BgAAICOXBkAAAAAAAADwPwAAAAAAAPA/AAAAAAAA8D8AAAAAAADwPwYAACAjlwZAAAAAAAAA8D8AAAAAAADwPwAAAAAAAPA/AAAAAAAA8D8AAAAAAADwPwAAAAAAAPA/AAAAAAAA8D8AAAAAAADwPwAAAAAAAPA/BgAAICOXBkAAAAAAAADwPwAAAAAAAPA/AAAAAAAA8D8AAAAAAADwPwYAACAjlwZABgAAICOXBkAAAAAAAADwPwYAACAjlwZAAAAAAAAA8D8AAAAAAADwPwAAAAAAAPA/AAAAAAAA8D8AAAAAAADwPwAAAAAAAPA/AAAAAAAA8D8AAAAAAADwPwAAAAAAAPA/AAAAAAAA8D8AAAAAAADwPwAAAAAAAPA/AAAAAAAA8D8AAAAAAADwPwAAAAAAAPA/AAAAAAAA8D8AAAAAAADwPwAAAAAAAPA/BgAAICOXBkAAAAAAAADwPwAAAAAAAPA/AAAAAAAA8D8AAAAAAADwPwAAAAAAAPA/AAAAAAAA8D8AAAAAAADwPwAAAAAAAPA/AAAAAAAA8D8AAAAAAADwPwAAAAAAAPA/AAAAAAAA8D8AAAAAAADwPwAAAAAAAPA/AAAAAAAA8D8AAAAAAADwPwYAACAjlwZAAAAAAAAA8D8AAAAAAADwPwAAAAAAAPA/AAAAAAAA8D8AAAAAAADwPwAAAAAAAPA/AAAAAAAA8D8AAAAAAADwPwAAAAAAAPA/+P//34D4CEAAAAAAAADwPwYAACAjlwZAAAAAAAAA8D8AAAAAAADwPwAAAAAAAPA/AAAAAAAA8D8AAAAAAADwPwAAAAAAAPA/BgAAICOXBkAAAAAAAADwPwYAACAjlwZAAAAAAAAA8D8AAAAAAADwPwYAACAjlwZAAAAAAAAA8D8AAAAAAADwPwAAAAAAAPA/AAAAAAAA8D8AAAAAAADwPwAAAAAAAPA/AAAAAAAA8D8AAAAAAADwPwAAAAAAAPA/AAAAAAAA8D8AAAAAAADwPwAAAAAAAPA/AAAAAAAA8D8AAAAAAADwPwAAAAAAAPA/BgAAICOXBkAAAAAAAADwPwAAAAAAAPA/AAAAAAAA8D8AAAAAAADwPwAAAAAAAPA/AAAAAAAA8D8AAAAAAADwPwAAAAAAAPA/AAAAAAAA8D8AAAAAAADwPwAAAAAAAPA/AAAAAAAA8D8GAAAgI5cGQAAAAAAAAPA/AAAAAAAA8D8AAAAAAADwPwAAAAAAAPA/AAAAAAAA8D8AAAAAAADwPwAAAAAAAPA/AAAAAAAA8D8AAAAAAADwPwAAAAAAAPA/AAAAAAAA8D8AAAAAAADwPwAAAAAAAPA/AAAAAAAA8D8AAAAAAADwPwAAAAAAAPA/AAAAAAAA8D8AAAAAAADwPwAAAAAAAPA/AAAAAAAA8D8AAAAAAADwPwAAAAAAAPA/AAAAAAAA8D8AAAAAAADwPwAAAAAAAPA/AAAAAAAA8D8AAAAAAADwPwAAAAAAAPA/AAAAAAAA8D8AAAAAAADwPwAAAAAAAPA/AAAAAAAA8D8GAAAgI5cGQAAAAAAAAPA/AAAAAAAA8D8AAAAAAADwPwAAAAAAAPA/BgAAICOXBkAAAAAAAADwPwAAAAAAAPA/AAAAAAAA8D8GAAAgI5cGQAAAAAAAAPA/AAAAAAAA8D8AAAAAAADwPwAAAAAAAPA/AAAAAAAA8D8AAAAAAADwPwYAACAjlwZAAAAAAAAA8D8AAAAAAADwPwAAAAAAAPA/BgAAICOXBkAAAAAAAADwPwAAAAAAAPA/AAAAAAAA8D8GAAAgI5cGQAAAAAAAAPA/AAAAAAAA8D8GAAAgI5cGQAAAAAAAAPA/AAAAAAAA8D8AAAAAAADwPwAAAAAAAPA/AAAAAAAA8D8AAAAAAADwPwAAAAAAAPA/AAAAAAAA8D8AAAAAAADwPwYAACAjlwZAAAAAAAAA8D8AAAAAAADwPwAAAAAAAPA/AAAAAAAA8D8GAAAgI5cGQAAAAAAAAPA/AAAAAAAA8D8AAAAAAADwPwAAAAAAAPA/AAAAAAAA8D8AAAAAAADwPwAAAAAAAPA/AAAAAAAA8D8AAAAAAADwPwAAAAAAAPA/AAAAAAAA8D8AAAAAAADwPwAAAAAAAPA/AAAAAAAA8D8GAAAgI5cGQAAAAAAAAPA/AAAAAAAA8D8GAAAgI5cGQAAAAAAAAPA/AAAAAAAA8D8AAAAAAADwPwAAAAAAAPA/BgAAICOXBkAGAAAgI5cGQAAAAAAAAPA/AAAAAAAA8D8AAAAAAADwPwAAAAAAAPA/AAAAAAAA8D8AAAAAAADwPwYAACAjlwZAAAAAAAAA8D8AAAAAAADwPwAAAAAAAPA/AAAAAAAA8D8AAAAAAADwPwAAAAAAAPA/AAAAAAAA8D8AAAAAAADwPwAAAAAAAPA/BgAAICOXBkAAAAAAAADwPwAAAAAAAPA/AAAAAAAA8D8AAAAAAADwPwAAAAAAAPA/AAAAAAAA8D8AAAAAAADwPwYAACAjlwZAAAAAAAAA8D8AAAAAAADwPwAAAAAAAPA/AAAAAAAA8D8AAAAAAADwPwAAAAAAAPA/AAAAAAAA8D8GAAAgI5cGQAAAAAAAAPA/AAAAAAAA8D8AAAAAAADwPwAAAAAAAPA/AAAAAAAA8D8GAAAgI5cGQAAAAAAAAPA/AAAAAAAA8D8AAAAAAADwPwAAAAAAAPA/AAAAAAAA8D8AAAAAAADwPwAAAAAAAPA/AAAAAAAA8D8GAAAgI5cGQAAAAAAAAPA/AAAAAAAA8D8AAAAAAADwPwAAAAAAAPA/AAAAAAAA8D8GAAAgI5cGQAAAAAAAAPA/AAAAAAAA8D8AAAAAAADwPwAAAAAAAPA/AAAAAAAA8D8AAAAAAADwPwAAAAAAAPA/AAAAAAAA8D8AAAAAAADwPwYAACAjlwZAAAAAAAAA8D8AAAAAAADwPwAAAAAAAPA/AAAAAAAA8D8AAAAAAADwPwAAAAAAAPA/AAAAAAAA8D8AAAAAAADwPwAAAAAAAPA/AAAAAAAA8D8GAAAgI5cGQAAAAAAAAPA/AAAAAAAA8D8AAAAAAADwPwYAACAjlwZAAAAAAAAA8D8AAAAAAADwPwAAAAAAAPA/AAAAAAAA8D8AAAAAAADwPwYAACAjlwZAAAAAAAAA8D8AAAAAAADwPwAAAAAAAPA/AAAAAAAA8D8AAAAAAADwPwAAAAAAAPA/AAAAAAAA8D8AAAAAAADwPwAAAAAAAPA/BgAAICOXBkAAAAAAAADwPwAAAAAAAPA/AAAAAAAA8D8AAAAAAADwPwAAAAAAAPA/AAAAAAAA8D8AAAAAAADwPwAAAAAAAPA/AAAAAAAA8D8AAAAAAADwPwAAAAAAAPA/AAAAAAAA8D8AAAAAAADwPwAAAAAAAPA/AAAAAAAA8D8AAAAAAADwPwAAAAAAAPA/AAAAAAAA8D8AAAAAAADwPwAAAAAAAPA/AAAAAAAA8D8AAAAAAADwPwAAAAAAAPA/AAAAAAAA8D8AAAAAAADwPwAAAAAAAPA/AAAAAAAA8D8AAAAAAADwPwAAAAAAAPA/AAAAAAAA8D8AAAAAAADwPwAAAAAAAPA/AAAAAAAA8D8AAAAAAADwPwAAAAAAAPA/AAAAAAAA8D8AAAAAAADwPwAAAAAAAPA/AAAAAAAA8D8AAAAAAADwPwAAAAAAAPA/CQAAQJEJCEAAAAAAAADwPwAAAAAAAPA/AAAAAAAA8D8AAAAAAADwPwAAAAAAAPA/AAAAAAAA8D8AAAAAAADwPwAAAAAAAPA/AAAAAAAA8D8AAAAAAADwPwAAAAAAAPA/AAAAAAAA8D8AAAAAAADwPwAAAAAAAPA/AAAAAAAA8D8AAAAAAADwPwYAACAjlwZAAAAAAAAA8D8AAAAAAADwPwAAAAAAAPA/AAAAAAAA8D8AAAAAAADwPwAAAAAAAPA/AAAAAAAA8D8AAAAAAADwPwYAACAjlwZAAAAAAAAA8D8GAAAgI5cGQAAAAAAAAPA/AAAAAAAA8D8AAAAAAADwPwAAAAAAAPA/AAAAAAAA8D8AAAAAAADwPwAAAAAAAPA/BgAAICOXBkAAAAAAAADwPwAAAAAAAPA/AAAAAAAA8D8AAAAAAADwPwAAAAAAAPA/AAAAAAAA8D8AAAAAAADwPwAAAAAAAPA/AAAAAAAA8D8AAAAAAADwPwAAAAAAAPA/AAAAAAAA8D8AAAAAAADwPwAAAAAAAPA/AAAAAAAA8D8AAAAAAADwPwAAAAAAAPA/AAAAAAAA8D8AAAAAAADwPwAAAAAAAPA/BgAAICOXBkAAAAAAAADwPwYAACAjlwZAAAAAAAAA8D8AAAAAAADwPwAAAAAAAPA/AAAAAAAA8D8AAAAAAADwPwAAAAAAAPA/BgAAICOXBkAAAAAAAADwPwYAACAjlwZAAAAAAAAA8D8AAAAAAADwPwAAAAAAAPA/AAAAAAAA8D8AAAAAAADwPwAAAAAAAPA/AAAAAAAA8D8AAAAAAADwPwAAAAAAAPA/AAAAAAAA8D8AAAAAAADwPwAAAAAAAPA/AAAAAAAA8D8AAAAAAADwPwAAAAAAAPA/AAAAAAAA8D8AAAAAAADwPwAAAAAAAPA/AAAAAAAA8D8AAAAAAADwPwAAAAAAAPA/AAAAAAAA8D8AAAAAAADwPwAAAAAAAPA/AAAAAAAA8D8AAAAAAADwPwAAAAAAAPA/AAAAAAAA8D8AAAAAAADwPwAAAAAAAPA/AAAAAAAA8D8AAAAAAADwPwAAAAAAAPA/AAAAAAAA8D8AAAAAAADwPwAAAAAAAPA/AAAAAAAA8D8GAAAgI5cGQAAAAAAAAPA/AAAAAAAA8D8AAAAAAADwPwAAAAAAAPA/AAAAAAAA8D8AAAAAAADwPwAAAAAAAPA/+P//34D4CEAAAAAAAADwPwAAAAAAAPA/AAAAAAAA8D8AAAAAAADwPwAAAAAAAPA/BgAAICOXBkAAAAAAAADwPwAAAAAAAPA/AAAAAAAA8D8AAAAAAADwPwMAACBOvgtABgAAICOXBkAAAAAAAADwPwAAAAAAAPA/AAAAAAAA8D8AAAAAAADwPwAAAAAAAPA/AAAAAAAA8D8AAAAAAADwPwAAAAAAAPA/AAAAAAAA8D8AAAAAAADwPwAAAAAAAPA/BgAAICOXBkAAAAAAAADwPwAAAAAAAPA/BgAAICOXBkAAAAAAAADwPwAAAAAAAPA/BgAAICOXBkAAAAAAAADwPwAAAAAAAPA/AAAAAAAA8D8GAAAgI5cGQAAAAAAAAPA/AAAAAAAA8D8AAAAAAADwPwAAAAAAAPA/AAAAAAAA8D8AAAAAAADwPwAAAAAAAPA/AAAAAAAA8D8AAAAAAADwPwYAACAjlwZAAAAAAAAA8D8GAAAgI5cGQAYAACAjlwZAAAAAAAAA8D8AAAAAAADwPwAAAAAAAPA/AAAAAAAA8D8AAAAAAADwPwAAAAAAAPA/AAAAAAAA8D8AAAAAAADwPwAAAAAAAPA/AAAAAAAA8D8AAAAAAADwPwAAAAAAAPA/AAAAAAAA8D8AAAAAAADwPwAAAAAAAPA/AAAAAAAA8D8AAAAAAADwPwAAAAAAAPA/AAAAAAAA8D8GAAAgI5cGQAAAAAAAAPA/AAAAAAAA8D8AAAAAAADwPwYAACAjlwZAAAAAAAAA8D8GAAAgI5cGQAAAAAAAAPA/AAAAAAAA8D8AAAAAAADwPwAAAAAAAPA/BgAAICOXBkAAAAAAAADwPwYAACAjlwZAAAAAAAAA8D8AAAAAAADwPwYAACAjlwZAAAAAAAAA8D8AAAAAAADwPwAAAAAAAPA/AAAAAAAA8D8AAAAAAADwPwAAAAAAAPA/AAAAAAAA8D8AAAAAAADwPwAAAAAAAPA/AAAAAAAA8D8AAAAAAADwPwYAACAjlwZAAAAAAAAA8D8AAAAAAADwPwAAAAAAAPA/AAAAAAAA8D8AAAAAAADwPwAAAAAAAPA/AAAAAAAA8D8AAAAAAADwPwAAAAAAAPA/AAAAAAAA8D8AAAAAAADwPwAAAAAAAPA/AAAAAAAA8D8AAAAAAADwPwAAAAAAAPA/AAAAAAAA8D8AAAAAAADwPwAAAAAAAPA/AAAAAAAA8D8GAAAgI5cGQAAAAAAAAPA/AAAAAAAA8D8AAAAAAADwPwYAACAjlwZAAAAAAAAA8D8AAAAAAADwPwAAAAAAAPA/AAAAAAAA8D8GAAAgI5cGQAAAAAAAAPA/+P//XzSkB0AAAAAAAADwPwAAAAAAAPA/AAAAAAAA8D8AAAAAAADwPwAAAAAAAPA/AAAAAAAA8D8AAAAAAADwPwYAACAjlwZAAAAAAAAA8D8AAAAAAADwPwAAAAAAAPA/AAAAAAAA8D8AAAAAAADwPwAAAAAAAPA/AAAAAAAA8D/4///fgPgIQAAAAAAAAPA/AAAAAAAA8D8AAAAAAADwPwAAAAAAAPA/AAAAAAAA8D8AAAAAAADwPwAAAAAAAPA/AAAAAAAA8D8AAAAAAADwPwAAAAAAAPA/AAAAAAAA8D8AAAAAAADwPwYAACAjlwZAAAAAAAAA8D8AAAAAAADwPwYAACAjlwZAAAAAAAAA8D8AAAAAAADwPwAAAAAAAPA/AAAAAAAA8D8GAAAgI5cGQAYAACAjlwZAAAAAAAAA8D8AAAAAAADwPwAAAAAAAPA/AAAAAAAA8D8AAAAAAADwPwYAACAjlwZAAAAAAAAA8D8AAAAAAADwPwYAACAjlwZAAAAAAAAA8D8AAAAAAADwPwAAAAAAAPA/AAAAAAAA8D8AAAAAAADwPwAAAAAAAPA/AAAAAAAA8D8AAAAAAADwPwAAAAAAAPA/BgAAICOXBkAAAAAAAADwPwAAAAAAAPA/AAAAAAAA8D8AAAAAAADwPwAAAAAAAPA/AAAAAAAA8D8AAAAAAADwPwAAAAAAAPA/AAAAAAAA8D8AAAAAAADwPwYAACAjlwZA+P//34D4CEAAAAAAAADwP/r//x/sIQpAAAAAAAAA8D8AAAAAAADwPwYAACAjlwZAAAAAAAAA8D8GAAAgI5cGQAAAAAAAAPA/AAAAAAAA8D8AAAAAAADwPwAAAAAAAPA/AAAAAAAA8D8AAAAAAADwPwAAAAAAAPA/AAAAAAAA8D8AAAAAAADwPwAAAAAAAPA/AAAAAAAA8D8AAAAAAADwPwAAAAAAAPA/AAAAAAAA8D8AAAAAAADwPwAAAAAAAPA/AAAAAAAA8D8AAAAAAADwPwAAAAAAAPA/AAAAAAAA8D8AAAAAAADwPwAAAAAAAPA/AAAAAAAA8D8AAAAAAADwPwAAAAAAAPA/AAAAAAAA8D8AAAAAAADwPwAAAAAAAPA/AAAAAAAA8D8AAAAAAADwPwAAAAAAAPA/AAAAAAAA8D8AAAAAAADwPwYAACAjlwZAAAAAAAAA8D8AAAAAAADwPwAAAAAAAPA/AAAAAAAA8D8GAAAgI5cGQAAAAAAAAPA/AAAAAAAA8D8AAAAAAADwPwAAAAAAAPA/AAAAAAAA8D8AAAAAAADwPwAAAAAAAPA/AAAAAAAA8D8AAAAAAADwPwAAAAAAAPA/AAAAAAAA8D8AAAAAAADwPwAAAAAAAPA/AAAAAAAA8D8AAAAAAADwPwYAACAjlwZAAAAAAAAA8D8AAAAAAADwPwAAAAAAAPA/AAAAAAAA8D8AAAAAAADwPwAAAAAAAPA/AAAAAAAA8D8AAAAAAADwPwAAAAAAAPA/AAAAAAAA8D8AAAAAAADwP/j//9+A+AhABgAAICOXBkAAAAAAAADwPwAAAAAAAPA/AAAAAAAA8D8GAAAgI5cGQAAAAAAAAPA/AAAAAAAA8D8AAAAAAADwPwAAAAAAAPA/BgAAICOXBkAAAAAAAADwPwAAAAAAAPA/AAAAAAAA8D8AAAAAAADwPwAAAAAAAPA/7f//35ev8T8AAAAAAADwPwAAAAAAAPA/AAAAAAAA8D8AAAAAAADwPwAAAAAAAPA/AAAAAAAA8D8AAAAAAADwPwYAACAjlwZAAAAAAAAA8D8AAAAAAADwPwAAAAAAAPA/AAAAAAAA8D8AAAAAAADwPwAAAAAAAPA/AAAAAAAA8D8AAAAAAADwPwYAACAjlwZABgAAICOXBkAAAAAAAADwPwAAAAAAAPA/AAAAAAAA8D8AAAAAAADwPwAAAAAAAPA/BgAAICOXBkAAAAAAAADwPwAAAAAAAPA/AAAAAAAA8D8AAAAAAADwPwAAAAAAAPA/AAAAAAAA8D8GAAAgI5cGQAAAAAAAAPA/AAAAAAAA8D8AAAAAAADwPwYAACAjlwZAAAAAAAAA8D8AAAAAAADwPwAAAAAAAPA/BgAAICOXBkAAAAAAAADwPwYAACAjlwZAAAAAAAAA8D8AAAAAAADwPwAAAAAAAPA/AAAAAAAA8D8AAAAAAADwPwAAAAAAAPA/BgAAICOXBkAAAAAAAADwPwAAAAAAAPA/AAAAAAAA8D8AAAAAAADwPwAAAAAAAPA/AAAAAAAA8D8AAAAAAADwPwAAAAAAAPA/AAAAAAAA8D8AAAAAAADwPwAAAAAAAPA/BgAAICOXBkAAAAAAAADwPwAAAAAAAPA/AAAAAAAA8D8AAAAAAADwPwAAAAAAAPA/AAAAAAAA8D8AAAAAAADwPwYAACAjlwZAAAAAAAAA8D8AAAAAAADwPwAAAAAAAPA/AAAAAAAA8D8AAAAAAADwPwAAAAAAAPA/AAAAAAAA8D8AAAAAAADwPwAAAAAAAPA/AAAAAAAA8D8AAAAAAADwPwAAAAAAAPA/BgAAICOXBkAGAAAgI5cGQAAAAAAAAPA/AAAAAAAA8D8AAAAAAADwPwAAAAAAAPA/AAAAAAAA8D8AAAAAAADwPwYAACAjlwZAAAAAAAAA8D8AAAAAAADwPwAAAAAAAPA/AAAAAAAA8D8GAAAgI5cGQAAAAAAAAPA/BgAAICOXBkAAAAAAAADwPwAAAAAAAPA/AAAAAAAA8D8AAAAAAADwPwAAAAAAAPA/AAAAAAAA8D8AAAAAAADwPwYAACAjlwZABgAAICOXBkAAAAAAAADwPwAAAAAAAPA/AAAAAAAA8D8GAAAgI5cGQAYAACAjlwZAAAAAAAAA8D8AAAAAAADwPwAAAAAAAPA/AAAAAAAA8D8AAAAAAADwPwAAAAAAAPA/AAAAAAAA8D8AAAAAAADwPwAAAAAAAPA/AAAAAAAA8D8AAAAAAADwPwAAAAAAAPA/AAAAAAAA8D8AAAAAAADwPwAAAAAAAPA/AAAAAAAA8D8AAAAAAADwPwAAAAAAAPA/AAAAAAAA8D8AAAAAAADwPwYAACAjlwZAAAAAAAAA8D8AAAAAAADwPwAAAAAAAPA/AAAAAAAA8D8AAAAAAADwPwYAACAjlwZAAAAAAAAA8D8GAAAgI5cGQAAAAAAAAPA/AAAAAAAA8D8AAAAAAADwPwAAAAAAAPA/AAAAAAAA8D8AAAAAAADwPwAAAAAAAPA/AAAAAAAA8D8GAAAgI5cGQAAAAAAAAPA/AAAAAAAA8D8AAAAAAADwPwAAAAAAAPA/AAAAAAAA8D8AAAAAAADwPwAAAAAAAPA/AAAAAAAA8D8GAAAgI5cGQAAAAAAAAPA/AAAAAAAA8D8AAAAAAADwPwYAACAjlwZAAAAAAAAA8D8AAAAAAADwPwAAAAAAAPA/AAAAAAAA8D8AAAAAAADwPwAAAAAAAPA/AAAAAAAA8D8AAAAAAADwPwYAACAjlwZAAAAAAAAA8D8AAAAAAADwPwAAAAAAAPA/AAAAAAAA8D8AAAAAAADwPwAAAAAAAPA/AAAAAAAA8D8AAAAAAADwPwAAAAAAAPA/AAAAAAAA8D8AAAAAAADwPwAAAAAAAPA/AAAAAAAA8D8AAAAAAADwPwAAAAAAAPA/AAAAAAAA8D8AAAAAAADwPwAAAAAAAPA/BgAAICOXBkAAAAAAAADwPwAAAAAAAPA/AAAAAAAA8D8AAAAAAADwPwAAAAAAAPA/AAAAAAAA8D8AAAAAAADwPwAAAAAAAPA/AAAAAAAA8D8AAAAAAADwPwAAAAAAAPA/AAAAAAAA8D8AAAAAAADwPwYAACAjlwZAAAAAAAAA8D8GAAAgI5cGQAYAACAjlwZABgAAICOXBkAAAAAAAADwPwYAACAjlwZAAAAAAAAA8D8AAAAAAADwPwAAAAAAAPA/AAAAAAAA8D8AAAAAAADwPwAAAAAAAPA/BgAAICOXBkAAAAAAAADwPwAAAAAAAPA/AAAAAAAA8D8AAAAAAADwPwAAAAAAAPA/AAAAAAAA8D8AAAAAAADwPwAAAAAAAPA/AAAAAAAA8D8AAAAAAADwPwAAAAAAAPA/AAAAAAAA8D8AAAAAAADwP+3//9+Xr/E/AAAAAAAA8D8AAAAAAADwPwAAAAAAAPA/AAAAAAAA8D8AAAAAAADwPwAAAAAAAPA/AAAAAAAA8D8AAAAAAADwPwAAAAAAAPA/BgAAICOXBkAAAAAAAADwPwAAAAAAAPA/AAAAAAAA8D8AAAAAAADwPwAAAAAAAPA/AAAAAAAA8D8AAAAAAADwPwAAAAAAAPA/AAAAAAAA8D8AAAAAAADwPwAAAAAAAPA/AAAAAAAA8D8AAAAAAADwPwAAAAAAAPA/BgAAICOXBkAAAAAAAADwPwAAAAAAAPA/AAAAAAAA8D8AAAAAAADwPwAAAAAAAPA/AAAAAAAA8D8AAAAAAADwPwAAAAAAAPA/AAAAAAAA8D8AAAAAAADwPwAAAAAAAPA/AAAAAAAA8D8GAAAgI5cGQAAAAAAAAPA/AAAAAAAA8D8AAAAAAADwPwAAAAAAAPA/BgAAICOXBkAAAAAAAADwPwAAAAAAAPA/AAAAAAAA8D8AAAAAAADwPwAAAAAAAPA/AAAAAAAA8D8AAAAAAADwPwAAAAAAAPA/AAAAAAAA8D8AAAAAAADwPwAAAAAAAPA/AAAAAAAA8D8AAAAAAADwPwAAAAAAAPA/AAAAAAAA8D8AAAAAAADwPwYAACAjlwZAAAAAAAAA8D8AAAAAAADwPwAAAAAAAPA/AAAAAAAA8D8AAAAAAADwPwAAAAAAAPA/AAAAAAAA8D8AAAAAAADwPwAAAAAAAPA/AAAAAAAA8D8AAAAAAADwPwYAACAjlwZAAAAAAAAA8D8AAAAAAADwPwYAACAjlwZAAAAAAAAA8D8AAAAAAADwPwAAAAAAAPA/AAAAAAAA8D8AAAAAAADwPwAAAAAAAPA/AAAAAAAA8D8AAAAAAADwPwAAAAAAAPA/AAAAAAAA8D8AAAAAAADwPwAAAAAAAPA/AAAAAAAA8D8AAAAAAADwPwAAAAAAAPA/AAAAAAAA8D8AAAAAAADwPwAAAAAAAPA/AAAAAAAA8D8AAAAAAADwPwAAAAAAAPA/AAAAAAAA8D8AAAAAAADwPwAAAAAAAPA/BgAAICOXBkAAAAAAAADwPwAAAAAAAPA/AAAAAAAA8D8AAAAAAADwPwAAAAAAAPA/AAAAAAAA8D8AAAAAAADwPwAAAAAAAPA/AAAAAAAA8D8AAAAAAADwPwAAAAAAAPA/AAAAAAAA8D8GAAAgI5cGQAYAACAjlwZAAAAAAAAA8D8AAAAAAADwPwAAAAAAAPA/7f//35ev8T8AAAAAAADwPwAAAAAAAPA/BgAAICOXBkAAAAAAAADwPwAAAAAAAPA/AAAAAAAA8D8GAAAgI5cGQAAAAAAAAPA/AAAAAAAA8D8AAAAAAADwPwAAAAAAAPA/AAAAAAAA8D8GAACAq5EJQAAAAAAAAPA/AAAAAAAA8D8AAAAAAADwPwAAAAAAAPA/AAAAAAAA8D8AAAAAAADwPwYAACAjlwZAAAAAAAAA8D8AAAAAAADwPwAAAAAAAPA/AAAAAAAA8D8AAAAAAADwPwAAAAAAAPA/BgAAICOXBkAAAAAAAADwPwAAAAAAAPA/AAAAAAAA8D8AAAAAAADwPwYAACAjlwZAAAAAAAAA8D8AAAAAAADwPwAAAAAAAPA/AAAAAAAA8D8AAAAAAADwPwAAAAAAAPA/AAAAAAAA8D8AAAAAAADwPwAAAAAAAPA/AAAAAAAA8D8GAAAgI5cGQAAAAAAAAPA/AAAAAAAA8D8AAAAAAADwPwAAAAAAAPA/AAAAAAAA8D8AAAAAAADwPwAAAAAAAPA/AAAAAAAA8D8AAAAAAADwPwAAAAAAAPA/AAAAAAAA8D8AAAAAAADwPwAAAAAAAPA/AAAAAAAA8D8GAAAgI5cGQAAAAAAAAPA/AAAAAAAA8D8AAAAAAADwPwAAAAAAAPA/AAAAAAAA8D8AAAAAAADwPwAAAAAAAPA/AAAAAAAA8D8GAAAgI5cGQAAAAAAAAPA/BgAAICOXBkAAAAAAAADwPwAAAAAAAPA/AAAAAAAA8D8AAAAAAADwPwAAAAAAAPA/AAAAAAAA8D8AAAAAAADwPwAAAAAAAPA/AAAAAAAA8D8AAAAAAADwPwAAAAAAAPA/AAAAAAAA8D/t///fl6/xPwAAAAAAAPA/BgAAICOXBkAAAAAAAADwPwAAAAAAAPA/AAAAAAAA8D8AAAAAAADwPwAAAAAAAPA/AAAAAAAA8D8AAAAAAADwPwYAACAjlwZAAAAAAAAA8D8AAAAAAADwPwAAAAAAAPA/AAAAAAAA8D8AAAAAAADwP+7//19SpvM/BgAAICOXBkAAAAAAAADwPwAAAAAAAPA/AAAAAAAA8D8AAAAAAADwPwAAAAAAAPA/AAAAAAAA8D8AAAAAAADwPwAAAAAAAPA/AAAAAAAA8D8AAAAAAADwPwAAAAAAAPA/AAAAAAAA8D8AAAAAAADwPwAAAAAAAPA/AAAAAAAA8D8AAAAAAADwPwAAAAAAAPA/AAAAAAAA8D8AAAAAAADwPwYAACAjlwZAAAAAAAAA8D8AAAAAAADwPwYAACAjlwZAAAAAAAAA8D8AAAAAAADwPwAAAAAAAPA/AAAAAAAA8D8AAAAAAADwPwAAAAAAAPA/AAAAAAAA8D8AAAAAAADwPwAAAAAAAPA/AAAAAAAA8D8AAAAAAADwPwAAAAAAAPA/AAAAAAAA8D8AAAAAAADwPwAAAAAAAPA/AAAAAAAA8D8AAAAAAADwPwYAACAjlwZAAAAAAAAA8D8AAAAAAADwPwAAAAAAAPA/AAAAAAAA8D8AAAAAAADwPwAAAAAAAPA/AAAAAAAA8D8AAAAAAADwPwAAAAAAAPA/AAAAAAAA8D8AAAAAAADwPwAAAAAAAPA/AAAAAAAA8D8AAAAAAADwPwAAAAAAAPA/AAAAAAAA8D8GAAAgI5cGQAAAAAAAAPA/AAAAAAAA8D8GAAAgI5cGQAAAAAAAAPA/AAAAAAAA8D8AAAAAAADwPwAAAAAAAPA/AAAAAAAA8D8GAAAgI5cGQAYAACAjlwZABgAAICOXBkAAAAAAAADwPwAAAAAAAPA/BgAAICOXBkAAAAAAAADwPwAAAAAAAPA/AAAAAAAA8D8AAAAAAADwPwAAAAAAAPA/AAAAAAAA8D8AAAAAAADwPwAAAAAAAPA/AAAAAAAA8D8AAAAAAADwPwAAAAAAAPA/AAAAAAAA8D8GAAAgI5cGQAAAAAAAAPA/AAAAAAAA8D8AAAAAAADwPwAAAAAAAPA/AAAAAAAA8D8FAABAzlsJQAAAAAAAAPA/AAAAAAAA8D8AAAAAAADwPwAAAAAAAPA/AAAAAAAA8D8GAAAgI5cGQAAAAAAAAPA/AAAAAAAA8D8AAAAAAADwPwAAAAAAAPA/AAAAAAAA8D8AAAAAAADwPwAAAAAAAPA/AAAAAAAA8D8AAAAAAADwPwAAAAAAAPA/AAAAAAAA8D8AAAAAAADwPwAAAAAAAPA/AAAAAAAA8D8AAAAAAADwPwAAAAAAAPA/AAAAAAAA8D8AAAAAAADwPwAAAAAAAPA/AAAAAAAA8D8AAAAAAADwPwYAACAjlwZAAAAAAAAA8D8AAAAAAADwPwAAAAAAAPA/AAAAAAAA8D8AAAAAAADwPwAAAAAAAPA/AAAAAAAA8D8AAAAAAADwPwAAAAAAAPA/AAAAAAAA8D8AAAAAAADwPwAAAAAAAPA/AAAAAAAA8D8AAAAAAADwPwAAAAAAAPA/AAAAAAAA8D8AAAAAAADwPwAAAAAAAPA/AAAAAAAA8D8AAAAAAADwPwAAAAAAAPA/AAAAAAAA8D8AAAAAAADwPwAAAAAAAPA/AAAAAAAA8D8AAAAAAADwPwAAAAAAAPA/AAAAAAAA8D8AAAAAAADwPwAAAAAAAPA/AAAAAAAA8D8AAAAAAADwPwAAAAAAAPA/AAAAAAAA8D8AAAAAAADwPwAAAAAAAPA/AAAAAAAA8D8AAAAAAADwPwAAAAAAAPA/AAAAAAAA8D8AAAAAAADwPwAAAAAAAPA/AAAAAAAA8D8AAAAAAADwPwAAAAAAAPA/AAAAAAAA8D8GAAAgI5cGQAAAAAAAAPA/BgAAICOXBkAAAAAAAADwPwAAAAAAAPA/AAAAAAAA8D8GAAAgI5cGQAAAAAAAAPA/AAAAAAAA8D8AAAAAAADwPwAAAAAAAPA/AAAAAAAA8D8AAAAAAADwPwEAAEAkYvA/AAAAAAAA8D8AAAAAAADwPwAAAAAAAPA/AAAAAAAA8D8AAAAAAADwPwAAAAAAAPA/AAAAAAAA8D8AAAAAAADwPwAAAAAAAPA/AAAAAAAA8D8AAAAAAADwPwAAAAAAAPA/BgAAICOXBkAAAAAAAADwPwAAAAAAAPA/AAAAAAAA8D8AAAAAAADwPwYAACAjlwZAAAAAAAAA8D8AAAAAAADwPwAAAAAAAPA/AAAAAAAA8D8AAAAAAADwPwAAAAAAAPA/AAAAAAAA8D8AAAAAAADwPwAAAAAAAPA/AAAAAAAA8D8AAAAAAADwPwAAAAAAAPA/AAAAAAAA8D8AAAAAAADwPwAAAAAAAPA/AAAAAAAA8D8AAAAAAADwPwAAAAAAAPA/BgAAICOXBkAAAAAAAADwPwAAAAAAAPA/AAAAAAAA8D8AAAAAAADwPwAAAAAAAPA/AAAAAAAA8D8AAAAAAADwPwAAAAAAAPA/BgAAICOXBkAAAAAAAADwPwAAAAAAAPA/AAAAAAAA8D8GAAAgI5cGQAAAAAAAAPA/BgAAICOXBkAAAAAAAADwPwAAAAAAAPA/BgAAICOXBkAAAAAAAADwPwAAAAAAAPA/AAAAAAAA8D8AAAAAAADwPwAAAAAAAPA/AAAAAAAA8D8AAAAAAADwPwAAAAAAAPA/+P//XzSkB0AAAAAAAADwPwAAAAAAAPA/AAAAAAAA8D8AAAAAAADwPwAAAAAAAPA/BgAAICOXBkAAAAAAAADwPwAAAAAAAPA/AAAAAAAA8D8AAAAAAADwPwAAAAAAAPA/AAAAAAAA8D8AAAAAAADwPwAAAAAAAPA/AAAAAAAA8D8AAAAAAADwPwAAAAAAAPA/AAAAAAAA8D8AAAAAAADwPwAAAAAAAPA/AAAAAAAA8D8GAAAgI5cGQAYAACAjlwZAAAAAAAAA8D8AAAAAAADwPwAAAAAAAPA/AAAAAAAA8D8AAAAAAADwPwAAAAAAAPA/AAAAAAAA8D8AAAAAAADwPwAAAAAAAPA/AAAAAAAA8D8GAAAgI5cGQAAAAAAAAPA/AAAAAAAA8D8AAAAAAADwPwAAAAAAAPA/AAAAAAAA8D8AAAAAAADwPwAAAAAAAPA/BgAAICOXBkAAAAAAAADwPwYAACAjlwZAAAAAAAAA8D8AAAAAAADwPwAAAAAAAPA/AAAAAAAA8D8AAAAAAADwPwAAAAAAAPA/AAAAAAAA8D8AAAAAAADwPwYAACAjlwZABgAAICOXBkAAAAAAAADwPwAAAAAAAPA/AAAAAAAA8D8AAAAAAADwPwAAAAAAAPA/AAAAAAAA8D8AAAAAAADwPwAAAAAAAPA/AAAAAAAA8D8AAAAAAADwPwAAAAAAAPA/AAAAAAAA8D8AAAAAAADwPwAAAAAAAPA/AAAAAAAA8D8AAAAAAADwPwAAAAAAAPA/AAAAAAAA8D8AAAAAAADwPwAAAAAAAPA/7f//35ev8T8AAAAAAADwPwAAAAAAAPA/AAAAAAAA8D8AAAAAAADwPwAAAAAAAPA/AAAAAAAA8D8AAAAAAADwPwAAAAAAAPA/AAAAAAAA8D8AAAAAAADwPwAAAAAAAPA/AAAAAAAA8D8AAAAAAADwPwAAAAAAAPA/AAAAAAAA8D8AAAAAAADwPwAAAAAAAPA/BgAAICOXBkAAAAAAAADwPwAAAAAAAPA/AAAAAAAA8D8AAAAAAADwPwAAAAAAAPA/AAAAAAAA8D8AAAAAAADwPwAAAAAAAPA/AAAAAAAA8D8GAAAgI5cGQAAAAAAAAPA/AAAAAAAA8D8AAAAAAADwPwYAACAjlwZAAAAAAAAA8D8GAAAgI5cGQAAAAAAAAPA/AAAAAAAA8D8AAAAAAADwPwAAAAAAAPA/AAAAAAAA8D8AAAAAAADwPwAAAAAAAPA/AAAAAAAA8D8AAAAAAADwPwAAAAAAAPA/AAAAAAAA8D8AAAAAAADwPwAAAAAAAPA/AAAAAAAA8D8AAAAAAADwPwAAAAAAAPA/BgAAICOXBkAGAAAgI5cGQAYAACAjlwZAAAAAAAAA8D8AAAAAAADwPwAAAAAAAPA/AAAAAAAA8D8GAAAgI5cGQAAAAAAAAPA/AAAAAAAA8D8AAAAAAADwPwAAAAAAAPA/AAAAAAAA8D8AAAAAAADwPwAAAAAAAPA/AAAAAAAA8D8AAAAAAADwPwAAAAAAAPA/AAAAAAAA8D8AAAAAAADwPwAAAAAAAPA/AAAAAAAA8D8AAAAAAADwPwAAAAAAAPA/BgAAICOXBkAGAAAgI5cGQAAAAAAAAPA/AAAAAAAA8D8AAAAAAADwPwAAAAAAAPA/AAAAAAAA8D8GAAAgI5cGQAAAAAAAAPA/AAAAAAAA8D8AAAAAAADwPwAAAAAAAPA/AAAAAAAA8D8AAAAAAADwPwAAAAAAAPA/AAAAAAAA8D8AAAAAAADwPwAAAAAAAPA/AAAAAAAA8D8AAAAAAADwPwAAAAAAAPA/AAAAAAAA8D8AAAAAAADwPwYAACAjlwZAAAAAAAAA8D8AAAAAAADwPwAAAAAAAPA/AAAAAAAA8D8AAAAAAADwPwAAAAAAAPA/AAAAAAAA8D8AAAAAAADwPwAAAAAAAPA/AAAAAAAA8D8AAAAAAADwPwAAAAAAAPA/AAAAAAAA8D8GAAAgI5cGQAAAAAAAAPA/AAAAAAAA8D8AAAAAAADwPwAAAAAAAPA/BgAAICOXBkAGAAAgI5cGQAAAAAAAAPA/BgAAICOXBkAAAAAAAADwPwAAAAAAAPA/AAAAAAAA8D8AAAAAAADwPwAAAAAAAPA/AAAAAAAA8D8AAAAAAADwPwAAAAAAAPA/AAAAAAAA8D8AAAAAAADwPwAAAAAAAPA/AAAAAAAA8D8AAAAAAADwPwAAAAAAAPA/AAAAAAAA8D8AAAAAAADwPwAAAAAAAPA/BgAAICOXBkAAAAAAAADwPwYAACAjlwZAAAAAAAAA8D8AAAAAAADwPwAAAAAAAPA/AAAAAAAA8D8AAAAAAADwP+7//19SpvM/AAAAAAAA8D8AAAAAAADwPwAAAAAAAPA/AAAAAAAA8D8AAAAAAADwPwAAAAAAAPA/BgAAICOXBkAAAAAAAADwPwYAACAjlwZABgAAICOXBkAAAAAAAADwPwAAAAAAAPA/AAAAAAAA8D8GAAAgI5cGQAAAAAAAAPA/AAAAAAAA8D8AAAAAAADwPwYAACAjlwZAAAAAAAAA8D8AAAAAAADwPwAAAAAAAPA/AAAAAAAA8D8AAAAAAADwPwAAAAAAAPA/AAAAAAAA8D8AAAAAAADwPwAAAAAAAPA/AAAAAAAA8D8GAAAgI5cGQAAAAAAAAPA/AAAAAAAA8D8GAAAgI5cGQAAAAAAAAPA/AAAAAAAA8D8GAAAgI5cGQAAAAAAAAPA/AAAAAAAA8D8GAAAgI5cGQAAAAAAAAPA/AAAAAAAA8D8AAAAAAADwPwAAAAAAAPA/AAAAAAAA8D8AAAAAAADwPwAAAAAAAPA/AAAAAAAA8D8AAAAAAADwPwAAAAAAAPA/AAAAAAAA8D8AAAAAAADwPwAAAAAAAPA/AAAAAAAA8D8AAAAAAADwPwAAAAAAAPA/AAAAAAAA8D8AAAAAAADwPwAAAAAAAPA/AAAAAAAA8D8AAAAAAADwPwYAACAjlwZAAAAAAAAA8D8AAAAAAADwPwAAAAAAAPA/AAAAAAAA8D8GAAAgI5cGQAAAAAAAAPA/AAAAAAAA8D8AAAAAAADwPwMAACBOvgtAAAAAAAAA8D8AAAAAAADwPwAAAAAAAPA/AAAAAAAA8D8GAAAgI5cGQAAAAAAAAPA/AAAAAAAA8D8GAAAgI5cGQAAAAAAAAPA/AAAAAAAA8D/4///fgPgIQAAAAAAAAPA/AAAAAAAA8D8AAAAAAADwPwAAAAAAAPA/AAAAAAAA8D8AAAAAAADwPwAAAAAAAPA/AAAAAAAA8D8AAAAAAADwPwAAAAAAAPA/AAAAAAAA8D8AAAAAAADwPwAAAAAAAPA/AAAAAAAA8D8AAAAAAADwPwAAAAAAAPA/AAAAAAAA8D8GAAAgI5cGQAAAAAAAAPA/AAAAAAAA8D8GAAAgI5cGQAAAAAAAAPA/AAAAAAAA8D8AAAAAAADwPwAAAAAAAPA/BgAAICOXBkAAAAAAAADwPwAAAAAAAPA/AAAAAAAA8D8AAAAAAADwPwAAAAAAAPA/AAAAAAAA8D8AAAAAAADwPwAAAAAAAPA/BgAAICOXBkAAAAAAAADwPwAAAAAAAPA/AAAAAAAA8D8AAAAAAADwPwAAAAAAAPA/AAAAAAAA8D8AAAAAAADwPwAAAAAAAPA/AAAAAAAA8D8AAAAAAADwPwAAAAAAAPA/AAAAAAAA8D8AAAAAAADwPwAAAAAAAPA/AAAAAAAA8D8AAAAAAADwPwAAAAAAAPA/AAAAAAAA8D8GAAAgI5cGQAYAACAjlwZAAAAAAAAA8D8AAAAAAADwPwAAAAAAAPA/AAAAAAAA8D8GAAAgI5cGQAAAAAAAAPA/AAAAAAAA8D8AAAAAAADwPwAAAAAAAPA/BgAAICOXBkAGAAAgI5cGQAAAAAAAAPA/AAAAAAAA8D8AAAAAAADwPwYAACAjlwZAAAAAAAAA8D8AAAAAAADwPwAAAAAAAPA/BgAAICOXBkAAAAAAAADwPwAAAAAAAPA/AAAAAAAA8D8GAAAgI5cGQAAAAAAAAPA/AAAAAAAA8D8AAAAAAADwPwAAAAAAAPA/AAAAAAAA8D8GAAAgI5cGQAAAAAAAAPA/AAAAAAAA8D8AAAAAAADwPwYAACAjlwZAAAAAAAAA8D8AAAAAAADwPwAAAAAAAPA/AAAAAAAA8D8AAAAAAADwPwAAAAAAAPA/AAAAAAAA8D8AAAAAAADwPwAAAAAAAPA/AAAAAAAA8D8AAAAAAADwPwAAAAAAAPA/AAAAAAAA8D8GAAAgI5cGQAAAAAAAAPA/AAAAAAAA8D8AAAAAAADwPwAAAAAAAPA/AAAAAAAA8D8AAAAAAADwPwAAAAAAAPA/AAAAAAAA8D8AAAAAAADwPwAAAAAAAPA/AAAAAAAA8D8AAAAAAADwPwAAAAAAAPA/AAAAAAAA8D8AAAAAAADwPwAAAAAAAPA/AAAAAAAA8D8AAAAAAADwPwAAAAAAAPA/AAAAAAAA8D8AAAAAAADwPwAAAAAAAPA/AAAAAAAA8D8GAAAgI5cGQAYAACAjlwZAAAAAAAAA8D8AAAAAAADwPwAAAAAAAPA/BgAAICOXBkAAAAAAAADwPwAAAAAAAPA/AAAAAAAA8D8AAAAAAADwPwAAAAAAAPA/AAAAAAAA8D8AAAAAAADwPwYAACAjlwZABgAAICOXBkAAAAAAAADwPwAAAAAAAPA/AAAAAAAA8D8AAAAAAADwPwYAACAjlwZAAAAAAAAA8D8AAAAAAADwPwYAACAjlwZAAAAAAAAA8D8AAAAAAADwPwAAAAAAAPA/BgAAICOXBkAGAAAgI5cGQAAAAAAAAPA/AAAAAAAA8D8AAAAAAADwPwAAAAAAAPA/AAAAAAAA8D8AAAAAAADwPwAAAAAAAPA/AAAAAAAA8D8AAAAAAADwPwAAAAAAAPA/AAAAAAAA8D8AAAAAAADwPwYAACAjlwZAAAAAAAAA8D8AAAAAAADwPwAAAAAAAPA/AAAAAAAA8D8GAAAgI5cGQAAAAAAAAPA/AAAAAAAA8D8GAAAgI5cGQAAAAAAAAPA/AAAAAAAA8D8GAAAgI5cGQAAAAAAAAPA/BgAAICOXBkAAAAAAAADwPwAAAAAAAPA/AAAAAAAA8D8AAAAAAADwPwYAACAjlwZAAAAAAAAA8D8AAAAAAADwPwAAAAAAAPA/AAAAAAAA8D/4///fgPgIQAAAAAAAAPA/AAAAAAAA8D/4///fgPgIQAAAAAAAAPA/AAAAAAAA8D8AAAAAAADwPwAAAAAAAPA/AAAAAAAA8D8AAAAAAADwPwAAAAAAAPA/AAAAAAAA8D8AAAAAAADwPwAAAAAAAPA/AAAAAAAA8D8AAAAAAADwPwAAAAAAAPA/AAAAAAAA8D8AAAAAAADwPwAAAAAAAPA/AAAAAAAA8D8AAAAAAADwPwAAAAAAAPA/AAAAAAAA8D8AAAAAAADwPwAAAAAAAPA/AAAAAAAA8D8AAAAAAADwPwAAAAAAAPA/AAAAAAAA8D8AAAAAAADwPwAAAAAAAPA/AAAAAAAA8D8AAAAAAADwPwAAAAAAAPA/AAAAAAAA8D8GAAAgI5cGQPj//180pAdAAAAAAAAA8D8AAAAAAADwPwAAAAAAAPA/AAAAAAAA8D8AAAAAAADwPwAAAAAAAPA/AAAAAAAA8D8AAAAAAADwPwAAAAAAAPA/AAAAAAAA8D8AAAAAAADwPwAAAAAAAPA/AAAAAAAA8D8AAAAAAADwPwAAAAAAAPA/AAAAAAAA8D8AAAAAAADwPwAAAAAAAPA/AAAAAAAA8D8AAAAAAADwPwAAAAAAAPA/AAAAAAAA8D8AAAAAAADwPwAAAAAAAPA/AAAAAAAA8D8AAAAAAADwPwAAAAAAAPA/AAAAAAAA8D8AAAAAAADwPwAAAAAAAPA/AAAAAAAA8D8AAAAAAADwPwAAAAAAAPA/BgAAICOXBkAAAAAAAADwPwAAAAAAAPA/AAAAAAAA8D8AAAAAAADwPwAAAAAAAPA/AAAAAAAA8D8AAAAAAADwPwYAACAjlwZABgAAICOXBkAAAAAAAADwPwYAACAjlwZAAAAAAAAA8D8AAAAAAADwPwAAAAAAAPA/AAAAAAAA8D8AAAAAAADwPwAAAAAAAPA/AAAAAAAA8D8AAAAAAADwPwAAAAAAAPA/AAAAAAAA8D8AAAAAAADwPwAAAAAAAPA/AAAAAAAA8D8AAAAAAADwPwAAAAAAAPA/AAAAAAAA8D8AAAAAAADwPwAAAAAAAPA/AAAAAAAA8D8AAAAAAADwPwYAACAjlwZAAAAAAAAA8D8AAAAAAADwPwAAAAAAAPA/AAAAAAAA8D8AAAAAAADwPwAAAAAAAPA/AAAAAAAA8D8AAAAAAADwPwAAAAAAAPA/AAAAAAAA8D8AAAAAAADwPwAAAAAAAPA/AAAAAAAA8D8AAAAAAADwPwAAAAAAAPA/AAAAAAAA8D8AAAAAAADwP+3//9+Xr/E/AAAAAAAA8D8AAAAAAADwPwAAAAAAAPA/BgAAICOXBkAAAAAAAADwPwAAAAAAAPA/AAAAAAAA8D8AAAAAAADwPwAAAAAAAPA/AAAAAAAA8D8AAAAAAADwPwYAACAjlwZAAAAAAAAA8D8AAAAAAADwPwAAAAAAAPA/AAAAAAAA8D8AAAAAAADwPwAAAAAAAPA/AAAAAAAA8D8AAAAAAADwPwAAAAAAAPA/AAAAAAAA8D8AAAAAAADwPwAAAAAAAPA/AAAAAAAA8D8AAAAAAADwPwAAAAAAAPA/AAAAAAAA8D8AAAAAAADwPwYAACAjlwZAAAAAAAAA8D8AAAAAAADwPwAAAAAAAPA/AAAAAAAA8D8AAAAAAADwPwAAAAAAAPA/AAAAAAAA8D8AAAAAAADwPwYAACAjlwZAAAAAAAAA8D8AAAAAAADwPwAAAAAAAPA/AAAAAAAA8D8AAAAAAADwPwAAAAAAAPA/AAAAAAAA8D8AAAAAAADwPwAAAAAAAPA/AAAAAAAA8D8AAAAAAADwPwAAAAAAAPA/AAAAAAAA8D8AAAAAAADwPwAAAAAAAPA/AAAAAAAA8D8AAAAAAADwPwAAAAAAAPA/AAAAAAAA8D8AAAAAAADwPwAAAAAAAPA/AAAAAAAA8D8AAAAAAADwPwYAACAjlwZAAAAAAAAA8D8AAAAAAADwPwAAAAAAAPA/AAAAAAAA8D8AAAAAAADwPwAAAAAAAPA/AAAAAAAA8D8AAAAAAADwPwAAAAAAAPA/AAAAAAAA8D8AAAAAAADwPwYAACAjlwZABgAAICOXBkAAAAAAAADwPwAAAAAAAPA/AAAAAAAA8D8AAAAAAADwPwAAAAAAAPA/BgAAICOXBkAAAAAAAADwPwAAAAAAAPA/BgAAICOXBkAAAAAAAADwPwAAAAAAAPA/AAAAAAAA8D8AAAAAAADwPwAAAAAAAPA/AAAAAAAA8D8AAAAAAADwPwAAAAAAAPA/AAAAAAAA8D8AAAAAAADwPwAAAAAAAPA/AAAAAAAA8D8AAAAAAADwPwAAAAAAAPA/AAAAAAAA8D8GAAAgI5cGQAAAAAAAAPA/BgAAICOXBkAGAAAgI5cGQAAAAAAAAPA/AAAAAAAA8D8AAAAAAADwPwAAAAAAAPA/AAAAAAAA8D8GAAAgI5cGQAAAAAAAAPA/AAAAAAAA8D8AAAAAAADwPwAAAAAAAPA/AAAAAAAA8D8AAAAAAADwPwAAAAAAAPA/AAAAAAAA8D8GAAAgI5cGQO3//9+Xr/E/AAAAAAAA8D8AAAAAAADwPwAAAAAAAPA/AAAAAAAA8D8AAAAAAADwPwAAAAAAAPA/AAAAAAAA8D8AAAAAAADwPwAAAAAAAPA/BgAAICOXBkAAAAAAAADwPwAAAAAAAPA/AAAAAAAA8D8AAAAAAADwPwAAAAAAAPA/AAAAAAAA8D8GAAAgI5cGQAAAAAAAAPA/AAAAAAAA8D8AAAAAAADwPwAAAAAAAPA/BgAAICOXBkAAAAAAAADwPwAAAAAAAPA/AAAAAAAA8D8AAAAAAADwPwAAAAAAAPA/AAAAAAAA8D8AAAAAAADwPwYAACAjlwZAAAAAAAAA8D8AAAAAAADwPwAAAAAAAPA/AAAAAAAA8D8AAAAAAADwPwAAAAAAAPA/AAAAAAAA8D8AAAAAAADwPwAAAAAAAPA/AAAAAAAA8D8AAAAAAADwPwAAAAAAAPA/AAAAAAAA8D8AAAAAAADwPwAAAAAAAPA/AAAAAAAA8D8GAAAgI5cGQAAAAAAAAPA/AAAAAAAA8D8AAAAAAADwPwAAAAAAAPA/AAAAAAAA8D8GAAAgI5cGQAAAAAAAAPA/AAAAAAAA8D8AAAAAAADwPwAAAAAAAPA/AAAAAAAA8D8AAAAAAADwPwAAAAAAAPA/AAAAAAAA8D8AAAAAAADwPwAAAAAAAPA/AAAAAAAA8D8AAAAAAADwPwAAAAAAAPA/AAAAAAAA8D8AAAAAAADwPwAAAAAAAPA/AAAAAAAA8D8AAAAAAADwPwAAAAAAAPA/AAAAAAAA8D8AAAAAAADwPwAAAAAAAPA/AAAAAAAA8D8AAAAAAADwPwAAAAAAAPA/AAAAAAAA8D8AAAAAAADwPwAAAAAAAPA/AAAAAAAA8D8AAAAAAADwPwAAAAAAAPA/AAAAAAAA8D8AAAAAAADwPwYAACAjlwZAAAAAAAAA8D8AAAAAAADwPwAAAAAAAPA/BgAAICOXBkAGAAAgI5cGQAAAAAAAAPA/AAAAAAAA8D8AAAAAAADwPwAAAAAAAPA/7f//35ev8T8AAAAAAADwPwAAAAAAAPA/BgAAICOXBkAAAAAAAADwPwYAACAjlwZAAAAAAAAA8D8AAAAAAADwPwAAAAAAAPA/AAAAAAAA8D8GAAAgI5cGQAAAAAAAAPA/AAAAAAAA8D8AAAAAAADwPwYAACAjlwZAAAAAAAAA8D8AAAAAAADwPwYAACAjlwZAAAAAAAAA8D8AAAAAAADwPwYAACAjlwZAAAAAAAAA8D8GAAAgI5cGQAAAAAAAAPA/AAAAAAAA8D8AAAAAAADwPwAAAAAAAPA/AAAAAAAA8D8AAAAAAADwPwAAAAAAAPA/AAAAAAAA8D8AAAAAAADwPwAAAAAAAPA/AAAAAAAA8D8GAAAgI5cGQAAAAAAAAPA/AAAAAAAA8D8AAAAAAADwP+3//9+Xr/E/AAAAAAAA8D8AAAAAAADwP+7//19SpvM/7f//35ev8T8AAAAAAADwPwAAAAAAAPA/AAAAAAAA8D8AAAAAAADwPwAAAAAAAPA/AAAAAAAA8D8GAAAgI5cGQAAAAAAAAPA/AAAAAAAA8D8AAAAAAADwPwAAAAAAAPA/AAAAAAAA8D8AAAAAAADwPwAAAAAAAPA/AAAAAAAA8D8AAAAAAADwPwAAAAAAAPA/AAAAAAAA8D8AAAAAAADwPwAAAAAAAPA/AAAAAAAA8D8AAAAAAADwPwAAAAAAAPA/AAAAAAAA8D8AAAAAAADwPwAAAAAAAPA/BgAAICOXBkAAAAAAAADwPwAAAAAAAPA/AAAAAAAA8D8AAAAAAADwPwAAAAAAAPA/AAAAAAAA8D8AAAAAAADwPwAAAAAAAPA/AAAAAAAA8D8AAAAAAADwPwAAAAAAAPA/BgAAICOXBkAAAAAAAADwPwAAAAAAAPA/AAAAAAAA8D8AAAAAAADwPwAAAAAAAPA/AAAAAAAA8D8AAAAAAADwPwAAAAAAAPA/AAAAAAAA8D8AAAAAAADwPwAAAAAAAPA/AAAAAAAA8D8AAAAAAADwPwAAAAAAAPA/AAAAAAAA8D8AAAAAAADwPwAAAAAAAPA/AAAAAAAA8D8AAAAAAADwPwAAAAAAAPA/AAAAAAAA8D8AAAAAAADwPwAAAAAAAPA/AAAAAAAA8D8AAAAAAADwPwAAAAAAAPA/AAAAAAAA8D8AAAAAAADwPwAAAAAAAPA/AAAAAAAA8D8AAAAAAADwP/j//180pAdAAAAAAAAA8D8AAAAAAADwPwAAAAAAAPA/AAAAAAAA8D8GAAAgI5cGQAAAAAAAAPA/AAAAAAAA8D8AAAAAAADwPwAAAAAAAPA/AAAAAAAA8D8AAAAAAADwPwYAACAjlwZAAAAAAAAA8D8AAAAAAADwPwAAAAAAAPA/AAAAAAAA8D8GAAAgI5cGQAAAAAAAAPA/AAAAAAAA8D8AAAAAAADwPwAAAAAAAPA/AAAAAAAA8D8AAAAAAADwPwAAAAAAAPA/AAAAAAAA8D8AAAAAAADwPwAAAAAAAPA/AAAAAAAA8D8AAAAAAADwPwAAAAAAAPA/AAAAAAAA8D8AAAAAAADwPwAAAAAAAPA/AAAAAAAA8D8GAAAgI5cGQAAAAAAAAPA/AAAAAAAA8D8AAAAAAADwPwAAAAAAAPA/AAAAAAAA8D8AAAAAAADwPwYAACAjlwZAAAAAAAAA8D8AAAAAAADwPwAAAAAAAPA/AAAAAAAA8D8AAAAAAADwPwAAAAAAAPA/BgAAICOXBkAAAAAAAADwPwAAAAAAAPA/AAAAAAAA8D8GAAAgI5cGQAAAAAAAAPA/AAAAAAAA8D8AAAAAAADwPwAAAAAAAPA/AAAAAAAA8D8AAAAAAADwPwAAAAAAAPA/AAAAAAAA8D8AAAAAAADwPwAAAAAAAPA/AAAAAAAA8D8AAAAAAADwPwYAACAjlwZABgAAICOXBkAAAAAAAADwPwYAACAjlwZAAAAAAAAA8D8AAAAAAADwPwAAAAAAAPA/AAAAAAAA8D8AAAAAAADwPwAAAAAAAPA/AAAAAAAA8D8AAAAAAADwPwAAAAAAAPA/AAAAAAAA8D8AAAAAAADwPwAAAAAAAPA/AAAAAAAA8D8AAAAAAADwPwAAAAAAAPA/AAAAAAAA8D8AAAAAAADwPwYAACAjlwZAAAAAAAAA8D8AAAAAAADwPwAAAAAAAPA/BgAAICOXBkAAAAAAAADwPwAAAAAAAPA/AAAAAAAA8D8AAAAAAADwPwAAAAAAAPA/AAAAAAAA8D8AAAAAAADwPwAAAAAAAPA/AAAAAAAA8D8AAAAAAADwPwYAACAjlwZAAAAAAAAA8D8AAAAAAADwPwYAACAjlwZAAAAAAAAA8D8AAAAAAADwPwAAAAAAAPA/AAAAAAAA8D8AAAAAAADwPwAAAAAAAPA/AAAAAAAA8D8AAAAAAADwPwAAAAAAAPA/AAAAAAAA8D8AAAAAAADwPwAAAAAAAPA/AAAAAAAA8D8AAAAAAADwPwAAAAAAAPA/AAAAAAAA8D8AAAAAAADwPwAAAAAAAPA/AAAAAAAA8D8AAAAAAADwPwAAAAAAAPA/AAAAAAAA8D8GAAAgI5cGQAAAAAAAAPA/AAAAAAAA8D8AAAAAAADwPwAAAAAAAPA/AAAAAAAA8D8AAAAAAADwPwAAAAAAAPA/AAAAAAAA8D8AAAAAAADwPwAAAAAAAPA/AAAAAAAA8D8GAAAgI5cGQAAAAAAAAPA/AAAAAAAA8D8AAAAAAADwPwAAAAAAAPA/BgAAICOXBkAAAAAAAADwPwAAAAAAAPA/AAAAAAAA8D8AAAAAAADwPwAAAAAAAPA/AAAAAAAA8D8AAAAAAADwPwAAAAAAAPA/BgAAICOXBkAAAAAAAADwPwAAAAAAAPA/AAAAAAAA8D8AAAAAAADwPwAAAAAAAPA/BgAAICOXBkAAAAAAAADwPwYAACAjlwZAAAAAAAAA8D8AAAAAAADwPwAAAAAAAPA/AAAAAAAA8D8GAAAgI5cGQAYAACAjlwZAAAAAAAAA8D8AAAAAAADwPwYAACAjlwZAAAAAAAAA8D8AAAAAAADwPwAAAAAAAPA/AAAAAAAA8D8AAAAAAADwPwAAAAAAAPA/AAAAAAAA8D8AAAAAAADwPwAAAAAAAPA/AAAAAAAA8D8AAAAAAADwPwAAAAAAAPA/BgAAICOXBkAAAAAAAADwPwAAAAAAAPA/BgAAICOXBkAAAAAAAADwPwAAAAAAAPA/AAAAAAAA8D8AAAAAAADwPwYAACAjlwZAAAAAAAAA8D8AAAAAAADwPwAAAAAAAPA/AAAAAAAA8D8AAAAAAADwPwAAAAAAAPA/AAAAAAAA8D8AAAAAAADwPwAAAAAAAPA/AAAAAAAA8D8AAAAAAADwPwAAAAAAAPA/AAAAAAAA8D8AAAAAAADwPwAAAAAAAPA/AAAAAAAA8D8AAAAAAADwPwAAAAAAAPA/AAAAAAAA8D8AAAAAAADwPwIAACCgJA9AAAAAAAAA8D8AAAAAAADwPwAAAAAAAPA/BgAAICOXBkAAAAAAAADwPwAAAAAAAPA/AAAAAAAA8D8AAAAAAADwPwAAAAAAAPA/AAAAAAAA8D8AAAAAAADwPwAAAAAAAPA/AAAAAAAA8D8AAAAAAADwPwYAACAjlwZAAAAAAAAA8D8AAAAAAADwPwAAAAAAAPA/AAAAAAAA8D8AAAAAAADwPwAAAAAAAPA/AAAAAAAA8D8AAAAAAADwPwAAAAAAAPA/AAAAAAAA8D8AAAAAAADwPwAAAAAAAPA/AAAAAAAA8D8AAAAAAADwPwAAAAAAAPA/AAAAAAAA8D8GAAAgI5cGQAAAAAAAAPA/AAAAAAAA8D8AAAAAAADwPwAAAAAAAPA/AAAAAAAA8D8AAAAAAADwPwAAAAAAAPA/AAAAAAAA8D8AAAAAAADwPwAAAAAAAPA/AAAAAAAA8D8AAAAAAADwPwAAAAAAAPA/AAAAAAAA8D8AAAAAAADwPwAAAAAAAPA/AAAAAAAA8D8AAAAAAADwPwAAAAAAAPA/AAAAAAAA8D8AAAAAAADwPwAAAAAAAPA/AAAAAAAA8D8AAAAAAADwPwAAAAAAAPA/AAAAAAAA8D8AAAAAAADwPwAAAAAAAPA/AAAAAAAA8D8AAAAAAADwPwYAACAjlwZAAAAAAAAA8D8AAAAAAADwPwAAAAAAAPA/AAAAAAAA8D8AAAAAAADwPwAAAAAAAPA/AAAAAAAA8D8AAAAAAADwPwAAAAAAAPA/AAAAAAAA8D8AAAAAAADwPwAAAAAAAPA/AAAAAAAA8D8AAAAAAADwPwAAAAAAAPA/AAAAAAAA8D8AAAAAAADwPwAAAAAAAPA/AAAAAAAA8D8AAAAAAADwPwAAAAAAAPA/AAAAAAAA8D8AAAAAAADwPwAAAAAAAPA/AAAAAAAA8D8AAAAAAADwPwAAAAAAAPA/BgAAICOXBkAAAAAAAADwPwAAAAAAAPA/AAAAAAAA8D8AAAAAAADwPwAAAAAAAPA/BgAAICOXBkAAAAAAAADwPwAAAAAAAPA/AAAAAAAA8D8AAAAAAADwPwAAAAAAAPA/AAAAAAAA8D8AAAAAAADwPwAAAAAAAPA/AAAAAAAA8D8GAAAgI5cGQAAAAAAAAPA/AAAAAAAA8D8AAAAAAADwPwAAAAAAAPA/AAAAAAAA8D8AAAAAAADwPwAAAAAAAPA/AAAAAAAA8D8AAAAAAADwPwAAAAAAAPA/AAAAAAAA8D8GAAAgI5cGQAAAAAAAAPA/AAAAAAAA8D8AAAAAAADwPwAAAAAAAPA/AAAAAAAA8D8AAAAAAADwPwAAAAAAAPA/AAAAAAAA8D8AAAAAAADwPwAAAAAAAPA/AAAAAAAA8D8AAAAAAADwPwAAAAAAAPA/AAAAAAAA8D8AAAAAAADwPwAAAAAAAPA/AAAAAAAA8D8AAAAAAADwPwYAACAjlwZAAAAAAAAA8D/4///fgPgIQAAAAAAAAPA/AAAAAAAA8D8AAAAAAADwPwAAAAAAAPA/AAAAAAAA8D8AAAAAAADwPwAAAAAAAPA/BgAAICOXBkAAAAAAAADwPwAAAAAAAPA/AAAAAAAA8D8AAAAAAADwPwAAAAAAAPA/AAAAAAAA8D8AAAAAAADwPwAAAAAAAPA/BgAAICOXBkAAAAAAAADwPwAAAAAAAPA/AAAAAAAA8D8GAAAgI5cGQAAAAAAAAPA/AAAAAAAA8D8AAAAAAADwPwAAAAAAAPA/AAAAAAAA8D8AAAAAAADwPwAAAAAAAPA/AAAAAAAA8D8AAAAAAADwPwAAAAAAAPA/AAAAAAAA8D8AAAAAAADwPwAAAAAAAPA/AAAAAAAA8D8AAAAAAADwPwAAAAAAAPA/AAAAAAAA8D8AAAAAAADwPwAAAAAAAPA/AAAAAAAA8D8AAAAAAADwPwYAACAjlwZAAAAAAAAA8D8AAAAAAADwPwAAAAAAAPA/BgAAICOXBkAAAAAAAADwPwAAAAAAAPA/AAAAAAAA8D8AAAAAAADwPwAAAAAAAPA/AAAAAAAA8D8AAAAAAADwPwAAAAAAAPA/AAAAAAAA8D8AAAAAAADwPwAAAAAAAPA/AAAAAAAA8D8AAAAAAADwPwAAAAAAAPA/AAAAAAAA8D8AAAAAAADwPwAAAAAAAPA/AAAAAAAA8D8AAAAAAADwPwAAAAAAAPA/AAAAAAAA8D8AAAAAAADwPwAAAAAAAPA/AAAAAAAA8D8AAAAAAADwPwAAAAAAAPA/AAAAAAAA8D8AAAAAAADwPwAAAAAAAPA/BgAAICOXBkAAAAAAAADwPwAAAAAAAPA/AAAAAAAA8D8AAAAAAADwPwAAAAAAAPA/AAAAAAAA8D8AAAAAAADwPwAAAAAAAPA/AAAAAAAA8D8AAAAAAADwPwAAAAAAAPA/AAAAAAAA8D8GAAAgI5cGQAAAAAAAAPA/AAAAAAAA8D8AAAAAAADwPwAAAAAAAPA/AAAAAAAA8D8AAAAAAADwPwAAAAAAAPA/AAAAAAAA8D8AAAAAAADwPwAAAAAAAPA/AAAAAAAA8D8AAAAAAADwPwAAAAAAAPA/AAAAAAAA8D8AAAAAAADwPwAAAAAAAPA/AAAAAAAA8D8GAAAgI5cGQAAAAAAAAPA/AAAAAAAA8D8AAAAAAADwPwAAAAAAAPA/AAAAAAAA8D8GAAAgI5cGQAAAAAAAAPA/AAAAAAAA8D8AAAAAAADwPwAAAAAAAPA/AAAAAAAA8D8AAAAAAADwPwAAAAAAAPA/AAAAAAAA8D8AAAAAAADwPwAAAAAAAPA/AAAAAAAA8D8GAAAgI5cGQAAAAAAAAPA/BgAAICOXBkAAAAAAAADwPwAAAAAAAPA/AAAAAAAA8D8AAAAAAADwPwYAACAjlwZAAAAAAAAA8D8GAAAgI5cGQAAAAAAAAPA/AAAAAAAA8D8AAAAAAADwPwAAAAAAAPA/AAAAAAAA8D8AAAAAAADwPwYAACAjlwZABgAAICOXBkAAAAAAAADwPwYAACAjlwZAAAAAAAAA8D8AAAAAAADwPwAAAAAAAPA/AAAAAAAA8D8GAAAgI5cGQAYAACAjlwZABgAAICOXBkAGAAAgI5cGQAAAAAAAAPA/AAAAAAAA8D8GAAAgI5cGQAAAAAAAAPA/AAAAAAAA8D8GAAAgI5cGQAAAAAAAAPA/AAAAAAAA8D8AAAAAAADwPwAAAAAAAPA/BgAAICOXBkAAAAAAAADwPwAAAAAAAPA/AAAAAAAA8D8AAAAAAADwPwAAAAAAAPA/AAAAAAAA8D8AAAAAAADwPwAAAAAAAPA/AAAAAAAA8D8AAAAAAADwPwAAAAAAAPA/AAAAAAAA8D8AAAAAAADwPwAAAAAAAPA/BgAAICOXBkAAAAAAAADwPwAAAAAAAPA/AAAAAAAA8D8GAAAgI5cGQAYAACAjlwZAAAAAAAAA8D8AAAAAAADwPwAAAAAAAPA/AAAAAAAA8D8AAAAAAADwPwAAAAAAAPA/AAAAAAAA8D8AAAAAAADwPwYAACAjlwZAAAAAAAAA8D8AAAAAAADwPwAAAAAAAPA/AAAAAAAA8D8AAAAAAADwPwAAAAAAAPA/BgAAICOXBkAAAAAAAADwPwAAAAAAAPA/BgAAICOXBkAAAAAAAADwPwAAAAAAAPA/AAAAAAAA8D8AAAAAAADwP/j//9+A+AhAAAAAAAAA8D8GAAAgI5cGQAAAAAAAAPA/AAAAAAAA8D8AAAAAAADwPwAAAAAAAPA/AAAAAAAA8D8AAAAAAADwPwAAAAAAAPA/AAAAAAAA8D8AAAAAAADwPwAAAAAAAPA/AAAAAAAA8D8GAAAgI5cGQAAAAAAAAPA/AAAAAAAA8D8AAAAAAADwPwAAAAAAAPA/7f//35ev8T8GAAAgI5cGQAAAAAAAAPA/AAAAAAAA8D8AAAAAAADwPwAAAAAAAPA/AAAAAAAA8D8AAAAAAADwPwAAAAAAAPA/BgAAICOXBkAAAAAAAADwPwAAAAAAAPA/BgAAICOXBkAAAAAAAADwPwAAAAAAAPA/AAAAAAAA8D8AAAAAAADwPwYAACAjlwZAAAAAAAAA8D8AAAAAAADwPwAAAAAAAPA/AAAAAAAA8D8AAAAAAADwPwYAACAjlwZAAAAAAAAA8D8AAAAAAADwPwYAACAjlwZAAAAAAAAA8D8AAAAAAADwPwAAAAAAAPA/AAAAAAAA8D8AAAAAAADwPwAAAAAAAPA/AAAAAAAA8D8AAAAAAADwP/X//9+kZQlABgAAICOXBkAAAAAAAADwPwAAAAAAAPA/AAAAAAAA8D8AAAAAAADwPwAAAAAAAPA/AAAAAAAA8D8AAAAAAADwPwAAAAAAAPA/AAAAAAAA8D8AAAAAAADwPwAAAAAAAPA/AAAAAAAA8D8AAAAAAADwPwAAAAAAAPA/AAAAAAAA8D8AAAAAAADwPwYAACAjlwZAAAAAAAAA8D8AAAAAAADwPwAAAAAAAPA/AAAAAAAA8D8AAAAAAADwPwAAAAAAAPA/BgAAICOXBkAAAAAAAADwPwAAAAAAAPA/AAAAAAAA8D8AAAAAAADwPwAAAAAAAPA/AAAAAAAA8D8AAAAAAADwPwAAAAAAAPA/AAAAAAAA8D8AAAAAAADwPwYAACAjlwZAAAAAAAAA8D8AAAAAAADwPwAAAAAAAPA/AAAAAAAA8D8AAAAAAADwPwYAACAjlwZAAAAAAAAA8D8AAAAAAADwPwAAAAAAAPA/AAAAAAAA8D8AAAAAAADwPwAAAAAAAPA/AAAAAAAA8D8AAAAAAADwPwAAAAAAAPA/7f//35ev8T8AAAAAAADwPwAAAAAAAPA/AAAAAAAA8D8AAAAAAADwPwAAAAAAAPA/AAAAAAAA8D8AAAAAAADwPwAAAAAAAPA/BgAAICOXBkAAAAAAAADwPwAAAAAAAPA/AAAAAAAA8D8AAAAAAADwPwAAAAAAAPA/AAAAAAAA8D8AAAAAAADwPwAAAAAAAPA/AAAAAAAA8D8AAAAAAADwPwAAAAAAAPA/AAAAAAAA8D8AAAAAAADwPwAAAAAAAPA/AAAAAAAA8D8AAAAAAADwPwAAAAAAAPA/BgAAICOXBkAAAAAAAADwPwAAAAAAAPA/AAAAAAAA8D8AAAAAAADwPwAAAAAAAPA/BgAAICOXBkAAAAAAAADwPwAAAAAAAPA/AAAAAAAA8D8AAAAAAADwPwAAAAAAAPA/AAAAAAAA8D8AAAAAAADwPwYAACAjlwZAAAAAAAAA8D8AAAAAAADwPwAAAAAAAPA/AAAAAAAA8D8AAAAAAADwPwAAAAAAAPA/AAAAAAAA8D8AAAAAAADwPwAAAAAAAPA/AAAAAAAA8D8AAAAAAADwPwAAAAAAAPA/AAAAAAAA8D8AAAAAAADwPwAAAAAAAPA/AAAAAAAA8D8GAAAgI5cGQAAAAAAAAPA/AAAAAAAA8D8AAAAAAADwPwAAAAAAAPA/AAAAAAAA8D8AAAAAAADwPwAAAAAAAPA/AAAAAAAA8D8AAAAAAADwPwAAAAAAAPA/AAAAAAAA8D8AAAAAAADwPwAAAAAAAPA/AAAAAAAA8D8AAAAAAADwPwAAAAAAAPA/AAAAAAAA8D8AAAAAAADwPwAAAAAAAPA/AAAAAAAA8D8AAAAAAADwPwAAAAAAAPA/AAAAAAAA8D8AAAAAAADwPwAAAAAAAPA/AAAAAAAA8D8AAAAAAADwPwAAAAAAAPA/AAAAAAAA8D8AAAAAAADwPwAAAAAAAPA/BgAAICOXBkAAAAAAAADwPwAAAAAAAPA/AAAAAAAA8D8AAAAAAADwPwAAAAAAAPA/AAAAAAAA8D8AAAAAAADwPwAAAAAAAPA/AAAAAAAA8D8GAAAgI5cGQAAAAAAAAPA/AAAAAAAA8D8AAAAAAADwPwAAAAAAAPA/AAAAAAAA8D8AAAAAAADwPwAAAAAAAPA/AAAAAAAA8D8AAAAAAADwPwAAAAAAAPA/AAAAAAAA8D8AAAAAAADwPwAAAAAAAPA/AAAAAAAA8D8AAAAAAADwPwAAAAAAAPA/AAAAAAAA8D8AAAAAAADwPwAAAAAAAPA/AAAAAAAA8D8AAAAAAADwPwAAAAAAAPA/AAAAAAAA8D8AAAAAAADwPwAAAAAAAPA/AAAAAAAA8D8AAAAAAADwPwAAAAAAAPA/AAAAAAAA8D8GAAAgI5cGQAAAAAAAAPA/AAAAAAAA8D8GAAAgI5cGQAAAAAAAAPA/AAAAAAAA8D8AAAAAAADwPwAAAAAAAPA/AAAAAAAA8D8AAAAAAADwPwAAAAAAAPA/AAAAAAAA8D8AAAAAAADwPwAAAAAAAPA/AAAAAAAA8D/9//+fO4UNQAYAACAjlwZAAAAAAAAA8D8AAAAAAADwPwAAAAAAAPA/AAAAAAAA8D8AAAAAAADwPwAAAAAAAPA/AAAAAAAA8D8AAAAAAADwPwAAAAAAAPA/AAAAAAAA8D8AAAAAAADwPwAAAAAAAPA/BgAAICOXBkAAAAAAAADwPwAAAAAAAPA/AAAAAAAA8D8AAAAAAADwPwAAAAAAAPA/AAAAAAAA8D8AAAAAAADwPwAAAAAAAPA/AAAAAAAA8D8AAAAAAADwPwAAAAAAAPA/BgAAgKuRCUAAAAAAAADwPwAAAAAAAPA/AAAAAAAA8D8AAAAAAADwPwAAAAAAAPA/7f//35ev8T8AAAAAAADwPwAAAAAAAPA/AAAAAAAA8D8AAAAAAADwPwAAAAAAAPA/BgAAICOXBkAGAAAgI5cGQAAAAAAAAPA/AAAAAAAA8D8AAAAAAADwPwkAAECRCQhAAAAAAAAA8D8AAAAAAADwPwAAAAAAAPA/AAAAAAAA8D8AAAAAAADwPwAAAAAAAPA/AAAAAAAA8D8AAAAAAADwPwAAAAAAAPA/AAAAAAAA8D8AAAAAAADwPwYAACAjlwZAAAAAAAAA8D8AAAAAAADwPwAAAAAAAPA/AAAAAAAA8D8GAAAgI5cGQAAAAAAAAPA/AAAAAAAA8D8AAAAAAADwPwAAAAAAAPA/AAAAAAAA8D8AAAAAAADwPwYAACAjlwZAAAAAAAAA8D8AAAAAAADwPwYAACAjlwZAAAAAAAAA8D8AAAAAAADwPwYAACAjlwZAAAAAAAAA8D8AAAAAAADwPwAAAAAAAPA/BgAAICOXBkAAAAAAAADwPwAAAAAAAPA/BgAAICOXBkAAAAAAAADwPwAAAAAAAPA/AAAAAAAA8D8AAAAAAADwPwAAAAAAAPA/AAAAAAAA8D8AAAAAAADwP/r//x/sIQpAAAAAAAAA8D8AAAAAAADwPwAAAAAAAPA/AAAAAAAA8D8AAAAAAADwPwAAAAAAAPA/AAAAAAAA8D8AAAAAAADwPwAAAAAAAPA/AAAAAAAA8D8AAAAAAADwPwAAAAAAAPA/AAAAAAAA8D8AAAAAAADwPwAAAAAAAPA/AAAAAAAA8D8AAAAAAADwPwAAAAAAAPA/AAAAAAAA8D/t///fl6/xPwAAAAAAAPA/AAAAAAAA8D8AAAAAAADwPwYAACAjlwZAAAAAAAAA8D8AAAAAAADwPwAAAAAAAPA/AAAAAAAA8D8AAAAAAADwPwAAAAAAAPA/AAAAAAAA8D8GAAAgI5cGQAAAAAAAAPA/AAAAAAAA8D8GAAAgI5cGQAAAAAAAAPA/AAAAAAAA8D8AAAAAAADwPwAAAAAAAPA/AAAAAAAA8D8AAAAAAADwPwYAACAjlwZAAAAAAAAA8D8AAAAAAADwPwAAAAAAAPA/BgAAICOXBkDt///fl6/xPwAAAAAAAPA/AAAAAAAA8D8AAAAAAADwPwAAAAAAAPA/AAAAAAAA8D8AAAAAAADwPwAAAAAAAPA/BgAAICOXBkAAAAAAAADwPwAAAAAAAPA/AAAAAAAA8D8AAAAAAADwPwAAAAAAAPA/AAAAAAAA8D8AAAAAAADwPwAAAAAAAPA/BgAAICOXBkAAAAAAAADwPwAAAAAAAPA/AAAAAAAA8D8AAAAAAADwPwAAAAAAAPA/AAAAAAAA8D8AAAAAAADwPwAAAAAAAPA/AAAAAAAA8D8AAAAAAADwPwAAAAAAAPA/AAAAAAAA8D8AAAAAAADwPwAAAAAAAPA/AAAAAAAA8D8GAAAgI5cGQAAAAAAAAPA/AAAAAAAA8D8AAAAAAADwPwAAAAAAAPA/AAAAAAAA8D8AAAAAAADwPwAAAAAAAPA/AAAAAAAA8D8AAAAAAADwPwAAAAAAAPA/AAAAAAAA8D8AAAAAAADwPwYAACAjlwZAAAAAAAAA8D8AAAAAAADwPwAAAAAAAPA/AAAAAAAA8D8AAAAAAADwPwAAAAAAAPA/AAAAAAAA8D8AAAAAAADwPwAAAAAAAPA/BgAAICOXBkAAAAAAAADwPwAAAAAAAPA/AAAAAAAA8D8AAAAAAADwPwAAAAAAAPA/BgAAICOXBkAAAAAAAADwPwAAAAAAAPA/AAAAAAAA8D8AAAAAAADwPwYAACAjlwZAAAAAAAAA8D8GAAAgI5cGQAAAAAAAAPA/AAAAAAAA8D8AAAAAAADwPwAAAAAAAPA/AAAAAAAA8D8AAAAAAADwPwAAAAAAAPA/AAAAAAAA8D8AAAAAAADwPwAAAAAAAPA/BgAAICOXBkAAAAAAAADwPwAAAAAAAPA/AAAAAAAA8D8AAAAAAADwPwAAAAAAAPA/AAAAAAAA8D8AAAAAAADwPwYAACAjlwZAAAAAAAAA8D8AAAAAAADwPwAAAAAAAPA/AAAAAAAA8D8GAAAgI5cGQAAAAAAAAPA/AAAAAAAA8D8AAAAAAADwPwAAAAAAAPA/AAAAAAAA8D8AAAAAAADwPwAAAAAAAPA/AAAAAAAA8D8AAAAAAADwPwAAAAAAAPA/AAAAAAAA8D8AAAAAAADwPwAAAAAAAPA/BgAAICOXBkAAAAAAAADwPwAAAAAAAPA/AAAAAAAA8D8AAAAAAADwPwAAAAAAAPA/AAAAAAAA8D8AAAAAAADwPwAAAAAAAPA/BgAAICOXBkAAAAAAAADwPwAAAAAAAPA/AAAAAAAA8D8AAAAAAADwPwAAAAAAAPA/AAAAAAAA8D8AAAAAAADwPwAAAAAAAPA/AAAAAAAA8D8AAAAAAADwPwAAAAAAAPA/AAAAAAAA8D8AAAAAAADwPwAAAAAAAPA/BgAAICOXBkAAAAAAAADwPwAAAAAAAPA/AAAAAAAA8D8AAAAAAADwPwAAAAAAAPA/BgAAICOXBkAAAAAAAADwPwAAAAAAAPA/AAAAAAAA8D8AAAAAAADwPwAAAAAAAPA/AAAAAAAA8D8AAAAAAADwPwYAACAjlwZAAAAAAAAA8D8JAABAkQkIQAAAAAAAAPA/AAAAAAAA8D8GAAAgI5cGQAAAAAAAAPA/AAAAAAAA8D8AAAAAAADwPwAAAAAAAPA/AAAAAAAA8D8AAAAAAADwPwAAAAAAAPA/AAAAAAAA8D8AAAAAAADwPwAAAAAAAPA/AAAAAAAA8D8GAAAgI5cGQAAAAAAAAPA/BgAAICOXBkAGAACAq5EJQAAAAAAAAPA/AAAAAAAA8D8AAAAAAADwPwAAAAAAAPA/BgAAICOXBkAAAAAAAADwPwAAAAAAAPA/AAAAAAAA8D8AAAAAAADwPwAAAAAAAPA/AAAAAAAA8D8AAAAAAADwPwAAAAAAAPA/BgAAICOXBkAAAAAAAADwPwAAAAAAAPA/AAAAAAAA8D8AAAAAAADwPwYAACAjlwZAAAAAAAAA8D8AAAAAAADwP/j//9+A+AhAAAAAAAAA8D8AAAAAAADwPwAAAAAAAPA/AAAAAAAA8D8AAAAAAADwPwAAAAAAAPA/AAAAAAAA8D8AAAAAAADwPwAAAAAAAPA/AAAAAAAA8D8GAAAgI5cGQAAAAAAAAPA/AAAAAAAA8D8AAAAAAADwPwAAAAAAAPA/AAAAAAAA8D8AAAAAAADwPwAAAAAAAPA/AAAAAAAA8D8AAAAAAADwPwAAAAAAAPA/AAAAAAAA8D8AAAAAAADwPwAAAAAAAPA/AAAAAAAA8D8AAAAAAADwPwAAAAAAAPA/AAAAAAAA8D8AAAAAAADwPwYAACAjlwZAAAAAAAAA8D8GAAAgI5cGQAAAAAAAAPA/AAAAAAAA8D8GAAAgI5cGQAYAACAjlwZAAAAAAAAA8D8AAAAAAADwPwAAAAAAAPA/AAAAAAAA8D8AAAAAAADwPwAAAAAAAPA/AAAAAAAA8D8AAAAAAADwPwAAAAAAAPA/AAAAAAAA8D8AAAAAAADwPwAAAAAAAPA/AAAAAAAA8D8AAAAAAADwPwAAAAAAAPA/AAAAAAAA8D8AAAAAAADwPwAAAAAAAPA/AAAAAAAA8D8AAAAAAADwPwYAACAjlwZAAAAAAAAA8D8AAAAAAADwPwAAAAAAAPA/7f//35ev8T8GAAAgI5cGQAAAAAAAAPA/AAAAAAAA8D8AAAAAAADwPwAAAAAAAPA/AAAAAAAA8D8AAAAAAADwPwAAAAAAAPA/AAAAAAAA8D8GAAAgI5cGQAYAACAjlwZABgAAICOXBkAAAAAAAADwPwAAAAAAAPA/AAAAAAAA8D8GAAAgI5cGQAAAAAAAAPA/AAAAAAAA8D8AAAAAAADwPwAAAAAAAPA/BgAAICOXBkAAAAAAAADwPwYAACAjlwZAAAAAAAAA8D8AAAAAAADwPwYAACAjlwZAAAAAAAAA8D8AAAAAAADwPwAAAAAAAPA/AAAAAAAA8D8AAAAAAADwPwAAAAAAAPA/AAAAAAAA8D8AAAAAAADwPwAAAAAAAPA/AAAAAAAA8D8GAAAgI5cGQAYAACAjlwZAAAAAAAAA8D8AAAAAAADwPwAAAAAAAPA/AAAAAAAA8D8AAAAAAADwPwAAAAAAAPA/AAAAAAAA8D8AAAAAAADwPwAAAAAAAPA/AAAAAAAA8D8AAAAAAADwPwAAAAAAAPA/AAAAAAAA8D8AAAAAAADwPwAAAAAAAPA/AAAAAAAA8D8AAAAAAADwPwAAAAAAAPA/AAAAAAAA8D8AAAAAAADwPwAAAAAAAPA/AAAAAAAA8D8AAAAAAADwPwAAAAAAAPA/AAAAAAAA8D8AAAAAAADwPwAAAAAAAPA/AAAAAAAA8D8AAAAAAADwPwAAAAAAAPA/BgAAICOXBkAGAAAgI5cGQAAAAAAAAPA/AAAAAAAA8D8AAAAAAADwPwAAAAAAAPA/AAAAAAAA8D8AAAAAAADwPwAAAAAAAPA/AAAAAAAA8D8AAAAAAADwPwAAAAAAAPA/AAAAAAAA8D8AAAAAAADwPwAAAAAAAPA/AAAAAAAA8D8GAAAgI5cGQAAAAAAAAPA/AAAAAAAA8D8AAAAAAADwPwAAAAAAAPA/AAAAAAAA8D8AAAAAAADwPwAAAAAAAPA/AAAAAAAA8D8AAAAAAADwPwAAAAAAAPA/AAAAAAAA8D8AAAAAAADwPwAAAAAAAPA/AAAAAAAA8D8AAAAAAADwPwAAAAAAAPA/AAAAAAAA8D8AAAAAAADwPwAAAAAAAPA/AAAAAAAA8D8AAAAAAADwPwAAAAAAAPA/AwAAIE6+C0AAAAAAAADwPwYAACAjlwZAAAAAAAAA8D8GAAAgI5cGQAAAAAAAAPA/BgAAICOXBkAAAAAAAADwPwAAAAAAAPA/BgAAICOXBkAAAAAAAADwPwAAAAAAAPA/AAAAAAAA8D8AAAAAAADwPwAAAAAAAPA/AAAAAAAA8D8GAAAgI5cGQAAAAAAAAPA/AAAAAAAA8D8AAAAAAADwPwAAAAAAAPA/AAAAAAAA8D8AAAAAAADwPwAAAAAAAPA/AAAAAAAA8D8AAAAAAADwPwAAAAAAAPA/AAAAAAAA8D8AAAAAAADwPwAAAAAAAPA/AAAAAAAA8D8GAAAgI5cGQAAAAAAAAPA/BgAAICOXBkAAAAAAAADwPwYAACAjlwZAAAAAAAAA8D8GAAAgI5cGQAYAACAjlwZAAAAAAAAA8D8AAAAAAADwPwYAACAjlwZAAAAAAAAA8D8GAAAgI5cGQAAAAAAAAPA/AAAAAAAA8D8AAAAAAADwPwAAAAAAAPA/AAAAAAAA8D8AAAAAAADwPwYAACAjlwZAAAAAAAAA8D8AAAAAAADwPwYAACAjlwZAAAAAAAAA8D8AAAAAAADwPwAAAAAAAPA/AAAAAAAA8D8AAAAAAADwPwAAAAAAAPA/AAAAAAAA8D8AAAAAAADwPwAAAAAAAPA/AAAAAAAA8D8GAAAgI5cGQAAAAAAAAPA/AAAAAAAA8D8GAAAgI5cGQAAAAAAAAPA/AAAAAAAA8D8AAAAAAADwPwAAAAAAAPA/AAAAAAAA8D8AAAAAAADwPwAAAAAAAPA/AAAAAAAA8D8AAAAAAADwPwAAAAAAAPA/AAAAAAAA8D8AAAAAAADwPwYAACAjlwZAAAAAAAAA8D8AAAAAAADwPwAAAAAAAPA/AAAAAAAA8D8AAAAAAADwPwAAAAAAAPA/AAAAAAAA8D8AAAAAAADwPwAAAAAAAPA/AAAAAAAA8D8AAAAAAADwPwAAAAAAAPA/AAAAAAAA8D8AAAAAAADwPwAAAAAAAPA/BgAAICOXBkAAAAAAAADwPwYAACAjlwZAAAAAAAAA8D8AAAAAAADwPwAAAAAAAPA/AAAAAAAA8D8AAAAAAADwPwAAAAAAAPA/AAAAAAAA8D8GAAAgI5cGQAAAAAAAAPA/AAAAAAAA8D8AAAAAAADwPwAAAAAAAPA/AAAAAAAA8D8AAAAAAADwPwAAAAAAAPA/BgAAICOXBkAAAAAAAADwPwAAAAAAAPA/AAAAAAAA8D8AAAAAAADwPwAAAAAAAPA/AAAAAAAA8D8GAAAgI5cGQAAAAAAAAPA/AAAAAAAA8D8AAAAAAADwPwAAAAAAAPA/AAAAAAAA8D8AAAAAAADwPwAAAAAAAPA/AAAAAAAA8D8AAAAAAADwPwAAAAAAAPA/AAAAAAAA8D8AAAAAAADwPwAAAAAAAPA/AAAAAAAA8D8AAAAAAADwPwAAAAAAAPA/BgAAICOXBkAAAAAAAADwPwAAAAAAAPA/AAAAAAAA8D8GAAAgI5cGQAAAAAAAAPA/AAAAAAAA8D8AAAAAAADwPwYAACAjlwZAAAAAAAAA8D8AAAAAAADwPwAAAAAAAPA/AAAAAAAA8D8AAAAAAADwPwYAACAjlwZAAAAAAAAA8D8AAAAAAADwPwAAAAAAAPA/AAAAAAAA8D8AAAAAAADwPwAAAAAAAPA/AAAAAAAA8D8AAAAAAADwPwAAAAAAAPA/AAAAAAAA8D8AAAAAAADwPwAAAAAAAPA/AAAAAAAA8D8AAAAAAADwPwAAAAAAAPA/AAAAAAAA8D8AAAAAAADwPwAAAAAAAPA/AAAAAAAA8D8AAAAAAADwPwAAAAAAAPA/AAAAAAAA8D8AAAAAAADwPwAAAAAAAPA/AAAAAAAA8D8AAAAAAADwPwYAACAjlwZAAAAAAAAA8D8AAAAAAADwPwAAAAAAAPA/AAAAAAAA8D8AAAAAAADwPwAAAAAAAPA/AAAAAAAA8D8AAAAAAADwPwYAACAjlwZAAAAAAAAA8D8AAAAAAADwPwAAAAAAAPA/AAAAAAAA8D8AAAAAAADwPwAAAAAAAPA/AAAAAAAA8D8AAAAAAADwPwAAAAAAAPA/AAAAAAAA8D8AAAAAAADwPwAAAAAAAPA/AAAAAAAA8D8AAAAAAADwPwYAACAjlwZAAAAAAAAA8D8AAAAAAADwPwAAAAAAAPA/BgAAICOXBkAAAAAAAADwPwAAAAAAAPA/AAAAAAAA8D8AAAAAAADwPwAAAAAAAPA/AAAAAAAA8D8AAAAAAADwPwAAAAAAAPA/AAAAAAAA8D8GAAAgI5cGQP3//587hQ1AAAAAAAAA8D8AAAAAAADwPwAAAAAAAPA/AAAAAAAA8D8AAAAAAADwPwAAAAAAAPA/AAAAAAAA8D8AAAAAAADwPwYAACAjlwZAAAAAAAAA8D8AAAAAAADwPwAAAAAAAPA/AAAAAAAA8D8AAAAAAADwPwAAAAAAAPA/AAAAAAAA8D8AAAAAAADwPwAAAAAAAPA/AAAAAAAA8D8AAAAAAADwPwYAACAjlwZAAAAAAAAA8D8AAAAAAADwPwAAAAAAAPA/AAAAAAAA8D8AAAAAAADwPwAAAAAAAPA/BgAAICOXBkAAAAAAAADwPwAAAAAAAPA/AAAAAAAA8D8AAAAAAADwPwAAAAAAAPA/AAAAAAAA8D8GAAAgI5cGQAYAACAjlwZAAAAAAAAA8D8AAAAAAADwPwAAAAAAAPA/AAAAAAAA8D8AAAAAAADwPwAAAAAAAPA/AAAAAAAA8D8AAAAAAADwPwAAAAAAAPA/AAAAAAAA8D8AAAAAAADwPwAAAAAAAPA/AAAAAAAA8D8AAAAAAADwPwAAAAAAAPA/AAAAAAAA8D8AAAAAAADwPwAAAAAAAPA/AAAAAAAA8D8AAAAAAADwPwAAAAAAAPA/AAAAAAAA8D8AAAAAAADwPwAAAAAAAPA/AAAAAAAA8D8AAAAAAADwPwAAAAAAAPA/AAAAAAAA8D8GAAAgI5cGQAAAAAAAAPA/AAAAAAAA8D8AAAAAAADwPwAAAAAAAPA/AAAAAAAA8D8AAAAAAADwPwAAAAAAAPA/AAAAAAAA8D8AAAAAAADwPwYAACAjlwZAAAAAAAAA8D8AAAAAAADwPwAAAAAAAPA/AAAAAAAA8D8AAAAAAADwP/j//9+A+AhAAAAAAAAA8D8AAAAAAADwPwYAACAjlwZAAAAAAAAA8D8GAAAgI5cGQAAAAAAAAPA/AAAAAAAA8D8AAAAAAADwPwYAACAjlwZABgAAICOXBkAAAAAAAADwPwAAAAAAAPA/AAAAAAAA8D8AAAAAAADwPwAAAAAAAPA/AAAAAAAA8D8AAAAAAADwPwYAACAjlwZAAAAAAAAA8D8AAAAAAADwPwAAAAAAAPA/AAAAAAAA8D8AAAAAAADwPwAAAAAAAPA/AAAAAAAA8D8AAAAAAADwPwYAACAjlwZAAAAAAAAA8D8AAAAAAADwPwAAAAAAAPA/AAAAAAAA8D8AAAAAAADwPwAAAAAAAPA/AAAAAAAA8D8AAAAAAADwPwYAACAjlwZABgAAICOXBkAAAAAAAADwPwAAAAAAAPA/AAAAAAAA8D8AAAAAAADwPwYAACAjlwZAAAAAAAAA8D8AAAAAAADwPwAAAAAAAPA/AAAAAAAA8D8AAAAAAADwPwAAAAAAAPA/AAAAAAAA8D8AAAAAAADwPwAAAAAAAPA/AAAAAAAA8D8AAAAAAADwPwAAAAAAAPA/AAAAAAAA8D8AAAAAAADwPwAAAAAAAPA/AAAAAAAA8D8AAAAAAADwPwAAAAAAAPA/AAAAAAAA8D8AAAAAAADwPwAAAAAAAPA/BgAAICOXBkAAAAAAAADwPwYAACAjlwZAAAAAAAAA8D8AAAAAAADwPwAAAAAAAPA/AAAAAAAA8D8AAAAAAADwPwAAAAAAAPA/AAAAAAAA8D8AAAAAAADwPwAAAAAAAPA/AAAAAAAA8D8AAAAAAADwPwAAAAAAAPA/AAAAAAAA8D8AAAAAAADwPwAAAAAAAPA/AAAAAAAA8D8AAAAAAADwPwAAAAAAAPA/AAAAAAAA8D8AAAAAAADwPwAAAAAAAPA/AAAAAAAA8D8AAAAAAADwPwYAACAjlwZABgAAICOXBkAGAAAgI5cGQAAAAAAAAPA/AAAAAAAA8D8AAAAAAADwPwAAAAAAAPA/AAAAAAAA8D8GAAAgI5cGQAAAAAAAAPA/AAAAAAAA8D8AAAAAAADwPwAAAAAAAPA/AAAAAAAA8D8AAAAAAADwPwAAAAAAAPA/AAAAAAAA8D8AAAAAAADwPwAAAAAAAPA/AAAAAAAA8D8AAAAAAADwPwAAAAAAAPA/AAAAAAAA8D8AAAAAAADwPwkAAECRCQhAAAAAAAAA8D8GAAAgI5cGQAAAAAAAAPA/AAAAAAAA8D8AAAAAAADwPwAAAAAAAPA/AAAAAAAA8D8AAAAAAADwPwYAACAjlwZAAAAAAAAA8D8AAAAAAADwPwAAAAAAAPA/AAAAAAAA8D8AAAAAAADwPwYAACAjlwZABgAAICOXBkAAAAAAAADwPwAAAAAAAPA/AAAAAAAA8D8AAAAAAADwPwAAAAAAAPA/AAAAAAAA8D8GAAAgI5cGQAAAAAAAAPA/BgAAICOXBkAAAAAAAADwPwAAAAAAAPA/AAAAAAAA8D8AAAAAAADwPwAAAAAAAPA/AAAAAAAA8D8AAAAAAADwPwAAAAAAAPA/AAAAAAAA8D8AAAAAAADwPwAAAAAAAPA/AAAAAAAA8D8AAAAAAADwPwAAAAAAAPA/AAAAAAAA8D8AAAAAAADwPwAAAAAAAPA/AAAAAAAA8D8AAAAAAADwPwAAAAAAAPA/AAAAAAAA8D8AAAAAAADwPwAAAAAAAPA/AAAAAAAA8D8AAAAAAADwPwAAAAAAAPA/AAAAAAAA8D8GAAAgI5cGQAAAAAAAAPA/AAAAAAAA8D8AAAAAAADwPwAAAAAAAPA/AAAAAAAA8D8AAAAAAADwPwAAAAAAAPA/AAAAAAAA8D8AAAAAAADwPwAAAAAAAPA/AAAAAAAA8D8GAAAgI5cGQAAAAAAAAPA/AAAAAAAA8D8AAAAAAADwPwAAAAAAAPA/AAAAAAAA8D8AAAAAAADwPwAAAAAAAPA/AAAAAAAA8D8AAAAAAADwPwAAAAAAAPA/AAAAAAAA8D8AAAAAAADwPwAAAAAAAPA/AAAAAAAA8D8GAAAgI5cGQAAAAAAAAPA/AAAAAAAA8D8IAAAAtCEHQAYAACAjlwZAAAAAAAAA8D8AAAAAAADwPwAAAAAAAPA/AAAAAAAA8D8AAAAAAADwPwAAAAAAAPA/AAAAAAAA8D8GAAAgI5cGQAAAAAAAAPA/AAAAAAAA8D8AAAAAAADwPwAAAAAAAPA/AAAAAAAA8D8AAAAAAADwPwAAAAAAAPA/AAAAAAAA8D8AAAAAAADwPwAAAAAAAPA/7f//35ev8T8GAAAgI5cGQAAAAAAAAPA/AAAAAAAA8D8AAAAAAADwPwAAAAAAAPA/AAAAAAAA8D8AAAAAAADwPwAAAAAAAPA/AAAAAAAA8D8AAAAAAADwPwAAAAAAAPA/AAAAAAAA8D8GAAAgI5cGQAAAAAAAAPA/AAAAAAAA8D8AAAAAAADwPwAAAAAAAPA/AAAAAAAA8D8AAAAAAADwPwAAAAAAAPA/AAAAAAAA8D8AAAAAAADwPwAAAAAAAPA/AAAAAAAA8D8AAAAAAADwPwAAAAAAAPA/AAAAAAAA8D8AAAAAAADwPwAAAAAAAPA/AAAAAAAA8D8AAAAAAADwPwAAAAAAAPA/AAAAAAAA8D8AAAAAAADwPwAAAAAAAPA/AAAAAAAA8D8AAAAAAADwPwYAACAjlwZAAAAAAAAA8D8AAAAAAADwPwAAAAAAAPA/AAAAAAAA8D8AAAAAAADwPwAAAAAAAPA/AAAAAAAA8D8AAAAAAADwPwAAAAAAAPA/AAAAAAAA8D8AAAAAAADwPwAAAAAAAPA/AAAAAAAA8D8AAAAAAADwPwAAAAAAAPA/AAAAAAAA8D8AAAAAAADwPwAAAAAAAPA/AAAAAAAA8D8AAAAAAADwPwAAAAAAAPA/AAAAAAAA8D8AAAAAAADwPwAAAAAAAPA/AAAAAAAA8D8AAAAAAADwPwAAAAAAAPA/BgAAICOXBkAAAAAAAADwPwAAAAAAAPA/AAAAAAAA8D8AAAAAAADwPwAAAAAAAPA/AAAAAAAA8D8AAAAAAADwPwAAAAAAAPA/AAAAAAAA8D8AAAAAAADwPwYAACAjlwZAAAAAAAAA8D8AAAAAAADwPwAAAAAAAPA/AAAAAAAA8D8AAAAAAADwPwAAAAAAAPA/AAAAAAAA8D8AAAAAAADwPwAAAAAAAPA/+P//XzSkB0AAAAAAAADwPwAAAAAAAPA/AAAAAAAA8D8AAAAAAADwPwAAAAAAAPA/AAAAAAAA8D8AAAAAAADwPwAAAAAAAPA/AAAAAAAA8D8AAAAAAADwPwAAAAAAAPA/AAAAAAAA8D8AAAAAAADwPwAAAAAAAPA/BgAAICOXBkAAAAAAAADwPwYAACAjlwZAAAAAAAAA8D8AAAAAAADwPwAAAAAAAPA/AAAAAAAA8D8AAAAAAADwPwAAAAAAAPA/AAAAAAAA8D8AAAAAAADwPwAAAAAAAPA/AAAAAAAA8D8AAAAAAADwPwYAACAjlwZAAAAAAAAA8D8AAAAAAADwPwAAAAAAAPA/AAAAAAAA8D8AAAAAAADwPwYAACAjlwZAAAAAAAAA8D8AAAAAAADwPwAAAAAAAPA/AAAAAAAA8D8AAAAAAADwPwAAAAAAAPA/AAAAAAAA8D8AAAAAAADwPwAAAAAAAPA/AAAAAAAA8D8AAAAAAADwPwAAAAAAAPA/BgAAICOXBkAAAAAAAADwPwAAAAAAAPA/AAAAAAAA8D8AAAAAAADwPwAAAAAAAPA/BgAAICOXBkAAAAAAAADwPwAAAAAAAPA/AAAAAAAA8D8AAAAAAADwPwAAAAAAAPA/AAAAAAAA8D8GAAAgI5cGQAAAAAAAAPA/BgAAICOXBkAAAAAAAADwPwAAAAAAAPA/AAAAAAAA8D8AAAAAAADwPwAAAAAAAPA/AAAAAAAA8D8GAAAgI5cGQAAAAAAAAPA/AAAAAAAA8D8GAAAgI5cGQAAAAAAAAPA/AAAAAAAA8D8AAAAAAADwPwAAAAAAAPA/AAAAAAAA8D8GAAAgI5cGQAYAACAjlwZAAAAAAAAA8D8AAAAAAADwPwAAAAAAAPA/AAAAAAAA8D8AAAAAAADwPwYAACAjlwZAAAAAAAAA8D8AAAAAAADwPwAAAAAAAPA/AAAAAAAA8D8AAAAAAADwPwAAAAAAAPA/AAAAAAAA8D8AAAAAAADwPwAAAAAAAPA/BgAAICOXBkAAAAAAAADwPwAAAAAAAPA/AAAAAAAA8D8AAAAAAADwPwAAAAAAAPA/AAAAAAAA8D8GAAAgI5cGQAAAAAAAAPA/AAAAAAAA8D8AAAAAAADwPwAAAAAAAPA/AAAAAAAA8D8AAAAAAADwPwAAAAAAAPA/AAAAAAAA8D8GAAAgI5cGQAYAACAjlwZAAAAAAAAA8D8AAAAAAADwPwAAAAAAAPA/AAAAAAAA8D8GAAAgI5cGQO3//9+Xr/E/AAAAAAAA8D8AAAAAAADwPwYAACAjlwZABgAAICOXBkAAAAAAAADwPwAAAAAAAPA/AAAAAAAA8D8AAAAAAADwPwAAAAAAAPA/AAAAAAAA8D8AAAAAAADwPwAAAAAAAPA/AAAAAAAA8D8AAAAAAADwPwYAACAjlwZA7f//35ev8T8AAAAAAADwPwAAAAAAAPA/AAAAAAAA8D8AAAAAAADwPwAAAAAAAPA/AAAAAAAA8D8AAAAAAADwPwYAACAjlwZAAAAAAAAA8D8AAAAAAADwPwAAAAAAAPA/AAAAAAAA8D8AAAAAAADwPwAAAAAAAPA/AAAAAAAA8D8AAAAAAADwPwAAAAAAAPA/AAAAAAAA8D8AAAAAAADwPwAAAAAAAPA/AAAAAAAA8D8AAAAAAADwPwAAAAAAAPA/AAAAAAAA8D8AAAAAAADwPwAAAAAAAPA/AAAAAAAA8D8AAAAAAADwPwAAAAAAAPA/AAAAAAAA8D8AAAAAAADwPwAAAAAAAPA/AAAAAAAA8D8AAAAAAADwPwAAAAAAAPA/AAAAAAAA8D8AAAAAAADwPwAAAAAAAPA/AAAAAAAA8D8AAAAAAADwPwAAAAAAAPA/BgAAICOXBkAAAAAAAADwPwAAAAAAAPA/AAAAAAAA8D8AAAAAAADwPwAAAAAAAPA/AAAAAAAA8D8AAAAAAADwPwAAAAAAAPA/AAAAAAAA8D8AAAAAAADwPwAAAAAAAPA/AAAAAAAA8D8AAAAAAADwPwAAAAAAAPA/AAAAAAAA8D8AAAAAAADwPwAAAAAAAPA/AAAAAAAA8D8AAAAAAADwPwAAAAAAAPA/AAAAAAAA8D8AAAAAAADwPwAAAAAAAPA/AAAAAAAA8D8GAAAgI5cGQAAAAAAAAPA/AAAAAAAA8D8AAAAAAADwPwAAAAAAAPA/AAAAAAAA8D8AAAAAAADwPwAAAAAAAPA/AAAAAAAA8D8GAAAgI5cGQAAAAAAAAPA/AAAAAAAA8D8GAAAgI5cGQAAAAAAAAPA/AAAAAAAA8D8GAAAgI5cGQAYAACAjlwZAAAAAAAAA8D8AAAAAAADwPwAAAAAAAPA/AAAAAAAA8D8GAAAgI5cGQAYAACAjlwZAAAAAAAAA8D8AAAAAAADwPwYAACAjlwZAAAAAAAAA8D8AAAAAAADwPwAAAAAAAPA/AAAAAAAA8D8AAAAAAADwPwAAAAAAAPA/AAAAAAAA8D8AAAAAAADwPwAAAAAAAPA/AAAAAAAA8D8AAAAAAADwPwAAAAAAAPA/BgAAICOXBkAAAAAAAADwPwAAAAAAAPA/AAAAAAAA8D8AAAAAAADwPwAAAAAAAPA/AAAAAAAA8D8GAAAgI5cGQAAAAAAAAPA/AAAAAAAA8D8AAAAAAADwPwAAAAAAAPA/AAAAAAAA8D8AAAAAAADwPwAAAAAAAPA/AAAAAAAA8D8AAAAAAADwPwAAAAAAAPA/AAAAAAAA8D8GAAAgI5cGQAAAAAAAAPA/AAAAAAAA8D8AAAAAAADwPwYAACAjlwZABgAAICOXBkAAAAAAAADwPwAAAAAAAPA/AAAAAAAA8D8AAAAAAADwPwAAAAAAAPA/BgAAICOXBkAAAAAAAADwPwAAAAAAAPA/AAAAAAAA8D8AAAAAAADwPwAAAAAAAPA/AAAAAAAA8D8AAAAAAADwPwAAAAAAAPA/AAAAAAAA8D8AAAAAAADwPwAAAAAAAPA/BgAAICOXBkAAAAAAAADwPwAAAAAAAPA/BgAAICOXBkAAAAAAAADwPwAAAAAAAPA/AAAAAAAA8D8AAAAAAADwPwAAAAAAAPA/AAAAAAAA8D8AAAAAAADwPwAAAAAAAPA/AAAAAAAA8D8AAAAAAADwP/j//9+A+AhAAAAAAAAA8D8AAAAAAADwPwAAAAAAAPA/AAAAAAAA8D8AAAAAAADwPwAAAAAAAPA/AAAAAAAA8D8AAAAAAADwPwYAACAjlwZAAAAAAAAA8D8AAAAAAADwPwAAAAAAAPA/AAAAAAAA8D8AAAAAAADwPwAAAAAAAPA/AAAAAAAA8D8AAAAAAADwPwAAAAAAAPA/AAAAAAAA8D8AAAAAAADwPwYAACAjlwZAAAAAAAAA8D8AAAAAAADwPwAAAAAAAPA/AAAAAAAA8D8AAAAAAADwPwAAAAAAAPA/AAAAAAAA8D8AAAAAAADwPwAAAAAAAPA/AAAAAAAA8D8AAAAAAADwPwAAAAAAAPA/AAAAAAAA8D8AAAAAAADwPwAAAAAAAPA/AAAAAAAA8D8AAAAAAADwPwAAAAAAAPA/AAAAAAAA8D8AAAAAAADwPwAAAAAAAPA/AAAAAAAA8D8AAAAAAADwPwAAAAAAAPA/AAAAAAAA8D8GAAAgI5cGQPj//9+A+AhAAAAAAAAA8D8AAAAAAADwPwAAAAAAAPA/AAAAAAAA8D8AAAAAAADwPwAAAAAAAPA/AAAAAAAA8D8AAAAAAADwPwAAAAAAAPA/BgAAICOXBkAAAAAAAADwP/j//9+A+AhAAAAAAAAA8D8AAAAAAADwPwYAACAjlwZAAAAAAAAA8D8GAAAgI5cGQAAAAAAAAPA/AAAAAAAA8D8AAAAAAADwPwAAAAAAAPA/AAAAAAAA8D8AAAAAAADwPwAAAAAAAPA/BgAAICOXBkAGAAAgI5cGQAYAACAjlwZAAAAAAAAA8D8AAAAAAADwPwAAAAAAAPA/AAAAAAAA8D8AAAAAAADwPwAAAAAAAPA/AAAAAAAA8D8AAAAAAADwPwAAAAAAAPA/AAAAAAAA8D8AAAAAAADwPwAAAAAAAPA/BgAAICOXBkAIAAAAtCEHQAAAAAAAAPA/BgAAICOXBkAGAAAgI5cGQAYAACAjlwZAAAAAAAAA8D8AAAAAAADwPwAAAAAAAPA/AAAAAAAA8D8AAAAAAADwPwAAAAAAAPA/AAAAAAAA8D8AAAAAAADwPwAAAAAAAPA/AAAAAAAA8D8AAAAAAADwPwAAAAAAAPA/AAAAAAAA8D8GAAAgI5cGQAAAAAAAAPA/AAAAAAAA8D8AAAAAAADwPwAAAAAAAPA/AAAAAAAA8D8AAAAAAADwPwAAAAAAAPA/AAAAAAAA8D8AAAAAAADwPwAAAAAAAPA/AAAAAAAA8D8GAAAgI5cGQAAAAAAAAPA/AAAAAAAA8D8AAAAAAADwPwAAAAAAAPA/AAAAAAAA8D8AAAAAAADwPwAAAAAAAPA/BgAAICOXBkAAAAAAAADwPwAAAAAAAPA/BgAAICOXBkAAAAAAAADwPwAAAAAAAPA/AAAAAAAA8D8AAAAAAADwPwAAAAAAAPA/AAAAAAAA8D8AAAAAAADwPwYAACAjlwZAAAAAAAAA8D8GAAAgI5cGQAAAAAAAAPA/AAAAAAAA8D/4///fgPgIQAAAAAAAAPA/AAAAAAAA8D8AAAAAAADwPwAAAAAAAPA/AAAAAAAA8D8AAAAAAADwPwAAAAAAAPA/AAAAAAAA8D8AAAAAAADwPwAAAAAAAPA/AAAAAAAA8D8AAAAAAADwPwAAAAAAAPA/BgAAICOXBkAAAAAAAADwPwYAACAjlwZAAAAAAAAA8D8AAAAAAADwPwAAAAAAAPA/AAAAAAAA8D8AAAAAAADwPwAAAAAAAPA/AAAAAAAA8D8AAAAAAADwPwAAAAAAAPA/AAAAAAAA8D8AAAAAAADwPwYAACAjlwZAAAAAAAAA8D8AAAAAAADwPwAAAAAAAPA/BgAAICOXBkD4///fgPgIQAAAAAAAAPA/BgAAICOXBkAAAAAAAADwPwAAAAAAAPA/AAAAAAAA8D8AAAAAAADwPwAAAAAAAPA/BgAAICOXBkAGAAAgI5cGQAAAAAAAAPA/AAAAAAAA8D8AAAAAAADwPwAAAAAAAPA/AAAAAAAA8D8AAAAAAADwPwAAAAAAAPA/AAAAAAAA8D8AAAAAAADwPwYAACAjlwZAAAAAAAAA8D8GAAAgI5cGQAAAAAAAAPA/AAAAAAAA8D8AAAAAAADwPwAAAAAAAPA/AAAAAAAA8D8AAAAAAADwPwAAAAAAAPA/AAAAAAAA8D8AAAAAAADwPwAAAAAAAPA/AAAAAAAA8D8AAAAAAADwP+3//9+Xr/E/AAAAAAAA8D8AAAAAAADwPwAAAAAAAPA/AAAAAAAA8D8AAAAAAADwPwAAAAAAAPA/AAAAAAAA8D8AAAAAAADwPwAAAAAAAPA/AAAAAAAA8D8AAAAAAADwPwAAAAAAAPA/AAAAAAAA8D8AAAAAAADwPwAAAAAAAPA/AAAAAAAA8D8GAAAgI5cGQAAAAAAAAPA/AAAAAAAA8D8AAAAAAADwPwAAAAAAAPA/AAAAAAAA8D8AAAAAAADwPwAAAAAAAPA/AAAAAAAA8D8AAAAAAADwPwAAAAAAAPA/AAAAAAAA8D8GAAAgI5cGQAAAAAAAAPA/AAAAAAAA8D8AAAAAAADwPwAAAAAAAPA/AAAAAAAA8D8AAAAAAADwPwAAAAAAAPA/AAAAAAAA8D8AAAAAAADwPwAAAAAAAPA/AAAAAAAA8D8GAAAgI5cGQAAAAAAAAPA/AAAAAAAA8D8AAAAAAADwPwAAAAAAAPA/AAAAAAAA8D8AAAAAAADwPwYAACAjlwZABgAAICOXBkAAAAAAAADwPwAAAAAAAPA/AAAAAAAA8D8AAAAAAADwPwAAAAAAAPA/AAAAAAAA8D8AAAAAAADwPwAAAAAAAPA/AAAAAAAA8D8AAAAAAADwPwAAAAAAAPA/AAAAAAAA8D8AAAAAAADwPwAAAAAAAPA/AAAAAAAA8D8AAAAAAADwPwAAAAAAAPA/AAAAAAAA8D8AAAAAAADwPwAAAAAAAPA/AAAAAAAA8D8GAAAgI5cGQAAAAAAAAPA/AAAAAAAA8D8AAAAAAADwPwAAAAAAAPA/AAAAAAAA8D8AAAAAAADwPwAAAAAAAPA/AAAAAAAA8D8GAAAgI5cGQAYAACAjlwZAAAAAAAAA8D8AAAAAAADwPwAAAAAAAPA/AAAAAAAA8D8GAAAgI5cGQAAAAAAAAPA/AAAAAAAA8D8AAAAAAADwPwYAACAjlwZABgAAICOXBkAAAAAAAADwPwYAACAjlwZAAAAAAAAA8D8AAAAAAADwPwAAAAAAAPA/AAAAAAAA8D8AAAAAAADwPwAAAAAAAPA/AAAAAAAA8D8AAAAAAADwPwAAAAAAAPA/BgAAICOXBkAAAAAAAADwPwAAAAAAAPA/AAAAAAAA8D8AAAAAAADwPwAAAAAAAPA/AAAAAAAA8D8AAAAAAADwPwAAAAAAAPA/BgAAICOXBkAAAAAAAADwPwAAAAAAAPA/AAAAAAAA8D8GAAAgI5cGQAAAAAAAAPA/AAAAAAAA8D8AAAAAAADwPwAAAAAAAPA/AAAAAAAA8D8AAAAAAADwPwAAAAAAAPA/AAAAAAAA8D8AAAAAAADwPwAAAAAAAPA/AAAAAAAA8D8AAAAAAADwPwAAAAAAAPA/AAAAAAAA8D8GAAAgI5cGQAAAAAAAAPA/AAAAAAAA8D8AAAAAAADwPwAAAAAAAPA/AAAAAAAA8D8AAAAAAADwPwYAACAjlwZAAAAAAAAA8D8AAAAAAADwPwAAAAAAAPA/AAAAAAAA8D8AAAAAAADwPwAAAAAAAPA/AAAAAAAA8D8AAAAAAADwPwYAACAjlwZAAAAAAAAA8D8AAAAAAADwPwYAACAjlwZAAAAAAAAA8D8AAAAAAADwPwAAAAAAAPA/AAAAAAAA8D8GAAAgI5cGQAAAAAAAAPA/AAAAAAAA8D8AAAAAAADwPwAAAAAAAPA/AAAAAAAA8D8AAAAAAADwPwAAAAAAAPA/AAAAAAAA8D8AAAAAAADwPwAAAAAAAPA/BgAAICOXBkAAAAAAAADwPwYAACAjlwZAAAAAAAAA8D8GAAAgI5cGQAAAAAAAAPA/BgAAICOXBkAAAAAAAADwPwAAAAAAAPA/AAAAAAAA8D8AAAAAAADwPwAAAAAAAPA/AAAAAAAA8D8AAAAAAADwPwAAAAAAAPA/AAAAAAAA8D8AAAAAAADwPwAAAAAAAPA/AAAAAAAA8D8AAAAAAADwPwAAAAAAAPA/AAAAAAAA8D8AAAAAAADwPwAAAAAAAPA/BgAAICOXBkAAAAAAAADwPwAAAAAAAPA/AAAAAAAA8D8AAAAAAADwPwYAACAjlwZAAAAAAAAA8D8AAAAAAADwPwAAAAAAAPA/AAAAAAAA8D8AAAAAAADwPwAAAAAAAPA/AAAAAAAA8D8AAAAAAADwPwAAAAAAAPA/AAAAAAAA8D8AAAAAAADwPwAAAAAAAPA/AAAAAAAA8D8AAAAAAADwPwAAAAAAAPA/AAAAAAAA8D8AAAAAAADwPwAAAAAAAPA/AAAAAAAA8D8AAAAAAADwPwAAAAAAAPA/AAAAAAAA8D8AAAAAAADwPwAAAAAAAPA/AAAAAAAA8D8AAAAAAADwPwAAAAAAAPA/AAAAAAAA8D8GAAAgI5cGQAYAACAjlwZAAAAAAAAA8D8GAAAgI5cGQAAAAAAAAPA/AAAAAAAA8D8AAAAAAADwPwAAAAAAAPA/AAAAAAAA8D8AAAAAAADwPwAAAAAAAPA/BgAAICOXBkAAAAAAAADwPwAAAAAAAPA/AAAAAAAA8D8AAAAAAADwPwAAAAAAAPA/AAAAAAAA8D8AAAAAAADwPwYAACAjlwZAAAAAAAAA8D8AAAAAAADwPwYAACAjlwZAAAAAAAAA8D8AAAAAAADwPwAAAAAAAPA/AAAAAAAA8D8AAAAAAADwPwAAAAAAAPA/AAAAAAAA8D8AAAAAAADwPwAAAAAAAPA/AAAAAAAA8D8AAAAAAADwPwAAAAAAAPA/AAAAAAAA8D8AAAAAAADwPwAAAAAAAPA/AAAAAAAA8D8AAAAAAADwPwAAAAAAAPA/AAAAAAAA8D8AAAAAAADwPwAAAAAAAPA/AAAAAAAA8D8AAAAAAADwPwAAAAAAAPA/AAAAAAAA8D8AAAAAAADwPwAAAAAAAPA/AAAAAAAA8D8AAAAAAADwPwAAAAAAAPA/AAAAAAAA8D8AAAAAAADwPwAAAAAAAPA/AAAAAAAA8D8AAAAAAADwPwAAAAAAAPA/AAAAAAAA8D8AAAAAAADwPwgAAAC0IQdAAAAAAAAA8D8AAAAAAADwPwAAAAAAAPA/AAAAAAAA8D8AAAAAAADwPwAAAAAAAPA/AAAAAAAA8D8AAAAAAADwPwAAAAAAAPA/AAAAAAAA8D8AAAAAAADwPwAAAAAAAPA/AAAAAAAA8D8AAAAAAADwPwAAAAAAAPA/AAAAAAAA8D8AAAAAAADwPwYAACAjlwZABgAAICOXBkAAAAAAAADwP/j//9+A+AhAAAAAAAAA8D8GAAAgI5cGQAAAAAAAAPA/AAAAAAAA8D8AAAAAAADwPwAAAAAAAPA/AAAAAAAA8D8AAAAAAADwPwAAAAAAAPA/AAAAAAAA8D8AAAAAAADwPwAAAAAAAPA/AAAAAAAA8D8GAAAgI5cGQAAAAAAAAPA/AAAAAAAA8D8AAAAAAADwPwAAAAAAAPA/AAAAAAAA8D8AAAAAAADwPwAAAAAAAPA/AAAAAAAA8D8AAAAAAADwPwAAAAAAAPA/AAAAAAAA8D8AAAAAAADwPwAAAAAAAPA/AAAAAAAA8D8AAAAAAADwPwAAAAAAAPA/AAAAAAAA8D8AAAAAAADwPwAAAAAAAPA/AAAAAAAA8D8AAAAAAADwPwAAAAAAAPA/AAAAAAAA8D8AAAAAAADwPwAAAAAAAPA/AAAAAAAA8D8AAAAAAADwPwAAAAAAAPA/AAAAAAAA8D8AAAAAAADwPwAAAAAAAPA/BgAAICOXBkAGAAAgI5cGQAAAAAAAAPA/BgAAICOXBkAAAAAAAADwPwAAAAAAAPA/AAAAAAAA8D8AAAAAAADwPwYAACAjlwZAAAAAAAAA8D8AAAAAAADwPwAAAAAAAPA/AAAAAAAA8D8GAAAgI5cGQAAAAAAAAPA/AAAAAAAA8D8AAAAAAADwPwAAAAAAAPA/AAAAAAAA8D8AAAAAAADwPwAAAAAAAPA/AAAAAAAA8D8AAAAAAADwPwAAAAAAAPA/AAAAAAAA8D8AAAAAAADwPwAAAAAAAPA/AAAAAAAA8D8GAAAgI5cGQAAAAAAAAPA/AAAAAAAA8D8GAAAgI5cGQAYAACAjlwZAAAAAAAAA8D8AAAAAAADwPwAAAAAAAPA/AAAAAAAA8D8AAAAAAADwPwAAAAAAAPA/AAAAAAAA8D8GAAAgI5cGQAAAAAAAAPA/AAAAAAAA8D8AAAAAAADwPwAAAAAAAPA/AAAAAAAA8D8AAAAAAADwPwAAAAAAAPA/AAAAAAAA8D8AAAAAAADwP/j//9+A+AhAAAAAAAAA8D8AAAAAAADwPwAAAAAAAPA/AAAAAAAA8D8AAAAAAADwPwYAACAjlwZAAAAAAAAA8D8AAAAAAADwPwYAACAjlwZAAAAAAAAA8D8AAAAAAADwPwAAAAAAAPA/AAAAAAAA8D8AAAAAAADwPwAAAAAAAPA/AAAAAAAA8D8AAAAAAADwPwAAAAAAAPA/BgAAICOXBkAAAAAAAADwPwAAAAAAAPA/AAAAAAAA8D8AAAAAAADwP/j//9+A+AhAAAAAAAAA8D8GAAAgI5cGQAAAAAAAAPA/AAAAAAAA8D8AAAAAAADwPwAAAAAAAPA/AAAAAAAA8D8AAAAAAADwPwAAAAAAAPA/AAAAAAAA8D8GAAAgI5cGQAAAAAAAAPA/AAAAAAAA8D8AAAAAAADwPwAAAAAAAPA/AAAAAAAA8D8AAAAAAADwPwAAAAAAAPA/AAAAAAAA8D8GAAAgI5cGQAYAACAjlwZAAAAAAAAA8D8AAAAAAADwPwAAAAAAAPA/AAAAAAAA8D8AAAAAAADwPwAAAAAAAPA/AAAAAAAA8D8AAAAAAADwPwAAAAAAAPA/AAAAAAAA8D8GAAAgI5cGQAAAAAAAAPA/AAAAAAAA8D8AAAAAAADwPwAAAAAAAPA/AAAAAAAA8D8AAAAAAADwPwYAACAjlwZAAAAAAAAA8D8AAAAAAADwPwAAAAAAAPA/AAAAAAAA8D8AAAAAAADwPwAAAAAAAPA/AAAAAAAA8D8AAAAAAADwPwAAAAAAAPA/AAAAAAAA8D8AAAAAAADwPwAAAAAAAPA/BgAAICOXBkAAAAAAAADwPwAAAAAAAPA/AAAAAAAA8D8AAAAAAADwPwAAAAAAAPA/AAAAAAAA8D8AAAAAAADwPwAAAAAAAPA/AAAAAAAA8D8AAAAAAADwPwAAAAAAAPA/AAAAAAAA8D8AAAAAAADwPwAAAAAAAPA/AAAAAAAA8D8AAAAAAADwPwYAACAjlwZAAAAAAAAA8D8GAAAgI5cGQAAAAAAAAPA/AAAAAAAA8D8AAAAAAADwPwAAAAAAAPA/BgAAICOXBkAAAAAAAADwPwAAAAAAAPA/AAAAAAAA8D8AAAAAAADwPwAAAAAAAPA/BgAAICOXBkAAAAAAAADwPwAAAAAAAPA/BgAAICOXBkAAAAAAAADwPwAAAAAAAPA/AAAAAAAA8D8AAAAAAADwPwAAAAAAAPA/AAAAAAAA8D8AAAAAAADwPwAAAAAAAPA/AAAAAAAA8D8AAAAAAADwPwAAAAAAAPA/+P//34D4CEAAAAAAAADwPwAAAAAAAPA/AAAAAAAA8D8AAAAAAADwPwAAAAAAAPA/AAAAAAAA8D8GAAAgI5cGQAYAACAjlwZAAAAAAAAA8D8AAAAAAADwPwAAAAAAAPA/AAAAAAAA8D8AAAAAAADwPwAAAAAAAPA/AAAAAAAA8D8AAAAAAADwPwAAAAAAAPA/AAAAAAAA8D8AAAAAAADwPwAAAAAAAPA/BgAAICOXBkAAAAAAAADwPwAAAAAAAPA/AAAAAAAA8D8GAAAgI5cGQAYAACAjlwZABgAAICOXBkAAAAAAAADwPwYAACAjlwZAAAAAAAAA8D8AAAAAAADwPwAAAAAAAPA/AAAAAAAA8D8AAAAAAADwPwAAAAAAAPA/AAAAAAAA8D8AAAAAAADwPwAAAAAAAPA/AAAAAAAA8D8AAAAAAADwPwAAAAAAAPA/BgAAICOXBkAAAAAAAADwPwAAAAAAAPA/AAAAAAAA8D8GAAAgI5cGQAAAAAAAAPA/AAAAAAAA8D/4///fgPgIQAAAAAAAAPA/AAAAAAAA8D8AAAAAAADwPwAAAAAAAPA/AAAAAAAA8D8GAAAgI5cGQAAAAAAAAPA/AAAAAAAA8D8AAAAAAADwPwAAAAAAAPA/AAAAAAAA8D8AAAAAAADwPwYAACAjlwZABgAAICOXBkAAAAAAAADwPwYAACAjlwZAAAAAAAAA8D8AAAAAAADwPwAAAAAAAPA/AAAAAAAA8D8GAAAgI5cGQAAAAAAAAPA/AAAAAAAA8D8AAAAAAADwPwAAAAAAAPA/AAAAAAAA8D8AAAAAAADwPwAAAAAAAPA/AAAAAAAA8D8AAAAAAADwPwAAAAAAAPA/AAAAAAAA8D8AAAAAAADwPwAAAAAAAPA/AAAAAAAA8D8AAAAAAADwPwAAAAAAAPA/AAAAAAAA8D8AAAAAAADwPwAAAAAAAPA/AAAAAAAA8D8AAAAAAADwPwAAAAAAAPA/AAAAAAAA8D8AAAAAAADwPwAAAAAAAPA/AAAAAAAA8D8AAAAAAADwPwAAAAAAAPA/BgAAICOXBkAAAAAAAADwPwAAAAAAAPA/AAAAAAAA8D8AAAAAAADwPwAAAAAAAPA/AAAAAAAA8D8AAAAAAADwPwAAAAAAAPA/BgAAICOXBkAAAAAAAADwPwAAAAAAAPA/AAAAAAAA8D8GAAAgI5cGQAAAAAAAAPA/AAAAAAAA8D8GAAAgI5cGQAAAAAAAAPA/AAAAAAAA8D8AAAAAAADwPwAAAAAAAPA/AAAAAAAA8D8AAAAAAADwPwAAAAAAAPA/AAAAAAAA8D8AAAAAAADwPwAAAAAAAPA/AAAAAAAA8D8AAAAAAADwPwAAAAAAAPA/AAAAAAAA8D8AAAAAAADwPwYAACAjlwZAAAAAAAAA8D8AAAAAAADwPwYAACAjlwZAAAAAAAAA8D8AAAAAAADwPwAAAAAAAPA/AAAAAAAA8D8AAAAAAADwPwAAAAAAAPA/AAAAAAAA8D8AAAAAAADwPwAAAAAAAPA/BgAAICOXBkAAAAAAAADwPwAAAAAAAPA/AAAAAAAA8D8AAAAAAADwPwYAACAjlwZAAAAAAAAA8D8AAAAAAADwPwAAAAAAAPA/AAAAAAAA8D8AAAAAAADwPwAAAAAAAPA/AAAAAAAA8D8AAAAAAADwPwAAAAAAAPA/AAAAAAAA8D8AAAAAAADwPwYAACAjlwZAAAAAAAAA8D8AAAAAAADwPwAAAAAAAPA/AAAAAAAA8D8AAAAAAADwPwAAAAAAAPA/BgAAICOXBkAAAAAAAADwPwAAAAAAAPA/AAAAAAAA8D8AAAAAAADwPwAAAAAAAPA/AAAAAAAA8D8AAAAAAADwPwYAACAjlwZAAAAAAAAA8D8GAAAgI5cGQAAAAAAAAPA/AAAAAAAA8D8AAAAAAADwPwAAAAAAAPA/AAAAAAAA8D8AAAAAAADwPwAAAAAAAPA/AAAAAAAA8D8AAAAAAADwPwAAAAAAAPA/AAAAAAAA8D8AAAAAAADwPwAAAAAAAPA/AAAAAAAA8D8JAABAkQkIQAAAAAAAAPA/AAAAAAAA8D8AAAAAAADwPwAAAAAAAPA/AAAAAAAA8D8GAAAgI5cGQAAAAAAAAPA/BgAAICOXBkAGAAAgI5cGQAYAACAjlwZAAAAAAAAA8D8AAAAAAADwPwAAAAAAAPA/AAAAAAAA8D8AAAAAAADwPwYAACAjlwZAAAAAAAAA8D8AAAAAAADwPwAAAAAAAPA/AAAAAAAA8D8AAAAAAADwPwAAAAAAAPA/AAAAAAAA8D8AAAAAAADwPwAAAAAAAPA/AAAAAAAA8D8AAAAAAADwPwYAACAjlwZAAAAAAAAA8D8AAAAAAADwPwYAACAjlwZAAAAAAAAA8D8AAAAAAADwPwAAAAAAAPA/BgAAICOXBkAAAAAAAADwPwAAAAAAAPA/AAAAAAAA8D8AAAAAAADwPwAAAAAAAPA/AAAAAAAA8D8AAAAAAADwPwAAAAAAAPA/BgAAICOXBkAAAAAAAADwPwAAAAAAAPA/AAAAAAAA8D8AAAAAAADwPwAAAAAAAPA/AAAAAAAA8D8AAAAAAADwPwAAAAAAAPA/AAAAAAAA8D8AAAAAAADwPwAAAAAAAPA/AAAAAAAA8D8AAAAAAADwPwAAAAAAAPA/AAAAAAAA8D8AAAAAAADwPwAAAAAAAPA/BgAAICOXBkAAAAAAAADwPwAAAAAAAPA/AAAAAAAA8D8GAAAgI5cGQPj//9+A+AhAAAAAAAAA8D8AAAAAAADwPwAAAAAAAPA/AAAAAAAA8D8AAAAAAADwPwAAAAAAAPA/BgAAICOXBkAAAAAAAADwPwAAAAAAAPA/AAAAAAAA8D8AAAAAAADwPwYAACAjlwZAAAAAAAAA8D8GAAAgI5cGQAAAAAAAAPA/AAAAAAAA8D8AAAAAAADwPwAAAAAAAPA/AAAAAAAA8D8AAAAAAADwPwAAAAAAAPA/AAAAAAAA8D8AAAAAAADwPwYAACAjlwZAAAAAAAAA8D8AAAAAAADwPwAAAAAAAPA/AAAAAAAA8D8AAAAAAADwPwAAAAAAAPA/AAAAAAAA8D8AAAAAAADwPwAAAAAAAPA/AAAAAAAA8D8AAAAAAADwPwAAAAAAAPA/AAAAAAAA8D8AAAAAAADwPwAAAAAAAPA/AAAAAAAA8D8AAAAAAADwPwAAAAAAAPA/AAAAAAAA8D8AAAAAAADwPwAAAAAAAPA/AAAAAAAA8D8AAAAAAADwPwAAAAAAAPA/AAAAAAAA8D8AAAAAAADwPwAAAAAAAPA/BgAAICOXBkAAAAAAAADwPwAAAAAAAPA/AAAAAAAA8D8AAAAAAADwPwAAAAAAAPA/AAAAAAAA8D8AAAAAAADwPwAAAAAAAPA/AAAAAAAA8D8AAAAAAADwPwAAAAAAAPA/AAAAAAAA8D8AAAAAAADwPwAAAAAAAPA/AAAAAAAA8D8AAAAAAADwPwAAAAAAAPA/AAAAAAAA8D8GAAAgI5cGQAIAACCgJA9AAAAAAAAA8D8GAAAgI5cGQAAAAAAAAPA/BgAAICOXBkAAAAAAAADwPwAAAAAAAPA/AAAAAAAA8D8AAAAAAADwPwAAAAAAAPA/CQAAQJEJCEAAAAAAAADwPwAAAAAAAPA/AAAAAAAA8D8GAAAgI5cGQAAAAAAAAPA/AAAAAAAA8D8AAAAAAADwPwAAAAAAAPA/AAAAAAAA8D8AAAAAAADwPwYAACAjlwZAAAAAAAAA8D8GAAAgI5cGQAAAAAAAAPA/AAAAAAAA8D8AAAAAAADwPwAAAAAAAPA/AAAAAAAA8D8AAAAAAADwPwAAAAAAAPA/AAAAAAAA8D8AAAAAAADwPwYAACAjlwZABgAAICOXBkAGAAAgI5cGQAAAAAAAAPA/AAAAAAAA8D8AAAAAAADwPwAAAAAAAPA/AAAAAAAA8D8AAAAAAADwPwAAAAAAAPA/AAAAAAAA8D8GAAAgI5cGQAAAAAAAAPA/AAAAAAAA8D8AAAAAAADwPwAAAAAAAPA/BgAAICOXBkAAAAAAAADwP/j//9+A+AhAAAAAAAAA8D8AAAAAAADwPwAAAAAAAPA/AAAAAAAA8D8AAAAAAADwPwAAAAAAAPA/AAAAAAAA8D8GAAAgI5cGQAAAAAAAAPA/AAAAAAAA8D8GAAAgI5cGQAAAAAAAAPA/AAAAAAAA8D8GAAAgI5cGQAAAAAAAAPA/AAAAAAAA8D8AAAAAAADwPwAAAAAAAPA/BgAAICOXBkAAAAAAAADwPwYAACAjlwZAAAAAAAAA8D8AAAAAAADwPwAAAAAAAPA/AAAAAAAA8D8AAAAAAADwPwAAAAAAAPA/BgAAICOXBkAAAAAAAADwPwAAAAAAAPA/+P//34D4CEAAAAAAAADwPwAAAAAAAPA/BgAAICOXBkAAAAAAAADwPwYAACAjlwZAAAAAAAAA8D8AAAAAAADwPwAAAAAAAPA/+P//34D4CEAAAAAAAADwPwAAAAAAAPA/AAAAAAAA8D8AAAAAAADwPwAAAAAAAPA/AAAAAAAA8D8AAAAAAADwPwAAAAAAAPA/AAAAAAAA8D8AAAAAAADwPwAAAAAAAPA/BgAAICOXBkAAAAAAAADwPwAAAAAAAPA/BgAAICOXBkAAAAAAAADwPwAAAAAAAPA/AAAAAAAA8D8AAAAAAADwPwAAAAAAAPA/AAAAAAAA8D8GAAAgI5cGQAAAAAAAAPA/AAAAAAAA8D8AAAAAAADwPwAAAAAAAPA/BgAAICOXBkAAAAAAAADwPwAAAAAAAPA/AAAAAAAA8D8AAAAAAADwPwAAAAAAAPA/AAAAAAAA8D8GAAAgI5cGQAAAAAAAAPA/AAAAAAAA8D8AAAAAAADwPwYAACAjlwZAAAAAAAAA8D8AAAAAAADwPwAAAAAAAPA/AAAAAAAA8D8AAAAAAADwPwAAAAAAAPA/AAAAAAAA8D8AAAAAAADwPwAAAAAAAPA/AAAAAAAA8D8AAAAAAADwPwAAAAAAAPA/AAAAAAAA8D8AAAAAAADwPwAAAAAAAPA/AAAAAAAA8D8AAAAAAADwPwAAAAAAAPA/AAAAAAAA8D8AAAAAAADwPwAAAAAAAPA/AAAAAAAA8D8AAAAAAADwPwAAAAAAAPA/AAAAAAAA8D8AAAAAAADwPwAAAAAAAPA/+P//34D4CEAGAAAgI5cGQAAAAAAAAPA/AAAAAAAA8D8GAAAgI5cGQAAAAAAAAPA/AAAAAAAA8D8AAAAAAADwPwAAAAAAAPA/BgAAICOXBkAAAAAAAADwPwAAAAAAAPA/BgAAICOXBkAAAAAAAADwPwAAAAAAAPA/BgAAICOXBkAAAAAAAADwPwAAAAAAAPA/BgAAICOXBkAAAAAAAADwPwAAAAAAAPA/AAAAAAAA8D8AAAAAAADwPwAAAAAAAPA/AAAAAAAA8D8AAAAAAADwPwAAAAAAAPA/AAAAAAAA8D8AAAAAAADwPwAAAAAAAPA/AAAAAAAA8D8AAAAAAADwPwYAACAjlwZAAAAAAAAA8D8AAAAAAADwPwAAAAAAAPA/AAAAAAAA8D8AAAAAAADwPwAAAAAAAPA/AAAAAAAA8D8AAAAAAADwPwYAAICrkQlAAAAAAAAA8D8AAAAAAADwPwAAAAAAAPA/AAAAAAAA8D8AAAAAAADwPwAAAAAAAPA/AAAAAAAA8D8AAAAAAADwPwAAAAAAAPA/AAAAAAAA8D8AAAAAAADwPwAAAAAAAPA/AAAAAAAA8D8AAAAAAADwPwAAAAAAAPA/AAAAAAAA8D8AAAAAAADwPwAAAAAAAPA/AAAAAAAA8D8AAAAAAADwPwYAACAjlwZAAAAAAAAA8D8AAAAAAADwPwAAAAAAAPA/BgAAICOXBkAAAAAAAADwPwAAAAAAAPA/AAAAAAAA8D8AAAAAAADwPwAAAAAAAPA/AAAAAAAA8D8AAAAAAADwPwYAACAjlwZAAAAAAAAA8D8AAAAAAADwPwAAAAAAAPA/AAAAAAAA8D8GAAAgI5cGQAAAAAAAAPA/AAAAAAAA8D8GAAAgI5cGQAAAAAAAAPA/AAAAAAAA8D8GAAAA2AcMQAYAACAjlwZAAAAAAAAA8D8AAAAAAADwPwAAAAAAAPA/AAAAAAAA8D8AAAAAAADwPwAAAAAAAPA/AAAAAAAA8D8AAAAAAADwPwAAAAAAAPA/AAAAAAAA8D8AAAAAAADwPwAAAAAAAPA/AAAAAAAA8D8AAAAAAADwPwAAAAAAAPA/AAAAAAAA8D8AAAAAAADwPwAAAAAAAPA/AAAAAAAA8D8AAAAAAADwPwAAAAAAAPA/AAAAAAAA8D8AAAAAAADwPwAAAAAAAPA/AAAAAAAA8D8AAAAAAADwPwYAACAjlwZAAAAAAAAA8D8GAAAgI5cGQAYAACAjlwZAAAAAAAAA8D8AAAAAAADwPwYAACAjlwZAAAAAAAAA8D8AAAAAAADwPwAAAAAAAPA/BgAAICOXBkAAAAAAAADwPwAAAAAAAPA/AAAAAAAA8D8AAAAAAADwPwAAAAAAAPA/BgAAICOXBkAAAAAAAADwPwYAACAjlwZAAAAAAAAA8D8GAAAgI5cGQAYAACAjlwZAAAAAAAAA8D8GAAAgI5cGQAAAAAAAAPA/AAAAAAAA8D8AAAAAAADwPwAAAAAAAPA/AAAAAAAA8D8AAAAAAADwPwAAAAAAAPA/AAAAAAAA8D8AAAAAAADwPwAAAAAAAPA/AAAAAAAA8D8AAAAAAADwPwAAAAAAAPA/BgAAICOXBkAAAAAAAADwPwAAAAAAAPA/AAAAAAAA8D8AAAAAAADwP+3//9+Xr/E/AAAAAAAA8D8AAAAAAADwPwYAACAjlwZAAAAAAAAA8D8AAAAAAADwPwAAAAAAAPA/AAAAAAAA8D8AAAAAAADwPwAAAAAAAPA/AAAAAAAA8D8AAAAAAADwPwAAAAAAAPA/AAAAAAAA8D8AAAAAAADwPwAAAAAAAPA/AAAAAAAA8D8AAAAAAADwPwYAACAjlwZABgAAICOXBkAAAAAAAADwPwAAAAAAAPA/AAAAAAAA8D8AAAAAAADwPwAAAAAAAPA/AAAAAAAA8D8AAAAAAADwPwAAAAAAAPA/AAAAAAAA8D8AAAAAAADwPwAAAAAAAPA/AAAAAAAA8D8AAAAAAADwPwAAAAAAAPA/AAAAAAAA8D8AAAAAAADwPwAAAAAAAPA/AAAAAAAA8D8AAAAAAADwPwAAAAAAAPA/7f//35ev8T8AAAAAAADwPwYAACAjlwZAAAAAAAAA8D8AAAAAAADwPwAAAAAAAPA/AAAAAAAA8D8AAAAAAADwPwAAAAAAAPA/AAAAAAAA8D8AAAAAAADwPwYAACAjlwZABgAAICOXBkAAAAAAAADwPwAAAAAAAPA/AAAAAAAA8D8AAAAAAADwPwAAAAAAAPA/AAAAAAAA8D8AAAAAAADwPwAAAAAAAPA/AAAAAAAA8D8GAAAgI5cGQAAAAAAAAPA/AAAAAAAA8D8AAAAAAADwPwAAAAAAAPA/AAAAAAAA8D8AAAAAAADwPwAAAAAAAPA/AAAAAAAA8D8AAAAAAADwPwAAAAAAAPA/AAAAAAAA8D8AAAAAAADwPwAAAAAAAPA/AAAAAAAA8D8AAAAAAADwPwAAAAAAAPA/AAAAAAAA8D8AAAAAAADwPwAAAAAAAPA/BgAAICOXBkAAAAAAAADwPwYAACAjlwZABgAAICOXBkAAAAAAAADwPwAAAAAAAPA/BgAAICOXBkAAAAAAAADwPwYAACAjlwZAAAAAAAAA8D8AAAAAAADwPwAAAAAAAPA/AAAAAAAA8D8AAAAAAADwPwYAACAjlwZABgAAICOXBkAAAAAAAADwPwAAAAAAAPA/AAAAAAAA8D8AAAAAAADwPwAAAAAAAPA/BgAAICOXBkAAAAAAAADwPwAAAAAAAPA/AAAAAAAA8D8AAAAAAADwPwAAAAAAAPA/AAAAAAAA8D8AAAAAAADwPwAAAAAAAPA/AAAAAAAA8D8AAAAAAADwPwAAAAAAAPA/AAAAAAAA8D8AAAAAAADwPwAAAAAAAPA/AAAAAAAA8D8GAAAgI5cGQAAAAAAAAPA/AAAAAAAA8D8AAAAAAADwP/j//9+A+AhAAAAAAAAA8D8AAAAAAADwPwAAAAAAAPA/AAAAAAAA8D8AAAAAAADwPwAAAAAAAPA/BgAAICOXBkAAAAAAAADwPwAAAAAAAPA/AAAAAAAA8D8AAAAAAADwPwAAAAAAAPA/AAAAAAAA8D8AAAAAAADwPwAAAAAAAPA/AAAAAAAA8D8AAAAAAADwPwAAAAAAAPA/AAAAAAAA8D8AAAAAAADwPwAAAAAAAPA/AAAAAAAA8D8GAAAgI5cGQAAAAAAAAPA/AAAAAAAA8D8AAAAAAADwPwAAAAAAAPA/AAAAAAAA8D8AAAAAAADwPwAAAAAAAPA/AAAAAAAA8D8AAAAAAADwPwAAAAAAAPA/BgAAICOXBkAAAAAAAADwPwAAAAAAAPA/AAAAAAAA8D/t///fl6/xPwYAACAjlwZAAAAAAAAA8D8AAAAAAADwPwAAAAAAAPA/AAAAAAAA8D8AAAAAAADwPwAAAAAAAPA/AAAAAAAA8D8AAAAAAADwPwAAAAAAAPA/BgAAICOXBkAAAAAAAADwPwAAAAAAAPA/AAAAAAAA8D8AAAAAAADwPwAAAAAAAPA/AAAAAAAA8D/4///fgPgIQAAAAAAAAPA/AAAAAAAA8D8AAAAAAADwPwAAAAAAAPA/AAAAAAAA8D/t///fl6/xPwAAAAAAAPA/AAAAAAAA8D8AAAAAAADwPwAAAAAAAPA/AAAAAAAA8D8AAAAAAADwPwAAAAAAAPA/AAAAAAAA8D8AAAAAAADwPwYAACAjlwZAAAAAAAAA8D8AAAAAAADwPwAAAAAAAPA/BgAAICOXBkAAAAAAAADwPwAAAAAAAPA/AAAAAAAA8D8AAAAAAADwPwAAAAAAAPA/AAAAAAAA8D8GAAAgI5cGQAYAACAjlwZAAAAAAAAA8D8AAAAAAADwPwAAAAAAAPA/AAAAAAAA8D8AAAAAAADwPwAAAAAAAPA/AAAAAAAA8D8AAAAAAADwPwAAAAAAAPA/AAAAAAAA8D8AAAAAAADwPwAAAAAAAPA/AAAAAAAA8D8AAAAAAADwPwAAAAAAAPA/AAAAAAAA8D8AAAAAAADwPwYAACAjlwZABgAAICOXBkAAAAAAAADwPwAAAAAAAPA/BgAAICOXBkAAAAAAAADwPwYAACAjlwZAAAAAAAAA8D8AAAAAAADwPwAAAAAAAPA/AAAAAAAA8D8AAAAAAADwPwAAAAAAAPA/AAAAAAAA8D8AAAAAAADwPwAAAAAAAPA/AAAAAAAA8D8AAAAAAADwPwYAACAjlwZAAAAAAAAA8D8AAAAAAADwPwAAAAAAAPA/AAAAAAAA8D8AAAAAAADwPwAAAAAAAPA/AAAAAAAA8D8AAAAAAADwPwAAAAAAAPA/AAAAAAAA8D8AAAAAAADwPwAAAAAAAPA/AAAAAAAA8D8AAAAAAADwPwAAAAAAAPA/AAAAAAAA8D8GAAAgI5cGQAAAAAAAAPA/AAAAAAAA8D8AAAAAAADwPwAAAAAAAPA/AAAAAAAA8D8AAAAAAADwPwAAAAAAAPA/AAAAAAAA8D8AAAAAAADwPwAAAAAAAPA/AAAAAAAA8D8GAAAgI5cGQAAAAAAAAPA/AAAAAAAA8D8AAAAAAADwPwAAAAAAAPA/AAAAAAAA8D8GAAAgI5cGQAAAAAAAAPA/AAAAAAAA8D8AAAAAAADwPwAAAAAAAPA/AAAAAAAA8D8AAAAAAADwPwAAAAAAAPA/AAAAAAAA8D8AAAAAAADwPwAAAAAAAPA/AAAAAAAA8D8AAAAAAADwPwYAACAjlwZAAAAAAAAA8D8AAAAAAADwPwAAAAAAAPA/AAAAAAAA8D8AAAAAAADwPwAAAAAAAPA/AAAAAAAA8D8AAAAAAADwPwAAAAAAAPA/AAAAAAAA8D8AAAAAAADwPwAAAAAAAPA/AAAAAAAA8D8AAAAAAADwPwAAAAAAAPA/AAAAAAAA8D8AAAAAAADwPwAAAAAAAPA/AAAAAAAA8D8AAAAAAADwPwAAAAAAAPA/AAAAAAAA8D8AAAAAAADwPwAAAAAAAPA/AAAAAAAA8D8AAAAAAADwPwAAAAAAAPA/AAAAAAAA8D8AAAAAAADwPwAAAAAAAPA/AAAAAAAA8D8AAAAAAADwPwAAAAAAAPA/AAAAAAAA8D8GAAAgI5cGQAAAAAAAAPA/AAAAAAAA8D8AAAAAAADwPwAAAAAAAPA/AAAAAAAA8D8AAAAAAADwPwAAAAAAAPA/AAAAAAAA8D8AAAAAAADwPwAAAAAAAPA/AAAAAAAA8D8AAAAAAADwPwAAAAAAAPA/AAAAAAAA8D8AAAAAAADwPwAAAAAAAPA/AAAAAAAA8D8AAAAAAADwPwYAACAjlwZAAAAAAAAA8D8AAAAAAADwPwAAAAAAAPA/AAAAAAAA8D8AAAAAAADwPwAAAAAAAPA/AAAAAAAA8D8AAAAAAADwPwAAAAAAAPA/AAAAAAAA8D8AAAAAAADwPwAAAAAAAPA/AAAAAAAA8D8AAAAAAADwPwAAAAAAAPA/AAAAAAAA8D8AAAAAAADwPwAAAAAAAPA/AAAAAAAA8D8AAAAAAADwPwAAAAAAAPA/AAAAAAAA8D8AAAAAAADwPwAAAAAAAPA/AAAAAAAA8D8AAAAAAADwPwAAAAAAAPA/AAAAAAAA8D8AAAAAAADwPwAAAAAAAPA/AAAAAAAA8D8AAAAAAADwPwAAAAAAAPA/BgAAICOXBkAAAAAAAADwPwAAAAAAAPA/BgAAICOXBkAAAAAAAADwPwAAAAAAAPA/AAAAAAAA8D8GAAAgI5cGQAAAAAAAAPA/AAAAAAAA8D8AAAAAAADwPwAAAAAAAPA/AAAAAAAA8D8AAAAAAADwPwAAAAAAAPA/AAAAAAAA8D8AAAAAAADwPwAAAAAAAPA/AAAAAAAA8D8AAAAAAADwPwAAAAAAAPA/BgAAICOXBkAAAAAAAADwPwAAAAAAAPA/AAAAAAAA8D8GAAAgI5cGQAAAAAAAAPA/AAAAAAAA8D8AAAAAAADwPwAAAAAAAPA/AAAAAAAA8D8AAAAAAADwPwAAAAAAAPA/AAAAAAAA8D8AAAAAAADwPwAAAAAAAPA/AAAAAAAA8D8AAAAAAADwPwAAAAAAAPA/BgAAICOXBkAAAAAAAADwPwAAAAAAAPA/AAAAAAAA8D8AAAAAAADwPwAAAAAAAPA/AAAAAAAA8D8GAAAgI5cGQAAAAAAAAPA/AAAAAAAA8D8AAAAAAADwPwAAAAAAAPA/BgAAICOXBkAGAAAgI5cGQAAAAAAAAPA/AAAAAAAA8D8AAAAAAADwPwYAACAjlwZABgAAICOXBkAGAAAgI5cGQAAAAAAAAPA/AAAAAAAA8D8AAAAAAADwPwAAAAAAAPA/AAAAAAAA8D8AAAAAAADwPwAAAAAAAPA/BgAAICOXBkAAAAAAAADwPwAAAAAAAPA/AAAAAAAA8D8AAAAAAADwPwAAAAAAAPA/AAAAAAAA8D8AAAAAAADwPwAAAAAAAPA/AAAAAAAA8D8GAAAgI5cGQAAAAAAAAPA/AAAAAAAA8D8AAAAAAADwPwAAAAAAAPA/BgAAICOXBkAAAAAAAADwPwAAAAAAAPA/BgAAICOXBkAAAAAAAADwPwAAAAAAAPA/AAAAAAAA8D8AAAAAAADwP+3//9+Xr/E/AAAAAAAA8D8AAAAAAADwPwAAAAAAAPA/AAAAAAAA8D8AAAAAAADwPwYAACAjlwZAAAAAAAAA8D8AAAAAAADwPwAAAAAAAPA/AAAAAAAA8D8AAAAAAADwPwAAAAAAAPA/AAAAAAAA8D8AAAAAAADwPwAAAAAAAPA/AAAAAAAA8D8AAAAAAADwPwAAAAAAAPA/AAAAAAAA8D8AAAAAAADwPwAAAAAAAPA/AAAAAAAA8D8GAAAgI5cGQAAAAAAAAPA/AAAAAAAA8D8AAAAAAADwPwAAAAAAAPA/AAAAAAAA8D8AAAAAAADwPwAAAAAAAPA/AAAAAAAA8D8AAAAAAADwPwAAAAAAAPA/AAAAAAAA8D8AAAAAAADwPwAAAAAAAPA/BgAAICOXBkAAAAAAAADwPwYAACAjlwZAAAAAAAAA8D8GAAAgI5cGQAAAAAAAAPA/AAAAAAAA8D8AAAAAAADwPwAAAAAAAPA/AAAAAAAA8D8AAAAAAADwPwAAAAAAAPA/AAAAAAAA8D8GAAAgI5cGQAAAAAAAAPA/AAAAAAAA8D8AAAAAAADwPwAAAAAAAPA/AAAAAAAA8D8AAAAAAADwPwAAAAAAAPA/AAAAAAAA8D8AAAAAAADwPwAAAAAAAPA/AAAAAAAA8D8AAAAAAADwPwAAAAAAAPA/BgAAICOXBkAAAAAAAADwPwAAAAAAAPA/BgAAICOXBkAAAAAAAADwPwAAAAAAAPA/AAAAAAAA8D8AAAAAAADwPwAAAAAAAPA/AAAAAAAA8D8AAAAAAADwPwYAACAjlwZAAAAAAAAA8D8AAAAAAADwPwAAAAAAAPA/AAAAAAAA8D8AAAAAAADwPwAAAAAAAPA/BgAAICOXBkAAAAAAAADwPwAAAAAAAPA/AAAAAAAA8D8AAAAAAADwPwAAAAAAAPA/AAAAAAAA8D8AAAAAAADwPwAAAAAAAPA/AAAAAAAA8D8AAAAAAADwPwAAAAAAAPA/AAAAAAAA8D8AAAAAAADwPwAAAAAAAPA/AAAAAAAA8D8AAAAAAADwPwAAAAAAAPA/AAAAAAAA8D8AAAAAAADwPwAAAAAAAPA/AAAAAAAA8D8AAAAAAADwPwAAAAAAAPA/AAAAAAAA8D8AAAAAAADwPwAAAAAAAPA/BgAAICOXBkAAAAAAAADwPwAAAAAAAPA/AAAAAAAA8D8AAAAAAADwPwAAAAAAAPA/AAAAAAAA8D8AAAAAAADwPwAAAAAAAPA/AAAAAAAA8D8AAAAAAADwPwAAAAAAAPA/AAAAAAAA8D8AAAAAAADwPwAAAAAAAPA/AAAAAAAA8D8AAAAAAADwPwYAACAjlwZAAAAAAAAA8D8AAAAAAADwPwAAAAAAAPA/AAAAAAAA8D8AAAAAAADwPwAAAAAAAPA/AAAAAAAA8D8AAAAAAADwPwAAAAAAAPA/AAAAAAAA8D8AAAAAAADwPwYAACAjlwZAAAAAAAAA8D8AAAAAAADwPwAAAAAAAPA/BgAAICOXBkAAAAAAAADwPwAAAAAAAPA/AAAAAAAA8D8GAAAgI5cGQAAAAAAAAPA/AAAAAAAA8D8AAAAAAADwPwAAAAAAAPA/BgAAICOXBkD4///fgPgIQAAAAAAAAPA/AAAAAAAA8D8AAAAAAADwPwYAACAjlwZAAAAAAAAA8D8AAAAAAADwPwAAAAAAAPA/BgAAICOXBkAAAAAAAADwPwAAAAAAAPA/AAAAAAAA8D8AAAAAAADwPwAAAAAAAPA/AAAAAAAA8D8AAAAAAADwP/j//9+A+AhABgAAICOXBkAAAAAAAADwPwAAAAAAAPA/AAAAAAAA8D8AAAAAAADwPwAAAAAAAPA/AAAAAAAA8D8AAAAAAADwPwAAAAAAAPA/AAAAAAAA8D8AAAAAAADwPwAAAAAAAPA/AAAAAAAA8D8AAAAAAADwPwAAAAAAAPA/BgAAICOXBkAAAAAAAADwPwYAACAjlwZAAAAAAAAA8D8AAAAAAADwPwYAACAjlwZAAAAAAAAA8D8AAAAAAADwPwAAAAAAAPA/AAAAAAAA8D8AAAAAAADwPwAAAAAAAPA/BgAAICOXBkAAAAAAAADwPwAAAAAAAPA/AAAAAAAA8D8AAAAAAADwPwAAAAAAAPA/AAAAAAAA8D8AAAAAAADwPwAAAAAAAPA/AAAAAAAA8D8AAAAAAADwPwAAAAAAAPA/AAAAAAAA8D8AAAAAAADwPwYAACAjlwZAAAAAAAAA8D8AAAAAAADwPwAAAAAAAPA/AAAAAAAA8D8AAAAAAADwPwAAAAAAAPA/AAAAAAAA8D8AAAAAAADwP+7//19SpvM/AAAAAAAA8D8AAAAAAADwPwAAAAAAAPA/AAAAAAAA8D8AAAAAAADwPwYAACAjlwZAAAAAAAAA8D8AAAAAAADwPwAAAAAAAPA/AAAAAAAA8D8AAAAAAADwPwAAAAAAAPA/AAAAAAAA8D8AAAAAAADwPwAAAAAAAPA/AAAAAAAA8D8AAAAAAADwPwAAAAAAAPA/AAAAAAAA8D8GAAAgI5cGQAAAAAAAAPA/AAAAAAAA8D8GAAAgI5cGQAAAAAAAAPA/AAAAAAAA8D8AAAAAAADwPwAAAAAAAPA/AAAAAAAA8D8AAAAAAADwPwAAAAAAAPA/BgAAICOXBkAAAAAAAADwPwAAAAAAAPA/AwAAIE6+C0AGAAAgI5cGQAYAAICrkQlABgAAICOXBkAAAAAAAADwPwAAAAAAAPA/AAAAAAAA8D8AAAAAAADwPwYAACAjlwZAAAAAAAAA8D8AAAAAAADwPwAAAAAAAPA/BgAAICOXBkAAAAAAAADwPwYAACAjlwZAAAAAAAAA8D8AAAAAAADwPwAAAAAAAPA/AAAAAAAA8D8AAAAAAADwPwAAAAAAAPA/AAAAAAAA8D8AAAAAAADwPwAAAAAAAPA/AAAAAAAA8D8AAAAAAADwPwAAAAAAAPA/AAAAAAAA8D8AAAAAAADwPwAAAAAAAPA/AAAAAAAA8D8AAAAAAADwPwAAAAAAAPA/AAAAAAAA8D8AAAAAAADwPwAAAAAAAPA/AAAAAAAA8D8AAAAAAADwPwAAAAAAAPA/AAAAAAAA8D8AAAAAAADwPwYAACAjlwZAAAAAAAAA8D8AAAAAAADwPwAAAAAAAPA/BgAAICOXBkD9//+fO4UNQAYAACAjlwZAAAAAAAAA8D8AAAAAAADwPwAAAAAAAPA/AAAAAAAA8D8AAAAAAADwPwAAAAAAAPA/AAAAAAAA8D8AAAAAAADwPwAAAAAAAPA/AAAAAAAA8D8AAAAAAADwPwAAAAAAAPA/AAAAAAAA8D8AAAAAAADwPwAAAAAAAPA/AAAAAAAA8D8AAAAAAADwPwAAAAAAAPA/BgAAICOXBkAAAAAAAADwPwAAAAAAAPA/AAAAAAAA8D8AAAAAAADwPwAAAAAAAPA/AAAAAAAA8D8AAAAAAADwPwAAAAAAAPA/AAAAAAAA8D8AAAAAAADwPwAAAAAAAPA/AAAAAAAA8D8GAAAgI5cGQAAAAAAAAPA/AAAAAAAA8D8AAAAAAADwPwAAAAAAAPA/AAAAAAAA8D8AAAAAAADwPwAAAAAAAPA/AAAAAAAA8D8AAAAAAADwPwYAACAjlwZAAAAAAAAA8D8AAAAAAADwPwAAAAAAAPA/AAAAAAAA8D8AAAAAAADwPwAAAAAAAPA/AAAAAAAA8D8AAAAAAADwPwAAAAAAAPA/AAAAAAAA8D8AAAAAAADwPwAAAAAAAPA/AAAAAAAA8D8AAAAAAADwPwAAAAAAAPA/AAAAAAAA8D8AAAAAAADwPwAAAAAAAPA/BgAAICOXBkAAAAAAAADwP/j//9+A+AhAAAAAAAAA8D8AAAAAAADwPwAAAAAAAPA/AAAAAAAA8D8AAAAAAADwPwAAAAAAAPA/BgAAICOXBkAAAAAAAADwPwAAAAAAAPA/AAAAAAAA8D8AAAAAAADwPwAAAAAAAPA/AAAAAAAA8D8AAAAAAADwPwAAAAAAAPA/AAAAAAAA8D8AAAAAAADwPwAAAAAAAPA/AAAAAAAA8D8AAAAAAADwPwAAAAAAAPA/+P//34D4CEAAAAAAAADwPwAAAAAAAPA/AAAAAAAA8D8AAAAAAADwPwAAAAAAAPA/AAAAAAAA8D8GAAAgI5cGQAAAAAAAAPA/AAAAAAAA8D8AAAAAAADwPwAAAAAAAPA/BgAAICOXBkAGAAAgI5cGQAYAACAjlwZABgAAICOXBkAGAAAgI5cGQAAAAAAAAPA/AAAAAAAA8D8AAAAAAADwPwAAAAAAAPA/AAAAAAAA8D8AAAAAAADwPwAAAAAAAPA/AAAAAAAA8D8AAAAAAADwPwAAAAAAAPA/AAAAAAAA8D8AAAAAAADwPwAAAAAAAPA/AAAAAAAA8D8GAAAgI5cGQAAAAAAAAPA/AAAAAAAA8D8AAAAAAADwPwAAAAAAAPA/AAAAAAAA8D8AAAAAAADwPwAAAAAAAPA/AAAAAAAA8D8AAAAAAADwPwAAAAAAAPA/AAAAAAAA8D8AAAAAAADwPwYAACAjlwZAAAAAAAAA8D8AAAAAAADwPwAAAAAAAPA/AAAAAAAA8D8AAAAAAADwPwAAAAAAAPA/AAAAAAAA8D8AAAAAAADwPwAAAAAAAPA/AAAAAAAA8D8AAAAAAADwPwAAAAAAAPA/AAAAAAAA8D8AAAAAAADwPwAAAAAAAPA/AAAAAAAA8D8AAAAAAADwPwAAAAAAAPA/AAAAAAAA8D8GAAAgI5cGQAYAACAjlwZAAAAAAAAA8D8AAAAAAADwPwAAAAAAAPA/BgAAgKuRCUAAAAAAAADwPwAAAAAAAPA/AAAAAAAA8D8AAAAAAADwPwAAAAAAAPA/BgAAICOXBkAAAAAAAADwPwYAACAjlwZAAAAAAAAA8D8AAAAAAADwPwAAAAAAAPA/AAAAAAAA8D8AAAAAAADwPwAAAAAAAPA/AAAAAAAA8D8AAAAAAADwPwAAAAAAAPA/AAAAAAAA8D8AAAAAAADwPwAAAAAAAPA/AAAAAAAA8D8AAAAAAADwPwAAAAAAAPA/AAAAAAAA8D8AAAAAAADwPwAAAAAAAPA/AAAAAAAA8D8AAAAAAADwPwAAAAAAAPA/BgAAICOXBkAAAAAAAADwPwAAAAAAAPA/BgAAICOXBkAAAAAAAADwPwAAAAAAAPA/AAAAAAAA8D8AAAAAAADwPwAAAAAAAPA/AAAAAAAA8D8AAAAAAADwPwAAAAAAAPA/BgAAICOXBkAAAAAAAADwPwYAACAjlwZAAAAAAAAA8D8AAAAAAADwPwAAAAAAAPA/BgAAICOXBkAAAAAAAADwPwAAAAAAAPA/AAAAAAAA8D8AAAAAAADwPwAAAAAAAPA/AAAAAAAA8D8AAAAAAADwPwAAAAAAAPA/AAAAAAAA8D8AAAAAAADwPwAAAAAAAPA/AAAAAAAA8D8AAAAAAADwPwAAAAAAAPA/AAAAAAAA8D8AAAAAAADwPwAAAAAAAPA/AAAAAAAA8D8AAAAAAADwPwAAAAAAAPA/AAAAAAAA8D8GAAAgI5cGQAAAAAAAAPA/AAAAAAAA8D8AAAAAAADwPwAAAAAAAPA/AAAAAAAA8D8AAAAAAADwPwAAAAAAAPA/AAAAAAAA8D8AAAAAAADwPwAAAAAAAPA/AAAAAAAA8D8AAAAAAADwPwAAAAAAAPA/AAAAAAAA8D8AAAAAAADwPwAAAAAAAPA/AAAAAAAA8D8AAAAAAADwPwAAAAAAAPA/BgAAICOXBkAAAAAAAADwPwAAAAAAAPA/AAAAAAAA8D8AAAAAAADwPwAAAAAAAPA/AAAAAAAA8D8AAAAAAADwPwAAAAAAAPA/AAAAAAAA8D8AAAAAAADwPwAAAAAAAPA/AAAAAAAA8D8AAAAAAADwPwAAAAAAAPA/AAAAAAAA8D8AAAAAAADwPwAAAAAAAPA/AAAAAAAA8D8AAAAAAADwPwAAAAAAAPA/BgAAICOXBkAAAAAAAADwPwAAAAAAAPA/AAAAAAAA8D8AAAAAAADwPwAAAAAAAPA/AAAAAAAA8D8AAAAAAADwPwAAAAAAAPA/AAAAAAAA8D8AAAAAAADwPwYAACAjlwZAAAAAAAAA8D8AAAAAAADwPwAAAAAAAPA/AAAAAAAA8D8AAAAAAADwPwAAAAAAAPA/AAAAAAAA8D8AAAAAAADwPwAAAAAAAPA/AAAAAAAA8D8AAAAAAADwPwAAAAAAAPA/AAAAAAAA8D8AAAAAAADwPwAAAAAAAPA/AAAAAAAA8D8AAAAAAADwPwAAAAAAAPA/AAAAAAAA8D8AAAAAAADwPwAAAAAAAPA/AAAAAAAA8D8GAAAgI5cGQAAAAAAAAPA/AAAAAAAA8D8GAAAgI5cGQAAAAAAAAPA/AAAAAAAA8D8AAAAAAADwPwAAAAAAAPA/AAAAAAAA8D8AAAAAAADwPwAAAAAAAPA/AAAAAAAA8D8AAAAAAADwPwAAAAAAAPA/BgAAICOXBkAAAAAAAADwPwAAAAAAAPA/AAAAAAAA8D8AAAAAAADwPwAAAAAAAPA/AAAAAAAA8D8AAAAAAADwPwAAAAAAAPA/AAAAAAAA8D8AAAAAAADwPwAAAAAAAPA/AAAAAAAA8D8GAAAgI5cGQAAAAAAAAPA/AAAAAAAA8D8AAAAAAADwPwAAAAAAAPA/BgAAICOXBkAAAAAAAADwPwYAACAjlwZAAAAAAAAA8D8AAAAAAADwPwAAAAAAAPA/AAAAAAAA8D8GAAAgI5cGQAAAAAAAAPA/AAAAAAAA8D8AAAAAAADwPwAAAAAAAPA/AAAAAAAA8D8AAAAAAADwPwAAAAAAAPA/AAAAAAAA8D8AAAAAAADwPwAAAAAAAPA/AAAAAAAA8D8AAAAAAADwPwAAAAAAAPA/AAAAAAAA8D8AAAAAAADwPwYAACAjlwZAAAAAAAAA8D8AAAAAAADwPwAAAAAAAPA/AAAAAAAA8D8AAAAAAADwPwAAAAAAAPA/AAAAAAAA8D8AAAAAAADwPwAAAAAAAPA/AAAAAAAA8D8AAAAAAADwPwYAACAjlwZAAAAAAAAA8D8AAAAAAADwPwAAAAAAAPA/AAAAAAAA8D8AAAAAAADwPwAAAAAAAPA/AAAAAAAA8D8AAAAAAADwPwAAAAAAAPA/AAAAAAAA8D8AAAAAAADwPwAAAAAAAPA/AAAAAAAA8D8AAAAAAADwPwAAAAAAAPA/AAAAAAAA8D8AAAAAAADwPwAAAAAAAPA/AAAAAAAA8D8GAAAgI5cGQAAAAAAAAPA/AAAAAAAA8D8AAAAAAADwPwAAAAAAAPA/AAAAAAAA8D8AAAAAAADwPwAAAAAAAPA/AAAAAAAA8D8AAAAAAADwPwAAAAAAAPA/AAAAAAAA8D8AAAAAAADwPwAAAAAAAPA/AAAAAAAA8D8GAAAgI5cGQAYAACAjlwZAAAAAAAAA8D8AAAAAAADwPwAAAAAAAPA/AAAAAAAA8D8AAAAAAADwPwAAAAAAAPA/AAAAAAAA8D8AAAAAAADwPwAAAAAAAPA/BgAAICOXBkAAAAAAAADwPwAAAAAAAPA/AAAAAAAA8D8AAAAAAADwPwYAACAjlwZABgAAICOXBkAAAAAAAADwPwAAAAAAAPA/AAAAAAAA8D8AAAAAAADwPwYAACAjlwZAAAAAAAAA8D8AAAAAAADwPwAAAAAAAPA/AAAAAAAA8D8AAAAAAADwPwAAAAAAAPA/AAAAAAAA8D8AAAAAAADwPwAAAAAAAPA/AAAAAAAA8D8AAAAAAADwPwAAAAAAAPA/AAAAAAAA8D8AAAAAAADwPwAAAAAAAPA/AAAAAAAA8D8AAAAAAADwPwAAAAAAAPA/AAAAAAAA8D8AAAAAAADwPwAAAAAAAPA/AAAAAAAA8D8AAAAAAADwPwAAAAAAAPA/AAAAAAAA8D8AAAAAAADwPwAAAAAAAPA/AAAAAAAA8D8AAAAAAADwPwAAAAAAAPA/AAAAAAAA8D8AAAAAAADwPwAAAAAAAPA/AAAAAAAA8D8AAAAAAADwPwAAAAAAAPA/AAAAAAAA8D8AAAAAAADwPwYAACAjlwZAAAAAAAAA8D8AAAAAAADwPwAAAAAAAPA/AwAAIE6+C0AAAAAAAADwPwAAAAAAAPA/AAAAAAAA8D8AAAAAAADwPwAAAAAAAPA/AAAAAAAA8D8AAAAAAADwPwAAAAAAAPA/AAAAAAAA8D8AAAAAAADwPwAAAAAAAPA/AAAAAAAA8D8AAAAAAADwPwAAAAAAAPA/AAAAAAAA8D8AAAAAAADwPwAAAAAAAPA/AAAAAAAA8D8GAAAgI5cGQAAAAAAAAPA/AAAAAAAA8D8AAAAAAADwPwYAACAjlwZAAAAAAAAA8D8AAAAAAADwPwAAAAAAAPA/AAAAAAAA8D8AAAAAAADwPwAAAAAAAPA/AAAAAAAA8D8AAAAAAADwPwYAACAjlwZAAAAAAAAA8D8AAAAAAADwPwAAAAAAAPA/AAAAAAAA8D8AAAAAAADwPwAAAAAAAPA/AAAAAAAA8D8AAAAAAADwPwAAAAAAAPA/AAAAAAAA8D8AAAAAAADwPwAAAAAAAPA/AAAAAAAA8D8AAAAAAADwPwAAAAAAAPA/AAAAAAAA8D8AAAAAAADwPwAAAAAAAPA/AAAAAAAA8D8AAAAAAADwPwAAAAAAAPA/AAAAAAAA8D8AAAAAAADwPwAAAAAAAPA/AAAAAAAA8D8GAAAgI5cGQAAAAAAAAPA/AAAAAAAA8D8AAAAAAADwPwAAAAAAAPA/AAAAAAAA8D8AAAAAAADwPwYAACAjlwZAAAAAAAAA8D8AAAAAAADwPwAAAAAAAPA/BgAAICOXBkAAAAAAAADwPwAAAAAAAPA/AAAAAAAA8D8AAAAAAADwPwAAAAAAAPA/AAAAAAAA8D8AAAAAAADwPwAAAAAAAPA/AAAAAAAA8D8AAAAAAADwPwAAAAAAAPA/AAAAAAAA8D8AAAAAAADwPwAAAAAAAPA/AAAAAAAA8D8AAAAAAADwPwAAAAAAAPA/AAAAAAAA8D8AAAAAAADwPwAAAAAAAPA/AAAAAAAA8D8=",
          "dtype": "f8"
         },
         "xaxis": "x",
         "yaxis": "y"
        }
       ],
       "layout": {
        "barmode": "relative",
        "legend": {
         "title": {
          "text": "variable"
         },
         "tracegroupgap": 0
        },
        "margin": {
         "t": 60
        },
        "template": {
         "data": {
          "bar": [
           {
            "error_x": {
             "color": "#2a3f5f"
            },
            "error_y": {
             "color": "#2a3f5f"
            },
            "marker": {
             "line": {
              "color": "#E5ECF6",
              "width": 0.5
             },
             "pattern": {
              "fillmode": "overlay",
              "size": 10,
              "solidity": 0.2
             }
            },
            "type": "bar"
           }
          ],
          "barpolar": [
           {
            "marker": {
             "line": {
              "color": "#E5ECF6",
              "width": 0.5
             },
             "pattern": {
              "fillmode": "overlay",
              "size": 10,
              "solidity": 0.2
             }
            },
            "type": "barpolar"
           }
          ],
          "carpet": [
           {
            "aaxis": {
             "endlinecolor": "#2a3f5f",
             "gridcolor": "white",
             "linecolor": "white",
             "minorgridcolor": "white",
             "startlinecolor": "#2a3f5f"
            },
            "baxis": {
             "endlinecolor": "#2a3f5f",
             "gridcolor": "white",
             "linecolor": "white",
             "minorgridcolor": "white",
             "startlinecolor": "#2a3f5f"
            },
            "type": "carpet"
           }
          ],
          "choropleth": [
           {
            "colorbar": {
             "outlinewidth": 0,
             "ticks": ""
            },
            "type": "choropleth"
           }
          ],
          "contour": [
           {
            "colorbar": {
             "outlinewidth": 0,
             "ticks": ""
            },
            "colorscale": [
             [
              0,
              "#0d0887"
             ],
             [
              0.1111111111111111,
              "#46039f"
             ],
             [
              0.2222222222222222,
              "#7201a8"
             ],
             [
              0.3333333333333333,
              "#9c179e"
             ],
             [
              0.4444444444444444,
              "#bd3786"
             ],
             [
              0.5555555555555556,
              "#d8576b"
             ],
             [
              0.6666666666666666,
              "#ed7953"
             ],
             [
              0.7777777777777778,
              "#fb9f3a"
             ],
             [
              0.8888888888888888,
              "#fdca26"
             ],
             [
              1,
              "#f0f921"
             ]
            ],
            "type": "contour"
           }
          ],
          "contourcarpet": [
           {
            "colorbar": {
             "outlinewidth": 0,
             "ticks": ""
            },
            "type": "contourcarpet"
           }
          ],
          "heatmap": [
           {
            "colorbar": {
             "outlinewidth": 0,
             "ticks": ""
            },
            "colorscale": [
             [
              0,
              "#0d0887"
             ],
             [
              0.1111111111111111,
              "#46039f"
             ],
             [
              0.2222222222222222,
              "#7201a8"
             ],
             [
              0.3333333333333333,
              "#9c179e"
             ],
             [
              0.4444444444444444,
              "#bd3786"
             ],
             [
              0.5555555555555556,
              "#d8576b"
             ],
             [
              0.6666666666666666,
              "#ed7953"
             ],
             [
              0.7777777777777778,
              "#fb9f3a"
             ],
             [
              0.8888888888888888,
              "#fdca26"
             ],
             [
              1,
              "#f0f921"
             ]
            ],
            "type": "heatmap"
           }
          ],
          "histogram": [
           {
            "marker": {
             "pattern": {
              "fillmode": "overlay",
              "size": 10,
              "solidity": 0.2
             }
            },
            "type": "histogram"
           }
          ],
          "histogram2d": [
           {
            "colorbar": {
             "outlinewidth": 0,
             "ticks": ""
            },
            "colorscale": [
             [
              0,
              "#0d0887"
             ],
             [
              0.1111111111111111,
              "#46039f"
             ],
             [
              0.2222222222222222,
              "#7201a8"
             ],
             [
              0.3333333333333333,
              "#9c179e"
             ],
             [
              0.4444444444444444,
              "#bd3786"
             ],
             [
              0.5555555555555556,
              "#d8576b"
             ],
             [
              0.6666666666666666,
              "#ed7953"
             ],
             [
              0.7777777777777778,
              "#fb9f3a"
             ],
             [
              0.8888888888888888,
              "#fdca26"
             ],
             [
              1,
              "#f0f921"
             ]
            ],
            "type": "histogram2d"
           }
          ],
          "histogram2dcontour": [
           {
            "colorbar": {
             "outlinewidth": 0,
             "ticks": ""
            },
            "colorscale": [
             [
              0,
              "#0d0887"
             ],
             [
              0.1111111111111111,
              "#46039f"
             ],
             [
              0.2222222222222222,
              "#7201a8"
             ],
             [
              0.3333333333333333,
              "#9c179e"
             ],
             [
              0.4444444444444444,
              "#bd3786"
             ],
             [
              0.5555555555555556,
              "#d8576b"
             ],
             [
              0.6666666666666666,
              "#ed7953"
             ],
             [
              0.7777777777777778,
              "#fb9f3a"
             ],
             [
              0.8888888888888888,
              "#fdca26"
             ],
             [
              1,
              "#f0f921"
             ]
            ],
            "type": "histogram2dcontour"
           }
          ],
          "mesh3d": [
           {
            "colorbar": {
             "outlinewidth": 0,
             "ticks": ""
            },
            "type": "mesh3d"
           }
          ],
          "parcoords": [
           {
            "line": {
             "colorbar": {
              "outlinewidth": 0,
              "ticks": ""
             }
            },
            "type": "parcoords"
           }
          ],
          "pie": [
           {
            "automargin": true,
            "type": "pie"
           }
          ],
          "scatter": [
           {
            "fillpattern": {
             "fillmode": "overlay",
             "size": 10,
             "solidity": 0.2
            },
            "type": "scatter"
           }
          ],
          "scatter3d": [
           {
            "line": {
             "colorbar": {
              "outlinewidth": 0,
              "ticks": ""
             }
            },
            "marker": {
             "colorbar": {
              "outlinewidth": 0,
              "ticks": ""
             }
            },
            "type": "scatter3d"
           }
          ],
          "scattercarpet": [
           {
            "marker": {
             "colorbar": {
              "outlinewidth": 0,
              "ticks": ""
             }
            },
            "type": "scattercarpet"
           }
          ],
          "scattergeo": [
           {
            "marker": {
             "colorbar": {
              "outlinewidth": 0,
              "ticks": ""
             }
            },
            "type": "scattergeo"
           }
          ],
          "scattergl": [
           {
            "marker": {
             "colorbar": {
              "outlinewidth": 0,
              "ticks": ""
             }
            },
            "type": "scattergl"
           }
          ],
          "scattermap": [
           {
            "marker": {
             "colorbar": {
              "outlinewidth": 0,
              "ticks": ""
             }
            },
            "type": "scattermap"
           }
          ],
          "scattermapbox": [
           {
            "marker": {
             "colorbar": {
              "outlinewidth": 0,
              "ticks": ""
             }
            },
            "type": "scattermapbox"
           }
          ],
          "scatterpolar": [
           {
            "marker": {
             "colorbar": {
              "outlinewidth": 0,
              "ticks": ""
             }
            },
            "type": "scatterpolar"
           }
          ],
          "scatterpolargl": [
           {
            "marker": {
             "colorbar": {
              "outlinewidth": 0,
              "ticks": ""
             }
            },
            "type": "scatterpolargl"
           }
          ],
          "scatterternary": [
           {
            "marker": {
             "colorbar": {
              "outlinewidth": 0,
              "ticks": ""
             }
            },
            "type": "scatterternary"
           }
          ],
          "surface": [
           {
            "colorbar": {
             "outlinewidth": 0,
             "ticks": ""
            },
            "colorscale": [
             [
              0,
              "#0d0887"
             ],
             [
              0.1111111111111111,
              "#46039f"
             ],
             [
              0.2222222222222222,
              "#7201a8"
             ],
             [
              0.3333333333333333,
              "#9c179e"
             ],
             [
              0.4444444444444444,
              "#bd3786"
             ],
             [
              0.5555555555555556,
              "#d8576b"
             ],
             [
              0.6666666666666666,
              "#ed7953"
             ],
             [
              0.7777777777777778,
              "#fb9f3a"
             ],
             [
              0.8888888888888888,
              "#fdca26"
             ],
             [
              1,
              "#f0f921"
             ]
            ],
            "type": "surface"
           }
          ],
          "table": [
           {
            "cells": {
             "fill": {
              "color": "#EBF0F8"
             },
             "line": {
              "color": "white"
             }
            },
            "header": {
             "fill": {
              "color": "#C8D4E3"
             },
             "line": {
              "color": "white"
             }
            },
            "type": "table"
           }
          ]
         },
         "layout": {
          "annotationdefaults": {
           "arrowcolor": "#2a3f5f",
           "arrowhead": 0,
           "arrowwidth": 1
          },
          "autotypenumbers": "strict",
          "coloraxis": {
           "colorbar": {
            "outlinewidth": 0,
            "ticks": ""
           }
          },
          "colorscale": {
           "diverging": [
            [
             0,
             "#8e0152"
            ],
            [
             0.1,
             "#c51b7d"
            ],
            [
             0.2,
             "#de77ae"
            ],
            [
             0.3,
             "#f1b6da"
            ],
            [
             0.4,
             "#fde0ef"
            ],
            [
             0.5,
             "#f7f7f7"
            ],
            [
             0.6,
             "#e6f5d0"
            ],
            [
             0.7,
             "#b8e186"
            ],
            [
             0.8,
             "#7fbc41"
            ],
            [
             0.9,
             "#4d9221"
            ],
            [
             1,
             "#276419"
            ]
           ],
           "sequential": [
            [
             0,
             "#0d0887"
            ],
            [
             0.1111111111111111,
             "#46039f"
            ],
            [
             0.2222222222222222,
             "#7201a8"
            ],
            [
             0.3333333333333333,
             "#9c179e"
            ],
            [
             0.4444444444444444,
             "#bd3786"
            ],
            [
             0.5555555555555556,
             "#d8576b"
            ],
            [
             0.6666666666666666,
             "#ed7953"
            ],
            [
             0.7777777777777778,
             "#fb9f3a"
            ],
            [
             0.8888888888888888,
             "#fdca26"
            ],
            [
             1,
             "#f0f921"
            ]
           ],
           "sequentialminus": [
            [
             0,
             "#0d0887"
            ],
            [
             0.1111111111111111,
             "#46039f"
            ],
            [
             0.2222222222222222,
             "#7201a8"
            ],
            [
             0.3333333333333333,
             "#9c179e"
            ],
            [
             0.4444444444444444,
             "#bd3786"
            ],
            [
             0.5555555555555556,
             "#d8576b"
            ],
            [
             0.6666666666666666,
             "#ed7953"
            ],
            [
             0.7777777777777778,
             "#fb9f3a"
            ],
            [
             0.8888888888888888,
             "#fdca26"
            ],
            [
             1,
             "#f0f921"
            ]
           ]
          },
          "colorway": [
           "#636efa",
           "#EF553B",
           "#00cc96",
           "#ab63fa",
           "#FFA15A",
           "#19d3f3",
           "#FF6692",
           "#B6E880",
           "#FF97FF",
           "#FECB52"
          ],
          "font": {
           "color": "#2a3f5f"
          },
          "geo": {
           "bgcolor": "white",
           "lakecolor": "white",
           "landcolor": "#E5ECF6",
           "showlakes": true,
           "showland": true,
           "subunitcolor": "white"
          },
          "hoverlabel": {
           "align": "left"
          },
          "hovermode": "closest",
          "mapbox": {
           "style": "light"
          },
          "paper_bgcolor": "white",
          "plot_bgcolor": "#E5ECF6",
          "polar": {
           "angularaxis": {
            "gridcolor": "white",
            "linecolor": "white",
            "ticks": ""
           },
           "bgcolor": "#E5ECF6",
           "radialaxis": {
            "gridcolor": "white",
            "linecolor": "white",
            "ticks": ""
           }
          },
          "scene": {
           "xaxis": {
            "backgroundcolor": "#E5ECF6",
            "gridcolor": "white",
            "gridwidth": 2,
            "linecolor": "white",
            "showbackground": true,
            "ticks": "",
            "zerolinecolor": "white"
           },
           "yaxis": {
            "backgroundcolor": "#E5ECF6",
            "gridcolor": "white",
            "gridwidth": 2,
            "linecolor": "white",
            "showbackground": true,
            "ticks": "",
            "zerolinecolor": "white"
           },
           "zaxis": {
            "backgroundcolor": "#E5ECF6",
            "gridcolor": "white",
            "gridwidth": 2,
            "linecolor": "white",
            "showbackground": true,
            "ticks": "",
            "zerolinecolor": "white"
           }
          },
          "shapedefaults": {
           "line": {
            "color": "#2a3f5f"
           }
          },
          "ternary": {
           "aaxis": {
            "gridcolor": "white",
            "linecolor": "white",
            "ticks": ""
           },
           "baxis": {
            "gridcolor": "white",
            "linecolor": "white",
            "ticks": ""
           },
           "bgcolor": "#E5ECF6",
           "caxis": {
            "gridcolor": "white",
            "linecolor": "white",
            "ticks": ""
           }
          },
          "title": {
           "x": 0.05
          },
          "xaxis": {
           "automargin": true,
           "gridcolor": "white",
           "linecolor": "white",
           "ticks": "",
           "title": {
            "standoff": 15
           },
           "zerolinecolor": "white",
           "zerolinewidth": 2
          },
          "yaxis": {
           "automargin": true,
           "gridcolor": "white",
           "linecolor": "white",
           "ticks": "",
           "title": {
            "standoff": 15
           },
           "zerolinecolor": "white",
           "zerolinewidth": 2
          }
         }
        },
        "title": {
         "text": "Histogram of Weights"
        },
        "xaxis": {
         "anchor": "y",
         "domain": [
          0,
          1
         ],
         "title": {
          "text": "Weights"
         }
        },
        "yaxis": {
         "anchor": "x",
         "domain": [
          0,
          1
         ],
         "title": {
          "text": "Frequency"
         }
        }
       }
      }
     },
     "metadata": {},
     "output_type": "display_data"
    }
   ],
   "source": [
    "fig = px.histogram(weights, nbins=20)\n",
    "fig.update_layout(title='Histogram of Weights', xaxis_title='Weights', yaxis_title='Frequency')\n",
    "fig.show()"
   ]
  },
  {
   "cell_type": "code",
   "execution_count": 33,
   "metadata": {
    "colab": {
     "base_uri": "https://localhost:8080/"
    },
    "executionInfo": {
     "elapsed": 379,
     "status": "ok",
     "timestamp": 1723201197234,
     "user": {
      "displayName": "Yong Song",
      "userId": "00576951217859821315"
     },
     "user_tz": -600
    },
    "id": "kbibbHmlQZoe",
    "outputId": "e8496b76-9022-4c79-833f-9331ff1ac613"
   },
   "outputs": [
    {
     "name": "stdout",
     "output_type": "stream",
     "text": [
      "selected\n",
      "False    4428.970992\n",
      "True     4332.082531\n",
      "Name: weights, dtype: float64\n"
     ]
    }
   ],
   "source": [
    "P['weights'] = weights\n",
    "nsel_w = P.groupby('selected')['weights'].sum()\n",
    "print(nsel_w)\n"
   ]
  },
  {
   "cell_type": "code",
   "execution_count": 40,
   "metadata": {
    "colab": {
     "base_uri": "https://localhost:8080/"
    },
    "executionInfo": {
     "elapsed": 344,
     "status": "ok",
     "timestamp": 1723201214206,
     "user": {
      "displayName": "Yong Song",
      "userId": "00576951217859821315"
     },
     "user_tz": -600
    },
    "id": "YtQD39R6UppB",
    "outputId": "86f657de-fdc3-44d0-a2f9-4d1075cea5c3"
   },
   "outputs": [
    {
     "name": "stdout",
     "output_type": "stream",
     "text": [
      "selected\n",
      "False    0.569808\n",
      "True     0.636503\n",
      "dtype: float64\n",
      "0.06669442494394962\n"
     ]
    }
   ],
   "source": [
    "ybar_w = P.groupby('selected')[['weights', 'doc_any_12m']].apply(\n",
    "    lambda group: np.sum(group['weights'] * group['doc_any_12m']) / nsel_w[group.name],\n",
    "    )\n",
    "print(ybar_w)\n",
    "\n",
    "ATEweighted = ybar_w.iloc[1] - ybar_w.iloc[0]\n",
    "print(ATEweighted)"
   ]
  },
  {
   "cell_type": "markdown",
   "metadata": {
    "id": "Mwa4-BdCwZIn"
   },
   "source": [
    "## Explore more outcomes\n",
    "\n",
    "This is a typical empirical strategy. For example, if you want to see if a new economic policy works well, there could be MANY indicators to represent the economy. A simple solution is to **try them all**."
   ]
  },
  {
   "cell_type": "code",
   "execution_count": 41,
   "metadata": {
    "colab": {
     "base_uri": "https://localhost:8080/",
     "height": 163
    },
    "executionInfo": {
     "elapsed": 364,
     "status": "ok",
     "timestamp": 1724119832863,
     "user": {
      "displayName": "Yong Song",
      "userId": "00576951217859821315"
     },
     "user_tz": -600
    },
    "id": "boxq8aSfWc0M",
    "outputId": "09b74feb-1b1b-4d4d-e0b3-4f2407788098"
   },
   "outputs": [
    {
     "data": {
      "application/vnd.microsoft.datawrangler.viewer.v0+json": {
       "columns": [
        {
         "name": "selected",
         "rawType": "bool",
         "type": "boolean"
        },
        {
         "name": "weight_12m",
         "rawType": "float64",
         "type": "float"
        },
        {
         "name": "doc_any_12m",
         "rawType": "float64",
         "type": "float"
        },
        {
         "name": "doc_num_mod_12m",
         "rawType": "float64",
         "type": "float"
        },
        {
         "name": "er_any_12m",
         "rawType": "float64",
         "type": "float"
        },
        {
         "name": "er_num_mod_12m",
         "rawType": "float64",
         "type": "float"
        },
        {
         "name": "hosp_any_12m",
         "rawType": "float64",
         "type": "float"
        }
       ],
       "ref": "5f603a42-0dbb-4d74-bb4c-47383842614f",
       "rows": [
        [
         "False",
         "1.2208403729851203",
         "0.5734800928712701",
         "1.8051423166222376",
         "0.25161234843924674",
         "0.43744088055722763",
         "0.06801960615702124"
        ],
        [
         "True",
         "1.2383177523455944",
         "0.6309461578672243",
         "2.055671719811814",
         "0.2490852064819655",
         "0.428994598362084",
         "0.06856595225649068"
        ]
       ],
       "shape": {
        "columns": 6,
        "rows": 2
       }
      },
      "text/html": [
       "<div>\n",
       "<style scoped>\n",
       "    .dataframe tbody tr th:only-of-type {\n",
       "        vertical-align: middle;\n",
       "    }\n",
       "\n",
       "    .dataframe tbody tr th {\n",
       "        vertical-align: top;\n",
       "    }\n",
       "\n",
       "    .dataframe thead th {\n",
       "        text-align: right;\n",
       "    }\n",
       "</style>\n",
       "<table border=\"1\" class=\"dataframe\">\n",
       "  <thead>\n",
       "    <tr style=\"text-align: right;\">\n",
       "      <th></th>\n",
       "      <th>weight_12m</th>\n",
       "      <th>doc_any_12m</th>\n",
       "      <th>doc_num_mod_12m</th>\n",
       "      <th>er_any_12m</th>\n",
       "      <th>er_num_mod_12m</th>\n",
       "      <th>hosp_any_12m</th>\n",
       "    </tr>\n",
       "    <tr>\n",
       "      <th>selected</th>\n",
       "      <th></th>\n",
       "      <th></th>\n",
       "      <th></th>\n",
       "      <th></th>\n",
       "      <th></th>\n",
       "      <th></th>\n",
       "    </tr>\n",
       "  </thead>\n",
       "  <tbody>\n",
       "    <tr>\n",
       "      <th>False</th>\n",
       "      <td>1.220840</td>\n",
       "      <td>0.573480</td>\n",
       "      <td>1.805142</td>\n",
       "      <td>0.251612</td>\n",
       "      <td>0.437441</td>\n",
       "      <td>0.068020</td>\n",
       "    </tr>\n",
       "    <tr>\n",
       "      <th>True</th>\n",
       "      <td>1.238318</td>\n",
       "      <td>0.630946</td>\n",
       "      <td>2.055672</td>\n",
       "      <td>0.249085</td>\n",
       "      <td>0.428995</td>\n",
       "      <td>0.068566</td>\n",
       "    </tr>\n",
       "  </tbody>\n",
       "</table>\n",
       "</div>"
      ],
      "text/plain": [
       "          weight_12m  doc_any_12m  doc_num_mod_12m  er_any_12m  \\\n",
       "selected                                                         \n",
       "False       1.220840     0.573480         1.805142    0.251612   \n",
       "True        1.238318     0.630946         2.055672    0.249085   \n",
       "\n",
       "          er_num_mod_12m  hosp_any_12m  \n",
       "selected                                \n",
       "False           0.437441      0.068020  \n",
       "True            0.428995      0.068566  "
      ]
     },
     "execution_count": 41,
     "metadata": {},
     "output_type": "execute_result"
    }
   ],
   "source": [
    "ybar = Y.apply(lambda col: col.groupby(P['selected']).mean())\n",
    "ybar"
   ]
  },
  {
   "cell_type": "code",
   "execution_count": 42,
   "metadata": {
    "colab": {
     "base_uri": "https://localhost:8080/",
     "height": 163
    },
    "executionInfo": {
     "elapsed": 593,
     "status": "ok",
     "timestamp": 1724119840060,
     "user": {
      "displayName": "Yong Song",
      "userId": "00576951217859821315"
     },
     "user_tz": -600
    },
    "id": "diJNRVrEWqSC",
    "outputId": "01cf17bf-98cf-419f-98f2-daae3e6123e1"
   },
   "outputs": [
    {
     "data": {
      "application/vnd.microsoft.datawrangler.viewer.v0+json": {
       "columns": [
        {
         "name": "selected",
         "rawType": "bool",
         "type": "boolean"
        },
        {
         "name": "weight_12m",
         "rawType": "float64",
         "type": "float"
        },
        {
         "name": "doc_any_12m",
         "rawType": "float64",
         "type": "float"
        },
        {
         "name": "doc_num_mod_12m",
         "rawType": "float64",
         "type": "float"
        },
        {
         "name": "er_any_12m",
         "rawType": "float64",
         "type": "float"
        },
        {
         "name": "er_num_mod_12m",
         "rawType": "float64",
         "type": "float"
        },
        {
         "name": "hosp_any_12m",
         "rawType": "float64",
         "type": "float"
        }
       ],
       "ref": "1c7c9de8-23b9-4a29-a851-d8877c4d5a75",
       "rows": [
        [
         "False",
         "0.3659533888823095",
         "0.2446217114414773",
         "7.732581053445636",
         "0.18831976852999396",
         "0.9349620089959868",
         "0.06339839108443392"
        ],
        [
         "True",
         "0.3784536675430802",
         "0.23287339241313526",
         "8.792840095063255",
         "0.18705806348941892",
         "0.8930583425690622",
         "0.06387022702571583"
        ]
       ],
       "shape": {
        "columns": 6,
        "rows": 2
       }
      },
      "text/html": [
       "<div>\n",
       "<style scoped>\n",
       "    .dataframe tbody tr th:only-of-type {\n",
       "        vertical-align: middle;\n",
       "    }\n",
       "\n",
       "    .dataframe tbody tr th {\n",
       "        vertical-align: top;\n",
       "    }\n",
       "\n",
       "    .dataframe thead th {\n",
       "        text-align: right;\n",
       "    }\n",
       "</style>\n",
       "<table border=\"1\" class=\"dataframe\">\n",
       "  <thead>\n",
       "    <tr style=\"text-align: right;\">\n",
       "      <th></th>\n",
       "      <th>weight_12m</th>\n",
       "      <th>doc_any_12m</th>\n",
       "      <th>doc_num_mod_12m</th>\n",
       "      <th>er_any_12m</th>\n",
       "      <th>er_num_mod_12m</th>\n",
       "      <th>hosp_any_12m</th>\n",
       "    </tr>\n",
       "    <tr>\n",
       "      <th>selected</th>\n",
       "      <th></th>\n",
       "      <th></th>\n",
       "      <th></th>\n",
       "      <th></th>\n",
       "      <th></th>\n",
       "      <th></th>\n",
       "    </tr>\n",
       "  </thead>\n",
       "  <tbody>\n",
       "    <tr>\n",
       "      <th>False</th>\n",
       "      <td>0.365953</td>\n",
       "      <td>0.244622</td>\n",
       "      <td>7.732581</td>\n",
       "      <td>0.188320</td>\n",
       "      <td>0.934962</td>\n",
       "      <td>0.063398</td>\n",
       "    </tr>\n",
       "    <tr>\n",
       "      <th>True</th>\n",
       "      <td>0.378454</td>\n",
       "      <td>0.232873</td>\n",
       "      <td>8.792840</td>\n",
       "      <td>0.187058</td>\n",
       "      <td>0.893058</td>\n",
       "      <td>0.063870</td>\n",
       "    </tr>\n",
       "  </tbody>\n",
       "</table>\n",
       "</div>"
      ],
      "text/plain": [
       "          weight_12m  doc_any_12m  doc_num_mod_12m  er_any_12m  \\\n",
       "selected                                                         \n",
       "False       0.365953     0.244622         7.732581    0.188320   \n",
       "True        0.378454     0.232873         8.792840    0.187058   \n",
       "\n",
       "          er_num_mod_12m  hosp_any_12m  \n",
       "selected                                \n",
       "False           0.934962      0.063398  \n",
       "True            0.893058      0.063870  "
      ]
     },
     "execution_count": 42,
     "metadata": {},
     "output_type": "execute_result"
    }
   ],
   "source": [
    "yvar = Y.apply(lambda col: col.groupby(P['selected']).var())\n",
    "yvar"
   ]
  },
  {
   "cell_type": "code",
   "execution_count": 43,
   "metadata": {
    "colab": {
     "base_uri": "https://localhost:8080/",
     "height": 272
    },
    "executionInfo": {
     "elapsed": 1131,
     "status": "ok",
     "timestamp": 1724119844992,
     "user": {
      "displayName": "Yong Song",
      "userId": "00576951217859821315"
     },
     "user_tz": -600
    },
    "id": "maq22GidZQPG",
    "outputId": "a2b1aaac-08f3-41c7-ef1e-5a6650fbbdf3"
   },
   "outputs": [
    {
     "data": {
      "application/vnd.microsoft.datawrangler.viewer.v0+json": {
       "columns": [
        {
         "name": "index",
         "rawType": "object",
         "type": "string"
        },
        {
         "name": "0",
         "rawType": "float64",
         "type": "float"
        }
       ],
       "ref": "b40c550e-04e9-430e-ab68-0e467526726b",
       "rows": [
        [
         "weight_12m",
         "0.01747737936047411"
        ],
        [
         "doc_any_12m",
         "0.05746606499595419"
        ],
        [
         "doc_num_mod_12m",
         "0.2505294031895764"
        ],
        [
         "er_any_12m",
         "-0.002527141957281237"
        ],
        [
         "er_num_mod_12m",
         "-0.00844628219514365"
        ],
        [
         "hosp_any_12m",
         "0.0005463460994694358"
        ]
       ],
       "shape": {
        "columns": 1,
        "rows": 6
       }
      },
      "text/plain": [
       "weight_12m         0.017477\n",
       "doc_any_12m        0.057466\n",
       "doc_num_mod_12m    0.250529\n",
       "er_any_12m        -0.002527\n",
       "er_num_mod_12m    -0.008446\n",
       "hosp_any_12m       0.000546\n",
       "dtype: float64"
      ]
     },
     "execution_count": 43,
     "metadata": {},
     "output_type": "execute_result"
    }
   ],
   "source": [
    "ATEs = ybar.loc[True, :] - ybar.loc[False, :]\n",
    "ATEs"
   ]
  },
  {
   "cell_type": "code",
   "execution_count": 44,
   "metadata": {
    "colab": {
     "base_uri": "https://localhost:8080/",
     "height": 178
    },
    "executionInfo": {
     "elapsed": 359,
     "status": "ok",
     "timestamp": 1724119859805,
     "user": {
      "displayName": "Yong Song",
      "userId": "00576951217859821315"
     },
     "user_tz": -600
    },
    "id": "xqvkHMCAZ6yz",
    "outputId": "5f6d8b94-5810-4c47-bea0-8d863c4ed740"
   },
   "outputs": [
    {
     "data": {
      "application/vnd.microsoft.datawrangler.viewer.v0+json": {
       "columns": [
        {
         "name": "selected",
         "rawType": "bool",
         "type": "boolean"
        },
        {
         "name": "count",
         "rawType": "int64",
         "type": "integer"
        }
       ],
       "ref": "06cf85fe-f649-4bc9-808d-6b56eb267ec4",
       "rows": [
        [
         "False",
         "11629"
        ],
        [
         "True",
         "11478"
        ]
       ],
       "shape": {
        "columns": 1,
        "rows": 2
       }
      },
      "text/plain": [
       "selected\n",
       "False    11629\n",
       "True     11478\n",
       "Name: count, dtype: int64"
      ]
     },
     "execution_count": 44,
     "metadata": {},
     "output_type": "execute_result"
    }
   ],
   "source": [
    "nsel = P['selected'].value_counts()\n",
    "nsel"
   ]
  },
  {
   "cell_type": "code",
   "execution_count": 45,
   "metadata": {
    "colab": {
     "base_uri": "https://localhost:8080/",
     "height": 272
    },
    "executionInfo": {
     "elapsed": 370,
     "status": "ok",
     "timestamp": 1724119902915,
     "user": {
      "displayName": "Yong Song",
      "userId": "00576951217859821315"
     },
     "user_tz": -600
    },
    "id": "zXUJ7PPUZcp8",
    "outputId": "9b375ea9-3aa6-4efe-a873-f55431df372a"
   },
   "outputs": [
    {
     "data": {
      "application/vnd.microsoft.datawrangler.viewer.v0+json": {
       "columns": [
        {
         "name": "index",
         "rawType": "object",
         "type": "string"
        },
        {
         "name": "0",
         "rawType": "float64",
         "type": "float"
        }
       ],
       "ref": "56637e52-2d61-41b0-887c-643f944ccc0a",
       "rows": [
        [
         "weight_12m",
         "0.008027522965929974"
        ],
        [
         "doc_any_12m",
         "0.006428387291688661"
        ],
        [
         "doc_num_mod_12m",
         "0.037828557517009635"
        ],
        [
         "er_any_12m",
         "0.0057000941638224055"
        ],
        [
         "er_num_mod_12m",
         "0.012577967596995478"
        ],
        [
         "hosp_any_12m",
         "0.0033190853007206817"
        ]
       ],
       "shape": {
        "columns": 1,
        "rows": 6
       }
      },
      "text/plain": [
       "weight_12m         0.008028\n",
       "doc_any_12m        0.006428\n",
       "doc_num_mod_12m    0.037829\n",
       "er_any_12m         0.005700\n",
       "er_num_mod_12m     0.012578\n",
       "hosp_any_12m       0.003319\n",
       "dtype: float64"
      ]
     },
     "execution_count": 45,
     "metadata": {},
     "output_type": "execute_result"
    }
   ],
   "source": [
    "ATEs_se = np.sqrt(yvar.loc[True, :] / nsel[True] + yvar.loc[False, :] / nsel[False])\n",
    "ATEs_se"
   ]
  },
  {
   "cell_type": "code",
   "execution_count": 46,
   "metadata": {
    "executionInfo": {
     "elapsed": 338,
     "status": "ok",
     "timestamp": 1724119919230,
     "user": {
      "displayName": "Yong Song",
      "userId": "00576951217859821315"
     },
     "user_tz": -600
    },
    "id": "bPPhB3YQaWlK"
   },
   "outputs": [],
   "source": [
    "# estimate, se and t stats\n",
    "df0 = pd.DataFrame({\"AET\": ATEs, \"se\": ATEs_se, \"t-stat\": ATEs/ATEs_se})"
   ]
  },
  {
   "cell_type": "code",
   "execution_count": 47,
   "metadata": {
    "colab": {
     "base_uri": "https://localhost:8080/",
     "height": 238
    },
    "executionInfo": {
     "elapsed": 4,
     "status": "ok",
     "timestamp": 1724119922338,
     "user": {
      "displayName": "Yong Song",
      "userId": "00576951217859821315"
     },
     "user_tz": -600
    },
    "id": "bHRISNlva0pG",
    "outputId": "e1c1e769-1e62-4bb2-f5c3-c9be2f2f5c50"
   },
   "outputs": [
    {
     "data": {
      "application/vnd.microsoft.datawrangler.viewer.v0+json": {
       "columns": [
        {
         "name": "index",
         "rawType": "object",
         "type": "string"
        },
        {
         "name": "AET",
         "rawType": "float64",
         "type": "float"
        },
        {
         "name": "se",
         "rawType": "float64",
         "type": "float"
        },
        {
         "name": "t-stat",
         "rawType": "float64",
         "type": "float"
        }
       ],
       "ref": "c6566a25-daf5-4d06-a34d-07a19f0d0797",
       "rows": [
        [
         "weight_12m",
         "0.01747737936047411",
         "0.008027522965929974",
         "2.177182106441895"
        ],
        [
         "doc_any_12m",
         "0.05746606499595419",
         "0.006428387291688661",
         "8.939421722498388"
        ],
        [
         "doc_num_mod_12m",
         "0.2505294031895764",
         "0.037828557517009635",
         "6.622758562150452"
        ],
        [
         "er_any_12m",
         "-0.002527141957281237",
         "0.0057000941638224055",
         "-0.44335091397622983"
        ],
        [
         "er_num_mod_12m",
         "-0.00844628219514365",
         "0.012577967596995478",
         "-0.6715140685496145"
        ],
        [
         "hosp_any_12m",
         "0.0005463460994694358",
         "0.0033190853007206817",
         "0.16460742944774762"
        ]
       ],
       "shape": {
        "columns": 3,
        "rows": 6
       }
      },
      "text/html": [
       "<div>\n",
       "<style scoped>\n",
       "    .dataframe tbody tr th:only-of-type {\n",
       "        vertical-align: middle;\n",
       "    }\n",
       "\n",
       "    .dataframe tbody tr th {\n",
       "        vertical-align: top;\n",
       "    }\n",
       "\n",
       "    .dataframe thead th {\n",
       "        text-align: right;\n",
       "    }\n",
       "</style>\n",
       "<table border=\"1\" class=\"dataframe\">\n",
       "  <thead>\n",
       "    <tr style=\"text-align: right;\">\n",
       "      <th></th>\n",
       "      <th>AET</th>\n",
       "      <th>se</th>\n",
       "      <th>t-stat</th>\n",
       "    </tr>\n",
       "  </thead>\n",
       "  <tbody>\n",
       "    <tr>\n",
       "      <th>weight_12m</th>\n",
       "      <td>0.017477</td>\n",
       "      <td>0.008028</td>\n",
       "      <td>2.177182</td>\n",
       "    </tr>\n",
       "    <tr>\n",
       "      <th>doc_any_12m</th>\n",
       "      <td>0.057466</td>\n",
       "      <td>0.006428</td>\n",
       "      <td>8.939422</td>\n",
       "    </tr>\n",
       "    <tr>\n",
       "      <th>doc_num_mod_12m</th>\n",
       "      <td>0.250529</td>\n",
       "      <td>0.037829</td>\n",
       "      <td>6.622759</td>\n",
       "    </tr>\n",
       "    <tr>\n",
       "      <th>er_any_12m</th>\n",
       "      <td>-0.002527</td>\n",
       "      <td>0.005700</td>\n",
       "      <td>-0.443351</td>\n",
       "    </tr>\n",
       "    <tr>\n",
       "      <th>er_num_mod_12m</th>\n",
       "      <td>-0.008446</td>\n",
       "      <td>0.012578</td>\n",
       "      <td>-0.671514</td>\n",
       "    </tr>\n",
       "    <tr>\n",
       "      <th>hosp_any_12m</th>\n",
       "      <td>0.000546</td>\n",
       "      <td>0.003319</td>\n",
       "      <td>0.164607</td>\n",
       "    </tr>\n",
       "  </tbody>\n",
       "</table>\n",
       "</div>"
      ],
      "text/plain": [
       "                      AET        se    t-stat\n",
       "weight_12m       0.017477  0.008028  2.177182\n",
       "doc_any_12m      0.057466  0.006428  8.939422\n",
       "doc_num_mod_12m  0.250529  0.037829  6.622759\n",
       "er_any_12m      -0.002527  0.005700 -0.443351\n",
       "er_num_mod_12m  -0.008446  0.012578 -0.671514\n",
       "hosp_any_12m     0.000546  0.003319  0.164607"
      ]
     },
     "execution_count": 47,
     "metadata": {},
     "output_type": "execute_result"
    }
   ],
   "source": [
    "df0"
   ]
  },
  {
   "cell_type": "markdown",
   "metadata": {
    "id": "KW8o1Zmsd438"
   },
   "source": [
    "## Households"
   ]
  },
  {
   "cell_type": "code",
   "execution_count": 48,
   "metadata": {
    "colab": {
     "base_uri": "https://localhost:8080/",
     "height": 423
    },
    "executionInfo": {
     "elapsed": 367,
     "status": "ok",
     "timestamp": 1723201294739,
     "user": {
      "displayName": "Yong Song",
      "userId": "00576951217859821315"
     },
     "user_tz": -600
    },
    "id": "LfcT28nvejKY",
    "outputId": "4b85d75e-5579-4d73-e21c-9014a14ea783"
   },
   "outputs": [
    {
     "data": {
      "application/vnd.microsoft.datawrangler.viewer.v0+json": {
       "columns": [
        {
         "name": "index",
         "rawType": "int64",
         "type": "integer"
        },
        {
         "name": "person_id",
         "rawType": "int64",
         "type": "integer"
        },
        {
         "name": "household_id",
         "rawType": "int64",
         "type": "integer"
        },
        {
         "name": "doc_any_12m",
         "rawType": "bool",
         "type": "boolean"
        },
        {
         "name": "selected",
         "rawType": "bool",
         "type": "boolean"
        },
        {
         "name": "medicaid",
         "rawType": "bool",
         "type": "boolean"
        },
        {
         "name": "numhh",
         "rawType": "object",
         "type": "string"
        },
        {
         "name": "weights",
         "rawType": "float64",
         "type": "float"
        }
       ],
       "ref": "acb83199-efff-4f99-8b3a-06a4ac18486a",
       "rows": [
        [
         "0",
         "1",
         "100001",
         "False",
         "True",
         "False",
         "1",
         "1.0"
        ],
        [
         "1",
         "2",
         "100002",
         "False",
         "True",
         "True",
         "1",
         "1.0"
        ],
        [
         "2",
         "5",
         "100005",
         "False",
         "True",
         "False",
         "1",
         null
        ],
        [
         "3",
         "6",
         "100006",
         "True",
         "True",
         "False",
         "1",
         null
        ],
        [
         "4",
         "8",
         "102094",
         "False",
         "False",
         "False",
         "2",
         "1.0"
        ],
        [
         "5",
         "9",
         "100009",
         "True",
         "False",
         "False",
         "1",
         "1.0"
        ],
        [
         "6",
         "10",
         "111771",
         "True",
         "False",
         "False",
         "2",
         null
        ],
        [
         "7",
         "13",
         "100013",
         "True",
         "True",
         "True",
         "1",
         "1.0"
        ],
        [
         "8",
         "14",
         "100014",
         "False",
         "True",
         "True",
         "1",
         "1.0"
        ],
        [
         "9",
         "23",
         "115253",
         "True",
         "True",
         "True",
         "2",
         "1.0"
        ],
        [
         "10",
         "25",
         "100025",
         "True",
         "True",
         "False",
         "1",
         null
        ],
        [
         "11",
         "26",
         "100026",
         "False",
         "False",
         "False",
         "1",
         null
        ],
        [
         "12",
         "27",
         "172099",
         "False",
         "False",
         "False",
         "2",
         "1.0"
        ],
        [
         "13",
         "28",
         "100028",
         "True",
         "False",
         "False",
         "1",
         "1.0"
        ],
        [
         "14",
         "29",
         "100029",
         "True",
         "False",
         "False",
         "1",
         null
        ],
        [
         "15",
         "30",
         "149784",
         "False",
         "True",
         "True",
         "2",
         null
        ],
        [
         "16",
         "32",
         "100032",
         "True",
         "True",
         "False",
         "1",
         null
        ],
        [
         "17",
         "36",
         "148216",
         "True",
         "False",
         "False",
         "2",
         null
        ],
        [
         "18",
         "37",
         "156645",
         "False",
         "True",
         "False",
         "2",
         null
        ],
        [
         "19",
         "38",
         "100038",
         "False",
         "False",
         "False",
         "1",
         null
        ],
        [
         "20",
         "42",
         "100042",
         "False",
         "True",
         "False",
         "1",
         null
        ],
        [
         "21",
         "44",
         "100044",
         "True",
         "False",
         "False",
         "1",
         null
        ],
        [
         "22",
         "47",
         "100047",
         "False",
         "False",
         "False",
         "1",
         "1.0"
        ],
        [
         "23",
         "49",
         "171342",
         "True",
         "True",
         "False",
         "2",
         null
        ],
        [
         "24",
         "50",
         "105740",
         "False",
         "True",
         "True",
         "2",
         "1.0"
        ],
        [
         "25",
         "53",
         "100053",
         "True",
         "True",
         "True",
         "1",
         "1.0"
        ],
        [
         "26",
         "57",
         "100057",
         "False",
         "True",
         "True",
         "1",
         "1.0"
        ],
        [
         "27",
         "58",
         "100058",
         "True",
         "False",
         "False",
         "1",
         "1.0"
        ],
        [
         "28",
         "59",
         "100059",
         "True",
         "False",
         "False",
         "1",
         "2.82379746437073"
        ],
        [
         "29",
         "64",
         "100064",
         "True",
         "True",
         "False",
         "1",
         "1.0"
        ],
        [
         "30",
         "66",
         "139764",
         "True",
         "False",
         "False",
         "2",
         null
        ],
        [
         "31",
         "70",
         "100070",
         "True",
         "True",
         "False",
         "1",
         "1.0"
        ],
        [
         "32",
         "71",
         "121839",
         "True",
         "True",
         "False",
         "2",
         null
        ],
        [
         "33",
         "75",
         "100075",
         "False",
         "False",
         "False",
         "1",
         null
        ],
        [
         "34",
         "77",
         "100077",
         "False",
         "False",
         "False",
         "1",
         null
        ],
        [
         "35",
         "78",
         "100078",
         "True",
         "True",
         "False",
         "1",
         "1.0"
        ],
        [
         "36",
         "79",
         "100079",
         "False",
         "False",
         "False",
         "1",
         "1.0"
        ],
        [
         "37",
         "82",
         "154852",
         "True",
         "False",
         "False",
         "2",
         "2.82379746437073"
        ],
        [
         "38",
         "83",
         "100083",
         "True",
         "False",
         "True",
         "1",
         null
        ],
        [
         "39",
         "87",
         "170494",
         "False",
         "False",
         "False",
         "2",
         null
        ],
        [
         "40",
         "88",
         "150584",
         "True",
         "False",
         "False",
         "2",
         null
        ],
        [
         "41",
         "89",
         "100089",
         "True",
         "False",
         "True",
         "1",
         "1.0"
        ],
        [
         "42",
         "90",
         "167866",
         "False",
         "False",
         "False",
         "2",
         null
        ],
        [
         "43",
         "91",
         "100091",
         "False",
         "False",
         "False",
         "1",
         "1.0"
        ],
        [
         "44",
         "93",
         "100093",
         "False",
         "True",
         "False",
         "1",
         null
        ],
        [
         "45",
         "96",
         "160801",
         "False",
         "True",
         "True",
         "2",
         null
        ],
        [
         "46",
         "98",
         "100098",
         "False",
         "False",
         "False",
         "1",
         "1.0"
        ],
        [
         "47",
         "100",
         "100100",
         "True",
         "False",
         "False",
         "1",
         null
        ],
        [
         "48",
         "101",
         "100101",
         "True",
         "True",
         "False",
         "1",
         "1.0"
        ],
        [
         "49",
         "104",
         "100104",
         "True",
         "False",
         "False",
         "1",
         "1.0"
        ]
       ],
       "shape": {
        "columns": 7,
        "rows": 20476
       }
      },
      "text/html": [
       "<div>\n",
       "<style scoped>\n",
       "    .dataframe tbody tr th:only-of-type {\n",
       "        vertical-align: middle;\n",
       "    }\n",
       "\n",
       "    .dataframe tbody tr th {\n",
       "        vertical-align: top;\n",
       "    }\n",
       "\n",
       "    .dataframe thead th {\n",
       "        text-align: right;\n",
       "    }\n",
       "</style>\n",
       "<table border=\"1\" class=\"dataframe\">\n",
       "  <thead>\n",
       "    <tr style=\"text-align: right;\">\n",
       "      <th></th>\n",
       "      <th>person_id</th>\n",
       "      <th>household_id</th>\n",
       "      <th>doc_any_12m</th>\n",
       "      <th>selected</th>\n",
       "      <th>medicaid</th>\n",
       "      <th>numhh</th>\n",
       "      <th>weights</th>\n",
       "    </tr>\n",
       "  </thead>\n",
       "  <tbody>\n",
       "    <tr>\n",
       "      <th>0</th>\n",
       "      <td>1</td>\n",
       "      <td>100001</td>\n",
       "      <td>False</td>\n",
       "      <td>True</td>\n",
       "      <td>False</td>\n",
       "      <td>1</td>\n",
       "      <td>1.0</td>\n",
       "    </tr>\n",
       "    <tr>\n",
       "      <th>1</th>\n",
       "      <td>2</td>\n",
       "      <td>100002</td>\n",
       "      <td>False</td>\n",
       "      <td>True</td>\n",
       "      <td>True</td>\n",
       "      <td>1</td>\n",
       "      <td>1.0</td>\n",
       "    </tr>\n",
       "    <tr>\n",
       "      <th>2</th>\n",
       "      <td>5</td>\n",
       "      <td>100005</td>\n",
       "      <td>False</td>\n",
       "      <td>True</td>\n",
       "      <td>False</td>\n",
       "      <td>1</td>\n",
       "      <td>NaN</td>\n",
       "    </tr>\n",
       "    <tr>\n",
       "      <th>3</th>\n",
       "      <td>6</td>\n",
       "      <td>100006</td>\n",
       "      <td>True</td>\n",
       "      <td>True</td>\n",
       "      <td>False</td>\n",
       "      <td>1</td>\n",
       "      <td>NaN</td>\n",
       "    </tr>\n",
       "    <tr>\n",
       "      <th>4</th>\n",
       "      <td>8</td>\n",
       "      <td>102094</td>\n",
       "      <td>False</td>\n",
       "      <td>False</td>\n",
       "      <td>False</td>\n",
       "      <td>2</td>\n",
       "      <td>1.0</td>\n",
       "    </tr>\n",
       "    <tr>\n",
       "      <th>...</th>\n",
       "      <td>...</td>\n",
       "      <td>...</td>\n",
       "      <td>...</td>\n",
       "      <td>...</td>\n",
       "      <td>...</td>\n",
       "      <td>...</td>\n",
       "      <td>...</td>\n",
       "    </tr>\n",
       "    <tr>\n",
       "      <th>23100</th>\n",
       "      <td>74900</td>\n",
       "      <td>174900</td>\n",
       "      <td>True</td>\n",
       "      <td>True</td>\n",
       "      <td>False</td>\n",
       "      <td>1</td>\n",
       "      <td>NaN</td>\n",
       "    </tr>\n",
       "    <tr>\n",
       "      <th>23102</th>\n",
       "      <td>74905</td>\n",
       "      <td>174905</td>\n",
       "      <td>True</td>\n",
       "      <td>False</td>\n",
       "      <td>False</td>\n",
       "      <td>1</td>\n",
       "      <td>NaN</td>\n",
       "    </tr>\n",
       "    <tr>\n",
       "      <th>23103</th>\n",
       "      <td>74910</td>\n",
       "      <td>174910</td>\n",
       "      <td>True</td>\n",
       "      <td>False</td>\n",
       "      <td>False</td>\n",
       "      <td>1</td>\n",
       "      <td>NaN</td>\n",
       "    </tr>\n",
       "    <tr>\n",
       "      <th>23105</th>\n",
       "      <td>74917</td>\n",
       "      <td>174917</td>\n",
       "      <td>True</td>\n",
       "      <td>False</td>\n",
       "      <td>False</td>\n",
       "      <td>1</td>\n",
       "      <td>NaN</td>\n",
       "    </tr>\n",
       "    <tr>\n",
       "      <th>23106</th>\n",
       "      <td>74921</td>\n",
       "      <td>174921</td>\n",
       "      <td>True</td>\n",
       "      <td>True</td>\n",
       "      <td>True</td>\n",
       "      <td>1</td>\n",
       "      <td>NaN</td>\n",
       "    </tr>\n",
       "  </tbody>\n",
       "</table>\n",
       "<p>20476 rows × 7 columns</p>\n",
       "</div>"
      ],
      "text/plain": [
       "       person_id  household_id  doc_any_12m  selected  medicaid numhh  weights\n",
       "0              1        100001        False      True     False     1      1.0\n",
       "1              2        100002        False      True      True     1      1.0\n",
       "2              5        100005        False      True     False     1      NaN\n",
       "3              6        100006         True      True     False     1      NaN\n",
       "4              8        102094        False     False     False     2      1.0\n",
       "...          ...           ...          ...       ...       ...   ...      ...\n",
       "23100      74900        174900         True      True     False     1      NaN\n",
       "23102      74905        174905         True     False     False     1      NaN\n",
       "23103      74910        174910         True     False     False     1      NaN\n",
       "23105      74917        174917         True     False     False     1      NaN\n",
       "23106      74921        174921         True      True      True     1      NaN\n",
       "\n",
       "[20476 rows x 7 columns]"
      ]
     },
     "execution_count": 48,
     "metadata": {},
     "output_type": "execute_result"
    }
   ],
   "source": [
    "P_hh = P.drop_duplicates('household_id')\n",
    "P_hh"
   ]
  },
  {
   "cell_type": "code",
   "execution_count": 49,
   "metadata": {
    "colab": {
     "base_uri": "https://localhost:8080/",
     "height": 443
    },
    "executionInfo": {
     "elapsed": 387,
     "status": "ok",
     "timestamp": 1723201317800,
     "user": {
      "displayName": "Yong Song",
      "userId": "00576951217859821315"
     },
     "user_tz": -600
    },
    "id": "8qpr7HpUfEbf",
    "outputId": "60409b33-84ee-4cfc-fbdb-3704f9b7a4c9"
   },
   "outputs": [
    {
     "data": {
      "application/vnd.microsoft.datawrangler.viewer.v0+json": {
       "columns": [
        {
         "name": "index",
         "rawType": "int64",
         "type": "integer"
        },
        {
         "name": "weight_12m",
         "rawType": "float64",
         "type": "float"
        },
        {
         "name": "doc_any_12m",
         "rawType": "bool",
         "type": "boolean"
        },
        {
         "name": "doc_num_mod_12m",
         "rawType": "float64",
         "type": "float"
        },
        {
         "name": "er_any_12m",
         "rawType": "bool",
         "type": "boolean"
        },
        {
         "name": "er_num_mod_12m",
         "rawType": "float64",
         "type": "float"
        },
        {
         "name": "hosp_any_12m",
         "rawType": "bool",
         "type": "boolean"
        }
       ],
       "ref": "d6f4a902-25f9-4e88-a5eb-ad4335dbd9a1",
       "rows": [
        [
         "0",
         "1.0",
         "False",
         "0.0",
         "False",
         "0.0",
         "False"
        ],
        [
         "1",
         "1.0",
         "False",
         "0.0",
         "False",
         "0.0",
         "False"
        ],
        [
         "2",
         "1.0",
         "False",
         "0.0",
         "False",
         "0.0",
         "False"
        ],
        [
         "3",
         "1.0",
         "True",
         "1.0",
         "False",
         "0.0",
         "False"
        ],
        [
         "4",
         "1.0",
         "False",
         "0.0",
         "False",
         "0.0",
         "False"
        ],
        [
         "5",
         "1.0",
         "True",
         "1.0",
         "False",
         "0.0",
         "False"
        ],
        [
         "6",
         "1.0",
         "True",
         "3.0",
         "False",
         "0.0",
         "False"
        ],
        [
         "7",
         "1.0",
         "True",
         "10.0",
         "False",
         "0.0",
         "False"
        ],
        [
         "8",
         "1.0",
         "False",
         "0.0",
         "False",
         "0.0",
         "False"
        ],
        [
         "9",
         "1.0",
         "True",
         "4.0",
         "False",
         "0.0",
         "False"
        ],
        [
         "10",
         "1.0",
         "True",
         "3.0",
         "True",
         "1.0",
         "False"
        ],
        [
         "11",
         "1.0",
         "False",
         "0.0",
         "False",
         "0.0",
         "False"
        ],
        [
         "12",
         "1.0",
         "False",
         "0.0",
         "False",
         "0.0",
         "False"
        ],
        [
         "13",
         "1.0",
         "True",
         "1.0",
         "False",
         "0.0",
         "False"
        ],
        [
         "14",
         "2.82379746437073",
         "True",
         "10.0",
         "True",
         "5.0",
         "False"
        ],
        [
         "15",
         "1.0",
         "False",
         "0.0",
         "False",
         "0.0",
         "False"
        ],
        [
         "16",
         "1.0",
         "True",
         "2.0",
         "True",
         "1.0",
         "False"
        ],
        [
         "17",
         "1.0",
         "True",
         "3.0",
         "False",
         "0.0",
         "False"
        ],
        [
         "18",
         "1.0",
         "False",
         "0.0",
         "False",
         "0.0",
         "False"
        ],
        [
         "19",
         "2.82379746437073",
         "False",
         "0.0",
         "False",
         "0.0",
         "False"
        ],
        [
         "20",
         "1.0",
         "False",
         "0.0",
         "False",
         "0.0",
         "False"
        ],
        [
         "21",
         "1.0",
         "True",
         "1.0",
         "False",
         "0.0",
         "False"
        ],
        [
         "22",
         "1.0",
         "False",
         "0.0",
         "False",
         "0.0",
         "False"
        ],
        [
         "23",
         "1.0",
         "True",
         "5.0",
         "False",
         "0.0",
         "False"
        ],
        [
         "24",
         "1.0",
         "False",
         "0.0",
         "False",
         "0.0",
         "False"
        ],
        [
         "25",
         "1.0",
         "True",
         "4.0",
         "False",
         "0.0",
         "False"
        ],
        [
         "26",
         "1.0",
         "False",
         "0.0",
         "True",
         "3.0",
         "False"
        ],
        [
         "27",
         "1.0",
         "True",
         "3.0",
         "False",
         "0.0",
         "False"
        ],
        [
         "28",
         "1.0",
         "True",
         "5.0",
         "False",
         "0.0",
         "False"
        ],
        [
         "29",
         "1.0",
         "True",
         "1.0",
         "False",
         "0.0",
         "False"
        ],
        [
         "30",
         "1.0",
         "True",
         "2.0",
         "True",
         "1.0",
         "True"
        ],
        [
         "31",
         "1.0",
         "True",
         "4.0",
         "False",
         "0.0",
         "False"
        ],
        [
         "32",
         "1.0",
         "True",
         "2.0",
         "True",
         "1.0",
         "False"
        ],
        [
         "33",
         "1.0",
         "False",
         "0.0",
         "False",
         "0.0",
         "False"
        ],
        [
         "34",
         "1.0",
         "False",
         "0.0",
         "False",
         "0.0",
         "False"
        ],
        [
         "35",
         "1.0",
         "True",
         "2.0",
         "True",
         "2.0",
         "True"
        ],
        [
         "36",
         "1.0",
         "False",
         "0.0",
         "False",
         "0.0",
         "False"
        ],
        [
         "37",
         "1.0",
         "True",
         "1.0",
         "False",
         "0.0",
         "False"
        ],
        [
         "38",
         "1.0",
         "True",
         "3.0",
         "True",
         "3.0",
         "True"
        ],
        [
         "39",
         "1.0",
         "False",
         "0.0",
         "False",
         "0.0",
         "False"
        ],
        [
         "40",
         "2.82379746437073",
         "True",
         "3.0",
         "False",
         "0.0",
         "False"
        ],
        [
         "41",
         "1.0",
         "True",
         "3.0",
         "False",
         "0.0",
         "False"
        ],
        [
         "42",
         "1.0",
         "False",
         "0.0",
         "True",
         "1.0",
         "False"
        ],
        [
         "43",
         "1.0",
         "False",
         "0.0",
         "False",
         "0.0",
         "False"
        ],
        [
         "44",
         "1.0",
         "False",
         "0.0",
         "False",
         "0.0",
         "False"
        ],
        [
         "45",
         "2.82379746437073",
         "False",
         "0.0",
         "False",
         "0.0",
         "False"
        ],
        [
         "46",
         "1.0",
         "False",
         "0.0",
         "False",
         "0.0",
         "False"
        ],
        [
         "47",
         "1.0",
         "True",
         "2.0",
         "False",
         "0.0",
         "False"
        ],
        [
         "48",
         "1.0",
         "True",
         "2.0",
         "False",
         "0.0",
         "False"
        ],
        [
         "49",
         "1.0",
         "True",
         "2.0",
         "False",
         "0.0",
         "False"
        ]
       ],
       "shape": {
        "columns": 6,
        "rows": 20476
       }
      },
      "text/html": [
       "<div>\n",
       "<style scoped>\n",
       "    .dataframe tbody tr th:only-of-type {\n",
       "        vertical-align: middle;\n",
       "    }\n",
       "\n",
       "    .dataframe tbody tr th {\n",
       "        vertical-align: top;\n",
       "    }\n",
       "\n",
       "    .dataframe thead th {\n",
       "        text-align: right;\n",
       "    }\n",
       "</style>\n",
       "<table border=\"1\" class=\"dataframe\">\n",
       "  <thead>\n",
       "    <tr style=\"text-align: right;\">\n",
       "      <th></th>\n",
       "      <th>weight_12m</th>\n",
       "      <th>doc_any_12m</th>\n",
       "      <th>doc_num_mod_12m</th>\n",
       "      <th>er_any_12m</th>\n",
       "      <th>er_num_mod_12m</th>\n",
       "      <th>hosp_any_12m</th>\n",
       "    </tr>\n",
       "  </thead>\n",
       "  <tbody>\n",
       "    <tr>\n",
       "      <th>0</th>\n",
       "      <td>1.0</td>\n",
       "      <td>False</td>\n",
       "      <td>0.0</td>\n",
       "      <td>False</td>\n",
       "      <td>0.0</td>\n",
       "      <td>False</td>\n",
       "    </tr>\n",
       "    <tr>\n",
       "      <th>1</th>\n",
       "      <td>1.0</td>\n",
       "      <td>False</td>\n",
       "      <td>0.0</td>\n",
       "      <td>False</td>\n",
       "      <td>0.0</td>\n",
       "      <td>False</td>\n",
       "    </tr>\n",
       "    <tr>\n",
       "      <th>2</th>\n",
       "      <td>1.0</td>\n",
       "      <td>False</td>\n",
       "      <td>0.0</td>\n",
       "      <td>False</td>\n",
       "      <td>0.0</td>\n",
       "      <td>False</td>\n",
       "    </tr>\n",
       "    <tr>\n",
       "      <th>3</th>\n",
       "      <td>1.0</td>\n",
       "      <td>True</td>\n",
       "      <td>1.0</td>\n",
       "      <td>False</td>\n",
       "      <td>0.0</td>\n",
       "      <td>False</td>\n",
       "    </tr>\n",
       "    <tr>\n",
       "      <th>4</th>\n",
       "      <td>1.0</td>\n",
       "      <td>False</td>\n",
       "      <td>0.0</td>\n",
       "      <td>False</td>\n",
       "      <td>0.0</td>\n",
       "      <td>False</td>\n",
       "    </tr>\n",
       "    <tr>\n",
       "      <th>...</th>\n",
       "      <td>...</td>\n",
       "      <td>...</td>\n",
       "      <td>...</td>\n",
       "      <td>...</td>\n",
       "      <td>...</td>\n",
       "      <td>...</td>\n",
       "    </tr>\n",
       "    <tr>\n",
       "      <th>23100</th>\n",
       "      <td>1.0</td>\n",
       "      <td>True</td>\n",
       "      <td>3.0</td>\n",
       "      <td>True</td>\n",
       "      <td>1.0</td>\n",
       "      <td>False</td>\n",
       "    </tr>\n",
       "    <tr>\n",
       "      <th>23102</th>\n",
       "      <td>1.0</td>\n",
       "      <td>True</td>\n",
       "      <td>4.0</td>\n",
       "      <td>False</td>\n",
       "      <td>0.0</td>\n",
       "      <td>False</td>\n",
       "    </tr>\n",
       "    <tr>\n",
       "      <th>23103</th>\n",
       "      <td>1.0</td>\n",
       "      <td>True</td>\n",
       "      <td>2.0</td>\n",
       "      <td>False</td>\n",
       "      <td>0.0</td>\n",
       "      <td>False</td>\n",
       "    </tr>\n",
       "    <tr>\n",
       "      <th>23105</th>\n",
       "      <td>1.0</td>\n",
       "      <td>True</td>\n",
       "      <td>5.0</td>\n",
       "      <td>True</td>\n",
       "      <td>3.0</td>\n",
       "      <td>True</td>\n",
       "    </tr>\n",
       "    <tr>\n",
       "      <th>23106</th>\n",
       "      <td>1.0</td>\n",
       "      <td>True</td>\n",
       "      <td>1.0</td>\n",
       "      <td>False</td>\n",
       "      <td>0.0</td>\n",
       "      <td>False</td>\n",
       "    </tr>\n",
       "  </tbody>\n",
       "</table>\n",
       "<p>20476 rows × 6 columns</p>\n",
       "</div>"
      ],
      "text/plain": [
       "       weight_12m  doc_any_12m  doc_num_mod_12m  er_any_12m  er_num_mod_12m  \\\n",
       "0             1.0        False              0.0       False             0.0   \n",
       "1             1.0        False              0.0       False             0.0   \n",
       "2             1.0        False              0.0       False             0.0   \n",
       "3             1.0         True              1.0       False             0.0   \n",
       "4             1.0        False              0.0       False             0.0   \n",
       "...           ...          ...              ...         ...             ...   \n",
       "23100         1.0         True              3.0        True             1.0   \n",
       "23102         1.0         True              4.0       False             0.0   \n",
       "23103         1.0         True              2.0       False             0.0   \n",
       "23105         1.0         True              5.0        True             3.0   \n",
       "23106         1.0         True              1.0       False             0.0   \n",
       "\n",
       "       hosp_any_12m  \n",
       "0             False  \n",
       "1             False  \n",
       "2             False  \n",
       "3             False  \n",
       "4             False  \n",
       "...             ...  \n",
       "23100         False  \n",
       "23102         False  \n",
       "23103         False  \n",
       "23105          True  \n",
       "23106         False  \n",
       "\n",
       "[20476 rows x 6 columns]"
      ]
     },
     "execution_count": 49,
     "metadata": {},
     "output_type": "execute_result"
    }
   ],
   "source": [
    "Y_hh = Y.loc[P_hh.index,:]\n",
    "Y_hh"
   ]
  },
  {
   "cell_type": "code",
   "execution_count": 50,
   "metadata": {
    "colab": {
     "base_uri": "https://localhost:8080/",
     "height": 163
    },
    "executionInfo": {
     "elapsed": 439,
     "status": "ok",
     "timestamp": 1723201332380,
     "user": {
      "displayName": "Yong Song",
      "userId": "00576951217859821315"
     },
     "user_tz": -600
    },
    "id": "Agfn_VlOgamM",
    "outputId": "b3110c1f-0bf3-4772-fa39-58b873f90fe6"
   },
   "outputs": [
    {
     "data": {
      "application/vnd.microsoft.datawrangler.viewer.v0+json": {
       "columns": [
        {
         "name": "selected",
         "rawType": "bool",
         "type": "boolean"
        },
        {
         "name": "weight_12m",
         "rawType": "float64",
         "type": "float"
        },
        {
         "name": "doc_any_12m",
         "rawType": "float64",
         "type": "float"
        },
        {
         "name": "doc_num_mod_12m",
         "rawType": "float64",
         "type": "float"
        },
        {
         "name": "er_any_12m",
         "rawType": "float64",
         "type": "float"
        },
        {
         "name": "er_num_mod_12m",
         "rawType": "float64",
         "type": "float"
        },
        {
         "name": "hosp_any_12m",
         "rawType": "float64",
         "type": "float"
        }
       ],
       "ref": "620dc843-8181-42d7-bc4a-8f0a17052d69",
       "rows": [
        [
         "False",
         "1.2345305480109021",
         "0.579172610556348",
         "1.8444127436994768",
         "0.25905848787446506",
         "0.45335235378031385",
         "0.07037565382786495"
        ],
        [
         "True",
         "1.2606788153821191",
         "0.6415018572432487",
         "2.122076096777432",
         "0.25579761068165846",
         "0.4427266338721012",
         "0.07087641803031824"
        ]
       ],
       "shape": {
        "columns": 6,
        "rows": 2
       }
      },
      "text/html": [
       "<div>\n",
       "<style scoped>\n",
       "    .dataframe tbody tr th:only-of-type {\n",
       "        vertical-align: middle;\n",
       "    }\n",
       "\n",
       "    .dataframe tbody tr th {\n",
       "        vertical-align: top;\n",
       "    }\n",
       "\n",
       "    .dataframe thead th {\n",
       "        text-align: right;\n",
       "    }\n",
       "</style>\n",
       "<table border=\"1\" class=\"dataframe\">\n",
       "  <thead>\n",
       "    <tr style=\"text-align: right;\">\n",
       "      <th></th>\n",
       "      <th>weight_12m</th>\n",
       "      <th>doc_any_12m</th>\n",
       "      <th>doc_num_mod_12m</th>\n",
       "      <th>er_any_12m</th>\n",
       "      <th>er_num_mod_12m</th>\n",
       "      <th>hosp_any_12m</th>\n",
       "    </tr>\n",
       "    <tr>\n",
       "      <th>selected</th>\n",
       "      <th></th>\n",
       "      <th></th>\n",
       "      <th></th>\n",
       "      <th></th>\n",
       "      <th></th>\n",
       "      <th></th>\n",
       "    </tr>\n",
       "  </thead>\n",
       "  <tbody>\n",
       "    <tr>\n",
       "      <th>False</th>\n",
       "      <td>1.234531</td>\n",
       "      <td>0.579173</td>\n",
       "      <td>1.844413</td>\n",
       "      <td>0.259058</td>\n",
       "      <td>0.453352</td>\n",
       "      <td>0.070376</td>\n",
       "    </tr>\n",
       "    <tr>\n",
       "      <th>True</th>\n",
       "      <td>1.260679</td>\n",
       "      <td>0.641502</td>\n",
       "      <td>2.122076</td>\n",
       "      <td>0.255798</td>\n",
       "      <td>0.442727</td>\n",
       "      <td>0.070876</td>\n",
       "    </tr>\n",
       "  </tbody>\n",
       "</table>\n",
       "</div>"
      ],
      "text/plain": [
       "          weight_12m  doc_any_12m  doc_num_mod_12m  er_any_12m  \\\n",
       "selected                                                         \n",
       "False       1.234531     0.579173         1.844413    0.259058   \n",
       "True        1.260679     0.641502         2.122076    0.255798   \n",
       "\n",
       "          er_num_mod_12m  hosp_any_12m  \n",
       "selected                                \n",
       "False           0.453352      0.070376  \n",
       "True            0.442727      0.070876  "
      ]
     },
     "execution_count": 50,
     "metadata": {},
     "output_type": "execute_result"
    }
   ],
   "source": [
    "ybar = Y_hh.apply(lambda col: col.groupby(P_hh['selected']).mean())\n",
    "ybar"
   ]
  },
  {
   "cell_type": "code",
   "execution_count": 51,
   "metadata": {
    "colab": {
     "base_uri": "https://localhost:8080/",
     "height": 163
    },
    "executionInfo": {
     "elapsed": 375,
     "status": "ok",
     "timestamp": 1723201345688,
     "user": {
      "displayName": "Yong Song",
      "userId": "00576951217859821315"
     },
     "user_tz": -600
    },
    "id": "ZXMyAE4BgamW",
    "outputId": "dcd881a6-a569-4334-9b8d-897e7c85ba7a"
   },
   "outputs": [
    {
     "data": {
      "application/vnd.microsoft.datawrangler.viewer.v0+json": {
       "columns": [
        {
         "name": "selected",
         "rawType": "bool",
         "type": "boolean"
        },
        {
         "name": "weight_12m",
         "rawType": "float64",
         "type": "float"
        },
        {
         "name": "doc_any_12m",
         "rawType": "float64",
         "type": "float"
        },
        {
         "name": "doc_num_mod_12m",
         "rawType": "float64",
         "type": "float"
        },
        {
         "name": "er_any_12m",
         "rawType": "float64",
         "type": "float"
        },
        {
         "name": "er_num_mod_12m",
         "rawType": "float64",
         "type": "float"
        },
        {
         "name": "hosp_any_12m",
         "rawType": "float64",
         "type": "float"
        }
       ],
       "ref": "f1c7200a-650b-4ebb-9a5b-0d13d986d9a1",
       "rows": [
        [
         "False",
         "0.3840704817265289",
         "0.24375487937148943",
         "8.010791254393403",
         "0.19196544407741647",
         "0.9703128523425171",
         "0.0654291436339532"
        ],
        [
         "True",
         "0.40813644790494386",
         "0.23000031447948135",
         "9.135095930353275",
         "0.19038430602240325",
         "0.9178288699421723",
         "0.06585956313961806"
        ]
       ],
       "shape": {
        "columns": 6,
        "rows": 2
       }
      },
      "text/html": [
       "<div>\n",
       "<style scoped>\n",
       "    .dataframe tbody tr th:only-of-type {\n",
       "        vertical-align: middle;\n",
       "    }\n",
       "\n",
       "    .dataframe tbody tr th {\n",
       "        vertical-align: top;\n",
       "    }\n",
       "\n",
       "    .dataframe thead th {\n",
       "        text-align: right;\n",
       "    }\n",
       "</style>\n",
       "<table border=\"1\" class=\"dataframe\">\n",
       "  <thead>\n",
       "    <tr style=\"text-align: right;\">\n",
       "      <th></th>\n",
       "      <th>weight_12m</th>\n",
       "      <th>doc_any_12m</th>\n",
       "      <th>doc_num_mod_12m</th>\n",
       "      <th>er_any_12m</th>\n",
       "      <th>er_num_mod_12m</th>\n",
       "      <th>hosp_any_12m</th>\n",
       "    </tr>\n",
       "    <tr>\n",
       "      <th>selected</th>\n",
       "      <th></th>\n",
       "      <th></th>\n",
       "      <th></th>\n",
       "      <th></th>\n",
       "      <th></th>\n",
       "      <th></th>\n",
       "    </tr>\n",
       "  </thead>\n",
       "  <tbody>\n",
       "    <tr>\n",
       "      <th>False</th>\n",
       "      <td>0.384070</td>\n",
       "      <td>0.243755</td>\n",
       "      <td>8.010791</td>\n",
       "      <td>0.191965</td>\n",
       "      <td>0.970313</td>\n",
       "      <td>0.065429</td>\n",
       "    </tr>\n",
       "    <tr>\n",
       "      <th>True</th>\n",
       "      <td>0.408136</td>\n",
       "      <td>0.230000</td>\n",
       "      <td>9.135096</td>\n",
       "      <td>0.190384</td>\n",
       "      <td>0.917829</td>\n",
       "      <td>0.065860</td>\n",
       "    </tr>\n",
       "  </tbody>\n",
       "</table>\n",
       "</div>"
      ],
      "text/plain": [
       "          weight_12m  doc_any_12m  doc_num_mod_12m  er_any_12m  \\\n",
       "selected                                                         \n",
       "False       0.384070     0.243755         8.010791    0.191965   \n",
       "True        0.408136     0.230000         9.135096    0.190384   \n",
       "\n",
       "          er_num_mod_12m  hosp_any_12m  \n",
       "selected                                \n",
       "False           0.970313      0.065429  \n",
       "True            0.917829      0.065860  "
      ]
     },
     "execution_count": 51,
     "metadata": {},
     "output_type": "execute_result"
    }
   ],
   "source": [
    "yvar = Y_hh.apply(lambda col: col.groupby(P_hh['selected']).var())\n",
    "yvar"
   ]
  },
  {
   "cell_type": "code",
   "execution_count": 52,
   "metadata": {
    "colab": {
     "base_uri": "https://localhost:8080/",
     "height": 303
    },
    "executionInfo": {
     "elapsed": 379,
     "status": "ok",
     "timestamp": 1723201353139,
     "user": {
      "displayName": "Yong Song",
      "userId": "00576951217859821315"
     },
     "user_tz": -600
    },
    "id": "hQWpo3aBgamW",
    "outputId": "1ac8b556-edac-4fc3-cf82-3bd00403fa00"
   },
   "outputs": [
    {
     "data": {
      "application/vnd.microsoft.datawrangler.viewer.v0+json": {
       "columns": [
        {
         "name": "index",
         "rawType": "object",
         "type": "string"
        },
        {
         "name": "0",
         "rawType": "float64",
         "type": "float"
        }
       ],
       "ref": "e8c85856-dc47-4978-9564-1562ed953431",
       "rows": [
        [
         "weight_12m",
         "0.026148267371217004"
        ],
        [
         "doc_any_12m",
         "0.06232924668690065"
        ],
        [
         "doc_num_mod_12m",
         "0.2776633530779553"
        ],
        [
         "er_any_12m",
         "-0.0032608771928065994"
        ],
        [
         "er_num_mod_12m",
         "-0.01062571990821265"
        ],
        [
         "hosp_any_12m",
         "0.000500764202453291"
        ]
       ],
       "shape": {
        "columns": 1,
        "rows": 6
       }
      },
      "text/plain": [
       "weight_12m         0.026148\n",
       "doc_any_12m        0.062329\n",
       "doc_num_mod_12m    0.277663\n",
       "er_any_12m        -0.003261\n",
       "er_num_mod_12m    -0.010626\n",
       "hosp_any_12m       0.000501\n",
       "dtype: float64"
      ]
     },
     "execution_count": 52,
     "metadata": {},
     "output_type": "execute_result"
    }
   ],
   "source": [
    "AETs = ybar.loc[True, :] - ybar.loc[False, :]\n",
    "AETs"
   ]
  },
  {
   "cell_type": "code",
   "execution_count": 53,
   "metadata": {
    "colab": {
     "base_uri": "https://localhost:8080/",
     "height": 178
    },
    "executionInfo": {
     "elapsed": 356,
     "status": "ok",
     "timestamp": 1723201366591,
     "user": {
      "displayName": "Yong Song",
      "userId": "00576951217859821315"
     },
     "user_tz": -600
    },
    "id": "uS9eZDO1gamW",
    "outputId": "69ad142a-9f21-485f-b696-0cf3568b45ad"
   },
   "outputs": [
    {
     "data": {
      "application/vnd.microsoft.datawrangler.viewer.v0+json": {
       "columns": [
        {
         "name": "selected",
         "rawType": "bool",
         "type": "boolean"
        },
        {
         "name": "count",
         "rawType": "int64",
         "type": "integer"
        }
       ],
       "ref": "6da20e0f-13aa-40b3-89ca-9b39e5795788",
       "rows": [
        [
         "False",
         "10515"
        ],
        [
         "True",
         "9961"
        ]
       ],
       "shape": {
        "columns": 1,
        "rows": 2
       }
      },
      "text/plain": [
       "selected\n",
       "False    10515\n",
       "True      9961\n",
       "Name: count, dtype: int64"
      ]
     },
     "execution_count": 53,
     "metadata": {},
     "output_type": "execute_result"
    }
   ],
   "source": [
    "nsel = P_hh['selected'].value_counts()\n",
    "nsel"
   ]
  },
  {
   "cell_type": "code",
   "execution_count": 54,
   "metadata": {
    "colab": {
     "base_uri": "https://localhost:8080/",
     "height": 303
    },
    "executionInfo": {
     "elapsed": 411,
     "status": "ok",
     "timestamp": 1723201375990,
     "user": {
      "displayName": "Yong Song",
      "userId": "00576951217859821315"
     },
     "user_tz": -600
    },
    "id": "eRD1Wl6fgamW",
    "outputId": "00196736-3d97-4ff9-ce2d-e43e0ea7bf3e"
   },
   "outputs": [
    {
     "data": {
      "application/vnd.microsoft.datawrangler.viewer.v0+json": {
       "columns": [
        {
         "name": "index",
         "rawType": "object",
         "type": "string"
        },
        {
         "name": "0",
         "rawType": "float64",
         "type": "float"
        }
       ],
       "ref": "2584ad6a-5124-451d-8dc8-15e98bcbc6a0",
       "rows": [
        [
         "weight_12m",
         "0.008803374488427638"
        ],
        [
         "doc_any_12m",
         "0.006802331700775621"
        ],
        [
         "doc_num_mod_12m",
         "0.04097475297009232"
        ],
        [
         "er_any_12m",
         "0.006113044572526682"
        ],
        [
         "er_num_mod_12m",
         "0.013580175350465986"
        ],
        [
         "hosp_any_12m",
         "0.0035824851563587357"
        ]
       ],
       "shape": {
        "columns": 1,
        "rows": 6
       }
      },
      "text/plain": [
       "weight_12m         0.008803\n",
       "doc_any_12m        0.006802\n",
       "doc_num_mod_12m    0.040975\n",
       "er_any_12m         0.006113\n",
       "er_num_mod_12m     0.013580\n",
       "hosp_any_12m       0.003582\n",
       "dtype: float64"
      ]
     },
     "execution_count": 54,
     "metadata": {},
     "output_type": "execute_result"
    }
   ],
   "source": [
    "AETs_se = np.sqrt(yvar.loc[True, :] / nsel[True] + yvar.loc[False, :] / nsel[False])\n",
    "AETs_se"
   ]
  },
  {
   "cell_type": "code",
   "execution_count": 55,
   "metadata": {
    "id": "QS3t6tL6gamW"
   },
   "outputs": [],
   "source": [
    "# estimate, se and t stats\n",
    "df1 = pd.DataFrame({\"AET\": AETs, \"se\": AETs_se, \"t-stat\": AETs/AETs_se})"
   ]
  },
  {
   "cell_type": "code",
   "execution_count": 56,
   "metadata": {
    "colab": {
     "base_uri": "https://localhost:8080/",
     "height": 237
    },
    "executionInfo": {
     "elapsed": 5,
     "status": "ok",
     "timestamp": 1692242478567,
     "user": {
      "displayName": "Yong Song",
      "userId": "00576951217859821315"
     },
     "user_tz": -600
    },
    "id": "aFZ7lCZ9gamX",
    "outputId": "a207e50e-45ee-491e-a225-f06ed42e8c09"
   },
   "outputs": [
    {
     "data": {
      "application/vnd.microsoft.datawrangler.viewer.v0+json": {
       "columns": [
        {
         "name": "index",
         "rawType": "object",
         "type": "string"
        },
        {
         "name": "AET",
         "rawType": "float64",
         "type": "float"
        },
        {
         "name": "se",
         "rawType": "float64",
         "type": "float"
        },
        {
         "name": "t-stat",
         "rawType": "float64",
         "type": "float"
        }
       ],
       "ref": "b3f6b9aa-33d2-45a4-9191-9b47bed801eb",
       "rows": [
        [
         "weight_12m",
         "0.026148267371217004",
         "0.008803374488427638",
         "2.970255031816478"
        ],
        [
         "doc_any_12m",
         "0.06232924668690065",
         "0.006802331700775621",
         "9.162923748601337"
        ],
        [
         "doc_num_mod_12m",
         "0.2776633530779553",
         "0.04097475297009232",
         "6.776449714794453"
        ],
        [
         "er_any_12m",
         "-0.0032608771928065994",
         "0.006113044572526682",
         "-0.5334293172769707"
        ],
        [
         "er_num_mod_12m",
         "-0.01062571990821265",
         "0.013580175350465986",
         "-0.7824434982607232"
        ],
        [
         "hosp_any_12m",
         "0.000500764202453291",
         "0.0035824851563587357",
         "0.13978123581739316"
        ]
       ],
       "shape": {
        "columns": 3,
        "rows": 6
       }
      },
      "text/html": [
       "<div>\n",
       "<style scoped>\n",
       "    .dataframe tbody tr th:only-of-type {\n",
       "        vertical-align: middle;\n",
       "    }\n",
       "\n",
       "    .dataframe tbody tr th {\n",
       "        vertical-align: top;\n",
       "    }\n",
       "\n",
       "    .dataframe thead th {\n",
       "        text-align: right;\n",
       "    }\n",
       "</style>\n",
       "<table border=\"1\" class=\"dataframe\">\n",
       "  <thead>\n",
       "    <tr style=\"text-align: right;\">\n",
       "      <th></th>\n",
       "      <th>AET</th>\n",
       "      <th>se</th>\n",
       "      <th>t-stat</th>\n",
       "    </tr>\n",
       "  </thead>\n",
       "  <tbody>\n",
       "    <tr>\n",
       "      <th>weight_12m</th>\n",
       "      <td>0.026148</td>\n",
       "      <td>0.008803</td>\n",
       "      <td>2.970255</td>\n",
       "    </tr>\n",
       "    <tr>\n",
       "      <th>doc_any_12m</th>\n",
       "      <td>0.062329</td>\n",
       "      <td>0.006802</td>\n",
       "      <td>9.162924</td>\n",
       "    </tr>\n",
       "    <tr>\n",
       "      <th>doc_num_mod_12m</th>\n",
       "      <td>0.277663</td>\n",
       "      <td>0.040975</td>\n",
       "      <td>6.776450</td>\n",
       "    </tr>\n",
       "    <tr>\n",
       "      <th>er_any_12m</th>\n",
       "      <td>-0.003261</td>\n",
       "      <td>0.006113</td>\n",
       "      <td>-0.533429</td>\n",
       "    </tr>\n",
       "    <tr>\n",
       "      <th>er_num_mod_12m</th>\n",
       "      <td>-0.010626</td>\n",
       "      <td>0.013580</td>\n",
       "      <td>-0.782443</td>\n",
       "    </tr>\n",
       "    <tr>\n",
       "      <th>hosp_any_12m</th>\n",
       "      <td>0.000501</td>\n",
       "      <td>0.003582</td>\n",
       "      <td>0.139781</td>\n",
       "    </tr>\n",
       "  </tbody>\n",
       "</table>\n",
       "</div>"
      ],
      "text/plain": [
       "                      AET        se    t-stat\n",
       "weight_12m       0.026148  0.008803  2.970255\n",
       "doc_any_12m      0.062329  0.006802  9.162924\n",
       "doc_num_mod_12m  0.277663  0.040975  6.776450\n",
       "er_any_12m      -0.003261  0.006113 -0.533429\n",
       "er_num_mod_12m  -0.010626  0.013580 -0.782443\n",
       "hosp_any_12m     0.000501  0.003582  0.139781"
      ]
     },
     "execution_count": 56,
     "metadata": {},
     "output_type": "execute_result"
    }
   ],
   "source": [
    "df1"
   ]
  },
  {
   "cell_type": "markdown",
   "metadata": {
    "id": "IAdlneScwhY0"
   },
   "source": [
    "## Balance Check\n",
    "Maybe we worry about the imbalance in `numhh`:\n",
    "\n",
    "- What is `numhh`? Recall...\n",
    "- Any pattern from the following table?\n",
    "- Any explanation for such a pattern?\n"
   ]
  },
  {
   "cell_type": "code",
   "execution_count": 57,
   "metadata": {
    "colab": {
     "base_uri": "https://localhost:8080/",
     "height": 178
    },
    "executionInfo": {
     "elapsed": 7972,
     "status": "ok",
     "timestamp": 1723201410767,
     "user": {
      "displayName": "Yong Song",
      "userId": "00576951217859821315"
     },
     "user_tz": -600
    },
    "id": "qY0enctQiJI7",
    "outputId": "905b3121-2421-4ef0-c566-21e84dea8eef"
   },
   "outputs": [
    {
     "data": {
      "application/vnd.microsoft.datawrangler.viewer.v0+json": {
       "columns": [
        {
         "name": "selected",
         "rawType": "bool",
         "type": "boolean"
        },
        {
         "name": "count",
         "rawType": "int64",
         "type": "integer"
        }
       ],
       "ref": "fc64630b-478c-4ac2-88d0-ece500f25142",
       "rows": [
        [
         "False",
         "11629"
        ],
        [
         "True",
         "11478"
        ]
       ],
       "shape": {
        "columns": 1,
        "rows": 2
       }
      },
      "text/plain": [
       "selected\n",
       "False    11629\n",
       "True     11478\n",
       "Name: count, dtype: int64"
      ]
     },
     "execution_count": 57,
     "metadata": {},
     "output_type": "execute_result"
    }
   ],
   "source": [
    "selected_counts = P['selected'].value_counts()\n",
    "selected_counts"
   ]
  },
  {
   "cell_type": "code",
   "execution_count": 58,
   "metadata": {
    "colab": {
     "base_uri": "https://localhost:8080/",
     "height": 143
    },
    "executionInfo": {
     "elapsed": 376,
     "status": "ok",
     "timestamp": 1723201417565,
     "user": {
      "displayName": "Yong Song",
      "userId": "00576951217859821315"
     },
     "user_tz": -600
    },
    "id": "ZjibljSAi7Ls",
    "outputId": "6674ac5c-f2e9-4fcf-fddb-04ee713bfe37"
   },
   "outputs": [
    {
     "data": {
      "application/vnd.microsoft.datawrangler.viewer.v0+json": {
       "columns": [
        {
         "name": "selected",
         "rawType": "bool",
         "type": "boolean"
        },
        {
         "name": "1",
         "rawType": "int64",
         "type": "integer"
        },
        {
         "name": "2",
         "rawType": "int64",
         "type": "integer"
        },
        {
         "name": "3+",
         "rawType": "int64",
         "type": "integer"
        }
       ],
       "ref": "0f2e8f40-2d38-46ed-88bd-165bd673c8f9",
       "rows": [
        [
         "False",
         "8684",
         "2939",
         "6"
        ],
        [
         "True",
         "7525",
         "3902",
         "51"
        ]
       ],
       "shape": {
        "columns": 3,
        "rows": 2
       }
      },
      "text/html": [
       "<div>\n",
       "<style scoped>\n",
       "    .dataframe tbody tr th:only-of-type {\n",
       "        vertical-align: middle;\n",
       "    }\n",
       "\n",
       "    .dataframe tbody tr th {\n",
       "        vertical-align: top;\n",
       "    }\n",
       "\n",
       "    .dataframe thead th {\n",
       "        text-align: right;\n",
       "    }\n",
       "</style>\n",
       "<table border=\"1\" class=\"dataframe\">\n",
       "  <thead>\n",
       "    <tr style=\"text-align: right;\">\n",
       "      <th>numhh</th>\n",
       "      <th>1</th>\n",
       "      <th>2</th>\n",
       "      <th>3+</th>\n",
       "    </tr>\n",
       "    <tr>\n",
       "      <th>selected</th>\n",
       "      <th></th>\n",
       "      <th></th>\n",
       "      <th></th>\n",
       "    </tr>\n",
       "  </thead>\n",
       "  <tbody>\n",
       "    <tr>\n",
       "      <th>False</th>\n",
       "      <td>8684</td>\n",
       "      <td>2939</td>\n",
       "      <td>6</td>\n",
       "    </tr>\n",
       "    <tr>\n",
       "      <th>True</th>\n",
       "      <td>7525</td>\n",
       "      <td>3902</td>\n",
       "      <td>51</td>\n",
       "    </tr>\n",
       "  </tbody>\n",
       "</table>\n",
       "</div>"
      ],
      "text/plain": [
       "numhh        1     2  3+\n",
       "selected                \n",
       "False     8684  2939   6\n",
       "True      7525  3902  51"
      ]
     },
     "execution_count": 58,
     "metadata": {},
     "output_type": "execute_result"
    }
   ],
   "source": [
    "contingency_table = pd.crosstab(P['selected'], P['numhh'])\n",
    "contingency_table"
   ]
  },
  {
   "cell_type": "code",
   "execution_count": 59,
   "metadata": {
    "colab": {
     "base_uri": "https://localhost:8080/"
    },
    "executionInfo": {
     "elapsed": 3,
     "status": "ok",
     "timestamp": 1723201426836,
     "user": {
      "displayName": "Yong Song",
      "userId": "00576951217859821315"
     },
     "user_tz": -600
    },
    "id": "fNuFZF40whY0",
    "outputId": "87c672f3-a4ca-4b4e-9f1f-0900be37a982"
   },
   "outputs": [
    {
     "name": "stdout",
     "output_type": "stream",
     "text": [
      "Chi-squared statistic: 252.98334621246406\n",
      "P-value: 1.1624234518501736e-55\n",
      "Degrees of freedom: 2\n",
      "Expected frequencies table:\n",
      "[[8157.46141862 3442.85233912   28.68624226]\n",
      " [8051.53858138 3398.14766088   28.31375774]]\n"
     ]
    }
   ],
   "source": [
    "chi2, p_value, dof, expected = chi2_contingency(contingency_table)\n",
    "\n",
    "# Printing the results\n",
    "print(\"Chi-squared statistic:\", chi2)\n",
    "print(\"P-value:\", p_value)\n",
    "print(\"Degrees of freedom:\", dof)\n",
    "print(\"Expected frequencies table:\")\n",
    "print(expected)"
   ]
  },
  {
   "cell_type": "markdown",
   "metadata": {
    "id": "GeoSs29GjhEB"
   },
   "source": [
    "## Regression for Control\n",
    "\n",
    "If something is bothering your inference, the easiest way to get around is modelling it. Of course, this is not without error or trouble. But it is usually convincing and straightforward to communicate. So let's build regression models of any outpatient visits."
   ]
  },
  {
   "cell_type": "code",
   "execution_count": 60,
   "metadata": {
    "colab": {
     "base_uri": "https://localhost:8080/"
    },
    "executionInfo": {
     "elapsed": 372,
     "status": "ok",
     "timestamp": 1723201437633,
     "user": {
      "displayName": "Yong Song",
      "userId": "00576951217859821315"
     },
     "user_tz": -600
    },
    "id": "QG8TW0loj8_a",
    "outputId": "05c839ad-d2bc-4b81-9dfd-7e488631c164"
   },
   "outputs": [
    {
     "name": "stdout",
     "output_type": "stream",
     "text": [
      "<class 'pandas.core.frame.DataFrame'>\n",
      "RangeIndex: 23107 entries, 0 to 23106\n",
      "Data columns (total 7 columns):\n",
      " #   Column        Non-Null Count  Dtype  \n",
      "---  ------        --------------  -----  \n",
      " 0   person_id     23107 non-null  int64  \n",
      " 1   household_id  23107 non-null  int64  \n",
      " 2   doc_any_12m   23107 non-null  bool   \n",
      " 3   selected      23107 non-null  bool   \n",
      " 4   medicaid      23107 non-null  bool   \n",
      " 5   numhh         23107 non-null  object \n",
      " 6   weights       7161 non-null   float64\n",
      "dtypes: bool(3), float64(1), int64(2), object(1)\n",
      "memory usage: 789.9+ KB\n"
     ]
    }
   ],
   "source": [
    "P.info()"
   ]
  },
  {
   "cell_type": "code",
   "execution_count": 61,
   "metadata": {
    "colab": {
     "base_uri": "https://localhost:8080/"
    },
    "executionInfo": {
     "elapsed": 412,
     "status": "ok",
     "timestamp": 1723201449662,
     "user": {
      "displayName": "Yong Song",
      "userId": "00576951217859821315"
     },
     "user_tz": -600
    },
    "id": "vHlb846hj4rW",
    "outputId": "cf5f529a-529e-4515-cb43-f3040c2a2ad5"
   },
   "outputs": [
    {
     "name": "stdout",
     "output_type": "stream",
     "text": [
      "                            OLS Regression Results                            \n",
      "==============================================================================\n",
      "Dep. Variable:            doc_any_12m   R-squared:                       0.007\n",
      "Model:                            OLS   Adj. R-squared:                  0.007\n",
      "Method:                 Least Squares   F-statistic:                     57.43\n",
      "Date:                Tue, 19 Aug 2025   Prob (F-statistic):           5.62e-37\n",
      "Time:                        21:20:16   Log-Likelihood:                -16194.\n",
      "No. Observations:               23107   AIC:                         3.240e+04\n",
      "Df Residuals:                   23103   BIC:                         3.243e+04\n",
      "Df Model:                           3                                         \n",
      "Covariance Type:            nonrobust                                         \n",
      "====================================================================================\n",
      "                       coef    std err          t      P>|t|      [0.025      0.975]\n",
      "------------------------------------------------------------------------------------\n",
      "Intercept            0.5902      0.005    121.366      0.000       0.581       0.600\n",
      "selected[T.True]     0.0639      0.006      9.901      0.000       0.051       0.077\n",
      "numhh[T.2]          -0.0657      0.007     -9.305      0.000      -0.080      -0.052\n",
      "numhh[T.3+]         -0.1737      0.065     -2.681      0.007      -0.301      -0.047\n",
      "==============================================================================\n",
      "Omnibus:                    91260.028   Durbin-Watson:                   2.001\n",
      "Prob(Omnibus):                  0.000   Jarque-Bera (JB):             3770.652\n",
      "Skew:                          -0.412   Prob(JB):                         0.00\n",
      "Kurtosis:                       1.201   Cond. No.                         24.0\n",
      "==============================================================================\n",
      "\n",
      "Notes:\n",
      "[1] Standard Errors assume that the covariance matrix of the errors is correctly specified.\n"
     ]
    }
   ],
   "source": [
    "P['doc_any_12m'] = P['doc_any_12m'].astype(int)\n",
    "model = smf.ols(formula='doc_any_12m ~ selected + numhh', data=P)\n",
    "# Fitting the model\n",
    "result = model.fit()\n",
    "\n",
    "# Printing the summary of the coefficients in a tabular format\n",
    "print(result.summary())"
   ]
  },
  {
   "cell_type": "markdown",
   "metadata": {
    "id": "BVIn79SFwhY1"
   },
   "source": [
    "Below is a demeaning-and-interacting way to get the ATE after a covariate adjustment; see equation (5.7)\n",
    "\n",
    "$$E(y\\mid d, numhh) = \\alpha_{numhh} + d\\gamma_{numhh}$$\n",
    "\n",
    "- This is equivalent to using subsamples to fit the regression separately.\n",
    "- Using interactions captures the heterogeneity better.\n",
    "- What is ATE in terms of the model parameters?"
   ]
  },
  {
   "cell_type": "code",
   "execution_count": 62,
   "metadata": {
    "colab": {
     "base_uri": "https://localhost:8080/"
    },
    "executionInfo": {
     "elapsed": 387,
     "status": "ok",
     "timestamp": 1723201504643,
     "user": {
      "displayName": "Yong Song",
      "userId": "00576951217859821315"
     },
     "user_tz": -600
    },
    "id": "HTM9gpc5nbJ7",
    "outputId": "1ac66d13-5b5d-4492-d61d-0105585b6910"
   },
   "outputs": [
    {
     "name": "stdout",
     "output_type": "stream",
     "text": [
      "                            OLS Regression Results                            \n",
      "==============================================================================\n",
      "Dep. Variable:            doc_any_12m   R-squared:                       0.008\n",
      "Model:                            OLS   Adj. R-squared:                  0.007\n",
      "Method:                 Least Squares   F-statistic:                     35.46\n",
      "Date:                Tue, 19 Aug 2025   Prob (F-statistic):           2.79e-36\n",
      "Time:                        21:20:47   Log-Likelihood:                -16191.\n",
      "No. Observations:               23107   AIC:                         3.239e+04\n",
      "Df Residuals:                   23101   BIC:                         3.244e+04\n",
      "Df Model:                           5                                         \n",
      "Covariance Type:            nonrobust                                         \n",
      "================================================================================================\n",
      "                                   coef    std err          t      P>|t|      [0.025      0.975]\n",
      "------------------------------------------------------------------------------------------------\n",
      "Intercept                        0.5868      0.005    112.134      0.000       0.577       0.597\n",
      "selected[T.True]                 0.0711      0.008      9.259      0.000       0.056       0.086\n",
      "numhh[T.2]                      -0.0520      0.010     -4.992      0.000      -0.072      -0.032\n",
      "numhh[T.3+]                     -0.4202      0.199     -2.110      0.035      -0.811      -0.030\n",
      "selected[T.True]:numhh[T.2]     -0.0255      0.014     -1.801      0.072      -0.053       0.002\n",
      "selected[T.True]:numhh[T.3+]     0.2720      0.211      1.292      0.197      -0.141       0.685\n",
      "==============================================================================\n",
      "Omnibus:                    91285.564   Durbin-Watson:                   2.001\n",
      "Prob(Omnibus):                  0.000   Jarque-Bera (JB):             3769.161\n",
      "Skew:                          -0.412   Prob(JB):                         0.00\n",
      "Kurtosis:                       1.201   Cond. No.                         108.\n",
      "==============================================================================\n",
      "\n",
      "Notes:\n",
      "[1] Standard Errors assume that the covariance matrix of the errors is correctly specified.\n"
     ]
    }
   ],
   "source": [
    "P['doc_any_12m'] = P['doc_any_12m'].astype(int)\n",
    "model = smf.ols(formula='doc_any_12m ~ selected * numhh', data=P)\n",
    "# Fitting the model\n",
    "result = model.fit()\n",
    "\n",
    "# Printing the summary of the coefficients in a tabular format\n",
    "print(result.summary())"
   ]
  },
  {
   "cell_type": "markdown",
   "metadata": {
    "id": "iAi7DrIioINx"
   },
   "source": [
    "Look at households one at a time."
   ]
  },
  {
   "cell_type": "code",
   "execution_count": 63,
   "metadata": {
    "colab": {
     "base_uri": "https://localhost:8080/"
    },
    "executionInfo": {
     "elapsed": 424,
     "status": "ok",
     "timestamp": 1723201515085,
     "user": {
      "displayName": "Yong Song",
      "userId": "00576951217859821315"
     },
     "user_tz": -600
    },
    "id": "ceMknX9zoToq",
    "outputId": "1a43baf4-b6e3-4cc8-dffa-659afc95bb66"
   },
   "outputs": [
    {
     "data": {
      "text/plain": [
       "array(['1', '2', '3+'], dtype=object)"
      ]
     },
     "execution_count": 63,
     "metadata": {},
     "output_type": "execute_result"
    }
   ],
   "source": [
    "P.numhh.unique()"
   ]
  },
  {
   "cell_type": "code",
   "execution_count": 64,
   "metadata": {
    "colab": {
     "base_uri": "https://localhost:8080/"
    },
    "executionInfo": {
     "elapsed": 383,
     "status": "ok",
     "timestamp": 1723201519730,
     "user": {
      "displayName": "Yong Song",
      "userId": "00576951217859821315"
     },
     "user_tz": -600
    },
    "id": "a75bMsCSoMSU",
    "outputId": "b89549d8-e6d6-40cf-e8f1-3b96b854c146"
   },
   "outputs": [
    {
     "name": "stdout",
     "output_type": "stream",
     "text": [
      "                            OLS Regression Results                            \n",
      "==============================================================================\n",
      "Dep. Variable:            doc_any_12m   R-squared:                       0.005\n",
      "Model:                            OLS   Adj. R-squared:                  0.005\n",
      "Method:                 Least Squares   F-statistic:                     86.98\n",
      "Date:                Tue, 19 Aug 2025   Prob (F-statistic):           1.24e-20\n",
      "Time:                        21:21:07   Log-Likelihood:                -11241.\n",
      "No. Observations:               16209   AIC:                         2.249e+04\n",
      "Df Residuals:                   16207   BIC:                         2.250e+04\n",
      "Df Model:                           1                                         \n",
      "Covariance Type:            nonrobust                                         \n",
      "====================================================================================\n",
      "                       coef    std err          t      P>|t|      [0.025      0.975]\n",
      "------------------------------------------------------------------------------------\n",
      "Intercept            0.5868      0.005    112.949      0.000       0.577       0.597\n",
      "selected[T.True]     0.0711      0.008      9.326      0.000       0.056       0.086\n",
      "==============================================================================\n",
      "Omnibus:                    67991.686   Durbin-Watson:                   1.981\n",
      "Prob(Omnibus):                  0.000   Jarque-Bera (JB):             2686.711\n",
      "Skew:                          -0.490   Prob(JB):                         0.00\n",
      "Kurtosis:                       1.262   Cond. No.                         2.54\n",
      "==============================================================================\n",
      "\n",
      "Notes:\n",
      "[1] Standard Errors assume that the covariance matrix of the errors is correctly specified.\n"
     ]
    }
   ],
   "source": [
    "P0 = P[P['numhh']=='1']\n",
    "model = smf.ols(formula='doc_any_12m ~ selected', data=P0)\n",
    "# Fitting the model\n",
    "result = model.fit()\n",
    "\n",
    "# Printing the summary of the coefficients in a tabular format\n",
    "print(result.summary())"
   ]
  },
  {
   "cell_type": "markdown",
   "metadata": {},
   "source": [
    "# Exercise\n",
    "\n",
    "Estimate ATE at the household level.\n",
    "- data `P_hh` is in the *Households* subsection.\n",
    "- Use `doc_any_12m` as the dependent variable.\n",
    "- Use `selected`, `numhh` and their interactions as the independent variables.\n",
    "- (this is we care the most!) Explain these variable's meanings and the estimation result."
   ]
  }
 ],
 "metadata": {
  "colab": {
   "authorship_tag": "ABX9TyO6o6Sp/S6xTwN9o01HVVuL",
   "provenance": [
    {
     "file_id": "1Ua-8RJ-1XLK54VEYH50PMumqkVSl86h-",
     "timestamp": 1723018549057
    }
   ],
   "toc_visible": true
  },
  "kernelspec": {
   "display_name": "base",
   "language": "python",
   "name": "python3"
  },
  "language_info": {
   "codemirror_mode": {
    "name": "ipython",
    "version": 3
   },
   "file_extension": ".py",
   "mimetype": "text/x-python",
   "name": "python",
   "nbconvert_exporter": "python",
   "pygments_lexer": "ipython3",
   "version": "3.12.10"
  }
 },
 "nbformat": 4,
 "nbformat_minor": 0
}
