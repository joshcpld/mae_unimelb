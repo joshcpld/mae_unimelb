{
 "cells": [
  {
   "cell_type": "markdown",
   "metadata": {
    "id": "VGHu1GM43_AM"
   },
   "source": [
    "## Before Lecture\n",
    "\n",
    "- Best assignment 1 presentation\n",
    "- Assignment 1 marking does not depend on Kaggle. The prize does depend, but not only on Kaggle.\n",
    "- quiz handwriting\n",
    "- Project ideas/proposals\n",
    "  - Helix Personas are inferred. They are endogenous. Usef with caution.\n",
    "  - Survey methods (related to Covid) related bias.\n",
    "  - Are people happier? how are they related to economic factors and vice versa.\n",
    "  - [RM] Forecasting. E.g, car opinions -> car purchase in the future.\n",
    "  - [RM] link to productivity/GDP. Attitude/sentiment from micro data -> macroeconomy\n",
    "  - [RM] health and economics\n",
    "  - inflation, unemployment, etc\n",
    "- Opportunity to visit Roy Morgan in Week 5 (uncertain, depending on progress and both sides' schedules)"
   ]
  },
  {
   "cell_type": "markdown",
   "metadata": {
    "id": "JgFsPCaMCMIj"
   },
   "source": [
    "# House Keeping"
   ]
  },
  {
   "cell_type": "code",
   "execution_count": 2,
   "metadata": {
    "id": "Ym_YxAxJALRG"
   },
   "outputs": [],
   "source": [
    "import pandas as pd\n",
    "import numpy as np\n",
    "import plotly.express as px # pyright: ignore[reportMissingImports] t\n",
    "import plotly.graph_objects as go # pyright: ignore[reportMissingImports] t\n",
    "from sklearn.pipeline import Pipeline # pyright: ignore[reportMissingModuleSource]\n",
    "from sklearn.linear_model import Lasso, LinearRegression, LogisticRegression, LassoCV, ElasticNetCV, ElasticNet # pyright: ignore[reportMissingModuleSource]\n",
    "from sklearn.model_selection import train_test_split, GridSearchCV # pyright: ignore[reportMissingModuleSource]\n",
    "from sklearn.preprocessing import StandardScaler # pyright: ignore[reportMissingModuleSource]\n",
    "from sklearn.metrics import accuracy_score,mean_squared_error, make_scorer # pyright: ignore[reportMissingModuleSource]\n",
    "import statsmodels.api as sm # pyright: ignore[reportMissingImports] \n",
    "\n",
    "import sy_functions as sy"
   ]
  },
  {
   "cell_type": "markdown",
   "metadata": {
    "id": "j7K08yHSNsRH"
   },
   "source": [
    "You may find the function file [here](https://www.dropbox.com/s/zzz9ddc5dfknew9/sy_functions.py?dl=1) and upload it to your google drive."
   ]
  },
  {
   "cell_type": "markdown",
   "metadata": {
    "id": "2mxLtxJn3BFP"
   },
   "source": [
    "# Reading\n",
    "\n",
    "Textbook Page 77-104."
   ]
  },
  {
   "cell_type": "markdown",
   "metadata": {
    "id": "VedewmFudRdb"
   },
   "source": [
    "# LASSO\n",
    "\n",
    "- Which variables are signals, and which are noise?\n",
    "\n",
    "\n",
    "Now we proceed to modern techniques. Do you know that a simple MLE estimation may look like\n",
    "$$\\widehat{\\beta}=\\arg\\min \\left\\{-\\frac{2}{n}\\log \\text{lhd}(\\beta)\\right\\},$$\n",
    "where $\\text{lhd}(\\beta)$ is the likelihood function?\n",
    "\n",
    "$\\beta$ is so free that it can be wild. Such freedom needs to be regularised, especially when the parameter space is large! The principle is \"I would rather have nothing than too much noise\".\n",
    "\n",
    "**Penealised deviance** is\n",
    "$$\\widehat{\\beta}=\\arg\\min \\left\\{-\\frac{2}{n}\\log \\text{lhd}(\\beta)\\right\\} + \\lambda\\sum\\limits_k c(\\beta_k).$$\n",
    "\n",
    "It is LASSO when the cost function $c(\\beta_k)=|\\beta_k|$. Or simply\n",
    "$$\\widehat{\\beta}=\\arg\\min \\left\\{-\\frac{2}{n}\\log \\text{lhd}(\\beta)\\right\\} + \\lambda\\sum\\limits_k |\\beta_k|.$$\n",
    "\n",
    "\n",
    "\n",
    "A simple illustration:\n",
    "- deviance of a linear model is quadratic in $\\beta$. Say $(\\beta-b)^2$ for simplicity (over-simplified), where $b\\neq 0$ is the MLE estimate.\n",
    "- The penalty term is $|\\beta|$ by letting $\\lambda=1$ for simplicity.\n",
    "- The objective function is\n",
    "$$f = (\\beta-b)^2+|\\beta|$$\n",
    "- If the signal $|b|$ (MLE estimate) is small, then the penalty term dominates. Because if choosing $\\widehat{\\beta}=b$, the loss is $|b|$; while the loss is a much smaller $b^2$ if setting $\\beta=0$. In this case, if $|b|< 1$, we should let $\\widehat{\\beta}=0$.\n",
    "- Otherwise, the likelihood part dominates.\n",
    "Say if $|b|>1$, we should let $\\widehat{\\beta}$ to be closer to $b$ instead of $0$."
   ]
  },
  {
   "cell_type": "markdown",
   "metadata": {
    "id": "1uCPQbuLnjF7"
   },
   "source": [
    "Figure 3.5\n",
    "<img src=\"https://www.dropbox.com/s/v019wzxivoe4nkb/LASSO.png?dl=1\" >\n"
   ]
  },
  {
   "cell_type": "markdown",
   "metadata": {
    "id": "4oDRDSWpLMGg"
   },
   "source": [
    "## Semiconductors"
   ]
  },
  {
   "cell_type": "code",
   "execution_count": 3,
   "metadata": {
    "colab": {
     "base_uri": "https://localhost:8080/",
     "height": 444
    },
    "executionInfo": {
     "elapsed": 2042,
     "status": "ok",
     "timestamp": 1721194377771,
     "user": {
      "displayName": "Yong Song",
      "userId": "00576951217859821315"
     },
     "user_tz": -600
    },
    "id": "MKV0mzE8LLVx",
    "outputId": "ce4220ba-b2c7-4e31-8d28-ac45921c8816"
   },
   "outputs": [
    {
     "data": {
      "text/html": [
       "<div>\n",
       "<style scoped>\n",
       "    .dataframe tbody tr th:only-of-type {\n",
       "        vertical-align: middle;\n",
       "    }\n",
       "\n",
       "    .dataframe tbody tr th {\n",
       "        vertical-align: top;\n",
       "    }\n",
       "\n",
       "    .dataframe thead th {\n",
       "        text-align: right;\n",
       "    }\n",
       "</style>\n",
       "<table border=\"1\" class=\"dataframe\">\n",
       "  <thead>\n",
       "    <tr style=\"text-align: right;\">\n",
       "      <th></th>\n",
       "      <th>FAIL</th>\n",
       "      <th>SIG1</th>\n",
       "      <th>SIG2</th>\n",
       "      <th>SIG3</th>\n",
       "      <th>SIG4</th>\n",
       "      <th>SIG5</th>\n",
       "      <th>SIG6</th>\n",
       "      <th>SIG7</th>\n",
       "      <th>SIG8</th>\n",
       "      <th>SIG9</th>\n",
       "      <th>...</th>\n",
       "      <th>SIG191</th>\n",
       "      <th>SIG192</th>\n",
       "      <th>SIG193</th>\n",
       "      <th>SIG194</th>\n",
       "      <th>SIG195</th>\n",
       "      <th>SIG196</th>\n",
       "      <th>SIG197</th>\n",
       "      <th>SIG198</th>\n",
       "      <th>SIG199</th>\n",
       "      <th>SIG200</th>\n",
       "    </tr>\n",
       "  </thead>\n",
       "  <tbody>\n",
       "    <tr>\n",
       "      <th>0</th>\n",
       "      <td>0</td>\n",
       "      <td>2.223779</td>\n",
       "      <td>-0.349018</td>\n",
       "      <td>-1.985797</td>\n",
       "      <td>-2.600993</td>\n",
       "      <td>0.451092</td>\n",
       "      <td>0.856625</td>\n",
       "      <td>0.019999</td>\n",
       "      <td>5.552095</td>\n",
       "      <td>-1.217598</td>\n",
       "      <td>...</td>\n",
       "      <td>-0.493650</td>\n",
       "      <td>-0.081946</td>\n",
       "      <td>-0.026963</td>\n",
       "      <td>0.069390</td>\n",
       "      <td>0.000884</td>\n",
       "      <td>-0.090158</td>\n",
       "      <td>0.567668</td>\n",
       "      <td>0.136708</td>\n",
       "      <td>0.258290</td>\n",
       "      <td>-0.110619</td>\n",
       "    </tr>\n",
       "    <tr>\n",
       "      <th>1</th>\n",
       "      <td>1</td>\n",
       "      <td>-0.130378</td>\n",
       "      <td>-0.381318</td>\n",
       "      <td>-1.285172</td>\n",
       "      <td>-0.766302</td>\n",
       "      <td>-3.098302</td>\n",
       "      <td>1.257852</td>\n",
       "      <td>0.792258</td>\n",
       "      <td>3.052683</td>\n",
       "      <td>-0.596629</td>\n",
       "      <td>...</td>\n",
       "      <td>-0.242341</td>\n",
       "      <td>-0.040653</td>\n",
       "      <td>-0.248808</td>\n",
       "      <td>-0.206819</td>\n",
       "      <td>-0.113580</td>\n",
       "      <td>0.087156</td>\n",
       "      <td>-0.075984</td>\n",
       "      <td>0.359806</td>\n",
       "      <td>0.352307</td>\n",
       "      <td>-0.065168</td>\n",
       "    </tr>\n",
       "    <tr>\n",
       "      <th>2</th>\n",
       "      <td>0</td>\n",
       "      <td>-0.871138</td>\n",
       "      <td>-0.825300</td>\n",
       "      <td>-1.615008</td>\n",
       "      <td>-0.448803</td>\n",
       "      <td>-2.570782</td>\n",
       "      <td>-1.345798</td>\n",
       "      <td>3.561107</td>\n",
       "      <td>2.748009</td>\n",
       "      <td>-0.898133</td>\n",
       "      <td>...</td>\n",
       "      <td>-0.210873</td>\n",
       "      <td>-0.224043</td>\n",
       "      <td>-0.668168</td>\n",
       "      <td>-0.067575</td>\n",
       "      <td>-0.557790</td>\n",
       "      <td>0.050106</td>\n",
       "      <td>0.352167</td>\n",
       "      <td>-0.136979</td>\n",
       "      <td>0.270314</td>\n",
       "      <td>0.231886</td>\n",
       "    </tr>\n",
       "    <tr>\n",
       "      <th>3</th>\n",
       "      <td>0</td>\n",
       "      <td>-0.877341</td>\n",
       "      <td>-1.905598</td>\n",
       "      <td>-2.306114</td>\n",
       "      <td>-1.210761</td>\n",
       "      <td>-4.037471</td>\n",
       "      <td>-2.223608</td>\n",
       "      <td>2.404128</td>\n",
       "      <td>0.769476</td>\n",
       "      <td>5.605738</td>\n",
       "      <td>...</td>\n",
       "      <td>-0.244826</td>\n",
       "      <td>0.100125</td>\n",
       "      <td>-0.016613</td>\n",
       "      <td>0.139226</td>\n",
       "      <td>0.153687</td>\n",
       "      <td>-0.222902</td>\n",
       "      <td>-0.324682</td>\n",
       "      <td>0.330688</td>\n",
       "      <td>-0.053124</td>\n",
       "      <td>-0.046525</td>\n",
       "    </tr>\n",
       "    <tr>\n",
       "      <th>4</th>\n",
       "      <td>0</td>\n",
       "      <td>-2.113456</td>\n",
       "      <td>-2.313845</td>\n",
       "      <td>-2.917153</td>\n",
       "      <td>-3.333467</td>\n",
       "      <td>-4.439346</td>\n",
       "      <td>3.029632</td>\n",
       "      <td>-0.177130</td>\n",
       "      <td>0.268809</td>\n",
       "      <td>2.673137</td>\n",
       "      <td>...</td>\n",
       "      <td>0.523039</td>\n",
       "      <td>-0.104421</td>\n",
       "      <td>0.110383</td>\n",
       "      <td>0.099062</td>\n",
       "      <td>0.347613</td>\n",
       "      <td>-0.213793</td>\n",
       "      <td>0.090675</td>\n",
       "      <td>0.081936</td>\n",
       "      <td>-0.129969</td>\n",
       "      <td>-0.435595</td>\n",
       "    </tr>\n",
       "    <tr>\n",
       "      <th>...</th>\n",
       "      <td>...</td>\n",
       "      <td>...</td>\n",
       "      <td>...</td>\n",
       "      <td>...</td>\n",
       "      <td>...</td>\n",
       "      <td>...</td>\n",
       "      <td>...</td>\n",
       "      <td>...</td>\n",
       "      <td>...</td>\n",
       "      <td>...</td>\n",
       "      <td>...</td>\n",
       "      <td>...</td>\n",
       "      <td>...</td>\n",
       "      <td>...</td>\n",
       "      <td>...</td>\n",
       "      <td>...</td>\n",
       "      <td>...</td>\n",
       "      <td>...</td>\n",
       "      <td>...</td>\n",
       "      <td>...</td>\n",
       "      <td>...</td>\n",
       "    </tr>\n",
       "    <tr>\n",
       "      <th>1472</th>\n",
       "      <td>0</td>\n",
       "      <td>-1.216544</td>\n",
       "      <td>2.933523</td>\n",
       "      <td>3.125961</td>\n",
       "      <td>6.299250</td>\n",
       "      <td>-4.701302</td>\n",
       "      <td>-0.736551</td>\n",
       "      <td>3.274427</td>\n",
       "      <td>-2.604696</td>\n",
       "      <td>-1.287880</td>\n",
       "      <td>...</td>\n",
       "      <td>0.137749</td>\n",
       "      <td>-0.057304</td>\n",
       "      <td>-0.005772</td>\n",
       "      <td>0.044957</td>\n",
       "      <td>0.014158</td>\n",
       "      <td>-0.256404</td>\n",
       "      <td>0.094116</td>\n",
       "      <td>0.003980</td>\n",
       "      <td>-0.392673</td>\n",
       "      <td>-0.156949</td>\n",
       "    </tr>\n",
       "    <tr>\n",
       "      <th>1473</th>\n",
       "      <td>0</td>\n",
       "      <td>1.519838</td>\n",
       "      <td>0.929747</td>\n",
       "      <td>-1.755750</td>\n",
       "      <td>-0.627124</td>\n",
       "      <td>0.134864</td>\n",
       "      <td>-0.277557</td>\n",
       "      <td>0.433767</td>\n",
       "      <td>2.599539</td>\n",
       "      <td>0.523947</td>\n",
       "      <td>...</td>\n",
       "      <td>-0.070191</td>\n",
       "      <td>-0.446749</td>\n",
       "      <td>-0.038911</td>\n",
       "      <td>0.276027</td>\n",
       "      <td>0.146811</td>\n",
       "      <td>0.092740</td>\n",
       "      <td>-0.012873</td>\n",
       "      <td>0.173764</td>\n",
       "      <td>0.011626</td>\n",
       "      <td>-0.140552</td>\n",
       "    </tr>\n",
       "    <tr>\n",
       "      <th>1474</th>\n",
       "      <td>0</td>\n",
       "      <td>1.186808</td>\n",
       "      <td>3.124830</td>\n",
       "      <td>1.554038</td>\n",
       "      <td>7.640257</td>\n",
       "      <td>-2.306926</td>\n",
       "      <td>-0.103164</td>\n",
       "      <td>-0.717412</td>\n",
       "      <td>-0.002707</td>\n",
       "      <td>-1.555463</td>\n",
       "      <td>...</td>\n",
       "      <td>0.104973</td>\n",
       "      <td>0.738707</td>\n",
       "      <td>0.183454</td>\n",
       "      <td>-0.538684</td>\n",
       "      <td>0.066061</td>\n",
       "      <td>-0.045803</td>\n",
       "      <td>-0.223485</td>\n",
       "      <td>-0.244998</td>\n",
       "      <td>0.270780</td>\n",
       "      <td>-0.206376</td>\n",
       "    </tr>\n",
       "    <tr>\n",
       "      <th>1475</th>\n",
       "      <td>0</td>\n",
       "      <td>0.418682</td>\n",
       "      <td>-0.560838</td>\n",
       "      <td>-2.849019</td>\n",
       "      <td>-2.070624</td>\n",
       "      <td>-2.299557</td>\n",
       "      <td>4.606691</td>\n",
       "      <td>-2.472302</td>\n",
       "      <td>1.304957</td>\n",
       "      <td>-0.820954</td>\n",
       "      <td>...</td>\n",
       "      <td>0.235377</td>\n",
       "      <td>0.323977</td>\n",
       "      <td>-0.046804</td>\n",
       "      <td>0.033842</td>\n",
       "      <td>-0.230825</td>\n",
       "      <td>0.045902</td>\n",
       "      <td>0.093716</td>\n",
       "      <td>0.194718</td>\n",
       "      <td>-0.463204</td>\n",
       "      <td>0.210923</td>\n",
       "    </tr>\n",
       "    <tr>\n",
       "      <th>1476</th>\n",
       "      <td>0</td>\n",
       "      <td>1.212889</td>\n",
       "      <td>2.448926</td>\n",
       "      <td>2.743811</td>\n",
       "      <td>4.592014</td>\n",
       "      <td>-3.753621</td>\n",
       "      <td>0.832177</td>\n",
       "      <td>0.737840</td>\n",
       "      <td>0.831088</td>\n",
       "      <td>-0.098138</td>\n",
       "      <td>...</td>\n",
       "      <td>-0.199445</td>\n",
       "      <td>-0.030528</td>\n",
       "      <td>0.515253</td>\n",
       "      <td>-0.319594</td>\n",
       "      <td>0.228650</td>\n",
       "      <td>-0.178643</td>\n",
       "      <td>0.160083</td>\n",
       "      <td>-0.108709</td>\n",
       "      <td>-0.232119</td>\n",
       "      <td>-0.015520</td>\n",
       "    </tr>\n",
       "  </tbody>\n",
       "</table>\n",
       "<p>1477 rows × 201 columns</p>\n",
       "</div>"
      ],
      "text/plain": [
       "      FAIL      SIG1      SIG2      SIG3      SIG4      SIG5      SIG6  \\\n",
       "0        0  2.223779 -0.349018 -1.985797 -2.600993  0.451092  0.856625   \n",
       "1        1 -0.130378 -0.381318 -1.285172 -0.766302 -3.098302  1.257852   \n",
       "2        0 -0.871138 -0.825300 -1.615008 -0.448803 -2.570782 -1.345798   \n",
       "3        0 -0.877341 -1.905598 -2.306114 -1.210761 -4.037471 -2.223608   \n",
       "4        0 -2.113456 -2.313845 -2.917153 -3.333467 -4.439346  3.029632   \n",
       "...    ...       ...       ...       ...       ...       ...       ...   \n",
       "1472     0 -1.216544  2.933523  3.125961  6.299250 -4.701302 -0.736551   \n",
       "1473     0  1.519838  0.929747 -1.755750 -0.627124  0.134864 -0.277557   \n",
       "1474     0  1.186808  3.124830  1.554038  7.640257 -2.306926 -0.103164   \n",
       "1475     0  0.418682 -0.560838 -2.849019 -2.070624 -2.299557  4.606691   \n",
       "1476     0  1.212889  2.448926  2.743811  4.592014 -3.753621  0.832177   \n",
       "\n",
       "          SIG7      SIG8      SIG9  ...    SIG191    SIG192    SIG193  \\\n",
       "0     0.019999  5.552095 -1.217598  ... -0.493650 -0.081946 -0.026963   \n",
       "1     0.792258  3.052683 -0.596629  ... -0.242341 -0.040653 -0.248808   \n",
       "2     3.561107  2.748009 -0.898133  ... -0.210873 -0.224043 -0.668168   \n",
       "3     2.404128  0.769476  5.605738  ... -0.244826  0.100125 -0.016613   \n",
       "4    -0.177130  0.268809  2.673137  ...  0.523039 -0.104421  0.110383   \n",
       "...        ...       ...       ...  ...       ...       ...       ...   \n",
       "1472  3.274427 -2.604696 -1.287880  ...  0.137749 -0.057304 -0.005772   \n",
       "1473  0.433767  2.599539  0.523947  ... -0.070191 -0.446749 -0.038911   \n",
       "1474 -0.717412 -0.002707 -1.555463  ...  0.104973  0.738707  0.183454   \n",
       "1475 -2.472302  1.304957 -0.820954  ...  0.235377  0.323977 -0.046804   \n",
       "1476  0.737840  0.831088 -0.098138  ... -0.199445 -0.030528  0.515253   \n",
       "\n",
       "        SIG194    SIG195    SIG196    SIG197    SIG198    SIG199    SIG200  \n",
       "0     0.069390  0.000884 -0.090158  0.567668  0.136708  0.258290 -0.110619  \n",
       "1    -0.206819 -0.113580  0.087156 -0.075984  0.359806  0.352307 -0.065168  \n",
       "2    -0.067575 -0.557790  0.050106  0.352167 -0.136979  0.270314  0.231886  \n",
       "3     0.139226  0.153687 -0.222902 -0.324682  0.330688 -0.053124 -0.046525  \n",
       "4     0.099062  0.347613 -0.213793  0.090675  0.081936 -0.129969 -0.435595  \n",
       "...        ...       ...       ...       ...       ...       ...       ...  \n",
       "1472  0.044957  0.014158 -0.256404  0.094116  0.003980 -0.392673 -0.156949  \n",
       "1473  0.276027  0.146811  0.092740 -0.012873  0.173764  0.011626 -0.140552  \n",
       "1474 -0.538684  0.066061 -0.045803 -0.223485 -0.244998  0.270780 -0.206376  \n",
       "1475  0.033842 -0.230825  0.045902  0.093716  0.194718 -0.463204  0.210923  \n",
       "1476 -0.319594  0.228650 -0.178643  0.160083 -0.108709 -0.232119 -0.015520  \n",
       "\n",
       "[1477 rows x 201 columns]"
      ]
     },
     "execution_count": 3,
     "metadata": {},
     "output_type": "execute_result"
    }
   ],
   "source": [
    "df_sc = pd.read_csv(\"https://www.dropbox.com/s/hl26fuodi5zalo5/semiconductor.csv?dl=1\")\n",
    "df_sc"
   ]
  },
  {
   "cell_type": "code",
   "execution_count": 4,
   "metadata": {
    "id": "C5Srtd11N2pZ"
   },
   "outputs": [],
   "source": [
    "X0 = df_sc.drop(columns='FAIL')\n",
    "y0 = df_sc['FAIL']"
   ]
  },
  {
   "cell_type": "code",
   "execution_count": 4,
   "metadata": {
    "colab": {
     "base_uri": "https://localhost:8080/",
     "height": 75
    },
    "executionInfo": {
     "elapsed": 362,
     "status": "ok",
     "timestamp": 1721194391943,
     "user": {
      "displayName": "Yong Song",
      "userId": "00576951217859821315"
     },
     "user_tz": -600
    },
    "id": "rVpkUCv3WUVh",
    "outputId": "6a3bb0e8-afab-47bf-dc42-ae17049a9d58"
   },
   "outputs": [
    {
     "data": {
      "text/html": [
       "<style>#sk-container-id-1 {\n",
       "  /* Definition of color scheme common for light and dark mode */\n",
       "  --sklearn-color-text: #000;\n",
       "  --sklearn-color-text-muted: #666;\n",
       "  --sklearn-color-line: gray;\n",
       "  /* Definition of color scheme for unfitted estimators */\n",
       "  --sklearn-color-unfitted-level-0: #fff5e6;\n",
       "  --sklearn-color-unfitted-level-1: #f6e4d2;\n",
       "  --sklearn-color-unfitted-level-2: #ffe0b3;\n",
       "  --sklearn-color-unfitted-level-3: chocolate;\n",
       "  /* Definition of color scheme for fitted estimators */\n",
       "  --sklearn-color-fitted-level-0: #f0f8ff;\n",
       "  --sklearn-color-fitted-level-1: #d4ebff;\n",
       "  --sklearn-color-fitted-level-2: #b3dbfd;\n",
       "  --sklearn-color-fitted-level-3: cornflowerblue;\n",
       "\n",
       "  /* Specific color for light theme */\n",
       "  --sklearn-color-text-on-default-background: var(--sg-text-color, var(--theme-code-foreground, var(--jp-content-font-color1, black)));\n",
       "  --sklearn-color-background: var(--sg-background-color, var(--theme-background, var(--jp-layout-color0, white)));\n",
       "  --sklearn-color-border-box: var(--sg-text-color, var(--theme-code-foreground, var(--jp-content-font-color1, black)));\n",
       "  --sklearn-color-icon: #696969;\n",
       "\n",
       "  @media (prefers-color-scheme: dark) {\n",
       "    /* Redefinition of color scheme for dark theme */\n",
       "    --sklearn-color-text-on-default-background: var(--sg-text-color, var(--theme-code-foreground, var(--jp-content-font-color1, white)));\n",
       "    --sklearn-color-background: var(--sg-background-color, var(--theme-background, var(--jp-layout-color0, #111)));\n",
       "    --sklearn-color-border-box: var(--sg-text-color, var(--theme-code-foreground, var(--jp-content-font-color1, white)));\n",
       "    --sklearn-color-icon: #878787;\n",
       "  }\n",
       "}\n",
       "\n",
       "#sk-container-id-1 {\n",
       "  color: var(--sklearn-color-text);\n",
       "}\n",
       "\n",
       "#sk-container-id-1 pre {\n",
       "  padding: 0;\n",
       "}\n",
       "\n",
       "#sk-container-id-1 input.sk-hidden--visually {\n",
       "  border: 0;\n",
       "  clip: rect(1px 1px 1px 1px);\n",
       "  clip: rect(1px, 1px, 1px, 1px);\n",
       "  height: 1px;\n",
       "  margin: -1px;\n",
       "  overflow: hidden;\n",
       "  padding: 0;\n",
       "  position: absolute;\n",
       "  width: 1px;\n",
       "}\n",
       "\n",
       "#sk-container-id-1 div.sk-dashed-wrapped {\n",
       "  border: 1px dashed var(--sklearn-color-line);\n",
       "  margin: 0 0.4em 0.5em 0.4em;\n",
       "  box-sizing: border-box;\n",
       "  padding-bottom: 0.4em;\n",
       "  background-color: var(--sklearn-color-background);\n",
       "}\n",
       "\n",
       "#sk-container-id-1 div.sk-container {\n",
       "  /* jupyter's `normalize.less` sets `[hidden] { display: none; }`\n",
       "     but bootstrap.min.css set `[hidden] { display: none !important; }`\n",
       "     so we also need the `!important` here to be able to override the\n",
       "     default hidden behavior on the sphinx rendered scikit-learn.org.\n",
       "     See: https://github.com/scikit-learn/scikit-learn/issues/21755 */\n",
       "  display: inline-block !important;\n",
       "  position: relative;\n",
       "}\n",
       "\n",
       "#sk-container-id-1 div.sk-text-repr-fallback {\n",
       "  display: none;\n",
       "}\n",
       "\n",
       "div.sk-parallel-item,\n",
       "div.sk-serial,\n",
       "div.sk-item {\n",
       "  /* draw centered vertical line to link estimators */\n",
       "  background-image: linear-gradient(var(--sklearn-color-text-on-default-background), var(--sklearn-color-text-on-default-background));\n",
       "  background-size: 2px 100%;\n",
       "  background-repeat: no-repeat;\n",
       "  background-position: center center;\n",
       "}\n",
       "\n",
       "/* Parallel-specific style estimator block */\n",
       "\n",
       "#sk-container-id-1 div.sk-parallel-item::after {\n",
       "  content: \"\";\n",
       "  width: 100%;\n",
       "  border-bottom: 2px solid var(--sklearn-color-text-on-default-background);\n",
       "  flex-grow: 1;\n",
       "}\n",
       "\n",
       "#sk-container-id-1 div.sk-parallel {\n",
       "  display: flex;\n",
       "  align-items: stretch;\n",
       "  justify-content: center;\n",
       "  background-color: var(--sklearn-color-background);\n",
       "  position: relative;\n",
       "}\n",
       "\n",
       "#sk-container-id-1 div.sk-parallel-item {\n",
       "  display: flex;\n",
       "  flex-direction: column;\n",
       "}\n",
       "\n",
       "#sk-container-id-1 div.sk-parallel-item:first-child::after {\n",
       "  align-self: flex-end;\n",
       "  width: 50%;\n",
       "}\n",
       "\n",
       "#sk-container-id-1 div.sk-parallel-item:last-child::after {\n",
       "  align-self: flex-start;\n",
       "  width: 50%;\n",
       "}\n",
       "\n",
       "#sk-container-id-1 div.sk-parallel-item:only-child::after {\n",
       "  width: 0;\n",
       "}\n",
       "\n",
       "/* Serial-specific style estimator block */\n",
       "\n",
       "#sk-container-id-1 div.sk-serial {\n",
       "  display: flex;\n",
       "  flex-direction: column;\n",
       "  align-items: center;\n",
       "  background-color: var(--sklearn-color-background);\n",
       "  padding-right: 1em;\n",
       "  padding-left: 1em;\n",
       "}\n",
       "\n",
       "\n",
       "/* Toggleable style: style used for estimator/Pipeline/ColumnTransformer box that is\n",
       "clickable and can be expanded/collapsed.\n",
       "- Pipeline and ColumnTransformer use this feature and define the default style\n",
       "- Estimators will overwrite some part of the style using the `sk-estimator` class\n",
       "*/\n",
       "\n",
       "/* Pipeline and ColumnTransformer style (default) */\n",
       "\n",
       "#sk-container-id-1 div.sk-toggleable {\n",
       "  /* Default theme specific background. It is overwritten whether we have a\n",
       "  specific estimator or a Pipeline/ColumnTransformer */\n",
       "  background-color: var(--sklearn-color-background);\n",
       "}\n",
       "\n",
       "/* Toggleable label */\n",
       "#sk-container-id-1 label.sk-toggleable__label {\n",
       "  cursor: pointer;\n",
       "  display: flex;\n",
       "  width: 100%;\n",
       "  margin-bottom: 0;\n",
       "  padding: 0.5em;\n",
       "  box-sizing: border-box;\n",
       "  text-align: center;\n",
       "  align-items: start;\n",
       "  justify-content: space-between;\n",
       "  gap: 0.5em;\n",
       "}\n",
       "\n",
       "#sk-container-id-1 label.sk-toggleable__label .caption {\n",
       "  font-size: 0.6rem;\n",
       "  font-weight: lighter;\n",
       "  color: var(--sklearn-color-text-muted);\n",
       "}\n",
       "\n",
       "#sk-container-id-1 label.sk-toggleable__label-arrow:before {\n",
       "  /* Arrow on the left of the label */\n",
       "  content: \"▸\";\n",
       "  float: left;\n",
       "  margin-right: 0.25em;\n",
       "  color: var(--sklearn-color-icon);\n",
       "}\n",
       "\n",
       "#sk-container-id-1 label.sk-toggleable__label-arrow:hover:before {\n",
       "  color: var(--sklearn-color-text);\n",
       "}\n",
       "\n",
       "/* Toggleable content - dropdown */\n",
       "\n",
       "#sk-container-id-1 div.sk-toggleable__content {\n",
       "  display: none;\n",
       "  text-align: left;\n",
       "  /* unfitted */\n",
       "  background-color: var(--sklearn-color-unfitted-level-0);\n",
       "}\n",
       "\n",
       "#sk-container-id-1 div.sk-toggleable__content.fitted {\n",
       "  /* fitted */\n",
       "  background-color: var(--sklearn-color-fitted-level-0);\n",
       "}\n",
       "\n",
       "#sk-container-id-1 div.sk-toggleable__content pre {\n",
       "  margin: 0.2em;\n",
       "  border-radius: 0.25em;\n",
       "  color: var(--sklearn-color-text);\n",
       "  /* unfitted */\n",
       "  background-color: var(--sklearn-color-unfitted-level-0);\n",
       "}\n",
       "\n",
       "#sk-container-id-1 div.sk-toggleable__content.fitted pre {\n",
       "  /* unfitted */\n",
       "  background-color: var(--sklearn-color-fitted-level-0);\n",
       "}\n",
       "\n",
       "#sk-container-id-1 input.sk-toggleable__control:checked~div.sk-toggleable__content {\n",
       "  /* Expand drop-down */\n",
       "  display: block;\n",
       "  width: 100%;\n",
       "  overflow: visible;\n",
       "}\n",
       "\n",
       "#sk-container-id-1 input.sk-toggleable__control:checked~label.sk-toggleable__label-arrow:before {\n",
       "  content: \"▾\";\n",
       "}\n",
       "\n",
       "/* Pipeline/ColumnTransformer-specific style */\n",
       "\n",
       "#sk-container-id-1 div.sk-label input.sk-toggleable__control:checked~label.sk-toggleable__label {\n",
       "  color: var(--sklearn-color-text);\n",
       "  background-color: var(--sklearn-color-unfitted-level-2);\n",
       "}\n",
       "\n",
       "#sk-container-id-1 div.sk-label.fitted input.sk-toggleable__control:checked~label.sk-toggleable__label {\n",
       "  background-color: var(--sklearn-color-fitted-level-2);\n",
       "}\n",
       "\n",
       "/* Estimator-specific style */\n",
       "\n",
       "/* Colorize estimator box */\n",
       "#sk-container-id-1 div.sk-estimator input.sk-toggleable__control:checked~label.sk-toggleable__label {\n",
       "  /* unfitted */\n",
       "  background-color: var(--sklearn-color-unfitted-level-2);\n",
       "}\n",
       "\n",
       "#sk-container-id-1 div.sk-estimator.fitted input.sk-toggleable__control:checked~label.sk-toggleable__label {\n",
       "  /* fitted */\n",
       "  background-color: var(--sklearn-color-fitted-level-2);\n",
       "}\n",
       "\n",
       "#sk-container-id-1 div.sk-label label.sk-toggleable__label,\n",
       "#sk-container-id-1 div.sk-label label {\n",
       "  /* The background is the default theme color */\n",
       "  color: var(--sklearn-color-text-on-default-background);\n",
       "}\n",
       "\n",
       "/* On hover, darken the color of the background */\n",
       "#sk-container-id-1 div.sk-label:hover label.sk-toggleable__label {\n",
       "  color: var(--sklearn-color-text);\n",
       "  background-color: var(--sklearn-color-unfitted-level-2);\n",
       "}\n",
       "\n",
       "/* Label box, darken color on hover, fitted */\n",
       "#sk-container-id-1 div.sk-label.fitted:hover label.sk-toggleable__label.fitted {\n",
       "  color: var(--sklearn-color-text);\n",
       "  background-color: var(--sklearn-color-fitted-level-2);\n",
       "}\n",
       "\n",
       "/* Estimator label */\n",
       "\n",
       "#sk-container-id-1 div.sk-label label {\n",
       "  font-family: monospace;\n",
       "  font-weight: bold;\n",
       "  display: inline-block;\n",
       "  line-height: 1.2em;\n",
       "}\n",
       "\n",
       "#sk-container-id-1 div.sk-label-container {\n",
       "  text-align: center;\n",
       "}\n",
       "\n",
       "/* Estimator-specific */\n",
       "#sk-container-id-1 div.sk-estimator {\n",
       "  font-family: monospace;\n",
       "  border: 1px dotted var(--sklearn-color-border-box);\n",
       "  border-radius: 0.25em;\n",
       "  box-sizing: border-box;\n",
       "  margin-bottom: 0.5em;\n",
       "  /* unfitted */\n",
       "  background-color: var(--sklearn-color-unfitted-level-0);\n",
       "}\n",
       "\n",
       "#sk-container-id-1 div.sk-estimator.fitted {\n",
       "  /* fitted */\n",
       "  background-color: var(--sklearn-color-fitted-level-0);\n",
       "}\n",
       "\n",
       "/* on hover */\n",
       "#sk-container-id-1 div.sk-estimator:hover {\n",
       "  /* unfitted */\n",
       "  background-color: var(--sklearn-color-unfitted-level-2);\n",
       "}\n",
       "\n",
       "#sk-container-id-1 div.sk-estimator.fitted:hover {\n",
       "  /* fitted */\n",
       "  background-color: var(--sklearn-color-fitted-level-2);\n",
       "}\n",
       "\n",
       "/* Specification for estimator info (e.g. \"i\" and \"?\") */\n",
       "\n",
       "/* Common style for \"i\" and \"?\" */\n",
       "\n",
       ".sk-estimator-doc-link,\n",
       "a:link.sk-estimator-doc-link,\n",
       "a:visited.sk-estimator-doc-link {\n",
       "  float: right;\n",
       "  font-size: smaller;\n",
       "  line-height: 1em;\n",
       "  font-family: monospace;\n",
       "  background-color: var(--sklearn-color-background);\n",
       "  border-radius: 1em;\n",
       "  height: 1em;\n",
       "  width: 1em;\n",
       "  text-decoration: none !important;\n",
       "  margin-left: 0.5em;\n",
       "  text-align: center;\n",
       "  /* unfitted */\n",
       "  border: var(--sklearn-color-unfitted-level-1) 1pt solid;\n",
       "  color: var(--sklearn-color-unfitted-level-1);\n",
       "}\n",
       "\n",
       ".sk-estimator-doc-link.fitted,\n",
       "a:link.sk-estimator-doc-link.fitted,\n",
       "a:visited.sk-estimator-doc-link.fitted {\n",
       "  /* fitted */\n",
       "  border: var(--sklearn-color-fitted-level-1) 1pt solid;\n",
       "  color: var(--sklearn-color-fitted-level-1);\n",
       "}\n",
       "\n",
       "/* On hover */\n",
       "div.sk-estimator:hover .sk-estimator-doc-link:hover,\n",
       ".sk-estimator-doc-link:hover,\n",
       "div.sk-label-container:hover .sk-estimator-doc-link:hover,\n",
       ".sk-estimator-doc-link:hover {\n",
       "  /* unfitted */\n",
       "  background-color: var(--sklearn-color-unfitted-level-3);\n",
       "  color: var(--sklearn-color-background);\n",
       "  text-decoration: none;\n",
       "}\n",
       "\n",
       "div.sk-estimator.fitted:hover .sk-estimator-doc-link.fitted:hover,\n",
       ".sk-estimator-doc-link.fitted:hover,\n",
       "div.sk-label-container:hover .sk-estimator-doc-link.fitted:hover,\n",
       ".sk-estimator-doc-link.fitted:hover {\n",
       "  /* fitted */\n",
       "  background-color: var(--sklearn-color-fitted-level-3);\n",
       "  color: var(--sklearn-color-background);\n",
       "  text-decoration: none;\n",
       "}\n",
       "\n",
       "/* Span, style for the box shown on hovering the info icon */\n",
       ".sk-estimator-doc-link span {\n",
       "  display: none;\n",
       "  z-index: 9999;\n",
       "  position: relative;\n",
       "  font-weight: normal;\n",
       "  right: .2ex;\n",
       "  padding: .5ex;\n",
       "  margin: .5ex;\n",
       "  width: min-content;\n",
       "  min-width: 20ex;\n",
       "  max-width: 50ex;\n",
       "  color: var(--sklearn-color-text);\n",
       "  box-shadow: 2pt 2pt 4pt #999;\n",
       "  /* unfitted */\n",
       "  background: var(--sklearn-color-unfitted-level-0);\n",
       "  border: .5pt solid var(--sklearn-color-unfitted-level-3);\n",
       "}\n",
       "\n",
       ".sk-estimator-doc-link.fitted span {\n",
       "  /* fitted */\n",
       "  background: var(--sklearn-color-fitted-level-0);\n",
       "  border: var(--sklearn-color-fitted-level-3);\n",
       "}\n",
       "\n",
       ".sk-estimator-doc-link:hover span {\n",
       "  display: block;\n",
       "}\n",
       "\n",
       "/* \"?\"-specific style due to the `<a>` HTML tag */\n",
       "\n",
       "#sk-container-id-1 a.estimator_doc_link {\n",
       "  float: right;\n",
       "  font-size: 1rem;\n",
       "  line-height: 1em;\n",
       "  font-family: monospace;\n",
       "  background-color: var(--sklearn-color-background);\n",
       "  border-radius: 1rem;\n",
       "  height: 1rem;\n",
       "  width: 1rem;\n",
       "  text-decoration: none;\n",
       "  /* unfitted */\n",
       "  color: var(--sklearn-color-unfitted-level-1);\n",
       "  border: var(--sklearn-color-unfitted-level-1) 1pt solid;\n",
       "}\n",
       "\n",
       "#sk-container-id-1 a.estimator_doc_link.fitted {\n",
       "  /* fitted */\n",
       "  border: var(--sklearn-color-fitted-level-1) 1pt solid;\n",
       "  color: var(--sklearn-color-fitted-level-1);\n",
       "}\n",
       "\n",
       "/* On hover */\n",
       "#sk-container-id-1 a.estimator_doc_link:hover {\n",
       "  /* unfitted */\n",
       "  background-color: var(--sklearn-color-unfitted-level-3);\n",
       "  color: var(--sklearn-color-background);\n",
       "  text-decoration: none;\n",
       "}\n",
       "\n",
       "#sk-container-id-1 a.estimator_doc_link.fitted:hover {\n",
       "  /* fitted */\n",
       "  background-color: var(--sklearn-color-fitted-level-3);\n",
       "}\n",
       "\n",
       ".estimator-table summary {\n",
       "    padding: .5rem;\n",
       "    font-family: monospace;\n",
       "    cursor: pointer;\n",
       "}\n",
       "\n",
       ".estimator-table details[open] {\n",
       "    padding-left: 0.1rem;\n",
       "    padding-right: 0.1rem;\n",
       "    padding-bottom: 0.3rem;\n",
       "}\n",
       "\n",
       ".estimator-table .parameters-table {\n",
       "    margin-left: auto !important;\n",
       "    margin-right: auto !important;\n",
       "}\n",
       "\n",
       ".estimator-table .parameters-table tr:nth-child(odd) {\n",
       "    background-color: #fff;\n",
       "}\n",
       "\n",
       ".estimator-table .parameters-table tr:nth-child(even) {\n",
       "    background-color: #f6f6f6;\n",
       "}\n",
       "\n",
       ".estimator-table .parameters-table tr:hover {\n",
       "    background-color: #e0e0e0;\n",
       "}\n",
       "\n",
       ".estimator-table table td {\n",
       "    border: 1px solid rgba(106, 105, 104, 0.232);\n",
       "}\n",
       "\n",
       ".user-set td {\n",
       "    color:rgb(255, 94, 0);\n",
       "    text-align: left;\n",
       "}\n",
       "\n",
       ".user-set td.value pre {\n",
       "    color:rgb(255, 94, 0) !important;\n",
       "    background-color: transparent !important;\n",
       "}\n",
       "\n",
       ".default td {\n",
       "    color: black;\n",
       "    text-align: left;\n",
       "}\n",
       "\n",
       ".user-set td i,\n",
       ".default td i {\n",
       "    color: black;\n",
       "}\n",
       "\n",
       ".copy-paste-icon {\n",
       "    background-image: url(data:image/svg+xml;base64,PHN2ZyB4bWxucz0iaHR0cDovL3d3dy53My5vcmcvMjAwMC9zdmciIHZpZXdCb3g9IjAgMCA0NDggNTEyIj48IS0tIUZvbnQgQXdlc29tZSBGcmVlIDYuNy4yIGJ5IEBmb250YXdlc29tZSAtIGh0dHBzOi8vZm9udGF3ZXNvbWUuY29tIExpY2Vuc2UgLSBodHRwczovL2ZvbnRhd2Vzb21lLmNvbS9saWNlbnNlL2ZyZWUgQ29weXJpZ2h0IDIwMjUgRm9udGljb25zLCBJbmMuLS0+PHBhdGggZD0iTTIwOCAwTDMzMi4xIDBjMTIuNyAwIDI0LjkgNS4xIDMzLjkgMTQuMWw2Ny45IDY3LjljOSA5IDE0LjEgMjEuMiAxNC4xIDMzLjlMNDQ4IDMzNmMwIDI2LjUtMjEuNSA0OC00OCA0OGwtMTkyIDBjLTI2LjUgMC00OC0yMS41LTQ4LTQ4bDAtMjg4YzAtMjYuNSAyMS41LTQ4IDQ4LTQ4ek00OCAxMjhsODAgMCAwIDY0LTY0IDAgMCAyNTYgMTkyIDAgMC0zMiA2NCAwIDAgNDhjMCAyNi41LTIxLjUgNDgtNDggNDhMNDggNTEyYy0yNi41IDAtNDgtMjEuNS00OC00OEwwIDE3NmMwLTI2LjUgMjEuNS00OCA0OC00OHoiLz48L3N2Zz4=);\n",
       "    background-repeat: no-repeat;\n",
       "    background-size: 14px 14px;\n",
       "    background-position: 0;\n",
       "    display: inline-block;\n",
       "    width: 14px;\n",
       "    height: 14px;\n",
       "    cursor: pointer;\n",
       "}\n",
       "</style><body><div id=\"sk-container-id-1\" class=\"sk-top-container\"><div class=\"sk-text-repr-fallback\"><pre>Lasso(alpha=0.01)</pre><b>In a Jupyter environment, please rerun this cell to show the HTML representation or trust the notebook. <br />On GitHub, the HTML representation is unable to render, please try loading this page with nbviewer.org.</b></div><div class=\"sk-container\" hidden><div class=\"sk-item\"><div class=\"sk-estimator fitted sk-toggleable\"><input class=\"sk-toggleable__control sk-hidden--visually\" id=\"sk-estimator-id-1\" type=\"checkbox\" checked><label for=\"sk-estimator-id-1\" class=\"sk-toggleable__label fitted sk-toggleable__label-arrow\"><div><div>Lasso</div></div><div><a class=\"sk-estimator-doc-link fitted\" rel=\"noreferrer\" target=\"_blank\" href=\"https://scikit-learn.org/1.7/modules/generated/sklearn.linear_model.Lasso.html\">?<span>Documentation for Lasso</span></a><span class=\"sk-estimator-doc-link fitted\">i<span>Fitted</span></span></div></label><div class=\"sk-toggleable__content fitted\" data-param-prefix=\"\">\n",
       "        <div class=\"estimator-table\">\n",
       "            <details>\n",
       "                <summary>Parameters</summary>\n",
       "                <table class=\"parameters-table\">\n",
       "                  <tbody>\n",
       "                    \n",
       "        <tr class=\"user-set\">\n",
       "            <td><i class=\"copy-paste-icon\"\n",
       "                 onclick=\"copyToClipboard('alpha',\n",
       "                          this.parentElement.nextElementSibling)\"\n",
       "            ></i></td>\n",
       "            <td class=\"param\">alpha&nbsp;</td>\n",
       "            <td class=\"value\">0.01</td>\n",
       "        </tr>\n",
       "    \n",
       "\n",
       "        <tr class=\"default\">\n",
       "            <td><i class=\"copy-paste-icon\"\n",
       "                 onclick=\"copyToClipboard('fit_intercept',\n",
       "                          this.parentElement.nextElementSibling)\"\n",
       "            ></i></td>\n",
       "            <td class=\"param\">fit_intercept&nbsp;</td>\n",
       "            <td class=\"value\">True</td>\n",
       "        </tr>\n",
       "    \n",
       "\n",
       "        <tr class=\"default\">\n",
       "            <td><i class=\"copy-paste-icon\"\n",
       "                 onclick=\"copyToClipboard('precompute',\n",
       "                          this.parentElement.nextElementSibling)\"\n",
       "            ></i></td>\n",
       "            <td class=\"param\">precompute&nbsp;</td>\n",
       "            <td class=\"value\">False</td>\n",
       "        </tr>\n",
       "    \n",
       "\n",
       "        <tr class=\"default\">\n",
       "            <td><i class=\"copy-paste-icon\"\n",
       "                 onclick=\"copyToClipboard('copy_X',\n",
       "                          this.parentElement.nextElementSibling)\"\n",
       "            ></i></td>\n",
       "            <td class=\"param\">copy_X&nbsp;</td>\n",
       "            <td class=\"value\">True</td>\n",
       "        </tr>\n",
       "    \n",
       "\n",
       "        <tr class=\"default\">\n",
       "            <td><i class=\"copy-paste-icon\"\n",
       "                 onclick=\"copyToClipboard('max_iter',\n",
       "                          this.parentElement.nextElementSibling)\"\n",
       "            ></i></td>\n",
       "            <td class=\"param\">max_iter&nbsp;</td>\n",
       "            <td class=\"value\">1000</td>\n",
       "        </tr>\n",
       "    \n",
       "\n",
       "        <tr class=\"default\">\n",
       "            <td><i class=\"copy-paste-icon\"\n",
       "                 onclick=\"copyToClipboard('tol',\n",
       "                          this.parentElement.nextElementSibling)\"\n",
       "            ></i></td>\n",
       "            <td class=\"param\">tol&nbsp;</td>\n",
       "            <td class=\"value\">0.0001</td>\n",
       "        </tr>\n",
       "    \n",
       "\n",
       "        <tr class=\"default\">\n",
       "            <td><i class=\"copy-paste-icon\"\n",
       "                 onclick=\"copyToClipboard('warm_start',\n",
       "                          this.parentElement.nextElementSibling)\"\n",
       "            ></i></td>\n",
       "            <td class=\"param\">warm_start&nbsp;</td>\n",
       "            <td class=\"value\">False</td>\n",
       "        </tr>\n",
       "    \n",
       "\n",
       "        <tr class=\"default\">\n",
       "            <td><i class=\"copy-paste-icon\"\n",
       "                 onclick=\"copyToClipboard('positive',\n",
       "                          this.parentElement.nextElementSibling)\"\n",
       "            ></i></td>\n",
       "            <td class=\"param\">positive&nbsp;</td>\n",
       "            <td class=\"value\">False</td>\n",
       "        </tr>\n",
       "    \n",
       "\n",
       "        <tr class=\"default\">\n",
       "            <td><i class=\"copy-paste-icon\"\n",
       "                 onclick=\"copyToClipboard('random_state',\n",
       "                          this.parentElement.nextElementSibling)\"\n",
       "            ></i></td>\n",
       "            <td class=\"param\">random_state&nbsp;</td>\n",
       "            <td class=\"value\">None</td>\n",
       "        </tr>\n",
       "    \n",
       "\n",
       "        <tr class=\"default\">\n",
       "            <td><i class=\"copy-paste-icon\"\n",
       "                 onclick=\"copyToClipboard('selection',\n",
       "                          this.parentElement.nextElementSibling)\"\n",
       "            ></i></td>\n",
       "            <td class=\"param\">selection&nbsp;</td>\n",
       "            <td class=\"value\">&#x27;cyclic&#x27;</td>\n",
       "        </tr>\n",
       "    \n",
       "                  </tbody>\n",
       "                </table>\n",
       "            </details>\n",
       "        </div>\n",
       "    </div></div></div></div></div><script>function copyToClipboard(text, element) {\n",
       "    // Get the parameter prefix from the closest toggleable content\n",
       "    const toggleableContent = element.closest('.sk-toggleable__content');\n",
       "    const paramPrefix = toggleableContent ? toggleableContent.dataset.paramPrefix : '';\n",
       "    const fullParamName = paramPrefix ? `${paramPrefix}${text}` : text;\n",
       "\n",
       "    const originalStyle = element.style;\n",
       "    const computedStyle = window.getComputedStyle(element);\n",
       "    const originalWidth = computedStyle.width;\n",
       "    const originalHTML = element.innerHTML.replace('Copied!', '');\n",
       "\n",
       "    navigator.clipboard.writeText(fullParamName)\n",
       "        .then(() => {\n",
       "            element.style.width = originalWidth;\n",
       "            element.style.color = 'green';\n",
       "            element.innerHTML = \"Copied!\";\n",
       "\n",
       "            setTimeout(() => {\n",
       "                element.innerHTML = originalHTML;\n",
       "                element.style = originalStyle;\n",
       "            }, 2000);\n",
       "        })\n",
       "        .catch(err => {\n",
       "            console.error('Failed to copy:', err);\n",
       "            element.style.color = 'red';\n",
       "            element.innerHTML = \"Failed!\";\n",
       "            setTimeout(() => {\n",
       "                element.innerHTML = originalHTML;\n",
       "                element.style = originalStyle;\n",
       "            }, 2000);\n",
       "        });\n",
       "    return false;\n",
       "}\n",
       "\n",
       "document.querySelectorAll('.fa-regular.fa-copy').forEach(function(element) {\n",
       "    const toggleableContent = element.closest('.sk-toggleable__content');\n",
       "    const paramPrefix = toggleableContent ? toggleableContent.dataset.paramPrefix : '';\n",
       "    const paramName = element.parentElement.nextElementSibling.textContent.trim();\n",
       "    const fullParamName = paramPrefix ? `${paramPrefix}${paramName}` : paramName;\n",
       "\n",
       "    element.setAttribute('title', fullParamName);\n",
       "});\n",
       "</script></body>"
      ],
      "text/plain": [
       "Lasso(alpha=0.01)"
      ]
     },
     "execution_count": 4,
     "metadata": {},
     "output_type": "execute_result"
    }
   ],
   "source": [
    "lasso_model = Lasso(alpha=0.01)  # You can adjust the alpha parameter for stronger or weaker regularization\n",
    "\n",
    "lasso_model.fit(X0, y0)"
   ]
  },
  {
   "cell_type": "code",
   "execution_count": 5,
   "metadata": {
    "colab": {
     "base_uri": "https://localhost:8080/"
    },
    "executionInfo": {
     "elapsed": 321,
     "status": "ok",
     "timestamp": 1721194402523,
     "user": {
      "displayName": "Yong Song",
      "userId": "00576951217859821315"
     },
     "user_tz": -600
    },
    "id": "sWoTzRjNmrt9",
    "outputId": "eb2522d9-e745-4a5e-e14e-fee6969a0db8"
   },
   "outputs": [
    {
     "name": "stdout",
     "output_type": "stream",
     "text": [
      "Lasso Regression Coefficients:\n",
      "SIG1: -0.0016\n",
      "SIG2: -0.0073\n",
      "SIG3: 0.0000\n",
      "SIG4: -0.0014\n",
      "SIG5: 0.0013\n",
      "SIG6: 0.0000\n",
      "SIG7: -0.0037\n",
      "SIG8: 0.0000\n",
      "SIG9: -0.0000\n",
      "SIG10: 0.0009\n",
      "SIG11: 0.0022\n",
      "SIG12: 0.0003\n",
      "SIG13: -0.0087\n",
      "SIG14: -0.0023\n",
      "SIG15: 0.0000\n",
      "SIG16: 0.0031\n",
      "SIG17: -0.0003\n",
      "SIG18: 0.0056\n",
      "SIG19: 0.0000\n",
      "SIG20: -0.0026\n",
      "SIG21: -0.0001\n",
      "SIG22: -0.0004\n",
      "SIG23: 0.0019\n",
      "SIG24: 0.0060\n",
      "SIG25: 0.0005\n",
      "SIG26: -0.0000\n",
      "SIG27: -0.0032\n",
      "SIG28: 0.0000\n",
      "SIG29: -0.0015\n",
      "SIG30: -0.0000\n",
      "SIG31: -0.0000\n",
      "SIG32: -0.0027\n",
      "SIG33: -0.0000\n",
      "SIG34: -0.0005\n",
      "SIG35: -0.0001\n",
      "SIG36: -0.0000\n",
      "SIG37: 0.0000\n",
      "SIG38: 0.0000\n",
      "SIG39: -0.0017\n",
      "SIG40: 0.0006\n",
      "SIG41: -0.0023\n",
      "SIG42: 0.0042\n",
      "SIG43: -0.0000\n",
      "SIG44: -0.0000\n",
      "SIG45: 0.0020\n",
      "SIG46: 0.0000\n",
      "SIG47: -0.0000\n",
      "SIG48: -0.0017\n",
      "SIG49: -0.0000\n",
      "SIG50: 0.0089\n",
      "SIG51: 0.0000\n",
      "SIG52: -0.0000\n",
      "SIG53: -0.0000\n",
      "SIG54: -0.0000\n",
      "SIG55: -0.0000\n",
      "SIG56: -0.0000\n",
      "SIG57: -0.0056\n",
      "SIG58: -0.0000\n",
      "SIG59: 0.0026\n",
      "SIG60: -0.0015\n",
      "SIG61: -0.0112\n",
      "SIG62: -0.0006\n",
      "SIG63: 0.0000\n",
      "SIG64: 0.0024\n",
      "SIG65: -0.0000\n",
      "SIG66: 0.0027\n",
      "SIG67: -0.0000\n",
      "SIG68: 0.0000\n",
      "SIG69: -0.0013\n",
      "SIG70: -0.0000\n",
      "SIG71: -0.0008\n",
      "SIG72: -0.0000\n",
      "SIG73: -0.0000\n",
      "SIG74: 0.0012\n",
      "SIG75: 0.0000\n",
      "SIG76: 0.0000\n",
      "SIG77: 0.0000\n",
      "SIG78: 0.0000\n",
      "SIG79: 0.0009\n",
      "SIG80: -0.0021\n",
      "SIG81: -0.0000\n",
      "SIG82: 0.0010\n",
      "SIG83: -0.0000\n",
      "SIG84: -0.0000\n",
      "SIG85: -0.0004\n",
      "SIG86: -0.0000\n",
      "SIG87: 0.0000\n",
      "SIG88: 0.0000\n",
      "SIG89: 0.0000\n",
      "SIG90: 0.0000\n",
      "SIG91: -0.0000\n",
      "SIG92: 0.0000\n",
      "SIG93: -0.0000\n",
      "SIG94: 0.0000\n",
      "SIG95: -0.0000\n",
      "SIG96: -0.0000\n",
      "SIG97: -0.0027\n",
      "SIG98: 0.0000\n",
      "SIG99: 0.0026\n",
      "SIG100: -0.0000\n",
      "SIG101: -0.0000\n",
      "SIG102: 0.0000\n",
      "SIG103: 0.0000\n",
      "SIG104: 0.0031\n",
      "SIG105: -0.0000\n",
      "SIG106: -0.0000\n",
      "SIG107: -0.0000\n",
      "SIG108: -0.0000\n",
      "SIG109: 0.0000\n",
      "SIG110: -0.0000\n",
      "SIG111: -0.0002\n",
      "SIG112: -0.0000\n",
      "SIG113: 0.0000\n",
      "SIG114: 0.0000\n",
      "SIG115: 0.0000\n",
      "SIG116: 0.0000\n",
      "SIG117: -0.0024\n",
      "SIG118: 0.0000\n",
      "SIG119: -0.0000\n",
      "SIG120: -0.0000\n",
      "SIG121: 0.0000\n",
      "SIG122: -0.0000\n",
      "SIG123: 0.0000\n",
      "SIG124: 0.0000\n",
      "SIG125: -0.0000\n",
      "SIG126: 0.0000\n",
      "SIG127: -0.0000\n",
      "SIG128: -0.0000\n",
      "SIG129: -0.0000\n",
      "SIG130: -0.0000\n",
      "SIG131: 0.0000\n",
      "SIG132: -0.0000\n",
      "SIG133: -0.0000\n",
      "SIG134: 0.0000\n",
      "SIG135: 0.0000\n",
      "SIG136: -0.0001\n",
      "SIG137: -0.0000\n",
      "SIG138: -0.0000\n",
      "SIG139: 0.0000\n",
      "SIG140: 0.0000\n",
      "SIG141: -0.0000\n",
      "SIG142: -0.0000\n",
      "SIG143: 0.0000\n",
      "SIG144: -0.0000\n",
      "SIG145: -0.0000\n",
      "SIG146: -0.0000\n",
      "SIG147: 0.0000\n",
      "SIG148: 0.0000\n",
      "SIG149: -0.0000\n",
      "SIG150: 0.0000\n",
      "SIG151: 0.0000\n",
      "SIG152: 0.0000\n",
      "SIG153: 0.0000\n",
      "SIG154: -0.0000\n",
      "SIG155: -0.0000\n",
      "SIG156: -0.0000\n",
      "SIG157: 0.0000\n",
      "SIG158: -0.0000\n",
      "SIG159: -0.0000\n",
      "SIG160: -0.0000\n",
      "SIG161: -0.0000\n",
      "SIG162: -0.0000\n",
      "SIG163: -0.0000\n",
      "SIG164: 0.0000\n",
      "SIG165: 0.0000\n",
      "SIG166: -0.0014\n",
      "SIG167: 0.0000\n",
      "SIG168: -0.0000\n",
      "SIG169: -0.0000\n",
      "SIG170: 0.0000\n",
      "SIG171: -0.0000\n",
      "SIG172: 0.0000\n",
      "SIG173: 0.0000\n",
      "SIG174: 0.0000\n",
      "SIG175: 0.0000\n",
      "SIG176: -0.0000\n",
      "SIG177: 0.0000\n",
      "SIG178: 0.0000\n",
      "SIG179: -0.0000\n",
      "SIG180: 0.0000\n",
      "SIG181: -0.0000\n",
      "SIG182: 0.0000\n",
      "SIG183: 0.0000\n",
      "SIG184: 0.0000\n",
      "SIG185: -0.0000\n",
      "SIG186: 0.0000\n",
      "SIG187: -0.0000\n",
      "SIG188: -0.0000\n",
      "SIG189: 0.0000\n",
      "SIG190: -0.0000\n",
      "SIG191: -0.0000\n",
      "SIG192: 0.0000\n",
      "SIG193: -0.0000\n",
      "SIG194: -0.0000\n",
      "SIG195: -0.0000\n",
      "SIG196: -0.0000\n",
      "SIG197: -0.0000\n",
      "SIG198: 0.0000\n",
      "SIG199: -0.0000\n",
      "SIG200: -0.0000\n"
     ]
    }
   ],
   "source": [
    "coefficients = lasso_model.coef_\n",
    "feature_names = X0.columns\n",
    "\n",
    "print(\"Lasso Regression Coefficients:\")\n",
    "for feature, coef in zip(feature_names, coefficients):\n",
    "    print(f\"{feature}: {coef:.4f}\")"
   ]
  },
  {
   "cell_type": "code",
   "execution_count": 6,
   "metadata": {
    "colab": {
     "base_uri": "https://localhost:8080/"
    },
    "executionInfo": {
     "elapsed": 338,
     "status": "ok",
     "timestamp": 1721194415507,
     "user": {
      "displayName": "Yong Song",
      "userId": "00576951217859821315"
     },
     "user_tz": -600
    },
    "id": "-0T5Q2XXm3rl",
    "outputId": "e622beac-3dd1-4581-e1dc-6492d2dd6bd8"
   },
   "outputs": [
    {
     "data": {
      "text/plain": [
       "52"
      ]
     },
     "execution_count": 6,
     "metadata": {},
     "output_type": "execute_result"
    }
   ],
   "source": [
    "sum(coefficients!=0)"
   ]
  },
  {
   "cell_type": "markdown",
   "metadata": {
    "id": "1XqOviOknbf2"
   },
   "source": [
    "## Scaling"
   ]
  },
  {
   "cell_type": "code",
   "execution_count": 5,
   "metadata": {
    "id": "_jlRUcBEWLxx"
   },
   "outputs": [],
   "source": [
    "scaler = StandardScaler()\n",
    "X1 = scaler.fit_transform(X0)"
   ]
  },
  {
   "cell_type": "code",
   "execution_count": 8,
   "metadata": {
    "colab": {
     "base_uri": "https://localhost:8080/",
     "height": 75
    },
    "executionInfo": {
     "elapsed": 329,
     "status": "ok",
     "timestamp": 1721194432119,
     "user": {
      "displayName": "Yong Song",
      "userId": "00576951217859821315"
     },
     "user_tz": -600
    },
    "id": "AwYZidgKnhSD",
    "outputId": "e0292d2f-b218-4888-aafe-90c5a7d12800"
   },
   "outputs": [
    {
     "data": {
      "text/html": [
       "<style>#sk-container-id-2 {\n",
       "  /* Definition of color scheme common for light and dark mode */\n",
       "  --sklearn-color-text: #000;\n",
       "  --sklearn-color-text-muted: #666;\n",
       "  --sklearn-color-line: gray;\n",
       "  /* Definition of color scheme for unfitted estimators */\n",
       "  --sklearn-color-unfitted-level-0: #fff5e6;\n",
       "  --sklearn-color-unfitted-level-1: #f6e4d2;\n",
       "  --sklearn-color-unfitted-level-2: #ffe0b3;\n",
       "  --sklearn-color-unfitted-level-3: chocolate;\n",
       "  /* Definition of color scheme for fitted estimators */\n",
       "  --sklearn-color-fitted-level-0: #f0f8ff;\n",
       "  --sklearn-color-fitted-level-1: #d4ebff;\n",
       "  --sklearn-color-fitted-level-2: #b3dbfd;\n",
       "  --sklearn-color-fitted-level-3: cornflowerblue;\n",
       "\n",
       "  /* Specific color for light theme */\n",
       "  --sklearn-color-text-on-default-background: var(--sg-text-color, var(--theme-code-foreground, var(--jp-content-font-color1, black)));\n",
       "  --sklearn-color-background: var(--sg-background-color, var(--theme-background, var(--jp-layout-color0, white)));\n",
       "  --sklearn-color-border-box: var(--sg-text-color, var(--theme-code-foreground, var(--jp-content-font-color1, black)));\n",
       "  --sklearn-color-icon: #696969;\n",
       "\n",
       "  @media (prefers-color-scheme: dark) {\n",
       "    /* Redefinition of color scheme for dark theme */\n",
       "    --sklearn-color-text-on-default-background: var(--sg-text-color, var(--theme-code-foreground, var(--jp-content-font-color1, white)));\n",
       "    --sklearn-color-background: var(--sg-background-color, var(--theme-background, var(--jp-layout-color0, #111)));\n",
       "    --sklearn-color-border-box: var(--sg-text-color, var(--theme-code-foreground, var(--jp-content-font-color1, white)));\n",
       "    --sklearn-color-icon: #878787;\n",
       "  }\n",
       "}\n",
       "\n",
       "#sk-container-id-2 {\n",
       "  color: var(--sklearn-color-text);\n",
       "}\n",
       "\n",
       "#sk-container-id-2 pre {\n",
       "  padding: 0;\n",
       "}\n",
       "\n",
       "#sk-container-id-2 input.sk-hidden--visually {\n",
       "  border: 0;\n",
       "  clip: rect(1px 1px 1px 1px);\n",
       "  clip: rect(1px, 1px, 1px, 1px);\n",
       "  height: 1px;\n",
       "  margin: -1px;\n",
       "  overflow: hidden;\n",
       "  padding: 0;\n",
       "  position: absolute;\n",
       "  width: 1px;\n",
       "}\n",
       "\n",
       "#sk-container-id-2 div.sk-dashed-wrapped {\n",
       "  border: 1px dashed var(--sklearn-color-line);\n",
       "  margin: 0 0.4em 0.5em 0.4em;\n",
       "  box-sizing: border-box;\n",
       "  padding-bottom: 0.4em;\n",
       "  background-color: var(--sklearn-color-background);\n",
       "}\n",
       "\n",
       "#sk-container-id-2 div.sk-container {\n",
       "  /* jupyter's `normalize.less` sets `[hidden] { display: none; }`\n",
       "     but bootstrap.min.css set `[hidden] { display: none !important; }`\n",
       "     so we also need the `!important` here to be able to override the\n",
       "     default hidden behavior on the sphinx rendered scikit-learn.org.\n",
       "     See: https://github.com/scikit-learn/scikit-learn/issues/21755 */\n",
       "  display: inline-block !important;\n",
       "  position: relative;\n",
       "}\n",
       "\n",
       "#sk-container-id-2 div.sk-text-repr-fallback {\n",
       "  display: none;\n",
       "}\n",
       "\n",
       "div.sk-parallel-item,\n",
       "div.sk-serial,\n",
       "div.sk-item {\n",
       "  /* draw centered vertical line to link estimators */\n",
       "  background-image: linear-gradient(var(--sklearn-color-text-on-default-background), var(--sklearn-color-text-on-default-background));\n",
       "  background-size: 2px 100%;\n",
       "  background-repeat: no-repeat;\n",
       "  background-position: center center;\n",
       "}\n",
       "\n",
       "/* Parallel-specific style estimator block */\n",
       "\n",
       "#sk-container-id-2 div.sk-parallel-item::after {\n",
       "  content: \"\";\n",
       "  width: 100%;\n",
       "  border-bottom: 2px solid var(--sklearn-color-text-on-default-background);\n",
       "  flex-grow: 1;\n",
       "}\n",
       "\n",
       "#sk-container-id-2 div.sk-parallel {\n",
       "  display: flex;\n",
       "  align-items: stretch;\n",
       "  justify-content: center;\n",
       "  background-color: var(--sklearn-color-background);\n",
       "  position: relative;\n",
       "}\n",
       "\n",
       "#sk-container-id-2 div.sk-parallel-item {\n",
       "  display: flex;\n",
       "  flex-direction: column;\n",
       "}\n",
       "\n",
       "#sk-container-id-2 div.sk-parallel-item:first-child::after {\n",
       "  align-self: flex-end;\n",
       "  width: 50%;\n",
       "}\n",
       "\n",
       "#sk-container-id-2 div.sk-parallel-item:last-child::after {\n",
       "  align-self: flex-start;\n",
       "  width: 50%;\n",
       "}\n",
       "\n",
       "#sk-container-id-2 div.sk-parallel-item:only-child::after {\n",
       "  width: 0;\n",
       "}\n",
       "\n",
       "/* Serial-specific style estimator block */\n",
       "\n",
       "#sk-container-id-2 div.sk-serial {\n",
       "  display: flex;\n",
       "  flex-direction: column;\n",
       "  align-items: center;\n",
       "  background-color: var(--sklearn-color-background);\n",
       "  padding-right: 1em;\n",
       "  padding-left: 1em;\n",
       "}\n",
       "\n",
       "\n",
       "/* Toggleable style: style used for estimator/Pipeline/ColumnTransformer box that is\n",
       "clickable and can be expanded/collapsed.\n",
       "- Pipeline and ColumnTransformer use this feature and define the default style\n",
       "- Estimators will overwrite some part of the style using the `sk-estimator` class\n",
       "*/\n",
       "\n",
       "/* Pipeline and ColumnTransformer style (default) */\n",
       "\n",
       "#sk-container-id-2 div.sk-toggleable {\n",
       "  /* Default theme specific background. It is overwritten whether we have a\n",
       "  specific estimator or a Pipeline/ColumnTransformer */\n",
       "  background-color: var(--sklearn-color-background);\n",
       "}\n",
       "\n",
       "/* Toggleable label */\n",
       "#sk-container-id-2 label.sk-toggleable__label {\n",
       "  cursor: pointer;\n",
       "  display: flex;\n",
       "  width: 100%;\n",
       "  margin-bottom: 0;\n",
       "  padding: 0.5em;\n",
       "  box-sizing: border-box;\n",
       "  text-align: center;\n",
       "  align-items: start;\n",
       "  justify-content: space-between;\n",
       "  gap: 0.5em;\n",
       "}\n",
       "\n",
       "#sk-container-id-2 label.sk-toggleable__label .caption {\n",
       "  font-size: 0.6rem;\n",
       "  font-weight: lighter;\n",
       "  color: var(--sklearn-color-text-muted);\n",
       "}\n",
       "\n",
       "#sk-container-id-2 label.sk-toggleable__label-arrow:before {\n",
       "  /* Arrow on the left of the label */\n",
       "  content: \"▸\";\n",
       "  float: left;\n",
       "  margin-right: 0.25em;\n",
       "  color: var(--sklearn-color-icon);\n",
       "}\n",
       "\n",
       "#sk-container-id-2 label.sk-toggleable__label-arrow:hover:before {\n",
       "  color: var(--sklearn-color-text);\n",
       "}\n",
       "\n",
       "/* Toggleable content - dropdown */\n",
       "\n",
       "#sk-container-id-2 div.sk-toggleable__content {\n",
       "  display: none;\n",
       "  text-align: left;\n",
       "  /* unfitted */\n",
       "  background-color: var(--sklearn-color-unfitted-level-0);\n",
       "}\n",
       "\n",
       "#sk-container-id-2 div.sk-toggleable__content.fitted {\n",
       "  /* fitted */\n",
       "  background-color: var(--sklearn-color-fitted-level-0);\n",
       "}\n",
       "\n",
       "#sk-container-id-2 div.sk-toggleable__content pre {\n",
       "  margin: 0.2em;\n",
       "  border-radius: 0.25em;\n",
       "  color: var(--sklearn-color-text);\n",
       "  /* unfitted */\n",
       "  background-color: var(--sklearn-color-unfitted-level-0);\n",
       "}\n",
       "\n",
       "#sk-container-id-2 div.sk-toggleable__content.fitted pre {\n",
       "  /* unfitted */\n",
       "  background-color: var(--sklearn-color-fitted-level-0);\n",
       "}\n",
       "\n",
       "#sk-container-id-2 input.sk-toggleable__control:checked~div.sk-toggleable__content {\n",
       "  /* Expand drop-down */\n",
       "  display: block;\n",
       "  width: 100%;\n",
       "  overflow: visible;\n",
       "}\n",
       "\n",
       "#sk-container-id-2 input.sk-toggleable__control:checked~label.sk-toggleable__label-arrow:before {\n",
       "  content: \"▾\";\n",
       "}\n",
       "\n",
       "/* Pipeline/ColumnTransformer-specific style */\n",
       "\n",
       "#sk-container-id-2 div.sk-label input.sk-toggleable__control:checked~label.sk-toggleable__label {\n",
       "  color: var(--sklearn-color-text);\n",
       "  background-color: var(--sklearn-color-unfitted-level-2);\n",
       "}\n",
       "\n",
       "#sk-container-id-2 div.sk-label.fitted input.sk-toggleable__control:checked~label.sk-toggleable__label {\n",
       "  background-color: var(--sklearn-color-fitted-level-2);\n",
       "}\n",
       "\n",
       "/* Estimator-specific style */\n",
       "\n",
       "/* Colorize estimator box */\n",
       "#sk-container-id-2 div.sk-estimator input.sk-toggleable__control:checked~label.sk-toggleable__label {\n",
       "  /* unfitted */\n",
       "  background-color: var(--sklearn-color-unfitted-level-2);\n",
       "}\n",
       "\n",
       "#sk-container-id-2 div.sk-estimator.fitted input.sk-toggleable__control:checked~label.sk-toggleable__label {\n",
       "  /* fitted */\n",
       "  background-color: var(--sklearn-color-fitted-level-2);\n",
       "}\n",
       "\n",
       "#sk-container-id-2 div.sk-label label.sk-toggleable__label,\n",
       "#sk-container-id-2 div.sk-label label {\n",
       "  /* The background is the default theme color */\n",
       "  color: var(--sklearn-color-text-on-default-background);\n",
       "}\n",
       "\n",
       "/* On hover, darken the color of the background */\n",
       "#sk-container-id-2 div.sk-label:hover label.sk-toggleable__label {\n",
       "  color: var(--sklearn-color-text);\n",
       "  background-color: var(--sklearn-color-unfitted-level-2);\n",
       "}\n",
       "\n",
       "/* Label box, darken color on hover, fitted */\n",
       "#sk-container-id-2 div.sk-label.fitted:hover label.sk-toggleable__label.fitted {\n",
       "  color: var(--sklearn-color-text);\n",
       "  background-color: var(--sklearn-color-fitted-level-2);\n",
       "}\n",
       "\n",
       "/* Estimator label */\n",
       "\n",
       "#sk-container-id-2 div.sk-label label {\n",
       "  font-family: monospace;\n",
       "  font-weight: bold;\n",
       "  display: inline-block;\n",
       "  line-height: 1.2em;\n",
       "}\n",
       "\n",
       "#sk-container-id-2 div.sk-label-container {\n",
       "  text-align: center;\n",
       "}\n",
       "\n",
       "/* Estimator-specific */\n",
       "#sk-container-id-2 div.sk-estimator {\n",
       "  font-family: monospace;\n",
       "  border: 1px dotted var(--sklearn-color-border-box);\n",
       "  border-radius: 0.25em;\n",
       "  box-sizing: border-box;\n",
       "  margin-bottom: 0.5em;\n",
       "  /* unfitted */\n",
       "  background-color: var(--sklearn-color-unfitted-level-0);\n",
       "}\n",
       "\n",
       "#sk-container-id-2 div.sk-estimator.fitted {\n",
       "  /* fitted */\n",
       "  background-color: var(--sklearn-color-fitted-level-0);\n",
       "}\n",
       "\n",
       "/* on hover */\n",
       "#sk-container-id-2 div.sk-estimator:hover {\n",
       "  /* unfitted */\n",
       "  background-color: var(--sklearn-color-unfitted-level-2);\n",
       "}\n",
       "\n",
       "#sk-container-id-2 div.sk-estimator.fitted:hover {\n",
       "  /* fitted */\n",
       "  background-color: var(--sklearn-color-fitted-level-2);\n",
       "}\n",
       "\n",
       "/* Specification for estimator info (e.g. \"i\" and \"?\") */\n",
       "\n",
       "/* Common style for \"i\" and \"?\" */\n",
       "\n",
       ".sk-estimator-doc-link,\n",
       "a:link.sk-estimator-doc-link,\n",
       "a:visited.sk-estimator-doc-link {\n",
       "  float: right;\n",
       "  font-size: smaller;\n",
       "  line-height: 1em;\n",
       "  font-family: monospace;\n",
       "  background-color: var(--sklearn-color-background);\n",
       "  border-radius: 1em;\n",
       "  height: 1em;\n",
       "  width: 1em;\n",
       "  text-decoration: none !important;\n",
       "  margin-left: 0.5em;\n",
       "  text-align: center;\n",
       "  /* unfitted */\n",
       "  border: var(--sklearn-color-unfitted-level-1) 1pt solid;\n",
       "  color: var(--sklearn-color-unfitted-level-1);\n",
       "}\n",
       "\n",
       ".sk-estimator-doc-link.fitted,\n",
       "a:link.sk-estimator-doc-link.fitted,\n",
       "a:visited.sk-estimator-doc-link.fitted {\n",
       "  /* fitted */\n",
       "  border: var(--sklearn-color-fitted-level-1) 1pt solid;\n",
       "  color: var(--sklearn-color-fitted-level-1);\n",
       "}\n",
       "\n",
       "/* On hover */\n",
       "div.sk-estimator:hover .sk-estimator-doc-link:hover,\n",
       ".sk-estimator-doc-link:hover,\n",
       "div.sk-label-container:hover .sk-estimator-doc-link:hover,\n",
       ".sk-estimator-doc-link:hover {\n",
       "  /* unfitted */\n",
       "  background-color: var(--sklearn-color-unfitted-level-3);\n",
       "  color: var(--sklearn-color-background);\n",
       "  text-decoration: none;\n",
       "}\n",
       "\n",
       "div.sk-estimator.fitted:hover .sk-estimator-doc-link.fitted:hover,\n",
       ".sk-estimator-doc-link.fitted:hover,\n",
       "div.sk-label-container:hover .sk-estimator-doc-link.fitted:hover,\n",
       ".sk-estimator-doc-link.fitted:hover {\n",
       "  /* fitted */\n",
       "  background-color: var(--sklearn-color-fitted-level-3);\n",
       "  color: var(--sklearn-color-background);\n",
       "  text-decoration: none;\n",
       "}\n",
       "\n",
       "/* Span, style for the box shown on hovering the info icon */\n",
       ".sk-estimator-doc-link span {\n",
       "  display: none;\n",
       "  z-index: 9999;\n",
       "  position: relative;\n",
       "  font-weight: normal;\n",
       "  right: .2ex;\n",
       "  padding: .5ex;\n",
       "  margin: .5ex;\n",
       "  width: min-content;\n",
       "  min-width: 20ex;\n",
       "  max-width: 50ex;\n",
       "  color: var(--sklearn-color-text);\n",
       "  box-shadow: 2pt 2pt 4pt #999;\n",
       "  /* unfitted */\n",
       "  background: var(--sklearn-color-unfitted-level-0);\n",
       "  border: .5pt solid var(--sklearn-color-unfitted-level-3);\n",
       "}\n",
       "\n",
       ".sk-estimator-doc-link.fitted span {\n",
       "  /* fitted */\n",
       "  background: var(--sklearn-color-fitted-level-0);\n",
       "  border: var(--sklearn-color-fitted-level-3);\n",
       "}\n",
       "\n",
       ".sk-estimator-doc-link:hover span {\n",
       "  display: block;\n",
       "}\n",
       "\n",
       "/* \"?\"-specific style due to the `<a>` HTML tag */\n",
       "\n",
       "#sk-container-id-2 a.estimator_doc_link {\n",
       "  float: right;\n",
       "  font-size: 1rem;\n",
       "  line-height: 1em;\n",
       "  font-family: monospace;\n",
       "  background-color: var(--sklearn-color-background);\n",
       "  border-radius: 1rem;\n",
       "  height: 1rem;\n",
       "  width: 1rem;\n",
       "  text-decoration: none;\n",
       "  /* unfitted */\n",
       "  color: var(--sklearn-color-unfitted-level-1);\n",
       "  border: var(--sklearn-color-unfitted-level-1) 1pt solid;\n",
       "}\n",
       "\n",
       "#sk-container-id-2 a.estimator_doc_link.fitted {\n",
       "  /* fitted */\n",
       "  border: var(--sklearn-color-fitted-level-1) 1pt solid;\n",
       "  color: var(--sklearn-color-fitted-level-1);\n",
       "}\n",
       "\n",
       "/* On hover */\n",
       "#sk-container-id-2 a.estimator_doc_link:hover {\n",
       "  /* unfitted */\n",
       "  background-color: var(--sklearn-color-unfitted-level-3);\n",
       "  color: var(--sklearn-color-background);\n",
       "  text-decoration: none;\n",
       "}\n",
       "\n",
       "#sk-container-id-2 a.estimator_doc_link.fitted:hover {\n",
       "  /* fitted */\n",
       "  background-color: var(--sklearn-color-fitted-level-3);\n",
       "}\n",
       "\n",
       ".estimator-table summary {\n",
       "    padding: .5rem;\n",
       "    font-family: monospace;\n",
       "    cursor: pointer;\n",
       "}\n",
       "\n",
       ".estimator-table details[open] {\n",
       "    padding-left: 0.1rem;\n",
       "    padding-right: 0.1rem;\n",
       "    padding-bottom: 0.3rem;\n",
       "}\n",
       "\n",
       ".estimator-table .parameters-table {\n",
       "    margin-left: auto !important;\n",
       "    margin-right: auto !important;\n",
       "}\n",
       "\n",
       ".estimator-table .parameters-table tr:nth-child(odd) {\n",
       "    background-color: #fff;\n",
       "}\n",
       "\n",
       ".estimator-table .parameters-table tr:nth-child(even) {\n",
       "    background-color: #f6f6f6;\n",
       "}\n",
       "\n",
       ".estimator-table .parameters-table tr:hover {\n",
       "    background-color: #e0e0e0;\n",
       "}\n",
       "\n",
       ".estimator-table table td {\n",
       "    border: 1px solid rgba(106, 105, 104, 0.232);\n",
       "}\n",
       "\n",
       ".user-set td {\n",
       "    color:rgb(255, 94, 0);\n",
       "    text-align: left;\n",
       "}\n",
       "\n",
       ".user-set td.value pre {\n",
       "    color:rgb(255, 94, 0) !important;\n",
       "    background-color: transparent !important;\n",
       "}\n",
       "\n",
       ".default td {\n",
       "    color: black;\n",
       "    text-align: left;\n",
       "}\n",
       "\n",
       ".user-set td i,\n",
       ".default td i {\n",
       "    color: black;\n",
       "}\n",
       "\n",
       ".copy-paste-icon {\n",
       "    background-image: url(data:image/svg+xml;base64,PHN2ZyB4bWxucz0iaHR0cDovL3d3dy53My5vcmcvMjAwMC9zdmciIHZpZXdCb3g9IjAgMCA0NDggNTEyIj48IS0tIUZvbnQgQXdlc29tZSBGcmVlIDYuNy4yIGJ5IEBmb250YXdlc29tZSAtIGh0dHBzOi8vZm9udGF3ZXNvbWUuY29tIExpY2Vuc2UgLSBodHRwczovL2ZvbnRhd2Vzb21lLmNvbS9saWNlbnNlL2ZyZWUgQ29weXJpZ2h0IDIwMjUgRm9udGljb25zLCBJbmMuLS0+PHBhdGggZD0iTTIwOCAwTDMzMi4xIDBjMTIuNyAwIDI0LjkgNS4xIDMzLjkgMTQuMWw2Ny45IDY3LjljOSA5IDE0LjEgMjEuMiAxNC4xIDMzLjlMNDQ4IDMzNmMwIDI2LjUtMjEuNSA0OC00OCA0OGwtMTkyIDBjLTI2LjUgMC00OC0yMS41LTQ4LTQ4bDAtMjg4YzAtMjYuNSAyMS41LTQ4IDQ4LTQ4ek00OCAxMjhsODAgMCAwIDY0LTY0IDAgMCAyNTYgMTkyIDAgMC0zMiA2NCAwIDAgNDhjMCAyNi41LTIxLjUgNDgtNDggNDhMNDggNTEyYy0yNi41IDAtNDgtMjEuNS00OC00OEwwIDE3NmMwLTI2LjUgMjEuNS00OCA0OC00OHoiLz48L3N2Zz4=);\n",
       "    background-repeat: no-repeat;\n",
       "    background-size: 14px 14px;\n",
       "    background-position: 0;\n",
       "    display: inline-block;\n",
       "    width: 14px;\n",
       "    height: 14px;\n",
       "    cursor: pointer;\n",
       "}\n",
       "</style><body><div id=\"sk-container-id-2\" class=\"sk-top-container\"><div class=\"sk-text-repr-fallback\"><pre>Lasso(alpha=0.01)</pre><b>In a Jupyter environment, please rerun this cell to show the HTML representation or trust the notebook. <br />On GitHub, the HTML representation is unable to render, please try loading this page with nbviewer.org.</b></div><div class=\"sk-container\" hidden><div class=\"sk-item\"><div class=\"sk-estimator fitted sk-toggleable\"><input class=\"sk-toggleable__control sk-hidden--visually\" id=\"sk-estimator-id-2\" type=\"checkbox\" checked><label for=\"sk-estimator-id-2\" class=\"sk-toggleable__label fitted sk-toggleable__label-arrow\"><div><div>Lasso</div></div><div><a class=\"sk-estimator-doc-link fitted\" rel=\"noreferrer\" target=\"_blank\" href=\"https://scikit-learn.org/1.7/modules/generated/sklearn.linear_model.Lasso.html\">?<span>Documentation for Lasso</span></a><span class=\"sk-estimator-doc-link fitted\">i<span>Fitted</span></span></div></label><div class=\"sk-toggleable__content fitted\" data-param-prefix=\"\">\n",
       "        <div class=\"estimator-table\">\n",
       "            <details>\n",
       "                <summary>Parameters</summary>\n",
       "                <table class=\"parameters-table\">\n",
       "                  <tbody>\n",
       "                    \n",
       "        <tr class=\"user-set\">\n",
       "            <td><i class=\"copy-paste-icon\"\n",
       "                 onclick=\"copyToClipboard('alpha',\n",
       "                          this.parentElement.nextElementSibling)\"\n",
       "            ></i></td>\n",
       "            <td class=\"param\">alpha&nbsp;</td>\n",
       "            <td class=\"value\">0.01</td>\n",
       "        </tr>\n",
       "    \n",
       "\n",
       "        <tr class=\"default\">\n",
       "            <td><i class=\"copy-paste-icon\"\n",
       "                 onclick=\"copyToClipboard('fit_intercept',\n",
       "                          this.parentElement.nextElementSibling)\"\n",
       "            ></i></td>\n",
       "            <td class=\"param\">fit_intercept&nbsp;</td>\n",
       "            <td class=\"value\">True</td>\n",
       "        </tr>\n",
       "    \n",
       "\n",
       "        <tr class=\"default\">\n",
       "            <td><i class=\"copy-paste-icon\"\n",
       "                 onclick=\"copyToClipboard('precompute',\n",
       "                          this.parentElement.nextElementSibling)\"\n",
       "            ></i></td>\n",
       "            <td class=\"param\">precompute&nbsp;</td>\n",
       "            <td class=\"value\">False</td>\n",
       "        </tr>\n",
       "    \n",
       "\n",
       "        <tr class=\"default\">\n",
       "            <td><i class=\"copy-paste-icon\"\n",
       "                 onclick=\"copyToClipboard('copy_X',\n",
       "                          this.parentElement.nextElementSibling)\"\n",
       "            ></i></td>\n",
       "            <td class=\"param\">copy_X&nbsp;</td>\n",
       "            <td class=\"value\">True</td>\n",
       "        </tr>\n",
       "    \n",
       "\n",
       "        <tr class=\"default\">\n",
       "            <td><i class=\"copy-paste-icon\"\n",
       "                 onclick=\"copyToClipboard('max_iter',\n",
       "                          this.parentElement.nextElementSibling)\"\n",
       "            ></i></td>\n",
       "            <td class=\"param\">max_iter&nbsp;</td>\n",
       "            <td class=\"value\">1000</td>\n",
       "        </tr>\n",
       "    \n",
       "\n",
       "        <tr class=\"default\">\n",
       "            <td><i class=\"copy-paste-icon\"\n",
       "                 onclick=\"copyToClipboard('tol',\n",
       "                          this.parentElement.nextElementSibling)\"\n",
       "            ></i></td>\n",
       "            <td class=\"param\">tol&nbsp;</td>\n",
       "            <td class=\"value\">0.0001</td>\n",
       "        </tr>\n",
       "    \n",
       "\n",
       "        <tr class=\"default\">\n",
       "            <td><i class=\"copy-paste-icon\"\n",
       "                 onclick=\"copyToClipboard('warm_start',\n",
       "                          this.parentElement.nextElementSibling)\"\n",
       "            ></i></td>\n",
       "            <td class=\"param\">warm_start&nbsp;</td>\n",
       "            <td class=\"value\">False</td>\n",
       "        </tr>\n",
       "    \n",
       "\n",
       "        <tr class=\"default\">\n",
       "            <td><i class=\"copy-paste-icon\"\n",
       "                 onclick=\"copyToClipboard('positive',\n",
       "                          this.parentElement.nextElementSibling)\"\n",
       "            ></i></td>\n",
       "            <td class=\"param\">positive&nbsp;</td>\n",
       "            <td class=\"value\">False</td>\n",
       "        </tr>\n",
       "    \n",
       "\n",
       "        <tr class=\"default\">\n",
       "            <td><i class=\"copy-paste-icon\"\n",
       "                 onclick=\"copyToClipboard('random_state',\n",
       "                          this.parentElement.nextElementSibling)\"\n",
       "            ></i></td>\n",
       "            <td class=\"param\">random_state&nbsp;</td>\n",
       "            <td class=\"value\">None</td>\n",
       "        </tr>\n",
       "    \n",
       "\n",
       "        <tr class=\"default\">\n",
       "            <td><i class=\"copy-paste-icon\"\n",
       "                 onclick=\"copyToClipboard('selection',\n",
       "                          this.parentElement.nextElementSibling)\"\n",
       "            ></i></td>\n",
       "            <td class=\"param\">selection&nbsp;</td>\n",
       "            <td class=\"value\">&#x27;cyclic&#x27;</td>\n",
       "        </tr>\n",
       "    \n",
       "                  </tbody>\n",
       "                </table>\n",
       "            </details>\n",
       "        </div>\n",
       "    </div></div></div></div></div><script>function copyToClipboard(text, element) {\n",
       "    // Get the parameter prefix from the closest toggleable content\n",
       "    const toggleableContent = element.closest('.sk-toggleable__content');\n",
       "    const paramPrefix = toggleableContent ? toggleableContent.dataset.paramPrefix : '';\n",
       "    const fullParamName = paramPrefix ? `${paramPrefix}${text}` : text;\n",
       "\n",
       "    const originalStyle = element.style;\n",
       "    const computedStyle = window.getComputedStyle(element);\n",
       "    const originalWidth = computedStyle.width;\n",
       "    const originalHTML = element.innerHTML.replace('Copied!', '');\n",
       "\n",
       "    navigator.clipboard.writeText(fullParamName)\n",
       "        .then(() => {\n",
       "            element.style.width = originalWidth;\n",
       "            element.style.color = 'green';\n",
       "            element.innerHTML = \"Copied!\";\n",
       "\n",
       "            setTimeout(() => {\n",
       "                element.innerHTML = originalHTML;\n",
       "                element.style = originalStyle;\n",
       "            }, 2000);\n",
       "        })\n",
       "        .catch(err => {\n",
       "            console.error('Failed to copy:', err);\n",
       "            element.style.color = 'red';\n",
       "            element.innerHTML = \"Failed!\";\n",
       "            setTimeout(() => {\n",
       "                element.innerHTML = originalHTML;\n",
       "                element.style = originalStyle;\n",
       "            }, 2000);\n",
       "        });\n",
       "    return false;\n",
       "}\n",
       "\n",
       "document.querySelectorAll('.fa-regular.fa-copy').forEach(function(element) {\n",
       "    const toggleableContent = element.closest('.sk-toggleable__content');\n",
       "    const paramPrefix = toggleableContent ? toggleableContent.dataset.paramPrefix : '';\n",
       "    const paramName = element.parentElement.nextElementSibling.textContent.trim();\n",
       "    const fullParamName = paramPrefix ? `${paramPrefix}${paramName}` : paramName;\n",
       "\n",
       "    element.setAttribute('title', fullParamName);\n",
       "});\n",
       "</script></body>"
      ],
      "text/plain": [
       "Lasso(alpha=0.01)"
      ]
     },
     "execution_count": 8,
     "metadata": {},
     "output_type": "execute_result"
    }
   ],
   "source": [
    "lasso_model1 = Lasso(alpha=0.01)  # You can adjust the alpha parameter for stronger or weaker regularization\n",
    "\n",
    "lasso_model1.fit(X1, y0)"
   ]
  },
  {
   "cell_type": "code",
   "execution_count": 9,
   "metadata": {
    "colab": {
     "base_uri": "https://localhost:8080/"
    },
    "executionInfo": {
     "elapsed": 350,
     "status": "ok",
     "timestamp": 1721194439063,
     "user": {
      "displayName": "Yong Song",
      "userId": "00576951217859821315"
     },
     "user_tz": -600
    },
    "id": "30UzMuUCn20D",
    "outputId": "10698b59-6a65-4b57-e7fc-7aac3f015455"
   },
   "outputs": [
    {
     "data": {
      "text/plain": [
       "47"
      ]
     },
     "execution_count": 9,
     "metadata": {},
     "output_type": "execute_result"
    }
   ],
   "source": [
    "sum(lasso_model1.coef_ != 0)"
   ]
  },
  {
   "cell_type": "code",
   "execution_count": 10,
   "metadata": {
    "colab": {
     "base_uri": "https://localhost:8080/"
    },
    "executionInfo": {
     "elapsed": 344,
     "status": "ok",
     "timestamp": 1721194444298,
     "user": {
      "displayName": "Yong Song",
      "userId": "00576951217859821315"
     },
     "user_tz": -600
    },
    "id": "pskY_SA7n9bi",
    "outputId": "003a8c34-a460-4ac8-969a-cd84441d1428"
   },
   "outputs": [
    {
     "name": "stdout",
     "output_type": "stream",
     "text": [
      "Lasso Regression Coefficients:\n",
      "SIG1: -0.0000\n",
      "SIG2: -0.0222\n",
      "SIG3: 0.0000\n",
      "SIG4: -0.0000\n",
      "SIG5: 0.0000\n",
      "SIG6: 0.0000\n",
      "SIG7: -0.0041\n",
      "SIG8: 0.0000\n",
      "SIG9: -0.0000\n",
      "SIG10: 0.0000\n",
      "SIG11: 0.0000\n",
      "SIG12: 0.0000\n",
      "SIG13: -0.0147\n",
      "SIG14: -0.0000\n",
      "SIG15: 0.0000\n",
      "SIG16: 0.0014\n",
      "SIG17: -0.0000\n",
      "SIG18: 0.0068\n",
      "SIG19: 0.0000\n",
      "SIG20: -0.0001\n",
      "SIG21: -0.0000\n",
      "SIG22: -0.0000\n",
      "SIG23: 0.0000\n",
      "SIG24: 0.0072\n",
      "SIG25: 0.0000\n",
      "SIG26: -0.0000\n",
      "SIG27: -0.0014\n",
      "SIG28: 0.0000\n",
      "SIG29: -0.0000\n",
      "SIG30: -0.0000\n",
      "SIG31: -0.0000\n",
      "SIG32: -0.0004\n",
      "SIG33: -0.0000\n",
      "SIG34: -0.0000\n",
      "SIG35: -0.0000\n",
      "SIG36: -0.0000\n",
      "SIG37: 0.0000\n",
      "SIG38: 0.0000\n",
      "SIG39: -0.0000\n",
      "SIG40: 0.0000\n",
      "SIG41: -0.0000\n",
      "SIG42: 0.0029\n",
      "SIG43: -0.0000\n",
      "SIG44: -0.0000\n",
      "SIG45: 0.0000\n",
      "SIG46: 0.0000\n",
      "SIG47: -0.0000\n",
      "SIG48: -0.0000\n",
      "SIG49: -0.0000\n",
      "SIG50: 0.0103\n",
      "SIG51: 0.0000\n",
      "SIG52: -0.0000\n",
      "SIG53: -0.0000\n",
      "SIG54: -0.0000\n",
      "SIG55: -0.0000\n",
      "SIG56: -0.0000\n",
      "SIG57: -0.0050\n",
      "SIG58: -0.0000\n",
      "SIG59: 0.0007\n",
      "SIG60: -0.0000\n",
      "SIG61: -0.0128\n",
      "SIG62: -0.0000\n",
      "SIG63: 0.0000\n",
      "SIG64: 0.0008\n",
      "SIG65: -0.0000\n",
      "SIG66: 0.0012\n",
      "SIG67: -0.0000\n",
      "SIG68: 0.0000\n",
      "SIG69: -0.0000\n",
      "SIG70: -0.0000\n",
      "SIG71: -0.0000\n",
      "SIG72: -0.0000\n",
      "SIG73: -0.0000\n",
      "SIG74: 0.0000\n",
      "SIG75: 0.0000\n",
      "SIG76: 0.0000\n",
      "SIG77: 0.0000\n",
      "SIG78: 0.0000\n",
      "SIG79: 0.0000\n",
      "SIG80: -0.0014\n",
      "SIG81: -0.0000\n",
      "SIG82: 0.0003\n",
      "SIG83: -0.0000\n",
      "SIG84: -0.0000\n",
      "SIG85: -0.0000\n",
      "SIG86: -0.0000\n",
      "SIG87: 0.0000\n",
      "SIG88: 0.0000\n",
      "SIG89: 0.0000\n",
      "SIG90: 0.0000\n",
      "SIG91: -0.0000\n",
      "SIG92: 0.0000\n",
      "SIG93: -0.0000\n",
      "SIG94: 0.0000\n",
      "SIG95: -0.0000\n",
      "SIG96: -0.0000\n",
      "SIG97: -0.0031\n",
      "SIG98: 0.0000\n",
      "SIG99: 0.0030\n",
      "SIG100: -0.0000\n",
      "SIG101: -0.0000\n",
      "SIG102: 0.0008\n",
      "SIG103: 0.0000\n",
      "SIG104: 0.0038\n",
      "SIG105: -0.0000\n",
      "SIG106: -0.0000\n",
      "SIG107: -0.0000\n",
      "SIG108: -0.0000\n",
      "SIG109: 0.0003\n",
      "SIG110: -0.0013\n",
      "SIG111: -0.0019\n",
      "SIG112: -0.0000\n",
      "SIG113: 0.0000\n",
      "SIG114: 0.0000\n",
      "SIG115: 0.0000\n",
      "SIG116: 0.0000\n",
      "SIG117: -0.0041\n",
      "SIG118: 0.0000\n",
      "SIG119: -0.0000\n",
      "SIG120: -0.0000\n",
      "SIG121: 0.0000\n",
      "SIG122: -0.0000\n",
      "SIG123: 0.0000\n",
      "SIG124: 0.0000\n",
      "SIG125: -0.0000\n",
      "SIG126: 0.0000\n",
      "SIG127: -0.0000\n",
      "SIG128: -0.0000\n",
      "SIG129: -0.0000\n",
      "SIG130: -0.0000\n",
      "SIG131: 0.0000\n",
      "SIG132: -0.0000\n",
      "SIG133: -0.0025\n",
      "SIG134: 0.0016\n",
      "SIG135: 0.0000\n",
      "SIG136: -0.0045\n",
      "SIG137: -0.0000\n",
      "SIG138: -0.0000\n",
      "SIG139: 0.0000\n",
      "SIG140: 0.0000\n",
      "SIG141: -0.0000\n",
      "SIG142: -0.0025\n",
      "SIG143: 0.0000\n",
      "SIG144: -0.0000\n",
      "SIG145: -0.0000\n",
      "SIG146: -0.0000\n",
      "SIG147: 0.0041\n",
      "SIG148: 0.0000\n",
      "SIG149: -0.0000\n",
      "SIG150: 0.0000\n",
      "SIG151: 0.0009\n",
      "SIG152: 0.0000\n",
      "SIG153: 0.0032\n",
      "SIG154: -0.0064\n",
      "SIG155: -0.0020\n",
      "SIG156: -0.0000\n",
      "SIG157: 0.0000\n",
      "SIG158: -0.0000\n",
      "SIG159: -0.0000\n",
      "SIG160: -0.0000\n",
      "SIG161: -0.0000\n",
      "SIG162: -0.0008\n",
      "SIG163: -0.0000\n",
      "SIG164: 0.0008\n",
      "SIG165: 0.0000\n",
      "SIG166: -0.0136\n",
      "SIG167: 0.0082\n",
      "SIG168: -0.0000\n",
      "SIG169: -0.0018\n",
      "SIG170: 0.0000\n",
      "SIG171: -0.0000\n",
      "SIG172: 0.0000\n",
      "SIG173: 0.0108\n",
      "SIG174: 0.0000\n",
      "SIG175: 0.0026\n",
      "SIG176: -0.0000\n",
      "SIG177: 0.0000\n",
      "SIG178: 0.0051\n",
      "SIG179: -0.0000\n",
      "SIG180: 0.0000\n",
      "SIG181: -0.0000\n",
      "SIG182: 0.0000\n",
      "SIG183: 0.0000\n",
      "SIG184: 0.0000\n",
      "SIG185: -0.0000\n",
      "SIG186: 0.0000\n",
      "SIG187: -0.0000\n",
      "SIG188: -0.0000\n",
      "SIG189: 0.0173\n",
      "SIG190: -0.0000\n",
      "SIG191: -0.0000\n",
      "SIG192: 0.0000\n",
      "SIG193: -0.0032\n",
      "SIG194: -0.0000\n",
      "SIG195: -0.0000\n",
      "SIG196: -0.0000\n",
      "SIG197: -0.0000\n",
      "SIG198: 0.0000\n",
      "SIG199: -0.0000\n",
      "SIG200: -0.0003\n"
     ]
    }
   ],
   "source": [
    "coefficients = lasso_model1.coef_\n",
    "feature_names = X0.columns\n",
    "\n",
    "print(\"Lasso Regression Coefficients:\")\n",
    "for feature, coef in zip(feature_names, coefficients):\n",
    "    print(f\"{feature}: {coef:.4f}\")"
   ]
  },
  {
   "cell_type": "code",
   "execution_count": 11,
   "metadata": {
    "colab": {
     "base_uri": "https://localhost:8080/",
     "height": 542
    },
    "executionInfo": {
     "elapsed": 2035,
     "status": "ok",
     "timestamp": 1721194467382,
     "user": {
      "displayName": "Yong Song",
      "userId": "00576951217859821315"
     },
     "user_tz": -600
    },
    "id": "plokXY46oiOS",
    "outputId": "362f03dd-c3a5-425f-aa82-206eba475346"
   },
   "outputs": [
    {
     "data": {
      "application/vnd.plotly.v1+json": {
       "config": {
        "plotlyServerURL": "https://plot.ly"
       },
       "data": [
        {
         "hovertemplate": "Feature=%{x}<br>Coefficient Value=%{y}<extra></extra>",
         "legendgroup": "",
         "marker": {
          "color": "#636efa",
          "symbol": "circle"
         },
         "mode": "markers",
         "name": "",
         "orientation": "v",
         "showlegend": false,
         "type": "scatter",
         "x": [
          "SIG1",
          "SIG2",
          "SIG3",
          "SIG4",
          "SIG5",
          "SIG6",
          "SIG7",
          "SIG8",
          "SIG9",
          "SIG10",
          "SIG11",
          "SIG12",
          "SIG13",
          "SIG14",
          "SIG15",
          "SIG16",
          "SIG17",
          "SIG18",
          "SIG19",
          "SIG20",
          "SIG21",
          "SIG22",
          "SIG23",
          "SIG24",
          "SIG25",
          "SIG26",
          "SIG27",
          "SIG28",
          "SIG29",
          "SIG30",
          "SIG31",
          "SIG32",
          "SIG33",
          "SIG34",
          "SIG35",
          "SIG36",
          "SIG37",
          "SIG38",
          "SIG39",
          "SIG40",
          "SIG41",
          "SIG42",
          "SIG43",
          "SIG44",
          "SIG45",
          "SIG46",
          "SIG47",
          "SIG48",
          "SIG49",
          "SIG50",
          "SIG51",
          "SIG52",
          "SIG53",
          "SIG54",
          "SIG55",
          "SIG56",
          "SIG57",
          "SIG58",
          "SIG59",
          "SIG60",
          "SIG61",
          "SIG62",
          "SIG63",
          "SIG64",
          "SIG65",
          "SIG66",
          "SIG67",
          "SIG68",
          "SIG69",
          "SIG70",
          "SIG71",
          "SIG72",
          "SIG73",
          "SIG74",
          "SIG75",
          "SIG76",
          "SIG77",
          "SIG78",
          "SIG79",
          "SIG80",
          "SIG81",
          "SIG82",
          "SIG83",
          "SIG84",
          "SIG85",
          "SIG86",
          "SIG87",
          "SIG88",
          "SIG89",
          "SIG90",
          "SIG91",
          "SIG92",
          "SIG93",
          "SIG94",
          "SIG95",
          "SIG96",
          "SIG97",
          "SIG98",
          "SIG99",
          "SIG100",
          "SIG101",
          "SIG102",
          "SIG103",
          "SIG104",
          "SIG105",
          "SIG106",
          "SIG107",
          "SIG108",
          "SIG109",
          "SIG110",
          "SIG111",
          "SIG112",
          "SIG113",
          "SIG114",
          "SIG115",
          "SIG116",
          "SIG117",
          "SIG118",
          "SIG119",
          "SIG120",
          "SIG121",
          "SIG122",
          "SIG123",
          "SIG124",
          "SIG125",
          "SIG126",
          "SIG127",
          "SIG128",
          "SIG129",
          "SIG130",
          "SIG131",
          "SIG132",
          "SIG133",
          "SIG134",
          "SIG135",
          "SIG136",
          "SIG137",
          "SIG138",
          "SIG139",
          "SIG140",
          "SIG141",
          "SIG142",
          "SIG143",
          "SIG144",
          "SIG145",
          "SIG146",
          "SIG147",
          "SIG148",
          "SIG149",
          "SIG150",
          "SIG151",
          "SIG152",
          "SIG153",
          "SIG154",
          "SIG155",
          "SIG156",
          "SIG157",
          "SIG158",
          "SIG159",
          "SIG160",
          "SIG161",
          "SIG162",
          "SIG163",
          "SIG164",
          "SIG165",
          "SIG166",
          "SIG167",
          "SIG168",
          "SIG169",
          "SIG170",
          "SIG171",
          "SIG172",
          "SIG173",
          "SIG174",
          "SIG175",
          "SIG176",
          "SIG177",
          "SIG178",
          "SIG179",
          "SIG180",
          "SIG181",
          "SIG182",
          "SIG183",
          "SIG184",
          "SIG185",
          "SIG186",
          "SIG187",
          "SIG188",
          "SIG189",
          "SIG190",
          "SIG191",
          "SIG192",
          "SIG193",
          "SIG194",
          "SIG195",
          "SIG196",
          "SIG197",
          "SIG198",
          "SIG199",
          "SIG200"
         ],
         "xaxis": "x",
         "y": {
          "bdata": "NAWmMtAeA7/ykqpcMbiWvwAAAAAAAAAAAAAAAAAAAIAAAAAAAAAAAAAAAAAAAAAAxKKiTUT2cL8AAAAAAAAAAAAAAAAAAACAAAAAAAAAAAAAAAAAAAAAAAAAAAAAAAAAzQBekZEkjr8AAAAAAAAAgAAAAAAAAAAAR9Wt6guBVz8AAAAAAAAAgBBew1Vg0Hs/AAAAAAAAAAA6iOe6OOEivwAAAAAAAACAAAAAAAAAAIAAAAAAAAAAAF8fWCRJb30/AAAAAAAAAAAAAAAAAAAAgNQYP9/bale/AAAAAAAAAAAAAAAAAAAAgAAAAAAAAACAAAAAAAAAAIDzW3Ker0E6vwAAAAAAAACAAAAAAAAAAIAAAAAAAAAAgAAAAAAAAACAAAAAAAAAAAAAAAAAAAAAAAAAAAAAAACAAAAAAAAAAAAAAAAAAAAAgGBLmKTA12c/AAAAAAAAAIAAAAAAAAAAgAAAAAAAAAAAAAAAAAAAAAAAAAAAAAAAgAAAAAAAAACAAAAAAAAAAIB7Ax4HeyqFPwAAAAAAAAAAAAAAAAAAAIAAAAAAAAAAgAAAAAAAAACAAAAAAAAAAIAAAAAAAAAAgKS+sbvUc3S/AAAAAAAAAIC8WvsJPRdIPwAAAAAAAACARHf3VHQvir8AAAAAAAAAgAAAAAAAAAAAeNm1XhABSj8AAAAAAAAAgL2/U0xUclQ/AAAAAAAAAIAAAAAAAAAAAAAAAAAAAACAAAAAAAAAAIAAAAAAAAAAgAAAAAAAAACAAAAAAAAAAIAAAAAAAAAAAAAAAAAAAAAAAAAAAAAAAAAAAAAAAAAAAAAAAAAAAAAAAAAAAAAAAABAkFRB/mpWvwAAAAAAAACAKTYxpvkiNj8AAAAAAAAAgAAAAAAAAACAAAAAAAAAAIAAAAAAAAAAgAAAAAAAAAAAAAAAAAAAAAAAAAAAAAAAAAAAAAAAAAAAAAAAAAAAAIAAAAAAAAAAAAAAAAAAAACAAAAAAAAAAAAAAAAAAAAAgAAAAAAAAACA7ieXX5giab8AAAAAAAAAAIOcsmGc9mg/AAAAAAAAAIAAAAAAAAAAgCRkNuSBXUk/AAAAAAAAAABRQmA3my5vPwAAAAAAAACAAAAAAAAAAIAAAAAAAAAAgAAAAAAAAACAelp70Nh0Mj80XkXXirlUv9/KiATme16/AAAAAAAAAIAAAAAAAAAAAAAAAAAAAAAAAAAAAAAAAAAAAAAAAAAAAIQI31mt9HC/AAAAAAAAAAAAAAAAAAAAgAAAAAAAAACAAAAAAAAAAAAAAAAAAAAAgAAAAAAAAAAAAAAAAAAAAAAAAAAAAAAAgAAAAAAAAAAAAAAAAAAAAIAAAAAAAAAAgAAAAAAAAACAAAAAAAAAAIAAAAAAAAAAAAAAAAAAAACAblRgDB6fZL+cstrwWJRaPwAAAAAAAAAA/TzfyW97cr8AAAAAAAAAgAAAAAAAAACAAAAAAAAAAAAAAAAAAAAAAAAAAAAAAACAyNNUARnMZL8AAAAAAAAAAAAAAAAAAACAAAAAAAAAAIAAAAAAAAAAgJNyuMGesnA/AAAAAAAAAAAAAAAAAAAAgAAAAAAAAAAAThugs2+fTT8AAAAAAAAAAE6xyveRgWo/xSHB8T5rer91E33mFpVgvwAAAAAAAACAAAAAAAAAAAAAAAAAAAAAgAAAAAAAAACAAAAAAAAAAIAAAAAAAAAAgCxbIMNNwUq/AAAAAAAAAICuUccelLxKPwAAAAAAAAAA1aW4aJXii785vV8LF7GAPwAAAAAAAACAN/7d9YezXb8AAAAAAAAAAAAAAAAAAACAAAAAAAAAAAAuk/DhvTOGPwAAAAAAAAAAbttbNKmNZT8AAAAAAAAAgAAAAAAAAAAApCeHof3cdD8AAAAAAAAAgAAAAAAAAAAAAAAAAAAAAIAAAAAAAAAAAAAAAAAAAAAAAAAAAAAAAAAAAAAAAAAAgAAAAAAAAAAAAAAAAAAAAIAAAAAAAAAAgEEmuZ2vrZE/AAAAAAAAAIAAAAAAAAAAgAAAAAAAAAAATsY9pUQSar8AAAAAAAAAgAAAAAAAAACAAAAAAAAAAIAAAAAAAAAAgAAAAAAAAAAAAAAAAAAAAIA6SfB1WXQwvw==",
          "dtype": "f8"
         },
         "yaxis": "y"
        }
       ],
       "layout": {
        "legend": {
         "tracegroupgap": 0
        },
        "showlegend": false,
        "template": {
         "data": {
          "bar": [
           {
            "error_x": {
             "color": "#2a3f5f"
            },
            "error_y": {
             "color": "#2a3f5f"
            },
            "marker": {
             "line": {
              "color": "#E5ECF6",
              "width": 0.5
             },
             "pattern": {
              "fillmode": "overlay",
              "size": 10,
              "solidity": 0.2
             }
            },
            "type": "bar"
           }
          ],
          "barpolar": [
           {
            "marker": {
             "line": {
              "color": "#E5ECF6",
              "width": 0.5
             },
             "pattern": {
              "fillmode": "overlay",
              "size": 10,
              "solidity": 0.2
             }
            },
            "type": "barpolar"
           }
          ],
          "carpet": [
           {
            "aaxis": {
             "endlinecolor": "#2a3f5f",
             "gridcolor": "white",
             "linecolor": "white",
             "minorgridcolor": "white",
             "startlinecolor": "#2a3f5f"
            },
            "baxis": {
             "endlinecolor": "#2a3f5f",
             "gridcolor": "white",
             "linecolor": "white",
             "minorgridcolor": "white",
             "startlinecolor": "#2a3f5f"
            },
            "type": "carpet"
           }
          ],
          "choropleth": [
           {
            "colorbar": {
             "outlinewidth": 0,
             "ticks": ""
            },
            "type": "choropleth"
           }
          ],
          "contour": [
           {
            "colorbar": {
             "outlinewidth": 0,
             "ticks": ""
            },
            "colorscale": [
             [
              0,
              "#0d0887"
             ],
             [
              0.1111111111111111,
              "#46039f"
             ],
             [
              0.2222222222222222,
              "#7201a8"
             ],
             [
              0.3333333333333333,
              "#9c179e"
             ],
             [
              0.4444444444444444,
              "#bd3786"
             ],
             [
              0.5555555555555556,
              "#d8576b"
             ],
             [
              0.6666666666666666,
              "#ed7953"
             ],
             [
              0.7777777777777778,
              "#fb9f3a"
             ],
             [
              0.8888888888888888,
              "#fdca26"
             ],
             [
              1,
              "#f0f921"
             ]
            ],
            "type": "contour"
           }
          ],
          "contourcarpet": [
           {
            "colorbar": {
             "outlinewidth": 0,
             "ticks": ""
            },
            "type": "contourcarpet"
           }
          ],
          "heatmap": [
           {
            "colorbar": {
             "outlinewidth": 0,
             "ticks": ""
            },
            "colorscale": [
             [
              0,
              "#0d0887"
             ],
             [
              0.1111111111111111,
              "#46039f"
             ],
             [
              0.2222222222222222,
              "#7201a8"
             ],
             [
              0.3333333333333333,
              "#9c179e"
             ],
             [
              0.4444444444444444,
              "#bd3786"
             ],
             [
              0.5555555555555556,
              "#d8576b"
             ],
             [
              0.6666666666666666,
              "#ed7953"
             ],
             [
              0.7777777777777778,
              "#fb9f3a"
             ],
             [
              0.8888888888888888,
              "#fdca26"
             ],
             [
              1,
              "#f0f921"
             ]
            ],
            "type": "heatmap"
           }
          ],
          "histogram": [
           {
            "marker": {
             "pattern": {
              "fillmode": "overlay",
              "size": 10,
              "solidity": 0.2
             }
            },
            "type": "histogram"
           }
          ],
          "histogram2d": [
           {
            "colorbar": {
             "outlinewidth": 0,
             "ticks": ""
            },
            "colorscale": [
             [
              0,
              "#0d0887"
             ],
             [
              0.1111111111111111,
              "#46039f"
             ],
             [
              0.2222222222222222,
              "#7201a8"
             ],
             [
              0.3333333333333333,
              "#9c179e"
             ],
             [
              0.4444444444444444,
              "#bd3786"
             ],
             [
              0.5555555555555556,
              "#d8576b"
             ],
             [
              0.6666666666666666,
              "#ed7953"
             ],
             [
              0.7777777777777778,
              "#fb9f3a"
             ],
             [
              0.8888888888888888,
              "#fdca26"
             ],
             [
              1,
              "#f0f921"
             ]
            ],
            "type": "histogram2d"
           }
          ],
          "histogram2dcontour": [
           {
            "colorbar": {
             "outlinewidth": 0,
             "ticks": ""
            },
            "colorscale": [
             [
              0,
              "#0d0887"
             ],
             [
              0.1111111111111111,
              "#46039f"
             ],
             [
              0.2222222222222222,
              "#7201a8"
             ],
             [
              0.3333333333333333,
              "#9c179e"
             ],
             [
              0.4444444444444444,
              "#bd3786"
             ],
             [
              0.5555555555555556,
              "#d8576b"
             ],
             [
              0.6666666666666666,
              "#ed7953"
             ],
             [
              0.7777777777777778,
              "#fb9f3a"
             ],
             [
              0.8888888888888888,
              "#fdca26"
             ],
             [
              1,
              "#f0f921"
             ]
            ],
            "type": "histogram2dcontour"
           }
          ],
          "mesh3d": [
           {
            "colorbar": {
             "outlinewidth": 0,
             "ticks": ""
            },
            "type": "mesh3d"
           }
          ],
          "parcoords": [
           {
            "line": {
             "colorbar": {
              "outlinewidth": 0,
              "ticks": ""
             }
            },
            "type": "parcoords"
           }
          ],
          "pie": [
           {
            "automargin": true,
            "type": "pie"
           }
          ],
          "scatter": [
           {
            "fillpattern": {
             "fillmode": "overlay",
             "size": 10,
             "solidity": 0.2
            },
            "type": "scatter"
           }
          ],
          "scatter3d": [
           {
            "line": {
             "colorbar": {
              "outlinewidth": 0,
              "ticks": ""
             }
            },
            "marker": {
             "colorbar": {
              "outlinewidth": 0,
              "ticks": ""
             }
            },
            "type": "scatter3d"
           }
          ],
          "scattercarpet": [
           {
            "marker": {
             "colorbar": {
              "outlinewidth": 0,
              "ticks": ""
             }
            },
            "type": "scattercarpet"
           }
          ],
          "scattergeo": [
           {
            "marker": {
             "colorbar": {
              "outlinewidth": 0,
              "ticks": ""
             }
            },
            "type": "scattergeo"
           }
          ],
          "scattergl": [
           {
            "marker": {
             "colorbar": {
              "outlinewidth": 0,
              "ticks": ""
             }
            },
            "type": "scattergl"
           }
          ],
          "scattermap": [
           {
            "marker": {
             "colorbar": {
              "outlinewidth": 0,
              "ticks": ""
             }
            },
            "type": "scattermap"
           }
          ],
          "scattermapbox": [
           {
            "marker": {
             "colorbar": {
              "outlinewidth": 0,
              "ticks": ""
             }
            },
            "type": "scattermapbox"
           }
          ],
          "scatterpolar": [
           {
            "marker": {
             "colorbar": {
              "outlinewidth": 0,
              "ticks": ""
             }
            },
            "type": "scatterpolar"
           }
          ],
          "scatterpolargl": [
           {
            "marker": {
             "colorbar": {
              "outlinewidth": 0,
              "ticks": ""
             }
            },
            "type": "scatterpolargl"
           }
          ],
          "scatterternary": [
           {
            "marker": {
             "colorbar": {
              "outlinewidth": 0,
              "ticks": ""
             }
            },
            "type": "scatterternary"
           }
          ],
          "surface": [
           {
            "colorbar": {
             "outlinewidth": 0,
             "ticks": ""
            },
            "colorscale": [
             [
              0,
              "#0d0887"
             ],
             [
              0.1111111111111111,
              "#46039f"
             ],
             [
              0.2222222222222222,
              "#7201a8"
             ],
             [
              0.3333333333333333,
              "#9c179e"
             ],
             [
              0.4444444444444444,
              "#bd3786"
             ],
             [
              0.5555555555555556,
              "#d8576b"
             ],
             [
              0.6666666666666666,
              "#ed7953"
             ],
             [
              0.7777777777777778,
              "#fb9f3a"
             ],
             [
              0.8888888888888888,
              "#fdca26"
             ],
             [
              1,
              "#f0f921"
             ]
            ],
            "type": "surface"
           }
          ],
          "table": [
           {
            "cells": {
             "fill": {
              "color": "#EBF0F8"
             },
             "line": {
              "color": "white"
             }
            },
            "header": {
             "fill": {
              "color": "#C8D4E3"
             },
             "line": {
              "color": "white"
             }
            },
            "type": "table"
           }
          ]
         },
         "layout": {
          "annotationdefaults": {
           "arrowcolor": "#2a3f5f",
           "arrowhead": 0,
           "arrowwidth": 1
          },
          "autotypenumbers": "strict",
          "coloraxis": {
           "colorbar": {
            "outlinewidth": 0,
            "ticks": ""
           }
          },
          "colorscale": {
           "diverging": [
            [
             0,
             "#8e0152"
            ],
            [
             0.1,
             "#c51b7d"
            ],
            [
             0.2,
             "#de77ae"
            ],
            [
             0.3,
             "#f1b6da"
            ],
            [
             0.4,
             "#fde0ef"
            ],
            [
             0.5,
             "#f7f7f7"
            ],
            [
             0.6,
             "#e6f5d0"
            ],
            [
             0.7,
             "#b8e186"
            ],
            [
             0.8,
             "#7fbc41"
            ],
            [
             0.9,
             "#4d9221"
            ],
            [
             1,
             "#276419"
            ]
           ],
           "sequential": [
            [
             0,
             "#0d0887"
            ],
            [
             0.1111111111111111,
             "#46039f"
            ],
            [
             0.2222222222222222,
             "#7201a8"
            ],
            [
             0.3333333333333333,
             "#9c179e"
            ],
            [
             0.4444444444444444,
             "#bd3786"
            ],
            [
             0.5555555555555556,
             "#d8576b"
            ],
            [
             0.6666666666666666,
             "#ed7953"
            ],
            [
             0.7777777777777778,
             "#fb9f3a"
            ],
            [
             0.8888888888888888,
             "#fdca26"
            ],
            [
             1,
             "#f0f921"
            ]
           ],
           "sequentialminus": [
            [
             0,
             "#0d0887"
            ],
            [
             0.1111111111111111,
             "#46039f"
            ],
            [
             0.2222222222222222,
             "#7201a8"
            ],
            [
             0.3333333333333333,
             "#9c179e"
            ],
            [
             0.4444444444444444,
             "#bd3786"
            ],
            [
             0.5555555555555556,
             "#d8576b"
            ],
            [
             0.6666666666666666,
             "#ed7953"
            ],
            [
             0.7777777777777778,
             "#fb9f3a"
            ],
            [
             0.8888888888888888,
             "#fdca26"
            ],
            [
             1,
             "#f0f921"
            ]
           ]
          },
          "colorway": [
           "#636efa",
           "#EF553B",
           "#00cc96",
           "#ab63fa",
           "#FFA15A",
           "#19d3f3",
           "#FF6692",
           "#B6E880",
           "#FF97FF",
           "#FECB52"
          ],
          "font": {
           "color": "#2a3f5f"
          },
          "geo": {
           "bgcolor": "white",
           "lakecolor": "white",
           "landcolor": "#E5ECF6",
           "showlakes": true,
           "showland": true,
           "subunitcolor": "white"
          },
          "hoverlabel": {
           "align": "left"
          },
          "hovermode": "closest",
          "mapbox": {
           "style": "light"
          },
          "paper_bgcolor": "white",
          "plot_bgcolor": "#E5ECF6",
          "polar": {
           "angularaxis": {
            "gridcolor": "white",
            "linecolor": "white",
            "ticks": ""
           },
           "bgcolor": "#E5ECF6",
           "radialaxis": {
            "gridcolor": "white",
            "linecolor": "white",
            "ticks": ""
           }
          },
          "scene": {
           "xaxis": {
            "backgroundcolor": "#E5ECF6",
            "gridcolor": "white",
            "gridwidth": 2,
            "linecolor": "white",
            "showbackground": true,
            "ticks": "",
            "zerolinecolor": "white"
           },
           "yaxis": {
            "backgroundcolor": "#E5ECF6",
            "gridcolor": "white",
            "gridwidth": 2,
            "linecolor": "white",
            "showbackground": true,
            "ticks": "",
            "zerolinecolor": "white"
           },
           "zaxis": {
            "backgroundcolor": "#E5ECF6",
            "gridcolor": "white",
            "gridwidth": 2,
            "linecolor": "white",
            "showbackground": true,
            "ticks": "",
            "zerolinecolor": "white"
           }
          },
          "shapedefaults": {
           "line": {
            "color": "#2a3f5f"
           }
          },
          "ternary": {
           "aaxis": {
            "gridcolor": "white",
            "linecolor": "white",
            "ticks": ""
           },
           "baxis": {
            "gridcolor": "white",
            "linecolor": "white",
            "ticks": ""
           },
           "bgcolor": "#E5ECF6",
           "caxis": {
            "gridcolor": "white",
            "linecolor": "white",
            "ticks": ""
           }
          },
          "title": {
           "x": 0.05
          },
          "xaxis": {
           "automargin": true,
           "gridcolor": "white",
           "linecolor": "white",
           "ticks": "",
           "title": {
            "standoff": 15
           },
           "zerolinecolor": "white",
           "zerolinewidth": 2
          },
          "yaxis": {
           "automargin": true,
           "gridcolor": "white",
           "linecolor": "white",
           "ticks": "",
           "title": {
            "standoff": 15
           },
           "zerolinecolor": "white",
           "zerolinewidth": 2
          }
         }
        },
        "title": {
         "text": "Lasso Regression Coefficients"
        },
        "xaxis": {
         "anchor": "y",
         "domain": [
          0,
          1
         ],
         "tickangle": -45,
         "title": {
          "text": "Feature"
         }
        },
        "yaxis": {
         "anchor": "x",
         "domain": [
          0,
          1
         ],
         "title": {
          "text": "Coefficient"
         }
        }
       }
      }
     },
     "metadata": {},
     "output_type": "display_data"
    }
   ],
   "source": [
    "coeff_df = pd.DataFrame({'Feature': feature_names, 'Coefficient': coefficients})\n",
    "\n",
    "\n",
    "# Create an interactive scatter plot using Plotly\n",
    "fig = px.scatter(coeff_df, x='Feature', y='Coefficient',\n",
    "                 title='Lasso Regression Coefficients', labels={'Coefficient': 'Coefficient Value'})\n",
    "\n",
    "# Customize layout\n",
    "fig.update_layout(xaxis={'tickangle': -45, 'title': 'Feature'},\n",
    "                  yaxis={'title': 'Coefficient'},\n",
    "                  showlegend=False)\n",
    "\n",
    "\n",
    "# Show the interactive plot\n",
    "fig.show()"
   ]
  },
  {
   "cell_type": "code",
   "execution_count": 12,
   "metadata": {
    "id": "IP2db093pVN3"
   },
   "outputs": [],
   "source": [
    "lasso_model = Lasso(alpha=0.01)\n",
    "lasso_model.fit(X1, y0)\n",
    "\n",
    "# Get the coefficients and feature names for Lasso\n",
    "lasso_coefficients = lasso_model.coef_\n",
    "feature_names = X0.columns\n",
    "\n",
    "# Initialize the OLS regression model\n",
    "ols_model = LinearRegression()\n",
    "# Fit the OLS model to the training data\n",
    "ols_model.fit(X1, y0)\n",
    "\n",
    "# Get the coefficients for OLS\n",
    "ols_coefficients = ols_model.coef_\n",
    "\n",
    "# Create DataFrames for Lasso and OLS coefficients\n",
    "lasso_coeff_df = pd.DataFrame({'Feature': feature_names, 'Lasso Coefficient': lasso_coefficients})\n",
    "ols_coeff_df = pd.DataFrame({'Feature': feature_names, 'OLS Coefficient': ols_coefficients})\n",
    "\n",
    "# Combine the DataFrames\n",
    "combined_coeff_df = pd.merge(lasso_coeff_df, ols_coeff_df, on='Feature')\n"
   ]
  },
  {
   "cell_type": "code",
   "execution_count": 13,
   "metadata": {
    "colab": {
     "base_uri": "https://localhost:8080/",
     "height": 542
    },
    "executionInfo": {
     "elapsed": 377,
     "status": "ok",
     "timestamp": 1721194686830,
     "user": {
      "displayName": "Yong Song",
      "userId": "00576951217859821315"
     },
     "user_tz": -600
    },
    "id": "3Sshkx2QpzEw",
    "outputId": "4ee5b6bc-bbc3-4555-939b-99825ebe523c"
   },
   "outputs": [
    {
     "data": {
      "application/vnd.plotly.v1+json": {
       "config": {
        "plotlyServerURL": "https://plot.ly"
       },
       "data": [
        {
         "hovertemplate": "variable=Lasso Coefficient<br>Feature=%{x}<br>Coefficient=%{y}<extra></extra>",
         "legendgroup": "Lasso Coefficient",
         "marker": {
          "color": "#636efa",
          "symbol": "circle"
         },
         "mode": "markers",
         "name": "Lasso Coefficient",
         "orientation": "v",
         "showlegend": true,
         "type": "scatter",
         "x": [
          "SIG1",
          "SIG2",
          "SIG3",
          "SIG4",
          "SIG5",
          "SIG6",
          "SIG7",
          "SIG8",
          "SIG9",
          "SIG10",
          "SIG11",
          "SIG12",
          "SIG13",
          "SIG14",
          "SIG15",
          "SIG16",
          "SIG17",
          "SIG18",
          "SIG19",
          "SIG20",
          "SIG21",
          "SIG22",
          "SIG23",
          "SIG24",
          "SIG25",
          "SIG26",
          "SIG27",
          "SIG28",
          "SIG29",
          "SIG30",
          "SIG31",
          "SIG32",
          "SIG33",
          "SIG34",
          "SIG35",
          "SIG36",
          "SIG37",
          "SIG38",
          "SIG39",
          "SIG40",
          "SIG41",
          "SIG42",
          "SIG43",
          "SIG44",
          "SIG45",
          "SIG46",
          "SIG47",
          "SIG48",
          "SIG49",
          "SIG50",
          "SIG51",
          "SIG52",
          "SIG53",
          "SIG54",
          "SIG55",
          "SIG56",
          "SIG57",
          "SIG58",
          "SIG59",
          "SIG60",
          "SIG61",
          "SIG62",
          "SIG63",
          "SIG64",
          "SIG65",
          "SIG66",
          "SIG67",
          "SIG68",
          "SIG69",
          "SIG70",
          "SIG71",
          "SIG72",
          "SIG73",
          "SIG74",
          "SIG75",
          "SIG76",
          "SIG77",
          "SIG78",
          "SIG79",
          "SIG80",
          "SIG81",
          "SIG82",
          "SIG83",
          "SIG84",
          "SIG85",
          "SIG86",
          "SIG87",
          "SIG88",
          "SIG89",
          "SIG90",
          "SIG91",
          "SIG92",
          "SIG93",
          "SIG94",
          "SIG95",
          "SIG96",
          "SIG97",
          "SIG98",
          "SIG99",
          "SIG100",
          "SIG101",
          "SIG102",
          "SIG103",
          "SIG104",
          "SIG105",
          "SIG106",
          "SIG107",
          "SIG108",
          "SIG109",
          "SIG110",
          "SIG111",
          "SIG112",
          "SIG113",
          "SIG114",
          "SIG115",
          "SIG116",
          "SIG117",
          "SIG118",
          "SIG119",
          "SIG120",
          "SIG121",
          "SIG122",
          "SIG123",
          "SIG124",
          "SIG125",
          "SIG126",
          "SIG127",
          "SIG128",
          "SIG129",
          "SIG130",
          "SIG131",
          "SIG132",
          "SIG133",
          "SIG134",
          "SIG135",
          "SIG136",
          "SIG137",
          "SIG138",
          "SIG139",
          "SIG140",
          "SIG141",
          "SIG142",
          "SIG143",
          "SIG144",
          "SIG145",
          "SIG146",
          "SIG147",
          "SIG148",
          "SIG149",
          "SIG150",
          "SIG151",
          "SIG152",
          "SIG153",
          "SIG154",
          "SIG155",
          "SIG156",
          "SIG157",
          "SIG158",
          "SIG159",
          "SIG160",
          "SIG161",
          "SIG162",
          "SIG163",
          "SIG164",
          "SIG165",
          "SIG166",
          "SIG167",
          "SIG168",
          "SIG169",
          "SIG170",
          "SIG171",
          "SIG172",
          "SIG173",
          "SIG174",
          "SIG175",
          "SIG176",
          "SIG177",
          "SIG178",
          "SIG179",
          "SIG180",
          "SIG181",
          "SIG182",
          "SIG183",
          "SIG184",
          "SIG185",
          "SIG186",
          "SIG187",
          "SIG188",
          "SIG189",
          "SIG190",
          "SIG191",
          "SIG192",
          "SIG193",
          "SIG194",
          "SIG195",
          "SIG196",
          "SIG197",
          "SIG198",
          "SIG199",
          "SIG200"
         ],
         "xaxis": "x",
         "y": {
          "bdata": "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",
          "dtype": "f8"
         },
         "yaxis": "y"
        },
        {
         "hovertemplate": "variable=OLS Coefficient<br>Feature=%{x}<br>Coefficient=%{y}<extra></extra>",
         "legendgroup": "OLS Coefficient",
         "marker": {
          "color": "#EF553B",
          "symbol": "circle"
         },
         "mode": "markers",
         "name": "OLS Coefficient",
         "orientation": "v",
         "showlegend": true,
         "type": "scatter",
         "x": [
          "SIG1",
          "SIG2",
          "SIG3",
          "SIG4",
          "SIG5",
          "SIG6",
          "SIG7",
          "SIG8",
          "SIG9",
          "SIG10",
          "SIG11",
          "SIG12",
          "SIG13",
          "SIG14",
          "SIG15",
          "SIG16",
          "SIG17",
          "SIG18",
          "SIG19",
          "SIG20",
          "SIG21",
          "SIG22",
          "SIG23",
          "SIG24",
          "SIG25",
          "SIG26",
          "SIG27",
          "SIG28",
          "SIG29",
          "SIG30",
          "SIG31",
          "SIG32",
          "SIG33",
          "SIG34",
          "SIG35",
          "SIG36",
          "SIG37",
          "SIG38",
          "SIG39",
          "SIG40",
          "SIG41",
          "SIG42",
          "SIG43",
          "SIG44",
          "SIG45",
          "SIG46",
          "SIG47",
          "SIG48",
          "SIG49",
          "SIG50",
          "SIG51",
          "SIG52",
          "SIG53",
          "SIG54",
          "SIG55",
          "SIG56",
          "SIG57",
          "SIG58",
          "SIG59",
          "SIG60",
          "SIG61",
          "SIG62",
          "SIG63",
          "SIG64",
          "SIG65",
          "SIG66",
          "SIG67",
          "SIG68",
          "SIG69",
          "SIG70",
          "SIG71",
          "SIG72",
          "SIG73",
          "SIG74",
          "SIG75",
          "SIG76",
          "SIG77",
          "SIG78",
          "SIG79",
          "SIG80",
          "SIG81",
          "SIG82",
          "SIG83",
          "SIG84",
          "SIG85",
          "SIG86",
          "SIG87",
          "SIG88",
          "SIG89",
          "SIG90",
          "SIG91",
          "SIG92",
          "SIG93",
          "SIG94",
          "SIG95",
          "SIG96",
          "SIG97",
          "SIG98",
          "SIG99",
          "SIG100",
          "SIG101",
          "SIG102",
          "SIG103",
          "SIG104",
          "SIG105",
          "SIG106",
          "SIG107",
          "SIG108",
          "SIG109",
          "SIG110",
          "SIG111",
          "SIG112",
          "SIG113",
          "SIG114",
          "SIG115",
          "SIG116",
          "SIG117",
          "SIG118",
          "SIG119",
          "SIG120",
          "SIG121",
          "SIG122",
          "SIG123",
          "SIG124",
          "SIG125",
          "SIG126",
          "SIG127",
          "SIG128",
          "SIG129",
          "SIG130",
          "SIG131",
          "SIG132",
          "SIG133",
          "SIG134",
          "SIG135",
          "SIG136",
          "SIG137",
          "SIG138",
          "SIG139",
          "SIG140",
          "SIG141",
          "SIG142",
          "SIG143",
          "SIG144",
          "SIG145",
          "SIG146",
          "SIG147",
          "SIG148",
          "SIG149",
          "SIG150",
          "SIG151",
          "SIG152",
          "SIG153",
          "SIG154",
          "SIG155",
          "SIG156",
          "SIG157",
          "SIG158",
          "SIG159",
          "SIG160",
          "SIG161",
          "SIG162",
          "SIG163",
          "SIG164",
          "SIG165",
          "SIG166",
          "SIG167",
          "SIG168",
          "SIG169",
          "SIG170",
          "SIG171",
          "SIG172",
          "SIG173",
          "SIG174",
          "SIG175",
          "SIG176",
          "SIG177",
          "SIG178",
          "SIG179",
          "SIG180",
          "SIG181",
          "SIG182",
          "SIG183",
          "SIG184",
          "SIG185",
          "SIG186",
          "SIG187",
          "SIG188",
          "SIG189",
          "SIG190",
          "SIG191",
          "SIG192",
          "SIG193",
          "SIG194",
          "SIG195",
          "SIG196",
          "SIG197",
          "SIG198",
          "SIG199",
          "SIG200"
         ],
         "xaxis": "x",
         "y": {
          "bdata": "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",
          "dtype": "f8"
         },
         "yaxis": "y"
        }
       ],
       "layout": {
        "legend": {
         "title": {
          "text": "variable"
         },
         "tracegroupgap": 0
        },
        "template": {
         "data": {
          "bar": [
           {
            "error_x": {
             "color": "#2a3f5f"
            },
            "error_y": {
             "color": "#2a3f5f"
            },
            "marker": {
             "line": {
              "color": "#E5ECF6",
              "width": 0.5
             },
             "pattern": {
              "fillmode": "overlay",
              "size": 10,
              "solidity": 0.2
             }
            },
            "type": "bar"
           }
          ],
          "barpolar": [
           {
            "marker": {
             "line": {
              "color": "#E5ECF6",
              "width": 0.5
             },
             "pattern": {
              "fillmode": "overlay",
              "size": 10,
              "solidity": 0.2
             }
            },
            "type": "barpolar"
           }
          ],
          "carpet": [
           {
            "aaxis": {
             "endlinecolor": "#2a3f5f",
             "gridcolor": "white",
             "linecolor": "white",
             "minorgridcolor": "white",
             "startlinecolor": "#2a3f5f"
            },
            "baxis": {
             "endlinecolor": "#2a3f5f",
             "gridcolor": "white",
             "linecolor": "white",
             "minorgridcolor": "white",
             "startlinecolor": "#2a3f5f"
            },
            "type": "carpet"
           }
          ],
          "choropleth": [
           {
            "colorbar": {
             "outlinewidth": 0,
             "ticks": ""
            },
            "type": "choropleth"
           }
          ],
          "contour": [
           {
            "colorbar": {
             "outlinewidth": 0,
             "ticks": ""
            },
            "colorscale": [
             [
              0,
              "#0d0887"
             ],
             [
              0.1111111111111111,
              "#46039f"
             ],
             [
              0.2222222222222222,
              "#7201a8"
             ],
             [
              0.3333333333333333,
              "#9c179e"
             ],
             [
              0.4444444444444444,
              "#bd3786"
             ],
             [
              0.5555555555555556,
              "#d8576b"
             ],
             [
              0.6666666666666666,
              "#ed7953"
             ],
             [
              0.7777777777777778,
              "#fb9f3a"
             ],
             [
              0.8888888888888888,
              "#fdca26"
             ],
             [
              1,
              "#f0f921"
             ]
            ],
            "type": "contour"
           }
          ],
          "contourcarpet": [
           {
            "colorbar": {
             "outlinewidth": 0,
             "ticks": ""
            },
            "type": "contourcarpet"
           }
          ],
          "heatmap": [
           {
            "colorbar": {
             "outlinewidth": 0,
             "ticks": ""
            },
            "colorscale": [
             [
              0,
              "#0d0887"
             ],
             [
              0.1111111111111111,
              "#46039f"
             ],
             [
              0.2222222222222222,
              "#7201a8"
             ],
             [
              0.3333333333333333,
              "#9c179e"
             ],
             [
              0.4444444444444444,
              "#bd3786"
             ],
             [
              0.5555555555555556,
              "#d8576b"
             ],
             [
              0.6666666666666666,
              "#ed7953"
             ],
             [
              0.7777777777777778,
              "#fb9f3a"
             ],
             [
              0.8888888888888888,
              "#fdca26"
             ],
             [
              1,
              "#f0f921"
             ]
            ],
            "type": "heatmap"
           }
          ],
          "histogram": [
           {
            "marker": {
             "pattern": {
              "fillmode": "overlay",
              "size": 10,
              "solidity": 0.2
             }
            },
            "type": "histogram"
           }
          ],
          "histogram2d": [
           {
            "colorbar": {
             "outlinewidth": 0,
             "ticks": ""
            },
            "colorscale": [
             [
              0,
              "#0d0887"
             ],
             [
              0.1111111111111111,
              "#46039f"
             ],
             [
              0.2222222222222222,
              "#7201a8"
             ],
             [
              0.3333333333333333,
              "#9c179e"
             ],
             [
              0.4444444444444444,
              "#bd3786"
             ],
             [
              0.5555555555555556,
              "#d8576b"
             ],
             [
              0.6666666666666666,
              "#ed7953"
             ],
             [
              0.7777777777777778,
              "#fb9f3a"
             ],
             [
              0.8888888888888888,
              "#fdca26"
             ],
             [
              1,
              "#f0f921"
             ]
            ],
            "type": "histogram2d"
           }
          ],
          "histogram2dcontour": [
           {
            "colorbar": {
             "outlinewidth": 0,
             "ticks": ""
            },
            "colorscale": [
             [
              0,
              "#0d0887"
             ],
             [
              0.1111111111111111,
              "#46039f"
             ],
             [
              0.2222222222222222,
              "#7201a8"
             ],
             [
              0.3333333333333333,
              "#9c179e"
             ],
             [
              0.4444444444444444,
              "#bd3786"
             ],
             [
              0.5555555555555556,
              "#d8576b"
             ],
             [
              0.6666666666666666,
              "#ed7953"
             ],
             [
              0.7777777777777778,
              "#fb9f3a"
             ],
             [
              0.8888888888888888,
              "#fdca26"
             ],
             [
              1,
              "#f0f921"
             ]
            ],
            "type": "histogram2dcontour"
           }
          ],
          "mesh3d": [
           {
            "colorbar": {
             "outlinewidth": 0,
             "ticks": ""
            },
            "type": "mesh3d"
           }
          ],
          "parcoords": [
           {
            "line": {
             "colorbar": {
              "outlinewidth": 0,
              "ticks": ""
             }
            },
            "type": "parcoords"
           }
          ],
          "pie": [
           {
            "automargin": true,
            "type": "pie"
           }
          ],
          "scatter": [
           {
            "fillpattern": {
             "fillmode": "overlay",
             "size": 10,
             "solidity": 0.2
            },
            "type": "scatter"
           }
          ],
          "scatter3d": [
           {
            "line": {
             "colorbar": {
              "outlinewidth": 0,
              "ticks": ""
             }
            },
            "marker": {
             "colorbar": {
              "outlinewidth": 0,
              "ticks": ""
             }
            },
            "type": "scatter3d"
           }
          ],
          "scattercarpet": [
           {
            "marker": {
             "colorbar": {
              "outlinewidth": 0,
              "ticks": ""
             }
            },
            "type": "scattercarpet"
           }
          ],
          "scattergeo": [
           {
            "marker": {
             "colorbar": {
              "outlinewidth": 0,
              "ticks": ""
             }
            },
            "type": "scattergeo"
           }
          ],
          "scattergl": [
           {
            "marker": {
             "colorbar": {
              "outlinewidth": 0,
              "ticks": ""
             }
            },
            "type": "scattergl"
           }
          ],
          "scattermap": [
           {
            "marker": {
             "colorbar": {
              "outlinewidth": 0,
              "ticks": ""
             }
            },
            "type": "scattermap"
           }
          ],
          "scattermapbox": [
           {
            "marker": {
             "colorbar": {
              "outlinewidth": 0,
              "ticks": ""
             }
            },
            "type": "scattermapbox"
           }
          ],
          "scatterpolar": [
           {
            "marker": {
             "colorbar": {
              "outlinewidth": 0,
              "ticks": ""
             }
            },
            "type": "scatterpolar"
           }
          ],
          "scatterpolargl": [
           {
            "marker": {
             "colorbar": {
              "outlinewidth": 0,
              "ticks": ""
             }
            },
            "type": "scatterpolargl"
           }
          ],
          "scatterternary": [
           {
            "marker": {
             "colorbar": {
              "outlinewidth": 0,
              "ticks": ""
             }
            },
            "type": "scatterternary"
           }
          ],
          "surface": [
           {
            "colorbar": {
             "outlinewidth": 0,
             "ticks": ""
            },
            "colorscale": [
             [
              0,
              "#0d0887"
             ],
             [
              0.1111111111111111,
              "#46039f"
             ],
             [
              0.2222222222222222,
              "#7201a8"
             ],
             [
              0.3333333333333333,
              "#9c179e"
             ],
             [
              0.4444444444444444,
              "#bd3786"
             ],
             [
              0.5555555555555556,
              "#d8576b"
             ],
             [
              0.6666666666666666,
              "#ed7953"
             ],
             [
              0.7777777777777778,
              "#fb9f3a"
             ],
             [
              0.8888888888888888,
              "#fdca26"
             ],
             [
              1,
              "#f0f921"
             ]
            ],
            "type": "surface"
           }
          ],
          "table": [
           {
            "cells": {
             "fill": {
              "color": "#EBF0F8"
             },
             "line": {
              "color": "white"
             }
            },
            "header": {
             "fill": {
              "color": "#C8D4E3"
             },
             "line": {
              "color": "white"
             }
            },
            "type": "table"
           }
          ]
         },
         "layout": {
          "annotationdefaults": {
           "arrowcolor": "#2a3f5f",
           "arrowhead": 0,
           "arrowwidth": 1
          },
          "autotypenumbers": "strict",
          "coloraxis": {
           "colorbar": {
            "outlinewidth": 0,
            "ticks": ""
           }
          },
          "colorscale": {
           "diverging": [
            [
             0,
             "#8e0152"
            ],
            [
             0.1,
             "#c51b7d"
            ],
            [
             0.2,
             "#de77ae"
            ],
            [
             0.3,
             "#f1b6da"
            ],
            [
             0.4,
             "#fde0ef"
            ],
            [
             0.5,
             "#f7f7f7"
            ],
            [
             0.6,
             "#e6f5d0"
            ],
            [
             0.7,
             "#b8e186"
            ],
            [
             0.8,
             "#7fbc41"
            ],
            [
             0.9,
             "#4d9221"
            ],
            [
             1,
             "#276419"
            ]
           ],
           "sequential": [
            [
             0,
             "#0d0887"
            ],
            [
             0.1111111111111111,
             "#46039f"
            ],
            [
             0.2222222222222222,
             "#7201a8"
            ],
            [
             0.3333333333333333,
             "#9c179e"
            ],
            [
             0.4444444444444444,
             "#bd3786"
            ],
            [
             0.5555555555555556,
             "#d8576b"
            ],
            [
             0.6666666666666666,
             "#ed7953"
            ],
            [
             0.7777777777777778,
             "#fb9f3a"
            ],
            [
             0.8888888888888888,
             "#fdca26"
            ],
            [
             1,
             "#f0f921"
            ]
           ],
           "sequentialminus": [
            [
             0,
             "#0d0887"
            ],
            [
             0.1111111111111111,
             "#46039f"
            ],
            [
             0.2222222222222222,
             "#7201a8"
            ],
            [
             0.3333333333333333,
             "#9c179e"
            ],
            [
             0.4444444444444444,
             "#bd3786"
            ],
            [
             0.5555555555555556,
             "#d8576b"
            ],
            [
             0.6666666666666666,
             "#ed7953"
            ],
            [
             0.7777777777777778,
             "#fb9f3a"
            ],
            [
             0.8888888888888888,
             "#fdca26"
            ],
            [
             1,
             "#f0f921"
            ]
           ]
          },
          "colorway": [
           "#636efa",
           "#EF553B",
           "#00cc96",
           "#ab63fa",
           "#FFA15A",
           "#19d3f3",
           "#FF6692",
           "#B6E880",
           "#FF97FF",
           "#FECB52"
          ],
          "font": {
           "color": "#2a3f5f"
          },
          "geo": {
           "bgcolor": "white",
           "lakecolor": "white",
           "landcolor": "#E5ECF6",
           "showlakes": true,
           "showland": true,
           "subunitcolor": "white"
          },
          "hoverlabel": {
           "align": "left"
          },
          "hovermode": "closest",
          "mapbox": {
           "style": "light"
          },
          "paper_bgcolor": "white",
          "plot_bgcolor": "#E5ECF6",
          "polar": {
           "angularaxis": {
            "gridcolor": "white",
            "linecolor": "white",
            "ticks": ""
           },
           "bgcolor": "#E5ECF6",
           "radialaxis": {
            "gridcolor": "white",
            "linecolor": "white",
            "ticks": ""
           }
          },
          "scene": {
           "xaxis": {
            "backgroundcolor": "#E5ECF6",
            "gridcolor": "white",
            "gridwidth": 2,
            "linecolor": "white",
            "showbackground": true,
            "ticks": "",
            "zerolinecolor": "white"
           },
           "yaxis": {
            "backgroundcolor": "#E5ECF6",
            "gridcolor": "white",
            "gridwidth": 2,
            "linecolor": "white",
            "showbackground": true,
            "ticks": "",
            "zerolinecolor": "white"
           },
           "zaxis": {
            "backgroundcolor": "#E5ECF6",
            "gridcolor": "white",
            "gridwidth": 2,
            "linecolor": "white",
            "showbackground": true,
            "ticks": "",
            "zerolinecolor": "white"
           }
          },
          "shapedefaults": {
           "line": {
            "color": "#2a3f5f"
           }
          },
          "ternary": {
           "aaxis": {
            "gridcolor": "white",
            "linecolor": "white",
            "ticks": ""
           },
           "baxis": {
            "gridcolor": "white",
            "linecolor": "white",
            "ticks": ""
           },
           "bgcolor": "#E5ECF6",
           "caxis": {
            "gridcolor": "white",
            "linecolor": "white",
            "ticks": ""
           }
          },
          "title": {
           "x": 0.05
          },
          "xaxis": {
           "automargin": true,
           "gridcolor": "white",
           "linecolor": "white",
           "ticks": "",
           "title": {
            "standoff": 15
           },
           "zerolinecolor": "white",
           "zerolinewidth": 2
          },
          "yaxis": {
           "automargin": true,
           "gridcolor": "white",
           "linecolor": "white",
           "ticks": "",
           "title": {
            "standoff": 15
           },
           "zerolinecolor": "white",
           "zerolinewidth": 2
          }
         }
        },
        "title": {
         "text": "Lasso vs OLS Regression Coefficients"
        },
        "xaxis": {
         "anchor": "y",
         "domain": [
          0,
          1
         ],
         "tickangle": -45,
         "title": {
          "text": "Feature"
         }
        },
        "yaxis": {
         "anchor": "x",
         "domain": [
          0,
          1
         ],
         "title": {
          "text": "Coefficient"
         }
        }
       }
      }
     },
     "metadata": {},
     "output_type": "display_data"
    }
   ],
   "source": [
    "# Create an interactive scatter plot using Plotly\n",
    "fig = px.scatter(combined_coeff_df, x='Feature', y=['Lasso Coefficient', 'OLS Coefficient'],\n",
    "                 title='Lasso vs OLS Regression Coefficients', labels={'value': 'Coefficient'})\n",
    "\n",
    "# Customize layout\n",
    "fig.update_layout(xaxis={'tickangle': -45, 'title': 'Feature'},\n",
    "                  yaxis={'title': 'Coefficient'})\n",
    "\n",
    "# Show the interactive plot\n",
    "fig.show()"
   ]
  },
  {
   "cell_type": "markdown",
   "metadata": {
    "id": "LwxYr_w7P8vs"
   },
   "source": [
    "## Model selection via AICc"
   ]
  },
  {
   "cell_type": "markdown",
   "metadata": {
    "id": "EySC_uvKdRdc"
   },
   "source": [
    "How to choose $\\lambda$? A quick summary and more details are coming after.\n",
    "- AIC = deviance + $2df$\n",
    "- AICc = deviance + $2df \\frac{n}{n-df-1}$\n",
    "- BIC = deviance + $\\log(n) \\times df$\n",
    "Estimate the model once and choose the value $\\lambda$ that gives the optimal criterion. The textbook (Taddy) recommends **AICc**.\n",
    "\n",
    "- These are all **in-sample**. They are fast to compute.\n"
   ]
  },
  {
   "cell_type": "code",
   "execution_count": 14,
   "metadata": {
    "colab": {
     "base_uri": "https://localhost:8080/"
    },
    "executionInfo": {
     "elapsed": 1765,
     "status": "ok",
     "timestamp": 1721195497999,
     "user": {
      "displayName": "Yong Song",
      "userId": "00576951217859821315"
     },
     "user_tz": -600
    },
    "id": "ULO1_JXPQA66",
    "outputId": "79223ceb-2cfa-478d-cd96-6b1ca339fd19"
   },
   "outputs": [
    {
     "name": "stdout",
     "output_type": "stream",
     "text": [
      "Best alpha: 0.006135907273413176\n"
     ]
    }
   ],
   "source": [
    "alphas = np.logspace(-5, 1, num=100)\n",
    "\n",
    "# Calculate AICc for each alpha\n",
    "aiccs = []\n",
    "for alpha in alphas:\n",
    "    lasso_model = Lasso(alpha=alpha)\n",
    "    lasso_model.fit(X1, y0)\n",
    "    mse = mean_squared_error(y0, lasso_model.predict(X1))\n",
    "    n = len(y0)\n",
    "    num_params = np.count_nonzero(lasso_model.coef_) + 1  # Include the intercept\n",
    "    aicc = n * np.log(mse) + 2 * num_params + 2 * num_params * (num_params+1) / (n - num_params - 1)\n",
    "    aiccs.append(aicc)\n",
    "\n",
    "# Find the alpha with the minimum AICc\n",
    "best_alpha = alphas[np.argmin(aiccs)]\n",
    "print(f\"Best alpha: {best_alpha}\")"
   ]
  },
  {
   "cell_type": "code",
   "execution_count": 15,
   "metadata": {
    "colab": {
     "base_uri": "https://localhost:8080/",
     "height": 542
    },
    "executionInfo": {
     "elapsed": 377,
     "status": "ok",
     "timestamp": 1721195506176,
     "user": {
      "displayName": "Yong Song",
      "userId": "00576951217859821315"
     },
     "user_tz": -600
    },
    "id": "i2ufTbp2QV3u",
    "outputId": "1366b9a8-cb2e-403f-f5aa-6edb6167a9cd"
   },
   "outputs": [
    {
     "data": {
      "application/vnd.plotly.v1+json": {
       "config": {
        "plotlyServerURL": "https://plot.ly"
       },
       "data": [
        {
         "hovertemplate": "Alpha (Penalty Term)=%{x}<br>AICc=%{y}<extra></extra>",
         "legendgroup": "",
         "marker": {
          "color": "#636efa",
          "symbol": "circle"
         },
         "mode": "markers",
         "name": "",
         "orientation": "v",
         "showlegend": false,
         "type": "scatter",
         "x": {
          "bdata": "8WjjiLX45D4azGD7tRzoPiS/eBQeues+XHbY4vXf7z6K8E5f/FLyPkGG4Gd+EfU+Y7i0CjU5+D6Oa0eg4dn7PqEgUsPQAgA/JTAhS6RoAj/DhGORZCoFP/FTg8fVVQg/7T6x5Mv6Cz8JT8PXvBUQPwFQ5M5lfhI/M1QKKGhDFT+UsZlZmHIYP6UueQ/dGxw/53MOSb8oID9JjtcIQZQiP7bNm06JXCU/9+3z6HyPKD9URZhOFT0sPw9UoTHYOzA/dehdFzaqMj8D5AcoyHU1PwhnvZ2DrDg/aeI90HRePD878AisB09AP05F/hhFwEI/8tNn1ySPRT/I81CgrMlIP3v6z8L7f0w//Knx0k1iUD90n2MsbtZSP1RV/n+fqFU/eBw5GfjmWD/fV+tUqqFcP+hoJ8GqdWA/EzBdcLHsYj8NzDdFOMJlPwNTMDFmBGk/QttjtYDDbD+zv5WRHolwP5WZ3gMPA3M/KXmqSu/bdT9/KyER9yF5PwG9RBN/5Xw/yBFIX6mcgD+8EgAGhxmDP3GsFrTE9YU/GJUm4qo/iT9SztCdpQeNP7u4aUVLsJA/7pH+lRkwkz8q9maluA+WP1gTjM2BXZk/NruChPQpnT8iKkZfBMSgP374O9PGRqM/4liwQssppj9c9838e3upP0lMDfdrTK0/lR1JyNTXsD91Pj/djl2zP7B7MrD8Q7Y/mpmZmZmZuT8lqVslDG+9P6qy/pu868A/PZ6003F0wz+g3FcSTV7GP+OTzc3at8k/FZuRP9WRzT9vlxP2u//QP+DAbdZvi9M/UgO2jbx41j+Q+3nDP9bZP/jPC3bHtN0/qC5V8tIT4T/76WEFiaLjP6mzDUdLk+Y/yZvgpMj06T9FHWD54tftP7i2sawBKPE/eySugL258z8wIUtj+a32P50wdZx1E/o//MNd+if7/T9VcDhBSDwBQCJvlWgN0QNASSKGB8fIBkDdod3URjIKQE60DaqWHg5AccUZzKZQEUA/6YDdeOgTQJljAlm04xZAOT7yeDxRGkCW0bI5L0IeQKJwp2kdZSFAAAAAAAAAJEA=",
          "dtype": "f8"
         },
         "xaxis": "x",
         "y": {
          "bdata": "7SsU8Z55r8BlKfHWnnmvwLUKZLSeea/A+VC3hp55r8BCnnF0+n6vwJRtBiX6fq/Azs0JvPl+r8DQgkAx+X6vwG7qyHn4fq/AVpZAh/d+r8Ail6NG9n6vwOjWzp70fq/AxpiHbvJ+r8B4kuCJ736vwIpbyLbrfq/ARh18qOZ+r8DWF/XnkYmvwFI76CiJia/AiOMNmX2Jr8DqUl9QbomvwASVKBxaia/AVlUsN5WOr8D7alxcF5mvwHznkVCGo6/ABK9EMUqjr8Bbffg4RqivwLPjB7rdp6/AzeqInFOnr8ANHuoRnaavwHttF9Srpa/AI8cbCm2kr8CvxDrlEqivwAFg8rq+ta/AbsFF1nG9r8BIMMPjAr+vwEfKhvWoxK/A2xi0MZ3Dr8AF5WEHlNqvwP5SQtUI76/ASllD0RDxr8C3HMevbQmwwHPD9FX3ErDALMLpyjccsMAe3CXUBiCwwJ2EufK7H7DAAYO+KkQnsMAXLTotTC+wwHcvw8O1KbDAvcGb3yoqsMBxnwx53xuwwEJjWy7AH7DA48o+UT8isMD2WNG6jCKwwGHgxIK2FbDAm267vIYMsMBIK+TaDv+vwIVAtN7y7q/Ad5y4uo3jr8DzfDqXBd2vwPN8OpcF3a/A83w6lwXdr8DzfDqXBd2vwPN8OpcF3a/A83w6lwXdr8DzfDqXBd2vwPN8OpcF3a/A83w6lwXdr8DzfDqXBd2vwPN8OpcF3a/A83w6lwXdr8DzfDqXBd2vwPN8OpcF3a/A83w6lwXdr8DzfDqXBd2vwPN8OpcF3a/A83w6lwXdr8DzfDqXBd2vwPN8OpcF3a/A83w6lwXdr8DzfDqXBd2vwPN8OpcF3a/A83w6lwXdr8DzfDqXBd2vwPN8OpcF3a/A83w6lwXdr8DzfDqXBd2vwPN8OpcF3a/A83w6lwXdr8DzfDqXBd2vwPN8OpcF3a/A83w6lwXdr8DzfDqXBd2vwPN8OpcF3a/A83w6lwXdr8DzfDqXBd2vwPN8OpcF3a/A83w6lwXdr8DzfDqXBd2vwPN8OpcF3a/A83w6lwXdr8A=",
          "dtype": "f8"
         },
         "yaxis": "y"
        }
       ],
       "layout": {
        "legend": {
         "tracegroupgap": 0
        },
        "template": {
         "data": {
          "bar": [
           {
            "error_x": {
             "color": "#2a3f5f"
            },
            "error_y": {
             "color": "#2a3f5f"
            },
            "marker": {
             "line": {
              "color": "#E5ECF6",
              "width": 0.5
             },
             "pattern": {
              "fillmode": "overlay",
              "size": 10,
              "solidity": 0.2
             }
            },
            "type": "bar"
           }
          ],
          "barpolar": [
           {
            "marker": {
             "line": {
              "color": "#E5ECF6",
              "width": 0.5
             },
             "pattern": {
              "fillmode": "overlay",
              "size": 10,
              "solidity": 0.2
             }
            },
            "type": "barpolar"
           }
          ],
          "carpet": [
           {
            "aaxis": {
             "endlinecolor": "#2a3f5f",
             "gridcolor": "white",
             "linecolor": "white",
             "minorgridcolor": "white",
             "startlinecolor": "#2a3f5f"
            },
            "baxis": {
             "endlinecolor": "#2a3f5f",
             "gridcolor": "white",
             "linecolor": "white",
             "minorgridcolor": "white",
             "startlinecolor": "#2a3f5f"
            },
            "type": "carpet"
           }
          ],
          "choropleth": [
           {
            "colorbar": {
             "outlinewidth": 0,
             "ticks": ""
            },
            "type": "choropleth"
           }
          ],
          "contour": [
           {
            "colorbar": {
             "outlinewidth": 0,
             "ticks": ""
            },
            "colorscale": [
             [
              0,
              "#0d0887"
             ],
             [
              0.1111111111111111,
              "#46039f"
             ],
             [
              0.2222222222222222,
              "#7201a8"
             ],
             [
              0.3333333333333333,
              "#9c179e"
             ],
             [
              0.4444444444444444,
              "#bd3786"
             ],
             [
              0.5555555555555556,
              "#d8576b"
             ],
             [
              0.6666666666666666,
              "#ed7953"
             ],
             [
              0.7777777777777778,
              "#fb9f3a"
             ],
             [
              0.8888888888888888,
              "#fdca26"
             ],
             [
              1,
              "#f0f921"
             ]
            ],
            "type": "contour"
           }
          ],
          "contourcarpet": [
           {
            "colorbar": {
             "outlinewidth": 0,
             "ticks": ""
            },
            "type": "contourcarpet"
           }
          ],
          "heatmap": [
           {
            "colorbar": {
             "outlinewidth": 0,
             "ticks": ""
            },
            "colorscale": [
             [
              0,
              "#0d0887"
             ],
             [
              0.1111111111111111,
              "#46039f"
             ],
             [
              0.2222222222222222,
              "#7201a8"
             ],
             [
              0.3333333333333333,
              "#9c179e"
             ],
             [
              0.4444444444444444,
              "#bd3786"
             ],
             [
              0.5555555555555556,
              "#d8576b"
             ],
             [
              0.6666666666666666,
              "#ed7953"
             ],
             [
              0.7777777777777778,
              "#fb9f3a"
             ],
             [
              0.8888888888888888,
              "#fdca26"
             ],
             [
              1,
              "#f0f921"
             ]
            ],
            "type": "heatmap"
           }
          ],
          "histogram": [
           {
            "marker": {
             "pattern": {
              "fillmode": "overlay",
              "size": 10,
              "solidity": 0.2
             }
            },
            "type": "histogram"
           }
          ],
          "histogram2d": [
           {
            "colorbar": {
             "outlinewidth": 0,
             "ticks": ""
            },
            "colorscale": [
             [
              0,
              "#0d0887"
             ],
             [
              0.1111111111111111,
              "#46039f"
             ],
             [
              0.2222222222222222,
              "#7201a8"
             ],
             [
              0.3333333333333333,
              "#9c179e"
             ],
             [
              0.4444444444444444,
              "#bd3786"
             ],
             [
              0.5555555555555556,
              "#d8576b"
             ],
             [
              0.6666666666666666,
              "#ed7953"
             ],
             [
              0.7777777777777778,
              "#fb9f3a"
             ],
             [
              0.8888888888888888,
              "#fdca26"
             ],
             [
              1,
              "#f0f921"
             ]
            ],
            "type": "histogram2d"
           }
          ],
          "histogram2dcontour": [
           {
            "colorbar": {
             "outlinewidth": 0,
             "ticks": ""
            },
            "colorscale": [
             [
              0,
              "#0d0887"
             ],
             [
              0.1111111111111111,
              "#46039f"
             ],
             [
              0.2222222222222222,
              "#7201a8"
             ],
             [
              0.3333333333333333,
              "#9c179e"
             ],
             [
              0.4444444444444444,
              "#bd3786"
             ],
             [
              0.5555555555555556,
              "#d8576b"
             ],
             [
              0.6666666666666666,
              "#ed7953"
             ],
             [
              0.7777777777777778,
              "#fb9f3a"
             ],
             [
              0.8888888888888888,
              "#fdca26"
             ],
             [
              1,
              "#f0f921"
             ]
            ],
            "type": "histogram2dcontour"
           }
          ],
          "mesh3d": [
           {
            "colorbar": {
             "outlinewidth": 0,
             "ticks": ""
            },
            "type": "mesh3d"
           }
          ],
          "parcoords": [
           {
            "line": {
             "colorbar": {
              "outlinewidth": 0,
              "ticks": ""
             }
            },
            "type": "parcoords"
           }
          ],
          "pie": [
           {
            "automargin": true,
            "type": "pie"
           }
          ],
          "scatter": [
           {
            "fillpattern": {
             "fillmode": "overlay",
             "size": 10,
             "solidity": 0.2
            },
            "type": "scatter"
           }
          ],
          "scatter3d": [
           {
            "line": {
             "colorbar": {
              "outlinewidth": 0,
              "ticks": ""
             }
            },
            "marker": {
             "colorbar": {
              "outlinewidth": 0,
              "ticks": ""
             }
            },
            "type": "scatter3d"
           }
          ],
          "scattercarpet": [
           {
            "marker": {
             "colorbar": {
              "outlinewidth": 0,
              "ticks": ""
             }
            },
            "type": "scattercarpet"
           }
          ],
          "scattergeo": [
           {
            "marker": {
             "colorbar": {
              "outlinewidth": 0,
              "ticks": ""
             }
            },
            "type": "scattergeo"
           }
          ],
          "scattergl": [
           {
            "marker": {
             "colorbar": {
              "outlinewidth": 0,
              "ticks": ""
             }
            },
            "type": "scattergl"
           }
          ],
          "scattermap": [
           {
            "marker": {
             "colorbar": {
              "outlinewidth": 0,
              "ticks": ""
             }
            },
            "type": "scattermap"
           }
          ],
          "scattermapbox": [
           {
            "marker": {
             "colorbar": {
              "outlinewidth": 0,
              "ticks": ""
             }
            },
            "type": "scattermapbox"
           }
          ],
          "scatterpolar": [
           {
            "marker": {
             "colorbar": {
              "outlinewidth": 0,
              "ticks": ""
             }
            },
            "type": "scatterpolar"
           }
          ],
          "scatterpolargl": [
           {
            "marker": {
             "colorbar": {
              "outlinewidth": 0,
              "ticks": ""
             }
            },
            "type": "scatterpolargl"
           }
          ],
          "scatterternary": [
           {
            "marker": {
             "colorbar": {
              "outlinewidth": 0,
              "ticks": ""
             }
            },
            "type": "scatterternary"
           }
          ],
          "surface": [
           {
            "colorbar": {
             "outlinewidth": 0,
             "ticks": ""
            },
            "colorscale": [
             [
              0,
              "#0d0887"
             ],
             [
              0.1111111111111111,
              "#46039f"
             ],
             [
              0.2222222222222222,
              "#7201a8"
             ],
             [
              0.3333333333333333,
              "#9c179e"
             ],
             [
              0.4444444444444444,
              "#bd3786"
             ],
             [
              0.5555555555555556,
              "#d8576b"
             ],
             [
              0.6666666666666666,
              "#ed7953"
             ],
             [
              0.7777777777777778,
              "#fb9f3a"
             ],
             [
              0.8888888888888888,
              "#fdca26"
             ],
             [
              1,
              "#f0f921"
             ]
            ],
            "type": "surface"
           }
          ],
          "table": [
           {
            "cells": {
             "fill": {
              "color": "#EBF0F8"
             },
             "line": {
              "color": "white"
             }
            },
            "header": {
             "fill": {
              "color": "#C8D4E3"
             },
             "line": {
              "color": "white"
             }
            },
            "type": "table"
           }
          ]
         },
         "layout": {
          "annotationdefaults": {
           "arrowcolor": "#2a3f5f",
           "arrowhead": 0,
           "arrowwidth": 1
          },
          "autotypenumbers": "strict",
          "coloraxis": {
           "colorbar": {
            "outlinewidth": 0,
            "ticks": ""
           }
          },
          "colorscale": {
           "diverging": [
            [
             0,
             "#8e0152"
            ],
            [
             0.1,
             "#c51b7d"
            ],
            [
             0.2,
             "#de77ae"
            ],
            [
             0.3,
             "#f1b6da"
            ],
            [
             0.4,
             "#fde0ef"
            ],
            [
             0.5,
             "#f7f7f7"
            ],
            [
             0.6,
             "#e6f5d0"
            ],
            [
             0.7,
             "#b8e186"
            ],
            [
             0.8,
             "#7fbc41"
            ],
            [
             0.9,
             "#4d9221"
            ],
            [
             1,
             "#276419"
            ]
           ],
           "sequential": [
            [
             0,
             "#0d0887"
            ],
            [
             0.1111111111111111,
             "#46039f"
            ],
            [
             0.2222222222222222,
             "#7201a8"
            ],
            [
             0.3333333333333333,
             "#9c179e"
            ],
            [
             0.4444444444444444,
             "#bd3786"
            ],
            [
             0.5555555555555556,
             "#d8576b"
            ],
            [
             0.6666666666666666,
             "#ed7953"
            ],
            [
             0.7777777777777778,
             "#fb9f3a"
            ],
            [
             0.8888888888888888,
             "#fdca26"
            ],
            [
             1,
             "#f0f921"
            ]
           ],
           "sequentialminus": [
            [
             0,
             "#0d0887"
            ],
            [
             0.1111111111111111,
             "#46039f"
            ],
            [
             0.2222222222222222,
             "#7201a8"
            ],
            [
             0.3333333333333333,
             "#9c179e"
            ],
            [
             0.4444444444444444,
             "#bd3786"
            ],
            [
             0.5555555555555556,
             "#d8576b"
            ],
            [
             0.6666666666666666,
             "#ed7953"
            ],
            [
             0.7777777777777778,
             "#fb9f3a"
            ],
            [
             0.8888888888888888,
             "#fdca26"
            ],
            [
             1,
             "#f0f921"
            ]
           ]
          },
          "colorway": [
           "#636efa",
           "#EF553B",
           "#00cc96",
           "#ab63fa",
           "#FFA15A",
           "#19d3f3",
           "#FF6692",
           "#B6E880",
           "#FF97FF",
           "#FECB52"
          ],
          "font": {
           "color": "#2a3f5f"
          },
          "geo": {
           "bgcolor": "white",
           "lakecolor": "white",
           "landcolor": "#E5ECF6",
           "showlakes": true,
           "showland": true,
           "subunitcolor": "white"
          },
          "hoverlabel": {
           "align": "left"
          },
          "hovermode": "closest",
          "mapbox": {
           "style": "light"
          },
          "paper_bgcolor": "white",
          "plot_bgcolor": "#E5ECF6",
          "polar": {
           "angularaxis": {
            "gridcolor": "white",
            "linecolor": "white",
            "ticks": ""
           },
           "bgcolor": "#E5ECF6",
           "radialaxis": {
            "gridcolor": "white",
            "linecolor": "white",
            "ticks": ""
           }
          },
          "scene": {
           "xaxis": {
            "backgroundcolor": "#E5ECF6",
            "gridcolor": "white",
            "gridwidth": 2,
            "linecolor": "white",
            "showbackground": true,
            "ticks": "",
            "zerolinecolor": "white"
           },
           "yaxis": {
            "backgroundcolor": "#E5ECF6",
            "gridcolor": "white",
            "gridwidth": 2,
            "linecolor": "white",
            "showbackground": true,
            "ticks": "",
            "zerolinecolor": "white"
           },
           "zaxis": {
            "backgroundcolor": "#E5ECF6",
            "gridcolor": "white",
            "gridwidth": 2,
            "linecolor": "white",
            "showbackground": true,
            "ticks": "",
            "zerolinecolor": "white"
           }
          },
          "shapedefaults": {
           "line": {
            "color": "#2a3f5f"
           }
          },
          "ternary": {
           "aaxis": {
            "gridcolor": "white",
            "linecolor": "white",
            "ticks": ""
           },
           "baxis": {
            "gridcolor": "white",
            "linecolor": "white",
            "ticks": ""
           },
           "bgcolor": "#E5ECF6",
           "caxis": {
            "gridcolor": "white",
            "linecolor": "white",
            "ticks": ""
           }
          },
          "title": {
           "x": 0.05
          },
          "xaxis": {
           "automargin": true,
           "gridcolor": "white",
           "linecolor": "white",
           "ticks": "",
           "title": {
            "standoff": 15
           },
           "zerolinecolor": "white",
           "zerolinewidth": 2
          },
          "yaxis": {
           "automargin": true,
           "gridcolor": "white",
           "linecolor": "white",
           "ticks": "",
           "title": {
            "standoff": 15
           },
           "zerolinecolor": "white",
           "zerolinewidth": 2
          }
         }
        },
        "title": {
         "text": "AICc vs Alpha (Penalty Term)"
        },
        "xaxis": {
         "anchor": "y",
         "domain": [
          0,
          1
         ],
         "title": {
          "text": "Alpha (Penalty Term)"
         },
         "type": "log"
        },
        "yaxis": {
         "anchor": "x",
         "domain": [
          0,
          1
         ],
         "title": {
          "text": "AICc"
         }
        }
       }
      }
     },
     "metadata": {},
     "output_type": "display_data"
    }
   ],
   "source": [
    "fig = px.scatter(x=alphas, y=aiccs, log_x=True,\n",
    "                 title='AICc vs Alpha (Penalty Term)',\n",
    "                 labels={'x': 'Alpha (Penalty Term)', 'y': 'AICc'})\n",
    "\n",
    "# Show the interactive plot\n",
    "fig.show()"
   ]
  },
  {
   "cell_type": "markdown",
   "metadata": {
    "id": "YhWqp2bfUwIG"
   },
   "source": [
    "$\\color{red}{Question:}$ Why is it flat on the right tail?"
   ]
  },
  {
   "cell_type": "markdown",
   "metadata": {
    "id": "OPUxfm4zVCAr"
   },
   "source": [
    "## Logistic Lasso"
   ]
  },
  {
   "cell_type": "code",
   "execution_count": 18,
   "metadata": {
    "colab": {
     "base_uri": "https://localhost:8080/"
    },
    "executionInfo": {
     "elapsed": 4667,
     "status": "ok",
     "timestamp": 1721195958928,
     "user": {
      "displayName": "Yong Song",
      "userId": "00576951217859821315"
     },
     "user_tz": -600
    },
    "id": "yWhpO_ayVYBR",
    "outputId": "5ff85897-4eb1-48f1-98fd-8144de89dce0"
   },
   "outputs": [
    {
     "data": {
      "text/plain": [
       "200"
      ]
     },
     "execution_count": 18,
     "metadata": {},
     "output_type": "execute_result"
    }
   ],
   "source": [
    "# Initialize the Logistic Regression model with Lasso regularization\n",
    "lasso_logreg_model = LogisticRegression(penalty='l1', solver='liblinear', C=500)\n",
    "\n",
    "# Fit the model to the scaled training data\n",
    "lasso_logreg_model.fit(X1, y0)\n",
    "\n",
    "np.sum(lasso_logreg_model.coef_ != 0)"
   ]
  },
  {
   "cell_type": "code",
   "execution_count": 19,
   "metadata": {
    "id": "ro2yqQC5wN6S"
   },
   "outputs": [],
   "source": [
    "Cs = np.logspace(-3, 2, num=100)\n",
    "\n",
    "# Calculate AICc for each alpha\n",
    "aiccs = []\n",
    "for C in Cs:\n",
    "    lasso_logreg_model = LogisticRegression(penalty='l1', solver='liblinear', C=C)\n",
    "    lasso_logreg_model.fit(X1, y0)\n",
    "    pred_prob = lasso_logreg_model.predict_proba(X1)[:,1]\n",
    "    n = len(y0)\n",
    "    num_params = np.count_nonzero(lasso_logreg_model.coef_) + 1  # Include the intercept\n",
    "    aicc = -2 * np.sum(y0 * np.log(pred_prob) + (1 - y0) * np.log(1 - pred_prob)) \\\n",
    "        + 2 * num_params + 2 * num_params * (num_params+1) / (n - num_params - 1)\n",
    "    aiccs.append(aicc)"
   ]
  },
  {
   "cell_type": "code",
   "execution_count": 20,
   "metadata": {
    "colab": {
     "base_uri": "https://localhost:8080/"
    },
    "executionInfo": {
     "elapsed": 339,
     "status": "ok",
     "timestamp": 1721196067611,
     "user": {
      "displayName": "Yong Song",
      "userId": "00576951217859821315"
     },
     "user_tz": -600
    },
    "id": "JCEFgJzl5d7v",
    "outputId": "77bebe21-f1de-4c47-c195-92141aec0331"
   },
   "outputs": [
    {
     "name": "stdout",
     "output_type": "stream",
     "text": [
      "Best C: 0.05857020818056667\n"
     ]
    }
   ],
   "source": [
    "# Find the minimum AICc\n",
    "best_C = Cs[np.argmin(aiccs)]\n",
    "print(f\"Best C: {best_C}\")"
   ]
  },
  {
   "cell_type": "code",
   "execution_count": 21,
   "metadata": {
    "colab": {
     "base_uri": "https://localhost:8080/",
     "height": 542
    },
    "executionInfo": {
     "elapsed": 357,
     "status": "ok",
     "timestamp": 1721196071609,
     "user": {
      "displayName": "Yong Song",
      "userId": "00576951217859821315"
     },
     "user_tz": -600
    },
    "id": "_DB2Ex5dyOop",
    "outputId": "de5b2539-91e2-46f5-e54e-1e5c70699d70"
   },
   "outputs": [
    {
     "data": {
      "application/vnd.plotly.v1+json": {
       "config": {
        "plotlyServerURL": "https://plot.ly"
       },
       "data": [
        {
         "hovertemplate": "C (Inverse Penalty Term)=%{x}<br>AICc=%{y}<extra></extra>",
         "legendgroup": "",
         "marker": {
          "color": "#636efa",
          "symbol": "circle"
         },
         "mode": "markers",
         "name": "",
         "orientation": "v",
         "showlegend": false,
         "type": "scatter",
         "x": {
          "bdata": "/Knx0k1iUD+sQAH/j2dSPx1M4YKcrFQ/23ENS1E5Vz+VHX+hhBZaP+m9zc4jTl0/6Ggnwap1YD9cbjs8UH1iP1youHILxWQ/kmI1ncNUZz/z1Ut3WTVqPwU77QTGcG0/s7+VkR6JcD9a0iMuKpNyP+6UzEKX3XQ/odY9X1Zwdz/2Xwq9UlR6P0uiWimRk30/yBFIX6mcgD/yoRvzHamCP/1kPRVA9oQ/UYd8twmMhz+aucqdcHOKP4Z3dWyFto0/ubhpRUuwkD/O+aepK7+SP5DAUwwGD5U/FHx0zN2nlz8qxc9Es5KaP7Zp1v6i2Z0/IipGXwTEoD9ACHJwU9WiPyDUgErpJ6U/9j/WxNLDpz+ShY/dGrKqP46WTxHq/K0/kx1JyNTXsD8COEdmleuyP3+AXvLpQLU/axeAx+jftz+8WrOTp9G6P0TO7NRaIL4/qrL+m7zrwD/xWhmq8QHDP/iKryYIWsU/YzZ++x/8xz80PhiTWfHKP+/X83r1Q84/apcT9rv/0D8o1f5aaBjTP5TNXwpEc9U/nvYKiHgY2D9NAM8HMRHbP9O15DS6Z94/oy5V8tIT4T8fyDKY+S7jP8RnhMCdjOU/Eg6PlPI06D8uhRweLjHrP0nqeTSpi+4/uLaxrAEo8T84PhWBpUXzP/7uW2wVpvU/zcWhSI5R+D+XAnoCUVH7P/+8qKvCr/4/UHA4QUg8AUA2Vis1bFwDQOyfTjGrvwVAETEJzEtuCECFPZXhmXELQC2AocwG1A5AbMUZzKZQEUA6bx/UTXMTQH2P7jJf2RVAc2S6RiuLGEBgyFDoCJIbQKbWz8l1+B5AonCnaR1lIUCdVMF9SoojQG3c95Qx8yVAmq3Z4CyoKEB7QcRDnrIrQLD52tUPHS9AXaRUNqx5MUBfagZSYqEzQO7gUHsiDTZA3cq6wlDFOEC0kTwhWtM7QIv/pSPVQT9AjjK2TlOOQUBN2QlxlbhDQJ1kCgoyJ0ZAjyPhFJfiSEA/KzyuPPRLQEYiUObFZk9AXLSCzxKjUUDwuwz7489TQKfOX2VgQVZAAAAAAAAAWUA=",
          "dtype": "f8"
         },
         "xaxis": "x",
         "y": {
          "bdata": "6EeWdB4DoEDoR5Z0HgOgQOhHlnQeA6BA6EeWdB4DoEAFgIhpkXafQNUP6zoP/JtAIj4dpSYtmUAMW3TwuOGWQKRBBf9+/ZRAke9ATb9rk0Cr5Rdn3RySQLlbWj3NBJFAVizWpxMakECuWzkMNqqOQKjV4jVlX41AyGx5zbFJjED+gyUttGCLQKackTtvnYpA2NEo2gP6iUDW3uAefXGJQDYHDxeo/4hAjKg9BfSgiEAb2vnuWFKIQHJh+OtCEYhAGwTGFYHbh0DhO4JFN6+HQGOtjwXSiodAhEor/Wlmh0BMoHFbrT+HQFVijIx0GYdAqYkOM1/bhkB++RYToYOGQBzczYIbXoZAqV2IMv0AhkA4zL6xzA2GQKtARDVs9YVAX+UFbM+VhkCtr2arJoWGQJqe/L8ka4ZA8KaEQGlJhkDQH5TFMCKGQLwOB5ridoZA7C76iwc2hkDs9fLgYHGGQC7tbk16uIZAasngun/lhkBRcibigdCGQFklOsq//oZAUiF448zmhkDqc+Jf+MKGQIKkt4JI4IZAFZD7z7E/h0AAQT5OdH2HQElhRvOpb4dA1cHlARaQh0DroSvNXY2HQEiWPxRzo4dAPs905pzmh0Cjv3g4h8aHQOMKgj1e04dAEnq8wnrjh0CYWLNIW7iHQLhBnydBzodA3ghSiVvRh0D/FX6KJQCIQMJCTBKh8YdAaWVRGRRMiECX0o8FLCqIQNe5ZedPH4hALqbZL/J7iEDaz8z3FzCIQAbVZyw9EohAKIwsTt4LiEBcFdMkTxyIQLcva30aLIhAmQe8fFcmiED8GfexiV+IQAAz8cXEL4hAbLtRdll+iECrJjfuHKGIQAdaddQpcIhAYTZGHnxriECzJbvVtGeIQKEHUcsOZIhARQm2fjV2iEC7llORiV6IQMNE94jHhohAvOth3GNaiED6X6S1dYOIQG21rRd9bIhA6hT4zZ2AiEAZBi/KxVSIQJK4sIhkaYhA2PLFk1pTiEAb0CfuEWiIQEDlQLXvfIhAjBKaUBZniEDGrLdILHyIQEZEHLnhe4hAuh0nzxaRiEA=",
          "dtype": "f8"
         },
         "yaxis": "y"
        }
       ],
       "layout": {
        "legend": {
         "tracegroupgap": 0
        },
        "template": {
         "data": {
          "bar": [
           {
            "error_x": {
             "color": "#2a3f5f"
            },
            "error_y": {
             "color": "#2a3f5f"
            },
            "marker": {
             "line": {
              "color": "#E5ECF6",
              "width": 0.5
             },
             "pattern": {
              "fillmode": "overlay",
              "size": 10,
              "solidity": 0.2
             }
            },
            "type": "bar"
           }
          ],
          "barpolar": [
           {
            "marker": {
             "line": {
              "color": "#E5ECF6",
              "width": 0.5
             },
             "pattern": {
              "fillmode": "overlay",
              "size": 10,
              "solidity": 0.2
             }
            },
            "type": "barpolar"
           }
          ],
          "carpet": [
           {
            "aaxis": {
             "endlinecolor": "#2a3f5f",
             "gridcolor": "white",
             "linecolor": "white",
             "minorgridcolor": "white",
             "startlinecolor": "#2a3f5f"
            },
            "baxis": {
             "endlinecolor": "#2a3f5f",
             "gridcolor": "white",
             "linecolor": "white",
             "minorgridcolor": "white",
             "startlinecolor": "#2a3f5f"
            },
            "type": "carpet"
           }
          ],
          "choropleth": [
           {
            "colorbar": {
             "outlinewidth": 0,
             "ticks": ""
            },
            "type": "choropleth"
           }
          ],
          "contour": [
           {
            "colorbar": {
             "outlinewidth": 0,
             "ticks": ""
            },
            "colorscale": [
             [
              0,
              "#0d0887"
             ],
             [
              0.1111111111111111,
              "#46039f"
             ],
             [
              0.2222222222222222,
              "#7201a8"
             ],
             [
              0.3333333333333333,
              "#9c179e"
             ],
             [
              0.4444444444444444,
              "#bd3786"
             ],
             [
              0.5555555555555556,
              "#d8576b"
             ],
             [
              0.6666666666666666,
              "#ed7953"
             ],
             [
              0.7777777777777778,
              "#fb9f3a"
             ],
             [
              0.8888888888888888,
              "#fdca26"
             ],
             [
              1,
              "#f0f921"
             ]
            ],
            "type": "contour"
           }
          ],
          "contourcarpet": [
           {
            "colorbar": {
             "outlinewidth": 0,
             "ticks": ""
            },
            "type": "contourcarpet"
           }
          ],
          "heatmap": [
           {
            "colorbar": {
             "outlinewidth": 0,
             "ticks": ""
            },
            "colorscale": [
             [
              0,
              "#0d0887"
             ],
             [
              0.1111111111111111,
              "#46039f"
             ],
             [
              0.2222222222222222,
              "#7201a8"
             ],
             [
              0.3333333333333333,
              "#9c179e"
             ],
             [
              0.4444444444444444,
              "#bd3786"
             ],
             [
              0.5555555555555556,
              "#d8576b"
             ],
             [
              0.6666666666666666,
              "#ed7953"
             ],
             [
              0.7777777777777778,
              "#fb9f3a"
             ],
             [
              0.8888888888888888,
              "#fdca26"
             ],
             [
              1,
              "#f0f921"
             ]
            ],
            "type": "heatmap"
           }
          ],
          "histogram": [
           {
            "marker": {
             "pattern": {
              "fillmode": "overlay",
              "size": 10,
              "solidity": 0.2
             }
            },
            "type": "histogram"
           }
          ],
          "histogram2d": [
           {
            "colorbar": {
             "outlinewidth": 0,
             "ticks": ""
            },
            "colorscale": [
             [
              0,
              "#0d0887"
             ],
             [
              0.1111111111111111,
              "#46039f"
             ],
             [
              0.2222222222222222,
              "#7201a8"
             ],
             [
              0.3333333333333333,
              "#9c179e"
             ],
             [
              0.4444444444444444,
              "#bd3786"
             ],
             [
              0.5555555555555556,
              "#d8576b"
             ],
             [
              0.6666666666666666,
              "#ed7953"
             ],
             [
              0.7777777777777778,
              "#fb9f3a"
             ],
             [
              0.8888888888888888,
              "#fdca26"
             ],
             [
              1,
              "#f0f921"
             ]
            ],
            "type": "histogram2d"
           }
          ],
          "histogram2dcontour": [
           {
            "colorbar": {
             "outlinewidth": 0,
             "ticks": ""
            },
            "colorscale": [
             [
              0,
              "#0d0887"
             ],
             [
              0.1111111111111111,
              "#46039f"
             ],
             [
              0.2222222222222222,
              "#7201a8"
             ],
             [
              0.3333333333333333,
              "#9c179e"
             ],
             [
              0.4444444444444444,
              "#bd3786"
             ],
             [
              0.5555555555555556,
              "#d8576b"
             ],
             [
              0.6666666666666666,
              "#ed7953"
             ],
             [
              0.7777777777777778,
              "#fb9f3a"
             ],
             [
              0.8888888888888888,
              "#fdca26"
             ],
             [
              1,
              "#f0f921"
             ]
            ],
            "type": "histogram2dcontour"
           }
          ],
          "mesh3d": [
           {
            "colorbar": {
             "outlinewidth": 0,
             "ticks": ""
            },
            "type": "mesh3d"
           }
          ],
          "parcoords": [
           {
            "line": {
             "colorbar": {
              "outlinewidth": 0,
              "ticks": ""
             }
            },
            "type": "parcoords"
           }
          ],
          "pie": [
           {
            "automargin": true,
            "type": "pie"
           }
          ],
          "scatter": [
           {
            "fillpattern": {
             "fillmode": "overlay",
             "size": 10,
             "solidity": 0.2
            },
            "type": "scatter"
           }
          ],
          "scatter3d": [
           {
            "line": {
             "colorbar": {
              "outlinewidth": 0,
              "ticks": ""
             }
            },
            "marker": {
             "colorbar": {
              "outlinewidth": 0,
              "ticks": ""
             }
            },
            "type": "scatter3d"
           }
          ],
          "scattercarpet": [
           {
            "marker": {
             "colorbar": {
              "outlinewidth": 0,
              "ticks": ""
             }
            },
            "type": "scattercarpet"
           }
          ],
          "scattergeo": [
           {
            "marker": {
             "colorbar": {
              "outlinewidth": 0,
              "ticks": ""
             }
            },
            "type": "scattergeo"
           }
          ],
          "scattergl": [
           {
            "marker": {
             "colorbar": {
              "outlinewidth": 0,
              "ticks": ""
             }
            },
            "type": "scattergl"
           }
          ],
          "scattermap": [
           {
            "marker": {
             "colorbar": {
              "outlinewidth": 0,
              "ticks": ""
             }
            },
            "type": "scattermap"
           }
          ],
          "scattermapbox": [
           {
            "marker": {
             "colorbar": {
              "outlinewidth": 0,
              "ticks": ""
             }
            },
            "type": "scattermapbox"
           }
          ],
          "scatterpolar": [
           {
            "marker": {
             "colorbar": {
              "outlinewidth": 0,
              "ticks": ""
             }
            },
            "type": "scatterpolar"
           }
          ],
          "scatterpolargl": [
           {
            "marker": {
             "colorbar": {
              "outlinewidth": 0,
              "ticks": ""
             }
            },
            "type": "scatterpolargl"
           }
          ],
          "scatterternary": [
           {
            "marker": {
             "colorbar": {
              "outlinewidth": 0,
              "ticks": ""
             }
            },
            "type": "scatterternary"
           }
          ],
          "surface": [
           {
            "colorbar": {
             "outlinewidth": 0,
             "ticks": ""
            },
            "colorscale": [
             [
              0,
              "#0d0887"
             ],
             [
              0.1111111111111111,
              "#46039f"
             ],
             [
              0.2222222222222222,
              "#7201a8"
             ],
             [
              0.3333333333333333,
              "#9c179e"
             ],
             [
              0.4444444444444444,
              "#bd3786"
             ],
             [
              0.5555555555555556,
              "#d8576b"
             ],
             [
              0.6666666666666666,
              "#ed7953"
             ],
             [
              0.7777777777777778,
              "#fb9f3a"
             ],
             [
              0.8888888888888888,
              "#fdca26"
             ],
             [
              1,
              "#f0f921"
             ]
            ],
            "type": "surface"
           }
          ],
          "table": [
           {
            "cells": {
             "fill": {
              "color": "#EBF0F8"
             },
             "line": {
              "color": "white"
             }
            },
            "header": {
             "fill": {
              "color": "#C8D4E3"
             },
             "line": {
              "color": "white"
             }
            },
            "type": "table"
           }
          ]
         },
         "layout": {
          "annotationdefaults": {
           "arrowcolor": "#2a3f5f",
           "arrowhead": 0,
           "arrowwidth": 1
          },
          "autotypenumbers": "strict",
          "coloraxis": {
           "colorbar": {
            "outlinewidth": 0,
            "ticks": ""
           }
          },
          "colorscale": {
           "diverging": [
            [
             0,
             "#8e0152"
            ],
            [
             0.1,
             "#c51b7d"
            ],
            [
             0.2,
             "#de77ae"
            ],
            [
             0.3,
             "#f1b6da"
            ],
            [
             0.4,
             "#fde0ef"
            ],
            [
             0.5,
             "#f7f7f7"
            ],
            [
             0.6,
             "#e6f5d0"
            ],
            [
             0.7,
             "#b8e186"
            ],
            [
             0.8,
             "#7fbc41"
            ],
            [
             0.9,
             "#4d9221"
            ],
            [
             1,
             "#276419"
            ]
           ],
           "sequential": [
            [
             0,
             "#0d0887"
            ],
            [
             0.1111111111111111,
             "#46039f"
            ],
            [
             0.2222222222222222,
             "#7201a8"
            ],
            [
             0.3333333333333333,
             "#9c179e"
            ],
            [
             0.4444444444444444,
             "#bd3786"
            ],
            [
             0.5555555555555556,
             "#d8576b"
            ],
            [
             0.6666666666666666,
             "#ed7953"
            ],
            [
             0.7777777777777778,
             "#fb9f3a"
            ],
            [
             0.8888888888888888,
             "#fdca26"
            ],
            [
             1,
             "#f0f921"
            ]
           ],
           "sequentialminus": [
            [
             0,
             "#0d0887"
            ],
            [
             0.1111111111111111,
             "#46039f"
            ],
            [
             0.2222222222222222,
             "#7201a8"
            ],
            [
             0.3333333333333333,
             "#9c179e"
            ],
            [
             0.4444444444444444,
             "#bd3786"
            ],
            [
             0.5555555555555556,
             "#d8576b"
            ],
            [
             0.6666666666666666,
             "#ed7953"
            ],
            [
             0.7777777777777778,
             "#fb9f3a"
            ],
            [
             0.8888888888888888,
             "#fdca26"
            ],
            [
             1,
             "#f0f921"
            ]
           ]
          },
          "colorway": [
           "#636efa",
           "#EF553B",
           "#00cc96",
           "#ab63fa",
           "#FFA15A",
           "#19d3f3",
           "#FF6692",
           "#B6E880",
           "#FF97FF",
           "#FECB52"
          ],
          "font": {
           "color": "#2a3f5f"
          },
          "geo": {
           "bgcolor": "white",
           "lakecolor": "white",
           "landcolor": "#E5ECF6",
           "showlakes": true,
           "showland": true,
           "subunitcolor": "white"
          },
          "hoverlabel": {
           "align": "left"
          },
          "hovermode": "closest",
          "mapbox": {
           "style": "light"
          },
          "paper_bgcolor": "white",
          "plot_bgcolor": "#E5ECF6",
          "polar": {
           "angularaxis": {
            "gridcolor": "white",
            "linecolor": "white",
            "ticks": ""
           },
           "bgcolor": "#E5ECF6",
           "radialaxis": {
            "gridcolor": "white",
            "linecolor": "white",
            "ticks": ""
           }
          },
          "scene": {
           "xaxis": {
            "backgroundcolor": "#E5ECF6",
            "gridcolor": "white",
            "gridwidth": 2,
            "linecolor": "white",
            "showbackground": true,
            "ticks": "",
            "zerolinecolor": "white"
           },
           "yaxis": {
            "backgroundcolor": "#E5ECF6",
            "gridcolor": "white",
            "gridwidth": 2,
            "linecolor": "white",
            "showbackground": true,
            "ticks": "",
            "zerolinecolor": "white"
           },
           "zaxis": {
            "backgroundcolor": "#E5ECF6",
            "gridcolor": "white",
            "gridwidth": 2,
            "linecolor": "white",
            "showbackground": true,
            "ticks": "",
            "zerolinecolor": "white"
           }
          },
          "shapedefaults": {
           "line": {
            "color": "#2a3f5f"
           }
          },
          "ternary": {
           "aaxis": {
            "gridcolor": "white",
            "linecolor": "white",
            "ticks": ""
           },
           "baxis": {
            "gridcolor": "white",
            "linecolor": "white",
            "ticks": ""
           },
           "bgcolor": "#E5ECF6",
           "caxis": {
            "gridcolor": "white",
            "linecolor": "white",
            "ticks": ""
           }
          },
          "title": {
           "x": 0.05
          },
          "xaxis": {
           "automargin": true,
           "gridcolor": "white",
           "linecolor": "white",
           "ticks": "",
           "title": {
            "standoff": 15
           },
           "zerolinecolor": "white",
           "zerolinewidth": 2
          },
          "yaxis": {
           "automargin": true,
           "gridcolor": "white",
           "linecolor": "white",
           "ticks": "",
           "title": {
            "standoff": 15
           },
           "zerolinecolor": "white",
           "zerolinewidth": 2
          }
         }
        },
        "title": {
         "text": "AICc vs C (Inverse Penalty Term)"
        },
        "xaxis": {
         "anchor": "y",
         "domain": [
          0,
          1
         ],
         "title": {
          "text": "C (Inverse Penalty Term)"
         },
         "type": "log"
        },
        "yaxis": {
         "anchor": "x",
         "domain": [
          0,
          1
         ],
         "title": {
          "text": "AICc"
         }
        }
       }
      }
     },
     "metadata": {},
     "output_type": "display_data"
    }
   ],
   "source": [
    "fig = px.scatter(x=Cs, y=aiccs, log_x=True,\n",
    "                 title='AICc vs C (Inverse Penalty Term)',\n",
    "                 labels={'x': 'C (Inverse Penalty Term)', 'y': 'AICc'})\n",
    "\n",
    "# Show the interactive plot\n",
    "fig.show()"
   ]
  },
  {
   "cell_type": "markdown",
   "metadata": {
    "id": "WdnMr6NSVENM"
   },
   "source": [
    "## Cross-Validation"
   ]
  },
  {
   "cell_type": "code",
   "execution_count": 22,
   "metadata": {
    "colab": {
     "base_uri": "https://localhost:8080/",
     "height": 827
    },
    "executionInfo": {
     "elapsed": 1794,
     "status": "ok",
     "timestamp": 1721196099216,
     "user": {
      "displayName": "Yong Song",
      "userId": "00576951217859821315"
     },
     "user_tz": -600
    },
    "id": "Z03xHRZU7Mze",
    "outputId": "4244ac0f-882f-451b-df5e-6d7716978c5a"
   },
   "outputs": [
    {
     "data": {
      "text/html": [
       "<style>#sk-container-id-3 {\n",
       "  /* Definition of color scheme common for light and dark mode */\n",
       "  --sklearn-color-text: #000;\n",
       "  --sklearn-color-text-muted: #666;\n",
       "  --sklearn-color-line: gray;\n",
       "  /* Definition of color scheme for unfitted estimators */\n",
       "  --sklearn-color-unfitted-level-0: #fff5e6;\n",
       "  --sklearn-color-unfitted-level-1: #f6e4d2;\n",
       "  --sklearn-color-unfitted-level-2: #ffe0b3;\n",
       "  --sklearn-color-unfitted-level-3: chocolate;\n",
       "  /* Definition of color scheme for fitted estimators */\n",
       "  --sklearn-color-fitted-level-0: #f0f8ff;\n",
       "  --sklearn-color-fitted-level-1: #d4ebff;\n",
       "  --sklearn-color-fitted-level-2: #b3dbfd;\n",
       "  --sklearn-color-fitted-level-3: cornflowerblue;\n",
       "\n",
       "  /* Specific color for light theme */\n",
       "  --sklearn-color-text-on-default-background: var(--sg-text-color, var(--theme-code-foreground, var(--jp-content-font-color1, black)));\n",
       "  --sklearn-color-background: var(--sg-background-color, var(--theme-background, var(--jp-layout-color0, white)));\n",
       "  --sklearn-color-border-box: var(--sg-text-color, var(--theme-code-foreground, var(--jp-content-font-color1, black)));\n",
       "  --sklearn-color-icon: #696969;\n",
       "\n",
       "  @media (prefers-color-scheme: dark) {\n",
       "    /* Redefinition of color scheme for dark theme */\n",
       "    --sklearn-color-text-on-default-background: var(--sg-text-color, var(--theme-code-foreground, var(--jp-content-font-color1, white)));\n",
       "    --sklearn-color-background: var(--sg-background-color, var(--theme-background, var(--jp-layout-color0, #111)));\n",
       "    --sklearn-color-border-box: var(--sg-text-color, var(--theme-code-foreground, var(--jp-content-font-color1, white)));\n",
       "    --sklearn-color-icon: #878787;\n",
       "  }\n",
       "}\n",
       "\n",
       "#sk-container-id-3 {\n",
       "  color: var(--sklearn-color-text);\n",
       "}\n",
       "\n",
       "#sk-container-id-3 pre {\n",
       "  padding: 0;\n",
       "}\n",
       "\n",
       "#sk-container-id-3 input.sk-hidden--visually {\n",
       "  border: 0;\n",
       "  clip: rect(1px 1px 1px 1px);\n",
       "  clip: rect(1px, 1px, 1px, 1px);\n",
       "  height: 1px;\n",
       "  margin: -1px;\n",
       "  overflow: hidden;\n",
       "  padding: 0;\n",
       "  position: absolute;\n",
       "  width: 1px;\n",
       "}\n",
       "\n",
       "#sk-container-id-3 div.sk-dashed-wrapped {\n",
       "  border: 1px dashed var(--sklearn-color-line);\n",
       "  margin: 0 0.4em 0.5em 0.4em;\n",
       "  box-sizing: border-box;\n",
       "  padding-bottom: 0.4em;\n",
       "  background-color: var(--sklearn-color-background);\n",
       "}\n",
       "\n",
       "#sk-container-id-3 div.sk-container {\n",
       "  /* jupyter's `normalize.less` sets `[hidden] { display: none; }`\n",
       "     but bootstrap.min.css set `[hidden] { display: none !important; }`\n",
       "     so we also need the `!important` here to be able to override the\n",
       "     default hidden behavior on the sphinx rendered scikit-learn.org.\n",
       "     See: https://github.com/scikit-learn/scikit-learn/issues/21755 */\n",
       "  display: inline-block !important;\n",
       "  position: relative;\n",
       "}\n",
       "\n",
       "#sk-container-id-3 div.sk-text-repr-fallback {\n",
       "  display: none;\n",
       "}\n",
       "\n",
       "div.sk-parallel-item,\n",
       "div.sk-serial,\n",
       "div.sk-item {\n",
       "  /* draw centered vertical line to link estimators */\n",
       "  background-image: linear-gradient(var(--sklearn-color-text-on-default-background), var(--sklearn-color-text-on-default-background));\n",
       "  background-size: 2px 100%;\n",
       "  background-repeat: no-repeat;\n",
       "  background-position: center center;\n",
       "}\n",
       "\n",
       "/* Parallel-specific style estimator block */\n",
       "\n",
       "#sk-container-id-3 div.sk-parallel-item::after {\n",
       "  content: \"\";\n",
       "  width: 100%;\n",
       "  border-bottom: 2px solid var(--sklearn-color-text-on-default-background);\n",
       "  flex-grow: 1;\n",
       "}\n",
       "\n",
       "#sk-container-id-3 div.sk-parallel {\n",
       "  display: flex;\n",
       "  align-items: stretch;\n",
       "  justify-content: center;\n",
       "  background-color: var(--sklearn-color-background);\n",
       "  position: relative;\n",
       "}\n",
       "\n",
       "#sk-container-id-3 div.sk-parallel-item {\n",
       "  display: flex;\n",
       "  flex-direction: column;\n",
       "}\n",
       "\n",
       "#sk-container-id-3 div.sk-parallel-item:first-child::after {\n",
       "  align-self: flex-end;\n",
       "  width: 50%;\n",
       "}\n",
       "\n",
       "#sk-container-id-3 div.sk-parallel-item:last-child::after {\n",
       "  align-self: flex-start;\n",
       "  width: 50%;\n",
       "}\n",
       "\n",
       "#sk-container-id-3 div.sk-parallel-item:only-child::after {\n",
       "  width: 0;\n",
       "}\n",
       "\n",
       "/* Serial-specific style estimator block */\n",
       "\n",
       "#sk-container-id-3 div.sk-serial {\n",
       "  display: flex;\n",
       "  flex-direction: column;\n",
       "  align-items: center;\n",
       "  background-color: var(--sklearn-color-background);\n",
       "  padding-right: 1em;\n",
       "  padding-left: 1em;\n",
       "}\n",
       "\n",
       "\n",
       "/* Toggleable style: style used for estimator/Pipeline/ColumnTransformer box that is\n",
       "clickable and can be expanded/collapsed.\n",
       "- Pipeline and ColumnTransformer use this feature and define the default style\n",
       "- Estimators will overwrite some part of the style using the `sk-estimator` class\n",
       "*/\n",
       "\n",
       "/* Pipeline and ColumnTransformer style (default) */\n",
       "\n",
       "#sk-container-id-3 div.sk-toggleable {\n",
       "  /* Default theme specific background. It is overwritten whether we have a\n",
       "  specific estimator or a Pipeline/ColumnTransformer */\n",
       "  background-color: var(--sklearn-color-background);\n",
       "}\n",
       "\n",
       "/* Toggleable label */\n",
       "#sk-container-id-3 label.sk-toggleable__label {\n",
       "  cursor: pointer;\n",
       "  display: flex;\n",
       "  width: 100%;\n",
       "  margin-bottom: 0;\n",
       "  padding: 0.5em;\n",
       "  box-sizing: border-box;\n",
       "  text-align: center;\n",
       "  align-items: start;\n",
       "  justify-content: space-between;\n",
       "  gap: 0.5em;\n",
       "}\n",
       "\n",
       "#sk-container-id-3 label.sk-toggleable__label .caption {\n",
       "  font-size: 0.6rem;\n",
       "  font-weight: lighter;\n",
       "  color: var(--sklearn-color-text-muted);\n",
       "}\n",
       "\n",
       "#sk-container-id-3 label.sk-toggleable__label-arrow:before {\n",
       "  /* Arrow on the left of the label */\n",
       "  content: \"▸\";\n",
       "  float: left;\n",
       "  margin-right: 0.25em;\n",
       "  color: var(--sklearn-color-icon);\n",
       "}\n",
       "\n",
       "#sk-container-id-3 label.sk-toggleable__label-arrow:hover:before {\n",
       "  color: var(--sklearn-color-text);\n",
       "}\n",
       "\n",
       "/* Toggleable content - dropdown */\n",
       "\n",
       "#sk-container-id-3 div.sk-toggleable__content {\n",
       "  display: none;\n",
       "  text-align: left;\n",
       "  /* unfitted */\n",
       "  background-color: var(--sklearn-color-unfitted-level-0);\n",
       "}\n",
       "\n",
       "#sk-container-id-3 div.sk-toggleable__content.fitted {\n",
       "  /* fitted */\n",
       "  background-color: var(--sklearn-color-fitted-level-0);\n",
       "}\n",
       "\n",
       "#sk-container-id-3 div.sk-toggleable__content pre {\n",
       "  margin: 0.2em;\n",
       "  border-radius: 0.25em;\n",
       "  color: var(--sklearn-color-text);\n",
       "  /* unfitted */\n",
       "  background-color: var(--sklearn-color-unfitted-level-0);\n",
       "}\n",
       "\n",
       "#sk-container-id-3 div.sk-toggleable__content.fitted pre {\n",
       "  /* unfitted */\n",
       "  background-color: var(--sklearn-color-fitted-level-0);\n",
       "}\n",
       "\n",
       "#sk-container-id-3 input.sk-toggleable__control:checked~div.sk-toggleable__content {\n",
       "  /* Expand drop-down */\n",
       "  display: block;\n",
       "  width: 100%;\n",
       "  overflow: visible;\n",
       "}\n",
       "\n",
       "#sk-container-id-3 input.sk-toggleable__control:checked~label.sk-toggleable__label-arrow:before {\n",
       "  content: \"▾\";\n",
       "}\n",
       "\n",
       "/* Pipeline/ColumnTransformer-specific style */\n",
       "\n",
       "#sk-container-id-3 div.sk-label input.sk-toggleable__control:checked~label.sk-toggleable__label {\n",
       "  color: var(--sklearn-color-text);\n",
       "  background-color: var(--sklearn-color-unfitted-level-2);\n",
       "}\n",
       "\n",
       "#sk-container-id-3 div.sk-label.fitted input.sk-toggleable__control:checked~label.sk-toggleable__label {\n",
       "  background-color: var(--sklearn-color-fitted-level-2);\n",
       "}\n",
       "\n",
       "/* Estimator-specific style */\n",
       "\n",
       "/* Colorize estimator box */\n",
       "#sk-container-id-3 div.sk-estimator input.sk-toggleable__control:checked~label.sk-toggleable__label {\n",
       "  /* unfitted */\n",
       "  background-color: var(--sklearn-color-unfitted-level-2);\n",
       "}\n",
       "\n",
       "#sk-container-id-3 div.sk-estimator.fitted input.sk-toggleable__control:checked~label.sk-toggleable__label {\n",
       "  /* fitted */\n",
       "  background-color: var(--sklearn-color-fitted-level-2);\n",
       "}\n",
       "\n",
       "#sk-container-id-3 div.sk-label label.sk-toggleable__label,\n",
       "#sk-container-id-3 div.sk-label label {\n",
       "  /* The background is the default theme color */\n",
       "  color: var(--sklearn-color-text-on-default-background);\n",
       "}\n",
       "\n",
       "/* On hover, darken the color of the background */\n",
       "#sk-container-id-3 div.sk-label:hover label.sk-toggleable__label {\n",
       "  color: var(--sklearn-color-text);\n",
       "  background-color: var(--sklearn-color-unfitted-level-2);\n",
       "}\n",
       "\n",
       "/* Label box, darken color on hover, fitted */\n",
       "#sk-container-id-3 div.sk-label.fitted:hover label.sk-toggleable__label.fitted {\n",
       "  color: var(--sklearn-color-text);\n",
       "  background-color: var(--sklearn-color-fitted-level-2);\n",
       "}\n",
       "\n",
       "/* Estimator label */\n",
       "\n",
       "#sk-container-id-3 div.sk-label label {\n",
       "  font-family: monospace;\n",
       "  font-weight: bold;\n",
       "  display: inline-block;\n",
       "  line-height: 1.2em;\n",
       "}\n",
       "\n",
       "#sk-container-id-3 div.sk-label-container {\n",
       "  text-align: center;\n",
       "}\n",
       "\n",
       "/* Estimator-specific */\n",
       "#sk-container-id-3 div.sk-estimator {\n",
       "  font-family: monospace;\n",
       "  border: 1px dotted var(--sklearn-color-border-box);\n",
       "  border-radius: 0.25em;\n",
       "  box-sizing: border-box;\n",
       "  margin-bottom: 0.5em;\n",
       "  /* unfitted */\n",
       "  background-color: var(--sklearn-color-unfitted-level-0);\n",
       "}\n",
       "\n",
       "#sk-container-id-3 div.sk-estimator.fitted {\n",
       "  /* fitted */\n",
       "  background-color: var(--sklearn-color-fitted-level-0);\n",
       "}\n",
       "\n",
       "/* on hover */\n",
       "#sk-container-id-3 div.sk-estimator:hover {\n",
       "  /* unfitted */\n",
       "  background-color: var(--sklearn-color-unfitted-level-2);\n",
       "}\n",
       "\n",
       "#sk-container-id-3 div.sk-estimator.fitted:hover {\n",
       "  /* fitted */\n",
       "  background-color: var(--sklearn-color-fitted-level-2);\n",
       "}\n",
       "\n",
       "/* Specification for estimator info (e.g. \"i\" and \"?\") */\n",
       "\n",
       "/* Common style for \"i\" and \"?\" */\n",
       "\n",
       ".sk-estimator-doc-link,\n",
       "a:link.sk-estimator-doc-link,\n",
       "a:visited.sk-estimator-doc-link {\n",
       "  float: right;\n",
       "  font-size: smaller;\n",
       "  line-height: 1em;\n",
       "  font-family: monospace;\n",
       "  background-color: var(--sklearn-color-background);\n",
       "  border-radius: 1em;\n",
       "  height: 1em;\n",
       "  width: 1em;\n",
       "  text-decoration: none !important;\n",
       "  margin-left: 0.5em;\n",
       "  text-align: center;\n",
       "  /* unfitted */\n",
       "  border: var(--sklearn-color-unfitted-level-1) 1pt solid;\n",
       "  color: var(--sklearn-color-unfitted-level-1);\n",
       "}\n",
       "\n",
       ".sk-estimator-doc-link.fitted,\n",
       "a:link.sk-estimator-doc-link.fitted,\n",
       "a:visited.sk-estimator-doc-link.fitted {\n",
       "  /* fitted */\n",
       "  border: var(--sklearn-color-fitted-level-1) 1pt solid;\n",
       "  color: var(--sklearn-color-fitted-level-1);\n",
       "}\n",
       "\n",
       "/* On hover */\n",
       "div.sk-estimator:hover .sk-estimator-doc-link:hover,\n",
       ".sk-estimator-doc-link:hover,\n",
       "div.sk-label-container:hover .sk-estimator-doc-link:hover,\n",
       ".sk-estimator-doc-link:hover {\n",
       "  /* unfitted */\n",
       "  background-color: var(--sklearn-color-unfitted-level-3);\n",
       "  color: var(--sklearn-color-background);\n",
       "  text-decoration: none;\n",
       "}\n",
       "\n",
       "div.sk-estimator.fitted:hover .sk-estimator-doc-link.fitted:hover,\n",
       ".sk-estimator-doc-link.fitted:hover,\n",
       "div.sk-label-container:hover .sk-estimator-doc-link.fitted:hover,\n",
       ".sk-estimator-doc-link.fitted:hover {\n",
       "  /* fitted */\n",
       "  background-color: var(--sklearn-color-fitted-level-3);\n",
       "  color: var(--sklearn-color-background);\n",
       "  text-decoration: none;\n",
       "}\n",
       "\n",
       "/* Span, style for the box shown on hovering the info icon */\n",
       ".sk-estimator-doc-link span {\n",
       "  display: none;\n",
       "  z-index: 9999;\n",
       "  position: relative;\n",
       "  font-weight: normal;\n",
       "  right: .2ex;\n",
       "  padding: .5ex;\n",
       "  margin: .5ex;\n",
       "  width: min-content;\n",
       "  min-width: 20ex;\n",
       "  max-width: 50ex;\n",
       "  color: var(--sklearn-color-text);\n",
       "  box-shadow: 2pt 2pt 4pt #999;\n",
       "  /* unfitted */\n",
       "  background: var(--sklearn-color-unfitted-level-0);\n",
       "  border: .5pt solid var(--sklearn-color-unfitted-level-3);\n",
       "}\n",
       "\n",
       ".sk-estimator-doc-link.fitted span {\n",
       "  /* fitted */\n",
       "  background: var(--sklearn-color-fitted-level-0);\n",
       "  border: var(--sklearn-color-fitted-level-3);\n",
       "}\n",
       "\n",
       ".sk-estimator-doc-link:hover span {\n",
       "  display: block;\n",
       "}\n",
       "\n",
       "/* \"?\"-specific style due to the `<a>` HTML tag */\n",
       "\n",
       "#sk-container-id-3 a.estimator_doc_link {\n",
       "  float: right;\n",
       "  font-size: 1rem;\n",
       "  line-height: 1em;\n",
       "  font-family: monospace;\n",
       "  background-color: var(--sklearn-color-background);\n",
       "  border-radius: 1rem;\n",
       "  height: 1rem;\n",
       "  width: 1rem;\n",
       "  text-decoration: none;\n",
       "  /* unfitted */\n",
       "  color: var(--sklearn-color-unfitted-level-1);\n",
       "  border: var(--sklearn-color-unfitted-level-1) 1pt solid;\n",
       "}\n",
       "\n",
       "#sk-container-id-3 a.estimator_doc_link.fitted {\n",
       "  /* fitted */\n",
       "  border: var(--sklearn-color-fitted-level-1) 1pt solid;\n",
       "  color: var(--sklearn-color-fitted-level-1);\n",
       "}\n",
       "\n",
       "/* On hover */\n",
       "#sk-container-id-3 a.estimator_doc_link:hover {\n",
       "  /* unfitted */\n",
       "  background-color: var(--sklearn-color-unfitted-level-3);\n",
       "  color: var(--sklearn-color-background);\n",
       "  text-decoration: none;\n",
       "}\n",
       "\n",
       "#sk-container-id-3 a.estimator_doc_link.fitted:hover {\n",
       "  /* fitted */\n",
       "  background-color: var(--sklearn-color-fitted-level-3);\n",
       "}\n",
       "\n",
       ".estimator-table summary {\n",
       "    padding: .5rem;\n",
       "    font-family: monospace;\n",
       "    cursor: pointer;\n",
       "}\n",
       "\n",
       ".estimator-table details[open] {\n",
       "    padding-left: 0.1rem;\n",
       "    padding-right: 0.1rem;\n",
       "    padding-bottom: 0.3rem;\n",
       "}\n",
       "\n",
       ".estimator-table .parameters-table {\n",
       "    margin-left: auto !important;\n",
       "    margin-right: auto !important;\n",
       "}\n",
       "\n",
       ".estimator-table .parameters-table tr:nth-child(odd) {\n",
       "    background-color: #fff;\n",
       "}\n",
       "\n",
       ".estimator-table .parameters-table tr:nth-child(even) {\n",
       "    background-color: #f6f6f6;\n",
       "}\n",
       "\n",
       ".estimator-table .parameters-table tr:hover {\n",
       "    background-color: #e0e0e0;\n",
       "}\n",
       "\n",
       ".estimator-table table td {\n",
       "    border: 1px solid rgba(106, 105, 104, 0.232);\n",
       "}\n",
       "\n",
       ".user-set td {\n",
       "    color:rgb(255, 94, 0);\n",
       "    text-align: left;\n",
       "}\n",
       "\n",
       ".user-set td.value pre {\n",
       "    color:rgb(255, 94, 0) !important;\n",
       "    background-color: transparent !important;\n",
       "}\n",
       "\n",
       ".default td {\n",
       "    color: black;\n",
       "    text-align: left;\n",
       "}\n",
       "\n",
       ".user-set td i,\n",
       ".default td i {\n",
       "    color: black;\n",
       "}\n",
       "\n",
       ".copy-paste-icon {\n",
       "    background-image: url(data:image/svg+xml;base64,PHN2ZyB4bWxucz0iaHR0cDovL3d3dy53My5vcmcvMjAwMC9zdmciIHZpZXdCb3g9IjAgMCA0NDggNTEyIj48IS0tIUZvbnQgQXdlc29tZSBGcmVlIDYuNy4yIGJ5IEBmb250YXdlc29tZSAtIGh0dHBzOi8vZm9udGF3ZXNvbWUuY29tIExpY2Vuc2UgLSBodHRwczovL2ZvbnRhd2Vzb21lLmNvbS9saWNlbnNlL2ZyZWUgQ29weXJpZ2h0IDIwMjUgRm9udGljb25zLCBJbmMuLS0+PHBhdGggZD0iTTIwOCAwTDMzMi4xIDBjMTIuNyAwIDI0LjkgNS4xIDMzLjkgMTQuMWw2Ny45IDY3LjljOSA5IDE0LjEgMjEuMiAxNC4xIDMzLjlMNDQ4IDMzNmMwIDI2LjUtMjEuNSA0OC00OCA0OGwtMTkyIDBjLTI2LjUgMC00OC0yMS41LTQ4LTQ4bDAtMjg4YzAtMjYuNSAyMS41LTQ4IDQ4LTQ4ek00OCAxMjhsODAgMCAwIDY0LTY0IDAgMCAyNTYgMTkyIDAgMC0zMiA2NCAwIDAgNDhjMCAyNi41LTIxLjUgNDgtNDggNDhMNDggNTEyYy0yNi41IDAtNDgtMjEuNS00OC00OEwwIDE3NmMwLTI2LjUgMjEuNS00OCA0OC00OHoiLz48L3N2Zz4=);\n",
       "    background-repeat: no-repeat;\n",
       "    background-size: 14px 14px;\n",
       "    background-position: 0;\n",
       "    display: inline-block;\n",
       "    width: 14px;\n",
       "    height: 14px;\n",
       "    cursor: pointer;\n",
       "}\n",
       "</style><body><div id=\"sk-container-id-3\" class=\"sk-top-container\"><div class=\"sk-text-repr-fallback\"><pre>LassoCV(alphas=array([1.00000000e-05, 1.17681195e-05, 1.38488637e-05, 1.62975083e-05,\n",
       "       1.91791026e-05, 2.25701972e-05, 2.65608778e-05, 3.12571585e-05,\n",
       "       3.67837977e-05, 4.32876128e-05, 5.09413801e-05, 5.99484250e-05,\n",
       "       7.05480231e-05, 8.30217568e-05, 9.77009957e-05, 1.14975700e-04,\n",
       "       1.35304777e-04, 1.59228279e-04, 1.87381742e-04, 2.20513074e-04,\n",
       "       2.59502421e-04, 3.05385551e-0...\n",
       "       2.36448941e+00, 2.78255940e+00, 3.27454916e+00, 3.85352859e+00,\n",
       "       4.53487851e+00, 5.33669923e+00, 6.28029144e+00, 7.39072203e+00,\n",
       "       8.69749003e+00, 1.02353102e+01, 1.20450354e+01, 1.41747416e+01,\n",
       "       1.66810054e+01, 1.96304065e+01, 2.31012970e+01, 2.71858824e+01,\n",
       "       3.19926714e+01, 3.76493581e+01, 4.43062146e+01, 5.21400829e+01,\n",
       "       6.13590727e+01, 7.22080902e+01, 8.49753436e+01, 1.00000000e+02]),\n",
       "        cv=5, max_iter=10000)</pre><b>In a Jupyter environment, please rerun this cell to show the HTML representation or trust the notebook. <br />On GitHub, the HTML representation is unable to render, please try loading this page with nbviewer.org.</b></div><div class=\"sk-container\" hidden><div class=\"sk-item\"><div class=\"sk-estimator fitted sk-toggleable\"><input class=\"sk-toggleable__control sk-hidden--visually\" id=\"sk-estimator-id-3\" type=\"checkbox\" checked><label for=\"sk-estimator-id-3\" class=\"sk-toggleable__label fitted sk-toggleable__label-arrow\"><div><div>LassoCV</div></div><div><a class=\"sk-estimator-doc-link fitted\" rel=\"noreferrer\" target=\"_blank\" href=\"https://scikit-learn.org/1.7/modules/generated/sklearn.linear_model.LassoCV.html\">?<span>Documentation for LassoCV</span></a><span class=\"sk-estimator-doc-link fitted\">i<span>Fitted</span></span></div></label><div class=\"sk-toggleable__content fitted\" data-param-prefix=\"\">\n",
       "        <div class=\"estimator-table\">\n",
       "            <details>\n",
       "                <summary>Parameters</summary>\n",
       "                <table class=\"parameters-table\">\n",
       "                  <tbody>\n",
       "                    \n",
       "        <tr class=\"default\">\n",
       "            <td><i class=\"copy-paste-icon\"\n",
       "                 onclick=\"copyToClipboard('eps',\n",
       "                          this.parentElement.nextElementSibling)\"\n",
       "            ></i></td>\n",
       "            <td class=\"param\">eps&nbsp;</td>\n",
       "            <td class=\"value\">0.001</td>\n",
       "        </tr>\n",
       "    \n",
       "\n",
       "        <tr class=\"default\">\n",
       "            <td><i class=\"copy-paste-icon\"\n",
       "                 onclick=\"copyToClipboard('n_alphas',\n",
       "                          this.parentElement.nextElementSibling)\"\n",
       "            ></i></td>\n",
       "            <td class=\"param\">n_alphas&nbsp;</td>\n",
       "            <td class=\"value\">&#x27;deprecated&#x27;</td>\n",
       "        </tr>\n",
       "    \n",
       "\n",
       "        <tr class=\"user-set\">\n",
       "            <td><i class=\"copy-paste-icon\"\n",
       "                 onclick=\"copyToClipboard('alphas',\n",
       "                          this.parentElement.nextElementSibling)\"\n",
       "            ></i></td>\n",
       "            <td class=\"param\">alphas&nbsp;</td>\n",
       "            <td class=\"value\">array([1.0000...00000000e+02])</td>\n",
       "        </tr>\n",
       "    \n",
       "\n",
       "        <tr class=\"default\">\n",
       "            <td><i class=\"copy-paste-icon\"\n",
       "                 onclick=\"copyToClipboard('fit_intercept',\n",
       "                          this.parentElement.nextElementSibling)\"\n",
       "            ></i></td>\n",
       "            <td class=\"param\">fit_intercept&nbsp;</td>\n",
       "            <td class=\"value\">True</td>\n",
       "        </tr>\n",
       "    \n",
       "\n",
       "        <tr class=\"default\">\n",
       "            <td><i class=\"copy-paste-icon\"\n",
       "                 onclick=\"copyToClipboard('precompute',\n",
       "                          this.parentElement.nextElementSibling)\"\n",
       "            ></i></td>\n",
       "            <td class=\"param\">precompute&nbsp;</td>\n",
       "            <td class=\"value\">&#x27;auto&#x27;</td>\n",
       "        </tr>\n",
       "    \n",
       "\n",
       "        <tr class=\"user-set\">\n",
       "            <td><i class=\"copy-paste-icon\"\n",
       "                 onclick=\"copyToClipboard('max_iter',\n",
       "                          this.parentElement.nextElementSibling)\"\n",
       "            ></i></td>\n",
       "            <td class=\"param\">max_iter&nbsp;</td>\n",
       "            <td class=\"value\">10000</td>\n",
       "        </tr>\n",
       "    \n",
       "\n",
       "        <tr class=\"default\">\n",
       "            <td><i class=\"copy-paste-icon\"\n",
       "                 onclick=\"copyToClipboard('tol',\n",
       "                          this.parentElement.nextElementSibling)\"\n",
       "            ></i></td>\n",
       "            <td class=\"param\">tol&nbsp;</td>\n",
       "            <td class=\"value\">0.0001</td>\n",
       "        </tr>\n",
       "    \n",
       "\n",
       "        <tr class=\"default\">\n",
       "            <td><i class=\"copy-paste-icon\"\n",
       "                 onclick=\"copyToClipboard('copy_X',\n",
       "                          this.parentElement.nextElementSibling)\"\n",
       "            ></i></td>\n",
       "            <td class=\"param\">copy_X&nbsp;</td>\n",
       "            <td class=\"value\">True</td>\n",
       "        </tr>\n",
       "    \n",
       "\n",
       "        <tr class=\"user-set\">\n",
       "            <td><i class=\"copy-paste-icon\"\n",
       "                 onclick=\"copyToClipboard('cv',\n",
       "                          this.parentElement.nextElementSibling)\"\n",
       "            ></i></td>\n",
       "            <td class=\"param\">cv&nbsp;</td>\n",
       "            <td class=\"value\">5</td>\n",
       "        </tr>\n",
       "    \n",
       "\n",
       "        <tr class=\"default\">\n",
       "            <td><i class=\"copy-paste-icon\"\n",
       "                 onclick=\"copyToClipboard('verbose',\n",
       "                          this.parentElement.nextElementSibling)\"\n",
       "            ></i></td>\n",
       "            <td class=\"param\">verbose&nbsp;</td>\n",
       "            <td class=\"value\">False</td>\n",
       "        </tr>\n",
       "    \n",
       "\n",
       "        <tr class=\"default\">\n",
       "            <td><i class=\"copy-paste-icon\"\n",
       "                 onclick=\"copyToClipboard('n_jobs',\n",
       "                          this.parentElement.nextElementSibling)\"\n",
       "            ></i></td>\n",
       "            <td class=\"param\">n_jobs&nbsp;</td>\n",
       "            <td class=\"value\">None</td>\n",
       "        </tr>\n",
       "    \n",
       "\n",
       "        <tr class=\"default\">\n",
       "            <td><i class=\"copy-paste-icon\"\n",
       "                 onclick=\"copyToClipboard('positive',\n",
       "                          this.parentElement.nextElementSibling)\"\n",
       "            ></i></td>\n",
       "            <td class=\"param\">positive&nbsp;</td>\n",
       "            <td class=\"value\">False</td>\n",
       "        </tr>\n",
       "    \n",
       "\n",
       "        <tr class=\"default\">\n",
       "            <td><i class=\"copy-paste-icon\"\n",
       "                 onclick=\"copyToClipboard('random_state',\n",
       "                          this.parentElement.nextElementSibling)\"\n",
       "            ></i></td>\n",
       "            <td class=\"param\">random_state&nbsp;</td>\n",
       "            <td class=\"value\">None</td>\n",
       "        </tr>\n",
       "    \n",
       "\n",
       "        <tr class=\"default\">\n",
       "            <td><i class=\"copy-paste-icon\"\n",
       "                 onclick=\"copyToClipboard('selection',\n",
       "                          this.parentElement.nextElementSibling)\"\n",
       "            ></i></td>\n",
       "            <td class=\"param\">selection&nbsp;</td>\n",
       "            <td class=\"value\">&#x27;cyclic&#x27;</td>\n",
       "        </tr>\n",
       "    \n",
       "                  </tbody>\n",
       "                </table>\n",
       "            </details>\n",
       "        </div>\n",
       "    </div></div></div></div></div><script>function copyToClipboard(text, element) {\n",
       "    // Get the parameter prefix from the closest toggleable content\n",
       "    const toggleableContent = element.closest('.sk-toggleable__content');\n",
       "    const paramPrefix = toggleableContent ? toggleableContent.dataset.paramPrefix : '';\n",
       "    const fullParamName = paramPrefix ? `${paramPrefix}${text}` : text;\n",
       "\n",
       "    const originalStyle = element.style;\n",
       "    const computedStyle = window.getComputedStyle(element);\n",
       "    const originalWidth = computedStyle.width;\n",
       "    const originalHTML = element.innerHTML.replace('Copied!', '');\n",
       "\n",
       "    navigator.clipboard.writeText(fullParamName)\n",
       "        .then(() => {\n",
       "            element.style.width = originalWidth;\n",
       "            element.style.color = 'green';\n",
       "            element.innerHTML = \"Copied!\";\n",
       "\n",
       "            setTimeout(() => {\n",
       "                element.innerHTML = originalHTML;\n",
       "                element.style = originalStyle;\n",
       "            }, 2000);\n",
       "        })\n",
       "        .catch(err => {\n",
       "            console.error('Failed to copy:', err);\n",
       "            element.style.color = 'red';\n",
       "            element.innerHTML = \"Failed!\";\n",
       "            setTimeout(() => {\n",
       "                element.innerHTML = originalHTML;\n",
       "                element.style = originalStyle;\n",
       "            }, 2000);\n",
       "        });\n",
       "    return false;\n",
       "}\n",
       "\n",
       "document.querySelectorAll('.fa-regular.fa-copy').forEach(function(element) {\n",
       "    const toggleableContent = element.closest('.sk-toggleable__content');\n",
       "    const paramPrefix = toggleableContent ? toggleableContent.dataset.paramPrefix : '';\n",
       "    const paramName = element.parentElement.nextElementSibling.textContent.trim();\n",
       "    const fullParamName = paramPrefix ? `${paramPrefix}${paramName}` : paramName;\n",
       "\n",
       "    element.setAttribute('title', fullParamName);\n",
       "});\n",
       "</script></body>"
      ],
      "text/plain": [
       "LassoCV(alphas=array([1.00000000e-05, 1.17681195e-05, 1.38488637e-05, 1.62975083e-05,\n",
       "       1.91791026e-05, 2.25701972e-05, 2.65608778e-05, 3.12571585e-05,\n",
       "       3.67837977e-05, 4.32876128e-05, 5.09413801e-05, 5.99484250e-05,\n",
       "       7.05480231e-05, 8.30217568e-05, 9.77009957e-05, 1.14975700e-04,\n",
       "       1.35304777e-04, 1.59228279e-04, 1.87381742e-04, 2.20513074e-04,\n",
       "       2.59502421e-04, 3.05385551e-0...\n",
       "       2.36448941e+00, 2.78255940e+00, 3.27454916e+00, 3.85352859e+00,\n",
       "       4.53487851e+00, 5.33669923e+00, 6.28029144e+00, 7.39072203e+00,\n",
       "       8.69749003e+00, 1.02353102e+01, 1.20450354e+01, 1.41747416e+01,\n",
       "       1.66810054e+01, 1.96304065e+01, 2.31012970e+01, 2.71858824e+01,\n",
       "       3.19926714e+01, 3.76493581e+01, 4.43062146e+01, 5.21400829e+01,\n",
       "       6.13590727e+01, 7.22080902e+01, 8.49753436e+01, 1.00000000e+02]),\n",
       "        cv=5, max_iter=10000)"
      ]
     },
     "execution_count": 22,
     "metadata": {},
     "output_type": "execute_result"
    }
   ],
   "source": [
    "lasso_cv_model = LassoCV(alphas=np.logspace(-5, 2, num=100), cv=5, max_iter=10000)\n",
    "\n",
    "# Fit the LassoCV model to the scaled training data\n",
    "lasso_cv_model.fit(X1, y0)\n"
   ]
  },
  {
   "cell_type": "code",
   "execution_count": 23,
   "metadata": {
    "colab": {
     "base_uri": "https://localhost:8080/"
    },
    "executionInfo": {
     "elapsed": 310,
     "status": "ok",
     "timestamp": 1721196107967,
     "user": {
      "displayName": "Yong Song",
      "userId": "00576951217859821315"
     },
     "user_tz": -600
    },
    "id": "PScl6zu17W7F",
    "outputId": "6334ca4e-1532-455c-a789-76f541cf534e"
   },
   "outputs": [
    {
     "name": "stdout",
     "output_type": "stream",
     "text": [
      "Optimal Alpha: 0.01788649529057435\n"
     ]
    }
   ],
   "source": [
    "# The optimal alpha selected by cross-validation\n",
    "optimal_alpha = lasso_cv_model.alpha_\n",
    "print(\"Optimal Alpha:\", optimal_alpha)"
   ]
  },
  {
   "cell_type": "code",
   "execution_count": 24,
   "metadata": {
    "colab": {
     "base_uri": "https://localhost:8080/"
    },
    "executionInfo": {
     "elapsed": 318,
     "status": "ok",
     "timestamp": 1721196116014,
     "user": {
      "displayName": "Yong Song",
      "userId": "00576951217859821315"
     },
     "user_tz": -600
    },
    "id": "FOsNXPtB7hnT",
    "outputId": "51f20c20-12d7-43ef-82d1-901476b36c6d"
   },
   "outputs": [
    {
     "data": {
      "text/plain": [
       "8"
      ]
     },
     "execution_count": 24,
     "metadata": {},
     "output_type": "execute_result"
    }
   ],
   "source": [
    "lasso_model = Lasso(alpha=optimal_alpha)\n",
    "lasso_model.fit(X1, y0)\n",
    "sum(lasso_model.coef_!=0)"
   ]
  },
  {
   "cell_type": "code",
   "execution_count": 25,
   "metadata": {
    "colab": {
     "base_uri": "https://localhost:8080/",
     "height": 542
    },
    "executionInfo": {
     "elapsed": 354,
     "status": "ok",
     "timestamp": 1721196142722,
     "user": {
      "displayName": "Yong Song",
      "userId": "00576951217859821315"
     },
     "user_tz": -600
    },
    "id": "EgxTbnWVx0H-",
    "outputId": "d2fe7e95-fd5a-4ff1-dd8b-f1101e232428"
   },
   "outputs": [
    {
     "data": {
      "application/vnd.plotly.v1+json": {
       "config": {
        "plotlyServerURL": "https://plot.ly"
       },
       "data": [
        {
         "error_y": {
          "array": {
           "bdata": "D3rSfqZDoz8PetJ+pkOjPw960n6mQ6M/D3rSfqZDoz8PetJ+pkOjPw960n6mQ6M/D3rSfqZDoz8PetJ+pkOjPw960n6mQ6M/D3rSfqZDoz8PetJ+pkOjPw960n6mQ6M/D3rSfqZDoz8PetJ+pkOjPw960n6mQ6M/D3rSfqZDoz8PetJ+pkOjPw960n6mQ6M/D3rSfqZDoz8PetJ+pkOjPw960n6mQ6M/D3rSfqZDoz8PetJ+pkOjPw960n6mQ6M/D3rSfqZDoz8PetJ+pkOjPw960n6mQ6M/D3rSfqZDoz8PetJ+pkOjPw960n6mQ6M/D3rSfqZDoz8PetJ+pkOjPw960n6mQ6M/D3rSfqZDoz8PetJ+pkOjPw960n6mQ6M/D3rSfqZDoz8PetJ+pkOjPw960n6mQ6M/D3rSfqZDoz8PetJ+pkOjPw960n6mQ6M/D3rSfqZDoz8PetJ+pkOjPw960n6mQ6M/D3rSfqZDoz8PetJ+pkOjPw960n6mQ6M/JcgupZlDoz95jHbaPkajP8vvWNFZTKM/RqIqXl1Yoz+5f2zuLGajP2c1m+kRb6M/oZQBGSxYoz8VuMDjmTWjP0ZDQrLW8qI/s3Q3XlWqoj8sxkezYWyiP/2H+TX6MaI/zGg1WsDpoT9cZkFFoZOhP8LcC/qdPaE/vDPJygvcoD+r685AeIKgP+/c3TpnLKA/KAmKg2fAnz/VD8JmsT2fPw2vh4Xs454/l37PqLWWnj9nSR2Y3DSeP2cYsheIGZ4/C1WkE0Q0nj/i5cVqb2GeP425HVjlyZ4/hnDOrFNInz+UDYK7pcufP7iQVixPMKA/+SjRPV9woD/zsKvbiq2gP1LfysQNg6E/AopM4SLaoj+Z2DWE6WamP30qof/vV64/oFBqC+omtD/PfO+meQS6P4sRegRcyr4/M6TJPF8Owj9c8kmsU5LEP3f/N6KCAMc/Jd8U6ZYvyT9HeqRnwwTLPxSkfAC1ucw/eRPVRThNzj8HlrQ1rZvPP+LN+rI4WtA/RHHYU3nZ0D8l7SfWvznRP0e7/IFOltE/d64kflza0T8=",
           "dtype": "f8"
          },
          "type": "data"
         },
         "hovertemplate": "alpha=%{x}<br>mse=%{y}<extra></extra>",
         "legendgroup": "",
         "line": {
          "color": "#636efa",
          "dash": "solid"
         },
         "marker": {
          "symbol": "circle"
         },
         "mode": "lines",
         "name": "",
         "orientation": "v",
         "showlegend": false,
         "type": "scatter",
         "x": {
          "bdata": "AAAAAAAAWUAMSIYHbD5VQImRfVlRDVJAhv1oGPatTkBxKF487hFKQJ1kCgoyJ0ZAppBIKh7TQkCrEiC2H/4/QOdHov2VLztAKMGpme4ZN0BUagZSYqEzQJIkOV5WrjBAfOkdvHdZLEC/jVrhDhcoQJf0vZR6eCRAonCnaR1lIUB/R89vGZAdQGsbQLgEHxlARnrqrsdYFUBs+w4xtyMSQC2AocwG1A5AzqHd1EYyCkBdQf2ArkIGQPVm2Gx56gJAbnygwOgSAECPAnoCUVH7P2TFuzyYNvc/eySugL258z+xGFC8CMPwP5KNzFikfOw/Eg6PlPI06D/5GrCj4JHkP5I/JY+yeuE/588Ldse03T8QaNnsLz7ZP5TNXwpEc9U//bTR0jg60j/4iXi7RvrOP7SwaI/HUso/oNxXEk1exj/sWhmq8QHDP3YDQEbaJsA/jVcc4TVzuz9uiuJvZVO3P7JBj+c20rM/kB1JyNTXsD+HNteZ/J+sP6LEg137Uqg/oC/7NWarpD87ouR7YpChP7Zp1v6i2Z0/UROMzYFdmT9dy3lC4Y2VP7KWQGHWUJI/lWOHH7Ygjz+aucqdcHOKP4ZaaugNeoY/vBIABocZgz/0THyK5DqAP2FHds1ElXs/mtY9X1Zwdz+DYSiszupzP7CpAKK67HA/QttjtYDDbD8Y8jtqKXFoP1youHILxWQ/TysfUS2mYT98XKZCrP5dP8iJU4r6fFk/VFX+f5+oVT+sQAH/j2dSP4gKsDNVR08/QOkMMkKUSj/tXrkt8ZVGP/nQraQ5MUM/NvAIrAdPQD/MP7X7fbc7PzcvJDdrjTc/0Kgm9IQDND+ju3ppugExP92h2+Ew5yw/9+3z6HyPKD8RfjKB0N4kP7imNzATvCE/IP84euMjHj9WwGZTmpwZP8/j5et+wxU/AVDkzmV+Ej8Nix0zJG4PPymBdn48tQo/u07+DPexBj9MrHCqCUkDPyacv8lDYwA/jmtHoOHZ+z6mHCMkpKr3PpP7ZeVZHPQ++ArjPtQW8T7JMutVDQvtPpxtIQj2reg+8WjjiLX45D4=",
          "dtype": "f8"
         },
         "xaxis": "x",
         "y": {
          "bdata": "DnyN1iNnsD8OfI3WI2ewPw58jdYjZ7A/DnyN1iNnsD8OfI3WI2ewPw58jdYjZ7A/DnyN1iNnsD8OfI3WI2ewPw58jdYjZ7A/DnyN1iNnsD8OfI3WI2ewPw58jdYjZ7A/DnyN1iNnsD8OfI3WI2ewPw58jdYjZ7A/DnyN1iNnsD8OfI3WI2ewPw58jdYjZ7A/DnyN1iNnsD8OfI3WI2ewPw58jdYjZ7A/DnyN1iNnsD8OfI3WI2ewPw58jdYjZ7A/DnyN1iNnsD8OfI3WI2ewPw58jdYjZ7A/DnyN1iNnsD8OfI3WI2ewPw58jdYjZ7A/DnyN1iNnsD8OfI3WI2ewPw58jdYjZ7A/DnyN1iNnsD8OfI3WI2ewPw58jdYjZ7A/DnyN1iNnsD8OfI3WI2ewPw58jdYjZ7A/DnyN1iNnsD8OfI3WI2ewPw58jdYjZ7A/DnyN1iNnsD8OfI3WI2ewPw58jdYjZ7A/DnyN1iNnsD8OfI3WI2ewPw58jdYjZ7A/gAO+mmBnsD9pxz99+WWwP+5JFn9kYbA/yhbFs2pYsD8+7RAh50uwP0CnEgjySbA/huysPwpOsD+gJ/QStViwP5tiVIrNZLA/8x0S1BJysD/eQpMbhICwP1DBEJfxj7A/o5JJOVijsD/Hf36+lr2wP461ETv+3rA/Pf9kMXD/sD8Mkf52wCSxP/u4c178SbE/gYi90Jl1sT8K8dcUkaSxPxffeOmi27E/oiexvm0Wsj9vDKBETk6yPxKkhfq1irI/Ep1gVy/Isj+tTaWrgBOzP8sHAKAvabM/cSvqF9iusz8o9BPAFO2zPwFS5ui8IbQ/TRv36aVStD95qlGYUaC0P0qxr93J3rU/LGNWaPoKtz+TMg1tgva4P8Py2rDdurs/2O34TWeyvj/UM5SWCvvAPxyJXrIoScI/2p+zpwTTwz9nWROKV0zFP+4nOzMQucY/oynivuX6xz91KPqgNQrJP5J5E11+Eco/UoaG1Ej1yj9tyvRdEOXLP2ik3iolzsw/upFO+fh6zT9CV/XnVVzOP0jaesbM6M4/as/e/Q+tzz8=",
          "dtype": "f8"
         },
         "yaxis": "y"
        }
       ],
       "layout": {
        "legend": {
         "tracegroupgap": 0
        },
        "margin": {
         "t": 60
        },
        "template": {
         "data": {
          "bar": [
           {
            "error_x": {
             "color": "#2a3f5f"
            },
            "error_y": {
             "color": "#2a3f5f"
            },
            "marker": {
             "line": {
              "color": "#E5ECF6",
              "width": 0.5
             },
             "pattern": {
              "fillmode": "overlay",
              "size": 10,
              "solidity": 0.2
             }
            },
            "type": "bar"
           }
          ],
          "barpolar": [
           {
            "marker": {
             "line": {
              "color": "#E5ECF6",
              "width": 0.5
             },
             "pattern": {
              "fillmode": "overlay",
              "size": 10,
              "solidity": 0.2
             }
            },
            "type": "barpolar"
           }
          ],
          "carpet": [
           {
            "aaxis": {
             "endlinecolor": "#2a3f5f",
             "gridcolor": "white",
             "linecolor": "white",
             "minorgridcolor": "white",
             "startlinecolor": "#2a3f5f"
            },
            "baxis": {
             "endlinecolor": "#2a3f5f",
             "gridcolor": "white",
             "linecolor": "white",
             "minorgridcolor": "white",
             "startlinecolor": "#2a3f5f"
            },
            "type": "carpet"
           }
          ],
          "choropleth": [
           {
            "colorbar": {
             "outlinewidth": 0,
             "ticks": ""
            },
            "type": "choropleth"
           }
          ],
          "contour": [
           {
            "colorbar": {
             "outlinewidth": 0,
             "ticks": ""
            },
            "colorscale": [
             [
              0,
              "#0d0887"
             ],
             [
              0.1111111111111111,
              "#46039f"
             ],
             [
              0.2222222222222222,
              "#7201a8"
             ],
             [
              0.3333333333333333,
              "#9c179e"
             ],
             [
              0.4444444444444444,
              "#bd3786"
             ],
             [
              0.5555555555555556,
              "#d8576b"
             ],
             [
              0.6666666666666666,
              "#ed7953"
             ],
             [
              0.7777777777777778,
              "#fb9f3a"
             ],
             [
              0.8888888888888888,
              "#fdca26"
             ],
             [
              1,
              "#f0f921"
             ]
            ],
            "type": "contour"
           }
          ],
          "contourcarpet": [
           {
            "colorbar": {
             "outlinewidth": 0,
             "ticks": ""
            },
            "type": "contourcarpet"
           }
          ],
          "heatmap": [
           {
            "colorbar": {
             "outlinewidth": 0,
             "ticks": ""
            },
            "colorscale": [
             [
              0,
              "#0d0887"
             ],
             [
              0.1111111111111111,
              "#46039f"
             ],
             [
              0.2222222222222222,
              "#7201a8"
             ],
             [
              0.3333333333333333,
              "#9c179e"
             ],
             [
              0.4444444444444444,
              "#bd3786"
             ],
             [
              0.5555555555555556,
              "#d8576b"
             ],
             [
              0.6666666666666666,
              "#ed7953"
             ],
             [
              0.7777777777777778,
              "#fb9f3a"
             ],
             [
              0.8888888888888888,
              "#fdca26"
             ],
             [
              1,
              "#f0f921"
             ]
            ],
            "type": "heatmap"
           }
          ],
          "histogram": [
           {
            "marker": {
             "pattern": {
              "fillmode": "overlay",
              "size": 10,
              "solidity": 0.2
             }
            },
            "type": "histogram"
           }
          ],
          "histogram2d": [
           {
            "colorbar": {
             "outlinewidth": 0,
             "ticks": ""
            },
            "colorscale": [
             [
              0,
              "#0d0887"
             ],
             [
              0.1111111111111111,
              "#46039f"
             ],
             [
              0.2222222222222222,
              "#7201a8"
             ],
             [
              0.3333333333333333,
              "#9c179e"
             ],
             [
              0.4444444444444444,
              "#bd3786"
             ],
             [
              0.5555555555555556,
              "#d8576b"
             ],
             [
              0.6666666666666666,
              "#ed7953"
             ],
             [
              0.7777777777777778,
              "#fb9f3a"
             ],
             [
              0.8888888888888888,
              "#fdca26"
             ],
             [
              1,
              "#f0f921"
             ]
            ],
            "type": "histogram2d"
           }
          ],
          "histogram2dcontour": [
           {
            "colorbar": {
             "outlinewidth": 0,
             "ticks": ""
            },
            "colorscale": [
             [
              0,
              "#0d0887"
             ],
             [
              0.1111111111111111,
              "#46039f"
             ],
             [
              0.2222222222222222,
              "#7201a8"
             ],
             [
              0.3333333333333333,
              "#9c179e"
             ],
             [
              0.4444444444444444,
              "#bd3786"
             ],
             [
              0.5555555555555556,
              "#d8576b"
             ],
             [
              0.6666666666666666,
              "#ed7953"
             ],
             [
              0.7777777777777778,
              "#fb9f3a"
             ],
             [
              0.8888888888888888,
              "#fdca26"
             ],
             [
              1,
              "#f0f921"
             ]
            ],
            "type": "histogram2dcontour"
           }
          ],
          "mesh3d": [
           {
            "colorbar": {
             "outlinewidth": 0,
             "ticks": ""
            },
            "type": "mesh3d"
           }
          ],
          "parcoords": [
           {
            "line": {
             "colorbar": {
              "outlinewidth": 0,
              "ticks": ""
             }
            },
            "type": "parcoords"
           }
          ],
          "pie": [
           {
            "automargin": true,
            "type": "pie"
           }
          ],
          "scatter": [
           {
            "fillpattern": {
             "fillmode": "overlay",
             "size": 10,
             "solidity": 0.2
            },
            "type": "scatter"
           }
          ],
          "scatter3d": [
           {
            "line": {
             "colorbar": {
              "outlinewidth": 0,
              "ticks": ""
             }
            },
            "marker": {
             "colorbar": {
              "outlinewidth": 0,
              "ticks": ""
             }
            },
            "type": "scatter3d"
           }
          ],
          "scattercarpet": [
           {
            "marker": {
             "colorbar": {
              "outlinewidth": 0,
              "ticks": ""
             }
            },
            "type": "scattercarpet"
           }
          ],
          "scattergeo": [
           {
            "marker": {
             "colorbar": {
              "outlinewidth": 0,
              "ticks": ""
             }
            },
            "type": "scattergeo"
           }
          ],
          "scattergl": [
           {
            "marker": {
             "colorbar": {
              "outlinewidth": 0,
              "ticks": ""
             }
            },
            "type": "scattergl"
           }
          ],
          "scattermap": [
           {
            "marker": {
             "colorbar": {
              "outlinewidth": 0,
              "ticks": ""
             }
            },
            "type": "scattermap"
           }
          ],
          "scattermapbox": [
           {
            "marker": {
             "colorbar": {
              "outlinewidth": 0,
              "ticks": ""
             }
            },
            "type": "scattermapbox"
           }
          ],
          "scatterpolar": [
           {
            "marker": {
             "colorbar": {
              "outlinewidth": 0,
              "ticks": ""
             }
            },
            "type": "scatterpolar"
           }
          ],
          "scatterpolargl": [
           {
            "marker": {
             "colorbar": {
              "outlinewidth": 0,
              "ticks": ""
             }
            },
            "type": "scatterpolargl"
           }
          ],
          "scatterternary": [
           {
            "marker": {
             "colorbar": {
              "outlinewidth": 0,
              "ticks": ""
             }
            },
            "type": "scatterternary"
           }
          ],
          "surface": [
           {
            "colorbar": {
             "outlinewidth": 0,
             "ticks": ""
            },
            "colorscale": [
             [
              0,
              "#0d0887"
             ],
             [
              0.1111111111111111,
              "#46039f"
             ],
             [
              0.2222222222222222,
              "#7201a8"
             ],
             [
              0.3333333333333333,
              "#9c179e"
             ],
             [
              0.4444444444444444,
              "#bd3786"
             ],
             [
              0.5555555555555556,
              "#d8576b"
             ],
             [
              0.6666666666666666,
              "#ed7953"
             ],
             [
              0.7777777777777778,
              "#fb9f3a"
             ],
             [
              0.8888888888888888,
              "#fdca26"
             ],
             [
              1,
              "#f0f921"
             ]
            ],
            "type": "surface"
           }
          ],
          "table": [
           {
            "cells": {
             "fill": {
              "color": "#EBF0F8"
             },
             "line": {
              "color": "white"
             }
            },
            "header": {
             "fill": {
              "color": "#C8D4E3"
             },
             "line": {
              "color": "white"
             }
            },
            "type": "table"
           }
          ]
         },
         "layout": {
          "annotationdefaults": {
           "arrowcolor": "#2a3f5f",
           "arrowhead": 0,
           "arrowwidth": 1
          },
          "autotypenumbers": "strict",
          "coloraxis": {
           "colorbar": {
            "outlinewidth": 0,
            "ticks": ""
           }
          },
          "colorscale": {
           "diverging": [
            [
             0,
             "#8e0152"
            ],
            [
             0.1,
             "#c51b7d"
            ],
            [
             0.2,
             "#de77ae"
            ],
            [
             0.3,
             "#f1b6da"
            ],
            [
             0.4,
             "#fde0ef"
            ],
            [
             0.5,
             "#f7f7f7"
            ],
            [
             0.6,
             "#e6f5d0"
            ],
            [
             0.7,
             "#b8e186"
            ],
            [
             0.8,
             "#7fbc41"
            ],
            [
             0.9,
             "#4d9221"
            ],
            [
             1,
             "#276419"
            ]
           ],
           "sequential": [
            [
             0,
             "#0d0887"
            ],
            [
             0.1111111111111111,
             "#46039f"
            ],
            [
             0.2222222222222222,
             "#7201a8"
            ],
            [
             0.3333333333333333,
             "#9c179e"
            ],
            [
             0.4444444444444444,
             "#bd3786"
            ],
            [
             0.5555555555555556,
             "#d8576b"
            ],
            [
             0.6666666666666666,
             "#ed7953"
            ],
            [
             0.7777777777777778,
             "#fb9f3a"
            ],
            [
             0.8888888888888888,
             "#fdca26"
            ],
            [
             1,
             "#f0f921"
            ]
           ],
           "sequentialminus": [
            [
             0,
             "#0d0887"
            ],
            [
             0.1111111111111111,
             "#46039f"
            ],
            [
             0.2222222222222222,
             "#7201a8"
            ],
            [
             0.3333333333333333,
             "#9c179e"
            ],
            [
             0.4444444444444444,
             "#bd3786"
            ],
            [
             0.5555555555555556,
             "#d8576b"
            ],
            [
             0.6666666666666666,
             "#ed7953"
            ],
            [
             0.7777777777777778,
             "#fb9f3a"
            ],
            [
             0.8888888888888888,
             "#fdca26"
            ],
            [
             1,
             "#f0f921"
            ]
           ]
          },
          "colorway": [
           "#636efa",
           "#EF553B",
           "#00cc96",
           "#ab63fa",
           "#FFA15A",
           "#19d3f3",
           "#FF6692",
           "#B6E880",
           "#FF97FF",
           "#FECB52"
          ],
          "font": {
           "color": "#2a3f5f"
          },
          "geo": {
           "bgcolor": "white",
           "lakecolor": "white",
           "landcolor": "#E5ECF6",
           "showlakes": true,
           "showland": true,
           "subunitcolor": "white"
          },
          "hoverlabel": {
           "align": "left"
          },
          "hovermode": "closest",
          "mapbox": {
           "style": "light"
          },
          "paper_bgcolor": "white",
          "plot_bgcolor": "#E5ECF6",
          "polar": {
           "angularaxis": {
            "gridcolor": "white",
            "linecolor": "white",
            "ticks": ""
           },
           "bgcolor": "#E5ECF6",
           "radialaxis": {
            "gridcolor": "white",
            "linecolor": "white",
            "ticks": ""
           }
          },
          "scene": {
           "xaxis": {
            "backgroundcolor": "#E5ECF6",
            "gridcolor": "white",
            "gridwidth": 2,
            "linecolor": "white",
            "showbackground": true,
            "ticks": "",
            "zerolinecolor": "white"
           },
           "yaxis": {
            "backgroundcolor": "#E5ECF6",
            "gridcolor": "white",
            "gridwidth": 2,
            "linecolor": "white",
            "showbackground": true,
            "ticks": "",
            "zerolinecolor": "white"
           },
           "zaxis": {
            "backgroundcolor": "#E5ECF6",
            "gridcolor": "white",
            "gridwidth": 2,
            "linecolor": "white",
            "showbackground": true,
            "ticks": "",
            "zerolinecolor": "white"
           }
          },
          "shapedefaults": {
           "line": {
            "color": "#2a3f5f"
           }
          },
          "ternary": {
           "aaxis": {
            "gridcolor": "white",
            "linecolor": "white",
            "ticks": ""
           },
           "baxis": {
            "gridcolor": "white",
            "linecolor": "white",
            "ticks": ""
           },
           "bgcolor": "#E5ECF6",
           "caxis": {
            "gridcolor": "white",
            "linecolor": "white",
            "ticks": ""
           }
          },
          "title": {
           "x": 0.05
          },
          "xaxis": {
           "automargin": true,
           "gridcolor": "white",
           "linecolor": "white",
           "ticks": "",
           "title": {
            "standoff": 15
           },
           "zerolinecolor": "white",
           "zerolinewidth": 2
          },
          "yaxis": {
           "automargin": true,
           "gridcolor": "white",
           "linecolor": "white",
           "ticks": "",
           "title": {
            "standoff": 15
           },
           "zerolinecolor": "white",
           "zerolinewidth": 2
          }
         }
        },
        "title": {
         "text": "Lasso Cross-Validation Results"
        },
        "xaxis": {
         "anchor": "y",
         "domain": [
          0,
          1
         ],
         "title": {
          "text": "Alpha"
         },
         "type": "log"
        },
        "yaxis": {
         "anchor": "x",
         "domain": [
          0,
          1
         ],
         "title": {
          "text": "Mean Squared Error"
         }
        }
       }
      }
     },
     "metadata": {},
     "output_type": "display_data"
    }
   ],
   "source": [
    "cv_results = pd.DataFrame({'alpha': lasso_cv_model.alphas_,\n",
    "                           'mse': np.mean(lasso_cv_model.mse_path_, axis=1),\n",
    "                           'std_error': np.std(lasso_cv_model.mse_path_, axis=1)})\n",
    "\n",
    "fig = px.line(cv_results, x='alpha', y='mse')\n",
    "fig.update_layout(title='Lasso Cross-Validation Results',\n",
    "                  xaxis_title='Alpha',\n",
    "                  xaxis_type='log',\n",
    "                  yaxis_title='Mean Squared Error')\n",
    "fig.update_traces(error_y=dict(type='data', array=cv_results['std_error']))\n",
    "\n",
    "\n",
    "fig.show()"
   ]
  },
  {
   "cell_type": "markdown",
   "metadata": {},
   "source": [
    "## Pipeline and GridSearchCV "
   ]
  },
  {
   "cell_type": "code",
   "execution_count": null,
   "metadata": {},
   "outputs": [
    {
     "name": "stdout",
     "output_type": "stream",
     "text": [
      "Best alpha: 0.018738174228603847\n"
     ]
    }
   ],
   "source": [
    "pipe = Pipeline([\n",
    "    ('scaler', StandardScaler()),\n",
    "    ('model', Lasso(max_iter=10000))  \n",
    "])\n",
    "\n",
    "alphas = np.logspace(-5, 1, 100)\n",
    "param_grid = {'model__alpha': alphas}\n",
    "\n",
    "grid = GridSearchCV(pipe, param_grid, scoring='neg_mean_squared_error', cv=5)\n",
    "grid.fit(X1, y0)\n",
    "\n",
    "# best model and alpha\n",
    "best_model = grid.best_estimator_\n",
    "best_alpha = grid.best_params_['model__alpha']\n",
    "print(\"Best alpha:\", best_alpha)"
   ]
  },
  {
   "cell_type": "markdown",
   "metadata": {},
   "source": [
    "Use Pipeline and GridSearchCV to re-do the Logistic Regression model selection."
   ]
  },
  {
   "cell_type": "code",
   "execution_count": null,
   "metadata": {},
   "outputs": [
    {
     "name": "stdout",
     "output_type": "stream",
     "text": [
      "Fitting 5 folds for each of 100 candidates, totalling 500 fits\n",
      "Best C: 0.001\n"
     ]
    }
   ],
   "source": [
    "pipe = Pipeline([\n",
    "    ('scaler', StandardScaler()),\n",
    "    ('model', LogisticRegression(penalty='l1', solver='saga', max_iter=10000))  \n",
    "])\n",
    "\n",
    "Cs = np.logspace(-3, 2, num=100)\n",
    "param_grid = {'model__C': Cs}\n",
    "\n",
    "grid = GridSearchCV(pipe, param_grid, scoring='accuracy', cv=5, verbose=1, n_jobs=-1) # n_jobs makes parallelisation\n",
    "grid.fit(X1, y0)\n",
    "\n",
    "# best model and alpha\n",
    "best_model = grid.best_estimator_\n",
    "best_C = grid.best_params_['model__C']\n",
    "print(\"Best C:\", best_C)"
   ]
  },
  {
   "cell_type": "markdown",
   "metadata": {
    "id": "SIiB86xTz6_I"
   },
   "source": [
    "## Elastic net"
   ]
  },
  {
   "cell_type": "code",
   "execution_count": 9,
   "metadata": {
    "colab": {
     "base_uri": "https://localhost:8080/"
    },
    "executionInfo": {
     "elapsed": 359,
     "status": "ok",
     "timestamp": 1721196195889,
     "user": {
      "displayName": "Yong Song",
      "userId": "00576951217859821315"
     },
     "user_tz": -600
    },
    "id": "6P6l-3o0y1Bn",
    "outputId": "058b315d-2ebb-4ce6-8d7b-30877f7aab5c"
   },
   "outputs": [
    {
     "name": "stdout",
     "output_type": "stream",
     "text": [
      "Elastic Net Regression Results\n",
      "------------------------------\n",
      "Alpha: 0.5\n",
      "L1 Ratio: 0.5\n",
      "Mean Squared Error: 0.06\n",
      "\n",
      "Coefficients:\n",
      "    Coefficient    Value\n",
      "0        coef_1  -0.0000\n",
      "1        coef_2  -0.0000\n",
      "2        coef_3   0.0000\n",
      "3        coef_4  -0.0000\n",
      "4        coef_5   0.0000\n",
      "..          ...      ...\n",
      "195    coef_196  -0.0000\n",
      "196    coef_197  -0.0000\n",
      "197    coef_198   0.0000\n",
      "198    coef_199  -0.0000\n",
      "199    coef_200  -0.0000\n",
      "\n",
      "[200 rows x 2 columns]\n",
      "\n",
      "Intercept: 0.06770480704129993\n",
      "\n",
      "non-zero values: 0\n"
     ]
    }
   ],
   "source": [
    "alpha = .5\n",
    "l1_ratio = 0.5\n",
    "elastic_net = ElasticNet(alpha=alpha, l1_ratio=l1_ratio, random_state=42)\n",
    "elastic_net.fit(X1, y0)\n",
    "y_pred = elastic_net.predict(X1)\n",
    "mse = mean_squared_error(y0, y_pred)\n",
    "# Print results\n",
    "print(\"Elastic Net Regression Results\")\n",
    "print(\"-\" * 30)\n",
    "print(f\"Alpha: {alpha}\")\n",
    "print(f\"L1 Ratio: {l1_ratio}\")\n",
    "print(f\"Mean Squared Error: {mse:.2f}\")\n",
    "print(\"\\nCoefficients:\")\n",
    "coef_names = [f\"coef_{i+1}\" for i in range(len(elastic_net.coef_))]\n",
    "coef_values = [f\"{coef:.4f}\" for coef in elastic_net.coef_]\n",
    "coef_df = pd.DataFrame({\"Coefficient\": coef_names, \"Value\": coef_values})\n",
    "print(coef_df)\n",
    "print(\"\\nIntercept:\", elastic_net.intercept_)\n",
    "print(\"\\nnon-zero values:\", np.sum(elastic_net.coef_!=0))"
   ]
  },
  {
   "cell_type": "code",
   "execution_count": 10,
   "metadata": {
    "colab": {
     "base_uri": "https://localhost:8080/"
    },
    "executionInfo": {
     "elapsed": 29648,
     "status": "ok",
     "timestamp": 1721196237537,
     "user": {
      "displayName": "Yong Song",
      "userId": "00576951217859821315"
     },
     "user_tz": -600
    },
    "id": "BLKihv7_1jAh",
    "outputId": "59b6b567-885f-44a2-d0f1-c0d38e31c82f"
   },
   "outputs": [],
   "source": [
    "# elastic net and cross-validation\n",
    "alphas = np.logspace(-6, 2, 100)  # Range of alpha values to test\n",
    "l1_ratios = [0.1, 0.5, 0.7, 0.9, 0.95, 0.99, 1]  # Range of l1_ratio values to test\n",
    "\n",
    "elastic_net = ElasticNetCV(alphas=alphas, l1_ratio=l1_ratios, cv=5, max_iter=10000, n_jobs=-1)\n",
    "elastic_net.fit(X1, y0)\n",
    "\n",
    "best_alpha = elastic_net.alpha_\n",
    "best_l1_ratio = elastic_net.l1_ratio_"
   ]
  },
  {
   "cell_type": "code",
   "execution_count": 11,
   "metadata": {
    "colab": {
     "base_uri": "https://localhost:8080/"
    },
    "executionInfo": {
     "elapsed": 337,
     "status": "ok",
     "timestamp": 1721196242862,
     "user": {
      "displayName": "Yong Song",
      "userId": "00576951217859821315"
     },
     "user_tz": -600
    },
    "id": "stR4kYHv3Yyn",
    "outputId": "105d8ace-a551-4713-ba74-526639c81d2e"
   },
   "outputs": [
    {
     "name": "stdout",
     "output_type": "stream",
     "text": [
      "0.019179102616724886 0.99\n"
     ]
    }
   ],
   "source": [
    "print(best_alpha, best_l1_ratio)"
   ]
  },
  {
   "cell_type": "markdown",
   "metadata": {
    "id": "5YtxywCfSYCZ"
   },
   "source": [
    "# Browser Data\n",
    "\n",
    "More realistic now..."
   ]
  },
  {
   "cell_type": "code",
   "execution_count": 12,
   "metadata": {
    "colab": {
     "base_uri": "https://localhost:8080/",
     "height": 206
    },
    "executionInfo": {
     "elapsed": 4961,
     "status": "ok",
     "timestamp": 1721201719153,
     "user": {
      "displayName": "Yong Song",
      "userId": "00576951217859821315"
     },
     "user_tz": -600
    },
    "id": "RLq0UomGSjdA",
    "outputId": "f375d09d-744d-4786-8df4-52cf2502f25b"
   },
   "outputs": [
    {
     "data": {
      "text/html": [
       "<div>\n",
       "<style scoped>\n",
       "    .dataframe tbody tr th:only-of-type {\n",
       "        vertical-align: middle;\n",
       "    }\n",
       "\n",
       "    .dataframe tbody tr th {\n",
       "        vertical-align: top;\n",
       "    }\n",
       "\n",
       "    .dataframe thead th {\n",
       "        text-align: right;\n",
       "    }\n",
       "</style>\n",
       "<table border=\"1\" class=\"dataframe\">\n",
       "  <thead>\n",
       "    <tr style=\"text-align: right;\">\n",
       "      <th></th>\n",
       "      <th>id</th>\n",
       "      <th>site</th>\n",
       "      <th>visits</th>\n",
       "    </tr>\n",
       "  </thead>\n",
       "  <tbody>\n",
       "    <tr>\n",
       "      <th>0</th>\n",
       "      <td>991</td>\n",
       "      <td>873</td>\n",
       "      <td>1</td>\n",
       "    </tr>\n",
       "    <tr>\n",
       "      <th>1</th>\n",
       "      <td>7940</td>\n",
       "      <td>873</td>\n",
       "      <td>2</td>\n",
       "    </tr>\n",
       "    <tr>\n",
       "      <th>2</th>\n",
       "      <td>2453</td>\n",
       "      <td>873</td>\n",
       "      <td>12</td>\n",
       "    </tr>\n",
       "    <tr>\n",
       "      <th>3</th>\n",
       "      <td>1650</td>\n",
       "      <td>873</td>\n",
       "      <td>1</td>\n",
       "    </tr>\n",
       "    <tr>\n",
       "      <th>4</th>\n",
       "      <td>1290</td>\n",
       "      <td>873</td>\n",
       "      <td>6</td>\n",
       "    </tr>\n",
       "  </tbody>\n",
       "</table>\n",
       "</div>"
      ],
      "text/plain": [
       "     id  site  visits\n",
       "0   991   873       1\n",
       "1  7940   873       2\n",
       "2  2453   873      12\n",
       "3  1650   873       1\n",
       "4  1290   873       6"
      ]
     },
     "execution_count": 12,
     "metadata": {},
     "output_type": "execute_result"
    }
   ],
   "source": [
    "df_web = pd.read_csv(\"https://www.dropbox.com/s/5fxm63zct40a6b2/browser-domains.csv?dl=1\")\n",
    "df_web.head()"
   ]
  },
  {
   "cell_type": "code",
   "execution_count": null,
   "metadata": {
    "colab": {
     "base_uri": "https://localhost:8080/",
     "height": 423
    },
    "executionInfo": {
     "elapsed": 2911,
     "status": "ok",
     "timestamp": 1721201746963,
     "user": {
      "displayName": "Yong Song",
      "userId": "00576951217859821315"
     },
     "user_tz": -600
    },
    "id": "RgouWtefUUcA",
    "outputId": "48e5e80b-5a5b-4aa8-9be5-18fbb9ba48de"
   },
   "outputs": [
    {
     "data": {
      "text/html": [
       "<div>\n",
       "<style scoped>\n",
       "    .dataframe tbody tr th:only-of-type {\n",
       "        vertical-align: middle;\n",
       "    }\n",
       "\n",
       "    .dataframe tbody tr th {\n",
       "        vertical-align: top;\n",
       "    }\n",
       "\n",
       "    .dataframe thead th {\n",
       "        text-align: right;\n",
       "    }\n",
       "</style>\n",
       "<table border=\"1\" class=\"dataframe\">\n",
       "  <thead>\n",
       "    <tr style=\"text-align: right;\">\n",
       "      <th></th>\n",
       "      <th>site</th>\n",
       "    </tr>\n",
       "  </thead>\n",
       "  <tbody>\n",
       "    <tr>\n",
       "      <th>1</th>\n",
       "      <td>atdmt.com</td>\n",
       "    </tr>\n",
       "    <tr>\n",
       "      <th>2</th>\n",
       "      <td>yahoo.com</td>\n",
       "    </tr>\n",
       "    <tr>\n",
       "      <th>3</th>\n",
       "      <td>whenu.com</td>\n",
       "    </tr>\n",
       "    <tr>\n",
       "      <th>4</th>\n",
       "      <td>weatherbug.com</td>\n",
       "    </tr>\n",
       "    <tr>\n",
       "      <th>5</th>\n",
       "      <td>msn.com</td>\n",
       "    </tr>\n",
       "    <tr>\n",
       "      <th>...</th>\n",
       "      <td>...</td>\n",
       "    </tr>\n",
       "    <tr>\n",
       "      <th>996</th>\n",
       "      <td>effectivebrand.com</td>\n",
       "    </tr>\n",
       "    <tr>\n",
       "      <th>997</th>\n",
       "      <td>dallascowboys.com</td>\n",
       "    </tr>\n",
       "    <tr>\n",
       "      <th>998</th>\n",
       "      <td>leadgenetwork.com</td>\n",
       "    </tr>\n",
       "    <tr>\n",
       "      <th>999</th>\n",
       "      <td>in.us</td>\n",
       "    </tr>\n",
       "    <tr>\n",
       "      <th>1000</th>\n",
       "      <td>vistaprint.com</td>\n",
       "    </tr>\n",
       "  </tbody>\n",
       "</table>\n",
       "<p>1000 rows × 1 columns</p>\n",
       "</div>"
      ],
      "text/plain": [
       "                    site\n",
       "1              atdmt.com\n",
       "2              yahoo.com\n",
       "3              whenu.com\n",
       "4         weatherbug.com\n",
       "5                msn.com\n",
       "...                  ...\n",
       "996   effectivebrand.com\n",
       "997    dallascowboys.com\n",
       "998    leadgenetwork.com\n",
       "999                in.us\n",
       "1000      vistaprint.com\n",
       "\n",
       "[1000 rows x 1 columns]"
      ]
     },
     "execution_count": 13,
     "metadata": {},
     "output_type": "execute_result"
    }
   ],
   "source": [
    "df_site = pd.read_csv(\"https://www.dropbox.com/s/upwat43m9ua1m79/browser-sites.txt?dl=1\", sep=\"\\t\", header=None)\n",
    "df_site.columns = ['site']\n",
    "df_site.index = df_site.index+1 #Blame R indexing\n",
    "df_site"
   ]
  },
  {
   "cell_type": "markdown",
   "metadata": {
    "id": "dQl3uNSGu_bB"
   },
   "source": [
    "## Working with multiple datasets"
   ]
  },
  {
   "cell_type": "code",
   "execution_count": 14,
   "metadata": {
    "colab": {
     "base_uri": "https://localhost:8080/"
    },
    "executionInfo": {
     "elapsed": 427,
     "status": "ok",
     "timestamp": 1721202130798,
     "user": {
      "displayName": "Yong Song",
      "userId": "00576951217859821315"
     },
     "user_tz": -600
    },
    "id": "XIMM8PVUU9YY",
    "outputId": "0da7fb99-a463-4b1f-a462-c7b9a8397743"
   },
   "outputs": [
    {
     "data": {
      "text/plain": [
       "{1: 'atdmt.com',\n",
       " 2: 'yahoo.com',\n",
       " 3: 'whenu.com',\n",
       " 4: 'weatherbug.com',\n",
       " 5: 'msn.com',\n",
       " 6: 'google.com',\n",
       " 7: 'aol.com',\n",
       " 8: 'questionmarket.com',\n",
       " 9: 'googlesyndication.com-o02',\n",
       " 10: 'casalemedia.com',\n",
       " 11: 'mywebsearch.com',\n",
       " 12: 'myspace.com',\n",
       " 13: 'pointroll.com',\n",
       " 14: 'atwola.com',\n",
       " 15: 'yieldmanager.com',\n",
       " 16: 'live.com',\n",
       " 17: 'aim.com',\n",
       " 18: 'mediaplex.com',\n",
       " 19: 'precisionclick.com',\n",
       " 20: 'tribalfusion.com',\n",
       " 21: 'insightexpressai.com',\n",
       " 22: 'trafficmp.com',\n",
       " 23: 'ebay.com',\n",
       " 24: 'realmedia.com',\n",
       " 25: 'zedo.com',\n",
       " 26: 'advertising.com',\n",
       " 27: 'microsoft.com',\n",
       " 28: 'hotbar.com',\n",
       " 29: 'adrevolver.com',\n",
       " 30: 'ru4.com',\n",
       " 31: '180solutions.com',\n",
       " 32: 'nextag.com',\n",
       " 33: 'accuweather.com',\n",
       " 34: 'overture.com',\n",
       " 35: 'hotmail.com',\n",
       " 36: 'passport.com',\n",
       " 37: 'my-etrust.com',\n",
       " 38: 'starware.com',\n",
       " 39: 'relevantknowledge.com',\n",
       " 40: 'myway.com',\n",
       " 41: 'partner2profit.com',\n",
       " 42: 'ditto.com',\n",
       " 43: 'kanoodle.com',\n",
       " 44: 'ebayobjects.com',\n",
       " 45: 'mcafee.com',\n",
       " 46: 'comcast.net',\n",
       " 47: 'fastclick.net',\n",
       " 48: 'adbrite.com',\n",
       " 49: 'vpptechnologies.com',\n",
       " 50: 'specificclick.net',\n",
       " 51: 'serving-sys.com',\n",
       " 52: 'weather.com',\n",
       " 53: 'adserver.com',\n",
       " 54: 'licenseacquisition.org',\n",
       " 55: 'pogo.com',\n",
       " 56: 'go.com',\n",
       " 57: 'btgrab.com',\n",
       " 58: 'bellsouth.net',\n",
       " 59: 'intellisrv.net',\n",
       " 60: 'dell.com',\n",
       " 61: 'waol.exe',\n",
       " 62: 'cnn.com',\n",
       " 63: 'facebook.com',\n",
       " 64: 'incredibarvuz1.com',\n",
       " 65: 'burstnet.com',\n",
       " 66: 'adknowledge.com',\n",
       " 67: 'funwebproducts.com',\n",
       " 68: 'belnk.com',\n",
       " 69: 'netscape.com',\n",
       " 70: 'mysearch.com',\n",
       " 71: 'real.com',\n",
       " 72: 'liveperson.net',\n",
       " 73: 'adsonar.com',\n",
       " 74: 'passport.net',\n",
       " 75: 'euroclick.com',\n",
       " 76: 'm7z.net',\n",
       " 77: 'mywebface.com',\n",
       " 78: 'kazaa.com',\n",
       " 79: 'bestoffersnetworks.com',\n",
       " 80: 'vitalstream.com',\n",
       " 81: 'tacoda.net',\n",
       " 82: 'unicast.com',\n",
       " 83: 'offeroptimizer.com',\n",
       " 84: 'bankofamerica.com',\n",
       " 85: 'acsd.exe',\n",
       " 86: 'gator.com',\n",
       " 87: 'quickbrowsersearch.com',\n",
       " 88: 'revsci.net',\n",
       " 89: 'personalweb.com',\n",
       " 90: 'rr.com',\n",
       " 91: 'msnusers.com',\n",
       " 92: 'zango.com',\n",
       " 93: 'earthlink.net',\n",
       " 94: 'mapquest.com',\n",
       " 95: 'falkag.net',\n",
       " 96: 'freeze.com',\n",
       " 97: 'amazon.com',\n",
       " 98: 'net-offers.net',\n",
       " 99: 'shopperreports.com',\n",
       " 100: 'dellfix.com',\n",
       " 101: 'plaxo.com',\n",
       " 102: 'ysbweb.com',\n",
       " 103: 'googleadservices.com',\n",
       " 104: 'qnsr.com',\n",
       " 105: 'revenue.net',\n",
       " 106: 'adultfriendfinder.com',\n",
       " 107: 'addynamix.com',\n",
       " 108: 'seekmo.com',\n",
       " 109: 'verizon.net',\n",
       " 110: 'cox.net',\n",
       " 111: 'metricsdirect.com',\n",
       " 112: 'akamai.net',\n",
       " 113: 'admarketplace.net',\n",
       " 114: 'amazon.com-o01',\n",
       " 115: 'aolacsd.exe',\n",
       " 116: 'opinionsquare.com',\n",
       " 117: 'interclick.com',\n",
       " 118: 'peoplepc.com',\n",
       " 119: 'go.com-o04',\n",
       " 120: 'realtechnetwork.net',\n",
       " 121: 'freezecoldcash.com',\n",
       " 122: 'ask.com',\n",
       " 123: 'contextweb.com',\n",
       " 124: 'intellitxt.com',\n",
       " 125: 'yceml.net',\n",
       " 126: 'about.com',\n",
       " 127: 'youtube.com',\n",
       " 128: 'wikipedia.org',\n",
       " 129: 'surfaccuracy.com',\n",
       " 130: 'windowsmedia.com',\n",
       " 131: 'craigslist.org',\n",
       " 132: 'hackerwatch.org',\n",
       " 133: 'foxsports.com',\n",
       " 134: 'spamblockerutility.com',\n",
       " 135: 'walmart.com',\n",
       " 136: 'navexcel.com',\n",
       " 137: 'partypoker.com',\n",
       " 138: 'wellsfargo.com',\n",
       " 139: 'travelzoo.com',\n",
       " 140: 'photobucket.com',\n",
       " 141: 'viewpoint.com',\n",
       " 142: 'nielsennetpanel.com',\n",
       " 143: 'mymailstamp.com',\n",
       " 144: 'windows.com',\n",
       " 145: 'optonline.net',\n",
       " 146: 'eguard.com',\n",
       " 147: 'aolcdn.com',\n",
       " 148: 'musicmatch.com',\n",
       " 149: 'qksz.net',\n",
       " 150: 'cometsystems.com',\n",
       " 151: 'netzero.net',\n",
       " 152: 'specificmedia.com',\n",
       " 153: 'paypal.com',\n",
       " 154: 'iwon.com',\n",
       " 155: 'monster.com-o01',\n",
       " 156: 'vmn.net',\n",
       " 157: 'juno.com',\n",
       " 158: 'information.com',\n",
       " 159: 'sysupdates.com',\n",
       " 160: '2o7.net',\n",
       " 161: 'adwave.com',\n",
       " 162: 'need2find.com',\n",
       " 163: 'target.com',\n",
       " 164: 'ebayrtm.com',\n",
       " 165: 'match.com',\n",
       " 166: 'bridgetrack.com',\n",
       " 167: 'comcastsupport.com',\n",
       " 168: 'rs6.net',\n",
       " 169: 'screensavers.com',\n",
       " 170: 'footprint.net',\n",
       " 171: 'sportsline.com',\n",
       " 172: 'adelphia.net',\n",
       " 173: 'smileycentral.com',\n",
       " 174: 'dlqm.net',\n",
       " 175: 'careerbuilder.com',\n",
       " 176: 'mlb.com',\n",
       " 177: 'searchignite.com',\n",
       " 178: 'wachovia.com',\n",
       " 179: 'expedia.com',\n",
       " 180: 'thinktarget.com',\n",
       " 181: 'authnow.com',\n",
       " 182: 'dotomi.com',\n",
       " 183: 'blogspot.com',\n",
       " 184: 'hpdjjs.com',\n",
       " 185: 'chase.com',\n",
       " 186: 'outerinfo.com',\n",
       " 187: 'nscpcdn.com',\n",
       " 188: 'vonage.com',\n",
       " 189: 'searchscout.com',\n",
       " 190: 'compuserve.com',\n",
       " 191: 'lycos.com',\n",
       " 192: 'xanga.com',\n",
       " 193: 'websearch.com',\n",
       " 194: 'azjmp.com',\n",
       " 195: 'tmcs.net-o01',\n",
       " 196: 'exitexchange.com',\n",
       " 197: 'toshibapc.com',\n",
       " 198: 'runescape.com',\n",
       " 199: 'weatherstudio.com',\n",
       " 200: 'imdb.com',\n",
       " 201: 'adecn.com',\n",
       " 202: 'bargain-buddy.net',\n",
       " 203: 'carsdirect.com',\n",
       " 204: 'mspaceads.com',\n",
       " 205: 'apple.com',\n",
       " 206: 'ups.com',\n",
       " 207: '88.80.5.21',\n",
       " 208: 'exct.net',\n",
       " 209: 'cingular.com',\n",
       " 210: 'foodnetwork.com',\n",
       " 211: 'go.com-o03',\n",
       " 212: 'excite.com',\n",
       " 213: 'capitalone.com',\n",
       " 214: 'imiclk.com',\n",
       " 215: 'overstock.com',\n",
       " 216: 'bloglines.com',\n",
       " 217: 'compfused.com',\n",
       " 218: 'morpheus.com',\n",
       " 219: 'foxnews.com',\n",
       " 220: 'marketwatch.com',\n",
       " 221: 'wamu.com',\n",
       " 222: 'monster.com',\n",
       " 223: 'adobe.com',\n",
       " 224: '888.com',\n",
       " 225: 'untd.com',\n",
       " 226: 'abetterinternet.com',\n",
       " 227: 'centralmedia.ws',\n",
       " 228: 'valuead.com',\n",
       " 229: 'targetsaver.com',\n",
       " 230: 'lynxtrack.com',\n",
       " 231: 'cartoonnetwork.com',\n",
       " 232: 'netflix.com',\n",
       " 233: 'chitika.net',\n",
       " 234: 'geocities.com',\n",
       " 235: 'qsrch.com',\n",
       " 236: 'drsnsrch.com',\n",
       " 237: 'autobytel.com',\n",
       " 238: 'web-nexus.net',\n",
       " 239: 'webservicehosts.com',\n",
       " 240: 'sharewareonline.com',\n",
       " 241: 'llnwd.net',\n",
       " 242: 'instantnavigation.com',\n",
       " 243: 'nick.com',\n",
       " 244: 'nfl.com',\n",
       " 245: 'oingo.com',\n",
       " 246: 'lightningcast.net',\n",
       " 247: 'altbill.com',\n",
       " 248: 'xolox.nl',\n",
       " 249: 'superpages.com',\n",
       " 250: 'classmates.com',\n",
       " 251: 'aavalue.com',\n",
       " 252: 'bluestreak.com',\n",
       " 253: 'southwest.com',\n",
       " 254: 'whitepages.com',\n",
       " 255: 'usps.com',\n",
       " 256: 'webhancer.com',\n",
       " 257: 'bbc.co.uk',\n",
       " 258: 'true.com',\n",
       " 259: 'bearshare.com',\n",
       " 260: 'citibank.com',\n",
       " 261: 'blackplanet.com',\n",
       " 262: 'pch.com',\n",
       " 263: 'att.net',\n",
       " 264: 'autoweb.com',\n",
       " 265: 'insightexpress.com',\n",
       " 266: 'charter.net',\n",
       " 267: 'alumnigroup.org',\n",
       " 268: 'verizonwireless.com',\n",
       " 269: 'fedex.com',\n",
       " 270: 'mobilesidewalk.com',\n",
       " 271: 'netteller.com',\n",
       " 272: 'webshots.com',\n",
       " 273: 'sprint.com',\n",
       " 274: 'orbitz.com',\n",
       " 275: 'bestbuy.com',\n",
       " 276: 'grandstreetinteractive.com',\n",
       " 277: 'paypopup.com',\n",
       " 278: 'cheaptickets.com',\n",
       " 279: 'dell4me.com',\n",
       " 280: 'new.net',\n",
       " 281: 'nytimes.com',\n",
       " 282: 'nyadmcncserve-05y06a.com',\n",
       " 283: 'aoltpspd.exe',\n",
       " 284: 'toprebates.com',\n",
       " 285: 'jcpenney.com',\n",
       " 286: 'geotrust.com',\n",
       " 287: 'travelocity.com',\n",
       " 288: 'qvc.com',\n",
       " 289: '4at1.com',\n",
       " 290: 'cpmstar.com',\n",
       " 291: 'bizrate.com',\n",
       " 292: 'ticketmaster.com',\n",
       " 293: 'usbank.com',\n",
       " 294: 'tripod.com',\n",
       " 295: 'buy.com',\n",
       " 296: 'nascar.com',\n",
       " 297: 'aebn.net',\n",
       " 298: 'infospace.com',\n",
       " 299: 'wxbug.com',\n",
       " 300: 'contextuads.com',\n",
       " 301: 'bns1.net',\n",
       " 302: 'download.com',\n",
       " 303: 'gocyberlink.com',\n",
       " 304: '192.168.1.1',\n",
       " 305: 'dvlabs.com',\n",
       " 306: 'defamer.com',\n",
       " 307: 'tracking101.com',\n",
       " 308: 'accountonline.com',\n",
       " 309: 'hbmediapro.com',\n",
       " 310: 'usatoday.com',\n",
       " 311: 'bigfishgames.com',\n",
       " 312: 'neopets.com',\n",
       " 313: 'adoutput.com',\n",
       " 314: 'sbc.com',\n",
       " 315: 'noaa.gov',\n",
       " 316: 'lowermybills.com',\n",
       " 317: 'kmpads.com',\n",
       " 318: 'directtrack.com',\n",
       " 319: 'clicksor.com',\n",
       " 320: 'legacy.com',\n",
       " 321: 'eajmp.com',\n",
       " 322: 'nastydollars.com',\n",
       " 323: 'worldofwarcraft.com',\n",
       " 324: 'mirarsearch.com',\n",
       " 325: 'verizon.com',\n",
       " 326: 'miniclip.com',\n",
       " 327: 'iwin.com',\n",
       " 328: 'peel.com',\n",
       " 329: 'hgtv.com',\n",
       " 330: 'amaena.com',\n",
       " 331: 'sprintpcs.com',\n",
       " 332: 'shopping.com',\n",
       " 333: 'webmd.com',\n",
       " 334: 'clearchannel.com',\n",
       " 335: 'winamp.com',\n",
       " 336: 'reference.com',\n",
       " 337: 'interpolls.com',\n",
       " 338: 'americangreetings.com',\n",
       " 339: 'tmcs.net',\n",
       " 340: 'midtenmedia.com',\n",
       " 341: 'domainsponsor.com',\n",
       " 342: 'thunderdownloads.com',\n",
       " 343: 'akamaistream.net',\n",
       " 344: 'livejournal.com',\n",
       " 345: 'tx.us',\n",
       " 346: 'onlinerewardcenter.com',\n",
       " 347: 'msn.com-o18',\n",
       " 348: 'sony.com',\n",
       " 349: 'dogpile.com',\n",
       " 350: 'nba.com',\n",
       " 351: 'citysearch.com',\n",
       " 352: 'connextra.com',\n",
       " 353: 'nickjr.com',\n",
       " 354: 't-mobile.com',\n",
       " 355: 'winfixer.com',\n",
       " 356: 'adlegend.com',\n",
       " 357: 'adsrevenue.net',\n",
       " 358: 'sears.com',\n",
       " 359: 'ap.org',\n",
       " 360: 'luna.net',\n",
       " 361: 'shockwave.com',\n",
       " 362: 'hsn.com',\n",
       " 363: 'fl.us',\n",
       " 364: 'mypoints.com',\n",
       " 365: 'mozilla.org',\n",
       " 366: 'aresgalaxy.org',\n",
       " 367: 'realtor.com',\n",
       " 368: 'addictinggames.com',\n",
       " 369: 'clickbooth.com',\n",
       " 370: 'amateurmatch.com',\n",
       " 371: 'worldnow.com',\n",
       " 372: 'surveys.com',\n",
       " 373: 'pa.us',\n",
       " 374: 'arcaderockstar.com',\n",
       " 375: 'coolsavings.com',\n",
       " 376: 'yournewsletters.net',\n",
       " 377: 'liquidmedianetworks.com',\n",
       " 378: 'everythinggirl.com',\n",
       " 379: 'perfectmatch.com',\n",
       " 380: 'stockgroup.com',\n",
       " 381: 'netster.com',\n",
       " 382: 'bidclix.com',\n",
       " 383: 'dropspam.com',\n",
       " 384: 'hp.com',\n",
       " 385: 'drivecleaner.com',\n",
       " 386: 'consumerpromotioncenter.com',\n",
       " 387: 'aolwbspd.exe',\n",
       " 388: 'americanexpress.com',\n",
       " 389: 'totaltalk.com',\n",
       " 390: 'wwe.com',\n",
       " 391: 'kontera.com',\n",
       " 392: 'gamehouse.com',\n",
       " 393: 'circuitcity.com',\n",
       " 394: 'yimg.com',\n",
       " 395: 'lightningcast.com',\n",
       " 396: 'edgefcs.net',\n",
       " 397: 'wunderground.com',\n",
       " 398: 'realarcade.com',\n",
       " 399: 'singlesnet.com',\n",
       " 400: 'azcentral.com',\n",
       " 401: 'yellowpages.com',\n",
       " 402: 'eharmony.com',\n",
       " 403: 'paviliondownload.com',\n",
       " 404: 'insightbb.com',\n",
       " 405: 'imageshack.us',\n",
       " 406: 'shopzilla.com',\n",
       " 407: 'ca.gov',\n",
       " 408: 'donotchangeme.com',\n",
       " 409: 'ca.us',\n",
       " 410: 'sourceforge.net',\n",
       " 411: 'washingtonpost.com',\n",
       " 412: 'adjuggler.com',\n",
       " 413: 'careercast.com',\n",
       " 414: 'bangbros1.com',\n",
       " 415: 'scripps.com-o01',\n",
       " 416: 'migente.com',\n",
       " 417: 'homedepot.com',\n",
       " 418: 'winantivirus.com',\n",
       " 419: 'irs.gov',\n",
       " 420: 'blockbuster.com',\n",
       " 421: 'kodakgallery.com',\n",
       " 422: 'nih.gov',\n",
       " 423: 'aol.com-o07',\n",
       " 424: 'icq.com',\n",
       " 425: 'wordcents.com',\n",
       " 426: 'drudgereport.com',\n",
       " 427: 'quizilla.com',\n",
       " 428: 'srch-results.com',\n",
       " 429: 'inqwire.com',\n",
       " 430: 'ign.com',\n",
       " 431: 'oinadserver.com',\n",
       " 432: 'azoogleads.com',\n",
       " 433: 'incredimail.com',\n",
       " 434: 'shopathome.com',\n",
       " 435: 'mtv.com',\n",
       " 436: 'fidelity.com',\n",
       " 437: 'bullseye-network.com',\n",
       " 438: 'flash-gear.com',\n",
       " 439: 'proficient.com',\n",
       " 440: 'autotrader.com',\n",
       " 441: 'charter.com',\n",
       " 442: 'healthology.com',\n",
       " 443: 'evite.com',\n",
       " 444: 'checkm8.com',\n",
       " 445: 'rsc01.net',\n",
       " 446: 'oasei.com',\n",
       " 447: 'heavy.com',\n",
       " 448: 'slotch.com',\n",
       " 449: 'passion.com',\n",
       " 450: 'nbc.com',\n",
       " 451: 'trafficmarketplace.com',\n",
       " 452: 'univision.com',\n",
       " 453: 'priceline.com',\n",
       " 454: 'flickr.com',\n",
       " 455: 'andale.com',\n",
       " 456: 'dealtime.com',\n",
       " 457: 'yfdirect.com',\n",
       " 458: 'entrepreneur.com',\n",
       " 459: 'go.com-o01',\n",
       " 460: 'webmd.com-o01',\n",
       " 461: 'sexsearch.com',\n",
       " 462: 'pornaccess.com',\n",
       " 463: 'gcion.com',\n",
       " 464: 'shoplocal.com',\n",
       " 465: 'kliptracker.com',\n",
       " 466: 'nationalcity.com',\n",
       " 467: 'bbeplayer.com',\n",
       " 468: 'videodome.com',\n",
       " 469: '204.95.60.12',\n",
       " 470: 'napster.com',\n",
       " 471: 'myweather.net',\n",
       " 472: 'msnbc.com',\n",
       " 473: 'linkexchange.com',\n",
       " 474: 'searchmarketing.com',\n",
       " 475: 'angelfire.com',\n",
       " 476: 'callwave.com',\n",
       " 477: 'sonnerie.net',\n",
       " 478: 'scout.com',\n",
       " 479: 'rivals.com',\n",
       " 480: 'altnet.com',\n",
       " 481: 'spynet.com',\n",
       " 482: 'macromedia.com',\n",
       " 483: 'ed.gov',\n",
       " 484: 'wannawatch.com',\n",
       " 485: 'frontiernet.net',\n",
       " 486: 'flycell.com',\n",
       " 487: 'edgesuite.net',\n",
       " 488: '89.com',\n",
       " 489: 'nc.us',\n",
       " 490: 'ticketmaster.com-o01',\n",
       " 491: 'flowgo.com',\n",
       " 492: 'cnet.com',\n",
       " 493: 'oddcast.com',\n",
       " 494: 'answers.com',\n",
       " 495: 'timeinc.net',\n",
       " 496: 'm5-systems.com',\n",
       " 497: 'guideforyou.com',\n",
       " 498: 'rn11.com',\n",
       " 499: 'lowes.com',\n",
       " 500: 'lifescript.com',\n",
       " 501: 'shop.com',\n",
       " 502: 'errorsafe.com',\n",
       " 503: 'cams.com',\n",
       " 504: 'macys.com',\n",
       " 505: 'aa.com',\n",
       " 506: 'addictingclips.com',\n",
       " 507: 'victoriassecret.com',\n",
       " 508: 'orchardbank.com',\n",
       " 509: 'bravenet.com',\n",
       " 510: 'imesh.com',\n",
       " 511: 'nextel.com',\n",
       " 512: 'screensandthemes.com',\n",
       " 513: 'suntrust.com',\n",
       " 514: 'discovercard.com',\n",
       " 515: 'nbads.com',\n",
       " 516: 'consumerincentiverewards.com',\n",
       " 517: 'valueclick.com',\n",
       " 518: 'google.com-o03',\n",
       " 519: 'cbs.com',\n",
       " 520: 'bannerspace.com',\n",
       " 521: 'technorati.com',\n",
       " 522: 'cjt1.net',\n",
       " 523: 'exactsearch.net',\n",
       " 524: 'munky.com',\n",
       " 525: 'cs.com',\n",
       " 526: 'kohls.com',\n",
       " 527: 'tagged.com',\n",
       " 528: 'babycenter.com',\n",
       " 529: 'ebaumsworld.com',\n",
       " 530: 'userplane.com',\n",
       " 531: 'mediaplazza.com',\n",
       " 532: 'netzerovoice.com',\n",
       " 533: 'gamespot.com',\n",
       " 534: 'keen.com',\n",
       " 535: 'bebo.com',\n",
       " 536: 'rsc02.net',\n",
       " 537: 'sysupdates2.com',\n",
       " 538: 'imlive.com',\n",
       " 539: 'oldnavy.com',\n",
       " 540: 'regalinteractive.com',\n",
       " 541: 'weightwatchers.com',\n",
       " 542: 'subsag.com',\n",
       " 543: 'aol.com-o08',\n",
       " 544: 'azlyrics.com',\n",
       " 545: 'freeringtonesnow.com',\n",
       " 546: 'freewebs.com',\n",
       " 547: 'toysrus.com',\n",
       " 548: 'hollywood.com',\n",
       " 549: 'findwhat.com',\n",
       " 550: 'local.com',\n",
       " 551: 'webroot.com',\n",
       " 552: 'tvguide.com',\n",
       " 553: 'ny.us',\n",
       " 554: 'resultsmaster.com',\n",
       " 555: 'jamster.com',\n",
       " 556: 'gms1.net',\n",
       " 557: 'switchboard.com',\n",
       " 558: 'nicheseek.com',\n",
       " 559: 'intelius.com',\n",
       " 560: 'hi5.com',\n",
       " 561: 'glispa.com',\n",
       " 562: 'gannettonline.com',\n",
       " 563: 'cstv.com',\n",
       " 564: 'adengage.com',\n",
       " 565: 'superbrewards.com',\n",
       " 566: 'videocodezone.com',\n",
       " 567: 'symantecliveupdate.com',\n",
       " 568: 'pbskids.org',\n",
       " 569: 'revresda.com',\n",
       " 570: 'americansingles.com',\n",
       " 571: 'ugo.com-o02',\n",
       " 572: 'job.com',\n",
       " 573: 'installshield.com',\n",
       " 574: 'eprize.net',\n",
       " 575: 'metacafe.com',\n",
       " 576: 'focalex.com',\n",
       " 577: 'cciads.us',\n",
       " 578: 'perfectgonzo.com',\n",
       " 579: 'kbb.com',\n",
       " 580: 'reunion.com',\n",
       " 581: 'eproof.com',\n",
       " 582: 'tripadvisor.com',\n",
       " 583: 'bellsouth.com',\n",
       " 584: 'search.com',\n",
       " 585: 'comcast.com',\n",
       " 586: 'ivillage.com',\n",
       " 587: 'sun.com',\n",
       " 588: 'regionsnet.com',\n",
       " 589: 'mininova.org',\n",
       " 590: 'beliefnet.com',\n",
       " 591: 'intellicast.com',\n",
       " 592: 'fastonlineusers.com',\n",
       " 593: 'gamespot.com-o01',\n",
       " 594: 'expedia.com-o01',\n",
       " 595: 'military.com',\n",
       " 596: 'musicnet.com',\n",
       " 597: '53.com',\n",
       " 598: 'oh.us',\n",
       " 599: 'itrack.it',\n",
       " 600: 'officedepot.com',\n",
       " 601: 'adultadworld.com',\n",
       " 602: 'univision.com-o01',\n",
       " 603: 'youravon.com',\n",
       " 604: 'blackboard.com',\n",
       " 605: 'yahoo.net',\n",
       " 606: 'casinolasvegas.com',\n",
       " 607: 'warnerbros.com',\n",
       " 608: 'delta.com',\n",
       " 609: 'go.com-o02',\n",
       " 610: 'deepnetexplorer.co.uk',\n",
       " 611: 'mozilla.com',\n",
       " 612: 'opentracker.net',\n",
       " 613: 'break.com',\n",
       " 614: 'catcha10.com',\n",
       " 615: 'hotels.com',\n",
       " 616: 'hallmark.com',\n",
       " 617: 'sportsbook.com',\n",
       " 618: 'mycheckfree.com',\n",
       " 619: 'ezboard.com',\n",
       " 620: 'pro-market.net',\n",
       " 621: 'mate1.com',\n",
       " 622: 'awempire.com',\n",
       " 623: 'jigzone.com',\n",
       " 624: 'bangbrosnetwork.com',\n",
       " 625: 'marketlinx.com',\n",
       " 626: 'tickle.com',\n",
       " 627: 'bbandt.com',\n",
       " 628: 'mercuras.com',\n",
       " 629: 'adtology2.com',\n",
       " 630: 'bluemountain.com',\n",
       " 631: 'freepornofreeporn.com',\n",
       " 632: 'internet-optimizer.com',\n",
       " 633: 'autotrader.com-o01',\n",
       " 634: 'blogger.com',\n",
       " 635: 'kraftfoods.com',\n",
       " 636: 'loveaccess.com',\n",
       " 637: 'shutterfly.com',\n",
       " 638: 'stopzilla.com',\n",
       " 639: 'xmradio.com',\n",
       " 640: 'ga.us',\n",
       " 641: 'ancestry.com',\n",
       " 642: 'honda.com',\n",
       " 643: 'fulltiltpoker.com',\n",
       " 644: 'il.us',\n",
       " 645: 'ibsys.com',\n",
       " 646: 'imixserver.com',\n",
       " 647: 'barnesandnoble.com',\n",
       " 648: 'pricegrabber.com',\n",
       " 649: 'constantcontact.com',\n",
       " 650: 'zonelabs.com',\n",
       " 651: 'pimpyourpro.com',\n",
       " 652: 'netflame.cc',\n",
       " 653: 'slide.com',\n",
       " 654: 'xnxx.com',\n",
       " 655: 'upromise.com',\n",
       " 656: 'livesexbar.com',\n",
       " 657: 'videosz.com',\n",
       " 658: 'freeweblayouts.net',\n",
       " 659: 'limewire.com',\n",
       " 660: 'ameritrade.com',\n",
       " 661: 'freelaptop4you.com',\n",
       " 662: 'nickarcade.com',\n",
       " 663: 'utkn.com',\n",
       " 664: 'nj.us',\n",
       " 665: '360i.com',\n",
       " 666: 'finestresults.com',\n",
       " 667: 'asseenontvnetwork.com',\n",
       " 668: 'typepad.com',\n",
       " 669: 'efax.com',\n",
       " 670: 'regions.com',\n",
       " 671: 'emachines.com',\n",
       " 672: 'playaudiomessage.com',\n",
       " 673: 'bofunk.com',\n",
       " 674: 'millsberry.com',\n",
       " 675: 'cpvfeed.com',\n",
       " 676: 'allrecipes.com',\n",
       " 677: 'clubpenguin.com',\n",
       " 678: 'eversave.com',\n",
       " 679: 'ppmdating.com',\n",
       " 680: 'lexico.com',\n",
       " 681: 'usaa.com',\n",
       " 682: 'directv.com',\n",
       " 683: 'postini.com',\n",
       " 684: 'secure-banking.com',\n",
       " 685: 'eyewonder.com',\n",
       " 686: 'boston.com',\n",
       " 687: 'ibanking-services.com',\n",
       " 688: 'astrology.com',\n",
       " 689: 'datinggold.com',\n",
       " 690: 'mlxchange.com',\n",
       " 691: 'travelhook.net',\n",
       " 692: 'custhelp.com',\n",
       " 693: 'mn.us',\n",
       " 694: 'zwire.com',\n",
       " 695: 'emarketmakers.com',\n",
       " 696: 'gamefaqs.com',\n",
       " 697: 'premiumproductsonline.com',\n",
       " 698: 'chrysler.com',\n",
       " 699: 'prodigy.net',\n",
       " 700: 'tv.com',\n",
       " 701: 'windowsmedia.com-o04',\n",
       " 702: 'smashits.com',\n",
       " 703: '65.115.67.11',\n",
       " 704: 'snapfish.com',\n",
       " 705: 'commerceonlinebanking.com',\n",
       " 706: 'bbt.com',\n",
       " 707: 'linksynergy.com',\n",
       " 708: 'yahoo.com-o08',\n",
       " 709: 'freecodesource.com',\n",
       " 710: 'streamate.com',\n",
       " 711: 'freecreditreport.com',\n",
       " 712: 'intuit.com',\n",
       " 713: 'rapid-pass.net',\n",
       " 714: 'artistdirect.com',\n",
       " 715: 'servedbyadbutler.com',\n",
       " 716: 'sidestep.com',\n",
       " 717: 'adult.com',\n",
       " 718: 'alltel.net',\n",
       " 719: 'bcentral.com',\n",
       " 720: 'openbank.com',\n",
       " 721: 'nichedsites.com',\n",
       " 722: 'cars.com',\n",
       " 723: 'gm.com',\n",
       " 724: 'adshuffle.com',\n",
       " 725: 'freeslots.com',\n",
       " 726: 'blink.com',\n",
       " 727: 'candystand.com',\n",
       " 728: 'monstermarketplace.com',\n",
       " 729: 'columbiahouse.com',\n",
       " 730: 'pncbank.com',\n",
       " 731: 'discovery.com',\n",
       " 732: 'hsbcbillpay.com',\n",
       " 733: 'movietickets.com',\n",
       " 734: 'page-not-found.net',\n",
       " 735: 'fandango.com',\n",
       " 736: 'providianservices.com',\n",
       " 737: 'carad.com',\n",
       " 738: 'homestead.com',\n",
       " 739: 'realcastmedia.com',\n",
       " 740: 'webratsmusic.com',\n",
       " 741: 'scottrade.com',\n",
       " 742: 'cs102175.com',\n",
       " 743: 'fnismls.com',\n",
       " 744: 'shopperssavingcenter.com',\n",
       " 745: 'hit-now.com',\n",
       " 746: 'whatismyip.com',\n",
       " 747: 'costco.com',\n",
       " 748: 'bolt.com',\n",
       " 749: 'bmgmusic.com',\n",
       " 750: 'myhealthwealthandhappiness.com',\n",
       " 751: 'symantec.com',\n",
       " 752: 'forbes.com',\n",
       " 753: 'digitalcity.com',\n",
       " 754: 'live365.com',\n",
       " 755: 'firstadsolution.com',\n",
       " 756: 'linkconnector.com',\n",
       " 757: 'freepagegraphics.com',\n",
       " 758: 'imgfarm.com',\n",
       " 759: 'insightexpresserdd.com',\n",
       " 760: 'pcsecurityshield.com',\n",
       " 761: 'allposters.com-o01',\n",
       " 762: 'msnvideo.com',\n",
       " 763: 'miva.com',\n",
       " 764: 'jackpotmadness.com',\n",
       " 765: 'mbnanetaccess.com',\n",
       " 766: 'newcarinsider.com',\n",
       " 767: 'edmunds.com',\n",
       " 768: 'net-nucleus.com',\n",
       " 769: 'popcap.com',\n",
       " 770: 'alt.com',\n",
       " 771: 'staples.com',\n",
       " 772: 'ussearch.com',\n",
       " 773: 'bankone.com',\n",
       " 774: 'rootv.com',\n",
       " 775: 'citizensbankonline.com',\n",
       " 776: 'juggcrew.com',\n",
       " 777: 'navyfcu.org',\n",
       " 778: 'nordstrom.com',\n",
       " 779: 'webstat.com',\n",
       " 780: 'inklineglobal.com',\n",
       " 781: 'seeq.com',\n",
       " 782: 'onetruemedia.com',\n",
       " 783: 'paltalk.com',\n",
       " 784: 'sonypictures.com',\n",
       " 785: '204.181.57.155',\n",
       " 786: 'commerceonline.com',\n",
       " 787: 'friendster.com',\n",
       " 788: 'slate.com',\n",
       " 789: 'hermoment.com',\n",
       " 790: 'lovehappens.com',\n",
       " 791: 'mi.us',\n",
       " 792: 'kmart.com',\n",
       " 793: 'paidsurveys.com',\n",
       " 794: '123greetings.com',\n",
       " 795: 'blinko.com',\n",
       " 796: 'citizensbank.com',\n",
       " 797: 'sirius.com',\n",
       " 798: 'qrs1.net',\n",
       " 799: 'adbureau.net',\n",
       " 800: 'turn.com',\n",
       " 801: 'abcdistributing.com',\n",
       " 802: 'fundsxpress.com',\n",
       " 803: 'pichunter.com',\n",
       " 804: 'cbsnews.com',\n",
       " 805: '216.139.222.230',\n",
       " 806: 'anywho.com',\n",
       " 807: 'sedoparking.com',\n",
       " 808: 'householdbank.com',\n",
       " 809: 'treborwear.com',\n",
       " 810: 'evault.ws',\n",
       " 811: 'vh1.com',\n",
       " 812: 'financialcontent.com',\n",
       " 813: 'gap.com',\n",
       " 814: 'active.com',\n",
       " 815: 'exclusivegiftcards.com',\n",
       " 816: 'michigan.gov',\n",
       " 817: 'dada-mobile.net',\n",
       " 818: 'textplussolutions.com',\n",
       " 819: 'myriadmarket.com',\n",
       " 820: 'ifriends.net',\n",
       " 821: 'aptimus.com',\n",
       " 822: 'valueclick.net',\n",
       " 823: 'pennyweb.com',\n",
       " 824: 'blackpeoplemeet.com',\n",
       " 825: 'eltpath.com',\n",
       " 826: 'yahoo.com-o46',\n",
       " 827: 'sysprotect.com',\n",
       " 828: 'dadamobile.com',\n",
       " 829: 'cpxinteractive.com',\n",
       " 830: 'clickspring.net',\n",
       " 831: 'staples-deals.com',\n",
       " 832: 'myyearbook.com',\n",
       " 833: 'bravenetmedianetwork.com',\n",
       " 834: 'etrade.com',\n",
       " 835: 'marykayintouch.com',\n",
       " 836: '64.39.16.166',\n",
       " 837: 'moregamers.com',\n",
       " 838: 'redorbit.com',\n",
       " 839: 'tmz.com',\n",
       " 840: 'blogrolling.com',\n",
       " 841: 'checkfree.com',\n",
       " 842: 'samsclub.com',\n",
       " 843: 'va.us',\n",
       " 844: 'united.com',\n",
       " 845: 'certified-safe-downloads.com',\n",
       " 846: 'aimtoday.com',\n",
       " 847: 'toseeka.com',\n",
       " 848: 'bidz.com',\n",
       " 849: 'gamespy.com',\n",
       " 850: 'nylottery.org',\n",
       " 851: 'godaddy.com',\n",
       " 852: 'rsc03.net',\n",
       " 853: 'altavista.com',\n",
       " 854: 'ltdcommodities.com',\n",
       " 855: 'bhg.com',\n",
       " 856: 'opm.gov',\n",
       " 857: 'onlinemediaoutlet.com',\n",
       " 858: 'beboframe.com',\n",
       " 859: 'cafepress.com',\n",
       " 860: 'tarot.com',\n",
       " 861: 'webgavel.com',\n",
       " 862: 'rapmls.com',\n",
       " 863: 'ztod.com',\n",
       " 864: 'marriott.com',\n",
       " 865: 'walgreens.com',\n",
       " 866: 'rovion.com',\n",
       " 867: 'ultimatebet.com',\n",
       " 868: 'ea.com',\n",
       " 869: 'petfinder.com',\n",
       " 870: 'winsoftware.com',\n",
       " 871: 'literotica.com',\n",
       " 872: 'websourcedtraffic.com',\n",
       " 873: '032439.com',\n",
       " 874: 'marketbanker.com',\n",
       " 875: 'clearchannelmusic.com',\n",
       " 876: 'colonize.com',\n",
       " 877: 'searchfeed.com',\n",
       " 878: 'eimg.net',\n",
       " 879: 'shermanstravel.com',\n",
       " 880: 'key.com',\n",
       " 881: 'multi-pops.com',\n",
       " 882: 'yandex.ru',\n",
       " 883: 'us.com',\n",
       " 884: 'kinghost.com',\n",
       " 885: 'sublimedirectory.com',\n",
       " 886: 'gogotools.com',\n",
       " 887: 'camcrush.com',\n",
       " 888: 'trafficexplorer.com',\n",
       " 889: 'myfamily.com',\n",
       " 890: 'gay.com',\n",
       " 891: 'freegiftworld.com',\n",
       " 892: 'dexonline.com',\n",
       " 893: 'trade-in-value.com',\n",
       " 894: 'shopyourbargain.com',\n",
       " 895: 'dyndns.org',\n",
       " 896: 'bizrate.com-o01',\n",
       " 897: 'xctrk.com',\n",
       " 898: 'webtoolcafe.com',\n",
       " 899: 'zappos.com',\n",
       " 900: 'wi.us',\n",
       " 901: 'toptvbytes.com',\n",
       " 902: '157.22.32.111',\n",
       " 903: 'hotfreelayouts.com',\n",
       " 904: 'registrydefender.com',\n",
       " 905: 'zap2it.com',\n",
       " 906: '64.136.28.49',\n",
       " 907: 'afy11.net',\n",
       " 908: '207.97.212.250',\n",
       " 909: 'invisionfree.com',\n",
       " 910: 'bravenet.com-o01',\n",
       " 911: 'gadgetcity.com',\n",
       " 912: 'army.mil',\n",
       " 913: 'yourgiftcards.com',\n",
       " 914: 'craigslist.com',\n",
       " 915: 'usairways.com',\n",
       " 916: 'drivelinemedia.com',\n",
       " 917: 'edline.net',\n",
       " 918: 'dayport.com',\n",
       " 919: 'axill.com',\n",
       " 920: 'smartbargains.com',\n",
       " 921: 'newgrounds.com',\n",
       " 922: '216.155.193.91',\n",
       " 923: 'providian.com',\n",
       " 924: 'statcounter.com',\n",
       " 925: 'ajc.com',\n",
       " 926: 'oprah.com',\n",
       " 927: 'slingo.com',\n",
       " 928: 'continental.com',\n",
       " 929: 'relevantchoice.com',\n",
       " 930: 'toontown.com',\n",
       " 931: 'thumbplay.com',\n",
       " 932: 'jacquielawson.com',\n",
       " 933: 'hotwire.com',\n",
       " 934: 'nwa.com',\n",
       " 935: 'atomz.com',\n",
       " 936: 'nsgalleries.com',\n",
       " 937: 'uclick.com',\n",
       " 938: 'mercurial.ca',\n",
       " 939: 'schwab.com',\n",
       " 940: 'nvero.net',\n",
       " 941: 'ediets.com',\n",
       " 942: 'ichotelsgroup.com',\n",
       " 943: '216.133.243.28',\n",
       " 944: 'aggregateknowledge.com',\n",
       " 945: 'topix.net',\n",
       " 946: 'flalottery.com',\n",
       " 947: 'dlv4.com',\n",
       " 948: 'mybloglog.com',\n",
       " 949: 'lanxtra.com',\n",
       " 950: 'away.com',\n",
       " 951: 'grab.com',\n",
       " 952: 'tipany.com',\n",
       " 953: 'quickbooks.com',\n",
       " 954: 'instream.com',\n",
       " 955: 'pbs.org',\n",
       " 956: 'findology.com',\n",
       " 957: 'business.com',\n",
       " 958: 'cmt.com',\n",
       " 959: 'myinsiderdeals.com',\n",
       " 960: 'imagine-msn.com',\n",
       " 961: 'nhl.com',\n",
       " 962: 'modern-singles.net',\n",
       " 963: 'addfreestats.com',\n",
       " 964: 'rent.com',\n",
       " 965: 'homegain.com',\n",
       " 966: 'freeones.com',\n",
       " 967: 'jetblue.com',\n",
       " 968: 'loanweb.com',\n",
       " 969: 'findarticles.com',\n",
       " 970: 'iwon.com-o04',\n",
       " 971: 'incredigames.com',\n",
       " 972: 'webkinz.com',\n",
       " 973: 'dealerconnection.com',\n",
       " 974: 'streamaudio.com',\n",
       " 975: 'grantmedia.com',\n",
       " 976: 'home123info.com',\n",
       " 977: 'exittracking.com',\n",
       " 978: 'worldsex.com',\n",
       " 979: 'yfdmedia.com',\n",
       " 980: 'automotive.com',\n",
       " 981: 'cursormania.com',\n",
       " 982: 'tradedoubler.com',\n",
       " 983: 'bedbathandbeyond.com',\n",
       " 984: 'equifax.com',\n",
       " 985: 'hotornot.com',\n",
       " 986: 'falkag.de',\n",
       " 987: 'chicagotribune.com',\n",
       " 988: 'airtran.com',\n",
       " 989: 'thebreastcancersite.com',\n",
       " 990: 'charmingshoppes.com',\n",
       " 991: 'ugo.com',\n",
       " 992: 'cox.com',\n",
       " 993: 'spicymint.com',\n",
       " 994: 'real.com-o01',\n",
       " 995: 'targetnet.com',\n",
       " 996: 'effectivebrand.com',\n",
       " 997: 'dallascowboys.com',\n",
       " 998: 'leadgenetwork.com',\n",
       " 999: 'in.us',\n",
       " 1000: 'vistaprint.com'}"
      ]
     },
     "execution_count": 14,
     "metadata": {},
     "output_type": "execute_result"
    }
   ],
   "source": [
    "replace_dict = dict(zip(df_site.index, df_site['site']))\n",
    "replace_dict"
   ]
  },
  {
   "cell_type": "code",
   "execution_count": 15,
   "metadata": {
    "colab": {
     "base_uri": "https://localhost:8080/",
     "height": 423
    },
    "executionInfo": {
     "elapsed": 30997,
     "status": "ok",
     "timestamp": 1721202177300,
     "user": {
      "displayName": "Yong Song",
      "userId": "00576951217859821315"
     },
     "user_tz": -600
    },
    "id": "OukUjpN3Wkw5",
    "outputId": "2aba17cf-9ae9-4742-b057-7c6d1d45fefa"
   },
   "outputs": [
    {
     "data": {
      "text/html": [
       "<div>\n",
       "<style scoped>\n",
       "    .dataframe tbody tr th:only-of-type {\n",
       "        vertical-align: middle;\n",
       "    }\n",
       "\n",
       "    .dataframe tbody tr th {\n",
       "        vertical-align: top;\n",
       "    }\n",
       "\n",
       "    .dataframe thead th {\n",
       "        text-align: right;\n",
       "    }\n",
       "</style>\n",
       "<table border=\"1\" class=\"dataframe\">\n",
       "  <thead>\n",
       "    <tr style=\"text-align: right;\">\n",
       "      <th></th>\n",
       "      <th>id</th>\n",
       "      <th>site</th>\n",
       "      <th>visits</th>\n",
       "    </tr>\n",
       "  </thead>\n",
       "  <tbody>\n",
       "    <tr>\n",
       "      <th>0</th>\n",
       "      <td>991</td>\n",
       "      <td>032439.com</td>\n",
       "      <td>1</td>\n",
       "    </tr>\n",
       "    <tr>\n",
       "      <th>1</th>\n",
       "      <td>7940</td>\n",
       "      <td>032439.com</td>\n",
       "      <td>2</td>\n",
       "    </tr>\n",
       "    <tr>\n",
       "      <th>2</th>\n",
       "      <td>2453</td>\n",
       "      <td>032439.com</td>\n",
       "      <td>12</td>\n",
       "    </tr>\n",
       "    <tr>\n",
       "      <th>3</th>\n",
       "      <td>1650</td>\n",
       "      <td>032439.com</td>\n",
       "      <td>1</td>\n",
       "    </tr>\n",
       "    <tr>\n",
       "      <th>4</th>\n",
       "      <td>1290</td>\n",
       "      <td>032439.com</td>\n",
       "      <td>6</td>\n",
       "    </tr>\n",
       "    <tr>\n",
       "      <th>...</th>\n",
       "      <td>...</td>\n",
       "      <td>...</td>\n",
       "      <td>...</td>\n",
       "    </tr>\n",
       "    <tr>\n",
       "      <th>2271679</th>\n",
       "      <td>8767</td>\n",
       "      <td>zwire.com</td>\n",
       "      <td>1</td>\n",
       "    </tr>\n",
       "    <tr>\n",
       "      <th>2271680</th>\n",
       "      <td>3786</td>\n",
       "      <td>zwire.com</td>\n",
       "      <td>32</td>\n",
       "    </tr>\n",
       "    <tr>\n",
       "      <th>2271681</th>\n",
       "      <td>5907</td>\n",
       "      <td>zwire.com</td>\n",
       "      <td>1</td>\n",
       "    </tr>\n",
       "    <tr>\n",
       "      <th>2271682</th>\n",
       "      <td>5345</td>\n",
       "      <td>zwire.com</td>\n",
       "      <td>14</td>\n",
       "    </tr>\n",
       "    <tr>\n",
       "      <th>2271683</th>\n",
       "      <td>4222</td>\n",
       "      <td>zwire.com</td>\n",
       "      <td>1</td>\n",
       "    </tr>\n",
       "  </tbody>\n",
       "</table>\n",
       "<p>2271684 rows × 3 columns</p>\n",
       "</div>"
      ],
      "text/plain": [
       "           id        site  visits\n",
       "0         991  032439.com       1\n",
       "1        7940  032439.com       2\n",
       "2        2453  032439.com      12\n",
       "3        1650  032439.com       1\n",
       "4        1290  032439.com       6\n",
       "...       ...         ...     ...\n",
       "2271679  8767   zwire.com       1\n",
       "2271680  3786   zwire.com      32\n",
       "2271681  5907   zwire.com       1\n",
       "2271682  5345   zwire.com      14\n",
       "2271683  4222   zwire.com       1\n",
       "\n",
       "[2271684 rows x 3 columns]"
      ]
     },
     "execution_count": 15,
     "metadata": {},
     "output_type": "execute_result"
    }
   ],
   "source": [
    "df_web['site'] = df_web['site'].replace(replace_dict)\n",
    "df_web"
   ]
  },
  {
   "cell_type": "markdown",
   "metadata": {
    "id": "Jvd89l7Qvc7d"
   },
   "source": [
    "- id is browser/machine, or person/household loosely\n",
    "- site: website visited\n",
    "- visits: number of visits"
   ]
  },
  {
   "cell_type": "code",
   "execution_count": 16,
   "metadata": {
    "colab": {
     "base_uri": "https://localhost:8080/"
    },
    "executionInfo": {
     "elapsed": 387,
     "status": "ok",
     "timestamp": 1721202908123,
     "user": {
      "displayName": "Yong Song",
      "userId": "00576951217859821315"
     },
     "user_tz": -600
    },
    "id": "S4HTfg1AubGW",
    "outputId": "b2e50939-eacd-4ce1-f0d7-88cd528dd43a"
   },
   "outputs": [
    {
     "name": "stdout",
     "output_type": "stream",
     "text": [
      "<class 'pandas.core.frame.DataFrame'>\n",
      "RangeIndex: 2271684 entries, 0 to 2271683\n",
      "Data columns (total 3 columns):\n",
      " #   Column  Dtype \n",
      "---  ------  ----- \n",
      " 0   id      int64 \n",
      " 1   site    object\n",
      " 2   visits  int64 \n",
      "dtypes: int64(2), object(1)\n",
      "memory usage: 52.0+ MB\n"
     ]
    }
   ],
   "source": [
    "df_web.info()"
   ]
  },
  {
   "cell_type": "code",
   "execution_count": 37,
   "metadata": {
    "id": "Lh4sNm0hxVV_"
   },
   "outputs": [],
   "source": [
    "# this step is for convenient data loading. Not necessary\n",
    "df_web.to_csv(\"sy_df_web.csv\", index=False)"
   ]
  },
  {
   "cell_type": "code",
   "execution_count": 38,
   "metadata": {
    "id": "iXVPBxgxztWY"
   },
   "outputs": [],
   "source": [
    "df_web = pd.read_csv(\"https://www.dropbox.com/s/fvw0y31s1yk19fa/sy_df_web.csv?dl=1\")"
   ]
  },
  {
   "cell_type": "code",
   "execution_count": 18,
   "metadata": {
    "colab": {
     "base_uri": "https://localhost:8080/",
     "height": 206
    },
    "executionInfo": {
     "elapsed": 9657,
     "status": "ok",
     "timestamp": 1721203399905,
     "user": {
      "displayName": "Yong Song",
      "userId": "00576951217859821315"
     },
     "user_tz": -600
    },
    "id": "3FxcvcwRwqNf",
    "outputId": "a6ce7111-668b-4654-caf3-c0ba3044c1d0"
   },
   "outputs": [
    {
     "data": {
      "text/html": [
       "<div>\n",
       "<style scoped>\n",
       "    .dataframe tbody tr th:only-of-type {\n",
       "        vertical-align: middle;\n",
       "    }\n",
       "\n",
       "    .dataframe tbody tr th {\n",
       "        vertical-align: top;\n",
       "    }\n",
       "\n",
       "    .dataframe thead th {\n",
       "        text-align: right;\n",
       "    }\n",
       "</style>\n",
       "<table border=\"1\" class=\"dataframe\">\n",
       "  <thead>\n",
       "    <tr style=\"text-align: right;\">\n",
       "      <th></th>\n",
       "      <th>id</th>\n",
       "      <th>site</th>\n",
       "      <th>visits</th>\n",
       "      <th>Normalized_visits</th>\n",
       "    </tr>\n",
       "  </thead>\n",
       "  <tbody>\n",
       "    <tr>\n",
       "      <th>0</th>\n",
       "      <td>991</td>\n",
       "      <td>032439.com</td>\n",
       "      <td>1</td>\n",
       "      <td>0.029638</td>\n",
       "    </tr>\n",
       "    <tr>\n",
       "      <th>1</th>\n",
       "      <td>7940</td>\n",
       "      <td>032439.com</td>\n",
       "      <td>2</td>\n",
       "      <td>0.017897</td>\n",
       "    </tr>\n",
       "    <tr>\n",
       "      <th>2</th>\n",
       "      <td>2453</td>\n",
       "      <td>032439.com</td>\n",
       "      <td>12</td>\n",
       "      <td>0.130890</td>\n",
       "    </tr>\n",
       "    <tr>\n",
       "      <th>3</th>\n",
       "      <td>1650</td>\n",
       "      <td>032439.com</td>\n",
       "      <td>1</td>\n",
       "      <td>0.015538</td>\n",
       "    </tr>\n",
       "    <tr>\n",
       "      <th>4</th>\n",
       "      <td>1290</td>\n",
       "      <td>032439.com</td>\n",
       "      <td>6</td>\n",
       "      <td>0.088666</td>\n",
       "    </tr>\n",
       "  </tbody>\n",
       "</table>\n",
       "</div>"
      ],
      "text/plain": [
       "     id        site  visits  Normalized_visits\n",
       "0   991  032439.com       1           0.029638\n",
       "1  7940  032439.com       2           0.017897\n",
       "2  2453  032439.com      12           0.130890\n",
       "3  1650  032439.com       1           0.015538\n",
       "4  1290  032439.com       6           0.088666"
      ]
     },
     "execution_count": 18,
     "metadata": {},
     "output_type": "execute_result"
    }
   ],
   "source": [
    "id_visit_sums = df_web.groupby(\"id\")[\"visits\"].sum()\n",
    "\n",
    "normalized_visits = []\n",
    "for id, visits in zip(df_web[\"id\"], df_web[\"visits\"]):\n",
    "    normalized_visits.append(100 * visits / id_visit_sums[id])\n",
    "df_web[\"Normalized_visits\"] = normalized_visits\n",
    "df_web.head()"
   ]
  },
  {
   "cell_type": "markdown",
   "metadata": {
    "id": "wHyG1Kkc1X0x"
   },
   "source": [
    "## Pivoting\n",
    "\n",
    "[<img src=\"https://www.dropbox.com/s/rxp8vxn4lcldx3u/pivot.png?dl=1\" width = 600>](https://youtu.be/8w3wmQAMoxQ)"
   ]
  },
  {
   "cell_type": "code",
   "execution_count": 19,
   "metadata": {
    "id": "JfILvH-OyZ4w"
   },
   "outputs": [],
   "source": [
    "matrix = df_web.pivot(index='id', columns='site', values='Normalized_visits').fillna(0)"
   ]
  },
  {
   "cell_type": "code",
   "execution_count": 20,
   "metadata": {
    "colab": {
     "base_uri": "https://localhost:8080/"
    },
    "executionInfo": {
     "elapsed": 394,
     "status": "ok",
     "timestamp": 1721203446797,
     "user": {
      "displayName": "Yong Song",
      "userId": "00576951217859821315"
     },
     "user_tz": -600
    },
    "id": "NoNOK5yoKx45",
    "outputId": "95b9a549-53ae-42f0-d05d-923a562a2306"
   },
   "outputs": [
    {
     "data": {
      "text/plain": [
       "0.048216007714561235"
      ]
     },
     "execution_count": 20,
     "metadata": {},
     "output_type": "execute_result"
    }
   ],
   "source": [
    "matrix.loc[301, 'nbc.com']"
   ]
  },
  {
   "cell_type": "code",
   "execution_count": 21,
   "metadata": {
    "colab": {
     "base_uri": "https://localhost:8080/",
     "height": 287
    },
    "executionInfo": {
     "elapsed": 405,
     "status": "ok",
     "timestamp": 1721204553220,
     "user": {
      "displayName": "Yong Song",
      "userId": "00576951217859821315"
     },
     "user_tz": -600
    },
    "id": "GgwUsw1o49JL",
    "outputId": "cb74b62a-2c04-42bf-e703-0d34e7947793"
   },
   "outputs": [
    {
     "data": {
      "text/html": [
       "<div>\n",
       "<style scoped>\n",
       "    .dataframe tbody tr th:only-of-type {\n",
       "        vertical-align: middle;\n",
       "    }\n",
       "\n",
       "    .dataframe tbody tr th {\n",
       "        vertical-align: top;\n",
       "    }\n",
       "\n",
       "    .dataframe thead th {\n",
       "        text-align: right;\n",
       "    }\n",
       "</style>\n",
       "<table border=\"1\" class=\"dataframe\">\n",
       "  <thead>\n",
       "    <tr style=\"text-align: right;\">\n",
       "      <th>site</th>\n",
       "      <th>032439.com</th>\n",
       "      <th>123greetings.com</th>\n",
       "      <th>157.22.32.111</th>\n",
       "      <th>180solutions.com</th>\n",
       "      <th>192.168.1.1</th>\n",
       "      <th>204.181.57.155</th>\n",
       "      <th>204.95.60.12</th>\n",
       "      <th>207.97.212.250</th>\n",
       "      <th>216.133.243.28</th>\n",
       "      <th>216.139.222.230</th>\n",
       "      <th>...</th>\n",
       "      <th>yournewsletters.net</th>\n",
       "      <th>youtube.com</th>\n",
       "      <th>ysbweb.com</th>\n",
       "      <th>zango.com</th>\n",
       "      <th>zap2it.com</th>\n",
       "      <th>zappos.com</th>\n",
       "      <th>zedo.com</th>\n",
       "      <th>zonelabs.com</th>\n",
       "      <th>ztod.com</th>\n",
       "      <th>zwire.com</th>\n",
       "    </tr>\n",
       "    <tr>\n",
       "      <th>id</th>\n",
       "      <th></th>\n",
       "      <th></th>\n",
       "      <th></th>\n",
       "      <th></th>\n",
       "      <th></th>\n",
       "      <th></th>\n",
       "      <th></th>\n",
       "      <th></th>\n",
       "      <th></th>\n",
       "      <th></th>\n",
       "      <th></th>\n",
       "      <th></th>\n",
       "      <th></th>\n",
       "      <th></th>\n",
       "      <th></th>\n",
       "      <th></th>\n",
       "      <th></th>\n",
       "      <th></th>\n",
       "      <th></th>\n",
       "      <th></th>\n",
       "      <th></th>\n",
       "    </tr>\n",
       "  </thead>\n",
       "  <tbody>\n",
       "    <tr>\n",
       "      <th>1</th>\n",
       "      <td>0.0</td>\n",
       "      <td>0.10005</td>\n",
       "      <td>0.0</td>\n",
       "      <td>0.0</td>\n",
       "      <td>0.0</td>\n",
       "      <td>0.000000</td>\n",
       "      <td>0.025013</td>\n",
       "      <td>0.0</td>\n",
       "      <td>0.0</td>\n",
       "      <td>0.0</td>\n",
       "      <td>...</td>\n",
       "      <td>0.0</td>\n",
       "      <td>0.075038</td>\n",
       "      <td>0.025013</td>\n",
       "      <td>0.0</td>\n",
       "      <td>0.025013</td>\n",
       "      <td>0.0</td>\n",
       "      <td>0.625313</td>\n",
       "      <td>0.0</td>\n",
       "      <td>0.0</td>\n",
       "      <td>0.000000</td>\n",
       "    </tr>\n",
       "    <tr>\n",
       "      <th>2</th>\n",
       "      <td>0.0</td>\n",
       "      <td>0.00000</td>\n",
       "      <td>0.0</td>\n",
       "      <td>0.0</td>\n",
       "      <td>0.0</td>\n",
       "      <td>0.000000</td>\n",
       "      <td>0.000000</td>\n",
       "      <td>0.0</td>\n",
       "      <td>0.0</td>\n",
       "      <td>0.0</td>\n",
       "      <td>...</td>\n",
       "      <td>0.0</td>\n",
       "      <td>0.064475</td>\n",
       "      <td>0.000000</td>\n",
       "      <td>0.0</td>\n",
       "      <td>0.000000</td>\n",
       "      <td>0.0</td>\n",
       "      <td>0.644745</td>\n",
       "      <td>0.0</td>\n",
       "      <td>0.0</td>\n",
       "      <td>0.000000</td>\n",
       "    </tr>\n",
       "    <tr>\n",
       "      <th>3</th>\n",
       "      <td>0.0</td>\n",
       "      <td>0.00000</td>\n",
       "      <td>0.0</td>\n",
       "      <td>0.0</td>\n",
       "      <td>0.0</td>\n",
       "      <td>0.000000</td>\n",
       "      <td>0.000000</td>\n",
       "      <td>0.0</td>\n",
       "      <td>0.0</td>\n",
       "      <td>0.0</td>\n",
       "      <td>...</td>\n",
       "      <td>0.0</td>\n",
       "      <td>0.019489</td>\n",
       "      <td>0.000000</td>\n",
       "      <td>0.0</td>\n",
       "      <td>0.019489</td>\n",
       "      <td>0.0</td>\n",
       "      <td>0.389788</td>\n",
       "      <td>0.0</td>\n",
       "      <td>0.0</td>\n",
       "      <td>0.000000</td>\n",
       "    </tr>\n",
       "    <tr>\n",
       "      <th>4</th>\n",
       "      <td>0.0</td>\n",
       "      <td>0.00000</td>\n",
       "      <td>0.0</td>\n",
       "      <td>0.0</td>\n",
       "      <td>0.0</td>\n",
       "      <td>0.022655</td>\n",
       "      <td>0.000000</td>\n",
       "      <td>0.0</td>\n",
       "      <td>0.0</td>\n",
       "      <td>0.0</td>\n",
       "      <td>...</td>\n",
       "      <td>0.0</td>\n",
       "      <td>0.000000</td>\n",
       "      <td>0.022655</td>\n",
       "      <td>0.0</td>\n",
       "      <td>0.113276</td>\n",
       "      <td>0.0</td>\n",
       "      <td>1.631174</td>\n",
       "      <td>0.0</td>\n",
       "      <td>0.0</td>\n",
       "      <td>0.022655</td>\n",
       "    </tr>\n",
       "    <tr>\n",
       "      <th>5</th>\n",
       "      <td>0.0</td>\n",
       "      <td>0.00000</td>\n",
       "      <td>0.0</td>\n",
       "      <td>0.0</td>\n",
       "      <td>0.0</td>\n",
       "      <td>0.000000</td>\n",
       "      <td>0.000000</td>\n",
       "      <td>0.0</td>\n",
       "      <td>0.0</td>\n",
       "      <td>0.0</td>\n",
       "      <td>...</td>\n",
       "      <td>0.0</td>\n",
       "      <td>0.000000</td>\n",
       "      <td>0.000000</td>\n",
       "      <td>0.0</td>\n",
       "      <td>0.000000</td>\n",
       "      <td>0.0</td>\n",
       "      <td>0.930774</td>\n",
       "      <td>0.0</td>\n",
       "      <td>0.0</td>\n",
       "      <td>0.000000</td>\n",
       "    </tr>\n",
       "  </tbody>\n",
       "</table>\n",
       "<p>5 rows × 1000 columns</p>\n",
       "</div>"
      ],
      "text/plain": [
       "site  032439.com  123greetings.com  157.22.32.111  180solutions.com  \\\n",
       "id                                                                    \n",
       "1            0.0           0.10005            0.0               0.0   \n",
       "2            0.0           0.00000            0.0               0.0   \n",
       "3            0.0           0.00000            0.0               0.0   \n",
       "4            0.0           0.00000            0.0               0.0   \n",
       "5            0.0           0.00000            0.0               0.0   \n",
       "\n",
       "site  192.168.1.1  204.181.57.155  204.95.60.12  207.97.212.250  \\\n",
       "id                                                                \n",
       "1             0.0        0.000000      0.025013             0.0   \n",
       "2             0.0        0.000000      0.000000             0.0   \n",
       "3             0.0        0.000000      0.000000             0.0   \n",
       "4             0.0        0.022655      0.000000             0.0   \n",
       "5             0.0        0.000000      0.000000             0.0   \n",
       "\n",
       "site  216.133.243.28  216.139.222.230  ...  yournewsletters.net  youtube.com  \\\n",
       "id                                     ...                                     \n",
       "1                0.0              0.0  ...                  0.0     0.075038   \n",
       "2                0.0              0.0  ...                  0.0     0.064475   \n",
       "3                0.0              0.0  ...                  0.0     0.019489   \n",
       "4                0.0              0.0  ...                  0.0     0.000000   \n",
       "5                0.0              0.0  ...                  0.0     0.000000   \n",
       "\n",
       "site  ysbweb.com  zango.com  zap2it.com  zappos.com  zedo.com  zonelabs.com  \\\n",
       "id                                                                            \n",
       "1       0.025013        0.0    0.025013         0.0  0.625313           0.0   \n",
       "2       0.000000        0.0    0.000000         0.0  0.644745           0.0   \n",
       "3       0.000000        0.0    0.019489         0.0  0.389788           0.0   \n",
       "4       0.022655        0.0    0.113276         0.0  1.631174           0.0   \n",
       "5       0.000000        0.0    0.000000         0.0  0.930774           0.0   \n",
       "\n",
       "site  ztod.com  zwire.com  \n",
       "id                         \n",
       "1          0.0   0.000000  \n",
       "2          0.0   0.000000  \n",
       "3          0.0   0.000000  \n",
       "4          0.0   0.022655  \n",
       "5          0.0   0.000000  \n",
       "\n",
       "[5 rows x 1000 columns]"
      ]
     },
     "execution_count": 21,
     "metadata": {},
     "output_type": "execute_result"
    }
   ],
   "source": [
    "matrix.head()"
   ]
  },
  {
   "cell_type": "markdown",
   "metadata": {
    "id": "FauzGHtjdRdg"
   },
   "source": [
    "## GIGO\n",
    "As a sanity check, see what sites household #1 visited\n",
    "\n",
    "- This is actually the **most important** step\n",
    "- remember: **garbage in, garbage out**, or [GIGO](https://en.wikipedia.org/wiki/Garbage_in,_garbage_out)"
   ]
  },
  {
   "cell_type": "code",
   "execution_count": null,
   "metadata": {
    "colab": {
     "base_uri": "https://localhost:8080/"
    },
    "executionInfo": {
     "elapsed": 384,
     "status": "ok",
     "timestamp": 1721204566026,
     "user": {
      "displayName": "Yong Song",
      "userId": "00576951217859821315"
     },
     "user_tz": -600
    },
    "id": "hm-iAaA7Caa8",
    "outputId": "081e4703-2d19-4768-c609-f3f24bf1b1d1"
   },
   "outputs": [
    {
     "data": {
      "text/plain": [
       "site\n",
       "cox.net               13.381691\n",
       "yahoo.com             11.855928\n",
       "google.com             6.528264\n",
       "dell.com               4.777389\n",
       "atdmt.com              4.052026\n",
       "                        ...    \n",
       "myinsiderdeals.com     0.025013\n",
       "mymailstamp.com        0.025013\n",
       "checkm8.com            0.025013\n",
       "mywebface.com          0.025013\n",
       "kontera.com            0.025013\n",
       "Name: 1, Length: 302, dtype: float64"
      ]
     },
     "execution_count": 22,
     "metadata": {},
     "output_type": "execute_result"
    }
   ],
   "source": [
    "matrix.loc[1, matrix.loc[1] != 0].sort_values(ascending=False) # can you read and understand what is going on here?"
   ]
  },
  {
   "cell_type": "code",
   "execution_count": 23,
   "metadata": {
    "colab": {
     "base_uri": "https://localhost:8080/"
    },
    "executionInfo": {
     "elapsed": 2482,
     "status": "ok",
     "timestamp": 1721204601539,
     "user": {
      "displayName": "Yong Song",
      "userId": "00576951217859821315"
     },
     "user_tz": -600
    },
    "id": "-ZgAR7QPRjTh",
    "outputId": "000d7a80-7f7b-4ce0-b4c4-5965cd73497f"
   },
   "outputs": [
    {
     "name": "stdout",
     "output_type": "stream",
     "text": [
      "<class 'pandas.core.frame.DataFrame'>\n",
      "RangeIndex: 10000 entries, 0 to 9999\n",
      "Data columns (total 2 columns):\n",
      " #   Column  Non-Null Count  Dtype\n",
      "---  ------  --------------  -----\n",
      " 0   id      10000 non-null  int64\n",
      " 1   spend   10000 non-null  int64\n",
      "dtypes: int64(2)\n",
      "memory usage: 156.4 KB\n"
     ]
    }
   ],
   "source": [
    "df_spend = pd.read_csv(\"https://www.dropbox.com/s/pmh3l3qsqvv05c3/browser-totalspend.csv?dl=1\")\n",
    "df_spend.info()"
   ]
  },
  {
   "cell_type": "code",
   "execution_count": 24,
   "metadata": {
    "colab": {
     "base_uri": "https://localhost:8080/",
     "height": 206
    },
    "executionInfo": {
     "elapsed": 376,
     "status": "ok",
     "timestamp": 1721204617744,
     "user": {
      "displayName": "Yong Song",
      "userId": "00576951217859821315"
     },
     "user_tz": -600
    },
    "id": "TPBpYmlORt8_",
    "outputId": "e9bb4877-d9d0-4b34-ebf0-9f74a74f597c"
   },
   "outputs": [
    {
     "data": {
      "text/html": [
       "<div>\n",
       "<style scoped>\n",
       "    .dataframe tbody tr th:only-of-type {\n",
       "        vertical-align: middle;\n",
       "    }\n",
       "\n",
       "    .dataframe tbody tr th {\n",
       "        vertical-align: top;\n",
       "    }\n",
       "\n",
       "    .dataframe thead th {\n",
       "        text-align: right;\n",
       "    }\n",
       "</style>\n",
       "<table border=\"1\" class=\"dataframe\">\n",
       "  <thead>\n",
       "    <tr style=\"text-align: right;\">\n",
       "      <th></th>\n",
       "      <th>id</th>\n",
       "      <th>spend</th>\n",
       "    </tr>\n",
       "  </thead>\n",
       "  <tbody>\n",
       "    <tr>\n",
       "      <th>0</th>\n",
       "      <td>1</td>\n",
       "      <td>424</td>\n",
       "    </tr>\n",
       "    <tr>\n",
       "      <th>1</th>\n",
       "      <td>2</td>\n",
       "      <td>2335</td>\n",
       "    </tr>\n",
       "    <tr>\n",
       "      <th>2</th>\n",
       "      <td>3</td>\n",
       "      <td>279</td>\n",
       "    </tr>\n",
       "    <tr>\n",
       "      <th>3</th>\n",
       "      <td>4</td>\n",
       "      <td>829</td>\n",
       "    </tr>\n",
       "    <tr>\n",
       "      <th>4</th>\n",
       "      <td>5</td>\n",
       "      <td>221</td>\n",
       "    </tr>\n",
       "  </tbody>\n",
       "</table>\n",
       "</div>"
      ],
      "text/plain": [
       "   id  spend\n",
       "0   1    424\n",
       "1   2   2335\n",
       "2   3    279\n",
       "3   4    829\n",
       "4   5    221"
      ]
     },
     "execution_count": 24,
     "metadata": {},
     "output_type": "execute_result"
    }
   ],
   "source": [
    "df_spend.head()"
   ]
  },
  {
   "cell_type": "markdown",
   "metadata": {
    "id": "hnIj8UY0R35L"
   },
   "source": [
    "## LASSO it"
   ]
  },
  {
   "cell_type": "code",
   "execution_count": 25,
   "metadata": {
    "colab": {
     "base_uri": "https://localhost:8080/",
     "height": 74
    },
    "executionInfo": {
     "elapsed": 932,
     "status": "ok",
     "timestamp": 1721204795865,
     "user": {
      "displayName": "Yong Song",
      "userId": "00576951217859821315"
     },
     "user_tz": -600
    },
    "id": "t-TGBoWOQPhW",
    "outputId": "de24e3c7-57ac-4d24-d83c-4b4a9c611feb"
   },
   "outputs": [
    {
     "data": {
      "text/html": [
       "<style>#sk-container-id-1 {\n",
       "  /* Definition of color scheme common for light and dark mode */\n",
       "  --sklearn-color-text: #000;\n",
       "  --sklearn-color-text-muted: #666;\n",
       "  --sklearn-color-line: gray;\n",
       "  /* Definition of color scheme for unfitted estimators */\n",
       "  --sklearn-color-unfitted-level-0: #fff5e6;\n",
       "  --sklearn-color-unfitted-level-1: #f6e4d2;\n",
       "  --sklearn-color-unfitted-level-2: #ffe0b3;\n",
       "  --sklearn-color-unfitted-level-3: chocolate;\n",
       "  /* Definition of color scheme for fitted estimators */\n",
       "  --sklearn-color-fitted-level-0: #f0f8ff;\n",
       "  --sklearn-color-fitted-level-1: #d4ebff;\n",
       "  --sklearn-color-fitted-level-2: #b3dbfd;\n",
       "  --sklearn-color-fitted-level-3: cornflowerblue;\n",
       "\n",
       "  /* Specific color for light theme */\n",
       "  --sklearn-color-text-on-default-background: var(--sg-text-color, var(--theme-code-foreground, var(--jp-content-font-color1, black)));\n",
       "  --sklearn-color-background: var(--sg-background-color, var(--theme-background, var(--jp-layout-color0, white)));\n",
       "  --sklearn-color-border-box: var(--sg-text-color, var(--theme-code-foreground, var(--jp-content-font-color1, black)));\n",
       "  --sklearn-color-icon: #696969;\n",
       "\n",
       "  @media (prefers-color-scheme: dark) {\n",
       "    /* Redefinition of color scheme for dark theme */\n",
       "    --sklearn-color-text-on-default-background: var(--sg-text-color, var(--theme-code-foreground, var(--jp-content-font-color1, white)));\n",
       "    --sklearn-color-background: var(--sg-background-color, var(--theme-background, var(--jp-layout-color0, #111)));\n",
       "    --sklearn-color-border-box: var(--sg-text-color, var(--theme-code-foreground, var(--jp-content-font-color1, white)));\n",
       "    --sklearn-color-icon: #878787;\n",
       "  }\n",
       "}\n",
       "\n",
       "#sk-container-id-1 {\n",
       "  color: var(--sklearn-color-text);\n",
       "}\n",
       "\n",
       "#sk-container-id-1 pre {\n",
       "  padding: 0;\n",
       "}\n",
       "\n",
       "#sk-container-id-1 input.sk-hidden--visually {\n",
       "  border: 0;\n",
       "  clip: rect(1px 1px 1px 1px);\n",
       "  clip: rect(1px, 1px, 1px, 1px);\n",
       "  height: 1px;\n",
       "  margin: -1px;\n",
       "  overflow: hidden;\n",
       "  padding: 0;\n",
       "  position: absolute;\n",
       "  width: 1px;\n",
       "}\n",
       "\n",
       "#sk-container-id-1 div.sk-dashed-wrapped {\n",
       "  border: 1px dashed var(--sklearn-color-line);\n",
       "  margin: 0 0.4em 0.5em 0.4em;\n",
       "  box-sizing: border-box;\n",
       "  padding-bottom: 0.4em;\n",
       "  background-color: var(--sklearn-color-background);\n",
       "}\n",
       "\n",
       "#sk-container-id-1 div.sk-container {\n",
       "  /* jupyter's `normalize.less` sets `[hidden] { display: none; }`\n",
       "     but bootstrap.min.css set `[hidden] { display: none !important; }`\n",
       "     so we also need the `!important` here to be able to override the\n",
       "     default hidden behavior on the sphinx rendered scikit-learn.org.\n",
       "     See: https://github.com/scikit-learn/scikit-learn/issues/21755 */\n",
       "  display: inline-block !important;\n",
       "  position: relative;\n",
       "}\n",
       "\n",
       "#sk-container-id-1 div.sk-text-repr-fallback {\n",
       "  display: none;\n",
       "}\n",
       "\n",
       "div.sk-parallel-item,\n",
       "div.sk-serial,\n",
       "div.sk-item {\n",
       "  /* draw centered vertical line to link estimators */\n",
       "  background-image: linear-gradient(var(--sklearn-color-text-on-default-background), var(--sklearn-color-text-on-default-background));\n",
       "  background-size: 2px 100%;\n",
       "  background-repeat: no-repeat;\n",
       "  background-position: center center;\n",
       "}\n",
       "\n",
       "/* Parallel-specific style estimator block */\n",
       "\n",
       "#sk-container-id-1 div.sk-parallel-item::after {\n",
       "  content: \"\";\n",
       "  width: 100%;\n",
       "  border-bottom: 2px solid var(--sklearn-color-text-on-default-background);\n",
       "  flex-grow: 1;\n",
       "}\n",
       "\n",
       "#sk-container-id-1 div.sk-parallel {\n",
       "  display: flex;\n",
       "  align-items: stretch;\n",
       "  justify-content: center;\n",
       "  background-color: var(--sklearn-color-background);\n",
       "  position: relative;\n",
       "}\n",
       "\n",
       "#sk-container-id-1 div.sk-parallel-item {\n",
       "  display: flex;\n",
       "  flex-direction: column;\n",
       "}\n",
       "\n",
       "#sk-container-id-1 div.sk-parallel-item:first-child::after {\n",
       "  align-self: flex-end;\n",
       "  width: 50%;\n",
       "}\n",
       "\n",
       "#sk-container-id-1 div.sk-parallel-item:last-child::after {\n",
       "  align-self: flex-start;\n",
       "  width: 50%;\n",
       "}\n",
       "\n",
       "#sk-container-id-1 div.sk-parallel-item:only-child::after {\n",
       "  width: 0;\n",
       "}\n",
       "\n",
       "/* Serial-specific style estimator block */\n",
       "\n",
       "#sk-container-id-1 div.sk-serial {\n",
       "  display: flex;\n",
       "  flex-direction: column;\n",
       "  align-items: center;\n",
       "  background-color: var(--sklearn-color-background);\n",
       "  padding-right: 1em;\n",
       "  padding-left: 1em;\n",
       "}\n",
       "\n",
       "\n",
       "/* Toggleable style: style used for estimator/Pipeline/ColumnTransformer box that is\n",
       "clickable and can be expanded/collapsed.\n",
       "- Pipeline and ColumnTransformer use this feature and define the default style\n",
       "- Estimators will overwrite some part of the style using the `sk-estimator` class\n",
       "*/\n",
       "\n",
       "/* Pipeline and ColumnTransformer style (default) */\n",
       "\n",
       "#sk-container-id-1 div.sk-toggleable {\n",
       "  /* Default theme specific background. It is overwritten whether we have a\n",
       "  specific estimator or a Pipeline/ColumnTransformer */\n",
       "  background-color: var(--sklearn-color-background);\n",
       "}\n",
       "\n",
       "/* Toggleable label */\n",
       "#sk-container-id-1 label.sk-toggleable__label {\n",
       "  cursor: pointer;\n",
       "  display: flex;\n",
       "  width: 100%;\n",
       "  margin-bottom: 0;\n",
       "  padding: 0.5em;\n",
       "  box-sizing: border-box;\n",
       "  text-align: center;\n",
       "  align-items: start;\n",
       "  justify-content: space-between;\n",
       "  gap: 0.5em;\n",
       "}\n",
       "\n",
       "#sk-container-id-1 label.sk-toggleable__label .caption {\n",
       "  font-size: 0.6rem;\n",
       "  font-weight: lighter;\n",
       "  color: var(--sklearn-color-text-muted);\n",
       "}\n",
       "\n",
       "#sk-container-id-1 label.sk-toggleable__label-arrow:before {\n",
       "  /* Arrow on the left of the label */\n",
       "  content: \"▸\";\n",
       "  float: left;\n",
       "  margin-right: 0.25em;\n",
       "  color: var(--sklearn-color-icon);\n",
       "}\n",
       "\n",
       "#sk-container-id-1 label.sk-toggleable__label-arrow:hover:before {\n",
       "  color: var(--sklearn-color-text);\n",
       "}\n",
       "\n",
       "/* Toggleable content - dropdown */\n",
       "\n",
       "#sk-container-id-1 div.sk-toggleable__content {\n",
       "  display: none;\n",
       "  text-align: left;\n",
       "  /* unfitted */\n",
       "  background-color: var(--sklearn-color-unfitted-level-0);\n",
       "}\n",
       "\n",
       "#sk-container-id-1 div.sk-toggleable__content.fitted {\n",
       "  /* fitted */\n",
       "  background-color: var(--sklearn-color-fitted-level-0);\n",
       "}\n",
       "\n",
       "#sk-container-id-1 div.sk-toggleable__content pre {\n",
       "  margin: 0.2em;\n",
       "  border-radius: 0.25em;\n",
       "  color: var(--sklearn-color-text);\n",
       "  /* unfitted */\n",
       "  background-color: var(--sklearn-color-unfitted-level-0);\n",
       "}\n",
       "\n",
       "#sk-container-id-1 div.sk-toggleable__content.fitted pre {\n",
       "  /* unfitted */\n",
       "  background-color: var(--sklearn-color-fitted-level-0);\n",
       "}\n",
       "\n",
       "#sk-container-id-1 input.sk-toggleable__control:checked~div.sk-toggleable__content {\n",
       "  /* Expand drop-down */\n",
       "  display: block;\n",
       "  width: 100%;\n",
       "  overflow: visible;\n",
       "}\n",
       "\n",
       "#sk-container-id-1 input.sk-toggleable__control:checked~label.sk-toggleable__label-arrow:before {\n",
       "  content: \"▾\";\n",
       "}\n",
       "\n",
       "/* Pipeline/ColumnTransformer-specific style */\n",
       "\n",
       "#sk-container-id-1 div.sk-label input.sk-toggleable__control:checked~label.sk-toggleable__label {\n",
       "  color: var(--sklearn-color-text);\n",
       "  background-color: var(--sklearn-color-unfitted-level-2);\n",
       "}\n",
       "\n",
       "#sk-container-id-1 div.sk-label.fitted input.sk-toggleable__control:checked~label.sk-toggleable__label {\n",
       "  background-color: var(--sklearn-color-fitted-level-2);\n",
       "}\n",
       "\n",
       "/* Estimator-specific style */\n",
       "\n",
       "/* Colorize estimator box */\n",
       "#sk-container-id-1 div.sk-estimator input.sk-toggleable__control:checked~label.sk-toggleable__label {\n",
       "  /* unfitted */\n",
       "  background-color: var(--sklearn-color-unfitted-level-2);\n",
       "}\n",
       "\n",
       "#sk-container-id-1 div.sk-estimator.fitted input.sk-toggleable__control:checked~label.sk-toggleable__label {\n",
       "  /* fitted */\n",
       "  background-color: var(--sklearn-color-fitted-level-2);\n",
       "}\n",
       "\n",
       "#sk-container-id-1 div.sk-label label.sk-toggleable__label,\n",
       "#sk-container-id-1 div.sk-label label {\n",
       "  /* The background is the default theme color */\n",
       "  color: var(--sklearn-color-text-on-default-background);\n",
       "}\n",
       "\n",
       "/* On hover, darken the color of the background */\n",
       "#sk-container-id-1 div.sk-label:hover label.sk-toggleable__label {\n",
       "  color: var(--sklearn-color-text);\n",
       "  background-color: var(--sklearn-color-unfitted-level-2);\n",
       "}\n",
       "\n",
       "/* Label box, darken color on hover, fitted */\n",
       "#sk-container-id-1 div.sk-label.fitted:hover label.sk-toggleable__label.fitted {\n",
       "  color: var(--sklearn-color-text);\n",
       "  background-color: var(--sklearn-color-fitted-level-2);\n",
       "}\n",
       "\n",
       "/* Estimator label */\n",
       "\n",
       "#sk-container-id-1 div.sk-label label {\n",
       "  font-family: monospace;\n",
       "  font-weight: bold;\n",
       "  display: inline-block;\n",
       "  line-height: 1.2em;\n",
       "}\n",
       "\n",
       "#sk-container-id-1 div.sk-label-container {\n",
       "  text-align: center;\n",
       "}\n",
       "\n",
       "/* Estimator-specific */\n",
       "#sk-container-id-1 div.sk-estimator {\n",
       "  font-family: monospace;\n",
       "  border: 1px dotted var(--sklearn-color-border-box);\n",
       "  border-radius: 0.25em;\n",
       "  box-sizing: border-box;\n",
       "  margin-bottom: 0.5em;\n",
       "  /* unfitted */\n",
       "  background-color: var(--sklearn-color-unfitted-level-0);\n",
       "}\n",
       "\n",
       "#sk-container-id-1 div.sk-estimator.fitted {\n",
       "  /* fitted */\n",
       "  background-color: var(--sklearn-color-fitted-level-0);\n",
       "}\n",
       "\n",
       "/* on hover */\n",
       "#sk-container-id-1 div.sk-estimator:hover {\n",
       "  /* unfitted */\n",
       "  background-color: var(--sklearn-color-unfitted-level-2);\n",
       "}\n",
       "\n",
       "#sk-container-id-1 div.sk-estimator.fitted:hover {\n",
       "  /* fitted */\n",
       "  background-color: var(--sklearn-color-fitted-level-2);\n",
       "}\n",
       "\n",
       "/* Specification for estimator info (e.g. \"i\" and \"?\") */\n",
       "\n",
       "/* Common style for \"i\" and \"?\" */\n",
       "\n",
       ".sk-estimator-doc-link,\n",
       "a:link.sk-estimator-doc-link,\n",
       "a:visited.sk-estimator-doc-link {\n",
       "  float: right;\n",
       "  font-size: smaller;\n",
       "  line-height: 1em;\n",
       "  font-family: monospace;\n",
       "  background-color: var(--sklearn-color-background);\n",
       "  border-radius: 1em;\n",
       "  height: 1em;\n",
       "  width: 1em;\n",
       "  text-decoration: none !important;\n",
       "  margin-left: 0.5em;\n",
       "  text-align: center;\n",
       "  /* unfitted */\n",
       "  border: var(--sklearn-color-unfitted-level-1) 1pt solid;\n",
       "  color: var(--sklearn-color-unfitted-level-1);\n",
       "}\n",
       "\n",
       ".sk-estimator-doc-link.fitted,\n",
       "a:link.sk-estimator-doc-link.fitted,\n",
       "a:visited.sk-estimator-doc-link.fitted {\n",
       "  /* fitted */\n",
       "  border: var(--sklearn-color-fitted-level-1) 1pt solid;\n",
       "  color: var(--sklearn-color-fitted-level-1);\n",
       "}\n",
       "\n",
       "/* On hover */\n",
       "div.sk-estimator:hover .sk-estimator-doc-link:hover,\n",
       ".sk-estimator-doc-link:hover,\n",
       "div.sk-label-container:hover .sk-estimator-doc-link:hover,\n",
       ".sk-estimator-doc-link:hover {\n",
       "  /* unfitted */\n",
       "  background-color: var(--sklearn-color-unfitted-level-3);\n",
       "  color: var(--sklearn-color-background);\n",
       "  text-decoration: none;\n",
       "}\n",
       "\n",
       "div.sk-estimator.fitted:hover .sk-estimator-doc-link.fitted:hover,\n",
       ".sk-estimator-doc-link.fitted:hover,\n",
       "div.sk-label-container:hover .sk-estimator-doc-link.fitted:hover,\n",
       ".sk-estimator-doc-link.fitted:hover {\n",
       "  /* fitted */\n",
       "  background-color: var(--sklearn-color-fitted-level-3);\n",
       "  color: var(--sklearn-color-background);\n",
       "  text-decoration: none;\n",
       "}\n",
       "\n",
       "/* Span, style for the box shown on hovering the info icon */\n",
       ".sk-estimator-doc-link span {\n",
       "  display: none;\n",
       "  z-index: 9999;\n",
       "  position: relative;\n",
       "  font-weight: normal;\n",
       "  right: .2ex;\n",
       "  padding: .5ex;\n",
       "  margin: .5ex;\n",
       "  width: min-content;\n",
       "  min-width: 20ex;\n",
       "  max-width: 50ex;\n",
       "  color: var(--sklearn-color-text);\n",
       "  box-shadow: 2pt 2pt 4pt #999;\n",
       "  /* unfitted */\n",
       "  background: var(--sklearn-color-unfitted-level-0);\n",
       "  border: .5pt solid var(--sklearn-color-unfitted-level-3);\n",
       "}\n",
       "\n",
       ".sk-estimator-doc-link.fitted span {\n",
       "  /* fitted */\n",
       "  background: var(--sklearn-color-fitted-level-0);\n",
       "  border: var(--sklearn-color-fitted-level-3);\n",
       "}\n",
       "\n",
       ".sk-estimator-doc-link:hover span {\n",
       "  display: block;\n",
       "}\n",
       "\n",
       "/* \"?\"-specific style due to the `<a>` HTML tag */\n",
       "\n",
       "#sk-container-id-1 a.estimator_doc_link {\n",
       "  float: right;\n",
       "  font-size: 1rem;\n",
       "  line-height: 1em;\n",
       "  font-family: monospace;\n",
       "  background-color: var(--sklearn-color-background);\n",
       "  border-radius: 1rem;\n",
       "  height: 1rem;\n",
       "  width: 1rem;\n",
       "  text-decoration: none;\n",
       "  /* unfitted */\n",
       "  color: var(--sklearn-color-unfitted-level-1);\n",
       "  border: var(--sklearn-color-unfitted-level-1) 1pt solid;\n",
       "}\n",
       "\n",
       "#sk-container-id-1 a.estimator_doc_link.fitted {\n",
       "  /* fitted */\n",
       "  border: var(--sklearn-color-fitted-level-1) 1pt solid;\n",
       "  color: var(--sklearn-color-fitted-level-1);\n",
       "}\n",
       "\n",
       "/* On hover */\n",
       "#sk-container-id-1 a.estimator_doc_link:hover {\n",
       "  /* unfitted */\n",
       "  background-color: var(--sklearn-color-unfitted-level-3);\n",
       "  color: var(--sklearn-color-background);\n",
       "  text-decoration: none;\n",
       "}\n",
       "\n",
       "#sk-container-id-1 a.estimator_doc_link.fitted:hover {\n",
       "  /* fitted */\n",
       "  background-color: var(--sklearn-color-fitted-level-3);\n",
       "}\n",
       "\n",
       ".estimator-table summary {\n",
       "    padding: .5rem;\n",
       "    font-family: monospace;\n",
       "    cursor: pointer;\n",
       "}\n",
       "\n",
       ".estimator-table details[open] {\n",
       "    padding-left: 0.1rem;\n",
       "    padding-right: 0.1rem;\n",
       "    padding-bottom: 0.3rem;\n",
       "}\n",
       "\n",
       ".estimator-table .parameters-table {\n",
       "    margin-left: auto !important;\n",
       "    margin-right: auto !important;\n",
       "}\n",
       "\n",
       ".estimator-table .parameters-table tr:nth-child(odd) {\n",
       "    background-color: #fff;\n",
       "}\n",
       "\n",
       ".estimator-table .parameters-table tr:nth-child(even) {\n",
       "    background-color: #f6f6f6;\n",
       "}\n",
       "\n",
       ".estimator-table .parameters-table tr:hover {\n",
       "    background-color: #e0e0e0;\n",
       "}\n",
       "\n",
       ".estimator-table table td {\n",
       "    border: 1px solid rgba(106, 105, 104, 0.232);\n",
       "}\n",
       "\n",
       ".user-set td {\n",
       "    color:rgb(255, 94, 0);\n",
       "    text-align: left;\n",
       "}\n",
       "\n",
       ".user-set td.value pre {\n",
       "    color:rgb(255, 94, 0) !important;\n",
       "    background-color: transparent !important;\n",
       "}\n",
       "\n",
       ".default td {\n",
       "    color: black;\n",
       "    text-align: left;\n",
       "}\n",
       "\n",
       ".user-set td i,\n",
       ".default td i {\n",
       "    color: black;\n",
       "}\n",
       "\n",
       ".copy-paste-icon {\n",
       "    background-image: url(data:image/svg+xml;base64,PHN2ZyB4bWxucz0iaHR0cDovL3d3dy53My5vcmcvMjAwMC9zdmciIHZpZXdCb3g9IjAgMCA0NDggNTEyIj48IS0tIUZvbnQgQXdlc29tZSBGcmVlIDYuNy4yIGJ5IEBmb250YXdlc29tZSAtIGh0dHBzOi8vZm9udGF3ZXNvbWUuY29tIExpY2Vuc2UgLSBodHRwczovL2ZvbnRhd2Vzb21lLmNvbS9saWNlbnNlL2ZyZWUgQ29weXJpZ2h0IDIwMjUgRm9udGljb25zLCBJbmMuLS0+PHBhdGggZD0iTTIwOCAwTDMzMi4xIDBjMTIuNyAwIDI0LjkgNS4xIDMzLjkgMTQuMWw2Ny45IDY3LjljOSA5IDE0LjEgMjEuMiAxNC4xIDMzLjlMNDQ4IDMzNmMwIDI2LjUtMjEuNSA0OC00OCA0OGwtMTkyIDBjLTI2LjUgMC00OC0yMS41LTQ4LTQ4bDAtMjg4YzAtMjYuNSAyMS41LTQ4IDQ4LTQ4ek00OCAxMjhsODAgMCAwIDY0LTY0IDAgMCAyNTYgMTkyIDAgMC0zMiA2NCAwIDAgNDhjMCAyNi41LTIxLjUgNDgtNDggNDhMNDggNTEyYy0yNi41IDAtNDgtMjEuNS00OC00OEwwIDE3NmMwLTI2LjUgMjEuNS00OCA0OC00OHoiLz48L3N2Zz4=);\n",
       "    background-repeat: no-repeat;\n",
       "    background-size: 14px 14px;\n",
       "    background-position: 0;\n",
       "    display: inline-block;\n",
       "    width: 14px;\n",
       "    height: 14px;\n",
       "    cursor: pointer;\n",
       "}\n",
       "</style><body><div id=\"sk-container-id-1\" class=\"sk-top-container\"><div class=\"sk-text-repr-fallback\"><pre>Lasso(alpha=10)</pre><b>In a Jupyter environment, please rerun this cell to show the HTML representation or trust the notebook. <br />On GitHub, the HTML representation is unable to render, please try loading this page with nbviewer.org.</b></div><div class=\"sk-container\" hidden><div class=\"sk-item\"><div class=\"sk-estimator fitted sk-toggleable\"><input class=\"sk-toggleable__control sk-hidden--visually\" id=\"sk-estimator-id-1\" type=\"checkbox\" checked><label for=\"sk-estimator-id-1\" class=\"sk-toggleable__label fitted sk-toggleable__label-arrow\"><div><div>Lasso</div></div><div><a class=\"sk-estimator-doc-link fitted\" rel=\"noreferrer\" target=\"_blank\" href=\"https://scikit-learn.org/1.7/modules/generated/sklearn.linear_model.Lasso.html\">?<span>Documentation for Lasso</span></a><span class=\"sk-estimator-doc-link fitted\">i<span>Fitted</span></span></div></label><div class=\"sk-toggleable__content fitted\" data-param-prefix=\"\">\n",
       "        <div class=\"estimator-table\">\n",
       "            <details>\n",
       "                <summary>Parameters</summary>\n",
       "                <table class=\"parameters-table\">\n",
       "                  <tbody>\n",
       "                    \n",
       "        <tr class=\"user-set\">\n",
       "            <td><i class=\"copy-paste-icon\"\n",
       "                 onclick=\"copyToClipboard('alpha',\n",
       "                          this.parentElement.nextElementSibling)\"\n",
       "            ></i></td>\n",
       "            <td class=\"param\">alpha&nbsp;</td>\n",
       "            <td class=\"value\">10</td>\n",
       "        </tr>\n",
       "    \n",
       "\n",
       "        <tr class=\"default\">\n",
       "            <td><i class=\"copy-paste-icon\"\n",
       "                 onclick=\"copyToClipboard('fit_intercept',\n",
       "                          this.parentElement.nextElementSibling)\"\n",
       "            ></i></td>\n",
       "            <td class=\"param\">fit_intercept&nbsp;</td>\n",
       "            <td class=\"value\">True</td>\n",
       "        </tr>\n",
       "    \n",
       "\n",
       "        <tr class=\"default\">\n",
       "            <td><i class=\"copy-paste-icon\"\n",
       "                 onclick=\"copyToClipboard('precompute',\n",
       "                          this.parentElement.nextElementSibling)\"\n",
       "            ></i></td>\n",
       "            <td class=\"param\">precompute&nbsp;</td>\n",
       "            <td class=\"value\">False</td>\n",
       "        </tr>\n",
       "    \n",
       "\n",
       "        <tr class=\"default\">\n",
       "            <td><i class=\"copy-paste-icon\"\n",
       "                 onclick=\"copyToClipboard('copy_X',\n",
       "                          this.parentElement.nextElementSibling)\"\n",
       "            ></i></td>\n",
       "            <td class=\"param\">copy_X&nbsp;</td>\n",
       "            <td class=\"value\">True</td>\n",
       "        </tr>\n",
       "    \n",
       "\n",
       "        <tr class=\"default\">\n",
       "            <td><i class=\"copy-paste-icon\"\n",
       "                 onclick=\"copyToClipboard('max_iter',\n",
       "                          this.parentElement.nextElementSibling)\"\n",
       "            ></i></td>\n",
       "            <td class=\"param\">max_iter&nbsp;</td>\n",
       "            <td class=\"value\">1000</td>\n",
       "        </tr>\n",
       "    \n",
       "\n",
       "        <tr class=\"default\">\n",
       "            <td><i class=\"copy-paste-icon\"\n",
       "                 onclick=\"copyToClipboard('tol',\n",
       "                          this.parentElement.nextElementSibling)\"\n",
       "            ></i></td>\n",
       "            <td class=\"param\">tol&nbsp;</td>\n",
       "            <td class=\"value\">0.0001</td>\n",
       "        </tr>\n",
       "    \n",
       "\n",
       "        <tr class=\"default\">\n",
       "            <td><i class=\"copy-paste-icon\"\n",
       "                 onclick=\"copyToClipboard('warm_start',\n",
       "                          this.parentElement.nextElementSibling)\"\n",
       "            ></i></td>\n",
       "            <td class=\"param\">warm_start&nbsp;</td>\n",
       "            <td class=\"value\">False</td>\n",
       "        </tr>\n",
       "    \n",
       "\n",
       "        <tr class=\"default\">\n",
       "            <td><i class=\"copy-paste-icon\"\n",
       "                 onclick=\"copyToClipboard('positive',\n",
       "                          this.parentElement.nextElementSibling)\"\n",
       "            ></i></td>\n",
       "            <td class=\"param\">positive&nbsp;</td>\n",
       "            <td class=\"value\">False</td>\n",
       "        </tr>\n",
       "    \n",
       "\n",
       "        <tr class=\"default\">\n",
       "            <td><i class=\"copy-paste-icon\"\n",
       "                 onclick=\"copyToClipboard('random_state',\n",
       "                          this.parentElement.nextElementSibling)\"\n",
       "            ></i></td>\n",
       "            <td class=\"param\">random_state&nbsp;</td>\n",
       "            <td class=\"value\">None</td>\n",
       "        </tr>\n",
       "    \n",
       "\n",
       "        <tr class=\"default\">\n",
       "            <td><i class=\"copy-paste-icon\"\n",
       "                 onclick=\"copyToClipboard('selection',\n",
       "                          this.parentElement.nextElementSibling)\"\n",
       "            ></i></td>\n",
       "            <td class=\"param\">selection&nbsp;</td>\n",
       "            <td class=\"value\">&#x27;cyclic&#x27;</td>\n",
       "        </tr>\n",
       "    \n",
       "                  </tbody>\n",
       "                </table>\n",
       "            </details>\n",
       "        </div>\n",
       "    </div></div></div></div></div><script>function copyToClipboard(text, element) {\n",
       "    // Get the parameter prefix from the closest toggleable content\n",
       "    const toggleableContent = element.closest('.sk-toggleable__content');\n",
       "    const paramPrefix = toggleableContent ? toggleableContent.dataset.paramPrefix : '';\n",
       "    const fullParamName = paramPrefix ? `${paramPrefix}${text}` : text;\n",
       "\n",
       "    const originalStyle = element.style;\n",
       "    const computedStyle = window.getComputedStyle(element);\n",
       "    const originalWidth = computedStyle.width;\n",
       "    const originalHTML = element.innerHTML.replace('Copied!', '');\n",
       "\n",
       "    navigator.clipboard.writeText(fullParamName)\n",
       "        .then(() => {\n",
       "            element.style.width = originalWidth;\n",
       "            element.style.color = 'green';\n",
       "            element.innerHTML = \"Copied!\";\n",
       "\n",
       "            setTimeout(() => {\n",
       "                element.innerHTML = originalHTML;\n",
       "                element.style = originalStyle;\n",
       "            }, 2000);\n",
       "        })\n",
       "        .catch(err => {\n",
       "            console.error('Failed to copy:', err);\n",
       "            element.style.color = 'red';\n",
       "            element.innerHTML = \"Failed!\";\n",
       "            setTimeout(() => {\n",
       "                element.innerHTML = originalHTML;\n",
       "                element.style = originalStyle;\n",
       "            }, 2000);\n",
       "        });\n",
       "    return false;\n",
       "}\n",
       "\n",
       "document.querySelectorAll('.fa-regular.fa-copy').forEach(function(element) {\n",
       "    const toggleableContent = element.closest('.sk-toggleable__content');\n",
       "    const paramPrefix = toggleableContent ? toggleableContent.dataset.paramPrefix : '';\n",
       "    const paramName = element.parentElement.nextElementSibling.textContent.trim();\n",
       "    const fullParamName = paramPrefix ? `${paramPrefix}${paramName}` : paramName;\n",
       "\n",
       "    element.setAttribute('title', fullParamName);\n",
       "});\n",
       "</script></body>"
      ],
      "text/plain": [
       "Lasso(alpha=10)"
      ]
     },
     "execution_count": 25,
     "metadata": {},
     "output_type": "execute_result"
    }
   ],
   "source": [
    "lasso_model = Lasso(alpha=10)  # You can adjust the alpha parameter for stronger or weaker regularization\n",
    "\n",
    "lasso_model.fit(matrix, df_spend['spend'])\n"
   ]
  },
  {
   "cell_type": "code",
   "execution_count": 26,
   "metadata": {
    "colab": {
     "base_uri": "https://localhost:8080/"
    },
    "executionInfo": {
     "elapsed": 462,
     "status": "ok",
     "timestamp": 1721204809293,
     "user": {
      "displayName": "Yong Song",
      "userId": "00576951217859821315"
     },
     "user_tz": -600
    },
    "id": "bfHtdUm9QeSP",
    "outputId": "56f38c27-5794-4ce8-fb83-b6217e7fa148"
   },
   "outputs": [
    {
     "name": "stdout",
     "output_type": "stream",
     "text": [
      "323\n",
      "58081076.26407346\n"
     ]
    }
   ],
   "source": [
    "print(np.sum(lasso_model.coef_ != 0))\n",
    "yhat = lasso_model.predict(matrix)\n",
    "print(mean_squared_error(df_spend['spend'], yhat))"
   ]
  },
  {
   "cell_type": "code",
   "execution_count": 27,
   "metadata": {
    "colab": {
     "base_uri": "https://localhost:8080/"
    },
    "executionInfo": {
     "elapsed": 358,
     "status": "ok",
     "timestamp": 1721204834022,
     "user": {
      "displayName": "Yong Song",
      "userId": "00576951217859821315"
     },
     "user_tz": -600
    },
    "id": "o4WZLcb9hSeh",
    "outputId": "c3efb18d-a0cb-4827-dfd5-989b441191cb"
   },
   "outputs": [
    {
     "name": "stdout",
     "output_type": "stream",
     "text": [
      "179441.1358428501\n"
     ]
    }
   ],
   "source": [
    "n = 10000\n",
    "num_params = 323\n",
    "aicc = n * np.log(mean_squared_error(df_spend['spend'], yhat)) \\\n",
    "+ 2 * num_params + 2 * num_params * (num_params+1) / (n - num_params - 1)\n",
    "print(aicc)"
   ]
  },
  {
   "cell_type": "code",
   "execution_count": 29,
   "metadata": {
    "colab": {
     "base_uri": "https://localhost:8080/"
    },
    "executionInfo": {
     "elapsed": 461791,
     "status": "ok",
     "timestamp": 1721205371163,
     "user": {
      "displayName": "Yong Song",
      "userId": "00576951217859821315"
     },
     "user_tz": -600
    },
    "id": "gU_21F5OQ0Yr",
    "outputId": "a1d6dc77-bc91-4e1f-9bcd-1abb68afa25d"
   },
   "outputs": [
    {
     "name": "stderr",
     "output_type": "stream",
     "text": [
      "/Users/yongs1/miniconda3/envs/ada-env/lib/python3.11/site-packages/sklearn/linear_model/_coordinate_descent.py:695: ConvergenceWarning: Objective did not converge. You might want to increase the number of iterations, check the scale of the features or consider increasing regularisation. Duality gap: 2.392e+08, tolerance: 6.461e+07\n",
      "  model = cd_fast.enet_coordinate_descent(\n"
     ]
    },
    {
     "name": "stdout",
     "output_type": "stream",
     "text": [
      "Best alpha: 120.67926406393289\n"
     ]
    }
   ],
   "source": [
    "alphas = np.logspace(-2, 3, num=50)\n",
    "scaler = StandardScaler()\n",
    "\n",
    "X = scaler.fit_transform(matrix) #normlisation\n",
    "y = df_spend['spend']\n",
    "\n",
    "\n",
    "# Calculate AICc for each alpha\n",
    "aiccs = []\n",
    "for alpha in alphas:\n",
    "    lasso_model = Lasso(alpha=alpha, max_iter=10000)\n",
    "    lasso_model.fit(X, y)\n",
    "    mse = mean_squared_error(y, lasso_model.predict(X))\n",
    "    n = len(y)\n",
    "    num_params = np.count_nonzero(lasso_model.coef_) + 1  # Include the intercept\n",
    "    aicc = n * np.log(mse) + 2 * num_params + 2 * num_params * (num_params+1) / (n - num_params - 1)\n",
    "    aiccs.append(aicc)\n",
    "\n",
    "# Find the alpha with the minimum AICc\n",
    "best_alpha = alphas[np.argmin(aiccs)]\n",
    "print(f\"Best alpha: {best_alpha}\")"
   ]
  },
  {
   "cell_type": "code",
   "execution_count": 32,
   "metadata": {
    "colab": {
     "base_uri": "https://localhost:8080/",
     "height": 542
    },
    "executionInfo": {
     "elapsed": 1384,
     "status": "ok",
     "timestamp": 1721205469363,
     "user": {
      "displayName": "Yong Song",
      "userId": "00576951217859821315"
     },
     "user_tz": -600
    },
    "id": "ZJZL29zfbJnZ",
    "outputId": "9b6e915c-4a65-488d-9734-e60e4040b27f"
   },
   "outputs": [
    {
     "data": {
      "application/vnd.plotly.v1+json": {
       "config": {
        "plotlyServerURL": "https://plot.ly"
       },
       "data": [
        {
         "hovertemplate": "Alpha (Penalty Term)=%{x}<br>AICc=%{y}<extra></extra>",
         "legendgroup": "",
         "marker": {
          "color": "#636efa",
          "symbol": "circle"
         },
         "mode": "markers",
         "name": "",
         "orientation": "v",
         "showlegend": false,
         "type": "scatter",
         "x": {
          "bdata": "exSuR+F6hD+x1z7ve+eJPzU6KAPvYZA/iNZMBri4lD9kUtKIszWaP60uX31mk6A/5dh0fUn3pD/DuCdP14SqP8eEo1RzxbA/kaDy4Jc2tT9JyF4L6tS6P2cO9UsX+MA/+RI5a6V2xT8KgQCP7iXLP2RlpStUK9E/OIp1XXS31T9dixi053fbP2v7Z8ErX+E/CCak/wb55T896k5d2MrrP1daYuCfk/E/BVqkoF879j9V+wF2wx78P5mVPGGyyAFAAbpNloB+BkBvxWDyq3MMQFHtMSJl/hFAGgWFPWzCFkCDloXPlMkcQLSjIQe6NCJAaXBR+iQHJ0Da8ZATgSAtQAsFoPmyazJA8zHyN61MN0C6z8TNc3g9QGOjB+lRo0JAv0z0aAeTR0BrL6AWcNFNQB3GisqY21JAg55IBzbaV0Am/PoPeSteQCwORZmJFGNAGjBalDsiaECNRiLlkYZuQLZPTVYmTnNAb8kkmRpreEBj0/TKveJ+QEChxwhxiINAIclLptW0iEAAAAAAAECPQA==",
          "dtype": "f8"
         },
         "xaxis": "x",
         "y": {
          "bdata": "9Zt/aIgLBkHet5JoiAsGQehJsWiICwZBvokJqHQLBkHXxVeodAsGQVjx1Kh0CwZBxDOdqXQLBkHBkd2qdAsGQU0j3qx0CwZBpSgSsHQLBkHNFDK1dAsGQcT8ZL10CwZBQx0HFxILBkHcArsrEgsGQeU5pSHXCgZBr1L4NJwKBkH+8a/UiAoGQV0V0UVOCgZBmnjRYgAKBkETgP+yxgkGQVIDRRO1CQZBcHCcPBsJBkE+kTlKvggGQQ28CNRQCAZBzOCLzyQHBkHGzXbGKQUGQUw4x2JfAwZBcSAbd7cBBkGjX5iueP8FQa2CBvMf/QVBN+z+abr6BUFXtaZ8FPcFQYLb+8g58wVBG9QaxkrvBUEkwdmgTewFQaAFF/XT6AVBXQXy7rvlBUH3raflJ+IFQSBi7rbd4AVB1AzifA3gBUFQ/pvqod8FQeDp8cPd4AVB+m40nXLiBUEgu+noFuQFQQ861FYp5gVBp4F9dvnoBUF7K0AnBOwFQbA722Uk7wVBcE4f+gjyBUGpAUjXCfQFQQ==",
          "dtype": "f8"
         },
         "yaxis": "y"
        }
       ],
       "layout": {
        "legend": {
         "tracegroupgap": 0
        },
        "template": {
         "data": {
          "bar": [
           {
            "error_x": {
             "color": "#2a3f5f"
            },
            "error_y": {
             "color": "#2a3f5f"
            },
            "marker": {
             "line": {
              "color": "#E5ECF6",
              "width": 0.5
             },
             "pattern": {
              "fillmode": "overlay",
              "size": 10,
              "solidity": 0.2
             }
            },
            "type": "bar"
           }
          ],
          "barpolar": [
           {
            "marker": {
             "line": {
              "color": "#E5ECF6",
              "width": 0.5
             },
             "pattern": {
              "fillmode": "overlay",
              "size": 10,
              "solidity": 0.2
             }
            },
            "type": "barpolar"
           }
          ],
          "carpet": [
           {
            "aaxis": {
             "endlinecolor": "#2a3f5f",
             "gridcolor": "white",
             "linecolor": "white",
             "minorgridcolor": "white",
             "startlinecolor": "#2a3f5f"
            },
            "baxis": {
             "endlinecolor": "#2a3f5f",
             "gridcolor": "white",
             "linecolor": "white",
             "minorgridcolor": "white",
             "startlinecolor": "#2a3f5f"
            },
            "type": "carpet"
           }
          ],
          "choropleth": [
           {
            "colorbar": {
             "outlinewidth": 0,
             "ticks": ""
            },
            "type": "choropleth"
           }
          ],
          "contour": [
           {
            "colorbar": {
             "outlinewidth": 0,
             "ticks": ""
            },
            "colorscale": [
             [
              0,
              "#0d0887"
             ],
             [
              0.1111111111111111,
              "#46039f"
             ],
             [
              0.2222222222222222,
              "#7201a8"
             ],
             [
              0.3333333333333333,
              "#9c179e"
             ],
             [
              0.4444444444444444,
              "#bd3786"
             ],
             [
              0.5555555555555556,
              "#d8576b"
             ],
             [
              0.6666666666666666,
              "#ed7953"
             ],
             [
              0.7777777777777778,
              "#fb9f3a"
             ],
             [
              0.8888888888888888,
              "#fdca26"
             ],
             [
              1,
              "#f0f921"
             ]
            ],
            "type": "contour"
           }
          ],
          "contourcarpet": [
           {
            "colorbar": {
             "outlinewidth": 0,
             "ticks": ""
            },
            "type": "contourcarpet"
           }
          ],
          "heatmap": [
           {
            "colorbar": {
             "outlinewidth": 0,
             "ticks": ""
            },
            "colorscale": [
             [
              0,
              "#0d0887"
             ],
             [
              0.1111111111111111,
              "#46039f"
             ],
             [
              0.2222222222222222,
              "#7201a8"
             ],
             [
              0.3333333333333333,
              "#9c179e"
             ],
             [
              0.4444444444444444,
              "#bd3786"
             ],
             [
              0.5555555555555556,
              "#d8576b"
             ],
             [
              0.6666666666666666,
              "#ed7953"
             ],
             [
              0.7777777777777778,
              "#fb9f3a"
             ],
             [
              0.8888888888888888,
              "#fdca26"
             ],
             [
              1,
              "#f0f921"
             ]
            ],
            "type": "heatmap"
           }
          ],
          "histogram": [
           {
            "marker": {
             "pattern": {
              "fillmode": "overlay",
              "size": 10,
              "solidity": 0.2
             }
            },
            "type": "histogram"
           }
          ],
          "histogram2d": [
           {
            "colorbar": {
             "outlinewidth": 0,
             "ticks": ""
            },
            "colorscale": [
             [
              0,
              "#0d0887"
             ],
             [
              0.1111111111111111,
              "#46039f"
             ],
             [
              0.2222222222222222,
              "#7201a8"
             ],
             [
              0.3333333333333333,
              "#9c179e"
             ],
             [
              0.4444444444444444,
              "#bd3786"
             ],
             [
              0.5555555555555556,
              "#d8576b"
             ],
             [
              0.6666666666666666,
              "#ed7953"
             ],
             [
              0.7777777777777778,
              "#fb9f3a"
             ],
             [
              0.8888888888888888,
              "#fdca26"
             ],
             [
              1,
              "#f0f921"
             ]
            ],
            "type": "histogram2d"
           }
          ],
          "histogram2dcontour": [
           {
            "colorbar": {
             "outlinewidth": 0,
             "ticks": ""
            },
            "colorscale": [
             [
              0,
              "#0d0887"
             ],
             [
              0.1111111111111111,
              "#46039f"
             ],
             [
              0.2222222222222222,
              "#7201a8"
             ],
             [
              0.3333333333333333,
              "#9c179e"
             ],
             [
              0.4444444444444444,
              "#bd3786"
             ],
             [
              0.5555555555555556,
              "#d8576b"
             ],
             [
              0.6666666666666666,
              "#ed7953"
             ],
             [
              0.7777777777777778,
              "#fb9f3a"
             ],
             [
              0.8888888888888888,
              "#fdca26"
             ],
             [
              1,
              "#f0f921"
             ]
            ],
            "type": "histogram2dcontour"
           }
          ],
          "mesh3d": [
           {
            "colorbar": {
             "outlinewidth": 0,
             "ticks": ""
            },
            "type": "mesh3d"
           }
          ],
          "parcoords": [
           {
            "line": {
             "colorbar": {
              "outlinewidth": 0,
              "ticks": ""
             }
            },
            "type": "parcoords"
           }
          ],
          "pie": [
           {
            "automargin": true,
            "type": "pie"
           }
          ],
          "scatter": [
           {
            "fillpattern": {
             "fillmode": "overlay",
             "size": 10,
             "solidity": 0.2
            },
            "type": "scatter"
           }
          ],
          "scatter3d": [
           {
            "line": {
             "colorbar": {
              "outlinewidth": 0,
              "ticks": ""
             }
            },
            "marker": {
             "colorbar": {
              "outlinewidth": 0,
              "ticks": ""
             }
            },
            "type": "scatter3d"
           }
          ],
          "scattercarpet": [
           {
            "marker": {
             "colorbar": {
              "outlinewidth": 0,
              "ticks": ""
             }
            },
            "type": "scattercarpet"
           }
          ],
          "scattergeo": [
           {
            "marker": {
             "colorbar": {
              "outlinewidth": 0,
              "ticks": ""
             }
            },
            "type": "scattergeo"
           }
          ],
          "scattergl": [
           {
            "marker": {
             "colorbar": {
              "outlinewidth": 0,
              "ticks": ""
             }
            },
            "type": "scattergl"
           }
          ],
          "scattermap": [
           {
            "marker": {
             "colorbar": {
              "outlinewidth": 0,
              "ticks": ""
             }
            },
            "type": "scattermap"
           }
          ],
          "scattermapbox": [
           {
            "marker": {
             "colorbar": {
              "outlinewidth": 0,
              "ticks": ""
             }
            },
            "type": "scattermapbox"
           }
          ],
          "scatterpolar": [
           {
            "marker": {
             "colorbar": {
              "outlinewidth": 0,
              "ticks": ""
             }
            },
            "type": "scatterpolar"
           }
          ],
          "scatterpolargl": [
           {
            "marker": {
             "colorbar": {
              "outlinewidth": 0,
              "ticks": ""
             }
            },
            "type": "scatterpolargl"
           }
          ],
          "scatterternary": [
           {
            "marker": {
             "colorbar": {
              "outlinewidth": 0,
              "ticks": ""
             }
            },
            "type": "scatterternary"
           }
          ],
          "surface": [
           {
            "colorbar": {
             "outlinewidth": 0,
             "ticks": ""
            },
            "colorscale": [
             [
              0,
              "#0d0887"
             ],
             [
              0.1111111111111111,
              "#46039f"
             ],
             [
              0.2222222222222222,
              "#7201a8"
             ],
             [
              0.3333333333333333,
              "#9c179e"
             ],
             [
              0.4444444444444444,
              "#bd3786"
             ],
             [
              0.5555555555555556,
              "#d8576b"
             ],
             [
              0.6666666666666666,
              "#ed7953"
             ],
             [
              0.7777777777777778,
              "#fb9f3a"
             ],
             [
              0.8888888888888888,
              "#fdca26"
             ],
             [
              1,
              "#f0f921"
             ]
            ],
            "type": "surface"
           }
          ],
          "table": [
           {
            "cells": {
             "fill": {
              "color": "#EBF0F8"
             },
             "line": {
              "color": "white"
             }
            },
            "header": {
             "fill": {
              "color": "#C8D4E3"
             },
             "line": {
              "color": "white"
             }
            },
            "type": "table"
           }
          ]
         },
         "layout": {
          "annotationdefaults": {
           "arrowcolor": "#2a3f5f",
           "arrowhead": 0,
           "arrowwidth": 1
          },
          "autotypenumbers": "strict",
          "coloraxis": {
           "colorbar": {
            "outlinewidth": 0,
            "ticks": ""
           }
          },
          "colorscale": {
           "diverging": [
            [
             0,
             "#8e0152"
            ],
            [
             0.1,
             "#c51b7d"
            ],
            [
             0.2,
             "#de77ae"
            ],
            [
             0.3,
             "#f1b6da"
            ],
            [
             0.4,
             "#fde0ef"
            ],
            [
             0.5,
             "#f7f7f7"
            ],
            [
             0.6,
             "#e6f5d0"
            ],
            [
             0.7,
             "#b8e186"
            ],
            [
             0.8,
             "#7fbc41"
            ],
            [
             0.9,
             "#4d9221"
            ],
            [
             1,
             "#276419"
            ]
           ],
           "sequential": [
            [
             0,
             "#0d0887"
            ],
            [
             0.1111111111111111,
             "#46039f"
            ],
            [
             0.2222222222222222,
             "#7201a8"
            ],
            [
             0.3333333333333333,
             "#9c179e"
            ],
            [
             0.4444444444444444,
             "#bd3786"
            ],
            [
             0.5555555555555556,
             "#d8576b"
            ],
            [
             0.6666666666666666,
             "#ed7953"
            ],
            [
             0.7777777777777778,
             "#fb9f3a"
            ],
            [
             0.8888888888888888,
             "#fdca26"
            ],
            [
             1,
             "#f0f921"
            ]
           ],
           "sequentialminus": [
            [
             0,
             "#0d0887"
            ],
            [
             0.1111111111111111,
             "#46039f"
            ],
            [
             0.2222222222222222,
             "#7201a8"
            ],
            [
             0.3333333333333333,
             "#9c179e"
            ],
            [
             0.4444444444444444,
             "#bd3786"
            ],
            [
             0.5555555555555556,
             "#d8576b"
            ],
            [
             0.6666666666666666,
             "#ed7953"
            ],
            [
             0.7777777777777778,
             "#fb9f3a"
            ],
            [
             0.8888888888888888,
             "#fdca26"
            ],
            [
             1,
             "#f0f921"
            ]
           ]
          },
          "colorway": [
           "#636efa",
           "#EF553B",
           "#00cc96",
           "#ab63fa",
           "#FFA15A",
           "#19d3f3",
           "#FF6692",
           "#B6E880",
           "#FF97FF",
           "#FECB52"
          ],
          "font": {
           "color": "#2a3f5f"
          },
          "geo": {
           "bgcolor": "white",
           "lakecolor": "white",
           "landcolor": "#E5ECF6",
           "showlakes": true,
           "showland": true,
           "subunitcolor": "white"
          },
          "hoverlabel": {
           "align": "left"
          },
          "hovermode": "closest",
          "mapbox": {
           "style": "light"
          },
          "paper_bgcolor": "white",
          "plot_bgcolor": "#E5ECF6",
          "polar": {
           "angularaxis": {
            "gridcolor": "white",
            "linecolor": "white",
            "ticks": ""
           },
           "bgcolor": "#E5ECF6",
           "radialaxis": {
            "gridcolor": "white",
            "linecolor": "white",
            "ticks": ""
           }
          },
          "scene": {
           "xaxis": {
            "backgroundcolor": "#E5ECF6",
            "gridcolor": "white",
            "gridwidth": 2,
            "linecolor": "white",
            "showbackground": true,
            "ticks": "",
            "zerolinecolor": "white"
           },
           "yaxis": {
            "backgroundcolor": "#E5ECF6",
            "gridcolor": "white",
            "gridwidth": 2,
            "linecolor": "white",
            "showbackground": true,
            "ticks": "",
            "zerolinecolor": "white"
           },
           "zaxis": {
            "backgroundcolor": "#E5ECF6",
            "gridcolor": "white",
            "gridwidth": 2,
            "linecolor": "white",
            "showbackground": true,
            "ticks": "",
            "zerolinecolor": "white"
           }
          },
          "shapedefaults": {
           "line": {
            "color": "#2a3f5f"
           }
          },
          "ternary": {
           "aaxis": {
            "gridcolor": "white",
            "linecolor": "white",
            "ticks": ""
           },
           "baxis": {
            "gridcolor": "white",
            "linecolor": "white",
            "ticks": ""
           },
           "bgcolor": "#E5ECF6",
           "caxis": {
            "gridcolor": "white",
            "linecolor": "white",
            "ticks": ""
           }
          },
          "title": {
           "x": 0.05
          },
          "xaxis": {
           "automargin": true,
           "gridcolor": "white",
           "linecolor": "white",
           "ticks": "",
           "title": {
            "standoff": 15
           },
           "zerolinecolor": "white",
           "zerolinewidth": 2
          },
          "yaxis": {
           "automargin": true,
           "gridcolor": "white",
           "linecolor": "white",
           "ticks": "",
           "title": {
            "standoff": 15
           },
           "zerolinecolor": "white",
           "zerolinewidth": 2
          }
         }
        },
        "title": {
         "text": "AICc vs Alpha (Penalty Term)"
        },
        "xaxis": {
         "anchor": "y",
         "domain": [
          0,
          1
         ],
         "title": {
          "text": "Alpha (Penalty Term)"
         },
         "type": "log"
        },
        "yaxis": {
         "anchor": "x",
         "domain": [
          0,
          1
         ],
         "title": {
          "text": "AICc"
         }
        }
       }
      }
     },
     "metadata": {},
     "output_type": "display_data"
    }
   ],
   "source": [
    "fig = px.scatter(x=alphas, y=aiccs, log_x=True,\n",
    "                 title='AICc vs Alpha (Penalty Term)',\n",
    "                 labels={'x': 'Alpha (Penalty Term)', 'y': 'AICc'})\n",
    "\n",
    "# Show the interactive plot\n",
    "fig.show()"
   ]
  },
  {
   "cell_type": "code",
   "execution_count": 34,
   "metadata": {
    "colab": {
     "base_uri": "https://localhost:8080/",
     "height": 74
    },
    "executionInfo": {
     "elapsed": 945,
     "status": "ok",
     "timestamp": 1721205503387,
     "user": {
      "displayName": "Yong Song",
      "userId": "00576951217859821315"
     },
     "user_tz": -600
    },
    "id": "OVXxOxSUhEvE",
    "outputId": "8c832085-1e79-4153-d067-7a9c2cde40c2"
   },
   "outputs": [
    {
     "data": {
      "text/html": [
       "<style>#sk-container-id-3 {\n",
       "  /* Definition of color scheme common for light and dark mode */\n",
       "  --sklearn-color-text: #000;\n",
       "  --sklearn-color-text-muted: #666;\n",
       "  --sklearn-color-line: gray;\n",
       "  /* Definition of color scheme for unfitted estimators */\n",
       "  --sklearn-color-unfitted-level-0: #fff5e6;\n",
       "  --sklearn-color-unfitted-level-1: #f6e4d2;\n",
       "  --sklearn-color-unfitted-level-2: #ffe0b3;\n",
       "  --sklearn-color-unfitted-level-3: chocolate;\n",
       "  /* Definition of color scheme for fitted estimators */\n",
       "  --sklearn-color-fitted-level-0: #f0f8ff;\n",
       "  --sklearn-color-fitted-level-1: #d4ebff;\n",
       "  --sklearn-color-fitted-level-2: #b3dbfd;\n",
       "  --sklearn-color-fitted-level-3: cornflowerblue;\n",
       "\n",
       "  /* Specific color for light theme */\n",
       "  --sklearn-color-text-on-default-background: var(--sg-text-color, var(--theme-code-foreground, var(--jp-content-font-color1, black)));\n",
       "  --sklearn-color-background: var(--sg-background-color, var(--theme-background, var(--jp-layout-color0, white)));\n",
       "  --sklearn-color-border-box: var(--sg-text-color, var(--theme-code-foreground, var(--jp-content-font-color1, black)));\n",
       "  --sklearn-color-icon: #696969;\n",
       "\n",
       "  @media (prefers-color-scheme: dark) {\n",
       "    /* Redefinition of color scheme for dark theme */\n",
       "    --sklearn-color-text-on-default-background: var(--sg-text-color, var(--theme-code-foreground, var(--jp-content-font-color1, white)));\n",
       "    --sklearn-color-background: var(--sg-background-color, var(--theme-background, var(--jp-layout-color0, #111)));\n",
       "    --sklearn-color-border-box: var(--sg-text-color, var(--theme-code-foreground, var(--jp-content-font-color1, white)));\n",
       "    --sklearn-color-icon: #878787;\n",
       "  }\n",
       "}\n",
       "\n",
       "#sk-container-id-3 {\n",
       "  color: var(--sklearn-color-text);\n",
       "}\n",
       "\n",
       "#sk-container-id-3 pre {\n",
       "  padding: 0;\n",
       "}\n",
       "\n",
       "#sk-container-id-3 input.sk-hidden--visually {\n",
       "  border: 0;\n",
       "  clip: rect(1px 1px 1px 1px);\n",
       "  clip: rect(1px, 1px, 1px, 1px);\n",
       "  height: 1px;\n",
       "  margin: -1px;\n",
       "  overflow: hidden;\n",
       "  padding: 0;\n",
       "  position: absolute;\n",
       "  width: 1px;\n",
       "}\n",
       "\n",
       "#sk-container-id-3 div.sk-dashed-wrapped {\n",
       "  border: 1px dashed var(--sklearn-color-line);\n",
       "  margin: 0 0.4em 0.5em 0.4em;\n",
       "  box-sizing: border-box;\n",
       "  padding-bottom: 0.4em;\n",
       "  background-color: var(--sklearn-color-background);\n",
       "}\n",
       "\n",
       "#sk-container-id-3 div.sk-container {\n",
       "  /* jupyter's `normalize.less` sets `[hidden] { display: none; }`\n",
       "     but bootstrap.min.css set `[hidden] { display: none !important; }`\n",
       "     so we also need the `!important` here to be able to override the\n",
       "     default hidden behavior on the sphinx rendered scikit-learn.org.\n",
       "     See: https://github.com/scikit-learn/scikit-learn/issues/21755 */\n",
       "  display: inline-block !important;\n",
       "  position: relative;\n",
       "}\n",
       "\n",
       "#sk-container-id-3 div.sk-text-repr-fallback {\n",
       "  display: none;\n",
       "}\n",
       "\n",
       "div.sk-parallel-item,\n",
       "div.sk-serial,\n",
       "div.sk-item {\n",
       "  /* draw centered vertical line to link estimators */\n",
       "  background-image: linear-gradient(var(--sklearn-color-text-on-default-background), var(--sklearn-color-text-on-default-background));\n",
       "  background-size: 2px 100%;\n",
       "  background-repeat: no-repeat;\n",
       "  background-position: center center;\n",
       "}\n",
       "\n",
       "/* Parallel-specific style estimator block */\n",
       "\n",
       "#sk-container-id-3 div.sk-parallel-item::after {\n",
       "  content: \"\";\n",
       "  width: 100%;\n",
       "  border-bottom: 2px solid var(--sklearn-color-text-on-default-background);\n",
       "  flex-grow: 1;\n",
       "}\n",
       "\n",
       "#sk-container-id-3 div.sk-parallel {\n",
       "  display: flex;\n",
       "  align-items: stretch;\n",
       "  justify-content: center;\n",
       "  background-color: var(--sklearn-color-background);\n",
       "  position: relative;\n",
       "}\n",
       "\n",
       "#sk-container-id-3 div.sk-parallel-item {\n",
       "  display: flex;\n",
       "  flex-direction: column;\n",
       "}\n",
       "\n",
       "#sk-container-id-3 div.sk-parallel-item:first-child::after {\n",
       "  align-self: flex-end;\n",
       "  width: 50%;\n",
       "}\n",
       "\n",
       "#sk-container-id-3 div.sk-parallel-item:last-child::after {\n",
       "  align-self: flex-start;\n",
       "  width: 50%;\n",
       "}\n",
       "\n",
       "#sk-container-id-3 div.sk-parallel-item:only-child::after {\n",
       "  width: 0;\n",
       "}\n",
       "\n",
       "/* Serial-specific style estimator block */\n",
       "\n",
       "#sk-container-id-3 div.sk-serial {\n",
       "  display: flex;\n",
       "  flex-direction: column;\n",
       "  align-items: center;\n",
       "  background-color: var(--sklearn-color-background);\n",
       "  padding-right: 1em;\n",
       "  padding-left: 1em;\n",
       "}\n",
       "\n",
       "\n",
       "/* Toggleable style: style used for estimator/Pipeline/ColumnTransformer box that is\n",
       "clickable and can be expanded/collapsed.\n",
       "- Pipeline and ColumnTransformer use this feature and define the default style\n",
       "- Estimators will overwrite some part of the style using the `sk-estimator` class\n",
       "*/\n",
       "\n",
       "/* Pipeline and ColumnTransformer style (default) */\n",
       "\n",
       "#sk-container-id-3 div.sk-toggleable {\n",
       "  /* Default theme specific background. It is overwritten whether we have a\n",
       "  specific estimator or a Pipeline/ColumnTransformer */\n",
       "  background-color: var(--sklearn-color-background);\n",
       "}\n",
       "\n",
       "/* Toggleable label */\n",
       "#sk-container-id-3 label.sk-toggleable__label {\n",
       "  cursor: pointer;\n",
       "  display: flex;\n",
       "  width: 100%;\n",
       "  margin-bottom: 0;\n",
       "  padding: 0.5em;\n",
       "  box-sizing: border-box;\n",
       "  text-align: center;\n",
       "  align-items: start;\n",
       "  justify-content: space-between;\n",
       "  gap: 0.5em;\n",
       "}\n",
       "\n",
       "#sk-container-id-3 label.sk-toggleable__label .caption {\n",
       "  font-size: 0.6rem;\n",
       "  font-weight: lighter;\n",
       "  color: var(--sklearn-color-text-muted);\n",
       "}\n",
       "\n",
       "#sk-container-id-3 label.sk-toggleable__label-arrow:before {\n",
       "  /* Arrow on the left of the label */\n",
       "  content: \"▸\";\n",
       "  float: left;\n",
       "  margin-right: 0.25em;\n",
       "  color: var(--sklearn-color-icon);\n",
       "}\n",
       "\n",
       "#sk-container-id-3 label.sk-toggleable__label-arrow:hover:before {\n",
       "  color: var(--sklearn-color-text);\n",
       "}\n",
       "\n",
       "/* Toggleable content - dropdown */\n",
       "\n",
       "#sk-container-id-3 div.sk-toggleable__content {\n",
       "  display: none;\n",
       "  text-align: left;\n",
       "  /* unfitted */\n",
       "  background-color: var(--sklearn-color-unfitted-level-0);\n",
       "}\n",
       "\n",
       "#sk-container-id-3 div.sk-toggleable__content.fitted {\n",
       "  /* fitted */\n",
       "  background-color: var(--sklearn-color-fitted-level-0);\n",
       "}\n",
       "\n",
       "#sk-container-id-3 div.sk-toggleable__content pre {\n",
       "  margin: 0.2em;\n",
       "  border-radius: 0.25em;\n",
       "  color: var(--sklearn-color-text);\n",
       "  /* unfitted */\n",
       "  background-color: var(--sklearn-color-unfitted-level-0);\n",
       "}\n",
       "\n",
       "#sk-container-id-3 div.sk-toggleable__content.fitted pre {\n",
       "  /* unfitted */\n",
       "  background-color: var(--sklearn-color-fitted-level-0);\n",
       "}\n",
       "\n",
       "#sk-container-id-3 input.sk-toggleable__control:checked~div.sk-toggleable__content {\n",
       "  /* Expand drop-down */\n",
       "  display: block;\n",
       "  width: 100%;\n",
       "  overflow: visible;\n",
       "}\n",
       "\n",
       "#sk-container-id-3 input.sk-toggleable__control:checked~label.sk-toggleable__label-arrow:before {\n",
       "  content: \"▾\";\n",
       "}\n",
       "\n",
       "/* Pipeline/ColumnTransformer-specific style */\n",
       "\n",
       "#sk-container-id-3 div.sk-label input.sk-toggleable__control:checked~label.sk-toggleable__label {\n",
       "  color: var(--sklearn-color-text);\n",
       "  background-color: var(--sklearn-color-unfitted-level-2);\n",
       "}\n",
       "\n",
       "#sk-container-id-3 div.sk-label.fitted input.sk-toggleable__control:checked~label.sk-toggleable__label {\n",
       "  background-color: var(--sklearn-color-fitted-level-2);\n",
       "}\n",
       "\n",
       "/* Estimator-specific style */\n",
       "\n",
       "/* Colorize estimator box */\n",
       "#sk-container-id-3 div.sk-estimator input.sk-toggleable__control:checked~label.sk-toggleable__label {\n",
       "  /* unfitted */\n",
       "  background-color: var(--sklearn-color-unfitted-level-2);\n",
       "}\n",
       "\n",
       "#sk-container-id-3 div.sk-estimator.fitted input.sk-toggleable__control:checked~label.sk-toggleable__label {\n",
       "  /* fitted */\n",
       "  background-color: var(--sklearn-color-fitted-level-2);\n",
       "}\n",
       "\n",
       "#sk-container-id-3 div.sk-label label.sk-toggleable__label,\n",
       "#sk-container-id-3 div.sk-label label {\n",
       "  /* The background is the default theme color */\n",
       "  color: var(--sklearn-color-text-on-default-background);\n",
       "}\n",
       "\n",
       "/* On hover, darken the color of the background */\n",
       "#sk-container-id-3 div.sk-label:hover label.sk-toggleable__label {\n",
       "  color: var(--sklearn-color-text);\n",
       "  background-color: var(--sklearn-color-unfitted-level-2);\n",
       "}\n",
       "\n",
       "/* Label box, darken color on hover, fitted */\n",
       "#sk-container-id-3 div.sk-label.fitted:hover label.sk-toggleable__label.fitted {\n",
       "  color: var(--sklearn-color-text);\n",
       "  background-color: var(--sklearn-color-fitted-level-2);\n",
       "}\n",
       "\n",
       "/* Estimator label */\n",
       "\n",
       "#sk-container-id-3 div.sk-label label {\n",
       "  font-family: monospace;\n",
       "  font-weight: bold;\n",
       "  display: inline-block;\n",
       "  line-height: 1.2em;\n",
       "}\n",
       "\n",
       "#sk-container-id-3 div.sk-label-container {\n",
       "  text-align: center;\n",
       "}\n",
       "\n",
       "/* Estimator-specific */\n",
       "#sk-container-id-3 div.sk-estimator {\n",
       "  font-family: monospace;\n",
       "  border: 1px dotted var(--sklearn-color-border-box);\n",
       "  border-radius: 0.25em;\n",
       "  box-sizing: border-box;\n",
       "  margin-bottom: 0.5em;\n",
       "  /* unfitted */\n",
       "  background-color: var(--sklearn-color-unfitted-level-0);\n",
       "}\n",
       "\n",
       "#sk-container-id-3 div.sk-estimator.fitted {\n",
       "  /* fitted */\n",
       "  background-color: var(--sklearn-color-fitted-level-0);\n",
       "}\n",
       "\n",
       "/* on hover */\n",
       "#sk-container-id-3 div.sk-estimator:hover {\n",
       "  /* unfitted */\n",
       "  background-color: var(--sklearn-color-unfitted-level-2);\n",
       "}\n",
       "\n",
       "#sk-container-id-3 div.sk-estimator.fitted:hover {\n",
       "  /* fitted */\n",
       "  background-color: var(--sklearn-color-fitted-level-2);\n",
       "}\n",
       "\n",
       "/* Specification for estimator info (e.g. \"i\" and \"?\") */\n",
       "\n",
       "/* Common style for \"i\" and \"?\" */\n",
       "\n",
       ".sk-estimator-doc-link,\n",
       "a:link.sk-estimator-doc-link,\n",
       "a:visited.sk-estimator-doc-link {\n",
       "  float: right;\n",
       "  font-size: smaller;\n",
       "  line-height: 1em;\n",
       "  font-family: monospace;\n",
       "  background-color: var(--sklearn-color-background);\n",
       "  border-radius: 1em;\n",
       "  height: 1em;\n",
       "  width: 1em;\n",
       "  text-decoration: none !important;\n",
       "  margin-left: 0.5em;\n",
       "  text-align: center;\n",
       "  /* unfitted */\n",
       "  border: var(--sklearn-color-unfitted-level-1) 1pt solid;\n",
       "  color: var(--sklearn-color-unfitted-level-1);\n",
       "}\n",
       "\n",
       ".sk-estimator-doc-link.fitted,\n",
       "a:link.sk-estimator-doc-link.fitted,\n",
       "a:visited.sk-estimator-doc-link.fitted {\n",
       "  /* fitted */\n",
       "  border: var(--sklearn-color-fitted-level-1) 1pt solid;\n",
       "  color: var(--sklearn-color-fitted-level-1);\n",
       "}\n",
       "\n",
       "/* On hover */\n",
       "div.sk-estimator:hover .sk-estimator-doc-link:hover,\n",
       ".sk-estimator-doc-link:hover,\n",
       "div.sk-label-container:hover .sk-estimator-doc-link:hover,\n",
       ".sk-estimator-doc-link:hover {\n",
       "  /* unfitted */\n",
       "  background-color: var(--sklearn-color-unfitted-level-3);\n",
       "  color: var(--sklearn-color-background);\n",
       "  text-decoration: none;\n",
       "}\n",
       "\n",
       "div.sk-estimator.fitted:hover .sk-estimator-doc-link.fitted:hover,\n",
       ".sk-estimator-doc-link.fitted:hover,\n",
       "div.sk-label-container:hover .sk-estimator-doc-link.fitted:hover,\n",
       ".sk-estimator-doc-link.fitted:hover {\n",
       "  /* fitted */\n",
       "  background-color: var(--sklearn-color-fitted-level-3);\n",
       "  color: var(--sklearn-color-background);\n",
       "  text-decoration: none;\n",
       "}\n",
       "\n",
       "/* Span, style for the box shown on hovering the info icon */\n",
       ".sk-estimator-doc-link span {\n",
       "  display: none;\n",
       "  z-index: 9999;\n",
       "  position: relative;\n",
       "  font-weight: normal;\n",
       "  right: .2ex;\n",
       "  padding: .5ex;\n",
       "  margin: .5ex;\n",
       "  width: min-content;\n",
       "  min-width: 20ex;\n",
       "  max-width: 50ex;\n",
       "  color: var(--sklearn-color-text);\n",
       "  box-shadow: 2pt 2pt 4pt #999;\n",
       "  /* unfitted */\n",
       "  background: var(--sklearn-color-unfitted-level-0);\n",
       "  border: .5pt solid var(--sklearn-color-unfitted-level-3);\n",
       "}\n",
       "\n",
       ".sk-estimator-doc-link.fitted span {\n",
       "  /* fitted */\n",
       "  background: var(--sklearn-color-fitted-level-0);\n",
       "  border: var(--sklearn-color-fitted-level-3);\n",
       "}\n",
       "\n",
       ".sk-estimator-doc-link:hover span {\n",
       "  display: block;\n",
       "}\n",
       "\n",
       "/* \"?\"-specific style due to the `<a>` HTML tag */\n",
       "\n",
       "#sk-container-id-3 a.estimator_doc_link {\n",
       "  float: right;\n",
       "  font-size: 1rem;\n",
       "  line-height: 1em;\n",
       "  font-family: monospace;\n",
       "  background-color: var(--sklearn-color-background);\n",
       "  border-radius: 1rem;\n",
       "  height: 1rem;\n",
       "  width: 1rem;\n",
       "  text-decoration: none;\n",
       "  /* unfitted */\n",
       "  color: var(--sklearn-color-unfitted-level-1);\n",
       "  border: var(--sklearn-color-unfitted-level-1) 1pt solid;\n",
       "}\n",
       "\n",
       "#sk-container-id-3 a.estimator_doc_link.fitted {\n",
       "  /* fitted */\n",
       "  border: var(--sklearn-color-fitted-level-1) 1pt solid;\n",
       "  color: var(--sklearn-color-fitted-level-1);\n",
       "}\n",
       "\n",
       "/* On hover */\n",
       "#sk-container-id-3 a.estimator_doc_link:hover {\n",
       "  /* unfitted */\n",
       "  background-color: var(--sklearn-color-unfitted-level-3);\n",
       "  color: var(--sklearn-color-background);\n",
       "  text-decoration: none;\n",
       "}\n",
       "\n",
       "#sk-container-id-3 a.estimator_doc_link.fitted:hover {\n",
       "  /* fitted */\n",
       "  background-color: var(--sklearn-color-fitted-level-3);\n",
       "}\n",
       "\n",
       ".estimator-table summary {\n",
       "    padding: .5rem;\n",
       "    font-family: monospace;\n",
       "    cursor: pointer;\n",
       "}\n",
       "\n",
       ".estimator-table details[open] {\n",
       "    padding-left: 0.1rem;\n",
       "    padding-right: 0.1rem;\n",
       "    padding-bottom: 0.3rem;\n",
       "}\n",
       "\n",
       ".estimator-table .parameters-table {\n",
       "    margin-left: auto !important;\n",
       "    margin-right: auto !important;\n",
       "}\n",
       "\n",
       ".estimator-table .parameters-table tr:nth-child(odd) {\n",
       "    background-color: #fff;\n",
       "}\n",
       "\n",
       ".estimator-table .parameters-table tr:nth-child(even) {\n",
       "    background-color: #f6f6f6;\n",
       "}\n",
       "\n",
       ".estimator-table .parameters-table tr:hover {\n",
       "    background-color: #e0e0e0;\n",
       "}\n",
       "\n",
       ".estimator-table table td {\n",
       "    border: 1px solid rgba(106, 105, 104, 0.232);\n",
       "}\n",
       "\n",
       ".user-set td {\n",
       "    color:rgb(255, 94, 0);\n",
       "    text-align: left;\n",
       "}\n",
       "\n",
       ".user-set td.value pre {\n",
       "    color:rgb(255, 94, 0) !important;\n",
       "    background-color: transparent !important;\n",
       "}\n",
       "\n",
       ".default td {\n",
       "    color: black;\n",
       "    text-align: left;\n",
       "}\n",
       "\n",
       ".user-set td i,\n",
       ".default td i {\n",
       "    color: black;\n",
       "}\n",
       "\n",
       ".copy-paste-icon {\n",
       "    background-image: url(data:image/svg+xml;base64,PHN2ZyB4bWxucz0iaHR0cDovL3d3dy53My5vcmcvMjAwMC9zdmciIHZpZXdCb3g9IjAgMCA0NDggNTEyIj48IS0tIUZvbnQgQXdlc29tZSBGcmVlIDYuNy4yIGJ5IEBmb250YXdlc29tZSAtIGh0dHBzOi8vZm9udGF3ZXNvbWUuY29tIExpY2Vuc2UgLSBodHRwczovL2ZvbnRhd2Vzb21lLmNvbS9saWNlbnNlL2ZyZWUgQ29weXJpZ2h0IDIwMjUgRm9udGljb25zLCBJbmMuLS0+PHBhdGggZD0iTTIwOCAwTDMzMi4xIDBjMTIuNyAwIDI0LjkgNS4xIDMzLjkgMTQuMWw2Ny45IDY3LjljOSA5IDE0LjEgMjEuMiAxNC4xIDMzLjlMNDQ4IDMzNmMwIDI2LjUtMjEuNSA0OC00OCA0OGwtMTkyIDBjLTI2LjUgMC00OC0yMS41LTQ4LTQ4bDAtMjg4YzAtMjYuNSAyMS41LTQ4IDQ4LTQ4ek00OCAxMjhsODAgMCAwIDY0LTY0IDAgMCAyNTYgMTkyIDAgMC0zMiA2NCAwIDAgNDhjMCAyNi41LTIxLjUgNDgtNDggNDhMNDggNTEyYy0yNi41IDAtNDgtMjEuNS00OC00OEwwIDE3NmMwLTI2LjUgMjEuNS00OCA0OC00OHoiLz48L3N2Zz4=);\n",
       "    background-repeat: no-repeat;\n",
       "    background-size: 14px 14px;\n",
       "    background-position: 0;\n",
       "    display: inline-block;\n",
       "    width: 14px;\n",
       "    height: 14px;\n",
       "    cursor: pointer;\n",
       "}\n",
       "</style><body><div id=\"sk-container-id-3\" class=\"sk-top-container\"><div class=\"sk-text-repr-fallback\"><pre>Lasso(alpha=30)</pre><b>In a Jupyter environment, please rerun this cell to show the HTML representation or trust the notebook. <br />On GitHub, the HTML representation is unable to render, please try loading this page with nbviewer.org.</b></div><div class=\"sk-container\" hidden><div class=\"sk-item\"><div class=\"sk-estimator fitted sk-toggleable\"><input class=\"sk-toggleable__control sk-hidden--visually\" id=\"sk-estimator-id-3\" type=\"checkbox\" checked><label for=\"sk-estimator-id-3\" class=\"sk-toggleable__label fitted sk-toggleable__label-arrow\"><div><div>Lasso</div></div><div><a class=\"sk-estimator-doc-link fitted\" rel=\"noreferrer\" target=\"_blank\" href=\"https://scikit-learn.org/1.7/modules/generated/sklearn.linear_model.Lasso.html\">?<span>Documentation for Lasso</span></a><span class=\"sk-estimator-doc-link fitted\">i<span>Fitted</span></span></div></label><div class=\"sk-toggleable__content fitted\" data-param-prefix=\"\">\n",
       "        <div class=\"estimator-table\">\n",
       "            <details>\n",
       "                <summary>Parameters</summary>\n",
       "                <table class=\"parameters-table\">\n",
       "                  <tbody>\n",
       "                    \n",
       "        <tr class=\"user-set\">\n",
       "            <td><i class=\"copy-paste-icon\"\n",
       "                 onclick=\"copyToClipboard('alpha',\n",
       "                          this.parentElement.nextElementSibling)\"\n",
       "            ></i></td>\n",
       "            <td class=\"param\">alpha&nbsp;</td>\n",
       "            <td class=\"value\">30</td>\n",
       "        </tr>\n",
       "    \n",
       "\n",
       "        <tr class=\"default\">\n",
       "            <td><i class=\"copy-paste-icon\"\n",
       "                 onclick=\"copyToClipboard('fit_intercept',\n",
       "                          this.parentElement.nextElementSibling)\"\n",
       "            ></i></td>\n",
       "            <td class=\"param\">fit_intercept&nbsp;</td>\n",
       "            <td class=\"value\">True</td>\n",
       "        </tr>\n",
       "    \n",
       "\n",
       "        <tr class=\"default\">\n",
       "            <td><i class=\"copy-paste-icon\"\n",
       "                 onclick=\"copyToClipboard('precompute',\n",
       "                          this.parentElement.nextElementSibling)\"\n",
       "            ></i></td>\n",
       "            <td class=\"param\">precompute&nbsp;</td>\n",
       "            <td class=\"value\">False</td>\n",
       "        </tr>\n",
       "    \n",
       "\n",
       "        <tr class=\"default\">\n",
       "            <td><i class=\"copy-paste-icon\"\n",
       "                 onclick=\"copyToClipboard('copy_X',\n",
       "                          this.parentElement.nextElementSibling)\"\n",
       "            ></i></td>\n",
       "            <td class=\"param\">copy_X&nbsp;</td>\n",
       "            <td class=\"value\">True</td>\n",
       "        </tr>\n",
       "    \n",
       "\n",
       "        <tr class=\"default\">\n",
       "            <td><i class=\"copy-paste-icon\"\n",
       "                 onclick=\"copyToClipboard('max_iter',\n",
       "                          this.parentElement.nextElementSibling)\"\n",
       "            ></i></td>\n",
       "            <td class=\"param\">max_iter&nbsp;</td>\n",
       "            <td class=\"value\">1000</td>\n",
       "        </tr>\n",
       "    \n",
       "\n",
       "        <tr class=\"default\">\n",
       "            <td><i class=\"copy-paste-icon\"\n",
       "                 onclick=\"copyToClipboard('tol',\n",
       "                          this.parentElement.nextElementSibling)\"\n",
       "            ></i></td>\n",
       "            <td class=\"param\">tol&nbsp;</td>\n",
       "            <td class=\"value\">0.0001</td>\n",
       "        </tr>\n",
       "    \n",
       "\n",
       "        <tr class=\"default\">\n",
       "            <td><i class=\"copy-paste-icon\"\n",
       "                 onclick=\"copyToClipboard('warm_start',\n",
       "                          this.parentElement.nextElementSibling)\"\n",
       "            ></i></td>\n",
       "            <td class=\"param\">warm_start&nbsp;</td>\n",
       "            <td class=\"value\">False</td>\n",
       "        </tr>\n",
       "    \n",
       "\n",
       "        <tr class=\"default\">\n",
       "            <td><i class=\"copy-paste-icon\"\n",
       "                 onclick=\"copyToClipboard('positive',\n",
       "                          this.parentElement.nextElementSibling)\"\n",
       "            ></i></td>\n",
       "            <td class=\"param\">positive&nbsp;</td>\n",
       "            <td class=\"value\">False</td>\n",
       "        </tr>\n",
       "    \n",
       "\n",
       "        <tr class=\"default\">\n",
       "            <td><i class=\"copy-paste-icon\"\n",
       "                 onclick=\"copyToClipboard('random_state',\n",
       "                          this.parentElement.nextElementSibling)\"\n",
       "            ></i></td>\n",
       "            <td class=\"param\">random_state&nbsp;</td>\n",
       "            <td class=\"value\">None</td>\n",
       "        </tr>\n",
       "    \n",
       "\n",
       "        <tr class=\"default\">\n",
       "            <td><i class=\"copy-paste-icon\"\n",
       "                 onclick=\"copyToClipboard('selection',\n",
       "                          this.parentElement.nextElementSibling)\"\n",
       "            ></i></td>\n",
       "            <td class=\"param\">selection&nbsp;</td>\n",
       "            <td class=\"value\">&#x27;cyclic&#x27;</td>\n",
       "        </tr>\n",
       "    \n",
       "                  </tbody>\n",
       "                </table>\n",
       "            </details>\n",
       "        </div>\n",
       "    </div></div></div></div></div><script>function copyToClipboard(text, element) {\n",
       "    // Get the parameter prefix from the closest toggleable content\n",
       "    const toggleableContent = element.closest('.sk-toggleable__content');\n",
       "    const paramPrefix = toggleableContent ? toggleableContent.dataset.paramPrefix : '';\n",
       "    const fullParamName = paramPrefix ? `${paramPrefix}${text}` : text;\n",
       "\n",
       "    const originalStyle = element.style;\n",
       "    const computedStyle = window.getComputedStyle(element);\n",
       "    const originalWidth = computedStyle.width;\n",
       "    const originalHTML = element.innerHTML.replace('Copied!', '');\n",
       "\n",
       "    navigator.clipboard.writeText(fullParamName)\n",
       "        .then(() => {\n",
       "            element.style.width = originalWidth;\n",
       "            element.style.color = 'green';\n",
       "            element.innerHTML = \"Copied!\";\n",
       "\n",
       "            setTimeout(() => {\n",
       "                element.innerHTML = originalHTML;\n",
       "                element.style = originalStyle;\n",
       "            }, 2000);\n",
       "        })\n",
       "        .catch(err => {\n",
       "            console.error('Failed to copy:', err);\n",
       "            element.style.color = 'red';\n",
       "            element.innerHTML = \"Failed!\";\n",
       "            setTimeout(() => {\n",
       "                element.innerHTML = originalHTML;\n",
       "                element.style = originalStyle;\n",
       "            }, 2000);\n",
       "        });\n",
       "    return false;\n",
       "}\n",
       "\n",
       "document.querySelectorAll('.fa-regular.fa-copy').forEach(function(element) {\n",
       "    const toggleableContent = element.closest('.sk-toggleable__content');\n",
       "    const paramPrefix = toggleableContent ? toggleableContent.dataset.paramPrefix : '';\n",
       "    const paramName = element.parentElement.nextElementSibling.textContent.trim();\n",
       "    const fullParamName = paramPrefix ? `${paramPrefix}${paramName}` : paramName;\n",
       "\n",
       "    element.setAttribute('title', fullParamName);\n",
       "});\n",
       "</script></body>"
      ],
      "text/plain": [
       "Lasso(alpha=30)"
      ]
     },
     "execution_count": 34,
     "metadata": {},
     "output_type": "execute_result"
    }
   ],
   "source": [
    "lasso_model = Lasso(alpha=30)  # You can adjust the alpha parameter for stronger or weaker regularization\n",
    "\n",
    "lasso_model.fit(X, df_spend['spend'])\n"
   ]
  },
  {
   "cell_type": "code",
   "execution_count": 36,
   "metadata": {
    "colab": {
     "base_uri": "https://localhost:8080/"
    },
    "executionInfo": {
     "elapsed": 402,
     "status": "ok",
     "timestamp": 1721205512071,
     "user": {
      "displayName": "Yong Song",
      "userId": "00576951217859821315"
     },
     "user_tz": -600
    },
    "id": "mOTVwhD8hqFD",
    "outputId": "a2d2770e-3dcb-428b-aaaa-f37224d0bf66"
   },
   "outputs": [
    {
     "name": "stdout",
     "output_type": "stream",
     "text": [
      "495\n",
      "56794942.82089353\n"
     ]
    }
   ],
   "source": [
    "print(np.sum(lasso_model.coef_ != 0))\n",
    "yhat = lasso_model.predict(X)\n",
    "print(mean_squared_error(df_spend['spend'], yhat))"
   ]
  },
  {
   "cell_type": "code",
   "execution_count": 37,
   "metadata": {
    "colab": {
     "base_uri": "https://localhost:8080/"
    },
    "executionInfo": {
     "elapsed": 346,
     "status": "ok",
     "timestamp": 1721205595553,
     "user": {
      "displayName": "Yong Song",
      "userId": "00576951217859821315"
     },
     "user_tz": -600
    },
    "id": "W-l5IAu1hqFD",
    "outputId": "17281eff-0682-4a80-b2ed-d9dae7ad7269"
   },
   "outputs": [
    {
     "name": "stdout",
     "output_type": "stream",
     "text": [
      "178796.61702330713\n"
     ]
    }
   ],
   "source": [
    "n = 10000\n",
    "num_params = 122\n",
    "aicc = n * np.log(mean_squared_error(df_spend['spend'], yhat)) \\\n",
    "+ 2 * num_params + 2 * num_params * (num_params+1) / (n - num_params - 1)\n",
    "print(aicc)"
   ]
  },
  {
   "cell_type": "markdown",
   "metadata": {
    "id": "TIlTy6DZiP97"
   },
   "source": [
    "## cross validation"
   ]
  },
  {
   "cell_type": "code",
   "execution_count": 38,
   "metadata": {
    "colab": {
     "base_uri": "https://localhost:8080/",
     "height": 213
    },
    "executionInfo": {
     "elapsed": 7731,
     "status": "ok",
     "timestamp": 1721205620598,
     "user": {
      "displayName": "Yong Song",
      "userId": "00576951217859821315"
     },
     "user_tz": -600
    },
    "id": "MIFVNUdViVua",
    "outputId": "5e766711-1435-4652-c7e1-d88ce1fd613d"
   },
   "outputs": [
    {
     "data": {
      "text/html": [
       "<style>#sk-container-id-4 {\n",
       "  /* Definition of color scheme common for light and dark mode */\n",
       "  --sklearn-color-text: #000;\n",
       "  --sklearn-color-text-muted: #666;\n",
       "  --sklearn-color-line: gray;\n",
       "  /* Definition of color scheme for unfitted estimators */\n",
       "  --sklearn-color-unfitted-level-0: #fff5e6;\n",
       "  --sklearn-color-unfitted-level-1: #f6e4d2;\n",
       "  --sklearn-color-unfitted-level-2: #ffe0b3;\n",
       "  --sklearn-color-unfitted-level-3: chocolate;\n",
       "  /* Definition of color scheme for fitted estimators */\n",
       "  --sklearn-color-fitted-level-0: #f0f8ff;\n",
       "  --sklearn-color-fitted-level-1: #d4ebff;\n",
       "  --sklearn-color-fitted-level-2: #b3dbfd;\n",
       "  --sklearn-color-fitted-level-3: cornflowerblue;\n",
       "\n",
       "  /* Specific color for light theme */\n",
       "  --sklearn-color-text-on-default-background: var(--sg-text-color, var(--theme-code-foreground, var(--jp-content-font-color1, black)));\n",
       "  --sklearn-color-background: var(--sg-background-color, var(--theme-background, var(--jp-layout-color0, white)));\n",
       "  --sklearn-color-border-box: var(--sg-text-color, var(--theme-code-foreground, var(--jp-content-font-color1, black)));\n",
       "  --sklearn-color-icon: #696969;\n",
       "\n",
       "  @media (prefers-color-scheme: dark) {\n",
       "    /* Redefinition of color scheme for dark theme */\n",
       "    --sklearn-color-text-on-default-background: var(--sg-text-color, var(--theme-code-foreground, var(--jp-content-font-color1, white)));\n",
       "    --sklearn-color-background: var(--sg-background-color, var(--theme-background, var(--jp-layout-color0, #111)));\n",
       "    --sklearn-color-border-box: var(--sg-text-color, var(--theme-code-foreground, var(--jp-content-font-color1, white)));\n",
       "    --sklearn-color-icon: #878787;\n",
       "  }\n",
       "}\n",
       "\n",
       "#sk-container-id-4 {\n",
       "  color: var(--sklearn-color-text);\n",
       "}\n",
       "\n",
       "#sk-container-id-4 pre {\n",
       "  padding: 0;\n",
       "}\n",
       "\n",
       "#sk-container-id-4 input.sk-hidden--visually {\n",
       "  border: 0;\n",
       "  clip: rect(1px 1px 1px 1px);\n",
       "  clip: rect(1px, 1px, 1px, 1px);\n",
       "  height: 1px;\n",
       "  margin: -1px;\n",
       "  overflow: hidden;\n",
       "  padding: 0;\n",
       "  position: absolute;\n",
       "  width: 1px;\n",
       "}\n",
       "\n",
       "#sk-container-id-4 div.sk-dashed-wrapped {\n",
       "  border: 1px dashed var(--sklearn-color-line);\n",
       "  margin: 0 0.4em 0.5em 0.4em;\n",
       "  box-sizing: border-box;\n",
       "  padding-bottom: 0.4em;\n",
       "  background-color: var(--sklearn-color-background);\n",
       "}\n",
       "\n",
       "#sk-container-id-4 div.sk-container {\n",
       "  /* jupyter's `normalize.less` sets `[hidden] { display: none; }`\n",
       "     but bootstrap.min.css set `[hidden] { display: none !important; }`\n",
       "     so we also need the `!important` here to be able to override the\n",
       "     default hidden behavior on the sphinx rendered scikit-learn.org.\n",
       "     See: https://github.com/scikit-learn/scikit-learn/issues/21755 */\n",
       "  display: inline-block !important;\n",
       "  position: relative;\n",
       "}\n",
       "\n",
       "#sk-container-id-4 div.sk-text-repr-fallback {\n",
       "  display: none;\n",
       "}\n",
       "\n",
       "div.sk-parallel-item,\n",
       "div.sk-serial,\n",
       "div.sk-item {\n",
       "  /* draw centered vertical line to link estimators */\n",
       "  background-image: linear-gradient(var(--sklearn-color-text-on-default-background), var(--sklearn-color-text-on-default-background));\n",
       "  background-size: 2px 100%;\n",
       "  background-repeat: no-repeat;\n",
       "  background-position: center center;\n",
       "}\n",
       "\n",
       "/* Parallel-specific style estimator block */\n",
       "\n",
       "#sk-container-id-4 div.sk-parallel-item::after {\n",
       "  content: \"\";\n",
       "  width: 100%;\n",
       "  border-bottom: 2px solid var(--sklearn-color-text-on-default-background);\n",
       "  flex-grow: 1;\n",
       "}\n",
       "\n",
       "#sk-container-id-4 div.sk-parallel {\n",
       "  display: flex;\n",
       "  align-items: stretch;\n",
       "  justify-content: center;\n",
       "  background-color: var(--sklearn-color-background);\n",
       "  position: relative;\n",
       "}\n",
       "\n",
       "#sk-container-id-4 div.sk-parallel-item {\n",
       "  display: flex;\n",
       "  flex-direction: column;\n",
       "}\n",
       "\n",
       "#sk-container-id-4 div.sk-parallel-item:first-child::after {\n",
       "  align-self: flex-end;\n",
       "  width: 50%;\n",
       "}\n",
       "\n",
       "#sk-container-id-4 div.sk-parallel-item:last-child::after {\n",
       "  align-self: flex-start;\n",
       "  width: 50%;\n",
       "}\n",
       "\n",
       "#sk-container-id-4 div.sk-parallel-item:only-child::after {\n",
       "  width: 0;\n",
       "}\n",
       "\n",
       "/* Serial-specific style estimator block */\n",
       "\n",
       "#sk-container-id-4 div.sk-serial {\n",
       "  display: flex;\n",
       "  flex-direction: column;\n",
       "  align-items: center;\n",
       "  background-color: var(--sklearn-color-background);\n",
       "  padding-right: 1em;\n",
       "  padding-left: 1em;\n",
       "}\n",
       "\n",
       "\n",
       "/* Toggleable style: style used for estimator/Pipeline/ColumnTransformer box that is\n",
       "clickable and can be expanded/collapsed.\n",
       "- Pipeline and ColumnTransformer use this feature and define the default style\n",
       "- Estimators will overwrite some part of the style using the `sk-estimator` class\n",
       "*/\n",
       "\n",
       "/* Pipeline and ColumnTransformer style (default) */\n",
       "\n",
       "#sk-container-id-4 div.sk-toggleable {\n",
       "  /* Default theme specific background. It is overwritten whether we have a\n",
       "  specific estimator or a Pipeline/ColumnTransformer */\n",
       "  background-color: var(--sklearn-color-background);\n",
       "}\n",
       "\n",
       "/* Toggleable label */\n",
       "#sk-container-id-4 label.sk-toggleable__label {\n",
       "  cursor: pointer;\n",
       "  display: flex;\n",
       "  width: 100%;\n",
       "  margin-bottom: 0;\n",
       "  padding: 0.5em;\n",
       "  box-sizing: border-box;\n",
       "  text-align: center;\n",
       "  align-items: start;\n",
       "  justify-content: space-between;\n",
       "  gap: 0.5em;\n",
       "}\n",
       "\n",
       "#sk-container-id-4 label.sk-toggleable__label .caption {\n",
       "  font-size: 0.6rem;\n",
       "  font-weight: lighter;\n",
       "  color: var(--sklearn-color-text-muted);\n",
       "}\n",
       "\n",
       "#sk-container-id-4 label.sk-toggleable__label-arrow:before {\n",
       "  /* Arrow on the left of the label */\n",
       "  content: \"▸\";\n",
       "  float: left;\n",
       "  margin-right: 0.25em;\n",
       "  color: var(--sklearn-color-icon);\n",
       "}\n",
       "\n",
       "#sk-container-id-4 label.sk-toggleable__label-arrow:hover:before {\n",
       "  color: var(--sklearn-color-text);\n",
       "}\n",
       "\n",
       "/* Toggleable content - dropdown */\n",
       "\n",
       "#sk-container-id-4 div.sk-toggleable__content {\n",
       "  display: none;\n",
       "  text-align: left;\n",
       "  /* unfitted */\n",
       "  background-color: var(--sklearn-color-unfitted-level-0);\n",
       "}\n",
       "\n",
       "#sk-container-id-4 div.sk-toggleable__content.fitted {\n",
       "  /* fitted */\n",
       "  background-color: var(--sklearn-color-fitted-level-0);\n",
       "}\n",
       "\n",
       "#sk-container-id-4 div.sk-toggleable__content pre {\n",
       "  margin: 0.2em;\n",
       "  border-radius: 0.25em;\n",
       "  color: var(--sklearn-color-text);\n",
       "  /* unfitted */\n",
       "  background-color: var(--sklearn-color-unfitted-level-0);\n",
       "}\n",
       "\n",
       "#sk-container-id-4 div.sk-toggleable__content.fitted pre {\n",
       "  /* unfitted */\n",
       "  background-color: var(--sklearn-color-fitted-level-0);\n",
       "}\n",
       "\n",
       "#sk-container-id-4 input.sk-toggleable__control:checked~div.sk-toggleable__content {\n",
       "  /* Expand drop-down */\n",
       "  display: block;\n",
       "  width: 100%;\n",
       "  overflow: visible;\n",
       "}\n",
       "\n",
       "#sk-container-id-4 input.sk-toggleable__control:checked~label.sk-toggleable__label-arrow:before {\n",
       "  content: \"▾\";\n",
       "}\n",
       "\n",
       "/* Pipeline/ColumnTransformer-specific style */\n",
       "\n",
       "#sk-container-id-4 div.sk-label input.sk-toggleable__control:checked~label.sk-toggleable__label {\n",
       "  color: var(--sklearn-color-text);\n",
       "  background-color: var(--sklearn-color-unfitted-level-2);\n",
       "}\n",
       "\n",
       "#sk-container-id-4 div.sk-label.fitted input.sk-toggleable__control:checked~label.sk-toggleable__label {\n",
       "  background-color: var(--sklearn-color-fitted-level-2);\n",
       "}\n",
       "\n",
       "/* Estimator-specific style */\n",
       "\n",
       "/* Colorize estimator box */\n",
       "#sk-container-id-4 div.sk-estimator input.sk-toggleable__control:checked~label.sk-toggleable__label {\n",
       "  /* unfitted */\n",
       "  background-color: var(--sklearn-color-unfitted-level-2);\n",
       "}\n",
       "\n",
       "#sk-container-id-4 div.sk-estimator.fitted input.sk-toggleable__control:checked~label.sk-toggleable__label {\n",
       "  /* fitted */\n",
       "  background-color: var(--sklearn-color-fitted-level-2);\n",
       "}\n",
       "\n",
       "#sk-container-id-4 div.sk-label label.sk-toggleable__label,\n",
       "#sk-container-id-4 div.sk-label label {\n",
       "  /* The background is the default theme color */\n",
       "  color: var(--sklearn-color-text-on-default-background);\n",
       "}\n",
       "\n",
       "/* On hover, darken the color of the background */\n",
       "#sk-container-id-4 div.sk-label:hover label.sk-toggleable__label {\n",
       "  color: var(--sklearn-color-text);\n",
       "  background-color: var(--sklearn-color-unfitted-level-2);\n",
       "}\n",
       "\n",
       "/* Label box, darken color on hover, fitted */\n",
       "#sk-container-id-4 div.sk-label.fitted:hover label.sk-toggleable__label.fitted {\n",
       "  color: var(--sklearn-color-text);\n",
       "  background-color: var(--sklearn-color-fitted-level-2);\n",
       "}\n",
       "\n",
       "/* Estimator label */\n",
       "\n",
       "#sk-container-id-4 div.sk-label label {\n",
       "  font-family: monospace;\n",
       "  font-weight: bold;\n",
       "  display: inline-block;\n",
       "  line-height: 1.2em;\n",
       "}\n",
       "\n",
       "#sk-container-id-4 div.sk-label-container {\n",
       "  text-align: center;\n",
       "}\n",
       "\n",
       "/* Estimator-specific */\n",
       "#sk-container-id-4 div.sk-estimator {\n",
       "  font-family: monospace;\n",
       "  border: 1px dotted var(--sklearn-color-border-box);\n",
       "  border-radius: 0.25em;\n",
       "  box-sizing: border-box;\n",
       "  margin-bottom: 0.5em;\n",
       "  /* unfitted */\n",
       "  background-color: var(--sklearn-color-unfitted-level-0);\n",
       "}\n",
       "\n",
       "#sk-container-id-4 div.sk-estimator.fitted {\n",
       "  /* fitted */\n",
       "  background-color: var(--sklearn-color-fitted-level-0);\n",
       "}\n",
       "\n",
       "/* on hover */\n",
       "#sk-container-id-4 div.sk-estimator:hover {\n",
       "  /* unfitted */\n",
       "  background-color: var(--sklearn-color-unfitted-level-2);\n",
       "}\n",
       "\n",
       "#sk-container-id-4 div.sk-estimator.fitted:hover {\n",
       "  /* fitted */\n",
       "  background-color: var(--sklearn-color-fitted-level-2);\n",
       "}\n",
       "\n",
       "/* Specification for estimator info (e.g. \"i\" and \"?\") */\n",
       "\n",
       "/* Common style for \"i\" and \"?\" */\n",
       "\n",
       ".sk-estimator-doc-link,\n",
       "a:link.sk-estimator-doc-link,\n",
       "a:visited.sk-estimator-doc-link {\n",
       "  float: right;\n",
       "  font-size: smaller;\n",
       "  line-height: 1em;\n",
       "  font-family: monospace;\n",
       "  background-color: var(--sklearn-color-background);\n",
       "  border-radius: 1em;\n",
       "  height: 1em;\n",
       "  width: 1em;\n",
       "  text-decoration: none !important;\n",
       "  margin-left: 0.5em;\n",
       "  text-align: center;\n",
       "  /* unfitted */\n",
       "  border: var(--sklearn-color-unfitted-level-1) 1pt solid;\n",
       "  color: var(--sklearn-color-unfitted-level-1);\n",
       "}\n",
       "\n",
       ".sk-estimator-doc-link.fitted,\n",
       "a:link.sk-estimator-doc-link.fitted,\n",
       "a:visited.sk-estimator-doc-link.fitted {\n",
       "  /* fitted */\n",
       "  border: var(--sklearn-color-fitted-level-1) 1pt solid;\n",
       "  color: var(--sklearn-color-fitted-level-1);\n",
       "}\n",
       "\n",
       "/* On hover */\n",
       "div.sk-estimator:hover .sk-estimator-doc-link:hover,\n",
       ".sk-estimator-doc-link:hover,\n",
       "div.sk-label-container:hover .sk-estimator-doc-link:hover,\n",
       ".sk-estimator-doc-link:hover {\n",
       "  /* unfitted */\n",
       "  background-color: var(--sklearn-color-unfitted-level-3);\n",
       "  color: var(--sklearn-color-background);\n",
       "  text-decoration: none;\n",
       "}\n",
       "\n",
       "div.sk-estimator.fitted:hover .sk-estimator-doc-link.fitted:hover,\n",
       ".sk-estimator-doc-link.fitted:hover,\n",
       "div.sk-label-container:hover .sk-estimator-doc-link.fitted:hover,\n",
       ".sk-estimator-doc-link.fitted:hover {\n",
       "  /* fitted */\n",
       "  background-color: var(--sklearn-color-fitted-level-3);\n",
       "  color: var(--sklearn-color-background);\n",
       "  text-decoration: none;\n",
       "}\n",
       "\n",
       "/* Span, style for the box shown on hovering the info icon */\n",
       ".sk-estimator-doc-link span {\n",
       "  display: none;\n",
       "  z-index: 9999;\n",
       "  position: relative;\n",
       "  font-weight: normal;\n",
       "  right: .2ex;\n",
       "  padding: .5ex;\n",
       "  margin: .5ex;\n",
       "  width: min-content;\n",
       "  min-width: 20ex;\n",
       "  max-width: 50ex;\n",
       "  color: var(--sklearn-color-text);\n",
       "  box-shadow: 2pt 2pt 4pt #999;\n",
       "  /* unfitted */\n",
       "  background: var(--sklearn-color-unfitted-level-0);\n",
       "  border: .5pt solid var(--sklearn-color-unfitted-level-3);\n",
       "}\n",
       "\n",
       ".sk-estimator-doc-link.fitted span {\n",
       "  /* fitted */\n",
       "  background: var(--sklearn-color-fitted-level-0);\n",
       "  border: var(--sklearn-color-fitted-level-3);\n",
       "}\n",
       "\n",
       ".sk-estimator-doc-link:hover span {\n",
       "  display: block;\n",
       "}\n",
       "\n",
       "/* \"?\"-specific style due to the `<a>` HTML tag */\n",
       "\n",
       "#sk-container-id-4 a.estimator_doc_link {\n",
       "  float: right;\n",
       "  font-size: 1rem;\n",
       "  line-height: 1em;\n",
       "  font-family: monospace;\n",
       "  background-color: var(--sklearn-color-background);\n",
       "  border-radius: 1rem;\n",
       "  height: 1rem;\n",
       "  width: 1rem;\n",
       "  text-decoration: none;\n",
       "  /* unfitted */\n",
       "  color: var(--sklearn-color-unfitted-level-1);\n",
       "  border: var(--sklearn-color-unfitted-level-1) 1pt solid;\n",
       "}\n",
       "\n",
       "#sk-container-id-4 a.estimator_doc_link.fitted {\n",
       "  /* fitted */\n",
       "  border: var(--sklearn-color-fitted-level-1) 1pt solid;\n",
       "  color: var(--sklearn-color-fitted-level-1);\n",
       "}\n",
       "\n",
       "/* On hover */\n",
       "#sk-container-id-4 a.estimator_doc_link:hover {\n",
       "  /* unfitted */\n",
       "  background-color: var(--sklearn-color-unfitted-level-3);\n",
       "  color: var(--sklearn-color-background);\n",
       "  text-decoration: none;\n",
       "}\n",
       "\n",
       "#sk-container-id-4 a.estimator_doc_link.fitted:hover {\n",
       "  /* fitted */\n",
       "  background-color: var(--sklearn-color-fitted-level-3);\n",
       "}\n",
       "\n",
       ".estimator-table summary {\n",
       "    padding: .5rem;\n",
       "    font-family: monospace;\n",
       "    cursor: pointer;\n",
       "}\n",
       "\n",
       ".estimator-table details[open] {\n",
       "    padding-left: 0.1rem;\n",
       "    padding-right: 0.1rem;\n",
       "    padding-bottom: 0.3rem;\n",
       "}\n",
       "\n",
       ".estimator-table .parameters-table {\n",
       "    margin-left: auto !important;\n",
       "    margin-right: auto !important;\n",
       "}\n",
       "\n",
       ".estimator-table .parameters-table tr:nth-child(odd) {\n",
       "    background-color: #fff;\n",
       "}\n",
       "\n",
       ".estimator-table .parameters-table tr:nth-child(even) {\n",
       "    background-color: #f6f6f6;\n",
       "}\n",
       "\n",
       ".estimator-table .parameters-table tr:hover {\n",
       "    background-color: #e0e0e0;\n",
       "}\n",
       "\n",
       ".estimator-table table td {\n",
       "    border: 1px solid rgba(106, 105, 104, 0.232);\n",
       "}\n",
       "\n",
       ".user-set td {\n",
       "    color:rgb(255, 94, 0);\n",
       "    text-align: left;\n",
       "}\n",
       "\n",
       ".user-set td.value pre {\n",
       "    color:rgb(255, 94, 0) !important;\n",
       "    background-color: transparent !important;\n",
       "}\n",
       "\n",
       ".default td {\n",
       "    color: black;\n",
       "    text-align: left;\n",
       "}\n",
       "\n",
       ".user-set td i,\n",
       ".default td i {\n",
       "    color: black;\n",
       "}\n",
       "\n",
       ".copy-paste-icon {\n",
       "    background-image: url(data:image/svg+xml;base64,PHN2ZyB4bWxucz0iaHR0cDovL3d3dy53My5vcmcvMjAwMC9zdmciIHZpZXdCb3g9IjAgMCA0NDggNTEyIj48IS0tIUZvbnQgQXdlc29tZSBGcmVlIDYuNy4yIGJ5IEBmb250YXdlc29tZSAtIGh0dHBzOi8vZm9udGF3ZXNvbWUuY29tIExpY2Vuc2UgLSBodHRwczovL2ZvbnRhd2Vzb21lLmNvbS9saWNlbnNlL2ZyZWUgQ29weXJpZ2h0IDIwMjUgRm9udGljb25zLCBJbmMuLS0+PHBhdGggZD0iTTIwOCAwTDMzMi4xIDBjMTIuNyAwIDI0LjkgNS4xIDMzLjkgMTQuMWw2Ny45IDY3LjljOSA5IDE0LjEgMjEuMiAxNC4xIDMzLjlMNDQ4IDMzNmMwIDI2LjUtMjEuNSA0OC00OCA0OGwtMTkyIDBjLTI2LjUgMC00OC0yMS41LTQ4LTQ4bDAtMjg4YzAtMjYuNSAyMS41LTQ4IDQ4LTQ4ek00OCAxMjhsODAgMCAwIDY0LTY0IDAgMCAyNTYgMTkyIDAgMC0zMiA2NCAwIDAgNDhjMCAyNi41LTIxLjUgNDgtNDggNDhMNDggNTEyYy0yNi41IDAtNDgtMjEuNS00OC00OEwwIDE3NmMwLTI2LjUgMjEuNS00OCA0OC00OHoiLz48L3N2Zz4=);\n",
       "    background-repeat: no-repeat;\n",
       "    background-size: 14px 14px;\n",
       "    background-position: 0;\n",
       "    display: inline-block;\n",
       "    width: 14px;\n",
       "    height: 14px;\n",
       "    cursor: pointer;\n",
       "}\n",
       "</style><body><div id=\"sk-container-id-4\" class=\"sk-top-container\"><div class=\"sk-text-repr-fallback\"><pre>LassoCV(alphas=array([  1.        ,   1.1721023 ,   1.3738238 ,   1.61026203,\n",
       "         1.88739182,   2.21221629,   2.5929438 ,   3.03919538,\n",
       "         3.56224789,   4.17531894,   4.89390092,   5.73615251,\n",
       "         6.72335754,   7.88046282,   9.23670857,  10.82636734,\n",
       "        12.68961003,  14.87352107,  17.43328822,  20.43359718,\n",
       "        23.9502662 ,  28.07216204,  32.90344562,  38.56620421,\n",
       "        45.20353656,  52.98316906,  62.10169419,  72.78953844,\n",
       "        85.31678524, 100.        ]),\n",
       "        cv=5)</pre><b>In a Jupyter environment, please rerun this cell to show the HTML representation or trust the notebook. <br />On GitHub, the HTML representation is unable to render, please try loading this page with nbviewer.org.</b></div><div class=\"sk-container\" hidden><div class=\"sk-item\"><div class=\"sk-estimator fitted sk-toggleable\"><input class=\"sk-toggleable__control sk-hidden--visually\" id=\"sk-estimator-id-4\" type=\"checkbox\" checked><label for=\"sk-estimator-id-4\" class=\"sk-toggleable__label fitted sk-toggleable__label-arrow\"><div><div>LassoCV</div></div><div><a class=\"sk-estimator-doc-link fitted\" rel=\"noreferrer\" target=\"_blank\" href=\"https://scikit-learn.org/1.7/modules/generated/sklearn.linear_model.LassoCV.html\">?<span>Documentation for LassoCV</span></a><span class=\"sk-estimator-doc-link fitted\">i<span>Fitted</span></span></div></label><div class=\"sk-toggleable__content fitted\" data-param-prefix=\"\">\n",
       "        <div class=\"estimator-table\">\n",
       "            <details>\n",
       "                <summary>Parameters</summary>\n",
       "                <table class=\"parameters-table\">\n",
       "                  <tbody>\n",
       "                    \n",
       "        <tr class=\"default\">\n",
       "            <td><i class=\"copy-paste-icon\"\n",
       "                 onclick=\"copyToClipboard('eps',\n",
       "                          this.parentElement.nextElementSibling)\"\n",
       "            ></i></td>\n",
       "            <td class=\"param\">eps&nbsp;</td>\n",
       "            <td class=\"value\">0.001</td>\n",
       "        </tr>\n",
       "    \n",
       "\n",
       "        <tr class=\"default\">\n",
       "            <td><i class=\"copy-paste-icon\"\n",
       "                 onclick=\"copyToClipboard('n_alphas',\n",
       "                          this.parentElement.nextElementSibling)\"\n",
       "            ></i></td>\n",
       "            <td class=\"param\">n_alphas&nbsp;</td>\n",
       "            <td class=\"value\">&#x27;deprecated&#x27;</td>\n",
       "        </tr>\n",
       "    \n",
       "\n",
       "        <tr class=\"user-set\">\n",
       "            <td><i class=\"copy-paste-icon\"\n",
       "                 onclick=\"copyToClipboard('alphas',\n",
       "                          this.parentElement.nextElementSibling)\"\n",
       "            ></i></td>\n",
       "            <td class=\"param\">alphas&nbsp;</td>\n",
       "            <td class=\"value\">array([  1.  ...100.        ])</td>\n",
       "        </tr>\n",
       "    \n",
       "\n",
       "        <tr class=\"default\">\n",
       "            <td><i class=\"copy-paste-icon\"\n",
       "                 onclick=\"copyToClipboard('fit_intercept',\n",
       "                          this.parentElement.nextElementSibling)\"\n",
       "            ></i></td>\n",
       "            <td class=\"param\">fit_intercept&nbsp;</td>\n",
       "            <td class=\"value\">True</td>\n",
       "        </tr>\n",
       "    \n",
       "\n",
       "        <tr class=\"default\">\n",
       "            <td><i class=\"copy-paste-icon\"\n",
       "                 onclick=\"copyToClipboard('precompute',\n",
       "                          this.parentElement.nextElementSibling)\"\n",
       "            ></i></td>\n",
       "            <td class=\"param\">precompute&nbsp;</td>\n",
       "            <td class=\"value\">&#x27;auto&#x27;</td>\n",
       "        </tr>\n",
       "    \n",
       "\n",
       "        <tr class=\"default\">\n",
       "            <td><i class=\"copy-paste-icon\"\n",
       "                 onclick=\"copyToClipboard('max_iter',\n",
       "                          this.parentElement.nextElementSibling)\"\n",
       "            ></i></td>\n",
       "            <td class=\"param\">max_iter&nbsp;</td>\n",
       "            <td class=\"value\">1000</td>\n",
       "        </tr>\n",
       "    \n",
       "\n",
       "        <tr class=\"default\">\n",
       "            <td><i class=\"copy-paste-icon\"\n",
       "                 onclick=\"copyToClipboard('tol',\n",
       "                          this.parentElement.nextElementSibling)\"\n",
       "            ></i></td>\n",
       "            <td class=\"param\">tol&nbsp;</td>\n",
       "            <td class=\"value\">0.0001</td>\n",
       "        </tr>\n",
       "    \n",
       "\n",
       "        <tr class=\"default\">\n",
       "            <td><i class=\"copy-paste-icon\"\n",
       "                 onclick=\"copyToClipboard('copy_X',\n",
       "                          this.parentElement.nextElementSibling)\"\n",
       "            ></i></td>\n",
       "            <td class=\"param\">copy_X&nbsp;</td>\n",
       "            <td class=\"value\">True</td>\n",
       "        </tr>\n",
       "    \n",
       "\n",
       "        <tr class=\"user-set\">\n",
       "            <td><i class=\"copy-paste-icon\"\n",
       "                 onclick=\"copyToClipboard('cv',\n",
       "                          this.parentElement.nextElementSibling)\"\n",
       "            ></i></td>\n",
       "            <td class=\"param\">cv&nbsp;</td>\n",
       "            <td class=\"value\">5</td>\n",
       "        </tr>\n",
       "    \n",
       "\n",
       "        <tr class=\"default\">\n",
       "            <td><i class=\"copy-paste-icon\"\n",
       "                 onclick=\"copyToClipboard('verbose',\n",
       "                          this.parentElement.nextElementSibling)\"\n",
       "            ></i></td>\n",
       "            <td class=\"param\">verbose&nbsp;</td>\n",
       "            <td class=\"value\">False</td>\n",
       "        </tr>\n",
       "    \n",
       "\n",
       "        <tr class=\"default\">\n",
       "            <td><i class=\"copy-paste-icon\"\n",
       "                 onclick=\"copyToClipboard('n_jobs',\n",
       "                          this.parentElement.nextElementSibling)\"\n",
       "            ></i></td>\n",
       "            <td class=\"param\">n_jobs&nbsp;</td>\n",
       "            <td class=\"value\">None</td>\n",
       "        </tr>\n",
       "    \n",
       "\n",
       "        <tr class=\"default\">\n",
       "            <td><i class=\"copy-paste-icon\"\n",
       "                 onclick=\"copyToClipboard('positive',\n",
       "                          this.parentElement.nextElementSibling)\"\n",
       "            ></i></td>\n",
       "            <td class=\"param\">positive&nbsp;</td>\n",
       "            <td class=\"value\">False</td>\n",
       "        </tr>\n",
       "    \n",
       "\n",
       "        <tr class=\"default\">\n",
       "            <td><i class=\"copy-paste-icon\"\n",
       "                 onclick=\"copyToClipboard('random_state',\n",
       "                          this.parentElement.nextElementSibling)\"\n",
       "            ></i></td>\n",
       "            <td class=\"param\">random_state&nbsp;</td>\n",
       "            <td class=\"value\">None</td>\n",
       "        </tr>\n",
       "    \n",
       "\n",
       "        <tr class=\"default\">\n",
       "            <td><i class=\"copy-paste-icon\"\n",
       "                 onclick=\"copyToClipboard('selection',\n",
       "                          this.parentElement.nextElementSibling)\"\n",
       "            ></i></td>\n",
       "            <td class=\"param\">selection&nbsp;</td>\n",
       "            <td class=\"value\">&#x27;cyclic&#x27;</td>\n",
       "        </tr>\n",
       "    \n",
       "                  </tbody>\n",
       "                </table>\n",
       "            </details>\n",
       "        </div>\n",
       "    </div></div></div></div></div><script>function copyToClipboard(text, element) {\n",
       "    // Get the parameter prefix from the closest toggleable content\n",
       "    const toggleableContent = element.closest('.sk-toggleable__content');\n",
       "    const paramPrefix = toggleableContent ? toggleableContent.dataset.paramPrefix : '';\n",
       "    const fullParamName = paramPrefix ? `${paramPrefix}${text}` : text;\n",
       "\n",
       "    const originalStyle = element.style;\n",
       "    const computedStyle = window.getComputedStyle(element);\n",
       "    const originalWidth = computedStyle.width;\n",
       "    const originalHTML = element.innerHTML.replace('Copied!', '');\n",
       "\n",
       "    navigator.clipboard.writeText(fullParamName)\n",
       "        .then(() => {\n",
       "            element.style.width = originalWidth;\n",
       "            element.style.color = 'green';\n",
       "            element.innerHTML = \"Copied!\";\n",
       "\n",
       "            setTimeout(() => {\n",
       "                element.innerHTML = originalHTML;\n",
       "                element.style = originalStyle;\n",
       "            }, 2000);\n",
       "        })\n",
       "        .catch(err => {\n",
       "            console.error('Failed to copy:', err);\n",
       "            element.style.color = 'red';\n",
       "            element.innerHTML = \"Failed!\";\n",
       "            setTimeout(() => {\n",
       "                element.innerHTML = originalHTML;\n",
       "                element.style = originalStyle;\n",
       "            }, 2000);\n",
       "        });\n",
       "    return false;\n",
       "}\n",
       "\n",
       "document.querySelectorAll('.fa-regular.fa-copy').forEach(function(element) {\n",
       "    const toggleableContent = element.closest('.sk-toggleable__content');\n",
       "    const paramPrefix = toggleableContent ? toggleableContent.dataset.paramPrefix : '';\n",
       "    const paramName = element.parentElement.nextElementSibling.textContent.trim();\n",
       "    const fullParamName = paramPrefix ? `${paramPrefix}${paramName}` : paramName;\n",
       "\n",
       "    element.setAttribute('title', fullParamName);\n",
       "});\n",
       "</script></body>"
      ],
      "text/plain": [
       "LassoCV(alphas=array([  1.        ,   1.1721023 ,   1.3738238 ,   1.61026203,\n",
       "         1.88739182,   2.21221629,   2.5929438 ,   3.03919538,\n",
       "         3.56224789,   4.17531894,   4.89390092,   5.73615251,\n",
       "         6.72335754,   7.88046282,   9.23670857,  10.82636734,\n",
       "        12.68961003,  14.87352107,  17.43328822,  20.43359718,\n",
       "        23.9502662 ,  28.07216204,  32.90344562,  38.56620421,\n",
       "        45.20353656,  52.98316906,  62.10169419,  72.78953844,\n",
       "        85.31678524, 100.        ]),\n",
       "        cv=5)"
      ]
     },
     "execution_count": 38,
     "metadata": {},
     "output_type": "execute_result"
    }
   ],
   "source": [
    "lasso_cv_model = LassoCV(alphas=np.logspace(0, 2, num=30), cv=5)\n",
    "\n",
    "# Fit the LassoCV model to the data\n",
    "lasso_cv_model.fit(X, df_spend['spend'])"
   ]
  },
  {
   "cell_type": "code",
   "execution_count": 39,
   "metadata": {
    "colab": {
     "base_uri": "https://localhost:8080/"
    },
    "executionInfo": {
     "elapsed": 3,
     "status": "ok",
     "timestamp": 1721205624467,
     "user": {
      "displayName": "Yong Song",
      "userId": "00576951217859821315"
     },
     "user_tz": -600
    },
    "id": "VfOpqZuVimZa",
    "outputId": "2ac6ae56-4cb4-4790-f1a5-45458cb678b5"
   },
   "outputs": [
    {
     "data": {
      "text/plain": [
       "100.0"
      ]
     },
     "execution_count": 39,
     "metadata": {},
     "output_type": "execute_result"
    }
   ],
   "source": [
    "lasso_cv_model.alpha_"
   ]
  },
  {
   "cell_type": "code",
   "execution_count": 41,
   "metadata": {
    "colab": {
     "base_uri": "https://localhost:8080/",
     "height": 74
    },
    "executionInfo": {
     "elapsed": 348,
     "status": "ok",
     "timestamp": 1721205628874,
     "user": {
      "displayName": "Yong Song",
      "userId": "00576951217859821315"
     },
     "user_tz": -600
    },
    "id": "RqhURdPmivn2",
    "outputId": "3fd0bc5e-5082-41ed-aa56-89bc75561b8a"
   },
   "outputs": [
    {
     "data": {
      "text/html": [
       "<style>#sk-container-id-6 {\n",
       "  /* Definition of color scheme common for light and dark mode */\n",
       "  --sklearn-color-text: #000;\n",
       "  --sklearn-color-text-muted: #666;\n",
       "  --sklearn-color-line: gray;\n",
       "  /* Definition of color scheme for unfitted estimators */\n",
       "  --sklearn-color-unfitted-level-0: #fff5e6;\n",
       "  --sklearn-color-unfitted-level-1: #f6e4d2;\n",
       "  --sklearn-color-unfitted-level-2: #ffe0b3;\n",
       "  --sklearn-color-unfitted-level-3: chocolate;\n",
       "  /* Definition of color scheme for fitted estimators */\n",
       "  --sklearn-color-fitted-level-0: #f0f8ff;\n",
       "  --sklearn-color-fitted-level-1: #d4ebff;\n",
       "  --sklearn-color-fitted-level-2: #b3dbfd;\n",
       "  --sklearn-color-fitted-level-3: cornflowerblue;\n",
       "\n",
       "  /* Specific color for light theme */\n",
       "  --sklearn-color-text-on-default-background: var(--sg-text-color, var(--theme-code-foreground, var(--jp-content-font-color1, black)));\n",
       "  --sklearn-color-background: var(--sg-background-color, var(--theme-background, var(--jp-layout-color0, white)));\n",
       "  --sklearn-color-border-box: var(--sg-text-color, var(--theme-code-foreground, var(--jp-content-font-color1, black)));\n",
       "  --sklearn-color-icon: #696969;\n",
       "\n",
       "  @media (prefers-color-scheme: dark) {\n",
       "    /* Redefinition of color scheme for dark theme */\n",
       "    --sklearn-color-text-on-default-background: var(--sg-text-color, var(--theme-code-foreground, var(--jp-content-font-color1, white)));\n",
       "    --sklearn-color-background: var(--sg-background-color, var(--theme-background, var(--jp-layout-color0, #111)));\n",
       "    --sklearn-color-border-box: var(--sg-text-color, var(--theme-code-foreground, var(--jp-content-font-color1, white)));\n",
       "    --sklearn-color-icon: #878787;\n",
       "  }\n",
       "}\n",
       "\n",
       "#sk-container-id-6 {\n",
       "  color: var(--sklearn-color-text);\n",
       "}\n",
       "\n",
       "#sk-container-id-6 pre {\n",
       "  padding: 0;\n",
       "}\n",
       "\n",
       "#sk-container-id-6 input.sk-hidden--visually {\n",
       "  border: 0;\n",
       "  clip: rect(1px 1px 1px 1px);\n",
       "  clip: rect(1px, 1px, 1px, 1px);\n",
       "  height: 1px;\n",
       "  margin: -1px;\n",
       "  overflow: hidden;\n",
       "  padding: 0;\n",
       "  position: absolute;\n",
       "  width: 1px;\n",
       "}\n",
       "\n",
       "#sk-container-id-6 div.sk-dashed-wrapped {\n",
       "  border: 1px dashed var(--sklearn-color-line);\n",
       "  margin: 0 0.4em 0.5em 0.4em;\n",
       "  box-sizing: border-box;\n",
       "  padding-bottom: 0.4em;\n",
       "  background-color: var(--sklearn-color-background);\n",
       "}\n",
       "\n",
       "#sk-container-id-6 div.sk-container {\n",
       "  /* jupyter's `normalize.less` sets `[hidden] { display: none; }`\n",
       "     but bootstrap.min.css set `[hidden] { display: none !important; }`\n",
       "     so we also need the `!important` here to be able to override the\n",
       "     default hidden behavior on the sphinx rendered scikit-learn.org.\n",
       "     See: https://github.com/scikit-learn/scikit-learn/issues/21755 */\n",
       "  display: inline-block !important;\n",
       "  position: relative;\n",
       "}\n",
       "\n",
       "#sk-container-id-6 div.sk-text-repr-fallback {\n",
       "  display: none;\n",
       "}\n",
       "\n",
       "div.sk-parallel-item,\n",
       "div.sk-serial,\n",
       "div.sk-item {\n",
       "  /* draw centered vertical line to link estimators */\n",
       "  background-image: linear-gradient(var(--sklearn-color-text-on-default-background), var(--sklearn-color-text-on-default-background));\n",
       "  background-size: 2px 100%;\n",
       "  background-repeat: no-repeat;\n",
       "  background-position: center center;\n",
       "}\n",
       "\n",
       "/* Parallel-specific style estimator block */\n",
       "\n",
       "#sk-container-id-6 div.sk-parallel-item::after {\n",
       "  content: \"\";\n",
       "  width: 100%;\n",
       "  border-bottom: 2px solid var(--sklearn-color-text-on-default-background);\n",
       "  flex-grow: 1;\n",
       "}\n",
       "\n",
       "#sk-container-id-6 div.sk-parallel {\n",
       "  display: flex;\n",
       "  align-items: stretch;\n",
       "  justify-content: center;\n",
       "  background-color: var(--sklearn-color-background);\n",
       "  position: relative;\n",
       "}\n",
       "\n",
       "#sk-container-id-6 div.sk-parallel-item {\n",
       "  display: flex;\n",
       "  flex-direction: column;\n",
       "}\n",
       "\n",
       "#sk-container-id-6 div.sk-parallel-item:first-child::after {\n",
       "  align-self: flex-end;\n",
       "  width: 50%;\n",
       "}\n",
       "\n",
       "#sk-container-id-6 div.sk-parallel-item:last-child::after {\n",
       "  align-self: flex-start;\n",
       "  width: 50%;\n",
       "}\n",
       "\n",
       "#sk-container-id-6 div.sk-parallel-item:only-child::after {\n",
       "  width: 0;\n",
       "}\n",
       "\n",
       "/* Serial-specific style estimator block */\n",
       "\n",
       "#sk-container-id-6 div.sk-serial {\n",
       "  display: flex;\n",
       "  flex-direction: column;\n",
       "  align-items: center;\n",
       "  background-color: var(--sklearn-color-background);\n",
       "  padding-right: 1em;\n",
       "  padding-left: 1em;\n",
       "}\n",
       "\n",
       "\n",
       "/* Toggleable style: style used for estimator/Pipeline/ColumnTransformer box that is\n",
       "clickable and can be expanded/collapsed.\n",
       "- Pipeline and ColumnTransformer use this feature and define the default style\n",
       "- Estimators will overwrite some part of the style using the `sk-estimator` class\n",
       "*/\n",
       "\n",
       "/* Pipeline and ColumnTransformer style (default) */\n",
       "\n",
       "#sk-container-id-6 div.sk-toggleable {\n",
       "  /* Default theme specific background. It is overwritten whether we have a\n",
       "  specific estimator or a Pipeline/ColumnTransformer */\n",
       "  background-color: var(--sklearn-color-background);\n",
       "}\n",
       "\n",
       "/* Toggleable label */\n",
       "#sk-container-id-6 label.sk-toggleable__label {\n",
       "  cursor: pointer;\n",
       "  display: flex;\n",
       "  width: 100%;\n",
       "  margin-bottom: 0;\n",
       "  padding: 0.5em;\n",
       "  box-sizing: border-box;\n",
       "  text-align: center;\n",
       "  align-items: start;\n",
       "  justify-content: space-between;\n",
       "  gap: 0.5em;\n",
       "}\n",
       "\n",
       "#sk-container-id-6 label.sk-toggleable__label .caption {\n",
       "  font-size: 0.6rem;\n",
       "  font-weight: lighter;\n",
       "  color: var(--sklearn-color-text-muted);\n",
       "}\n",
       "\n",
       "#sk-container-id-6 label.sk-toggleable__label-arrow:before {\n",
       "  /* Arrow on the left of the label */\n",
       "  content: \"▸\";\n",
       "  float: left;\n",
       "  margin-right: 0.25em;\n",
       "  color: var(--sklearn-color-icon);\n",
       "}\n",
       "\n",
       "#sk-container-id-6 label.sk-toggleable__label-arrow:hover:before {\n",
       "  color: var(--sklearn-color-text);\n",
       "}\n",
       "\n",
       "/* Toggleable content - dropdown */\n",
       "\n",
       "#sk-container-id-6 div.sk-toggleable__content {\n",
       "  display: none;\n",
       "  text-align: left;\n",
       "  /* unfitted */\n",
       "  background-color: var(--sklearn-color-unfitted-level-0);\n",
       "}\n",
       "\n",
       "#sk-container-id-6 div.sk-toggleable__content.fitted {\n",
       "  /* fitted */\n",
       "  background-color: var(--sklearn-color-fitted-level-0);\n",
       "}\n",
       "\n",
       "#sk-container-id-6 div.sk-toggleable__content pre {\n",
       "  margin: 0.2em;\n",
       "  border-radius: 0.25em;\n",
       "  color: var(--sklearn-color-text);\n",
       "  /* unfitted */\n",
       "  background-color: var(--sklearn-color-unfitted-level-0);\n",
       "}\n",
       "\n",
       "#sk-container-id-6 div.sk-toggleable__content.fitted pre {\n",
       "  /* unfitted */\n",
       "  background-color: var(--sklearn-color-fitted-level-0);\n",
       "}\n",
       "\n",
       "#sk-container-id-6 input.sk-toggleable__control:checked~div.sk-toggleable__content {\n",
       "  /* Expand drop-down */\n",
       "  display: block;\n",
       "  width: 100%;\n",
       "  overflow: visible;\n",
       "}\n",
       "\n",
       "#sk-container-id-6 input.sk-toggleable__control:checked~label.sk-toggleable__label-arrow:before {\n",
       "  content: \"▾\";\n",
       "}\n",
       "\n",
       "/* Pipeline/ColumnTransformer-specific style */\n",
       "\n",
       "#sk-container-id-6 div.sk-label input.sk-toggleable__control:checked~label.sk-toggleable__label {\n",
       "  color: var(--sklearn-color-text);\n",
       "  background-color: var(--sklearn-color-unfitted-level-2);\n",
       "}\n",
       "\n",
       "#sk-container-id-6 div.sk-label.fitted input.sk-toggleable__control:checked~label.sk-toggleable__label {\n",
       "  background-color: var(--sklearn-color-fitted-level-2);\n",
       "}\n",
       "\n",
       "/* Estimator-specific style */\n",
       "\n",
       "/* Colorize estimator box */\n",
       "#sk-container-id-6 div.sk-estimator input.sk-toggleable__control:checked~label.sk-toggleable__label {\n",
       "  /* unfitted */\n",
       "  background-color: var(--sklearn-color-unfitted-level-2);\n",
       "}\n",
       "\n",
       "#sk-container-id-6 div.sk-estimator.fitted input.sk-toggleable__control:checked~label.sk-toggleable__label {\n",
       "  /* fitted */\n",
       "  background-color: var(--sklearn-color-fitted-level-2);\n",
       "}\n",
       "\n",
       "#sk-container-id-6 div.sk-label label.sk-toggleable__label,\n",
       "#sk-container-id-6 div.sk-label label {\n",
       "  /* The background is the default theme color */\n",
       "  color: var(--sklearn-color-text-on-default-background);\n",
       "}\n",
       "\n",
       "/* On hover, darken the color of the background */\n",
       "#sk-container-id-6 div.sk-label:hover label.sk-toggleable__label {\n",
       "  color: var(--sklearn-color-text);\n",
       "  background-color: var(--sklearn-color-unfitted-level-2);\n",
       "}\n",
       "\n",
       "/* Label box, darken color on hover, fitted */\n",
       "#sk-container-id-6 div.sk-label.fitted:hover label.sk-toggleable__label.fitted {\n",
       "  color: var(--sklearn-color-text);\n",
       "  background-color: var(--sklearn-color-fitted-level-2);\n",
       "}\n",
       "\n",
       "/* Estimator label */\n",
       "\n",
       "#sk-container-id-6 div.sk-label label {\n",
       "  font-family: monospace;\n",
       "  font-weight: bold;\n",
       "  display: inline-block;\n",
       "  line-height: 1.2em;\n",
       "}\n",
       "\n",
       "#sk-container-id-6 div.sk-label-container {\n",
       "  text-align: center;\n",
       "}\n",
       "\n",
       "/* Estimator-specific */\n",
       "#sk-container-id-6 div.sk-estimator {\n",
       "  font-family: monospace;\n",
       "  border: 1px dotted var(--sklearn-color-border-box);\n",
       "  border-radius: 0.25em;\n",
       "  box-sizing: border-box;\n",
       "  margin-bottom: 0.5em;\n",
       "  /* unfitted */\n",
       "  background-color: var(--sklearn-color-unfitted-level-0);\n",
       "}\n",
       "\n",
       "#sk-container-id-6 div.sk-estimator.fitted {\n",
       "  /* fitted */\n",
       "  background-color: var(--sklearn-color-fitted-level-0);\n",
       "}\n",
       "\n",
       "/* on hover */\n",
       "#sk-container-id-6 div.sk-estimator:hover {\n",
       "  /* unfitted */\n",
       "  background-color: var(--sklearn-color-unfitted-level-2);\n",
       "}\n",
       "\n",
       "#sk-container-id-6 div.sk-estimator.fitted:hover {\n",
       "  /* fitted */\n",
       "  background-color: var(--sklearn-color-fitted-level-2);\n",
       "}\n",
       "\n",
       "/* Specification for estimator info (e.g. \"i\" and \"?\") */\n",
       "\n",
       "/* Common style for \"i\" and \"?\" */\n",
       "\n",
       ".sk-estimator-doc-link,\n",
       "a:link.sk-estimator-doc-link,\n",
       "a:visited.sk-estimator-doc-link {\n",
       "  float: right;\n",
       "  font-size: smaller;\n",
       "  line-height: 1em;\n",
       "  font-family: monospace;\n",
       "  background-color: var(--sklearn-color-background);\n",
       "  border-radius: 1em;\n",
       "  height: 1em;\n",
       "  width: 1em;\n",
       "  text-decoration: none !important;\n",
       "  margin-left: 0.5em;\n",
       "  text-align: center;\n",
       "  /* unfitted */\n",
       "  border: var(--sklearn-color-unfitted-level-1) 1pt solid;\n",
       "  color: var(--sklearn-color-unfitted-level-1);\n",
       "}\n",
       "\n",
       ".sk-estimator-doc-link.fitted,\n",
       "a:link.sk-estimator-doc-link.fitted,\n",
       "a:visited.sk-estimator-doc-link.fitted {\n",
       "  /* fitted */\n",
       "  border: var(--sklearn-color-fitted-level-1) 1pt solid;\n",
       "  color: var(--sklearn-color-fitted-level-1);\n",
       "}\n",
       "\n",
       "/* On hover */\n",
       "div.sk-estimator:hover .sk-estimator-doc-link:hover,\n",
       ".sk-estimator-doc-link:hover,\n",
       "div.sk-label-container:hover .sk-estimator-doc-link:hover,\n",
       ".sk-estimator-doc-link:hover {\n",
       "  /* unfitted */\n",
       "  background-color: var(--sklearn-color-unfitted-level-3);\n",
       "  color: var(--sklearn-color-background);\n",
       "  text-decoration: none;\n",
       "}\n",
       "\n",
       "div.sk-estimator.fitted:hover .sk-estimator-doc-link.fitted:hover,\n",
       ".sk-estimator-doc-link.fitted:hover,\n",
       "div.sk-label-container:hover .sk-estimator-doc-link.fitted:hover,\n",
       ".sk-estimator-doc-link.fitted:hover {\n",
       "  /* fitted */\n",
       "  background-color: var(--sklearn-color-fitted-level-3);\n",
       "  color: var(--sklearn-color-background);\n",
       "  text-decoration: none;\n",
       "}\n",
       "\n",
       "/* Span, style for the box shown on hovering the info icon */\n",
       ".sk-estimator-doc-link span {\n",
       "  display: none;\n",
       "  z-index: 9999;\n",
       "  position: relative;\n",
       "  font-weight: normal;\n",
       "  right: .2ex;\n",
       "  padding: .5ex;\n",
       "  margin: .5ex;\n",
       "  width: min-content;\n",
       "  min-width: 20ex;\n",
       "  max-width: 50ex;\n",
       "  color: var(--sklearn-color-text);\n",
       "  box-shadow: 2pt 2pt 4pt #999;\n",
       "  /* unfitted */\n",
       "  background: var(--sklearn-color-unfitted-level-0);\n",
       "  border: .5pt solid var(--sklearn-color-unfitted-level-3);\n",
       "}\n",
       "\n",
       ".sk-estimator-doc-link.fitted span {\n",
       "  /* fitted */\n",
       "  background: var(--sklearn-color-fitted-level-0);\n",
       "  border: var(--sklearn-color-fitted-level-3);\n",
       "}\n",
       "\n",
       ".sk-estimator-doc-link:hover span {\n",
       "  display: block;\n",
       "}\n",
       "\n",
       "/* \"?\"-specific style due to the `<a>` HTML tag */\n",
       "\n",
       "#sk-container-id-6 a.estimator_doc_link {\n",
       "  float: right;\n",
       "  font-size: 1rem;\n",
       "  line-height: 1em;\n",
       "  font-family: monospace;\n",
       "  background-color: var(--sklearn-color-background);\n",
       "  border-radius: 1rem;\n",
       "  height: 1rem;\n",
       "  width: 1rem;\n",
       "  text-decoration: none;\n",
       "  /* unfitted */\n",
       "  color: var(--sklearn-color-unfitted-level-1);\n",
       "  border: var(--sklearn-color-unfitted-level-1) 1pt solid;\n",
       "}\n",
       "\n",
       "#sk-container-id-6 a.estimator_doc_link.fitted {\n",
       "  /* fitted */\n",
       "  border: var(--sklearn-color-fitted-level-1) 1pt solid;\n",
       "  color: var(--sklearn-color-fitted-level-1);\n",
       "}\n",
       "\n",
       "/* On hover */\n",
       "#sk-container-id-6 a.estimator_doc_link:hover {\n",
       "  /* unfitted */\n",
       "  background-color: var(--sklearn-color-unfitted-level-3);\n",
       "  color: var(--sklearn-color-background);\n",
       "  text-decoration: none;\n",
       "}\n",
       "\n",
       "#sk-container-id-6 a.estimator_doc_link.fitted:hover {\n",
       "  /* fitted */\n",
       "  background-color: var(--sklearn-color-fitted-level-3);\n",
       "}\n",
       "\n",
       ".estimator-table summary {\n",
       "    padding: .5rem;\n",
       "    font-family: monospace;\n",
       "    cursor: pointer;\n",
       "}\n",
       "\n",
       ".estimator-table details[open] {\n",
       "    padding-left: 0.1rem;\n",
       "    padding-right: 0.1rem;\n",
       "    padding-bottom: 0.3rem;\n",
       "}\n",
       "\n",
       ".estimator-table .parameters-table {\n",
       "    margin-left: auto !important;\n",
       "    margin-right: auto !important;\n",
       "}\n",
       "\n",
       ".estimator-table .parameters-table tr:nth-child(odd) {\n",
       "    background-color: #fff;\n",
       "}\n",
       "\n",
       ".estimator-table .parameters-table tr:nth-child(even) {\n",
       "    background-color: #f6f6f6;\n",
       "}\n",
       "\n",
       ".estimator-table .parameters-table tr:hover {\n",
       "    background-color: #e0e0e0;\n",
       "}\n",
       "\n",
       ".estimator-table table td {\n",
       "    border: 1px solid rgba(106, 105, 104, 0.232);\n",
       "}\n",
       "\n",
       ".user-set td {\n",
       "    color:rgb(255, 94, 0);\n",
       "    text-align: left;\n",
       "}\n",
       "\n",
       ".user-set td.value pre {\n",
       "    color:rgb(255, 94, 0) !important;\n",
       "    background-color: transparent !important;\n",
       "}\n",
       "\n",
       ".default td {\n",
       "    color: black;\n",
       "    text-align: left;\n",
       "}\n",
       "\n",
       ".user-set td i,\n",
       ".default td i {\n",
       "    color: black;\n",
       "}\n",
       "\n",
       ".copy-paste-icon {\n",
       "    background-image: url(data:image/svg+xml;base64,PHN2ZyB4bWxucz0iaHR0cDovL3d3dy53My5vcmcvMjAwMC9zdmciIHZpZXdCb3g9IjAgMCA0NDggNTEyIj48IS0tIUZvbnQgQXdlc29tZSBGcmVlIDYuNy4yIGJ5IEBmb250YXdlc29tZSAtIGh0dHBzOi8vZm9udGF3ZXNvbWUuY29tIExpY2Vuc2UgLSBodHRwczovL2ZvbnRhd2Vzb21lLmNvbS9saWNlbnNlL2ZyZWUgQ29weXJpZ2h0IDIwMjUgRm9udGljb25zLCBJbmMuLS0+PHBhdGggZD0iTTIwOCAwTDMzMi4xIDBjMTIuNyAwIDI0LjkgNS4xIDMzLjkgMTQuMWw2Ny45IDY3LjljOSA5IDE0LjEgMjEuMiAxNC4xIDMzLjlMNDQ4IDMzNmMwIDI2LjUtMjEuNSA0OC00OCA0OGwtMTkyIDBjLTI2LjUgMC00OC0yMS41LTQ4LTQ4bDAtMjg4YzAtMjYuNSAyMS41LTQ4IDQ4LTQ4ek00OCAxMjhsODAgMCAwIDY0LTY0IDAgMCAyNTYgMTkyIDAgMC0zMiA2NCAwIDAgNDhjMCAyNi41LTIxLjUgNDgtNDggNDhMNDggNTEyYy0yNi41IDAtNDgtMjEuNS00OC00OEwwIDE3NmMwLTI2LjUgMjEuNS00OCA0OC00OHoiLz48L3N2Zz4=);\n",
       "    background-repeat: no-repeat;\n",
       "    background-size: 14px 14px;\n",
       "    background-position: 0;\n",
       "    display: inline-block;\n",
       "    width: 14px;\n",
       "    height: 14px;\n",
       "    cursor: pointer;\n",
       "}\n",
       "</style><body><div id=\"sk-container-id-6\" class=\"sk-top-container\"><div class=\"sk-text-repr-fallback\"><pre>Lasso(alpha=73)</pre><b>In a Jupyter environment, please rerun this cell to show the HTML representation or trust the notebook. <br />On GitHub, the HTML representation is unable to render, please try loading this page with nbviewer.org.</b></div><div class=\"sk-container\" hidden><div class=\"sk-item\"><div class=\"sk-estimator fitted sk-toggleable\"><input class=\"sk-toggleable__control sk-hidden--visually\" id=\"sk-estimator-id-6\" type=\"checkbox\" checked><label for=\"sk-estimator-id-6\" class=\"sk-toggleable__label fitted sk-toggleable__label-arrow\"><div><div>Lasso</div></div><div><a class=\"sk-estimator-doc-link fitted\" rel=\"noreferrer\" target=\"_blank\" href=\"https://scikit-learn.org/1.7/modules/generated/sklearn.linear_model.Lasso.html\">?<span>Documentation for Lasso</span></a><span class=\"sk-estimator-doc-link fitted\">i<span>Fitted</span></span></div></label><div class=\"sk-toggleable__content fitted\" data-param-prefix=\"\">\n",
       "        <div class=\"estimator-table\">\n",
       "            <details>\n",
       "                <summary>Parameters</summary>\n",
       "                <table class=\"parameters-table\">\n",
       "                  <tbody>\n",
       "                    \n",
       "        <tr class=\"user-set\">\n",
       "            <td><i class=\"copy-paste-icon\"\n",
       "                 onclick=\"copyToClipboard('alpha',\n",
       "                          this.parentElement.nextElementSibling)\"\n",
       "            ></i></td>\n",
       "            <td class=\"param\">alpha&nbsp;</td>\n",
       "            <td class=\"value\">73</td>\n",
       "        </tr>\n",
       "    \n",
       "\n",
       "        <tr class=\"default\">\n",
       "            <td><i class=\"copy-paste-icon\"\n",
       "                 onclick=\"copyToClipboard('fit_intercept',\n",
       "                          this.parentElement.nextElementSibling)\"\n",
       "            ></i></td>\n",
       "            <td class=\"param\">fit_intercept&nbsp;</td>\n",
       "            <td class=\"value\">True</td>\n",
       "        </tr>\n",
       "    \n",
       "\n",
       "        <tr class=\"default\">\n",
       "            <td><i class=\"copy-paste-icon\"\n",
       "                 onclick=\"copyToClipboard('precompute',\n",
       "                          this.parentElement.nextElementSibling)\"\n",
       "            ></i></td>\n",
       "            <td class=\"param\">precompute&nbsp;</td>\n",
       "            <td class=\"value\">False</td>\n",
       "        </tr>\n",
       "    \n",
       "\n",
       "        <tr class=\"default\">\n",
       "            <td><i class=\"copy-paste-icon\"\n",
       "                 onclick=\"copyToClipboard('copy_X',\n",
       "                          this.parentElement.nextElementSibling)\"\n",
       "            ></i></td>\n",
       "            <td class=\"param\">copy_X&nbsp;</td>\n",
       "            <td class=\"value\">True</td>\n",
       "        </tr>\n",
       "    \n",
       "\n",
       "        <tr class=\"default\">\n",
       "            <td><i class=\"copy-paste-icon\"\n",
       "                 onclick=\"copyToClipboard('max_iter',\n",
       "                          this.parentElement.nextElementSibling)\"\n",
       "            ></i></td>\n",
       "            <td class=\"param\">max_iter&nbsp;</td>\n",
       "            <td class=\"value\">1000</td>\n",
       "        </tr>\n",
       "    \n",
       "\n",
       "        <tr class=\"default\">\n",
       "            <td><i class=\"copy-paste-icon\"\n",
       "                 onclick=\"copyToClipboard('tol',\n",
       "                          this.parentElement.nextElementSibling)\"\n",
       "            ></i></td>\n",
       "            <td class=\"param\">tol&nbsp;</td>\n",
       "            <td class=\"value\">0.0001</td>\n",
       "        </tr>\n",
       "    \n",
       "\n",
       "        <tr class=\"default\">\n",
       "            <td><i class=\"copy-paste-icon\"\n",
       "                 onclick=\"copyToClipboard('warm_start',\n",
       "                          this.parentElement.nextElementSibling)\"\n",
       "            ></i></td>\n",
       "            <td class=\"param\">warm_start&nbsp;</td>\n",
       "            <td class=\"value\">False</td>\n",
       "        </tr>\n",
       "    \n",
       "\n",
       "        <tr class=\"default\">\n",
       "            <td><i class=\"copy-paste-icon\"\n",
       "                 onclick=\"copyToClipboard('positive',\n",
       "                          this.parentElement.nextElementSibling)\"\n",
       "            ></i></td>\n",
       "            <td class=\"param\">positive&nbsp;</td>\n",
       "            <td class=\"value\">False</td>\n",
       "        </tr>\n",
       "    \n",
       "\n",
       "        <tr class=\"default\">\n",
       "            <td><i class=\"copy-paste-icon\"\n",
       "                 onclick=\"copyToClipboard('random_state',\n",
       "                          this.parentElement.nextElementSibling)\"\n",
       "            ></i></td>\n",
       "            <td class=\"param\">random_state&nbsp;</td>\n",
       "            <td class=\"value\">None</td>\n",
       "        </tr>\n",
       "    \n",
       "\n",
       "        <tr class=\"default\">\n",
       "            <td><i class=\"copy-paste-icon\"\n",
       "                 onclick=\"copyToClipboard('selection',\n",
       "                          this.parentElement.nextElementSibling)\"\n",
       "            ></i></td>\n",
       "            <td class=\"param\">selection&nbsp;</td>\n",
       "            <td class=\"value\">&#x27;cyclic&#x27;</td>\n",
       "        </tr>\n",
       "    \n",
       "                  </tbody>\n",
       "                </table>\n",
       "            </details>\n",
       "        </div>\n",
       "    </div></div></div></div></div><script>function copyToClipboard(text, element) {\n",
       "    // Get the parameter prefix from the closest toggleable content\n",
       "    const toggleableContent = element.closest('.sk-toggleable__content');\n",
       "    const paramPrefix = toggleableContent ? toggleableContent.dataset.paramPrefix : '';\n",
       "    const fullParamName = paramPrefix ? `${paramPrefix}${text}` : text;\n",
       "\n",
       "    const originalStyle = element.style;\n",
       "    const computedStyle = window.getComputedStyle(element);\n",
       "    const originalWidth = computedStyle.width;\n",
       "    const originalHTML = element.innerHTML.replace('Copied!', '');\n",
       "\n",
       "    navigator.clipboard.writeText(fullParamName)\n",
       "        .then(() => {\n",
       "            element.style.width = originalWidth;\n",
       "            element.style.color = 'green';\n",
       "            element.innerHTML = \"Copied!\";\n",
       "\n",
       "            setTimeout(() => {\n",
       "                element.innerHTML = originalHTML;\n",
       "                element.style = originalStyle;\n",
       "            }, 2000);\n",
       "        })\n",
       "        .catch(err => {\n",
       "            console.error('Failed to copy:', err);\n",
       "            element.style.color = 'red';\n",
       "            element.innerHTML = \"Failed!\";\n",
       "            setTimeout(() => {\n",
       "                element.innerHTML = originalHTML;\n",
       "                element.style = originalStyle;\n",
       "            }, 2000);\n",
       "        });\n",
       "    return false;\n",
       "}\n",
       "\n",
       "document.querySelectorAll('.fa-regular.fa-copy').forEach(function(element) {\n",
       "    const toggleableContent = element.closest('.sk-toggleable__content');\n",
       "    const paramPrefix = toggleableContent ? toggleableContent.dataset.paramPrefix : '';\n",
       "    const paramName = element.parentElement.nextElementSibling.textContent.trim();\n",
       "    const fullParamName = paramPrefix ? `${paramPrefix}${paramName}` : paramName;\n",
       "\n",
       "    element.setAttribute('title', fullParamName);\n",
       "});\n",
       "</script></body>"
      ],
      "text/plain": [
       "Lasso(alpha=73)"
      ]
     },
     "execution_count": 41,
     "metadata": {},
     "output_type": "execute_result"
    }
   ],
   "source": [
    "lasso_model = Lasso(alpha=73)  # You can adjust the alpha parameter for stronger or weaker regularization\n",
    "\n",
    "lasso_model.fit(X, df_spend['spend'])\n"
   ]
  },
  {
   "cell_type": "code",
   "execution_count": 42,
   "metadata": {
    "colab": {
     "base_uri": "https://localhost:8080/"
    },
    "executionInfo": {
     "elapsed": 3,
     "status": "ok",
     "timestamp": 1721205632154,
     "user": {
      "displayName": "Yong Song",
      "userId": "00576951217859821315"
     },
     "user_tz": -600
    },
    "id": "Lkfo4n82ivn2",
    "outputId": "e92a58bb-297b-4962-9ada-81aa00bb173d"
   },
   "outputs": [
    {
     "name": "stdout",
     "output_type": "stream",
     "text": [
      "193\n",
      "58410166.852406815\n"
     ]
    }
   ],
   "source": [
    "print(np.sum(lasso_model.coef_ != 0))\n",
    "yhat = lasso_model.predict(X)\n",
    "print(mean_squared_error(df_spend['spend'], yhat))"
   ]
  },
  {
   "cell_type": "code",
   "execution_count": 43,
   "metadata": {
    "colab": {
     "base_uri": "https://localhost:8080/"
    },
    "executionInfo": {
     "elapsed": 293,
     "status": "ok",
     "timestamp": 1691219703549,
     "user": {
      "displayName": "Yong Song",
      "userId": "00576951217859821315"
     },
     "user_tz": -600
    },
    "id": "q0JtdiMWizg5",
    "outputId": "355cfd91-87f2-4bde-b36a-3c25c7409181"
   },
   "outputs": [
    {
     "data": {
      "text/plain": [
       "(array([  4,  11,  15,  21,  25,  29,  54,  68,  75,  82,  87,  88,  90,\n",
       "         95, 101, 103, 104, 116, 124, 125, 132, 133, 137, 140, 145, 148,\n",
       "        153, 156, 160, 162, 170, 173, 175, 183, 204, 206, 221, 228, 230,\n",
       "        233, 234, 238, 240, 241, 242, 254, 256, 257, 263, 268, 289, 296,\n",
       "        297, 303, 308, 310, 325, 327, 333, 351, 354, 356, 372, 378, 389,\n",
       "        391, 395, 397, 399, 400, 403, 409, 430, 434, 440, 445, 448, 461,\n",
       "        466, 474, 481, 482, 483, 484, 487, 503, 508, 511, 515, 520, 526,\n",
       "        527, 528, 535, 541, 542, 543, 555, 558, 566, 573, 576, 577, 582,\n",
       "        588, 592, 593, 608, 609, 615, 625, 629, 641, 649, 653, 663, 670,\n",
       "        674, 678, 679, 680, 682, 684, 687, 688, 698, 709, 714, 718, 722,\n",
       "        724, 731, 733, 739, 741, 743, 744, 753, 754, 755, 759, 761, 765,\n",
       "        770, 771, 773, 779, 780, 783, 785, 786, 789, 790, 791, 808, 810,\n",
       "        815, 818, 819, 828, 834, 837, 852, 855, 866, 867, 875, 879, 880,\n",
       "        882, 893, 898, 901, 903, 907, 911, 916, 922, 932, 933, 935, 936,\n",
       "        940, 941, 942, 952, 957, 959, 961, 963, 978, 983, 995]),)"
      ]
     },
     "execution_count": 43,
     "metadata": {},
     "output_type": "execute_result"
    }
   ],
   "source": [
    "np.nonzero(lasso_model.coef_ != 0)"
   ]
  },
  {
   "cell_type": "code",
   "execution_count": 44,
   "metadata": {
    "colab": {
     "base_uri": "https://localhost:8080/"
    },
    "executionInfo": {
     "elapsed": 359,
     "status": "ok",
     "timestamp": 1721205640434,
     "user": {
      "displayName": "Yong Song",
      "userId": "00576951217859821315"
     },
     "user_tz": -600
    },
    "id": "10CJLoHYq6R_",
    "outputId": "51800712-ba97-47dc-ae00-90fa173609f1"
   },
   "outputs": [
    {
     "data": {
      "text/plain": [
       "Index(['192.168.1.1', '2o7.net', '64.136.28.49', 'aa.com', 'about.com',\n",
       "       'active.com', 'advertising.com', 'alt.com', 'amazon.com', 'andale.com',\n",
       "       ...\n",
       "       'webmd.com', 'webmd.com-o01', 'wellsfargo.com', 'wikipedia.org',\n",
       "       'winantivirus.com', 'windowsmedia.com', 'winfixer.com', 'yahoo.com-o08',\n",
       "       'yellowpages.com', 'zappos.com'],\n",
       "      dtype='object', name='site', length=193)"
      ]
     },
     "execution_count": 44,
     "metadata": {},
     "output_type": "execute_result"
    }
   ],
   "source": [
    "matrix.columns[np.nonzero(lasso_model.coef_ != 0)]"
   ]
  },
  {
   "cell_type": "markdown",
   "metadata": {
    "id": "MBPOAojSrIUJ"
   },
   "source": [
    "$\\color{red}{Question:}$ sort the coefficients and find the most influential site on expenditure."
   ]
  },
  {
   "cell_type": "markdown",
   "metadata": {
    "id": "XnnIsv7ispJA"
   },
   "source": [
    "# Summary\n",
    "\n",
    "- Model: linear model or generalised linear model such as the Logistic regression model.\n",
    "\n",
    "- Aim: control for overparametrization.\n",
    "\n",
    "- Method: LASSO, Ridge or ElasticNet.\n",
    "\n",
    "- Choice of Penalty paramter: AICc (AIC, BIC) or cross-validation."
   ]
  },
  {
   "cell_type": "markdown",
   "metadata": {
    "id": "FmmLP-eDwrdc"
   },
   "source": [
    "# Exercise: Orange Juice\n",
    "\n",
    "- LASSO is not everything."
   ]
  },
  {
   "cell_type": "code",
   "execution_count": 45,
   "metadata": {
    "colab": {
     "base_uri": "https://localhost:8080/",
     "height": 423
    },
    "executionInfo": {
     "elapsed": 1373,
     "status": "ok",
     "timestamp": 1721205674495,
     "user": {
      "displayName": "Yong Song",
      "userId": "00576951217859821315"
     },
     "user_tz": -600
    },
    "id": "Z5bntBlKwyQl",
    "outputId": "9ca2d12f-17a3-427b-a201-9898673498aa"
   },
   "outputs": [
    {
     "data": {
      "text/html": [
       "<div>\n",
       "<style scoped>\n",
       "    .dataframe tbody tr th:only-of-type {\n",
       "        vertical-align: middle;\n",
       "    }\n",
       "\n",
       "    .dataframe tbody tr th {\n",
       "        vertical-align: top;\n",
       "    }\n",
       "\n",
       "    .dataframe thead th {\n",
       "        text-align: right;\n",
       "    }\n",
       "</style>\n",
       "<table border=\"1\" class=\"dataframe\">\n",
       "  <thead>\n",
       "    <tr style=\"text-align: right;\">\n",
       "      <th></th>\n",
       "      <th>sales</th>\n",
       "      <th>price</th>\n",
       "      <th>brand</th>\n",
       "      <th>feat</th>\n",
       "    </tr>\n",
       "  </thead>\n",
       "  <tbody>\n",
       "    <tr>\n",
       "      <th>0</th>\n",
       "      <td>8256.0</td>\n",
       "      <td>3.87</td>\n",
       "      <td>tropicana</td>\n",
       "      <td>0</td>\n",
       "    </tr>\n",
       "    <tr>\n",
       "      <th>1</th>\n",
       "      <td>6144.0</td>\n",
       "      <td>3.87</td>\n",
       "      <td>tropicana</td>\n",
       "      <td>0</td>\n",
       "    </tr>\n",
       "    <tr>\n",
       "      <th>2</th>\n",
       "      <td>3840.0</td>\n",
       "      <td>3.87</td>\n",
       "      <td>tropicana</td>\n",
       "      <td>0</td>\n",
       "    </tr>\n",
       "    <tr>\n",
       "      <th>3</th>\n",
       "      <td>8000.0</td>\n",
       "      <td>3.87</td>\n",
       "      <td>tropicana</td>\n",
       "      <td>0</td>\n",
       "    </tr>\n",
       "    <tr>\n",
       "      <th>4</th>\n",
       "      <td>8896.0</td>\n",
       "      <td>3.87</td>\n",
       "      <td>tropicana</td>\n",
       "      <td>0</td>\n",
       "    </tr>\n",
       "    <tr>\n",
       "      <th>...</th>\n",
       "      <td>...</td>\n",
       "      <td>...</td>\n",
       "      <td>...</td>\n",
       "      <td>...</td>\n",
       "    </tr>\n",
       "    <tr>\n",
       "      <th>28942</th>\n",
       "      <td>2944.0</td>\n",
       "      <td>2.00</td>\n",
       "      <td>dominicks</td>\n",
       "      <td>0</td>\n",
       "    </tr>\n",
       "    <tr>\n",
       "      <th>28943</th>\n",
       "      <td>4928.0</td>\n",
       "      <td>1.94</td>\n",
       "      <td>dominicks</td>\n",
       "      <td>0</td>\n",
       "    </tr>\n",
       "    <tr>\n",
       "      <th>28944</th>\n",
       "      <td>13440.0</td>\n",
       "      <td>1.59</td>\n",
       "      <td>dominicks</td>\n",
       "      <td>0</td>\n",
       "    </tr>\n",
       "    <tr>\n",
       "      <th>28945</th>\n",
       "      <td>55680.0</td>\n",
       "      <td>1.49</td>\n",
       "      <td>dominicks</td>\n",
       "      <td>0</td>\n",
       "    </tr>\n",
       "    <tr>\n",
       "      <th>28946</th>\n",
       "      <td>7040.0</td>\n",
       "      <td>1.75</td>\n",
       "      <td>dominicks</td>\n",
       "      <td>0</td>\n",
       "    </tr>\n",
       "  </tbody>\n",
       "</table>\n",
       "<p>28947 rows × 4 columns</p>\n",
       "</div>"
      ],
      "text/plain": [
       "         sales  price      brand  feat\n",
       "0       8256.0   3.87  tropicana     0\n",
       "1       6144.0   3.87  tropicana     0\n",
       "2       3840.0   3.87  tropicana     0\n",
       "3       8000.0   3.87  tropicana     0\n",
       "4       8896.0   3.87  tropicana     0\n",
       "...        ...    ...        ...   ...\n",
       "28942   2944.0   2.00  dominicks     0\n",
       "28943   4928.0   1.94  dominicks     0\n",
       "28944  13440.0   1.59  dominicks     0\n",
       "28945  55680.0   1.49  dominicks     0\n",
       "28946   7040.0   1.75  dominicks     0\n",
       "\n",
       "[28947 rows x 4 columns]"
      ]
     },
     "execution_count": 45,
     "metadata": {},
     "output_type": "execute_result"
    }
   ],
   "source": [
    "df_oj = pd.read_csv(\"https://www.dropbox.com/s/8oll01xv92mkij8/oj.csv?dl=1\")\n",
    "df_oj"
   ]
  },
  {
   "cell_type": "markdown",
   "metadata": {
    "id": "w4StghTr1ze5"
   },
   "source": [
    "## brand dummy and OLS"
   ]
  },
  {
   "cell_type": "code",
   "execution_count": 46,
   "metadata": {
    "colab": {
     "base_uri": "https://localhost:8080/",
     "height": 423
    },
    "executionInfo": {
     "elapsed": 370,
     "status": "ok",
     "timestamp": 1721205678719,
     "user": {
      "displayName": "Yong Song",
      "userId": "00576951217859821315"
     },
     "user_tz": -600
    },
    "id": "co48JNOTxUgD",
    "outputId": "23dc5072-aed0-41aa-e9f1-186b18e3c151"
   },
   "outputs": [
    {
     "data": {
      "text/html": [
       "<div>\n",
       "<style scoped>\n",
       "    .dataframe tbody tr th:only-of-type {\n",
       "        vertical-align: middle;\n",
       "    }\n",
       "\n",
       "    .dataframe tbody tr th {\n",
       "        vertical-align: top;\n",
       "    }\n",
       "\n",
       "    .dataframe thead th {\n",
       "        text-align: right;\n",
       "    }\n",
       "</style>\n",
       "<table border=\"1\" class=\"dataframe\">\n",
       "  <thead>\n",
       "    <tr style=\"text-align: right;\">\n",
       "      <th></th>\n",
       "      <th>sales</th>\n",
       "      <th>price</th>\n",
       "      <th>feat</th>\n",
       "      <th>brand_dominicks</th>\n",
       "      <th>brand_minute_maid</th>\n",
       "      <th>brand_tropicana</th>\n",
       "    </tr>\n",
       "  </thead>\n",
       "  <tbody>\n",
       "    <tr>\n",
       "      <th>0</th>\n",
       "      <td>8256.0</td>\n",
       "      <td>3.87</td>\n",
       "      <td>0</td>\n",
       "      <td>False</td>\n",
       "      <td>False</td>\n",
       "      <td>True</td>\n",
       "    </tr>\n",
       "    <tr>\n",
       "      <th>1</th>\n",
       "      <td>6144.0</td>\n",
       "      <td>3.87</td>\n",
       "      <td>0</td>\n",
       "      <td>False</td>\n",
       "      <td>False</td>\n",
       "      <td>True</td>\n",
       "    </tr>\n",
       "    <tr>\n",
       "      <th>2</th>\n",
       "      <td>3840.0</td>\n",
       "      <td>3.87</td>\n",
       "      <td>0</td>\n",
       "      <td>False</td>\n",
       "      <td>False</td>\n",
       "      <td>True</td>\n",
       "    </tr>\n",
       "    <tr>\n",
       "      <th>3</th>\n",
       "      <td>8000.0</td>\n",
       "      <td>3.87</td>\n",
       "      <td>0</td>\n",
       "      <td>False</td>\n",
       "      <td>False</td>\n",
       "      <td>True</td>\n",
       "    </tr>\n",
       "    <tr>\n",
       "      <th>4</th>\n",
       "      <td>8896.0</td>\n",
       "      <td>3.87</td>\n",
       "      <td>0</td>\n",
       "      <td>False</td>\n",
       "      <td>False</td>\n",
       "      <td>True</td>\n",
       "    </tr>\n",
       "    <tr>\n",
       "      <th>...</th>\n",
       "      <td>...</td>\n",
       "      <td>...</td>\n",
       "      <td>...</td>\n",
       "      <td>...</td>\n",
       "      <td>...</td>\n",
       "      <td>...</td>\n",
       "    </tr>\n",
       "    <tr>\n",
       "      <th>28942</th>\n",
       "      <td>2944.0</td>\n",
       "      <td>2.00</td>\n",
       "      <td>0</td>\n",
       "      <td>True</td>\n",
       "      <td>False</td>\n",
       "      <td>False</td>\n",
       "    </tr>\n",
       "    <tr>\n",
       "      <th>28943</th>\n",
       "      <td>4928.0</td>\n",
       "      <td>1.94</td>\n",
       "      <td>0</td>\n",
       "      <td>True</td>\n",
       "      <td>False</td>\n",
       "      <td>False</td>\n",
       "    </tr>\n",
       "    <tr>\n",
       "      <th>28944</th>\n",
       "      <td>13440.0</td>\n",
       "      <td>1.59</td>\n",
       "      <td>0</td>\n",
       "      <td>True</td>\n",
       "      <td>False</td>\n",
       "      <td>False</td>\n",
       "    </tr>\n",
       "    <tr>\n",
       "      <th>28945</th>\n",
       "      <td>55680.0</td>\n",
       "      <td>1.49</td>\n",
       "      <td>0</td>\n",
       "      <td>True</td>\n",
       "      <td>False</td>\n",
       "      <td>False</td>\n",
       "    </tr>\n",
       "    <tr>\n",
       "      <th>28946</th>\n",
       "      <td>7040.0</td>\n",
       "      <td>1.75</td>\n",
       "      <td>0</td>\n",
       "      <td>True</td>\n",
       "      <td>False</td>\n",
       "      <td>False</td>\n",
       "    </tr>\n",
       "  </tbody>\n",
       "</table>\n",
       "<p>28947 rows × 6 columns</p>\n",
       "</div>"
      ],
      "text/plain": [
       "         sales  price  feat  brand_dominicks  brand_minute_maid  \\\n",
       "0       8256.0   3.87     0            False              False   \n",
       "1       6144.0   3.87     0            False              False   \n",
       "2       3840.0   3.87     0            False              False   \n",
       "3       8000.0   3.87     0            False              False   \n",
       "4       8896.0   3.87     0            False              False   \n",
       "...        ...    ...   ...              ...                ...   \n",
       "28942   2944.0   2.00     0             True              False   \n",
       "28943   4928.0   1.94     0             True              False   \n",
       "28944  13440.0   1.59     0             True              False   \n",
       "28945  55680.0   1.49     0             True              False   \n",
       "28946   7040.0   1.75     0             True              False   \n",
       "\n",
       "       brand_tropicana  \n",
       "0                 True  \n",
       "1                 True  \n",
       "2                 True  \n",
       "3                 True  \n",
       "4                 True  \n",
       "...                ...  \n",
       "28942            False  \n",
       "28943            False  \n",
       "28944            False  \n",
       "28945            False  \n",
       "28946            False  \n",
       "\n",
       "[28947 rows x 6 columns]"
      ]
     },
     "execution_count": 46,
     "metadata": {},
     "output_type": "execute_result"
    }
   ],
   "source": [
    "df_oj_dummy = pd.get_dummies(df_oj, columns=['brand'])\n",
    "df_oj_dummy = df_oj_dummy.rename(columns={'brand_minute.maid':'brand_minute_maid'})\n",
    "df_oj_dummy"
   ]
  },
  {
   "cell_type": "code",
   "execution_count": 47,
   "metadata": {
    "colab": {
     "base_uri": "https://localhost:8080/"
    },
    "executionInfo": {
     "elapsed": 338,
     "status": "ok",
     "timestamp": 1721205697592,
     "user": {
      "displayName": "Yong Song",
      "userId": "00576951217859821315"
     },
     "user_tz": -600
    },
    "id": "Uhfb8B6u2nvt",
    "outputId": "e99fa3bf-b74b-4acd-ab13-ccd1a2e42a20"
   },
   "outputs": [
    {
     "name": "stdout",
     "output_type": "stream",
     "text": [
      "                            OLS Regression Results                            \n",
      "==============================================================================\n",
      "Dep. Variable:       I(np.log(sales))   R-squared:                       0.482\n",
      "Model:                            OLS   Adj. R-squared:                  0.482\n",
      "Method:                 Least Squares   F-statistic:                     6743.\n",
      "Date:                Thu, 07 Aug 2025   Prob (F-statistic):               0.00\n",
      "Time:                        13:57:32   Log-Likelihood:                -32098.\n",
      "No. Observations:               28947   AIC:                         6.421e+04\n",
      "Df Residuals:                   28942   BIC:                         6.425e+04\n",
      "Df Model:                           4                                         \n",
      "Covariance Type:            nonrobust                                         \n",
      "=============================================================================================\n",
      "                                coef    std err          t      P>|t|      [0.025      0.975]\n",
      "---------------------------------------------------------------------------------------------\n",
      "Intercept                    10.7606      0.020    537.071      0.000      10.721      10.800\n",
      "brand_minute_maid[T.True]     0.5442      0.012     46.208      0.000       0.521       0.567\n",
      "brand_tropicana[T.True]       1.2128      0.015     78.937      0.000       1.183       1.243\n",
      "price                        -1.0506      0.010   -104.194      0.000      -1.070      -1.031\n",
      "feat                          0.9257      0.011     85.727      0.000       0.905       0.947\n",
      "==============================================================================\n",
      "Omnibus:                      416.354   Durbin-Watson:                   1.220\n",
      "Prob(Omnibus):                  0.000   Jarque-Bera (JB):              795.599\n",
      "Skew:                          -0.004   Prob(JB):                    1.73e-173\n",
      "Kurtosis:                       3.812   Cond. No.                         15.2\n",
      "==============================================================================\n",
      "\n",
      "Notes:\n",
      "[1] Standard Errors assume that the covariance matrix of the errors is correctly specified.\n"
     ]
    }
   ],
   "source": [
    "# Create the formula for the OLS model\n",
    "formula = 'I(np.log(sales)) ~  price + feat + brand_minute_maid\t+ brand_tropicana'\n",
    "\n",
    "# Fit the OLS model using the formula and data\n",
    "model = sm.OLS.from_formula(formula, data=df_oj_dummy)\n",
    "results = model.fit()\n",
    "\n",
    "print(results.summary())"
   ]
  },
  {
   "cell_type": "markdown",
   "metadata": {
    "id": "0bop0r3R-o1h"
   },
   "source": [
    "## Alternative dummy method"
   ]
  },
  {
   "cell_type": "code",
   "execution_count": 48,
   "metadata": {
    "colab": {
     "base_uri": "https://localhost:8080/"
    },
    "executionInfo": {
     "elapsed": 349,
     "status": "ok",
     "timestamp": 1721205717299,
     "user": {
      "displayName": "Yong Song",
      "userId": "00576951217859821315"
     },
     "user_tz": -600
    },
    "id": "jmTogH3b-OWo",
    "outputId": "ba015aae-8f0a-4cdf-925d-f021f3549564"
   },
   "outputs": [
    {
     "name": "stdout",
     "output_type": "stream",
     "text": [
      "                            OLS Regression Results                            \n",
      "==============================================================================\n",
      "Dep. Variable:       I(np.log(sales))   R-squared:                       0.482\n",
      "Model:                            OLS   Adj. R-squared:                  0.482\n",
      "Method:                 Least Squares   F-statistic:                     6743.\n",
      "Date:                Thu, 07 Aug 2025   Prob (F-statistic):               0.00\n",
      "Time:                        13:57:39   Log-Likelihood:                -32098.\n",
      "No. Observations:               28947   AIC:                         6.421e+04\n",
      "Df Residuals:                   28942   BIC:                         6.425e+04\n",
      "Df Model:                           4                                         \n",
      "Covariance Type:            nonrobust                                         \n",
      "========================================================================================\n",
      "                           coef    std err          t      P>|t|      [0.025      0.975]\n",
      "----------------------------------------------------------------------------------------\n",
      "Intercept               10.7606      0.020    537.071      0.000      10.721      10.800\n",
      "brand[T.minute.maid]     0.5442      0.012     46.208      0.000       0.521       0.567\n",
      "brand[T.tropicana]       1.2128      0.015     78.937      0.000       1.183       1.243\n",
      "price                   -1.0506      0.010   -104.194      0.000      -1.070      -1.031\n",
      "feat                     0.9257      0.011     85.727      0.000       0.905       0.947\n",
      "==============================================================================\n",
      "Omnibus:                      416.354   Durbin-Watson:                   1.220\n",
      "Prob(Omnibus):                  0.000   Jarque-Bera (JB):              795.599\n",
      "Skew:                          -0.004   Prob(JB):                    1.73e-173\n",
      "Kurtosis:                       3.812   Cond. No.                         15.2\n",
      "==============================================================================\n",
      "\n",
      "Notes:\n",
      "[1] Standard Errors assume that the covariance matrix of the errors is correctly specified.\n"
     ]
    }
   ],
   "source": [
    "# Create the formula for the OLS model\n",
    "formula = 'I(np.log(sales)) ~  price +feat + brand'\n",
    "\n",
    "# Fit the OLS model using the formula and data\n",
    "model = sm.OLS.from_formula(formula, data=df_oj)\n",
    "results = model.fit()\n",
    "\n",
    "print(results.summary())"
   ]
  },
  {
   "cell_type": "markdown",
   "metadata": {
    "id": "jVi3eyIC2nKF"
   },
   "source": [
    "## Interactions"
   ]
  },
  {
   "cell_type": "code",
   "execution_count": 49,
   "metadata": {
    "colab": {
     "base_uri": "https://localhost:8080/"
    },
    "executionInfo": {
     "elapsed": 368,
     "status": "ok",
     "timestamp": 1721205757650,
     "user": {
      "displayName": "Yong Song",
      "userId": "00576951217859821315"
     },
     "user_tz": -600
    },
    "id": "q66dgyrd-sHP",
    "outputId": "b43ce22f-523a-4660-df37-26621a69d45e"
   },
   "outputs": [
    {
     "name": "stdout",
     "output_type": "stream",
     "text": [
      "                            OLS Regression Results                            \n",
      "==============================================================================\n",
      "Dep. Variable:       I(np.log(sales))   R-squared:                       0.509\n",
      "Model:                            OLS   Adj. R-squared:                  0.509\n",
      "Method:                 Least Squares   F-statistic:                     5008.\n",
      "Date:                Thu, 07 Aug 2025   Prob (F-statistic):               0.00\n",
      "Time:                        13:57:49   Log-Likelihood:                -31322.\n",
      "No. Observations:               28947   AIC:                         6.266e+04\n",
      "Df Residuals:                   28940   BIC:                         6.272e+04\n",
      "Df Model:                           6                                         \n",
      "Covariance Type:            nonrobust                                         \n",
      "==============================================================================================\n",
      "                                 coef    std err          t      P>|t|      [0.025      0.975]\n",
      "----------------------------------------------------------------------------------------------\n",
      "Intercept                     11.8056      0.034    342.390      0.000      11.738      11.873\n",
      "brand[T.minute.maid]          -0.3977      0.053     -7.499      0.000      -0.502      -0.294\n",
      "brand[T.tropicana]            -0.7405      0.051    -14.454      0.000      -0.841      -0.640\n",
      "price                         -1.6515      0.019    -86.463      0.000      -1.689      -1.614\n",
      "price:brand[T.minute.maid]     0.5559      0.026     21.336      0.000       0.505       0.607\n",
      "price:brand[T.tropicana]       0.9178      0.023     39.837      0.000       0.873       0.963\n",
      "feat                           0.9179      0.011     87.181      0.000       0.897       0.939\n",
      "==============================================================================\n",
      "Omnibus:                      486.689   Durbin-Watson:                   1.193\n",
      "Prob(Omnibus):                  0.000   Jarque-Bera (JB):              970.870\n",
      "Skew:                           0.043   Prob(JB):                    1.51e-211\n",
      "Kurtosis:                       3.893   Cond. No.                         54.0\n",
      "==============================================================================\n",
      "\n",
      "Notes:\n",
      "[1] Standard Errors assume that the covariance matrix of the errors is correctly specified.\n"
     ]
    }
   ],
   "source": [
    "# Create the formula for the OLS model\n",
    "formula = 'I(np.log(sales)) ~  price*brand + feat'\n",
    "\n",
    "# Fit the OLS model using the formula and data\n",
    "model = sm.OLS.from_formula(formula, data=df_oj)\n",
    "results = model.fit()\n",
    "\n",
    "print(results.summary())"
   ]
  },
  {
   "cell_type": "markdown",
   "metadata": {
    "id": "CIQxPGNg-2B3"
   },
   "source": [
    "## More interactions"
   ]
  },
  {
   "cell_type": "code",
   "execution_count": 50,
   "metadata": {
    "colab": {
     "base_uri": "https://localhost:8080/"
    },
    "executionInfo": {
     "elapsed": 366,
     "status": "ok",
     "timestamp": 1721205768391,
     "user": {
      "displayName": "Yong Song",
      "userId": "00576951217859821315"
     },
     "user_tz": -600
    },
    "id": "j5q2JXAGzV9I",
    "outputId": "2dcb26d3-5ae2-4d67-f58a-44b3d6edf39a"
   },
   "outputs": [
    {
     "name": "stdout",
     "output_type": "stream",
     "text": [
      "                            OLS Regression Results                            \n",
      "==============================================================================\n",
      "Dep. Variable:       I(np.log(sales))   R-squared:                       0.530\n",
      "Model:                            OLS   Adj. R-squared:                  0.530\n",
      "Method:                 Least Squares   F-statistic:                     2967.\n",
      "Date:                Thu, 07 Aug 2025   Prob (F-statistic):               0.00\n",
      "Time:                        13:57:55   Log-Likelihood:                -30699.\n",
      "No. Observations:               28947   AIC:                         6.142e+04\n",
      "Df Residuals:                   28935   BIC:                         6.152e+04\n",
      "Df Model:                          11                                         \n",
      "Covariance Type:            nonrobust                                         \n",
      "===================================================================================================\n",
      "                                      coef    std err          t      P>|t|      [0.025      0.975]\n",
      "---------------------------------------------------------------------------------------------------\n",
      "Intercept                          11.6352      0.040    293.569      0.000      11.557      11.713\n",
      "brand[T.minute.maid]               -0.9163      0.063    -14.560      0.000      -1.040      -0.793\n",
      "brand[T.tropicana]                 -0.5846      0.060     -9.664      0.000      -0.703      -0.466\n",
      "price                              -1.5541      0.022    -71.984      0.000      -1.596      -1.512\n",
      "price:brand[T.minute.maid]          0.7307      0.030     24.443      0.000       0.672       0.789\n",
      "price:brand[T.tropicana]            0.8399      0.026     31.821      0.000       0.788       0.892\n",
      "feat                                1.6667      0.077     21.703      0.000       1.516       1.817\n",
      "feat:brand[T.minute.maid]           1.6442      0.128     12.847      0.000       1.393       1.895\n",
      "feat:brand[T.tropicana]             0.7384      0.128      5.753      0.000       0.487       0.990\n",
      "price:feat                         -0.4753      0.046    -10.238      0.000      -0.566      -0.384\n",
      "price:feat:brand[T.minute.maid]    -0.5711      0.067     -8.500      0.000      -0.703      -0.439\n",
      "price:feat:brand[T.tropicana]      -0.2507      0.062     -4.058      0.000      -0.372      -0.130\n",
      "==============================================================================\n",
      "Omnibus:                      683.641   Durbin-Watson:                   1.165\n",
      "Prob(Omnibus):                  0.000   Jarque-Bera (JB):             1483.896\n",
      "Skew:                           0.105   Prob(JB):                         0.00\n",
      "Kurtosis:                       4.089   Cond. No.                         139.\n",
      "==============================================================================\n",
      "\n",
      "Notes:\n",
      "[1] Standard Errors assume that the covariance matrix of the errors is correctly specified.\n"
     ]
    }
   ],
   "source": [
    "# Create the formula for the OLS model\n",
    "formula = 'I(np.log(sales)) ~  price*feat*brand'\n",
    "\n",
    "# Fit the OLS model using the formula and data\n",
    "model = sm.OLS.from_formula(formula, data=df_oj)\n",
    "results = model.fit()\n",
    "\n",
    "print(results.summary())"
   ]
  },
  {
   "cell_type": "code",
   "execution_count": 51,
   "metadata": {
    "colab": {
     "base_uri": "https://localhost:8080/"
    },
    "executionInfo": {
     "elapsed": 357,
     "status": "ok",
     "timestamp": 1721205784589,
     "user": {
      "displayName": "Yong Song",
      "userId": "00576951217859821315"
     },
     "user_tz": -600
    },
    "id": "f6ROw0SLBtV1",
    "outputId": "a4efc47d-7f33-40c8-a2c6-7d8a453cbb19"
   },
   "outputs": [
    {
     "data": {
      "text/plain": [
       "['Intercept',\n",
       " 'brand[T.minute.maid]',\n",
       " 'brand[T.tropicana]',\n",
       " 'price',\n",
       " 'price:brand[T.minute.maid]',\n",
       " 'price:brand[T.tropicana]',\n",
       " 'feat',\n",
       " 'feat:brand[T.minute.maid]',\n",
       " 'feat:brand[T.tropicana]',\n",
       " 'price:feat',\n",
       " 'price:feat:brand[T.minute.maid]',\n",
       " 'price:feat:brand[T.tropicana]']"
      ]
     },
     "execution_count": 51,
     "metadata": {},
     "output_type": "execute_result"
    }
   ],
   "source": [
    "model.exog_names"
   ]
  },
  {
   "cell_type": "markdown",
   "metadata": {
    "id": "WJKoDvjO_cg4"
   },
   "source": [
    "## LASSO with CV"
   ]
  },
  {
   "cell_type": "code",
   "execution_count": 52,
   "metadata": {
    "id": "mNBvcVE4_B9e"
   },
   "outputs": [],
   "source": [
    "X = model.exog\n",
    "X = np.delete(X, 0, axis=1)\n",
    "y = model.endog"
   ]
  },
  {
   "cell_type": "code",
   "execution_count": 53,
   "metadata": {
    "colab": {
     "base_uri": "https://localhost:8080/",
     "height": 341
    },
    "executionInfo": {
     "elapsed": 1140,
     "status": "ok",
     "timestamp": 1721205822892,
     "user": {
      "displayName": "Yong Song",
      "userId": "00576951217859821315"
     },
     "user_tz": -600
    },
    "id": "RcK_V-Ai_Vqm",
    "outputId": "e681de6c-9cb8-440a-b77a-9da8461497a5"
   },
   "outputs": [
    {
     "data": {
      "text/html": [
       "<style>#sk-container-id-7 {\n",
       "  /* Definition of color scheme common for light and dark mode */\n",
       "  --sklearn-color-text: #000;\n",
       "  --sklearn-color-text-muted: #666;\n",
       "  --sklearn-color-line: gray;\n",
       "  /* Definition of color scheme for unfitted estimators */\n",
       "  --sklearn-color-unfitted-level-0: #fff5e6;\n",
       "  --sklearn-color-unfitted-level-1: #f6e4d2;\n",
       "  --sklearn-color-unfitted-level-2: #ffe0b3;\n",
       "  --sklearn-color-unfitted-level-3: chocolate;\n",
       "  /* Definition of color scheme for fitted estimators */\n",
       "  --sklearn-color-fitted-level-0: #f0f8ff;\n",
       "  --sklearn-color-fitted-level-1: #d4ebff;\n",
       "  --sklearn-color-fitted-level-2: #b3dbfd;\n",
       "  --sklearn-color-fitted-level-3: cornflowerblue;\n",
       "\n",
       "  /* Specific color for light theme */\n",
       "  --sklearn-color-text-on-default-background: var(--sg-text-color, var(--theme-code-foreground, var(--jp-content-font-color1, black)));\n",
       "  --sklearn-color-background: var(--sg-background-color, var(--theme-background, var(--jp-layout-color0, white)));\n",
       "  --sklearn-color-border-box: var(--sg-text-color, var(--theme-code-foreground, var(--jp-content-font-color1, black)));\n",
       "  --sklearn-color-icon: #696969;\n",
       "\n",
       "  @media (prefers-color-scheme: dark) {\n",
       "    /* Redefinition of color scheme for dark theme */\n",
       "    --sklearn-color-text-on-default-background: var(--sg-text-color, var(--theme-code-foreground, var(--jp-content-font-color1, white)));\n",
       "    --sklearn-color-background: var(--sg-background-color, var(--theme-background, var(--jp-layout-color0, #111)));\n",
       "    --sklearn-color-border-box: var(--sg-text-color, var(--theme-code-foreground, var(--jp-content-font-color1, white)));\n",
       "    --sklearn-color-icon: #878787;\n",
       "  }\n",
       "}\n",
       "\n",
       "#sk-container-id-7 {\n",
       "  color: var(--sklearn-color-text);\n",
       "}\n",
       "\n",
       "#sk-container-id-7 pre {\n",
       "  padding: 0;\n",
       "}\n",
       "\n",
       "#sk-container-id-7 input.sk-hidden--visually {\n",
       "  border: 0;\n",
       "  clip: rect(1px 1px 1px 1px);\n",
       "  clip: rect(1px, 1px, 1px, 1px);\n",
       "  height: 1px;\n",
       "  margin: -1px;\n",
       "  overflow: hidden;\n",
       "  padding: 0;\n",
       "  position: absolute;\n",
       "  width: 1px;\n",
       "}\n",
       "\n",
       "#sk-container-id-7 div.sk-dashed-wrapped {\n",
       "  border: 1px dashed var(--sklearn-color-line);\n",
       "  margin: 0 0.4em 0.5em 0.4em;\n",
       "  box-sizing: border-box;\n",
       "  padding-bottom: 0.4em;\n",
       "  background-color: var(--sklearn-color-background);\n",
       "}\n",
       "\n",
       "#sk-container-id-7 div.sk-container {\n",
       "  /* jupyter's `normalize.less` sets `[hidden] { display: none; }`\n",
       "     but bootstrap.min.css set `[hidden] { display: none !important; }`\n",
       "     so we also need the `!important` here to be able to override the\n",
       "     default hidden behavior on the sphinx rendered scikit-learn.org.\n",
       "     See: https://github.com/scikit-learn/scikit-learn/issues/21755 */\n",
       "  display: inline-block !important;\n",
       "  position: relative;\n",
       "}\n",
       "\n",
       "#sk-container-id-7 div.sk-text-repr-fallback {\n",
       "  display: none;\n",
       "}\n",
       "\n",
       "div.sk-parallel-item,\n",
       "div.sk-serial,\n",
       "div.sk-item {\n",
       "  /* draw centered vertical line to link estimators */\n",
       "  background-image: linear-gradient(var(--sklearn-color-text-on-default-background), var(--sklearn-color-text-on-default-background));\n",
       "  background-size: 2px 100%;\n",
       "  background-repeat: no-repeat;\n",
       "  background-position: center center;\n",
       "}\n",
       "\n",
       "/* Parallel-specific style estimator block */\n",
       "\n",
       "#sk-container-id-7 div.sk-parallel-item::after {\n",
       "  content: \"\";\n",
       "  width: 100%;\n",
       "  border-bottom: 2px solid var(--sklearn-color-text-on-default-background);\n",
       "  flex-grow: 1;\n",
       "}\n",
       "\n",
       "#sk-container-id-7 div.sk-parallel {\n",
       "  display: flex;\n",
       "  align-items: stretch;\n",
       "  justify-content: center;\n",
       "  background-color: var(--sklearn-color-background);\n",
       "  position: relative;\n",
       "}\n",
       "\n",
       "#sk-container-id-7 div.sk-parallel-item {\n",
       "  display: flex;\n",
       "  flex-direction: column;\n",
       "}\n",
       "\n",
       "#sk-container-id-7 div.sk-parallel-item:first-child::after {\n",
       "  align-self: flex-end;\n",
       "  width: 50%;\n",
       "}\n",
       "\n",
       "#sk-container-id-7 div.sk-parallel-item:last-child::after {\n",
       "  align-self: flex-start;\n",
       "  width: 50%;\n",
       "}\n",
       "\n",
       "#sk-container-id-7 div.sk-parallel-item:only-child::after {\n",
       "  width: 0;\n",
       "}\n",
       "\n",
       "/* Serial-specific style estimator block */\n",
       "\n",
       "#sk-container-id-7 div.sk-serial {\n",
       "  display: flex;\n",
       "  flex-direction: column;\n",
       "  align-items: center;\n",
       "  background-color: var(--sklearn-color-background);\n",
       "  padding-right: 1em;\n",
       "  padding-left: 1em;\n",
       "}\n",
       "\n",
       "\n",
       "/* Toggleable style: style used for estimator/Pipeline/ColumnTransformer box that is\n",
       "clickable and can be expanded/collapsed.\n",
       "- Pipeline and ColumnTransformer use this feature and define the default style\n",
       "- Estimators will overwrite some part of the style using the `sk-estimator` class\n",
       "*/\n",
       "\n",
       "/* Pipeline and ColumnTransformer style (default) */\n",
       "\n",
       "#sk-container-id-7 div.sk-toggleable {\n",
       "  /* Default theme specific background. It is overwritten whether we have a\n",
       "  specific estimator or a Pipeline/ColumnTransformer */\n",
       "  background-color: var(--sklearn-color-background);\n",
       "}\n",
       "\n",
       "/* Toggleable label */\n",
       "#sk-container-id-7 label.sk-toggleable__label {\n",
       "  cursor: pointer;\n",
       "  display: flex;\n",
       "  width: 100%;\n",
       "  margin-bottom: 0;\n",
       "  padding: 0.5em;\n",
       "  box-sizing: border-box;\n",
       "  text-align: center;\n",
       "  align-items: start;\n",
       "  justify-content: space-between;\n",
       "  gap: 0.5em;\n",
       "}\n",
       "\n",
       "#sk-container-id-7 label.sk-toggleable__label .caption {\n",
       "  font-size: 0.6rem;\n",
       "  font-weight: lighter;\n",
       "  color: var(--sklearn-color-text-muted);\n",
       "}\n",
       "\n",
       "#sk-container-id-7 label.sk-toggleable__label-arrow:before {\n",
       "  /* Arrow on the left of the label */\n",
       "  content: \"▸\";\n",
       "  float: left;\n",
       "  margin-right: 0.25em;\n",
       "  color: var(--sklearn-color-icon);\n",
       "}\n",
       "\n",
       "#sk-container-id-7 label.sk-toggleable__label-arrow:hover:before {\n",
       "  color: var(--sklearn-color-text);\n",
       "}\n",
       "\n",
       "/* Toggleable content - dropdown */\n",
       "\n",
       "#sk-container-id-7 div.sk-toggleable__content {\n",
       "  display: none;\n",
       "  text-align: left;\n",
       "  /* unfitted */\n",
       "  background-color: var(--sklearn-color-unfitted-level-0);\n",
       "}\n",
       "\n",
       "#sk-container-id-7 div.sk-toggleable__content.fitted {\n",
       "  /* fitted */\n",
       "  background-color: var(--sklearn-color-fitted-level-0);\n",
       "}\n",
       "\n",
       "#sk-container-id-7 div.sk-toggleable__content pre {\n",
       "  margin: 0.2em;\n",
       "  border-radius: 0.25em;\n",
       "  color: var(--sklearn-color-text);\n",
       "  /* unfitted */\n",
       "  background-color: var(--sklearn-color-unfitted-level-0);\n",
       "}\n",
       "\n",
       "#sk-container-id-7 div.sk-toggleable__content.fitted pre {\n",
       "  /* unfitted */\n",
       "  background-color: var(--sklearn-color-fitted-level-0);\n",
       "}\n",
       "\n",
       "#sk-container-id-7 input.sk-toggleable__control:checked~div.sk-toggleable__content {\n",
       "  /* Expand drop-down */\n",
       "  display: block;\n",
       "  width: 100%;\n",
       "  overflow: visible;\n",
       "}\n",
       "\n",
       "#sk-container-id-7 input.sk-toggleable__control:checked~label.sk-toggleable__label-arrow:before {\n",
       "  content: \"▾\";\n",
       "}\n",
       "\n",
       "/* Pipeline/ColumnTransformer-specific style */\n",
       "\n",
       "#sk-container-id-7 div.sk-label input.sk-toggleable__control:checked~label.sk-toggleable__label {\n",
       "  color: var(--sklearn-color-text);\n",
       "  background-color: var(--sklearn-color-unfitted-level-2);\n",
       "}\n",
       "\n",
       "#sk-container-id-7 div.sk-label.fitted input.sk-toggleable__control:checked~label.sk-toggleable__label {\n",
       "  background-color: var(--sklearn-color-fitted-level-2);\n",
       "}\n",
       "\n",
       "/* Estimator-specific style */\n",
       "\n",
       "/* Colorize estimator box */\n",
       "#sk-container-id-7 div.sk-estimator input.sk-toggleable__control:checked~label.sk-toggleable__label {\n",
       "  /* unfitted */\n",
       "  background-color: var(--sklearn-color-unfitted-level-2);\n",
       "}\n",
       "\n",
       "#sk-container-id-7 div.sk-estimator.fitted input.sk-toggleable__control:checked~label.sk-toggleable__label {\n",
       "  /* fitted */\n",
       "  background-color: var(--sklearn-color-fitted-level-2);\n",
       "}\n",
       "\n",
       "#sk-container-id-7 div.sk-label label.sk-toggleable__label,\n",
       "#sk-container-id-7 div.sk-label label {\n",
       "  /* The background is the default theme color */\n",
       "  color: var(--sklearn-color-text-on-default-background);\n",
       "}\n",
       "\n",
       "/* On hover, darken the color of the background */\n",
       "#sk-container-id-7 div.sk-label:hover label.sk-toggleable__label {\n",
       "  color: var(--sklearn-color-text);\n",
       "  background-color: var(--sklearn-color-unfitted-level-2);\n",
       "}\n",
       "\n",
       "/* Label box, darken color on hover, fitted */\n",
       "#sk-container-id-7 div.sk-label.fitted:hover label.sk-toggleable__label.fitted {\n",
       "  color: var(--sklearn-color-text);\n",
       "  background-color: var(--sklearn-color-fitted-level-2);\n",
       "}\n",
       "\n",
       "/* Estimator label */\n",
       "\n",
       "#sk-container-id-7 div.sk-label label {\n",
       "  font-family: monospace;\n",
       "  font-weight: bold;\n",
       "  display: inline-block;\n",
       "  line-height: 1.2em;\n",
       "}\n",
       "\n",
       "#sk-container-id-7 div.sk-label-container {\n",
       "  text-align: center;\n",
       "}\n",
       "\n",
       "/* Estimator-specific */\n",
       "#sk-container-id-7 div.sk-estimator {\n",
       "  font-family: monospace;\n",
       "  border: 1px dotted var(--sklearn-color-border-box);\n",
       "  border-radius: 0.25em;\n",
       "  box-sizing: border-box;\n",
       "  margin-bottom: 0.5em;\n",
       "  /* unfitted */\n",
       "  background-color: var(--sklearn-color-unfitted-level-0);\n",
       "}\n",
       "\n",
       "#sk-container-id-7 div.sk-estimator.fitted {\n",
       "  /* fitted */\n",
       "  background-color: var(--sklearn-color-fitted-level-0);\n",
       "}\n",
       "\n",
       "/* on hover */\n",
       "#sk-container-id-7 div.sk-estimator:hover {\n",
       "  /* unfitted */\n",
       "  background-color: var(--sklearn-color-unfitted-level-2);\n",
       "}\n",
       "\n",
       "#sk-container-id-7 div.sk-estimator.fitted:hover {\n",
       "  /* fitted */\n",
       "  background-color: var(--sklearn-color-fitted-level-2);\n",
       "}\n",
       "\n",
       "/* Specification for estimator info (e.g. \"i\" and \"?\") */\n",
       "\n",
       "/* Common style for \"i\" and \"?\" */\n",
       "\n",
       ".sk-estimator-doc-link,\n",
       "a:link.sk-estimator-doc-link,\n",
       "a:visited.sk-estimator-doc-link {\n",
       "  float: right;\n",
       "  font-size: smaller;\n",
       "  line-height: 1em;\n",
       "  font-family: monospace;\n",
       "  background-color: var(--sklearn-color-background);\n",
       "  border-radius: 1em;\n",
       "  height: 1em;\n",
       "  width: 1em;\n",
       "  text-decoration: none !important;\n",
       "  margin-left: 0.5em;\n",
       "  text-align: center;\n",
       "  /* unfitted */\n",
       "  border: var(--sklearn-color-unfitted-level-1) 1pt solid;\n",
       "  color: var(--sklearn-color-unfitted-level-1);\n",
       "}\n",
       "\n",
       ".sk-estimator-doc-link.fitted,\n",
       "a:link.sk-estimator-doc-link.fitted,\n",
       "a:visited.sk-estimator-doc-link.fitted {\n",
       "  /* fitted */\n",
       "  border: var(--sklearn-color-fitted-level-1) 1pt solid;\n",
       "  color: var(--sklearn-color-fitted-level-1);\n",
       "}\n",
       "\n",
       "/* On hover */\n",
       "div.sk-estimator:hover .sk-estimator-doc-link:hover,\n",
       ".sk-estimator-doc-link:hover,\n",
       "div.sk-label-container:hover .sk-estimator-doc-link:hover,\n",
       ".sk-estimator-doc-link:hover {\n",
       "  /* unfitted */\n",
       "  background-color: var(--sklearn-color-unfitted-level-3);\n",
       "  color: var(--sklearn-color-background);\n",
       "  text-decoration: none;\n",
       "}\n",
       "\n",
       "div.sk-estimator.fitted:hover .sk-estimator-doc-link.fitted:hover,\n",
       ".sk-estimator-doc-link.fitted:hover,\n",
       "div.sk-label-container:hover .sk-estimator-doc-link.fitted:hover,\n",
       ".sk-estimator-doc-link.fitted:hover {\n",
       "  /* fitted */\n",
       "  background-color: var(--sklearn-color-fitted-level-3);\n",
       "  color: var(--sklearn-color-background);\n",
       "  text-decoration: none;\n",
       "}\n",
       "\n",
       "/* Span, style for the box shown on hovering the info icon */\n",
       ".sk-estimator-doc-link span {\n",
       "  display: none;\n",
       "  z-index: 9999;\n",
       "  position: relative;\n",
       "  font-weight: normal;\n",
       "  right: .2ex;\n",
       "  padding: .5ex;\n",
       "  margin: .5ex;\n",
       "  width: min-content;\n",
       "  min-width: 20ex;\n",
       "  max-width: 50ex;\n",
       "  color: var(--sklearn-color-text);\n",
       "  box-shadow: 2pt 2pt 4pt #999;\n",
       "  /* unfitted */\n",
       "  background: var(--sklearn-color-unfitted-level-0);\n",
       "  border: .5pt solid var(--sklearn-color-unfitted-level-3);\n",
       "}\n",
       "\n",
       ".sk-estimator-doc-link.fitted span {\n",
       "  /* fitted */\n",
       "  background: var(--sklearn-color-fitted-level-0);\n",
       "  border: var(--sklearn-color-fitted-level-3);\n",
       "}\n",
       "\n",
       ".sk-estimator-doc-link:hover span {\n",
       "  display: block;\n",
       "}\n",
       "\n",
       "/* \"?\"-specific style due to the `<a>` HTML tag */\n",
       "\n",
       "#sk-container-id-7 a.estimator_doc_link {\n",
       "  float: right;\n",
       "  font-size: 1rem;\n",
       "  line-height: 1em;\n",
       "  font-family: monospace;\n",
       "  background-color: var(--sklearn-color-background);\n",
       "  border-radius: 1rem;\n",
       "  height: 1rem;\n",
       "  width: 1rem;\n",
       "  text-decoration: none;\n",
       "  /* unfitted */\n",
       "  color: var(--sklearn-color-unfitted-level-1);\n",
       "  border: var(--sklearn-color-unfitted-level-1) 1pt solid;\n",
       "}\n",
       "\n",
       "#sk-container-id-7 a.estimator_doc_link.fitted {\n",
       "  /* fitted */\n",
       "  border: var(--sklearn-color-fitted-level-1) 1pt solid;\n",
       "  color: var(--sklearn-color-fitted-level-1);\n",
       "}\n",
       "\n",
       "/* On hover */\n",
       "#sk-container-id-7 a.estimator_doc_link:hover {\n",
       "  /* unfitted */\n",
       "  background-color: var(--sklearn-color-unfitted-level-3);\n",
       "  color: var(--sklearn-color-background);\n",
       "  text-decoration: none;\n",
       "}\n",
       "\n",
       "#sk-container-id-7 a.estimator_doc_link.fitted:hover {\n",
       "  /* fitted */\n",
       "  background-color: var(--sklearn-color-fitted-level-3);\n",
       "}\n",
       "\n",
       ".estimator-table summary {\n",
       "    padding: .5rem;\n",
       "    font-family: monospace;\n",
       "    cursor: pointer;\n",
       "}\n",
       "\n",
       ".estimator-table details[open] {\n",
       "    padding-left: 0.1rem;\n",
       "    padding-right: 0.1rem;\n",
       "    padding-bottom: 0.3rem;\n",
       "}\n",
       "\n",
       ".estimator-table .parameters-table {\n",
       "    margin-left: auto !important;\n",
       "    margin-right: auto !important;\n",
       "}\n",
       "\n",
       ".estimator-table .parameters-table tr:nth-child(odd) {\n",
       "    background-color: #fff;\n",
       "}\n",
       "\n",
       ".estimator-table .parameters-table tr:nth-child(even) {\n",
       "    background-color: #f6f6f6;\n",
       "}\n",
       "\n",
       ".estimator-table .parameters-table tr:hover {\n",
       "    background-color: #e0e0e0;\n",
       "}\n",
       "\n",
       ".estimator-table table td {\n",
       "    border: 1px solid rgba(106, 105, 104, 0.232);\n",
       "}\n",
       "\n",
       ".user-set td {\n",
       "    color:rgb(255, 94, 0);\n",
       "    text-align: left;\n",
       "}\n",
       "\n",
       ".user-set td.value pre {\n",
       "    color:rgb(255, 94, 0) !important;\n",
       "    background-color: transparent !important;\n",
       "}\n",
       "\n",
       ".default td {\n",
       "    color: black;\n",
       "    text-align: left;\n",
       "}\n",
       "\n",
       ".user-set td i,\n",
       ".default td i {\n",
       "    color: black;\n",
       "}\n",
       "\n",
       ".copy-paste-icon {\n",
       "    background-image: url(data:image/svg+xml;base64,PHN2ZyB4bWxucz0iaHR0cDovL3d3dy53My5vcmcvMjAwMC9zdmciIHZpZXdCb3g9IjAgMCA0NDggNTEyIj48IS0tIUZvbnQgQXdlc29tZSBGcmVlIDYuNy4yIGJ5IEBmb250YXdlc29tZSAtIGh0dHBzOi8vZm9udGF3ZXNvbWUuY29tIExpY2Vuc2UgLSBodHRwczovL2ZvbnRhd2Vzb21lLmNvbS9saWNlbnNlL2ZyZWUgQ29weXJpZ2h0IDIwMjUgRm9udGljb25zLCBJbmMuLS0+PHBhdGggZD0iTTIwOCAwTDMzMi4xIDBjMTIuNyAwIDI0LjkgNS4xIDMzLjkgMTQuMWw2Ny45IDY3LjljOSA5IDE0LjEgMjEuMiAxNC4xIDMzLjlMNDQ4IDMzNmMwIDI2LjUtMjEuNSA0OC00OCA0OGwtMTkyIDBjLTI2LjUgMC00OC0yMS41LTQ4LTQ4bDAtMjg4YzAtMjYuNSAyMS41LTQ4IDQ4LTQ4ek00OCAxMjhsODAgMCAwIDY0LTY0IDAgMCAyNTYgMTkyIDAgMC0zMiA2NCAwIDAgNDhjMCAyNi41LTIxLjUgNDgtNDggNDhMNDggNTEyYy0yNi41IDAtNDgtMjEuNS00OC00OEwwIDE3NmMwLTI2LjUgMjEuNS00OCA0OC00OHoiLz48L3N2Zz4=);\n",
       "    background-repeat: no-repeat;\n",
       "    background-size: 14px 14px;\n",
       "    background-position: 0;\n",
       "    display: inline-block;\n",
       "    width: 14px;\n",
       "    height: 14px;\n",
       "    cursor: pointer;\n",
       "}\n",
       "</style><body><div id=\"sk-container-id-7\" class=\"sk-top-container\"><div class=\"sk-text-repr-fallback\"><pre>LassoCV(alphas=array([1.00000000e-05, 1.17681195e-05, 1.38488637e-05, 1.62975083e-05,\n",
       "       1.91791026e-05, 2.25701972e-05, 2.65608778e-05, 3.12571585e-05,\n",
       "       3.67837977e-05, 4.32876128e-05, 5.09413801e-05, 5.99484250e-05,\n",
       "       7.05480231e-05, 8.30217568e-05, 9.77009957e-05, 1.14975700e-04,\n",
       "       1.35304777e-04, 1.59228279e-04, 1.87381742e-04, 2.20513074e-04,\n",
       "       2.59502421e-04, 3.05385551e-0...\n",
       "       2.36448941e+00, 2.78255940e+00, 3.27454916e+00, 3.85352859e+00,\n",
       "       4.53487851e+00, 5.33669923e+00, 6.28029144e+00, 7.39072203e+00,\n",
       "       8.69749003e+00, 1.02353102e+01, 1.20450354e+01, 1.41747416e+01,\n",
       "       1.66810054e+01, 1.96304065e+01, 2.31012970e+01, 2.71858824e+01,\n",
       "       3.19926714e+01, 3.76493581e+01, 4.43062146e+01, 5.21400829e+01,\n",
       "       6.13590727e+01, 7.22080902e+01, 8.49753436e+01, 1.00000000e+02]),\n",
       "        cv=5, max_iter=10000)</pre><b>In a Jupyter environment, please rerun this cell to show the HTML representation or trust the notebook. <br />On GitHub, the HTML representation is unable to render, please try loading this page with nbviewer.org.</b></div><div class=\"sk-container\" hidden><div class=\"sk-item\"><div class=\"sk-estimator fitted sk-toggleable\"><input class=\"sk-toggleable__control sk-hidden--visually\" id=\"sk-estimator-id-7\" type=\"checkbox\" checked><label for=\"sk-estimator-id-7\" class=\"sk-toggleable__label fitted sk-toggleable__label-arrow\"><div><div>LassoCV</div></div><div><a class=\"sk-estimator-doc-link fitted\" rel=\"noreferrer\" target=\"_blank\" href=\"https://scikit-learn.org/1.7/modules/generated/sklearn.linear_model.LassoCV.html\">?<span>Documentation for LassoCV</span></a><span class=\"sk-estimator-doc-link fitted\">i<span>Fitted</span></span></div></label><div class=\"sk-toggleable__content fitted\" data-param-prefix=\"\">\n",
       "        <div class=\"estimator-table\">\n",
       "            <details>\n",
       "                <summary>Parameters</summary>\n",
       "                <table class=\"parameters-table\">\n",
       "                  <tbody>\n",
       "                    \n",
       "        <tr class=\"default\">\n",
       "            <td><i class=\"copy-paste-icon\"\n",
       "                 onclick=\"copyToClipboard('eps',\n",
       "                          this.parentElement.nextElementSibling)\"\n",
       "            ></i></td>\n",
       "            <td class=\"param\">eps&nbsp;</td>\n",
       "            <td class=\"value\">0.001</td>\n",
       "        </tr>\n",
       "    \n",
       "\n",
       "        <tr class=\"default\">\n",
       "            <td><i class=\"copy-paste-icon\"\n",
       "                 onclick=\"copyToClipboard('n_alphas',\n",
       "                          this.parentElement.nextElementSibling)\"\n",
       "            ></i></td>\n",
       "            <td class=\"param\">n_alphas&nbsp;</td>\n",
       "            <td class=\"value\">&#x27;deprecated&#x27;</td>\n",
       "        </tr>\n",
       "    \n",
       "\n",
       "        <tr class=\"user-set\">\n",
       "            <td><i class=\"copy-paste-icon\"\n",
       "                 onclick=\"copyToClipboard('alphas',\n",
       "                          this.parentElement.nextElementSibling)\"\n",
       "            ></i></td>\n",
       "            <td class=\"param\">alphas&nbsp;</td>\n",
       "            <td class=\"value\">array([1.0000...00000000e+02])</td>\n",
       "        </tr>\n",
       "    \n",
       "\n",
       "        <tr class=\"default\">\n",
       "            <td><i class=\"copy-paste-icon\"\n",
       "                 onclick=\"copyToClipboard('fit_intercept',\n",
       "                          this.parentElement.nextElementSibling)\"\n",
       "            ></i></td>\n",
       "            <td class=\"param\">fit_intercept&nbsp;</td>\n",
       "            <td class=\"value\">True</td>\n",
       "        </tr>\n",
       "    \n",
       "\n",
       "        <tr class=\"default\">\n",
       "            <td><i class=\"copy-paste-icon\"\n",
       "                 onclick=\"copyToClipboard('precompute',\n",
       "                          this.parentElement.nextElementSibling)\"\n",
       "            ></i></td>\n",
       "            <td class=\"param\">precompute&nbsp;</td>\n",
       "            <td class=\"value\">&#x27;auto&#x27;</td>\n",
       "        </tr>\n",
       "    \n",
       "\n",
       "        <tr class=\"user-set\">\n",
       "            <td><i class=\"copy-paste-icon\"\n",
       "                 onclick=\"copyToClipboard('max_iter',\n",
       "                          this.parentElement.nextElementSibling)\"\n",
       "            ></i></td>\n",
       "            <td class=\"param\">max_iter&nbsp;</td>\n",
       "            <td class=\"value\">10000</td>\n",
       "        </tr>\n",
       "    \n",
       "\n",
       "        <tr class=\"default\">\n",
       "            <td><i class=\"copy-paste-icon\"\n",
       "                 onclick=\"copyToClipboard('tol',\n",
       "                          this.parentElement.nextElementSibling)\"\n",
       "            ></i></td>\n",
       "            <td class=\"param\">tol&nbsp;</td>\n",
       "            <td class=\"value\">0.0001</td>\n",
       "        </tr>\n",
       "    \n",
       "\n",
       "        <tr class=\"default\">\n",
       "            <td><i class=\"copy-paste-icon\"\n",
       "                 onclick=\"copyToClipboard('copy_X',\n",
       "                          this.parentElement.nextElementSibling)\"\n",
       "            ></i></td>\n",
       "            <td class=\"param\">copy_X&nbsp;</td>\n",
       "            <td class=\"value\">True</td>\n",
       "        </tr>\n",
       "    \n",
       "\n",
       "        <tr class=\"user-set\">\n",
       "            <td><i class=\"copy-paste-icon\"\n",
       "                 onclick=\"copyToClipboard('cv',\n",
       "                          this.parentElement.nextElementSibling)\"\n",
       "            ></i></td>\n",
       "            <td class=\"param\">cv&nbsp;</td>\n",
       "            <td class=\"value\">5</td>\n",
       "        </tr>\n",
       "    \n",
       "\n",
       "        <tr class=\"default\">\n",
       "            <td><i class=\"copy-paste-icon\"\n",
       "                 onclick=\"copyToClipboard('verbose',\n",
       "                          this.parentElement.nextElementSibling)\"\n",
       "            ></i></td>\n",
       "            <td class=\"param\">verbose&nbsp;</td>\n",
       "            <td class=\"value\">False</td>\n",
       "        </tr>\n",
       "    \n",
       "\n",
       "        <tr class=\"default\">\n",
       "            <td><i class=\"copy-paste-icon\"\n",
       "                 onclick=\"copyToClipboard('n_jobs',\n",
       "                          this.parentElement.nextElementSibling)\"\n",
       "            ></i></td>\n",
       "            <td class=\"param\">n_jobs&nbsp;</td>\n",
       "            <td class=\"value\">None</td>\n",
       "        </tr>\n",
       "    \n",
       "\n",
       "        <tr class=\"default\">\n",
       "            <td><i class=\"copy-paste-icon\"\n",
       "                 onclick=\"copyToClipboard('positive',\n",
       "                          this.parentElement.nextElementSibling)\"\n",
       "            ></i></td>\n",
       "            <td class=\"param\">positive&nbsp;</td>\n",
       "            <td class=\"value\">False</td>\n",
       "        </tr>\n",
       "    \n",
       "\n",
       "        <tr class=\"default\">\n",
       "            <td><i class=\"copy-paste-icon\"\n",
       "                 onclick=\"copyToClipboard('random_state',\n",
       "                          this.parentElement.nextElementSibling)\"\n",
       "            ></i></td>\n",
       "            <td class=\"param\">random_state&nbsp;</td>\n",
       "            <td class=\"value\">None</td>\n",
       "        </tr>\n",
       "    \n",
       "\n",
       "        <tr class=\"default\">\n",
       "            <td><i class=\"copy-paste-icon\"\n",
       "                 onclick=\"copyToClipboard('selection',\n",
       "                          this.parentElement.nextElementSibling)\"\n",
       "            ></i></td>\n",
       "            <td class=\"param\">selection&nbsp;</td>\n",
       "            <td class=\"value\">&#x27;cyclic&#x27;</td>\n",
       "        </tr>\n",
       "    \n",
       "                  </tbody>\n",
       "                </table>\n",
       "            </details>\n",
       "        </div>\n",
       "    </div></div></div></div></div><script>function copyToClipboard(text, element) {\n",
       "    // Get the parameter prefix from the closest toggleable content\n",
       "    const toggleableContent = element.closest('.sk-toggleable__content');\n",
       "    const paramPrefix = toggleableContent ? toggleableContent.dataset.paramPrefix : '';\n",
       "    const fullParamName = paramPrefix ? `${paramPrefix}${text}` : text;\n",
       "\n",
       "    const originalStyle = element.style;\n",
       "    const computedStyle = window.getComputedStyle(element);\n",
       "    const originalWidth = computedStyle.width;\n",
       "    const originalHTML = element.innerHTML.replace('Copied!', '');\n",
       "\n",
       "    navigator.clipboard.writeText(fullParamName)\n",
       "        .then(() => {\n",
       "            element.style.width = originalWidth;\n",
       "            element.style.color = 'green';\n",
       "            element.innerHTML = \"Copied!\";\n",
       "\n",
       "            setTimeout(() => {\n",
       "                element.innerHTML = originalHTML;\n",
       "                element.style = originalStyle;\n",
       "            }, 2000);\n",
       "        })\n",
       "        .catch(err => {\n",
       "            console.error('Failed to copy:', err);\n",
       "            element.style.color = 'red';\n",
       "            element.innerHTML = \"Failed!\";\n",
       "            setTimeout(() => {\n",
       "                element.innerHTML = originalHTML;\n",
       "                element.style = originalStyle;\n",
       "            }, 2000);\n",
       "        });\n",
       "    return false;\n",
       "}\n",
       "\n",
       "document.querySelectorAll('.fa-regular.fa-copy').forEach(function(element) {\n",
       "    const toggleableContent = element.closest('.sk-toggleable__content');\n",
       "    const paramPrefix = toggleableContent ? toggleableContent.dataset.paramPrefix : '';\n",
       "    const paramName = element.parentElement.nextElementSibling.textContent.trim();\n",
       "    const fullParamName = paramPrefix ? `${paramPrefix}${paramName}` : paramName;\n",
       "\n",
       "    element.setAttribute('title', fullParamName);\n",
       "});\n",
       "</script></body>"
      ],
      "text/plain": [
       "LassoCV(alphas=array([1.00000000e-05, 1.17681195e-05, 1.38488637e-05, 1.62975083e-05,\n",
       "       1.91791026e-05, 2.25701972e-05, 2.65608778e-05, 3.12571585e-05,\n",
       "       3.67837977e-05, 4.32876128e-05, 5.09413801e-05, 5.99484250e-05,\n",
       "       7.05480231e-05, 8.30217568e-05, 9.77009957e-05, 1.14975700e-04,\n",
       "       1.35304777e-04, 1.59228279e-04, 1.87381742e-04, 2.20513074e-04,\n",
       "       2.59502421e-04, 3.05385551e-0...\n",
       "       2.36448941e+00, 2.78255940e+00, 3.27454916e+00, 3.85352859e+00,\n",
       "       4.53487851e+00, 5.33669923e+00, 6.28029144e+00, 7.39072203e+00,\n",
       "       8.69749003e+00, 1.02353102e+01, 1.20450354e+01, 1.41747416e+01,\n",
       "       1.66810054e+01, 1.96304065e+01, 2.31012970e+01, 2.71858824e+01,\n",
       "       3.19926714e+01, 3.76493581e+01, 4.43062146e+01, 5.21400829e+01,\n",
       "       6.13590727e+01, 7.22080902e+01, 8.49753436e+01, 1.00000000e+02]),\n",
       "        cv=5, max_iter=10000)"
      ]
     },
     "execution_count": 53,
     "metadata": {},
     "output_type": "execute_result"
    }
   ],
   "source": [
    "lasso_cv_model = LassoCV(alphas=np.logspace(-5, 2, num=100), cv=5, max_iter=10000)\n",
    "# Fit the LassoCV model to the data\n",
    "lasso_cv_model.fit(X, y)"
   ]
  },
  {
   "cell_type": "code",
   "execution_count": 54,
   "metadata": {
    "colab": {
     "base_uri": "https://localhost:8080/"
    },
    "executionInfo": {
     "elapsed": 376,
     "status": "ok",
     "timestamp": 1721205832489,
     "user": {
      "displayName": "Yong Song",
      "userId": "00576951217859821315"
     },
     "user_tz": -600
    },
    "id": "1gdd3hgtAKUa",
    "outputId": "461acb81-ccee-47d3-c0d4-52d365d5eaa8"
   },
   "outputs": [
    {
     "data": {
      "text/plain": [
       "1e-05"
      ]
     },
     "execution_count": 54,
     "metadata": {},
     "output_type": "execute_result"
    }
   ],
   "source": [
    "lasso_cv_model.alpha_"
   ]
  },
  {
   "cell_type": "code",
   "execution_count": 55,
   "metadata": {
    "colab": {
     "base_uri": "https://localhost:8080/",
     "height": 542
    },
    "executionInfo": {
     "elapsed": 423,
     "status": "ok",
     "timestamp": 1721205841938,
     "user": {
      "displayName": "Yong Song",
      "userId": "00576951217859821315"
     },
     "user_tz": -600
    },
    "id": "0oweHNesApCx",
    "outputId": "506aeaee-add6-4cf0-91c2-5f01032c1499"
   },
   "outputs": [
    {
     "data": {
      "application/vnd.plotly.v1+json": {
       "config": {
        "plotlyServerURL": "https://plot.ly"
       },
       "data": [
        {
         "error_y": {
          "array": {
           "bdata": "EFJE4CdrtT8QUkTgJ2u1PxBSROAna7U/EFJE4CdrtT8QUkTgJ2u1PxBSROAna7U/EFJE4CdrtT8QUkTgJ2u1PxBSROAna7U/EFJE4CdrtT8QUkTgJ2u1PxBSROAna7U/EFJE4CdrtT8QUkTgJ2u1PxBSROAna7U/EFJE4CdrtT8QUkTgJ2u1PxBSROAna7U/EFJE4CdrtT8QUkTgJ2u1PxBSROAna7U/EFJE4CdrtT8QUkTgJ2u1PxBSROAna7U/EFJE4CdrtT8QUkTgJ2u1PxBSROAna7U/EFJE4CdrtT8QUkTgJ2u1PxBSROAna7U/EFJE4CdrtT8QUkTgJ2u1PxBSROAna7U/EFJE4CdrtT/VrOPswNy1PxHmrBgRkrU/cpSjsWwmtT/JqZGpMuO1P3OJrW13ZbQ/zgbJIZQ3sz/Mflm90UyyP+/ruUodmbE/71roxpIesT/uevdtyLqwP9jfpwJkUrA/vqm6Ie3xrz+APlcCvGqvP7pSX8AsIa8/ClZoo5h7rj+hqebNFvatP4zrd0oYfq0/WbFbAi82rT/iwUMF3vusPwS2s3im3Kw/Dcbtyl2mrD+fI4EcQnmsP8Q7DXCmU6w/khGJ50M0rD9+98vktBmsP7Qthtj5Cqw/1nRNGvPxqz9FQi7wu9urPx440H6EyKs/7CmKDgu4qz8+sH9ufKmrP4w80zIAn6s/VhZz2qSTqz9VYKfKtoqrP1h9cbVUeqs/HBSQ96p5qz8dKIOMf3qrP7PODQdKeqs/aX7meDx0qz/1eW8S2XCrP7jeq/eZYas/zBpqMGJQqz9eu1EXQEWrPxerYiyPPKs/a4Q6qyg1qz+8NFjqtzCrP2JCwiWAKqs/hInH98gjqz8CbvtAFh6rPwc2qXs/Gas/OBgvfiMVqz+0aA0gphGrP6g6O0avDqs/7MhiwioMqz/w1h1OBwqrPzKBSC42CKs/Pr5EEasGqz+O2zB3WwWrP9NfCjk+BKs/zjI28UsDqz8z6qsZfgKrP5rSMCjPAas/eGstjzoBqz+HYKtDvACrP0cLLvpQAKs/6utlzfX/qj8=",
           "dtype": "f8"
          },
          "type": "data"
         },
         "hovertemplate": "alpha=%{x}<br>mse=%{y}<extra></extra>",
         "legendgroup": "",
         "line": {
          "color": "#636efa",
          "dash": "solid"
         },
         "marker": {
          "symbol": "circle"
         },
         "mode": "lines",
         "name": "",
         "orientation": "v",
         "showlegend": false,
         "type": "scatter",
         "x": {
          "bdata": "AAAAAAAAWUAMSIYHbD5VQImRfVlRDVJAhv1oGPatTkBxKF487hFKQJ1kCgoyJ0ZAppBIKh7TQkCrEiC2H/4/QOdHov2VLztAKMGpme4ZN0BUagZSYqEzQJIkOV5WrjBAfOkdvHdZLEC/jVrhDhcoQJf0vZR6eCRAonCnaR1lIUB/R89vGZAdQGsbQLgEHxlARnrqrsdYFUBs+w4xtyMSQC2AocwG1A5AzqHd1EYyCkBdQf2ArkIGQPVm2Gx56gJAbnygwOgSAECPAnoCUVH7P2TFuzyYNvc/eySugL258z+xGFC8CMPwP5KNzFikfOw/Eg6PlPI06D/5GrCj4JHkP5I/JY+yeuE/588Ldse03T8QaNnsLz7ZP5TNXwpEc9U//bTR0jg60j/4iXi7RvrOP7SwaI/HUso/oNxXEk1exj/sWhmq8QHDP3YDQEbaJsA/jVcc4TVzuz9uiuJvZVO3P7JBj+c20rM/kB1JyNTXsD+HNteZ/J+sP6LEg137Uqg/oC/7NWarpD87ouR7YpChP7Zp1v6i2Z0/UROMzYFdmT9dy3lC4Y2VP7KWQGHWUJI/lWOHH7Ygjz+aucqdcHOKP4ZaaugNeoY/vBIABocZgz/0THyK5DqAP2FHds1ElXs/mtY9X1Zwdz+DYSiszupzP7CpAKK67HA/QttjtYDDbD8Y8jtqKXFoP1youHILxWQ/TysfUS2mYT98XKZCrP5dP8iJU4r6fFk/VFX+f5+oVT+sQAH/j2dSP4gKsDNVR08/QOkMMkKUSj/tXrkt8ZVGP/nQraQ5MUM/NvAIrAdPQD/MP7X7fbc7PzcvJDdrjTc/0Kgm9IQDND+ju3ppugExP92h2+Ew5yw/9+3z6HyPKD8RfjKB0N4kP7imNzATvCE/IP84euMjHj9WwGZTmpwZP8/j5et+wxU/AVDkzmV+Ej8Nix0zJG4PPymBdn48tQo/u07+DPexBj9MrHCqCUkDPyacv8lDYwA/jmtHoOHZ+z6mHCMkpKr3PpP7ZeVZHPQ++ArjPtQW8T7JMutVDQvtPpxtIQj2reg+8WjjiLX45D4=",
          "dtype": "f8"
         },
         "xaxis": "x",
         "y": {
          "bdata": "IhxSMaGl8D8iHFIxoaXwPyIcUjGhpfA/IhxSMaGl8D8iHFIxoaXwPyIcUjGhpfA/IhxSMaGl8D8iHFIxoaXwPyIcUjGhpfA/IhxSMaGl8D8iHFIxoaXwPyIcUjGhpfA/IhxSMaGl8D8iHFIxoaXwPyIcUjGhpfA/IhxSMaGl8D8iHFIxoaXwPyIcUjGhpfA/IhxSMaGl8D8iHFIxoaXwPyIcUjGhpfA/IhxSMaGl8D8iHFIxoaXwPyIcUjGhpfA/IhxSMaGl8D8iHFIxoaXwPyIcUjGhpfA/IhxSMaGl8D8iHFIxoaXwPyIcUjGhpfA/IhxSMaGl8D8iHFIxoaXwPyIcUjGhpfA/IhxSMaGl8D/stlePS5vwP/p5bQ0fW+8/VS4s1q0A7j/7hSDO0k7sP3LZ1sCBpuo/qHfGtTx06T+2UnlSMJfoP/Avw1up9+c/Tsam/Ntm5z+0fZ43vVrmP+PxombWleU//lA+dEHr5D+1Z3ifT1TkPxMWvzglUuM/oMdBxzRi4j8GaEi0/LThP5KdnhnxWOE/+uPVW1kd4T/O5kj8VfLgP/B+yAstzOA/pbMb9Oem4D/uJx3sAIzgP1om50KXeOA/KVHzaZNq4D/vUQYJdGDgP/3LSRuzVeA/fAB+fFw+4D+sUBV6fiXgP167AKaIE+A/j/MfzpYG4D9Otkla1PrfP3MC9+PU8N8/IOMfbG7q3z9bQbfBtuXfP4Yjc5JQ298/GieA3CnP3z/LO1UnS8bfP1Y/v/8Dv98/tibkSee33z9QZb4Hw6/fPx2oo3wDpt8/mGwt7Uuf3z9KKsCZF5vfP0Z82/QXmN8/uC77aeqV3z/wLcAi9JPfP+qaYhTAkd8/TitWig6Q3z/CugI8047fP7WFlqztjd8/EBWSSEaN3z+m2ZQezIzfP2C4+8NyjN8/U6GxUTGM3z9Yah9IAYzfP0Uwdujdi98/9VUPz8OL3z+j/Ml9sIvfP+YCRx+ii98/m8aiaJeL3z8Sl4dhj4vfP7ZZjFWJi98/zrg7woSL3z+Yi1lGgYvfPx5NGZx+i98/+kBxjXyL3z8=",
          "dtype": "f8"
         },
         "yaxis": "y"
        }
       ],
       "layout": {
        "legend": {
         "tracegroupgap": 0
        },
        "margin": {
         "t": 60
        },
        "template": {
         "data": {
          "bar": [
           {
            "error_x": {
             "color": "#2a3f5f"
            },
            "error_y": {
             "color": "#2a3f5f"
            },
            "marker": {
             "line": {
              "color": "#E5ECF6",
              "width": 0.5
             },
             "pattern": {
              "fillmode": "overlay",
              "size": 10,
              "solidity": 0.2
             }
            },
            "type": "bar"
           }
          ],
          "barpolar": [
           {
            "marker": {
             "line": {
              "color": "#E5ECF6",
              "width": 0.5
             },
             "pattern": {
              "fillmode": "overlay",
              "size": 10,
              "solidity": 0.2
             }
            },
            "type": "barpolar"
           }
          ],
          "carpet": [
           {
            "aaxis": {
             "endlinecolor": "#2a3f5f",
             "gridcolor": "white",
             "linecolor": "white",
             "minorgridcolor": "white",
             "startlinecolor": "#2a3f5f"
            },
            "baxis": {
             "endlinecolor": "#2a3f5f",
             "gridcolor": "white",
             "linecolor": "white",
             "minorgridcolor": "white",
             "startlinecolor": "#2a3f5f"
            },
            "type": "carpet"
           }
          ],
          "choropleth": [
           {
            "colorbar": {
             "outlinewidth": 0,
             "ticks": ""
            },
            "type": "choropleth"
           }
          ],
          "contour": [
           {
            "colorbar": {
             "outlinewidth": 0,
             "ticks": ""
            },
            "colorscale": [
             [
              0,
              "#0d0887"
             ],
             [
              0.1111111111111111,
              "#46039f"
             ],
             [
              0.2222222222222222,
              "#7201a8"
             ],
             [
              0.3333333333333333,
              "#9c179e"
             ],
             [
              0.4444444444444444,
              "#bd3786"
             ],
             [
              0.5555555555555556,
              "#d8576b"
             ],
             [
              0.6666666666666666,
              "#ed7953"
             ],
             [
              0.7777777777777778,
              "#fb9f3a"
             ],
             [
              0.8888888888888888,
              "#fdca26"
             ],
             [
              1,
              "#f0f921"
             ]
            ],
            "type": "contour"
           }
          ],
          "contourcarpet": [
           {
            "colorbar": {
             "outlinewidth": 0,
             "ticks": ""
            },
            "type": "contourcarpet"
           }
          ],
          "heatmap": [
           {
            "colorbar": {
             "outlinewidth": 0,
             "ticks": ""
            },
            "colorscale": [
             [
              0,
              "#0d0887"
             ],
             [
              0.1111111111111111,
              "#46039f"
             ],
             [
              0.2222222222222222,
              "#7201a8"
             ],
             [
              0.3333333333333333,
              "#9c179e"
             ],
             [
              0.4444444444444444,
              "#bd3786"
             ],
             [
              0.5555555555555556,
              "#d8576b"
             ],
             [
              0.6666666666666666,
              "#ed7953"
             ],
             [
              0.7777777777777778,
              "#fb9f3a"
             ],
             [
              0.8888888888888888,
              "#fdca26"
             ],
             [
              1,
              "#f0f921"
             ]
            ],
            "type": "heatmap"
           }
          ],
          "histogram": [
           {
            "marker": {
             "pattern": {
              "fillmode": "overlay",
              "size": 10,
              "solidity": 0.2
             }
            },
            "type": "histogram"
           }
          ],
          "histogram2d": [
           {
            "colorbar": {
             "outlinewidth": 0,
             "ticks": ""
            },
            "colorscale": [
             [
              0,
              "#0d0887"
             ],
             [
              0.1111111111111111,
              "#46039f"
             ],
             [
              0.2222222222222222,
              "#7201a8"
             ],
             [
              0.3333333333333333,
              "#9c179e"
             ],
             [
              0.4444444444444444,
              "#bd3786"
             ],
             [
              0.5555555555555556,
              "#d8576b"
             ],
             [
              0.6666666666666666,
              "#ed7953"
             ],
             [
              0.7777777777777778,
              "#fb9f3a"
             ],
             [
              0.8888888888888888,
              "#fdca26"
             ],
             [
              1,
              "#f0f921"
             ]
            ],
            "type": "histogram2d"
           }
          ],
          "histogram2dcontour": [
           {
            "colorbar": {
             "outlinewidth": 0,
             "ticks": ""
            },
            "colorscale": [
             [
              0,
              "#0d0887"
             ],
             [
              0.1111111111111111,
              "#46039f"
             ],
             [
              0.2222222222222222,
              "#7201a8"
             ],
             [
              0.3333333333333333,
              "#9c179e"
             ],
             [
              0.4444444444444444,
              "#bd3786"
             ],
             [
              0.5555555555555556,
              "#d8576b"
             ],
             [
              0.6666666666666666,
              "#ed7953"
             ],
             [
              0.7777777777777778,
              "#fb9f3a"
             ],
             [
              0.8888888888888888,
              "#fdca26"
             ],
             [
              1,
              "#f0f921"
             ]
            ],
            "type": "histogram2dcontour"
           }
          ],
          "mesh3d": [
           {
            "colorbar": {
             "outlinewidth": 0,
             "ticks": ""
            },
            "type": "mesh3d"
           }
          ],
          "parcoords": [
           {
            "line": {
             "colorbar": {
              "outlinewidth": 0,
              "ticks": ""
             }
            },
            "type": "parcoords"
           }
          ],
          "pie": [
           {
            "automargin": true,
            "type": "pie"
           }
          ],
          "scatter": [
           {
            "fillpattern": {
             "fillmode": "overlay",
             "size": 10,
             "solidity": 0.2
            },
            "type": "scatter"
           }
          ],
          "scatter3d": [
           {
            "line": {
             "colorbar": {
              "outlinewidth": 0,
              "ticks": ""
             }
            },
            "marker": {
             "colorbar": {
              "outlinewidth": 0,
              "ticks": ""
             }
            },
            "type": "scatter3d"
           }
          ],
          "scattercarpet": [
           {
            "marker": {
             "colorbar": {
              "outlinewidth": 0,
              "ticks": ""
             }
            },
            "type": "scattercarpet"
           }
          ],
          "scattergeo": [
           {
            "marker": {
             "colorbar": {
              "outlinewidth": 0,
              "ticks": ""
             }
            },
            "type": "scattergeo"
           }
          ],
          "scattergl": [
           {
            "marker": {
             "colorbar": {
              "outlinewidth": 0,
              "ticks": ""
             }
            },
            "type": "scattergl"
           }
          ],
          "scattermap": [
           {
            "marker": {
             "colorbar": {
              "outlinewidth": 0,
              "ticks": ""
             }
            },
            "type": "scattermap"
           }
          ],
          "scattermapbox": [
           {
            "marker": {
             "colorbar": {
              "outlinewidth": 0,
              "ticks": ""
             }
            },
            "type": "scattermapbox"
           }
          ],
          "scatterpolar": [
           {
            "marker": {
             "colorbar": {
              "outlinewidth": 0,
              "ticks": ""
             }
            },
            "type": "scatterpolar"
           }
          ],
          "scatterpolargl": [
           {
            "marker": {
             "colorbar": {
              "outlinewidth": 0,
              "ticks": ""
             }
            },
            "type": "scatterpolargl"
           }
          ],
          "scatterternary": [
           {
            "marker": {
             "colorbar": {
              "outlinewidth": 0,
              "ticks": ""
             }
            },
            "type": "scatterternary"
           }
          ],
          "surface": [
           {
            "colorbar": {
             "outlinewidth": 0,
             "ticks": ""
            },
            "colorscale": [
             [
              0,
              "#0d0887"
             ],
             [
              0.1111111111111111,
              "#46039f"
             ],
             [
              0.2222222222222222,
              "#7201a8"
             ],
             [
              0.3333333333333333,
              "#9c179e"
             ],
             [
              0.4444444444444444,
              "#bd3786"
             ],
             [
              0.5555555555555556,
              "#d8576b"
             ],
             [
              0.6666666666666666,
              "#ed7953"
             ],
             [
              0.7777777777777778,
              "#fb9f3a"
             ],
             [
              0.8888888888888888,
              "#fdca26"
             ],
             [
              1,
              "#f0f921"
             ]
            ],
            "type": "surface"
           }
          ],
          "table": [
           {
            "cells": {
             "fill": {
              "color": "#EBF0F8"
             },
             "line": {
              "color": "white"
             }
            },
            "header": {
             "fill": {
              "color": "#C8D4E3"
             },
             "line": {
              "color": "white"
             }
            },
            "type": "table"
           }
          ]
         },
         "layout": {
          "annotationdefaults": {
           "arrowcolor": "#2a3f5f",
           "arrowhead": 0,
           "arrowwidth": 1
          },
          "autotypenumbers": "strict",
          "coloraxis": {
           "colorbar": {
            "outlinewidth": 0,
            "ticks": ""
           }
          },
          "colorscale": {
           "diverging": [
            [
             0,
             "#8e0152"
            ],
            [
             0.1,
             "#c51b7d"
            ],
            [
             0.2,
             "#de77ae"
            ],
            [
             0.3,
             "#f1b6da"
            ],
            [
             0.4,
             "#fde0ef"
            ],
            [
             0.5,
             "#f7f7f7"
            ],
            [
             0.6,
             "#e6f5d0"
            ],
            [
             0.7,
             "#b8e186"
            ],
            [
             0.8,
             "#7fbc41"
            ],
            [
             0.9,
             "#4d9221"
            ],
            [
             1,
             "#276419"
            ]
           ],
           "sequential": [
            [
             0,
             "#0d0887"
            ],
            [
             0.1111111111111111,
             "#46039f"
            ],
            [
             0.2222222222222222,
             "#7201a8"
            ],
            [
             0.3333333333333333,
             "#9c179e"
            ],
            [
             0.4444444444444444,
             "#bd3786"
            ],
            [
             0.5555555555555556,
             "#d8576b"
            ],
            [
             0.6666666666666666,
             "#ed7953"
            ],
            [
             0.7777777777777778,
             "#fb9f3a"
            ],
            [
             0.8888888888888888,
             "#fdca26"
            ],
            [
             1,
             "#f0f921"
            ]
           ],
           "sequentialminus": [
            [
             0,
             "#0d0887"
            ],
            [
             0.1111111111111111,
             "#46039f"
            ],
            [
             0.2222222222222222,
             "#7201a8"
            ],
            [
             0.3333333333333333,
             "#9c179e"
            ],
            [
             0.4444444444444444,
             "#bd3786"
            ],
            [
             0.5555555555555556,
             "#d8576b"
            ],
            [
             0.6666666666666666,
             "#ed7953"
            ],
            [
             0.7777777777777778,
             "#fb9f3a"
            ],
            [
             0.8888888888888888,
             "#fdca26"
            ],
            [
             1,
             "#f0f921"
            ]
           ]
          },
          "colorway": [
           "#636efa",
           "#EF553B",
           "#00cc96",
           "#ab63fa",
           "#FFA15A",
           "#19d3f3",
           "#FF6692",
           "#B6E880",
           "#FF97FF",
           "#FECB52"
          ],
          "font": {
           "color": "#2a3f5f"
          },
          "geo": {
           "bgcolor": "white",
           "lakecolor": "white",
           "landcolor": "#E5ECF6",
           "showlakes": true,
           "showland": true,
           "subunitcolor": "white"
          },
          "hoverlabel": {
           "align": "left"
          },
          "hovermode": "closest",
          "mapbox": {
           "style": "light"
          },
          "paper_bgcolor": "white",
          "plot_bgcolor": "#E5ECF6",
          "polar": {
           "angularaxis": {
            "gridcolor": "white",
            "linecolor": "white",
            "ticks": ""
           },
           "bgcolor": "#E5ECF6",
           "radialaxis": {
            "gridcolor": "white",
            "linecolor": "white",
            "ticks": ""
           }
          },
          "scene": {
           "xaxis": {
            "backgroundcolor": "#E5ECF6",
            "gridcolor": "white",
            "gridwidth": 2,
            "linecolor": "white",
            "showbackground": true,
            "ticks": "",
            "zerolinecolor": "white"
           },
           "yaxis": {
            "backgroundcolor": "#E5ECF6",
            "gridcolor": "white",
            "gridwidth": 2,
            "linecolor": "white",
            "showbackground": true,
            "ticks": "",
            "zerolinecolor": "white"
           },
           "zaxis": {
            "backgroundcolor": "#E5ECF6",
            "gridcolor": "white",
            "gridwidth": 2,
            "linecolor": "white",
            "showbackground": true,
            "ticks": "",
            "zerolinecolor": "white"
           }
          },
          "shapedefaults": {
           "line": {
            "color": "#2a3f5f"
           }
          },
          "ternary": {
           "aaxis": {
            "gridcolor": "white",
            "linecolor": "white",
            "ticks": ""
           },
           "baxis": {
            "gridcolor": "white",
            "linecolor": "white",
            "ticks": ""
           },
           "bgcolor": "#E5ECF6",
           "caxis": {
            "gridcolor": "white",
            "linecolor": "white",
            "ticks": ""
           }
          },
          "title": {
           "x": 0.05
          },
          "xaxis": {
           "automargin": true,
           "gridcolor": "white",
           "linecolor": "white",
           "ticks": "",
           "title": {
            "standoff": 15
           },
           "zerolinecolor": "white",
           "zerolinewidth": 2
          },
          "yaxis": {
           "automargin": true,
           "gridcolor": "white",
           "linecolor": "white",
           "ticks": "",
           "title": {
            "standoff": 15
           },
           "zerolinecolor": "white",
           "zerolinewidth": 2
          }
         }
        },
        "title": {
         "text": "Lasso Cross-Validation Results"
        },
        "xaxis": {
         "anchor": "y",
         "domain": [
          0,
          1
         ],
         "title": {
          "text": "Alpha"
         },
         "type": "log"
        },
        "yaxis": {
         "anchor": "x",
         "domain": [
          0,
          1
         ],
         "title": {
          "text": "Mean Squared Error"
         }
        }
       }
      }
     },
     "metadata": {},
     "output_type": "display_data"
    }
   ],
   "source": [
    "cv_results = pd.DataFrame({'alpha': lasso_cv_model.alphas_,\n",
    "                           'mse': np.mean(lasso_cv_model.mse_path_, axis=1),\n",
    "                           'std_error': np.std(lasso_cv_model.mse_path_, axis=1)})\n",
    "\n",
    "fig = px.line(cv_results, x='alpha', y='mse')\n",
    "fig.update_layout(title='Lasso Cross-Validation Results',\n",
    "                  xaxis_title='Alpha',\n",
    "                  xaxis_type='log',\n",
    "                  yaxis_title='Mean Squared Error')\n",
    "fig.update_traces(error_y=dict(type='data', array=cv_results['std_error']))\n",
    "\n",
    "\n",
    "fig.show()"
   ]
  },
  {
   "cell_type": "markdown",
   "metadata": {
    "id": "QIRqmF2oBCVk"
   },
   "source": [
    "## Best LASSO"
   ]
  },
  {
   "cell_type": "code",
   "execution_count": 57,
   "metadata": {
    "colab": {
     "base_uri": "https://localhost:8080/",
     "height": 163
    },
    "executionInfo": {
     "elapsed": 924,
     "status": "ok",
     "timestamp": 1721205851516,
     "user": {
      "displayName": "Yong Song",
      "userId": "00576951217859821315"
     },
     "user_tz": -600
    },
    "id": "V4uM8EQhBBPm",
    "outputId": "44d9e053-9814-4292-c1f9-0c2d8b5f0e85"
   },
   "outputs": [
    {
     "data": {
      "text/html": [
       "<style>#sk-container-id-9 {\n",
       "  /* Definition of color scheme common for light and dark mode */\n",
       "  --sklearn-color-text: #000;\n",
       "  --sklearn-color-text-muted: #666;\n",
       "  --sklearn-color-line: gray;\n",
       "  /* Definition of color scheme for unfitted estimators */\n",
       "  --sklearn-color-unfitted-level-0: #fff5e6;\n",
       "  --sklearn-color-unfitted-level-1: #f6e4d2;\n",
       "  --sklearn-color-unfitted-level-2: #ffe0b3;\n",
       "  --sklearn-color-unfitted-level-3: chocolate;\n",
       "  /* Definition of color scheme for fitted estimators */\n",
       "  --sklearn-color-fitted-level-0: #f0f8ff;\n",
       "  --sklearn-color-fitted-level-1: #d4ebff;\n",
       "  --sklearn-color-fitted-level-2: #b3dbfd;\n",
       "  --sklearn-color-fitted-level-3: cornflowerblue;\n",
       "\n",
       "  /* Specific color for light theme */\n",
       "  --sklearn-color-text-on-default-background: var(--sg-text-color, var(--theme-code-foreground, var(--jp-content-font-color1, black)));\n",
       "  --sklearn-color-background: var(--sg-background-color, var(--theme-background, var(--jp-layout-color0, white)));\n",
       "  --sklearn-color-border-box: var(--sg-text-color, var(--theme-code-foreground, var(--jp-content-font-color1, black)));\n",
       "  --sklearn-color-icon: #696969;\n",
       "\n",
       "  @media (prefers-color-scheme: dark) {\n",
       "    /* Redefinition of color scheme for dark theme */\n",
       "    --sklearn-color-text-on-default-background: var(--sg-text-color, var(--theme-code-foreground, var(--jp-content-font-color1, white)));\n",
       "    --sklearn-color-background: var(--sg-background-color, var(--theme-background, var(--jp-layout-color0, #111)));\n",
       "    --sklearn-color-border-box: var(--sg-text-color, var(--theme-code-foreground, var(--jp-content-font-color1, white)));\n",
       "    --sklearn-color-icon: #878787;\n",
       "  }\n",
       "}\n",
       "\n",
       "#sk-container-id-9 {\n",
       "  color: var(--sklearn-color-text);\n",
       "}\n",
       "\n",
       "#sk-container-id-9 pre {\n",
       "  padding: 0;\n",
       "}\n",
       "\n",
       "#sk-container-id-9 input.sk-hidden--visually {\n",
       "  border: 0;\n",
       "  clip: rect(1px 1px 1px 1px);\n",
       "  clip: rect(1px, 1px, 1px, 1px);\n",
       "  height: 1px;\n",
       "  margin: -1px;\n",
       "  overflow: hidden;\n",
       "  padding: 0;\n",
       "  position: absolute;\n",
       "  width: 1px;\n",
       "}\n",
       "\n",
       "#sk-container-id-9 div.sk-dashed-wrapped {\n",
       "  border: 1px dashed var(--sklearn-color-line);\n",
       "  margin: 0 0.4em 0.5em 0.4em;\n",
       "  box-sizing: border-box;\n",
       "  padding-bottom: 0.4em;\n",
       "  background-color: var(--sklearn-color-background);\n",
       "}\n",
       "\n",
       "#sk-container-id-9 div.sk-container {\n",
       "  /* jupyter's `normalize.less` sets `[hidden] { display: none; }`\n",
       "     but bootstrap.min.css set `[hidden] { display: none !important; }`\n",
       "     so we also need the `!important` here to be able to override the\n",
       "     default hidden behavior on the sphinx rendered scikit-learn.org.\n",
       "     See: https://github.com/scikit-learn/scikit-learn/issues/21755 */\n",
       "  display: inline-block !important;\n",
       "  position: relative;\n",
       "}\n",
       "\n",
       "#sk-container-id-9 div.sk-text-repr-fallback {\n",
       "  display: none;\n",
       "}\n",
       "\n",
       "div.sk-parallel-item,\n",
       "div.sk-serial,\n",
       "div.sk-item {\n",
       "  /* draw centered vertical line to link estimators */\n",
       "  background-image: linear-gradient(var(--sklearn-color-text-on-default-background), var(--sklearn-color-text-on-default-background));\n",
       "  background-size: 2px 100%;\n",
       "  background-repeat: no-repeat;\n",
       "  background-position: center center;\n",
       "}\n",
       "\n",
       "/* Parallel-specific style estimator block */\n",
       "\n",
       "#sk-container-id-9 div.sk-parallel-item::after {\n",
       "  content: \"\";\n",
       "  width: 100%;\n",
       "  border-bottom: 2px solid var(--sklearn-color-text-on-default-background);\n",
       "  flex-grow: 1;\n",
       "}\n",
       "\n",
       "#sk-container-id-9 div.sk-parallel {\n",
       "  display: flex;\n",
       "  align-items: stretch;\n",
       "  justify-content: center;\n",
       "  background-color: var(--sklearn-color-background);\n",
       "  position: relative;\n",
       "}\n",
       "\n",
       "#sk-container-id-9 div.sk-parallel-item {\n",
       "  display: flex;\n",
       "  flex-direction: column;\n",
       "}\n",
       "\n",
       "#sk-container-id-9 div.sk-parallel-item:first-child::after {\n",
       "  align-self: flex-end;\n",
       "  width: 50%;\n",
       "}\n",
       "\n",
       "#sk-container-id-9 div.sk-parallel-item:last-child::after {\n",
       "  align-self: flex-start;\n",
       "  width: 50%;\n",
       "}\n",
       "\n",
       "#sk-container-id-9 div.sk-parallel-item:only-child::after {\n",
       "  width: 0;\n",
       "}\n",
       "\n",
       "/* Serial-specific style estimator block */\n",
       "\n",
       "#sk-container-id-9 div.sk-serial {\n",
       "  display: flex;\n",
       "  flex-direction: column;\n",
       "  align-items: center;\n",
       "  background-color: var(--sklearn-color-background);\n",
       "  padding-right: 1em;\n",
       "  padding-left: 1em;\n",
       "}\n",
       "\n",
       "\n",
       "/* Toggleable style: style used for estimator/Pipeline/ColumnTransformer box that is\n",
       "clickable and can be expanded/collapsed.\n",
       "- Pipeline and ColumnTransformer use this feature and define the default style\n",
       "- Estimators will overwrite some part of the style using the `sk-estimator` class\n",
       "*/\n",
       "\n",
       "/* Pipeline and ColumnTransformer style (default) */\n",
       "\n",
       "#sk-container-id-9 div.sk-toggleable {\n",
       "  /* Default theme specific background. It is overwritten whether we have a\n",
       "  specific estimator or a Pipeline/ColumnTransformer */\n",
       "  background-color: var(--sklearn-color-background);\n",
       "}\n",
       "\n",
       "/* Toggleable label */\n",
       "#sk-container-id-9 label.sk-toggleable__label {\n",
       "  cursor: pointer;\n",
       "  display: flex;\n",
       "  width: 100%;\n",
       "  margin-bottom: 0;\n",
       "  padding: 0.5em;\n",
       "  box-sizing: border-box;\n",
       "  text-align: center;\n",
       "  align-items: start;\n",
       "  justify-content: space-between;\n",
       "  gap: 0.5em;\n",
       "}\n",
       "\n",
       "#sk-container-id-9 label.sk-toggleable__label .caption {\n",
       "  font-size: 0.6rem;\n",
       "  font-weight: lighter;\n",
       "  color: var(--sklearn-color-text-muted);\n",
       "}\n",
       "\n",
       "#sk-container-id-9 label.sk-toggleable__label-arrow:before {\n",
       "  /* Arrow on the left of the label */\n",
       "  content: \"▸\";\n",
       "  float: left;\n",
       "  margin-right: 0.25em;\n",
       "  color: var(--sklearn-color-icon);\n",
       "}\n",
       "\n",
       "#sk-container-id-9 label.sk-toggleable__label-arrow:hover:before {\n",
       "  color: var(--sklearn-color-text);\n",
       "}\n",
       "\n",
       "/* Toggleable content - dropdown */\n",
       "\n",
       "#sk-container-id-9 div.sk-toggleable__content {\n",
       "  display: none;\n",
       "  text-align: left;\n",
       "  /* unfitted */\n",
       "  background-color: var(--sklearn-color-unfitted-level-0);\n",
       "}\n",
       "\n",
       "#sk-container-id-9 div.sk-toggleable__content.fitted {\n",
       "  /* fitted */\n",
       "  background-color: var(--sklearn-color-fitted-level-0);\n",
       "}\n",
       "\n",
       "#sk-container-id-9 div.sk-toggleable__content pre {\n",
       "  margin: 0.2em;\n",
       "  border-radius: 0.25em;\n",
       "  color: var(--sklearn-color-text);\n",
       "  /* unfitted */\n",
       "  background-color: var(--sklearn-color-unfitted-level-0);\n",
       "}\n",
       "\n",
       "#sk-container-id-9 div.sk-toggleable__content.fitted pre {\n",
       "  /* unfitted */\n",
       "  background-color: var(--sklearn-color-fitted-level-0);\n",
       "}\n",
       "\n",
       "#sk-container-id-9 input.sk-toggleable__control:checked~div.sk-toggleable__content {\n",
       "  /* Expand drop-down */\n",
       "  display: block;\n",
       "  width: 100%;\n",
       "  overflow: visible;\n",
       "}\n",
       "\n",
       "#sk-container-id-9 input.sk-toggleable__control:checked~label.sk-toggleable__label-arrow:before {\n",
       "  content: \"▾\";\n",
       "}\n",
       "\n",
       "/* Pipeline/ColumnTransformer-specific style */\n",
       "\n",
       "#sk-container-id-9 div.sk-label input.sk-toggleable__control:checked~label.sk-toggleable__label {\n",
       "  color: var(--sklearn-color-text);\n",
       "  background-color: var(--sklearn-color-unfitted-level-2);\n",
       "}\n",
       "\n",
       "#sk-container-id-9 div.sk-label.fitted input.sk-toggleable__control:checked~label.sk-toggleable__label {\n",
       "  background-color: var(--sklearn-color-fitted-level-2);\n",
       "}\n",
       "\n",
       "/* Estimator-specific style */\n",
       "\n",
       "/* Colorize estimator box */\n",
       "#sk-container-id-9 div.sk-estimator input.sk-toggleable__control:checked~label.sk-toggleable__label {\n",
       "  /* unfitted */\n",
       "  background-color: var(--sklearn-color-unfitted-level-2);\n",
       "}\n",
       "\n",
       "#sk-container-id-9 div.sk-estimator.fitted input.sk-toggleable__control:checked~label.sk-toggleable__label {\n",
       "  /* fitted */\n",
       "  background-color: var(--sklearn-color-fitted-level-2);\n",
       "}\n",
       "\n",
       "#sk-container-id-9 div.sk-label label.sk-toggleable__label,\n",
       "#sk-container-id-9 div.sk-label label {\n",
       "  /* The background is the default theme color */\n",
       "  color: var(--sklearn-color-text-on-default-background);\n",
       "}\n",
       "\n",
       "/* On hover, darken the color of the background */\n",
       "#sk-container-id-9 div.sk-label:hover label.sk-toggleable__label {\n",
       "  color: var(--sklearn-color-text);\n",
       "  background-color: var(--sklearn-color-unfitted-level-2);\n",
       "}\n",
       "\n",
       "/* Label box, darken color on hover, fitted */\n",
       "#sk-container-id-9 div.sk-label.fitted:hover label.sk-toggleable__label.fitted {\n",
       "  color: var(--sklearn-color-text);\n",
       "  background-color: var(--sklearn-color-fitted-level-2);\n",
       "}\n",
       "\n",
       "/* Estimator label */\n",
       "\n",
       "#sk-container-id-9 div.sk-label label {\n",
       "  font-family: monospace;\n",
       "  font-weight: bold;\n",
       "  display: inline-block;\n",
       "  line-height: 1.2em;\n",
       "}\n",
       "\n",
       "#sk-container-id-9 div.sk-label-container {\n",
       "  text-align: center;\n",
       "}\n",
       "\n",
       "/* Estimator-specific */\n",
       "#sk-container-id-9 div.sk-estimator {\n",
       "  font-family: monospace;\n",
       "  border: 1px dotted var(--sklearn-color-border-box);\n",
       "  border-radius: 0.25em;\n",
       "  box-sizing: border-box;\n",
       "  margin-bottom: 0.5em;\n",
       "  /* unfitted */\n",
       "  background-color: var(--sklearn-color-unfitted-level-0);\n",
       "}\n",
       "\n",
       "#sk-container-id-9 div.sk-estimator.fitted {\n",
       "  /* fitted */\n",
       "  background-color: var(--sklearn-color-fitted-level-0);\n",
       "}\n",
       "\n",
       "/* on hover */\n",
       "#sk-container-id-9 div.sk-estimator:hover {\n",
       "  /* unfitted */\n",
       "  background-color: var(--sklearn-color-unfitted-level-2);\n",
       "}\n",
       "\n",
       "#sk-container-id-9 div.sk-estimator.fitted:hover {\n",
       "  /* fitted */\n",
       "  background-color: var(--sklearn-color-fitted-level-2);\n",
       "}\n",
       "\n",
       "/* Specification for estimator info (e.g. \"i\" and \"?\") */\n",
       "\n",
       "/* Common style for \"i\" and \"?\" */\n",
       "\n",
       ".sk-estimator-doc-link,\n",
       "a:link.sk-estimator-doc-link,\n",
       "a:visited.sk-estimator-doc-link {\n",
       "  float: right;\n",
       "  font-size: smaller;\n",
       "  line-height: 1em;\n",
       "  font-family: monospace;\n",
       "  background-color: var(--sklearn-color-background);\n",
       "  border-radius: 1em;\n",
       "  height: 1em;\n",
       "  width: 1em;\n",
       "  text-decoration: none !important;\n",
       "  margin-left: 0.5em;\n",
       "  text-align: center;\n",
       "  /* unfitted */\n",
       "  border: var(--sklearn-color-unfitted-level-1) 1pt solid;\n",
       "  color: var(--sklearn-color-unfitted-level-1);\n",
       "}\n",
       "\n",
       ".sk-estimator-doc-link.fitted,\n",
       "a:link.sk-estimator-doc-link.fitted,\n",
       "a:visited.sk-estimator-doc-link.fitted {\n",
       "  /* fitted */\n",
       "  border: var(--sklearn-color-fitted-level-1) 1pt solid;\n",
       "  color: var(--sklearn-color-fitted-level-1);\n",
       "}\n",
       "\n",
       "/* On hover */\n",
       "div.sk-estimator:hover .sk-estimator-doc-link:hover,\n",
       ".sk-estimator-doc-link:hover,\n",
       "div.sk-label-container:hover .sk-estimator-doc-link:hover,\n",
       ".sk-estimator-doc-link:hover {\n",
       "  /* unfitted */\n",
       "  background-color: var(--sklearn-color-unfitted-level-3);\n",
       "  color: var(--sklearn-color-background);\n",
       "  text-decoration: none;\n",
       "}\n",
       "\n",
       "div.sk-estimator.fitted:hover .sk-estimator-doc-link.fitted:hover,\n",
       ".sk-estimator-doc-link.fitted:hover,\n",
       "div.sk-label-container:hover .sk-estimator-doc-link.fitted:hover,\n",
       ".sk-estimator-doc-link.fitted:hover {\n",
       "  /* fitted */\n",
       "  background-color: var(--sklearn-color-fitted-level-3);\n",
       "  color: var(--sklearn-color-background);\n",
       "  text-decoration: none;\n",
       "}\n",
       "\n",
       "/* Span, style for the box shown on hovering the info icon */\n",
       ".sk-estimator-doc-link span {\n",
       "  display: none;\n",
       "  z-index: 9999;\n",
       "  position: relative;\n",
       "  font-weight: normal;\n",
       "  right: .2ex;\n",
       "  padding: .5ex;\n",
       "  margin: .5ex;\n",
       "  width: min-content;\n",
       "  min-width: 20ex;\n",
       "  max-width: 50ex;\n",
       "  color: var(--sklearn-color-text);\n",
       "  box-shadow: 2pt 2pt 4pt #999;\n",
       "  /* unfitted */\n",
       "  background: var(--sklearn-color-unfitted-level-0);\n",
       "  border: .5pt solid var(--sklearn-color-unfitted-level-3);\n",
       "}\n",
       "\n",
       ".sk-estimator-doc-link.fitted span {\n",
       "  /* fitted */\n",
       "  background: var(--sklearn-color-fitted-level-0);\n",
       "  border: var(--sklearn-color-fitted-level-3);\n",
       "}\n",
       "\n",
       ".sk-estimator-doc-link:hover span {\n",
       "  display: block;\n",
       "}\n",
       "\n",
       "/* \"?\"-specific style due to the `<a>` HTML tag */\n",
       "\n",
       "#sk-container-id-9 a.estimator_doc_link {\n",
       "  float: right;\n",
       "  font-size: 1rem;\n",
       "  line-height: 1em;\n",
       "  font-family: monospace;\n",
       "  background-color: var(--sklearn-color-background);\n",
       "  border-radius: 1rem;\n",
       "  height: 1rem;\n",
       "  width: 1rem;\n",
       "  text-decoration: none;\n",
       "  /* unfitted */\n",
       "  color: var(--sklearn-color-unfitted-level-1);\n",
       "  border: var(--sklearn-color-unfitted-level-1) 1pt solid;\n",
       "}\n",
       "\n",
       "#sk-container-id-9 a.estimator_doc_link.fitted {\n",
       "  /* fitted */\n",
       "  border: var(--sklearn-color-fitted-level-1) 1pt solid;\n",
       "  color: var(--sklearn-color-fitted-level-1);\n",
       "}\n",
       "\n",
       "/* On hover */\n",
       "#sk-container-id-9 a.estimator_doc_link:hover {\n",
       "  /* unfitted */\n",
       "  background-color: var(--sklearn-color-unfitted-level-3);\n",
       "  color: var(--sklearn-color-background);\n",
       "  text-decoration: none;\n",
       "}\n",
       "\n",
       "#sk-container-id-9 a.estimator_doc_link.fitted:hover {\n",
       "  /* fitted */\n",
       "  background-color: var(--sklearn-color-fitted-level-3);\n",
       "}\n",
       "\n",
       ".estimator-table summary {\n",
       "    padding: .5rem;\n",
       "    font-family: monospace;\n",
       "    cursor: pointer;\n",
       "}\n",
       "\n",
       ".estimator-table details[open] {\n",
       "    padding-left: 0.1rem;\n",
       "    padding-right: 0.1rem;\n",
       "    padding-bottom: 0.3rem;\n",
       "}\n",
       "\n",
       ".estimator-table .parameters-table {\n",
       "    margin-left: auto !important;\n",
       "    margin-right: auto !important;\n",
       "}\n",
       "\n",
       ".estimator-table .parameters-table tr:nth-child(odd) {\n",
       "    background-color: #fff;\n",
       "}\n",
       "\n",
       ".estimator-table .parameters-table tr:nth-child(even) {\n",
       "    background-color: #f6f6f6;\n",
       "}\n",
       "\n",
       ".estimator-table .parameters-table tr:hover {\n",
       "    background-color: #e0e0e0;\n",
       "}\n",
       "\n",
       ".estimator-table table td {\n",
       "    border: 1px solid rgba(106, 105, 104, 0.232);\n",
       "}\n",
       "\n",
       ".user-set td {\n",
       "    color:rgb(255, 94, 0);\n",
       "    text-align: left;\n",
       "}\n",
       "\n",
       ".user-set td.value pre {\n",
       "    color:rgb(255, 94, 0) !important;\n",
       "    background-color: transparent !important;\n",
       "}\n",
       "\n",
       ".default td {\n",
       "    color: black;\n",
       "    text-align: left;\n",
       "}\n",
       "\n",
       ".user-set td i,\n",
       ".default td i {\n",
       "    color: black;\n",
       "}\n",
       "\n",
       ".copy-paste-icon {\n",
       "    background-image: url(data:image/svg+xml;base64,PHN2ZyB4bWxucz0iaHR0cDovL3d3dy53My5vcmcvMjAwMC9zdmciIHZpZXdCb3g9IjAgMCA0NDggNTEyIj48IS0tIUZvbnQgQXdlc29tZSBGcmVlIDYuNy4yIGJ5IEBmb250YXdlc29tZSAtIGh0dHBzOi8vZm9udGF3ZXNvbWUuY29tIExpY2Vuc2UgLSBodHRwczovL2ZvbnRhd2Vzb21lLmNvbS9saWNlbnNlL2ZyZWUgQ29weXJpZ2h0IDIwMjUgRm9udGljb25zLCBJbmMuLS0+PHBhdGggZD0iTTIwOCAwTDMzMi4xIDBjMTIuNyAwIDI0LjkgNS4xIDMzLjkgMTQuMWw2Ny45IDY3LjljOSA5IDE0LjEgMjEuMiAxNC4xIDMzLjlMNDQ4IDMzNmMwIDI2LjUtMjEuNSA0OC00OCA0OGwtMTkyIDBjLTI2LjUgMC00OC0yMS41LTQ4LTQ4bDAtMjg4YzAtMjYuNSAyMS41LTQ4IDQ4LTQ4ek00OCAxMjhsODAgMCAwIDY0LTY0IDAgMCAyNTYgMTkyIDAgMC0zMiA2NCAwIDAgNDhjMCAyNi41LTIxLjUgNDgtNDggNDhMNDggNTEyYy0yNi41IDAtNDgtMjEuNS00OC00OEwwIDE3NmMwLTI2LjUgMjEuNS00OCA0OC00OHoiLz48L3N2Zz4=);\n",
       "    background-repeat: no-repeat;\n",
       "    background-size: 14px 14px;\n",
       "    background-position: 0;\n",
       "    display: inline-block;\n",
       "    width: 14px;\n",
       "    height: 14px;\n",
       "    cursor: pointer;\n",
       "}\n",
       "</style><body><div id=\"sk-container-id-9\" class=\"sk-top-container\"><div class=\"sk-text-repr-fallback\"><pre>Lasso(alpha=1e-05, max_iter=10000)</pre><b>In a Jupyter environment, please rerun this cell to show the HTML representation or trust the notebook. <br />On GitHub, the HTML representation is unable to render, please try loading this page with nbviewer.org.</b></div><div class=\"sk-container\" hidden><div class=\"sk-item\"><div class=\"sk-estimator fitted sk-toggleable\"><input class=\"sk-toggleable__control sk-hidden--visually\" id=\"sk-estimator-id-9\" type=\"checkbox\" checked><label for=\"sk-estimator-id-9\" class=\"sk-toggleable__label fitted sk-toggleable__label-arrow\"><div><div>Lasso</div></div><div><a class=\"sk-estimator-doc-link fitted\" rel=\"noreferrer\" target=\"_blank\" href=\"https://scikit-learn.org/1.7/modules/generated/sklearn.linear_model.Lasso.html\">?<span>Documentation for Lasso</span></a><span class=\"sk-estimator-doc-link fitted\">i<span>Fitted</span></span></div></label><div class=\"sk-toggleable__content fitted\" data-param-prefix=\"\">\n",
       "        <div class=\"estimator-table\">\n",
       "            <details>\n",
       "                <summary>Parameters</summary>\n",
       "                <table class=\"parameters-table\">\n",
       "                  <tbody>\n",
       "                    \n",
       "        <tr class=\"user-set\">\n",
       "            <td><i class=\"copy-paste-icon\"\n",
       "                 onclick=\"copyToClipboard('alpha',\n",
       "                          this.parentElement.nextElementSibling)\"\n",
       "            ></i></td>\n",
       "            <td class=\"param\">alpha&nbsp;</td>\n",
       "            <td class=\"value\">1e-05</td>\n",
       "        </tr>\n",
       "    \n",
       "\n",
       "        <tr class=\"default\">\n",
       "            <td><i class=\"copy-paste-icon\"\n",
       "                 onclick=\"copyToClipboard('fit_intercept',\n",
       "                          this.parentElement.nextElementSibling)\"\n",
       "            ></i></td>\n",
       "            <td class=\"param\">fit_intercept&nbsp;</td>\n",
       "            <td class=\"value\">True</td>\n",
       "        </tr>\n",
       "    \n",
       "\n",
       "        <tr class=\"default\">\n",
       "            <td><i class=\"copy-paste-icon\"\n",
       "                 onclick=\"copyToClipboard('precompute',\n",
       "                          this.parentElement.nextElementSibling)\"\n",
       "            ></i></td>\n",
       "            <td class=\"param\">precompute&nbsp;</td>\n",
       "            <td class=\"value\">False</td>\n",
       "        </tr>\n",
       "    \n",
       "\n",
       "        <tr class=\"default\">\n",
       "            <td><i class=\"copy-paste-icon\"\n",
       "                 onclick=\"copyToClipboard('copy_X',\n",
       "                          this.parentElement.nextElementSibling)\"\n",
       "            ></i></td>\n",
       "            <td class=\"param\">copy_X&nbsp;</td>\n",
       "            <td class=\"value\">True</td>\n",
       "        </tr>\n",
       "    \n",
       "\n",
       "        <tr class=\"user-set\">\n",
       "            <td><i class=\"copy-paste-icon\"\n",
       "                 onclick=\"copyToClipboard('max_iter',\n",
       "                          this.parentElement.nextElementSibling)\"\n",
       "            ></i></td>\n",
       "            <td class=\"param\">max_iter&nbsp;</td>\n",
       "            <td class=\"value\">10000</td>\n",
       "        </tr>\n",
       "    \n",
       "\n",
       "        <tr class=\"default\">\n",
       "            <td><i class=\"copy-paste-icon\"\n",
       "                 onclick=\"copyToClipboard('tol',\n",
       "                          this.parentElement.nextElementSibling)\"\n",
       "            ></i></td>\n",
       "            <td class=\"param\">tol&nbsp;</td>\n",
       "            <td class=\"value\">0.0001</td>\n",
       "        </tr>\n",
       "    \n",
       "\n",
       "        <tr class=\"default\">\n",
       "            <td><i class=\"copy-paste-icon\"\n",
       "                 onclick=\"copyToClipboard('warm_start',\n",
       "                          this.parentElement.nextElementSibling)\"\n",
       "            ></i></td>\n",
       "            <td class=\"param\">warm_start&nbsp;</td>\n",
       "            <td class=\"value\">False</td>\n",
       "        </tr>\n",
       "    \n",
       "\n",
       "        <tr class=\"default\">\n",
       "            <td><i class=\"copy-paste-icon\"\n",
       "                 onclick=\"copyToClipboard('positive',\n",
       "                          this.parentElement.nextElementSibling)\"\n",
       "            ></i></td>\n",
       "            <td class=\"param\">positive&nbsp;</td>\n",
       "            <td class=\"value\">False</td>\n",
       "        </tr>\n",
       "    \n",
       "\n",
       "        <tr class=\"default\">\n",
       "            <td><i class=\"copy-paste-icon\"\n",
       "                 onclick=\"copyToClipboard('random_state',\n",
       "                          this.parentElement.nextElementSibling)\"\n",
       "            ></i></td>\n",
       "            <td class=\"param\">random_state&nbsp;</td>\n",
       "            <td class=\"value\">None</td>\n",
       "        </tr>\n",
       "    \n",
       "\n",
       "        <tr class=\"default\">\n",
       "            <td><i class=\"copy-paste-icon\"\n",
       "                 onclick=\"copyToClipboard('selection',\n",
       "                          this.parentElement.nextElementSibling)\"\n",
       "            ></i></td>\n",
       "            <td class=\"param\">selection&nbsp;</td>\n",
       "            <td class=\"value\">&#x27;cyclic&#x27;</td>\n",
       "        </tr>\n",
       "    \n",
       "                  </tbody>\n",
       "                </table>\n",
       "            </details>\n",
       "        </div>\n",
       "    </div></div></div></div></div><script>function copyToClipboard(text, element) {\n",
       "    // Get the parameter prefix from the closest toggleable content\n",
       "    const toggleableContent = element.closest('.sk-toggleable__content');\n",
       "    const paramPrefix = toggleableContent ? toggleableContent.dataset.paramPrefix : '';\n",
       "    const fullParamName = paramPrefix ? `${paramPrefix}${text}` : text;\n",
       "\n",
       "    const originalStyle = element.style;\n",
       "    const computedStyle = window.getComputedStyle(element);\n",
       "    const originalWidth = computedStyle.width;\n",
       "    const originalHTML = element.innerHTML.replace('Copied!', '');\n",
       "\n",
       "    navigator.clipboard.writeText(fullParamName)\n",
       "        .then(() => {\n",
       "            element.style.width = originalWidth;\n",
       "            element.style.color = 'green';\n",
       "            element.innerHTML = \"Copied!\";\n",
       "\n",
       "            setTimeout(() => {\n",
       "                element.innerHTML = originalHTML;\n",
       "                element.style = originalStyle;\n",
       "            }, 2000);\n",
       "        })\n",
       "        .catch(err => {\n",
       "            console.error('Failed to copy:', err);\n",
       "            element.style.color = 'red';\n",
       "            element.innerHTML = \"Failed!\";\n",
       "            setTimeout(() => {\n",
       "                element.innerHTML = originalHTML;\n",
       "                element.style = originalStyle;\n",
       "            }, 2000);\n",
       "        });\n",
       "    return false;\n",
       "}\n",
       "\n",
       "document.querySelectorAll('.fa-regular.fa-copy').forEach(function(element) {\n",
       "    const toggleableContent = element.closest('.sk-toggleable__content');\n",
       "    const paramPrefix = toggleableContent ? toggleableContent.dataset.paramPrefix : '';\n",
       "    const paramName = element.parentElement.nextElementSibling.textContent.trim();\n",
       "    const fullParamName = paramPrefix ? `${paramPrefix}${paramName}` : paramName;\n",
       "\n",
       "    element.setAttribute('title', fullParamName);\n",
       "});\n",
       "</script></body>"
      ],
      "text/plain": [
       "Lasso(alpha=1e-05, max_iter=10000)"
      ]
     },
     "execution_count": 57,
     "metadata": {},
     "output_type": "execute_result"
    }
   ],
   "source": [
    "lasso_model = Lasso(alpha=1e-5, max_iter=10000)  # You can adjust the alpha parameter for stronger or weaker regularization\n",
    "\n",
    "lasso_model.fit(X, y)"
   ]
  },
  {
   "cell_type": "code",
   "execution_count": 58,
   "metadata": {
    "colab": {
     "base_uri": "https://localhost:8080/"
    },
    "executionInfo": {
     "elapsed": 378,
     "status": "ok",
     "timestamp": 1721205854286,
     "user": {
      "displayName": "Yong Song",
      "userId": "00576951217859821315"
     },
     "user_tz": -600
    },
    "id": "5eCxLkZABNnO",
    "outputId": "ced18719-0a87-4457-9f03-09390784de3d"
   },
   "outputs": [
    {
     "data": {
      "text/plain": [
       "(array([ 0,  1,  2,  3,  4,  5,  6,  7,  8,  9, 10]),)"
      ]
     },
     "execution_count": 58,
     "metadata": {},
     "output_type": "execute_result"
    }
   ],
   "source": [
    "np.nonzero(lasso_model.coef_)"
   ]
  },
  {
   "cell_type": "code",
   "execution_count": 59,
   "metadata": {
    "colab": {
     "base_uri": "https://localhost:8080/"
    },
    "executionInfo": {
     "elapsed": 378,
     "status": "ok",
     "timestamp": 1721205860024,
     "user": {
      "displayName": "Yong Song",
      "userId": "00576951217859821315"
     },
     "user_tz": -600
    },
    "id": "HjfP_cV7BZBU",
    "outputId": "42c24349-8b8f-4f69-9c9b-b497e30f05e3"
   },
   "outputs": [
    {
     "data": {
      "text/plain": [
       "array([-0.90736507, -0.57648114, -1.55149764,  0.72634244,  0.83615373,\n",
       "        1.67582164,  1.62387594,  0.71884213, -0.48065016, -0.56065251,\n",
       "       -0.24142485])"
      ]
     },
     "execution_count": 59,
     "metadata": {},
     "output_type": "execute_result"
    }
   ],
   "source": [
    "lasso_model.coef_"
   ]
  },
  {
   "cell_type": "code",
   "execution_count": 60,
   "metadata": {
    "colab": {
     "base_uri": "https://localhost:8080/"
    },
    "executionInfo": {
     "elapsed": 2,
     "status": "ok",
     "timestamp": 1721205861516,
     "user": {
      "displayName": "Yong Song",
      "userId": "00576951217859821315"
     },
     "user_tz": -600
    },
    "id": "a1QYcQ4IDp4N",
    "outputId": "efe38b2d-b4f1-400a-f84d-b76a64fef56c"
   },
   "outputs": [
    {
     "data": {
      "text/plain": [
       "11.630286862480695"
      ]
     },
     "execution_count": 60,
     "metadata": {},
     "output_type": "execute_result"
    }
   ],
   "source": [
    "lasso_model.intercept_"
   ]
  }
 ],
 "metadata": {
  "colab": {
   "authorship_tag": "ABX9TyOYa+ySeOUvNQWd8UZve711",
   "provenance": [
    {
     "file_id": "1R1mYsyjBc7zYE2GLEu4cvrHyPypzNWpA",
     "timestamp": 1721193276164
    }
   ],
   "toc_visible": true
  },
  "kernelspec": {
   "display_name": "base",
   "language": "python",
   "name": "python3"
  },
  "language_info": {
   "codemirror_mode": {
    "name": "ipython",
    "version": 3
   },
   "file_extension": ".py",
   "mimetype": "text/x-python",
   "name": "python",
   "nbconvert_exporter": "python",
   "pygments_lexer": "ipython3",
   "version": "3.12.10"
  }
 },
 "nbformat": 4,
 "nbformat_minor": 0
}
