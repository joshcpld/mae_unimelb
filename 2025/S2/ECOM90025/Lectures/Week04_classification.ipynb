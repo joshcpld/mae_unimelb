{
 "cells": [
  {
   "cell_type": "markdown",
   "metadata": {
    "id": "9bJI11-uwizM"
   },
   "source": [
    "# Before lecture\n",
    "\n",
    "- Week 12 [presentation](https://colab.research.google.com/drive/1yH_tohlPh4wC1vz0Wt6OzRsdFSJt-qmh?usp=sharing)\n"
   ]
  },
  {
   "cell_type": "markdown",
   "metadata": {
    "id": "JgFsPCaMCMIj"
   },
   "source": [
    "# House Keeping"
   ]
  },
  {
   "cell_type": "code",
   "execution_count": null,
   "metadata": {
    "id": "Ym_YxAxJALRG"
   },
   "outputs": [],
   "source": [
    "import pandas as pd\n",
    "import numpy as np\n",
    "import matplotlib.pyplot as plt\n",
    "\n",
    "import statsmodels.formula.api as smf\n",
    "import plotly.express as px\n",
    "import plotly.graph_objects as go\n",
    "import statsmodels.api as sm\n",
    "from sklearn.linear_model import LogisticRegression\n",
    "from sklearn.model_selection import cross_val_score\n",
    "from sklearn.metrics import make_scorer\n",
    "from sklearn.model_selection import StratifiedKFold\n",
    "from sklearn.metrics import log_loss\n",
    "import warnings\n",
    "\n",
    "from plotly.subplots import make_subplots\n",
    "import plotly.graph_objects as go\n",
    "\n",
    "from sklearn.model_selection import GridSearchCV\n",
    "from sklearn.pipeline import Pipeline\n",
    "from sklearn.preprocessing import StandardScaler\n",
    "\n",
    "from sklearn import datasets\n",
    "from sklearn.model_selection import train_test_split\n",
    "from sklearn.svm import SVC\n",
    "from sklearn.metrics import accuracy_score, classification_report\n",
    "from sklearn.inspection import DecisionBoundaryDisplay\n",
    "\n",
    "import sy_functions as sy\n",
    "\n",
    "def sy_logit_deviance(y_true, y_pred):\n",
    "    dev = -2 * np.sum(y_true * np.log(y_pred) + (1 - y_true) * np.log(1 - y_pred))\n",
    "    return dev\n"
   ]
  },
  {
   "cell_type": "markdown",
   "metadata": {
    "id": "j7K08yHSNsRH"
   },
   "source": [
    "You may find the function file [here](https://www.dropbox.com/s/zzz9ddc5dfknew9/sy_functions.py?dl=1) and upload it to your google drive."
   ]
  },
  {
   "cell_type": "markdown",
   "metadata": {
    "id": "2mxLtxJn3BFP"
   },
   "source": [
    "# Reading\n",
    "\n",
    "Textbook Page 109-123."
   ]
  },
  {
   "cell_type": "markdown",
   "metadata": {
    "id": "8y8RZ3kQevf2"
   },
   "source": [
    "# Binary Outcome"
   ]
  },
  {
   "cell_type": "markdown",
   "metadata": {
    "id": "nG7PSAuEbubm"
   },
   "source": [
    "## German Credit Data\n",
    "\n",
    "We have some data from a German lender."
   ]
  },
  {
   "cell_type": "code",
   "execution_count": 3,
   "metadata": {
    "colab": {
     "base_uri": "https://localhost:8080/",
     "height": 444
    },
    "executionInfo": {
     "elapsed": 1580,
     "status": "ok",
     "timestamp": 1722994990208,
     "user": {
      "displayName": "Yong Song",
      "userId": "00576951217859821315"
     },
     "user_tz": -600
    },
    "id": "deADXD1KeO6c",
    "outputId": "50bbc826-4e87-47ba-99c6-6a24072db376"
   },
   "outputs": [
    {
     "data": {
      "application/vnd.microsoft.datawrangler.viewer.v0+json": {
       "columns": [
        {
         "name": "index",
         "rawType": "int64",
         "type": "integer"
        },
        {
         "name": "Default",
         "rawType": "int64",
         "type": "integer"
        },
        {
         "name": "checkingstatus1",
         "rawType": "object",
         "type": "string"
        },
        {
         "name": "duration",
         "rawType": "int64",
         "type": "integer"
        },
        {
         "name": "history",
         "rawType": "object",
         "type": "string"
        },
        {
         "name": "purpose",
         "rawType": "object",
         "type": "string"
        },
        {
         "name": "amount",
         "rawType": "int64",
         "type": "integer"
        },
        {
         "name": "savings",
         "rawType": "object",
         "type": "string"
        },
        {
         "name": "employ",
         "rawType": "object",
         "type": "string"
        },
        {
         "name": "installment",
         "rawType": "int64",
         "type": "integer"
        },
        {
         "name": "status",
         "rawType": "object",
         "type": "string"
        },
        {
         "name": "others",
         "rawType": "object",
         "type": "string"
        },
        {
         "name": "residence",
         "rawType": "int64",
         "type": "integer"
        },
        {
         "name": "property",
         "rawType": "object",
         "type": "string"
        },
        {
         "name": "age",
         "rawType": "int64",
         "type": "integer"
        },
        {
         "name": "otherplans",
         "rawType": "object",
         "type": "string"
        },
        {
         "name": "housing",
         "rawType": "object",
         "type": "string"
        },
        {
         "name": "cards",
         "rawType": "int64",
         "type": "integer"
        },
        {
         "name": "job",
         "rawType": "object",
         "type": "string"
        },
        {
         "name": "liable",
         "rawType": "int64",
         "type": "integer"
        },
        {
         "name": "tele",
         "rawType": "object",
         "type": "string"
        },
        {
         "name": "foreign",
         "rawType": "object",
         "type": "string"
        }
       ],
       "ref": "e39ce1c1-27c6-4d4d-ac4a-6db0f11a4596",
       "rows": [
        [
         "0",
         "0",
         "A11",
         "6",
         "A34",
         "A43",
         "1169",
         "A65",
         "A75",
         "4",
         "A93",
         "A101",
         "4",
         "A121",
         "67",
         "A143",
         "A152",
         "2",
         "A173",
         "1",
         "A192",
         "A201"
        ],
        [
         "1",
         "1",
         "A12",
         "48",
         "A32",
         "A43",
         "5951",
         "A61",
         "A73",
         "2",
         "A92",
         "A101",
         "2",
         "A121",
         "22",
         "A143",
         "A152",
         "1",
         "A173",
         "1",
         "A191",
         "A201"
        ],
        [
         "2",
         "0",
         "A14",
         "12",
         "A34",
         "A46",
         "2096",
         "A61",
         "A74",
         "2",
         "A93",
         "A101",
         "3",
         "A121",
         "49",
         "A143",
         "A152",
         "1",
         "A172",
         "2",
         "A191",
         "A201"
        ],
        [
         "3",
         "0",
         "A11",
         "42",
         "A32",
         "A42",
         "7882",
         "A61",
         "A74",
         "2",
         "A93",
         "A103",
         "4",
         "A122",
         "45",
         "A143",
         "A153",
         "1",
         "A173",
         "2",
         "A191",
         "A201"
        ],
        [
         "4",
         "1",
         "A11",
         "24",
         "A33",
         "A40",
         "4870",
         "A61",
         "A73",
         "3",
         "A93",
         "A101",
         "4",
         "A124",
         "53",
         "A143",
         "A153",
         "2",
         "A173",
         "2",
         "A191",
         "A201"
        ],
        [
         "5",
         "0",
         "A14",
         "36",
         "A32",
         "A46",
         "9055",
         "A65",
         "A73",
         "2",
         "A93",
         "A101",
         "4",
         "A124",
         "35",
         "A143",
         "A153",
         "1",
         "A172",
         "2",
         "A192",
         "A201"
        ],
        [
         "6",
         "0",
         "A14",
         "24",
         "A32",
         "A42",
         "2835",
         "A63",
         "A75",
         "3",
         "A93",
         "A101",
         "4",
         "A122",
         "53",
         "A143",
         "A152",
         "1",
         "A173",
         "1",
         "A191",
         "A201"
        ],
        [
         "7",
         "0",
         "A12",
         "36",
         "A32",
         "A41",
         "6948",
         "A61",
         "A73",
         "2",
         "A93",
         "A101",
         "2",
         "A123",
         "35",
         "A143",
         "A151",
         "1",
         "A174",
         "1",
         "A192",
         "A201"
        ],
        [
         "8",
         "0",
         "A14",
         "12",
         "A32",
         "A43",
         "3059",
         "A64",
         "A74",
         "2",
         "A91",
         "A101",
         "4",
         "A121",
         "61",
         "A143",
         "A152",
         "1",
         "A172",
         "1",
         "A191",
         "A201"
        ],
        [
         "9",
         "1",
         "A12",
         "30",
         "A34",
         "A40",
         "5234",
         "A61",
         "A71",
         "4",
         "A94",
         "A101",
         "2",
         "A123",
         "28",
         "A143",
         "A152",
         "2",
         "A174",
         "1",
         "A191",
         "A201"
        ],
        [
         "10",
         "1",
         "A12",
         "12",
         "A32",
         "A40",
         "1295",
         "A61",
         "A72",
         "3",
         "A92",
         "A101",
         "1",
         "A123",
         "25",
         "A143",
         "A151",
         "1",
         "A173",
         "1",
         "A191",
         "A201"
        ],
        [
         "11",
         "1",
         "A11",
         "48",
         "A32",
         "A49",
         "4308",
         "A61",
         "A72",
         "3",
         "A92",
         "A101",
         "4",
         "A122",
         "24",
         "A143",
         "A151",
         "1",
         "A173",
         "1",
         "A191",
         "A201"
        ],
        [
         "12",
         "0",
         "A12",
         "12",
         "A32",
         "A43",
         "1567",
         "A61",
         "A73",
         "1",
         "A92",
         "A101",
         "1",
         "A123",
         "22",
         "A143",
         "A152",
         "1",
         "A173",
         "1",
         "A192",
         "A201"
        ],
        [
         "13",
         "1",
         "A11",
         "24",
         "A34",
         "A40",
         "1199",
         "A61",
         "A75",
         "4",
         "A93",
         "A101",
         "4",
         "A123",
         "60",
         "A143",
         "A152",
         "2",
         "A172",
         "1",
         "A191",
         "A201"
        ],
        [
         "14",
         "0",
         "A11",
         "15",
         "A32",
         "A40",
         "1403",
         "A61",
         "A73",
         "2",
         "A92",
         "A101",
         "4",
         "A123",
         "28",
         "A143",
         "A151",
         "1",
         "A173",
         "1",
         "A191",
         "A201"
        ],
        [
         "15",
         "1",
         "A11",
         "24",
         "A32",
         "A43",
         "1282",
         "A62",
         "A73",
         "4",
         "A92",
         "A101",
         "2",
         "A123",
         "32",
         "A143",
         "A152",
         "1",
         "A172",
         "1",
         "A191",
         "A201"
        ],
        [
         "16",
         "0",
         "A14",
         "24",
         "A34",
         "A43",
         "2424",
         "A65",
         "A75",
         "4",
         "A93",
         "A101",
         "4",
         "A122",
         "53",
         "A143",
         "A152",
         "2",
         "A173",
         "1",
         "A191",
         "A201"
        ],
        [
         "17",
         "0",
         "A11",
         "30",
         "A30",
         "A49",
         "8072",
         "A65",
         "A72",
         "2",
         "A93",
         "A101",
         "3",
         "A123",
         "25",
         "A141",
         "A152",
         "3",
         "A173",
         "1",
         "A191",
         "A201"
        ],
        [
         "18",
         "1",
         "A12",
         "24",
         "A32",
         "A41",
         "12579",
         "A61",
         "A75",
         "4",
         "A92",
         "A101",
         "2",
         "A124",
         "44",
         "A143",
         "A153",
         "1",
         "A174",
         "1",
         "A192",
         "A201"
        ],
        [
         "19",
         "0",
         "A14",
         "24",
         "A32",
         "A43",
         "3430",
         "A63",
         "A75",
         "3",
         "A93",
         "A101",
         "2",
         "A123",
         "31",
         "A143",
         "A152",
         "1",
         "A173",
         "2",
         "A192",
         "A201"
        ],
        [
         "20",
         "0",
         "A14",
         "9",
         "A34",
         "A40",
         "2134",
         "A61",
         "A73",
         "4",
         "A93",
         "A101",
         "4",
         "A123",
         "48",
         "A143",
         "A152",
         "3",
         "A173",
         "1",
         "A192",
         "A201"
        ],
        [
         "21",
         "0",
         "A11",
         "6",
         "A32",
         "A43",
         "2647",
         "A63",
         "A73",
         "2",
         "A93",
         "A101",
         "3",
         "A121",
         "44",
         "A143",
         "A151",
         "1",
         "A173",
         "2",
         "A191",
         "A201"
        ],
        [
         "22",
         "0",
         "A11",
         "10",
         "A34",
         "A40",
         "2241",
         "A61",
         "A72",
         "1",
         "A93",
         "A101",
         "3",
         "A121",
         "48",
         "A143",
         "A151",
         "2",
         "A172",
         "2",
         "A191",
         "A202"
        ],
        [
         "23",
         "0",
         "A12",
         "12",
         "A34",
         "A41",
         "1804",
         "A62",
         "A72",
         "3",
         "A93",
         "A101",
         "4",
         "A122",
         "44",
         "A143",
         "A152",
         "1",
         "A173",
         "1",
         "A191",
         "A201"
        ],
        [
         "24",
         "0",
         "A14",
         "10",
         "A34",
         "A42",
         "2069",
         "A65",
         "A73",
         "2",
         "A94",
         "A101",
         "1",
         "A123",
         "26",
         "A143",
         "A152",
         "2",
         "A173",
         "1",
         "A191",
         "A202"
        ],
        [
         "25",
         "0",
         "A11",
         "6",
         "A32",
         "A42",
         "1374",
         "A61",
         "A73",
         "1",
         "A93",
         "A101",
         "2",
         "A121",
         "36",
         "A141",
         "A152",
         "1",
         "A172",
         "1",
         "A192",
         "A201"
        ],
        [
         "26",
         "0",
         "A14",
         "6",
         "A30",
         "A43",
         "426",
         "A61",
         "A75",
         "4",
         "A94",
         "A101",
         "4",
         "A123",
         "39",
         "A143",
         "A152",
         "1",
         "A172",
         "1",
         "A191",
         "A201"
        ],
        [
         "27",
         "0",
         "A13",
         "12",
         "A31",
         "A43",
         "409",
         "A64",
         "A73",
         "3",
         "A92",
         "A101",
         "3",
         "A121",
         "42",
         "A143",
         "A151",
         "2",
         "A173",
         "1",
         "A191",
         "A201"
        ],
        [
         "28",
         "0",
         "A12",
         "7",
         "A32",
         "A43",
         "2415",
         "A61",
         "A73",
         "3",
         "A93",
         "A103",
         "2",
         "A121",
         "34",
         "A143",
         "A152",
         "1",
         "A173",
         "1",
         "A191",
         "A201"
        ],
        [
         "29",
         "1",
         "A11",
         "60",
         "A33",
         "A49",
         "6836",
         "A61",
         "A75",
         "3",
         "A93",
         "A101",
         "4",
         "A124",
         "63",
         "A143",
         "A152",
         "2",
         "A173",
         "1",
         "A192",
         "A201"
        ],
        [
         "30",
         "0",
         "A12",
         "18",
         "A32",
         "A49",
         "1913",
         "A64",
         "A72",
         "3",
         "A94",
         "A101",
         "3",
         "A121",
         "36",
         "A141",
         "A152",
         "1",
         "A173",
         "1",
         "A192",
         "A201"
        ],
        [
         "31",
         "0",
         "A11",
         "24",
         "A32",
         "A42",
         "4020",
         "A61",
         "A73",
         "2",
         "A93",
         "A101",
         "2",
         "A123",
         "27",
         "A142",
         "A152",
         "1",
         "A173",
         "1",
         "A191",
         "A201"
        ],
        [
         "32",
         "0",
         "A12",
         "18",
         "A32",
         "A40",
         "5866",
         "A62",
         "A73",
         "2",
         "A93",
         "A101",
         "2",
         "A123",
         "30",
         "A143",
         "A152",
         "2",
         "A173",
         "1",
         "A192",
         "A201"
        ],
        [
         "33",
         "0",
         "A14",
         "12",
         "A34",
         "A49",
         "1264",
         "A65",
         "A75",
         "4",
         "A93",
         "A101",
         "4",
         "A124",
         "57",
         "A143",
         "A151",
         "1",
         "A172",
         "1",
         "A191",
         "A201"
        ],
        [
         "34",
         "0",
         "A13",
         "12",
         "A32",
         "A42",
         "1474",
         "A61",
         "A72",
         "4",
         "A92",
         "A101",
         "1",
         "A122",
         "33",
         "A141",
         "A152",
         "1",
         "A174",
         "1",
         "A192",
         "A201"
        ],
        [
         "35",
         "1",
         "A12",
         "45",
         "A34",
         "A43",
         "4746",
         "A61",
         "A72",
         "4",
         "A93",
         "A101",
         "2",
         "A122",
         "25",
         "A143",
         "A152",
         "2",
         "A172",
         "1",
         "A191",
         "A201"
        ],
        [
         "36",
         "0",
         "A14",
         "48",
         "A34",
         "A46",
         "6110",
         "A61",
         "A73",
         "1",
         "A93",
         "A101",
         "3",
         "A124",
         "31",
         "A141",
         "A153",
         "1",
         "A173",
         "1",
         "A192",
         "A201"
        ],
        [
         "37",
         "1",
         "A13",
         "18",
         "A32",
         "A43",
         "2100",
         "A61",
         "A73",
         "4",
         "A93",
         "A102",
         "2",
         "A121",
         "37",
         "A142",
         "A152",
         "1",
         "A173",
         "1",
         "A191",
         "A201"
        ],
        [
         "38",
         "0",
         "A13",
         "10",
         "A32",
         "A44",
         "1225",
         "A61",
         "A73",
         "2",
         "A93",
         "A101",
         "2",
         "A123",
         "37",
         "A143",
         "A152",
         "1",
         "A173",
         "1",
         "A192",
         "A201"
        ],
        [
         "39",
         "0",
         "A12",
         "9",
         "A32",
         "A43",
         "458",
         "A61",
         "A73",
         "4",
         "A93",
         "A101",
         "3",
         "A121",
         "24",
         "A143",
         "A152",
         "1",
         "A173",
         "1",
         "A191",
         "A201"
        ],
        [
         "40",
         "0",
         "A14",
         "30",
         "A32",
         "A43",
         "2333",
         "A63",
         "A75",
         "4",
         "A93",
         "A101",
         "2",
         "A123",
         "30",
         "A141",
         "A152",
         "1",
         "A174",
         "1",
         "A191",
         "A201"
        ],
        [
         "41",
         "0",
         "A12",
         "12",
         "A32",
         "A43",
         "1158",
         "A63",
         "A73",
         "3",
         "A91",
         "A101",
         "1",
         "A123",
         "26",
         "A143",
         "A152",
         "1",
         "A173",
         "1",
         "A192",
         "A201"
        ],
        [
         "42",
         "0",
         "A12",
         "18",
         "A33",
         "A45",
         "6204",
         "A61",
         "A73",
         "2",
         "A93",
         "A101",
         "4",
         "A121",
         "44",
         "A143",
         "A152",
         "1",
         "A172",
         "2",
         "A192",
         "A201"
        ],
        [
         "43",
         "0",
         "A11",
         "30",
         "A34",
         "A41",
         "6187",
         "A62",
         "A74",
         "1",
         "A94",
         "A101",
         "4",
         "A123",
         "24",
         "A143",
         "A151",
         "2",
         "A173",
         "1",
         "A191",
         "A201"
        ],
        [
         "44",
         "1",
         "A11",
         "48",
         "A34",
         "A41",
         "6143",
         "A61",
         "A75",
         "4",
         "A92",
         "A101",
         "4",
         "A124",
         "58",
         "A142",
         "A153",
         "2",
         "A172",
         "1",
         "A191",
         "A201"
        ],
        [
         "45",
         "0",
         "A14",
         "11",
         "A34",
         "A40",
         "1393",
         "A61",
         "A72",
         "4",
         "A92",
         "A101",
         "4",
         "A123",
         "35",
         "A143",
         "A152",
         "2",
         "A174",
         "1",
         "A191",
         "A201"
        ],
        [
         "46",
         "0",
         "A14",
         "36",
         "A32",
         "A43",
         "2299",
         "A63",
         "A75",
         "4",
         "A93",
         "A101",
         "4",
         "A123",
         "39",
         "A143",
         "A152",
         "1",
         "A173",
         "1",
         "A191",
         "A201"
        ],
        [
         "47",
         "0",
         "A11",
         "6",
         "A32",
         "A41",
         "1352",
         "A63",
         "A71",
         "1",
         "A92",
         "A101",
         "2",
         "A122",
         "23",
         "A143",
         "A151",
         "1",
         "A171",
         "1",
         "A192",
         "A201"
        ],
        [
         "48",
         "0",
         "A14",
         "11",
         "A34",
         "A40",
         "7228",
         "A61",
         "A73",
         "1",
         "A93",
         "A101",
         "4",
         "A122",
         "39",
         "A143",
         "A152",
         "2",
         "A172",
         "1",
         "A191",
         "A201"
        ],
        [
         "49",
         "0",
         "A14",
         "12",
         "A32",
         "A43",
         "2073",
         "A62",
         "A73",
         "4",
         "A92",
         "A102",
         "2",
         "A121",
         "28",
         "A143",
         "A152",
         "1",
         "A173",
         "1",
         "A191",
         "A201"
        ]
       ],
       "shape": {
        "columns": 21,
        "rows": 1000
       }
      },
      "text/html": [
       "<div>\n",
       "<style scoped>\n",
       "    .dataframe tbody tr th:only-of-type {\n",
       "        vertical-align: middle;\n",
       "    }\n",
       "\n",
       "    .dataframe tbody tr th {\n",
       "        vertical-align: top;\n",
       "    }\n",
       "\n",
       "    .dataframe thead th {\n",
       "        text-align: right;\n",
       "    }\n",
       "</style>\n",
       "<table border=\"1\" class=\"dataframe\">\n",
       "  <thead>\n",
       "    <tr style=\"text-align: right;\">\n",
       "      <th></th>\n",
       "      <th>Default</th>\n",
       "      <th>checkingstatus1</th>\n",
       "      <th>duration</th>\n",
       "      <th>history</th>\n",
       "      <th>purpose</th>\n",
       "      <th>amount</th>\n",
       "      <th>savings</th>\n",
       "      <th>employ</th>\n",
       "      <th>installment</th>\n",
       "      <th>status</th>\n",
       "      <th>...</th>\n",
       "      <th>residence</th>\n",
       "      <th>property</th>\n",
       "      <th>age</th>\n",
       "      <th>otherplans</th>\n",
       "      <th>housing</th>\n",
       "      <th>cards</th>\n",
       "      <th>job</th>\n",
       "      <th>liable</th>\n",
       "      <th>tele</th>\n",
       "      <th>foreign</th>\n",
       "    </tr>\n",
       "  </thead>\n",
       "  <tbody>\n",
       "    <tr>\n",
       "      <th>0</th>\n",
       "      <td>0</td>\n",
       "      <td>A11</td>\n",
       "      <td>6</td>\n",
       "      <td>A34</td>\n",
       "      <td>A43</td>\n",
       "      <td>1169</td>\n",
       "      <td>A65</td>\n",
       "      <td>A75</td>\n",
       "      <td>4</td>\n",
       "      <td>A93</td>\n",
       "      <td>...</td>\n",
       "      <td>4</td>\n",
       "      <td>A121</td>\n",
       "      <td>67</td>\n",
       "      <td>A143</td>\n",
       "      <td>A152</td>\n",
       "      <td>2</td>\n",
       "      <td>A173</td>\n",
       "      <td>1</td>\n",
       "      <td>A192</td>\n",
       "      <td>A201</td>\n",
       "    </tr>\n",
       "    <tr>\n",
       "      <th>1</th>\n",
       "      <td>1</td>\n",
       "      <td>A12</td>\n",
       "      <td>48</td>\n",
       "      <td>A32</td>\n",
       "      <td>A43</td>\n",
       "      <td>5951</td>\n",
       "      <td>A61</td>\n",
       "      <td>A73</td>\n",
       "      <td>2</td>\n",
       "      <td>A92</td>\n",
       "      <td>...</td>\n",
       "      <td>2</td>\n",
       "      <td>A121</td>\n",
       "      <td>22</td>\n",
       "      <td>A143</td>\n",
       "      <td>A152</td>\n",
       "      <td>1</td>\n",
       "      <td>A173</td>\n",
       "      <td>1</td>\n",
       "      <td>A191</td>\n",
       "      <td>A201</td>\n",
       "    </tr>\n",
       "    <tr>\n",
       "      <th>2</th>\n",
       "      <td>0</td>\n",
       "      <td>A14</td>\n",
       "      <td>12</td>\n",
       "      <td>A34</td>\n",
       "      <td>A46</td>\n",
       "      <td>2096</td>\n",
       "      <td>A61</td>\n",
       "      <td>A74</td>\n",
       "      <td>2</td>\n",
       "      <td>A93</td>\n",
       "      <td>...</td>\n",
       "      <td>3</td>\n",
       "      <td>A121</td>\n",
       "      <td>49</td>\n",
       "      <td>A143</td>\n",
       "      <td>A152</td>\n",
       "      <td>1</td>\n",
       "      <td>A172</td>\n",
       "      <td>2</td>\n",
       "      <td>A191</td>\n",
       "      <td>A201</td>\n",
       "    </tr>\n",
       "    <tr>\n",
       "      <th>3</th>\n",
       "      <td>0</td>\n",
       "      <td>A11</td>\n",
       "      <td>42</td>\n",
       "      <td>A32</td>\n",
       "      <td>A42</td>\n",
       "      <td>7882</td>\n",
       "      <td>A61</td>\n",
       "      <td>A74</td>\n",
       "      <td>2</td>\n",
       "      <td>A93</td>\n",
       "      <td>...</td>\n",
       "      <td>4</td>\n",
       "      <td>A122</td>\n",
       "      <td>45</td>\n",
       "      <td>A143</td>\n",
       "      <td>A153</td>\n",
       "      <td>1</td>\n",
       "      <td>A173</td>\n",
       "      <td>2</td>\n",
       "      <td>A191</td>\n",
       "      <td>A201</td>\n",
       "    </tr>\n",
       "    <tr>\n",
       "      <th>4</th>\n",
       "      <td>1</td>\n",
       "      <td>A11</td>\n",
       "      <td>24</td>\n",
       "      <td>A33</td>\n",
       "      <td>A40</td>\n",
       "      <td>4870</td>\n",
       "      <td>A61</td>\n",
       "      <td>A73</td>\n",
       "      <td>3</td>\n",
       "      <td>A93</td>\n",
       "      <td>...</td>\n",
       "      <td>4</td>\n",
       "      <td>A124</td>\n",
       "      <td>53</td>\n",
       "      <td>A143</td>\n",
       "      <td>A153</td>\n",
       "      <td>2</td>\n",
       "      <td>A173</td>\n",
       "      <td>2</td>\n",
       "      <td>A191</td>\n",
       "      <td>A201</td>\n",
       "    </tr>\n",
       "    <tr>\n",
       "      <th>...</th>\n",
       "      <td>...</td>\n",
       "      <td>...</td>\n",
       "      <td>...</td>\n",
       "      <td>...</td>\n",
       "      <td>...</td>\n",
       "      <td>...</td>\n",
       "      <td>...</td>\n",
       "      <td>...</td>\n",
       "      <td>...</td>\n",
       "      <td>...</td>\n",
       "      <td>...</td>\n",
       "      <td>...</td>\n",
       "      <td>...</td>\n",
       "      <td>...</td>\n",
       "      <td>...</td>\n",
       "      <td>...</td>\n",
       "      <td>...</td>\n",
       "      <td>...</td>\n",
       "      <td>...</td>\n",
       "      <td>...</td>\n",
       "      <td>...</td>\n",
       "    </tr>\n",
       "    <tr>\n",
       "      <th>995</th>\n",
       "      <td>0</td>\n",
       "      <td>A14</td>\n",
       "      <td>12</td>\n",
       "      <td>A32</td>\n",
       "      <td>A42</td>\n",
       "      <td>1736</td>\n",
       "      <td>A61</td>\n",
       "      <td>A74</td>\n",
       "      <td>3</td>\n",
       "      <td>A92</td>\n",
       "      <td>...</td>\n",
       "      <td>4</td>\n",
       "      <td>A121</td>\n",
       "      <td>31</td>\n",
       "      <td>A143</td>\n",
       "      <td>A152</td>\n",
       "      <td>1</td>\n",
       "      <td>A172</td>\n",
       "      <td>1</td>\n",
       "      <td>A191</td>\n",
       "      <td>A201</td>\n",
       "    </tr>\n",
       "    <tr>\n",
       "      <th>996</th>\n",
       "      <td>0</td>\n",
       "      <td>A11</td>\n",
       "      <td>30</td>\n",
       "      <td>A32</td>\n",
       "      <td>A41</td>\n",
       "      <td>3857</td>\n",
       "      <td>A61</td>\n",
       "      <td>A73</td>\n",
       "      <td>4</td>\n",
       "      <td>A91</td>\n",
       "      <td>...</td>\n",
       "      <td>4</td>\n",
       "      <td>A122</td>\n",
       "      <td>40</td>\n",
       "      <td>A143</td>\n",
       "      <td>A152</td>\n",
       "      <td>1</td>\n",
       "      <td>A174</td>\n",
       "      <td>1</td>\n",
       "      <td>A192</td>\n",
       "      <td>A201</td>\n",
       "    </tr>\n",
       "    <tr>\n",
       "      <th>997</th>\n",
       "      <td>0</td>\n",
       "      <td>A14</td>\n",
       "      <td>12</td>\n",
       "      <td>A32</td>\n",
       "      <td>A43</td>\n",
       "      <td>804</td>\n",
       "      <td>A61</td>\n",
       "      <td>A75</td>\n",
       "      <td>4</td>\n",
       "      <td>A93</td>\n",
       "      <td>...</td>\n",
       "      <td>4</td>\n",
       "      <td>A123</td>\n",
       "      <td>38</td>\n",
       "      <td>A143</td>\n",
       "      <td>A152</td>\n",
       "      <td>1</td>\n",
       "      <td>A173</td>\n",
       "      <td>1</td>\n",
       "      <td>A191</td>\n",
       "      <td>A201</td>\n",
       "    </tr>\n",
       "    <tr>\n",
       "      <th>998</th>\n",
       "      <td>1</td>\n",
       "      <td>A11</td>\n",
       "      <td>45</td>\n",
       "      <td>A32</td>\n",
       "      <td>A43</td>\n",
       "      <td>1845</td>\n",
       "      <td>A61</td>\n",
       "      <td>A73</td>\n",
       "      <td>4</td>\n",
       "      <td>A93</td>\n",
       "      <td>...</td>\n",
       "      <td>4</td>\n",
       "      <td>A124</td>\n",
       "      <td>23</td>\n",
       "      <td>A143</td>\n",
       "      <td>A153</td>\n",
       "      <td>1</td>\n",
       "      <td>A173</td>\n",
       "      <td>1</td>\n",
       "      <td>A192</td>\n",
       "      <td>A201</td>\n",
       "    </tr>\n",
       "    <tr>\n",
       "      <th>999</th>\n",
       "      <td>0</td>\n",
       "      <td>A12</td>\n",
       "      <td>45</td>\n",
       "      <td>A34</td>\n",
       "      <td>A41</td>\n",
       "      <td>4576</td>\n",
       "      <td>A62</td>\n",
       "      <td>A71</td>\n",
       "      <td>3</td>\n",
       "      <td>A93</td>\n",
       "      <td>...</td>\n",
       "      <td>4</td>\n",
       "      <td>A123</td>\n",
       "      <td>27</td>\n",
       "      <td>A143</td>\n",
       "      <td>A152</td>\n",
       "      <td>1</td>\n",
       "      <td>A173</td>\n",
       "      <td>1</td>\n",
       "      <td>A191</td>\n",
       "      <td>A201</td>\n",
       "    </tr>\n",
       "  </tbody>\n",
       "</table>\n",
       "<p>1000 rows × 21 columns</p>\n",
       "</div>"
      ],
      "text/plain": [
       "     Default checkingstatus1  duration history purpose  amount savings employ  \\\n",
       "0          0             A11         6     A34     A43    1169     A65    A75   \n",
       "1          1             A12        48     A32     A43    5951     A61    A73   \n",
       "2          0             A14        12     A34     A46    2096     A61    A74   \n",
       "3          0             A11        42     A32     A42    7882     A61    A74   \n",
       "4          1             A11        24     A33     A40    4870     A61    A73   \n",
       "..       ...             ...       ...     ...     ...     ...     ...    ...   \n",
       "995        0             A14        12     A32     A42    1736     A61    A74   \n",
       "996        0             A11        30     A32     A41    3857     A61    A73   \n",
       "997        0             A14        12     A32     A43     804     A61    A75   \n",
       "998        1             A11        45     A32     A43    1845     A61    A73   \n",
       "999        0             A12        45     A34     A41    4576     A62    A71   \n",
       "\n",
       "     installment status  ... residence  property age  otherplans housing  \\\n",
       "0              4    A93  ...         4      A121  67        A143    A152   \n",
       "1              2    A92  ...         2      A121  22        A143    A152   \n",
       "2              2    A93  ...         3      A121  49        A143    A152   \n",
       "3              2    A93  ...         4      A122  45        A143    A153   \n",
       "4              3    A93  ...         4      A124  53        A143    A153   \n",
       "..           ...    ...  ...       ...       ...  ..         ...     ...   \n",
       "995            3    A92  ...         4      A121  31        A143    A152   \n",
       "996            4    A91  ...         4      A122  40        A143    A152   \n",
       "997            4    A93  ...         4      A123  38        A143    A152   \n",
       "998            4    A93  ...         4      A124  23        A143    A153   \n",
       "999            3    A93  ...         4      A123  27        A143    A152   \n",
       "\n",
       "    cards   job liable  tele foreign  \n",
       "0       2  A173      1  A192    A201  \n",
       "1       1  A173      1  A191    A201  \n",
       "2       1  A172      2  A191    A201  \n",
       "3       1  A173      2  A191    A201  \n",
       "4       2  A173      2  A191    A201  \n",
       "..    ...   ...    ...   ...     ...  \n",
       "995     1  A172      1  A191    A201  \n",
       "996     1  A174      1  A192    A201  \n",
       "997     1  A173      1  A191    A201  \n",
       "998     1  A173      1  A192    A201  \n",
       "999     1  A173      1  A191    A201  \n",
       "\n",
       "[1000 rows x 21 columns]"
      ]
     },
     "execution_count": 3,
     "metadata": {},
     "output_type": "execute_result"
    }
   ],
   "source": [
    "df_credit = pd.read_csv(\"https://www.dropbox.com/s/o3r3dteb12fl3k3/credit.csv?dl=1\")\n",
    "df_credit"
   ]
  },
  {
   "cell_type": "markdown",
   "metadata": {
    "id": "8gnZvgVsevf2"
   },
   "source": [
    "What are those values such as `history=\"A30\"`? [credit.R](https://www.dropbox.com/s/63f546iaz8g6q28/credit.R?dl=0) is the data massage file.\n",
    "- A data scientist could spend 90% of his time cleaning the data.\n",
    "- We do not want to be awkwrd when being questioned. So, know your data.\n",
    "\n",
    "We can factor and label the levels of credit history."
   ]
  },
  {
   "cell_type": "code",
   "execution_count": 4,
   "metadata": {
    "colab": {
     "base_uri": "https://localhost:8080/"
    },
    "executionInfo": {
     "elapsed": 365,
     "status": "ok",
     "timestamp": 1722995002941,
     "user": {
      "displayName": "Yong Song",
      "userId": "00576951217859821315"
     },
     "user_tz": -600
    },
    "id": "t70oxHiYzWnf",
    "outputId": "83a33ae7-b64c-4fe2-bc85-6d46611dcf55"
   },
   "outputs": [
    {
     "data": {
      "application/vnd.microsoft.datawrangler.viewer.v0+json": {
       "columns": [
        {
         "name": "history",
         "rawType": "object",
         "type": "string"
        },
        {
         "name": "count",
         "rawType": "int64",
         "type": "integer"
        }
       ],
       "ref": "1971ea01-249c-4e06-8480-207416ea24c8",
       "rows": [
        [
         "good",
         "619"
        ],
        [
         "terrible",
         "293"
        ],
        [
         "poor",
         "88"
        ]
       ],
       "shape": {
        "columns": 1,
        "rows": 3
       }
      },
      "text/plain": [
       "history\n",
       "good        619\n",
       "terrible    293\n",
       "poor         88\n",
       "Name: count, dtype: int64"
      ]
     },
     "execution_count": 4,
     "metadata": {},
     "output_type": "execute_result"
    }
   ],
   "source": [
    "dict_replace = {\"A30\" : \"good\",\n",
    "                \"A31\" : \"good\",\n",
    "                \"A32\" : \"good\",\n",
    "                \"A33\" : \"poor\",\n",
    "                \"A34\" : \"terrible\"}\n",
    "df_credit['history'] = df_credit['history'].replace(dict_replace)\n",
    "df_credit.history.value_counts()"
   ]
  },
  {
   "cell_type": "code",
   "execution_count": 5,
   "metadata": {
    "colab": {
     "base_uri": "https://localhost:8080/"
    },
    "executionInfo": {
     "elapsed": 380,
     "status": "ok",
     "timestamp": 1722995006865,
     "user": {
      "displayName": "Yong Song",
      "userId": "00576951217859821315"
     },
     "user_tz": -600
    },
    "id": "RJOBsA8cUZCo",
    "outputId": "f0140940-da26-4713-cdb3-f68718637dc9"
   },
   "outputs": [
    {
     "data": {
      "application/vnd.microsoft.datawrangler.viewer.v0+json": {
       "columns": [
        {
         "name": "foreign",
         "rawType": "object",
         "type": "string"
        },
        {
         "name": "count",
         "rawType": "int64",
         "type": "integer"
        }
       ],
       "ref": "9acf86e9-6497-483f-a414-ca9911994bb1",
       "rows": [
        [
         "foreign",
         "963"
        ],
        [
         "german",
         "37"
        ]
       ],
       "shape": {
        "columns": 1,
        "rows": 2
       }
      },
      "text/plain": [
       "foreign\n",
       "foreign    963\n",
       "german      37\n",
       "Name: count, dtype: int64"
      ]
     },
     "execution_count": 5,
     "metadata": {},
     "output_type": "execute_result"
    }
   ],
   "source": [
    "dict_replace = {\"A201\":\"foreign\", \"A202\":\"german\"}\n",
    "df_credit['foreign'] = df_credit['foreign'].replace(dict_replace)\n",
    "df_credit['foreign'].value_counts()"
   ]
  },
  {
   "cell_type": "code",
   "execution_count": 6,
   "metadata": {
    "colab": {
     "base_uri": "https://localhost:8080/"
    },
    "executionInfo": {
     "elapsed": 339,
     "status": "ok",
     "timestamp": 1722995011871,
     "user": {
      "displayName": "Yong Song",
      "userId": "00576951217859821315"
     },
     "user_tz": -600
    },
    "id": "jmS3OdWtWRsH",
    "outputId": "50fd603a-7f84-4570-c4b6-93d992baf5c4"
   },
   "outputs": [
    {
     "data": {
      "application/vnd.microsoft.datawrangler.viewer.v0+json": {
       "columns": [
        {
         "name": "rent",
         "rawType": "bool",
         "type": "boolean"
        },
        {
         "name": "count",
         "rawType": "int64",
         "type": "integer"
        }
       ],
       "ref": "8a75c923-eaf6-4179-95cb-8c1e2900976b",
       "rows": [
        [
         "False",
         "821"
        ],
        [
         "True",
         "179"
        ]
       ],
       "shape": {
        "columns": 1,
        "rows": 2
       }
      },
      "text/plain": [
       "rent\n",
       "False    821\n",
       "True     179\n",
       "Name: count, dtype: int64"
      ]
     },
     "execution_count": 6,
     "metadata": {},
     "output_type": "execute_result"
    }
   ],
   "source": [
    "df_credit['rent'] = df_credit['housing']==\"A151\"\n",
    "df_credit['rent'].value_counts()"
   ]
  },
  {
   "cell_type": "code",
   "execution_count": 7,
   "metadata": {
    "colab": {
     "base_uri": "https://localhost:8080/"
    },
    "executionInfo": {
     "elapsed": 353,
     "status": "ok",
     "timestamp": 1722995018174,
     "user": {
      "displayName": "Yong Song",
      "userId": "00576951217859821315"
     },
     "user_tz": -600
    },
    "id": "yVCsJy8SmI9O",
    "outputId": "665a4d30-b5fb-4294-fefe-0f6275b592f4"
   },
   "outputs": [
    {
     "data": {
      "application/vnd.microsoft.datawrangler.viewer.v0+json": {
       "columns": [
        {
         "name": "purpose",
         "rawType": "object",
         "type": "string"
        },
        {
         "name": "count",
         "rawType": "int64",
         "type": "integer"
        }
       ],
       "ref": "8f54b674-06a3-4607-bf4d-b926566f1391",
       "rows": [
        [
         "goods/repair",
         "495"
        ],
        [
         "newcar",
         "234"
        ],
        [
         "biz",
         "109"
        ],
        [
         "usedcar",
         "103"
        ],
        [
         "edu",
         "59"
        ]
       ],
       "shape": {
        "columns": 1,
        "rows": 5
       }
      },
      "text/plain": [
       "purpose\n",
       "goods/repair    495\n",
       "newcar          234\n",
       "biz             109\n",
       "usedcar         103\n",
       "edu              59\n",
       "Name: count, dtype: int64"
      ]
     },
     "execution_count": 7,
     "metadata": {},
     "output_type": "execute_result"
    }
   ],
   "source": [
    "dict_replace = {\"A40\" : \"newcar\",\n",
    "                \"A41\" : \"usedcar\",\n",
    "                \"A42\" : \"goods/repair\",\n",
    "                \"A43\" : \"goods/repair\",\n",
    "                \"A44\" : \"goods/repair\",\n",
    "                \"A45\" : \"goods/repair\",\n",
    "                \"A46\" : \"edu\",\n",
    "                \"A47\" : np.nan,\n",
    "                \"A48\" : \"edu\",\n",
    "                \"A49\" : \"biz\",\n",
    "                \"A410\" : \"biz\"}\n",
    "df_credit['purpose'] = df_credit['purpose'].replace(dict_replace)\n",
    "df_credit['purpose'].value_counts()"
   ]
  },
  {
   "cell_type": "code",
   "execution_count": 8,
   "metadata": {
    "colab": {
     "base_uri": "https://localhost:8080/"
    },
    "executionInfo": {
     "elapsed": 337,
     "status": "ok",
     "timestamp": 1722995028500,
     "user": {
      "displayName": "Yong Song",
      "userId": "00576951217859821315"
     },
     "user_tz": -600
    },
    "id": "WcY4XzABy0wZ",
    "outputId": "ac84d29d-a435-4409-b272-9e758279c842"
   },
   "outputs": [
    {
     "name": "stdout",
     "output_type": "stream",
     "text": [
      "<class 'pandas.core.frame.DataFrame'>\n",
      "RangeIndex: 1000 entries, 0 to 999\n",
      "Data columns (total 22 columns):\n",
      " #   Column           Non-Null Count  Dtype \n",
      "---  ------           --------------  ----- \n",
      " 0   Default          1000 non-null   int64 \n",
      " 1   checkingstatus1  1000 non-null   object\n",
      " 2   duration         1000 non-null   int64 \n",
      " 3   history          1000 non-null   object\n",
      " 4   purpose          1000 non-null   object\n",
      " 5   amount           1000 non-null   int64 \n",
      " 6   savings          1000 non-null   object\n",
      " 7   employ           1000 non-null   object\n",
      " 8   installment      1000 non-null   int64 \n",
      " 9   status           1000 non-null   object\n",
      " 10  others           1000 non-null   object\n",
      " 11  residence        1000 non-null   int64 \n",
      " 12  property         1000 non-null   object\n",
      " 13  age              1000 non-null   int64 \n",
      " 14  otherplans       1000 non-null   object\n",
      " 15  housing          1000 non-null   object\n",
      " 16  cards            1000 non-null   int64 \n",
      " 17  job              1000 non-null   object\n",
      " 18  liable           1000 non-null   int64 \n",
      " 19  tele             1000 non-null   object\n",
      " 20  foreign          1000 non-null   object\n",
      " 21  rent             1000 non-null   bool  \n",
      "dtypes: bool(1), int64(8), object(13)\n",
      "memory usage: 165.2+ KB\n"
     ]
    }
   ],
   "source": [
    "df_credit.info()"
   ]
  },
  {
   "cell_type": "code",
   "execution_count": 9,
   "metadata": {
    "id": "yANJ6IsRoa05"
   },
   "outputs": [],
   "source": [
    "# save an intermediate result. Not necessary.\n",
    "df_credit.to_csv(\"credit.csv\", index=False)"
   ]
  },
  {
   "cell_type": "code",
   "execution_count": 10,
   "metadata": {
    "colab": {
     "base_uri": "https://localhost:8080/"
    },
    "executionInfo": {
     "elapsed": 330,
     "status": "ok",
     "timestamp": 1722995044952,
     "user": {
      "displayName": "Yong Song",
      "userId": "00576951217859821315"
     },
     "user_tz": -600
    },
    "id": "K3gcPlfBqeqO",
    "outputId": "16b19b0d-802b-4c41-aac0-f18208d4d37e"
   },
   "outputs": [
    {
     "data": {
      "application/vnd.microsoft.datawrangler.viewer.v0+json": {
       "columns": [
        {
         "name": "history",
         "rawType": "object",
         "type": "string"
        },
        {
         "name": "Default",
         "rawType": "float64",
         "type": "float"
        }
       ],
       "ref": "a6de76d9-f263-4f99-815b-3b37b3675852",
       "rows": [
        [
         "good",
         "0.35864297253634897"
        ],
        [
         "poor",
         "0.3181818181818182"
        ],
        [
         "terrible",
         "0.17064846416382254"
        ]
       ],
       "shape": {
        "columns": 1,
        "rows": 3
       }
      },
      "text/plain": [
       "history\n",
       "good        0.358643\n",
       "poor        0.318182\n",
       "terrible    0.170648\n",
       "Name: Default, dtype: float64"
      ]
     },
     "execution_count": 10,
     "metadata": {},
     "output_type": "execute_result"
    }
   ],
   "source": [
    "proportions = df_credit.groupby('history')['Default'].mean()\n",
    "proportions"
   ]
  },
  {
   "cell_type": "code",
   "execution_count": null,
   "metadata": {
    "colab": {
     "base_uri": "https://localhost:8080/",
     "height": 542
    },
    "executionInfo": {
     "elapsed": 2603,
     "status": "ok",
     "timestamp": 1722995055637,
     "user": {
      "displayName": "Yong Song",
      "userId": "00576951217859821315"
     },
     "user_tz": -600
    },
    "id": "Qd9jnso1q4_t",
    "outputId": "4e801c5b-7104-4556-feaf-ee3d187e5b2f"
   },
   "outputs": [
    {
     "data": {
      "application/vnd.plotly.v1+json": {
       "config": {
        "plotlyServerURL": "https://plot.ly"
       },
       "data": [
        {
         "hovertemplate": "variable=default<br>history=%{x}<br>Proportion=%{y}<extra></extra>",
         "legendgroup": "default",
         "marker": {
          "color": "#636efa",
          "pattern": {
           "shape": ""
          }
         },
         "name": "default",
         "orientation": "v",
         "showlegend": true,
         "textposition": "auto",
         "type": "bar",
         "x": [
          "good",
          "poor",
          "terrible"
         ],
         "xaxis": "x",
         "y": {
          "bdata": "Ufd+pwH01j9ddNFFF13UP5UeWRLP18U/",
          "dtype": "f8"
         },
         "yaxis": "y"
        },
        {
         "hovertemplate": "variable=no default<br>history=%{x}<br>Proportion=%{y}<extra></extra>",
         "legendgroup": "no default",
         "marker": {
          "color": "#EF553B",
          "pattern": {
           "shape": ""
          }
         },
         "name": "no default",
         "orientation": "v",
         "showlegend": true,
         "textposition": "auto",
         "type": "bar",
         "x": [
          "good",
          "poor",
          "terrible"
         ],
         "xaxis": "x",
         "y": {
          "bdata": "WIRALP+F5D/SRRdddNHlP1u4aTsMiuo/",
          "dtype": "f8"
         },
         "yaxis": "y"
        }
       ],
       "layout": {
        "barmode": "relative",
        "legend": {
         "title": {
          "text": "variable"
         },
         "tracegroupgap": 0
        },
        "template": {
         "data": {
          "bar": [
           {
            "error_x": {
             "color": "#2a3f5f"
            },
            "error_y": {
             "color": "#2a3f5f"
            },
            "marker": {
             "line": {
              "color": "#E5ECF6",
              "width": 0.5
             },
             "pattern": {
              "fillmode": "overlay",
              "size": 10,
              "solidity": 0.2
             }
            },
            "type": "bar"
           }
          ],
          "barpolar": [
           {
            "marker": {
             "line": {
              "color": "#E5ECF6",
              "width": 0.5
             },
             "pattern": {
              "fillmode": "overlay",
              "size": 10,
              "solidity": 0.2
             }
            },
            "type": "barpolar"
           }
          ],
          "carpet": [
           {
            "aaxis": {
             "endlinecolor": "#2a3f5f",
             "gridcolor": "white",
             "linecolor": "white",
             "minorgridcolor": "white",
             "startlinecolor": "#2a3f5f"
            },
            "baxis": {
             "endlinecolor": "#2a3f5f",
             "gridcolor": "white",
             "linecolor": "white",
             "minorgridcolor": "white",
             "startlinecolor": "#2a3f5f"
            },
            "type": "carpet"
           }
          ],
          "choropleth": [
           {
            "colorbar": {
             "outlinewidth": 0,
             "ticks": ""
            },
            "type": "choropleth"
           }
          ],
          "contour": [
           {
            "colorbar": {
             "outlinewidth": 0,
             "ticks": ""
            },
            "colorscale": [
             [
              0,
              "#0d0887"
             ],
             [
              0.1111111111111111,
              "#46039f"
             ],
             [
              0.2222222222222222,
              "#7201a8"
             ],
             [
              0.3333333333333333,
              "#9c179e"
             ],
             [
              0.4444444444444444,
              "#bd3786"
             ],
             [
              0.5555555555555556,
              "#d8576b"
             ],
             [
              0.6666666666666666,
              "#ed7953"
             ],
             [
              0.7777777777777778,
              "#fb9f3a"
             ],
             [
              0.8888888888888888,
              "#fdca26"
             ],
             [
              1,
              "#f0f921"
             ]
            ],
            "type": "contour"
           }
          ],
          "contourcarpet": [
           {
            "colorbar": {
             "outlinewidth": 0,
             "ticks": ""
            },
            "type": "contourcarpet"
           }
          ],
          "heatmap": [
           {
            "colorbar": {
             "outlinewidth": 0,
             "ticks": ""
            },
            "colorscale": [
             [
              0,
              "#0d0887"
             ],
             [
              0.1111111111111111,
              "#46039f"
             ],
             [
              0.2222222222222222,
              "#7201a8"
             ],
             [
              0.3333333333333333,
              "#9c179e"
             ],
             [
              0.4444444444444444,
              "#bd3786"
             ],
             [
              0.5555555555555556,
              "#d8576b"
             ],
             [
              0.6666666666666666,
              "#ed7953"
             ],
             [
              0.7777777777777778,
              "#fb9f3a"
             ],
             [
              0.8888888888888888,
              "#fdca26"
             ],
             [
              1,
              "#f0f921"
             ]
            ],
            "type": "heatmap"
           }
          ],
          "histogram": [
           {
            "marker": {
             "pattern": {
              "fillmode": "overlay",
              "size": 10,
              "solidity": 0.2
             }
            },
            "type": "histogram"
           }
          ],
          "histogram2d": [
           {
            "colorbar": {
             "outlinewidth": 0,
             "ticks": ""
            },
            "colorscale": [
             [
              0,
              "#0d0887"
             ],
             [
              0.1111111111111111,
              "#46039f"
             ],
             [
              0.2222222222222222,
              "#7201a8"
             ],
             [
              0.3333333333333333,
              "#9c179e"
             ],
             [
              0.4444444444444444,
              "#bd3786"
             ],
             [
              0.5555555555555556,
              "#d8576b"
             ],
             [
              0.6666666666666666,
              "#ed7953"
             ],
             [
              0.7777777777777778,
              "#fb9f3a"
             ],
             [
              0.8888888888888888,
              "#fdca26"
             ],
             [
              1,
              "#f0f921"
             ]
            ],
            "type": "histogram2d"
           }
          ],
          "histogram2dcontour": [
           {
            "colorbar": {
             "outlinewidth": 0,
             "ticks": ""
            },
            "colorscale": [
             [
              0,
              "#0d0887"
             ],
             [
              0.1111111111111111,
              "#46039f"
             ],
             [
              0.2222222222222222,
              "#7201a8"
             ],
             [
              0.3333333333333333,
              "#9c179e"
             ],
             [
              0.4444444444444444,
              "#bd3786"
             ],
             [
              0.5555555555555556,
              "#d8576b"
             ],
             [
              0.6666666666666666,
              "#ed7953"
             ],
             [
              0.7777777777777778,
              "#fb9f3a"
             ],
             [
              0.8888888888888888,
              "#fdca26"
             ],
             [
              1,
              "#f0f921"
             ]
            ],
            "type": "histogram2dcontour"
           }
          ],
          "mesh3d": [
           {
            "colorbar": {
             "outlinewidth": 0,
             "ticks": ""
            },
            "type": "mesh3d"
           }
          ],
          "parcoords": [
           {
            "line": {
             "colorbar": {
              "outlinewidth": 0,
              "ticks": ""
             }
            },
            "type": "parcoords"
           }
          ],
          "pie": [
           {
            "automargin": true,
            "type": "pie"
           }
          ],
          "scatter": [
           {
            "fillpattern": {
             "fillmode": "overlay",
             "size": 10,
             "solidity": 0.2
            },
            "type": "scatter"
           }
          ],
          "scatter3d": [
           {
            "line": {
             "colorbar": {
              "outlinewidth": 0,
              "ticks": ""
             }
            },
            "marker": {
             "colorbar": {
              "outlinewidth": 0,
              "ticks": ""
             }
            },
            "type": "scatter3d"
           }
          ],
          "scattercarpet": [
           {
            "marker": {
             "colorbar": {
              "outlinewidth": 0,
              "ticks": ""
             }
            },
            "type": "scattercarpet"
           }
          ],
          "scattergeo": [
           {
            "marker": {
             "colorbar": {
              "outlinewidth": 0,
              "ticks": ""
             }
            },
            "type": "scattergeo"
           }
          ],
          "scattergl": [
           {
            "marker": {
             "colorbar": {
              "outlinewidth": 0,
              "ticks": ""
             }
            },
            "type": "scattergl"
           }
          ],
          "scattermap": [
           {
            "marker": {
             "colorbar": {
              "outlinewidth": 0,
              "ticks": ""
             }
            },
            "type": "scattermap"
           }
          ],
          "scattermapbox": [
           {
            "marker": {
             "colorbar": {
              "outlinewidth": 0,
              "ticks": ""
             }
            },
            "type": "scattermapbox"
           }
          ],
          "scatterpolar": [
           {
            "marker": {
             "colorbar": {
              "outlinewidth": 0,
              "ticks": ""
             }
            },
            "type": "scatterpolar"
           }
          ],
          "scatterpolargl": [
           {
            "marker": {
             "colorbar": {
              "outlinewidth": 0,
              "ticks": ""
             }
            },
            "type": "scatterpolargl"
           }
          ],
          "scatterternary": [
           {
            "marker": {
             "colorbar": {
              "outlinewidth": 0,
              "ticks": ""
             }
            },
            "type": "scatterternary"
           }
          ],
          "surface": [
           {
            "colorbar": {
             "outlinewidth": 0,
             "ticks": ""
            },
            "colorscale": [
             [
              0,
              "#0d0887"
             ],
             [
              0.1111111111111111,
              "#46039f"
             ],
             [
              0.2222222222222222,
              "#7201a8"
             ],
             [
              0.3333333333333333,
              "#9c179e"
             ],
             [
              0.4444444444444444,
              "#bd3786"
             ],
             [
              0.5555555555555556,
              "#d8576b"
             ],
             [
              0.6666666666666666,
              "#ed7953"
             ],
             [
              0.7777777777777778,
              "#fb9f3a"
             ],
             [
              0.8888888888888888,
              "#fdca26"
             ],
             [
              1,
              "#f0f921"
             ]
            ],
            "type": "surface"
           }
          ],
          "table": [
           {
            "cells": {
             "fill": {
              "color": "#EBF0F8"
             },
             "line": {
              "color": "white"
             }
            },
            "header": {
             "fill": {
              "color": "#C8D4E3"
             },
             "line": {
              "color": "white"
             }
            },
            "type": "table"
           }
          ]
         },
         "layout": {
          "annotationdefaults": {
           "arrowcolor": "#2a3f5f",
           "arrowhead": 0,
           "arrowwidth": 1
          },
          "autotypenumbers": "strict",
          "coloraxis": {
           "colorbar": {
            "outlinewidth": 0,
            "ticks": ""
           }
          },
          "colorscale": {
           "diverging": [
            [
             0,
             "#8e0152"
            ],
            [
             0.1,
             "#c51b7d"
            ],
            [
             0.2,
             "#de77ae"
            ],
            [
             0.3,
             "#f1b6da"
            ],
            [
             0.4,
             "#fde0ef"
            ],
            [
             0.5,
             "#f7f7f7"
            ],
            [
             0.6,
             "#e6f5d0"
            ],
            [
             0.7,
             "#b8e186"
            ],
            [
             0.8,
             "#7fbc41"
            ],
            [
             0.9,
             "#4d9221"
            ],
            [
             1,
             "#276419"
            ]
           ],
           "sequential": [
            [
             0,
             "#0d0887"
            ],
            [
             0.1111111111111111,
             "#46039f"
            ],
            [
             0.2222222222222222,
             "#7201a8"
            ],
            [
             0.3333333333333333,
             "#9c179e"
            ],
            [
             0.4444444444444444,
             "#bd3786"
            ],
            [
             0.5555555555555556,
             "#d8576b"
            ],
            [
             0.6666666666666666,
             "#ed7953"
            ],
            [
             0.7777777777777778,
             "#fb9f3a"
            ],
            [
             0.8888888888888888,
             "#fdca26"
            ],
            [
             1,
             "#f0f921"
            ]
           ],
           "sequentialminus": [
            [
             0,
             "#0d0887"
            ],
            [
             0.1111111111111111,
             "#46039f"
            ],
            [
             0.2222222222222222,
             "#7201a8"
            ],
            [
             0.3333333333333333,
             "#9c179e"
            ],
            [
             0.4444444444444444,
             "#bd3786"
            ],
            [
             0.5555555555555556,
             "#d8576b"
            ],
            [
             0.6666666666666666,
             "#ed7953"
            ],
            [
             0.7777777777777778,
             "#fb9f3a"
            ],
            [
             0.8888888888888888,
             "#fdca26"
            ],
            [
             1,
             "#f0f921"
            ]
           ]
          },
          "colorway": [
           "#636efa",
           "#EF553B",
           "#00cc96",
           "#ab63fa",
           "#FFA15A",
           "#19d3f3",
           "#FF6692",
           "#B6E880",
           "#FF97FF",
           "#FECB52"
          ],
          "font": {
           "color": "#2a3f5f"
          },
          "geo": {
           "bgcolor": "white",
           "lakecolor": "white",
           "landcolor": "#E5ECF6",
           "showlakes": true,
           "showland": true,
           "subunitcolor": "white"
          },
          "hoverlabel": {
           "align": "left"
          },
          "hovermode": "closest",
          "mapbox": {
           "style": "light"
          },
          "paper_bgcolor": "white",
          "plot_bgcolor": "#E5ECF6",
          "polar": {
           "angularaxis": {
            "gridcolor": "white",
            "linecolor": "white",
            "ticks": ""
           },
           "bgcolor": "#E5ECF6",
           "radialaxis": {
            "gridcolor": "white",
            "linecolor": "white",
            "ticks": ""
           }
          },
          "scene": {
           "xaxis": {
            "backgroundcolor": "#E5ECF6",
            "gridcolor": "white",
            "gridwidth": 2,
            "linecolor": "white",
            "showbackground": true,
            "ticks": "",
            "zerolinecolor": "white"
           },
           "yaxis": {
            "backgroundcolor": "#E5ECF6",
            "gridcolor": "white",
            "gridwidth": 2,
            "linecolor": "white",
            "showbackground": true,
            "ticks": "",
            "zerolinecolor": "white"
           },
           "zaxis": {
            "backgroundcolor": "#E5ECF6",
            "gridcolor": "white",
            "gridwidth": 2,
            "linecolor": "white",
            "showbackground": true,
            "ticks": "",
            "zerolinecolor": "white"
           }
          },
          "shapedefaults": {
           "line": {
            "color": "#2a3f5f"
           }
          },
          "ternary": {
           "aaxis": {
            "gridcolor": "white",
            "linecolor": "white",
            "ticks": ""
           },
           "baxis": {
            "gridcolor": "white",
            "linecolor": "white",
            "ticks": ""
           },
           "bgcolor": "#E5ECF6",
           "caxis": {
            "gridcolor": "white",
            "linecolor": "white",
            "ticks": ""
           }
          },
          "title": {
           "x": 0.05
          },
          "xaxis": {
           "automargin": true,
           "gridcolor": "white",
           "linecolor": "white",
           "ticks": "",
           "title": {
            "standoff": 15
           },
           "zerolinecolor": "white",
           "zerolinewidth": 2
          },
          "yaxis": {
           "automargin": true,
           "gridcolor": "white",
           "linecolor": "white",
           "ticks": "",
           "title": {
            "standoff": 15
           },
           "zerolinecolor": "white",
           "zerolinewidth": 2
          }
         }
        },
        "title": {
         "text": "Proportion of default and non-default in Each Category"
        },
        "xaxis": {
         "anchor": "y",
         "domain": [
          0,
          1
         ],
         "title": {
          "text": "history"
         }
        },
        "yaxis": {
         "anchor": "x",
         "domain": [
          0,
          1
         ],
         "title": {
          "text": "Proportion"
         }
        }
       }
      }
     },
     "metadata": {},
     "output_type": "display_data"
    }
   ],
   "source": [
    "chart_data = pd.DataFrame({\n",
    "    'history': proportions.index,\n",
    "    'default': proportions.values,\n",
    "    'no default': 1 - proportions.values # type: ignore\n",
    "})\n",
    "\n",
    "# Create a bar chart using Plotly Express\n",
    "fig = px.bar(chart_data, x='history', y=['default', 'no default'],\n",
    "             title='Proportion of default and non-default in Each Category',\n",
    "             labels={'value': 'Proportion'})\n",
    "fig.show()"
   ]
  },
  {
   "cell_type": "markdown",
   "metadata": {
    "id": "mCiXutPBpCbF"
   },
   "source": [
    "$\\color{red}{Question:}$ Explain the figure."
   ]
  },
  {
   "cell_type": "markdown",
   "metadata": {
    "id": "ZnB91Oxp31CI"
   },
   "source": [
    "## Logistic Regression + LASSO"
   ]
  },
  {
   "cell_type": "code",
   "execution_count": 12,
   "metadata": {
    "colab": {
     "base_uri": "https://localhost:8080/"
    },
    "executionInfo": {
     "elapsed": 351,
     "status": "ok",
     "timestamp": 1722995131878,
     "user": {
      "displayName": "Yong Song",
      "userId": "00576951217859821315"
     },
     "user_tz": -600
    },
    "id": "0IoZ62bV5ykA",
    "outputId": "3c065e07-6227-4de2-de71-954c6ad2b659"
   },
   "outputs": [
    {
     "data": {
      "text/plain": [
       "['checkingstatus1',\n",
       " 'duration',\n",
       " 'history',\n",
       " 'purpose',\n",
       " 'amount',\n",
       " 'savings',\n",
       " 'employ',\n",
       " 'installment',\n",
       " 'status',\n",
       " 'others',\n",
       " 'residence',\n",
       " 'property',\n",
       " 'age',\n",
       " 'otherplans',\n",
       " 'housing',\n",
       " 'cards',\n",
       " 'job',\n",
       " 'liable',\n",
       " 'tele',\n",
       " 'foreign',\n",
       " 'rent']"
      ]
     },
     "execution_count": 12,
     "metadata": {},
     "output_type": "execute_result"
    }
   ],
   "source": [
    "# X matrix\n",
    "x_basic_list = df_credit.columns.to_list()\n",
    "x_basic_list.remove('Default')\n",
    "x_basic_list"
   ]
  },
  {
   "cell_type": "code",
   "execution_count": 13,
   "metadata": {
    "colab": {
     "base_uri": "https://localhost:8080/"
    },
    "executionInfo": {
     "elapsed": 899,
     "status": "ok",
     "timestamp": 1722995138335,
     "user": {
      "displayName": "Yong Song",
      "userId": "00576951217859821315"
     },
     "user_tz": -600
    },
    "id": "01lt6efpJS6B",
    "outputId": "eee1f318-596d-449d-c802-1337cf0a666b"
   },
   "outputs": [
    {
     "name": "stdout",
     "output_type": "stream",
     "text": [
      "Optimization terminated successfully.\n",
      "         Current function value: 0.453249\n",
      "         Iterations 15\n",
      "                           Logit Regression Results                           \n",
      "==============================================================================\n",
      "Dep. Variable:                Default   No. Observations:                 1000\n",
      "Model:                          Logit   Df Residuals:                      958\n",
      "Method:                           MLE   Df Model:                           41\n",
      "Date:                Wed, 13 Aug 2025   Pseudo R-squ.:                  0.2580\n",
      "Time:                        19:45:16   Log-Likelihood:                -453.25\n",
      "converged:                       True   LL-Null:                       -610.86\n",
      "Covariance Type:            nonrobust   LLR p-value:                 5.318e-44\n",
      "===========================================================================================\n",
      "                              coef    std err          z      P>|z|      [0.025      0.975]\n",
      "-------------------------------------------------------------------------------------------\n",
      "Intercept                  -0.9010        nan        nan        nan         nan         nan\n",
      "checkingstatus1[T.A12]     -0.3706      0.213     -1.739      0.082      -0.788       0.047\n",
      "checkingstatus1[T.A13]     -0.9981      0.366     -2.728      0.006      -1.715      -0.281\n",
      "checkingstatus1[T.A14]     -1.7416      0.228     -7.624      0.000      -2.189      -1.294\n",
      "history[T.poor]            -0.4187      0.307     -1.362      0.173      -1.021       0.184\n",
      "history[T.terrible]        -0.9840      0.247     -3.979      0.000      -1.469      -0.499\n",
      "purpose[T.edu]              0.5317      0.426      1.247      0.212      -0.304       1.367\n",
      "purpose[T.goods/repair]    -0.0709      0.292     -0.243      0.808      -0.644       0.502\n",
      "purpose[T.newcar]           0.7402      0.312      2.376      0.018       0.129       1.351\n",
      "purpose[T.usedcar]         -0.9144      0.419     -2.183      0.029      -1.735      -0.093\n",
      "savings[T.A62]             -0.3090      0.283     -1.091      0.275      -0.864       0.246\n",
      "savings[T.A63]             -0.3941      0.391     -1.008      0.313      -1.160       0.372\n",
      "savings[T.A64]             -1.2851      0.517     -2.486      0.013      -2.298      -0.272\n",
      "savings[T.A65]             -0.9757      0.259     -3.765      0.000      -1.484      -0.468\n",
      "employ[T.A72]               0.0051      0.422      0.012      0.990      -0.822       0.832\n",
      "employ[T.A73]              -0.1127      0.406     -0.278      0.781      -0.908       0.683\n",
      "employ[T.A74]              -0.7837      0.439     -1.785      0.074      -1.644       0.077\n",
      "employ[T.A75]              -0.2758      0.409     -0.675      0.500      -1.077       0.525\n",
      "status[T.A92]              -0.2909      0.383     -0.759      0.448      -1.042       0.460\n",
      "status[T.A93]              -0.8243      0.376     -2.190      0.029      -1.562      -0.087\n",
      "status[T.A94]              -0.5003      0.446     -1.123      0.262      -1.374       0.373\n",
      "others[T.A102]              0.3172      0.402      0.790      0.430      -0.470       1.104\n",
      "others[T.A103]             -0.9990      0.417     -2.395      0.017      -1.816      -0.182\n",
      "property[T.A122]            0.2992      0.247      1.210      0.226      -0.185       0.784\n",
      "property[T.A123]            0.1990      0.235      0.846      0.397      -0.262       0.660\n",
      "property[T.A124]            0.8249      0.417      1.978      0.048       0.007       1.642\n",
      "otherplans[T.A142]         -0.0674      0.409     -0.165      0.869      -0.869       0.734\n",
      "otherplans[T.A143]         -0.7081      0.229     -3.089      0.002      -1.157      -0.259\n",
      "housing[T.A152]            -0.3643        nan        nan        nan         nan         nan\n",
      "housing[T.A153]            -0.6316        nan        nan        nan         nan         nan\n",
      "job[T.A172]                 0.3562      0.657      0.542      0.588      -0.932       1.644\n",
      "job[T.A173]                 0.4103      0.632      0.649      0.516      -0.829       1.649\n",
      "job[T.A174]                 0.2874      0.638      0.451      0.652      -0.963       1.538\n",
      "tele[T.A192]               -0.3118      0.199     -1.567      0.117      -0.702       0.078\n",
      "foreign[T.german]          -1.3800      0.628     -2.199      0.028      -2.610      -0.150\n",
      "rent[T.True]                0.0949        nan        nan        nan         nan         nan\n",
      "duration                    0.0287      0.009      3.112      0.002       0.011       0.047\n",
      "amount                      0.0001   4.39e-05      2.863      0.004    3.97e-05       0.000\n",
      "installment                 0.3250      0.087      3.726      0.000       0.154       0.496\n",
      "residence                   0.0072      0.086      0.084      0.933      -0.160       0.175\n",
      "age                        -0.0127      0.009     -1.402      0.161      -0.031       0.005\n",
      "cards                       0.3411      0.182      1.874      0.061      -0.016       0.698\n",
      "liable                      0.2784      0.246      1.132      0.258      -0.204       0.760\n",
      "===========================================================================================\n"
     ]
    }
   ],
   "source": [
    "formula = \"Default~\" + \"+\".join(x_basic_list)\n",
    "logit_model = sm.Logit.from_formula(formula, data=df_credit)\n",
    "result = logit_model.fit()\n",
    "print(result.summary())"
   ]
  },
  {
   "cell_type": "markdown",
   "metadata": {
    "id": "5U_SBPs2QlB-"
   },
   "source": [
    "$\\color{red}{Question:}$ why does `nan` exist? rent and housing??"
   ]
  },
  {
   "cell_type": "code",
   "execution_count": 14,
   "metadata": {
    "colab": {
     "base_uri": "https://localhost:8080/"
    },
    "executionInfo": {
     "elapsed": 871,
     "status": "ok",
     "timestamp": 1722995154340,
     "user": {
      "displayName": "Yong Song",
      "userId": "00576951217859821315"
     },
     "user_tz": -600
    },
    "id": "zHxzi2uwZNoI",
    "outputId": "91c591f5-8359-43ec-b365-34badd9cdda5"
   },
   "outputs": [
    {
     "name": "stdout",
     "output_type": "stream",
     "text": [
      "Optimization terminated successfully    (Exit mode 0)\n",
      "            Current function value: 0.45324894709053504\n",
      "            Iterations: 207\n",
      "            Function evaluations: 219\n",
      "            Gradient evaluations: 207\n",
      "                           Logit Regression Results                           \n",
      "==============================================================================\n",
      "Dep. Variable:                Default   No. Observations:                 1000\n",
      "Model:                          Logit   Df Residuals:                      957\n",
      "Method:                           MLE   Df Model:                           42\n",
      "Date:                Wed, 13 Aug 2025   Pseudo R-squ.:                  0.2580\n",
      "Time:                        19:52:16   Log-Likelihood:                -453.25\n",
      "converged:                       True   LL-Null:                       -610.86\n",
      "Covariance Type:            nonrobust   LLR p-value:                 1.489e-43\n",
      "===========================================================================================\n",
      "                              coef    std err          z      P>|z|      [0.025      0.975]\n",
      "-------------------------------------------------------------------------------------------\n",
      "Intercept                  -0.8541        nan        nan        nan         nan         nan\n",
      "checkingstatus1[T.A12]     -0.3706      0.213     -1.739      0.082      -0.788       0.047\n",
      "checkingstatus1[T.A13]     -0.9981      0.366     -2.728      0.006      -1.715      -0.281\n",
      "checkingstatus1[T.A14]     -1.7416      0.228     -7.624      0.000      -2.189      -1.294\n",
      "history[T.poor]            -0.4187      0.307     -1.362      0.173      -1.021       0.184\n",
      "history[T.terrible]        -0.9840      0.247     -3.979      0.000      -1.469      -0.499\n",
      "purpose[T.edu]              0.5317      0.426      1.247      0.212      -0.304       1.367\n",
      "purpose[T.goods/repair]    -0.0710      0.292     -0.243      0.808      -0.644       0.502\n",
      "purpose[T.newcar]           0.7401      0.312      2.375      0.018       0.129       1.351\n",
      "purpose[T.usedcar]         -0.9144      0.419     -2.183      0.029      -1.735      -0.094\n",
      "savings[T.A62]             -0.3090      0.283     -1.091      0.275      -0.864       0.246\n",
      "savings[T.A63]             -0.3941      0.391     -1.008      0.313      -1.160       0.372\n",
      "savings[T.A64]             -1.2851      0.517     -2.486      0.013      -2.298      -0.272\n",
      "savings[T.A65]             -0.9757      0.259     -3.765      0.000      -1.484      -0.468\n",
      "employ[T.A72]               0.0051      0.422      0.012      0.990      -0.822       0.832\n",
      "employ[T.A73]              -0.1127      0.406     -0.278      0.781      -0.908       0.683\n",
      "employ[T.A74]              -0.7837      0.439     -1.785      0.074      -1.644       0.077\n",
      "employ[T.A75]              -0.2757      0.409     -0.675      0.500      -1.077       0.525\n",
      "status[T.A92]              -0.2909      0.383     -0.759      0.448      -1.042       0.460\n",
      "status[T.A93]              -0.8243      0.376     -2.190      0.029      -1.562      -0.087\n",
      "status[T.A94]              -0.5003      0.446     -1.123      0.262      -1.374       0.373\n",
      "others[T.A102]              0.3172      0.402      0.790      0.430      -0.470       1.104\n",
      "others[T.A103]             -0.9990      0.417     -2.395      0.017      -1.816      -0.182\n",
      "property[T.A122]            0.2992      0.247      1.210      0.226      -0.185       0.784\n",
      "property[T.A123]            0.1990      0.235      0.846      0.397      -0.262       0.660\n",
      "property[T.A124]            0.8249      0.417      1.978      0.048       0.007       1.642\n",
      "otherplans[T.A142]         -0.0674      0.409     -0.165      0.869      -0.869       0.734\n",
      "otherplans[T.A143]         -0.7081      0.229     -3.089      0.002      -1.157      -0.259\n",
      "housing[T.A152]            -0.4113        nan        nan        nan         nan         nan\n",
      "housing[T.A153]            -0.6786        nan        nan        nan         nan         nan\n",
      "job[T.A172]                 0.3562      0.657      0.542      0.588      -0.932       1.644\n",
      "job[T.A173]                 0.4103      0.632      0.649      0.516      -0.829       1.649\n",
      "job[T.A174]                 0.2874      0.638      0.451      0.652      -0.963       1.538\n",
      "tele[T.A192]               -0.3118      0.199     -1.567      0.117      -0.702       0.078\n",
      "foreign[T.german]          -1.3800      0.628     -2.199      0.028      -2.610      -0.150\n",
      "rent[T.True]                0.0479        nan        nan        nan         nan         nan\n",
      "duration                    0.0287      0.009      3.112      0.002       0.011       0.047\n",
      "amount                      0.0001   4.39e-05      2.863      0.004    3.97e-05       0.000\n",
      "installment                 0.3250      0.087      3.726      0.000       0.154       0.496\n",
      "residence                   0.0072      0.086      0.084      0.933      -0.160       0.175\n",
      "age                        -0.0127      0.009     -1.402      0.161      -0.031       0.005\n",
      "cards                       0.3411      0.182      1.874      0.061      -0.016       0.698\n",
      "liable                      0.2784      0.246      1.132      0.258      -0.204       0.760\n",
      "===========================================================================================\n"
     ]
    },
    {
     "name": "stderr",
     "output_type": "stream",
     "text": [
      "/Users/yongs1/miniforge3/lib/python3.12/site-packages/statsmodels/discrete/discrete_model.py:2385: RuntimeWarning:\n",
      "\n",
      "overflow encountered in exp\n",
      "\n",
      "/Users/yongs1/miniforge3/lib/python3.12/site-packages/statsmodels/discrete/discrete_model.py:2443: RuntimeWarning:\n",
      "\n",
      "divide by zero encountered in log\n",
      "\n"
     ]
    }
   ],
   "source": [
    "formula = \"Default~\" + \"+\".join(x_basic_list) # repetition\n",
    "logit_model_lasso = sm.Logit.from_formula(formula, data=df_credit)\n",
    "result = logit_model_lasso.fit_regularized(method='l1')\n",
    "print(result.summary())"
   ]
  },
  {
   "cell_type": "markdown",
   "metadata": {
    "id": "hu6Th1T6Z91p"
   },
   "source": [
    "$\\color{red}{Question:}$ why does `nan` still exist? check default $\\alpha$..."
   ]
  },
  {
   "cell_type": "code",
   "execution_count": 15,
   "metadata": {
    "colab": {
     "base_uri": "https://localhost:8080/"
    },
    "executionInfo": {
     "elapsed": 907,
     "status": "ok",
     "timestamp": 1722995204425,
     "user": {
      "displayName": "Yong Song",
      "userId": "00576951217859821315"
     },
     "user_tz": -600
    },
    "id": "Z4K-Wv5Yas9D",
    "outputId": "bdc4c29b-500c-41ae-faa6-0ddba8ecc9a9"
   },
   "outputs": [
    {
     "name": "stdout",
     "output_type": "stream",
     "text": [
      "Optimization terminated successfully    (Exit mode 0)\n",
      "            Current function value: 0.5362180905387659\n",
      "            Iterations: 71\n",
      "            Function evaluations: 82\n",
      "            Gradient evaluations: 71\n",
      "                           Logit Regression Results                           \n",
      "==============================================================================\n",
      "Dep. Variable:                Default   No. Observations:                 1000\n",
      "Model:                          Logit   Df Residuals:                      986\n",
      "Method:                           MLE   Df Model:                           13\n",
      "Date:                Wed, 13 Aug 2025   Pseudo R-squ.:                  0.1851\n",
      "Time:                        19:55:20   Log-Likelihood:                -497.77\n",
      "converged:                       True   LL-Null:                       -610.86\n",
      "Covariance Type:            nonrobust   LLR p-value:                 5.517e-41\n",
      "===========================================================================================\n",
      "                              coef    std err          z      P>|z|      [0.025      0.975]\n",
      "-------------------------------------------------------------------------------------------\n",
      "Intercept                        0        nan        nan        nan         nan         nan\n",
      "checkingstatus1[T.A12]           0        nan        nan        nan         nan         nan\n",
      "checkingstatus1[T.A13]           0        nan        nan        nan         nan         nan\n",
      "checkingstatus1[T.A14]     -1.2718      0.174     -7.294      0.000      -1.614      -0.930\n",
      "history[T.poor]                  0        nan        nan        nan         nan         nan\n",
      "history[T.terrible]        -0.3873      0.180     -2.148      0.032      -0.741      -0.034\n",
      "purpose[T.edu]                   0        nan        nan        nan         nan         nan\n",
      "purpose[T.goods/repair]    -0.0285      0.197     -0.144      0.885      -0.415       0.358\n",
      "purpose[T.newcar]           0.3142      0.225      1.397      0.162      -0.127       0.755\n",
      "purpose[T.usedcar]         -0.1877      0.302     -0.621      0.535      -0.780       0.405\n",
      "savings[T.A62]                   0        nan        nan        nan         nan         nan\n",
      "savings[T.A63]                   0        nan        nan        nan         nan         nan\n",
      "savings[T.A64]                   0        nan        nan        nan         nan         nan\n",
      "savings[T.A65]             -0.3545      0.211     -1.681      0.093      -0.768       0.059\n",
      "employ[T.A72]                    0        nan        nan        nan         nan         nan\n",
      "employ[T.A73]                    0        nan        nan        nan         nan         nan\n",
      "employ[T.A74]              -0.2342      0.205     -1.144      0.252      -0.635       0.167\n",
      "employ[T.A75]                    0        nan        nan        nan         nan         nan\n",
      "status[T.A92]                    0        nan        nan        nan         nan         nan\n",
      "status[T.A93]              -0.1772      0.159     -1.116      0.265      -0.489       0.134\n",
      "status[T.A94]                    0        nan        nan        nan         nan         nan\n",
      "others[T.A102]                   0        nan        nan        nan         nan         nan\n",
      "others[T.A103]                   0        nan        nan        nan         nan         nan\n",
      "property[T.A122]                 0        nan        nan        nan         nan         nan\n",
      "property[T.A123]                 0        nan        nan        nan         nan         nan\n",
      "property[T.A124]                 0        nan        nan        nan         nan         nan\n",
      "otherplans[T.A142]               0        nan        nan        nan         nan         nan\n",
      "otherplans[T.A143]         -0.4000      0.173     -2.309      0.021      -0.739      -0.060\n",
      "housing[T.A152]            -0.3010      0.158     -1.907      0.057      -0.610       0.008\n",
      "housing[T.A153]                  0        nan        nan        nan         nan         nan\n",
      "job[T.A172]                      0        nan        nan        nan         nan         nan\n",
      "job[T.A173]                      0        nan        nan        nan         nan         nan\n",
      "job[T.A174]                      0        nan        nan        nan         nan         nan\n",
      "tele[T.A192]                     0        nan        nan        nan         nan         nan\n",
      "foreign[T.german]                0        nan        nan        nan         nan         nan\n",
      "rent[T.True]                     0        nan        nan        nan         nan         nan\n",
      "duration                    0.0251      0.008      3.157      0.002       0.010       0.041\n",
      "amount                   6.631e-05   3.54e-05      1.874      0.061   -3.05e-06       0.000\n",
      "installment                 0.1393      0.067      2.068      0.039       0.007       0.271\n",
      "residence                        0        nan        nan        nan         nan         nan\n",
      "age                        -0.0236      0.006     -3.834      0.000      -0.036      -0.012\n",
      "cards                            0        nan        nan        nan         nan         nan\n",
      "liable                           0        nan        nan        nan         nan         nan\n",
      "===========================================================================================\n"
     ]
    },
    {
     "name": "stderr",
     "output_type": "stream",
     "text": [
      "/Users/yongs1/miniforge3/lib/python3.12/site-packages/statsmodels/discrete/discrete_model.py:2385: RuntimeWarning:\n",
      "\n",
      "overflow encountered in exp\n",
      "\n",
      "/Users/yongs1/miniforge3/lib/python3.12/site-packages/statsmodels/discrete/discrete_model.py:2443: RuntimeWarning:\n",
      "\n",
      "divide by zero encountered in log\n",
      "\n"
     ]
    }
   ],
   "source": [
    "formula = \"Default~\" + \"+\".join(x_basic_list) # repetition\n",
    "logit_model_lasso = sm.Logit.from_formula(formula, data=df_credit)\n",
    "result = logit_model_lasso.fit_regularized(method='l1', alpha = 10)\n",
    "print(result.summary())"
   ]
  },
  {
   "cell_type": "markdown",
   "metadata": {
    "id": "o7JmskW6QiuO"
   },
   "source": [
    "$\\color{red}{Question:}$ what is `result.fittedvalues`? How to understand **nan** here?"
   ]
  },
  {
   "cell_type": "code",
   "execution_count": 16,
   "metadata": {
    "colab": {
     "base_uri": "https://localhost:8080/"
    },
    "executionInfo": {
     "elapsed": 331,
     "status": "ok",
     "timestamp": 1722995228138,
     "user": {
      "displayName": "Yong Song",
      "userId": "00576951217859821315"
     },
     "user_tz": -600
    },
    "id": "17rdWlPTQ4qJ",
    "outputId": "de068f03-d3ba-46f9-f66f-091a69ace6c4"
   },
   "outputs": [
    {
     "data": {
      "text/plain": [
       "np.float64(1023.9750233583865)"
      ]
     },
     "execution_count": 16,
     "metadata": {},
     "output_type": "execute_result"
    }
   ],
   "source": [
    "#AICc\n",
    "k = result.nnz_params\n",
    "n = result.nobs\n",
    "AICc = result.aic + 2 * k * (k+1) / (n - k - 1)\n",
    "AICc"
   ]
  },
  {
   "cell_type": "markdown",
   "metadata": {
    "id": "sgYAgpBzcGVE"
   },
   "source": [
    "AICc"
   ]
  },
  {
   "cell_type": "code",
   "execution_count": 17,
   "metadata": {
    "colab": {
     "base_uri": "https://localhost:8080/"
    },
    "executionInfo": {
     "elapsed": 21534,
     "status": "ok",
     "timestamp": 1722995263790,
     "user": {
      "displayName": "Yong Song",
      "userId": "00576951217859821315"
     },
     "user_tz": -600
    },
    "id": "tX8qEVPG3_r-",
    "outputId": "fe810292-e8c8-43fa-c56b-ed1956b09eb3"
   },
   "outputs": [
    {
     "name": "stderr",
     "output_type": "stream",
     "text": [
      "/Users/yongs1/miniforge3/lib/python3.12/site-packages/statsmodels/discrete/discrete_model.py:2385: RuntimeWarning:\n",
      "\n",
      "overflow encountered in exp\n",
      "\n",
      "/Users/yongs1/miniforge3/lib/python3.12/site-packages/statsmodels/discrete/discrete_model.py:2443: RuntimeWarning:\n",
      "\n",
      "divide by zero encountered in log\n",
      "\n"
     ]
    },
    {
     "name": "stdout",
     "output_type": "stream",
     "text": [
      "Optimization terminated successfully    (Exit mode 0)\n",
      "            Current function value: 0.4534650316478966\n",
      "            Iterations: 616\n",
      "            Function evaluations: 628\n",
      "            Gradient evaluations: 616\n",
      "Optimization terminated successfully    (Exit mode 0)\n",
      "            Current function value: 0.45354884917988164\n",
      "            Iterations: 564\n",
      "            Function evaluations: 575\n",
      "            Gradient evaluations: 564\n",
      "Optimization terminated successfully    (Exit mode 0)\n",
      "            Current function value: 0.45366499133152766\n",
      "            Iterations: 510\n",
      "            Function evaluations: 521\n",
      "            Gradient evaluations: 510\n",
      "Optimization terminated successfully    (Exit mode 0)\n",
      "            Current function value: 0.4538257497068215\n",
      "            Iterations: 470\n",
      "            Function evaluations: 481\n",
      "            Gradient evaluations: 470\n",
      "Optimization terminated successfully    (Exit mode 0)\n",
      "            Current function value: 0.4540479266496369\n",
      "            Iterations: 408\n",
      "            Function evaluations: 419\n",
      "            Gradient evaluations: 408\n",
      "Optimization terminated successfully    (Exit mode 0)\n",
      "            Current function value: 0.4543543369498262\n",
      "            Iterations: 391\n",
      "            Function evaluations: 403\n",
      "            Gradient evaluations: 391\n",
      "Optimization terminated successfully    (Exit mode 0)\n",
      "            Current function value: 0.4547756611355108\n",
      "            Iterations: 338\n",
      "            Function evaluations: 349\n",
      "            Gradient evaluations: 338\n",
      "Optimization terminated successfully    (Exit mode 0)\n",
      "            Current function value: 0.4553525739547377\n",
      "            Iterations: 320\n",
      "            Function evaluations: 332\n",
      "            Gradient evaluations: 320\n",
      "Optimization terminated successfully    (Exit mode 0)\n",
      "            Current function value: 0.456137858228679\n",
      "            Iterations: 310\n",
      "            Function evaluations: 321\n",
      "            Gradient evaluations: 310\n"
     ]
    },
    {
     "name": "stderr",
     "output_type": "stream",
     "text": [
      "/Users/yongs1/miniforge3/lib/python3.12/site-packages/statsmodels/base/l1_solvers_common.py:71: ConvergenceWarning:\n",
      "\n",
      "QC check did not pass for 1 out of 43 parameters\n",
      "Try increasing solver accuracy or number of iterations, decreasing alpha, or switch solvers\n",
      "\n",
      "/Users/yongs1/miniforge3/lib/python3.12/site-packages/statsmodels/base/l1_solvers_common.py:144: ConvergenceWarning:\n",
      "\n",
      "Could not trim params automatically due to failed QC check. Trimming using trim_mode == 'size' will still work.\n",
      "\n",
      "/Users/yongs1/miniforge3/lib/python3.12/site-packages/statsmodels/base/l1_solvers_common.py:71: ConvergenceWarning:\n",
      "\n",
      "QC check did not pass for 1 out of 43 parameters\n",
      "Try increasing solver accuracy or number of iterations, decreasing alpha, or switch solvers\n",
      "\n",
      "/Users/yongs1/miniforge3/lib/python3.12/site-packages/statsmodels/base/l1_solvers_common.py:144: ConvergenceWarning:\n",
      "\n",
      "Could not trim params automatically due to failed QC check. Trimming using trim_mode == 'size' will still work.\n",
      "\n"
     ]
    },
    {
     "name": "stdout",
     "output_type": "stream",
     "text": [
      "Optimization terminated successfully    (Exit mode 0)\n",
      "            Current function value: 0.457197941899767\n",
      "            Iterations: 266\n",
      "            Function evaluations: 277\n",
      "            Gradient evaluations: 266\n",
      "Optimization terminated successfully    (Exit mode 0)\n",
      "            Current function value: 0.45863154234092457\n",
      "            Iterations: 236\n",
      "            Function evaluations: 247\n",
      "            Gradient evaluations: 236\n"
     ]
    },
    {
     "name": "stderr",
     "output_type": "stream",
     "text": [
      "/Users/yongs1/miniforge3/lib/python3.12/site-packages/statsmodels/base/l1_solvers_common.py:71: ConvergenceWarning:\n",
      "\n",
      "QC check did not pass for 1 out of 43 parameters\n",
      "Try increasing solver accuracy or number of iterations, decreasing alpha, or switch solvers\n",
      "\n",
      "/Users/yongs1/miniforge3/lib/python3.12/site-packages/statsmodels/base/l1_solvers_common.py:144: ConvergenceWarning:\n",
      "\n",
      "Could not trim params automatically due to failed QC check. Trimming using trim_mode == 'size' will still work.\n",
      "\n"
     ]
    },
    {
     "name": "stdout",
     "output_type": "stream",
     "text": [
      "Optimization terminated successfully    (Exit mode 0)\n",
      "            Current function value: 0.4605678212275327\n",
      "            Iterations: 216\n",
      "            Function evaluations: 227\n",
      "            Gradient evaluations: 216\n",
      "Optimization terminated successfully    (Exit mode 0)\n",
      "            Current function value: 0.4631616689500055\n",
      "            Iterations: 216\n",
      "            Function evaluations: 227\n",
      "            Gradient evaluations: 216\n",
      "Optimization terminated successfully    (Exit mode 0)\n",
      "            Current function value: 0.46659274627730063\n",
      "            Iterations: 201\n",
      "            Function evaluations: 212\n",
      "            Gradient evaluations: 201\n",
      "Optimization terminated successfully    (Exit mode 0)\n",
      "            Current function value: 0.471035817704735\n",
      "            Iterations: 183\n",
      "            Function evaluations: 194\n",
      "            Gradient evaluations: 183\n",
      "Optimization terminated successfully    (Exit mode 0)\n",
      "            Current function value: 0.47663364660802376\n",
      "            Iterations: 172\n",
      "            Function evaluations: 183\n",
      "            Gradient evaluations: 172\n",
      "Optimization terminated successfully    (Exit mode 0)\n",
      "            Current function value: 0.48346688082533534\n",
      "            Iterations: 156\n",
      "            Function evaluations: 168\n",
      "            Gradient evaluations: 156\n",
      "Optimization terminated successfully    (Exit mode 0)\n",
      "            Current function value: 0.4917119007170225\n",
      "            Iterations: 144\n",
      "            Function evaluations: 155\n",
      "            Gradient evaluations: 144\n",
      "Optimization terminated successfully    (Exit mode 0)\n",
      "            Current function value: 0.5014017945407339\n",
      "            Iterations: 127\n",
      "            Function evaluations: 138\n",
      "            Gradient evaluations: 127\n",
      "Optimization terminated successfully    (Exit mode 0)\n",
      "            Current function value: 0.512287197309985\n",
      "            Iterations: 111\n",
      "            Function evaluations: 122\n",
      "            Gradient evaluations: 111\n",
      "Optimization terminated successfully    (Exit mode 0)\n",
      "            Current function value: 0.5239721987430677\n",
      "            Iterations: 89\n",
      "            Function evaluations: 100\n",
      "            Gradient evaluations: 89\n",
      "Optimization terminated successfully    (Exit mode 0)\n",
      "            Current function value: 0.5362180905387659\n",
      "            Iterations: 71\n",
      "            Function evaluations: 82\n",
      "            Gradient evaluations: 71\n",
      "Optimization terminated successfully    (Exit mode 0)\n",
      "            Current function value: 0.548966362416174\n",
      "            Iterations: 63\n",
      "            Function evaluations: 74\n",
      "            Gradient evaluations: 63\n",
      "Optimization terminated successfully    (Exit mode 0)\n",
      "            Current function value: 0.560739124727734\n",
      "            Iterations: 47\n",
      "            Function evaluations: 58\n",
      "            Gradient evaluations: 47\n",
      "Optimization terminated successfully    (Exit mode 0)\n",
      "            Current function value: 0.5706655512785171\n",
      "            Iterations: 27\n",
      "            Function evaluations: 38\n",
      "            Gradient evaluations: 27\n",
      "Optimization terminated successfully    (Exit mode 0)\n",
      "            Current function value: 0.5803666121043467\n",
      "            Iterations: 15\n",
      "            Function evaluations: 26\n",
      "            Gradient evaluations: 15\n",
      "Optimization terminated successfully    (Exit mode 0)\n",
      "            Current function value: 0.5897783153714277\n",
      "            Iterations: 12\n",
      "            Function evaluations: 23\n",
      "            Gradient evaluations: 12\n",
      "Optimization terminated successfully    (Exit mode 0)\n",
      "            Current function value: 0.5955085689535491\n",
      "            Iterations: 12\n",
      "            Function evaluations: 23\n",
      "            Gradient evaluations: 12\n",
      "Optimization terminated successfully    (Exit mode 0)\n",
      "            Current function value: 0.5970827000299308\n",
      "            Iterations: 8\n",
      "            Function evaluations: 19\n",
      "            Gradient evaluations: 8\n",
      "Optimization terminated successfully    (Exit mode 0)\n",
      "            Current function value: 0.5991372996815618\n",
      "            Iterations: 8\n",
      "            Function evaluations: 19\n",
      "            Gradient evaluations: 8\n",
      "Optimization terminated successfully    (Exit mode 0)\n",
      "            Current function value: 0.6017733590775914\n",
      "            Iterations: 8\n",
      "            Function evaluations: 19\n",
      "            Gradient evaluations: 8\n",
      "Optimization terminated successfully    (Exit mode 0)\n",
      "            Current function value: 0.6050202991337077\n",
      "            Iterations: 8\n",
      "            Function evaluations: 19\n",
      "            Gradient evaluations: 8\n",
      "Optimization terminated successfully    (Exit mode 0)\n",
      "            Current function value: 0.6087434975628201\n",
      "            Iterations: 9\n",
      "            Function evaluations: 20\n",
      "            Gradient evaluations: 9\n",
      "Optimization terminated successfully    (Exit mode 0)\n",
      "            Current function value: 0.6130398736950176\n",
      "            Iterations: 7\n",
      "            Function evaluations: 17\n",
      "            Gradient evaluations: 7\n",
      "Optimization terminated successfully    (Exit mode 0)\n",
      "            Current function value: 0.6187065855334948\n",
      "            Iterations: 7\n",
      "            Function evaluations: 17\n",
      "            Gradient evaluations: 7\n",
      "Optimization terminated successfully    (Exit mode 0)\n",
      "            Current function value: 0.6260341569525147\n",
      "            Iterations: 16\n",
      "            Function evaluations: 66\n",
      "            Gradient evaluations: 12\n",
      "Optimization terminated successfully    (Exit mode 0)\n",
      "            Current function value: 0.6351961231591258\n",
      "            Iterations: 6\n",
      "            Function evaluations: 17\n",
      "            Gradient evaluations: 6\n",
      "Optimization terminated successfully    (Exit mode 0)\n",
      "            Current function value: 0.6460371007515614\n",
      "            Iterations: 19\n",
      "            Function evaluations: 90\n",
      "            Gradient evaluations: 15\n",
      "Positive directional derivative for linesearch    (Exit mode 8)\n",
      "            Current function value: 0.6577215946340509\n",
      "            Iterations: 14\n",
      "            Function evaluations: 37\n",
      "            Gradient evaluations: 10\n",
      "Positive directional derivative for linesearch    (Exit mode 8)\n",
      "            Current function value: 0.6677524588749874\n",
      "            Iterations: 27\n",
      "            Function evaluations: 180\n",
      "            Gradient evaluations: 23\n",
      "Positive directional derivative for linesearch    (Exit mode 8)\n",
      "            Current function value: 0.6707687197988033\n",
      "            Iterations: 11\n",
      "            Function evaluations: 24\n",
      "            Gradient evaluations: 7\n",
      "Positive directional derivative for linesearch    (Exit mode 8)\n",
      "            Current function value: 0.6709764804474491\n",
      "            Iterations: 24\n",
      "            Function evaluations: 170\n",
      "            Gradient evaluations: 20\n",
      "Positive directional derivative for linesearch    (Exit mode 8)\n",
      "            Current function value: 0.6712633850222521\n",
      "            Iterations: 13\n",
      "            Function evaluations: 51\n",
      "            Gradient evaluations: 9\n",
      "Positive directional derivative for linesearch    (Exit mode 8)\n",
      "            Current function value: 0.6716586249572525\n",
      "            Iterations: 17\n",
      "            Function evaluations: 81\n",
      "            Gradient evaluations: 13\n",
      "Positive directional derivative for linesearch    (Exit mode 8)\n",
      "            Current function value: 0.6722012022701227\n",
      "            Iterations: 20\n",
      "            Function evaluations: 71\n",
      "            Gradient evaluations: 16\n",
      "Optimization terminated successfully    (Exit mode 0)\n",
      "            Current function value: 0.6729426327995891\n",
      "            Iterations: 8\n",
      "            Function evaluations: 25\n",
      "            Gradient evaluations: 6\n",
      "Positive directional derivative for linesearch    (Exit mode 8)\n",
      "            Current function value: 0.6739229579544296\n",
      "            Iterations: 16\n",
      "            Function evaluations: 76\n",
      "            Gradient evaluations: 12\n",
      "Positive directional derivative for linesearch    (Exit mode 8)\n",
      "            Current function value: 0.6731643324583969\n",
      "            Iterations: 12\n",
      "            Function evaluations: 33\n",
      "            Gradient evaluations: 8\n",
      "Positive directional derivative for linesearch    (Exit mode 8)\n",
      "            Current function value: 0.6767967350791259\n",
      "            Iterations: 16\n",
      "            Function evaluations: 96\n",
      "            Gradient evaluations: 12\n",
      "Positive directional derivative for linesearch    (Exit mode 8)\n",
      "            Current function value: 0.6793831281615761\n",
      "            Iterations: 11\n",
      "            Function evaluations: 34\n",
      "            Gradient evaluations: 7\n"
     ]
    },
    {
     "name": "stderr",
     "output_type": "stream",
     "text": [
      "/Users/yongs1/miniforge3/lib/python3.12/site-packages/statsmodels/base/model.py:607: ConvergenceWarning:\n",
      "\n",
      "Maximum Likelihood optimization failed to converge. Check mle_retvals\n",
      "\n",
      "/Users/yongs1/miniforge3/lib/python3.12/site-packages/statsmodels/base/model.py:607: ConvergenceWarning:\n",
      "\n",
      "Maximum Likelihood optimization failed to converge. Check mle_retvals\n",
      "\n",
      "/Users/yongs1/miniforge3/lib/python3.12/site-packages/statsmodels/base/model.py:607: ConvergenceWarning:\n",
      "\n",
      "Maximum Likelihood optimization failed to converge. Check mle_retvals\n",
      "\n",
      "/Users/yongs1/miniforge3/lib/python3.12/site-packages/statsmodels/base/model.py:607: ConvergenceWarning:\n",
      "\n",
      "Maximum Likelihood optimization failed to converge. Check mle_retvals\n",
      "\n",
      "/Users/yongs1/miniforge3/lib/python3.12/site-packages/statsmodels/base/model.py:607: ConvergenceWarning:\n",
      "\n",
      "Maximum Likelihood optimization failed to converge. Check mle_retvals\n",
      "\n",
      "/Users/yongs1/miniforge3/lib/python3.12/site-packages/statsmodels/base/model.py:607: ConvergenceWarning:\n",
      "\n",
      "Maximum Likelihood optimization failed to converge. Check mle_retvals\n",
      "\n",
      "/Users/yongs1/miniforge3/lib/python3.12/site-packages/statsmodels/base/model.py:607: ConvergenceWarning:\n",
      "\n",
      "Maximum Likelihood optimization failed to converge. Check mle_retvals\n",
      "\n",
      "/Users/yongs1/miniforge3/lib/python3.12/site-packages/statsmodels/base/model.py:607: ConvergenceWarning:\n",
      "\n",
      "Maximum Likelihood optimization failed to converge. Check mle_retvals\n",
      "\n",
      "/Users/yongs1/miniforge3/lib/python3.12/site-packages/statsmodels/base/model.py:607: ConvergenceWarning:\n",
      "\n",
      "Maximum Likelihood optimization failed to converge. Check mle_retvals\n",
      "\n",
      "/Users/yongs1/miniforge3/lib/python3.12/site-packages/statsmodels/base/model.py:607: ConvergenceWarning:\n",
      "\n",
      "Maximum Likelihood optimization failed to converge. Check mle_retvals\n",
      "\n",
      "/Users/yongs1/miniforge3/lib/python3.12/site-packages/statsmodels/base/model.py:607: ConvergenceWarning:\n",
      "\n",
      "Maximum Likelihood optimization failed to converge. Check mle_retvals\n",
      "\n"
     ]
    }
   ],
   "source": [
    "formula = \"Default~\" + \"+\".join(x_basic_list) # repetition\n",
    "logit_model_lasso = sm.Logit.from_formula(formula, data=df_credit) # still repetition, ha\n",
    "\n",
    "alphas = np.logspace(-2, 5, 50)\n",
    "AICcs = []\n",
    "Ks = []\n",
    "\n",
    "for alpha in alphas:\n",
    "  result = logit_model_lasso.fit_regularized(method='l1', alpha = alpha)\n",
    "  k = result.nnz_params\n",
    "  n = result.nobs\n",
    "  Ks.append(k)\n",
    "  AICcs.append(result.aic + 2 * k * (k+1) / (n - k - 1))"
   ]
  },
  {
   "cell_type": "markdown",
   "metadata": {},
   "source": [
    "*Maximum Likelihood optimization failed to converge. Check mle_retvals* comes from colinearity."
   ]
  },
  {
   "cell_type": "code",
   "execution_count": 18,
   "metadata": {
    "colab": {
     "base_uri": "https://localhost:8080/",
     "height": 542
    },
    "executionInfo": {
     "elapsed": 383,
     "status": "ok",
     "timestamp": 1722995348588,
     "user": {
      "displayName": "Yong Song",
      "userId": "00576951217859821315"
     },
     "user_tz": -600
    },
    "id": "CVeYjFiBWrOm",
    "outputId": "ce425072-b579-4174-8996-b823c6d85e3e"
   },
   "outputs": [
    {
     "data": {
      "application/vnd.plotly.v1+json": {
       "config": {
        "plotlyServerURL": "https://plot.ly"
       },
       "data": [
        {
         "mode": "markers",
         "name": "AICc",
         "type": "scatter",
         "x": {
          "bdata": "exSuR+F6hD85c4BI9XSMPyodKVA1xZM/bdU7rIZ4mz+1OG7m1BWjP7+4J0/XhKo/NdvkMohssj+amZmZmZm5PwRIUE0ZycE/dWQzpIK2yD9iZaUrVCvRP+LGCSBK29c/d9N4kQaT4D//EZ4/qgfnPwAAAAAAAPA/BVqkoF879j+SPUBNI+T+P7q+jjYpdgVAljgMqBzSDUBSCNc1yLcUQHuWhc+UyRxAAAAAAAAAJECGcM2IN8orQHsmSBCWTjNAaW4yhLPTOkBeowfpUaNCQGfKTEO65UlADX6zAf39UUAAAAAAAABZQE9mgLViXmFAGjBalDsiaED8hJ8yUMRwQDWMSWMmTHdAhf4PapQvgECQXSBCfH2GQAAAAAAAQI9A43/gYvu1lUAgvHB5yiqeQDxmRz9k9aRAQu8b/C8frUAa/pOEeTu0QPR0qFLbHLxAAAAAAACIw0Dbn5g7eiPLQJR15ou+2tJAyz8ZT70y2kCJdZH9fTPiQKH9uOVXSulAGUmpEwmS8UAAAAAAAGr4QA==",
          "dtype": "f8"
         },
         "y": [
          1020.9839563236518,
          1033.5078445550125,
          1041.6210434720906,
          998.0281469317032,
          1041.5921234873222,
          1041.5748599832184,
          1041.5591938218263,
          996.5823703080988,
          996.6984375439176,
          994.718378154871,
          997.1139366608841,
          1034.12613072138,
          987.2774985304619,
          1029.947618380854,
          990.7754209297377,
          994.5924055826492,
          989.5704593622597,
          988.6706690977074,
          990.9145408604282,
          1001.0825472717054,
          1011.5949296698362,
          1023.9750233583865,
          1045.540644860117,
          1077.5249475307246,
          1094.4782395273335,
          1108.5458155812773,
          1136.614438208462,
          1187.6053368612959,
          1189.2978231787777,
          1190.1122230993062,
          1191.6625572251214,
          1194.6050237648337,
          1200.1799967728866,
          1200.1319625336175,
          1202.1816366523208,
          1206.022142266776,
          1213.1651344494553,
          1226.361578198291,
          1249.4391783089568,
          1293.378142286555,
          1342.4718805761663,
          1342.4784424619208,
          1342.4910836688819,
          1342.5154159204808,
          1342.5621980554147,
          1342.6520018602766,
          1342.8240314147736,
          1343.1527439891092,
          1343.778248190732,
          1344.963662983487
         ]
        },
        {
         "mode": "markers",
         "name": "K",
         "type": "scatter",
         "x": {
          "bdata": "exSuR+F6hD85c4BI9XSMPyodKVA1xZM/bdU7rIZ4mz+1OG7m1BWjP7+4J0/XhKo/NdvkMohssj+amZmZmZm5PwRIUE0ZycE/dWQzpIK2yD9iZaUrVCvRP+LGCSBK29c/d9N4kQaT4D//EZ4/qgfnPwAAAAAAAPA/BVqkoF879j+SPUBNI+T+P7q+jjYpdgVAljgMqBzSDUBSCNc1yLcUQHuWhc+UyRxAAAAAAAAAJECGcM2IN8orQHsmSBCWTjNAaW4yhLPTOkBeowfpUaNCQGfKTEO65UlADX6zAf39UUAAAAAAAABZQE9mgLViXmFAGjBalDsiaED8hJ8yUMRwQDWMSWMmTHdAhf4PapQvgECQXSBCfH2GQAAAAAAAQI9A43/gYvu1lUAgvHB5yiqeQDxmRz9k9aRAQu8b/C8frUAa/pOEeTu0QPR0qFLbHLxAAAAAAACIw0Dbn5g7eiPLQJR15ou+2tJAyz8ZT70y2kCJdZH9fTPiQKH9uOVXSulAGUmpEwmS8UAAAAAAAGr4QA==",
          "dtype": "f8"
         },
         "y": [
          36,
          40,
          42,
          42,
          42,
          42,
          42,
          43,
          43,
          42,
          43,
          39,
          38,
          37,
          38,
          38,
          33,
          29,
          25,
          22,
          18,
          14,
          12,
          10,
          5,
          4,
          4,
          4,
          3,
          3,
          3,
          3,
          3,
          2,
          2,
          2,
          2,
          2,
          2,
          2,
          1,
          1,
          1,
          1,
          1,
          1,
          1,
          1,
          1,
          1
         ],
         "yaxis": "y2"
        }
       ],
       "layout": {
        "template": {
         "data": {
          "bar": [
           {
            "error_x": {
             "color": "#2a3f5f"
            },
            "error_y": {
             "color": "#2a3f5f"
            },
            "marker": {
             "line": {
              "color": "#E5ECF6",
              "width": 0.5
             },
             "pattern": {
              "fillmode": "overlay",
              "size": 10,
              "solidity": 0.2
             }
            },
            "type": "bar"
           }
          ],
          "barpolar": [
           {
            "marker": {
             "line": {
              "color": "#E5ECF6",
              "width": 0.5
             },
             "pattern": {
              "fillmode": "overlay",
              "size": 10,
              "solidity": 0.2
             }
            },
            "type": "barpolar"
           }
          ],
          "carpet": [
           {
            "aaxis": {
             "endlinecolor": "#2a3f5f",
             "gridcolor": "white",
             "linecolor": "white",
             "minorgridcolor": "white",
             "startlinecolor": "#2a3f5f"
            },
            "baxis": {
             "endlinecolor": "#2a3f5f",
             "gridcolor": "white",
             "linecolor": "white",
             "minorgridcolor": "white",
             "startlinecolor": "#2a3f5f"
            },
            "type": "carpet"
           }
          ],
          "choropleth": [
           {
            "colorbar": {
             "outlinewidth": 0,
             "ticks": ""
            },
            "type": "choropleth"
           }
          ],
          "contour": [
           {
            "colorbar": {
             "outlinewidth": 0,
             "ticks": ""
            },
            "colorscale": [
             [
              0,
              "#0d0887"
             ],
             [
              0.1111111111111111,
              "#46039f"
             ],
             [
              0.2222222222222222,
              "#7201a8"
             ],
             [
              0.3333333333333333,
              "#9c179e"
             ],
             [
              0.4444444444444444,
              "#bd3786"
             ],
             [
              0.5555555555555556,
              "#d8576b"
             ],
             [
              0.6666666666666666,
              "#ed7953"
             ],
             [
              0.7777777777777778,
              "#fb9f3a"
             ],
             [
              0.8888888888888888,
              "#fdca26"
             ],
             [
              1,
              "#f0f921"
             ]
            ],
            "type": "contour"
           }
          ],
          "contourcarpet": [
           {
            "colorbar": {
             "outlinewidth": 0,
             "ticks": ""
            },
            "type": "contourcarpet"
           }
          ],
          "heatmap": [
           {
            "colorbar": {
             "outlinewidth": 0,
             "ticks": ""
            },
            "colorscale": [
             [
              0,
              "#0d0887"
             ],
             [
              0.1111111111111111,
              "#46039f"
             ],
             [
              0.2222222222222222,
              "#7201a8"
             ],
             [
              0.3333333333333333,
              "#9c179e"
             ],
             [
              0.4444444444444444,
              "#bd3786"
             ],
             [
              0.5555555555555556,
              "#d8576b"
             ],
             [
              0.6666666666666666,
              "#ed7953"
             ],
             [
              0.7777777777777778,
              "#fb9f3a"
             ],
             [
              0.8888888888888888,
              "#fdca26"
             ],
             [
              1,
              "#f0f921"
             ]
            ],
            "type": "heatmap"
           }
          ],
          "histogram": [
           {
            "marker": {
             "pattern": {
              "fillmode": "overlay",
              "size": 10,
              "solidity": 0.2
             }
            },
            "type": "histogram"
           }
          ],
          "histogram2d": [
           {
            "colorbar": {
             "outlinewidth": 0,
             "ticks": ""
            },
            "colorscale": [
             [
              0,
              "#0d0887"
             ],
             [
              0.1111111111111111,
              "#46039f"
             ],
             [
              0.2222222222222222,
              "#7201a8"
             ],
             [
              0.3333333333333333,
              "#9c179e"
             ],
             [
              0.4444444444444444,
              "#bd3786"
             ],
             [
              0.5555555555555556,
              "#d8576b"
             ],
             [
              0.6666666666666666,
              "#ed7953"
             ],
             [
              0.7777777777777778,
              "#fb9f3a"
             ],
             [
              0.8888888888888888,
              "#fdca26"
             ],
             [
              1,
              "#f0f921"
             ]
            ],
            "type": "histogram2d"
           }
          ],
          "histogram2dcontour": [
           {
            "colorbar": {
             "outlinewidth": 0,
             "ticks": ""
            },
            "colorscale": [
             [
              0,
              "#0d0887"
             ],
             [
              0.1111111111111111,
              "#46039f"
             ],
             [
              0.2222222222222222,
              "#7201a8"
             ],
             [
              0.3333333333333333,
              "#9c179e"
             ],
             [
              0.4444444444444444,
              "#bd3786"
             ],
             [
              0.5555555555555556,
              "#d8576b"
             ],
             [
              0.6666666666666666,
              "#ed7953"
             ],
             [
              0.7777777777777778,
              "#fb9f3a"
             ],
             [
              0.8888888888888888,
              "#fdca26"
             ],
             [
              1,
              "#f0f921"
             ]
            ],
            "type": "histogram2dcontour"
           }
          ],
          "mesh3d": [
           {
            "colorbar": {
             "outlinewidth": 0,
             "ticks": ""
            },
            "type": "mesh3d"
           }
          ],
          "parcoords": [
           {
            "line": {
             "colorbar": {
              "outlinewidth": 0,
              "ticks": ""
             }
            },
            "type": "parcoords"
           }
          ],
          "pie": [
           {
            "automargin": true,
            "type": "pie"
           }
          ],
          "scatter": [
           {
            "fillpattern": {
             "fillmode": "overlay",
             "size": 10,
             "solidity": 0.2
            },
            "type": "scatter"
           }
          ],
          "scatter3d": [
           {
            "line": {
             "colorbar": {
              "outlinewidth": 0,
              "ticks": ""
             }
            },
            "marker": {
             "colorbar": {
              "outlinewidth": 0,
              "ticks": ""
             }
            },
            "type": "scatter3d"
           }
          ],
          "scattercarpet": [
           {
            "marker": {
             "colorbar": {
              "outlinewidth": 0,
              "ticks": ""
             }
            },
            "type": "scattercarpet"
           }
          ],
          "scattergeo": [
           {
            "marker": {
             "colorbar": {
              "outlinewidth": 0,
              "ticks": ""
             }
            },
            "type": "scattergeo"
           }
          ],
          "scattergl": [
           {
            "marker": {
             "colorbar": {
              "outlinewidth": 0,
              "ticks": ""
             }
            },
            "type": "scattergl"
           }
          ],
          "scattermap": [
           {
            "marker": {
             "colorbar": {
              "outlinewidth": 0,
              "ticks": ""
             }
            },
            "type": "scattermap"
           }
          ],
          "scattermapbox": [
           {
            "marker": {
             "colorbar": {
              "outlinewidth": 0,
              "ticks": ""
             }
            },
            "type": "scattermapbox"
           }
          ],
          "scatterpolar": [
           {
            "marker": {
             "colorbar": {
              "outlinewidth": 0,
              "ticks": ""
             }
            },
            "type": "scatterpolar"
           }
          ],
          "scatterpolargl": [
           {
            "marker": {
             "colorbar": {
              "outlinewidth": 0,
              "ticks": ""
             }
            },
            "type": "scatterpolargl"
           }
          ],
          "scatterternary": [
           {
            "marker": {
             "colorbar": {
              "outlinewidth": 0,
              "ticks": ""
             }
            },
            "type": "scatterternary"
           }
          ],
          "surface": [
           {
            "colorbar": {
             "outlinewidth": 0,
             "ticks": ""
            },
            "colorscale": [
             [
              0,
              "#0d0887"
             ],
             [
              0.1111111111111111,
              "#46039f"
             ],
             [
              0.2222222222222222,
              "#7201a8"
             ],
             [
              0.3333333333333333,
              "#9c179e"
             ],
             [
              0.4444444444444444,
              "#bd3786"
             ],
             [
              0.5555555555555556,
              "#d8576b"
             ],
             [
              0.6666666666666666,
              "#ed7953"
             ],
             [
              0.7777777777777778,
              "#fb9f3a"
             ],
             [
              0.8888888888888888,
              "#fdca26"
             ],
             [
              1,
              "#f0f921"
             ]
            ],
            "type": "surface"
           }
          ],
          "table": [
           {
            "cells": {
             "fill": {
              "color": "#EBF0F8"
             },
             "line": {
              "color": "white"
             }
            },
            "header": {
             "fill": {
              "color": "#C8D4E3"
             },
             "line": {
              "color": "white"
             }
            },
            "type": "table"
           }
          ]
         },
         "layout": {
          "annotationdefaults": {
           "arrowcolor": "#2a3f5f",
           "arrowhead": 0,
           "arrowwidth": 1
          },
          "autotypenumbers": "strict",
          "coloraxis": {
           "colorbar": {
            "outlinewidth": 0,
            "ticks": ""
           }
          },
          "colorscale": {
           "diverging": [
            [
             0,
             "#8e0152"
            ],
            [
             0.1,
             "#c51b7d"
            ],
            [
             0.2,
             "#de77ae"
            ],
            [
             0.3,
             "#f1b6da"
            ],
            [
             0.4,
             "#fde0ef"
            ],
            [
             0.5,
             "#f7f7f7"
            ],
            [
             0.6,
             "#e6f5d0"
            ],
            [
             0.7,
             "#b8e186"
            ],
            [
             0.8,
             "#7fbc41"
            ],
            [
             0.9,
             "#4d9221"
            ],
            [
             1,
             "#276419"
            ]
           ],
           "sequential": [
            [
             0,
             "#0d0887"
            ],
            [
             0.1111111111111111,
             "#46039f"
            ],
            [
             0.2222222222222222,
             "#7201a8"
            ],
            [
             0.3333333333333333,
             "#9c179e"
            ],
            [
             0.4444444444444444,
             "#bd3786"
            ],
            [
             0.5555555555555556,
             "#d8576b"
            ],
            [
             0.6666666666666666,
             "#ed7953"
            ],
            [
             0.7777777777777778,
             "#fb9f3a"
            ],
            [
             0.8888888888888888,
             "#fdca26"
            ],
            [
             1,
             "#f0f921"
            ]
           ],
           "sequentialminus": [
            [
             0,
             "#0d0887"
            ],
            [
             0.1111111111111111,
             "#46039f"
            ],
            [
             0.2222222222222222,
             "#7201a8"
            ],
            [
             0.3333333333333333,
             "#9c179e"
            ],
            [
             0.4444444444444444,
             "#bd3786"
            ],
            [
             0.5555555555555556,
             "#d8576b"
            ],
            [
             0.6666666666666666,
             "#ed7953"
            ],
            [
             0.7777777777777778,
             "#fb9f3a"
            ],
            [
             0.8888888888888888,
             "#fdca26"
            ],
            [
             1,
             "#f0f921"
            ]
           ]
          },
          "colorway": [
           "#636efa",
           "#EF553B",
           "#00cc96",
           "#ab63fa",
           "#FFA15A",
           "#19d3f3",
           "#FF6692",
           "#B6E880",
           "#FF97FF",
           "#FECB52"
          ],
          "font": {
           "color": "#2a3f5f"
          },
          "geo": {
           "bgcolor": "white",
           "lakecolor": "white",
           "landcolor": "#E5ECF6",
           "showlakes": true,
           "showland": true,
           "subunitcolor": "white"
          },
          "hoverlabel": {
           "align": "left"
          },
          "hovermode": "closest",
          "mapbox": {
           "style": "light"
          },
          "paper_bgcolor": "white",
          "plot_bgcolor": "#E5ECF6",
          "polar": {
           "angularaxis": {
            "gridcolor": "white",
            "linecolor": "white",
            "ticks": ""
           },
           "bgcolor": "#E5ECF6",
           "radialaxis": {
            "gridcolor": "white",
            "linecolor": "white",
            "ticks": ""
           }
          },
          "scene": {
           "xaxis": {
            "backgroundcolor": "#E5ECF6",
            "gridcolor": "white",
            "gridwidth": 2,
            "linecolor": "white",
            "showbackground": true,
            "ticks": "",
            "zerolinecolor": "white"
           },
           "yaxis": {
            "backgroundcolor": "#E5ECF6",
            "gridcolor": "white",
            "gridwidth": 2,
            "linecolor": "white",
            "showbackground": true,
            "ticks": "",
            "zerolinecolor": "white"
           },
           "zaxis": {
            "backgroundcolor": "#E5ECF6",
            "gridcolor": "white",
            "gridwidth": 2,
            "linecolor": "white",
            "showbackground": true,
            "ticks": "",
            "zerolinecolor": "white"
           }
          },
          "shapedefaults": {
           "line": {
            "color": "#2a3f5f"
           }
          },
          "ternary": {
           "aaxis": {
            "gridcolor": "white",
            "linecolor": "white",
            "ticks": ""
           },
           "baxis": {
            "gridcolor": "white",
            "linecolor": "white",
            "ticks": ""
           },
           "bgcolor": "#E5ECF6",
           "caxis": {
            "gridcolor": "white",
            "linecolor": "white",
            "ticks": ""
           }
          },
          "title": {
           "x": 0.05
          },
          "xaxis": {
           "automargin": true,
           "gridcolor": "white",
           "linecolor": "white",
           "ticks": "",
           "title": {
            "standoff": 15
           },
           "zerolinecolor": "white",
           "zerolinewidth": 2
          },
          "yaxis": {
           "automargin": true,
           "gridcolor": "white",
           "linecolor": "white",
           "ticks": "",
           "title": {
            "standoff": 15
           },
           "zerolinecolor": "white",
           "zerolinewidth": 2
          }
         }
        },
        "title": {
         "text": "AICc and K"
        },
        "xaxis": {
         "title": {
          "text": "alpha"
         },
         "type": "log"
        },
        "yaxis": {
         "title": {
          "text": "AICc"
         }
        },
        "yaxis2": {
         "overlaying": "y",
         "side": "right",
         "title": {
          "text": "K"
         }
        }
       }
      }
     },
     "metadata": {},
     "output_type": "display_data"
    }
   ],
   "source": [
    "fig = go.Figure()\n",
    "\n",
    "fig.add_trace(\n",
    "    go.Scatter(x=alphas, y=AICcs, mode='markers', name='AICc')\n",
    ")\n",
    "fig.add_trace(\n",
    "    go.Scatter(x=alphas, y=Ks, mode='markers', name='K', yaxis='y2')\n",
    ")\n",
    "fig.update_layout(\n",
    "    yaxis=dict(title='AICc')\n",
    ")\n",
    "fig.update_layout(\n",
    "    yaxis2=dict(title='K', overlaying='y', side='right')\n",
    ")\n",
    "\n",
    "# Set title and show the plot\n",
    "fig.update_layout(\n",
    "    title='AICc and K',\n",
    "    xaxis_type='log',\n",
    "    xaxis_title='alpha'\n",
    ")\n",
    "fig.show()"
   ]
  },
  {
   "cell_type": "markdown",
   "metadata": {
    "id": "WFvmU6-nc4Uw"
   },
   "source": [
    "## Interactions!\n",
    "\n",
    "The power of machine learning."
   ]
  },
  {
   "cell_type": "code",
   "execution_count": 19,
   "metadata": {
    "colab": {
     "base_uri": "https://localhost:8080/",
     "height": 52
    },
    "executionInfo": {
     "elapsed": 331,
     "status": "ok",
     "timestamp": 1722995420798,
     "user": {
      "displayName": "Yong Song",
      "userId": "00576951217859821315"
     },
     "user_tz": -600
    },
    "id": "RIyMR3B4dk5i",
    "outputId": "4ae68a33-db7f-4c54-eace-d13cc4fb7916"
   },
   "outputs": [
    {
     "data": {
      "text/plain": [
       "'Default~(checkingstatus1+duration+history+purpose+amount+savings+employ+installment+status+others+residence+property+age+otherplans+housing+cards+job+liable+tele+foreign+rent)**2'"
      ]
     },
     "execution_count": 19,
     "metadata": {},
     "output_type": "execute_result"
    }
   ],
   "source": [
    "formula = \"Default~\" + \"(\" +\"+\".join(x_basic_list) + \")**2\"\n",
    "formula"
   ]
  },
  {
   "cell_type": "code",
   "execution_count": null,
   "metadata": {
    "id": "UGENbO4XdMGt"
   },
   "outputs": [
    {
     "name": "stderr",
     "output_type": "stream",
     "text": [
      "/Users/yongs1/miniforge3/lib/python3.12/site-packages/statsmodels/discrete/discrete_model.py:2385: RuntimeWarning:\n",
      "\n",
      "overflow encountered in exp\n",
      "\n",
      "/Users/yongs1/miniforge3/lib/python3.12/site-packages/statsmodels/discrete/discrete_model.py:2443: RuntimeWarning:\n",
      "\n",
      "divide by zero encountered in log\n",
      "\n"
     ]
    },
    {
     "name": "stdout",
     "output_type": "stream",
     "text": [
      "Warning: Maximum number of iterations has been exceeded.\n",
      "         Current function value: inf\n",
      "         Iterations: 35\n"
     ]
    },
    {
     "ename": "LinAlgError",
     "evalue": "Singular matrix",
     "output_type": "error",
     "traceback": [
      "\u001b[31m---------------------------------------------------------------------------\u001b[39m",
      "\u001b[31mLinAlgError\u001b[39m                               Traceback (most recent call last)",
      "\u001b[36mCell\u001b[39m\u001b[36m \u001b[39m\u001b[32mIn[20]\u001b[39m\u001b[32m, line 3\u001b[39m\n\u001b[32m      1\u001b[39m \u001b[38;5;66;03m# This does not work because of no regulation\u001b[39;00m\n\u001b[32m      2\u001b[39m logit_model = sm.Logit.from_formula(formula, data=df_credit)\n\u001b[32m----> \u001b[39m\u001b[32m3\u001b[39m result = \u001b[43mlogit_model\u001b[49m\u001b[43m.\u001b[49m\u001b[43mfit\u001b[49m\u001b[43m(\u001b[49m\u001b[43m)\u001b[49m\n\u001b[32m      4\u001b[39m \u001b[38;5;28mprint\u001b[39m(result.summary())\n",
      "\u001b[36mFile \u001b[39m\u001b[32m~/miniforge3/lib/python3.12/site-packages/statsmodels/discrete/discrete_model.py:2601\u001b[39m, in \u001b[36mLogit.fit\u001b[39m\u001b[34m(self, start_params, method, maxiter, full_output, disp, callback, **kwargs)\u001b[39m\n\u001b[32m   2598\u001b[39m \u001b[38;5;129m@Appender\u001b[39m(DiscreteModel.fit.\u001b[34m__doc__\u001b[39m)\n\u001b[32m   2599\u001b[39m \u001b[38;5;28;01mdef\u001b[39;00m\u001b[38;5;250m \u001b[39m\u001b[34mfit\u001b[39m(\u001b[38;5;28mself\u001b[39m, start_params=\u001b[38;5;28;01mNone\u001b[39;00m, method=\u001b[33m'\u001b[39m\u001b[33mnewton\u001b[39m\u001b[33m'\u001b[39m, maxiter=\u001b[32m35\u001b[39m,\n\u001b[32m   2600\u001b[39m         full_output=\u001b[32m1\u001b[39m, disp=\u001b[32m1\u001b[39m, callback=\u001b[38;5;28;01mNone\u001b[39;00m, **kwargs):\n\u001b[32m-> \u001b[39m\u001b[32m2601\u001b[39m     bnryfit = \u001b[38;5;28;43msuper\u001b[39;49m\u001b[43m(\u001b[49m\u001b[43m)\u001b[49m\u001b[43m.\u001b[49m\u001b[43mfit\u001b[49m\u001b[43m(\u001b[49m\u001b[43mstart_params\u001b[49m\u001b[43m=\u001b[49m\u001b[43mstart_params\u001b[49m\u001b[43m,\u001b[49m\n\u001b[32m   2602\u001b[39m \u001b[43m                          \u001b[49m\u001b[43mmethod\u001b[49m\u001b[43m=\u001b[49m\u001b[43mmethod\u001b[49m\u001b[43m,\u001b[49m\n\u001b[32m   2603\u001b[39m \u001b[43m                          \u001b[49m\u001b[43mmaxiter\u001b[49m\u001b[43m=\u001b[49m\u001b[43mmaxiter\u001b[49m\u001b[43m,\u001b[49m\n\u001b[32m   2604\u001b[39m \u001b[43m                          \u001b[49m\u001b[43mfull_output\u001b[49m\u001b[43m=\u001b[49m\u001b[43mfull_output\u001b[49m\u001b[43m,\u001b[49m\n\u001b[32m   2605\u001b[39m \u001b[43m                          \u001b[49m\u001b[43mdisp\u001b[49m\u001b[43m=\u001b[49m\u001b[43mdisp\u001b[49m\u001b[43m,\u001b[49m\n\u001b[32m   2606\u001b[39m \u001b[43m                          \u001b[49m\u001b[43mcallback\u001b[49m\u001b[43m=\u001b[49m\u001b[43mcallback\u001b[49m\u001b[43m,\u001b[49m\n\u001b[32m   2607\u001b[39m \u001b[43m                          \u001b[49m\u001b[43m*\u001b[49m\u001b[43m*\u001b[49m\u001b[43mkwargs\u001b[49m\u001b[43m)\u001b[49m\n\u001b[32m   2609\u001b[39m     discretefit = LogitResults(\u001b[38;5;28mself\u001b[39m, bnryfit)\n\u001b[32m   2610\u001b[39m     \u001b[38;5;28;01mreturn\u001b[39;00m BinaryResultsWrapper(discretefit)\n",
      "\u001b[36mFile \u001b[39m\u001b[32m~/miniforge3/lib/python3.12/site-packages/statsmodels/discrete/discrete_model.py:243\u001b[39m, in \u001b[36mDiscreteModel.fit\u001b[39m\u001b[34m(self, start_params, method, maxiter, full_output, disp, callback, **kwargs)\u001b[39m\n\u001b[32m    240\u001b[39m \u001b[38;5;28;01melse\u001b[39;00m:\n\u001b[32m    241\u001b[39m     \u001b[38;5;28;01mpass\u001b[39;00m  \u001b[38;5;66;03m# TODO: make a function factory to have multiple call-backs\u001b[39;00m\n\u001b[32m--> \u001b[39m\u001b[32m243\u001b[39m mlefit = \u001b[38;5;28;43msuper\u001b[39;49m\u001b[43m(\u001b[49m\u001b[43m)\u001b[49m\u001b[43m.\u001b[49m\u001b[43mfit\u001b[49m\u001b[43m(\u001b[49m\u001b[43mstart_params\u001b[49m\u001b[43m=\u001b[49m\u001b[43mstart_params\u001b[49m\u001b[43m,\u001b[49m\n\u001b[32m    244\u001b[39m \u001b[43m                     \u001b[49m\u001b[43mmethod\u001b[49m\u001b[43m=\u001b[49m\u001b[43mmethod\u001b[49m\u001b[43m,\u001b[49m\n\u001b[32m    245\u001b[39m \u001b[43m                     \u001b[49m\u001b[43mmaxiter\u001b[49m\u001b[43m=\u001b[49m\u001b[43mmaxiter\u001b[49m\u001b[43m,\u001b[49m\n\u001b[32m    246\u001b[39m \u001b[43m                     \u001b[49m\u001b[43mfull_output\u001b[49m\u001b[43m=\u001b[49m\u001b[43mfull_output\u001b[49m\u001b[43m,\u001b[49m\n\u001b[32m    247\u001b[39m \u001b[43m                     \u001b[49m\u001b[43mdisp\u001b[49m\u001b[43m=\u001b[49m\u001b[43mdisp\u001b[49m\u001b[43m,\u001b[49m\n\u001b[32m    248\u001b[39m \u001b[43m                     \u001b[49m\u001b[43mcallback\u001b[49m\u001b[43m=\u001b[49m\u001b[43mcallback\u001b[49m\u001b[43m,\u001b[49m\n\u001b[32m    249\u001b[39m \u001b[43m                     \u001b[49m\u001b[43m*\u001b[49m\u001b[43m*\u001b[49m\u001b[43mkwargs\u001b[49m\u001b[43m)\u001b[49m\n\u001b[32m    251\u001b[39m \u001b[38;5;28;01mreturn\u001b[39;00m mlefit\n",
      "\u001b[36mFile \u001b[39m\u001b[32m~/miniforge3/lib/python3.12/site-packages/statsmodels/base/model.py:582\u001b[39m, in \u001b[36mLikelihoodModel.fit\u001b[39m\u001b[34m(self, start_params, method, maxiter, full_output, disp, fargs, callback, retall, skip_hessian, **kwargs)\u001b[39m\n\u001b[32m    580\u001b[39m     Hinv = cov_params_func(\u001b[38;5;28mself\u001b[39m, xopt, retvals)\n\u001b[32m    581\u001b[39m \u001b[38;5;28;01melif\u001b[39;00m method == \u001b[33m'\u001b[39m\u001b[33mnewton\u001b[39m\u001b[33m'\u001b[39m \u001b[38;5;129;01mand\u001b[39;00m full_output:\n\u001b[32m--> \u001b[39m\u001b[32m582\u001b[39m     Hinv = \u001b[43mnp\u001b[49m\u001b[43m.\u001b[49m\u001b[43mlinalg\u001b[49m\u001b[43m.\u001b[49m\u001b[43minv\u001b[49m\u001b[43m(\u001b[49m\u001b[43m-\u001b[49m\u001b[43mretvals\u001b[49m\u001b[43m[\u001b[49m\u001b[33;43m'\u001b[39;49m\u001b[33;43mHessian\u001b[39;49m\u001b[33;43m'\u001b[39;49m\u001b[43m]\u001b[49m\u001b[43m)\u001b[49m / nobs\n\u001b[32m    583\u001b[39m \u001b[38;5;28;01melif\u001b[39;00m \u001b[38;5;129;01mnot\u001b[39;00m skip_hessian:\n\u001b[32m    584\u001b[39m     H = -\u001b[32m1\u001b[39m * \u001b[38;5;28mself\u001b[39m.hessian(xopt)\n",
      "\u001b[36mFile \u001b[39m\u001b[32m~/miniforge3/lib/python3.12/site-packages/numpy/linalg/_linalg.py:669\u001b[39m, in \u001b[36minv\u001b[39m\u001b[34m(a)\u001b[39m\n\u001b[32m    666\u001b[39m signature = \u001b[33m'\u001b[39m\u001b[33mD->D\u001b[39m\u001b[33m'\u001b[39m \u001b[38;5;28;01mif\u001b[39;00m isComplexType(t) \u001b[38;5;28;01melse\u001b[39;00m \u001b[33m'\u001b[39m\u001b[33md->d\u001b[39m\u001b[33m'\u001b[39m\n\u001b[32m    667\u001b[39m \u001b[38;5;28;01mwith\u001b[39;00m errstate(call=_raise_linalgerror_singular, invalid=\u001b[33m'\u001b[39m\u001b[33mcall\u001b[39m\u001b[33m'\u001b[39m,\n\u001b[32m    668\u001b[39m               over=\u001b[33m'\u001b[39m\u001b[33mignore\u001b[39m\u001b[33m'\u001b[39m, divide=\u001b[33m'\u001b[39m\u001b[33mignore\u001b[39m\u001b[33m'\u001b[39m, under=\u001b[33m'\u001b[39m\u001b[33mignore\u001b[39m\u001b[33m'\u001b[39m):\n\u001b[32m--> \u001b[39m\u001b[32m669\u001b[39m     ainv = \u001b[43m_umath_linalg\u001b[49m\u001b[43m.\u001b[49m\u001b[43minv\u001b[49m\u001b[43m(\u001b[49m\u001b[43ma\u001b[49m\u001b[43m,\u001b[49m\u001b[43m \u001b[49m\u001b[43msignature\u001b[49m\u001b[43m=\u001b[49m\u001b[43msignature\u001b[49m\u001b[43m)\u001b[49m\n\u001b[32m    670\u001b[39m \u001b[38;5;28;01mreturn\u001b[39;00m wrap(ainv.astype(result_t, copy=\u001b[38;5;28;01mFalse\u001b[39;00m))\n",
      "\u001b[36mFile \u001b[39m\u001b[32m~/miniforge3/lib/python3.12/site-packages/numpy/linalg/_linalg.py:163\u001b[39m, in \u001b[36m_raise_linalgerror_singular\u001b[39m\u001b[34m(err, flag)\u001b[39m\n\u001b[32m    162\u001b[39m \u001b[38;5;28;01mdef\u001b[39;00m\u001b[38;5;250m \u001b[39m\u001b[34m_raise_linalgerror_singular\u001b[39m(err, flag):\n\u001b[32m--> \u001b[39m\u001b[32m163\u001b[39m     \u001b[38;5;28;01mraise\u001b[39;00m LinAlgError(\u001b[33m\"\u001b[39m\u001b[33mSingular matrix\u001b[39m\u001b[33m\"\u001b[39m)\n",
      "\u001b[31mLinAlgError\u001b[39m: Singular matrix"
     ]
    }
   ],
   "source": [
    "# This does not work because of no regulation\n",
    "logit_model = sm.Logit.from_formula(formula, data=df_credit)\n",
    "result = logit_model.fit() # ignore\n",
    "print(result.summary())"
   ]
  },
  {
   "cell_type": "code",
   "execution_count": null,
   "metadata": {
    "id": "WN_LpJ33e9dk"
   },
   "outputs": [
    {
     "name": "stderr",
     "output_type": "stream",
     "text": [
      "/Users/yongs1/miniforge3/lib/python3.12/site-packages/statsmodels/discrete/discrete_model.py:2385: RuntimeWarning:\n",
      "\n",
      "overflow encountered in exp\n",
      "\n",
      "/Users/yongs1/miniforge3/lib/python3.12/site-packages/statsmodels/discrete/discrete_model.py:2443: RuntimeWarning:\n",
      "\n",
      "divide by zero encountered in log\n",
      "\n"
     ]
    },
    {
     "name": "stdout",
     "output_type": "stream",
     "text": [
      "Optimization terminated successfully    (Exit mode 0)\n",
      "            Current function value: 0.4027840443951319\n",
      "            Iterations: 125\n",
      "            Function evaluations: 399\n",
      "            Gradient evaluations: 125\n"
     ]
    },
    {
     "name": "stderr",
     "output_type": "stream",
     "text": [
      "/Users/yongs1/miniforge3/lib/python3.12/site-packages/statsmodels/base/l1_solvers_common.py:71: ConvergenceWarning:\n",
      "\n",
      "QC check did not pass for 1 out of 870 parameters\n",
      "Try increasing solver accuracy or number of iterations, decreasing alpha, or switch solvers\n",
      "\n",
      "/Users/yongs1/miniforge3/lib/python3.12/site-packages/statsmodels/base/l1_solvers_common.py:144: ConvergenceWarning:\n",
      "\n",
      "Could not trim params automatically due to failed QC check. Trimming using trim_mode == 'size' will still work.\n",
      "\n"
     ]
    },
    {
     "ename": "LinAlgError",
     "evalue": "Singular matrix",
     "output_type": "error",
     "traceback": [
      "\u001b[31m---------------------------------------------------------------------------\u001b[39m",
      "\u001b[31mLinAlgError\u001b[39m                               Traceback (most recent call last)",
      "\u001b[36mCell\u001b[39m\u001b[36m \u001b[39m\u001b[32mIn[21]\u001b[39m\u001b[32m, line 3\u001b[39m\n\u001b[32m      1\u001b[39m \u001b[38;5;66;03m# This does not work either due to singular matrix problem\u001b[39;00m\n\u001b[32m      2\u001b[39m logit_model_lasso = sm.Logit.from_formula(formula, data=df_credit)\n\u001b[32m----> \u001b[39m\u001b[32m3\u001b[39m result = \u001b[43mlogit_model_lasso\u001b[49m\u001b[43m.\u001b[49m\u001b[43mfit_regularized\u001b[49m\u001b[43m(\u001b[49m\u001b[43mmethod\u001b[49m\u001b[43m=\u001b[49m\u001b[33;43m'\u001b[39;49m\u001b[33;43ml1\u001b[39;49m\u001b[33;43m'\u001b[39;49m\u001b[43m,\u001b[49m\u001b[43m \u001b[49m\u001b[43malpha\u001b[49m\u001b[43m=\u001b[49m\u001b[32;43m10\u001b[39;49m\u001b[43m)\u001b[49m\n\u001b[32m      4\u001b[39m \u001b[38;5;28mprint\u001b[39m(result.summary())\n",
      "\u001b[36mFile \u001b[39m\u001b[32m~/miniforge3/lib/python3.12/site-packages/statsmodels/discrete/discrete_model.py:565\u001b[39m, in \u001b[36mBinaryModel.fit_regularized\u001b[39m\u001b[34m(self, start_params, method, maxiter, full_output, disp, callback, alpha, trim_mode, auto_trim_tol, size_trim_tol, qc_tol, **kwargs)\u001b[39m\n\u001b[32m    557\u001b[39m \u001b[38;5;129m@Appender\u001b[39m(DiscreteModel.fit_regularized.\u001b[34m__doc__\u001b[39m)\n\u001b[32m    558\u001b[39m \u001b[38;5;28;01mdef\u001b[39;00m\u001b[38;5;250m \u001b[39m\u001b[34mfit_regularized\u001b[39m(\u001b[38;5;28mself\u001b[39m, start_params=\u001b[38;5;28;01mNone\u001b[39;00m, method=\u001b[33m'\u001b[39m\u001b[33ml1\u001b[39m\u001b[33m'\u001b[39m,\n\u001b[32m    559\u001b[39m         maxiter=\u001b[33m'\u001b[39m\u001b[33mdefined_by_method\u001b[39m\u001b[33m'\u001b[39m, full_output=\u001b[32m1\u001b[39m, disp=\u001b[32m1\u001b[39m, callback=\u001b[38;5;28;01mNone\u001b[39;00m,\n\u001b[32m    560\u001b[39m         alpha=\u001b[32m0\u001b[39m, trim_mode=\u001b[33m'\u001b[39m\u001b[33mauto\u001b[39m\u001b[33m'\u001b[39m, auto_trim_tol=\u001b[32m0.01\u001b[39m, size_trim_tol=\u001b[32m1e-4\u001b[39m,\n\u001b[32m    561\u001b[39m         qc_tol=\u001b[32m0.03\u001b[39m, **kwargs):\n\u001b[32m    563\u001b[39m     _validate_l1_method(method)\n\u001b[32m--> \u001b[39m\u001b[32m565\u001b[39m     bnryfit = \u001b[38;5;28;43msuper\u001b[39;49m\u001b[43m(\u001b[49m\u001b[43m)\u001b[49m\u001b[43m.\u001b[49m\u001b[43mfit_regularized\u001b[49m\u001b[43m(\u001b[49m\u001b[43mstart_params\u001b[49m\u001b[43m=\u001b[49m\u001b[43mstart_params\u001b[49m\u001b[43m,\u001b[49m\n\u001b[32m    566\u001b[39m \u001b[43m                                      \u001b[49m\u001b[43mmethod\u001b[49m\u001b[43m=\u001b[49m\u001b[43mmethod\u001b[49m\u001b[43m,\u001b[49m\n\u001b[32m    567\u001b[39m \u001b[43m                                      \u001b[49m\u001b[43mmaxiter\u001b[49m\u001b[43m=\u001b[49m\u001b[43mmaxiter\u001b[49m\u001b[43m,\u001b[49m\n\u001b[32m    568\u001b[39m \u001b[43m                                      \u001b[49m\u001b[43mfull_output\u001b[49m\u001b[43m=\u001b[49m\u001b[43mfull_output\u001b[49m\u001b[43m,\u001b[49m\n\u001b[32m    569\u001b[39m \u001b[43m                                      \u001b[49m\u001b[43mdisp\u001b[49m\u001b[43m=\u001b[49m\u001b[43mdisp\u001b[49m\u001b[43m,\u001b[49m\n\u001b[32m    570\u001b[39m \u001b[43m                                      \u001b[49m\u001b[43mcallback\u001b[49m\u001b[43m=\u001b[49m\u001b[43mcallback\u001b[49m\u001b[43m,\u001b[49m\n\u001b[32m    571\u001b[39m \u001b[43m                                      \u001b[49m\u001b[43malpha\u001b[49m\u001b[43m=\u001b[49m\u001b[43malpha\u001b[49m\u001b[43m,\u001b[49m\n\u001b[32m    572\u001b[39m \u001b[43m                                      \u001b[49m\u001b[43mtrim_mode\u001b[49m\u001b[43m=\u001b[49m\u001b[43mtrim_mode\u001b[49m\u001b[43m,\u001b[49m\n\u001b[32m    573\u001b[39m \u001b[43m                                      \u001b[49m\u001b[43mauto_trim_tol\u001b[49m\u001b[43m=\u001b[49m\u001b[43mauto_trim_tol\u001b[49m\u001b[43m,\u001b[49m\n\u001b[32m    574\u001b[39m \u001b[43m                                      \u001b[49m\u001b[43msize_trim_tol\u001b[49m\u001b[43m=\u001b[49m\u001b[43msize_trim_tol\u001b[49m\u001b[43m,\u001b[49m\n\u001b[32m    575\u001b[39m \u001b[43m                                      \u001b[49m\u001b[43mqc_tol\u001b[49m\u001b[43m=\u001b[49m\u001b[43mqc_tol\u001b[49m\u001b[43m,\u001b[49m\n\u001b[32m    576\u001b[39m \u001b[43m                                      \u001b[49m\u001b[43m*\u001b[49m\u001b[43m*\u001b[49m\u001b[43mkwargs\u001b[49m\u001b[43m)\u001b[49m\n\u001b[32m    578\u001b[39m     discretefit = L1BinaryResults(\u001b[38;5;28mself\u001b[39m, bnryfit)\n\u001b[32m    579\u001b[39m     \u001b[38;5;28;01mreturn\u001b[39;00m L1BinaryResultsWrapper(discretefit)\n",
      "\u001b[36mFile \u001b[39m\u001b[32m~/miniforge3/lib/python3.12/site-packages/statsmodels/discrete/discrete_model.py:402\u001b[39m, in \u001b[36mDiscreteModel.fit_regularized\u001b[39m\u001b[34m(self, start_params, method, maxiter, full_output, disp, callback, alpha, trim_mode, auto_trim_tol, size_trim_tol, qc_tol, qc_verbose, **kwargs)\u001b[39m\n\u001b[32m    399\u001b[39m \u001b[38;5;28;01melse\u001b[39;00m:\n\u001b[32m    400\u001b[39m     \u001b[38;5;28;01mpass\u001b[39;00m  \u001b[38;5;66;03m# make a function factory to have multiple call-backs\u001b[39;00m\n\u001b[32m--> \u001b[39m\u001b[32m402\u001b[39m mlefit = \u001b[38;5;28;43msuper\u001b[39;49m\u001b[43m(\u001b[49m\u001b[43m)\u001b[49m\u001b[43m.\u001b[49m\u001b[43mfit\u001b[49m\u001b[43m(\u001b[49m\u001b[43mstart_params\u001b[49m\u001b[43m=\u001b[49m\u001b[43mstart_params\u001b[49m\u001b[43m,\u001b[49m\n\u001b[32m    403\u001b[39m \u001b[43m                     \u001b[49m\u001b[43mmethod\u001b[49m\u001b[43m=\u001b[49m\u001b[43mmethod\u001b[49m\u001b[43m,\u001b[49m\n\u001b[32m    404\u001b[39m \u001b[43m                     \u001b[49m\u001b[43mmaxiter\u001b[49m\u001b[43m=\u001b[49m\u001b[43mmaxiter\u001b[49m\u001b[43m,\u001b[49m\n\u001b[32m    405\u001b[39m \u001b[43m                     \u001b[49m\u001b[43mfull_output\u001b[49m\u001b[43m=\u001b[49m\u001b[43mfull_output\u001b[49m\u001b[43m,\u001b[49m\n\u001b[32m    406\u001b[39m \u001b[43m                     \u001b[49m\u001b[43mdisp\u001b[49m\u001b[43m=\u001b[49m\u001b[43mdisp\u001b[49m\u001b[43m,\u001b[49m\n\u001b[32m    407\u001b[39m \u001b[43m                     \u001b[49m\u001b[43mcallback\u001b[49m\u001b[43m=\u001b[49m\u001b[43mcallback\u001b[49m\u001b[43m,\u001b[49m\n\u001b[32m    408\u001b[39m \u001b[43m                     \u001b[49m\u001b[43mextra_fit_funcs\u001b[49m\u001b[43m=\u001b[49m\u001b[43mextra_fit_funcs\u001b[49m\u001b[43m,\u001b[49m\n\u001b[32m    409\u001b[39m \u001b[43m                     \u001b[49m\u001b[43mcov_params_func\u001b[49m\u001b[43m=\u001b[49m\u001b[43mcov_params_func\u001b[49m\u001b[43m,\u001b[49m\n\u001b[32m    410\u001b[39m \u001b[43m                     \u001b[49m\u001b[43m*\u001b[49m\u001b[43m*\u001b[49m\u001b[43mkwargs\u001b[49m\u001b[43m)\u001b[49m\n\u001b[32m    412\u001b[39m \u001b[38;5;28;01mreturn\u001b[39;00m mlefit\n",
      "\u001b[36mFile \u001b[39m\u001b[32m~/miniforge3/lib/python3.12/site-packages/statsmodels/base/model.py:580\u001b[39m, in \u001b[36mLikelihoodModel.fit\u001b[39m\u001b[34m(self, start_params, method, maxiter, full_output, disp, fargs, callback, retall, skip_hessian, **kwargs)\u001b[39m\n\u001b[32m    578\u001b[39m cov_params_func = kwargs.setdefault(\u001b[33m'\u001b[39m\u001b[33mcov_params_func\u001b[39m\u001b[33m'\u001b[39m, \u001b[38;5;28;01mNone\u001b[39;00m)\n\u001b[32m    579\u001b[39m \u001b[38;5;28;01mif\u001b[39;00m cov_params_func:\n\u001b[32m--> \u001b[39m\u001b[32m580\u001b[39m     Hinv = \u001b[43mcov_params_func\u001b[49m\u001b[43m(\u001b[49m\u001b[38;5;28;43mself\u001b[39;49m\u001b[43m,\u001b[49m\u001b[43m \u001b[49m\u001b[43mxopt\u001b[49m\u001b[43m,\u001b[49m\u001b[43m \u001b[49m\u001b[43mretvals\u001b[49m\u001b[43m)\u001b[49m\n\u001b[32m    581\u001b[39m \u001b[38;5;28;01melif\u001b[39;00m method == \u001b[33m'\u001b[39m\u001b[33mnewton\u001b[39m\u001b[33m'\u001b[39m \u001b[38;5;129;01mand\u001b[39;00m full_output:\n\u001b[32m    582\u001b[39m     Hinv = np.linalg.inv(-retvals[\u001b[33m'\u001b[39m\u001b[33mHessian\u001b[39m\u001b[33m'\u001b[39m]) / nobs\n",
      "\u001b[36mFile \u001b[39m\u001b[32m~/miniforge3/lib/python3.12/site-packages/statsmodels/discrete/discrete_model.py:430\u001b[39m, in \u001b[36mDiscreteModel.cov_params_func_l1\u001b[39m\u001b[34m(self, likelihood_model, xopt, retvals)\u001b[39m\n\u001b[32m    428\u001b[39m     H_restricted = H[nz_idx[:, \u001b[38;5;28;01mNone\u001b[39;00m], nz_idx]\n\u001b[32m    429\u001b[39m     \u001b[38;5;66;03m# Covariance estimate for the nonzero params\u001b[39;00m\n\u001b[32m--> \u001b[39m\u001b[32m430\u001b[39m     H_restricted_inv = \u001b[43mnp\u001b[49m\u001b[43m.\u001b[49m\u001b[43mlinalg\u001b[49m\u001b[43m.\u001b[49m\u001b[43minv\u001b[49m\u001b[43m(\u001b[49m\u001b[43m-\u001b[49m\u001b[43mH_restricted\u001b[49m\u001b[43m)\u001b[49m\n\u001b[32m    431\u001b[39m \u001b[38;5;28;01melse\u001b[39;00m:\n\u001b[32m    432\u001b[39m     H_restricted_inv = np.zeros(\u001b[32m0\u001b[39m)\n",
      "\u001b[36mFile \u001b[39m\u001b[32m~/miniforge3/lib/python3.12/site-packages/numpy/linalg/_linalg.py:669\u001b[39m, in \u001b[36minv\u001b[39m\u001b[34m(a)\u001b[39m\n\u001b[32m    666\u001b[39m signature = \u001b[33m'\u001b[39m\u001b[33mD->D\u001b[39m\u001b[33m'\u001b[39m \u001b[38;5;28;01mif\u001b[39;00m isComplexType(t) \u001b[38;5;28;01melse\u001b[39;00m \u001b[33m'\u001b[39m\u001b[33md->d\u001b[39m\u001b[33m'\u001b[39m\n\u001b[32m    667\u001b[39m \u001b[38;5;28;01mwith\u001b[39;00m errstate(call=_raise_linalgerror_singular, invalid=\u001b[33m'\u001b[39m\u001b[33mcall\u001b[39m\u001b[33m'\u001b[39m,\n\u001b[32m    668\u001b[39m               over=\u001b[33m'\u001b[39m\u001b[33mignore\u001b[39m\u001b[33m'\u001b[39m, divide=\u001b[33m'\u001b[39m\u001b[33mignore\u001b[39m\u001b[33m'\u001b[39m, under=\u001b[33m'\u001b[39m\u001b[33mignore\u001b[39m\u001b[33m'\u001b[39m):\n\u001b[32m--> \u001b[39m\u001b[32m669\u001b[39m     ainv = \u001b[43m_umath_linalg\u001b[49m\u001b[43m.\u001b[49m\u001b[43minv\u001b[49m\u001b[43m(\u001b[49m\u001b[43ma\u001b[49m\u001b[43m,\u001b[49m\u001b[43m \u001b[49m\u001b[43msignature\u001b[49m\u001b[43m=\u001b[49m\u001b[43msignature\u001b[49m\u001b[43m)\u001b[49m\n\u001b[32m    670\u001b[39m \u001b[38;5;28;01mreturn\u001b[39;00m wrap(ainv.astype(result_t, copy=\u001b[38;5;28;01mFalse\u001b[39;00m))\n",
      "\u001b[36mFile \u001b[39m\u001b[32m~/miniforge3/lib/python3.12/site-packages/numpy/linalg/_linalg.py:163\u001b[39m, in \u001b[36m_raise_linalgerror_singular\u001b[39m\u001b[34m(err, flag)\u001b[39m\n\u001b[32m    162\u001b[39m \u001b[38;5;28;01mdef\u001b[39;00m\u001b[38;5;250m \u001b[39m\u001b[34m_raise_linalgerror_singular\u001b[39m(err, flag):\n\u001b[32m--> \u001b[39m\u001b[32m163\u001b[39m     \u001b[38;5;28;01mraise\u001b[39;00m LinAlgError(\u001b[33m\"\u001b[39m\u001b[33mSingular matrix\u001b[39m\u001b[33m\"\u001b[39m)\n",
      "\u001b[31mLinAlgError\u001b[39m: Singular matrix"
     ]
    }
   ],
   "source": [
    "# This does not work either due to singular matrix problem\n",
    "logit_model_lasso = sm.Logit.from_formula(formula, data=df_credit)\n",
    "result = logit_model_lasso.fit_regularized(method='l1', alpha=10) #ignore\n",
    "print(result.summary())"
   ]
  },
  {
   "cell_type": "markdown",
   "metadata": {
    "id": "5BelDTIlu-KN"
   },
   "source": [
    "The real world can be cruel. But I will [never gonna give up](https://www.youtube.com/watch?v=dQw4w9WgXcQ&ab_channel=RickAstley), so should you."
   ]
  },
  {
   "cell_type": "code",
   "execution_count": 22,
   "metadata": {
    "id": "xkiECjaKuL3u"
   },
   "outputs": [],
   "source": [
    "X = logit_model_lasso.exog\n",
    "X_names = logit_model_lasso.exog_names\n",
    "y = logit_model_lasso.endog"
   ]
  },
  {
   "cell_type": "code",
   "execution_count": 25,
   "metadata": {
    "colab": {
     "base_uri": "https://localhost:8080/",
     "height": 75
    },
    "executionInfo": {
     "elapsed": 372,
     "status": "ok",
     "timestamp": 1722995456968,
     "user": {
      "displayName": "Yong Song",
      "userId": "00576951217859821315"
     },
     "user_tz": -600
    },
    "id": "RC7PdVt0un08",
    "outputId": "9c8153cd-4561-4799-da8a-93c451c88e6b"
   },
   "outputs": [
    {
     "data": {
      "text/html": [
       "<style>#sk-container-id-2 {\n",
       "  /* Definition of color scheme common for light and dark mode */\n",
       "  --sklearn-color-text: #000;\n",
       "  --sklearn-color-text-muted: #666;\n",
       "  --sklearn-color-line: gray;\n",
       "  /* Definition of color scheme for unfitted estimators */\n",
       "  --sklearn-color-unfitted-level-0: #fff5e6;\n",
       "  --sklearn-color-unfitted-level-1: #f6e4d2;\n",
       "  --sklearn-color-unfitted-level-2: #ffe0b3;\n",
       "  --sklearn-color-unfitted-level-3: chocolate;\n",
       "  /* Definition of color scheme for fitted estimators */\n",
       "  --sklearn-color-fitted-level-0: #f0f8ff;\n",
       "  --sklearn-color-fitted-level-1: #d4ebff;\n",
       "  --sklearn-color-fitted-level-2: #b3dbfd;\n",
       "  --sklearn-color-fitted-level-3: cornflowerblue;\n",
       "\n",
       "  /* Specific color for light theme */\n",
       "  --sklearn-color-text-on-default-background: var(--sg-text-color, var(--theme-code-foreground, var(--jp-content-font-color1, black)));\n",
       "  --sklearn-color-background: var(--sg-background-color, var(--theme-background, var(--jp-layout-color0, white)));\n",
       "  --sklearn-color-border-box: var(--sg-text-color, var(--theme-code-foreground, var(--jp-content-font-color1, black)));\n",
       "  --sklearn-color-icon: #696969;\n",
       "\n",
       "  @media (prefers-color-scheme: dark) {\n",
       "    /* Redefinition of color scheme for dark theme */\n",
       "    --sklearn-color-text-on-default-background: var(--sg-text-color, var(--theme-code-foreground, var(--jp-content-font-color1, white)));\n",
       "    --sklearn-color-background: var(--sg-background-color, var(--theme-background, var(--jp-layout-color0, #111)));\n",
       "    --sklearn-color-border-box: var(--sg-text-color, var(--theme-code-foreground, var(--jp-content-font-color1, white)));\n",
       "    --sklearn-color-icon: #878787;\n",
       "  }\n",
       "}\n",
       "\n",
       "#sk-container-id-2 {\n",
       "  color: var(--sklearn-color-text);\n",
       "}\n",
       "\n",
       "#sk-container-id-2 pre {\n",
       "  padding: 0;\n",
       "}\n",
       "\n",
       "#sk-container-id-2 input.sk-hidden--visually {\n",
       "  border: 0;\n",
       "  clip: rect(1px 1px 1px 1px);\n",
       "  clip: rect(1px, 1px, 1px, 1px);\n",
       "  height: 1px;\n",
       "  margin: -1px;\n",
       "  overflow: hidden;\n",
       "  padding: 0;\n",
       "  position: absolute;\n",
       "  width: 1px;\n",
       "}\n",
       "\n",
       "#sk-container-id-2 div.sk-dashed-wrapped {\n",
       "  border: 1px dashed var(--sklearn-color-line);\n",
       "  margin: 0 0.4em 0.5em 0.4em;\n",
       "  box-sizing: border-box;\n",
       "  padding-bottom: 0.4em;\n",
       "  background-color: var(--sklearn-color-background);\n",
       "}\n",
       "\n",
       "#sk-container-id-2 div.sk-container {\n",
       "  /* jupyter's `normalize.less` sets `[hidden] { display: none; }`\n",
       "     but bootstrap.min.css set `[hidden] { display: none !important; }`\n",
       "     so we also need the `!important` here to be able to override the\n",
       "     default hidden behavior on the sphinx rendered scikit-learn.org.\n",
       "     See: https://github.com/scikit-learn/scikit-learn/issues/21755 */\n",
       "  display: inline-block !important;\n",
       "  position: relative;\n",
       "}\n",
       "\n",
       "#sk-container-id-2 div.sk-text-repr-fallback {\n",
       "  display: none;\n",
       "}\n",
       "\n",
       "div.sk-parallel-item,\n",
       "div.sk-serial,\n",
       "div.sk-item {\n",
       "  /* draw centered vertical line to link estimators */\n",
       "  background-image: linear-gradient(var(--sklearn-color-text-on-default-background), var(--sklearn-color-text-on-default-background));\n",
       "  background-size: 2px 100%;\n",
       "  background-repeat: no-repeat;\n",
       "  background-position: center center;\n",
       "}\n",
       "\n",
       "/* Parallel-specific style estimator block */\n",
       "\n",
       "#sk-container-id-2 div.sk-parallel-item::after {\n",
       "  content: \"\";\n",
       "  width: 100%;\n",
       "  border-bottom: 2px solid var(--sklearn-color-text-on-default-background);\n",
       "  flex-grow: 1;\n",
       "}\n",
       "\n",
       "#sk-container-id-2 div.sk-parallel {\n",
       "  display: flex;\n",
       "  align-items: stretch;\n",
       "  justify-content: center;\n",
       "  background-color: var(--sklearn-color-background);\n",
       "  position: relative;\n",
       "}\n",
       "\n",
       "#sk-container-id-2 div.sk-parallel-item {\n",
       "  display: flex;\n",
       "  flex-direction: column;\n",
       "}\n",
       "\n",
       "#sk-container-id-2 div.sk-parallel-item:first-child::after {\n",
       "  align-self: flex-end;\n",
       "  width: 50%;\n",
       "}\n",
       "\n",
       "#sk-container-id-2 div.sk-parallel-item:last-child::after {\n",
       "  align-self: flex-start;\n",
       "  width: 50%;\n",
       "}\n",
       "\n",
       "#sk-container-id-2 div.sk-parallel-item:only-child::after {\n",
       "  width: 0;\n",
       "}\n",
       "\n",
       "/* Serial-specific style estimator block */\n",
       "\n",
       "#sk-container-id-2 div.sk-serial {\n",
       "  display: flex;\n",
       "  flex-direction: column;\n",
       "  align-items: center;\n",
       "  background-color: var(--sklearn-color-background);\n",
       "  padding-right: 1em;\n",
       "  padding-left: 1em;\n",
       "}\n",
       "\n",
       "\n",
       "/* Toggleable style: style used for estimator/Pipeline/ColumnTransformer box that is\n",
       "clickable and can be expanded/collapsed.\n",
       "- Pipeline and ColumnTransformer use this feature and define the default style\n",
       "- Estimators will overwrite some part of the style using the `sk-estimator` class\n",
       "*/\n",
       "\n",
       "/* Pipeline and ColumnTransformer style (default) */\n",
       "\n",
       "#sk-container-id-2 div.sk-toggleable {\n",
       "  /* Default theme specific background. It is overwritten whether we have a\n",
       "  specific estimator or a Pipeline/ColumnTransformer */\n",
       "  background-color: var(--sklearn-color-background);\n",
       "}\n",
       "\n",
       "/* Toggleable label */\n",
       "#sk-container-id-2 label.sk-toggleable__label {\n",
       "  cursor: pointer;\n",
       "  display: flex;\n",
       "  width: 100%;\n",
       "  margin-bottom: 0;\n",
       "  padding: 0.5em;\n",
       "  box-sizing: border-box;\n",
       "  text-align: center;\n",
       "  align-items: start;\n",
       "  justify-content: space-between;\n",
       "  gap: 0.5em;\n",
       "}\n",
       "\n",
       "#sk-container-id-2 label.sk-toggleable__label .caption {\n",
       "  font-size: 0.6rem;\n",
       "  font-weight: lighter;\n",
       "  color: var(--sklearn-color-text-muted);\n",
       "}\n",
       "\n",
       "#sk-container-id-2 label.sk-toggleable__label-arrow:before {\n",
       "  /* Arrow on the left of the label */\n",
       "  content: \"▸\";\n",
       "  float: left;\n",
       "  margin-right: 0.25em;\n",
       "  color: var(--sklearn-color-icon);\n",
       "}\n",
       "\n",
       "#sk-container-id-2 label.sk-toggleable__label-arrow:hover:before {\n",
       "  color: var(--sklearn-color-text);\n",
       "}\n",
       "\n",
       "/* Toggleable content - dropdown */\n",
       "\n",
       "#sk-container-id-2 div.sk-toggleable__content {\n",
       "  display: none;\n",
       "  text-align: left;\n",
       "  /* unfitted */\n",
       "  background-color: var(--sklearn-color-unfitted-level-0);\n",
       "}\n",
       "\n",
       "#sk-container-id-2 div.sk-toggleable__content.fitted {\n",
       "  /* fitted */\n",
       "  background-color: var(--sklearn-color-fitted-level-0);\n",
       "}\n",
       "\n",
       "#sk-container-id-2 div.sk-toggleable__content pre {\n",
       "  margin: 0.2em;\n",
       "  border-radius: 0.25em;\n",
       "  color: var(--sklearn-color-text);\n",
       "  /* unfitted */\n",
       "  background-color: var(--sklearn-color-unfitted-level-0);\n",
       "}\n",
       "\n",
       "#sk-container-id-2 div.sk-toggleable__content.fitted pre {\n",
       "  /* unfitted */\n",
       "  background-color: var(--sklearn-color-fitted-level-0);\n",
       "}\n",
       "\n",
       "#sk-container-id-2 input.sk-toggleable__control:checked~div.sk-toggleable__content {\n",
       "  /* Expand drop-down */\n",
       "  display: block;\n",
       "  width: 100%;\n",
       "  overflow: visible;\n",
       "}\n",
       "\n",
       "#sk-container-id-2 input.sk-toggleable__control:checked~label.sk-toggleable__label-arrow:before {\n",
       "  content: \"▾\";\n",
       "}\n",
       "\n",
       "/* Pipeline/ColumnTransformer-specific style */\n",
       "\n",
       "#sk-container-id-2 div.sk-label input.sk-toggleable__control:checked~label.sk-toggleable__label {\n",
       "  color: var(--sklearn-color-text);\n",
       "  background-color: var(--sklearn-color-unfitted-level-2);\n",
       "}\n",
       "\n",
       "#sk-container-id-2 div.sk-label.fitted input.sk-toggleable__control:checked~label.sk-toggleable__label {\n",
       "  background-color: var(--sklearn-color-fitted-level-2);\n",
       "}\n",
       "\n",
       "/* Estimator-specific style */\n",
       "\n",
       "/* Colorize estimator box */\n",
       "#sk-container-id-2 div.sk-estimator input.sk-toggleable__control:checked~label.sk-toggleable__label {\n",
       "  /* unfitted */\n",
       "  background-color: var(--sklearn-color-unfitted-level-2);\n",
       "}\n",
       "\n",
       "#sk-container-id-2 div.sk-estimator.fitted input.sk-toggleable__control:checked~label.sk-toggleable__label {\n",
       "  /* fitted */\n",
       "  background-color: var(--sklearn-color-fitted-level-2);\n",
       "}\n",
       "\n",
       "#sk-container-id-2 div.sk-label label.sk-toggleable__label,\n",
       "#sk-container-id-2 div.sk-label label {\n",
       "  /* The background is the default theme color */\n",
       "  color: var(--sklearn-color-text-on-default-background);\n",
       "}\n",
       "\n",
       "/* On hover, darken the color of the background */\n",
       "#sk-container-id-2 div.sk-label:hover label.sk-toggleable__label {\n",
       "  color: var(--sklearn-color-text);\n",
       "  background-color: var(--sklearn-color-unfitted-level-2);\n",
       "}\n",
       "\n",
       "/* Label box, darken color on hover, fitted */\n",
       "#sk-container-id-2 div.sk-label.fitted:hover label.sk-toggleable__label.fitted {\n",
       "  color: var(--sklearn-color-text);\n",
       "  background-color: var(--sklearn-color-fitted-level-2);\n",
       "}\n",
       "\n",
       "/* Estimator label */\n",
       "\n",
       "#sk-container-id-2 div.sk-label label {\n",
       "  font-family: monospace;\n",
       "  font-weight: bold;\n",
       "  display: inline-block;\n",
       "  line-height: 1.2em;\n",
       "}\n",
       "\n",
       "#sk-container-id-2 div.sk-label-container {\n",
       "  text-align: center;\n",
       "}\n",
       "\n",
       "/* Estimator-specific */\n",
       "#sk-container-id-2 div.sk-estimator {\n",
       "  font-family: monospace;\n",
       "  border: 1px dotted var(--sklearn-color-border-box);\n",
       "  border-radius: 0.25em;\n",
       "  box-sizing: border-box;\n",
       "  margin-bottom: 0.5em;\n",
       "  /* unfitted */\n",
       "  background-color: var(--sklearn-color-unfitted-level-0);\n",
       "}\n",
       "\n",
       "#sk-container-id-2 div.sk-estimator.fitted {\n",
       "  /* fitted */\n",
       "  background-color: var(--sklearn-color-fitted-level-0);\n",
       "}\n",
       "\n",
       "/* on hover */\n",
       "#sk-container-id-2 div.sk-estimator:hover {\n",
       "  /* unfitted */\n",
       "  background-color: var(--sklearn-color-unfitted-level-2);\n",
       "}\n",
       "\n",
       "#sk-container-id-2 div.sk-estimator.fitted:hover {\n",
       "  /* fitted */\n",
       "  background-color: var(--sklearn-color-fitted-level-2);\n",
       "}\n",
       "\n",
       "/* Specification for estimator info (e.g. \"i\" and \"?\") */\n",
       "\n",
       "/* Common style for \"i\" and \"?\" */\n",
       "\n",
       ".sk-estimator-doc-link,\n",
       "a:link.sk-estimator-doc-link,\n",
       "a:visited.sk-estimator-doc-link {\n",
       "  float: right;\n",
       "  font-size: smaller;\n",
       "  line-height: 1em;\n",
       "  font-family: monospace;\n",
       "  background-color: var(--sklearn-color-background);\n",
       "  border-radius: 1em;\n",
       "  height: 1em;\n",
       "  width: 1em;\n",
       "  text-decoration: none !important;\n",
       "  margin-left: 0.5em;\n",
       "  text-align: center;\n",
       "  /* unfitted */\n",
       "  border: var(--sklearn-color-unfitted-level-1) 1pt solid;\n",
       "  color: var(--sklearn-color-unfitted-level-1);\n",
       "}\n",
       "\n",
       ".sk-estimator-doc-link.fitted,\n",
       "a:link.sk-estimator-doc-link.fitted,\n",
       "a:visited.sk-estimator-doc-link.fitted {\n",
       "  /* fitted */\n",
       "  border: var(--sklearn-color-fitted-level-1) 1pt solid;\n",
       "  color: var(--sklearn-color-fitted-level-1);\n",
       "}\n",
       "\n",
       "/* On hover */\n",
       "div.sk-estimator:hover .sk-estimator-doc-link:hover,\n",
       ".sk-estimator-doc-link:hover,\n",
       "div.sk-label-container:hover .sk-estimator-doc-link:hover,\n",
       ".sk-estimator-doc-link:hover {\n",
       "  /* unfitted */\n",
       "  background-color: var(--sklearn-color-unfitted-level-3);\n",
       "  color: var(--sklearn-color-background);\n",
       "  text-decoration: none;\n",
       "}\n",
       "\n",
       "div.sk-estimator.fitted:hover .sk-estimator-doc-link.fitted:hover,\n",
       ".sk-estimator-doc-link.fitted:hover,\n",
       "div.sk-label-container:hover .sk-estimator-doc-link.fitted:hover,\n",
       ".sk-estimator-doc-link.fitted:hover {\n",
       "  /* fitted */\n",
       "  background-color: var(--sklearn-color-fitted-level-3);\n",
       "  color: var(--sklearn-color-background);\n",
       "  text-decoration: none;\n",
       "}\n",
       "\n",
       "/* Span, style for the box shown on hovering the info icon */\n",
       ".sk-estimator-doc-link span {\n",
       "  display: none;\n",
       "  z-index: 9999;\n",
       "  position: relative;\n",
       "  font-weight: normal;\n",
       "  right: .2ex;\n",
       "  padding: .5ex;\n",
       "  margin: .5ex;\n",
       "  width: min-content;\n",
       "  min-width: 20ex;\n",
       "  max-width: 50ex;\n",
       "  color: var(--sklearn-color-text);\n",
       "  box-shadow: 2pt 2pt 4pt #999;\n",
       "  /* unfitted */\n",
       "  background: var(--sklearn-color-unfitted-level-0);\n",
       "  border: .5pt solid var(--sklearn-color-unfitted-level-3);\n",
       "}\n",
       "\n",
       ".sk-estimator-doc-link.fitted span {\n",
       "  /* fitted */\n",
       "  background: var(--sklearn-color-fitted-level-0);\n",
       "  border: var(--sklearn-color-fitted-level-3);\n",
       "}\n",
       "\n",
       ".sk-estimator-doc-link:hover span {\n",
       "  display: block;\n",
       "}\n",
       "\n",
       "/* \"?\"-specific style due to the `<a>` HTML tag */\n",
       "\n",
       "#sk-container-id-2 a.estimator_doc_link {\n",
       "  float: right;\n",
       "  font-size: 1rem;\n",
       "  line-height: 1em;\n",
       "  font-family: monospace;\n",
       "  background-color: var(--sklearn-color-background);\n",
       "  border-radius: 1rem;\n",
       "  height: 1rem;\n",
       "  width: 1rem;\n",
       "  text-decoration: none;\n",
       "  /* unfitted */\n",
       "  color: var(--sklearn-color-unfitted-level-1);\n",
       "  border: var(--sklearn-color-unfitted-level-1) 1pt solid;\n",
       "}\n",
       "\n",
       "#sk-container-id-2 a.estimator_doc_link.fitted {\n",
       "  /* fitted */\n",
       "  border: var(--sklearn-color-fitted-level-1) 1pt solid;\n",
       "  color: var(--sklearn-color-fitted-level-1);\n",
       "}\n",
       "\n",
       "/* On hover */\n",
       "#sk-container-id-2 a.estimator_doc_link:hover {\n",
       "  /* unfitted */\n",
       "  background-color: var(--sklearn-color-unfitted-level-3);\n",
       "  color: var(--sklearn-color-background);\n",
       "  text-decoration: none;\n",
       "}\n",
       "\n",
       "#sk-container-id-2 a.estimator_doc_link.fitted:hover {\n",
       "  /* fitted */\n",
       "  background-color: var(--sklearn-color-fitted-level-3);\n",
       "}\n",
       "\n",
       ".estimator-table summary {\n",
       "    padding: .5rem;\n",
       "    font-family: monospace;\n",
       "    cursor: pointer;\n",
       "}\n",
       "\n",
       ".estimator-table details[open] {\n",
       "    padding-left: 0.1rem;\n",
       "    padding-right: 0.1rem;\n",
       "    padding-bottom: 0.3rem;\n",
       "}\n",
       "\n",
       ".estimator-table .parameters-table {\n",
       "    margin-left: auto !important;\n",
       "    margin-right: auto !important;\n",
       "}\n",
       "\n",
       ".estimator-table .parameters-table tr:nth-child(odd) {\n",
       "    background-color: #fff;\n",
       "}\n",
       "\n",
       ".estimator-table .parameters-table tr:nth-child(even) {\n",
       "    background-color: #f6f6f6;\n",
       "}\n",
       "\n",
       ".estimator-table .parameters-table tr:hover {\n",
       "    background-color: #e0e0e0;\n",
       "}\n",
       "\n",
       ".estimator-table table td {\n",
       "    border: 1px solid rgba(106, 105, 104, 0.232);\n",
       "}\n",
       "\n",
       ".user-set td {\n",
       "    color:rgb(255, 94, 0);\n",
       "    text-align: left;\n",
       "}\n",
       "\n",
       ".user-set td.value pre {\n",
       "    color:rgb(255, 94, 0) !important;\n",
       "    background-color: transparent !important;\n",
       "}\n",
       "\n",
       ".default td {\n",
       "    color: black;\n",
       "    text-align: left;\n",
       "}\n",
       "\n",
       ".user-set td i,\n",
       ".default td i {\n",
       "    color: black;\n",
       "}\n",
       "\n",
       ".copy-paste-icon {\n",
       "    background-image: url(data:image/svg+xml;base64,PHN2ZyB4bWxucz0iaHR0cDovL3d3dy53My5vcmcvMjAwMC9zdmciIHZpZXdCb3g9IjAgMCA0NDggNTEyIj48IS0tIUZvbnQgQXdlc29tZSBGcmVlIDYuNy4yIGJ5IEBmb250YXdlc29tZSAtIGh0dHBzOi8vZm9udGF3ZXNvbWUuY29tIExpY2Vuc2UgLSBodHRwczovL2ZvbnRhd2Vzb21lLmNvbS9saWNlbnNlL2ZyZWUgQ29weXJpZ2h0IDIwMjUgRm9udGljb25zLCBJbmMuLS0+PHBhdGggZD0iTTIwOCAwTDMzMi4xIDBjMTIuNyAwIDI0LjkgNS4xIDMzLjkgMTQuMWw2Ny45IDY3LjljOSA5IDE0LjEgMjEuMiAxNC4xIDMzLjlMNDQ4IDMzNmMwIDI2LjUtMjEuNSA0OC00OCA0OGwtMTkyIDBjLTI2LjUgMC00OC0yMS41LTQ4LTQ4bDAtMjg4YzAtMjYuNSAyMS41LTQ4IDQ4LTQ4ek00OCAxMjhsODAgMCAwIDY0LTY0IDAgMCAyNTYgMTkyIDAgMC0zMiA2NCAwIDAgNDhjMCAyNi41LTIxLjUgNDgtNDggNDhMNDggNTEyYy0yNi41IDAtNDgtMjEuNS00OC00OEwwIDE3NmMwLTI2LjUgMjEuNS00OCA0OC00OHoiLz48L3N2Zz4=);\n",
       "    background-repeat: no-repeat;\n",
       "    background-size: 14px 14px;\n",
       "    background-position: 0;\n",
       "    display: inline-block;\n",
       "    width: 14px;\n",
       "    height: 14px;\n",
       "    cursor: pointer;\n",
       "}\n",
       "</style><body><div id=\"sk-container-id-2\" class=\"sk-top-container\"><div class=\"sk-text-repr-fallback\"><pre>LogisticRegression(C=0.1, penalty=&#x27;l1&#x27;, solver=&#x27;liblinear&#x27;)</pre><b>In a Jupyter environment, please rerun this cell to show the HTML representation or trust the notebook. <br />On GitHub, the HTML representation is unable to render, please try loading this page with nbviewer.org.</b></div><div class=\"sk-container\" hidden><div class=\"sk-item\"><div class=\"sk-estimator fitted sk-toggleable\"><input class=\"sk-toggleable__control sk-hidden--visually\" id=\"sk-estimator-id-2\" type=\"checkbox\" checked><label for=\"sk-estimator-id-2\" class=\"sk-toggleable__label fitted sk-toggleable__label-arrow\"><div><div>LogisticRegression</div></div><div><a class=\"sk-estimator-doc-link fitted\" rel=\"noreferrer\" target=\"_blank\" href=\"https://scikit-learn.org/1.7/modules/generated/sklearn.linear_model.LogisticRegression.html\">?<span>Documentation for LogisticRegression</span></a><span class=\"sk-estimator-doc-link fitted\">i<span>Fitted</span></span></div></label><div class=\"sk-toggleable__content fitted\" data-param-prefix=\"\">\n",
       "        <div class=\"estimator-table\">\n",
       "            <details>\n",
       "                <summary>Parameters</summary>\n",
       "                <table class=\"parameters-table\">\n",
       "                  <tbody>\n",
       "                    \n",
       "        <tr class=\"user-set\">\n",
       "            <td><i class=\"copy-paste-icon\"\n",
       "                 onclick=\"copyToClipboard('penalty',\n",
       "                          this.parentElement.nextElementSibling)\"\n",
       "            ></i></td>\n",
       "            <td class=\"param\">penalty&nbsp;</td>\n",
       "            <td class=\"value\">&#x27;l1&#x27;</td>\n",
       "        </tr>\n",
       "    \n",
       "\n",
       "        <tr class=\"default\">\n",
       "            <td><i class=\"copy-paste-icon\"\n",
       "                 onclick=\"copyToClipboard('dual',\n",
       "                          this.parentElement.nextElementSibling)\"\n",
       "            ></i></td>\n",
       "            <td class=\"param\">dual&nbsp;</td>\n",
       "            <td class=\"value\">False</td>\n",
       "        </tr>\n",
       "    \n",
       "\n",
       "        <tr class=\"default\">\n",
       "            <td><i class=\"copy-paste-icon\"\n",
       "                 onclick=\"copyToClipboard('tol',\n",
       "                          this.parentElement.nextElementSibling)\"\n",
       "            ></i></td>\n",
       "            <td class=\"param\">tol&nbsp;</td>\n",
       "            <td class=\"value\">0.0001</td>\n",
       "        </tr>\n",
       "    \n",
       "\n",
       "        <tr class=\"user-set\">\n",
       "            <td><i class=\"copy-paste-icon\"\n",
       "                 onclick=\"copyToClipboard('C',\n",
       "                          this.parentElement.nextElementSibling)\"\n",
       "            ></i></td>\n",
       "            <td class=\"param\">C&nbsp;</td>\n",
       "            <td class=\"value\">0.1</td>\n",
       "        </tr>\n",
       "    \n",
       "\n",
       "        <tr class=\"default\">\n",
       "            <td><i class=\"copy-paste-icon\"\n",
       "                 onclick=\"copyToClipboard('fit_intercept',\n",
       "                          this.parentElement.nextElementSibling)\"\n",
       "            ></i></td>\n",
       "            <td class=\"param\">fit_intercept&nbsp;</td>\n",
       "            <td class=\"value\">True</td>\n",
       "        </tr>\n",
       "    \n",
       "\n",
       "        <tr class=\"default\">\n",
       "            <td><i class=\"copy-paste-icon\"\n",
       "                 onclick=\"copyToClipboard('intercept_scaling',\n",
       "                          this.parentElement.nextElementSibling)\"\n",
       "            ></i></td>\n",
       "            <td class=\"param\">intercept_scaling&nbsp;</td>\n",
       "            <td class=\"value\">1</td>\n",
       "        </tr>\n",
       "    \n",
       "\n",
       "        <tr class=\"default\">\n",
       "            <td><i class=\"copy-paste-icon\"\n",
       "                 onclick=\"copyToClipboard('class_weight',\n",
       "                          this.parentElement.nextElementSibling)\"\n",
       "            ></i></td>\n",
       "            <td class=\"param\">class_weight&nbsp;</td>\n",
       "            <td class=\"value\">None</td>\n",
       "        </tr>\n",
       "    \n",
       "\n",
       "        <tr class=\"default\">\n",
       "            <td><i class=\"copy-paste-icon\"\n",
       "                 onclick=\"copyToClipboard('random_state',\n",
       "                          this.parentElement.nextElementSibling)\"\n",
       "            ></i></td>\n",
       "            <td class=\"param\">random_state&nbsp;</td>\n",
       "            <td class=\"value\">None</td>\n",
       "        </tr>\n",
       "    \n",
       "\n",
       "        <tr class=\"user-set\">\n",
       "            <td><i class=\"copy-paste-icon\"\n",
       "                 onclick=\"copyToClipboard('solver',\n",
       "                          this.parentElement.nextElementSibling)\"\n",
       "            ></i></td>\n",
       "            <td class=\"param\">solver&nbsp;</td>\n",
       "            <td class=\"value\">&#x27;liblinear&#x27;</td>\n",
       "        </tr>\n",
       "    \n",
       "\n",
       "        <tr class=\"default\">\n",
       "            <td><i class=\"copy-paste-icon\"\n",
       "                 onclick=\"copyToClipboard('max_iter',\n",
       "                          this.parentElement.nextElementSibling)\"\n",
       "            ></i></td>\n",
       "            <td class=\"param\">max_iter&nbsp;</td>\n",
       "            <td class=\"value\">100</td>\n",
       "        </tr>\n",
       "    \n",
       "\n",
       "        <tr class=\"default\">\n",
       "            <td><i class=\"copy-paste-icon\"\n",
       "                 onclick=\"copyToClipboard('multi_class',\n",
       "                          this.parentElement.nextElementSibling)\"\n",
       "            ></i></td>\n",
       "            <td class=\"param\">multi_class&nbsp;</td>\n",
       "            <td class=\"value\">&#x27;deprecated&#x27;</td>\n",
       "        </tr>\n",
       "    \n",
       "\n",
       "        <tr class=\"default\">\n",
       "            <td><i class=\"copy-paste-icon\"\n",
       "                 onclick=\"copyToClipboard('verbose',\n",
       "                          this.parentElement.nextElementSibling)\"\n",
       "            ></i></td>\n",
       "            <td class=\"param\">verbose&nbsp;</td>\n",
       "            <td class=\"value\">0</td>\n",
       "        </tr>\n",
       "    \n",
       "\n",
       "        <tr class=\"default\">\n",
       "            <td><i class=\"copy-paste-icon\"\n",
       "                 onclick=\"copyToClipboard('warm_start',\n",
       "                          this.parentElement.nextElementSibling)\"\n",
       "            ></i></td>\n",
       "            <td class=\"param\">warm_start&nbsp;</td>\n",
       "            <td class=\"value\">False</td>\n",
       "        </tr>\n",
       "    \n",
       "\n",
       "        <tr class=\"default\">\n",
       "            <td><i class=\"copy-paste-icon\"\n",
       "                 onclick=\"copyToClipboard('n_jobs',\n",
       "                          this.parentElement.nextElementSibling)\"\n",
       "            ></i></td>\n",
       "            <td class=\"param\">n_jobs&nbsp;</td>\n",
       "            <td class=\"value\">None</td>\n",
       "        </tr>\n",
       "    \n",
       "\n",
       "        <tr class=\"default\">\n",
       "            <td><i class=\"copy-paste-icon\"\n",
       "                 onclick=\"copyToClipboard('l1_ratio',\n",
       "                          this.parentElement.nextElementSibling)\"\n",
       "            ></i></td>\n",
       "            <td class=\"param\">l1_ratio&nbsp;</td>\n",
       "            <td class=\"value\">None</td>\n",
       "        </tr>\n",
       "    \n",
       "                  </tbody>\n",
       "                </table>\n",
       "            </details>\n",
       "        </div>\n",
       "    </div></div></div></div></div><script>function copyToClipboard(text, element) {\n",
       "    // Get the parameter prefix from the closest toggleable content\n",
       "    const toggleableContent = element.closest('.sk-toggleable__content');\n",
       "    const paramPrefix = toggleableContent ? toggleableContent.dataset.paramPrefix : '';\n",
       "    const fullParamName = paramPrefix ? `${paramPrefix}${text}` : text;\n",
       "\n",
       "    const originalStyle = element.style;\n",
       "    const computedStyle = window.getComputedStyle(element);\n",
       "    const originalWidth = computedStyle.width;\n",
       "    const originalHTML = element.innerHTML.replace('Copied!', '');\n",
       "\n",
       "    navigator.clipboard.writeText(fullParamName)\n",
       "        .then(() => {\n",
       "            element.style.width = originalWidth;\n",
       "            element.style.color = 'green';\n",
       "            element.innerHTML = \"Copied!\";\n",
       "\n",
       "            setTimeout(() => {\n",
       "                element.innerHTML = originalHTML;\n",
       "                element.style = originalStyle;\n",
       "            }, 2000);\n",
       "        })\n",
       "        .catch(err => {\n",
       "            console.error('Failed to copy:', err);\n",
       "            element.style.color = 'red';\n",
       "            element.innerHTML = \"Failed!\";\n",
       "            setTimeout(() => {\n",
       "                element.innerHTML = originalHTML;\n",
       "                element.style = originalStyle;\n",
       "            }, 2000);\n",
       "        });\n",
       "    return false;\n",
       "}\n",
       "\n",
       "document.querySelectorAll('.fa-regular.fa-copy').forEach(function(element) {\n",
       "    const toggleableContent = element.closest('.sk-toggleable__content');\n",
       "    const paramPrefix = toggleableContent ? toggleableContent.dataset.paramPrefix : '';\n",
       "    const paramName = element.parentElement.nextElementSibling.textContent.trim();\n",
       "    const fullParamName = paramPrefix ? `${paramPrefix}${paramName}` : paramName;\n",
       "\n",
       "    element.setAttribute('title', fullParamName);\n",
       "});\n",
       "</script></body>"
      ],
      "text/plain": [
       "LogisticRegression(C=0.1, penalty='l1', solver='liblinear')"
      ]
     },
     "execution_count": 25,
     "metadata": {},
     "output_type": "execute_result"
    }
   ],
   "source": [
    "lasso_logreg = LogisticRegression(penalty='l1', solver='liblinear', C=.1)\n",
    "lasso_logreg.fit(X, y) # type: ignore"
   ]
  },
  {
   "cell_type": "code",
   "execution_count": 26,
   "metadata": {
    "colab": {
     "base_uri": "https://localhost:8080/"
    },
    "executionInfo": {
     "elapsed": 340,
     "status": "ok",
     "timestamp": 1722995463095,
     "user": {
      "displayName": "Yong Song",
      "userId": "00576951217859821315"
     },
     "user_tz": -600
    },
    "id": "Mv3u7zqNzdPz",
    "outputId": "9b16a0f7-b0e7-45af-dde1-1c2b31a20996"
   },
   "outputs": [
    {
     "data": {
      "text/plain": [
       "np.int64(106)"
      ]
     },
     "execution_count": 26,
     "metadata": {},
     "output_type": "execute_result"
    }
   ],
   "source": [
    "np.sum(lasso_logreg.coef_ != 0)"
   ]
  },
  {
   "cell_type": "markdown",
   "metadata": {
    "id": "WVZUjc8l5F5V"
   },
   "source": [
    "$\\color{red}{Question:}$ find the top 10 influential varaibles."
   ]
  },
  {
   "cell_type": "code",
   "execution_count": 27,
   "metadata": {
    "id": "OK_875o_4ZUB"
   },
   "outputs": [
    {
     "name": "stderr",
     "output_type": "stream",
     "text": [
      "/var/folders/f5/l9hpzl4n77d48t3cndd3jf9m0000gn/T/ipykernel_29280/293299142.py:18: RuntimeWarning:\n",
      "\n",
      "divide by zero encountered in log\n",
      "\n",
      "/var/folders/f5/l9hpzl4n77d48t3cndd3jf9m0000gn/T/ipykernel_29280/293299142.py:18: RuntimeWarning:\n",
      "\n",
      "invalid value encountered in multiply\n",
      "\n",
      "/var/folders/f5/l9hpzl4n77d48t3cndd3jf9m0000gn/T/ipykernel_29280/293299142.py:18: RuntimeWarning:\n",
      "\n",
      "divide by zero encountered in log\n",
      "\n",
      "/var/folders/f5/l9hpzl4n77d48t3cndd3jf9m0000gn/T/ipykernel_29280/293299142.py:18: RuntimeWarning:\n",
      "\n",
      "invalid value encountered in multiply\n",
      "\n",
      "/var/folders/f5/l9hpzl4n77d48t3cndd3jf9m0000gn/T/ipykernel_29280/293299142.py:18: RuntimeWarning:\n",
      "\n",
      "divide by zero encountered in log\n",
      "\n",
      "/var/folders/f5/l9hpzl4n77d48t3cndd3jf9m0000gn/T/ipykernel_29280/293299142.py:18: RuntimeWarning:\n",
      "\n",
      "invalid value encountered in multiply\n",
      "\n",
      "/var/folders/f5/l9hpzl4n77d48t3cndd3jf9m0000gn/T/ipykernel_29280/293299142.py:18: RuntimeWarning:\n",
      "\n",
      "divide by zero encountered in log\n",
      "\n",
      "/var/folders/f5/l9hpzl4n77d48t3cndd3jf9m0000gn/T/ipykernel_29280/293299142.py:18: RuntimeWarning:\n",
      "\n",
      "invalid value encountered in multiply\n",
      "\n",
      "/Users/yongs1/miniforge3/lib/python3.12/site-packages/sklearn/svm/_base.py:1250: ConvergenceWarning:\n",
      "\n",
      "Liblinear failed to converge, increase the number of iterations.\n",
      "\n",
      "/var/folders/f5/l9hpzl4n77d48t3cndd3jf9m0000gn/T/ipykernel_29280/293299142.py:18: RuntimeWarning:\n",
      "\n",
      "divide by zero encountered in log\n",
      "\n",
      "/var/folders/f5/l9hpzl4n77d48t3cndd3jf9m0000gn/T/ipykernel_29280/293299142.py:18: RuntimeWarning:\n",
      "\n",
      "invalid value encountered in multiply\n",
      "\n",
      "/var/folders/f5/l9hpzl4n77d48t3cndd3jf9m0000gn/T/ipykernel_29280/293299142.py:18: RuntimeWarning:\n",
      "\n",
      "divide by zero encountered in log\n",
      "\n",
      "/var/folders/f5/l9hpzl4n77d48t3cndd3jf9m0000gn/T/ipykernel_29280/293299142.py:18: RuntimeWarning:\n",
      "\n",
      "invalid value encountered in multiply\n",
      "\n",
      "/var/folders/f5/l9hpzl4n77d48t3cndd3jf9m0000gn/T/ipykernel_29280/293299142.py:18: RuntimeWarning:\n",
      "\n",
      "divide by zero encountered in log\n",
      "\n",
      "/var/folders/f5/l9hpzl4n77d48t3cndd3jf9m0000gn/T/ipykernel_29280/293299142.py:18: RuntimeWarning:\n",
      "\n",
      "invalid value encountered in multiply\n",
      "\n",
      "/var/folders/f5/l9hpzl4n77d48t3cndd3jf9m0000gn/T/ipykernel_29280/293299142.py:18: RuntimeWarning:\n",
      "\n",
      "divide by zero encountered in log\n",
      "\n",
      "/var/folders/f5/l9hpzl4n77d48t3cndd3jf9m0000gn/T/ipykernel_29280/293299142.py:18: RuntimeWarning:\n",
      "\n",
      "invalid value encountered in multiply\n",
      "\n",
      "/var/folders/f5/l9hpzl4n77d48t3cndd3jf9m0000gn/T/ipykernel_29280/293299142.py:18: RuntimeWarning:\n",
      "\n",
      "divide by zero encountered in log\n",
      "\n",
      "/var/folders/f5/l9hpzl4n77d48t3cndd3jf9m0000gn/T/ipykernel_29280/293299142.py:18: RuntimeWarning:\n",
      "\n",
      "invalid value encountered in multiply\n",
      "\n",
      "/var/folders/f5/l9hpzl4n77d48t3cndd3jf9m0000gn/T/ipykernel_29280/293299142.py:18: RuntimeWarning:\n",
      "\n",
      "divide by zero encountered in log\n",
      "\n",
      "/var/folders/f5/l9hpzl4n77d48t3cndd3jf9m0000gn/T/ipykernel_29280/293299142.py:18: RuntimeWarning:\n",
      "\n",
      "invalid value encountered in multiply\n",
      "\n",
      "/Users/yongs1/miniforge3/lib/python3.12/site-packages/sklearn/svm/_base.py:1250: ConvergenceWarning:\n",
      "\n",
      "Liblinear failed to converge, increase the number of iterations.\n",
      "\n",
      "/var/folders/f5/l9hpzl4n77d48t3cndd3jf9m0000gn/T/ipykernel_29280/293299142.py:18: RuntimeWarning:\n",
      "\n",
      "divide by zero encountered in log\n",
      "\n",
      "/var/folders/f5/l9hpzl4n77d48t3cndd3jf9m0000gn/T/ipykernel_29280/293299142.py:18: RuntimeWarning:\n",
      "\n",
      "invalid value encountered in multiply\n",
      "\n",
      "/var/folders/f5/l9hpzl4n77d48t3cndd3jf9m0000gn/T/ipykernel_29280/293299142.py:18: RuntimeWarning:\n",
      "\n",
      "divide by zero encountered in log\n",
      "\n",
      "/var/folders/f5/l9hpzl4n77d48t3cndd3jf9m0000gn/T/ipykernel_29280/293299142.py:18: RuntimeWarning:\n",
      "\n",
      "invalid value encountered in multiply\n",
      "\n",
      "/var/folders/f5/l9hpzl4n77d48t3cndd3jf9m0000gn/T/ipykernel_29280/293299142.py:18: RuntimeWarning:\n",
      "\n",
      "divide by zero encountered in log\n",
      "\n",
      "/var/folders/f5/l9hpzl4n77d48t3cndd3jf9m0000gn/T/ipykernel_29280/293299142.py:18: RuntimeWarning:\n",
      "\n",
      "invalid value encountered in multiply\n",
      "\n",
      "/var/folders/f5/l9hpzl4n77d48t3cndd3jf9m0000gn/T/ipykernel_29280/293299142.py:18: RuntimeWarning:\n",
      "\n",
      "divide by zero encountered in log\n",
      "\n",
      "/var/folders/f5/l9hpzl4n77d48t3cndd3jf9m0000gn/T/ipykernel_29280/293299142.py:18: RuntimeWarning:\n",
      "\n",
      "invalid value encountered in multiply\n",
      "\n",
      "/var/folders/f5/l9hpzl4n77d48t3cndd3jf9m0000gn/T/ipykernel_29280/293299142.py:18: RuntimeWarning:\n",
      "\n",
      "divide by zero encountered in log\n",
      "\n",
      "/var/folders/f5/l9hpzl4n77d48t3cndd3jf9m0000gn/T/ipykernel_29280/293299142.py:18: RuntimeWarning:\n",
      "\n",
      "invalid value encountered in multiply\n",
      "\n",
      "/var/folders/f5/l9hpzl4n77d48t3cndd3jf9m0000gn/T/ipykernel_29280/293299142.py:18: RuntimeWarning:\n",
      "\n",
      "divide by zero encountered in log\n",
      "\n",
      "/var/folders/f5/l9hpzl4n77d48t3cndd3jf9m0000gn/T/ipykernel_29280/293299142.py:18: RuntimeWarning:\n",
      "\n",
      "invalid value encountered in multiply\n",
      "\n",
      "/var/folders/f5/l9hpzl4n77d48t3cndd3jf9m0000gn/T/ipykernel_29280/293299142.py:18: RuntimeWarning:\n",
      "\n",
      "divide by zero encountered in log\n",
      "\n",
      "/var/folders/f5/l9hpzl4n77d48t3cndd3jf9m0000gn/T/ipykernel_29280/293299142.py:18: RuntimeWarning:\n",
      "\n",
      "invalid value encountered in multiply\n",
      "\n",
      "/var/folders/f5/l9hpzl4n77d48t3cndd3jf9m0000gn/T/ipykernel_29280/293299142.py:18: RuntimeWarning:\n",
      "\n",
      "divide by zero encountered in log\n",
      "\n",
      "/var/folders/f5/l9hpzl4n77d48t3cndd3jf9m0000gn/T/ipykernel_29280/293299142.py:18: RuntimeWarning:\n",
      "\n",
      "invalid value encountered in multiply\n",
      "\n",
      "/var/folders/f5/l9hpzl4n77d48t3cndd3jf9m0000gn/T/ipykernel_29280/293299142.py:18: RuntimeWarning:\n",
      "\n",
      "divide by zero encountered in log\n",
      "\n",
      "/var/folders/f5/l9hpzl4n77d48t3cndd3jf9m0000gn/T/ipykernel_29280/293299142.py:18: RuntimeWarning:\n",
      "\n",
      "invalid value encountered in multiply\n",
      "\n",
      "/var/folders/f5/l9hpzl4n77d48t3cndd3jf9m0000gn/T/ipykernel_29280/293299142.py:18: RuntimeWarning:\n",
      "\n",
      "divide by zero encountered in log\n",
      "\n",
      "/var/folders/f5/l9hpzl4n77d48t3cndd3jf9m0000gn/T/ipykernel_29280/293299142.py:18: RuntimeWarning:\n",
      "\n",
      "invalid value encountered in multiply\n",
      "\n"
     ]
    }
   ],
   "source": [
    "Cs = np.logspace(-5, 2, 100)\n",
    "Ks = []\n",
    "n = y.shape[0]\n",
    "AICc = []\n",
    "\n",
    "for C in Cs:\n",
    "  lasso_logreg = LogisticRegression(penalty='l1', solver='liblinear', C=C)\n",
    "  lasso_logreg.fit(X, y) # type: ignore\n",
    "  prob1 = lasso_logreg.predict_proba(X)[:, 1] # type: ignore\n",
    "  k = np.sum(lasso_logreg.coef_ != 0)\n",
    "\n",
    "  Ks.append(k)\n",
    "  sy_logit_deviance(y, prob1)\n",
    "  AICcs.append(sy_logit_deviance(y, prob1) + 2*k + 2 * k * (k+1) / (n - k - 1))"
   ]
  },
  {
   "cell_type": "markdown",
   "metadata": {},
   "source": [
    "*RuntimeWarning*? something wrong with weak regularisation."
   ]
  },
  {
   "cell_type": "code",
   "execution_count": 28,
   "metadata": {
    "colab": {
     "base_uri": "https://localhost:8080/",
     "height": 542
    },
    "executionInfo": {
     "elapsed": 361,
     "status": "ok",
     "timestamp": 1722995503907,
     "user": {
      "displayName": "Yong Song",
      "userId": "00576951217859821315"
     },
     "user_tz": -600
    },
    "id": "IDW7QuadHnTb",
    "outputId": "dd0d8703-af7a-41c8-e596-2afc236d9853"
   },
   "outputs": [
    {
     "data": {
      "application/vnd.plotly.v1+json": {
       "config": {
        "plotlyServerURL": "https://plot.ly"
       },
       "data": [
        {
         "mode": "markers",
         "name": "AICc",
         "type": "scatter",
         "x": {
          "bdata": "8WjjiLX45D6cbSEI9q3oPsky61UNC+0++ArjPtQW8T6T+2XlWRz0PqYcIySkqvc+jmtHoOHZ+z4mnL/JQ2MAP0yscKoJSQM/u07+DPexBj8pgXZ+PLUKPw2LHTMkbg8/AVDkzmV+Ej/P4+XrfsMVP1bAZlOanBk/IP84euMjHj+4pjcwE7whPxF+MoHQ3iQ/9+3z6HyPKD/dodvhMOcsP6O7emm6ATE/0Kgm9IQDND83LyQ3a403P8w/tft9tzs/NvAIrAdPQD/50K2kOTFDP+1euS3xlUY/QOkMMkKUSj+ICrAzVUdPP6xAAf+PZ1I/VFX+f5+oVT/IiVOK+nxZP3xcpkKs/l0/TysfUS2mYT9cqLhyC8VkPxjyO2opcWg/QttjtYDDbD+wqQCiuuxwP4NhKKzO6nM/mtY9X1Zwdz9hR3bNRJV7P/RMfIrkOoA/vBIABocZgz+GWmroDXqGP5q5yp1wc4o/lWOHH7Ygjz+ylkBh1lCSP13LeULhjZU/UROMzYFdmT+2adb+otmdPzui5HtikKE/oC/7NWarpD+ixINd+1KoP4c215n8n6w/kB1JyNTXsD+yQY/nNtKzP26K4m9lU7c/jVcc4TVzuz92A0BG2ibAP+xaGarxAcM/oNxXEk1exj+0sGiPx1LKP/iJeLtG+s4//bTR0jg60j+UzV8KRHPVPxBo2ewvPtk/588Ldse03T+SPyWPsnrhP/kasKPgkeQ/Eg6PlPI06D+SjcxYpHzsP7EYULwIw/A/eySugL258z9kxbs8mDb3P48CegJRUfs/bnygwOgSAED1ZthseeoCQF1B/YCuQgZAzqHd1EYyCkAtgKHMBtQOQGz7DjG3IxJARnrqrsdYFUBrG0C4BB8ZQH9Hz28ZkB1AonCnaR1lIUCX9L2UengkQL+NWuEOFyhAfOkdvHdZLECSJDleVq4wQFRqBlJioTNAKMGpme4ZN0DnR6L9lS87QKsSILYf/j9AppBIKh7TQkCdZAoKMidGQHEoXjzuEUpAhv1oGPatTkCJkX1ZUQ1SQAxIhgdsPlVAAAAAAAAAWUA=",
          "dtype": "f8"
         },
         "y": [
          1020.9839563236518,
          1033.5078445550125,
          1041.6210434720906,
          998.0281469317032,
          1041.5921234873222,
          1041.5748599832184,
          1041.5591938218263,
          996.5823703080988,
          996.6984375439176,
          994.718378154871,
          997.1139366608841,
          1034.12613072138,
          987.2774985304619,
          1029.947618380854,
          990.7754209297377,
          994.5924055826492,
          989.5704593622597,
          988.6706690977074,
          990.9145408604282,
          1001.0825472717054,
          1011.5949296698362,
          1023.9750233583865,
          1045.540644860117,
          1077.5249475307246,
          1094.4782395273335,
          1108.5458155812773,
          1136.614438208462,
          1187.6053368612959,
          1189.2978231787777,
          1190.1122230993062,
          1191.6625572251214,
          1194.6050237648337,
          1200.1799967728866,
          1200.1319625336175,
          1202.1816366523208,
          1206.022142266776,
          1213.1651344494553,
          1226.361578198291,
          1249.4391783089568,
          1293.378142286555,
          1342.4718805761663,
          1342.4784424619208,
          1342.4910836688819,
          1342.5154159204808,
          1342.5621980554147,
          1342.6520018602766,
          1342.8240314147736,
          1343.1527439891092,
          1343.778248190732,
          1344.963662983487,
          1230.9808649156803,
          1222.2671270541073,
          1215.1188861927292,
          1204.0142822592834,
          1199.0199493585699,
          1190.4605204541172,
          1182.1617387273789,
          1177.352179175416,
          1172.875451137769,
          1165.5084554293276,
          1153.6127006725037,
          1151.95907342177,
          1150.3306532199995,
          1145.0740516651986,
          1137.4094150606252,
          1131.605574247343,
          1131.1538536496357,
          1133.1972140818639,
          1129.5824743756339,
          1128.8764765766257,
          1130.4338151825475,
          1116.5322879929029,
          1111.5332363059865,
          1110.3445595464784,
          1108.2137951006573,
          1102.5472215584537,
          1102.1148111650432,
          1100.4497107483533,
          1101.6170486600445,
          1093.723075310623,
          1082.3863475690841,
          1073.4357225791084,
          1063.8057316784727,
          1057.5551447344756,
          1053.4432571314921,
          1045.1686509460467,
          1034.8521633959267,
          1032.7768232168864,
          1027.3997035952086,
          1023.3303092986663,
          1024.487487022148,
          1015.310182514136,
          1011.3286619331033,
          1000.3969303605699,
          1005.275874854646,
          1002.0455833431918,
          1001.7346639562121,
          996.4560251723341,
          997.1796708358938,
          989.4943187291954,
          996.9345760570117,
          1003.7786983114942,
          1008.967776828181,
          1011.0556980556269,
          1008.4817044687566,
          1008.4504024044904,
          1000.5841539969211,
          1005.1525829906398,
          1013.4177494609582,
          1025.0997790058134,
          1029.1415747781787,
          1034.3177251474392,
          1047.7035842910163,
          1067.1846657120614,
          1086.2724763341243,
          1100.1148518376015,
          1085.8625589788257,
          1154.105772367192,
          1166.7603620403231,
          1161.6104625497333,
          1172.419184440485,
          1204.0482750476567,
          1224.5641022622763,
          1236.5149111337846,
          1253.3170493752305,
          1282.095081056169,
          1292.541857373418,
          1292.955256106672,
          1327.2909900278155,
          1335.8738947772295,
          null,
          null,
          null,
          null,
          null,
          null,
          null,
          null,
          null,
          null,
          null,
          null,
          null,
          null,
          null,
          null,
          null,
          null,
          null,
          null
         ]
        },
        {
         "mode": "markers",
         "name": "K",
         "type": "scatter",
         "x": {
          "bdata": "8WjjiLX45D6cbSEI9q3oPsky61UNC+0++ArjPtQW8T6T+2XlWRz0PqYcIySkqvc+jmtHoOHZ+z4mnL/JQ2MAP0yscKoJSQM/u07+DPexBj8pgXZ+PLUKPw2LHTMkbg8/AVDkzmV+Ej/P4+XrfsMVP1bAZlOanBk/IP84euMjHj+4pjcwE7whPxF+MoHQ3iQ/9+3z6HyPKD/dodvhMOcsP6O7emm6ATE/0Kgm9IQDND83LyQ3a403P8w/tft9tzs/NvAIrAdPQD/50K2kOTFDP+1euS3xlUY/QOkMMkKUSj+ICrAzVUdPP6xAAf+PZ1I/VFX+f5+oVT/IiVOK+nxZP3xcpkKs/l0/TysfUS2mYT9cqLhyC8VkPxjyO2opcWg/QttjtYDDbD+wqQCiuuxwP4NhKKzO6nM/mtY9X1Zwdz9hR3bNRJV7P/RMfIrkOoA/vBIABocZgz+GWmroDXqGP5q5yp1wc4o/lWOHH7Ygjz+ylkBh1lCSP13LeULhjZU/UROMzYFdmT+2adb+otmdPzui5HtikKE/oC/7NWarpD+ixINd+1KoP4c215n8n6w/kB1JyNTXsD+yQY/nNtKzP26K4m9lU7c/jVcc4TVzuz92A0BG2ibAP+xaGarxAcM/oNxXEk1exj+0sGiPx1LKP/iJeLtG+s4//bTR0jg60j+UzV8KRHPVPxBo2ewvPtk/588Ldse03T+SPyWPsnrhP/kasKPgkeQ/Eg6PlPI06D+SjcxYpHzsP7EYULwIw/A/eySugL258z9kxbs8mDb3P48CegJRUfs/bnygwOgSAED1ZthseeoCQF1B/YCuQgZAzqHd1EYyCkAtgKHMBtQOQGz7DjG3IxJARnrqrsdYFUBrG0C4BB8ZQH9Hz28ZkB1AonCnaR1lIUCX9L2UengkQL+NWuEOFyhAfOkdvHdZLECSJDleVq4wQFRqBlJioTNAKMGpme4ZN0DnR6L9lS87QKsSILYf/j9AppBIKh7TQkCdZAoKMidGQHEoXjzuEUpAhv1oGPatTkCJkX1ZUQ1SQAxIhgdsPlVAAAAAAAAAWUA=",
          "dtype": "f8"
         },
         "y": [
          7,
          8,
          10,
          10,
          13,
          14,
          14,
          15,
          18,
          21,
          21,
          25,
          29,
          31,
          31,
          31,
          33,
          36,
          36,
          37,
          39,
          37,
          38,
          40,
          41,
          40,
          41,
          41,
          42,
          43,
          43,
          44,
          45,
          47,
          50,
          51,
          50,
          52,
          53,
          55,
          61,
          63,
          67,
          67,
          74,
          77,
          81,
          82,
          85,
          84,
          89,
          94,
          98,
          101,
          102,
          104,
          103,
          107,
          113,
          122,
          129,
          136,
          148,
          163,
          178,
          193,
          199,
          231,
          247,
          257,
          271,
          290,
          305,
          317,
          329,
          343,
          352,
          358,
          370,
          376,
          386,
          390,
          391,
          394,
          398,
          395,
          396,
          395,
          399,
          404,
          418,
          404,
          419,
          420,
          420,
          420,
          424,
          429,
          434,
          448
         ],
         "yaxis": "y2"
        }
       ],
       "layout": {
        "template": {
         "data": {
          "bar": [
           {
            "error_x": {
             "color": "#2a3f5f"
            },
            "error_y": {
             "color": "#2a3f5f"
            },
            "marker": {
             "line": {
              "color": "#E5ECF6",
              "width": 0.5
             },
             "pattern": {
              "fillmode": "overlay",
              "size": 10,
              "solidity": 0.2
             }
            },
            "type": "bar"
           }
          ],
          "barpolar": [
           {
            "marker": {
             "line": {
              "color": "#E5ECF6",
              "width": 0.5
             },
             "pattern": {
              "fillmode": "overlay",
              "size": 10,
              "solidity": 0.2
             }
            },
            "type": "barpolar"
           }
          ],
          "carpet": [
           {
            "aaxis": {
             "endlinecolor": "#2a3f5f",
             "gridcolor": "white",
             "linecolor": "white",
             "minorgridcolor": "white",
             "startlinecolor": "#2a3f5f"
            },
            "baxis": {
             "endlinecolor": "#2a3f5f",
             "gridcolor": "white",
             "linecolor": "white",
             "minorgridcolor": "white",
             "startlinecolor": "#2a3f5f"
            },
            "type": "carpet"
           }
          ],
          "choropleth": [
           {
            "colorbar": {
             "outlinewidth": 0,
             "ticks": ""
            },
            "type": "choropleth"
           }
          ],
          "contour": [
           {
            "colorbar": {
             "outlinewidth": 0,
             "ticks": ""
            },
            "colorscale": [
             [
              0,
              "#0d0887"
             ],
             [
              0.1111111111111111,
              "#46039f"
             ],
             [
              0.2222222222222222,
              "#7201a8"
             ],
             [
              0.3333333333333333,
              "#9c179e"
             ],
             [
              0.4444444444444444,
              "#bd3786"
             ],
             [
              0.5555555555555556,
              "#d8576b"
             ],
             [
              0.6666666666666666,
              "#ed7953"
             ],
             [
              0.7777777777777778,
              "#fb9f3a"
             ],
             [
              0.8888888888888888,
              "#fdca26"
             ],
             [
              1,
              "#f0f921"
             ]
            ],
            "type": "contour"
           }
          ],
          "contourcarpet": [
           {
            "colorbar": {
             "outlinewidth": 0,
             "ticks": ""
            },
            "type": "contourcarpet"
           }
          ],
          "heatmap": [
           {
            "colorbar": {
             "outlinewidth": 0,
             "ticks": ""
            },
            "colorscale": [
             [
              0,
              "#0d0887"
             ],
             [
              0.1111111111111111,
              "#46039f"
             ],
             [
              0.2222222222222222,
              "#7201a8"
             ],
             [
              0.3333333333333333,
              "#9c179e"
             ],
             [
              0.4444444444444444,
              "#bd3786"
             ],
             [
              0.5555555555555556,
              "#d8576b"
             ],
             [
              0.6666666666666666,
              "#ed7953"
             ],
             [
              0.7777777777777778,
              "#fb9f3a"
             ],
             [
              0.8888888888888888,
              "#fdca26"
             ],
             [
              1,
              "#f0f921"
             ]
            ],
            "type": "heatmap"
           }
          ],
          "histogram": [
           {
            "marker": {
             "pattern": {
              "fillmode": "overlay",
              "size": 10,
              "solidity": 0.2
             }
            },
            "type": "histogram"
           }
          ],
          "histogram2d": [
           {
            "colorbar": {
             "outlinewidth": 0,
             "ticks": ""
            },
            "colorscale": [
             [
              0,
              "#0d0887"
             ],
             [
              0.1111111111111111,
              "#46039f"
             ],
             [
              0.2222222222222222,
              "#7201a8"
             ],
             [
              0.3333333333333333,
              "#9c179e"
             ],
             [
              0.4444444444444444,
              "#bd3786"
             ],
             [
              0.5555555555555556,
              "#d8576b"
             ],
             [
              0.6666666666666666,
              "#ed7953"
             ],
             [
              0.7777777777777778,
              "#fb9f3a"
             ],
             [
              0.8888888888888888,
              "#fdca26"
             ],
             [
              1,
              "#f0f921"
             ]
            ],
            "type": "histogram2d"
           }
          ],
          "histogram2dcontour": [
           {
            "colorbar": {
             "outlinewidth": 0,
             "ticks": ""
            },
            "colorscale": [
             [
              0,
              "#0d0887"
             ],
             [
              0.1111111111111111,
              "#46039f"
             ],
             [
              0.2222222222222222,
              "#7201a8"
             ],
             [
              0.3333333333333333,
              "#9c179e"
             ],
             [
              0.4444444444444444,
              "#bd3786"
             ],
             [
              0.5555555555555556,
              "#d8576b"
             ],
             [
              0.6666666666666666,
              "#ed7953"
             ],
             [
              0.7777777777777778,
              "#fb9f3a"
             ],
             [
              0.8888888888888888,
              "#fdca26"
             ],
             [
              1,
              "#f0f921"
             ]
            ],
            "type": "histogram2dcontour"
           }
          ],
          "mesh3d": [
           {
            "colorbar": {
             "outlinewidth": 0,
             "ticks": ""
            },
            "type": "mesh3d"
           }
          ],
          "parcoords": [
           {
            "line": {
             "colorbar": {
              "outlinewidth": 0,
              "ticks": ""
             }
            },
            "type": "parcoords"
           }
          ],
          "pie": [
           {
            "automargin": true,
            "type": "pie"
           }
          ],
          "scatter": [
           {
            "fillpattern": {
             "fillmode": "overlay",
             "size": 10,
             "solidity": 0.2
            },
            "type": "scatter"
           }
          ],
          "scatter3d": [
           {
            "line": {
             "colorbar": {
              "outlinewidth": 0,
              "ticks": ""
             }
            },
            "marker": {
             "colorbar": {
              "outlinewidth": 0,
              "ticks": ""
             }
            },
            "type": "scatter3d"
           }
          ],
          "scattercarpet": [
           {
            "marker": {
             "colorbar": {
              "outlinewidth": 0,
              "ticks": ""
             }
            },
            "type": "scattercarpet"
           }
          ],
          "scattergeo": [
           {
            "marker": {
             "colorbar": {
              "outlinewidth": 0,
              "ticks": ""
             }
            },
            "type": "scattergeo"
           }
          ],
          "scattergl": [
           {
            "marker": {
             "colorbar": {
              "outlinewidth": 0,
              "ticks": ""
             }
            },
            "type": "scattergl"
           }
          ],
          "scattermap": [
           {
            "marker": {
             "colorbar": {
              "outlinewidth": 0,
              "ticks": ""
             }
            },
            "type": "scattermap"
           }
          ],
          "scattermapbox": [
           {
            "marker": {
             "colorbar": {
              "outlinewidth": 0,
              "ticks": ""
             }
            },
            "type": "scattermapbox"
           }
          ],
          "scatterpolar": [
           {
            "marker": {
             "colorbar": {
              "outlinewidth": 0,
              "ticks": ""
             }
            },
            "type": "scatterpolar"
           }
          ],
          "scatterpolargl": [
           {
            "marker": {
             "colorbar": {
              "outlinewidth": 0,
              "ticks": ""
             }
            },
            "type": "scatterpolargl"
           }
          ],
          "scatterternary": [
           {
            "marker": {
             "colorbar": {
              "outlinewidth": 0,
              "ticks": ""
             }
            },
            "type": "scatterternary"
           }
          ],
          "surface": [
           {
            "colorbar": {
             "outlinewidth": 0,
             "ticks": ""
            },
            "colorscale": [
             [
              0,
              "#0d0887"
             ],
             [
              0.1111111111111111,
              "#46039f"
             ],
             [
              0.2222222222222222,
              "#7201a8"
             ],
             [
              0.3333333333333333,
              "#9c179e"
             ],
             [
              0.4444444444444444,
              "#bd3786"
             ],
             [
              0.5555555555555556,
              "#d8576b"
             ],
             [
              0.6666666666666666,
              "#ed7953"
             ],
             [
              0.7777777777777778,
              "#fb9f3a"
             ],
             [
              0.8888888888888888,
              "#fdca26"
             ],
             [
              1,
              "#f0f921"
             ]
            ],
            "type": "surface"
           }
          ],
          "table": [
           {
            "cells": {
             "fill": {
              "color": "#EBF0F8"
             },
             "line": {
              "color": "white"
             }
            },
            "header": {
             "fill": {
              "color": "#C8D4E3"
             },
             "line": {
              "color": "white"
             }
            },
            "type": "table"
           }
          ]
         },
         "layout": {
          "annotationdefaults": {
           "arrowcolor": "#2a3f5f",
           "arrowhead": 0,
           "arrowwidth": 1
          },
          "autotypenumbers": "strict",
          "coloraxis": {
           "colorbar": {
            "outlinewidth": 0,
            "ticks": ""
           }
          },
          "colorscale": {
           "diverging": [
            [
             0,
             "#8e0152"
            ],
            [
             0.1,
             "#c51b7d"
            ],
            [
             0.2,
             "#de77ae"
            ],
            [
             0.3,
             "#f1b6da"
            ],
            [
             0.4,
             "#fde0ef"
            ],
            [
             0.5,
             "#f7f7f7"
            ],
            [
             0.6,
             "#e6f5d0"
            ],
            [
             0.7,
             "#b8e186"
            ],
            [
             0.8,
             "#7fbc41"
            ],
            [
             0.9,
             "#4d9221"
            ],
            [
             1,
             "#276419"
            ]
           ],
           "sequential": [
            [
             0,
             "#0d0887"
            ],
            [
             0.1111111111111111,
             "#46039f"
            ],
            [
             0.2222222222222222,
             "#7201a8"
            ],
            [
             0.3333333333333333,
             "#9c179e"
            ],
            [
             0.4444444444444444,
             "#bd3786"
            ],
            [
             0.5555555555555556,
             "#d8576b"
            ],
            [
             0.6666666666666666,
             "#ed7953"
            ],
            [
             0.7777777777777778,
             "#fb9f3a"
            ],
            [
             0.8888888888888888,
             "#fdca26"
            ],
            [
             1,
             "#f0f921"
            ]
           ],
           "sequentialminus": [
            [
             0,
             "#0d0887"
            ],
            [
             0.1111111111111111,
             "#46039f"
            ],
            [
             0.2222222222222222,
             "#7201a8"
            ],
            [
             0.3333333333333333,
             "#9c179e"
            ],
            [
             0.4444444444444444,
             "#bd3786"
            ],
            [
             0.5555555555555556,
             "#d8576b"
            ],
            [
             0.6666666666666666,
             "#ed7953"
            ],
            [
             0.7777777777777778,
             "#fb9f3a"
            ],
            [
             0.8888888888888888,
             "#fdca26"
            ],
            [
             1,
             "#f0f921"
            ]
           ]
          },
          "colorway": [
           "#636efa",
           "#EF553B",
           "#00cc96",
           "#ab63fa",
           "#FFA15A",
           "#19d3f3",
           "#FF6692",
           "#B6E880",
           "#FF97FF",
           "#FECB52"
          ],
          "font": {
           "color": "#2a3f5f"
          },
          "geo": {
           "bgcolor": "white",
           "lakecolor": "white",
           "landcolor": "#E5ECF6",
           "showlakes": true,
           "showland": true,
           "subunitcolor": "white"
          },
          "hoverlabel": {
           "align": "left"
          },
          "hovermode": "closest",
          "mapbox": {
           "style": "light"
          },
          "paper_bgcolor": "white",
          "plot_bgcolor": "#E5ECF6",
          "polar": {
           "angularaxis": {
            "gridcolor": "white",
            "linecolor": "white",
            "ticks": ""
           },
           "bgcolor": "#E5ECF6",
           "radialaxis": {
            "gridcolor": "white",
            "linecolor": "white",
            "ticks": ""
           }
          },
          "scene": {
           "xaxis": {
            "backgroundcolor": "#E5ECF6",
            "gridcolor": "white",
            "gridwidth": 2,
            "linecolor": "white",
            "showbackground": true,
            "ticks": "",
            "zerolinecolor": "white"
           },
           "yaxis": {
            "backgroundcolor": "#E5ECF6",
            "gridcolor": "white",
            "gridwidth": 2,
            "linecolor": "white",
            "showbackground": true,
            "ticks": "",
            "zerolinecolor": "white"
           },
           "zaxis": {
            "backgroundcolor": "#E5ECF6",
            "gridcolor": "white",
            "gridwidth": 2,
            "linecolor": "white",
            "showbackground": true,
            "ticks": "",
            "zerolinecolor": "white"
           }
          },
          "shapedefaults": {
           "line": {
            "color": "#2a3f5f"
           }
          },
          "ternary": {
           "aaxis": {
            "gridcolor": "white",
            "linecolor": "white",
            "ticks": ""
           },
           "baxis": {
            "gridcolor": "white",
            "linecolor": "white",
            "ticks": ""
           },
           "bgcolor": "#E5ECF6",
           "caxis": {
            "gridcolor": "white",
            "linecolor": "white",
            "ticks": ""
           }
          },
          "title": {
           "x": 0.05
          },
          "xaxis": {
           "automargin": true,
           "gridcolor": "white",
           "linecolor": "white",
           "ticks": "",
           "title": {
            "standoff": 15
           },
           "zerolinecolor": "white",
           "zerolinewidth": 2
          },
          "yaxis": {
           "automargin": true,
           "gridcolor": "white",
           "linecolor": "white",
           "ticks": "",
           "title": {
            "standoff": 15
           },
           "zerolinecolor": "white",
           "zerolinewidth": 2
          }
         }
        },
        "title": {
         "text": "AICc and K"
        },
        "xaxis": {
         "title": {
          "text": "C (inverse penalty)"
         },
         "type": "log"
        },
        "yaxis": {
         "title": {
          "text": "AICc"
         }
        },
        "yaxis2": {
         "overlaying": "y",
         "side": "right",
         "title": {
          "text": "K"
         }
        }
       }
      }
     },
     "metadata": {},
     "output_type": "display_data"
    }
   ],
   "source": [
    "fig = go.Figure()\n",
    "\n",
    "fig.add_trace(\n",
    "    go.Scatter(x=Cs, y=AICcs, mode='markers', name='AICc')\n",
    ")\n",
    "fig.add_trace(\n",
    "    go.Scatter(x=Cs, y=Ks, mode='markers', name='K', yaxis='y2')\n",
    ")\n",
    "fig.update_layout(\n",
    "    yaxis=dict(title='AICc')\n",
    ")\n",
    "fig.update_layout(\n",
    "    yaxis2=dict(title='K', overlaying='y', side='right')\n",
    ")\n",
    "\n",
    "# Set title and show the plot\n",
    "fig.update_layout(\n",
    "    title='AICc and K',\n",
    "    xaxis_type='log',\n",
    "    xaxis_title='C (inverse penalty)'\n",
    ")\n",
    "fig.show()"
   ]
  },
  {
   "cell_type": "markdown",
   "metadata": {
    "id": "lfkSpFxBMCIN"
   },
   "source": [
    "## Cross Validation"
   ]
  },
  {
   "cell_type": "code",
   "execution_count": 29,
   "metadata": {
    "id": "SvNhHPnbUezQ"
   },
   "outputs": [
    {
     "name": "stderr",
     "output_type": "stream",
     "text": [
      "/Users/yongs1/miniforge3/lib/python3.12/site-packages/sklearn/svm/_base.py:1250: ConvergenceWarning:\n",
      "\n",
      "Liblinear failed to converge, increase the number of iterations.\n",
      "\n",
      "/Users/yongs1/miniforge3/lib/python3.12/site-packages/sklearn/svm/_base.py:1250: ConvergenceWarning:\n",
      "\n",
      "Liblinear failed to converge, increase the number of iterations.\n",
      "\n",
      "/Users/yongs1/miniforge3/lib/python3.12/site-packages/sklearn/svm/_base.py:1250: ConvergenceWarning:\n",
      "\n",
      "Liblinear failed to converge, increase the number of iterations.\n",
      "\n",
      "/Users/yongs1/miniforge3/lib/python3.12/site-packages/sklearn/svm/_base.py:1250: ConvergenceWarning:\n",
      "\n",
      "Liblinear failed to converge, increase the number of iterations.\n",
      "\n",
      "/Users/yongs1/miniforge3/lib/python3.12/site-packages/sklearn/svm/_base.py:1250: ConvergenceWarning:\n",
      "\n",
      "Liblinear failed to converge, increase the number of iterations.\n",
      "\n",
      "/Users/yongs1/miniforge3/lib/python3.12/site-packages/sklearn/svm/_base.py:1250: ConvergenceWarning:\n",
      "\n",
      "Liblinear failed to converge, increase the number of iterations.\n",
      "\n",
      "/Users/yongs1/miniforge3/lib/python3.12/site-packages/sklearn/svm/_base.py:1250: ConvergenceWarning:\n",
      "\n",
      "Liblinear failed to converge, increase the number of iterations.\n",
      "\n",
      "/Users/yongs1/miniforge3/lib/python3.12/site-packages/sklearn/svm/_base.py:1250: ConvergenceWarning:\n",
      "\n",
      "Liblinear failed to converge, increase the number of iterations.\n",
      "\n",
      "/Users/yongs1/miniforge3/lib/python3.12/site-packages/sklearn/svm/_base.py:1250: ConvergenceWarning:\n",
      "\n",
      "Liblinear failed to converge, increase the number of iterations.\n",
      "\n",
      "/Users/yongs1/miniforge3/lib/python3.12/site-packages/sklearn/svm/_base.py:1250: ConvergenceWarning:\n",
      "\n",
      "Liblinear failed to converge, increase the number of iterations.\n",
      "\n",
      "/Users/yongs1/miniforge3/lib/python3.12/site-packages/sklearn/svm/_base.py:1250: ConvergenceWarning:\n",
      "\n",
      "Liblinear failed to converge, increase the number of iterations.\n",
      "\n",
      "/Users/yongs1/miniforge3/lib/python3.12/site-packages/sklearn/svm/_base.py:1250: ConvergenceWarning:\n",
      "\n",
      "Liblinear failed to converge, increase the number of iterations.\n",
      "\n",
      "/Users/yongs1/miniforge3/lib/python3.12/site-packages/sklearn/svm/_base.py:1250: ConvergenceWarning:\n",
      "\n",
      "Liblinear failed to converge, increase the number of iterations.\n",
      "\n"
     ]
    }
   ],
   "source": [
    "Cs = np.logspace(-5, 2, 100)\n",
    "deviance_mean = []\n",
    "deviance_std = []\n",
    "\n",
    "for C in Cs:\n",
    "  lasso_logreg = LogisticRegression(penalty='l1', solver='liblinear', C=C)\n",
    "  # Perform cross-validation and get deviance scores\n",
    "  cv_scores = cross_val_score(lasso_logreg, X, y, cv=5, scoring='neg_log_loss') # type: ignore #ignore\n",
    "  deviance_mean.append(-2 * cv_scores.mean())\n",
    "  deviance_std.append(cv_scores.std() * 2)\n"
   ]
  },
  {
   "cell_type": "code",
   "execution_count": 30,
   "metadata": {
    "colab": {
     "base_uri": "https://localhost:8080/",
     "height": 542
    },
    "executionInfo": {
     "elapsed": 364,
     "status": "ok",
     "timestamp": 1722995722612,
     "user": {
      "displayName": "Yong Song",
      "userId": "00576951217859821315"
     },
     "user_tz": -600
    },
    "id": "8xV__lduePf2",
    "outputId": "07346b01-c093-40c6-c263-4f252afeb09d"
   },
   "outputs": [
    {
     "data": {
      "application/vnd.plotly.v1+json": {
       "config": {
        "plotlyServerURL": "https://plot.ly"
       },
       "data": [
        {
         "error_y": {
          "array": {
           "bdata": "F00zmC70oT9tL4GU29ihP6Bp7opz26E//XR1cbe1oT9+qYK8GjiiP11dccYwkaI/2tcdurYsoj+Q+2gcfAyiP0Yfdc0abKM/zRUjWMFnpT8YdAGrNjqnP6lAUT5Hl6g/8aEY/BPBqT/K/af6b5SqP6y/ET+FeKw/msIqhQMCrz+2FZsauMewP+RMc4sfrrE/QFoFedSIsj8rnVkjSk2zP6dbrGV78LM/d8Xyo3aHtD979/Mj8KW1P6UmYgL5wLU/Vg4OGd3RtT9kC0+GHe21P2MaOu8bALY/xT5RCs0Xtj8lqWflbT62PxajZCuNVrY/zV5uSv0Ztz+K6C+7jiy3PyNn2s2yJbY/7KNvDnSxtT/uOB6VcIG1P5eD/bDbVbU/DVGvGcrctD93t0cQGXu0P9QtlUY5JbQ/sbTnQ7KDsz8JLEPIckazP16iv4V+67I/cpnFF3mjsj9E8KGH+IeyP7DUtGBL8rI/FYavven6sj8R8LA4kgSzP89m6ug8qLM/VqD05dyztD+nOTvOGfq1P5/IyIUpJbc/u1G0Jo8GuD/Ia+3FWRy5PzNK1tkZd7o/FK7H4gFovD8P61XtoQi/P/xl/6OC0cA/mwukY4uVwT9qXG8LuLjCP5uxU2tsN8Q/JmgnUWXRxT9f2bCiPrzHP9N8S6YTXMo/0YjbQGqczD8HH2VvJfrOP6LP42SyudA/XVYV8zVp0j+qgsrLKfLTPxMFFkDHYNU/DBGReKAp1z8hvCV6U4DYP5StNY4ccNo/9D8M7XXp3D8iMz1T2EXgP8GBRipPluE/mHrFTWGs4z+DysbQuJvlP6sON+iXmOc/BNin8vST6T/qoHR0/u3rP/CGjEKRZe0/uSXYZuo38D9tzHZXufnwPyhv1bImx/E/xB2ny5NO8z8K7pH/ZUPzP11cf8WBC/Q/m16UqWAF9T/pQzoQ2RL1P8zCDRHKj/U/G4G5LGQ39j91E5nLoub1P/XDfa31/vU/okIETXNi9j8YLCIZ7e71P453N907IfU//FetfUdY9T/PLLQA73T1Pxp7qpuYi/Q/zPsR1Zpu9D8=",
           "dtype": "f8"
          },
          "type": "data"
         },
         "hovertemplate": "C=%{x}<br>deviance=%{y}<extra></extra>",
         "legendgroup": "",
         "line": {
          "color": "#636efa",
          "dash": "solid"
         },
         "marker": {
          "symbol": "circle"
         },
         "mode": "lines",
         "name": "",
         "orientation": "v",
         "showlegend": false,
         "type": "scatter",
         "x": {
          "bdata": "8WjjiLX45D6cbSEI9q3oPsky61UNC+0++ArjPtQW8T6T+2XlWRz0PqYcIySkqvc+jmtHoOHZ+z4mnL/JQ2MAP0yscKoJSQM/u07+DPexBj8pgXZ+PLUKPw2LHTMkbg8/AVDkzmV+Ej/P4+XrfsMVP1bAZlOanBk/IP84euMjHj+4pjcwE7whPxF+MoHQ3iQ/9+3z6HyPKD/dodvhMOcsP6O7emm6ATE/0Kgm9IQDND83LyQ3a403P8w/tft9tzs/NvAIrAdPQD/50K2kOTFDP+1euS3xlUY/QOkMMkKUSj+ICrAzVUdPP6xAAf+PZ1I/VFX+f5+oVT/IiVOK+nxZP3xcpkKs/l0/TysfUS2mYT9cqLhyC8VkPxjyO2opcWg/QttjtYDDbD+wqQCiuuxwP4NhKKzO6nM/mtY9X1Zwdz9hR3bNRJV7P/RMfIrkOoA/vBIABocZgz+GWmroDXqGP5q5yp1wc4o/lWOHH7Ygjz+ylkBh1lCSP13LeULhjZU/UROMzYFdmT+2adb+otmdPzui5HtikKE/oC/7NWarpD+ixINd+1KoP4c215n8n6w/kB1JyNTXsD+yQY/nNtKzP26K4m9lU7c/jVcc4TVzuz92A0BG2ibAP+xaGarxAcM/oNxXEk1exj+0sGiPx1LKP/iJeLtG+s4//bTR0jg60j+UzV8KRHPVPxBo2ewvPtk/588Ldse03T+SPyWPsnrhP/kasKPgkeQ/Eg6PlPI06D+SjcxYpHzsP7EYULwIw/A/eySugL258z9kxbs8mDb3P48CegJRUfs/bnygwOgSAED1ZthseeoCQF1B/YCuQgZAzqHd1EYyCkAtgKHMBtQOQGz7DjG3IxJARnrqrsdYFUBrG0C4BB8ZQH9Hz28ZkB1AonCnaR1lIUCX9L2UengkQL+NWuEOFyhAfOkdvHdZLECSJDleVq4wQFRqBlJioTNAKMGpme4ZN0DnR6L9lS87QKsSILYf/j9AppBIKh7TQkCdZAoKMidGQHEoXjzuEUpAhv1oGPatTkCJkX1ZUQ1SQAxIhgdsPlVAAAAAAAAAWUA=",
          "dtype": "f8"
         },
         "xaxis": "x",
         "y": {
          "bdata": "KmEnk8ni8z8q2/XpYcnzPxD9pQQcsvM/WypyrdWb8z97DLyfYYrzP4Z9G3qIdPM/mrKMDJhY8z8uUtZNzj/zPwHbPsNxLvM/N/JhM6Ie8z9sV5YOSATzPyZTRLwa7/I/XoCmeurb8j8q27fCJczyP20lkFcbw/I/hH8WJl/C8j/VtUarU8jyPzdhb40G0vI/7WPAR67g8j+DW/S1mO7yPxHvqErg/fI/E0x01MoK8z9TQkEmtAvzPyzK+m4t+PI/iUl7pgzn8j8mBMj/ZNzyP+w4eB+11fI/sjsBujnV8j+GK+XoM9nyPxudxkW93vI/akrV7G/T8j9F1QVBprHyP7HAcx9efvI/zZev+otJ8j8+u2sM9RzyP582XsmE9vE/+f9EUEzR8T92pRswQ7TxP9p9uSsanfE/uDVEEU6K8T8WQ55f/H/xP451VeY/bPE/60e2xH1Y8T+OhvDtdULxP2vwCOMAQPE/vYrvkXo68T/vwqQw2DzxP6iRI2umR/E/fkbiOPVY8T+1iENWW27xP6rg1Xjli/E/83q+q42o8T+0/e07IsrxP4UeP4dJ7/E/Ed2RmEwZ8j+Q1kB6iU3yP+hVoX9Dg/I/VbeYQOKz8j93HOKbk+vyPwhq3cCyOfM/rmw4MvaD8z9tAn37Z8/zP2Xle8n9QfQ/vjeqDUOv9D9QT5h4AR71Pz/TFQGrn/U/SSFTo91q9j/CDf/Hd2/3P1mDftggoPg/VZy9S+MS+j/o0vwk08z7P/D/RAIcyf0/M8eeR6ju/z+B1cXoS1MBQHjw8LZuoAJAN4Thig8gBEBRtYsAdc0FQCZg84sRhgdA3kUrzZhQCUClNWNrSCELQK06R0AoBQ1A85uTk7bbDkBlS4yT0HAQQFOqmZWWYRFANpOQOlcfEkCDnz33YCwTQGl7Ijsv/BNAc6tn0OfKFEACflQQLncVQAeqmyYY/RVAoydagWDdFkBCeEOXPncXQLOZBRDe8RdAKaRAFWOUGED1RpDmVgYZQMYlA/q4ehlATcqPHq0IGkBVAgOFVrYaQItO9YvKJxtA+3cP3c06HEA=",
          "dtype": "f8"
         },
         "yaxis": "y"
        }
       ],
       "layout": {
        "legend": {
         "tracegroupgap": 0
        },
        "margin": {
         "t": 60
        },
        "template": {
         "data": {
          "bar": [
           {
            "error_x": {
             "color": "#2a3f5f"
            },
            "error_y": {
             "color": "#2a3f5f"
            },
            "marker": {
             "line": {
              "color": "#E5ECF6",
              "width": 0.5
             },
             "pattern": {
              "fillmode": "overlay",
              "size": 10,
              "solidity": 0.2
             }
            },
            "type": "bar"
           }
          ],
          "barpolar": [
           {
            "marker": {
             "line": {
              "color": "#E5ECF6",
              "width": 0.5
             },
             "pattern": {
              "fillmode": "overlay",
              "size": 10,
              "solidity": 0.2
             }
            },
            "type": "barpolar"
           }
          ],
          "carpet": [
           {
            "aaxis": {
             "endlinecolor": "#2a3f5f",
             "gridcolor": "white",
             "linecolor": "white",
             "minorgridcolor": "white",
             "startlinecolor": "#2a3f5f"
            },
            "baxis": {
             "endlinecolor": "#2a3f5f",
             "gridcolor": "white",
             "linecolor": "white",
             "minorgridcolor": "white",
             "startlinecolor": "#2a3f5f"
            },
            "type": "carpet"
           }
          ],
          "choropleth": [
           {
            "colorbar": {
             "outlinewidth": 0,
             "ticks": ""
            },
            "type": "choropleth"
           }
          ],
          "contour": [
           {
            "colorbar": {
             "outlinewidth": 0,
             "ticks": ""
            },
            "colorscale": [
             [
              0,
              "#0d0887"
             ],
             [
              0.1111111111111111,
              "#46039f"
             ],
             [
              0.2222222222222222,
              "#7201a8"
             ],
             [
              0.3333333333333333,
              "#9c179e"
             ],
             [
              0.4444444444444444,
              "#bd3786"
             ],
             [
              0.5555555555555556,
              "#d8576b"
             ],
             [
              0.6666666666666666,
              "#ed7953"
             ],
             [
              0.7777777777777778,
              "#fb9f3a"
             ],
             [
              0.8888888888888888,
              "#fdca26"
             ],
             [
              1,
              "#f0f921"
             ]
            ],
            "type": "contour"
           }
          ],
          "contourcarpet": [
           {
            "colorbar": {
             "outlinewidth": 0,
             "ticks": ""
            },
            "type": "contourcarpet"
           }
          ],
          "heatmap": [
           {
            "colorbar": {
             "outlinewidth": 0,
             "ticks": ""
            },
            "colorscale": [
             [
              0,
              "#0d0887"
             ],
             [
              0.1111111111111111,
              "#46039f"
             ],
             [
              0.2222222222222222,
              "#7201a8"
             ],
             [
              0.3333333333333333,
              "#9c179e"
             ],
             [
              0.4444444444444444,
              "#bd3786"
             ],
             [
              0.5555555555555556,
              "#d8576b"
             ],
             [
              0.6666666666666666,
              "#ed7953"
             ],
             [
              0.7777777777777778,
              "#fb9f3a"
             ],
             [
              0.8888888888888888,
              "#fdca26"
             ],
             [
              1,
              "#f0f921"
             ]
            ],
            "type": "heatmap"
           }
          ],
          "histogram": [
           {
            "marker": {
             "pattern": {
              "fillmode": "overlay",
              "size": 10,
              "solidity": 0.2
             }
            },
            "type": "histogram"
           }
          ],
          "histogram2d": [
           {
            "colorbar": {
             "outlinewidth": 0,
             "ticks": ""
            },
            "colorscale": [
             [
              0,
              "#0d0887"
             ],
             [
              0.1111111111111111,
              "#46039f"
             ],
             [
              0.2222222222222222,
              "#7201a8"
             ],
             [
              0.3333333333333333,
              "#9c179e"
             ],
             [
              0.4444444444444444,
              "#bd3786"
             ],
             [
              0.5555555555555556,
              "#d8576b"
             ],
             [
              0.6666666666666666,
              "#ed7953"
             ],
             [
              0.7777777777777778,
              "#fb9f3a"
             ],
             [
              0.8888888888888888,
              "#fdca26"
             ],
             [
              1,
              "#f0f921"
             ]
            ],
            "type": "histogram2d"
           }
          ],
          "histogram2dcontour": [
           {
            "colorbar": {
             "outlinewidth": 0,
             "ticks": ""
            },
            "colorscale": [
             [
              0,
              "#0d0887"
             ],
             [
              0.1111111111111111,
              "#46039f"
             ],
             [
              0.2222222222222222,
              "#7201a8"
             ],
             [
              0.3333333333333333,
              "#9c179e"
             ],
             [
              0.4444444444444444,
              "#bd3786"
             ],
             [
              0.5555555555555556,
              "#d8576b"
             ],
             [
              0.6666666666666666,
              "#ed7953"
             ],
             [
              0.7777777777777778,
              "#fb9f3a"
             ],
             [
              0.8888888888888888,
              "#fdca26"
             ],
             [
              1,
              "#f0f921"
             ]
            ],
            "type": "histogram2dcontour"
           }
          ],
          "mesh3d": [
           {
            "colorbar": {
             "outlinewidth": 0,
             "ticks": ""
            },
            "type": "mesh3d"
           }
          ],
          "parcoords": [
           {
            "line": {
             "colorbar": {
              "outlinewidth": 0,
              "ticks": ""
             }
            },
            "type": "parcoords"
           }
          ],
          "pie": [
           {
            "automargin": true,
            "type": "pie"
           }
          ],
          "scatter": [
           {
            "fillpattern": {
             "fillmode": "overlay",
             "size": 10,
             "solidity": 0.2
            },
            "type": "scatter"
           }
          ],
          "scatter3d": [
           {
            "line": {
             "colorbar": {
              "outlinewidth": 0,
              "ticks": ""
             }
            },
            "marker": {
             "colorbar": {
              "outlinewidth": 0,
              "ticks": ""
             }
            },
            "type": "scatter3d"
           }
          ],
          "scattercarpet": [
           {
            "marker": {
             "colorbar": {
              "outlinewidth": 0,
              "ticks": ""
             }
            },
            "type": "scattercarpet"
           }
          ],
          "scattergeo": [
           {
            "marker": {
             "colorbar": {
              "outlinewidth": 0,
              "ticks": ""
             }
            },
            "type": "scattergeo"
           }
          ],
          "scattergl": [
           {
            "marker": {
             "colorbar": {
              "outlinewidth": 0,
              "ticks": ""
             }
            },
            "type": "scattergl"
           }
          ],
          "scattermap": [
           {
            "marker": {
             "colorbar": {
              "outlinewidth": 0,
              "ticks": ""
             }
            },
            "type": "scattermap"
           }
          ],
          "scattermapbox": [
           {
            "marker": {
             "colorbar": {
              "outlinewidth": 0,
              "ticks": ""
             }
            },
            "type": "scattermapbox"
           }
          ],
          "scatterpolar": [
           {
            "marker": {
             "colorbar": {
              "outlinewidth": 0,
              "ticks": ""
             }
            },
            "type": "scatterpolar"
           }
          ],
          "scatterpolargl": [
           {
            "marker": {
             "colorbar": {
              "outlinewidth": 0,
              "ticks": ""
             }
            },
            "type": "scatterpolargl"
           }
          ],
          "scatterternary": [
           {
            "marker": {
             "colorbar": {
              "outlinewidth": 0,
              "ticks": ""
             }
            },
            "type": "scatterternary"
           }
          ],
          "surface": [
           {
            "colorbar": {
             "outlinewidth": 0,
             "ticks": ""
            },
            "colorscale": [
             [
              0,
              "#0d0887"
             ],
             [
              0.1111111111111111,
              "#46039f"
             ],
             [
              0.2222222222222222,
              "#7201a8"
             ],
             [
              0.3333333333333333,
              "#9c179e"
             ],
             [
              0.4444444444444444,
              "#bd3786"
             ],
             [
              0.5555555555555556,
              "#d8576b"
             ],
             [
              0.6666666666666666,
              "#ed7953"
             ],
             [
              0.7777777777777778,
              "#fb9f3a"
             ],
             [
              0.8888888888888888,
              "#fdca26"
             ],
             [
              1,
              "#f0f921"
             ]
            ],
            "type": "surface"
           }
          ],
          "table": [
           {
            "cells": {
             "fill": {
              "color": "#EBF0F8"
             },
             "line": {
              "color": "white"
             }
            },
            "header": {
             "fill": {
              "color": "#C8D4E3"
             },
             "line": {
              "color": "white"
             }
            },
            "type": "table"
           }
          ]
         },
         "layout": {
          "annotationdefaults": {
           "arrowcolor": "#2a3f5f",
           "arrowhead": 0,
           "arrowwidth": 1
          },
          "autotypenumbers": "strict",
          "coloraxis": {
           "colorbar": {
            "outlinewidth": 0,
            "ticks": ""
           }
          },
          "colorscale": {
           "diverging": [
            [
             0,
             "#8e0152"
            ],
            [
             0.1,
             "#c51b7d"
            ],
            [
             0.2,
             "#de77ae"
            ],
            [
             0.3,
             "#f1b6da"
            ],
            [
             0.4,
             "#fde0ef"
            ],
            [
             0.5,
             "#f7f7f7"
            ],
            [
             0.6,
             "#e6f5d0"
            ],
            [
             0.7,
             "#b8e186"
            ],
            [
             0.8,
             "#7fbc41"
            ],
            [
             0.9,
             "#4d9221"
            ],
            [
             1,
             "#276419"
            ]
           ],
           "sequential": [
            [
             0,
             "#0d0887"
            ],
            [
             0.1111111111111111,
             "#46039f"
            ],
            [
             0.2222222222222222,
             "#7201a8"
            ],
            [
             0.3333333333333333,
             "#9c179e"
            ],
            [
             0.4444444444444444,
             "#bd3786"
            ],
            [
             0.5555555555555556,
             "#d8576b"
            ],
            [
             0.6666666666666666,
             "#ed7953"
            ],
            [
             0.7777777777777778,
             "#fb9f3a"
            ],
            [
             0.8888888888888888,
             "#fdca26"
            ],
            [
             1,
             "#f0f921"
            ]
           ],
           "sequentialminus": [
            [
             0,
             "#0d0887"
            ],
            [
             0.1111111111111111,
             "#46039f"
            ],
            [
             0.2222222222222222,
             "#7201a8"
            ],
            [
             0.3333333333333333,
             "#9c179e"
            ],
            [
             0.4444444444444444,
             "#bd3786"
            ],
            [
             0.5555555555555556,
             "#d8576b"
            ],
            [
             0.6666666666666666,
             "#ed7953"
            ],
            [
             0.7777777777777778,
             "#fb9f3a"
            ],
            [
             0.8888888888888888,
             "#fdca26"
            ],
            [
             1,
             "#f0f921"
            ]
           ]
          },
          "colorway": [
           "#636efa",
           "#EF553B",
           "#00cc96",
           "#ab63fa",
           "#FFA15A",
           "#19d3f3",
           "#FF6692",
           "#B6E880",
           "#FF97FF",
           "#FECB52"
          ],
          "font": {
           "color": "#2a3f5f"
          },
          "geo": {
           "bgcolor": "white",
           "lakecolor": "white",
           "landcolor": "#E5ECF6",
           "showlakes": true,
           "showland": true,
           "subunitcolor": "white"
          },
          "hoverlabel": {
           "align": "left"
          },
          "hovermode": "closest",
          "mapbox": {
           "style": "light"
          },
          "paper_bgcolor": "white",
          "plot_bgcolor": "#E5ECF6",
          "polar": {
           "angularaxis": {
            "gridcolor": "white",
            "linecolor": "white",
            "ticks": ""
           },
           "bgcolor": "#E5ECF6",
           "radialaxis": {
            "gridcolor": "white",
            "linecolor": "white",
            "ticks": ""
           }
          },
          "scene": {
           "xaxis": {
            "backgroundcolor": "#E5ECF6",
            "gridcolor": "white",
            "gridwidth": 2,
            "linecolor": "white",
            "showbackground": true,
            "ticks": "",
            "zerolinecolor": "white"
           },
           "yaxis": {
            "backgroundcolor": "#E5ECF6",
            "gridcolor": "white",
            "gridwidth": 2,
            "linecolor": "white",
            "showbackground": true,
            "ticks": "",
            "zerolinecolor": "white"
           },
           "zaxis": {
            "backgroundcolor": "#E5ECF6",
            "gridcolor": "white",
            "gridwidth": 2,
            "linecolor": "white",
            "showbackground": true,
            "ticks": "",
            "zerolinecolor": "white"
           }
          },
          "shapedefaults": {
           "line": {
            "color": "#2a3f5f"
           }
          },
          "ternary": {
           "aaxis": {
            "gridcolor": "white",
            "linecolor": "white",
            "ticks": ""
           },
           "baxis": {
            "gridcolor": "white",
            "linecolor": "white",
            "ticks": ""
           },
           "bgcolor": "#E5ECF6",
           "caxis": {
            "gridcolor": "white",
            "linecolor": "white",
            "ticks": ""
           }
          },
          "title": {
           "x": 0.05
          },
          "xaxis": {
           "automargin": true,
           "gridcolor": "white",
           "linecolor": "white",
           "ticks": "",
           "title": {
            "standoff": 15
           },
           "zerolinecolor": "white",
           "zerolinewidth": 2
          },
          "yaxis": {
           "automargin": true,
           "gridcolor": "white",
           "linecolor": "white",
           "ticks": "",
           "title": {
            "standoff": 15
           },
           "zerolinecolor": "white",
           "zerolinewidth": 2
          }
         }
        },
        "title": {
         "text": "Lasso Cross-Validation Results"
        },
        "xaxis": {
         "anchor": "y",
         "domain": [
          0,
          1
         ],
         "title": {
          "text": "C"
         },
         "type": "log"
        },
        "yaxis": {
         "anchor": "x",
         "domain": [
          0,
          1
         ],
         "title": {
          "text": "Deviance"
         }
        }
       }
      }
     },
     "metadata": {},
     "output_type": "display_data"
    }
   ],
   "source": [
    "cv_results = pd.DataFrame({'C': Cs,\n",
    "                           'deviance': deviance_mean,\n",
    "                           'std_error': deviance_std})\n",
    "\n",
    "fig = px.line(cv_results, x='C', y='deviance')\n",
    "fig.update_layout(title='Lasso Cross-Validation Results',\n",
    "                  xaxis_title='C',\n",
    "                  xaxis_type='log',\n",
    "                  yaxis_title='Deviance')\n",
    "fig.update_traces(error_y=dict(type='data', array=cv_results['std_error']))\n",
    "\n",
    "\n",
    "fig.show()"
   ]
  },
  {
   "cell_type": "markdown",
   "metadata": {
    "id": "6Qx98eu6e-T5"
   },
   "source": [
    "$\\color{red}{Question:}$ Find the best value of `C` and re-estimate the model."
   ]
  },
  {
   "cell_type": "markdown",
   "metadata": {},
   "source": [
    "Pipeline+GridSearchCV\n",
    "\n",
    "- Now you may understand why **scaling** is important for **numeric stability**!"
   ]
  },
  {
   "cell_type": "code",
   "execution_count": null,
   "metadata": {},
   "outputs": [],
   "source": [
    "pipeline = Pipeline([\n",
    "    ('scaler', StandardScaler()),\n",
    "    ('logreg', LogisticRegression(penalty='l1', solver='liblinear', max_iter=1000))\n",
    "])\n",
    "\n",
    "param_grid = {\n",
    "    'logreg__C': np.logspace(-5, 1, 80)\n",
    "}\n",
    "\n",
    "grid = GridSearchCV(\n",
    "    estimator=pipeline,\n",
    "    param_grid=param_grid,\n",
    "    scoring='neg_log_loss',  \n",
    "    cv=5,\n",
    "    return_train_score=True\n",
    ")\n",
    "\n",
    "grid.fit(X, y) # type: ignore\n",
    "\n"
   ]
  },
  {
   "cell_type": "code",
   "execution_count": 41,
   "metadata": {},
   "outputs": [],
   "source": [
    "cv_results = pd.DataFrame(grid.cv_results_)\n",
    "\n",
    "cv_results['deviance'] = -2 * cv_results['mean_test_score']\n",
    "cv_results['std_error'] = 2 * cv_results['std_test_score']\n",
    "cv_results['C'] = param_grid['logreg__C']"
   ]
  },
  {
   "cell_type": "code",
   "execution_count": 42,
   "metadata": {},
   "outputs": [
    {
     "data": {
      "application/vnd.plotly.v1+json": {
       "config": {
        "plotlyServerURL": "https://plot.ly"
       },
       "data": [
        {
         "error_y": {
          "array": {
           "bdata": "AAAAAAAAAAAAAAAAAAAAAAAAAAAAAAAAAAAAAAAAAAAAAAAAAAAAAAAAAAAAAAAAAAAAAAAAAAAAAAAAAAAAAAAAAAAAAAAAAAAAAAAAAAAAAAAAAAAAAAAAAAAAAAAAAAAAAAAAAAAAAAAAAAAAAAAAAAAAAAAAAAAAAAAAAAAAAAAAAAAAAAAAAAAAAAAAAAAAAAAAAAAAAAAAAAAAAAAAAAAAAAAAAAAAAAAAAAAAAAAAAAAAAAAAAAAAAAAAAAAAAAAAAAAAAAAAAAAAAAAAAAAAAAAAAAAAAAAAAAAAAAAAAAAAAAAAAAAAAAAAAAAAAAAAAAAAAAAAAAAAAAAAAAAAAAAAAAAAAAAAAAAAAAAAAAAAAAAAAAAAAAAAAAAAAAAAAABIcj/0fsmoPAAAAAAAAAAAM5YeCyhNbj9GOGQw8FB1P7IUUOGjUYQ/mX9M6cdAkT9QvtQ05z+TPwffJTgVUJQ/gHM0/oILlT8yiBlEK52UPxBHZ1UmOZU/yC6B+UD+lj+7t0wNgXmWP2bVm/ipq5Q/Eevh7OlSkj83VqTBxMKNPzZjAw6+uY0/nsZhIc5GlT9A2U/Ih6agP/lU81hfNKk/EcUSZeJFsD/OfkBJd+u0P5uSVrqLPLw/hvQvwOuVwT8kn+v7ZH7FP7kQfTX10sc/iyeEjB3kyT9Ee9g19G7NP0B8f4mlC9E/MGhWiqh10z9S4OCZJjPWP70LuVSkltg/WImVHjnr2j+b8EeOShTdP8hG9V0git8/f87NCbbh4D8rneyc7f7hP/35BQLEHuM/BBJBAA9+5D+gfkRASPflP3febsvbC+c/JL6uQb2s5z/bNkGr2pHoPw==",
           "dtype": "f8"
          },
          "type": "data"
         },
         "hovertemplate": "C=%{x}<br>deviance=%{y}<extra></extra>",
         "legendgroup": "",
         "line": {
          "color": "#636efa",
          "dash": "solid"
         },
         "marker": {
          "symbol": "circle"
         },
         "mode": "lines",
         "name": "",
         "orientation": "v",
         "showlegend": false,
         "type": "scatter",
         "x": {
          "bdata": "8WjjiLX45D6CQ2Cur/roPnrX8Re7wO0+ywFe7ie48T6xi/6TBxv1Pt9W1MOQI/k+oaVvFmzx/T4TCld6J9UBPz0QtcmRPQU/6Mmvv7RMCT/Woz3EbCIOPy/eJ3tW8hE/K/XxhVRgFT/2c24PHHYZP6Tew6O9Ux4/Zmp6PrUPIj89pjYlUIMlP75YPyHHnyk/t8w/OF+FLj9atHcSRC0yP2HymwSFpjU/js0FZLbJOT/cq8UFUrc+P/GqyEUDS0I/uwPTgfPJRT9RoFpH6vNJP5DgQZGW6U4/zveWJ/NoUj/LWCb7m+1VP5hAjTtjHlo/xFd6YC0cXz/Q0Y0HFIdiP1S/es9+EWY/i+qksSFJaj+56g/6Fk9vP0DR2jVmpXI/BVFQXpw1dj+e02EbJnR6P4fFf+VTgn8/HsUuA+rDgj+RccMH9VmGP1lZPutwn4o/Ys8kq+S1jz/Kib7An+KSP1rOjSyJfpY/2zFwlALLmj+7FTnUyemfP0XhQ8CHAaM/B2AHLlmjpj+snumK2/aqP6uca/UBD7A/mUz+U6Igsz95bSduZci2Pw+hWkP8Irs/3e79vEkpwD+u5rPO7z/DP3aQhU+u7cY/vjAyM2VPyz+UjcOGvEPQP7BAsoNwX9M/FLxaNTQT1z9PdJ/QFnzbP3L5HplaXuA/qT/PxiR/4z/WRIKD9zjnP8/7kpIRqes/3+LlOiR58D+s+2nsDJ/zP1Hqep74Xvc/C/2/8FXW+z+N5mGzGZQAQDOga0kpvwNAqeJn6zeFB0B3kp1j5AMMQDBLUUo7rxBAU05IM3rfE0DA5xHQtasXQIj7Z2S9MRxAcMDnR4nKIEAAAAAAAAAkQA==",
          "dtype": "f8"
         },
         "xaxis": "x",
         "y": {
          "bdata": "7jn6/kIu9j/uOfr+Qi72P+45+v5CLvY/7jn6/kIu9j/uOfr+Qi72P+45+v5CLvY/7jn6/kIu9j/uOfr+Qi72P+45+v5CLvY/7jn6/kIu9j/uOfr+Qi72P+45+v5CLvY/7jn6/kIu9j/uOfr+Qi72P+45+v5CLvY/7jn6/kIu9j/uOfr+Qi72P+45+v5CLvY/7jn6/kIu9j/uOfr+Qi72P+45+v5CLvY/7jn6/kIu9j/uOfr+Qi72P+45+v5CLvY/7jn6/kIu9j/uOfr+Qi72P+45+v5CLvY/7jn6/kIu9j/uOfr+Qi72P+45+v5CLvY/7jn6/kIu9j/uOfr+Qi72P+45+v5CLvY/7jn6/kIu9j/uOfr+Qi72P+45+v5CLvY/7jn6/kIu9j8brg2MpAT2P8XMTRAbT/U/eJB5/viC9D9L1oxI58TzP9mVOPKJMfM/VLJwV92q8j9ziLkPCi/yPyZTiIFoyvE/2h2V+CNx8T/zzpUWHx/xPxBEa4Q1yvA/mv9jYg1y8D9ha3DW/yTwPyBXOTCk6e8/teXGgKq17z/j19eFJLnvP8cqHA5vAPA/yng15Xw88D/GLZXfFJjwPw2WNm73MvE/nMyCez7q8T+As4bCS+TyP4pVVk/i9/M/NL7WZUtl9T/yrcKbog73P9oST1U67vg/nUggAOsi+z/jVzrOV5r9P5gOhOwjKABAscge+0CpAUCSM6EMLREDQGZR/D0YuARAU0ToWcdgBkCtkYCmbQ0IQKbqoQz13glA02G7K4iSC0DoGzeWe2INQKCAvRmILg9AFJlQJ++DEECVmFW013gRQGJj0BdfYBJAerb5SpRbE0CKoQuyvUkUQA==",
          "dtype": "f8"
         },
         "yaxis": "y"
        }
       ],
       "layout": {
        "legend": {
         "tracegroupgap": 0
        },
        "margin": {
         "t": 60
        },
        "template": {
         "data": {
          "bar": [
           {
            "error_x": {
             "color": "#2a3f5f"
            },
            "error_y": {
             "color": "#2a3f5f"
            },
            "marker": {
             "line": {
              "color": "#E5ECF6",
              "width": 0.5
             },
             "pattern": {
              "fillmode": "overlay",
              "size": 10,
              "solidity": 0.2
             }
            },
            "type": "bar"
           }
          ],
          "barpolar": [
           {
            "marker": {
             "line": {
              "color": "#E5ECF6",
              "width": 0.5
             },
             "pattern": {
              "fillmode": "overlay",
              "size": 10,
              "solidity": 0.2
             }
            },
            "type": "barpolar"
           }
          ],
          "carpet": [
           {
            "aaxis": {
             "endlinecolor": "#2a3f5f",
             "gridcolor": "white",
             "linecolor": "white",
             "minorgridcolor": "white",
             "startlinecolor": "#2a3f5f"
            },
            "baxis": {
             "endlinecolor": "#2a3f5f",
             "gridcolor": "white",
             "linecolor": "white",
             "minorgridcolor": "white",
             "startlinecolor": "#2a3f5f"
            },
            "type": "carpet"
           }
          ],
          "choropleth": [
           {
            "colorbar": {
             "outlinewidth": 0,
             "ticks": ""
            },
            "type": "choropleth"
           }
          ],
          "contour": [
           {
            "colorbar": {
             "outlinewidth": 0,
             "ticks": ""
            },
            "colorscale": [
             [
              0,
              "#0d0887"
             ],
             [
              0.1111111111111111,
              "#46039f"
             ],
             [
              0.2222222222222222,
              "#7201a8"
             ],
             [
              0.3333333333333333,
              "#9c179e"
             ],
             [
              0.4444444444444444,
              "#bd3786"
             ],
             [
              0.5555555555555556,
              "#d8576b"
             ],
             [
              0.6666666666666666,
              "#ed7953"
             ],
             [
              0.7777777777777778,
              "#fb9f3a"
             ],
             [
              0.8888888888888888,
              "#fdca26"
             ],
             [
              1,
              "#f0f921"
             ]
            ],
            "type": "contour"
           }
          ],
          "contourcarpet": [
           {
            "colorbar": {
             "outlinewidth": 0,
             "ticks": ""
            },
            "type": "contourcarpet"
           }
          ],
          "heatmap": [
           {
            "colorbar": {
             "outlinewidth": 0,
             "ticks": ""
            },
            "colorscale": [
             [
              0,
              "#0d0887"
             ],
             [
              0.1111111111111111,
              "#46039f"
             ],
             [
              0.2222222222222222,
              "#7201a8"
             ],
             [
              0.3333333333333333,
              "#9c179e"
             ],
             [
              0.4444444444444444,
              "#bd3786"
             ],
             [
              0.5555555555555556,
              "#d8576b"
             ],
             [
              0.6666666666666666,
              "#ed7953"
             ],
             [
              0.7777777777777778,
              "#fb9f3a"
             ],
             [
              0.8888888888888888,
              "#fdca26"
             ],
             [
              1,
              "#f0f921"
             ]
            ],
            "type": "heatmap"
           }
          ],
          "histogram": [
           {
            "marker": {
             "pattern": {
              "fillmode": "overlay",
              "size": 10,
              "solidity": 0.2
             }
            },
            "type": "histogram"
           }
          ],
          "histogram2d": [
           {
            "colorbar": {
             "outlinewidth": 0,
             "ticks": ""
            },
            "colorscale": [
             [
              0,
              "#0d0887"
             ],
             [
              0.1111111111111111,
              "#46039f"
             ],
             [
              0.2222222222222222,
              "#7201a8"
             ],
             [
              0.3333333333333333,
              "#9c179e"
             ],
             [
              0.4444444444444444,
              "#bd3786"
             ],
             [
              0.5555555555555556,
              "#d8576b"
             ],
             [
              0.6666666666666666,
              "#ed7953"
             ],
             [
              0.7777777777777778,
              "#fb9f3a"
             ],
             [
              0.8888888888888888,
              "#fdca26"
             ],
             [
              1,
              "#f0f921"
             ]
            ],
            "type": "histogram2d"
           }
          ],
          "histogram2dcontour": [
           {
            "colorbar": {
             "outlinewidth": 0,
             "ticks": ""
            },
            "colorscale": [
             [
              0,
              "#0d0887"
             ],
             [
              0.1111111111111111,
              "#46039f"
             ],
             [
              0.2222222222222222,
              "#7201a8"
             ],
             [
              0.3333333333333333,
              "#9c179e"
             ],
             [
              0.4444444444444444,
              "#bd3786"
             ],
             [
              0.5555555555555556,
              "#d8576b"
             ],
             [
              0.6666666666666666,
              "#ed7953"
             ],
             [
              0.7777777777777778,
              "#fb9f3a"
             ],
             [
              0.8888888888888888,
              "#fdca26"
             ],
             [
              1,
              "#f0f921"
             ]
            ],
            "type": "histogram2dcontour"
           }
          ],
          "mesh3d": [
           {
            "colorbar": {
             "outlinewidth": 0,
             "ticks": ""
            },
            "type": "mesh3d"
           }
          ],
          "parcoords": [
           {
            "line": {
             "colorbar": {
              "outlinewidth": 0,
              "ticks": ""
             }
            },
            "type": "parcoords"
           }
          ],
          "pie": [
           {
            "automargin": true,
            "type": "pie"
           }
          ],
          "scatter": [
           {
            "fillpattern": {
             "fillmode": "overlay",
             "size": 10,
             "solidity": 0.2
            },
            "type": "scatter"
           }
          ],
          "scatter3d": [
           {
            "line": {
             "colorbar": {
              "outlinewidth": 0,
              "ticks": ""
             }
            },
            "marker": {
             "colorbar": {
              "outlinewidth": 0,
              "ticks": ""
             }
            },
            "type": "scatter3d"
           }
          ],
          "scattercarpet": [
           {
            "marker": {
             "colorbar": {
              "outlinewidth": 0,
              "ticks": ""
             }
            },
            "type": "scattercarpet"
           }
          ],
          "scattergeo": [
           {
            "marker": {
             "colorbar": {
              "outlinewidth": 0,
              "ticks": ""
             }
            },
            "type": "scattergeo"
           }
          ],
          "scattergl": [
           {
            "marker": {
             "colorbar": {
              "outlinewidth": 0,
              "ticks": ""
             }
            },
            "type": "scattergl"
           }
          ],
          "scattermap": [
           {
            "marker": {
             "colorbar": {
              "outlinewidth": 0,
              "ticks": ""
             }
            },
            "type": "scattermap"
           }
          ],
          "scattermapbox": [
           {
            "marker": {
             "colorbar": {
              "outlinewidth": 0,
              "ticks": ""
             }
            },
            "type": "scattermapbox"
           }
          ],
          "scatterpolar": [
           {
            "marker": {
             "colorbar": {
              "outlinewidth": 0,
              "ticks": ""
             }
            },
            "type": "scatterpolar"
           }
          ],
          "scatterpolargl": [
           {
            "marker": {
             "colorbar": {
              "outlinewidth": 0,
              "ticks": ""
             }
            },
            "type": "scatterpolargl"
           }
          ],
          "scatterternary": [
           {
            "marker": {
             "colorbar": {
              "outlinewidth": 0,
              "ticks": ""
             }
            },
            "type": "scatterternary"
           }
          ],
          "surface": [
           {
            "colorbar": {
             "outlinewidth": 0,
             "ticks": ""
            },
            "colorscale": [
             [
              0,
              "#0d0887"
             ],
             [
              0.1111111111111111,
              "#46039f"
             ],
             [
              0.2222222222222222,
              "#7201a8"
             ],
             [
              0.3333333333333333,
              "#9c179e"
             ],
             [
              0.4444444444444444,
              "#bd3786"
             ],
             [
              0.5555555555555556,
              "#d8576b"
             ],
             [
              0.6666666666666666,
              "#ed7953"
             ],
             [
              0.7777777777777778,
              "#fb9f3a"
             ],
             [
              0.8888888888888888,
              "#fdca26"
             ],
             [
              1,
              "#f0f921"
             ]
            ],
            "type": "surface"
           }
          ],
          "table": [
           {
            "cells": {
             "fill": {
              "color": "#EBF0F8"
             },
             "line": {
              "color": "white"
             }
            },
            "header": {
             "fill": {
              "color": "#C8D4E3"
             },
             "line": {
              "color": "white"
             }
            },
            "type": "table"
           }
          ]
         },
         "layout": {
          "annotationdefaults": {
           "arrowcolor": "#2a3f5f",
           "arrowhead": 0,
           "arrowwidth": 1
          },
          "autotypenumbers": "strict",
          "coloraxis": {
           "colorbar": {
            "outlinewidth": 0,
            "ticks": ""
           }
          },
          "colorscale": {
           "diverging": [
            [
             0,
             "#8e0152"
            ],
            [
             0.1,
             "#c51b7d"
            ],
            [
             0.2,
             "#de77ae"
            ],
            [
             0.3,
             "#f1b6da"
            ],
            [
             0.4,
             "#fde0ef"
            ],
            [
             0.5,
             "#f7f7f7"
            ],
            [
             0.6,
             "#e6f5d0"
            ],
            [
             0.7,
             "#b8e186"
            ],
            [
             0.8,
             "#7fbc41"
            ],
            [
             0.9,
             "#4d9221"
            ],
            [
             1,
             "#276419"
            ]
           ],
           "sequential": [
            [
             0,
             "#0d0887"
            ],
            [
             0.1111111111111111,
             "#46039f"
            ],
            [
             0.2222222222222222,
             "#7201a8"
            ],
            [
             0.3333333333333333,
             "#9c179e"
            ],
            [
             0.4444444444444444,
             "#bd3786"
            ],
            [
             0.5555555555555556,
             "#d8576b"
            ],
            [
             0.6666666666666666,
             "#ed7953"
            ],
            [
             0.7777777777777778,
             "#fb9f3a"
            ],
            [
             0.8888888888888888,
             "#fdca26"
            ],
            [
             1,
             "#f0f921"
            ]
           ],
           "sequentialminus": [
            [
             0,
             "#0d0887"
            ],
            [
             0.1111111111111111,
             "#46039f"
            ],
            [
             0.2222222222222222,
             "#7201a8"
            ],
            [
             0.3333333333333333,
             "#9c179e"
            ],
            [
             0.4444444444444444,
             "#bd3786"
            ],
            [
             0.5555555555555556,
             "#d8576b"
            ],
            [
             0.6666666666666666,
             "#ed7953"
            ],
            [
             0.7777777777777778,
             "#fb9f3a"
            ],
            [
             0.8888888888888888,
             "#fdca26"
            ],
            [
             1,
             "#f0f921"
            ]
           ]
          },
          "colorway": [
           "#636efa",
           "#EF553B",
           "#00cc96",
           "#ab63fa",
           "#FFA15A",
           "#19d3f3",
           "#FF6692",
           "#B6E880",
           "#FF97FF",
           "#FECB52"
          ],
          "font": {
           "color": "#2a3f5f"
          },
          "geo": {
           "bgcolor": "white",
           "lakecolor": "white",
           "landcolor": "#E5ECF6",
           "showlakes": true,
           "showland": true,
           "subunitcolor": "white"
          },
          "hoverlabel": {
           "align": "left"
          },
          "hovermode": "closest",
          "mapbox": {
           "style": "light"
          },
          "paper_bgcolor": "white",
          "plot_bgcolor": "#E5ECF6",
          "polar": {
           "angularaxis": {
            "gridcolor": "white",
            "linecolor": "white",
            "ticks": ""
           },
           "bgcolor": "#E5ECF6",
           "radialaxis": {
            "gridcolor": "white",
            "linecolor": "white",
            "ticks": ""
           }
          },
          "scene": {
           "xaxis": {
            "backgroundcolor": "#E5ECF6",
            "gridcolor": "white",
            "gridwidth": 2,
            "linecolor": "white",
            "showbackground": true,
            "ticks": "",
            "zerolinecolor": "white"
           },
           "yaxis": {
            "backgroundcolor": "#E5ECF6",
            "gridcolor": "white",
            "gridwidth": 2,
            "linecolor": "white",
            "showbackground": true,
            "ticks": "",
            "zerolinecolor": "white"
           },
           "zaxis": {
            "backgroundcolor": "#E5ECF6",
            "gridcolor": "white",
            "gridwidth": 2,
            "linecolor": "white",
            "showbackground": true,
            "ticks": "",
            "zerolinecolor": "white"
           }
          },
          "shapedefaults": {
           "line": {
            "color": "#2a3f5f"
           }
          },
          "ternary": {
           "aaxis": {
            "gridcolor": "white",
            "linecolor": "white",
            "ticks": ""
           },
           "baxis": {
            "gridcolor": "white",
            "linecolor": "white",
            "ticks": ""
           },
           "bgcolor": "#E5ECF6",
           "caxis": {
            "gridcolor": "white",
            "linecolor": "white",
            "ticks": ""
           }
          },
          "title": {
           "x": 0.05
          },
          "xaxis": {
           "automargin": true,
           "gridcolor": "white",
           "linecolor": "white",
           "ticks": "",
           "title": {
            "standoff": 15
           },
           "zerolinecolor": "white",
           "zerolinewidth": 2
          },
          "yaxis": {
           "automargin": true,
           "gridcolor": "white",
           "linecolor": "white",
           "ticks": "",
           "title": {
            "standoff": 15
           },
           "zerolinecolor": "white",
           "zerolinewidth": 2
          }
         }
        },
        "title": {
         "text": "Lasso Cross-Validation Results"
        },
        "xaxis": {
         "anchor": "y",
         "domain": [
          0,
          1
         ],
         "title": {
          "text": "C"
         },
         "type": "log"
        },
        "yaxis": {
         "anchor": "x",
         "domain": [
          0,
          1
         ],
         "title": {
          "text": "Deviance"
         }
        }
       }
      }
     },
     "metadata": {},
     "output_type": "display_data"
    }
   ],
   "source": [
    "fig = px.line(cv_results, x='C', y='deviance')\n",
    "fig.update_layout(title='Lasso Cross-Validation Results',\n",
    "                  xaxis_title='C',\n",
    "                  xaxis_type='log',\n",
    "                  yaxis_title='Deviance')\n",
    "fig.update_traces(error_y=dict(type='data', array=cv_results['std_error']))\n",
    "\n",
    "\n",
    "fig.show()"
   ]
  },
  {
   "cell_type": "markdown",
   "metadata": {
    "id": "C4dgoypcgIIZ"
   },
   "source": [
    "# Multinomial Logistic Regression\n",
    "\n",
    "Let's load the *forensic glass* data set from the MASS (Modern Applied Statistics with S) library.\n",
    "- RI ([refractive index](https://en.wikipedia.org/wiki/Refractive_index)).\n",
    "- chemical composition in percentage by weight of oxide.\n",
    "- types of glasses. (Page 107 for details)"
   ]
  },
  {
   "cell_type": "code",
   "execution_count": 43,
   "metadata": {
    "colab": {
     "base_uri": "https://localhost:8080/",
     "height": 424
    },
    "executionInfo": {
     "elapsed": 1361,
     "status": "ok",
     "timestamp": 1722995745193,
     "user": {
      "displayName": "Yong Song",
      "userId": "00576951217859821315"
     },
     "user_tz": -600
    },
    "id": "Ja17rMRmh3im",
    "outputId": "30018c81-45fe-4f4b-f0ca-ae0e9baa3fac"
   },
   "outputs": [
    {
     "data": {
      "application/vnd.microsoft.datawrangler.viewer.v0+json": {
       "columns": [
        {
         "name": "index",
         "rawType": "int64",
         "type": "integer"
        },
        {
         "name": "RI",
         "rawType": "float64",
         "type": "float"
        },
        {
         "name": "Na",
         "rawType": "float64",
         "type": "float"
        },
        {
         "name": "Mg",
         "rawType": "float64",
         "type": "float"
        },
        {
         "name": "Al",
         "rawType": "float64",
         "type": "float"
        },
        {
         "name": "Si",
         "rawType": "float64",
         "type": "float"
        },
        {
         "name": "K",
         "rawType": "float64",
         "type": "float"
        },
        {
         "name": "Ca",
         "rawType": "float64",
         "type": "float"
        },
        {
         "name": "Ba",
         "rawType": "float64",
         "type": "float"
        },
        {
         "name": "Fe",
         "rawType": "float64",
         "type": "float"
        },
        {
         "name": "type",
         "rawType": "object",
         "type": "string"
        }
       ],
       "ref": "0343ba3a-2d83-465c-93c5-770f35657715",
       "rows": [
        [
         "0",
         "3.00999999999999",
         "13.64",
         "4.49",
         "1.1",
         "71.78",
         "0.06",
         "8.75",
         "0.0",
         "0.0",
         "WinF"
        ],
        [
         "1",
         "-0.3900000000001",
         "13.89",
         "3.6",
         "1.36",
         "72.73",
         "0.48",
         "7.83",
         "0.0",
         "0.0",
         "WinF"
        ],
        [
         "2",
         "-1.81999999999994",
         "13.53",
         "3.55",
         "1.54",
         "72.99",
         "0.39",
         "7.78",
         "0.0",
         "0.0",
         "WinF"
        ],
        [
         "3",
         "-0.339999999999918",
         "13.21",
         "3.69",
         "1.29",
         "72.61",
         "0.57",
         "8.22",
         "0.0",
         "0.0",
         "WinF"
        ],
        [
         "4",
         "-0.579999999999927",
         "13.27",
         "3.62",
         "1.24",
         "73.08",
         "0.55",
         "8.07",
         "0.0",
         "0.0",
         "WinF"
        ],
        [
         "5",
         "-2.03999999999996",
         "12.79",
         "3.61",
         "1.62",
         "72.97",
         "0.64",
         "8.07",
         "0.0",
         "0.26",
         "WinF"
        ],
        [
         "6",
         "-0.569999999999936",
         "13.3",
         "3.6",
         "1.14",
         "73.09",
         "0.58",
         "8.17",
         "0.0",
         "0.0",
         "WinF"
        ],
        [
         "7",
         "-0.440000000000055",
         "13.15",
         "3.61",
         "1.05",
         "73.24",
         "0.57",
         "8.24",
         "0.0",
         "0.0",
         "WinF"
        ],
        [
         "8",
         "1.18000000000006",
         "14.04",
         "3.58",
         "1.37",
         "72.08",
         "0.56",
         "8.3",
         "0.0",
         "0.0",
         "WinF"
        ],
        [
         "9",
         "-0.450000000000045",
         "13.0",
         "3.6",
         "1.36",
         "72.99",
         "0.57",
         "8.4",
         "0.0",
         "0.11",
         "WinF"
        ],
        [
         "10",
         "-2.29000000000019",
         "12.72",
         "3.46",
         "1.56",
         "73.2",
         "0.67",
         "8.09",
         "0.0",
         "0.24",
         "WinF"
        ],
        [
         "11",
         "-0.369999999999891",
         "12.8",
         "3.66",
         "1.27",
         "73.01",
         "0.6",
         "8.56",
         "0.0",
         "0.0",
         "WinF"
        ],
        [
         "12",
         "-2.11000000000013",
         "12.88",
         "3.43",
         "1.4",
         "73.28",
         "0.69",
         "8.05",
         "0.0",
         "0.24",
         "WinF"
        ],
        [
         "13",
         "-0.519999999999982",
         "12.86",
         "3.56",
         "1.27",
         "73.21",
         "0.54",
         "8.38",
         "0.0",
         "0.17",
         "WinF"
        ],
        [
         "14",
         "-0.369999999999891",
         "12.61",
         "3.59",
         "1.31",
         "73.29",
         "0.58",
         "8.5",
         "0.0",
         "0.0",
         "WinF"
        ],
        [
         "15",
         "-0.3900000000001",
         "12.81",
         "3.54",
         "1.23",
         "73.24",
         "0.58",
         "8.39",
         "0.0",
         "0.0",
         "WinF"
        ],
        [
         "16",
         "-0.159999999999854",
         "12.68",
         "3.67",
         "1.16",
         "73.11",
         "0.61",
         "8.7",
         "0.0",
         "0.0",
         "WinF"
        ],
        [
         "17",
         "3.96000000000004",
         "14.36",
         "3.85",
         "0.89",
         "71.36",
         "0.15",
         "9.15",
         "0.0",
         "0.0",
         "WinF"
        ],
        [
         "18",
         "1.1099999999999",
         "13.9",
         "3.73",
         "1.18",
         "72.12",
         "0.06",
         "8.89",
         "0.0",
         "0.0",
         "WinF"
        ],
        [
         "19",
         "-0.650000000000091",
         "13.02",
         "3.54",
         "1.69",
         "72.73",
         "0.54",
         "8.44",
         "0.0",
         "0.07",
         "WinF"
        ],
        [
         "20",
         "-0.5",
         "12.82",
         "3.55",
         "1.49",
         "72.75",
         "0.54",
         "8.52",
         "0.0",
         "0.19",
         "WinF"
        ],
        [
         "21",
         "1.66000000000008",
         "14.77",
         "3.75",
         "0.29",
         "72.02",
         "0.03",
         "9.0",
         "0.0",
         "0.0",
         "WinF"
        ],
        [
         "22",
         "-0.639999999999873",
         "12.78",
         "3.62",
         "1.29",
         "72.79",
         "0.59",
         "8.7",
         "0.0",
         "0.0",
         "WinF"
        ],
        [
         "23",
         "-0.490000000000009",
         "12.81",
         "3.57",
         "1.35",
         "73.02",
         "0.62",
         "8.59",
         "0.0",
         "0.0",
         "WinF"
        ],
        [
         "24",
         "-0.799999999999955",
         "13.38",
         "3.5",
         "1.15",
         "72.85",
         "0.5",
         "8.43",
         "0.0",
         "0.0",
         "WinF"
        ],
        [
         "25",
         "-0.3599999999999",
         "12.98",
         "3.54",
         "1.21",
         "73.0",
         "0.65",
         "8.53",
         "0.0",
         "0.0",
         "WinF"
        ],
        [
         "26",
         "-0.0699999999999363",
         "13.21",
         "3.48",
         "1.41",
         "72.64",
         "0.59",
         "8.43",
         "0.0",
         "0.0",
         "WinF"
        ],
        [
         "27",
         "-0.789999999999964",
         "12.87",
         "3.48",
         "1.33",
         "73.04",
         "0.56",
         "8.43",
         "0.0",
         "0.0",
         "WinF"
        ],
        [
         "28",
         "-0.320000000000164",
         "12.56",
         "3.52",
         "1.43",
         "73.15",
         "0.57",
         "8.54",
         "0.0",
         "0.0",
         "WinF"
        ],
        [
         "29",
         "-0.159999999999854",
         "13.08",
         "3.49",
         "1.28",
         "72.86",
         "0.6",
         "8.49",
         "0.0",
         "0.0",
         "WinF"
        ],
        [
         "30",
         "-0.320000000000164",
         "12.65",
         "3.56",
         "1.3",
         "73.08",
         "0.61",
         "8.69",
         "0.0",
         "0.14",
         "WinF"
        ],
        [
         "31",
         "-0.529999999999973",
         "12.84",
         "3.5",
         "1.14",
         "73.27",
         "0.56",
         "8.55",
         "0.0",
         "0.0",
         "WinF"
        ],
        [
         "32",
         "-0.25",
         "12.85",
         "3.48",
         "1.23",
         "72.97",
         "0.61",
         "8.56",
         "0.09",
         "0.22",
         "WinF"
        ],
        [
         "33",
         "-0.470000000000027",
         "12.57",
         "3.47",
         "1.38",
         "73.39",
         "0.6",
         "8.55",
         "0.0",
         "0.06",
         "WinF"
        ],
        [
         "34",
         "-0.170000000000073",
         "12.69",
         "3.54",
         "1.34",
         "72.95",
         "0.57",
         "8.75",
         "0.0",
         "0.0",
         "WinF"
        ],
        [
         "35",
         "-2.32999999999993",
         "13.29",
         "3.45",
         "1.21",
         "72.74",
         "0.56",
         "8.57",
         "0.0",
         "0.0",
         "WinF"
        ],
        [
         "36",
         "1.09000000000015",
         "13.89",
         "3.53",
         "1.32",
         "71.81",
         "0.51",
         "8.78",
         "0.11",
         "0.0",
         "WinF"
        ],
        [
         "37",
         "-0.0299999999999727",
         "12.74",
         "3.48",
         "1.35",
         "72.96",
         "0.64",
         "8.68",
         "0.0",
         "0.0",
         "WinF"
        ],
        [
         "38",
         "4.12999999999988",
         "14.21",
         "3.82",
         "0.47",
         "71.77",
         "0.11",
         "9.57",
         "0.0",
         "0.0",
         "WinF"
        ],
        [
         "39",
         "4.12999999999988",
         "14.21",
         "3.82",
         "0.47",
         "71.77",
         "0.11",
         "9.57",
         "0.0",
         "0.0",
         "WinF"
        ],
        [
         "40",
         "-0.0699999999999363",
         "12.79",
         "3.5",
         "1.12",
         "73.03",
         "0.64",
         "8.77",
         "0.0",
         "0.0",
         "WinF"
        ],
        [
         "41",
         "-0.450000000000045",
         "12.71",
         "3.42",
         "1.2",
         "73.2",
         "0.59",
         "8.64",
         "0.0",
         "0.0",
         "WinF"
        ],
        [
         "42",
         "-0.210000000000036",
         "13.21",
         "3.39",
         "1.33",
         "72.76",
         "0.59",
         "8.59",
         "0.0",
         "0.0",
         "WinF"
        ],
        [
         "43",
         "4.09999999999991",
         "13.73",
         "3.84",
         "0.72",
         "71.76",
         "0.17",
         "9.74",
         "0.0",
         "0.0",
         "WinF"
        ],
        [
         "44",
         "-0.1400000000001",
         "12.73",
         "3.43",
         "1.19",
         "72.95",
         "0.62",
         "8.76",
         "0.0",
         "0.3",
         "WinF"
        ],
        [
         "45",
         "1.0",
         "13.49",
         "3.48",
         "1.35",
         "71.95",
         "0.55",
         "9.0",
         "0.0",
         "0.0",
         "WinF"
        ],
        [
         "46",
         "0.690000000000055",
         "13.19",
         "3.37",
         "1.18",
         "72.72",
         "0.57",
         "8.83",
         "0.0",
         "0.16",
         "WinF"
        ],
        [
         "47",
         "8.67000000000007",
         "13.99",
         "3.7",
         "0.71",
         "71.57",
         "0.02",
         "9.82",
         "0.0",
         "0.1",
         "WinF"
        ],
        [
         "48",
         "4.23000000000002",
         "13.21",
         "3.77",
         "0.79",
         "71.99",
         "0.13",
         "10.02",
         "0.0",
         "0.0",
         "WinF"
        ],
        [
         "49",
         "0.980000000000018",
         "13.58",
         "3.35",
         "1.23",
         "72.08",
         "0.59",
         "8.91",
         "0.0",
         "0.0",
         "WinF"
        ]
       ],
       "shape": {
        "columns": 10,
        "rows": 214
       }
      },
      "text/html": [
       "<div>\n",
       "<style scoped>\n",
       "    .dataframe tbody tr th:only-of-type {\n",
       "        vertical-align: middle;\n",
       "    }\n",
       "\n",
       "    .dataframe tbody tr th {\n",
       "        vertical-align: top;\n",
       "    }\n",
       "\n",
       "    .dataframe thead th {\n",
       "        text-align: right;\n",
       "    }\n",
       "</style>\n",
       "<table border=\"1\" class=\"dataframe\">\n",
       "  <thead>\n",
       "    <tr style=\"text-align: right;\">\n",
       "      <th></th>\n",
       "      <th>RI</th>\n",
       "      <th>Na</th>\n",
       "      <th>Mg</th>\n",
       "      <th>Al</th>\n",
       "      <th>Si</th>\n",
       "      <th>K</th>\n",
       "      <th>Ca</th>\n",
       "      <th>Ba</th>\n",
       "      <th>Fe</th>\n",
       "      <th>type</th>\n",
       "    </tr>\n",
       "  </thead>\n",
       "  <tbody>\n",
       "    <tr>\n",
       "      <th>0</th>\n",
       "      <td>3.01</td>\n",
       "      <td>13.64</td>\n",
       "      <td>4.49</td>\n",
       "      <td>1.10</td>\n",
       "      <td>71.78</td>\n",
       "      <td>0.06</td>\n",
       "      <td>8.75</td>\n",
       "      <td>0.00</td>\n",
       "      <td>0.0</td>\n",
       "      <td>WinF</td>\n",
       "    </tr>\n",
       "    <tr>\n",
       "      <th>1</th>\n",
       "      <td>-0.39</td>\n",
       "      <td>13.89</td>\n",
       "      <td>3.60</td>\n",
       "      <td>1.36</td>\n",
       "      <td>72.73</td>\n",
       "      <td>0.48</td>\n",
       "      <td>7.83</td>\n",
       "      <td>0.00</td>\n",
       "      <td>0.0</td>\n",
       "      <td>WinF</td>\n",
       "    </tr>\n",
       "    <tr>\n",
       "      <th>2</th>\n",
       "      <td>-1.82</td>\n",
       "      <td>13.53</td>\n",
       "      <td>3.55</td>\n",
       "      <td>1.54</td>\n",
       "      <td>72.99</td>\n",
       "      <td>0.39</td>\n",
       "      <td>7.78</td>\n",
       "      <td>0.00</td>\n",
       "      <td>0.0</td>\n",
       "      <td>WinF</td>\n",
       "    </tr>\n",
       "    <tr>\n",
       "      <th>3</th>\n",
       "      <td>-0.34</td>\n",
       "      <td>13.21</td>\n",
       "      <td>3.69</td>\n",
       "      <td>1.29</td>\n",
       "      <td>72.61</td>\n",
       "      <td>0.57</td>\n",
       "      <td>8.22</td>\n",
       "      <td>0.00</td>\n",
       "      <td>0.0</td>\n",
       "      <td>WinF</td>\n",
       "    </tr>\n",
       "    <tr>\n",
       "      <th>4</th>\n",
       "      <td>-0.58</td>\n",
       "      <td>13.27</td>\n",
       "      <td>3.62</td>\n",
       "      <td>1.24</td>\n",
       "      <td>73.08</td>\n",
       "      <td>0.55</td>\n",
       "      <td>8.07</td>\n",
       "      <td>0.00</td>\n",
       "      <td>0.0</td>\n",
       "      <td>WinF</td>\n",
       "    </tr>\n",
       "    <tr>\n",
       "      <th>...</th>\n",
       "      <td>...</td>\n",
       "      <td>...</td>\n",
       "      <td>...</td>\n",
       "      <td>...</td>\n",
       "      <td>...</td>\n",
       "      <td>...</td>\n",
       "      <td>...</td>\n",
       "      <td>...</td>\n",
       "      <td>...</td>\n",
       "      <td>...</td>\n",
       "    </tr>\n",
       "    <tr>\n",
       "      <th>209</th>\n",
       "      <td>-1.77</td>\n",
       "      <td>14.14</td>\n",
       "      <td>0.00</td>\n",
       "      <td>2.88</td>\n",
       "      <td>72.61</td>\n",
       "      <td>0.08</td>\n",
       "      <td>9.18</td>\n",
       "      <td>1.06</td>\n",
       "      <td>0.0</td>\n",
       "      <td>Head</td>\n",
       "    </tr>\n",
       "    <tr>\n",
       "      <th>210</th>\n",
       "      <td>-1.15</td>\n",
       "      <td>14.92</td>\n",
       "      <td>0.00</td>\n",
       "      <td>1.99</td>\n",
       "      <td>73.06</td>\n",
       "      <td>0.00</td>\n",
       "      <td>8.40</td>\n",
       "      <td>1.59</td>\n",
       "      <td>0.0</td>\n",
       "      <td>Head</td>\n",
       "    </tr>\n",
       "    <tr>\n",
       "      <th>211</th>\n",
       "      <td>2.65</td>\n",
       "      <td>14.36</td>\n",
       "      <td>0.00</td>\n",
       "      <td>2.02</td>\n",
       "      <td>73.42</td>\n",
       "      <td>0.00</td>\n",
       "      <td>8.44</td>\n",
       "      <td>1.64</td>\n",
       "      <td>0.0</td>\n",
       "      <td>Head</td>\n",
       "    </tr>\n",
       "    <tr>\n",
       "      <th>212</th>\n",
       "      <td>-1.49</td>\n",
       "      <td>14.38</td>\n",
       "      <td>0.00</td>\n",
       "      <td>1.94</td>\n",
       "      <td>73.61</td>\n",
       "      <td>0.00</td>\n",
       "      <td>8.48</td>\n",
       "      <td>1.57</td>\n",
       "      <td>0.0</td>\n",
       "      <td>Head</td>\n",
       "    </tr>\n",
       "    <tr>\n",
       "      <th>213</th>\n",
       "      <td>-0.89</td>\n",
       "      <td>14.23</td>\n",
       "      <td>0.00</td>\n",
       "      <td>2.08</td>\n",
       "      <td>73.36</td>\n",
       "      <td>0.00</td>\n",
       "      <td>8.62</td>\n",
       "      <td>1.67</td>\n",
       "      <td>0.0</td>\n",
       "      <td>Head</td>\n",
       "    </tr>\n",
       "  </tbody>\n",
       "</table>\n",
       "<p>214 rows × 10 columns</p>\n",
       "</div>"
      ],
      "text/plain": [
       "       RI     Na    Mg    Al     Si     K    Ca    Ba   Fe  type\n",
       "0    3.01  13.64  4.49  1.10  71.78  0.06  8.75  0.00  0.0  WinF\n",
       "1   -0.39  13.89  3.60  1.36  72.73  0.48  7.83  0.00  0.0  WinF\n",
       "2   -1.82  13.53  3.55  1.54  72.99  0.39  7.78  0.00  0.0  WinF\n",
       "3   -0.34  13.21  3.69  1.29  72.61  0.57  8.22  0.00  0.0  WinF\n",
       "4   -0.58  13.27  3.62  1.24  73.08  0.55  8.07  0.00  0.0  WinF\n",
       "..    ...    ...   ...   ...    ...   ...   ...   ...  ...   ...\n",
       "209 -1.77  14.14  0.00  2.88  72.61  0.08  9.18  1.06  0.0  Head\n",
       "210 -1.15  14.92  0.00  1.99  73.06  0.00  8.40  1.59  0.0  Head\n",
       "211  2.65  14.36  0.00  2.02  73.42  0.00  8.44  1.64  0.0  Head\n",
       "212 -1.49  14.38  0.00  1.94  73.61  0.00  8.48  1.57  0.0  Head\n",
       "213 -0.89  14.23  0.00  2.08  73.36  0.00  8.62  1.67  0.0  Head\n",
       "\n",
       "[214 rows x 10 columns]"
      ]
     },
     "execution_count": 43,
     "metadata": {},
     "output_type": "execute_result"
    }
   ],
   "source": [
    "df_fgl = pd.read_csv(\"https://www.dropbox.com/scl/fi/4m46hl6wul60pjhvmgqkl/fgl.csv?rlkey=0q33wenv2tqxpy3ldypptqeyj&dl=1\")\n",
    "df_fgl"
   ]
  },
  {
   "cell_type": "code",
   "execution_count": 44,
   "metadata": {
    "colab": {
     "base_uri": "https://localhost:8080/"
    },
    "executionInfo": {
     "elapsed": 377,
     "status": "ok",
     "timestamp": 1722995749717,
     "user": {
      "displayName": "Yong Song",
      "userId": "00576951217859821315"
     },
     "user_tz": -600
    },
    "id": "d24PBrzebE6W",
    "outputId": "5e41501b-131f-4268-be96-29e9a889cb42"
   },
   "outputs": [
    {
     "data": {
      "application/vnd.microsoft.datawrangler.viewer.v0+json": {
       "columns": [
        {
         "name": "type",
         "rawType": "object",
         "type": "string"
        },
        {
         "name": "count",
         "rawType": "int64",
         "type": "integer"
        }
       ],
       "ref": "5cd19d01-b214-40e8-9337-42765e6975bf",
       "rows": [
        [
         "WinNF",
         "76"
        ],
        [
         "WinF",
         "70"
        ],
        [
         "Head",
         "29"
        ],
        [
         "Veh",
         "17"
        ],
        [
         "Con",
         "13"
        ],
        [
         "Tabl",
         "9"
        ]
       ],
       "shape": {
        "columns": 1,
        "rows": 6
       }
      },
      "text/plain": [
       "type\n",
       "WinNF    76\n",
       "WinF     70\n",
       "Head     29\n",
       "Veh      17\n",
       "Con      13\n",
       "Tabl      9\n",
       "Name: count, dtype: int64"
      ]
     },
     "execution_count": 44,
     "metadata": {},
     "output_type": "execute_result"
    }
   ],
   "source": [
    "df_fgl.type.value_counts()"
   ]
  },
  {
   "cell_type": "markdown",
   "metadata": {
    "id": "PLABzIb6UyX4"
   },
   "source": [
    "## Model\n",
    "\n",
    "A multinomial distribution has multiple possible outcomes, denoted by $K$.\n",
    "Consider these $K$ possible outcomes competing in a race. The one with the highest potential has a higher chance to win (not always win).\n",
    "\n",
    "There are ways to express the outcome matehmatically. One way is to have a $K\\times 1 $ vector $y_i$ for individual $i$. This vector has only one element taking value $1$ (outcome) and the others $0$. For example, if $K=3$ and individual $i$ chose $2$, then\n",
    "$y_i=(0, 1, 0)$, or $y_{i1}=y_{i3}=0$ and $y_{i2}=1$.\n",
    "\n",
    "- One and only one element can take value $1$\n",
    "\n",
    "Use $y$ as a general individual (no subcript $i$, same as (4.3) from the textbook)\n",
    "$$p(y_j=1\\mid x)=\\frac{e^{x'\\beta_j}}{\\sum\\limits_{k=1}^K e^{x'\\beta_k}}$$\n",
    "\n",
    "- If you add any constant to all $\\beta_k$ by the same amount, the probability does NOT change. So, we usually set $\\beta_1=0$ as a reference(default) group.\n",
    "- It does not matter for regularised method, why?\n",
    "\n",
    "Define $B$ as the collection of all $\\beta_k$'s.\n",
    "The deviance is defined in (4.6), the penalised deviance minimisation is (4.7) as\n",
    "$$\\min\\left\\{-\\frac{2}{n}\\sum\\limits_{i=1}^n y_{ik}\\log p_{ik}(x_i'B)+\\lambda\\sum_k\\sum_j |\\beta_{kj}|\\right\\}$$\n",
    "\n",
    "Interpretation\n",
    "$$\\log\\left(\\frac{p_a}{p_b}\\right)=\\log \\left(\\frac{e^{x'\\beta_a}}{e^{x'\\beta_b}}\\right)=x'(\\beta_a-\\beta_b)$$"
   ]
  },
  {
   "cell_type": "markdown",
   "metadata": {
    "id": "V2VnZ7NNcce5"
   },
   "source": [
    "## Estimation and Interpretation"
   ]
  },
  {
   "cell_type": "code",
   "execution_count": 45,
   "metadata": {
    "id": "LGHoL5-hcsz7"
   },
   "outputs": [
    {
     "name": "stdout",
     "output_type": "stream",
     "text": [
      "['RI', 'Na', 'Mg', 'Al', 'Si', 'K', 'Ca', 'Ba', 'Fe']\n"
     ]
    }
   ],
   "source": [
    "# A trick to get X and y\n",
    "x_basic_list = df_fgl.columns.to_list()\n",
    "x_basic_list.remove('type')\n",
    "print(x_basic_list)\n",
    "\n",
    "formula = \"RI~\" + \"+\".join(x_basic_list) # obviously RI is not LHS variable\n",
    "fake_model = smf.ols(formula=formula, data=df_fgl)"
   ]
  },
  {
   "cell_type": "code",
   "execution_count": 46,
   "metadata": {
    "id": "D-tNZ8vdeynp"
   },
   "outputs": [],
   "source": [
    "X = fake_model.exog\n",
    "X_names = fake_model.exog_names\n",
    "y = df_fgl['type']"
   ]
  },
  {
   "cell_type": "code",
   "execution_count": 50,
   "metadata": {
    "colab": {
     "base_uri": "https://localhost:8080/",
     "height": 248
    },
    "executionInfo": {
     "elapsed": 907,
     "status": "ok",
     "timestamp": 1722995865079,
     "user": {
      "displayName": "Yong Song",
      "userId": "00576951217859821315"
     },
     "user_tz": -600
    },
    "id": "1rTRRaVZcslK",
    "outputId": "d9f6496d-0308-4670-f6d9-bf80c027bbd4"
   },
   "outputs": [
    {
     "data": {
      "text/html": [
       "<style>#sk-container-id-6 {\n",
       "  /* Definition of color scheme common for light and dark mode */\n",
       "  --sklearn-color-text: #000;\n",
       "  --sklearn-color-text-muted: #666;\n",
       "  --sklearn-color-line: gray;\n",
       "  /* Definition of color scheme for unfitted estimators */\n",
       "  --sklearn-color-unfitted-level-0: #fff5e6;\n",
       "  --sklearn-color-unfitted-level-1: #f6e4d2;\n",
       "  --sklearn-color-unfitted-level-2: #ffe0b3;\n",
       "  --sklearn-color-unfitted-level-3: chocolate;\n",
       "  /* Definition of color scheme for fitted estimators */\n",
       "  --sklearn-color-fitted-level-0: #f0f8ff;\n",
       "  --sklearn-color-fitted-level-1: #d4ebff;\n",
       "  --sklearn-color-fitted-level-2: #b3dbfd;\n",
       "  --sklearn-color-fitted-level-3: cornflowerblue;\n",
       "\n",
       "  /* Specific color for light theme */\n",
       "  --sklearn-color-text-on-default-background: var(--sg-text-color, var(--theme-code-foreground, var(--jp-content-font-color1, black)));\n",
       "  --sklearn-color-background: var(--sg-background-color, var(--theme-background, var(--jp-layout-color0, white)));\n",
       "  --sklearn-color-border-box: var(--sg-text-color, var(--theme-code-foreground, var(--jp-content-font-color1, black)));\n",
       "  --sklearn-color-icon: #696969;\n",
       "\n",
       "  @media (prefers-color-scheme: dark) {\n",
       "    /* Redefinition of color scheme for dark theme */\n",
       "    --sklearn-color-text-on-default-background: var(--sg-text-color, var(--theme-code-foreground, var(--jp-content-font-color1, white)));\n",
       "    --sklearn-color-background: var(--sg-background-color, var(--theme-background, var(--jp-layout-color0, #111)));\n",
       "    --sklearn-color-border-box: var(--sg-text-color, var(--theme-code-foreground, var(--jp-content-font-color1, white)));\n",
       "    --sklearn-color-icon: #878787;\n",
       "  }\n",
       "}\n",
       "\n",
       "#sk-container-id-6 {\n",
       "  color: var(--sklearn-color-text);\n",
       "}\n",
       "\n",
       "#sk-container-id-6 pre {\n",
       "  padding: 0;\n",
       "}\n",
       "\n",
       "#sk-container-id-6 input.sk-hidden--visually {\n",
       "  border: 0;\n",
       "  clip: rect(1px 1px 1px 1px);\n",
       "  clip: rect(1px, 1px, 1px, 1px);\n",
       "  height: 1px;\n",
       "  margin: -1px;\n",
       "  overflow: hidden;\n",
       "  padding: 0;\n",
       "  position: absolute;\n",
       "  width: 1px;\n",
       "}\n",
       "\n",
       "#sk-container-id-6 div.sk-dashed-wrapped {\n",
       "  border: 1px dashed var(--sklearn-color-line);\n",
       "  margin: 0 0.4em 0.5em 0.4em;\n",
       "  box-sizing: border-box;\n",
       "  padding-bottom: 0.4em;\n",
       "  background-color: var(--sklearn-color-background);\n",
       "}\n",
       "\n",
       "#sk-container-id-6 div.sk-container {\n",
       "  /* jupyter's `normalize.less` sets `[hidden] { display: none; }`\n",
       "     but bootstrap.min.css set `[hidden] { display: none !important; }`\n",
       "     so we also need the `!important` here to be able to override the\n",
       "     default hidden behavior on the sphinx rendered scikit-learn.org.\n",
       "     See: https://github.com/scikit-learn/scikit-learn/issues/21755 */\n",
       "  display: inline-block !important;\n",
       "  position: relative;\n",
       "}\n",
       "\n",
       "#sk-container-id-6 div.sk-text-repr-fallback {\n",
       "  display: none;\n",
       "}\n",
       "\n",
       "div.sk-parallel-item,\n",
       "div.sk-serial,\n",
       "div.sk-item {\n",
       "  /* draw centered vertical line to link estimators */\n",
       "  background-image: linear-gradient(var(--sklearn-color-text-on-default-background), var(--sklearn-color-text-on-default-background));\n",
       "  background-size: 2px 100%;\n",
       "  background-repeat: no-repeat;\n",
       "  background-position: center center;\n",
       "}\n",
       "\n",
       "/* Parallel-specific style estimator block */\n",
       "\n",
       "#sk-container-id-6 div.sk-parallel-item::after {\n",
       "  content: \"\";\n",
       "  width: 100%;\n",
       "  border-bottom: 2px solid var(--sklearn-color-text-on-default-background);\n",
       "  flex-grow: 1;\n",
       "}\n",
       "\n",
       "#sk-container-id-6 div.sk-parallel {\n",
       "  display: flex;\n",
       "  align-items: stretch;\n",
       "  justify-content: center;\n",
       "  background-color: var(--sklearn-color-background);\n",
       "  position: relative;\n",
       "}\n",
       "\n",
       "#sk-container-id-6 div.sk-parallel-item {\n",
       "  display: flex;\n",
       "  flex-direction: column;\n",
       "}\n",
       "\n",
       "#sk-container-id-6 div.sk-parallel-item:first-child::after {\n",
       "  align-self: flex-end;\n",
       "  width: 50%;\n",
       "}\n",
       "\n",
       "#sk-container-id-6 div.sk-parallel-item:last-child::after {\n",
       "  align-self: flex-start;\n",
       "  width: 50%;\n",
       "}\n",
       "\n",
       "#sk-container-id-6 div.sk-parallel-item:only-child::after {\n",
       "  width: 0;\n",
       "}\n",
       "\n",
       "/* Serial-specific style estimator block */\n",
       "\n",
       "#sk-container-id-6 div.sk-serial {\n",
       "  display: flex;\n",
       "  flex-direction: column;\n",
       "  align-items: center;\n",
       "  background-color: var(--sklearn-color-background);\n",
       "  padding-right: 1em;\n",
       "  padding-left: 1em;\n",
       "}\n",
       "\n",
       "\n",
       "/* Toggleable style: style used for estimator/Pipeline/ColumnTransformer box that is\n",
       "clickable and can be expanded/collapsed.\n",
       "- Pipeline and ColumnTransformer use this feature and define the default style\n",
       "- Estimators will overwrite some part of the style using the `sk-estimator` class\n",
       "*/\n",
       "\n",
       "/* Pipeline and ColumnTransformer style (default) */\n",
       "\n",
       "#sk-container-id-6 div.sk-toggleable {\n",
       "  /* Default theme specific background. It is overwritten whether we have a\n",
       "  specific estimator or a Pipeline/ColumnTransformer */\n",
       "  background-color: var(--sklearn-color-background);\n",
       "}\n",
       "\n",
       "/* Toggleable label */\n",
       "#sk-container-id-6 label.sk-toggleable__label {\n",
       "  cursor: pointer;\n",
       "  display: flex;\n",
       "  width: 100%;\n",
       "  margin-bottom: 0;\n",
       "  padding: 0.5em;\n",
       "  box-sizing: border-box;\n",
       "  text-align: center;\n",
       "  align-items: start;\n",
       "  justify-content: space-between;\n",
       "  gap: 0.5em;\n",
       "}\n",
       "\n",
       "#sk-container-id-6 label.sk-toggleable__label .caption {\n",
       "  font-size: 0.6rem;\n",
       "  font-weight: lighter;\n",
       "  color: var(--sklearn-color-text-muted);\n",
       "}\n",
       "\n",
       "#sk-container-id-6 label.sk-toggleable__label-arrow:before {\n",
       "  /* Arrow on the left of the label */\n",
       "  content: \"▸\";\n",
       "  float: left;\n",
       "  margin-right: 0.25em;\n",
       "  color: var(--sklearn-color-icon);\n",
       "}\n",
       "\n",
       "#sk-container-id-6 label.sk-toggleable__label-arrow:hover:before {\n",
       "  color: var(--sklearn-color-text);\n",
       "}\n",
       "\n",
       "/* Toggleable content - dropdown */\n",
       "\n",
       "#sk-container-id-6 div.sk-toggleable__content {\n",
       "  display: none;\n",
       "  text-align: left;\n",
       "  /* unfitted */\n",
       "  background-color: var(--sklearn-color-unfitted-level-0);\n",
       "}\n",
       "\n",
       "#sk-container-id-6 div.sk-toggleable__content.fitted {\n",
       "  /* fitted */\n",
       "  background-color: var(--sklearn-color-fitted-level-0);\n",
       "}\n",
       "\n",
       "#sk-container-id-6 div.sk-toggleable__content pre {\n",
       "  margin: 0.2em;\n",
       "  border-radius: 0.25em;\n",
       "  color: var(--sklearn-color-text);\n",
       "  /* unfitted */\n",
       "  background-color: var(--sklearn-color-unfitted-level-0);\n",
       "}\n",
       "\n",
       "#sk-container-id-6 div.sk-toggleable__content.fitted pre {\n",
       "  /* unfitted */\n",
       "  background-color: var(--sklearn-color-fitted-level-0);\n",
       "}\n",
       "\n",
       "#sk-container-id-6 input.sk-toggleable__control:checked~div.sk-toggleable__content {\n",
       "  /* Expand drop-down */\n",
       "  display: block;\n",
       "  width: 100%;\n",
       "  overflow: visible;\n",
       "}\n",
       "\n",
       "#sk-container-id-6 input.sk-toggleable__control:checked~label.sk-toggleable__label-arrow:before {\n",
       "  content: \"▾\";\n",
       "}\n",
       "\n",
       "/* Pipeline/ColumnTransformer-specific style */\n",
       "\n",
       "#sk-container-id-6 div.sk-label input.sk-toggleable__control:checked~label.sk-toggleable__label {\n",
       "  color: var(--sklearn-color-text);\n",
       "  background-color: var(--sklearn-color-unfitted-level-2);\n",
       "}\n",
       "\n",
       "#sk-container-id-6 div.sk-label.fitted input.sk-toggleable__control:checked~label.sk-toggleable__label {\n",
       "  background-color: var(--sklearn-color-fitted-level-2);\n",
       "}\n",
       "\n",
       "/* Estimator-specific style */\n",
       "\n",
       "/* Colorize estimator box */\n",
       "#sk-container-id-6 div.sk-estimator input.sk-toggleable__control:checked~label.sk-toggleable__label {\n",
       "  /* unfitted */\n",
       "  background-color: var(--sklearn-color-unfitted-level-2);\n",
       "}\n",
       "\n",
       "#sk-container-id-6 div.sk-estimator.fitted input.sk-toggleable__control:checked~label.sk-toggleable__label {\n",
       "  /* fitted */\n",
       "  background-color: var(--sklearn-color-fitted-level-2);\n",
       "}\n",
       "\n",
       "#sk-container-id-6 div.sk-label label.sk-toggleable__label,\n",
       "#sk-container-id-6 div.sk-label label {\n",
       "  /* The background is the default theme color */\n",
       "  color: var(--sklearn-color-text-on-default-background);\n",
       "}\n",
       "\n",
       "/* On hover, darken the color of the background */\n",
       "#sk-container-id-6 div.sk-label:hover label.sk-toggleable__label {\n",
       "  color: var(--sklearn-color-text);\n",
       "  background-color: var(--sklearn-color-unfitted-level-2);\n",
       "}\n",
       "\n",
       "/* Label box, darken color on hover, fitted */\n",
       "#sk-container-id-6 div.sk-label.fitted:hover label.sk-toggleable__label.fitted {\n",
       "  color: var(--sklearn-color-text);\n",
       "  background-color: var(--sklearn-color-fitted-level-2);\n",
       "}\n",
       "\n",
       "/* Estimator label */\n",
       "\n",
       "#sk-container-id-6 div.sk-label label {\n",
       "  font-family: monospace;\n",
       "  font-weight: bold;\n",
       "  display: inline-block;\n",
       "  line-height: 1.2em;\n",
       "}\n",
       "\n",
       "#sk-container-id-6 div.sk-label-container {\n",
       "  text-align: center;\n",
       "}\n",
       "\n",
       "/* Estimator-specific */\n",
       "#sk-container-id-6 div.sk-estimator {\n",
       "  font-family: monospace;\n",
       "  border: 1px dotted var(--sklearn-color-border-box);\n",
       "  border-radius: 0.25em;\n",
       "  box-sizing: border-box;\n",
       "  margin-bottom: 0.5em;\n",
       "  /* unfitted */\n",
       "  background-color: var(--sklearn-color-unfitted-level-0);\n",
       "}\n",
       "\n",
       "#sk-container-id-6 div.sk-estimator.fitted {\n",
       "  /* fitted */\n",
       "  background-color: var(--sklearn-color-fitted-level-0);\n",
       "}\n",
       "\n",
       "/* on hover */\n",
       "#sk-container-id-6 div.sk-estimator:hover {\n",
       "  /* unfitted */\n",
       "  background-color: var(--sklearn-color-unfitted-level-2);\n",
       "}\n",
       "\n",
       "#sk-container-id-6 div.sk-estimator.fitted:hover {\n",
       "  /* fitted */\n",
       "  background-color: var(--sklearn-color-fitted-level-2);\n",
       "}\n",
       "\n",
       "/* Specification for estimator info (e.g. \"i\" and \"?\") */\n",
       "\n",
       "/* Common style for \"i\" and \"?\" */\n",
       "\n",
       ".sk-estimator-doc-link,\n",
       "a:link.sk-estimator-doc-link,\n",
       "a:visited.sk-estimator-doc-link {\n",
       "  float: right;\n",
       "  font-size: smaller;\n",
       "  line-height: 1em;\n",
       "  font-family: monospace;\n",
       "  background-color: var(--sklearn-color-background);\n",
       "  border-radius: 1em;\n",
       "  height: 1em;\n",
       "  width: 1em;\n",
       "  text-decoration: none !important;\n",
       "  margin-left: 0.5em;\n",
       "  text-align: center;\n",
       "  /* unfitted */\n",
       "  border: var(--sklearn-color-unfitted-level-1) 1pt solid;\n",
       "  color: var(--sklearn-color-unfitted-level-1);\n",
       "}\n",
       "\n",
       ".sk-estimator-doc-link.fitted,\n",
       "a:link.sk-estimator-doc-link.fitted,\n",
       "a:visited.sk-estimator-doc-link.fitted {\n",
       "  /* fitted */\n",
       "  border: var(--sklearn-color-fitted-level-1) 1pt solid;\n",
       "  color: var(--sklearn-color-fitted-level-1);\n",
       "}\n",
       "\n",
       "/* On hover */\n",
       "div.sk-estimator:hover .sk-estimator-doc-link:hover,\n",
       ".sk-estimator-doc-link:hover,\n",
       "div.sk-label-container:hover .sk-estimator-doc-link:hover,\n",
       ".sk-estimator-doc-link:hover {\n",
       "  /* unfitted */\n",
       "  background-color: var(--sklearn-color-unfitted-level-3);\n",
       "  color: var(--sklearn-color-background);\n",
       "  text-decoration: none;\n",
       "}\n",
       "\n",
       "div.sk-estimator.fitted:hover .sk-estimator-doc-link.fitted:hover,\n",
       ".sk-estimator-doc-link.fitted:hover,\n",
       "div.sk-label-container:hover .sk-estimator-doc-link.fitted:hover,\n",
       ".sk-estimator-doc-link.fitted:hover {\n",
       "  /* fitted */\n",
       "  background-color: var(--sklearn-color-fitted-level-3);\n",
       "  color: var(--sklearn-color-background);\n",
       "  text-decoration: none;\n",
       "}\n",
       "\n",
       "/* Span, style for the box shown on hovering the info icon */\n",
       ".sk-estimator-doc-link span {\n",
       "  display: none;\n",
       "  z-index: 9999;\n",
       "  position: relative;\n",
       "  font-weight: normal;\n",
       "  right: .2ex;\n",
       "  padding: .5ex;\n",
       "  margin: .5ex;\n",
       "  width: min-content;\n",
       "  min-width: 20ex;\n",
       "  max-width: 50ex;\n",
       "  color: var(--sklearn-color-text);\n",
       "  box-shadow: 2pt 2pt 4pt #999;\n",
       "  /* unfitted */\n",
       "  background: var(--sklearn-color-unfitted-level-0);\n",
       "  border: .5pt solid var(--sklearn-color-unfitted-level-3);\n",
       "}\n",
       "\n",
       ".sk-estimator-doc-link.fitted span {\n",
       "  /* fitted */\n",
       "  background: var(--sklearn-color-fitted-level-0);\n",
       "  border: var(--sklearn-color-fitted-level-3);\n",
       "}\n",
       "\n",
       ".sk-estimator-doc-link:hover span {\n",
       "  display: block;\n",
       "}\n",
       "\n",
       "/* \"?\"-specific style due to the `<a>` HTML tag */\n",
       "\n",
       "#sk-container-id-6 a.estimator_doc_link {\n",
       "  float: right;\n",
       "  font-size: 1rem;\n",
       "  line-height: 1em;\n",
       "  font-family: monospace;\n",
       "  background-color: var(--sklearn-color-background);\n",
       "  border-radius: 1rem;\n",
       "  height: 1rem;\n",
       "  width: 1rem;\n",
       "  text-decoration: none;\n",
       "  /* unfitted */\n",
       "  color: var(--sklearn-color-unfitted-level-1);\n",
       "  border: var(--sklearn-color-unfitted-level-1) 1pt solid;\n",
       "}\n",
       "\n",
       "#sk-container-id-6 a.estimator_doc_link.fitted {\n",
       "  /* fitted */\n",
       "  border: var(--sklearn-color-fitted-level-1) 1pt solid;\n",
       "  color: var(--sklearn-color-fitted-level-1);\n",
       "}\n",
       "\n",
       "/* On hover */\n",
       "#sk-container-id-6 a.estimator_doc_link:hover {\n",
       "  /* unfitted */\n",
       "  background-color: var(--sklearn-color-unfitted-level-3);\n",
       "  color: var(--sklearn-color-background);\n",
       "  text-decoration: none;\n",
       "}\n",
       "\n",
       "#sk-container-id-6 a.estimator_doc_link.fitted:hover {\n",
       "  /* fitted */\n",
       "  background-color: var(--sklearn-color-fitted-level-3);\n",
       "}\n",
       "\n",
       ".estimator-table summary {\n",
       "    padding: .5rem;\n",
       "    font-family: monospace;\n",
       "    cursor: pointer;\n",
       "}\n",
       "\n",
       ".estimator-table details[open] {\n",
       "    padding-left: 0.1rem;\n",
       "    padding-right: 0.1rem;\n",
       "    padding-bottom: 0.3rem;\n",
       "}\n",
       "\n",
       ".estimator-table .parameters-table {\n",
       "    margin-left: auto !important;\n",
       "    margin-right: auto !important;\n",
       "}\n",
       "\n",
       ".estimator-table .parameters-table tr:nth-child(odd) {\n",
       "    background-color: #fff;\n",
       "}\n",
       "\n",
       ".estimator-table .parameters-table tr:nth-child(even) {\n",
       "    background-color: #f6f6f6;\n",
       "}\n",
       "\n",
       ".estimator-table .parameters-table tr:hover {\n",
       "    background-color: #e0e0e0;\n",
       "}\n",
       "\n",
       ".estimator-table table td {\n",
       "    border: 1px solid rgba(106, 105, 104, 0.232);\n",
       "}\n",
       "\n",
       ".user-set td {\n",
       "    color:rgb(255, 94, 0);\n",
       "    text-align: left;\n",
       "}\n",
       "\n",
       ".user-set td.value pre {\n",
       "    color:rgb(255, 94, 0) !important;\n",
       "    background-color: transparent !important;\n",
       "}\n",
       "\n",
       ".default td {\n",
       "    color: black;\n",
       "    text-align: left;\n",
       "}\n",
       "\n",
       ".user-set td i,\n",
       ".default td i {\n",
       "    color: black;\n",
       "}\n",
       "\n",
       ".copy-paste-icon {\n",
       "    background-image: url(data:image/svg+xml;base64,PHN2ZyB4bWxucz0iaHR0cDovL3d3dy53My5vcmcvMjAwMC9zdmciIHZpZXdCb3g9IjAgMCA0NDggNTEyIj48IS0tIUZvbnQgQXdlc29tZSBGcmVlIDYuNy4yIGJ5IEBmb250YXdlc29tZSAtIGh0dHBzOi8vZm9udGF3ZXNvbWUuY29tIExpY2Vuc2UgLSBodHRwczovL2ZvbnRhd2Vzb21lLmNvbS9saWNlbnNlL2ZyZWUgQ29weXJpZ2h0IDIwMjUgRm9udGljb25zLCBJbmMuLS0+PHBhdGggZD0iTTIwOCAwTDMzMi4xIDBjMTIuNyAwIDI0LjkgNS4xIDMzLjkgMTQuMWw2Ny45IDY3LjljOSA5IDE0LjEgMjEuMiAxNC4xIDMzLjlMNDQ4IDMzNmMwIDI2LjUtMjEuNSA0OC00OCA0OGwtMTkyIDBjLTI2LjUgMC00OC0yMS41LTQ4LTQ4bDAtMjg4YzAtMjYuNSAyMS41LTQ4IDQ4LTQ4ek00OCAxMjhsODAgMCAwIDY0LTY0IDAgMCAyNTYgMTkyIDAgMC0zMiA2NCAwIDAgNDhjMCAyNi41LTIxLjUgNDgtNDggNDhMNDggNTEyYy0yNi41IDAtNDgtMjEuNS00OC00OEwwIDE3NmMwLTI2LjUgMjEuNS00OCA0OC00OHoiLz48L3N2Zz4=);\n",
       "    background-repeat: no-repeat;\n",
       "    background-size: 14px 14px;\n",
       "    background-position: 0;\n",
       "    display: inline-block;\n",
       "    width: 14px;\n",
       "    height: 14px;\n",
       "    cursor: pointer;\n",
       "}\n",
       "</style><body><div id=\"sk-container-id-6\" class=\"sk-top-container\"><div class=\"sk-text-repr-fallback\"><pre>LogisticRegression(max_iter=10000)</pre><b>In a Jupyter environment, please rerun this cell to show the HTML representation or trust the notebook. <br />On GitHub, the HTML representation is unable to render, please try loading this page with nbviewer.org.</b></div><div class=\"sk-container\" hidden><div class=\"sk-item\"><div class=\"sk-estimator fitted sk-toggleable\"><input class=\"sk-toggleable__control sk-hidden--visually\" id=\"sk-estimator-id-6\" type=\"checkbox\" checked><label for=\"sk-estimator-id-6\" class=\"sk-toggleable__label fitted sk-toggleable__label-arrow\"><div><div>LogisticRegression</div></div><div><a class=\"sk-estimator-doc-link fitted\" rel=\"noreferrer\" target=\"_blank\" href=\"https://scikit-learn.org/1.7/modules/generated/sklearn.linear_model.LogisticRegression.html\">?<span>Documentation for LogisticRegression</span></a><span class=\"sk-estimator-doc-link fitted\">i<span>Fitted</span></span></div></label><div class=\"sk-toggleable__content fitted\" data-param-prefix=\"\">\n",
       "        <div class=\"estimator-table\">\n",
       "            <details>\n",
       "                <summary>Parameters</summary>\n",
       "                <table class=\"parameters-table\">\n",
       "                  <tbody>\n",
       "                    \n",
       "        <tr class=\"default\">\n",
       "            <td><i class=\"copy-paste-icon\"\n",
       "                 onclick=\"copyToClipboard('penalty',\n",
       "                          this.parentElement.nextElementSibling)\"\n",
       "            ></i></td>\n",
       "            <td class=\"param\">penalty&nbsp;</td>\n",
       "            <td class=\"value\">&#x27;l2&#x27;</td>\n",
       "        </tr>\n",
       "    \n",
       "\n",
       "        <tr class=\"default\">\n",
       "            <td><i class=\"copy-paste-icon\"\n",
       "                 onclick=\"copyToClipboard('dual',\n",
       "                          this.parentElement.nextElementSibling)\"\n",
       "            ></i></td>\n",
       "            <td class=\"param\">dual&nbsp;</td>\n",
       "            <td class=\"value\">False</td>\n",
       "        </tr>\n",
       "    \n",
       "\n",
       "        <tr class=\"default\">\n",
       "            <td><i class=\"copy-paste-icon\"\n",
       "                 onclick=\"copyToClipboard('tol',\n",
       "                          this.parentElement.nextElementSibling)\"\n",
       "            ></i></td>\n",
       "            <td class=\"param\">tol&nbsp;</td>\n",
       "            <td class=\"value\">0.0001</td>\n",
       "        </tr>\n",
       "    \n",
       "\n",
       "        <tr class=\"default\">\n",
       "            <td><i class=\"copy-paste-icon\"\n",
       "                 onclick=\"copyToClipboard('C',\n",
       "                          this.parentElement.nextElementSibling)\"\n",
       "            ></i></td>\n",
       "            <td class=\"param\">C&nbsp;</td>\n",
       "            <td class=\"value\">1.0</td>\n",
       "        </tr>\n",
       "    \n",
       "\n",
       "        <tr class=\"default\">\n",
       "            <td><i class=\"copy-paste-icon\"\n",
       "                 onclick=\"copyToClipboard('fit_intercept',\n",
       "                          this.parentElement.nextElementSibling)\"\n",
       "            ></i></td>\n",
       "            <td class=\"param\">fit_intercept&nbsp;</td>\n",
       "            <td class=\"value\">True</td>\n",
       "        </tr>\n",
       "    \n",
       "\n",
       "        <tr class=\"default\">\n",
       "            <td><i class=\"copy-paste-icon\"\n",
       "                 onclick=\"copyToClipboard('intercept_scaling',\n",
       "                          this.parentElement.nextElementSibling)\"\n",
       "            ></i></td>\n",
       "            <td class=\"param\">intercept_scaling&nbsp;</td>\n",
       "            <td class=\"value\">1</td>\n",
       "        </tr>\n",
       "    \n",
       "\n",
       "        <tr class=\"default\">\n",
       "            <td><i class=\"copy-paste-icon\"\n",
       "                 onclick=\"copyToClipboard('class_weight',\n",
       "                          this.parentElement.nextElementSibling)\"\n",
       "            ></i></td>\n",
       "            <td class=\"param\">class_weight&nbsp;</td>\n",
       "            <td class=\"value\">None</td>\n",
       "        </tr>\n",
       "    \n",
       "\n",
       "        <tr class=\"default\">\n",
       "            <td><i class=\"copy-paste-icon\"\n",
       "                 onclick=\"copyToClipboard('random_state',\n",
       "                          this.parentElement.nextElementSibling)\"\n",
       "            ></i></td>\n",
       "            <td class=\"param\">random_state&nbsp;</td>\n",
       "            <td class=\"value\">None</td>\n",
       "        </tr>\n",
       "    \n",
       "\n",
       "        <tr class=\"default\">\n",
       "            <td><i class=\"copy-paste-icon\"\n",
       "                 onclick=\"copyToClipboard('solver',\n",
       "                          this.parentElement.nextElementSibling)\"\n",
       "            ></i></td>\n",
       "            <td class=\"param\">solver&nbsp;</td>\n",
       "            <td class=\"value\">&#x27;lbfgs&#x27;</td>\n",
       "        </tr>\n",
       "    \n",
       "\n",
       "        <tr class=\"user-set\">\n",
       "            <td><i class=\"copy-paste-icon\"\n",
       "                 onclick=\"copyToClipboard('max_iter',\n",
       "                          this.parentElement.nextElementSibling)\"\n",
       "            ></i></td>\n",
       "            <td class=\"param\">max_iter&nbsp;</td>\n",
       "            <td class=\"value\">10000</td>\n",
       "        </tr>\n",
       "    \n",
       "\n",
       "        <tr class=\"default\">\n",
       "            <td><i class=\"copy-paste-icon\"\n",
       "                 onclick=\"copyToClipboard('multi_class',\n",
       "                          this.parentElement.nextElementSibling)\"\n",
       "            ></i></td>\n",
       "            <td class=\"param\">multi_class&nbsp;</td>\n",
       "            <td class=\"value\">&#x27;deprecated&#x27;</td>\n",
       "        </tr>\n",
       "    \n",
       "\n",
       "        <tr class=\"default\">\n",
       "            <td><i class=\"copy-paste-icon\"\n",
       "                 onclick=\"copyToClipboard('verbose',\n",
       "                          this.parentElement.nextElementSibling)\"\n",
       "            ></i></td>\n",
       "            <td class=\"param\">verbose&nbsp;</td>\n",
       "            <td class=\"value\">0</td>\n",
       "        </tr>\n",
       "    \n",
       "\n",
       "        <tr class=\"default\">\n",
       "            <td><i class=\"copy-paste-icon\"\n",
       "                 onclick=\"copyToClipboard('warm_start',\n",
       "                          this.parentElement.nextElementSibling)\"\n",
       "            ></i></td>\n",
       "            <td class=\"param\">warm_start&nbsp;</td>\n",
       "            <td class=\"value\">False</td>\n",
       "        </tr>\n",
       "    \n",
       "\n",
       "        <tr class=\"default\">\n",
       "            <td><i class=\"copy-paste-icon\"\n",
       "                 onclick=\"copyToClipboard('n_jobs',\n",
       "                          this.parentElement.nextElementSibling)\"\n",
       "            ></i></td>\n",
       "            <td class=\"param\">n_jobs&nbsp;</td>\n",
       "            <td class=\"value\">None</td>\n",
       "        </tr>\n",
       "    \n",
       "\n",
       "        <tr class=\"default\">\n",
       "            <td><i class=\"copy-paste-icon\"\n",
       "                 onclick=\"copyToClipboard('l1_ratio',\n",
       "                          this.parentElement.nextElementSibling)\"\n",
       "            ></i></td>\n",
       "            <td class=\"param\">l1_ratio&nbsp;</td>\n",
       "            <td class=\"value\">None</td>\n",
       "        </tr>\n",
       "    \n",
       "                  </tbody>\n",
       "                </table>\n",
       "            </details>\n",
       "        </div>\n",
       "    </div></div></div></div></div><script>function copyToClipboard(text, element) {\n",
       "    // Get the parameter prefix from the closest toggleable content\n",
       "    const toggleableContent = element.closest('.sk-toggleable__content');\n",
       "    const paramPrefix = toggleableContent ? toggleableContent.dataset.paramPrefix : '';\n",
       "    const fullParamName = paramPrefix ? `${paramPrefix}${text}` : text;\n",
       "\n",
       "    const originalStyle = element.style;\n",
       "    const computedStyle = window.getComputedStyle(element);\n",
       "    const originalWidth = computedStyle.width;\n",
       "    const originalHTML = element.innerHTML.replace('Copied!', '');\n",
       "\n",
       "    navigator.clipboard.writeText(fullParamName)\n",
       "        .then(() => {\n",
       "            element.style.width = originalWidth;\n",
       "            element.style.color = 'green';\n",
       "            element.innerHTML = \"Copied!\";\n",
       "\n",
       "            setTimeout(() => {\n",
       "                element.innerHTML = originalHTML;\n",
       "                element.style = originalStyle;\n",
       "            }, 2000);\n",
       "        })\n",
       "        .catch(err => {\n",
       "            console.error('Failed to copy:', err);\n",
       "            element.style.color = 'red';\n",
       "            element.innerHTML = \"Failed!\";\n",
       "            setTimeout(() => {\n",
       "                element.innerHTML = originalHTML;\n",
       "                element.style = originalStyle;\n",
       "            }, 2000);\n",
       "        });\n",
       "    return false;\n",
       "}\n",
       "\n",
       "document.querySelectorAll('.fa-regular.fa-copy').forEach(function(element) {\n",
       "    const toggleableContent = element.closest('.sk-toggleable__content');\n",
       "    const paramPrefix = toggleableContent ? toggleableContent.dataset.paramPrefix : '';\n",
       "    const paramName = element.parentElement.nextElementSibling.textContent.trim();\n",
       "    const fullParamName = paramPrefix ? `${paramPrefix}${paramName}` : paramName;\n",
       "\n",
       "    element.setAttribute('title', fullParamName);\n",
       "});\n",
       "</script></body>"
      ],
      "text/plain": [
       "LogisticRegression(max_iter=10000)"
      ]
     },
     "execution_count": 50,
     "metadata": {},
     "output_type": "execute_result"
    }
   ],
   "source": [
    "model = LogisticRegression(solver='lbfgs', max_iter=10000) #it is smart enough to do a multinomial regression\n",
    "model.fit(X, y) # type: ignore"
   ]
  },
  {
   "cell_type": "code",
   "execution_count": 51,
   "metadata": {
    "colab": {
     "base_uri": "https://localhost:8080/"
    },
    "executionInfo": {
     "elapsed": 350,
     "status": "ok",
     "timestamp": 1722995871980,
     "user": {
      "displayName": "Yong Song",
      "userId": "00576951217859821315"
     },
     "user_tz": -600
    },
    "id": "T4Wrh0Fjgivg",
    "outputId": "b7f7e211-781c-4ce0-e134-d782b93e6885"
   },
   "outputs": [
    {
     "data": {
      "text/plain": [
       "array(['Con', 'Head', 'Tabl', 'Veh', 'WinF', 'WinNF'], dtype=object)"
      ]
     },
     "execution_count": 51,
     "metadata": {},
     "output_type": "execute_result"
    }
   ],
   "source": [
    "model.classes_"
   ]
  },
  {
   "cell_type": "code",
   "execution_count": 52,
   "metadata": {
    "colab": {
     "base_uri": "https://localhost:8080/"
    },
    "executionInfo": {
     "elapsed": 349,
     "status": "ok",
     "timestamp": 1722995883253,
     "user": {
      "displayName": "Yong Song",
      "userId": "00576951217859821315"
     },
     "user_tz": -600
    },
    "id": "xKCsuK1Vf08e",
    "outputId": "59972814-4d20-4b21-b22f-efd0dd85681e"
   },
   "outputs": [
    {
     "name": "stdout",
     "output_type": "stream",
     "text": [
      "Coefficient Matrix:\n",
      "       Intercept        RI        Na        Mg        Al        Si         K  \\\n",
      "Con    51.163073 -0.234103 -1.128347 -0.986931  1.529178 -0.543781  0.886924   \n",
      "Head  -49.501536  0.555295  0.621073 -1.613656  1.167409  0.787718  0.497773   \n",
      "Tabl  -35.810032 -0.231536  1.617686 -0.285978  0.064625  0.157644 -1.219881   \n",
      "Veh    43.147380 -0.492662  0.209979  1.396464 -1.055931 -0.807680 -0.527832   \n",
      "WinF  -67.459207  0.252922 -0.328576  1.710744 -1.553427  0.935222  0.135605   \n",
      "WinNF  58.460323  0.150084 -0.991815 -0.220642 -0.151852 -0.529123  0.227412   \n",
      "\n",
      "             Ca        Ba        Fe  \n",
      "Con    0.304550 -0.036351  0.026548  \n",
      "Head  -1.626247  0.818280 -0.202911  \n",
      "Tabl   0.336326 -0.762770 -0.213574  \n",
      "Veh    1.190430 -0.063244 -0.086191  \n",
      "WinF   0.243426  0.252469 -0.205105  \n",
      "WinNF -0.448485 -0.208384  0.681233  \n"
     ]
    }
   ],
   "source": [
    "# Get coefficients and intercepts\n",
    "coefficients = model.coef_\n",
    "intercepts = model.intercept_\n",
    "\n",
    "# Create a nicely formatted DataFrame for the coefficients\n",
    "coef_df = pd.DataFrame(coefficients, columns=X_names, index=model.classes_)\n",
    "coef_df['Intercept'] = intercepts\n",
    "\n",
    "print(\"Coefficient Matrix:\")\n",
    "print(coef_df)"
   ]
  },
  {
   "cell_type": "markdown",
   "metadata": {
    "id": "gElyii-osVX8"
   },
   "source": [
    "We do NOT need $0$ restricitons here! Tricky...\n",
    "\n",
    "- It regularised *penalty='l2', C=1.0* by default. Hence, Bayesian...\n",
    "- See below for identical results."
   ]
  },
  {
   "cell_type": "code",
   "execution_count": 55,
   "metadata": {
    "colab": {
     "base_uri": "https://localhost:8080/",
     "height": 248
    },
    "executionInfo": {
     "elapsed": 631,
     "status": "ok",
     "timestamp": 1722995916890,
     "user": {
      "displayName": "Yong Song",
      "userId": "00576951217859821315"
     },
     "user_tz": -600
    },
    "id": "MdqGHBd3rev1",
    "outputId": "dc033505-1b3f-4aff-de5e-a190cf463c2e"
   },
   "outputs": [
    {
     "data": {
      "text/html": [
       "<style>#sk-container-id-9 {\n",
       "  /* Definition of color scheme common for light and dark mode */\n",
       "  --sklearn-color-text: #000;\n",
       "  --sklearn-color-text-muted: #666;\n",
       "  --sklearn-color-line: gray;\n",
       "  /* Definition of color scheme for unfitted estimators */\n",
       "  --sklearn-color-unfitted-level-0: #fff5e6;\n",
       "  --sklearn-color-unfitted-level-1: #f6e4d2;\n",
       "  --sklearn-color-unfitted-level-2: #ffe0b3;\n",
       "  --sklearn-color-unfitted-level-3: chocolate;\n",
       "  /* Definition of color scheme for fitted estimators */\n",
       "  --sklearn-color-fitted-level-0: #f0f8ff;\n",
       "  --sklearn-color-fitted-level-1: #d4ebff;\n",
       "  --sklearn-color-fitted-level-2: #b3dbfd;\n",
       "  --sklearn-color-fitted-level-3: cornflowerblue;\n",
       "\n",
       "  /* Specific color for light theme */\n",
       "  --sklearn-color-text-on-default-background: var(--sg-text-color, var(--theme-code-foreground, var(--jp-content-font-color1, black)));\n",
       "  --sklearn-color-background: var(--sg-background-color, var(--theme-background, var(--jp-layout-color0, white)));\n",
       "  --sklearn-color-border-box: var(--sg-text-color, var(--theme-code-foreground, var(--jp-content-font-color1, black)));\n",
       "  --sklearn-color-icon: #696969;\n",
       "\n",
       "  @media (prefers-color-scheme: dark) {\n",
       "    /* Redefinition of color scheme for dark theme */\n",
       "    --sklearn-color-text-on-default-background: var(--sg-text-color, var(--theme-code-foreground, var(--jp-content-font-color1, white)));\n",
       "    --sklearn-color-background: var(--sg-background-color, var(--theme-background, var(--jp-layout-color0, #111)));\n",
       "    --sklearn-color-border-box: var(--sg-text-color, var(--theme-code-foreground, var(--jp-content-font-color1, white)));\n",
       "    --sklearn-color-icon: #878787;\n",
       "  }\n",
       "}\n",
       "\n",
       "#sk-container-id-9 {\n",
       "  color: var(--sklearn-color-text);\n",
       "}\n",
       "\n",
       "#sk-container-id-9 pre {\n",
       "  padding: 0;\n",
       "}\n",
       "\n",
       "#sk-container-id-9 input.sk-hidden--visually {\n",
       "  border: 0;\n",
       "  clip: rect(1px 1px 1px 1px);\n",
       "  clip: rect(1px, 1px, 1px, 1px);\n",
       "  height: 1px;\n",
       "  margin: -1px;\n",
       "  overflow: hidden;\n",
       "  padding: 0;\n",
       "  position: absolute;\n",
       "  width: 1px;\n",
       "}\n",
       "\n",
       "#sk-container-id-9 div.sk-dashed-wrapped {\n",
       "  border: 1px dashed var(--sklearn-color-line);\n",
       "  margin: 0 0.4em 0.5em 0.4em;\n",
       "  box-sizing: border-box;\n",
       "  padding-bottom: 0.4em;\n",
       "  background-color: var(--sklearn-color-background);\n",
       "}\n",
       "\n",
       "#sk-container-id-9 div.sk-container {\n",
       "  /* jupyter's `normalize.less` sets `[hidden] { display: none; }`\n",
       "     but bootstrap.min.css set `[hidden] { display: none !important; }`\n",
       "     so we also need the `!important` here to be able to override the\n",
       "     default hidden behavior on the sphinx rendered scikit-learn.org.\n",
       "     See: https://github.com/scikit-learn/scikit-learn/issues/21755 */\n",
       "  display: inline-block !important;\n",
       "  position: relative;\n",
       "}\n",
       "\n",
       "#sk-container-id-9 div.sk-text-repr-fallback {\n",
       "  display: none;\n",
       "}\n",
       "\n",
       "div.sk-parallel-item,\n",
       "div.sk-serial,\n",
       "div.sk-item {\n",
       "  /* draw centered vertical line to link estimators */\n",
       "  background-image: linear-gradient(var(--sklearn-color-text-on-default-background), var(--sklearn-color-text-on-default-background));\n",
       "  background-size: 2px 100%;\n",
       "  background-repeat: no-repeat;\n",
       "  background-position: center center;\n",
       "}\n",
       "\n",
       "/* Parallel-specific style estimator block */\n",
       "\n",
       "#sk-container-id-9 div.sk-parallel-item::after {\n",
       "  content: \"\";\n",
       "  width: 100%;\n",
       "  border-bottom: 2px solid var(--sklearn-color-text-on-default-background);\n",
       "  flex-grow: 1;\n",
       "}\n",
       "\n",
       "#sk-container-id-9 div.sk-parallel {\n",
       "  display: flex;\n",
       "  align-items: stretch;\n",
       "  justify-content: center;\n",
       "  background-color: var(--sklearn-color-background);\n",
       "  position: relative;\n",
       "}\n",
       "\n",
       "#sk-container-id-9 div.sk-parallel-item {\n",
       "  display: flex;\n",
       "  flex-direction: column;\n",
       "}\n",
       "\n",
       "#sk-container-id-9 div.sk-parallel-item:first-child::after {\n",
       "  align-self: flex-end;\n",
       "  width: 50%;\n",
       "}\n",
       "\n",
       "#sk-container-id-9 div.sk-parallel-item:last-child::after {\n",
       "  align-self: flex-start;\n",
       "  width: 50%;\n",
       "}\n",
       "\n",
       "#sk-container-id-9 div.sk-parallel-item:only-child::after {\n",
       "  width: 0;\n",
       "}\n",
       "\n",
       "/* Serial-specific style estimator block */\n",
       "\n",
       "#sk-container-id-9 div.sk-serial {\n",
       "  display: flex;\n",
       "  flex-direction: column;\n",
       "  align-items: center;\n",
       "  background-color: var(--sklearn-color-background);\n",
       "  padding-right: 1em;\n",
       "  padding-left: 1em;\n",
       "}\n",
       "\n",
       "\n",
       "/* Toggleable style: style used for estimator/Pipeline/ColumnTransformer box that is\n",
       "clickable and can be expanded/collapsed.\n",
       "- Pipeline and ColumnTransformer use this feature and define the default style\n",
       "- Estimators will overwrite some part of the style using the `sk-estimator` class\n",
       "*/\n",
       "\n",
       "/* Pipeline and ColumnTransformer style (default) */\n",
       "\n",
       "#sk-container-id-9 div.sk-toggleable {\n",
       "  /* Default theme specific background. It is overwritten whether we have a\n",
       "  specific estimator or a Pipeline/ColumnTransformer */\n",
       "  background-color: var(--sklearn-color-background);\n",
       "}\n",
       "\n",
       "/* Toggleable label */\n",
       "#sk-container-id-9 label.sk-toggleable__label {\n",
       "  cursor: pointer;\n",
       "  display: flex;\n",
       "  width: 100%;\n",
       "  margin-bottom: 0;\n",
       "  padding: 0.5em;\n",
       "  box-sizing: border-box;\n",
       "  text-align: center;\n",
       "  align-items: start;\n",
       "  justify-content: space-between;\n",
       "  gap: 0.5em;\n",
       "}\n",
       "\n",
       "#sk-container-id-9 label.sk-toggleable__label .caption {\n",
       "  font-size: 0.6rem;\n",
       "  font-weight: lighter;\n",
       "  color: var(--sklearn-color-text-muted);\n",
       "}\n",
       "\n",
       "#sk-container-id-9 label.sk-toggleable__label-arrow:before {\n",
       "  /* Arrow on the left of the label */\n",
       "  content: \"▸\";\n",
       "  float: left;\n",
       "  margin-right: 0.25em;\n",
       "  color: var(--sklearn-color-icon);\n",
       "}\n",
       "\n",
       "#sk-container-id-9 label.sk-toggleable__label-arrow:hover:before {\n",
       "  color: var(--sklearn-color-text);\n",
       "}\n",
       "\n",
       "/* Toggleable content - dropdown */\n",
       "\n",
       "#sk-container-id-9 div.sk-toggleable__content {\n",
       "  display: none;\n",
       "  text-align: left;\n",
       "  /* unfitted */\n",
       "  background-color: var(--sklearn-color-unfitted-level-0);\n",
       "}\n",
       "\n",
       "#sk-container-id-9 div.sk-toggleable__content.fitted {\n",
       "  /* fitted */\n",
       "  background-color: var(--sklearn-color-fitted-level-0);\n",
       "}\n",
       "\n",
       "#sk-container-id-9 div.sk-toggleable__content pre {\n",
       "  margin: 0.2em;\n",
       "  border-radius: 0.25em;\n",
       "  color: var(--sklearn-color-text);\n",
       "  /* unfitted */\n",
       "  background-color: var(--sklearn-color-unfitted-level-0);\n",
       "}\n",
       "\n",
       "#sk-container-id-9 div.sk-toggleable__content.fitted pre {\n",
       "  /* unfitted */\n",
       "  background-color: var(--sklearn-color-fitted-level-0);\n",
       "}\n",
       "\n",
       "#sk-container-id-9 input.sk-toggleable__control:checked~div.sk-toggleable__content {\n",
       "  /* Expand drop-down */\n",
       "  display: block;\n",
       "  width: 100%;\n",
       "  overflow: visible;\n",
       "}\n",
       "\n",
       "#sk-container-id-9 input.sk-toggleable__control:checked~label.sk-toggleable__label-arrow:before {\n",
       "  content: \"▾\";\n",
       "}\n",
       "\n",
       "/* Pipeline/ColumnTransformer-specific style */\n",
       "\n",
       "#sk-container-id-9 div.sk-label input.sk-toggleable__control:checked~label.sk-toggleable__label {\n",
       "  color: var(--sklearn-color-text);\n",
       "  background-color: var(--sklearn-color-unfitted-level-2);\n",
       "}\n",
       "\n",
       "#sk-container-id-9 div.sk-label.fitted input.sk-toggleable__control:checked~label.sk-toggleable__label {\n",
       "  background-color: var(--sklearn-color-fitted-level-2);\n",
       "}\n",
       "\n",
       "/* Estimator-specific style */\n",
       "\n",
       "/* Colorize estimator box */\n",
       "#sk-container-id-9 div.sk-estimator input.sk-toggleable__control:checked~label.sk-toggleable__label {\n",
       "  /* unfitted */\n",
       "  background-color: var(--sklearn-color-unfitted-level-2);\n",
       "}\n",
       "\n",
       "#sk-container-id-9 div.sk-estimator.fitted input.sk-toggleable__control:checked~label.sk-toggleable__label {\n",
       "  /* fitted */\n",
       "  background-color: var(--sklearn-color-fitted-level-2);\n",
       "}\n",
       "\n",
       "#sk-container-id-9 div.sk-label label.sk-toggleable__label,\n",
       "#sk-container-id-9 div.sk-label label {\n",
       "  /* The background is the default theme color */\n",
       "  color: var(--sklearn-color-text-on-default-background);\n",
       "}\n",
       "\n",
       "/* On hover, darken the color of the background */\n",
       "#sk-container-id-9 div.sk-label:hover label.sk-toggleable__label {\n",
       "  color: var(--sklearn-color-text);\n",
       "  background-color: var(--sklearn-color-unfitted-level-2);\n",
       "}\n",
       "\n",
       "/* Label box, darken color on hover, fitted */\n",
       "#sk-container-id-9 div.sk-label.fitted:hover label.sk-toggleable__label.fitted {\n",
       "  color: var(--sklearn-color-text);\n",
       "  background-color: var(--sklearn-color-fitted-level-2);\n",
       "}\n",
       "\n",
       "/* Estimator label */\n",
       "\n",
       "#sk-container-id-9 div.sk-label label {\n",
       "  font-family: monospace;\n",
       "  font-weight: bold;\n",
       "  display: inline-block;\n",
       "  line-height: 1.2em;\n",
       "}\n",
       "\n",
       "#sk-container-id-9 div.sk-label-container {\n",
       "  text-align: center;\n",
       "}\n",
       "\n",
       "/* Estimator-specific */\n",
       "#sk-container-id-9 div.sk-estimator {\n",
       "  font-family: monospace;\n",
       "  border: 1px dotted var(--sklearn-color-border-box);\n",
       "  border-radius: 0.25em;\n",
       "  box-sizing: border-box;\n",
       "  margin-bottom: 0.5em;\n",
       "  /* unfitted */\n",
       "  background-color: var(--sklearn-color-unfitted-level-0);\n",
       "}\n",
       "\n",
       "#sk-container-id-9 div.sk-estimator.fitted {\n",
       "  /* fitted */\n",
       "  background-color: var(--sklearn-color-fitted-level-0);\n",
       "}\n",
       "\n",
       "/* on hover */\n",
       "#sk-container-id-9 div.sk-estimator:hover {\n",
       "  /* unfitted */\n",
       "  background-color: var(--sklearn-color-unfitted-level-2);\n",
       "}\n",
       "\n",
       "#sk-container-id-9 div.sk-estimator.fitted:hover {\n",
       "  /* fitted */\n",
       "  background-color: var(--sklearn-color-fitted-level-2);\n",
       "}\n",
       "\n",
       "/* Specification for estimator info (e.g. \"i\" and \"?\") */\n",
       "\n",
       "/* Common style for \"i\" and \"?\" */\n",
       "\n",
       ".sk-estimator-doc-link,\n",
       "a:link.sk-estimator-doc-link,\n",
       "a:visited.sk-estimator-doc-link {\n",
       "  float: right;\n",
       "  font-size: smaller;\n",
       "  line-height: 1em;\n",
       "  font-family: monospace;\n",
       "  background-color: var(--sklearn-color-background);\n",
       "  border-radius: 1em;\n",
       "  height: 1em;\n",
       "  width: 1em;\n",
       "  text-decoration: none !important;\n",
       "  margin-left: 0.5em;\n",
       "  text-align: center;\n",
       "  /* unfitted */\n",
       "  border: var(--sklearn-color-unfitted-level-1) 1pt solid;\n",
       "  color: var(--sklearn-color-unfitted-level-1);\n",
       "}\n",
       "\n",
       ".sk-estimator-doc-link.fitted,\n",
       "a:link.sk-estimator-doc-link.fitted,\n",
       "a:visited.sk-estimator-doc-link.fitted {\n",
       "  /* fitted */\n",
       "  border: var(--sklearn-color-fitted-level-1) 1pt solid;\n",
       "  color: var(--sklearn-color-fitted-level-1);\n",
       "}\n",
       "\n",
       "/* On hover */\n",
       "div.sk-estimator:hover .sk-estimator-doc-link:hover,\n",
       ".sk-estimator-doc-link:hover,\n",
       "div.sk-label-container:hover .sk-estimator-doc-link:hover,\n",
       ".sk-estimator-doc-link:hover {\n",
       "  /* unfitted */\n",
       "  background-color: var(--sklearn-color-unfitted-level-3);\n",
       "  color: var(--sklearn-color-background);\n",
       "  text-decoration: none;\n",
       "}\n",
       "\n",
       "div.sk-estimator.fitted:hover .sk-estimator-doc-link.fitted:hover,\n",
       ".sk-estimator-doc-link.fitted:hover,\n",
       "div.sk-label-container:hover .sk-estimator-doc-link.fitted:hover,\n",
       ".sk-estimator-doc-link.fitted:hover {\n",
       "  /* fitted */\n",
       "  background-color: var(--sklearn-color-fitted-level-3);\n",
       "  color: var(--sklearn-color-background);\n",
       "  text-decoration: none;\n",
       "}\n",
       "\n",
       "/* Span, style for the box shown on hovering the info icon */\n",
       ".sk-estimator-doc-link span {\n",
       "  display: none;\n",
       "  z-index: 9999;\n",
       "  position: relative;\n",
       "  font-weight: normal;\n",
       "  right: .2ex;\n",
       "  padding: .5ex;\n",
       "  margin: .5ex;\n",
       "  width: min-content;\n",
       "  min-width: 20ex;\n",
       "  max-width: 50ex;\n",
       "  color: var(--sklearn-color-text);\n",
       "  box-shadow: 2pt 2pt 4pt #999;\n",
       "  /* unfitted */\n",
       "  background: var(--sklearn-color-unfitted-level-0);\n",
       "  border: .5pt solid var(--sklearn-color-unfitted-level-3);\n",
       "}\n",
       "\n",
       ".sk-estimator-doc-link.fitted span {\n",
       "  /* fitted */\n",
       "  background: var(--sklearn-color-fitted-level-0);\n",
       "  border: var(--sklearn-color-fitted-level-3);\n",
       "}\n",
       "\n",
       ".sk-estimator-doc-link:hover span {\n",
       "  display: block;\n",
       "}\n",
       "\n",
       "/* \"?\"-specific style due to the `<a>` HTML tag */\n",
       "\n",
       "#sk-container-id-9 a.estimator_doc_link {\n",
       "  float: right;\n",
       "  font-size: 1rem;\n",
       "  line-height: 1em;\n",
       "  font-family: monospace;\n",
       "  background-color: var(--sklearn-color-background);\n",
       "  border-radius: 1rem;\n",
       "  height: 1rem;\n",
       "  width: 1rem;\n",
       "  text-decoration: none;\n",
       "  /* unfitted */\n",
       "  color: var(--sklearn-color-unfitted-level-1);\n",
       "  border: var(--sklearn-color-unfitted-level-1) 1pt solid;\n",
       "}\n",
       "\n",
       "#sk-container-id-9 a.estimator_doc_link.fitted {\n",
       "  /* fitted */\n",
       "  border: var(--sklearn-color-fitted-level-1) 1pt solid;\n",
       "  color: var(--sklearn-color-fitted-level-1);\n",
       "}\n",
       "\n",
       "/* On hover */\n",
       "#sk-container-id-9 a.estimator_doc_link:hover {\n",
       "  /* unfitted */\n",
       "  background-color: var(--sklearn-color-unfitted-level-3);\n",
       "  color: var(--sklearn-color-background);\n",
       "  text-decoration: none;\n",
       "}\n",
       "\n",
       "#sk-container-id-9 a.estimator_doc_link.fitted:hover {\n",
       "  /* fitted */\n",
       "  background-color: var(--sklearn-color-fitted-level-3);\n",
       "}\n",
       "\n",
       ".estimator-table summary {\n",
       "    padding: .5rem;\n",
       "    font-family: monospace;\n",
       "    cursor: pointer;\n",
       "}\n",
       "\n",
       ".estimator-table details[open] {\n",
       "    padding-left: 0.1rem;\n",
       "    padding-right: 0.1rem;\n",
       "    padding-bottom: 0.3rem;\n",
       "}\n",
       "\n",
       ".estimator-table .parameters-table {\n",
       "    margin-left: auto !important;\n",
       "    margin-right: auto !important;\n",
       "}\n",
       "\n",
       ".estimator-table .parameters-table tr:nth-child(odd) {\n",
       "    background-color: #fff;\n",
       "}\n",
       "\n",
       ".estimator-table .parameters-table tr:nth-child(even) {\n",
       "    background-color: #f6f6f6;\n",
       "}\n",
       "\n",
       ".estimator-table .parameters-table tr:hover {\n",
       "    background-color: #e0e0e0;\n",
       "}\n",
       "\n",
       ".estimator-table table td {\n",
       "    border: 1px solid rgba(106, 105, 104, 0.232);\n",
       "}\n",
       "\n",
       ".user-set td {\n",
       "    color:rgb(255, 94, 0);\n",
       "    text-align: left;\n",
       "}\n",
       "\n",
       ".user-set td.value pre {\n",
       "    color:rgb(255, 94, 0) !important;\n",
       "    background-color: transparent !important;\n",
       "}\n",
       "\n",
       ".default td {\n",
       "    color: black;\n",
       "    text-align: left;\n",
       "}\n",
       "\n",
       ".user-set td i,\n",
       ".default td i {\n",
       "    color: black;\n",
       "}\n",
       "\n",
       ".copy-paste-icon {\n",
       "    background-image: url(data:image/svg+xml;base64,PHN2ZyB4bWxucz0iaHR0cDovL3d3dy53My5vcmcvMjAwMC9zdmciIHZpZXdCb3g9IjAgMCA0NDggNTEyIj48IS0tIUZvbnQgQXdlc29tZSBGcmVlIDYuNy4yIGJ5IEBmb250YXdlc29tZSAtIGh0dHBzOi8vZm9udGF3ZXNvbWUuY29tIExpY2Vuc2UgLSBodHRwczovL2ZvbnRhd2Vzb21lLmNvbS9saWNlbnNlL2ZyZWUgQ29weXJpZ2h0IDIwMjUgRm9udGljb25zLCBJbmMuLS0+PHBhdGggZD0iTTIwOCAwTDMzMi4xIDBjMTIuNyAwIDI0LjkgNS4xIDMzLjkgMTQuMWw2Ny45IDY3LjljOSA5IDE0LjEgMjEuMiAxNC4xIDMzLjlMNDQ4IDMzNmMwIDI2LjUtMjEuNSA0OC00OCA0OGwtMTkyIDBjLTI2LjUgMC00OC0yMS41LTQ4LTQ4bDAtMjg4YzAtMjYuNSAyMS41LTQ4IDQ4LTQ4ek00OCAxMjhsODAgMCAwIDY0LTY0IDAgMCAyNTYgMTkyIDAgMC0zMiA2NCAwIDAgNDhjMCAyNi41LTIxLjUgNDgtNDggNDhMNDggNTEyYy0yNi41IDAtNDgtMjEuNS00OC00OEwwIDE3NmMwLTI2LjUgMjEuNS00OCA0OC00OHoiLz48L3N2Zz4=);\n",
       "    background-repeat: no-repeat;\n",
       "    background-size: 14px 14px;\n",
       "    background-position: 0;\n",
       "    display: inline-block;\n",
       "    width: 14px;\n",
       "    height: 14px;\n",
       "    cursor: pointer;\n",
       "}\n",
       "</style><body><div id=\"sk-container-id-9\" class=\"sk-top-container\"><div class=\"sk-text-repr-fallback\"><pre>LogisticRegression(C=1, max_iter=10000)</pre><b>In a Jupyter environment, please rerun this cell to show the HTML representation or trust the notebook. <br />On GitHub, the HTML representation is unable to render, please try loading this page with nbviewer.org.</b></div><div class=\"sk-container\" hidden><div class=\"sk-item\"><div class=\"sk-estimator fitted sk-toggleable\"><input class=\"sk-toggleable__control sk-hidden--visually\" id=\"sk-estimator-id-9\" type=\"checkbox\" checked><label for=\"sk-estimator-id-9\" class=\"sk-toggleable__label fitted sk-toggleable__label-arrow\"><div><div>LogisticRegression</div></div><div><a class=\"sk-estimator-doc-link fitted\" rel=\"noreferrer\" target=\"_blank\" href=\"https://scikit-learn.org/1.7/modules/generated/sklearn.linear_model.LogisticRegression.html\">?<span>Documentation for LogisticRegression</span></a><span class=\"sk-estimator-doc-link fitted\">i<span>Fitted</span></span></div></label><div class=\"sk-toggleable__content fitted\" data-param-prefix=\"\">\n",
       "        <div class=\"estimator-table\">\n",
       "            <details>\n",
       "                <summary>Parameters</summary>\n",
       "                <table class=\"parameters-table\">\n",
       "                  <tbody>\n",
       "                    \n",
       "        <tr class=\"default\">\n",
       "            <td><i class=\"copy-paste-icon\"\n",
       "                 onclick=\"copyToClipboard('penalty',\n",
       "                          this.parentElement.nextElementSibling)\"\n",
       "            ></i></td>\n",
       "            <td class=\"param\">penalty&nbsp;</td>\n",
       "            <td class=\"value\">&#x27;l2&#x27;</td>\n",
       "        </tr>\n",
       "    \n",
       "\n",
       "        <tr class=\"default\">\n",
       "            <td><i class=\"copy-paste-icon\"\n",
       "                 onclick=\"copyToClipboard('dual',\n",
       "                          this.parentElement.nextElementSibling)\"\n",
       "            ></i></td>\n",
       "            <td class=\"param\">dual&nbsp;</td>\n",
       "            <td class=\"value\">False</td>\n",
       "        </tr>\n",
       "    \n",
       "\n",
       "        <tr class=\"default\">\n",
       "            <td><i class=\"copy-paste-icon\"\n",
       "                 onclick=\"copyToClipboard('tol',\n",
       "                          this.parentElement.nextElementSibling)\"\n",
       "            ></i></td>\n",
       "            <td class=\"param\">tol&nbsp;</td>\n",
       "            <td class=\"value\">0.0001</td>\n",
       "        </tr>\n",
       "    \n",
       "\n",
       "        <tr class=\"default\">\n",
       "            <td><i class=\"copy-paste-icon\"\n",
       "                 onclick=\"copyToClipboard('C',\n",
       "                          this.parentElement.nextElementSibling)\"\n",
       "            ></i></td>\n",
       "            <td class=\"param\">C&nbsp;</td>\n",
       "            <td class=\"value\">1</td>\n",
       "        </tr>\n",
       "    \n",
       "\n",
       "        <tr class=\"default\">\n",
       "            <td><i class=\"copy-paste-icon\"\n",
       "                 onclick=\"copyToClipboard('fit_intercept',\n",
       "                          this.parentElement.nextElementSibling)\"\n",
       "            ></i></td>\n",
       "            <td class=\"param\">fit_intercept&nbsp;</td>\n",
       "            <td class=\"value\">True</td>\n",
       "        </tr>\n",
       "    \n",
       "\n",
       "        <tr class=\"default\">\n",
       "            <td><i class=\"copy-paste-icon\"\n",
       "                 onclick=\"copyToClipboard('intercept_scaling',\n",
       "                          this.parentElement.nextElementSibling)\"\n",
       "            ></i></td>\n",
       "            <td class=\"param\">intercept_scaling&nbsp;</td>\n",
       "            <td class=\"value\">1</td>\n",
       "        </tr>\n",
       "    \n",
       "\n",
       "        <tr class=\"default\">\n",
       "            <td><i class=\"copy-paste-icon\"\n",
       "                 onclick=\"copyToClipboard('class_weight',\n",
       "                          this.parentElement.nextElementSibling)\"\n",
       "            ></i></td>\n",
       "            <td class=\"param\">class_weight&nbsp;</td>\n",
       "            <td class=\"value\">None</td>\n",
       "        </tr>\n",
       "    \n",
       "\n",
       "        <tr class=\"default\">\n",
       "            <td><i class=\"copy-paste-icon\"\n",
       "                 onclick=\"copyToClipboard('random_state',\n",
       "                          this.parentElement.nextElementSibling)\"\n",
       "            ></i></td>\n",
       "            <td class=\"param\">random_state&nbsp;</td>\n",
       "            <td class=\"value\">None</td>\n",
       "        </tr>\n",
       "    \n",
       "\n",
       "        <tr class=\"default\">\n",
       "            <td><i class=\"copy-paste-icon\"\n",
       "                 onclick=\"copyToClipboard('solver',\n",
       "                          this.parentElement.nextElementSibling)\"\n",
       "            ></i></td>\n",
       "            <td class=\"param\">solver&nbsp;</td>\n",
       "            <td class=\"value\">&#x27;lbfgs&#x27;</td>\n",
       "        </tr>\n",
       "    \n",
       "\n",
       "        <tr class=\"user-set\">\n",
       "            <td><i class=\"copy-paste-icon\"\n",
       "                 onclick=\"copyToClipboard('max_iter',\n",
       "                          this.parentElement.nextElementSibling)\"\n",
       "            ></i></td>\n",
       "            <td class=\"param\">max_iter&nbsp;</td>\n",
       "            <td class=\"value\">10000</td>\n",
       "        </tr>\n",
       "    \n",
       "\n",
       "        <tr class=\"default\">\n",
       "            <td><i class=\"copy-paste-icon\"\n",
       "                 onclick=\"copyToClipboard('multi_class',\n",
       "                          this.parentElement.nextElementSibling)\"\n",
       "            ></i></td>\n",
       "            <td class=\"param\">multi_class&nbsp;</td>\n",
       "            <td class=\"value\">&#x27;deprecated&#x27;</td>\n",
       "        </tr>\n",
       "    \n",
       "\n",
       "        <tr class=\"default\">\n",
       "            <td><i class=\"copy-paste-icon\"\n",
       "                 onclick=\"copyToClipboard('verbose',\n",
       "                          this.parentElement.nextElementSibling)\"\n",
       "            ></i></td>\n",
       "            <td class=\"param\">verbose&nbsp;</td>\n",
       "            <td class=\"value\">0</td>\n",
       "        </tr>\n",
       "    \n",
       "\n",
       "        <tr class=\"default\">\n",
       "            <td><i class=\"copy-paste-icon\"\n",
       "                 onclick=\"copyToClipboard('warm_start',\n",
       "                          this.parentElement.nextElementSibling)\"\n",
       "            ></i></td>\n",
       "            <td class=\"param\">warm_start&nbsp;</td>\n",
       "            <td class=\"value\">False</td>\n",
       "        </tr>\n",
       "    \n",
       "\n",
       "        <tr class=\"default\">\n",
       "            <td><i class=\"copy-paste-icon\"\n",
       "                 onclick=\"copyToClipboard('n_jobs',\n",
       "                          this.parentElement.nextElementSibling)\"\n",
       "            ></i></td>\n",
       "            <td class=\"param\">n_jobs&nbsp;</td>\n",
       "            <td class=\"value\">None</td>\n",
       "        </tr>\n",
       "    \n",
       "\n",
       "        <tr class=\"default\">\n",
       "            <td><i class=\"copy-paste-icon\"\n",
       "                 onclick=\"copyToClipboard('l1_ratio',\n",
       "                          this.parentElement.nextElementSibling)\"\n",
       "            ></i></td>\n",
       "            <td class=\"param\">l1_ratio&nbsp;</td>\n",
       "            <td class=\"value\">None</td>\n",
       "        </tr>\n",
       "    \n",
       "                  </tbody>\n",
       "                </table>\n",
       "            </details>\n",
       "        </div>\n",
       "    </div></div></div></div></div><script>function copyToClipboard(text, element) {\n",
       "    // Get the parameter prefix from the closest toggleable content\n",
       "    const toggleableContent = element.closest('.sk-toggleable__content');\n",
       "    const paramPrefix = toggleableContent ? toggleableContent.dataset.paramPrefix : '';\n",
       "    const fullParamName = paramPrefix ? `${paramPrefix}${text}` : text;\n",
       "\n",
       "    const originalStyle = element.style;\n",
       "    const computedStyle = window.getComputedStyle(element);\n",
       "    const originalWidth = computedStyle.width;\n",
       "    const originalHTML = element.innerHTML.replace('Copied!', '');\n",
       "\n",
       "    navigator.clipboard.writeText(fullParamName)\n",
       "        .then(() => {\n",
       "            element.style.width = originalWidth;\n",
       "            element.style.color = 'green';\n",
       "            element.innerHTML = \"Copied!\";\n",
       "\n",
       "            setTimeout(() => {\n",
       "                element.innerHTML = originalHTML;\n",
       "                element.style = originalStyle;\n",
       "            }, 2000);\n",
       "        })\n",
       "        .catch(err => {\n",
       "            console.error('Failed to copy:', err);\n",
       "            element.style.color = 'red';\n",
       "            element.innerHTML = \"Failed!\";\n",
       "            setTimeout(() => {\n",
       "                element.innerHTML = originalHTML;\n",
       "                element.style = originalStyle;\n",
       "            }, 2000);\n",
       "        });\n",
       "    return false;\n",
       "}\n",
       "\n",
       "document.querySelectorAll('.fa-regular.fa-copy').forEach(function(element) {\n",
       "    const toggleableContent = element.closest('.sk-toggleable__content');\n",
       "    const paramPrefix = toggleableContent ? toggleableContent.dataset.paramPrefix : '';\n",
       "    const paramName = element.parentElement.nextElementSibling.textContent.trim();\n",
       "    const fullParamName = paramPrefix ? `${paramPrefix}${paramName}` : paramName;\n",
       "\n",
       "    element.setAttribute('title', fullParamName);\n",
       "});\n",
       "</script></body>"
      ],
      "text/plain": [
       "LogisticRegression(C=1, max_iter=10000)"
      ]
     },
     "execution_count": 55,
     "metadata": {},
     "output_type": "execute_result"
    }
   ],
   "source": [
    "model = LogisticRegression(solver='lbfgs', max_iter=10000, C=1)\n",
    "model.fit(X, y) # type: ignore"
   ]
  },
  {
   "cell_type": "code",
   "execution_count": 56,
   "metadata": {
    "colab": {
     "base_uri": "https://localhost:8080/"
    },
    "executionInfo": {
     "elapsed": 345,
     "status": "ok",
     "timestamp": 1722995923931,
     "user": {
      "displayName": "Yong Song",
      "userId": "00576951217859821315"
     },
     "user_tz": -600
    },
    "id": "7iE33_jmrewB",
    "outputId": "a9649f02-2a8c-4220-ea1a-9f7ace71d456"
   },
   "outputs": [
    {
     "name": "stdout",
     "output_type": "stream",
     "text": [
      "Coefficient Matrix:\n",
      "       Intercept        RI        Na        Mg        Al        Si         K  \\\n",
      "Con    51.163073 -0.234103 -1.128347 -0.986931  1.529178 -0.543781  0.886924   \n",
      "Head  -49.501536  0.555295  0.621073 -1.613656  1.167409  0.787718  0.497773   \n",
      "Tabl  -35.810032 -0.231536  1.617686 -0.285978  0.064625  0.157644 -1.219881   \n",
      "Veh    43.147380 -0.492662  0.209979  1.396464 -1.055931 -0.807680 -0.527832   \n",
      "WinF  -67.459207  0.252922 -0.328576  1.710744 -1.553427  0.935222  0.135605   \n",
      "WinNF  58.460323  0.150084 -0.991815 -0.220642 -0.151852 -0.529123  0.227412   \n",
      "\n",
      "             Ca        Ba        Fe  \n",
      "Con    0.304550 -0.036351  0.026548  \n",
      "Head  -1.626247  0.818280 -0.202911  \n",
      "Tabl   0.336326 -0.762770 -0.213574  \n",
      "Veh    1.190430 -0.063244 -0.086191  \n",
      "WinF   0.243426  0.252469 -0.205105  \n",
      "WinNF -0.448485 -0.208384  0.681233  \n"
     ]
    }
   ],
   "source": [
    "# Get coefficients and intercepts\n",
    "coefficients = model.coef_\n",
    "intercepts = model.intercept_\n",
    "\n",
    "# Create a nicely formatted DataFrame for the coefficients\n",
    "coef_df = pd.DataFrame(coefficients, columns=X_names, index=model.classes_)\n",
    "coef_df['Intercept'] = intercepts\n",
    "\n",
    "print(\"Coefficient Matrix:\")\n",
    "print(coef_df)"
   ]
  },
  {
   "cell_type": "markdown",
   "metadata": {
    "id": "PDsOfIUnr9JZ"
   },
   "source": [
    "$\\color{red}{Question:}$ how to impose larger regularisation in the above regression?"
   ]
  },
  {
   "cell_type": "markdown",
   "metadata": {
    "id": "FxAjKUnHsRcb"
   },
   "source": [
    "## LASSO"
   ]
  },
  {
   "cell_type": "code",
   "execution_count": 59,
   "metadata": {
    "colab": {
     "base_uri": "https://localhost:8080/",
     "height": 162
    },
    "executionInfo": {
     "elapsed": 357,
     "status": "ok",
     "timestamp": 1722995934770,
     "user": {
      "displayName": "Yong Song",
      "userId": "00576951217859821315"
     },
     "user_tz": -600
    },
    "id": "q1XxWxr-tN4J",
    "outputId": "87078eda-96f1-4249-84df-dc7815da3221"
   },
   "outputs": [
    {
     "data": {
      "text/html": [
       "<style>#sk-container-id-12 {\n",
       "  /* Definition of color scheme common for light and dark mode */\n",
       "  --sklearn-color-text: #000;\n",
       "  --sklearn-color-text-muted: #666;\n",
       "  --sklearn-color-line: gray;\n",
       "  /* Definition of color scheme for unfitted estimators */\n",
       "  --sklearn-color-unfitted-level-0: #fff5e6;\n",
       "  --sklearn-color-unfitted-level-1: #f6e4d2;\n",
       "  --sklearn-color-unfitted-level-2: #ffe0b3;\n",
       "  --sklearn-color-unfitted-level-3: chocolate;\n",
       "  /* Definition of color scheme for fitted estimators */\n",
       "  --sklearn-color-fitted-level-0: #f0f8ff;\n",
       "  --sklearn-color-fitted-level-1: #d4ebff;\n",
       "  --sklearn-color-fitted-level-2: #b3dbfd;\n",
       "  --sklearn-color-fitted-level-3: cornflowerblue;\n",
       "\n",
       "  /* Specific color for light theme */\n",
       "  --sklearn-color-text-on-default-background: var(--sg-text-color, var(--theme-code-foreground, var(--jp-content-font-color1, black)));\n",
       "  --sklearn-color-background: var(--sg-background-color, var(--theme-background, var(--jp-layout-color0, white)));\n",
       "  --sklearn-color-border-box: var(--sg-text-color, var(--theme-code-foreground, var(--jp-content-font-color1, black)));\n",
       "  --sklearn-color-icon: #696969;\n",
       "\n",
       "  @media (prefers-color-scheme: dark) {\n",
       "    /* Redefinition of color scheme for dark theme */\n",
       "    --sklearn-color-text-on-default-background: var(--sg-text-color, var(--theme-code-foreground, var(--jp-content-font-color1, white)));\n",
       "    --sklearn-color-background: var(--sg-background-color, var(--theme-background, var(--jp-layout-color0, #111)));\n",
       "    --sklearn-color-border-box: var(--sg-text-color, var(--theme-code-foreground, var(--jp-content-font-color1, white)));\n",
       "    --sklearn-color-icon: #878787;\n",
       "  }\n",
       "}\n",
       "\n",
       "#sk-container-id-12 {\n",
       "  color: var(--sklearn-color-text);\n",
       "}\n",
       "\n",
       "#sk-container-id-12 pre {\n",
       "  padding: 0;\n",
       "}\n",
       "\n",
       "#sk-container-id-12 input.sk-hidden--visually {\n",
       "  border: 0;\n",
       "  clip: rect(1px 1px 1px 1px);\n",
       "  clip: rect(1px, 1px, 1px, 1px);\n",
       "  height: 1px;\n",
       "  margin: -1px;\n",
       "  overflow: hidden;\n",
       "  padding: 0;\n",
       "  position: absolute;\n",
       "  width: 1px;\n",
       "}\n",
       "\n",
       "#sk-container-id-12 div.sk-dashed-wrapped {\n",
       "  border: 1px dashed var(--sklearn-color-line);\n",
       "  margin: 0 0.4em 0.5em 0.4em;\n",
       "  box-sizing: border-box;\n",
       "  padding-bottom: 0.4em;\n",
       "  background-color: var(--sklearn-color-background);\n",
       "}\n",
       "\n",
       "#sk-container-id-12 div.sk-container {\n",
       "  /* jupyter's `normalize.less` sets `[hidden] { display: none; }`\n",
       "     but bootstrap.min.css set `[hidden] { display: none !important; }`\n",
       "     so we also need the `!important` here to be able to override the\n",
       "     default hidden behavior on the sphinx rendered scikit-learn.org.\n",
       "     See: https://github.com/scikit-learn/scikit-learn/issues/21755 */\n",
       "  display: inline-block !important;\n",
       "  position: relative;\n",
       "}\n",
       "\n",
       "#sk-container-id-12 div.sk-text-repr-fallback {\n",
       "  display: none;\n",
       "}\n",
       "\n",
       "div.sk-parallel-item,\n",
       "div.sk-serial,\n",
       "div.sk-item {\n",
       "  /* draw centered vertical line to link estimators */\n",
       "  background-image: linear-gradient(var(--sklearn-color-text-on-default-background), var(--sklearn-color-text-on-default-background));\n",
       "  background-size: 2px 100%;\n",
       "  background-repeat: no-repeat;\n",
       "  background-position: center center;\n",
       "}\n",
       "\n",
       "/* Parallel-specific style estimator block */\n",
       "\n",
       "#sk-container-id-12 div.sk-parallel-item::after {\n",
       "  content: \"\";\n",
       "  width: 100%;\n",
       "  border-bottom: 2px solid var(--sklearn-color-text-on-default-background);\n",
       "  flex-grow: 1;\n",
       "}\n",
       "\n",
       "#sk-container-id-12 div.sk-parallel {\n",
       "  display: flex;\n",
       "  align-items: stretch;\n",
       "  justify-content: center;\n",
       "  background-color: var(--sklearn-color-background);\n",
       "  position: relative;\n",
       "}\n",
       "\n",
       "#sk-container-id-12 div.sk-parallel-item {\n",
       "  display: flex;\n",
       "  flex-direction: column;\n",
       "}\n",
       "\n",
       "#sk-container-id-12 div.sk-parallel-item:first-child::after {\n",
       "  align-self: flex-end;\n",
       "  width: 50%;\n",
       "}\n",
       "\n",
       "#sk-container-id-12 div.sk-parallel-item:last-child::after {\n",
       "  align-self: flex-start;\n",
       "  width: 50%;\n",
       "}\n",
       "\n",
       "#sk-container-id-12 div.sk-parallel-item:only-child::after {\n",
       "  width: 0;\n",
       "}\n",
       "\n",
       "/* Serial-specific style estimator block */\n",
       "\n",
       "#sk-container-id-12 div.sk-serial {\n",
       "  display: flex;\n",
       "  flex-direction: column;\n",
       "  align-items: center;\n",
       "  background-color: var(--sklearn-color-background);\n",
       "  padding-right: 1em;\n",
       "  padding-left: 1em;\n",
       "}\n",
       "\n",
       "\n",
       "/* Toggleable style: style used for estimator/Pipeline/ColumnTransformer box that is\n",
       "clickable and can be expanded/collapsed.\n",
       "- Pipeline and ColumnTransformer use this feature and define the default style\n",
       "- Estimators will overwrite some part of the style using the `sk-estimator` class\n",
       "*/\n",
       "\n",
       "/* Pipeline and ColumnTransformer style (default) */\n",
       "\n",
       "#sk-container-id-12 div.sk-toggleable {\n",
       "  /* Default theme specific background. It is overwritten whether we have a\n",
       "  specific estimator or a Pipeline/ColumnTransformer */\n",
       "  background-color: var(--sklearn-color-background);\n",
       "}\n",
       "\n",
       "/* Toggleable label */\n",
       "#sk-container-id-12 label.sk-toggleable__label {\n",
       "  cursor: pointer;\n",
       "  display: flex;\n",
       "  width: 100%;\n",
       "  margin-bottom: 0;\n",
       "  padding: 0.5em;\n",
       "  box-sizing: border-box;\n",
       "  text-align: center;\n",
       "  align-items: start;\n",
       "  justify-content: space-between;\n",
       "  gap: 0.5em;\n",
       "}\n",
       "\n",
       "#sk-container-id-12 label.sk-toggleable__label .caption {\n",
       "  font-size: 0.6rem;\n",
       "  font-weight: lighter;\n",
       "  color: var(--sklearn-color-text-muted);\n",
       "}\n",
       "\n",
       "#sk-container-id-12 label.sk-toggleable__label-arrow:before {\n",
       "  /* Arrow on the left of the label */\n",
       "  content: \"▸\";\n",
       "  float: left;\n",
       "  margin-right: 0.25em;\n",
       "  color: var(--sklearn-color-icon);\n",
       "}\n",
       "\n",
       "#sk-container-id-12 label.sk-toggleable__label-arrow:hover:before {\n",
       "  color: var(--sklearn-color-text);\n",
       "}\n",
       "\n",
       "/* Toggleable content - dropdown */\n",
       "\n",
       "#sk-container-id-12 div.sk-toggleable__content {\n",
       "  display: none;\n",
       "  text-align: left;\n",
       "  /* unfitted */\n",
       "  background-color: var(--sklearn-color-unfitted-level-0);\n",
       "}\n",
       "\n",
       "#sk-container-id-12 div.sk-toggleable__content.fitted {\n",
       "  /* fitted */\n",
       "  background-color: var(--sklearn-color-fitted-level-0);\n",
       "}\n",
       "\n",
       "#sk-container-id-12 div.sk-toggleable__content pre {\n",
       "  margin: 0.2em;\n",
       "  border-radius: 0.25em;\n",
       "  color: var(--sklearn-color-text);\n",
       "  /* unfitted */\n",
       "  background-color: var(--sklearn-color-unfitted-level-0);\n",
       "}\n",
       "\n",
       "#sk-container-id-12 div.sk-toggleable__content.fitted pre {\n",
       "  /* unfitted */\n",
       "  background-color: var(--sklearn-color-fitted-level-0);\n",
       "}\n",
       "\n",
       "#sk-container-id-12 input.sk-toggleable__control:checked~div.sk-toggleable__content {\n",
       "  /* Expand drop-down */\n",
       "  display: block;\n",
       "  width: 100%;\n",
       "  overflow: visible;\n",
       "}\n",
       "\n",
       "#sk-container-id-12 input.sk-toggleable__control:checked~label.sk-toggleable__label-arrow:before {\n",
       "  content: \"▾\";\n",
       "}\n",
       "\n",
       "/* Pipeline/ColumnTransformer-specific style */\n",
       "\n",
       "#sk-container-id-12 div.sk-label input.sk-toggleable__control:checked~label.sk-toggleable__label {\n",
       "  color: var(--sklearn-color-text);\n",
       "  background-color: var(--sklearn-color-unfitted-level-2);\n",
       "}\n",
       "\n",
       "#sk-container-id-12 div.sk-label.fitted input.sk-toggleable__control:checked~label.sk-toggleable__label {\n",
       "  background-color: var(--sklearn-color-fitted-level-2);\n",
       "}\n",
       "\n",
       "/* Estimator-specific style */\n",
       "\n",
       "/* Colorize estimator box */\n",
       "#sk-container-id-12 div.sk-estimator input.sk-toggleable__control:checked~label.sk-toggleable__label {\n",
       "  /* unfitted */\n",
       "  background-color: var(--sklearn-color-unfitted-level-2);\n",
       "}\n",
       "\n",
       "#sk-container-id-12 div.sk-estimator.fitted input.sk-toggleable__control:checked~label.sk-toggleable__label {\n",
       "  /* fitted */\n",
       "  background-color: var(--sklearn-color-fitted-level-2);\n",
       "}\n",
       "\n",
       "#sk-container-id-12 div.sk-label label.sk-toggleable__label,\n",
       "#sk-container-id-12 div.sk-label label {\n",
       "  /* The background is the default theme color */\n",
       "  color: var(--sklearn-color-text-on-default-background);\n",
       "}\n",
       "\n",
       "/* On hover, darken the color of the background */\n",
       "#sk-container-id-12 div.sk-label:hover label.sk-toggleable__label {\n",
       "  color: var(--sklearn-color-text);\n",
       "  background-color: var(--sklearn-color-unfitted-level-2);\n",
       "}\n",
       "\n",
       "/* Label box, darken color on hover, fitted */\n",
       "#sk-container-id-12 div.sk-label.fitted:hover label.sk-toggleable__label.fitted {\n",
       "  color: var(--sklearn-color-text);\n",
       "  background-color: var(--sklearn-color-fitted-level-2);\n",
       "}\n",
       "\n",
       "/* Estimator label */\n",
       "\n",
       "#sk-container-id-12 div.sk-label label {\n",
       "  font-family: monospace;\n",
       "  font-weight: bold;\n",
       "  display: inline-block;\n",
       "  line-height: 1.2em;\n",
       "}\n",
       "\n",
       "#sk-container-id-12 div.sk-label-container {\n",
       "  text-align: center;\n",
       "}\n",
       "\n",
       "/* Estimator-specific */\n",
       "#sk-container-id-12 div.sk-estimator {\n",
       "  font-family: monospace;\n",
       "  border: 1px dotted var(--sklearn-color-border-box);\n",
       "  border-radius: 0.25em;\n",
       "  box-sizing: border-box;\n",
       "  margin-bottom: 0.5em;\n",
       "  /* unfitted */\n",
       "  background-color: var(--sklearn-color-unfitted-level-0);\n",
       "}\n",
       "\n",
       "#sk-container-id-12 div.sk-estimator.fitted {\n",
       "  /* fitted */\n",
       "  background-color: var(--sklearn-color-fitted-level-0);\n",
       "}\n",
       "\n",
       "/* on hover */\n",
       "#sk-container-id-12 div.sk-estimator:hover {\n",
       "  /* unfitted */\n",
       "  background-color: var(--sklearn-color-unfitted-level-2);\n",
       "}\n",
       "\n",
       "#sk-container-id-12 div.sk-estimator.fitted:hover {\n",
       "  /* fitted */\n",
       "  background-color: var(--sklearn-color-fitted-level-2);\n",
       "}\n",
       "\n",
       "/* Specification for estimator info (e.g. \"i\" and \"?\") */\n",
       "\n",
       "/* Common style for \"i\" and \"?\" */\n",
       "\n",
       ".sk-estimator-doc-link,\n",
       "a:link.sk-estimator-doc-link,\n",
       "a:visited.sk-estimator-doc-link {\n",
       "  float: right;\n",
       "  font-size: smaller;\n",
       "  line-height: 1em;\n",
       "  font-family: monospace;\n",
       "  background-color: var(--sklearn-color-background);\n",
       "  border-radius: 1em;\n",
       "  height: 1em;\n",
       "  width: 1em;\n",
       "  text-decoration: none !important;\n",
       "  margin-left: 0.5em;\n",
       "  text-align: center;\n",
       "  /* unfitted */\n",
       "  border: var(--sklearn-color-unfitted-level-1) 1pt solid;\n",
       "  color: var(--sklearn-color-unfitted-level-1);\n",
       "}\n",
       "\n",
       ".sk-estimator-doc-link.fitted,\n",
       "a:link.sk-estimator-doc-link.fitted,\n",
       "a:visited.sk-estimator-doc-link.fitted {\n",
       "  /* fitted */\n",
       "  border: var(--sklearn-color-fitted-level-1) 1pt solid;\n",
       "  color: var(--sklearn-color-fitted-level-1);\n",
       "}\n",
       "\n",
       "/* On hover */\n",
       "div.sk-estimator:hover .sk-estimator-doc-link:hover,\n",
       ".sk-estimator-doc-link:hover,\n",
       "div.sk-label-container:hover .sk-estimator-doc-link:hover,\n",
       ".sk-estimator-doc-link:hover {\n",
       "  /* unfitted */\n",
       "  background-color: var(--sklearn-color-unfitted-level-3);\n",
       "  color: var(--sklearn-color-background);\n",
       "  text-decoration: none;\n",
       "}\n",
       "\n",
       "div.sk-estimator.fitted:hover .sk-estimator-doc-link.fitted:hover,\n",
       ".sk-estimator-doc-link.fitted:hover,\n",
       "div.sk-label-container:hover .sk-estimator-doc-link.fitted:hover,\n",
       ".sk-estimator-doc-link.fitted:hover {\n",
       "  /* fitted */\n",
       "  background-color: var(--sklearn-color-fitted-level-3);\n",
       "  color: var(--sklearn-color-background);\n",
       "  text-decoration: none;\n",
       "}\n",
       "\n",
       "/* Span, style for the box shown on hovering the info icon */\n",
       ".sk-estimator-doc-link span {\n",
       "  display: none;\n",
       "  z-index: 9999;\n",
       "  position: relative;\n",
       "  font-weight: normal;\n",
       "  right: .2ex;\n",
       "  padding: .5ex;\n",
       "  margin: .5ex;\n",
       "  width: min-content;\n",
       "  min-width: 20ex;\n",
       "  max-width: 50ex;\n",
       "  color: var(--sklearn-color-text);\n",
       "  box-shadow: 2pt 2pt 4pt #999;\n",
       "  /* unfitted */\n",
       "  background: var(--sklearn-color-unfitted-level-0);\n",
       "  border: .5pt solid var(--sklearn-color-unfitted-level-3);\n",
       "}\n",
       "\n",
       ".sk-estimator-doc-link.fitted span {\n",
       "  /* fitted */\n",
       "  background: var(--sklearn-color-fitted-level-0);\n",
       "  border: var(--sklearn-color-fitted-level-3);\n",
       "}\n",
       "\n",
       ".sk-estimator-doc-link:hover span {\n",
       "  display: block;\n",
       "}\n",
       "\n",
       "/* \"?\"-specific style due to the `<a>` HTML tag */\n",
       "\n",
       "#sk-container-id-12 a.estimator_doc_link {\n",
       "  float: right;\n",
       "  font-size: 1rem;\n",
       "  line-height: 1em;\n",
       "  font-family: monospace;\n",
       "  background-color: var(--sklearn-color-background);\n",
       "  border-radius: 1rem;\n",
       "  height: 1rem;\n",
       "  width: 1rem;\n",
       "  text-decoration: none;\n",
       "  /* unfitted */\n",
       "  color: var(--sklearn-color-unfitted-level-1);\n",
       "  border: var(--sklearn-color-unfitted-level-1) 1pt solid;\n",
       "}\n",
       "\n",
       "#sk-container-id-12 a.estimator_doc_link.fitted {\n",
       "  /* fitted */\n",
       "  border: var(--sklearn-color-fitted-level-1) 1pt solid;\n",
       "  color: var(--sklearn-color-fitted-level-1);\n",
       "}\n",
       "\n",
       "/* On hover */\n",
       "#sk-container-id-12 a.estimator_doc_link:hover {\n",
       "  /* unfitted */\n",
       "  background-color: var(--sklearn-color-unfitted-level-3);\n",
       "  color: var(--sklearn-color-background);\n",
       "  text-decoration: none;\n",
       "}\n",
       "\n",
       "#sk-container-id-12 a.estimator_doc_link.fitted:hover {\n",
       "  /* fitted */\n",
       "  background-color: var(--sklearn-color-fitted-level-3);\n",
       "}\n",
       "\n",
       ".estimator-table summary {\n",
       "    padding: .5rem;\n",
       "    font-family: monospace;\n",
       "    cursor: pointer;\n",
       "}\n",
       "\n",
       ".estimator-table details[open] {\n",
       "    padding-left: 0.1rem;\n",
       "    padding-right: 0.1rem;\n",
       "    padding-bottom: 0.3rem;\n",
       "}\n",
       "\n",
       ".estimator-table .parameters-table {\n",
       "    margin-left: auto !important;\n",
       "    margin-right: auto !important;\n",
       "}\n",
       "\n",
       ".estimator-table .parameters-table tr:nth-child(odd) {\n",
       "    background-color: #fff;\n",
       "}\n",
       "\n",
       ".estimator-table .parameters-table tr:nth-child(even) {\n",
       "    background-color: #f6f6f6;\n",
       "}\n",
       "\n",
       ".estimator-table .parameters-table tr:hover {\n",
       "    background-color: #e0e0e0;\n",
       "}\n",
       "\n",
       ".estimator-table table td {\n",
       "    border: 1px solid rgba(106, 105, 104, 0.232);\n",
       "}\n",
       "\n",
       ".user-set td {\n",
       "    color:rgb(255, 94, 0);\n",
       "    text-align: left;\n",
       "}\n",
       "\n",
       ".user-set td.value pre {\n",
       "    color:rgb(255, 94, 0) !important;\n",
       "    background-color: transparent !important;\n",
       "}\n",
       "\n",
       ".default td {\n",
       "    color: black;\n",
       "    text-align: left;\n",
       "}\n",
       "\n",
       ".user-set td i,\n",
       ".default td i {\n",
       "    color: black;\n",
       "}\n",
       "\n",
       ".copy-paste-icon {\n",
       "    background-image: url(data:image/svg+xml;base64,PHN2ZyB4bWxucz0iaHR0cDovL3d3dy53My5vcmcvMjAwMC9zdmciIHZpZXdCb3g9IjAgMCA0NDggNTEyIj48IS0tIUZvbnQgQXdlc29tZSBGcmVlIDYuNy4yIGJ5IEBmb250YXdlc29tZSAtIGh0dHBzOi8vZm9udGF3ZXNvbWUuY29tIExpY2Vuc2UgLSBodHRwczovL2ZvbnRhd2Vzb21lLmNvbS9saWNlbnNlL2ZyZWUgQ29weXJpZ2h0IDIwMjUgRm9udGljb25zLCBJbmMuLS0+PHBhdGggZD0iTTIwOCAwTDMzMi4xIDBjMTIuNyAwIDI0LjkgNS4xIDMzLjkgMTQuMWw2Ny45IDY3LjljOSA5IDE0LjEgMjEuMiAxNC4xIDMzLjlMNDQ4IDMzNmMwIDI2LjUtMjEuNSA0OC00OCA0OGwtMTkyIDBjLTI2LjUgMC00OC0yMS41LTQ4LTQ4bDAtMjg4YzAtMjYuNSAyMS41LTQ4IDQ4LTQ4ek00OCAxMjhsODAgMCAwIDY0LTY0IDAgMCAyNTYgMTkyIDAgMC0zMiA2NCAwIDAgNDhjMCAyNi41LTIxLjUgNDgtNDggNDhMNDggNTEyYy0yNi41IDAtNDgtMjEuNS00OC00OEwwIDE3NmMwLTI2LjUgMjEuNS00OCA0OC00OHoiLz48L3N2Zz4=);\n",
       "    background-repeat: no-repeat;\n",
       "    background-size: 14px 14px;\n",
       "    background-position: 0;\n",
       "    display: inline-block;\n",
       "    width: 14px;\n",
       "    height: 14px;\n",
       "    cursor: pointer;\n",
       "}\n",
       "</style><body><div id=\"sk-container-id-12\" class=\"sk-top-container\"><div class=\"sk-text-repr-fallback\"><pre>LogisticRegression(max_iter=10000, penalty=&#x27;l1&#x27;, solver=&#x27;saga&#x27;)</pre><b>In a Jupyter environment, please rerun this cell to show the HTML representation or trust the notebook. <br />On GitHub, the HTML representation is unable to render, please try loading this page with nbviewer.org.</b></div><div class=\"sk-container\" hidden><div class=\"sk-item\"><div class=\"sk-estimator fitted sk-toggleable\"><input class=\"sk-toggleable__control sk-hidden--visually\" id=\"sk-estimator-id-12\" type=\"checkbox\" checked><label for=\"sk-estimator-id-12\" class=\"sk-toggleable__label fitted sk-toggleable__label-arrow\"><div><div>LogisticRegression</div></div><div><a class=\"sk-estimator-doc-link fitted\" rel=\"noreferrer\" target=\"_blank\" href=\"https://scikit-learn.org/1.7/modules/generated/sklearn.linear_model.LogisticRegression.html\">?<span>Documentation for LogisticRegression</span></a><span class=\"sk-estimator-doc-link fitted\">i<span>Fitted</span></span></div></label><div class=\"sk-toggleable__content fitted\" data-param-prefix=\"\">\n",
       "        <div class=\"estimator-table\">\n",
       "            <details>\n",
       "                <summary>Parameters</summary>\n",
       "                <table class=\"parameters-table\">\n",
       "                  <tbody>\n",
       "                    \n",
       "        <tr class=\"user-set\">\n",
       "            <td><i class=\"copy-paste-icon\"\n",
       "                 onclick=\"copyToClipboard('penalty',\n",
       "                          this.parentElement.nextElementSibling)\"\n",
       "            ></i></td>\n",
       "            <td class=\"param\">penalty&nbsp;</td>\n",
       "            <td class=\"value\">&#x27;l1&#x27;</td>\n",
       "        </tr>\n",
       "    \n",
       "\n",
       "        <tr class=\"default\">\n",
       "            <td><i class=\"copy-paste-icon\"\n",
       "                 onclick=\"copyToClipboard('dual',\n",
       "                          this.parentElement.nextElementSibling)\"\n",
       "            ></i></td>\n",
       "            <td class=\"param\">dual&nbsp;</td>\n",
       "            <td class=\"value\">False</td>\n",
       "        </tr>\n",
       "    \n",
       "\n",
       "        <tr class=\"default\">\n",
       "            <td><i class=\"copy-paste-icon\"\n",
       "                 onclick=\"copyToClipboard('tol',\n",
       "                          this.parentElement.nextElementSibling)\"\n",
       "            ></i></td>\n",
       "            <td class=\"param\">tol&nbsp;</td>\n",
       "            <td class=\"value\">0.0001</td>\n",
       "        </tr>\n",
       "    \n",
       "\n",
       "        <tr class=\"default\">\n",
       "            <td><i class=\"copy-paste-icon\"\n",
       "                 onclick=\"copyToClipboard('C',\n",
       "                          this.parentElement.nextElementSibling)\"\n",
       "            ></i></td>\n",
       "            <td class=\"param\">C&nbsp;</td>\n",
       "            <td class=\"value\">1.0</td>\n",
       "        </tr>\n",
       "    \n",
       "\n",
       "        <tr class=\"default\">\n",
       "            <td><i class=\"copy-paste-icon\"\n",
       "                 onclick=\"copyToClipboard('fit_intercept',\n",
       "                          this.parentElement.nextElementSibling)\"\n",
       "            ></i></td>\n",
       "            <td class=\"param\">fit_intercept&nbsp;</td>\n",
       "            <td class=\"value\">True</td>\n",
       "        </tr>\n",
       "    \n",
       "\n",
       "        <tr class=\"default\">\n",
       "            <td><i class=\"copy-paste-icon\"\n",
       "                 onclick=\"copyToClipboard('intercept_scaling',\n",
       "                          this.parentElement.nextElementSibling)\"\n",
       "            ></i></td>\n",
       "            <td class=\"param\">intercept_scaling&nbsp;</td>\n",
       "            <td class=\"value\">1</td>\n",
       "        </tr>\n",
       "    \n",
       "\n",
       "        <tr class=\"default\">\n",
       "            <td><i class=\"copy-paste-icon\"\n",
       "                 onclick=\"copyToClipboard('class_weight',\n",
       "                          this.parentElement.nextElementSibling)\"\n",
       "            ></i></td>\n",
       "            <td class=\"param\">class_weight&nbsp;</td>\n",
       "            <td class=\"value\">None</td>\n",
       "        </tr>\n",
       "    \n",
       "\n",
       "        <tr class=\"default\">\n",
       "            <td><i class=\"copy-paste-icon\"\n",
       "                 onclick=\"copyToClipboard('random_state',\n",
       "                          this.parentElement.nextElementSibling)\"\n",
       "            ></i></td>\n",
       "            <td class=\"param\">random_state&nbsp;</td>\n",
       "            <td class=\"value\">None</td>\n",
       "        </tr>\n",
       "    \n",
       "\n",
       "        <tr class=\"user-set\">\n",
       "            <td><i class=\"copy-paste-icon\"\n",
       "                 onclick=\"copyToClipboard('solver',\n",
       "                          this.parentElement.nextElementSibling)\"\n",
       "            ></i></td>\n",
       "            <td class=\"param\">solver&nbsp;</td>\n",
       "            <td class=\"value\">&#x27;saga&#x27;</td>\n",
       "        </tr>\n",
       "    \n",
       "\n",
       "        <tr class=\"user-set\">\n",
       "            <td><i class=\"copy-paste-icon\"\n",
       "                 onclick=\"copyToClipboard('max_iter',\n",
       "                          this.parentElement.nextElementSibling)\"\n",
       "            ></i></td>\n",
       "            <td class=\"param\">max_iter&nbsp;</td>\n",
       "            <td class=\"value\">10000</td>\n",
       "        </tr>\n",
       "    \n",
       "\n",
       "        <tr class=\"default\">\n",
       "            <td><i class=\"copy-paste-icon\"\n",
       "                 onclick=\"copyToClipboard('multi_class',\n",
       "                          this.parentElement.nextElementSibling)\"\n",
       "            ></i></td>\n",
       "            <td class=\"param\">multi_class&nbsp;</td>\n",
       "            <td class=\"value\">&#x27;deprecated&#x27;</td>\n",
       "        </tr>\n",
       "    \n",
       "\n",
       "        <tr class=\"default\">\n",
       "            <td><i class=\"copy-paste-icon\"\n",
       "                 onclick=\"copyToClipboard('verbose',\n",
       "                          this.parentElement.nextElementSibling)\"\n",
       "            ></i></td>\n",
       "            <td class=\"param\">verbose&nbsp;</td>\n",
       "            <td class=\"value\">0</td>\n",
       "        </tr>\n",
       "    \n",
       "\n",
       "        <tr class=\"default\">\n",
       "            <td><i class=\"copy-paste-icon\"\n",
       "                 onclick=\"copyToClipboard('warm_start',\n",
       "                          this.parentElement.nextElementSibling)\"\n",
       "            ></i></td>\n",
       "            <td class=\"param\">warm_start&nbsp;</td>\n",
       "            <td class=\"value\">False</td>\n",
       "        </tr>\n",
       "    \n",
       "\n",
       "        <tr class=\"default\">\n",
       "            <td><i class=\"copy-paste-icon\"\n",
       "                 onclick=\"copyToClipboard('n_jobs',\n",
       "                          this.parentElement.nextElementSibling)\"\n",
       "            ></i></td>\n",
       "            <td class=\"param\">n_jobs&nbsp;</td>\n",
       "            <td class=\"value\">None</td>\n",
       "        </tr>\n",
       "    \n",
       "\n",
       "        <tr class=\"default\">\n",
       "            <td><i class=\"copy-paste-icon\"\n",
       "                 onclick=\"copyToClipboard('l1_ratio',\n",
       "                          this.parentElement.nextElementSibling)\"\n",
       "            ></i></td>\n",
       "            <td class=\"param\">l1_ratio&nbsp;</td>\n",
       "            <td class=\"value\">None</td>\n",
       "        </tr>\n",
       "    \n",
       "                  </tbody>\n",
       "                </table>\n",
       "            </details>\n",
       "        </div>\n",
       "    </div></div></div></div></div><script>function copyToClipboard(text, element) {\n",
       "    // Get the parameter prefix from the closest toggleable content\n",
       "    const toggleableContent = element.closest('.sk-toggleable__content');\n",
       "    const paramPrefix = toggleableContent ? toggleableContent.dataset.paramPrefix : '';\n",
       "    const fullParamName = paramPrefix ? `${paramPrefix}${text}` : text;\n",
       "\n",
       "    const originalStyle = element.style;\n",
       "    const computedStyle = window.getComputedStyle(element);\n",
       "    const originalWidth = computedStyle.width;\n",
       "    const originalHTML = element.innerHTML.replace('Copied!', '');\n",
       "\n",
       "    navigator.clipboard.writeText(fullParamName)\n",
       "        .then(() => {\n",
       "            element.style.width = originalWidth;\n",
       "            element.style.color = 'green';\n",
       "            element.innerHTML = \"Copied!\";\n",
       "\n",
       "            setTimeout(() => {\n",
       "                element.innerHTML = originalHTML;\n",
       "                element.style = originalStyle;\n",
       "            }, 2000);\n",
       "        })\n",
       "        .catch(err => {\n",
       "            console.error('Failed to copy:', err);\n",
       "            element.style.color = 'red';\n",
       "            element.innerHTML = \"Failed!\";\n",
       "            setTimeout(() => {\n",
       "                element.innerHTML = originalHTML;\n",
       "                element.style = originalStyle;\n",
       "            }, 2000);\n",
       "        });\n",
       "    return false;\n",
       "}\n",
       "\n",
       "document.querySelectorAll('.fa-regular.fa-copy').forEach(function(element) {\n",
       "    const toggleableContent = element.closest('.sk-toggleable__content');\n",
       "    const paramPrefix = toggleableContent ? toggleableContent.dataset.paramPrefix : '';\n",
       "    const paramName = element.parentElement.nextElementSibling.textContent.trim();\n",
       "    const fullParamName = paramPrefix ? `${paramPrefix}${paramName}` : paramName;\n",
       "\n",
       "    element.setAttribute('title', fullParamName);\n",
       "});\n",
       "</script></body>"
      ],
      "text/plain": [
       "LogisticRegression(max_iter=10000, penalty='l1', solver='saga')"
      ]
     },
     "execution_count": 59,
     "metadata": {},
     "output_type": "execute_result"
    }
   ],
   "source": [
    "model = LogisticRegression(solver='saga', penalty='l1', max_iter=10000)\n",
    "model.fit(X, y) # type: ignore"
   ]
  },
  {
   "cell_type": "code",
   "execution_count": 60,
   "metadata": {
    "colab": {
     "base_uri": "https://localhost:8080/"
    },
    "executionInfo": {
     "elapsed": 341,
     "status": "ok",
     "timestamp": 1722995954552,
     "user": {
      "displayName": "Yong Song",
      "userId": "00576951217859821315"
     },
     "user_tz": -600
    },
    "id": "usey4b6ItN4S",
    "outputId": "5b5506df-03c8-4ebc-cb6f-7c7ec8dbf59d"
   },
   "outputs": [
    {
     "name": "stdout",
     "output_type": "stream",
     "text": [
      "Coefficient Matrix:\n",
      "       Intercept        RI        Na        Mg        Al        Si         K  \\\n",
      "Con     0.026404 -0.046725 -0.723071 -0.800047  1.952460  0.000000  0.898124   \n",
      "Head   -0.009269  0.400178  0.174740 -2.009889  0.666841  0.150745  0.000000   \n",
      "Tabl   -0.054759 -0.227802  1.429719 -0.530914  0.000000 -0.340872 -1.093118   \n",
      "Veh     0.020876 -0.336206  0.370708  1.591084 -0.776839 -0.341658  0.000000   \n",
      "WinF   -0.046369  0.132204 -0.808439  1.466410 -2.136951  0.054328  0.000000   \n",
      "WinNF   0.063117  0.140798 -0.442659  0.283405  0.276782  0.000000  0.456267   \n",
      "\n",
      "             Ca        Ba        Fe  \n",
      "Con    0.118612  0.000000  0.000000  \n",
      "Head  -1.846987  0.567764  0.000000  \n",
      "Tabl   0.000000 -0.494551  0.000000  \n",
      "Veh    1.099705  0.000000  0.000000  \n",
      "WinF   0.000000  0.000000  0.000000  \n",
      "WinNF -0.033694  0.000000  0.139154  \n"
     ]
    }
   ],
   "source": [
    "# Get coefficients and intercepts\n",
    "coefficients = model.coef_\n",
    "intercepts = model.intercept_\n",
    "\n",
    "# Create a nicely formatted DataFrame for the coefficients\n",
    "coef_df = pd.DataFrame(coefficients, columns=X_names, index=model.classes_)\n",
    "coef_df['Intercept'] = intercepts\n",
    "\n",
    "print(\"Coefficient Matrix:\")\n",
    "print(coef_df)"
   ]
  },
  {
   "cell_type": "markdown",
   "metadata": {
    "id": "DjiSHB0Ib-Gg"
   },
   "source": [
    "## Cross Validation"
   ]
  },
  {
   "cell_type": "code",
   "execution_count": null,
   "metadata": {
    "id": "nAboICiTjgK9"
   },
   "outputs": [],
   "source": [
    "Cs = np.logspace(-5, 1, 100)\n",
    "deviance_mean = []\n",
    "deviance_std = []\n",
    "\n",
    "for C in Cs:\n",
    "  lasso_logreg = LogisticRegression(solver='saga', penalty='l1', max_iter=10000, C=C)\n",
    "  # Perform cross-validation and get deviance scores\n",
    "  cv_scores = cross_val_score(lasso_logreg, X, y, cv=5, scoring='neg_log_loss') # type: ignore\n",
    "  deviance_mean.append(-2 * cv_scores.mean())\n",
    "  deviance_std.append(cv_scores.std() * 2)\n"
   ]
  },
  {
   "cell_type": "code",
   "execution_count": 63,
   "metadata": {
    "colab": {
     "base_uri": "https://localhost:8080/",
     "height": 542
    },
    "executionInfo": {
     "elapsed": 344,
     "status": "ok",
     "timestamp": 1722996030267,
     "user": {
      "displayName": "Yong Song",
      "userId": "00576951217859821315"
     },
     "user_tz": -600
    },
    "id": "MXbuCurTvrx5",
    "outputId": "9b3b88f0-780e-4934-fd8c-1ac45f860a2f"
   },
   "outputs": [
    {
     "data": {
      "application/vnd.plotly.v1+json": {
       "config": {
        "plotlyServerURL": "https://plot.ly"
       },
       "data": [
        {
         "error_y": {
          "array": {
           "bdata": "+c83eA2QUT9syrwb0y5YP7own/NUbEg/qEsElsxGVz/t/lJgYmBjP1tqFW2yiGI/eMU/k8Y3Vz9ApVcqdJNMP+YoBDPjjlE/IfpX8HXVYT9ktjGkkwJWP/uw5tFHIFI//O8P48OEXj86dh2WGcNXP9oPxogGDVE/OL6zVXEnWD9kQGOO6dyIP+LIQYxYLYc/fUqwuksUhj9dikrili2NP4W8f14aK5E/DPzoXyLmjD/5rPg0DHSIP/Oz2/h6mIU/fhX5UyLmkD8oUis3Cgl2PzWcEpLmXoE/xIeTsqaliD+0ILcarfyBP9fI6PGaOms/4OZNvu5Bcz8xb6whdmx8P8nT/em9xIQ/QBFV8MT8iT9ugUBMcwOPPwphqL/zB5I/MjFTu4gmlD9sA6PUMieWP+rGTmy9tJc/rt1ZnzBPmT9U4NI5Y4yaP25acaXIsps/4yolEm2jnD8z6/VfS36dP0uVvu0gQp4/bpsOf6Tnnj8NoeQrYXefP0amVjXx9p8/pWQXLCcxoD/AfhdZVmGgPwIx6dkki6A/6Ux2AcKwoD/SHtFEZMugP8RpoeEf5aA/QdTOAP7SpD+NQjQ5nymkP1hVftm2kpU/lrAqbvxepz8eJ33vQNizP2be7dKGjr0/+kZvpfGVwz/j+DMLVyDIP8liNznqH8w/UGBnvJNa0D/1MPrH3+LSP9/K4nd7udQ/WWg5OOws1j8A2c8HufvXP+QPhPq1zNk/z+bGV1Dl2z/0SixYEvndP9BDYkSz4N8/dv218wS54D9fHI8mpXThP2SM8G6bNeI/q2n9dBfi4j8lPG0wN3HjP8athoulSuQ/XZZuxhQQ5T+b4kApd3zlPznnpS0CleY/6YMPsFfC5z8/iTPArfToP0JZ+ilMJOo/krSVtpNM6z8qaYTwr2TsP2LQjkxKUO0/MM9nEBsp7j/PrqYfvjLvPxOVnYynHvA/sey2fL+C8D9AUNhROObwP4culuY+QPE/03SOrqmN8T/urM07YtLxP8vhyAbhD/I/0yYV4NZE8j8Xsuu3lnLyP4AmRZbGoPI/bX/sGyfE8j8=",
           "dtype": "f8"
          },
          "type": "data"
         },
         "hovertemplate": "C=%{x}<br>deviance=%{y}<extra></extra>",
         "legendgroup": "",
         "line": {
          "color": "#636efa",
          "dash": "solid"
         },
         "marker": {
          "symbol": "circle"
         },
         "mode": "lines",
         "name": "",
         "orientation": "v",
         "showlegend": false,
         "type": "scatter",
         "x": {
          "bdata": "8WjjiLX45D4azGD7tRzoPiS/eBQeues+XHbY4vXf7z6K8E5f/FLyPkGG4Gd+EfU+Y7i0CjU5+D6Oa0eg4dn7PqEgUsPQAgA/JTAhS6RoAj/DhGORZCoFP/FTg8fVVQg/7T6x5Mv6Cz8JT8PXvBUQPwFQ5M5lfhI/M1QKKGhDFT+UsZlZmHIYP6UueQ/dGxw/53MOSb8oID9JjtcIQZQiP7bNm06JXCU/9+3z6HyPKD9URZhOFT0sPw9UoTHYOzA/dehdFzaqMj8D5AcoyHU1PwhnvZ2DrDg/aeI90HRePD878AisB09AP05F/hhFwEI/8tNn1ySPRT/I81CgrMlIP3v6z8L7f0w//Knx0k1iUD90n2MsbtZSP1RV/n+fqFU/eBw5GfjmWD/fV+tUqqFcP+hoJ8GqdWA/EzBdcLHsYj8NzDdFOMJlPwNTMDFmBGk/QttjtYDDbD+zv5WRHolwP5WZ3gMPA3M/KXmqSu/bdT9/KyER9yF5PwG9RBN/5Xw/yBFIX6mcgD+8EgAGhxmDP3GsFrTE9YU/GJUm4qo/iT9SztCdpQeNP7u4aUVLsJA/7pH+lRkwkz8q9maluA+WP1gTjM2BXZk/NruChPQpnT8iKkZfBMSgP374O9PGRqM/4liwQssppj9c9838e3upP0lMDfdrTK0/lR1JyNTXsD91Pj/djl2zP7B7MrD8Q7Y/mpmZmZmZuT8lqVslDG+9P6qy/pu868A/PZ6003F0wz+g3FcSTV7GP+OTzc3at8k/FZuRP9WRzT9vlxP2u//QP+DAbdZvi9M/UgO2jbx41j+Q+3nDP9bZP/jPC3bHtN0/qC5V8tIT4T/76WEFiaLjP6mzDUdLk+Y/yZvgpMj06T9FHWD54tftP7i2sawBKPE/eySugL258z8wIUtj+a32P50wdZx1E/o//MNd+if7/T9VcDhBSDwBQCJvlWgN0QNASSKGB8fIBkDdod3URjIKQE60DaqWHg5AccUZzKZQEUA/6YDdeOgTQJljAlm04xZAOT7yeDxRGkCW0bI5L0IeQKJwp2kdZSFAAAAAAAAAJEA=",
          "dtype": "f8"
         },
         "xaxis": "x",
         "y": {
          "bdata": "/nt2r7KJDEDDOdcYZIgMQMu4PA0HiAxA6KnWAcOHDEBquFFg84YMQIqE4VmthwxABQf2BeKFDEAD5LPUEYcMQECLkGbDhQxARq+gGP6HDEBb3S2aMooMQAXhB0vNiQxAhQFTXZKFDEBGfenAJoYMQO7Yf5JOhwxALSmbkTWHDEDKltZucXsMQHb5x1cdbQxACoquN3qADECLo2ACnHgMQCVdi/VMZgxAoI1a7a5gDEAjWQlFXGAMQG0B/dYvQQxAI+yfrSdcDECOxZVufz0MQJv9Nwr2RgxAng/QyfgPDEB7wnvkrVoLQCgN3fNhjgpAEM0Wo1r4CUAPuNxyz4YJQD6lzrDsMAlACfrSPBTvCEDY6Tks8r0IQK4aFklVlwhAUI4xjFF6CEDxUqM67mQIQJmDnNxTVQhAzaaw65pJCEDYAtA+IUEIQCIGJvfZOghAx49s+2w2CED4IoOWKzMIQJIo7inPMAhACnx2yyIvCEASg0/78C0IQP6XGJsPLQhAzTbRs3YsCEDE8WvFCywIQOsMPoHHKwhA4m5KJq8rCECOMM3dTCsIQLrImlomKwhAaseqxlgjCEACIk90cvEHQKU75jIybAdAzpVam8UGB0BMn4fFN7QGQOU2RjYrewZAemSz0ChbBkDcdB78LzwGQCjbLzNPDgZARTRbgazeBUBuE3iq46cFQB4DnlpHcwVArIPfFVc7BUDDy+BZlQQFQIsgFw570gRAJgtOiwWjBEAawgXPdW0EQD/CJI/sOARAZiE8qgEDBECqOReMRsoDQIlFTgHFngNAyT6/PN54A0AO9Q1AtFQDQFme4nRuQANAdYyrIB8uA0CvrWRp4hEDQLFN0F+2BgNASVhwR0EGA0CtMg/HigwDQF1dH2gVFgNAlrWiub4gA0AIJVrGiC0DQFc94/TIQwNAGQJVB/xbA0CwB678VH8DQI5lEss6qANAW8XDLqvHA0BatdI+jugDQM5QH4KWCQRAisu3d/wmBEBKiBlKD0IEQOrU1HnVWgRAtnT65LlwBEDzsDEkHYQEQEK4bTVDlwRAUSvuZ8GmBEA=",
          "dtype": "f8"
         },
         "yaxis": "y"
        }
       ],
       "layout": {
        "legend": {
         "tracegroupgap": 0
        },
        "margin": {
         "t": 60
        },
        "template": {
         "data": {
          "bar": [
           {
            "error_x": {
             "color": "#2a3f5f"
            },
            "error_y": {
             "color": "#2a3f5f"
            },
            "marker": {
             "line": {
              "color": "#E5ECF6",
              "width": 0.5
             },
             "pattern": {
              "fillmode": "overlay",
              "size": 10,
              "solidity": 0.2
             }
            },
            "type": "bar"
           }
          ],
          "barpolar": [
           {
            "marker": {
             "line": {
              "color": "#E5ECF6",
              "width": 0.5
             },
             "pattern": {
              "fillmode": "overlay",
              "size": 10,
              "solidity": 0.2
             }
            },
            "type": "barpolar"
           }
          ],
          "carpet": [
           {
            "aaxis": {
             "endlinecolor": "#2a3f5f",
             "gridcolor": "white",
             "linecolor": "white",
             "minorgridcolor": "white",
             "startlinecolor": "#2a3f5f"
            },
            "baxis": {
             "endlinecolor": "#2a3f5f",
             "gridcolor": "white",
             "linecolor": "white",
             "minorgridcolor": "white",
             "startlinecolor": "#2a3f5f"
            },
            "type": "carpet"
           }
          ],
          "choropleth": [
           {
            "colorbar": {
             "outlinewidth": 0,
             "ticks": ""
            },
            "type": "choropleth"
           }
          ],
          "contour": [
           {
            "colorbar": {
             "outlinewidth": 0,
             "ticks": ""
            },
            "colorscale": [
             [
              0,
              "#0d0887"
             ],
             [
              0.1111111111111111,
              "#46039f"
             ],
             [
              0.2222222222222222,
              "#7201a8"
             ],
             [
              0.3333333333333333,
              "#9c179e"
             ],
             [
              0.4444444444444444,
              "#bd3786"
             ],
             [
              0.5555555555555556,
              "#d8576b"
             ],
             [
              0.6666666666666666,
              "#ed7953"
             ],
             [
              0.7777777777777778,
              "#fb9f3a"
             ],
             [
              0.8888888888888888,
              "#fdca26"
             ],
             [
              1,
              "#f0f921"
             ]
            ],
            "type": "contour"
           }
          ],
          "contourcarpet": [
           {
            "colorbar": {
             "outlinewidth": 0,
             "ticks": ""
            },
            "type": "contourcarpet"
           }
          ],
          "heatmap": [
           {
            "colorbar": {
             "outlinewidth": 0,
             "ticks": ""
            },
            "colorscale": [
             [
              0,
              "#0d0887"
             ],
             [
              0.1111111111111111,
              "#46039f"
             ],
             [
              0.2222222222222222,
              "#7201a8"
             ],
             [
              0.3333333333333333,
              "#9c179e"
             ],
             [
              0.4444444444444444,
              "#bd3786"
             ],
             [
              0.5555555555555556,
              "#d8576b"
             ],
             [
              0.6666666666666666,
              "#ed7953"
             ],
             [
              0.7777777777777778,
              "#fb9f3a"
             ],
             [
              0.8888888888888888,
              "#fdca26"
             ],
             [
              1,
              "#f0f921"
             ]
            ],
            "type": "heatmap"
           }
          ],
          "histogram": [
           {
            "marker": {
             "pattern": {
              "fillmode": "overlay",
              "size": 10,
              "solidity": 0.2
             }
            },
            "type": "histogram"
           }
          ],
          "histogram2d": [
           {
            "colorbar": {
             "outlinewidth": 0,
             "ticks": ""
            },
            "colorscale": [
             [
              0,
              "#0d0887"
             ],
             [
              0.1111111111111111,
              "#46039f"
             ],
             [
              0.2222222222222222,
              "#7201a8"
             ],
             [
              0.3333333333333333,
              "#9c179e"
             ],
             [
              0.4444444444444444,
              "#bd3786"
             ],
             [
              0.5555555555555556,
              "#d8576b"
             ],
             [
              0.6666666666666666,
              "#ed7953"
             ],
             [
              0.7777777777777778,
              "#fb9f3a"
             ],
             [
              0.8888888888888888,
              "#fdca26"
             ],
             [
              1,
              "#f0f921"
             ]
            ],
            "type": "histogram2d"
           }
          ],
          "histogram2dcontour": [
           {
            "colorbar": {
             "outlinewidth": 0,
             "ticks": ""
            },
            "colorscale": [
             [
              0,
              "#0d0887"
             ],
             [
              0.1111111111111111,
              "#46039f"
             ],
             [
              0.2222222222222222,
              "#7201a8"
             ],
             [
              0.3333333333333333,
              "#9c179e"
             ],
             [
              0.4444444444444444,
              "#bd3786"
             ],
             [
              0.5555555555555556,
              "#d8576b"
             ],
             [
              0.6666666666666666,
              "#ed7953"
             ],
             [
              0.7777777777777778,
              "#fb9f3a"
             ],
             [
              0.8888888888888888,
              "#fdca26"
             ],
             [
              1,
              "#f0f921"
             ]
            ],
            "type": "histogram2dcontour"
           }
          ],
          "mesh3d": [
           {
            "colorbar": {
             "outlinewidth": 0,
             "ticks": ""
            },
            "type": "mesh3d"
           }
          ],
          "parcoords": [
           {
            "line": {
             "colorbar": {
              "outlinewidth": 0,
              "ticks": ""
             }
            },
            "type": "parcoords"
           }
          ],
          "pie": [
           {
            "automargin": true,
            "type": "pie"
           }
          ],
          "scatter": [
           {
            "fillpattern": {
             "fillmode": "overlay",
             "size": 10,
             "solidity": 0.2
            },
            "type": "scatter"
           }
          ],
          "scatter3d": [
           {
            "line": {
             "colorbar": {
              "outlinewidth": 0,
              "ticks": ""
             }
            },
            "marker": {
             "colorbar": {
              "outlinewidth": 0,
              "ticks": ""
             }
            },
            "type": "scatter3d"
           }
          ],
          "scattercarpet": [
           {
            "marker": {
             "colorbar": {
              "outlinewidth": 0,
              "ticks": ""
             }
            },
            "type": "scattercarpet"
           }
          ],
          "scattergeo": [
           {
            "marker": {
             "colorbar": {
              "outlinewidth": 0,
              "ticks": ""
             }
            },
            "type": "scattergeo"
           }
          ],
          "scattergl": [
           {
            "marker": {
             "colorbar": {
              "outlinewidth": 0,
              "ticks": ""
             }
            },
            "type": "scattergl"
           }
          ],
          "scattermap": [
           {
            "marker": {
             "colorbar": {
              "outlinewidth": 0,
              "ticks": ""
             }
            },
            "type": "scattermap"
           }
          ],
          "scattermapbox": [
           {
            "marker": {
             "colorbar": {
              "outlinewidth": 0,
              "ticks": ""
             }
            },
            "type": "scattermapbox"
           }
          ],
          "scatterpolar": [
           {
            "marker": {
             "colorbar": {
              "outlinewidth": 0,
              "ticks": ""
             }
            },
            "type": "scatterpolar"
           }
          ],
          "scatterpolargl": [
           {
            "marker": {
             "colorbar": {
              "outlinewidth": 0,
              "ticks": ""
             }
            },
            "type": "scatterpolargl"
           }
          ],
          "scatterternary": [
           {
            "marker": {
             "colorbar": {
              "outlinewidth": 0,
              "ticks": ""
             }
            },
            "type": "scatterternary"
           }
          ],
          "surface": [
           {
            "colorbar": {
             "outlinewidth": 0,
             "ticks": ""
            },
            "colorscale": [
             [
              0,
              "#0d0887"
             ],
             [
              0.1111111111111111,
              "#46039f"
             ],
             [
              0.2222222222222222,
              "#7201a8"
             ],
             [
              0.3333333333333333,
              "#9c179e"
             ],
             [
              0.4444444444444444,
              "#bd3786"
             ],
             [
              0.5555555555555556,
              "#d8576b"
             ],
             [
              0.6666666666666666,
              "#ed7953"
             ],
             [
              0.7777777777777778,
              "#fb9f3a"
             ],
             [
              0.8888888888888888,
              "#fdca26"
             ],
             [
              1,
              "#f0f921"
             ]
            ],
            "type": "surface"
           }
          ],
          "table": [
           {
            "cells": {
             "fill": {
              "color": "#EBF0F8"
             },
             "line": {
              "color": "white"
             }
            },
            "header": {
             "fill": {
              "color": "#C8D4E3"
             },
             "line": {
              "color": "white"
             }
            },
            "type": "table"
           }
          ]
         },
         "layout": {
          "annotationdefaults": {
           "arrowcolor": "#2a3f5f",
           "arrowhead": 0,
           "arrowwidth": 1
          },
          "autotypenumbers": "strict",
          "coloraxis": {
           "colorbar": {
            "outlinewidth": 0,
            "ticks": ""
           }
          },
          "colorscale": {
           "diverging": [
            [
             0,
             "#8e0152"
            ],
            [
             0.1,
             "#c51b7d"
            ],
            [
             0.2,
             "#de77ae"
            ],
            [
             0.3,
             "#f1b6da"
            ],
            [
             0.4,
             "#fde0ef"
            ],
            [
             0.5,
             "#f7f7f7"
            ],
            [
             0.6,
             "#e6f5d0"
            ],
            [
             0.7,
             "#b8e186"
            ],
            [
             0.8,
             "#7fbc41"
            ],
            [
             0.9,
             "#4d9221"
            ],
            [
             1,
             "#276419"
            ]
           ],
           "sequential": [
            [
             0,
             "#0d0887"
            ],
            [
             0.1111111111111111,
             "#46039f"
            ],
            [
             0.2222222222222222,
             "#7201a8"
            ],
            [
             0.3333333333333333,
             "#9c179e"
            ],
            [
             0.4444444444444444,
             "#bd3786"
            ],
            [
             0.5555555555555556,
             "#d8576b"
            ],
            [
             0.6666666666666666,
             "#ed7953"
            ],
            [
             0.7777777777777778,
             "#fb9f3a"
            ],
            [
             0.8888888888888888,
             "#fdca26"
            ],
            [
             1,
             "#f0f921"
            ]
           ],
           "sequentialminus": [
            [
             0,
             "#0d0887"
            ],
            [
             0.1111111111111111,
             "#46039f"
            ],
            [
             0.2222222222222222,
             "#7201a8"
            ],
            [
             0.3333333333333333,
             "#9c179e"
            ],
            [
             0.4444444444444444,
             "#bd3786"
            ],
            [
             0.5555555555555556,
             "#d8576b"
            ],
            [
             0.6666666666666666,
             "#ed7953"
            ],
            [
             0.7777777777777778,
             "#fb9f3a"
            ],
            [
             0.8888888888888888,
             "#fdca26"
            ],
            [
             1,
             "#f0f921"
            ]
           ]
          },
          "colorway": [
           "#636efa",
           "#EF553B",
           "#00cc96",
           "#ab63fa",
           "#FFA15A",
           "#19d3f3",
           "#FF6692",
           "#B6E880",
           "#FF97FF",
           "#FECB52"
          ],
          "font": {
           "color": "#2a3f5f"
          },
          "geo": {
           "bgcolor": "white",
           "lakecolor": "white",
           "landcolor": "#E5ECF6",
           "showlakes": true,
           "showland": true,
           "subunitcolor": "white"
          },
          "hoverlabel": {
           "align": "left"
          },
          "hovermode": "closest",
          "mapbox": {
           "style": "light"
          },
          "paper_bgcolor": "white",
          "plot_bgcolor": "#E5ECF6",
          "polar": {
           "angularaxis": {
            "gridcolor": "white",
            "linecolor": "white",
            "ticks": ""
           },
           "bgcolor": "#E5ECF6",
           "radialaxis": {
            "gridcolor": "white",
            "linecolor": "white",
            "ticks": ""
           }
          },
          "scene": {
           "xaxis": {
            "backgroundcolor": "#E5ECF6",
            "gridcolor": "white",
            "gridwidth": 2,
            "linecolor": "white",
            "showbackground": true,
            "ticks": "",
            "zerolinecolor": "white"
           },
           "yaxis": {
            "backgroundcolor": "#E5ECF6",
            "gridcolor": "white",
            "gridwidth": 2,
            "linecolor": "white",
            "showbackground": true,
            "ticks": "",
            "zerolinecolor": "white"
           },
           "zaxis": {
            "backgroundcolor": "#E5ECF6",
            "gridcolor": "white",
            "gridwidth": 2,
            "linecolor": "white",
            "showbackground": true,
            "ticks": "",
            "zerolinecolor": "white"
           }
          },
          "shapedefaults": {
           "line": {
            "color": "#2a3f5f"
           }
          },
          "ternary": {
           "aaxis": {
            "gridcolor": "white",
            "linecolor": "white",
            "ticks": ""
           },
           "baxis": {
            "gridcolor": "white",
            "linecolor": "white",
            "ticks": ""
           },
           "bgcolor": "#E5ECF6",
           "caxis": {
            "gridcolor": "white",
            "linecolor": "white",
            "ticks": ""
           }
          },
          "title": {
           "x": 0.05
          },
          "xaxis": {
           "automargin": true,
           "gridcolor": "white",
           "linecolor": "white",
           "ticks": "",
           "title": {
            "standoff": 15
           },
           "zerolinecolor": "white",
           "zerolinewidth": 2
          },
          "yaxis": {
           "automargin": true,
           "gridcolor": "white",
           "linecolor": "white",
           "ticks": "",
           "title": {
            "standoff": 15
           },
           "zerolinecolor": "white",
           "zerolinewidth": 2
          }
         }
        },
        "title": {
         "text": "Lasso Cross-Validation Results"
        },
        "xaxis": {
         "anchor": "y",
         "domain": [
          0,
          1
         ],
         "title": {
          "text": "C"
         },
         "type": "log"
        },
        "yaxis": {
         "anchor": "x",
         "domain": [
          0,
          1
         ],
         "title": {
          "text": "Deviance"
         }
        }
       }
      }
     },
     "metadata": {},
     "output_type": "display_data"
    }
   ],
   "source": [
    "cv_results = pd.DataFrame({'C': Cs,\n",
    "                           'deviance': deviance_mean,\n",
    "                           'std_error': deviance_std})\n",
    "\n",
    "fig = px.line(cv_results, x='C', y='deviance')\n",
    "fig.update_layout(title='Lasso Cross-Validation Results',\n",
    "                  xaxis_title='C',\n",
    "                  xaxis_type='log',\n",
    "                  yaxis_title='Deviance')\n",
    "fig.update_traces(error_y=dict(type='data', array=cv_results['std_error']))\n",
    "\n",
    "\n",
    "fig.show()"
   ]
  },
  {
   "cell_type": "markdown",
   "metadata": {
    "id": "2W2-PizQyIX4"
   },
   "source": [
    "## Divide-and-Conquer"
   ]
  },
  {
   "cell_type": "code",
   "execution_count": 64,
   "metadata": {
    "id": "l_O73sViyQgY"
   },
   "outputs": [],
   "source": [
    "skf = StratifiedKFold(n_splits=5, shuffle=True, random_state=42)\n",
    "Cs = np.logspace(-5, 2, 100)\n",
    "deviance_mean_dict = {'Con' :[], 'Head':[], 'Tabl':[], 'Veh':[], 'WinF':[], 'WinNF':[]}\n",
    "deviance_std_dict = {'Con' :[], 'Head':[], 'Tabl':[], 'Veh':[], 'WinF':[], 'WinNF':[]}\n",
    "\n",
    "for C in Cs:\n",
    "  deviances_dict = {'Con' :[], 'Head':[], 'Tabl':[], 'Veh':[], 'WinF':[], 'WinNF':[]}\n",
    "  for train_index, test_index in skf.split(X, y): # type: ignore\n",
    "    X_train, X_test = X[train_index], X[test_index] # type: ignore\n",
    "    y_train, y_test = y[train_index], y[test_index]\n",
    "\n",
    "    # Create and Fit Multinomial Logistic Regression Model\n",
    "    lasso_mlogreg = LogisticRegression(solver='saga', penalty='l1', max_iter=10000, C=C)\n",
    "    lasso_mlogreg.fit(X_train, y_train)\n",
    "    y_pred_proba = lasso_mlogreg.predict_proba(X_test)\n",
    "    y_names = lasso_mlogreg.classes_.tolist()\n",
    "    for index, y_name in enumerate(y_names):\n",
    "      y_pred = y_pred_proba[:, index]\n",
    "      y_true = (y_test == y_name)\n",
    "      deviances_dict[y_name].append(sy_logit_deviance(y_true, y_pred))\n",
    "  for key, value in deviances_dict.items():\n",
    "    deviance_mean_dict[key].append(np.mean(value))\n",
    "    deviance_std_dict[key].append(np.std(value))\n",
    "\n",
    "\n"
   ]
  },
  {
   "cell_type": "code",
   "execution_count": 65,
   "metadata": {
    "colab": {
     "base_uri": "https://localhost:8080/",
     "height": 542
    },
    "executionInfo": {
     "elapsed": 310,
     "status": "ok",
     "timestamp": 1691998772725,
     "user": {
      "displayName": "Yong Song",
      "userId": "00576951217859821315"
     },
     "user_tz": -600
    },
    "id": "Z_OM0F3V-Ie2",
    "outputId": "0a2c4fbd-056a-4741-b194-cb4f4142ab30"
   },
   "outputs": [
    {
     "data": {
      "application/vnd.plotly.v1+json": {
       "config": {
        "plotlyServerURL": "https://plot.ly"
       },
       "data": [
        {
         "error_y": {
          "array": {
           "bdata": "zHjBuixn+D9DxfraBGf4PzeNVwm1fvg/UueXpB39+D+GYF7lm0v4PwQgN3hVmvg/YGcEwq5/+D+kwFEyy274P5J1av0atPg/0QRCbM6U+D85mnV6Rzz4P/HJnb5tb/g/LzH+8RuU+D+1crGju8v4P3er+z/QHPk/nIOn7qS1+D9qsBt6+l/3PwPYVeE9nvc/3+yACBeE+D9Xl4vjlY/3P8JV2R2ooPg/xwAdbXlQ+D/rX+PI/qb4PyP3IlWfBvo/dU1FW0Ou+j+mfm20chD8P4kKM5hoqP0/LJg4twkd/z8G7AmrKycAQGBTdh4kywBA9QkqkkVxAUDALDPFW/wBQMkFIC8BggJAm6lM4r34AkAPFuKQWFoDQFQ2E+F8rQNAtEqDC3TzA0Ce7Z4VtiwEQHKh4c62WgRAtjoZJ7yABEBZ1yN4/J4EQDZE8wuetgRAGngdC9jJBEDwaqjf1dcEQILMqhjt4QRAMfEPTC/nBECJCvcG4PUEQC+tix5ZDAVAejxNMf5gBUCr/lANKJcFQBYw5wtG/wVAYBawZP+LBkCsfOqw5QcHQCcBTjwnpAZA+hO5Zz9jBEAsD4eDJK4EQMMx+7x3aARALNzKoOL9BEDec8EqFEQGQE6GpUJqjQdAGu6i234ZDED+KJlQGoYQQN3np52hShNAublK9AGTFkD7wEy2keUZQNykFXgMHh1Ac96AtsE7IEDkS61NTU0hQGUVy+/BHyJA4KDr347sIkA9BAoGhpYjQPvkqqQpIiRAo1iGdIqtJEBvcSrq1kAlQPki7m2r0CVAuFFSpPhZJkC8leUc19YmQHSWTEZBTSdAeK4DhgvDJ0DSLViL3ikoQIgwZcK/hihArbpeRLffKEC1LSFW5jEpQHxXnUG3dylAavxURVO1KUBWNCx2IOkpQLtwJuixFypAjm0ynEA7KkDPY9Py7FsqQK5lJQEIdipA4z3t5CGMKkBTVdeCdKAqQJKLjXKFrypAbsdQWri9KkD/lzzX98sqQEEVhsk51CpAWIreIBTeKkCu8PaDCeMqQJojFIx66ipArpkkcAXvKkA=",
           "dtype": "f8"
          },
          "type": "data"
         },
         "hovertemplate": "C=%{x}<br>deviance=%{y}<extra></extra>",
         "legendgroup": "",
         "line": {
          "color": "#636efa",
          "dash": "solid"
         },
         "marker": {
          "symbol": "circle"
         },
         "mode": "lines",
         "name": "",
         "orientation": "v",
         "showlegend": false,
         "type": "scatter",
         "x": {
          "bdata": "8WjjiLX45D6cbSEI9q3oPsky61UNC+0++ArjPtQW8T6T+2XlWRz0PqYcIySkqvc+jmtHoOHZ+z4mnL/JQ2MAP0yscKoJSQM/u07+DPexBj8pgXZ+PLUKPw2LHTMkbg8/AVDkzmV+Ej/P4+XrfsMVP1bAZlOanBk/IP84euMjHj+4pjcwE7whPxF+MoHQ3iQ/9+3z6HyPKD/dodvhMOcsP6O7emm6ATE/0Kgm9IQDND83LyQ3a403P8w/tft9tzs/NvAIrAdPQD/50K2kOTFDP+1euS3xlUY/QOkMMkKUSj+ICrAzVUdPP6xAAf+PZ1I/VFX+f5+oVT/IiVOK+nxZP3xcpkKs/l0/TysfUS2mYT9cqLhyC8VkPxjyO2opcWg/QttjtYDDbD+wqQCiuuxwP4NhKKzO6nM/mtY9X1Zwdz9hR3bNRJV7P/RMfIrkOoA/vBIABocZgz+GWmroDXqGP5q5yp1wc4o/lWOHH7Ygjz+ylkBh1lCSP13LeULhjZU/UROMzYFdmT+2adb+otmdPzui5HtikKE/oC/7NWarpD+ixINd+1KoP4c215n8n6w/kB1JyNTXsD+yQY/nNtKzP26K4m9lU7c/jVcc4TVzuz92A0BG2ibAP+xaGarxAcM/oNxXEk1exj+0sGiPx1LKP/iJeLtG+s4//bTR0jg60j+UzV8KRHPVPxBo2ewvPtk/588Ldse03T+SPyWPsnrhP/kasKPgkeQ/Eg6PlPI06D+SjcxYpHzsP7EYULwIw/A/eySugL258z9kxbs8mDb3P48CegJRUfs/bnygwOgSAED1ZthseeoCQF1B/YCuQgZAzqHd1EYyCkAtgKHMBtQOQGz7DjG3IxJARnrqrsdYFUBrG0C4BB8ZQH9Hz28ZkB1AonCnaR1lIUCX9L2UengkQL+NWuEOFyhAfOkdvHdZLECSJDleVq4wQFRqBlJioTNAKMGpme4ZN0DnR6L9lS87QKsSILYf/j9AppBIKh7TQkCdZAoKMidGQHEoXjzuEUpAhv1oGPatTkCJkX1ZUQ1SQAxIhgdsPlVAAAAAAAAAWUA=",
          "dtype": "f8"
         },
         "xaxis": "x",
         "y": {
          "bdata": "Rv72sZ7eN0DWGa3HlOA3QKKBHE714TdAi0Wq0ZndN0CtXC4BXuA3QKra62sc3jdACqgI2PzgN0D13gNd7t83QC2QPFZD4TdAUCXQ7/PfN0D7NiEdUuE3QLdOcEcZ3DdAOrRaVUrfN0AcSaQSeM83QB4UBbDA3DdAukrtw1rVN0CSYZbka843QOrYMUMS0zdAm//XyFXFN0D6eJduXME3QKMH9pec2zdAvxaXj9ewN0Arcf/UWKU3QMzROLfVmjdApunsI8PvNkCNqT7yWB82QALaeNoVezVAIJaUJX0ANUAqZWttvqE0QAKMJm1LWDRAIvKH8UwhNEBG+eRJovkzQMRCoL1l3TNAab8JKtDJM0A4Zkj8Rr0zQD5iIREPtTNAWK7Db9avM0D+xV3HqKwzQFhHY7HbqjNAAn8aM8ypM0Ca9h5SSakzQGb5kMkSqTNAZXmDYQGpM0C2ia5tGqkzQHJS1eNMqTNABonjG7apM0CQ7I57yKkzQPypXaltmTNA9vnfhB2XM0AiV+diK5ozQB5X4rUMkzNAjoZcleCOM0A3SHDW44IzQDmGKem16zJA058djeYhMkDWSKklb30xQPF2eA6F1DBAYBi1MshEMEAa9GUpvcsvQL0VFhLNUi5APtZJ1HouLUB27bJAYIgsQGORx9+1OCxA6nwTZk5JLECyEaK474csQPA/KQTp3yxAU+MF6nhPLUC6HO0oGpEtQGsxPJMZ1y1Ao3oEXnYlLkDl0iJg48YuQF7FV4WreC9A5uUu+KMRMECGCEA1CWcwQOed1piAujBACldurzoHMUARODA6vksxQJ7xN4UfiDFAcuXTcTbBMUCUcNSCbvMxQGWRP/naHjJACwtceO1CMkDUVZKqrWEyQJbtpw4lgDJAwg5FVlGdMkCiWLRgdLQyQJIPaALQyzJA9UTsfFTfMkDothDIVvAyQF23PgtH/jJArDRpsMsKM0AGZGOQmRUzQGQkq+1dHjNAIvXh+wImM0BaUXbb3ywzQLuyYUvbMTNAlrptSiA3M0D4y7NbmTozQPG7bswfPjNASMeDsNBAM0A=",
          "dtype": "f8"
         },
         "yaxis": "y"
        }
       ],
       "layout": {
        "legend": {
         "tracegroupgap": 0
        },
        "margin": {
         "t": 60
        },
        "template": {
         "data": {
          "bar": [
           {
            "error_x": {
             "color": "#2a3f5f"
            },
            "error_y": {
             "color": "#2a3f5f"
            },
            "marker": {
             "line": {
              "color": "#E5ECF6",
              "width": 0.5
             },
             "pattern": {
              "fillmode": "overlay",
              "size": 10,
              "solidity": 0.2
             }
            },
            "type": "bar"
           }
          ],
          "barpolar": [
           {
            "marker": {
             "line": {
              "color": "#E5ECF6",
              "width": 0.5
             },
             "pattern": {
              "fillmode": "overlay",
              "size": 10,
              "solidity": 0.2
             }
            },
            "type": "barpolar"
           }
          ],
          "carpet": [
           {
            "aaxis": {
             "endlinecolor": "#2a3f5f",
             "gridcolor": "white",
             "linecolor": "white",
             "minorgridcolor": "white",
             "startlinecolor": "#2a3f5f"
            },
            "baxis": {
             "endlinecolor": "#2a3f5f",
             "gridcolor": "white",
             "linecolor": "white",
             "minorgridcolor": "white",
             "startlinecolor": "#2a3f5f"
            },
            "type": "carpet"
           }
          ],
          "choropleth": [
           {
            "colorbar": {
             "outlinewidth": 0,
             "ticks": ""
            },
            "type": "choropleth"
           }
          ],
          "contour": [
           {
            "colorbar": {
             "outlinewidth": 0,
             "ticks": ""
            },
            "colorscale": [
             [
              0,
              "#0d0887"
             ],
             [
              0.1111111111111111,
              "#46039f"
             ],
             [
              0.2222222222222222,
              "#7201a8"
             ],
             [
              0.3333333333333333,
              "#9c179e"
             ],
             [
              0.4444444444444444,
              "#bd3786"
             ],
             [
              0.5555555555555556,
              "#d8576b"
             ],
             [
              0.6666666666666666,
              "#ed7953"
             ],
             [
              0.7777777777777778,
              "#fb9f3a"
             ],
             [
              0.8888888888888888,
              "#fdca26"
             ],
             [
              1,
              "#f0f921"
             ]
            ],
            "type": "contour"
           }
          ],
          "contourcarpet": [
           {
            "colorbar": {
             "outlinewidth": 0,
             "ticks": ""
            },
            "type": "contourcarpet"
           }
          ],
          "heatmap": [
           {
            "colorbar": {
             "outlinewidth": 0,
             "ticks": ""
            },
            "colorscale": [
             [
              0,
              "#0d0887"
             ],
             [
              0.1111111111111111,
              "#46039f"
             ],
             [
              0.2222222222222222,
              "#7201a8"
             ],
             [
              0.3333333333333333,
              "#9c179e"
             ],
             [
              0.4444444444444444,
              "#bd3786"
             ],
             [
              0.5555555555555556,
              "#d8576b"
             ],
             [
              0.6666666666666666,
              "#ed7953"
             ],
             [
              0.7777777777777778,
              "#fb9f3a"
             ],
             [
              0.8888888888888888,
              "#fdca26"
             ],
             [
              1,
              "#f0f921"
             ]
            ],
            "type": "heatmap"
           }
          ],
          "histogram": [
           {
            "marker": {
             "pattern": {
              "fillmode": "overlay",
              "size": 10,
              "solidity": 0.2
             }
            },
            "type": "histogram"
           }
          ],
          "histogram2d": [
           {
            "colorbar": {
             "outlinewidth": 0,
             "ticks": ""
            },
            "colorscale": [
             [
              0,
              "#0d0887"
             ],
             [
              0.1111111111111111,
              "#46039f"
             ],
             [
              0.2222222222222222,
              "#7201a8"
             ],
             [
              0.3333333333333333,
              "#9c179e"
             ],
             [
              0.4444444444444444,
              "#bd3786"
             ],
             [
              0.5555555555555556,
              "#d8576b"
             ],
             [
              0.6666666666666666,
              "#ed7953"
             ],
             [
              0.7777777777777778,
              "#fb9f3a"
             ],
             [
              0.8888888888888888,
              "#fdca26"
             ],
             [
              1,
              "#f0f921"
             ]
            ],
            "type": "histogram2d"
           }
          ],
          "histogram2dcontour": [
           {
            "colorbar": {
             "outlinewidth": 0,
             "ticks": ""
            },
            "colorscale": [
             [
              0,
              "#0d0887"
             ],
             [
              0.1111111111111111,
              "#46039f"
             ],
             [
              0.2222222222222222,
              "#7201a8"
             ],
             [
              0.3333333333333333,
              "#9c179e"
             ],
             [
              0.4444444444444444,
              "#bd3786"
             ],
             [
              0.5555555555555556,
              "#d8576b"
             ],
             [
              0.6666666666666666,
              "#ed7953"
             ],
             [
              0.7777777777777778,
              "#fb9f3a"
             ],
             [
              0.8888888888888888,
              "#fdca26"
             ],
             [
              1,
              "#f0f921"
             ]
            ],
            "type": "histogram2dcontour"
           }
          ],
          "mesh3d": [
           {
            "colorbar": {
             "outlinewidth": 0,
             "ticks": ""
            },
            "type": "mesh3d"
           }
          ],
          "parcoords": [
           {
            "line": {
             "colorbar": {
              "outlinewidth": 0,
              "ticks": ""
             }
            },
            "type": "parcoords"
           }
          ],
          "pie": [
           {
            "automargin": true,
            "type": "pie"
           }
          ],
          "scatter": [
           {
            "fillpattern": {
             "fillmode": "overlay",
             "size": 10,
             "solidity": 0.2
            },
            "type": "scatter"
           }
          ],
          "scatter3d": [
           {
            "line": {
             "colorbar": {
              "outlinewidth": 0,
              "ticks": ""
             }
            },
            "marker": {
             "colorbar": {
              "outlinewidth": 0,
              "ticks": ""
             }
            },
            "type": "scatter3d"
           }
          ],
          "scattercarpet": [
           {
            "marker": {
             "colorbar": {
              "outlinewidth": 0,
              "ticks": ""
             }
            },
            "type": "scattercarpet"
           }
          ],
          "scattergeo": [
           {
            "marker": {
             "colorbar": {
              "outlinewidth": 0,
              "ticks": ""
             }
            },
            "type": "scattergeo"
           }
          ],
          "scattergl": [
           {
            "marker": {
             "colorbar": {
              "outlinewidth": 0,
              "ticks": ""
             }
            },
            "type": "scattergl"
           }
          ],
          "scattermap": [
           {
            "marker": {
             "colorbar": {
              "outlinewidth": 0,
              "ticks": ""
             }
            },
            "type": "scattermap"
           }
          ],
          "scattermapbox": [
           {
            "marker": {
             "colorbar": {
              "outlinewidth": 0,
              "ticks": ""
             }
            },
            "type": "scattermapbox"
           }
          ],
          "scatterpolar": [
           {
            "marker": {
             "colorbar": {
              "outlinewidth": 0,
              "ticks": ""
             }
            },
            "type": "scatterpolar"
           }
          ],
          "scatterpolargl": [
           {
            "marker": {
             "colorbar": {
              "outlinewidth": 0,
              "ticks": ""
             }
            },
            "type": "scatterpolargl"
           }
          ],
          "scatterternary": [
           {
            "marker": {
             "colorbar": {
              "outlinewidth": 0,
              "ticks": ""
             }
            },
            "type": "scatterternary"
           }
          ],
          "surface": [
           {
            "colorbar": {
             "outlinewidth": 0,
             "ticks": ""
            },
            "colorscale": [
             [
              0,
              "#0d0887"
             ],
             [
              0.1111111111111111,
              "#46039f"
             ],
             [
              0.2222222222222222,
              "#7201a8"
             ],
             [
              0.3333333333333333,
              "#9c179e"
             ],
             [
              0.4444444444444444,
              "#bd3786"
             ],
             [
              0.5555555555555556,
              "#d8576b"
             ],
             [
              0.6666666666666666,
              "#ed7953"
             ],
             [
              0.7777777777777778,
              "#fb9f3a"
             ],
             [
              0.8888888888888888,
              "#fdca26"
             ],
             [
              1,
              "#f0f921"
             ]
            ],
            "type": "surface"
           }
          ],
          "table": [
           {
            "cells": {
             "fill": {
              "color": "#EBF0F8"
             },
             "line": {
              "color": "white"
             }
            },
            "header": {
             "fill": {
              "color": "#C8D4E3"
             },
             "line": {
              "color": "white"
             }
            },
            "type": "table"
           }
          ]
         },
         "layout": {
          "annotationdefaults": {
           "arrowcolor": "#2a3f5f",
           "arrowhead": 0,
           "arrowwidth": 1
          },
          "autotypenumbers": "strict",
          "coloraxis": {
           "colorbar": {
            "outlinewidth": 0,
            "ticks": ""
           }
          },
          "colorscale": {
           "diverging": [
            [
             0,
             "#8e0152"
            ],
            [
             0.1,
             "#c51b7d"
            ],
            [
             0.2,
             "#de77ae"
            ],
            [
             0.3,
             "#f1b6da"
            ],
            [
             0.4,
             "#fde0ef"
            ],
            [
             0.5,
             "#f7f7f7"
            ],
            [
             0.6,
             "#e6f5d0"
            ],
            [
             0.7,
             "#b8e186"
            ],
            [
             0.8,
             "#7fbc41"
            ],
            [
             0.9,
             "#4d9221"
            ],
            [
             1,
             "#276419"
            ]
           ],
           "sequential": [
            [
             0,
             "#0d0887"
            ],
            [
             0.1111111111111111,
             "#46039f"
            ],
            [
             0.2222222222222222,
             "#7201a8"
            ],
            [
             0.3333333333333333,
             "#9c179e"
            ],
            [
             0.4444444444444444,
             "#bd3786"
            ],
            [
             0.5555555555555556,
             "#d8576b"
            ],
            [
             0.6666666666666666,
             "#ed7953"
            ],
            [
             0.7777777777777778,
             "#fb9f3a"
            ],
            [
             0.8888888888888888,
             "#fdca26"
            ],
            [
             1,
             "#f0f921"
            ]
           ],
           "sequentialminus": [
            [
             0,
             "#0d0887"
            ],
            [
             0.1111111111111111,
             "#46039f"
            ],
            [
             0.2222222222222222,
             "#7201a8"
            ],
            [
             0.3333333333333333,
             "#9c179e"
            ],
            [
             0.4444444444444444,
             "#bd3786"
            ],
            [
             0.5555555555555556,
             "#d8576b"
            ],
            [
             0.6666666666666666,
             "#ed7953"
            ],
            [
             0.7777777777777778,
             "#fb9f3a"
            ],
            [
             0.8888888888888888,
             "#fdca26"
            ],
            [
             1,
             "#f0f921"
            ]
           ]
          },
          "colorway": [
           "#636efa",
           "#EF553B",
           "#00cc96",
           "#ab63fa",
           "#FFA15A",
           "#19d3f3",
           "#FF6692",
           "#B6E880",
           "#FF97FF",
           "#FECB52"
          ],
          "font": {
           "color": "#2a3f5f"
          },
          "geo": {
           "bgcolor": "white",
           "lakecolor": "white",
           "landcolor": "#E5ECF6",
           "showlakes": true,
           "showland": true,
           "subunitcolor": "white"
          },
          "hoverlabel": {
           "align": "left"
          },
          "hovermode": "closest",
          "mapbox": {
           "style": "light"
          },
          "paper_bgcolor": "white",
          "plot_bgcolor": "#E5ECF6",
          "polar": {
           "angularaxis": {
            "gridcolor": "white",
            "linecolor": "white",
            "ticks": ""
           },
           "bgcolor": "#E5ECF6",
           "radialaxis": {
            "gridcolor": "white",
            "linecolor": "white",
            "ticks": ""
           }
          },
          "scene": {
           "xaxis": {
            "backgroundcolor": "#E5ECF6",
            "gridcolor": "white",
            "gridwidth": 2,
            "linecolor": "white",
            "showbackground": true,
            "ticks": "",
            "zerolinecolor": "white"
           },
           "yaxis": {
            "backgroundcolor": "#E5ECF6",
            "gridcolor": "white",
            "gridwidth": 2,
            "linecolor": "white",
            "showbackground": true,
            "ticks": "",
            "zerolinecolor": "white"
           },
           "zaxis": {
            "backgroundcolor": "#E5ECF6",
            "gridcolor": "white",
            "gridwidth": 2,
            "linecolor": "white",
            "showbackground": true,
            "ticks": "",
            "zerolinecolor": "white"
           }
          },
          "shapedefaults": {
           "line": {
            "color": "#2a3f5f"
           }
          },
          "ternary": {
           "aaxis": {
            "gridcolor": "white",
            "linecolor": "white",
            "ticks": ""
           },
           "baxis": {
            "gridcolor": "white",
            "linecolor": "white",
            "ticks": ""
           },
           "bgcolor": "#E5ECF6",
           "caxis": {
            "gridcolor": "white",
            "linecolor": "white",
            "ticks": ""
           }
          },
          "title": {
           "x": 0.05
          },
          "xaxis": {
           "automargin": true,
           "gridcolor": "white",
           "linecolor": "white",
           "ticks": "",
           "title": {
            "standoff": 15
           },
           "zerolinecolor": "white",
           "zerolinewidth": 2
          },
          "yaxis": {
           "automargin": true,
           "gridcolor": "white",
           "linecolor": "white",
           "ticks": "",
           "title": {
            "standoff": 15
           },
           "zerolinecolor": "white",
           "zerolinewidth": 2
          }
         }
        },
        "title": {
         "text": "Lasso Cross-Validation Results: Con"
        },
        "xaxis": {
         "anchor": "y",
         "domain": [
          0,
          1
         ],
         "title": {
          "text": "C"
         },
         "type": "log"
        },
        "yaxis": {
         "anchor": "x",
         "domain": [
          0,
          1
         ],
         "title": {
          "text": "Deviance"
         }
        }
       }
      }
     },
     "metadata": {},
     "output_type": "display_data"
    }
   ],
   "source": [
    "y_name = 'Con'\n",
    "cv_results = pd.DataFrame({'C': Cs,\n",
    "                           'deviance': deviance_mean_dict[y_name],\n",
    "                           'std_error': deviance_std_dict[y_name]})\n",
    "\n",
    "fig = px.line(cv_results, x='C', y='deviance')\n",
    "fig.update_layout(title='Lasso Cross-Validation Results: ' + y_name,\n",
    "                  xaxis_title='C',\n",
    "                  xaxis_type='log',\n",
    "                  yaxis_title='Deviance')\n",
    "fig.update_traces(error_y=dict(type='data', array=cv_results['std_error']))\n",
    "\n",
    "\n",
    "fig.show()"
   ]
  },
  {
   "cell_type": "code",
   "execution_count": 66,
   "metadata": {
    "colab": {
     "base_uri": "https://localhost:8080/",
     "height": 637
    },
    "executionInfo": {
     "elapsed": 923,
     "status": "ok",
     "timestamp": 1722996120874,
     "user": {
      "displayName": "Yong Song",
      "userId": "00576951217859821315"
     },
     "user_tz": -600
    },
    "id": "--_SQ_Vi_sIe",
    "outputId": "b2ef44a3-4613-4134-f553-3223c4a4a451"
   },
   "outputs": [
    {
     "data": {
      "application/vnd.plotly.v1+json": {
       "config": {
        "plotlyServerURL": "https://plot.ly"
       },
       "data": [
        {
         "error_y": {
          "array": {
           "bdata": "zHjBuixn+D9DxfraBGf4PzeNVwm1fvg/UueXpB39+D+GYF7lm0v4PwQgN3hVmvg/YGcEwq5/+D+kwFEyy274P5J1av0atPg/0QRCbM6U+D85mnV6Rzz4P/HJnb5tb/g/LzH+8RuU+D+1crGju8v4P3er+z/QHPk/nIOn7qS1+D9qsBt6+l/3PwPYVeE9nvc/3+yACBeE+D9Xl4vjlY/3P8JV2R2ooPg/xwAdbXlQ+D/rX+PI/qb4PyP3IlWfBvo/dU1FW0Ou+j+mfm20chD8P4kKM5hoqP0/LJg4twkd/z8G7AmrKycAQGBTdh4kywBA9QkqkkVxAUDALDPFW/wBQMkFIC8BggJAm6lM4r34AkAPFuKQWFoDQFQ2E+F8rQNAtEqDC3TzA0Ce7Z4VtiwEQHKh4c62WgRAtjoZJ7yABEBZ1yN4/J4EQDZE8wuetgRAGngdC9jJBEDwaqjf1dcEQILMqhjt4QRAMfEPTC/nBECJCvcG4PUEQC+tix5ZDAVAejxNMf5gBUCr/lANKJcFQBYw5wtG/wVAYBawZP+LBkCsfOqw5QcHQCcBTjwnpAZA+hO5Zz9jBEAsD4eDJK4EQMMx+7x3aARALNzKoOL9BEDec8EqFEQGQE6GpUJqjQdAGu6i234ZDED+KJlQGoYQQN3np52hShNAublK9AGTFkD7wEy2keUZQNykFXgMHh1Ac96AtsE7IEDkS61NTU0hQGUVy+/BHyJA4KDr347sIkA9BAoGhpYjQPvkqqQpIiRAo1iGdIqtJEBvcSrq1kAlQPki7m2r0CVAuFFSpPhZJkC8leUc19YmQHSWTEZBTSdAeK4DhgvDJ0DSLViL3ikoQIgwZcK/hihArbpeRLffKEC1LSFW5jEpQHxXnUG3dylAavxURVO1KUBWNCx2IOkpQLtwJuixFypAjm0ynEA7KkDPY9Py7FsqQK5lJQEIdipA4z3t5CGMKkBTVdeCdKAqQJKLjXKFrypAbsdQWri9KkD/lzzX98sqQEEVhsk51CpAWIreIBTeKkCu8PaDCeMqQJojFIx66ipArpkkcAXvKkA=",
           "dtype": "f8"
          },
          "type": "data"
         },
         "hovertemplate": "C=%{x}<br>deviance=%{y}<extra></extra>",
         "legendgroup": "",
         "line": {
          "color": "#636efa",
          "dash": "solid"
         },
         "marker": {
          "symbol": "circle"
         },
         "mode": "lines",
         "name": "",
         "orientation": "v",
         "showlegend": false,
         "type": "scatter",
         "x": {
          "bdata": "8WjjiLX45D6cbSEI9q3oPsky61UNC+0++ArjPtQW8T6T+2XlWRz0PqYcIySkqvc+jmtHoOHZ+z4mnL/JQ2MAP0yscKoJSQM/u07+DPexBj8pgXZ+PLUKPw2LHTMkbg8/AVDkzmV+Ej/P4+XrfsMVP1bAZlOanBk/IP84euMjHj+4pjcwE7whPxF+MoHQ3iQ/9+3z6HyPKD/dodvhMOcsP6O7emm6ATE/0Kgm9IQDND83LyQ3a403P8w/tft9tzs/NvAIrAdPQD/50K2kOTFDP+1euS3xlUY/QOkMMkKUSj+ICrAzVUdPP6xAAf+PZ1I/VFX+f5+oVT/IiVOK+nxZP3xcpkKs/l0/TysfUS2mYT9cqLhyC8VkPxjyO2opcWg/QttjtYDDbD+wqQCiuuxwP4NhKKzO6nM/mtY9X1Zwdz9hR3bNRJV7P/RMfIrkOoA/vBIABocZgz+GWmroDXqGP5q5yp1wc4o/lWOHH7Ygjz+ylkBh1lCSP13LeULhjZU/UROMzYFdmT+2adb+otmdPzui5HtikKE/oC/7NWarpD+ixINd+1KoP4c215n8n6w/kB1JyNTXsD+yQY/nNtKzP26K4m9lU7c/jVcc4TVzuz92A0BG2ibAP+xaGarxAcM/oNxXEk1exj+0sGiPx1LKP/iJeLtG+s4//bTR0jg60j+UzV8KRHPVPxBo2ewvPtk/588Ldse03T+SPyWPsnrhP/kasKPgkeQ/Eg6PlPI06D+SjcxYpHzsP7EYULwIw/A/eySugL258z9kxbs8mDb3P48CegJRUfs/bnygwOgSAED1ZthseeoCQF1B/YCuQgZAzqHd1EYyCkAtgKHMBtQOQGz7DjG3IxJARnrqrsdYFUBrG0C4BB8ZQH9Hz28ZkB1AonCnaR1lIUCX9L2UengkQL+NWuEOFyhAfOkdvHdZLECSJDleVq4wQFRqBlJioTNAKMGpme4ZN0DnR6L9lS87QKsSILYf/j9AppBIKh7TQkCdZAoKMidGQHEoXjzuEUpAhv1oGPatTkCJkX1ZUQ1SQAxIhgdsPlVAAAAAAAAAWUA=",
          "dtype": "f8"
         },
         "xaxis": "x",
         "y": {
          "bdata": "Rv72sZ7eN0DWGa3HlOA3QKKBHE714TdAi0Wq0ZndN0CtXC4BXuA3QKra62sc3jdACqgI2PzgN0D13gNd7t83QC2QPFZD4TdAUCXQ7/PfN0D7NiEdUuE3QLdOcEcZ3DdAOrRaVUrfN0AcSaQSeM83QB4UBbDA3DdAukrtw1rVN0CSYZbka843QOrYMUMS0zdAm//XyFXFN0D6eJduXME3QKMH9pec2zdAvxaXj9ewN0Arcf/UWKU3QMzROLfVmjdApunsI8PvNkCNqT7yWB82QALaeNoVezVAIJaUJX0ANUAqZWttvqE0QAKMJm1LWDRAIvKH8UwhNEBG+eRJovkzQMRCoL1l3TNAab8JKtDJM0A4Zkj8Rr0zQD5iIREPtTNAWK7Db9avM0D+xV3HqKwzQFhHY7HbqjNAAn8aM8ypM0Ca9h5SSakzQGb5kMkSqTNAZXmDYQGpM0C2ia5tGqkzQHJS1eNMqTNABonjG7apM0CQ7I57yKkzQPypXaltmTNA9vnfhB2XM0AiV+diK5ozQB5X4rUMkzNAjoZcleCOM0A3SHDW44IzQDmGKem16zJA058djeYhMkDWSKklb30xQPF2eA6F1DBAYBi1MshEMEAa9GUpvcsvQL0VFhLNUi5APtZJ1HouLUB27bJAYIgsQGORx9+1OCxA6nwTZk5JLECyEaK474csQPA/KQTp3yxAU+MF6nhPLUC6HO0oGpEtQGsxPJMZ1y1Ao3oEXnYlLkDl0iJg48YuQF7FV4WreC9A5uUu+KMRMECGCEA1CWcwQOed1piAujBACldurzoHMUARODA6vksxQJ7xN4UfiDFAcuXTcTbBMUCUcNSCbvMxQGWRP/naHjJACwtceO1CMkDUVZKqrWEyQJbtpw4lgDJAwg5FVlGdMkCiWLRgdLQyQJIPaALQyzJA9UTsfFTfMkDothDIVvAyQF23PgtH/jJArDRpsMsKM0AGZGOQmRUzQGQkq+1dHjNAIvXh+wImM0BaUXbb3ywzQLuyYUvbMTNAlrptSiA3M0D4y7NbmTozQPG7bswfPjNASMeDsNBAM0A=",
          "dtype": "f8"
         },
         "yaxis": "y"
        },
        {
         "error_y": {
          "array": {
           "bdata": "4dGLxOUJ9z/DUfNP3RL3PxzSxssP8/Y/YORRuZge9z/UNkRA+/z2P3mP1jsV5fY/K4I3NQrw9j/76+k5EPb2P2B3I5+eE/c/wtbvQTbk9j+xRaA5pA73P+w/pfG+6/Y/QDd1mIoK9z+iKzKUidP2PzbG2i6V5vY/J89h0p3h9j920zlapvj2P9b63+2t5vY/82Vmokvl9j/VbYeD8Af3Pwo4oq0Y/vY/ZCSuYrwJ9z/b4LvboOj2Pyd9/ArCCPc/IYixOc9O9z9uxjOIBJH3PxNgQ/1S5fc/NT8t41QL+D9u7CnWgjj4P6JVTT6BUfg/Ubu8RqBh+D9RPqUdG3P4P3LOQy+AhPg/2Z5KEjmW+D+Z+QgxnKj4P84obfp+v/g/DnEwftXX+D/6rYAlAuz4PzE3kJ92/vg/ZPhpVAEN+T/Bj7kofRj5P2bnQgI6Ifk/TzmrYvgn+T8ALkbKoSz5P2VGSBv7L/k/FbK96ckx+T9RuO3LBDP5P5SyLAkqPgFAhrAaIt759D8sVhZfMhPaP0lGAWGnM+I/SDZ9QLC18T/m09VX88f5P078tNgyJwBA2YHC9p6DAUATo5Pn5kkFQG39POg+egNACFc5sGZ0AUAy4u4VS9z/PwLL1w+dZfk/AUinbleb8D/5NpJsqv7WPzhiwdKgZuE/RwHyk9ox9z9rJX8imtMCQI3dlDVlhwpAb9C67H0EEUDdbZ18srwTQGcRt1XOnxZAkYefQdc6GUC4oJezVd8bQDONPhNkix5ApKGteziCIEDVa0UJ7K8hQPBGAhmywiJA8xZlm7DEI0D8ZgO/NrAkQDNZJjlDhSVAjwofaBBAJkDhRrEjJt8mQNZ15CrtZSdArW2C6+TZJ0B4TrnosD0oQAXUj9acmChAbTyQOXbqKEBzHtTyjiopQJJwNv6LaSlAFZ6vdCikKUBhpQorG9cpQNFoBdClASpA6oPZM+UlKkDhd777N0YqQKFiF45BYSpAGy6OFuB3KkBcxk/ukYwqQNfJabkpnCpAtCrSG1WrKkDFgwnjCrcqQPf0U25pwipAv+huw+nJKkA=",
           "dtype": "f8"
          },
          "type": "data"
         },
         "hovertemplate": "C=%{x}<br>deviance=%{y}<extra></extra>",
         "legendgroup": "",
         "line": {
          "color": "#636efa",
          "dash": "solid"
         },
         "marker": {
          "symbol": "circle"
         },
         "mode": "lines",
         "name": "",
         "orientation": "v",
         "showlegend": false,
         "type": "scatter",
         "x": {
          "bdata": "8WjjiLX45D6cbSEI9q3oPsky61UNC+0++ArjPtQW8T6T+2XlWRz0PqYcIySkqvc+jmtHoOHZ+z4mnL/JQ2MAP0yscKoJSQM/u07+DPexBj8pgXZ+PLUKPw2LHTMkbg8/AVDkzmV+Ej/P4+XrfsMVP1bAZlOanBk/IP84euMjHj+4pjcwE7whPxF+MoHQ3iQ/9+3z6HyPKD/dodvhMOcsP6O7emm6ATE/0Kgm9IQDND83LyQ3a403P8w/tft9tzs/NvAIrAdPQD/50K2kOTFDP+1euS3xlUY/QOkMMkKUSj+ICrAzVUdPP6xAAf+PZ1I/VFX+f5+oVT/IiVOK+nxZP3xcpkKs/l0/TysfUS2mYT9cqLhyC8VkPxjyO2opcWg/QttjtYDDbD+wqQCiuuxwP4NhKKzO6nM/mtY9X1Zwdz9hR3bNRJV7P/RMfIrkOoA/vBIABocZgz+GWmroDXqGP5q5yp1wc4o/lWOHH7Ygjz+ylkBh1lCSP13LeULhjZU/UROMzYFdmT+2adb+otmdPzui5HtikKE/oC/7NWarpD+ixINd+1KoP4c215n8n6w/kB1JyNTXsD+yQY/nNtKzP26K4m9lU7c/jVcc4TVzuz92A0BG2ibAP+xaGarxAcM/oNxXEk1exj+0sGiPx1LKP/iJeLtG+s4//bTR0jg60j+UzV8KRHPVPxBo2ewvPtk/588Ldse03T+SPyWPsnrhP/kasKPgkeQ/Eg6PlPI06D+SjcxYpHzsP7EYULwIw/A/eySugL258z9kxbs8mDb3P48CegJRUfs/bnygwOgSAED1ZthseeoCQF1B/YCuQgZAzqHd1EYyCkAtgKHMBtQOQGz7DjG3IxJARnrqrsdYFUBrG0C4BB8ZQH9Hz28ZkB1AonCnaR1lIUCX9L2UengkQL+NWuEOFyhAfOkdvHdZLECSJDleVq4wQFRqBlJioTNAKMGpme4ZN0DnR6L9lS87QKsSILYf/j9AppBIKh7TQkCdZAoKMidGQHEoXjzuEUpAhv1oGPatTkCJkX1ZUQ1SQAxIhgdsPlVAAAAAAAAAWUA=",
          "dtype": "f8"
         },
         "xaxis": "x2",
         "y": {
          "bdata": "mGjldPIhQUBzq5XpeiFBQKZNSmmKIUFA9jC8vCMhQUDTVCJsfyJBQDj2r07wIkFAE9VFPiYiQUBRJ1Z6biJBQEKxcGzTIUFABmg5SFMiQUAKpZsqUiJBQENShW7RIkFAijpkJj8hQUC1SQekmCFBQBrUfn1CIkFAfheJZREiQUC1k/tityFBQM5LbQpJIkFAN8oA7LghQUAW+M4YwyBBQP2HMrY+IkFAkpapC4YgQUAf0TSrbSBBQN1pSnnYH0FAolJNMnkXQUBw6owtDA5BQH9SeEuKB0FAjN5WFycEQUB410KKzwFBQN3C7FelAEFA3xRPvOf/QEBizjbpU/9AQAVVejzZ/kBAy/LfjGD+QEDvK/Wi+P1AQGJY9F2N/UBAaOaGyS/9QEDqQk/p8vxAQAtX513F/EBA+3ntiKz8QEDGzd+YnvxAQPZk3K+V/EBAaqZWapL8QEB2iaK8jvxAQDVytvOJ/EBAU6E37YD8QEDKXf88ivxAQKhV2Cpoq0BAXckLSgtJPkDNUJ6I3sY7QB11UKl54DlAzn/ro7dPOEDWZIP5fBI3QBZv1v6R8jVAek1cHqLaNEBEnMTseMEzQG6GX+2oSDJA40eUO5sfMUBfVz05pUIwQOLX0RD2Ei9A2J7vC0bgLUAaXJcZtiwtQEKzzY955CxAuBoPXvSqLEC7BsiE+WgsQP62/adSKCxAGq4jgfcNLEC9xLS5PPIrQNo1lzmDBCxAqwTLl74WLEDgVN5EjyYsQD2S/Ax7JSxAqE0V0EgyLEAYPYKCalEsQEbOT1EngCxAVoYl3DqiLEAKp0mMg8YsQLsTvKU55ixAoKbeTe0DLUDi+I3PQCktQNUqLMUlVS1Aq0ZvluZ6LUCVIRYKg5ctQJ71iqWzsS1ADtj3xp7LLUA98EtLd+AtQCIfvZNB9i1Ak4HkeCsMLkCYNXhboB8uQMJLMj20Ly5AIO6F1ls9LkBDf64+S0ouQOA9F03FVC5AE9ZyG7ldLkBb6vaC52UuQJuPWgv6ay5AltuQ+TRyLkC+IOAuaXYuQFUFW5yGey5AQq5MZcZ9LkA=",
          "dtype": "f8"
         },
         "yaxis": "y2"
        },
        {
         "error_y": {
          "array": {
           "bdata": "5ueDoAoG9D+v6Vnboy30P0OxeiFXFfQ/mllCuZsw9D9abCCcyDD0P1Lb45VlNPQ/03xPpRZP9D8//RJHXCv0P8A0fGvhSvQ/ihgv6URZ9D+c+pAc5kb0P8LDlD2EePQ/ldXMuUUu9D83+RxDR5zzP7IH0Nm03PM/1rbJukOZ8z9Pf1RGsBH1P3uuz7Fi6PU/AlK+q5D+9T80TWypTQP2P+Z+pgGiFfU/KXbksTZg9D9jiXpkpg31P2GqtuexqfQ/+uulr8T48z+ZrvnsGMH1P6zY1tO/MPc/dV2X8LbT+D987ZvfWZL6P9k2DeYP8Ps/lGHiQF5H/T+3h/WBypP+PzsBIXhTrf8/11bdRlBVAEBzjJ3uMMYAQMnQZSbSKQFAKnC4jVt/AUDDYwoezMkBQKWhKHMJCQJAyJ1fv9tAAkCBxiElHHACQOEEEcTRlwJAWbRjL5G5AkBFvZOXg9UCQBlHELBs7AJA3JmeI//+AkADD9kf0Q8DQCOTvba7xwJAHcQ+E2+aAkBJvH0dipECQM/oF5typgJAQUDwAUbLAkDkXCyjOPsCQO93BLoXqgNAC/LjJO9+BEDemMAMAGEGQAp2K++WpghAQSfs3vTVC0AR7W5QPS8NQCjyWE7U5gxAxqrX3XfEC0DZoNwvlQEIQE7kyvRuDwVAgG/D1CfqAkAzy9c+wTwBQNEKdocOWwBAAJCgj/xpAEBTwFSgvS4BQCO6PtvsHQJAwhd96OkUA0CKISubdzMEQEpA1WF2ZQVAfuFObtnCBkD+60/lXB0IQIhK4EBNbAlALQuySo6zCkBVibQVMegLQJqeNA6YKA1AXv9b7t5UDkBzRGLYj2APQKh/RS3DIBBAaSh05J+CEEDe+VEXyuQQQLyLxTZrLRFAW8zG+zRjEUDeF1KnEYcRQOFZ6N3ZpRFAAB1hLZ+9EUDcIHHs3NIRQEvqC9gM5BFArgqwDKvyEUANSEoMov8RQHbrzCHKChJAiO93hrETEkBDkByC0hsSQFPCErsaIxJATehux9AoEkBumxH/zy0SQNsy4JHDMhJA9gfxV3A1EkA=",
           "dtype": "f8"
          },
          "type": "data"
         },
         "hovertemplate": "C=%{x}<br>deviance=%{y}<extra></extra>",
         "legendgroup": "",
         "line": {
          "color": "#636efa",
          "dash": "solid"
         },
         "marker": {
          "symbol": "circle"
         },
         "mode": "lines",
         "name": "",
         "orientation": "v",
         "showlegend": false,
         "type": "scatter",
         "x": {
          "bdata": "8WjjiLX45D6cbSEI9q3oPsky61UNC+0++ArjPtQW8T6T+2XlWRz0PqYcIySkqvc+jmtHoOHZ+z4mnL/JQ2MAP0yscKoJSQM/u07+DPexBj8pgXZ+PLUKPw2LHTMkbg8/AVDkzmV+Ej/P4+XrfsMVP1bAZlOanBk/IP84euMjHj+4pjcwE7whPxF+MoHQ3iQ/9+3z6HyPKD/dodvhMOcsP6O7emm6ATE/0Kgm9IQDND83LyQ3a403P8w/tft9tzs/NvAIrAdPQD/50K2kOTFDP+1euS3xlUY/QOkMMkKUSj+ICrAzVUdPP6xAAf+PZ1I/VFX+f5+oVT/IiVOK+nxZP3xcpkKs/l0/TysfUS2mYT9cqLhyC8VkPxjyO2opcWg/QttjtYDDbD+wqQCiuuxwP4NhKKzO6nM/mtY9X1Zwdz9hR3bNRJV7P/RMfIrkOoA/vBIABocZgz+GWmroDXqGP5q5yp1wc4o/lWOHH7Ygjz+ylkBh1lCSP13LeULhjZU/UROMzYFdmT+2adb+otmdPzui5HtikKE/oC/7NWarpD+ixINd+1KoP4c215n8n6w/kB1JyNTXsD+yQY/nNtKzP26K4m9lU7c/jVcc4TVzuz92A0BG2ibAP+xaGarxAcM/oNxXEk1exj+0sGiPx1LKP/iJeLtG+s4//bTR0jg60j+UzV8KRHPVPxBo2ewvPtk/588Ldse03T+SPyWPsnrhP/kasKPgkeQ/Eg6PlPI06D+SjcxYpHzsP7EYULwIw/A/eySugL258z9kxbs8mDb3P48CegJRUfs/bnygwOgSAED1ZthseeoCQF1B/YCuQgZAzqHd1EYyCkAtgKHMBtQOQGz7DjG3IxJARnrqrsdYFUBrG0C4BB8ZQH9Hz28ZkB1AonCnaR1lIUCX9L2UengkQL+NWuEOFyhAfOkdvHdZLECSJDleVq4wQFRqBlJioTNAKMGpme4ZN0DnR6L9lS87QKsSILYf/j9AppBIKh7TQkCdZAoKMidGQHEoXjzuEUpAhv1oGPatTkCJkX1ZUQ1SQAxIhgdsPlVAAAAAAAAAWUA=",
          "dtype": "f8"
         },
         "xaxis": "x3",
         "y": {
          "bdata": "4xdmeXpCNUDmuw1vYEI1QBZL6CsKQzVAPhRLSeBCNUBjitmFkUM1QOZKuqgqQTVA699L9YpANUDI2H0nDkE1QJi43TQnRDVA4dpOsJ5DNUAeFhVdPD81QM7ild1BPzVAkqL4BqJCNUDas4BN/y01QAXaXWkqOjVAUM6s3c4wNUAIW6+yJys1QM8vNC4/KzVAB10CvSEcNUAo6Pt/rxA1QKWhrz39ODVAKoI0mmwCNUCzsXGIve40QMVT+L034zRAD4ni1l33M0DAgSfafdkyQHgjro4p9TFAK+73lrJCMUD7EIb8fbIwQHZGvnSBQTBA7rgO0nfVL0DWHwLToFMvQEKrkR0i9C5ASNYtHWWsLkComhbKiHguQEocc0PsUS5AAGu6cMk1LkA+3ZhagSEuQKi9ogMWEy5ApqDvl5QILkAqg5YHLQEuQPpmZScG/C1A2Pgtumn4LUD+iV/Y9fUtQP0vbMtS9C1Ao7RZbDrzLUBiRRL7gPMtQNoGkxSG+y1AyranHQ7gLUBIEJk8e9otQB11Izl44S1AKorgbrnsLUBqz23L//ctQKJPZGybJy5AUOUQbmRWLkAGK7DVxo8uQD34g0NThy5AxbEOKUFYLkDbJnCwabstQAWfPTN/sSxAyhxkkq+FK0BiTIcEhtgpQAI1GyxZdShAD9SL6WptJ0DBXkxP+I8mQBBKvJpNtyVARxpU/x73JEAm7WUjkygkQK4R5yxBYiNAztnuDayuIkCr6RJNJiIiQHfGneMFkCFAhvEgZe8bIUDwajtclsMgQFSdnABPhSBA44uVLB9HIECyqbb2hxUgQEq01/kw4h9Aq+lEC9apH0AOHwyiAaIfQPjXDpx9tx9AoCHa4IzHH0DKzPkXj9wfQA4V3uEq5x9AYgQ1pUzrH0CWTWZksuofQNWqlNeF6h9AcCNNUy7pH0DSfeGrvOgfQEBnouj76B9A2oCUN8HoH0CjztsoYekfQKYm8FuS6R9A3ooHoMLpH0BWjFrrnekfQKK/DZKH6h9A/abHHQzrH0ALAcPx6uofQIbSxg0R7B9AXba/WM7rH0A=",
          "dtype": "f8"
         },
         "yaxis": "y3"
        },
        {
         "error_y": {
          "array": {
           "bdata": "oGAmCJ0v+j+Qy1iJ5VT6P6W0Trr4Wfo/TIXw625p+j93JMnLR0v6P88f7vFXg/o/TVE0jdUl+j+7DW22XkD6P6DmfuFSSPo/g7LJVzRH+j+H8XJDJGD6P56I6X3Vcvo/kOgey6FR+j/6EbHgK2T6P3FunJ0P7vk/FSi6ORdV+j9t8EU27jb7PxeYXkjY4fo/R/Gd6CSV+j8py+5UDC77P2U1RrkzLfo/F5PgxMi2+j+9hI6ht976PyG/IjNb3/k/KHcjU2so+z87mNyPPGP8P3+cBq3Tyf0/uglSca3a/j98JRXrtwsAQD5TEr+HkABAFFCwaxIFAUDykGaZB3QBQGpo0gJM0gFA9m0ON5gmAkB7bHhp72oCQG2+fUdjpAJAde+M23DSAkD36cIXhfYCQFC8GKzAEgNAkdmi/uEpA0DtXUY+aDwDQGuiAL7mSgNA7p2ntw1XA0AZRPUR0F8DQPVYVTIBZgNANrbv17VoA0CD0sFopHIDQPNaIC4XfANANY4cXaO8A0Cprtt36LADQAJvigxVsQNAXlg9WCbeA0CxMMu+BLEDQBzgQOsg/wJAQtaw5eSkAkDuoFxMOOYBQHJFJo71DgJAqWCNIcnRAUCpODA8CJEBQEYPC4IbdQFAVk/KMb9eAUB8oaZEt1oBQLIujsW0oQFA5Uafjw8PAkBtMpLsFWACQKinZCy/DAJAmaMTh24ZAkCFWdY6SkgCQOgBJAm1fgFAD7zYMyT0AEC1oW1O+KkAQJfWP8knnwBA1RscR+TBAECphSkGDfEAQBuPawjROAFAUScPV3muAUBDi5pDEikCQKK9qQ+B1AJAG3iYIex8A0DqyDRJuDAEQAjUyOyU1ARAYnkBxZhtBUDX6mcslAAGQOmFEB7UhAZACSIyfLP0BkA3lMqCmEkHQEt8aYorjgdA06ZQhm/EB0DGK+EadvQHQFzfY0zBHghAdYM4NVVCCECYhSODm2AIQBkkUZabfAhAcSsH3QiSCEDJCYaaI6UIQDJ2XxDutQhA8Sxi9XbECECvBkIiwNAIQI814Pvh2QhAd1fJlbXjCEA=",
           "dtype": "f8"
          },
          "type": "data"
         },
         "hovertemplate": "C=%{x}<br>deviance=%{y}<extra></extra>",
         "legendgroup": "",
         "line": {
          "color": "#636efa",
          "dash": "solid"
         },
         "marker": {
          "symbol": "circle"
         },
         "mode": "lines",
         "name": "",
         "orientation": "v",
         "showlegend": false,
         "type": "scatter",
         "x": {
          "bdata": "8WjjiLX45D6cbSEI9q3oPsky61UNC+0++ArjPtQW8T6T+2XlWRz0PqYcIySkqvc+jmtHoOHZ+z4mnL/JQ2MAP0yscKoJSQM/u07+DPexBj8pgXZ+PLUKPw2LHTMkbg8/AVDkzmV+Ej/P4+XrfsMVP1bAZlOanBk/IP84euMjHj+4pjcwE7whPxF+MoHQ3iQ/9+3z6HyPKD/dodvhMOcsP6O7emm6ATE/0Kgm9IQDND83LyQ3a403P8w/tft9tzs/NvAIrAdPQD/50K2kOTFDP+1euS3xlUY/QOkMMkKUSj+ICrAzVUdPP6xAAf+PZ1I/VFX+f5+oVT/IiVOK+nxZP3xcpkKs/l0/TysfUS2mYT9cqLhyC8VkPxjyO2opcWg/QttjtYDDbD+wqQCiuuxwP4NhKKzO6nM/mtY9X1Zwdz9hR3bNRJV7P/RMfIrkOoA/vBIABocZgz+GWmroDXqGP5q5yp1wc4o/lWOHH7Ygjz+ylkBh1lCSP13LeULhjZU/UROMzYFdmT+2adb+otmdPzui5HtikKE/oC/7NWarpD+ixINd+1KoP4c215n8n6w/kB1JyNTXsD+yQY/nNtKzP26K4m9lU7c/jVcc4TVzuz92A0BG2ibAP+xaGarxAcM/oNxXEk1exj+0sGiPx1LKP/iJeLtG+s4//bTR0jg60j+UzV8KRHPVPxBo2ewvPtk/588Ldse03T+SPyWPsnrhP/kasKPgkeQ/Eg6PlPI06D+SjcxYpHzsP7EYULwIw/A/eySugL258z9kxbs8mDb3P48CegJRUfs/bnygwOgSAED1ZthseeoCQF1B/YCuQgZAzqHd1EYyCkAtgKHMBtQOQGz7DjG3IxJARnrqrsdYFUBrG0C4BB8ZQH9Hz28ZkB1AonCnaR1lIUCX9L2UengkQL+NWuEOFyhAfOkdvHdZLECSJDleVq4wQFRqBlJioTNAKMGpme4ZN0DnR6L9lS87QKsSILYf/j9AppBIKh7TQkCdZAoKMidGQHEoXjzuEUpAhv1oGPatTkCJkX1ZUQ1SQAxIhgdsPlVAAAAAAAAAWUA=",
          "dtype": "f8"
         },
         "xaxis": "x4",
         "y": {
          "bdata": "k6jEdwB8OkA6FkmHkn06QEZJ2otbeDpAfREtFIN6OkCG4KXoqnk6QCNAbWouezpA7vMP7aZ7OkDqDMo87Xg6QMB4yG0mejpA/ZadxGd8OkCOEdi1mX06QFCv6d1+fDpA+8vZI8J5OkCjU4TDNnE6QAPBK8ONeDpA45xIbENxOkDS+d7NYm06QO7SAB65czpATt3M7fdnOkAaS2a1g2U6QKuJ+fwRdjpANThjTtFeOkD10JM52VI6QApRIjMaUTpAqyqLGZDZOUDeXyXVd0s5QD7Tp2mi3jhAu7LsWKWQOEBSyp5V8FM4QGVoBHvLJzhAz7RFyc8IOEDGL8EFnvI3QJ/fpW7q4zdAeiqkk8vZN0D627awh9M3QJrSy86CzzdAr2IjVBnNN0D8RcCbtMs3QK4aJKTXyjdADncuPFPKN0Bq0ra49ck3QGS/4Ta5yTdAImCq5ovJN0C79j4bX8k3QD1/XLAtyTdAihyXOtzIN0BuP66g5sg3QBxyzH3i0DdASwP7bbnUN0Dv/rYkE9M3QM0jePSI0jdABq+qgxTZN0C6ONW6xeM3QLIDH+fA6TdA7WcU9xbpN0AnS/6vLuQ3QKPsE7oUvzdAiNrQfWVrN0AWTmOsEh03QHa/Y1RX3DZAtdG5uwKtNkCPljvgp4w2QMfQ1sxXezZAQKdxD4JlNkAXQxXHoUk2QEvXAQukJzZAE6ma+W0ANkDK4W8ANcM1QNVD3P1TPDVAQmbwwXatNEAeMXilxjE0QCJDRGUMzjNAudrGNmGFM0D/tOB8olAzQAoM7eSHJzNAa2p6rdwHM0BKEC7HI/EyQMX/t4id3zJAMOUlXRzSMkBxQ+CtgsYyQD7RJ6mQvzJApvqLyWi+MkD+bv8vZbwyQJufgknEujJAmHlJeWa6MkB73MzxDLsyQM7gbP1svDJAVRK3K/u9MkCulGGGj78yQBjEPuHdwDJA1N8vLzbCMkDS7ayeJMMyQGoFGWYixDJAYsFeyOHEMkA/U5PIe8UyQAiPzKD6xTJAtsIc7GbGMkB2Uzdv3sYyQBoQcFjrxjJA1trWr2vHMkA=",
          "dtype": "f8"
         },
         "yaxis": "y4"
        },
        {
         "error_y": {
          "array": {
           "bdata": "IIgO591GwT9fsVhkDDLFP2j7NVLKtMQ/LF1dAuqVwj/obkNiWrjBP9x9/n6O5cU/+yU/6JKBxT+wHj7Wj9zBP9VUlmRB1sQ/ct9Tyrsqwz8+5W4zpVTCP4Q2NPa0IsI/umKZdOiixj/hSN1O0xPJPyA29D5aVsc/kCbkZv96xj8nWY3lvO7QP8BsyXJWm8c/4xdk9cIBzD/AavALhsDUP4yOjLs7VMY/qwitzGKYzD9PHOzaT+jCP/eeojoDTMc/jYGE0ePvzT8N28z6EArLP/RaGhuOrs0/wcGwcykBzj8s9SXmx5HPPwh2RaU5itA/GmlHWBsf0T9nvTsT7L7RPznY+g+gSdI/tdU4xBGv0j+LGjMIfAjTP0cPQUmWUtM/OGaN+v+O0z8D9wkITb7TP4+oQvLz4dM/NDpaRVr+0z8BUalMHhPUPxEYGSoiItQ/D1B0FPMr1D9f3xjpYjLUP8Mv5PvmNdQ/qpMInaY41D/LYPngbCLUPw+9evgZ7uI/IgWyCTSB1T/mw3iyOHnRP8MhPeI2RtE/M406hkRV1j81xWakj2/ZP+CvWDKtOdc/8agT4zAX4z9EFpxND/znP5V8ujal7+w/Y8ljADkp8T+YcyaU2ejzP7OtBnYjRfc/Dzz37XxY9z9kgGD+xxb3PyL1/KY5tPU/delBAF+q9D98cWxdgE/0Pwt3OVytsPQ/UnUySFcp9j+l4sEC5NX3P7PUm39m8fg/AZeDTC17+j9A/zdFdOT7PySta/ACEP0/o26DmfzW/T/41BEfD3/+Pwoohyl2gP8/xDaoc/5HAEC9GB+W5dEAQG9FzK+jXgFAspYOUdrfAUDO1/NZ22UCQOImtIPm7AJAWuVxEpp+A0DHNZYpaQAEQGKYD5WHhgRApvYFgg/9BEB9V67XL2AFQCCfl7rquQVAVEx7eVkGBkBJFVISOkwGQIYdWedFiAZAYuWxz7i9BkCVRT38segGQM4MGSmgDwdAf3U2L3gxB0BN1itgL0sHQJ3TpfvuYgdAdMMIN3d4B0B/hSq8r4oHQEx/Z6y8lQdAechSdKenB0A=",
           "dtype": "f8"
          },
          "type": "data"
         },
         "hovertemplate": "C=%{x}<br>deviance=%{y}<extra></extra>",
         "legendgroup": "",
         "line": {
          "color": "#636efa",
          "dash": "solid"
         },
         "marker": {
          "symbol": "circle"
         },
         "mode": "lines",
         "name": "",
         "orientation": "v",
         "showlegend": false,
         "type": "scatter",
         "x": {
          "bdata": "8WjjiLX45D6cbSEI9q3oPsky61UNC+0++ArjPtQW8T6T+2XlWRz0PqYcIySkqvc+jmtHoOHZ+z4mnL/JQ2MAP0yscKoJSQM/u07+DPexBj8pgXZ+PLUKPw2LHTMkbg8/AVDkzmV+Ej/P4+XrfsMVP1bAZlOanBk/IP84euMjHj+4pjcwE7whPxF+MoHQ3iQ/9+3z6HyPKD/dodvhMOcsP6O7emm6ATE/0Kgm9IQDND83LyQ3a403P8w/tft9tzs/NvAIrAdPQD/50K2kOTFDP+1euS3xlUY/QOkMMkKUSj+ICrAzVUdPP6xAAf+PZ1I/VFX+f5+oVT/IiVOK+nxZP3xcpkKs/l0/TysfUS2mYT9cqLhyC8VkPxjyO2opcWg/QttjtYDDbD+wqQCiuuxwP4NhKKzO6nM/mtY9X1Zwdz9hR3bNRJV7P/RMfIrkOoA/vBIABocZgz+GWmroDXqGP5q5yp1wc4o/lWOHH7Ygjz+ylkBh1lCSP13LeULhjZU/UROMzYFdmT+2adb+otmdPzui5HtikKE/oC/7NWarpD+ixINd+1KoP4c215n8n6w/kB1JyNTXsD+yQY/nNtKzP26K4m9lU7c/jVcc4TVzuz92A0BG2ibAP+xaGarxAcM/oNxXEk1exj+0sGiPx1LKP/iJeLtG+s4//bTR0jg60j+UzV8KRHPVPxBo2ewvPtk/588Ldse03T+SPyWPsnrhP/kasKPgkeQ/Eg6PlPI06D+SjcxYpHzsP7EYULwIw/A/eySugL258z9kxbs8mDb3P48CegJRUfs/bnygwOgSAED1ZthseeoCQF1B/YCuQgZAzqHd1EYyCkAtgKHMBtQOQGz7DjG3IxJARnrqrsdYFUBrG0C4BB8ZQH9Hz28ZkB1AonCnaR1lIUCX9L2UengkQL+NWuEOFyhAfOkdvHdZLECSJDleVq4wQFRqBlJioTNAKMGpme4ZN0DnR6L9lS87QKsSILYf/j9AppBIKh7TQkCdZAoKMidGQHEoXjzuEUpAhv1oGPatTkCJkX1ZUQ1SQAxIhgdsPlVAAAAAAAAAWUA=",
          "dtype": "f8"
         },
         "xaxis": "x5",
         "y": {
          "bdata": "HZRcD540TkBzZn3RWjZOQOK1hw69NU5ALcxbFqwuTkAGip/55ThOQFKzqDpyOk5A5VmjtJc3TkAWl6Vr8TVOQNWJfdvOOE5AKsjhkck5TkDtzBYvjjROQIAqPndzN05AxeAjrKo0TkCTJeesoCZOQNUA/whbM05Aa+Izs7stTkAF7NBoTSNOQC1e3yqPKE5Amx6jTRgaTkDKDa301xFOQLPcwDKML05AtoEUlDMCTkBS9+4q3vVNQBiE8U727U1AqI0GElk4TUB4JuL4gnNMQJ357n8R9UtAPf3Hnd+kS0Ae5ohkIW9LQFVC7pwMTEtAnV73zxQ1S0DIEqSrUSZLQEqFYWPgHEtAdmKGONIWS0ArKjJPJRNLQIs8pbThEEtARtXncIsPS0BW7qhHyw5LQPLB5pZiDktAApTHvioOS0B65tdqDw5LQEW/vsYCDktAoOmbD/0NS0AWfVZf+g1LQN0mVs75DUtAjax4qvwNS0BS64UhFw5LQEJE4Pbzp0pAhbI0Gm+hSUDrhB4StdpIQF7ft2WlOkhAF2NRvWi3R0DSWZjLTEVHQO4khuJj50ZAnEU98WSiRkBN2pTfpVtGQEylnXxeGkZAt5ZNP97lRUCQlmCZf7hFQNvh3/KQgUVAo98CTQIoRUAyWoOp9OBEQELwx+NYnkRAkApNskxZRECOXvbVehpEQDxzzvJK4ENAXD5MUs61Q0AIT8B4NJtDQC1E+3NfhENAZg3kvul0Q0ArbeJ/0W1DQHruqwRibkNA4gfL17FyQ0C57zOouHtDQPKb3Yo7hkNAQVh56FqRQ0DIhE3KZZxDQHNSTQc9qUNACkOZdpG1Q0DjC2YzW8BDQDOa0cs1yUNAM3CT4nvSQ0ACIG34VtpDQFGr2Ksr4kNA9SEY9AbpQ0BdWhBsYO5DQKV25Efc8kNADUNBa3v2Q0AKcyHftPlDQGlxTs5z/ENAdvBYEt3+Q0DO7c/70QBEQEa8OmOaAkRAZhumBgkEREDuk2nUEwVEQB2b4R4vBkRAjIg6rgAHRED/cuaPvgdEQM6+CsZXCERAprnmiegIREA=",
          "dtype": "f8"
         },
         "yaxis": "y5"
        },
        {
         "error_y": {
          "array": {
           "bdata": "0F1eVI6/9D8iAKP+NpL1P1fIbdmUpPU/ah5tkzi99T8m5yxY3kP0PwE6whfQYPU/EweNThjv9D/6SE28Bsv0P+6yfScX3vU/ANSiXWjv9D+NoBw+oQf1Pw+4Hv2LjvU/tUSD9CFF9T/OgQDtW5r2P2A2dgGl/PU/AXLXc/l/9j/CZR/lWwP0P2WeI86p3fE//4OdTW808T9heqGrhRjzP+6/z6IdNPM/oeGw5HiR9T+suZw8hKbzPxs42BNWCPU/YeLXd0Gh9j/5hDtSbunzP/mFBo92OvI/pmeEomKp8D8MDZdmmJ3uPzxEOuZiEe0/HRdePJvW6z/lewyc8afqP8FXdJ8R1Ok/9qvfQSEc6T825n6N5njoP4OLEMcU9Oc/g/x4xfiM5z8Q865X0DLnP8JU10aI8OY//tw5L1yw5j8bZN2cjnzmP0LxVA9yU+Y/L4jUXlou5j9zNKPYhRDmP+xC1UmI9+U/X2Ti+kri5T9ZUgBXWt7lP8NIqQB+Sug/Bzv2vFps6D/kqcipw07oPxkWBkkobOc/A9RP8Y4d6T+JPnp6G+vqP8mikCx2W+k/Fs776TZo7D9leFhKHdnwPxfRFhZ8pvQ/8Ev6MdgZ+T/WCLw+ppP9P/7K7RGhlAFAaGwovvEiA0DOUd/AfjwFQDfpxI4TTAdAgUDF01ZICEDzcdpZMWcJQNs9J5NKhAtAPIuvEZvuDUBQ2Z0d+CsQQCv6/G2aXhFA9DjDZxN6EkD8HPiqWooTQAmThvCnkBRAnZ3K5F3CFUCkGC0ZKBMXQJDxDk5NexhATWl2v6v6GUCyUBeeoFsbQFBeg3Xz0xxAuYvLGlcpHkDGViWOsmUfQPuyCux/NiBAmC3Y+C+rIEDYZ0hfxBYhQPjcvcgUdCFA6Q6ZPVHGIUBnKdUpOgMiQAxU2JKzOSJAVUx5DMJnIkAz8WrHnY8iQEjlWl6usiJApkACL/zQIkDxbeIId+oiQMfRrSOZASNAdiUZPWcTI0CBMOerhiMjQGRwE/uDMSNAem0wzhE+I0BOrcLnjEcjQFqqziUnUCNAO6ghjuRWI0A=",
           "dtype": "f8"
          },
          "type": "data"
         },
         "hovertemplate": "C=%{x}<br>deviance=%{y}<extra></extra>",
         "legendgroup": "",
         "line": {
          "color": "#636efa",
          "dash": "solid"
         },
         "marker": {
          "symbol": "circle"
         },
         "mode": "lines",
         "name": "",
         "orientation": "v",
         "showlegend": false,
         "type": "scatter",
         "x": {
          "bdata": "8WjjiLX45D6cbSEI9q3oPsky61UNC+0++ArjPtQW8T6T+2XlWRz0PqYcIySkqvc+jmtHoOHZ+z4mnL/JQ2MAP0yscKoJSQM/u07+DPexBj8pgXZ+PLUKPw2LHTMkbg8/AVDkzmV+Ej/P4+XrfsMVP1bAZlOanBk/IP84euMjHj+4pjcwE7whPxF+MoHQ3iQ/9+3z6HyPKD/dodvhMOcsP6O7emm6ATE/0Kgm9IQDND83LyQ3a403P8w/tft9tzs/NvAIrAdPQD/50K2kOTFDP+1euS3xlUY/QOkMMkKUSj+ICrAzVUdPP6xAAf+PZ1I/VFX+f5+oVT/IiVOK+nxZP3xcpkKs/l0/TysfUS2mYT9cqLhyC8VkPxjyO2opcWg/QttjtYDDbD+wqQCiuuxwP4NhKKzO6nM/mtY9X1Zwdz9hR3bNRJV7P/RMfIrkOoA/vBIABocZgz+GWmroDXqGP5q5yp1wc4o/lWOHH7Ygjz+ylkBh1lCSP13LeULhjZU/UROMzYFdmT+2adb+otmdPzui5HtikKE/oC/7NWarpD+ixINd+1KoP4c215n8n6w/kB1JyNTXsD+yQY/nNtKzP26K4m9lU7c/jVcc4TVzuz92A0BG2ibAP+xaGarxAcM/oNxXEk1exj+0sGiPx1LKP/iJeLtG+s4//bTR0jg60j+UzV8KRHPVPxBo2ewvPtk/588Ldse03T+SPyWPsnrhP/kasKPgkeQ/Eg6PlPI06D+SjcxYpHzsP7EYULwIw/A/eySugL258z9kxbs8mDb3P48CegJRUfs/bnygwOgSAED1ZthseeoCQF1B/YCuQgZAzqHd1EYyCkAtgKHMBtQOQGz7DjG3IxJARnrqrsdYFUBrG0C4BB8ZQH9Hz28ZkB1AonCnaR1lIUCX9L2UengkQL+NWuEOFyhAfOkdvHdZLECSJDleVq4wQFRqBlJioTNAKMGpme4ZN0DnR6L9lS87QKsSILYf/j9AppBIKh7TQkCdZAoKMidGQHEoXjzuEUpAhv1oGPatTkCJkX1ZUQ1SQAxIhgdsPlVAAAAAAAAAWUA=",
          "dtype": "f8"
         },
         "xaxis": "x6",
         "y": {
          "bdata": "vtUPKpIOUEB3+Wc0XA5QQHTNcv9gDFBAEUisVdkPUEA+4pE8hQ1QQCKce983DVBAfi6f8GQNUECsvEZSjQ1QQJWyZdZeDVBACB8PzbUNUEBRlcBj+xBQQE0kxNC5DVBAms61YukLUEBrV5Tp+wFQQEuTWAN+ClBA9mOVYPwCUEAXJ0063gBQQDwv6dwWBVBAVv0MJEH1T0ATCAAkIOpPQOmvdUfiClBA6ngpHY3bT0B9XPb7oMVPQPXlUtMBuk9APQ0YLDvPTkCGLqfdeORNQLqjvGh5Q01A/Q/yJ0vaTECSrZ5JpI5MQI7T5xvoWUxAc4caSws1TEBSXTdbsxpMQKtfGa9pCExA/aXPoAL7S0A9aH+jxPFLQFOHWW/h6ktAcJZ59+blS0AwBCEOX+JLQL14qCXl30tAGF5Swg7eS0CGsfT9vdxLQKAU6MjQ20tA8NLLSRvbS0A+NfbGm9pLQAuJ0ok92ktA1S64Z/rZS0Cz9akYuNlLQD4D5q+Q9EtAqIQ75mb7S0DDLFADFPNLQPjsu3C64EtAGmCnkqq8S0B4r9yrspFLQCDQNUTnV0tA3T7MtzIRS0BOzfek59NKQJ1+oqh6mkpA3oa1SZ1pSkAqOTv/CT5KQIoQsQ0UBkpAfV/ByMy5SUDi/qoNnHpJQMZY4dhvQElAyP39zIcCSUBtO6oi485IQEp9UY2XpEhAWvMjVUOGSEAOSsZ/R2pIQO0mKQiEUEhAyrJtilI7SEAL5y2akkhIQL22ak3XYkhAVSJ2vTGDSECp1a2M+KhIQGZiZEgI0khAVkvVNqX7SEC2geQfEiZJQIBgpQ6hUUlAMeQo7ud6SUCo8ixogaFJQM1D3ytLwklAJsRyDdneSUAeMPilmPdJQNr6wcVAD0pAvjyl0z8kSkBYMq1H9DNKQMZM/PpbQkpAdrScKk9OSkBt1KS1vlhKQCUxrH7XYUpAsDWincBpSkDeSAHFYHBKQPXJWUpWdkpAAATgweZ6SkAK20SvHH9KQHaFgeaSgkpALWymRMmFSkD7QlwrMIhKQJOCJD5tikpAYx4GsjGMSkA=",
          "dtype": "f8"
         },
         "yaxis": "y6"
        }
       ],
       "layout": {
        "height": 600,
        "showlegend": false,
        "template": {
         "data": {
          "bar": [
           {
            "error_x": {
             "color": "#2a3f5f"
            },
            "error_y": {
             "color": "#2a3f5f"
            },
            "marker": {
             "line": {
              "color": "#E5ECF6",
              "width": 0.5
             },
             "pattern": {
              "fillmode": "overlay",
              "size": 10,
              "solidity": 0.2
             }
            },
            "type": "bar"
           }
          ],
          "barpolar": [
           {
            "marker": {
             "line": {
              "color": "#E5ECF6",
              "width": 0.5
             },
             "pattern": {
              "fillmode": "overlay",
              "size": 10,
              "solidity": 0.2
             }
            },
            "type": "barpolar"
           }
          ],
          "carpet": [
           {
            "aaxis": {
             "endlinecolor": "#2a3f5f",
             "gridcolor": "white",
             "linecolor": "white",
             "minorgridcolor": "white",
             "startlinecolor": "#2a3f5f"
            },
            "baxis": {
             "endlinecolor": "#2a3f5f",
             "gridcolor": "white",
             "linecolor": "white",
             "minorgridcolor": "white",
             "startlinecolor": "#2a3f5f"
            },
            "type": "carpet"
           }
          ],
          "choropleth": [
           {
            "colorbar": {
             "outlinewidth": 0,
             "ticks": ""
            },
            "type": "choropleth"
           }
          ],
          "contour": [
           {
            "colorbar": {
             "outlinewidth": 0,
             "ticks": ""
            },
            "colorscale": [
             [
              0,
              "#0d0887"
             ],
             [
              0.1111111111111111,
              "#46039f"
             ],
             [
              0.2222222222222222,
              "#7201a8"
             ],
             [
              0.3333333333333333,
              "#9c179e"
             ],
             [
              0.4444444444444444,
              "#bd3786"
             ],
             [
              0.5555555555555556,
              "#d8576b"
             ],
             [
              0.6666666666666666,
              "#ed7953"
             ],
             [
              0.7777777777777778,
              "#fb9f3a"
             ],
             [
              0.8888888888888888,
              "#fdca26"
             ],
             [
              1,
              "#f0f921"
             ]
            ],
            "type": "contour"
           }
          ],
          "contourcarpet": [
           {
            "colorbar": {
             "outlinewidth": 0,
             "ticks": ""
            },
            "type": "contourcarpet"
           }
          ],
          "heatmap": [
           {
            "colorbar": {
             "outlinewidth": 0,
             "ticks": ""
            },
            "colorscale": [
             [
              0,
              "#0d0887"
             ],
             [
              0.1111111111111111,
              "#46039f"
             ],
             [
              0.2222222222222222,
              "#7201a8"
             ],
             [
              0.3333333333333333,
              "#9c179e"
             ],
             [
              0.4444444444444444,
              "#bd3786"
             ],
             [
              0.5555555555555556,
              "#d8576b"
             ],
             [
              0.6666666666666666,
              "#ed7953"
             ],
             [
              0.7777777777777778,
              "#fb9f3a"
             ],
             [
              0.8888888888888888,
              "#fdca26"
             ],
             [
              1,
              "#f0f921"
             ]
            ],
            "type": "heatmap"
           }
          ],
          "histogram": [
           {
            "marker": {
             "pattern": {
              "fillmode": "overlay",
              "size": 10,
              "solidity": 0.2
             }
            },
            "type": "histogram"
           }
          ],
          "histogram2d": [
           {
            "colorbar": {
             "outlinewidth": 0,
             "ticks": ""
            },
            "colorscale": [
             [
              0,
              "#0d0887"
             ],
             [
              0.1111111111111111,
              "#46039f"
             ],
             [
              0.2222222222222222,
              "#7201a8"
             ],
             [
              0.3333333333333333,
              "#9c179e"
             ],
             [
              0.4444444444444444,
              "#bd3786"
             ],
             [
              0.5555555555555556,
              "#d8576b"
             ],
             [
              0.6666666666666666,
              "#ed7953"
             ],
             [
              0.7777777777777778,
              "#fb9f3a"
             ],
             [
              0.8888888888888888,
              "#fdca26"
             ],
             [
              1,
              "#f0f921"
             ]
            ],
            "type": "histogram2d"
           }
          ],
          "histogram2dcontour": [
           {
            "colorbar": {
             "outlinewidth": 0,
             "ticks": ""
            },
            "colorscale": [
             [
              0,
              "#0d0887"
             ],
             [
              0.1111111111111111,
              "#46039f"
             ],
             [
              0.2222222222222222,
              "#7201a8"
             ],
             [
              0.3333333333333333,
              "#9c179e"
             ],
             [
              0.4444444444444444,
              "#bd3786"
             ],
             [
              0.5555555555555556,
              "#d8576b"
             ],
             [
              0.6666666666666666,
              "#ed7953"
             ],
             [
              0.7777777777777778,
              "#fb9f3a"
             ],
             [
              0.8888888888888888,
              "#fdca26"
             ],
             [
              1,
              "#f0f921"
             ]
            ],
            "type": "histogram2dcontour"
           }
          ],
          "mesh3d": [
           {
            "colorbar": {
             "outlinewidth": 0,
             "ticks": ""
            },
            "type": "mesh3d"
           }
          ],
          "parcoords": [
           {
            "line": {
             "colorbar": {
              "outlinewidth": 0,
              "ticks": ""
             }
            },
            "type": "parcoords"
           }
          ],
          "pie": [
           {
            "automargin": true,
            "type": "pie"
           }
          ],
          "scatter": [
           {
            "fillpattern": {
             "fillmode": "overlay",
             "size": 10,
             "solidity": 0.2
            },
            "type": "scatter"
           }
          ],
          "scatter3d": [
           {
            "line": {
             "colorbar": {
              "outlinewidth": 0,
              "ticks": ""
             }
            },
            "marker": {
             "colorbar": {
              "outlinewidth": 0,
              "ticks": ""
             }
            },
            "type": "scatter3d"
           }
          ],
          "scattercarpet": [
           {
            "marker": {
             "colorbar": {
              "outlinewidth": 0,
              "ticks": ""
             }
            },
            "type": "scattercarpet"
           }
          ],
          "scattergeo": [
           {
            "marker": {
             "colorbar": {
              "outlinewidth": 0,
              "ticks": ""
             }
            },
            "type": "scattergeo"
           }
          ],
          "scattergl": [
           {
            "marker": {
             "colorbar": {
              "outlinewidth": 0,
              "ticks": ""
             }
            },
            "type": "scattergl"
           }
          ],
          "scattermap": [
           {
            "marker": {
             "colorbar": {
              "outlinewidth": 0,
              "ticks": ""
             }
            },
            "type": "scattermap"
           }
          ],
          "scattermapbox": [
           {
            "marker": {
             "colorbar": {
              "outlinewidth": 0,
              "ticks": ""
             }
            },
            "type": "scattermapbox"
           }
          ],
          "scatterpolar": [
           {
            "marker": {
             "colorbar": {
              "outlinewidth": 0,
              "ticks": ""
             }
            },
            "type": "scatterpolar"
           }
          ],
          "scatterpolargl": [
           {
            "marker": {
             "colorbar": {
              "outlinewidth": 0,
              "ticks": ""
             }
            },
            "type": "scatterpolargl"
           }
          ],
          "scatterternary": [
           {
            "marker": {
             "colorbar": {
              "outlinewidth": 0,
              "ticks": ""
             }
            },
            "type": "scatterternary"
           }
          ],
          "surface": [
           {
            "colorbar": {
             "outlinewidth": 0,
             "ticks": ""
            },
            "colorscale": [
             [
              0,
              "#0d0887"
             ],
             [
              0.1111111111111111,
              "#46039f"
             ],
             [
              0.2222222222222222,
              "#7201a8"
             ],
             [
              0.3333333333333333,
              "#9c179e"
             ],
             [
              0.4444444444444444,
              "#bd3786"
             ],
             [
              0.5555555555555556,
              "#d8576b"
             ],
             [
              0.6666666666666666,
              "#ed7953"
             ],
             [
              0.7777777777777778,
              "#fb9f3a"
             ],
             [
              0.8888888888888888,
              "#fdca26"
             ],
             [
              1,
              "#f0f921"
             ]
            ],
            "type": "surface"
           }
          ],
          "table": [
           {
            "cells": {
             "fill": {
              "color": "#EBF0F8"
             },
             "line": {
              "color": "white"
             }
            },
            "header": {
             "fill": {
              "color": "#C8D4E3"
             },
             "line": {
              "color": "white"
             }
            },
            "type": "table"
           }
          ]
         },
         "layout": {
          "annotationdefaults": {
           "arrowcolor": "#2a3f5f",
           "arrowhead": 0,
           "arrowwidth": 1
          },
          "autotypenumbers": "strict",
          "coloraxis": {
           "colorbar": {
            "outlinewidth": 0,
            "ticks": ""
           }
          },
          "colorscale": {
           "diverging": [
            [
             0,
             "#8e0152"
            ],
            [
             0.1,
             "#c51b7d"
            ],
            [
             0.2,
             "#de77ae"
            ],
            [
             0.3,
             "#f1b6da"
            ],
            [
             0.4,
             "#fde0ef"
            ],
            [
             0.5,
             "#f7f7f7"
            ],
            [
             0.6,
             "#e6f5d0"
            ],
            [
             0.7,
             "#b8e186"
            ],
            [
             0.8,
             "#7fbc41"
            ],
            [
             0.9,
             "#4d9221"
            ],
            [
             1,
             "#276419"
            ]
           ],
           "sequential": [
            [
             0,
             "#0d0887"
            ],
            [
             0.1111111111111111,
             "#46039f"
            ],
            [
             0.2222222222222222,
             "#7201a8"
            ],
            [
             0.3333333333333333,
             "#9c179e"
            ],
            [
             0.4444444444444444,
             "#bd3786"
            ],
            [
             0.5555555555555556,
             "#d8576b"
            ],
            [
             0.6666666666666666,
             "#ed7953"
            ],
            [
             0.7777777777777778,
             "#fb9f3a"
            ],
            [
             0.8888888888888888,
             "#fdca26"
            ],
            [
             1,
             "#f0f921"
            ]
           ],
           "sequentialminus": [
            [
             0,
             "#0d0887"
            ],
            [
             0.1111111111111111,
             "#46039f"
            ],
            [
             0.2222222222222222,
             "#7201a8"
            ],
            [
             0.3333333333333333,
             "#9c179e"
            ],
            [
             0.4444444444444444,
             "#bd3786"
            ],
            [
             0.5555555555555556,
             "#d8576b"
            ],
            [
             0.6666666666666666,
             "#ed7953"
            ],
            [
             0.7777777777777778,
             "#fb9f3a"
            ],
            [
             0.8888888888888888,
             "#fdca26"
            ],
            [
             1,
             "#f0f921"
            ]
           ]
          },
          "colorway": [
           "#636efa",
           "#EF553B",
           "#00cc96",
           "#ab63fa",
           "#FFA15A",
           "#19d3f3",
           "#FF6692",
           "#B6E880",
           "#FF97FF",
           "#FECB52"
          ],
          "font": {
           "color": "#2a3f5f"
          },
          "geo": {
           "bgcolor": "white",
           "lakecolor": "white",
           "landcolor": "#E5ECF6",
           "showlakes": true,
           "showland": true,
           "subunitcolor": "white"
          },
          "hoverlabel": {
           "align": "left"
          },
          "hovermode": "closest",
          "mapbox": {
           "style": "light"
          },
          "paper_bgcolor": "white",
          "plot_bgcolor": "#E5ECF6",
          "polar": {
           "angularaxis": {
            "gridcolor": "white",
            "linecolor": "white",
            "ticks": ""
           },
           "bgcolor": "#E5ECF6",
           "radialaxis": {
            "gridcolor": "white",
            "linecolor": "white",
            "ticks": ""
           }
          },
          "scene": {
           "xaxis": {
            "backgroundcolor": "#E5ECF6",
            "gridcolor": "white",
            "gridwidth": 2,
            "linecolor": "white",
            "showbackground": true,
            "ticks": "",
            "zerolinecolor": "white"
           },
           "yaxis": {
            "backgroundcolor": "#E5ECF6",
            "gridcolor": "white",
            "gridwidth": 2,
            "linecolor": "white",
            "showbackground": true,
            "ticks": "",
            "zerolinecolor": "white"
           },
           "zaxis": {
            "backgroundcolor": "#E5ECF6",
            "gridcolor": "white",
            "gridwidth": 2,
            "linecolor": "white",
            "showbackground": true,
            "ticks": "",
            "zerolinecolor": "white"
           }
          },
          "shapedefaults": {
           "line": {
            "color": "#2a3f5f"
           }
          },
          "ternary": {
           "aaxis": {
            "gridcolor": "white",
            "linecolor": "white",
            "ticks": ""
           },
           "baxis": {
            "gridcolor": "white",
            "linecolor": "white",
            "ticks": ""
           },
           "bgcolor": "#E5ECF6",
           "caxis": {
            "gridcolor": "white",
            "linecolor": "white",
            "ticks": ""
           }
          },
          "title": {
           "x": 0.05
          },
          "xaxis": {
           "automargin": true,
           "gridcolor": "white",
           "linecolor": "white",
           "ticks": "",
           "title": {
            "standoff": 15
           },
           "zerolinecolor": "white",
           "zerolinewidth": 2
          },
          "yaxis": {
           "automargin": true,
           "gridcolor": "white",
           "linecolor": "white",
           "ticks": "",
           "title": {
            "standoff": 15
           },
           "zerolinecolor": "white",
           "zerolinewidth": 2
          }
         }
        },
        "width": 1000,
        "xaxis": {
         "anchor": "y",
         "domain": [
          0,
          0.45
         ],
         "title": {
          "text": "C"
         },
         "type": "log"
        },
        "xaxis2": {
         "anchor": "y2",
         "domain": [
          0.55,
          1
         ],
         "title": {
          "text": "C"
         },
         "type": "log"
        },
        "xaxis3": {
         "anchor": "y3",
         "domain": [
          0,
          0.45
         ],
         "title": {
          "text": "C"
         },
         "type": "log"
        },
        "xaxis4": {
         "anchor": "y4",
         "domain": [
          0.55,
          1
         ],
         "title": {
          "text": "C"
         },
         "type": "log"
        },
        "xaxis5": {
         "anchor": "y5",
         "domain": [
          0,
          0.45
         ],
         "title": {
          "text": "C"
         },
         "type": "log"
        },
        "xaxis6": {
         "anchor": "y6",
         "domain": [
          0.55,
          1
         ],
         "title": {
          "text": "C"
         },
         "type": "log"
        },
        "yaxis": {
         "anchor": "x",
         "domain": [
          0.7333333333333333,
          1
         ],
         "title": {
          "text": "Con"
         }
        },
        "yaxis2": {
         "anchor": "x2",
         "domain": [
          0.7333333333333333,
          1
         ],
         "title": {
          "text": "Head"
         }
        },
        "yaxis3": {
         "anchor": "x3",
         "domain": [
          0.36666666666666664,
          0.6333333333333333
         ],
         "title": {
          "text": "Tabl"
         }
        },
        "yaxis4": {
         "anchor": "x4",
         "domain": [
          0.36666666666666664,
          0.6333333333333333
         ],
         "title": {
          "text": "Veh"
         }
        },
        "yaxis5": {
         "anchor": "x5",
         "domain": [
          0,
          0.26666666666666666
         ],
         "title": {
          "text": "WinF"
         }
        },
        "yaxis6": {
         "anchor": "x6",
         "domain": [
          0,
          0.26666666666666666
         ],
         "title": {
          "text": "WinNF"
         }
        }
       }
      }
     },
     "metadata": {},
     "output_type": "display_data"
    }
   ],
   "source": [
    "fig = make_subplots(rows=3, cols=2)\n",
    "\n",
    "# Loop over each subplot and compute the mean for its data\n",
    "for i, y_name in enumerate(deviances_dict):\n",
    "    row = i // 2 + 1\n",
    "    col = i % 2 + 1\n",
    "    cv_results = pd.DataFrame({'C': Cs,\n",
    "                           'deviance': deviance_mean_dict[y_name],\n",
    "                           'std_error': deviance_std_dict[y_name]})\n",
    "    fig.add_trace(px.line(cv_results, x='C', y='deviance').data[0], row=row, col=col)\n",
    "    fig.update_xaxes(title_text=\"C\", type='log', row=row, col=col)\n",
    "    fig.update_yaxes(title_text=y_name, row=row, col=col)\n",
    "    fig.update_traces(error_y=dict(type='data', array=cv_results['std_error']),\n",
    "                      row=row, col=col)\n",
    "fig.update_layout(height=600, width=1000, showlegend=False)\n",
    "fig.show()"
   ]
  },
  {
   "cell_type": "markdown",
   "metadata": {},
   "source": [
    "# Support Vector Machine\n",
    "\n",
    "- We want to use line (plane, hyper plane) to separate **two** categories. (Multiple is possible, but can be inferred based on two categories)\n",
    "- We want such **boundary** to be far from the *marginal points*, which are called **support vectors**. \n",
    "- Although a hyper-plane looks like $x\\beta+\\beta_0$, you are allowed to make MANY $x$'s such as a general polynomial. Hence a seemingly linear hyper-plan can be nonlinear.\n",
    "- A highly flexible method is to construct these $x$ values as *kernels*, we skip the details (not required), but [Guo Yan](https://findanexpert.unimelb.edu.au/profile/1051403-guo-yan) from our department is a real expert.\n",
    "    - The idea is that a variable $x$ is more affected by its neighbours.\n",
    "    - A popular kernel is Radial Basis Function (RBF) with $k(x, x_i) = \\exp(-\\gamma ||x-x_i||^2)$"
   ]
  },
  {
   "cell_type": "markdown",
   "metadata": {},
   "source": [
    "<img src=\"https://www.dropbox.com/scl/fi/yyds2r2hyb3bglmhvzhac/SVM.png?rlkey=j8ep5w7c1kwivb919crdv332a&st=2kw4i1jc&dl=1\" width=600>"
   ]
  },
  {
   "cell_type": "markdown",
   "metadata": {},
   "source": [
    "## linear"
   ]
  },
  {
   "cell_type": "code",
   "execution_count": 3,
   "metadata": {},
   "outputs": [],
   "source": [
    "# Load classic iris dataset\n",
    "iris = datasets.load_iris()\n",
    "X = iris.data # type: ignore\n",
    "y = iris.target # type: ignore\n",
    "\n",
    "# We'll classify only two classes for simplicity\n",
    "X = X[y != 2]\n",
    "y = y[y != 2]"
   ]
  },
  {
   "cell_type": "code",
   "execution_count": 4,
   "metadata": {},
   "outputs": [],
   "source": [
    "# Train-test split\n",
    "X_train, X_test, y_train, y_test = train_test_split(X, y, test_size=0.3, random_state=42)\n",
    "\n",
    "# Standardize features\n",
    "scaler = StandardScaler()\n",
    "X_train = scaler.fit_transform(X_train)\n",
    "X_test = scaler.transform(X_test)"
   ]
  },
  {
   "cell_type": "code",
   "execution_count": 5,
   "metadata": {},
   "outputs": [
    {
     "data": {
      "text/html": [
       "<style>#sk-container-id-1 {\n",
       "  /* Definition of color scheme common for light and dark mode */\n",
       "  --sklearn-color-text: #000;\n",
       "  --sklearn-color-text-muted: #666;\n",
       "  --sklearn-color-line: gray;\n",
       "  /* Definition of color scheme for unfitted estimators */\n",
       "  --sklearn-color-unfitted-level-0: #fff5e6;\n",
       "  --sklearn-color-unfitted-level-1: #f6e4d2;\n",
       "  --sklearn-color-unfitted-level-2: #ffe0b3;\n",
       "  --sklearn-color-unfitted-level-3: chocolate;\n",
       "  /* Definition of color scheme for fitted estimators */\n",
       "  --sklearn-color-fitted-level-0: #f0f8ff;\n",
       "  --sklearn-color-fitted-level-1: #d4ebff;\n",
       "  --sklearn-color-fitted-level-2: #b3dbfd;\n",
       "  --sklearn-color-fitted-level-3: cornflowerblue;\n",
       "\n",
       "  /* Specific color for light theme */\n",
       "  --sklearn-color-text-on-default-background: var(--sg-text-color, var(--theme-code-foreground, var(--jp-content-font-color1, black)));\n",
       "  --sklearn-color-background: var(--sg-background-color, var(--theme-background, var(--jp-layout-color0, white)));\n",
       "  --sklearn-color-border-box: var(--sg-text-color, var(--theme-code-foreground, var(--jp-content-font-color1, black)));\n",
       "  --sklearn-color-icon: #696969;\n",
       "\n",
       "  @media (prefers-color-scheme: dark) {\n",
       "    /* Redefinition of color scheme for dark theme */\n",
       "    --sklearn-color-text-on-default-background: var(--sg-text-color, var(--theme-code-foreground, var(--jp-content-font-color1, white)));\n",
       "    --sklearn-color-background: var(--sg-background-color, var(--theme-background, var(--jp-layout-color0, #111)));\n",
       "    --sklearn-color-border-box: var(--sg-text-color, var(--theme-code-foreground, var(--jp-content-font-color1, white)));\n",
       "    --sklearn-color-icon: #878787;\n",
       "  }\n",
       "}\n",
       "\n",
       "#sk-container-id-1 {\n",
       "  color: var(--sklearn-color-text);\n",
       "}\n",
       "\n",
       "#sk-container-id-1 pre {\n",
       "  padding: 0;\n",
       "}\n",
       "\n",
       "#sk-container-id-1 input.sk-hidden--visually {\n",
       "  border: 0;\n",
       "  clip: rect(1px 1px 1px 1px);\n",
       "  clip: rect(1px, 1px, 1px, 1px);\n",
       "  height: 1px;\n",
       "  margin: -1px;\n",
       "  overflow: hidden;\n",
       "  padding: 0;\n",
       "  position: absolute;\n",
       "  width: 1px;\n",
       "}\n",
       "\n",
       "#sk-container-id-1 div.sk-dashed-wrapped {\n",
       "  border: 1px dashed var(--sklearn-color-line);\n",
       "  margin: 0 0.4em 0.5em 0.4em;\n",
       "  box-sizing: border-box;\n",
       "  padding-bottom: 0.4em;\n",
       "  background-color: var(--sklearn-color-background);\n",
       "}\n",
       "\n",
       "#sk-container-id-1 div.sk-container {\n",
       "  /* jupyter's `normalize.less` sets `[hidden] { display: none; }`\n",
       "     but bootstrap.min.css set `[hidden] { display: none !important; }`\n",
       "     so we also need the `!important` here to be able to override the\n",
       "     default hidden behavior on the sphinx rendered scikit-learn.org.\n",
       "     See: https://github.com/scikit-learn/scikit-learn/issues/21755 */\n",
       "  display: inline-block !important;\n",
       "  position: relative;\n",
       "}\n",
       "\n",
       "#sk-container-id-1 div.sk-text-repr-fallback {\n",
       "  display: none;\n",
       "}\n",
       "\n",
       "div.sk-parallel-item,\n",
       "div.sk-serial,\n",
       "div.sk-item {\n",
       "  /* draw centered vertical line to link estimators */\n",
       "  background-image: linear-gradient(var(--sklearn-color-text-on-default-background), var(--sklearn-color-text-on-default-background));\n",
       "  background-size: 2px 100%;\n",
       "  background-repeat: no-repeat;\n",
       "  background-position: center center;\n",
       "}\n",
       "\n",
       "/* Parallel-specific style estimator block */\n",
       "\n",
       "#sk-container-id-1 div.sk-parallel-item::after {\n",
       "  content: \"\";\n",
       "  width: 100%;\n",
       "  border-bottom: 2px solid var(--sklearn-color-text-on-default-background);\n",
       "  flex-grow: 1;\n",
       "}\n",
       "\n",
       "#sk-container-id-1 div.sk-parallel {\n",
       "  display: flex;\n",
       "  align-items: stretch;\n",
       "  justify-content: center;\n",
       "  background-color: var(--sklearn-color-background);\n",
       "  position: relative;\n",
       "}\n",
       "\n",
       "#sk-container-id-1 div.sk-parallel-item {\n",
       "  display: flex;\n",
       "  flex-direction: column;\n",
       "}\n",
       "\n",
       "#sk-container-id-1 div.sk-parallel-item:first-child::after {\n",
       "  align-self: flex-end;\n",
       "  width: 50%;\n",
       "}\n",
       "\n",
       "#sk-container-id-1 div.sk-parallel-item:last-child::after {\n",
       "  align-self: flex-start;\n",
       "  width: 50%;\n",
       "}\n",
       "\n",
       "#sk-container-id-1 div.sk-parallel-item:only-child::after {\n",
       "  width: 0;\n",
       "}\n",
       "\n",
       "/* Serial-specific style estimator block */\n",
       "\n",
       "#sk-container-id-1 div.sk-serial {\n",
       "  display: flex;\n",
       "  flex-direction: column;\n",
       "  align-items: center;\n",
       "  background-color: var(--sklearn-color-background);\n",
       "  padding-right: 1em;\n",
       "  padding-left: 1em;\n",
       "}\n",
       "\n",
       "\n",
       "/* Toggleable style: style used for estimator/Pipeline/ColumnTransformer box that is\n",
       "clickable and can be expanded/collapsed.\n",
       "- Pipeline and ColumnTransformer use this feature and define the default style\n",
       "- Estimators will overwrite some part of the style using the `sk-estimator` class\n",
       "*/\n",
       "\n",
       "/* Pipeline and ColumnTransformer style (default) */\n",
       "\n",
       "#sk-container-id-1 div.sk-toggleable {\n",
       "  /* Default theme specific background. It is overwritten whether we have a\n",
       "  specific estimator or a Pipeline/ColumnTransformer */\n",
       "  background-color: var(--sklearn-color-background);\n",
       "}\n",
       "\n",
       "/* Toggleable label */\n",
       "#sk-container-id-1 label.sk-toggleable__label {\n",
       "  cursor: pointer;\n",
       "  display: flex;\n",
       "  width: 100%;\n",
       "  margin-bottom: 0;\n",
       "  padding: 0.5em;\n",
       "  box-sizing: border-box;\n",
       "  text-align: center;\n",
       "  align-items: start;\n",
       "  justify-content: space-between;\n",
       "  gap: 0.5em;\n",
       "}\n",
       "\n",
       "#sk-container-id-1 label.sk-toggleable__label .caption {\n",
       "  font-size: 0.6rem;\n",
       "  font-weight: lighter;\n",
       "  color: var(--sklearn-color-text-muted);\n",
       "}\n",
       "\n",
       "#sk-container-id-1 label.sk-toggleable__label-arrow:before {\n",
       "  /* Arrow on the left of the label */\n",
       "  content: \"▸\";\n",
       "  float: left;\n",
       "  margin-right: 0.25em;\n",
       "  color: var(--sklearn-color-icon);\n",
       "}\n",
       "\n",
       "#sk-container-id-1 label.sk-toggleable__label-arrow:hover:before {\n",
       "  color: var(--sklearn-color-text);\n",
       "}\n",
       "\n",
       "/* Toggleable content - dropdown */\n",
       "\n",
       "#sk-container-id-1 div.sk-toggleable__content {\n",
       "  display: none;\n",
       "  text-align: left;\n",
       "  /* unfitted */\n",
       "  background-color: var(--sklearn-color-unfitted-level-0);\n",
       "}\n",
       "\n",
       "#sk-container-id-1 div.sk-toggleable__content.fitted {\n",
       "  /* fitted */\n",
       "  background-color: var(--sklearn-color-fitted-level-0);\n",
       "}\n",
       "\n",
       "#sk-container-id-1 div.sk-toggleable__content pre {\n",
       "  margin: 0.2em;\n",
       "  border-radius: 0.25em;\n",
       "  color: var(--sklearn-color-text);\n",
       "  /* unfitted */\n",
       "  background-color: var(--sklearn-color-unfitted-level-0);\n",
       "}\n",
       "\n",
       "#sk-container-id-1 div.sk-toggleable__content.fitted pre {\n",
       "  /* unfitted */\n",
       "  background-color: var(--sklearn-color-fitted-level-0);\n",
       "}\n",
       "\n",
       "#sk-container-id-1 input.sk-toggleable__control:checked~div.sk-toggleable__content {\n",
       "  /* Expand drop-down */\n",
       "  display: block;\n",
       "  width: 100%;\n",
       "  overflow: visible;\n",
       "}\n",
       "\n",
       "#sk-container-id-1 input.sk-toggleable__control:checked~label.sk-toggleable__label-arrow:before {\n",
       "  content: \"▾\";\n",
       "}\n",
       "\n",
       "/* Pipeline/ColumnTransformer-specific style */\n",
       "\n",
       "#sk-container-id-1 div.sk-label input.sk-toggleable__control:checked~label.sk-toggleable__label {\n",
       "  color: var(--sklearn-color-text);\n",
       "  background-color: var(--sklearn-color-unfitted-level-2);\n",
       "}\n",
       "\n",
       "#sk-container-id-1 div.sk-label.fitted input.sk-toggleable__control:checked~label.sk-toggleable__label {\n",
       "  background-color: var(--sklearn-color-fitted-level-2);\n",
       "}\n",
       "\n",
       "/* Estimator-specific style */\n",
       "\n",
       "/* Colorize estimator box */\n",
       "#sk-container-id-1 div.sk-estimator input.sk-toggleable__control:checked~label.sk-toggleable__label {\n",
       "  /* unfitted */\n",
       "  background-color: var(--sklearn-color-unfitted-level-2);\n",
       "}\n",
       "\n",
       "#sk-container-id-1 div.sk-estimator.fitted input.sk-toggleable__control:checked~label.sk-toggleable__label {\n",
       "  /* fitted */\n",
       "  background-color: var(--sklearn-color-fitted-level-2);\n",
       "}\n",
       "\n",
       "#sk-container-id-1 div.sk-label label.sk-toggleable__label,\n",
       "#sk-container-id-1 div.sk-label label {\n",
       "  /* The background is the default theme color */\n",
       "  color: var(--sklearn-color-text-on-default-background);\n",
       "}\n",
       "\n",
       "/* On hover, darken the color of the background */\n",
       "#sk-container-id-1 div.sk-label:hover label.sk-toggleable__label {\n",
       "  color: var(--sklearn-color-text);\n",
       "  background-color: var(--sklearn-color-unfitted-level-2);\n",
       "}\n",
       "\n",
       "/* Label box, darken color on hover, fitted */\n",
       "#sk-container-id-1 div.sk-label.fitted:hover label.sk-toggleable__label.fitted {\n",
       "  color: var(--sklearn-color-text);\n",
       "  background-color: var(--sklearn-color-fitted-level-2);\n",
       "}\n",
       "\n",
       "/* Estimator label */\n",
       "\n",
       "#sk-container-id-1 div.sk-label label {\n",
       "  font-family: monospace;\n",
       "  font-weight: bold;\n",
       "  display: inline-block;\n",
       "  line-height: 1.2em;\n",
       "}\n",
       "\n",
       "#sk-container-id-1 div.sk-label-container {\n",
       "  text-align: center;\n",
       "}\n",
       "\n",
       "/* Estimator-specific */\n",
       "#sk-container-id-1 div.sk-estimator {\n",
       "  font-family: monospace;\n",
       "  border: 1px dotted var(--sklearn-color-border-box);\n",
       "  border-radius: 0.25em;\n",
       "  box-sizing: border-box;\n",
       "  margin-bottom: 0.5em;\n",
       "  /* unfitted */\n",
       "  background-color: var(--sklearn-color-unfitted-level-0);\n",
       "}\n",
       "\n",
       "#sk-container-id-1 div.sk-estimator.fitted {\n",
       "  /* fitted */\n",
       "  background-color: var(--sklearn-color-fitted-level-0);\n",
       "}\n",
       "\n",
       "/* on hover */\n",
       "#sk-container-id-1 div.sk-estimator:hover {\n",
       "  /* unfitted */\n",
       "  background-color: var(--sklearn-color-unfitted-level-2);\n",
       "}\n",
       "\n",
       "#sk-container-id-1 div.sk-estimator.fitted:hover {\n",
       "  /* fitted */\n",
       "  background-color: var(--sklearn-color-fitted-level-2);\n",
       "}\n",
       "\n",
       "/* Specification for estimator info (e.g. \"i\" and \"?\") */\n",
       "\n",
       "/* Common style for \"i\" and \"?\" */\n",
       "\n",
       ".sk-estimator-doc-link,\n",
       "a:link.sk-estimator-doc-link,\n",
       "a:visited.sk-estimator-doc-link {\n",
       "  float: right;\n",
       "  font-size: smaller;\n",
       "  line-height: 1em;\n",
       "  font-family: monospace;\n",
       "  background-color: var(--sklearn-color-background);\n",
       "  border-radius: 1em;\n",
       "  height: 1em;\n",
       "  width: 1em;\n",
       "  text-decoration: none !important;\n",
       "  margin-left: 0.5em;\n",
       "  text-align: center;\n",
       "  /* unfitted */\n",
       "  border: var(--sklearn-color-unfitted-level-1) 1pt solid;\n",
       "  color: var(--sklearn-color-unfitted-level-1);\n",
       "}\n",
       "\n",
       ".sk-estimator-doc-link.fitted,\n",
       "a:link.sk-estimator-doc-link.fitted,\n",
       "a:visited.sk-estimator-doc-link.fitted {\n",
       "  /* fitted */\n",
       "  border: var(--sklearn-color-fitted-level-1) 1pt solid;\n",
       "  color: var(--sklearn-color-fitted-level-1);\n",
       "}\n",
       "\n",
       "/* On hover */\n",
       "div.sk-estimator:hover .sk-estimator-doc-link:hover,\n",
       ".sk-estimator-doc-link:hover,\n",
       "div.sk-label-container:hover .sk-estimator-doc-link:hover,\n",
       ".sk-estimator-doc-link:hover {\n",
       "  /* unfitted */\n",
       "  background-color: var(--sklearn-color-unfitted-level-3);\n",
       "  color: var(--sklearn-color-background);\n",
       "  text-decoration: none;\n",
       "}\n",
       "\n",
       "div.sk-estimator.fitted:hover .sk-estimator-doc-link.fitted:hover,\n",
       ".sk-estimator-doc-link.fitted:hover,\n",
       "div.sk-label-container:hover .sk-estimator-doc-link.fitted:hover,\n",
       ".sk-estimator-doc-link.fitted:hover {\n",
       "  /* fitted */\n",
       "  background-color: var(--sklearn-color-fitted-level-3);\n",
       "  color: var(--sklearn-color-background);\n",
       "  text-decoration: none;\n",
       "}\n",
       "\n",
       "/* Span, style for the box shown on hovering the info icon */\n",
       ".sk-estimator-doc-link span {\n",
       "  display: none;\n",
       "  z-index: 9999;\n",
       "  position: relative;\n",
       "  font-weight: normal;\n",
       "  right: .2ex;\n",
       "  padding: .5ex;\n",
       "  margin: .5ex;\n",
       "  width: min-content;\n",
       "  min-width: 20ex;\n",
       "  max-width: 50ex;\n",
       "  color: var(--sklearn-color-text);\n",
       "  box-shadow: 2pt 2pt 4pt #999;\n",
       "  /* unfitted */\n",
       "  background: var(--sklearn-color-unfitted-level-0);\n",
       "  border: .5pt solid var(--sklearn-color-unfitted-level-3);\n",
       "}\n",
       "\n",
       ".sk-estimator-doc-link.fitted span {\n",
       "  /* fitted */\n",
       "  background: var(--sklearn-color-fitted-level-0);\n",
       "  border: var(--sklearn-color-fitted-level-3);\n",
       "}\n",
       "\n",
       ".sk-estimator-doc-link:hover span {\n",
       "  display: block;\n",
       "}\n",
       "\n",
       "/* \"?\"-specific style due to the `<a>` HTML tag */\n",
       "\n",
       "#sk-container-id-1 a.estimator_doc_link {\n",
       "  float: right;\n",
       "  font-size: 1rem;\n",
       "  line-height: 1em;\n",
       "  font-family: monospace;\n",
       "  background-color: var(--sklearn-color-background);\n",
       "  border-radius: 1rem;\n",
       "  height: 1rem;\n",
       "  width: 1rem;\n",
       "  text-decoration: none;\n",
       "  /* unfitted */\n",
       "  color: var(--sklearn-color-unfitted-level-1);\n",
       "  border: var(--sklearn-color-unfitted-level-1) 1pt solid;\n",
       "}\n",
       "\n",
       "#sk-container-id-1 a.estimator_doc_link.fitted {\n",
       "  /* fitted */\n",
       "  border: var(--sklearn-color-fitted-level-1) 1pt solid;\n",
       "  color: var(--sklearn-color-fitted-level-1);\n",
       "}\n",
       "\n",
       "/* On hover */\n",
       "#sk-container-id-1 a.estimator_doc_link:hover {\n",
       "  /* unfitted */\n",
       "  background-color: var(--sklearn-color-unfitted-level-3);\n",
       "  color: var(--sklearn-color-background);\n",
       "  text-decoration: none;\n",
       "}\n",
       "\n",
       "#sk-container-id-1 a.estimator_doc_link.fitted:hover {\n",
       "  /* fitted */\n",
       "  background-color: var(--sklearn-color-fitted-level-3);\n",
       "}\n",
       "\n",
       ".estimator-table summary {\n",
       "    padding: .5rem;\n",
       "    font-family: monospace;\n",
       "    cursor: pointer;\n",
       "}\n",
       "\n",
       ".estimator-table details[open] {\n",
       "    padding-left: 0.1rem;\n",
       "    padding-right: 0.1rem;\n",
       "    padding-bottom: 0.3rem;\n",
       "}\n",
       "\n",
       ".estimator-table .parameters-table {\n",
       "    margin-left: auto !important;\n",
       "    margin-right: auto !important;\n",
       "}\n",
       "\n",
       ".estimator-table .parameters-table tr:nth-child(odd) {\n",
       "    background-color: #fff;\n",
       "}\n",
       "\n",
       ".estimator-table .parameters-table tr:nth-child(even) {\n",
       "    background-color: #f6f6f6;\n",
       "}\n",
       "\n",
       ".estimator-table .parameters-table tr:hover {\n",
       "    background-color: #e0e0e0;\n",
       "}\n",
       "\n",
       ".estimator-table table td {\n",
       "    border: 1px solid rgba(106, 105, 104, 0.232);\n",
       "}\n",
       "\n",
       ".user-set td {\n",
       "    color:rgb(255, 94, 0);\n",
       "    text-align: left;\n",
       "}\n",
       "\n",
       ".user-set td.value pre {\n",
       "    color:rgb(255, 94, 0) !important;\n",
       "    background-color: transparent !important;\n",
       "}\n",
       "\n",
       ".default td {\n",
       "    color: black;\n",
       "    text-align: left;\n",
       "}\n",
       "\n",
       ".user-set td i,\n",
       ".default td i {\n",
       "    color: black;\n",
       "}\n",
       "\n",
       ".copy-paste-icon {\n",
       "    background-image: url(data:image/svg+xml;base64,PHN2ZyB4bWxucz0iaHR0cDovL3d3dy53My5vcmcvMjAwMC9zdmciIHZpZXdCb3g9IjAgMCA0NDggNTEyIj48IS0tIUZvbnQgQXdlc29tZSBGcmVlIDYuNy4yIGJ5IEBmb250YXdlc29tZSAtIGh0dHBzOi8vZm9udGF3ZXNvbWUuY29tIExpY2Vuc2UgLSBodHRwczovL2ZvbnRhd2Vzb21lLmNvbS9saWNlbnNlL2ZyZWUgQ29weXJpZ2h0IDIwMjUgRm9udGljb25zLCBJbmMuLS0+PHBhdGggZD0iTTIwOCAwTDMzMi4xIDBjMTIuNyAwIDI0LjkgNS4xIDMzLjkgMTQuMWw2Ny45IDY3LjljOSA5IDE0LjEgMjEuMiAxNC4xIDMzLjlMNDQ4IDMzNmMwIDI2LjUtMjEuNSA0OC00OCA0OGwtMTkyIDBjLTI2LjUgMC00OC0yMS41LTQ4LTQ4bDAtMjg4YzAtMjYuNSAyMS41LTQ4IDQ4LTQ4ek00OCAxMjhsODAgMCAwIDY0LTY0IDAgMCAyNTYgMTkyIDAgMC0zMiA2NCAwIDAgNDhjMCAyNi41LTIxLjUgNDgtNDggNDhMNDggNTEyYy0yNi41IDAtNDgtMjEuNS00OC00OEwwIDE3NmMwLTI2LjUgMjEuNS00OCA0OC00OHoiLz48L3N2Zz4=);\n",
       "    background-repeat: no-repeat;\n",
       "    background-size: 14px 14px;\n",
       "    background-position: 0;\n",
       "    display: inline-block;\n",
       "    width: 14px;\n",
       "    height: 14px;\n",
       "    cursor: pointer;\n",
       "}\n",
       "</style><body><div id=\"sk-container-id-1\" class=\"sk-top-container\"><div class=\"sk-text-repr-fallback\"><pre>SVC(kernel=&#x27;linear&#x27;)</pre><b>In a Jupyter environment, please rerun this cell to show the HTML representation or trust the notebook. <br />On GitHub, the HTML representation is unable to render, please try loading this page with nbviewer.org.</b></div><div class=\"sk-container\" hidden><div class=\"sk-item\"><div class=\"sk-estimator fitted sk-toggleable\"><input class=\"sk-toggleable__control sk-hidden--visually\" id=\"sk-estimator-id-1\" type=\"checkbox\" checked><label for=\"sk-estimator-id-1\" class=\"sk-toggleable__label fitted sk-toggleable__label-arrow\"><div><div>SVC</div></div><div><a class=\"sk-estimator-doc-link fitted\" rel=\"noreferrer\" target=\"_blank\" href=\"https://scikit-learn.org/1.7/modules/generated/sklearn.svm.SVC.html\">?<span>Documentation for SVC</span></a><span class=\"sk-estimator-doc-link fitted\">i<span>Fitted</span></span></div></label><div class=\"sk-toggleable__content fitted\" data-param-prefix=\"\">\n",
       "        <div class=\"estimator-table\">\n",
       "            <details>\n",
       "                <summary>Parameters</summary>\n",
       "                <table class=\"parameters-table\">\n",
       "                  <tbody>\n",
       "                    \n",
       "        <tr class=\"default\">\n",
       "            <td><i class=\"copy-paste-icon\"\n",
       "                 onclick=\"copyToClipboard('C',\n",
       "                          this.parentElement.nextElementSibling)\"\n",
       "            ></i></td>\n",
       "            <td class=\"param\">C&nbsp;</td>\n",
       "            <td class=\"value\">1.0</td>\n",
       "        </tr>\n",
       "    \n",
       "\n",
       "        <tr class=\"user-set\">\n",
       "            <td><i class=\"copy-paste-icon\"\n",
       "                 onclick=\"copyToClipboard('kernel',\n",
       "                          this.parentElement.nextElementSibling)\"\n",
       "            ></i></td>\n",
       "            <td class=\"param\">kernel&nbsp;</td>\n",
       "            <td class=\"value\">&#x27;linear&#x27;</td>\n",
       "        </tr>\n",
       "    \n",
       "\n",
       "        <tr class=\"default\">\n",
       "            <td><i class=\"copy-paste-icon\"\n",
       "                 onclick=\"copyToClipboard('degree',\n",
       "                          this.parentElement.nextElementSibling)\"\n",
       "            ></i></td>\n",
       "            <td class=\"param\">degree&nbsp;</td>\n",
       "            <td class=\"value\">3</td>\n",
       "        </tr>\n",
       "    \n",
       "\n",
       "        <tr class=\"default\">\n",
       "            <td><i class=\"copy-paste-icon\"\n",
       "                 onclick=\"copyToClipboard('gamma',\n",
       "                          this.parentElement.nextElementSibling)\"\n",
       "            ></i></td>\n",
       "            <td class=\"param\">gamma&nbsp;</td>\n",
       "            <td class=\"value\">&#x27;scale&#x27;</td>\n",
       "        </tr>\n",
       "    \n",
       "\n",
       "        <tr class=\"default\">\n",
       "            <td><i class=\"copy-paste-icon\"\n",
       "                 onclick=\"copyToClipboard('coef0',\n",
       "                          this.parentElement.nextElementSibling)\"\n",
       "            ></i></td>\n",
       "            <td class=\"param\">coef0&nbsp;</td>\n",
       "            <td class=\"value\">0.0</td>\n",
       "        </tr>\n",
       "    \n",
       "\n",
       "        <tr class=\"default\">\n",
       "            <td><i class=\"copy-paste-icon\"\n",
       "                 onclick=\"copyToClipboard('shrinking',\n",
       "                          this.parentElement.nextElementSibling)\"\n",
       "            ></i></td>\n",
       "            <td class=\"param\">shrinking&nbsp;</td>\n",
       "            <td class=\"value\">True</td>\n",
       "        </tr>\n",
       "    \n",
       "\n",
       "        <tr class=\"default\">\n",
       "            <td><i class=\"copy-paste-icon\"\n",
       "                 onclick=\"copyToClipboard('probability',\n",
       "                          this.parentElement.nextElementSibling)\"\n",
       "            ></i></td>\n",
       "            <td class=\"param\">probability&nbsp;</td>\n",
       "            <td class=\"value\">False</td>\n",
       "        </tr>\n",
       "    \n",
       "\n",
       "        <tr class=\"default\">\n",
       "            <td><i class=\"copy-paste-icon\"\n",
       "                 onclick=\"copyToClipboard('tol',\n",
       "                          this.parentElement.nextElementSibling)\"\n",
       "            ></i></td>\n",
       "            <td class=\"param\">tol&nbsp;</td>\n",
       "            <td class=\"value\">0.001</td>\n",
       "        </tr>\n",
       "    \n",
       "\n",
       "        <tr class=\"default\">\n",
       "            <td><i class=\"copy-paste-icon\"\n",
       "                 onclick=\"copyToClipboard('cache_size',\n",
       "                          this.parentElement.nextElementSibling)\"\n",
       "            ></i></td>\n",
       "            <td class=\"param\">cache_size&nbsp;</td>\n",
       "            <td class=\"value\">200</td>\n",
       "        </tr>\n",
       "    \n",
       "\n",
       "        <tr class=\"default\">\n",
       "            <td><i class=\"copy-paste-icon\"\n",
       "                 onclick=\"copyToClipboard('class_weight',\n",
       "                          this.parentElement.nextElementSibling)\"\n",
       "            ></i></td>\n",
       "            <td class=\"param\">class_weight&nbsp;</td>\n",
       "            <td class=\"value\">None</td>\n",
       "        </tr>\n",
       "    \n",
       "\n",
       "        <tr class=\"default\">\n",
       "            <td><i class=\"copy-paste-icon\"\n",
       "                 onclick=\"copyToClipboard('verbose',\n",
       "                          this.parentElement.nextElementSibling)\"\n",
       "            ></i></td>\n",
       "            <td class=\"param\">verbose&nbsp;</td>\n",
       "            <td class=\"value\">False</td>\n",
       "        </tr>\n",
       "    \n",
       "\n",
       "        <tr class=\"default\">\n",
       "            <td><i class=\"copy-paste-icon\"\n",
       "                 onclick=\"copyToClipboard('max_iter',\n",
       "                          this.parentElement.nextElementSibling)\"\n",
       "            ></i></td>\n",
       "            <td class=\"param\">max_iter&nbsp;</td>\n",
       "            <td class=\"value\">-1</td>\n",
       "        </tr>\n",
       "    \n",
       "\n",
       "        <tr class=\"default\">\n",
       "            <td><i class=\"copy-paste-icon\"\n",
       "                 onclick=\"copyToClipboard('decision_function_shape',\n",
       "                          this.parentElement.nextElementSibling)\"\n",
       "            ></i></td>\n",
       "            <td class=\"param\">decision_function_shape&nbsp;</td>\n",
       "            <td class=\"value\">&#x27;ovr&#x27;</td>\n",
       "        </tr>\n",
       "    \n",
       "\n",
       "        <tr class=\"default\">\n",
       "            <td><i class=\"copy-paste-icon\"\n",
       "                 onclick=\"copyToClipboard('break_ties',\n",
       "                          this.parentElement.nextElementSibling)\"\n",
       "            ></i></td>\n",
       "            <td class=\"param\">break_ties&nbsp;</td>\n",
       "            <td class=\"value\">False</td>\n",
       "        </tr>\n",
       "    \n",
       "\n",
       "        <tr class=\"default\">\n",
       "            <td><i class=\"copy-paste-icon\"\n",
       "                 onclick=\"copyToClipboard('random_state',\n",
       "                          this.parentElement.nextElementSibling)\"\n",
       "            ></i></td>\n",
       "            <td class=\"param\">random_state&nbsp;</td>\n",
       "            <td class=\"value\">None</td>\n",
       "        </tr>\n",
       "    \n",
       "                  </tbody>\n",
       "                </table>\n",
       "            </details>\n",
       "        </div>\n",
       "    </div></div></div></div></div><script>function copyToClipboard(text, element) {\n",
       "    // Get the parameter prefix from the closest toggleable content\n",
       "    const toggleableContent = element.closest('.sk-toggleable__content');\n",
       "    const paramPrefix = toggleableContent ? toggleableContent.dataset.paramPrefix : '';\n",
       "    const fullParamName = paramPrefix ? `${paramPrefix}${text}` : text;\n",
       "\n",
       "    const originalStyle = element.style;\n",
       "    const computedStyle = window.getComputedStyle(element);\n",
       "    const originalWidth = computedStyle.width;\n",
       "    const originalHTML = element.innerHTML.replace('Copied!', '');\n",
       "\n",
       "    navigator.clipboard.writeText(fullParamName)\n",
       "        .then(() => {\n",
       "            element.style.width = originalWidth;\n",
       "            element.style.color = 'green';\n",
       "            element.innerHTML = \"Copied!\";\n",
       "\n",
       "            setTimeout(() => {\n",
       "                element.innerHTML = originalHTML;\n",
       "                element.style = originalStyle;\n",
       "            }, 2000);\n",
       "        })\n",
       "        .catch(err => {\n",
       "            console.error('Failed to copy:', err);\n",
       "            element.style.color = 'red';\n",
       "            element.innerHTML = \"Failed!\";\n",
       "            setTimeout(() => {\n",
       "                element.innerHTML = originalHTML;\n",
       "                element.style = originalStyle;\n",
       "            }, 2000);\n",
       "        });\n",
       "    return false;\n",
       "}\n",
       "\n",
       "document.querySelectorAll('.fa-regular.fa-copy').forEach(function(element) {\n",
       "    const toggleableContent = element.closest('.sk-toggleable__content');\n",
       "    const paramPrefix = toggleableContent ? toggleableContent.dataset.paramPrefix : '';\n",
       "    const paramName = element.parentElement.nextElementSibling.textContent.trim();\n",
       "    const fullParamName = paramPrefix ? `${paramPrefix}${paramName}` : paramName;\n",
       "\n",
       "    element.setAttribute('title', fullParamName);\n",
       "});\n",
       "</script></body>"
      ],
      "text/plain": [
       "SVC(kernel='linear')"
      ]
     },
     "execution_count": 5,
     "metadata": {},
     "output_type": "execute_result"
    }
   ],
   "source": [
    "clf = SVC(kernel='linear', C=1.0)\n",
    "clf.fit(X_train, y_train)"
   ]
  },
  {
   "cell_type": "code",
   "execution_count": 6,
   "metadata": {},
   "outputs": [
    {
     "name": "stdout",
     "output_type": "stream",
     "text": [
      "Accuracy: 1.0\n",
      "              precision    recall  f1-score   support\n",
      "\n",
      "           0       1.00      1.00      1.00        17\n",
      "           1       1.00      1.00      1.00        13\n",
      "\n",
      "    accuracy                           1.00        30\n",
      "   macro avg       1.00      1.00      1.00        30\n",
      "weighted avg       1.00      1.00      1.00        30\n",
      "\n"
     ]
    }
   ],
   "source": [
    "y_pred = clf.predict(X_test)\n",
    "print(\"Accuracy:\", accuracy_score(y_test, y_pred))\n",
    "print(classification_report(y_test, y_pred))"
   ]
  },
  {
   "cell_type": "markdown",
   "metadata": {},
   "source": [
    "## nonlinear"
   ]
  },
  {
   "cell_type": "code",
   "execution_count": 8,
   "metadata": {},
   "outputs": [
    {
     "data": {
      "image/png": "[encoded data removed]",
      "text/plain": [
       "<Figure size 640x480 with 1 Axes>"
      ]
     },
     "metadata": {},
     "output_type": "display_data"
    }
   ],
   "source": [
    "np.random.seed(1)\n",
    "X_xor = np.random.randn(200, 2)\n",
    "y_xor = np.logical_xor(X_xor[:, 0] > 0, X_xor[:, 1] > 0)\n",
    "y_xor = np.where(y_xor, 1, 0)\n",
    "\n",
    "plt.scatter(X_xor[y_xor == 1, 0],\n",
    "            X_xor[y_xor == 1, 1],\n",
    "            c='royalblue',\n",
    "            marker='s',\n",
    "            label='Class 1')\n",
    "plt.scatter(X_xor[y_xor == 0, 0],\n",
    "            X_xor[y_xor == 0, 1],\n",
    "            c='tomato',\n",
    "            marker='o',\n",
    "            label='Class 0')\n",
    "\n",
    "plt.xlim([-3, 3])\n",
    "plt.ylim([-3, 3])\n",
    "plt.xlabel('Feature 1')\n",
    "plt.ylabel('Feature 2')\n",
    "\n",
    "plt.legend(loc='best')\n",
    "plt.tight_layout()\n",
    "#plt.savefig('figures/03_12.png', dpi=300)\n",
    "plt.show()"
   ]
  },
  {
   "cell_type": "code",
   "execution_count": 15,
   "metadata": {},
   "outputs": [
    {
     "data": {
      "text/plain": [
       "<matplotlib.collections.PathCollection at 0x16d87f4a0>"
      ]
     },
     "execution_count": 15,
     "metadata": {},
     "output_type": "execute_result"
    },
    {
     "data": {
      "image/png": "[encoded data removed]",
      "text/plain": [
       "<Figure size 640x480 with 1 Axes>"
      ]
     },
     "metadata": {},
     "output_type": "display_data"
    }
   ],
   "source": [
    "svm = SVC(kernel='rbf', random_state=1, gamma=0.10, C=10.0)\n",
    "svm.fit(X_xor, y_xor)\n",
    "\n",
    "disp = DecisionBoundaryDisplay.from_estimator( # life changes, we used to write display function ourselves.\n",
    "    svm,                    # model\n",
    "    X_xor,                  # data\n",
    "    response_method=\"predict\",  # prediction\n",
    "    cmap='coolwarm',        # color\n",
    "    alpha=0.5               # transparency\n",
    ")\n",
    "disp.ax_.scatter(X_xor[:, 0], X_xor[:, 1], c=y_xor, edgecolor='k')"
   ]
  },
  {
   "cell_type": "code",
   "execution_count": 16,
   "metadata": {},
   "outputs": [
    {
     "data": {
      "text/plain": [
       "<matplotlib.collections.PathCollection at 0x16dd9b7d0>"
      ]
     },
     "execution_count": 16,
     "metadata": {},
     "output_type": "execute_result"
    },
    {
     "data": {
      "image/png": "[encoded data removed]",
      "text/plain": [
       "<Figure size 640x480 with 1 Axes>"
      ]
     },
     "metadata": {},
     "output_type": "display_data"
    }
   ],
   "source": [
    "svm = SVC(kernel='rbf', random_state=1, gamma=0.10, C=1000.0)\n",
    "svm.fit(X_xor, y_xor)\n",
    "\n",
    "disp = DecisionBoundaryDisplay.from_estimator(\n",
    "    svm,                    # model\n",
    "    X_xor,                  # data）\n",
    "    response_method=\"predict\",  # prediction\n",
    "    cmap='coolwarm',        # color\n",
    "    alpha=0.5               # transparency\n",
    ")\n",
    "disp.ax_.scatter(X_xor[:, 0], X_xor[:, 1], c=y_xor, edgecolor='k')"
   ]
  },
  {
   "cell_type": "code",
   "execution_count": 18,
   "metadata": {},
   "outputs": [
    {
     "data": {
      "text/plain": [
       "<matplotlib.collections.PathCollection at 0x16de35dc0>"
      ]
     },
     "execution_count": 18,
     "metadata": {},
     "output_type": "execute_result"
    },
    {
     "data": {
      "image/png": "[encoded data removed]",
      "text/plain": [
       "<Figure size 640x480 with 1 Axes>"
      ]
     },
     "metadata": {},
     "output_type": "display_data"
    }
   ],
   "source": [
    "svm = SVC(kernel='rbf', random_state=1, gamma=10, C=10.0)\n",
    "svm.fit(X_xor, y_xor)\n",
    "\n",
    "disp = DecisionBoundaryDisplay.from_estimator(\n",
    "    svm,                    # model\n",
    "    X_xor,                  # data）\n",
    "    response_method=\"predict\",  # prediction\n",
    "    cmap='coolwarm',        # color\n",
    "    alpha=0.5               # transparency\n",
    ")\n",
    "disp.ax_.scatter(X_xor[:, 0], X_xor[:, 1], c=y_xor, edgecolor='k')"
   ]
  },
  {
   "cell_type": "markdown",
   "metadata": {},
   "source": [
    "## CV and normalisation\n",
    "\n",
    "- SVM needs normlisation!!\n",
    "- A simple rule of thumb, just do the normlisation first. It won't hurt."
   ]
  },
  {
   "cell_type": "code",
   "execution_count": 32,
   "metadata": {},
   "outputs": [
    {
     "name": "stdout",
     "output_type": "stream",
     "text": [
      "Best parameters: {'svc__C': np.float64(2782.559402207126), 'svc__gamma': np.float64(0.1)}\n",
      "Best cross-validation accuracy: 0.97\n"
     ]
    }
   ],
   "source": [
    "pipeline = Pipeline([\n",
    "    ('scaler', StandardScaler()),\n",
    "    ('svc', SVC(kernel='rbf'))\n",
    "])\n",
    "\n",
    "# define C and gamma range\n",
    "param_grid = {\n",
    "    'svc__C': np.logspace(-2, 5, 10),       # C: 0.01, 0.1, 1, 10, 100\n",
    "    'svc__gamma': np.logspace(-3, 1, 5)    # gamma: 0.001, 0.01, 0.1, 1, 10\n",
    "}\n",
    "\n",
    "# GridSearchCV\n",
    "grid = GridSearchCV(pipeline, param_grid, cv=10, scoring='accuracy')\n",
    "\n",
    "# fit\n",
    "grid.fit(X_xor, y_xor)\n",
    "\n",
    "# print\n",
    "print(\"Best parameters:\", grid.best_params_)\n",
    "print(\"Best cross-validation accuracy:\", grid.best_score_)"
   ]
  },
  {
   "cell_type": "code",
   "execution_count": 34,
   "metadata": {},
   "outputs": [],
   "source": [
    "df = pd.DataFrame(grid.cv_results_)"
   ]
  },
  {
   "cell_type": "code",
   "execution_count": 23,
   "metadata": {},
   "outputs": [
    {
     "data": {
      "application/vnd.microsoft.datawrangler.viewer.v0+json": {
       "columns": [
        {
         "name": "index",
         "rawType": "int64",
         "type": "integer"
        },
        {
         "name": "mean_fit_time",
         "rawType": "float64",
         "type": "float"
        },
        {
         "name": "std_fit_time",
         "rawType": "float64",
         "type": "float"
        },
        {
         "name": "mean_score_time",
         "rawType": "float64",
         "type": "float"
        },
        {
         "name": "std_score_time",
         "rawType": "float64",
         "type": "float"
        },
        {
         "name": "param_svc__C",
         "rawType": "float64",
         "type": "float"
        },
        {
         "name": "param_svc__gamma",
         "rawType": "float64",
         "type": "float"
        },
        {
         "name": "params",
         "rawType": "object",
         "type": "unknown"
        },
        {
         "name": "split0_test_score",
         "rawType": "float64",
         "type": "float"
        },
        {
         "name": "split1_test_score",
         "rawType": "float64",
         "type": "float"
        },
        {
         "name": "split2_test_score",
         "rawType": "float64",
         "type": "float"
        },
        {
         "name": "split3_test_score",
         "rawType": "float64",
         "type": "float"
        },
        {
         "name": "split4_test_score",
         "rawType": "float64",
         "type": "float"
        },
        {
         "name": "split5_test_score",
         "rawType": "float64",
         "type": "float"
        },
        {
         "name": "split6_test_score",
         "rawType": "float64",
         "type": "float"
        },
        {
         "name": "split7_test_score",
         "rawType": "float64",
         "type": "float"
        },
        {
         "name": "split8_test_score",
         "rawType": "float64",
         "type": "float"
        },
        {
         "name": "split9_test_score",
         "rawType": "float64",
         "type": "float"
        },
        {
         "name": "mean_test_score",
         "rawType": "float64",
         "type": "float"
        },
        {
         "name": "std_test_score",
         "rawType": "float64",
         "type": "float"
        },
        {
         "name": "rank_test_score",
         "rawType": "int32",
         "type": "integer"
        }
       ],
       "ref": "6a35a014-2586-4c80-aca5-059bf699ad33",
       "rows": [
        [
         "0",
         "0.002024674415588379",
         "0.0006079122429513222",
         "0.0008598566055297852",
         "0.00014616930539950007",
         "0.01",
         "0.001",
         "{'svc__C': np.float64(0.01), 'svc__gamma': np.float64(0.001)}",
         "0.25",
         "0.6",
         "0.65",
         "0.65",
         "0.7",
         "0.55",
         "0.6",
         "0.4",
         "0.7",
         "0.6",
         "0.5700000000000001",
         "0.1345362404707371",
         "19"
        ],
        [
         "1",
         "0.001324462890625",
         "7.32472785531354e-05",
         "0.0006051778793334961",
         "6.831772371018509e-05",
         "0.01",
         "0.01",
         "{'svc__C': np.float64(0.01), 'svc__gamma': np.float64(0.01)}",
         "0.3",
         "0.5",
         "0.65",
         "0.65",
         "0.55",
         "0.65",
         "0.45",
         "0.55",
         "0.4",
         "0.6",
         "0.53",
         "0.11224972160321826",
         "23"
        ],
        [
         "2",
         "0.0012031316757202149",
         "0.00011967230760729715",
         "0.0005340337753295899",
         "5.812168199578461e-05",
         "0.01",
         "0.1",
         "{'svc__C': np.float64(0.01), 'svc__gamma': np.float64(0.1)}",
         "0.7",
         "0.65",
         "0.5",
         "0.7",
         "0.6",
         "0.85",
         "0.6",
         "0.6",
         "0.6",
         "0.7",
         "0.6499999999999999",
         "0.08944271909999157",
         "16"
        ],
        [
         "3",
         "0.0011689901351928712",
         "7.912160058079807e-05",
         "0.0005319118499755859",
         "6.813625915216677e-05",
         "0.01",
         "1.0",
         "{'svc__C': np.float64(0.01), 'svc__gamma': np.float64(1.0)}",
         "1.0",
         "0.75",
         "0.9",
         "0.85",
         "0.85",
         "1.0",
         "1.0",
         "0.9",
         "0.6",
         "0.95",
         "0.8799999999999999",
         "0.12083045973594572",
         "10"
        ],
        [
         "4",
         "0.0011414289474487305",
         "4.995608900925662e-05",
         "0.0005283594131469726",
         "6.825324307673056e-05",
         "0.01",
         "10.0",
         "{'svc__C': np.float64(0.01), 'svc__gamma': np.float64(10.0)}",
         "0.8",
         "0.9",
         "0.9",
         "0.85",
         "0.85",
         "0.9",
         "0.95",
         "0.95",
         "0.85",
         "0.8",
         "0.875",
         "0.051234753829797974",
         "11"
        ],
        [
         "5",
         "0.0011848211288452148",
         "8.955226853217624e-05",
         "0.0005091428756713867",
         "3.3038011004541094e-05",
         "0.1",
         "0.001",
         "{'svc__C': np.float64(0.1), 'svc__gamma': np.float64(0.001)}",
         "0.25",
         "0.6",
         "0.65",
         "0.65",
         "0.7",
         "0.55",
         "0.6",
         "0.4",
         "0.7",
         "0.6",
         "0.5700000000000001",
         "0.1345362404707371",
         "19"
        ],
        [
         "6",
         "0.0011310100555419922",
         "4.825862963613963e-05",
         "0.0004955768585205078",
         "2.1276557354526536e-05",
         "0.1",
         "0.01",
         "{'svc__C': np.float64(0.1), 'svc__gamma': np.float64(0.01)}",
         "0.3",
         "0.5",
         "0.65",
         "0.65",
         "0.55",
         "0.65",
         "0.45",
         "0.55",
         "0.4",
         "0.6",
         "0.53",
         "0.11224972160321826",
         "23"
        ],
        [
         "7",
         "0.001144242286682129",
         "5.087877615819179e-05",
         "0.0005076885223388672",
         "3.028351459572496e-05",
         "0.1",
         "0.1",
         "{'svc__C': np.float64(0.1), 'svc__gamma': np.float64(0.1)}",
         "0.7",
         "0.65",
         "0.5",
         "0.7",
         "0.6",
         "0.85",
         "0.6",
         "0.6",
         "0.6",
         "0.7",
         "0.6499999999999999",
         "0.08944271909999157",
         "16"
        ],
        [
         "8",
         "0.0010622024536132812",
         "4.4706478018606166e-05",
         "0.0004764080047607422",
         "2.646012313599122e-05",
         "0.1",
         "1.0",
         "{'svc__C': np.float64(0.1), 'svc__gamma': np.float64(1.0)}",
         "1.0",
         "0.8",
         "0.85",
         "0.9",
         "0.85",
         "1.0",
         "0.95",
         "0.9",
         "0.65",
         "0.95",
         "0.885",
         "0.10012492197250392",
         "9"
        ],
        [
         "9",
         "0.0011569976806640625",
         "6.970013737804561e-05",
         "0.0005096912384033204",
         "3.726335188239635e-05",
         "0.1",
         "10.0",
         "{'svc__C': np.float64(0.1), 'svc__gamma': np.float64(10.0)}",
         "0.8",
         "0.9",
         "0.9",
         "0.85",
         "0.85",
         "0.9",
         "0.95",
         "0.95",
         "0.85",
         "0.8",
         "0.875",
         "0.051234753829797974",
         "11"
        ],
        [
         "10",
         "0.0011514902114868164",
         "5.7824940410267976e-05",
         "0.0005151987075805664",
         "4.686371140887025e-05",
         "1.0",
         "0.001",
         "{'svc__C': np.float64(1.0), 'svc__gamma': np.float64(0.001)}",
         "0.25",
         "0.6",
         "0.65",
         "0.65",
         "0.7",
         "0.55",
         "0.6",
         "0.4",
         "0.7",
         "0.6",
         "0.5700000000000001",
         "0.1345362404707371",
         "19"
        ],
        [
         "11",
         "0.001161956787109375",
         "6.258096682731229e-05",
         "0.0005031585693359375",
         "2.3513487681424835e-05",
         "1.0",
         "0.01",
         "{'svc__C': np.float64(1.0), 'svc__gamma': np.float64(0.01)}",
         "0.3",
         "0.5",
         "0.65",
         "0.65",
         "0.55",
         "0.65",
         "0.45",
         "0.55",
         "0.4",
         "0.6",
         "0.53",
         "0.11224972160321826",
         "23"
        ],
        [
         "12",
         "0.000999617576599121",
         "3.5586087485126004e-05",
         "0.0004582405090332031",
         "1.1645472455770774e-05",
         "1.0",
         "0.1",
         "{'svc__C': np.float64(1.0), 'svc__gamma': np.float64(0.1)}",
         "0.9",
         "0.7",
         "0.8",
         "0.8",
         "0.75",
         "0.9",
         "0.7",
         "0.8",
         "0.75",
         "0.85",
         "0.7949999999999999",
         "0.06873863542433761",
         "14"
        ],
        [
         "13",
         "0.00079345703125",
         "2.402047957066523e-05",
         "0.0004110574722290039",
         "5.053646654237624e-05",
         "1.0",
         "1.0",
         "{'svc__C': np.float64(1.0), 'svc__gamma': np.float64(1.0)}",
         "1.0",
         "0.9",
         "0.9",
         "0.95",
         "0.85",
         "1.0",
         "1.0",
         "0.95",
         "0.8",
         "0.9",
         "0.925",
         "0.06422616289332564",
         "5"
        ],
        [
         "14",
         "0.001156449317932129",
         "8.129285189645093e-05",
         "0.0004582405090332031",
         "2.4726202213427494e-05",
         "1.0",
         "10.0",
         "{'svc__C': np.float64(1.0), 'svc__gamma': np.float64(10.0)}",
         "1.0",
         "0.95",
         "0.85",
         "0.95",
         "0.95",
         "0.95",
         "0.95",
         "0.95",
         "0.8",
         "0.95",
         "0.9299999999999999",
         "0.055677643628300195",
         "4"
        ],
        [
         "15",
         "0.0011334657669067384",
         "3.8032875195791853e-05",
         "0.0005022764205932617",
         "1.8341208282238397e-05",
         "10.0",
         "0.001",
         "{'svc__C': np.float64(10.0), 'svc__gamma': np.float64(0.001)}",
         "0.25",
         "0.6",
         "0.65",
         "0.65",
         "0.7",
         "0.55",
         "0.6",
         "0.4",
         "0.7",
         "0.6",
         "0.5700000000000001",
         "0.1345362404707371",
         "19"
        ],
        [
         "16",
         "0.0012381553649902343",
         "0.0001928398916840875",
         "0.0005103826522827148",
         "3.250949888795039e-05",
         "10.0",
         "0.01",
         "{'svc__C': np.float64(10.0), 'svc__gamma': np.float64(0.01)}",
         "0.7",
         "0.65",
         "0.55",
         "0.7",
         "0.6",
         "0.85",
         "0.55",
         "0.65",
         "0.6",
         "0.7",
         "0.655",
         "0.08499999999999998",
         "15"
        ],
        [
         "17",
         "0.0008767127990722656",
         "5.5801031853692586e-05",
         "0.00041837692260742186",
         "2.8578979591767298e-05",
         "10.0",
         "0.1",
         "{'svc__C': np.float64(10.0), 'svc__gamma': np.float64(0.1)}",
         "0.95",
         "0.8",
         "0.85",
         "0.85",
         "0.9",
         "1.0",
         "1.0",
         "0.9",
         "0.75",
         "0.95",
         "0.8949999999999999",
         "0.0788986691902975",
         "8"
        ],
        [
         "18",
         "0.000719141960144043",
         "4.449494357718943e-05",
         "0.0003639936447143555",
         "7.467527190217741e-06",
         "10.0",
         "1.0",
         "{'svc__C': np.float64(10.0), 'svc__gamma': np.float64(1.0)}",
         "1.0",
         "0.95",
         "0.9",
         "0.95",
         "1.0",
         "1.0",
         "1.0",
         "1.0",
         "0.8",
         "0.95",
         "0.9549999999999998",
         "0.0610327780786685",
         "2"
        ],
        [
         "19",
         "0.0011862993240356445",
         "4.40417974077502e-05",
         "0.0004269123077392578",
         "2.3928769962571696e-05",
         "10.0",
         "10.0",
         "{'svc__C': np.float64(10.0), 'svc__gamma': np.float64(10.0)}",
         "1.0",
         "0.95",
         "0.85",
         "0.9",
         "0.95",
         "0.95",
         "0.85",
         "0.85",
         "0.8",
         "0.95",
         "0.9049999999999999",
         "0.0610327780786685",
         "6"
        ],
        [
         "20",
         "0.0011492252349853515",
         "4.6160053562502387e-05",
         "0.0004890918731689453",
         "1.7906235287268738e-05",
         "100.0",
         "0.001",
         "{'svc__C': np.float64(100.0), 'svc__gamma': np.float64(0.001)}",
         "0.35",
         "0.55",
         "0.8",
         "0.6",
         "0.6",
         "0.75",
         "0.6",
         "0.4",
         "0.65",
         "0.6",
         "0.5900000000000001",
         "0.13",
         "18"
        ],
        [
         "21",
         "0.0010655641555786133",
         "3.255213475005986e-05",
         "0.00044918060302734375",
         "1.2116731499612218e-05",
         "100.0",
         "0.01",
         "{'svc__C': np.float64(100.0), 'svc__gamma': np.float64(0.01)}",
         "0.9",
         "0.7",
         "0.8",
         "0.8",
         "0.8",
         "0.9",
         "0.7",
         "0.8",
         "0.75",
         "0.85",
         "0.8",
         "0.06708203932499371",
         "13"
        ],
        [
         "22",
         "0.000830841064453125",
         "6.765425356204988e-05",
         "0.00037894248962402346",
         "2.168487426573884e-05",
         "100.0",
         "0.1",
         "{'svc__C': np.float64(100.0), 'svc__gamma': np.float64(0.1)}",
         "1.0",
         "0.9",
         "0.9",
         "0.95",
         "0.9",
         "1.0",
         "1.0",
         "1.0",
         "0.9",
         "1.0",
         "0.9550000000000001",
         "0.04716990566028301",
         "1"
        ],
        [
         "23",
         "0.0007821321487426758",
         "7.577242899315744e-05",
         "0.00036249160766601565",
         "3.394718900983496e-05",
         "100.0",
         "1.0",
         "{'svc__C': np.float64(100.0), 'svc__gamma': np.float64(1.0)}",
         "0.95",
         "0.95",
         "0.9",
         "1.0",
         "0.95",
         "0.95",
         "0.9",
         "0.95",
         "0.85",
         "0.95",
         "0.9349999999999999",
         "0.03905124837953326",
         "3"
        ],
        [
         "24",
         "0.0011942625045776368",
         "3.9231913026489345e-05",
         "0.00041921138763427733",
         "7.189061472990425e-06",
         "100.0",
         "10.0",
         "{'svc__C': np.float64(100.0), 'svc__gamma': np.float64(10.0)}",
         "1.0",
         "0.95",
         "0.85",
         "0.9",
         "0.95",
         "0.95",
         "0.85",
         "0.85",
         "0.8",
         "0.95",
         "0.9049999999999999",
         "0.0610327780786685",
         "6"
        ]
       ],
       "shape": {
        "columns": 20,
        "rows": 25
       }
      },
      "text/html": [
       "<div>\n",
       "<style scoped>\n",
       "    .dataframe tbody tr th:only-of-type {\n",
       "        vertical-align: middle;\n",
       "    }\n",
       "\n",
       "    .dataframe tbody tr th {\n",
       "        vertical-align: top;\n",
       "    }\n",
       "\n",
       "    .dataframe thead th {\n",
       "        text-align: right;\n",
       "    }\n",
       "</style>\n",
       "<table border=\"1\" class=\"dataframe\">\n",
       "  <thead>\n",
       "    <tr style=\"text-align: right;\">\n",
       "      <th></th>\n",
       "      <th>mean_fit_time</th>\n",
       "      <th>std_fit_time</th>\n",
       "      <th>mean_score_time</th>\n",
       "      <th>std_score_time</th>\n",
       "      <th>param_svc__C</th>\n",
       "      <th>param_svc__gamma</th>\n",
       "      <th>params</th>\n",
       "      <th>split0_test_score</th>\n",
       "      <th>split1_test_score</th>\n",
       "      <th>split2_test_score</th>\n",
       "      <th>split3_test_score</th>\n",
       "      <th>split4_test_score</th>\n",
       "      <th>split5_test_score</th>\n",
       "      <th>split6_test_score</th>\n",
       "      <th>split7_test_score</th>\n",
       "      <th>split8_test_score</th>\n",
       "      <th>split9_test_score</th>\n",
       "      <th>mean_test_score</th>\n",
       "      <th>std_test_score</th>\n",
       "      <th>rank_test_score</th>\n",
       "    </tr>\n",
       "  </thead>\n",
       "  <tbody>\n",
       "    <tr>\n",
       "      <th>0</th>\n",
       "      <td>0.002025</td>\n",
       "      <td>0.000608</td>\n",
       "      <td>0.000860</td>\n",
       "      <td>0.000146</td>\n",
       "      <td>0.01</td>\n",
       "      <td>0.001</td>\n",
       "      <td>{'svc__C': 0.01, 'svc__gamma': 0.001}</td>\n",
       "      <td>0.25</td>\n",
       "      <td>0.60</td>\n",
       "      <td>0.65</td>\n",
       "      <td>0.65</td>\n",
       "      <td>0.70</td>\n",
       "      <td>0.55</td>\n",
       "      <td>0.60</td>\n",
       "      <td>0.40</td>\n",
       "      <td>0.70</td>\n",
       "      <td>0.60</td>\n",
       "      <td>0.570</td>\n",
       "      <td>0.134536</td>\n",
       "      <td>19</td>\n",
       "    </tr>\n",
       "    <tr>\n",
       "      <th>1</th>\n",
       "      <td>0.001324</td>\n",
       "      <td>0.000073</td>\n",
       "      <td>0.000605</td>\n",
       "      <td>0.000068</td>\n",
       "      <td>0.01</td>\n",
       "      <td>0.010</td>\n",
       "      <td>{'svc__C': 0.01, 'svc__gamma': 0.01}</td>\n",
       "      <td>0.30</td>\n",
       "      <td>0.50</td>\n",
       "      <td>0.65</td>\n",
       "      <td>0.65</td>\n",
       "      <td>0.55</td>\n",
       "      <td>0.65</td>\n",
       "      <td>0.45</td>\n",
       "      <td>0.55</td>\n",
       "      <td>0.40</td>\n",
       "      <td>0.60</td>\n",
       "      <td>0.530</td>\n",
       "      <td>0.112250</td>\n",
       "      <td>23</td>\n",
       "    </tr>\n",
       "    <tr>\n",
       "      <th>2</th>\n",
       "      <td>0.001203</td>\n",
       "      <td>0.000120</td>\n",
       "      <td>0.000534</td>\n",
       "      <td>0.000058</td>\n",
       "      <td>0.01</td>\n",
       "      <td>0.100</td>\n",
       "      <td>{'svc__C': 0.01, 'svc__gamma': 0.1}</td>\n",
       "      <td>0.70</td>\n",
       "      <td>0.65</td>\n",
       "      <td>0.50</td>\n",
       "      <td>0.70</td>\n",
       "      <td>0.60</td>\n",
       "      <td>0.85</td>\n",
       "      <td>0.60</td>\n",
       "      <td>0.60</td>\n",
       "      <td>0.60</td>\n",
       "      <td>0.70</td>\n",
       "      <td>0.650</td>\n",
       "      <td>0.089443</td>\n",
       "      <td>16</td>\n",
       "    </tr>\n",
       "    <tr>\n",
       "      <th>3</th>\n",
       "      <td>0.001169</td>\n",
       "      <td>0.000079</td>\n",
       "      <td>0.000532</td>\n",
       "      <td>0.000068</td>\n",
       "      <td>0.01</td>\n",
       "      <td>1.000</td>\n",
       "      <td>{'svc__C': 0.01, 'svc__gamma': 1.0}</td>\n",
       "      <td>1.00</td>\n",
       "      <td>0.75</td>\n",
       "      <td>0.90</td>\n",
       "      <td>0.85</td>\n",
       "      <td>0.85</td>\n",
       "      <td>1.00</td>\n",
       "      <td>1.00</td>\n",
       "      <td>0.90</td>\n",
       "      <td>0.60</td>\n",
       "      <td>0.95</td>\n",
       "      <td>0.880</td>\n",
       "      <td>0.120830</td>\n",
       "      <td>10</td>\n",
       "    </tr>\n",
       "    <tr>\n",
       "      <th>4</th>\n",
       "      <td>0.001141</td>\n",
       "      <td>0.000050</td>\n",
       "      <td>0.000528</td>\n",
       "      <td>0.000068</td>\n",
       "      <td>0.01</td>\n",
       "      <td>10.000</td>\n",
       "      <td>{'svc__C': 0.01, 'svc__gamma': 10.0}</td>\n",
       "      <td>0.80</td>\n",
       "      <td>0.90</td>\n",
       "      <td>0.90</td>\n",
       "      <td>0.85</td>\n",
       "      <td>0.85</td>\n",
       "      <td>0.90</td>\n",
       "      <td>0.95</td>\n",
       "      <td>0.95</td>\n",
       "      <td>0.85</td>\n",
       "      <td>0.80</td>\n",
       "      <td>0.875</td>\n",
       "      <td>0.051235</td>\n",
       "      <td>11</td>\n",
       "    </tr>\n",
       "    <tr>\n",
       "      <th>5</th>\n",
       "      <td>0.001185</td>\n",
       "      <td>0.000090</td>\n",
       "      <td>0.000509</td>\n",
       "      <td>0.000033</td>\n",
       "      <td>0.10</td>\n",
       "      <td>0.001</td>\n",
       "      <td>{'svc__C': 0.1, 'svc__gamma': 0.001}</td>\n",
       "      <td>0.25</td>\n",
       "      <td>0.60</td>\n",
       "      <td>0.65</td>\n",
       "      <td>0.65</td>\n",
       "      <td>0.70</td>\n",
       "      <td>0.55</td>\n",
       "      <td>0.60</td>\n",
       "      <td>0.40</td>\n",
       "      <td>0.70</td>\n",
       "      <td>0.60</td>\n",
       "      <td>0.570</td>\n",
       "      <td>0.134536</td>\n",
       "      <td>19</td>\n",
       "    </tr>\n",
       "    <tr>\n",
       "      <th>6</th>\n",
       "      <td>0.001131</td>\n",
       "      <td>0.000048</td>\n",
       "      <td>0.000496</td>\n",
       "      <td>0.000021</td>\n",
       "      <td>0.10</td>\n",
       "      <td>0.010</td>\n",
       "      <td>{'svc__C': 0.1, 'svc__gamma': 0.01}</td>\n",
       "      <td>0.30</td>\n",
       "      <td>0.50</td>\n",
       "      <td>0.65</td>\n",
       "      <td>0.65</td>\n",
       "      <td>0.55</td>\n",
       "      <td>0.65</td>\n",
       "      <td>0.45</td>\n",
       "      <td>0.55</td>\n",
       "      <td>0.40</td>\n",
       "      <td>0.60</td>\n",
       "      <td>0.530</td>\n",
       "      <td>0.112250</td>\n",
       "      <td>23</td>\n",
       "    </tr>\n",
       "    <tr>\n",
       "      <th>7</th>\n",
       "      <td>0.001144</td>\n",
       "      <td>0.000051</td>\n",
       "      <td>0.000508</td>\n",
       "      <td>0.000030</td>\n",
       "      <td>0.10</td>\n",
       "      <td>0.100</td>\n",
       "      <td>{'svc__C': 0.1, 'svc__gamma': 0.1}</td>\n",
       "      <td>0.70</td>\n",
       "      <td>0.65</td>\n",
       "      <td>0.50</td>\n",
       "      <td>0.70</td>\n",
       "      <td>0.60</td>\n",
       "      <td>0.85</td>\n",
       "      <td>0.60</td>\n",
       "      <td>0.60</td>\n",
       "      <td>0.60</td>\n",
       "      <td>0.70</td>\n",
       "      <td>0.650</td>\n",
       "      <td>0.089443</td>\n",
       "      <td>16</td>\n",
       "    </tr>\n",
       "    <tr>\n",
       "      <th>8</th>\n",
       "      <td>0.001062</td>\n",
       "      <td>0.000045</td>\n",
       "      <td>0.000476</td>\n",
       "      <td>0.000026</td>\n",
       "      <td>0.10</td>\n",
       "      <td>1.000</td>\n",
       "      <td>{'svc__C': 0.1, 'svc__gamma': 1.0}</td>\n",
       "      <td>1.00</td>\n",
       "      <td>0.80</td>\n",
       "      <td>0.85</td>\n",
       "      <td>0.90</td>\n",
       "      <td>0.85</td>\n",
       "      <td>1.00</td>\n",
       "      <td>0.95</td>\n",
       "      <td>0.90</td>\n",
       "      <td>0.65</td>\n",
       "      <td>0.95</td>\n",
       "      <td>0.885</td>\n",
       "      <td>0.100125</td>\n",
       "      <td>9</td>\n",
       "    </tr>\n",
       "    <tr>\n",
       "      <th>9</th>\n",
       "      <td>0.001157</td>\n",
       "      <td>0.000070</td>\n",
       "      <td>0.000510</td>\n",
       "      <td>0.000037</td>\n",
       "      <td>0.10</td>\n",
       "      <td>10.000</td>\n",
       "      <td>{'svc__C': 0.1, 'svc__gamma': 10.0}</td>\n",
       "      <td>0.80</td>\n",
       "      <td>0.90</td>\n",
       "      <td>0.90</td>\n",
       "      <td>0.85</td>\n",
       "      <td>0.85</td>\n",
       "      <td>0.90</td>\n",
       "      <td>0.95</td>\n",
       "      <td>0.95</td>\n",
       "      <td>0.85</td>\n",
       "      <td>0.80</td>\n",
       "      <td>0.875</td>\n",
       "      <td>0.051235</td>\n",
       "      <td>11</td>\n",
       "    </tr>\n",
       "    <tr>\n",
       "      <th>10</th>\n",
       "      <td>0.001151</td>\n",
       "      <td>0.000058</td>\n",
       "      <td>0.000515</td>\n",
       "      <td>0.000047</td>\n",
       "      <td>1.00</td>\n",
       "      <td>0.001</td>\n",
       "      <td>{'svc__C': 1.0, 'svc__gamma': 0.001}</td>\n",
       "      <td>0.25</td>\n",
       "      <td>0.60</td>\n",
       "      <td>0.65</td>\n",
       "      <td>0.65</td>\n",
       "      <td>0.70</td>\n",
       "      <td>0.55</td>\n",
       "      <td>0.60</td>\n",
       "      <td>0.40</td>\n",
       "      <td>0.70</td>\n",
       "      <td>0.60</td>\n",
       "      <td>0.570</td>\n",
       "      <td>0.134536</td>\n",
       "      <td>19</td>\n",
       "    </tr>\n",
       "    <tr>\n",
       "      <th>11</th>\n",
       "      <td>0.001162</td>\n",
       "      <td>0.000063</td>\n",
       "      <td>0.000503</td>\n",
       "      <td>0.000024</td>\n",
       "      <td>1.00</td>\n",
       "      <td>0.010</td>\n",
       "      <td>{'svc__C': 1.0, 'svc__gamma': 0.01}</td>\n",
       "      <td>0.30</td>\n",
       "      <td>0.50</td>\n",
       "      <td>0.65</td>\n",
       "      <td>0.65</td>\n",
       "      <td>0.55</td>\n",
       "      <td>0.65</td>\n",
       "      <td>0.45</td>\n",
       "      <td>0.55</td>\n",
       "      <td>0.40</td>\n",
       "      <td>0.60</td>\n",
       "      <td>0.530</td>\n",
       "      <td>0.112250</td>\n",
       "      <td>23</td>\n",
       "    </tr>\n",
       "    <tr>\n",
       "      <th>12</th>\n",
       "      <td>0.001000</td>\n",
       "      <td>0.000036</td>\n",
       "      <td>0.000458</td>\n",
       "      <td>0.000012</td>\n",
       "      <td>1.00</td>\n",
       "      <td>0.100</td>\n",
       "      <td>{'svc__C': 1.0, 'svc__gamma': 0.1}</td>\n",
       "      <td>0.90</td>\n",
       "      <td>0.70</td>\n",
       "      <td>0.80</td>\n",
       "      <td>0.80</td>\n",
       "      <td>0.75</td>\n",
       "      <td>0.90</td>\n",
       "      <td>0.70</td>\n",
       "      <td>0.80</td>\n",
       "      <td>0.75</td>\n",
       "      <td>0.85</td>\n",
       "      <td>0.795</td>\n",
       "      <td>0.068739</td>\n",
       "      <td>14</td>\n",
       "    </tr>\n",
       "    <tr>\n",
       "      <th>13</th>\n",
       "      <td>0.000793</td>\n",
       "      <td>0.000024</td>\n",
       "      <td>0.000411</td>\n",
       "      <td>0.000051</td>\n",
       "      <td>1.00</td>\n",
       "      <td>1.000</td>\n",
       "      <td>{'svc__C': 1.0, 'svc__gamma': 1.0}</td>\n",
       "      <td>1.00</td>\n",
       "      <td>0.90</td>\n",
       "      <td>0.90</td>\n",
       "      <td>0.95</td>\n",
       "      <td>0.85</td>\n",
       "      <td>1.00</td>\n",
       "      <td>1.00</td>\n",
       "      <td>0.95</td>\n",
       "      <td>0.80</td>\n",
       "      <td>0.90</td>\n",
       "      <td>0.925</td>\n",
       "      <td>0.064226</td>\n",
       "      <td>5</td>\n",
       "    </tr>\n",
       "    <tr>\n",
       "      <th>14</th>\n",
       "      <td>0.001156</td>\n",
       "      <td>0.000081</td>\n",
       "      <td>0.000458</td>\n",
       "      <td>0.000025</td>\n",
       "      <td>1.00</td>\n",
       "      <td>10.000</td>\n",
       "      <td>{'svc__C': 1.0, 'svc__gamma': 10.0}</td>\n",
       "      <td>1.00</td>\n",
       "      <td>0.95</td>\n",
       "      <td>0.85</td>\n",
       "      <td>0.95</td>\n",
       "      <td>0.95</td>\n",
       "      <td>0.95</td>\n",
       "      <td>0.95</td>\n",
       "      <td>0.95</td>\n",
       "      <td>0.80</td>\n",
       "      <td>0.95</td>\n",
       "      <td>0.930</td>\n",
       "      <td>0.055678</td>\n",
       "      <td>4</td>\n",
       "    </tr>\n",
       "    <tr>\n",
       "      <th>15</th>\n",
       "      <td>0.001133</td>\n",
       "      <td>0.000038</td>\n",
       "      <td>0.000502</td>\n",
       "      <td>0.000018</td>\n",
       "      <td>10.00</td>\n",
       "      <td>0.001</td>\n",
       "      <td>{'svc__C': 10.0, 'svc__gamma': 0.001}</td>\n",
       "      <td>0.25</td>\n",
       "      <td>0.60</td>\n",
       "      <td>0.65</td>\n",
       "      <td>0.65</td>\n",
       "      <td>0.70</td>\n",
       "      <td>0.55</td>\n",
       "      <td>0.60</td>\n",
       "      <td>0.40</td>\n",
       "      <td>0.70</td>\n",
       "      <td>0.60</td>\n",
       "      <td>0.570</td>\n",
       "      <td>0.134536</td>\n",
       "      <td>19</td>\n",
       "    </tr>\n",
       "    <tr>\n",
       "      <th>16</th>\n",
       "      <td>0.001238</td>\n",
       "      <td>0.000193</td>\n",
       "      <td>0.000510</td>\n",
       "      <td>0.000033</td>\n",
       "      <td>10.00</td>\n",
       "      <td>0.010</td>\n",
       "      <td>{'svc__C': 10.0, 'svc__gamma': 0.01}</td>\n",
       "      <td>0.70</td>\n",
       "      <td>0.65</td>\n",
       "      <td>0.55</td>\n",
       "      <td>0.70</td>\n",
       "      <td>0.60</td>\n",
       "      <td>0.85</td>\n",
       "      <td>0.55</td>\n",
       "      <td>0.65</td>\n",
       "      <td>0.60</td>\n",
       "      <td>0.70</td>\n",
       "      <td>0.655</td>\n",
       "      <td>0.085000</td>\n",
       "      <td>15</td>\n",
       "    </tr>\n",
       "    <tr>\n",
       "      <th>17</th>\n",
       "      <td>0.000877</td>\n",
       "      <td>0.000056</td>\n",
       "      <td>0.000418</td>\n",
       "      <td>0.000029</td>\n",
       "      <td>10.00</td>\n",
       "      <td>0.100</td>\n",
       "      <td>{'svc__C': 10.0, 'svc__gamma': 0.1}</td>\n",
       "      <td>0.95</td>\n",
       "      <td>0.80</td>\n",
       "      <td>0.85</td>\n",
       "      <td>0.85</td>\n",
       "      <td>0.90</td>\n",
       "      <td>1.00</td>\n",
       "      <td>1.00</td>\n",
       "      <td>0.90</td>\n",
       "      <td>0.75</td>\n",
       "      <td>0.95</td>\n",
       "      <td>0.895</td>\n",
       "      <td>0.078899</td>\n",
       "      <td>8</td>\n",
       "    </tr>\n",
       "    <tr>\n",
       "      <th>18</th>\n",
       "      <td>0.000719</td>\n",
       "      <td>0.000044</td>\n",
       "      <td>0.000364</td>\n",
       "      <td>0.000007</td>\n",
       "      <td>10.00</td>\n",
       "      <td>1.000</td>\n",
       "      <td>{'svc__C': 10.0, 'svc__gamma': 1.0}</td>\n",
       "      <td>1.00</td>\n",
       "      <td>0.95</td>\n",
       "      <td>0.90</td>\n",
       "      <td>0.95</td>\n",
       "      <td>1.00</td>\n",
       "      <td>1.00</td>\n",
       "      <td>1.00</td>\n",
       "      <td>1.00</td>\n",
       "      <td>0.80</td>\n",
       "      <td>0.95</td>\n",
       "      <td>0.955</td>\n",
       "      <td>0.061033</td>\n",
       "      <td>2</td>\n",
       "    </tr>\n",
       "    <tr>\n",
       "      <th>19</th>\n",
       "      <td>0.001186</td>\n",
       "      <td>0.000044</td>\n",
       "      <td>0.000427</td>\n",
       "      <td>0.000024</td>\n",
       "      <td>10.00</td>\n",
       "      <td>10.000</td>\n",
       "      <td>{'svc__C': 10.0, 'svc__gamma': 10.0}</td>\n",
       "      <td>1.00</td>\n",
       "      <td>0.95</td>\n",
       "      <td>0.85</td>\n",
       "      <td>0.90</td>\n",
       "      <td>0.95</td>\n",
       "      <td>0.95</td>\n",
       "      <td>0.85</td>\n",
       "      <td>0.85</td>\n",
       "      <td>0.80</td>\n",
       "      <td>0.95</td>\n",
       "      <td>0.905</td>\n",
       "      <td>0.061033</td>\n",
       "      <td>6</td>\n",
       "    </tr>\n",
       "    <tr>\n",
       "      <th>20</th>\n",
       "      <td>0.001149</td>\n",
       "      <td>0.000046</td>\n",
       "      <td>0.000489</td>\n",
       "      <td>0.000018</td>\n",
       "      <td>100.00</td>\n",
       "      <td>0.001</td>\n",
       "      <td>{'svc__C': 100.0, 'svc__gamma': 0.001}</td>\n",
       "      <td>0.35</td>\n",
       "      <td>0.55</td>\n",
       "      <td>0.80</td>\n",
       "      <td>0.60</td>\n",
       "      <td>0.60</td>\n",
       "      <td>0.75</td>\n",
       "      <td>0.60</td>\n",
       "      <td>0.40</td>\n",
       "      <td>0.65</td>\n",
       "      <td>0.60</td>\n",
       "      <td>0.590</td>\n",
       "      <td>0.130000</td>\n",
       "      <td>18</td>\n",
       "    </tr>\n",
       "    <tr>\n",
       "      <th>21</th>\n",
       "      <td>0.001066</td>\n",
       "      <td>0.000033</td>\n",
       "      <td>0.000449</td>\n",
       "      <td>0.000012</td>\n",
       "      <td>100.00</td>\n",
       "      <td>0.010</td>\n",
       "      <td>{'svc__C': 100.0, 'svc__gamma': 0.01}</td>\n",
       "      <td>0.90</td>\n",
       "      <td>0.70</td>\n",
       "      <td>0.80</td>\n",
       "      <td>0.80</td>\n",
       "      <td>0.80</td>\n",
       "      <td>0.90</td>\n",
       "      <td>0.70</td>\n",
       "      <td>0.80</td>\n",
       "      <td>0.75</td>\n",
       "      <td>0.85</td>\n",
       "      <td>0.800</td>\n",
       "      <td>0.067082</td>\n",
       "      <td>13</td>\n",
       "    </tr>\n",
       "    <tr>\n",
       "      <th>22</th>\n",
       "      <td>0.000831</td>\n",
       "      <td>0.000068</td>\n",
       "      <td>0.000379</td>\n",
       "      <td>0.000022</td>\n",
       "      <td>100.00</td>\n",
       "      <td>0.100</td>\n",
       "      <td>{'svc__C': 100.0, 'svc__gamma': 0.1}</td>\n",
       "      <td>1.00</td>\n",
       "      <td>0.90</td>\n",
       "      <td>0.90</td>\n",
       "      <td>0.95</td>\n",
       "      <td>0.90</td>\n",
       "      <td>1.00</td>\n",
       "      <td>1.00</td>\n",
       "      <td>1.00</td>\n",
       "      <td>0.90</td>\n",
       "      <td>1.00</td>\n",
       "      <td>0.955</td>\n",
       "      <td>0.047170</td>\n",
       "      <td>1</td>\n",
       "    </tr>\n",
       "    <tr>\n",
       "      <th>23</th>\n",
       "      <td>0.000782</td>\n",
       "      <td>0.000076</td>\n",
       "      <td>0.000362</td>\n",
       "      <td>0.000034</td>\n",
       "      <td>100.00</td>\n",
       "      <td>1.000</td>\n",
       "      <td>{'svc__C': 100.0, 'svc__gamma': 1.0}</td>\n",
       "      <td>0.95</td>\n",
       "      <td>0.95</td>\n",
       "      <td>0.90</td>\n",
       "      <td>1.00</td>\n",
       "      <td>0.95</td>\n",
       "      <td>0.95</td>\n",
       "      <td>0.90</td>\n",
       "      <td>0.95</td>\n",
       "      <td>0.85</td>\n",
       "      <td>0.95</td>\n",
       "      <td>0.935</td>\n",
       "      <td>0.039051</td>\n",
       "      <td>3</td>\n",
       "    </tr>\n",
       "    <tr>\n",
       "      <th>24</th>\n",
       "      <td>0.001194</td>\n",
       "      <td>0.000039</td>\n",
       "      <td>0.000419</td>\n",
       "      <td>0.000007</td>\n",
       "      <td>100.00</td>\n",
       "      <td>10.000</td>\n",
       "      <td>{'svc__C': 100.0, 'svc__gamma': 10.0}</td>\n",
       "      <td>1.00</td>\n",
       "      <td>0.95</td>\n",
       "      <td>0.85</td>\n",
       "      <td>0.90</td>\n",
       "      <td>0.95</td>\n",
       "      <td>0.95</td>\n",
       "      <td>0.85</td>\n",
       "      <td>0.85</td>\n",
       "      <td>0.80</td>\n",
       "      <td>0.95</td>\n",
       "      <td>0.905</td>\n",
       "      <td>0.061033</td>\n",
       "      <td>6</td>\n",
       "    </tr>\n",
       "  </tbody>\n",
       "</table>\n",
       "</div>"
      ],
      "text/plain": [
       "    mean_fit_time  std_fit_time  mean_score_time  std_score_time  \\\n",
       "0        0.002025      0.000608         0.000860        0.000146   \n",
       "1        0.001324      0.000073         0.000605        0.000068   \n",
       "2        0.001203      0.000120         0.000534        0.000058   \n",
       "3        0.001169      0.000079         0.000532        0.000068   \n",
       "4        0.001141      0.000050         0.000528        0.000068   \n",
       "5        0.001185      0.000090         0.000509        0.000033   \n",
       "6        0.001131      0.000048         0.000496        0.000021   \n",
       "7        0.001144      0.000051         0.000508        0.000030   \n",
       "8        0.001062      0.000045         0.000476        0.000026   \n",
       "9        0.001157      0.000070         0.000510        0.000037   \n",
       "10       0.001151      0.000058         0.000515        0.000047   \n",
       "11       0.001162      0.000063         0.000503        0.000024   \n",
       "12       0.001000      0.000036         0.000458        0.000012   \n",
       "13       0.000793      0.000024         0.000411        0.000051   \n",
       "14       0.001156      0.000081         0.000458        0.000025   \n",
       "15       0.001133      0.000038         0.000502        0.000018   \n",
       "16       0.001238      0.000193         0.000510        0.000033   \n",
       "17       0.000877      0.000056         0.000418        0.000029   \n",
       "18       0.000719      0.000044         0.000364        0.000007   \n",
       "19       0.001186      0.000044         0.000427        0.000024   \n",
       "20       0.001149      0.000046         0.000489        0.000018   \n",
       "21       0.001066      0.000033         0.000449        0.000012   \n",
       "22       0.000831      0.000068         0.000379        0.000022   \n",
       "23       0.000782      0.000076         0.000362        0.000034   \n",
       "24       0.001194      0.000039         0.000419        0.000007   \n",
       "\n",
       "    param_svc__C  param_svc__gamma                                  params  \\\n",
       "0           0.01             0.001   {'svc__C': 0.01, 'svc__gamma': 0.001}   \n",
       "1           0.01             0.010    {'svc__C': 0.01, 'svc__gamma': 0.01}   \n",
       "2           0.01             0.100     {'svc__C': 0.01, 'svc__gamma': 0.1}   \n",
       "3           0.01             1.000     {'svc__C': 0.01, 'svc__gamma': 1.0}   \n",
       "4           0.01            10.000    {'svc__C': 0.01, 'svc__gamma': 10.0}   \n",
       "5           0.10             0.001    {'svc__C': 0.1, 'svc__gamma': 0.001}   \n",
       "6           0.10             0.010     {'svc__C': 0.1, 'svc__gamma': 0.01}   \n",
       "7           0.10             0.100      {'svc__C': 0.1, 'svc__gamma': 0.1}   \n",
       "8           0.10             1.000      {'svc__C': 0.1, 'svc__gamma': 1.0}   \n",
       "9           0.10            10.000     {'svc__C': 0.1, 'svc__gamma': 10.0}   \n",
       "10          1.00             0.001    {'svc__C': 1.0, 'svc__gamma': 0.001}   \n",
       "11          1.00             0.010     {'svc__C': 1.0, 'svc__gamma': 0.01}   \n",
       "12          1.00             0.100      {'svc__C': 1.0, 'svc__gamma': 0.1}   \n",
       "13          1.00             1.000      {'svc__C': 1.0, 'svc__gamma': 1.0}   \n",
       "14          1.00            10.000     {'svc__C': 1.0, 'svc__gamma': 10.0}   \n",
       "15         10.00             0.001   {'svc__C': 10.0, 'svc__gamma': 0.001}   \n",
       "16         10.00             0.010    {'svc__C': 10.0, 'svc__gamma': 0.01}   \n",
       "17         10.00             0.100     {'svc__C': 10.0, 'svc__gamma': 0.1}   \n",
       "18         10.00             1.000     {'svc__C': 10.0, 'svc__gamma': 1.0}   \n",
       "19         10.00            10.000    {'svc__C': 10.0, 'svc__gamma': 10.0}   \n",
       "20        100.00             0.001  {'svc__C': 100.0, 'svc__gamma': 0.001}   \n",
       "21        100.00             0.010   {'svc__C': 100.0, 'svc__gamma': 0.01}   \n",
       "22        100.00             0.100    {'svc__C': 100.0, 'svc__gamma': 0.1}   \n",
       "23        100.00             1.000    {'svc__C': 100.0, 'svc__gamma': 1.0}   \n",
       "24        100.00            10.000   {'svc__C': 100.0, 'svc__gamma': 10.0}   \n",
       "\n",
       "    split0_test_score  split1_test_score  split2_test_score  \\\n",
       "0                0.25               0.60               0.65   \n",
       "1                0.30               0.50               0.65   \n",
       "2                0.70               0.65               0.50   \n",
       "3                1.00               0.75               0.90   \n",
       "4                0.80               0.90               0.90   \n",
       "5                0.25               0.60               0.65   \n",
       "6                0.30               0.50               0.65   \n",
       "7                0.70               0.65               0.50   \n",
       "8                1.00               0.80               0.85   \n",
       "9                0.80               0.90               0.90   \n",
       "10               0.25               0.60               0.65   \n",
       "11               0.30               0.50               0.65   \n",
       "12               0.90               0.70               0.80   \n",
       "13               1.00               0.90               0.90   \n",
       "14               1.00               0.95               0.85   \n",
       "15               0.25               0.60               0.65   \n",
       "16               0.70               0.65               0.55   \n",
       "17               0.95               0.80               0.85   \n",
       "18               1.00               0.95               0.90   \n",
       "19               1.00               0.95               0.85   \n",
       "20               0.35               0.55               0.80   \n",
       "21               0.90               0.70               0.80   \n",
       "22               1.00               0.90               0.90   \n",
       "23               0.95               0.95               0.90   \n",
       "24               1.00               0.95               0.85   \n",
       "\n",
       "    split3_test_score  split4_test_score  split5_test_score  \\\n",
       "0                0.65               0.70               0.55   \n",
       "1                0.65               0.55               0.65   \n",
       "2                0.70               0.60               0.85   \n",
       "3                0.85               0.85               1.00   \n",
       "4                0.85               0.85               0.90   \n",
       "5                0.65               0.70               0.55   \n",
       "6                0.65               0.55               0.65   \n",
       "7                0.70               0.60               0.85   \n",
       "8                0.90               0.85               1.00   \n",
       "9                0.85               0.85               0.90   \n",
       "10               0.65               0.70               0.55   \n",
       "11               0.65               0.55               0.65   \n",
       "12               0.80               0.75               0.90   \n",
       "13               0.95               0.85               1.00   \n",
       "14               0.95               0.95               0.95   \n",
       "15               0.65               0.70               0.55   \n",
       "16               0.70               0.60               0.85   \n",
       "17               0.85               0.90               1.00   \n",
       "18               0.95               1.00               1.00   \n",
       "19               0.90               0.95               0.95   \n",
       "20               0.60               0.60               0.75   \n",
       "21               0.80               0.80               0.90   \n",
       "22               0.95               0.90               1.00   \n",
       "23               1.00               0.95               0.95   \n",
       "24               0.90               0.95               0.95   \n",
       "\n",
       "    split6_test_score  split7_test_score  split8_test_score  \\\n",
       "0                0.60               0.40               0.70   \n",
       "1                0.45               0.55               0.40   \n",
       "2                0.60               0.60               0.60   \n",
       "3                1.00               0.90               0.60   \n",
       "4                0.95               0.95               0.85   \n",
       "5                0.60               0.40               0.70   \n",
       "6                0.45               0.55               0.40   \n",
       "7                0.60               0.60               0.60   \n",
       "8                0.95               0.90               0.65   \n",
       "9                0.95               0.95               0.85   \n",
       "10               0.60               0.40               0.70   \n",
       "11               0.45               0.55               0.40   \n",
       "12               0.70               0.80               0.75   \n",
       "13               1.00               0.95               0.80   \n",
       "14               0.95               0.95               0.80   \n",
       "15               0.60               0.40               0.70   \n",
       "16               0.55               0.65               0.60   \n",
       "17               1.00               0.90               0.75   \n",
       "18               1.00               1.00               0.80   \n",
       "19               0.85               0.85               0.80   \n",
       "20               0.60               0.40               0.65   \n",
       "21               0.70               0.80               0.75   \n",
       "22               1.00               1.00               0.90   \n",
       "23               0.90               0.95               0.85   \n",
       "24               0.85               0.85               0.80   \n",
       "\n",
       "    split9_test_score  mean_test_score  std_test_score  rank_test_score  \n",
       "0                0.60            0.570        0.134536               19  \n",
       "1                0.60            0.530        0.112250               23  \n",
       "2                0.70            0.650        0.089443               16  \n",
       "3                0.95            0.880        0.120830               10  \n",
       "4                0.80            0.875        0.051235               11  \n",
       "5                0.60            0.570        0.134536               19  \n",
       "6                0.60            0.530        0.112250               23  \n",
       "7                0.70            0.650        0.089443               16  \n",
       "8                0.95            0.885        0.100125                9  \n",
       "9                0.80            0.875        0.051235               11  \n",
       "10               0.60            0.570        0.134536               19  \n",
       "11               0.60            0.530        0.112250               23  \n",
       "12               0.85            0.795        0.068739               14  \n",
       "13               0.90            0.925        0.064226                5  \n",
       "14               0.95            0.930        0.055678                4  \n",
       "15               0.60            0.570        0.134536               19  \n",
       "16               0.70            0.655        0.085000               15  \n",
       "17               0.95            0.895        0.078899                8  \n",
       "18               0.95            0.955        0.061033                2  \n",
       "19               0.95            0.905        0.061033                6  \n",
       "20               0.60            0.590        0.130000               18  \n",
       "21               0.85            0.800        0.067082               13  \n",
       "22               1.00            0.955        0.047170                1  \n",
       "23               0.95            0.935        0.039051                3  \n",
       "24               0.95            0.905        0.061033                6  "
      ]
     },
     "execution_count": 23,
     "metadata": {},
     "output_type": "execute_result"
    }
   ],
   "source": [
    "df"
   ]
  },
  {
   "cell_type": "code",
   "execution_count": 33,
   "metadata": {},
   "outputs": [
    {
     "data": {
      "text/plain": [
       "{'svc__C': np.float64(2782.559402207126), 'svc__gamma': np.float64(0.1)}"
      ]
     },
     "execution_count": 33,
     "metadata": {},
     "output_type": "execute_result"
    }
   ],
   "source": [
    "grid.best_params_"
   ]
  },
  {
   "cell_type": "code",
   "execution_count": 36,
   "metadata": {},
   "outputs": [
    {
     "data": {
      "application/vnd.plotly.v1+json": {
       "config": {
        "plotlyServerURL": "https://plot.ly"
       },
       "data": [
        {
         "colorbar": {
          "title": {
           "text": "Mean Test Score"
          }
         },
         "colorscale": [
          [
           0,
           "#440154"
          ],
          [
           0.1111111111111111,
           "#482878"
          ],
          [
           0.2222222222222222,
           "#3e4989"
          ],
          [
           0.3333333333333333,
           "#31688e"
          ],
          [
           0.4444444444444444,
           "#26828e"
          ],
          [
           0.5555555555555556,
           "#1f9e89"
          ],
          [
           0.6666666666666666,
           "#35b779"
          ],
          [
           0.7777777777777778,
           "#6ece58"
          ],
          [
           0.8888888888888888,
           "#b5de2b"
          ],
          [
           1,
           "#fde725"
          ]
         ],
         "contours": {
          "coloring": "heatmap"
         },
         "type": "contour",
         "x": {
          "bdata": "AAAAAAAAAMDkOI7jOI7zvxzHcRzHcdy/V1VVVVVV1T9yHMdxHMfxP47jOI7jOP4/VlVVVVVVBUDkOI7jOI4LQDmO4ziO4xBAAAAAAAAAFEA=",
          "dtype": "f8"
         },
         "y": {
          "bdata": "AAAAAAAACMAAAAAAAAAAwAAAAAAAAPC/AAAAAAAAAAAAAAAAAADwPw==",
          "dtype": "f8"
         },
         "z": {
          "bdata": "PgrXo3A94j8+CtejcD3iPz4K16NwPeI/PgrXo3A94j9mZmZmZmbiP+F6FK5H4eI/KFyPwvUo5D+PwvUoXI/mPzMzMzMzM+s/o3A9Ctej7D/2KFyPwvXgP/YoXI/C9eA/9ihcj8L14D/rUbgehevhP0jhehSuR+U/H4XrUbge6T8AAAAAAADsP3I9CtejcO0/PQrXo3A97j8K16NwPQrvP8zMzMzMzOQ/zMzMzMzM5D+uR+F6FK7nPwvXo3A9Cus/9Shcj8L17D8TrkfhehTuP47C9Shcj+4/CtejcD0K7z8K16NwPQrvPwrXo3A9Cu8/KFyPwvUo7D8AAAAAAADsPx6F61G4Hu0/PQrXo3A97j+OwvUoXI/uPxOuR+F6FO4/wvUoXI/C7T89CtejcD3uP2ZmZmZmZu4/ZmZmZmZm7j8AAAAAAADsPwAAAAAAAOw/HoXrUbge7T9wPQrXo3DtP/UoXI/C9ew/9Shcj8L17D/1KFyPwvXsP/UoXI/C9ew/9Shcj8L17D/1KFyPwvXsPw==",
          "dtype": "f8",
          "shape": "5, 10"
         }
        },
        {
         "marker": {
          "color": "red",
          "size": 12,
          "symbol": "x"
         },
         "mode": "markers+text",
         "name": "Best Parameters",
         "text": [
          "0.970"
         ],
         "textposition": "top center",
         "type": "scatter",
         "x": [
          3.4444444444444446
         ],
         "y": [
          -1
         ]
        }
       ],
       "layout": {
        "height": 600,
        "template": {
         "data": {
          "bar": [
           {
            "error_x": {
             "color": "#2a3f5f"
            },
            "error_y": {
             "color": "#2a3f5f"
            },
            "marker": {
             "line": {
              "color": "#E5ECF6",
              "width": 0.5
             },
             "pattern": {
              "fillmode": "overlay",
              "size": 10,
              "solidity": 0.2
             }
            },
            "type": "bar"
           }
          ],
          "barpolar": [
           {
            "marker": {
             "line": {
              "color": "#E5ECF6",
              "width": 0.5
             },
             "pattern": {
              "fillmode": "overlay",
              "size": 10,
              "solidity": 0.2
             }
            },
            "type": "barpolar"
           }
          ],
          "carpet": [
           {
            "aaxis": {
             "endlinecolor": "#2a3f5f",
             "gridcolor": "white",
             "linecolor": "white",
             "minorgridcolor": "white",
             "startlinecolor": "#2a3f5f"
            },
            "baxis": {
             "endlinecolor": "#2a3f5f",
             "gridcolor": "white",
             "linecolor": "white",
             "minorgridcolor": "white",
             "startlinecolor": "#2a3f5f"
            },
            "type": "carpet"
           }
          ],
          "choropleth": [
           {
            "colorbar": {
             "outlinewidth": 0,
             "ticks": ""
            },
            "type": "choropleth"
           }
          ],
          "contour": [
           {
            "colorbar": {
             "outlinewidth": 0,
             "ticks": ""
            },
            "colorscale": [
             [
              0,
              "#0d0887"
             ],
             [
              0.1111111111111111,
              "#46039f"
             ],
             [
              0.2222222222222222,
              "#7201a8"
             ],
             [
              0.3333333333333333,
              "#9c179e"
             ],
             [
              0.4444444444444444,
              "#bd3786"
             ],
             [
              0.5555555555555556,
              "#d8576b"
             ],
             [
              0.6666666666666666,
              "#ed7953"
             ],
             [
              0.7777777777777778,
              "#fb9f3a"
             ],
             [
              0.8888888888888888,
              "#fdca26"
             ],
             [
              1,
              "#f0f921"
             ]
            ],
            "type": "contour"
           }
          ],
          "contourcarpet": [
           {
            "colorbar": {
             "outlinewidth": 0,
             "ticks": ""
            },
            "type": "contourcarpet"
           }
          ],
          "heatmap": [
           {
            "colorbar": {
             "outlinewidth": 0,
             "ticks": ""
            },
            "colorscale": [
             [
              0,
              "#0d0887"
             ],
             [
              0.1111111111111111,
              "#46039f"
             ],
             [
              0.2222222222222222,
              "#7201a8"
             ],
             [
              0.3333333333333333,
              "#9c179e"
             ],
             [
              0.4444444444444444,
              "#bd3786"
             ],
             [
              0.5555555555555556,
              "#d8576b"
             ],
             [
              0.6666666666666666,
              "#ed7953"
             ],
             [
              0.7777777777777778,
              "#fb9f3a"
             ],
             [
              0.8888888888888888,
              "#fdca26"
             ],
             [
              1,
              "#f0f921"
             ]
            ],
            "type": "heatmap"
           }
          ],
          "histogram": [
           {
            "marker": {
             "pattern": {
              "fillmode": "overlay",
              "size": 10,
              "solidity": 0.2
             }
            },
            "type": "histogram"
           }
          ],
          "histogram2d": [
           {
            "colorbar": {
             "outlinewidth": 0,
             "ticks": ""
            },
            "colorscale": [
             [
              0,
              "#0d0887"
             ],
             [
              0.1111111111111111,
              "#46039f"
             ],
             [
              0.2222222222222222,
              "#7201a8"
             ],
             [
              0.3333333333333333,
              "#9c179e"
             ],
             [
              0.4444444444444444,
              "#bd3786"
             ],
             [
              0.5555555555555556,
              "#d8576b"
             ],
             [
              0.6666666666666666,
              "#ed7953"
             ],
             [
              0.7777777777777778,
              "#fb9f3a"
             ],
             [
              0.8888888888888888,
              "#fdca26"
             ],
             [
              1,
              "#f0f921"
             ]
            ],
            "type": "histogram2d"
           }
          ],
          "histogram2dcontour": [
           {
            "colorbar": {
             "outlinewidth": 0,
             "ticks": ""
            },
            "colorscale": [
             [
              0,
              "#0d0887"
             ],
             [
              0.1111111111111111,
              "#46039f"
             ],
             [
              0.2222222222222222,
              "#7201a8"
             ],
             [
              0.3333333333333333,
              "#9c179e"
             ],
             [
              0.4444444444444444,
              "#bd3786"
             ],
             [
              0.5555555555555556,
              "#d8576b"
             ],
             [
              0.6666666666666666,
              "#ed7953"
             ],
             [
              0.7777777777777778,
              "#fb9f3a"
             ],
             [
              0.8888888888888888,
              "#fdca26"
             ],
             [
              1,
              "#f0f921"
             ]
            ],
            "type": "histogram2dcontour"
           }
          ],
          "mesh3d": [
           {
            "colorbar": {
             "outlinewidth": 0,
             "ticks": ""
            },
            "type": "mesh3d"
           }
          ],
          "parcoords": [
           {
            "line": {
             "colorbar": {
              "outlinewidth": 0,
              "ticks": ""
             }
            },
            "type": "parcoords"
           }
          ],
          "pie": [
           {
            "automargin": true,
            "type": "pie"
           }
          ],
          "scatter": [
           {
            "fillpattern": {
             "fillmode": "overlay",
             "size": 10,
             "solidity": 0.2
            },
            "type": "scatter"
           }
          ],
          "scatter3d": [
           {
            "line": {
             "colorbar": {
              "outlinewidth": 0,
              "ticks": ""
             }
            },
            "marker": {
             "colorbar": {
              "outlinewidth": 0,
              "ticks": ""
             }
            },
            "type": "scatter3d"
           }
          ],
          "scattercarpet": [
           {
            "marker": {
             "colorbar": {
              "outlinewidth": 0,
              "ticks": ""
             }
            },
            "type": "scattercarpet"
           }
          ],
          "scattergeo": [
           {
            "marker": {
             "colorbar": {
              "outlinewidth": 0,
              "ticks": ""
             }
            },
            "type": "scattergeo"
           }
          ],
          "scattergl": [
           {
            "marker": {
             "colorbar": {
              "outlinewidth": 0,
              "ticks": ""
             }
            },
            "type": "scattergl"
           }
          ],
          "scattermap": [
           {
            "marker": {
             "colorbar": {
              "outlinewidth": 0,
              "ticks": ""
             }
            },
            "type": "scattermap"
           }
          ],
          "scattermapbox": [
           {
            "marker": {
             "colorbar": {
              "outlinewidth": 0,
              "ticks": ""
             }
            },
            "type": "scattermapbox"
           }
          ],
          "scatterpolar": [
           {
            "marker": {
             "colorbar": {
              "outlinewidth": 0,
              "ticks": ""
             }
            },
            "type": "scatterpolar"
           }
          ],
          "scatterpolargl": [
           {
            "marker": {
             "colorbar": {
              "outlinewidth": 0,
              "ticks": ""
             }
            },
            "type": "scatterpolargl"
           }
          ],
          "scatterternary": [
           {
            "marker": {
             "colorbar": {
              "outlinewidth": 0,
              "ticks": ""
             }
            },
            "type": "scatterternary"
           }
          ],
          "surface": [
           {
            "colorbar": {
             "outlinewidth": 0,
             "ticks": ""
            },
            "colorscale": [
             [
              0,
              "#0d0887"
             ],
             [
              0.1111111111111111,
              "#46039f"
             ],
             [
              0.2222222222222222,
              "#7201a8"
             ],
             [
              0.3333333333333333,
              "#9c179e"
             ],
             [
              0.4444444444444444,
              "#bd3786"
             ],
             [
              0.5555555555555556,
              "#d8576b"
             ],
             [
              0.6666666666666666,
              "#ed7953"
             ],
             [
              0.7777777777777778,
              "#fb9f3a"
             ],
             [
              0.8888888888888888,
              "#fdca26"
             ],
             [
              1,
              "#f0f921"
             ]
            ],
            "type": "surface"
           }
          ],
          "table": [
           {
            "cells": {
             "fill": {
              "color": "#EBF0F8"
             },
             "line": {
              "color": "white"
             }
            },
            "header": {
             "fill": {
              "color": "#C8D4E3"
             },
             "line": {
              "color": "white"
             }
            },
            "type": "table"
           }
          ]
         },
         "layout": {
          "annotationdefaults": {
           "arrowcolor": "#2a3f5f",
           "arrowhead": 0,
           "arrowwidth": 1
          },
          "autotypenumbers": "strict",
          "coloraxis": {
           "colorbar": {
            "outlinewidth": 0,
            "ticks": ""
           }
          },
          "colorscale": {
           "diverging": [
            [
             0,
             "#8e0152"
            ],
            [
             0.1,
             "#c51b7d"
            ],
            [
             0.2,
             "#de77ae"
            ],
            [
             0.3,
             "#f1b6da"
            ],
            [
             0.4,
             "#fde0ef"
            ],
            [
             0.5,
             "#f7f7f7"
            ],
            [
             0.6,
             "#e6f5d0"
            ],
            [
             0.7,
             "#b8e186"
            ],
            [
             0.8,
             "#7fbc41"
            ],
            [
             0.9,
             "#4d9221"
            ],
            [
             1,
             "#276419"
            ]
           ],
           "sequential": [
            [
             0,
             "#0d0887"
            ],
            [
             0.1111111111111111,
             "#46039f"
            ],
            [
             0.2222222222222222,
             "#7201a8"
            ],
            [
             0.3333333333333333,
             "#9c179e"
            ],
            [
             0.4444444444444444,
             "#bd3786"
            ],
            [
             0.5555555555555556,
             "#d8576b"
            ],
            [
             0.6666666666666666,
             "#ed7953"
            ],
            [
             0.7777777777777778,
             "#fb9f3a"
            ],
            [
             0.8888888888888888,
             "#fdca26"
            ],
            [
             1,
             "#f0f921"
            ]
           ],
           "sequentialminus": [
            [
             0,
             "#0d0887"
            ],
            [
             0.1111111111111111,
             "#46039f"
            ],
            [
             0.2222222222222222,
             "#7201a8"
            ],
            [
             0.3333333333333333,
             "#9c179e"
            ],
            [
             0.4444444444444444,
             "#bd3786"
            ],
            [
             0.5555555555555556,
             "#d8576b"
            ],
            [
             0.6666666666666666,
             "#ed7953"
            ],
            [
             0.7777777777777778,
             "#fb9f3a"
            ],
            [
             0.8888888888888888,
             "#fdca26"
            ],
            [
             1,
             "#f0f921"
            ]
           ]
          },
          "colorway": [
           "#636efa",
           "#EF553B",
           "#00cc96",
           "#ab63fa",
           "#FFA15A",
           "#19d3f3",
           "#FF6692",
           "#B6E880",
           "#FF97FF",
           "#FECB52"
          ],
          "font": {
           "color": "#2a3f5f"
          },
          "geo": {
           "bgcolor": "white",
           "lakecolor": "white",
           "landcolor": "#E5ECF6",
           "showlakes": true,
           "showland": true,
           "subunitcolor": "white"
          },
          "hoverlabel": {
           "align": "left"
          },
          "hovermode": "closest",
          "mapbox": {
           "style": "light"
          },
          "paper_bgcolor": "white",
          "plot_bgcolor": "#E5ECF6",
          "polar": {
           "angularaxis": {
            "gridcolor": "white",
            "linecolor": "white",
            "ticks": ""
           },
           "bgcolor": "#E5ECF6",
           "radialaxis": {
            "gridcolor": "white",
            "linecolor": "white",
            "ticks": ""
           }
          },
          "scene": {
           "xaxis": {
            "backgroundcolor": "#E5ECF6",
            "gridcolor": "white",
            "gridwidth": 2,
            "linecolor": "white",
            "showbackground": true,
            "ticks": "",
            "zerolinecolor": "white"
           },
           "yaxis": {
            "backgroundcolor": "#E5ECF6",
            "gridcolor": "white",
            "gridwidth": 2,
            "linecolor": "white",
            "showbackground": true,
            "ticks": "",
            "zerolinecolor": "white"
           },
           "zaxis": {
            "backgroundcolor": "#E5ECF6",
            "gridcolor": "white",
            "gridwidth": 2,
            "linecolor": "white",
            "showbackground": true,
            "ticks": "",
            "zerolinecolor": "white"
           }
          },
          "shapedefaults": {
           "line": {
            "color": "#2a3f5f"
           }
          },
          "ternary": {
           "aaxis": {
            "gridcolor": "white",
            "linecolor": "white",
            "ticks": ""
           },
           "baxis": {
            "gridcolor": "white",
            "linecolor": "white",
            "ticks": ""
           },
           "bgcolor": "#E5ECF6",
           "caxis": {
            "gridcolor": "white",
            "linecolor": "white",
            "ticks": ""
           }
          },
          "title": {
           "x": 0.05
          },
          "xaxis": {
           "automargin": true,
           "gridcolor": "white",
           "linecolor": "white",
           "ticks": "",
           "title": {
            "standoff": 15
           },
           "zerolinecolor": "white",
           "zerolinewidth": 2
          },
          "yaxis": {
           "automargin": true,
           "gridcolor": "white",
           "linecolor": "white",
           "ticks": "",
           "title": {
            "standoff": 15
           },
           "zerolinecolor": "white",
           "zerolinewidth": 2
          }
         }
        },
        "title": {
         "text": "SVC Grid Search Mean Score Contour"
        },
        "width": 700,
        "xaxis": {
         "tickmode": "array",
         "ticktext": [
          "0.01",
          "0.06",
          "0.36",
          "2.2",
          "13",
          "77",
          "4.6e+02",
          "2.8e+03",
          "1.7e+04",
          "1e+05"
         ],
         "tickvals": {
          "bdata": "AAAAAAAAAMDkOI7jOI7zvxzHcRzHcdy/V1VVVVVV1T9yHMdxHMfxP47jOI7jOP4/VlVVVVVVBUDkOI7jOI4LQDmO4ziO4xBAAAAAAAAAFEA=",
          "dtype": "f8"
         },
         "title": {
          "text": "log10(C)"
         }
        },
        "yaxis": {
         "tickmode": "array",
         "ticktext": [
          "0.001",
          "0.01",
          "0.1",
          "1",
          "10"
         ],
         "tickvals": {
          "bdata": "AAAAAAAACMAAAAAAAAAAwAAAAAAAAPC/AAAAAAAAAAAAAAAAAADwPw==",
          "dtype": "f8"
         },
         "title": {
          "text": "log10(gamma)"
         }
        }
       }
      }
     },
     "metadata": {},
     "output_type": "display_data"
    }
   ],
   "source": [
    "pivot = df.pivot(index='param_svc__gamma', columns='param_svc__C', values='mean_test_score')\n",
    "\n",
    "# create plotly figure\n",
    "fig = go.Figure(\n",
    "    data=go.Contour(\n",
    "        z=pivot.values,\n",
    "        x=np.log10(pivot.columns.values),  # log10(C)\n",
    "        y=np.log10(pivot.index.values),    # log10(gamma)\n",
    "        colorscale='Viridis',\n",
    "        contours_coloring='heatmap',\n",
    "        colorbar=dict(title='Mean Test Score')\n",
    "    )\n",
    ")\n",
    "\n",
    "fig.add_trace(go.Scatter(\n",
    "    x=[np.log10(grid.best_params_['svc__C'])],\n",
    "    y=[np.log10(grid.best_params_['svc__gamma'])],\n",
    "    mode='markers+text',\n",
    "    marker=dict(color='red', size=12, symbol='x'),\n",
    "    text=[f\"{grid.best_score_:.3f}\"],\n",
    "    textposition='top center',\n",
    "    name='Best Parameters'\n",
    "))\n",
    "\n",
    "# set axis\n",
    "fig.update_layout(\n",
    "    title='SVC Grid Search Mean Score Contour',\n",
    "    xaxis_title='log10(C)',\n",
    "    yaxis_title='log10(gamma)',\n",
    "    xaxis=dict(\n",
    "        tickmode='array',\n",
    "        tickvals=np.log10(pivot.columns.values),\n",
    "        ticktext=[f\"{v:.2g}\" for v in pivot.columns.values]\n",
    "    ),\n",
    "    yaxis=dict(\n",
    "        tickmode='array',\n",
    "        tickvals=np.log10(pivot.index.values),\n",
    "        ticktext=[f\"{v:.2g}\" for v in pivot.index.values]\n",
    "    ),\n",
    "    height=600,\n",
    "    width=700\n",
    ")\n",
    "\n",
    "fig.show()"
   ]
  }
 ],
 "metadata": {
  "colab": {
   "authorship_tag": "ABX9TyMi9taBdqtB5nRv7uEFC34s",
   "provenance": [
    {
     "file_id": "10v8JYfCs3g006DRTRXv6W1T0gVjktGAg",
     "timestamp": 1722413914992
    }
   ],
   "toc_visible": true
  },
  "kernelspec": {
   "display_name": "base",
   "language": "python",
   "name": "python3"
  },
  "language_info": {
   "codemirror_mode": {
    "name": "ipython",
    "version": 3
   },
   "file_extension": ".py",
   "mimetype": "text/x-python",
   "name": "python",
   "nbconvert_exporter": "python",
   "pygments_lexer": "ipython3",
   "version": "3.12.10"
  }
 },
 "nbformat": 4,
 "nbformat_minor": 0
}
