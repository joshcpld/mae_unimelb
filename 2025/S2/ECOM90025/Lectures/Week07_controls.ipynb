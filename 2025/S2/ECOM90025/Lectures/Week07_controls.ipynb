{
 "cells": [
  {
   "cell_type": "markdown",
   "metadata": {
    "id": "fhZ7gNfwy8su"
   },
   "source": [
    "# Before Lecture\n",
    "\n",
    "- best assignment 3 presentation.\n",
    "- 4th compulsary project meeting on Week 8 and 9.\n",
    "  - Later meetings will be optional after week 9.\n",
    "- Project submission date\n",
    "- Data requests is optional and no promise from ADA end.\n",
    "\n"
   ]
  },
  {
   "cell_type": "markdown",
   "metadata": {
    "id": "JgFsPCaMCMIj"
   },
   "source": [
    "# House Keeping"
   ]
  },
  {
   "cell_type": "code",
   "execution_count": null,
   "metadata": {
    "collapsed": true,
    "id": "Ym_YxAxJALRG"
   },
   "outputs": [],
   "source": [
    "import pandas as pd\n",
    "import numpy as np\n",
    "import plotly.express as px\n",
    "import plotly.graph_objects as go\n",
    "from scipy.stats import chi2_contingency\n",
    "import statsmodels.formula.api as smf\n",
    "import statsmodels.api as sm\n",
    "import matplotlib.pyplot as plt\n",
    "from sklearn.linear_model import Lasso\n",
    "from sklearn.linear_model import LassoCV\n",
    "import patsy\n",
    "from econml.dml import LinearDML\n",
    "from econml.sklearn_extensions.linear_model import LinearRegression\n",
    "from sklearn.preprocessing import StandardScaler\n",
    "\n",
    "from econml.sklearn_extensions.linear_model import WeightedLassoCVWrapper"
   ]
  },
  {
   "cell_type": "markdown",
   "metadata": {
    "id": "2mxLtxJn3BFP"
   },
   "source": [
    "# Reading\n",
    "\n",
    "1. Textbook Page 163-199\n",
    "1. [Chernozhukov2024](https://arxiv.org/abs/1608.00060), since 2016\n",
    "\n",
    "Experiments might not exist or be in a good shape. A brutal intuition is simply adding more $x$ variables. What $x$ is useful depends on the context and belief. In practice, many empirical research just tosses in anything they can get. But we can toss them better..."
   ]
  },
  {
   "cell_type": "markdown",
   "metadata": {
    "id": "R87YKkPaIiLR"
   },
   "source": [
    "# Orange Juice\n",
    "\n",
    "- Conditional Ingnorability (CI, not Confidence Interval). We can have ALL variables that influence both *treatment* and *response*. Or, simply (6.1)\n",
    "$$\\{y_i(d) \\quad \\forall d \\} \\perp d_i \\mid x_i.$$\n",
    "For a simple linear regression model,\n",
    "$$y_i = x_i'\\beta + \\gamma d_i + ɛ_i, $$\n",
    "CI implies $d_i$ is independent of $ɛ_i$. This is a typical exogeneity assumption."
   ]
  },
  {
   "cell_type": "code",
   "execution_count": null,
   "metadata": {
    "colab": {
     "base_uri": "https://localhost:8080/"
    },
    "executionInfo": {
     "elapsed": 2538,
     "status": "ok",
     "timestamp": 1724668895362,
     "user": {
      "displayName": "Yong Song",
      "userId": "00576951217859821315"
     },
     "user_tz": -600
    },
    "id": "7wCXGfikStPx",
    "outputId": "ad118218-c59e-4032-e574-64c95ca1e008"
   },
   "outputs": [
    {
     "name": "stdout",
     "output_type": "stream",
     "text": [
      "<class 'pandas.core.frame.DataFrame'>\n",
      "RangeIndex: 28947 entries, 0 to 28946\n",
      "Data columns (total 4 columns):\n",
      " #   Column  Non-Null Count  Dtype  \n",
      "---  ------  --------------  -----  \n",
      " 0   sales   28947 non-null  float64\n",
      " 1   price   28947 non-null  float64\n",
      " 2   brand   28947 non-null  object \n",
      " 3   feat    28947 non-null  int64  \n",
      "dtypes: float64(2), int64(1), object(1)\n",
      "memory usage: 904.7+ KB\n"
     ]
    }
   ],
   "source": [
    "oj = pd.read_csv(\"https://www.dropbox.com/s/8oll01xv92mkij8/oj.csv?dl=1\")\n",
    "oj.info()"
   ]
  },
  {
   "cell_type": "markdown",
   "metadata": {
    "id": "Yqk6-LSJIiLR"
   },
   "source": [
    "A log-log regression to get at elasticities:\n",
    "- Obviously problematic. Why? Endogeneity, missing variable problem."
   ]
  },
  {
   "cell_type": "code",
   "execution_count": null,
   "metadata": {
    "colab": {
     "base_uri": "https://localhost:8080/"
    },
    "executionInfo": {
     "elapsed": 333,
     "status": "ok",
     "timestamp": 1693363054238,
     "user": {
      "displayName": "Yong Song",
      "userId": "00576951217859821315"
     },
     "user_tz": -600
    },
    "id": "79UI91BbTEkq",
    "outputId": "09652265-5458-427e-bc8f-fc25169bcc6e"
   },
   "outputs": [
    {
     "name": "stdout",
     "output_type": "stream",
     "text": [
      "                            OLS Regression Results                            \n",
      "==============================================================================\n",
      "Dep. Variable:       I(np.log(sales))   R-squared:                       0.208\n",
      "Model:                            OLS   Adj. R-squared:                  0.208\n",
      "Method:                 Least Squares   F-statistic:                     7608.\n",
      "Date:                Thu, 04 Sep 2025   Prob (F-statistic):               0.00\n",
      "Time:                        16:27:25   Log-Likelihood:                -38251.\n",
      "No. Observations:               28947   AIC:                         7.651e+04\n",
      "Df Residuals:                   28945   BIC:                         7.652e+04\n",
      "Df Model:                           1                                         \n",
      "Covariance Type:            nonrobust                                         \n",
      "====================================================================================\n",
      "                       coef    std err          t      P>|t|      [0.025      0.975]\n",
      "------------------------------------------------------------------------------------\n",
      "Intercept           10.4234      0.015    679.043      0.000      10.393      10.454\n",
      "I(np.log(price))    -1.6013      0.018    -87.225      0.000      -1.637      -1.565\n",
      "==============================================================================\n",
      "Omnibus:                      164.955   Durbin-Watson:                   1.386\n",
      "Prob(Omnibus):                  0.000   Jarque-Bera (JB):              243.190\n",
      "Skew:                          -0.007   Prob(JB):                     1.56e-53\n",
      "Kurtosis:                       3.449   Cond. No.                         5.67\n",
      "==============================================================================\n",
      "\n",
      "Notes:\n",
      "[1] Standard Errors assume that the covariance matrix of the errors is correctly specified.\n"
     ]
    }
   ],
   "source": [
    "model = smf.ols(\"I(np.log(sales))~I(np.log(price))\", data=oj)\n",
    "results = model.fit()\n",
    "print(results.summary())"
   ]
  },
  {
   "cell_type": "markdown",
   "metadata": {
    "id": "GeJqkc9eIiLS"
   },
   "source": [
    "Controlling for brands in OLS:\n",
    "- Brand may affect price and sales at the same time. Do you have a story?"
   ]
  },
  {
   "cell_type": "code",
   "execution_count": null,
   "metadata": {
    "colab": {
     "base_uri": "https://localhost:8080/"
    },
    "executionInfo": {
     "elapsed": 664,
     "status": "ok",
     "timestamp": 1724668921584,
     "user": {
      "displayName": "Yong Song",
      "userId": "00576951217859821315"
     },
     "user_tz": -600
    },
    "id": "CQxluzlvVWxr",
    "outputId": "6ba44dfa-7f84-4cd6-ab1f-d17c187b9848"
   },
   "outputs": [
    {
     "name": "stdout",
     "output_type": "stream",
     "text": [
      "                            OLS Regression Results                            \n",
      "==============================================================================\n",
      "Dep. Variable:       I(np.log(sales))   R-squared:                       0.394\n",
      "Model:                            OLS   Adj. R-squared:                  0.394\n",
      "Method:                 Least Squares   F-statistic:                     6275.\n",
      "Date:                Thu, 04 Sep 2025   Prob (F-statistic):               0.00\n",
      "Time:                        16:27:28   Log-Likelihood:                -34377.\n",
      "No. Observations:               28947   AIC:                         6.876e+04\n",
      "Df Residuals:                   28943   BIC:                         6.880e+04\n",
      "Df Model:                           3                                         \n",
      "Covariance Type:            nonrobust                                         \n",
      "========================================================================================\n",
      "                           coef    std err          t      P>|t|      [0.025      0.975]\n",
      "----------------------------------------------------------------------------------------\n",
      "Intercept               10.8288      0.015    745.041      0.000      10.800      10.857\n",
      "brand[T.minute.maid]     0.8702      0.013     67.320      0.000       0.845       0.896\n",
      "brand[T.tropicana]       1.5299      0.016     93.808      0.000       1.498       1.562\n",
      "I(np.log(price))        -3.1387      0.023   -136.888      0.000      -3.184      -3.094\n",
      "==============================================================================\n",
      "Omnibus:                      549.607   Durbin-Watson:                   1.378\n",
      "Prob(Omnibus):                  0.000   Jarque-Bera (JB):              761.175\n",
      "Skew:                           0.234   Prob(JB):                    5.16e-166\n",
      "Kurtosis:                       3.642   Cond. No.                         8.70\n",
      "==============================================================================\n",
      "\n",
      "Notes:\n",
      "[1] Standard Errors assume that the covariance matrix of the errors is correctly specified.\n"
     ]
    }
   ],
   "source": [
    "model = smf.ols(\"I(np.log(sales))~I(np.log(price))+brand\", data=oj)\n",
    "results = model.fit()\n",
    "print(results.summary())"
   ]
  },
  {
   "cell_type": "markdown",
   "metadata": {
    "id": "Jty1fP4lIiLT"
   },
   "source": [
    "## 2-Stage Least Squares\n",
    "Residualizing to show what partialing out things mean:\n",
    "\n",
    "- purging out the control variables' effect.\n",
    "- the left residual is exogenous **shock**\n",
    "- The technique detail is called [Frisch–Waugh–Lovell theorem](https://en.wikipedia.org/wiki/Frisch%E2%80%93Waugh%E2%80%93Lovell_theorem)."
   ]
  },
  {
   "cell_type": "code",
   "execution_count": null,
   "metadata": {
    "id": "OANBJUeQWX7e"
   },
   "outputs": [],
   "source": [
    "model_price = smf.ols(\"I(np.log(price))~brand\", data=oj)\n",
    "results_price = model_price.fit()"
   ]
  },
  {
   "cell_type": "code",
   "execution_count": null,
   "metadata": {
    "colab": {
     "base_uri": "https://localhost:8080/",
     "height": 458
    },
    "executionInfo": {
     "elapsed": 6,
     "status": "ok",
     "timestamp": 1724668942494,
     "user": {
      "displayName": "Yong Song",
      "userId": "00576951217859821315"
     },
     "user_tz": -600
    },
    "id": "qjaN-utOWiae",
    "outputId": "d207346e-a400-4711-deed-53dafe58cf34"
   },
   "outputs": [
    {
     "data": {
      "text/plain": [
       "0        0.318657\n",
       "1        0.318657\n",
       "2        0.318657\n",
       "3        0.318657\n",
       "4        0.318657\n",
       "           ...   \n",
       "28942    0.166179\n",
       "28943    0.135720\n",
       "28944   -0.063234\n",
       "28945   -0.128192\n",
       "28946    0.032648\n",
       "Length: 28947, dtype: float64"
      ]
     },
     "execution_count": 6,
     "metadata": {},
     "output_type": "execute_result"
    }
   ],
   "source": [
    "results_price.resid"
   ]
  },
  {
   "cell_type": "code",
   "execution_count": null,
   "metadata": {
    "id": "rUy3kV9dWu9l"
   },
   "outputs": [],
   "source": [
    "model = smf.ols(\"I(np.log(sales))~I(results_price.resid)\", data=oj)\n",
    "results = model.fit()"
   ]
  },
  {
   "cell_type": "code",
   "execution_count": null,
   "metadata": {
    "colab": {
     "base_uri": "https://localhost:8080/"
    },
    "executionInfo": {
     "elapsed": 2,
     "status": "ok",
     "timestamp": 1693370078432,
     "user": {
      "displayName": "Yong Song",
      "userId": "00576951217859821315"
     },
     "user_tz": -600
    },
    "id": "Et0it0yzW_hw",
    "outputId": "29f5fcdd-afe8-4da9-a749-b6d8b5d0b855"
   },
   "outputs": [
    {
     "name": "stdout",
     "output_type": "stream",
     "text": [
      "                            OLS Regression Results                            \n",
      "==============================================================================\n",
      "Dep. Variable:       I(np.log(sales))   R-squared:                       0.392\n",
      "Model:                            OLS   Adj. R-squared:                  0.392\n",
      "Method:                 Least Squares   F-statistic:                 1.868e+04\n",
      "Date:                Tue, 02 Sep 2025   Prob (F-statistic):               0.00\n",
      "Time:                        12:19:04   Log-Likelihood:                -34421.\n",
      "No. Observations:               28947   AIC:                         6.885e+04\n",
      "Df Residuals:                   28945   BIC:                         6.886e+04\n",
      "Df Model:                           1                                         \n",
      "Covariance Type:            nonrobust                                         \n",
      "==========================================================================================\n",
      "                             coef    std err          t      P>|t|      [0.025      0.975]\n",
      "------------------------------------------------------------------------------------------\n",
      "Intercept                  9.1679      0.005   1962.791      0.000       9.159       9.177\n",
      "I(results_price.resid)    -3.1387      0.023   -136.688      0.000      -3.184      -3.094\n",
      "==============================================================================\n",
      "Omnibus:                      631.333   Durbin-Watson:                   1.375\n",
      "Prob(Omnibus):                  0.000   Jarque-Bera (JB):              881.452\n",
      "Skew:                           0.258   Prob(JB):                    3.94e-192\n",
      "Kurtosis:                       3.682   Cond. No.                         4.92\n",
      "==============================================================================\n",
      "\n",
      "Notes:\n",
      "[1] Standard Errors assume that the covariance matrix of the errors is correctly specified.\n"
     ]
    }
   ],
   "source": [
    "print(results.summary())"
   ]
  },
  {
   "cell_type": "markdown",
   "metadata": {
    "id": "03_JaMIxIiLW"
   },
   "source": [
    "Traditionally, and for methodological consistency, you would also residualize the left-hand side when you residualize the right-hand size. \n",
    "\n",
    "You can also Google or Gemini the **Frisch-Waugh-Lovell Theorem**. Frisch also shared the first Nobel Prize in economics."
   ]
  },
  {
   "cell_type": "code",
   "execution_count": null,
   "metadata": {
    "id": "hjgiiGuPtyHZ"
   },
   "outputs": [],
   "source": [
    "model_sale = smf.ols(\"I(np.log(sales))~brand\", data=oj)\n",
    "results_sale = model_sale.fit()"
   ]
  },
  {
   "cell_type": "code",
   "execution_count": null,
   "metadata": {
    "colab": {
     "base_uri": "https://localhost:8080/",
     "height": 458
    },
    "executionInfo": {
     "elapsed": 691,
     "status": "ok",
     "timestamp": 1724668968406,
     "user": {
      "displayName": "Yong Song",
      "userId": "00576951217859821315"
     },
     "user_tz": -600
    },
    "id": "6mo2t5MwuBFv",
    "outputId": "3c9de6a7-6089-4c3b-c355-043ae0d984a1"
   },
   "outputs": [
    {
     "data": {
      "text/plain": [
       "0       -0.092787\n",
       "1       -0.388252\n",
       "2       -0.858255\n",
       "3       -0.124286\n",
       "4       -0.018126\n",
       "           ...   \n",
       "28942   -1.187306\n",
       "28943   -0.672142\n",
       "28944    0.331160\n",
       "28945    1.752545\n",
       "28946   -0.315467\n",
       "Length: 28947, dtype: float64"
      ]
     },
     "execution_count": 9,
     "metadata": {},
     "output_type": "execute_result"
    }
   ],
   "source": [
    "results_sale.resid"
   ]
  },
  {
   "cell_type": "code",
   "execution_count": null,
   "metadata": {
    "colab": {
     "base_uri": "https://localhost:8080/"
    },
    "executionInfo": {
     "elapsed": 476,
     "status": "ok",
     "timestamp": 1724668973156,
     "user": {
      "displayName": "Yong Song",
      "userId": "00576951217859821315"
     },
     "user_tz": -600
    },
    "id": "HCRw2_bCuG2x",
    "outputId": "3c809541-4d38-4dee-d4f7-20864e8c58a7"
   },
   "outputs": [
    {
     "name": "stdout",
     "output_type": "stream",
     "text": [
      "                                 OLS Regression Results                                \n",
      "=======================================================================================\n",
      "Dep. Variable:     results_sale.resid   R-squared (uncentered):                   0.393\n",
      "Model:                            OLS   Adj. R-squared (uncentered):              0.393\n",
      "Method:                 Least Squares   F-statistic:                          1.874e+04\n",
      "Date:                Thu, 04 Sep 2025   Prob (F-statistic):                        0.00\n",
      "Time:                        16:27:54   Log-Likelihood:                         -34377.\n",
      "No. Observations:               28947   AIC:                                  6.876e+04\n",
      "Df Residuals:                   28946   BIC:                                  6.877e+04\n",
      "Df Model:                           1                                                  \n",
      "Covariance Type:            nonrobust                                                  \n",
      "=======================================================================================\n",
      "                          coef    std err          t      P>|t|      [0.025      0.975]\n",
      "---------------------------------------------------------------------------------------\n",
      "results_price.resid    -3.1387      0.023   -136.895      0.000      -3.184      -3.094\n",
      "==============================================================================\n",
      "Omnibus:                      549.607   Durbin-Watson:                   1.378\n",
      "Prob(Omnibus):                  0.000   Jarque-Bera (JB):              761.175\n",
      "Skew:                           0.234   Prob(JB):                    5.16e-166\n",
      "Kurtosis:                       3.642   Cond. No.                         1.00\n",
      "==============================================================================\n",
      "\n",
      "Notes:\n",
      "[1] R² is computed without centering (uncentered) since the model does not contain a constant.\n",
      "[2] Standard Errors assume that the covariance matrix of the errors is correctly specified.\n"
     ]
    }
   ],
   "source": [
    "model = smf.ols(\"results_sale.resid ~-1+ results_price.resid\", data=oj)\n",
    "results = model.fit()\n",
    "print(results.summary())"
   ]
  },
  {
   "cell_type": "markdown",
   "metadata": {
    "id": "8_qh63earWJ3"
   },
   "source": [
    "# Linear Treatment Effects (LTE) model\n",
    "$$y = d\\gamma + x'\\beta + ɛ, \\quad E[ɛ\\mid d, x] = 0$$\n",
    "and\n",
    "$$d=x'\\tau + ν, \\quad E[\\nu\\mid x]=0$$\n",
    "\n",
    "- If you want to control a confounder, you may add it as input.\n",
    "- If the dimension becomes large, ML comes to play."
   ]
  },
  {
   "cell_type": "markdown",
   "metadata": {
    "id": "CNDsem68IiLX"
   },
   "source": [
    "## Abortion and Crime\n",
    "\n",
    "Let's turn to a famous line of research, earning Levitt a Clark Medal (also Google Melissa Dell) and the [Freakonomics](https://freakonomics.com/) franchise. You may listen to its [podcast](https://freakonomics.com/podcast/abortion-and-crime-revisited/) on your way."
   ]
  },
  {
   "cell_type": "code",
   "execution_count": null,
   "metadata": {
    "colab": {
     "base_uri": "https://localhost:8080/"
    },
    "executionInfo": {
     "elapsed": 3007,
     "status": "ok",
     "timestamp": 1724668996358,
     "user": {
      "displayName": "Yong Song",
      "userId": "00576951217859821315"
     },
     "user_tz": -600
    },
    "id": "FW3VaL8XyoAn",
    "outputId": "181b109c-f9c6-4e25-d8bc-6cb3d673fbd5"
   },
   "outputs": [
    {
     "name": "stdout",
     "output_type": "stream",
     "text": [
      "<class 'pandas.core.frame.DataFrame'>\n",
      "RangeIndex: 1734 entries, 0 to 1733\n",
      "Data columns (total 17 columns):\n",
      " #   Column  Non-Null Count  Dtype  \n",
      "---  ------  --------------  -----  \n",
      " 0   state   1734 non-null   int64  \n",
      " 1   year    1734 non-null   int64  \n",
      " 2   pop     1530 non-null   float64\n",
      " 3   y_viol  1320 non-null   float64\n",
      " 4   y_prop  1320 non-null   float64\n",
      " 5   y_murd  1320 non-null   float64\n",
      " 6   a_murd  663 non-null    float64\n",
      " 7   a_viol  663 non-null    float64\n",
      " 8   a_prop  663 non-null    float64\n",
      " 9   prison  1275 non-null   float64\n",
      " 10  police  1275 non-null   float64\n",
      " 11  ur      1326 non-null   float64\n",
      " 12  inc     1326 non-null   float64\n",
      " 13  pov     918 non-null    float64\n",
      " 14  afdc    714 non-null    float64\n",
      " 15  gun     1683 non-null   float64\n",
      " 16  beer    714 non-null    float64\n",
      "dtypes: float64(15), int64(2)\n",
      "memory usage: 230.4 KB\n",
      "None\n",
      "   state  year     pop  y_viol  y_prop  y_murd  a_murd  a_viol  a_prop  \\\n",
      "0      1    66     NaN     NaN     NaN     NaN     NaN     NaN     NaN   \n",
      "1      1    67     NaN     NaN     NaN     NaN     NaN     NaN     NaN   \n",
      "2      1    68     NaN     NaN     NaN     NaN     NaN     NaN     NaN   \n",
      "3      1    69     NaN     NaN     NaN     NaN     NaN     NaN     NaN   \n",
      "4      1    70  3452.0     NaN     NaN     NaN     NaN     NaN     NaN   \n",
      "\n",
      "   prison  police  ur  inc  pov  afdc  gun  beer  \n",
      "0     NaN     NaN NaN  NaN  NaN   NaN  1.0   NaN  \n",
      "1     NaN     NaN NaN  NaN  NaN   NaN  1.0   NaN  \n",
      "2     NaN     NaN NaN  NaN  NaN   NaN  1.0   NaN  \n",
      "3     NaN     NaN NaN  NaN  NaN   NaN  1.0   NaN  \n",
      "4     NaN     NaN NaN  NaN  NaN   NaN  1.0   NaN  \n"
     ]
    }
   ],
   "source": [
    "# URL of the data file\n",
    "url = \"https://www.dropbox.com/s/txwf5afmsqioonr/abortion.dat?dl=1\"\n",
    "\n",
    "# Read the data from the URL\n",
    "data = pd.read_csv(url, sep=\"\\t\", skiprows=0)\n",
    "\n",
    "# Assign column names\n",
    "data.columns = [\"state\", \"year\", \"pop\", \"y_viol\", \"y_prop\", \"y_murd\", \"a_murd\", \"a_viol\", \"a_prop\", \"prison\", \"police\", \"ur\", \"inc\", \"pov\", \"afdc\", \"gun\", \"beer\"]\n",
    "\n",
    "print(data.info())\n",
    "print(data.head())"
   ]
  },
  {
   "cell_type": "markdown",
   "metadata": {
    "id": "iR0pdQYsIiLX"
   },
   "source": [
    "## Questions and Data\n",
    "\n",
    "- Research conclusion: Easy access to abortion causes crime to decrease. It implies that high-quality raising of children is important for national security and extends to prosperity.\n",
    "- If you want to convert a question to an econometric problem, you need to translate.\n",
    "  - What is a crime? How to represent it by data?\n",
    "  - What is “access” to abortion in data?\n",
    "  - Why does the textbook uses murder rate? See Page 167.\n",
    "\n",
    "Some variable descriptions:\n",
    "\n",
    "* prison: log of lagged prisoners per capita\n",
    "* police: the log of lagged police per capita\n",
    "* ur: the unemployment rate\n",
    "* inc: per-capita income\n",
    "* pov: the poverty rate\n",
    "* AFDC: generosity at year t-15 (charity)\n",
    "* gun: dummy for concealed weapons law\n",
    "* beer: beer consumption per capita"
   ]
  },
  {
   "cell_type": "code",
   "execution_count": null,
   "metadata": {
    "id": "dfDkRa3B3xI4"
   },
   "outputs": [],
   "source": [
    "# Exclude specific states (2, 9, 12)\n",
    "# AK, DC, HA are strange places (according to the authors).\n",
    "excluded_states = [2, 9, 12]\n",
    "data = data[~data['state'].isin(excluded_states)]"
   ]
  },
  {
   "cell_type": "code",
   "execution_count": null,
   "metadata": {
    "id": "evorJTRm36Tt"
   },
   "outputs": [],
   "source": [
    "# Filter years between 1985 and 1997\n",
    "# incomplete data outside these years\n",
    "data = data[(data['year'] > 84) & (data['year'] < 98)]"
   ]
  },
  {
   "cell_type": "code",
   "execution_count": null,
   "metadata": {
    "id": "dXNRZk7v4R-V"
   },
   "outputs": [],
   "source": [
    "# Log-transform population\n",
    "data['pop'] = np.log(data['pop'])"
   ]
  },
  {
   "cell_type": "code",
   "execution_count": null,
   "metadata": {
    "colab": {
     "base_uri": "https://localhost:8080/"
    },
    "executionInfo": {
     "elapsed": 462,
     "status": "ok",
     "timestamp": 1724669046226,
     "user": {
      "displayName": "Yong Song",
      "userId": "00576951217859821315"
     },
     "user_tz": -600
    },
    "id": "G70YO5hW4WMA",
    "outputId": "a4fbcb34-d573-4745-a96a-aa45bb563418"
   },
   "outputs": [
    {
     "name": "stdout",
     "output_type": "stream",
     "text": [
      "<class 'pandas.core.frame.DataFrame'>\n",
      "Index: 624 entries, 19 to 1731\n",
      "Data columns (total 17 columns):\n",
      " #   Column  Non-Null Count  Dtype  \n",
      "---  ------  --------------  -----  \n",
      " 0   state   624 non-null    int64  \n",
      " 1   year    624 non-null    int64  \n",
      " 2   pop     624 non-null    float64\n",
      " 3   y_viol  624 non-null    float64\n",
      " 4   y_prop  624 non-null    float64\n",
      " 5   y_murd  624 non-null    float64\n",
      " 6   a_murd  624 non-null    float64\n",
      " 7   a_viol  624 non-null    float64\n",
      " 8   a_prop  624 non-null    float64\n",
      " 9   prison  624 non-null    float64\n",
      " 10  police  624 non-null    float64\n",
      " 11  ur      624 non-null    float64\n",
      " 12  inc     624 non-null    float64\n",
      " 13  pov     624 non-null    float64\n",
      " 14  afdc    624 non-null    float64\n",
      " 15  gun     624 non-null    float64\n",
      " 16  beer    624 non-null    float64\n",
      "dtypes: float64(15), int64(2)\n",
      "memory usage: 87.8 KB\n"
     ]
    }
   ],
   "source": [
    "data.info()"
   ]
  },
  {
   "cell_type": "code",
   "execution_count": null,
   "metadata": {
    "id": "JQYOBMAc4a7_"
   },
   "outputs": [],
   "source": [
    "# Calculate 't' and create 's' as a factor (categorical variable)\n",
    "data['t'] = data['year'] - 85\n",
    "data['s'] = pd.Categorical(data['state'])"
   ]
  },
  {
   "cell_type": "code",
   "execution_count": null,
   "metadata": {
    "colab": {
     "base_uri": "https://localhost:8080/"
    },
    "executionInfo": {
     "elapsed": 517,
     "status": "ok",
     "timestamp": 1724669059702,
     "user": {
      "displayName": "Yong Song",
      "userId": "00576951217859821315"
     },
     "user_tz": -600
    },
    "id": "r_EVi9E44fcP",
    "outputId": "e9ae62a2-7e48-4656-ece3-58de473a857d"
   },
   "outputs": [
    {
     "name": "stdout",
     "output_type": "stream",
     "text": [
      "<class 'pandas.core.frame.DataFrame'>\n",
      "Index: 624 entries, 19 to 1731\n",
      "Data columns (total 19 columns):\n",
      " #   Column  Non-Null Count  Dtype   \n",
      "---  ------  --------------  -----   \n",
      " 0   state   624 non-null    int64   \n",
      " 1   year    624 non-null    int64   \n",
      " 2   pop     624 non-null    float64 \n",
      " 3   y_viol  624 non-null    float64 \n",
      " 4   y_prop  624 non-null    float64 \n",
      " 5   y_murd  624 non-null    float64 \n",
      " 6   a_murd  624 non-null    float64 \n",
      " 7   a_viol  624 non-null    float64 \n",
      " 8   a_prop  624 non-null    float64 \n",
      " 9   prison  624 non-null    float64 \n",
      " 10  police  624 non-null    float64 \n",
      " 11  ur      624 non-null    float64 \n",
      " 12  inc     624 non-null    float64 \n",
      " 13  pov     624 non-null    float64 \n",
      " 14  afdc    624 non-null    float64 \n",
      " 15  gun     624 non-null    float64 \n",
      " 16  beer    624 non-null    float64 \n",
      " 17  t       624 non-null    int64   \n",
      " 18  s       624 non-null    category\n",
      "dtypes: category(1), float64(15), int64(3)\n",
      "memory usage: 94.7 KB\n"
     ]
    }
   ],
   "source": [
    "data.info()"
   ]
  },
  {
   "cell_type": "code",
   "execution_count": null,
   "metadata": {
    "colab": {
     "base_uri": "https://localhost:8080/"
    },
    "executionInfo": {
     "elapsed": 689,
     "status": "ok",
     "timestamp": 1724669082536,
     "user": {
      "displayName": "Yong Song",
      "userId": "00576951217859821315"
     },
     "user_tz": -600
    },
    "id": "k-Gfuit441-r",
    "outputId": "15737ba7-71b6-4258-ce5d-80958bef8f59"
   },
   "outputs": [
    {
     "name": "stdout",
     "output_type": "stream",
     "text": [
      "['pop', 'prison', 'police', 'ur', 'inc', 'pov', 'afdc', 'gun', 'beer']\n"
     ]
    }
   ],
   "source": [
    "controls = data.iloc[:, [2] + list(range(9, 17))]\n",
    "\n",
    "# Get column names of 'controls'\n",
    "control_colnames = controls.columns.tolist()\n",
    "\n",
    "# Display the column names of 'controls'\n",
    "print(control_colnames)"
   ]
  },
  {
   "cell_type": "code",
   "execution_count": null,
   "metadata": {
    "colab": {
     "base_uri": "https://localhost:8080/",
     "height": 366
    },
    "executionInfo": {
     "elapsed": 517,
     "status": "ok",
     "timestamp": 1724669089089,
     "user": {
      "displayName": "Yong Song",
      "userId": "00576951217859821315"
     },
     "user_tz": -600
    },
    "id": "_p86u93q5IMM",
    "outputId": "b580cde9-1de4-450a-8e7c-37620618a290"
   },
   "outputs": [
    {
     "data": {
      "text/plain": [
       "pop       False\n",
       "prison    False\n",
       "police    False\n",
       "ur        False\n",
       "inc       False\n",
       "pov       False\n",
       "afdc      False\n",
       "gun       False\n",
       "beer      False\n",
       "dtype: bool"
      ]
     },
     "execution_count": 19,
     "metadata": {},
     "output_type": "execute_result"
    }
   ],
   "source": [
    "controls.isna().any()"
   ]
  },
  {
   "cell_type": "code",
   "execution_count": null,
   "metadata": {
    "colab": {
     "base_uri": "https://localhost:8080/",
     "height": 206
    },
    "executionInfo": {
     "elapsed": 516,
     "status": "ok",
     "timestamp": 1724669093287,
     "user": {
      "displayName": "Yong Song",
      "userId": "00576951217859821315"
     },
     "user_tz": -600
    },
    "id": "Hqxx9UVF6B1u",
    "outputId": "9b284750-6c6b-4980-f793-9059b2bdd300"
   },
   "outputs": [
    {
     "data": {
      "text/html": [
       "<div>\n",
       "<style scoped>\n",
       "    .dataframe tbody tr th:only-of-type {\n",
       "        vertical-align: middle;\n",
       "    }\n",
       "\n",
       "    .dataframe tbody tr th {\n",
       "        vertical-align: top;\n",
       "    }\n",
       "\n",
       "    .dataframe thead th {\n",
       "        text-align: right;\n",
       "    }\n",
       "</style>\n",
       "<table border=\"1\" class=\"dataframe\">\n",
       "  <thead>\n",
       "    <tr style=\"text-align: right;\">\n",
       "      <th></th>\n",
       "      <th>pop</th>\n",
       "      <th>prison</th>\n",
       "      <th>police</th>\n",
       "      <th>ur</th>\n",
       "      <th>inc</th>\n",
       "      <th>pov</th>\n",
       "      <th>afdc</th>\n",
       "      <th>gun</th>\n",
       "      <th>beer</th>\n",
       "    </tr>\n",
       "  </thead>\n",
       "  <tbody>\n",
       "    <tr>\n",
       "      <th>19</th>\n",
       "      <td>8.287277</td>\n",
       "      <td>0.952666</td>\n",
       "      <td>0.762663</td>\n",
       "      <td>0.08908</td>\n",
       "      <td>9.703193</td>\n",
       "      <td>20.6</td>\n",
       "      <td>3077.629</td>\n",
       "      <td>1.0</td>\n",
       "      <td>18.7</td>\n",
       "    </tr>\n",
       "    <tr>\n",
       "      <th>20</th>\n",
       "      <td>8.292048</td>\n",
       "      <td>0.995291</td>\n",
       "      <td>0.790903</td>\n",
       "      <td>0.09833</td>\n",
       "      <td>9.745950</td>\n",
       "      <td>23.8</td>\n",
       "      <td>2805.778</td>\n",
       "      <td>1.0</td>\n",
       "      <td>19.3</td>\n",
       "    </tr>\n",
       "    <tr>\n",
       "      <th>21</th>\n",
       "      <td>8.297793</td>\n",
       "      <td>1.058402</td>\n",
       "      <td>0.818914</td>\n",
       "      <td>0.07775</td>\n",
       "      <td>9.762092</td>\n",
       "      <td>21.3</td>\n",
       "      <td>3455.742</td>\n",
       "      <td>1.0</td>\n",
       "      <td>19.4</td>\n",
       "    </tr>\n",
       "    <tr>\n",
       "      <th>22</th>\n",
       "      <td>8.300032</td>\n",
       "      <td>1.143818</td>\n",
       "      <td>0.880334</td>\n",
       "      <td>0.07208</td>\n",
       "      <td>9.781770</td>\n",
       "      <td>19.3</td>\n",
       "      <td>3210.000</td>\n",
       "      <td>1.0</td>\n",
       "      <td>19.4</td>\n",
       "    </tr>\n",
       "    <tr>\n",
       "      <th>23</th>\n",
       "      <td>8.301522</td>\n",
       "      <td>1.121946</td>\n",
       "      <td>0.941032</td>\n",
       "      <td>0.07025</td>\n",
       "      <td>9.802527</td>\n",
       "      <td>18.9</td>\n",
       "      <td>3789.493</td>\n",
       "      <td>1.0</td>\n",
       "      <td>19.4</td>\n",
       "    </tr>\n",
       "  </tbody>\n",
       "</table>\n",
       "</div>"
      ],
      "text/plain": [
       "         pop    prison    police       ur       inc   pov      afdc  gun  beer\n",
       "19  8.287277  0.952666  0.762663  0.08908  9.703193  20.6  3077.629  1.0  18.7\n",
       "20  8.292048  0.995291  0.790903  0.09833  9.745950  23.8  2805.778  1.0  19.3\n",
       "21  8.297793  1.058402  0.818914  0.07775  9.762092  21.3  3455.742  1.0  19.4\n",
       "22  8.300032  1.143818  0.880334  0.07208  9.781770  19.3  3210.000  1.0  19.4\n",
       "23  8.301522  1.121946  0.941032  0.07025  9.802527  18.9  3789.493  1.0  19.4"
      ]
     },
     "execution_count": 20,
     "metadata": {},
     "output_type": "execute_result"
    }
   ],
   "source": [
    "controls.head()"
   ]
  },
  {
   "cell_type": "markdown",
   "metadata": {
    "id": "WO--HCGeIiLZ"
   },
   "source": [
    "Key: `y` is de-trended log crime rate, criminal-age-weighted prior abortion rate `a` is as described below. Note we also have violent and property crime versions for both."
   ]
  },
  {
   "cell_type": "code",
   "execution_count": null,
   "metadata": {
    "id": "9B5ZodaT6TF0"
   },
   "outputs": [],
   "source": [
    "y = data['y_murd']\n",
    "d = data['a_murd']\n",
    "t = data['t']\n",
    "s = data['s']"
   ]
  },
  {
   "cell_type": "code",
   "execution_count": null,
   "metadata": {
    "colab": {
     "base_uri": "https://localhost:8080/",
     "height": 472
    },
    "executionInfo": {
     "elapsed": 1328,
     "status": "ok",
     "timestamp": 1724669108089,
     "user": {
      "displayName": "Yong Song",
      "userId": "00576951217859821315"
     },
     "user_tz": -600
    },
    "id": "ZhBL3wPP6t0C",
    "outputId": "dd52ac07-d724-421c-ec87-1a097411e0b9"
   },
   "outputs": [
    {
     "data": {
      "image/png": "[encoded data removed]",
      "text/plain": [
       "<Figure size 640x480 with 1 Axes>"
      ]
     },
     "metadata": {},
     "output_type": "display_data"
    }
   ],
   "source": [
    "plt.scatter(d, y, marker='o', c='red')  # 'marker' sets the marker type, 'c' sets the color\n",
    "plt.xlabel('d')\n",
    "plt.ylabel('y')\n",
    "plt.title('Scatter Plot')\n",
    "plt.show()"
   ]
  },
  {
   "cell_type": "markdown",
   "metadata": {
    "id": "7B9ZNX-lIiLZ"
   },
   "source": [
    "The abortion `a_` variables are weighted average of abortion rates where weights are determined by the fraction of the type of crime committed by various age groups.\n",
    "\n",
    "- For example, if 60% of violent crime were committed by 18-year-olds and 40% were committed by 19 year olds in state `i`, the abortion rate for violent crime at time `t` in state `i` would be constructed as `.6` times the abortion rate in state `i` at time `t − 18` plus `.4` times the abortion rate in state `i` at time `t − 19`. See Donohue and Levitt (2001) for further detail.\n",
    "\n",
    "We'll just look at murder.\n",
    "Note that for convenience here we've made `y,d,t` global: they are not in `controls`.\n",
    "\n",
    "Let's win a [Clark Medal](https://en.wikipedia.org/wiki/John_Bates_Clark_Medal).\n",
    "\n",
    "- Fact: the medal is quite concentrated at a few shiny star universities."
   ]
  },
  {
   "cell_type": "code",
   "execution_count": null,
   "metadata": {
    "colab": {
     "base_uri": "https://localhost:8080/"
    },
    "executionInfo": {
     "elapsed": 516,
     "status": "ok",
     "timestamp": 1724669157803,
     "user": {
      "displayName": "Yong Song",
      "userId": "00576951217859821315"
     },
     "user_tz": -600
    },
    "id": "BHvLDvGQ-RxV",
    "outputId": "38b6005e-ebb0-421b-b568-fb8a6aca340d"
   },
   "outputs": [
    {
     "name": "stdout",
     "output_type": "stream",
     "text": [
      "<class 'pandas.core.series.Series'>\n",
      "Index: 624 entries, 19 to 1731\n",
      "Series name: s\n",
      "Non-Null Count  Dtype   \n",
      "--------------  -----   \n",
      "624 non-null    category\n",
      "dtypes: category(1)\n",
      "memory usage: 6.9 KB\n"
     ]
    }
   ],
   "source": [
    "s.info()"
   ]
  },
  {
   "cell_type": "code",
   "execution_count": null,
   "metadata": {
    "colab": {
     "base_uri": "https://localhost:8080/"
    },
    "executionInfo": {
     "elapsed": 504,
     "status": "ok",
     "timestamp": 1724669167590,
     "user": {
      "displayName": "Yong Song",
      "userId": "00576951217859821315"
     },
     "user_tz": -600
    },
    "id": "Cjj97TFT7ZoK",
    "outputId": "e06fe209-144e-44dd-a3a1-c765fa0e019c"
   },
   "outputs": [
    {
     "name": "stdout",
     "output_type": "stream",
     "text": [
      "                            OLS Regression Results                            \n",
      "==============================================================================\n",
      "Dep. Variable:                      y   R-squared:                       0.911\n",
      "Model:                            OLS   Adj. R-squared:                  0.902\n",
      "Method:                 Least Squares   F-statistic:                     99.87\n",
      "Date:                Thu, 04 Sep 2025   Prob (F-statistic):          4.47e-259\n",
      "Time:                        16:28:59   Log-Likelihood:                 133.78\n",
      "No. Observations:                 624   AIC:                            -149.6\n",
      "Df Residuals:                     565   BIC:                             112.2\n",
      "Df Model:                          58                                         \n",
      "Covariance Type:            nonrobust                                         \n",
      "==============================================================================\n",
      "                 coef    std err          t      P>|t|      [0.025      0.975]\n",
      "------------------------------------------------------------------------------\n",
      "Intercept      4.8290      4.272      1.131      0.259      -3.561      13.219\n",
      "s[T.3]        -0.1396      0.110     -1.274      0.203      -0.355       0.076\n",
      "s[T.4]        -0.1005      0.168     -0.598      0.550      -0.430       0.229\n",
      "s[T.5]         0.1605      0.531      0.302      0.763      -0.883       1.204\n",
      "s[T.6]        -0.4643      0.154     -3.015      0.003      -0.767      -0.162\n",
      "s[T.7]        -0.1506      0.251     -0.599      0.550      -0.644       0.343\n",
      "s[T.8]        -0.1671      0.485     -0.344      0.731      -1.121       0.786\n",
      "s[T.10]       -0.1121      0.327     -0.342      0.732      -0.755       0.531\n",
      "s[T.11]        0.0631      0.159      0.397      0.692      -0.249       0.376\n",
      "s[T.13]       -1.0781      0.385     -2.799      0.005      -1.835      -0.322\n",
      "s[T.14]        0.0015      0.306      0.005      0.996      -0.599       0.602\n",
      "s[T.15]       -0.4013      0.131     -3.060      0.002      -0.659      -0.144\n",
      "s[T.16]       -1.6544      0.184     -9.011      0.000      -2.015      -1.294\n",
      "s[T.17]       -0.4074      0.192     -2.121      0.034      -0.785      -0.030\n",
      "s[T.18]       -0.5000      0.106     -4.704      0.000      -0.709      -0.291\n",
      "s[T.19]        0.3164      0.103      3.067      0.002       0.114       0.519\n",
      "s[T.20]       -1.4802      0.371     -3.994      0.000      -2.208      -0.752\n",
      "s[T.21]        0.4132      0.174      2.381      0.018       0.072       0.754\n",
      "s[T.22]       -0.8798      0.227     -3.872      0.000      -1.326      -0.433\n",
      "s[T.23]        0.1316      0.258      0.510      0.610      -0.375       0.638\n",
      "s[T.24]       -1.2886      0.198     -6.505      0.000      -1.678      -0.899\n",
      "s[T.25]       -0.0214      0.153     -0.140      0.889      -0.322       0.279\n",
      "s[T.26]       -0.1019      0.129     -0.787      0.432      -0.356       0.152\n",
      "s[T.27]       -0.9704      0.442     -2.194      0.029      -1.839      -0.102\n",
      "s[T.28]       -1.0268      0.290     -3.544      0.000      -1.596      -0.458\n",
      "s[T.29]        0.5437      0.336      1.619      0.106      -0.116       1.203\n",
      "s[T.30]       -1.2584      0.405     -3.104      0.002      -2.055      -0.462\n",
      "s[T.31]       -0.4284      0.266     -1.611      0.108      -0.951       0.094\n",
      "s[T.32]       -0.1066      0.282     -0.379      0.705      -0.660       0.447\n",
      "s[T.33]        0.3872      0.414      0.934      0.351      -0.427       1.201\n",
      "s[T.34]       -0.1208      0.163     -0.741      0.459      -0.441       0.199\n",
      "s[T.35]       -2.2732      0.542     -4.198      0.000      -3.337      -1.210\n",
      "s[T.36]       -0.5748      0.287     -2.005      0.045      -1.138      -0.012\n",
      "s[T.37]       -0.1965      0.116     -1.690      0.092      -0.425       0.032\n",
      "s[T.38]       -0.6031      0.166     -3.639      0.000      -0.929      -0.278\n",
      "s[T.39]       -0.5349      0.303     -1.767      0.078      -1.129       0.060\n",
      "s[T.40]       -0.6794      0.423     -1.606      0.109      -1.510       0.151\n",
      "s[T.41]       -0.0569      0.096     -0.593      0.553      -0.245       0.132\n",
      "s[T.42]       -1.5073      0.486     -3.104      0.002      -2.461      -0.554\n",
      "s[T.43]       -0.1230      0.109     -1.126      0.261      -0.338       0.092\n",
      "s[T.44]       -0.1009      0.406     -0.248      0.804      -0.899       0.697\n",
      "s[T.45]       -1.2668      0.281     -4.513      0.000      -1.818      -0.716\n",
      "s[T.46]       -1.1596      0.570     -2.035      0.042      -2.279      -0.041\n",
      "s[T.47]       -0.0605      0.169     -0.358      0.720      -0.392       0.271\n",
      "s[T.48]       -0.4722      0.165     -2.863      0.004      -0.796      -0.148\n",
      "s[T.49]       -0.8778      0.279     -3.145      0.002      -1.426      -0.330\n",
      "s[T.50]       -0.9764      0.164     -5.937      0.000      -1.299      -0.653\n",
      "s[T.51]       -0.7797      0.587     -1.328      0.185      -1.933       0.373\n",
      "d             -0.2098      0.041     -5.106      0.000      -0.291      -0.129\n",
      "t              0.0344      0.009      3.789      0.000       0.017       0.052\n",
      "pop            0.1730      0.262      0.659      0.510      -0.342       0.688\n",
      "prison        -0.2482      0.087     -2.858      0.004      -0.419      -0.078\n",
      "police         0.1940      0.126      1.540      0.124      -0.053       0.441\n",
      "ur             0.2844      0.934      0.305      0.761      -1.550       2.119\n",
      "inc           -0.8759      0.384     -2.280      0.023      -1.631      -0.121\n",
      "pov            0.0040      0.006      0.720      0.472      -0.007       0.015\n",
      "afdc       -1.815e-05    1.3e-05     -1.399      0.162   -4.36e-05    7.34e-06\n",
      "gun           -0.0126      0.035     -0.357      0.721      -0.082       0.057\n",
      "beer           0.0020      0.007      0.265      0.791      -0.013       0.016\n",
      "==============================================================================\n",
      "Omnibus:                      301.492   Durbin-Watson:                   1.762\n",
      "Prob(Omnibus):                  0.000   Jarque-Bera (JB):             7871.979\n",
      "Skew:                          -1.572   Prob(JB):                         0.00\n",
      "Kurtosis:                      20.114   Cond. No.                     3.89e+06\n",
      "==============================================================================\n",
      "\n",
      "Notes:\n",
      "[1] Standard Errors assume that the covariance matrix of the errors is correctly specified.\n",
      "[2] The condition number is large, 3.89e+06. This might indicate that there are\n",
      "strong multicollinearity or other numerical problems.\n"
     ]
    }
   ],
   "source": [
    "control_names = controls.columns\n",
    "formula = \"y~d+s+t+\" + \"+\".join(control_names)\n",
    "model = smf.ols(formula=formula, data=controls)\n",
    "results = model.fit()\n",
    "print(results.summary())"
   ]
  },
  {
   "cell_type": "markdown",
   "metadata": {
    "id": "0JpIgPIvIiLa"
   },
   "source": [
    "That abortion is only one factor influencing crime in the late 1980s points out the caution required in drawing any conclusions regarding an abortion-crime link based on time series evidence alone.\n",
    "\n",
    "As a cautionary example, let's repeat the analysis, but for cellphones rather than abortion:"
   ]
  },
  {
   "cell_type": "code",
   "execution_count": null,
   "metadata": {
    "colab": {
     "base_uri": "https://localhost:8080/"
    },
    "executionInfo": {
     "elapsed": 2564,
     "status": "ok",
     "timestamp": 1724669204499,
     "user": {
      "displayName": "Yong Song",
      "userId": "00576951217859821315"
     },
     "user_tz": -600
    },
    "id": "jHIi2TlcAGvX",
    "outputId": "408401dc-25e7-4011-b13e-e949fa52f6ff"
   },
   "outputs": [
    {
     "name": "stdout",
     "output_type": "stream",
     "text": [
      "<class 'pandas.core.frame.DataFrame'>\n",
      "RangeIndex: 13 entries, 0 to 12\n",
      "Data columns (total 3 columns):\n",
      " #   Column       Non-Null Count  Dtype\n",
      "---  ------       --------------  -----\n",
      " 0   year         13 non-null     int64\n",
      " 1   subscribers  13 non-null     int64\n",
      " 2   pop          13 non-null     int64\n",
      "dtypes: int64(3)\n",
      "memory usage: 444.0 bytes\n"
     ]
    }
   ],
   "source": [
    "cell = pd.read_csv(\"https://www.dropbox.com/s/pgvxxtviyqqudau/us_cellphone.csv?dl=1\")\n",
    "cell.info()"
   ]
  },
  {
   "cell_type": "code",
   "execution_count": null,
   "metadata": {
    "id": "9KUCfTYzAcy0"
   },
   "outputs": [],
   "source": [
    "cellrate = 5 * cell.iloc[:, 1] / (1000 * cell.iloc[:, 2])"
   ]
  },
  {
   "cell_type": "markdown",
   "metadata": {
    "id": "R-DseHdMIiLa"
   },
   "source": [
    "A smart observation: there are many things that increased with similar (but non-linear) shapes over time (cellphone usage, yoga revenues, home prices, ...). Is this loading onto abortion? What if we're just fitting a quadratic trend?\n",
    "\n",
    "- Go to [Spurious Correlation](http://www.tylervigen.com/spurious-correlations), find a figure you like and try to explain the causality as HARD as possible.\n",
    "- Always be careful when you are dealing with time series data. In general, all data with a time stamp."
   ]
  },
  {
   "cell_type": "code",
   "execution_count": null,
   "metadata": {
    "colab": {
     "base_uri": "https://localhost:8080/",
     "height": 486
    },
    "executionInfo": {
     "elapsed": 676,
     "status": "ok",
     "timestamp": 1724669230152,
     "user": {
      "displayName": "Yong Song",
      "userId": "00576951217859821315"
     },
     "user_tz": -600
    },
    "id": "VEpLOXzFAvbR",
    "outputId": "d4732af1-81c9-457c-fa9d-c1f69d91296e"
   },
   "outputs": [
    {
     "data": {
      "image/png": "[encoded data removed]",
      "text/plain": [
       "<Figure size 640x480 with 1 Axes>"
      ]
     },
     "metadata": {},
     "output_type": "display_data"
    }
   ],
   "source": [
    "plt.subplots_adjust(left=0.1, right=0.9, top=0.9, bottom=0.1)\n",
    "\n",
    "# Plot mean of 'd' against 't'\n",
    "years = np.arange(1985, 1998)\n",
    "mean_d_by_t = [np.mean(d[t == i]) for i in range(13)]\n",
    "\n",
    "plt.plot(years, mean_d_by_t, marker='o', linestyle='-', color='black', label='abortions')\n",
    "\n",
    "# Plot 'cellrate'\n",
    "plt.scatter(years, cellrate, marker='s', color='red', label='cellphones')\n",
    "\n",
    "# Set plot labels and title\n",
    "plt.xlabel('year')\n",
    "plt.ylabel('rate')\n",
    "plt.title('Abortion and Cellphone Rates')\n",
    "plt.legend()\n",
    "\n",
    "# Display the plot\n",
    "plt.show()"
   ]
  },
  {
   "cell_type": "code",
   "execution_count": null,
   "metadata": {
    "id": "NgIdRs19BOhz"
   },
   "outputs": [],
   "source": [
    "phone = cellrate[t]\n",
    "phone.index = t.index"
   ]
  },
  {
   "cell_type": "code",
   "execution_count": null,
   "metadata": {
    "colab": {
     "base_uri": "https://localhost:8080/",
     "height": 458
    },
    "executionInfo": {
     "elapsed": 608,
     "status": "ok",
     "timestamp": 1724669250601,
     "user": {
      "displayName": "Yong Song",
      "userId": "00576951217859821315"
     },
     "user_tz": -600
    },
    "id": "opr_-TL0BPHV",
    "outputId": "c4e2250b-5afb-453f-aeac-28e76a4cb2e4"
   },
   "outputs": [
    {
     "data": {
      "text/plain": [
       "19      0.007150\n",
       "20      0.014197\n",
       "21      0.025401\n",
       "22      0.042320\n",
       "23      0.071083\n",
       "          ...   \n",
       "1727    0.307970\n",
       "1728    0.458610\n",
       "1729    0.633899\n",
       "1730    0.817446\n",
       "1731    1.014357\n",
       "Length: 624, dtype: float64"
      ]
     },
     "execution_count": 29,
     "metadata": {},
     "output_type": "execute_result"
    }
   ],
   "source": [
    "phone"
   ]
  },
  {
   "cell_type": "code",
   "execution_count": null,
   "metadata": {
    "colab": {
     "base_uri": "https://localhost:8080/"
    },
    "executionInfo": {
     "elapsed": 3,
     "status": "ok",
     "timestamp": 1724669255067,
     "user": {
      "displayName": "Yong Song",
      "userId": "00576951217859821315"
     },
     "user_tz": -600
    },
    "id": "hgmW_5TvBdoS",
    "outputId": "705e7913-7ef1-400a-8c13-bd9e66078c10"
   },
   "outputs": [
    {
     "name": "stdout",
     "output_type": "stream",
     "text": [
      "                            OLS Regression Results                            \n",
      "==============================================================================\n",
      "Dep. Variable:                      y   R-squared:                       0.912\n",
      "Model:                            OLS   Adj. R-squared:                  0.902\n",
      "Method:                 Least Squares   F-statistic:                     100.4\n",
      "Date:                Thu, 04 Sep 2025   Prob (F-statistic):          1.23e-259\n",
      "Time:                        16:29:19   Log-Likelihood:                 135.23\n",
      "No. Observations:                 624   AIC:                            -152.5\n",
      "Df Residuals:                     565   BIC:                             109.3\n",
      "Df Model:                          58                                         \n",
      "Covariance Type:            nonrobust                                         \n",
      "==============================================================================\n",
      "                 coef    std err          t      P>|t|      [0.025      0.975]\n",
      "------------------------------------------------------------------------------\n",
      "Intercept      2.6428      4.349      0.608      0.544      -5.899      11.185\n",
      "s[T.3]        -0.2253      0.107     -2.105      0.036      -0.436      -0.015\n",
      "s[T.4]        -0.0797      0.168     -0.475      0.635      -0.409       0.250\n",
      "s[T.5]         0.0651      0.532      0.122      0.903      -0.979       1.109\n",
      "s[T.6]        -0.6248      0.153     -4.087      0.000      -0.925      -0.325\n",
      "s[T.7]        -0.4466      0.255     -1.752      0.080      -0.947       0.054\n",
      "s[T.8]        -0.4856      0.478     -1.015      0.310      -1.425       0.454\n",
      "s[T.10]       -0.2046      0.328     -0.624      0.533      -0.848       0.439\n",
      "s[T.11]        0.0009      0.160      0.006      0.995      -0.313       0.315\n",
      "s[T.13]       -1.1912      0.382     -3.122      0.002      -1.941      -0.442\n",
      "s[T.14]       -0.0711      0.306     -0.232      0.816      -0.672       0.530\n",
      "s[T.15]       -0.4496      0.132     -3.417      0.001      -0.708      -0.191\n",
      "s[T.16]       -1.7434      0.182     -9.598      0.000      -2.100      -1.387\n",
      "s[T.17]       -0.5784      0.189     -3.057      0.002      -0.950      -0.207\n",
      "s[T.18]       -0.4743      0.106     -4.465      0.000      -0.683      -0.266\n",
      "s[T.19]        0.3659      0.104      3.527      0.000       0.162       0.570\n",
      "s[T.20]       -1.6521      0.367     -4.503      0.000      -2.373      -0.931\n",
      "s[T.21]        0.2201      0.177      1.246      0.213      -0.127       0.567\n",
      "s[T.22]       -1.0779      0.230     -4.694      0.000      -1.529      -0.627\n",
      "s[T.23]        0.0657      0.258      0.255      0.799      -0.441       0.572\n",
      "s[T.24]       -1.3865      0.198     -6.989      0.000      -1.776      -0.997\n",
      "s[T.25]        0.0463      0.154      0.300      0.764      -0.257       0.349\n",
      "s[T.26]       -0.1425      0.130     -1.099      0.272      -0.397       0.112\n",
      "s[T.27]       -1.1280      0.437     -2.583      0.010      -1.986      -0.270\n",
      "s[T.28]       -1.1897      0.286     -4.160      0.000      -1.751      -0.628\n",
      "s[T.29]        0.2183      0.325      0.671      0.503      -0.421       0.858\n",
      "s[T.30]       -1.5944      0.398     -4.011      0.000      -2.375      -0.814\n",
      "s[T.31]       -0.5908      0.269     -2.193      0.029      -1.120      -0.062\n",
      "s[T.32]       -0.1762      0.279     -0.632      0.527      -0.724       0.371\n",
      "s[T.33]        0.1243      0.417      0.298      0.766      -0.695       0.943\n",
      "s[T.34]       -0.1485      0.163     -0.911      0.363      -0.469       0.172\n",
      "s[T.35]       -2.4716      0.536     -4.614      0.000      -3.524      -1.419\n",
      "s[T.36]       -0.5952      0.286     -2.079      0.038      -1.157      -0.033\n",
      "s[T.37]       -0.2137      0.116     -1.848      0.065      -0.441       0.013\n",
      "s[T.38]       -0.7615      0.162     -4.696      0.000      -1.080      -0.443\n",
      "s[T.39]       -0.6224      0.303     -2.054      0.040      -1.218      -0.027\n",
      "s[T.40]       -0.9286      0.417     -2.225      0.026      -1.748      -0.109\n",
      "s[T.41]       -0.0730      0.095     -0.767      0.444      -0.260       0.114\n",
      "s[T.42]       -1.7120      0.480     -3.569      0.000      -2.654      -0.770\n",
      "s[T.43]       -0.1465      0.109     -1.340      0.181      -0.361       0.068\n",
      "s[T.44]       -0.0589      0.404     -0.146      0.884      -0.853       0.735\n",
      "s[T.45]       -1.2916      0.280     -4.619      0.000      -1.841      -0.742\n",
      "s[T.46]       -1.4908      0.561     -2.658      0.008      -2.592      -0.389\n",
      "s[T.47]       -0.2026      0.171     -1.186      0.236      -0.538       0.133\n",
      "s[T.48]       -0.7056      0.164     -4.292      0.000      -1.029      -0.383\n",
      "s[T.49]       -0.8564      0.279     -3.073      0.002      -1.404      -0.309\n",
      "s[T.50]       -1.0933      0.162     -6.747      0.000      -1.412      -0.775\n",
      "s[T.51]       -0.9972      0.581     -1.716      0.087      -2.139       0.144\n",
      "phone         -0.3721      0.069     -5.367      0.000      -0.508      -0.236\n",
      "t              0.0402      0.009      4.305      0.000       0.022       0.059\n",
      "pop            0.0943      0.260      0.363      0.717      -0.417       0.605\n",
      "prison        -0.2337      0.086     -2.703      0.007      -0.404      -0.064\n",
      "police         0.1848      0.126      1.471      0.142      -0.062       0.432\n",
      "ur            -0.3981      0.930     -0.428      0.669      -2.225       1.429\n",
      "inc           -0.5871      0.395     -1.488      0.137      -1.362       0.188\n",
      "pov         7.294e-05      0.006      0.013      0.989      -0.011       0.011\n",
      "afdc       -1.418e-05   1.28e-05     -1.108      0.268   -3.93e-05    1.09e-05\n",
      "gun            0.0283      0.035      0.811      0.418      -0.040       0.097\n",
      "beer           0.0069      0.007      0.967      0.334      -0.007       0.021\n",
      "==============================================================================\n",
      "Omnibus:                      315.763   Durbin-Watson:                   1.775\n",
      "Prob(Omnibus):                  0.000   Jarque-Bera (JB):             8667.085\n",
      "Skew:                          -1.667   Prob(JB):                         0.00\n",
      "Kurtosis:                      20.951   Cond. No.                     3.96e+06\n",
      "==============================================================================\n",
      "\n",
      "Notes:\n",
      "[1] Standard Errors assume that the covariance matrix of the errors is correctly specified.\n",
      "[2] The condition number is large, 3.96e+06. This might indicate that there are\n",
      "strong multicollinearity or other numerical problems.\n"
     ]
    }
   ],
   "source": [
    "control_names = controls.columns\n",
    "formula = \"y~phone+s+t+\" + \"+\".join(control_names)\n",
    "model = smf.ols(formula=formula, data=controls)\n",
    "results = model.fit()\n",
    "print(results.summary())"
   ]
  },
  {
   "cell_type": "markdown",
   "metadata": {
    "id": "L0HnT5zIIiLb"
   },
   "source": [
    "What is happening here is that our key variable has been increasing quadratically, and we have no other controls that do so.  To be correct, you need to allow quadratic trends that could be caused by other confounding variables (e.g. technology).\n",
    "\n",
    "In addition, we may also allow interaction between the controls and interact the nationwide phone variable with state dummies to allow for state-specific tech adoption."
   ]
  },
  {
   "cell_type": "code",
   "execution_count": null,
   "metadata": {
    "colab": {
     "base_uri": "https://localhost:8080/"
    },
    "executionInfo": {
     "elapsed": 533,
     "status": "ok",
     "timestamp": 1724669270768,
     "user": {
      "displayName": "Yong Song",
      "userId": "00576951217859821315"
     },
     "user_tz": -600
    },
    "id": "4nGj_pIQCv3S",
    "outputId": "385ce2e9-19ba-40d4-f7f1-7e44f1a01bda"
   },
   "outputs": [
    {
     "name": "stdout",
     "output_type": "stream",
     "text": [
      "                            OLS Regression Results                            \n",
      "==============================================================================\n",
      "Dep. Variable:                      y   R-squared:                       0.939\n",
      "Model:                            OLS   Adj. R-squared:                  0.920\n",
      "Method:                 Least Squares   F-statistic:                     47.91\n",
      "Date:                Thu, 04 Sep 2025   Prob (F-statistic):          5.78e-216\n",
      "Time:                        16:29:23   Log-Likelihood:                 252.50\n",
      "No. Observations:                 624   AIC:                            -199.0\n",
      "Df Residuals:                     471   BIC:                             479.7\n",
      "Df Model:                         152                                         \n",
      "Covariance Type:            nonrobust                                         \n",
      "=================================================================================\n",
      "                    coef    std err          t      P>|t|      [0.025      0.975]\n",
      "---------------------------------------------------------------------------------\n",
      "Intercept        44.8107     41.567      1.078      0.282     -36.869     126.490\n",
      "t[T.1]            0.0785      0.044      1.773      0.077      -0.008       0.165\n",
      "t[T.2]            0.0358      0.050      0.711      0.477      -0.063       0.135\n",
      "t[T.3]            0.0267      0.061      0.435      0.663      -0.094       0.147\n",
      "t[T.4]            0.0067      0.071      0.095      0.924      -0.132       0.146\n",
      "t[T.5]            0.0469      0.077      0.608      0.544      -0.105       0.199\n",
      "t[T.6]            0.0843      0.077      1.092      0.275      -0.067       0.236\n",
      "t[T.7]            0.0591      0.085      0.694      0.488      -0.108       0.227\n",
      "t[T.8]            0.1123      0.084      1.336      0.182      -0.053       0.277\n",
      "t[T.9]            0.0095      0.085      0.112      0.911      -0.157       0.176\n",
      "t[T.10]          -0.0151      0.096     -0.158      0.874      -0.203       0.173\n",
      "t[T.11]          -0.0984      0.108     -0.909      0.364      -0.311       0.114\n",
      "t[T.12]          -0.1825      0.118     -1.549      0.122      -0.414       0.049\n",
      "s[T.3]           -0.5593      0.257     -2.172      0.030      -1.065      -0.053\n",
      "s[T.4]           -0.4382      0.355     -1.234      0.218      -1.136       0.260\n",
      "s[T.5]            0.6096      1.207      0.505      0.614      -1.763       2.982\n",
      "s[T.6]           -0.9551      0.279     -3.423      0.001      -1.503      -0.407\n",
      "s[T.7]           -0.9921      0.418     -2.371      0.018      -1.814      -0.170\n",
      "s[T.8]           -1.7110      1.074     -1.592      0.112      -3.822       0.400\n",
      "s[T.10]           0.2656      0.711      0.374      0.709      -1.131       1.662\n",
      "s[T.11]           0.2621      0.315      0.833      0.405      -0.356       0.880\n",
      "s[T.13]          -2.2252      0.860     -2.589      0.010      -3.914      -0.536\n",
      "s[T.14]           0.0996      0.675      0.148      0.883      -1.227       1.426\n",
      "s[T.15]          -0.4385      0.273     -1.606      0.109      -0.975       0.098\n",
      "s[T.16]          -1.8389      0.356     -5.170      0.000      -2.538      -1.140\n",
      "s[T.17]          -1.1150      0.364     -3.066      0.002      -1.830      -0.400\n",
      "s[T.18]          -0.4074      0.203     -2.002      0.046      -0.807      -0.008\n",
      "s[T.19]           0.3343      0.216      1.547      0.122      -0.090       0.759\n",
      "s[T.20]          -2.2084      0.758     -2.914      0.004      -3.698      -0.719\n",
      "s[T.21]          -0.3207      0.305     -1.050      0.294      -0.920       0.279\n",
      "s[T.22]          -1.2018      0.424     -2.836      0.005      -2.035      -0.369\n",
      "s[T.23]           0.4053      0.573      0.707      0.480      -0.721       1.532\n",
      "s[T.24]          -1.1076      0.353     -3.136      0.002      -1.802      -0.414\n",
      "s[T.25]          -0.2456      0.332     -0.740      0.459      -0.897       0.406\n",
      "s[T.26]          -0.2182      0.249     -0.877      0.381      -0.707       0.271\n",
      "s[T.27]          -2.3416      0.961     -2.436      0.015      -4.230      -0.453\n",
      "s[T.28]          -1.8309      0.604     -3.031      0.003      -3.018      -0.644\n",
      "s[T.29]          -1.2503      0.898     -1.392      0.164      -3.015       0.514\n",
      "s[T.30]          -1.9439      0.841     -2.310      0.021      -3.597      -0.290\n",
      "s[T.31]          -1.0083      0.568     -1.775      0.077      -2.124       0.108\n",
      "s[T.32]          -1.1248      0.641     -1.755      0.080      -2.384       0.135\n",
      "s[T.33]           0.1225      1.010      0.121      0.904      -1.863       2.108\n",
      "s[T.34]           0.0907      0.342      0.265      0.791      -0.580       0.762\n",
      "s[T.35]          -3.4573      1.158     -2.987      0.003      -5.732      -1.183\n",
      "s[T.36]          -0.1416      0.624     -0.227      0.821      -1.368       1.085\n",
      "s[T.37]          -0.3897      0.218     -1.791      0.074      -0.817       0.038\n",
      "s[T.38]          -0.9157      0.317     -2.885      0.004      -1.539      -0.292\n",
      "s[T.39]          -0.1368      0.699     -0.196      0.845      -1.510       1.236\n",
      "s[T.40]          -1.9096      0.885     -2.158      0.031      -3.649      -0.170\n",
      "s[T.41]          -0.2217      0.187     -1.184      0.237      -0.590       0.146\n",
      "s[T.42]          -2.7306      1.052     -2.595      0.010      -4.798      -0.663\n",
      "s[T.43]           0.0309      0.205      0.151      0.880      -0.372       0.433\n",
      "s[T.44]           0.9797      0.870      1.125      0.261      -0.731       2.690\n",
      "s[T.45]          -1.7999      0.641     -2.808      0.005      -3.059      -0.540\n",
      "s[T.46]          -2.3235      1.210     -1.920      0.055      -4.701       0.054\n",
      "s[T.47]          -0.2641      0.350     -0.754      0.451      -0.952       0.424\n",
      "s[T.48]          -0.7326      0.298     -2.461      0.014      -1.318      -0.148\n",
      "s[T.49]          -0.8686      0.607     -1.431      0.153      -2.061       0.324\n",
      "s[T.50]          -0.9147      0.319     -2.870      0.004      -1.541      -0.288\n",
      "s[T.51]          -2.6100      1.269     -2.057      0.040      -5.103      -0.117\n",
      "d                 0.2797      0.181      1.548      0.122      -0.075       0.635\n",
      "phone             0.1169      0.252      0.464      0.643      -0.378       0.612\n",
      "phone:s[T.3]      0.2207      0.308      0.716      0.474      -0.385       0.826\n",
      "phone:s[T.4]      0.1918      0.273      0.703      0.482      -0.344       0.728\n",
      "phone:s[T.5]     -1.1278      0.405     -2.785      0.006      -1.924      -0.332\n",
      "phone:s[T.6]     -0.7626      0.319     -2.390      0.017      -1.390      -0.136\n",
      "phone:s[T.7]     -0.6220      0.436     -1.427      0.154      -1.478       0.235\n",
      "phone:s[T.8]     -0.6124      0.431     -1.422      0.156      -1.459       0.234\n",
      "phone:s[T.10]    -0.9277      0.324     -2.863      0.004      -1.565      -0.291\n",
      "phone:s[T.11]    -0.6633      0.268     -2.472      0.014      -1.191      -0.136\n",
      "phone:s[T.13]     0.7418      0.332      2.234      0.026       0.089       1.394\n",
      "phone:s[T.14]    -0.6099      0.334     -1.827      0.068      -1.266       0.046\n",
      "phone:s[T.15]    -0.0023      0.292     -0.008      0.994      -0.576       0.572\n",
      "phone:s[T.16]    -0.3371      0.311     -1.083      0.279      -0.949       0.274\n",
      "phone:s[T.17]    -0.1292      0.336     -0.385      0.700      -0.789       0.530\n",
      "phone:s[T.18]    -0.3452      0.287     -1.201      0.230      -0.910       0.219\n",
      "phone:s[T.19]     0.2628      0.296      0.887      0.376      -0.320       0.845\n",
      "phone:s[T.20]    -0.0398      0.309     -0.129      0.898      -0.646       0.567\n",
      "phone:s[T.21]    -0.5147      0.363     -1.418      0.157      -1.228       0.198\n",
      "phone:s[T.22]    -1.1767      0.418     -2.812      0.005      -1.999      -0.354\n",
      "phone:s[T.23]    -1.0376      0.338     -3.066      0.002      -1.703      -0.373\n",
      "phone:s[T.24]    -0.1088      0.342     -0.318      0.750      -0.781       0.563\n",
      "phone:s[T.25]     0.0742      0.302      0.246      0.806      -0.519       0.667\n",
      "phone:s[T.26]    -0.2641      0.274     -0.963      0.336      -0.803       0.275\n",
      "phone:s[T.27]     0.3900      0.306      1.273      0.204      -0.212       0.992\n",
      "phone:s[T.28]    -0.2107      0.295     -0.714      0.475      -0.790       0.369\n",
      "phone:s[T.29]     0.5125      0.453      1.131      0.259      -0.378       1.403\n",
      "phone:s[T.30]    -0.6271      0.366     -1.715      0.087      -1.346       0.092\n",
      "phone:s[T.31]    -1.0501      0.406     -2.588      0.010      -1.848      -0.253\n",
      "phone:s[T.32]     0.0457      0.315      0.145      0.885      -0.573       0.665\n",
      "phone:s[T.33]    -1.6751      0.576     -2.907      0.004      -2.807      -0.543\n",
      "phone:s[T.34]    -0.4088      0.271     -1.508      0.132      -0.941       0.124\n",
      "phone:s[T.35]     0.0231      0.326      0.071      0.944      -0.618       0.664\n",
      "phone:s[T.36]    -0.8283      0.310     -2.673      0.008      -1.437      -0.219\n",
      "phone:s[T.37]    -0.0387      0.299     -0.129      0.897      -0.627       0.550\n",
      "phone:s[T.38]    -0.6551      0.320     -2.047      0.041      -1.284      -0.026\n",
      "phone:s[T.39]    -0.5992      0.373     -1.605      0.109      -1.333       0.134\n",
      "phone:s[T.40]    -0.4853      0.371     -1.306      0.192      -1.215       0.245\n",
      "phone:s[T.41]    -0.2669      0.272     -0.981      0.327      -0.802       0.268\n",
      "phone:s[T.42]    -0.0647      0.303     -0.213      0.831      -0.661       0.531\n",
      "phone:s[T.43]    -0.3588      0.291     -1.235      0.217      -0.930       0.212\n",
      "phone:s[T.44]    -1.1952      0.359     -3.327      0.001      -1.901      -0.489\n",
      "phone:s[T.45]     0.1637      0.395      0.415      0.678      -0.612       0.939\n",
      "phone:s[T.46]    -0.3440      0.439     -0.784      0.433      -1.206       0.518\n",
      "phone:s[T.47]    -0.4357      0.301     -1.448      0.148      -1.027       0.156\n",
      "phone:s[T.48]    -0.6761      0.371     -1.824      0.069      -1.405       0.052\n",
      "phone:s[T.49]    -0.3248      0.343     -0.947      0.344      -0.998       0.349\n",
      "phone:s[T.50]    -0.3484      0.323     -1.079      0.281      -0.983       0.286\n",
      "phone:s[T.51]     0.5332      0.356      1.500      0.134      -0.165       1.232\n",
      "pop              -5.5327      4.533     -1.221      0.223     -14.440       3.374\n",
      "prison           -8.1286      6.085     -1.336      0.182     -20.085       3.828\n",
      "police          -17.6494     12.139     -1.454      0.147     -41.502       6.204\n",
      "ur             -146.2530    101.930     -1.435      0.152    -346.546      54.040\n",
      "inc              -4.4636      4.217     -1.059      0.290     -12.750       3.823\n",
      "pov               1.1368      0.446      2.550      0.011       0.261       2.013\n",
      "afdc              0.0003      0.001      0.197      0.844      -0.002       0.003\n",
      "gun               7.2190      5.339      1.352      0.177      -3.272      17.710\n",
      "beer              0.3977      0.736      0.540      0.589      -1.048       1.843\n",
      "pop:prison        0.1275      0.102      1.248      0.213      -0.073       0.328\n",
      "pop:police       -0.0556      0.168     -0.331      0.741      -0.385       0.274\n",
      "pop:ur           -0.8350      1.319     -0.633      0.527      -3.428       1.758\n",
      "pop:inc           0.5199      0.460      1.131      0.259      -0.383       1.423\n",
      "pop:pov          -0.0048      0.008     -0.575      0.566      -0.021       0.012\n",
      "pop:afdc        2.23e-05   2.16e-05      1.032      0.303   -2.02e-05    6.48e-05\n",
      "pop:gun           0.1338      0.061      2.181      0.030       0.013       0.254\n",
      "pop:beer         -0.0099      0.012     -0.805      0.421      -0.034       0.014\n",
      "prison:police    -1.4129      0.390     -3.622      0.000      -2.180      -0.646\n",
      "prison:ur         1.8121      3.209      0.565      0.573      -4.494       8.118\n",
      "prison:inc        0.8231      0.619      1.330      0.184      -0.393       2.040\n",
      "prison:pov        0.0176      0.017      1.017      0.310      -0.016       0.052\n",
      "prison:afdc   -3.373e-05   2.34e-05     -1.443      0.150   -7.97e-05    1.22e-05\n",
      "prison:gun        0.0662      0.135      0.492      0.623      -0.198       0.331\n",
      "prison:beer      -0.0026      0.021     -0.128      0.898      -0.043       0.038\n",
      "police:ur        -8.6260      6.483     -1.331      0.184     -21.365       4.113\n",
      "police:inc        1.8608      1.249      1.489      0.137      -0.594       4.316\n",
      "police:pov        0.0575      0.036      1.579      0.115      -0.014       0.129\n",
      "police:afdc   -1.917e-05   7.91e-05     -0.242      0.809      -0.000       0.000\n",
      "police:gun       -0.0222      0.266     -0.084      0.933      -0.544       0.500\n",
      "police:beer       0.0424      0.040      1.050      0.294      -0.037       0.122\n",
      "ur:inc           16.7778     10.619      1.580      0.115      -4.089      37.644\n",
      "ur:pov            0.0527      0.280      0.188      0.851      -0.498       0.603\n",
      "ur:afdc          -0.0004      0.001     -0.532      0.595      -0.002       0.001\n",
      "ur:gun           -3.7834      2.254     -1.678      0.094      -8.213       0.646\n",
      "ur:beer          -0.2051      0.276     -0.742      0.458      -0.748       0.338\n",
      "inc:pov          -0.1251      0.048     -2.628      0.009      -0.219      -0.032\n",
      "inc:afdc      -3.799e-05      0.000     -0.285      0.776      -0.000       0.000\n",
      "inc:gun          -0.8499      0.570     -1.492      0.136      -1.970       0.270\n",
      "inc:beer         -0.0307      0.074     -0.413      0.679      -0.177       0.115\n",
      "pov:afdc       7.896e-06   3.57e-06      2.211      0.027     8.8e-07    1.49e-05\n",
      "pov:gun           0.0163      0.012      1.309      0.191      -0.008       0.041\n",
      "pov:beer          0.0007      0.002      0.442      0.659      -0.002       0.004\n",
      "afdc:gun        3.96e-05    2.4e-05      1.648      0.100    -7.6e-06    8.68e-05\n",
      "afdc:beer     -5.833e-06    4.4e-06     -1.326      0.186   -1.45e-05    2.81e-06\n",
      "gun:beer         -0.0069      0.013     -0.526      0.599      -0.033       0.019\n",
      "==============================================================================\n",
      "Omnibus:                      401.372   Durbin-Watson:                   2.232\n",
      "Prob(Omnibus):                  0.000   Jarque-Bera (JB):            22533.328\n",
      "Skew:                          -2.135   Prob(JB):                         0.00\n",
      "Kurtosis:                      32.128   Cond. No.                     2.25e+15\n",
      "==============================================================================\n",
      "\n",
      "Notes:\n",
      "[1] Standard Errors assume that the covariance matrix of the errors is correctly specified.\n",
      "[2] The smallest eigenvalue is 5.53e-18. This might indicate that there are\n",
      "strong multicollinearity problems or that the design matrix is singular.\n"
     ]
    }
   ],
   "source": [
    "t = t.astype(object) #without this steps, t is a numeric variable\n",
    "control_names = controls.columns\n",
    "formula = \"y~d + t + phone*s +(\" + \"+\".join(control_names) + \")**2\"\n",
    "model = smf.ols(formula=formula, data=controls)\n",
    "results = model.fit()\n",
    "print(results.summary())"
   ]
  },
  {
   "cell_type": "code",
   "execution_count": null,
   "metadata": {
    "id": "0uRQtRwcSBkR"
   },
   "outputs": [],
   "source": [
    "data.to_csv('abortion_crime_data.csv', index=False)\n",
    "controls.to_csv('abortion_crime_controls.csv', index=False)\n",
    "phone.to_csv('abortion_crime_phone.csv', index=False)"
   ]
  },
  {
   "cell_type": "markdown",
   "metadata": {
    "id": "cjPH9r7eiHG3"
   },
   "source": [
    "# [EconML](https://econml.azurewebsites.net/index.html)\n",
    "\n",
    "- A nice intro [presentation](https://www.dropbox.com/scl/fi/6cfgoru344bv2soqecgjc/Causal-Inference-User-Guide-v4-022520.pdf?rlkey=9lk6dg68x5iw6slzpyet7vb99&dl=0) from EconML.\n",
    "- An online [notebook](https://drive.google.com/file/d/1tJRI5Pa9yy3SAwAtSC_jdLwHNqfhHYpO/view?usp=sharing) from EconML."
   ]
  },
  {
   "cell_type": "code",
   "execution_count": null,
   "metadata": {
    "id": "liwpcP4oW-M7"
   },
   "outputs": [],
   "source": [
    "data= pd.read_csv(\"https://www.dropbox.com/scl/fi/br06oykhs45ercnenbsnp/abortion_crime_data.csv?rlkey=6l2vlblqnwa02u2i38x917rh0&dl=1\")\n",
    "controls = pd.read_csv(\"https://www.dropbox.com/scl/fi/9iq3hpmob2dddlcelzry8/abortion_crime_controls.csv?rlkey=tjtbws9c7ie7a7svn7gec802e&dl=1\")\n",
    "phone = pd.read_csv('https://www.dropbox.com/scl/fi/n0kdsjju6pyi0nw778f3y/abortion_crime_phone.csv?rlkey=bsycnmvnqbccoy0r2rt35cn1v&dl=1')\n",
    "\n",
    "y = data['y_murd']\n",
    "d = data['a_murd']\n",
    "t = data['t'].astype(object)\n",
    "s = data['s'].astype(object)\n",
    "phone = phone.iloc[:, 0]"
   ]
  },
  {
   "cell_type": "markdown",
   "metadata": {
    "id": "BetH4lqRXgw1"
   },
   "source": [
    "## User's Manual\n",
    "\n",
    "- $Y$ is the outcome.\n",
    "- $T$ is the treatment.\n",
    "- $X$ is the heterogeneity for the treatment effects, NOT necessarily the regressors.\n",
    "- $W$ is confounders (controls)"
   ]
  },
  {
   "cell_type": "code",
   "execution_count": null,
   "metadata": {
    "id": "ku2fSKr8XRI1"
   },
   "outputs": [],
   "source": [
    "control_names = controls.columns\n",
    "formula = \"y ~ t + phone*s +(\" + \"+\".join(control_names) + \")**2\"\n",
    "Y, W = patsy.dmatrices(formula, data=controls) # type: ignore\n",
    "formula = \"d ~ t + phone*s +(\" + \"+\".join(control_names) + \")**2\"\n",
    "T, W = patsy.dmatrices(formula, data=controls) # type: ignore"
   ]
  },
  {
   "cell_type": "code",
   "execution_count": null,
   "metadata": {
    "id": "Swgql1gWg3Z9"
   },
   "outputs": [],
   "source": [
    "model_t = LassoCV(cv=5, alphas=np.logspace(-3, 2, 50), max_iter=10000)\n",
    "model_y = LassoCV(cv=5, alphas=np.logspace(-3, 2, 50), max_iter=10000)\n",
    "\n",
    "Y = Y.ravel()"
   ]
  },
  {
   "cell_type": "code",
   "execution_count": null,
   "metadata": {
    "id": "QY_1XtHjSH8r"
   },
   "outputs": [],
   "source": [
    "model_t.fit(W, T.ravel())"
   ]
  },
  {
   "cell_type": "code",
   "execution_count": null,
   "metadata": {
    "id": "YSPGzJEHSH8r"
   },
   "outputs": [],
   "source": [
    "model_t_cv = Lasso(alpha=model_t.alpha_, max_iter=10000)"
   ]
  },
  {
   "cell_type": "code",
   "execution_count": null,
   "metadata": {
    "id": "sHDg5B_0SH8r"
   },
   "outputs": [],
   "source": [
    "model_y.fit(W, Y)"
   ]
  },
  {
   "cell_type": "code",
   "execution_count": null,
   "metadata": {
    "id": "zwgxrinTSH8r"
   },
   "outputs": [],
   "source": [
    "model_y_cv = Lasso(alpha=model_y.alpha_, max_iter=10000)"
   ]
  },
  {
   "cell_type": "code",
   "execution_count": null,
   "metadata": {
    "id": "GR_JM3owqiOi"
   },
   "outputs": [],
   "source": [
    "estimator = LinearDML(\n",
    "    model_y = model_y_cv, # type: ignore\n",
    "    model_t = model_t_cv, # type: ignore\n",
    "    cv=4,\n",
    ")"
   ]
  },
  {
   "cell_type": "code",
   "execution_count": null,
   "metadata": {
    "colab": {
     "base_uri": "https://localhost:8080/"
    },
    "executionInfo": {
     "elapsed": 997,
     "status": "ok",
     "timestamp": 1724672062332,
     "user": {
      "displayName": "Yong Song",
      "userId": "00576951217859821315"
     },
     "user_tz": -600
    },
    "id": "-CQTZkMGvfV-",
    "outputId": "622fe755-312d-4b91-fd41-2ae0e2da2c87"
   },
   "outputs": [
    {
     "name": "stderr",
     "output_type": "stream",
     "text": [
      "/Users/yongs1/miniforge3/lib/python3.12/site-packages/sklearn/linear_model/_coordinate_descent.py:695: ConvergenceWarning: Objective did not converge. You might want to increase the number of iterations, check the scale of the features or consider increasing regularisation. Duality gap: 1.199e+01, tolerance: 1.012e-02\n",
      "  model = cd_fast.enet_coordinate_descent(\n",
      "/Users/yongs1/miniforge3/lib/python3.12/site-packages/sklearn/linear_model/_coordinate_descent.py:695: ConvergenceWarning: Objective did not converge. You might want to increase the number of iterations, check the scale of the features or consider increasing regularisation. Duality gap: 1.814e+01, tolerance: 1.998e-02\n",
      "  model = cd_fast.enet_coordinate_descent(\n",
      "/Users/yongs1/miniforge3/lib/python3.12/site-packages/sklearn/linear_model/_coordinate_descent.py:695: ConvergenceWarning: Objective did not converge. You might want to increase the number of iterations, check the scale of the features or consider increasing regularisation. Duality gap: 1.068e+01, tolerance: 9.628e-03\n",
      "  model = cd_fast.enet_coordinate_descent(\n",
      "/Users/yongs1/miniforge3/lib/python3.12/site-packages/sklearn/linear_model/_coordinate_descent.py:695: ConvergenceWarning: Objective did not converge. You might want to increase the number of iterations, check the scale of the features or consider increasing regularisation. Duality gap: 1.778e+01, tolerance: 1.902e-02\n",
      "  model = cd_fast.enet_coordinate_descent(\n",
      "/Users/yongs1/miniforge3/lib/python3.12/site-packages/sklearn/linear_model/_coordinate_descent.py:695: ConvergenceWarning: Objective did not converge. You might want to increase the number of iterations, check the scale of the features or consider increasing regularisation. Duality gap: 9.158e+00, tolerance: 9.921e-03\n",
      "  model = cd_fast.enet_coordinate_descent(\n",
      "/Users/yongs1/miniforge3/lib/python3.12/site-packages/sklearn/linear_model/_coordinate_descent.py:695: ConvergenceWarning: Objective did not converge. You might want to increase the number of iterations, check the scale of the features or consider increasing regularisation. Duality gap: 2.072e+01, tolerance: 2.062e-02\n",
      "  model = cd_fast.enet_coordinate_descent(\n",
      "/Users/yongs1/miniforge3/lib/python3.12/site-packages/sklearn/linear_model/_coordinate_descent.py:695: ConvergenceWarning: Objective did not converge. You might want to increase the number of iterations, check the scale of the features or consider increasing regularisation. Duality gap: 1.119e+01, tolerance: 1.090e-02\n",
      "  model = cd_fast.enet_coordinate_descent(\n",
      "/Users/yongs1/miniforge3/lib/python3.12/site-packages/sklearn/linear_model/_coordinate_descent.py:695: ConvergenceWarning: Objective did not converge. You might want to increase the number of iterations, check the scale of the features or consider increasing regularisation. Duality gap: 2.021e+01, tolerance: 2.070e-02\n",
      "  model = cd_fast.enet_coordinate_descent(\n"
     ]
    },
    {
     "data": {
      "text/plain": [
       "<econml.dml.dml.LinearDML at 0x307870890>"
      ]
     },
     "execution_count": 40,
     "metadata": {},
     "output_type": "execute_result"
    }
   ],
   "source": [
    "estimator.fit(Y=Y, T=T, W=W)"
   ]
  },
  {
   "cell_type": "code",
   "execution_count": null,
   "metadata": {
    "id": "77UxCkHkVWDm",
    "outputId": "a8c16aa2-f800-4489-cf87-a5a633728a12"
   },
   "outputs": [
    {
     "name": "stdout",
     "output_type": "stream",
     "text": [
      "Coefficient Results:  X is None, please call intercept_inference to learn the constant!\n"
     ]
    },
    {
     "data": {
      "text/html": [
       "<table class=\"simpletable\">\n",
       "<caption>CATE Intercept Results</caption>\n",
       "<tr>\n",
       "         <td></td>        <th>point_estimate</th> <th>stderr</th>  <th>zstat</th> <th>pvalue</th> <th>ci_lower</th> <th>ci_upper</th>\n",
       "</tr>\n",
       "<tr>\n",
       "  <th>cate_intercept</th>     <td>-0.089</td>      <td>0.047</td> <td>-1.872</td>  <td>0.061</td>  <td>-0.182</td>    <td>0.004</td> \n",
       "</tr>\n",
       "</table><br/><br/><sub>A linear parametric conditional average treatment effect (CATE) model was fitted:<br/>$Y = \\Theta(X)\\cdot T + g(X, W) + \\epsilon$<br/>where for every outcome $i$ and treatment $j$ the CATE $\\Theta_{ij}(X)$ has the form:<br/>$\\Theta_{ij}(X) = X' coef_{ij} + cate\\_intercept_{ij}$<br/>Coefficient Results table portrays the $coef_{ij}$ parameter vector for each outcome $i$ and treatment $j$. Intercept Results table portrays the $cate\\_intercept_{ij}$ parameter.</sub>"
      ],
      "text/plain": [
       "<class 'econml.utilities.Summary'>\n",
       "\"\"\"\n",
       "                       CATE Intercept Results                       \n",
       "====================================================================\n",
       "               point_estimate stderr zstat  pvalue ci_lower ci_upper\n",
       "--------------------------------------------------------------------\n",
       "cate_intercept         -0.089  0.047 -1.872  0.061   -0.182    0.004\n",
       "--------------------------------------------------------------------\n",
       "\n",
       "<sub>A linear parametric conditional average treatment effect (CATE) model was fitted:\n",
       "$Y = \\Theta(X)\\cdot T + g(X, W) + \\epsilon$\n",
       "where for every outcome $i$ and treatment $j$ the CATE $\\Theta_{ij}(X)$ has the form:\n",
       "$\\Theta_{ij}(X) = X' coef_{ij} + cate\\_intercept_{ij}$\n",
       "Coefficient Results table portrays the $coef_{ij}$ parameter vector for each outcome $i$ and treatment $j$. Intercept Results table portrays the $cate\\_intercept_{ij}$ parameter.</sub>\n",
       "\"\"\""
      ]
     },
     "execution_count": 41,
     "metadata": {},
     "output_type": "execute_result"
    }
   ],
   "source": [
    "estimator.summary()"
   ]
  },
  {
   "cell_type": "code",
   "execution_count": null,
   "metadata": {
    "colab": {
     "base_uri": "https://localhost:8080/"
    },
    "executionInfo": {
     "elapsed": 723,
     "status": "ok",
     "timestamp": 1724672072814,
     "user": {
      "displayName": "Yong Song",
      "userId": "00576951217859821315"
     },
     "user_tz": -600
    },
    "id": "VLWK_MB6wecM",
    "outputId": "f96e0fb5-ad2e-47f5-dd41-a22f7e9c5ce7"
   },
   "outputs": [
    {
     "data": {
      "text/plain": [
       "array([-0.08872652])"
      ]
     },
     "execution_count": 42,
     "metadata": {},
     "output_type": "execute_result"
    }
   ],
   "source": [
    "estimator.const_marginal_ate()"
   ]
  },
  {
   "cell_type": "code",
   "execution_count": null,
   "metadata": {
    "colab": {
     "base_uri": "https://localhost:8080/",
     "height": 203
    },
    "executionInfo": {
     "elapsed": 5,
     "status": "ok",
     "timestamp": 1724672077418,
     "user": {
      "displayName": "Yong Song",
      "userId": "00576951217859821315"
     },
     "user_tz": -600
    },
    "id": "t2s-YqHQwzxl",
    "outputId": "2d40b3c4-2335-41bf-caed-676ed511dbfe"
   },
   "outputs": [
    {
     "data": {
      "text/html": [
       "<table class=\"simpletable\">\n",
       "<caption>Uncertainty of Mean Point Estimate</caption>\n",
       "<tr>\n",
       "  <th>mean_point</th> <th>stderr_mean</th>  <th>zstat</th> <th>pvalue</th> <th>ci_mean_lower</th> <th>ci_mean_upper</th>\n",
       "</tr>\n",
       "<tr>\n",
       "    <td>-0.089</td>      <td>0.047</td>    <td>-1.872</td>  <td>0.061</td>    <td>-0.182</td>         <td>0.004</td>    \n",
       "</tr>\n",
       "</table>\n",
       "<table class=\"simpletable\">\n",
       "<caption>Distribution of Point Estimate</caption>\n",
       "<tr>\n",
       "  <th>std_point</th> <th>pct_point_lower</th> <th>pct_point_upper</th>\n",
       "</tr>\n",
       "<tr>\n",
       "     <td>0.0</td>        <td>-0.089</td>          <td>-0.089</td>     \n",
       "</tr>\n",
       "</table>\n",
       "<table class=\"simpletable\">\n",
       "<caption>Total Variance of Point Estimate</caption>\n",
       "<tr>\n",
       "  <th>stderr_point</th> <th>ci_point_lower</th> <th>ci_point_upper</th>\n",
       "</tr>\n",
       "<tr>\n",
       "      <td>0.047</td>        <td>-0.182</td>          <td>0.004</td>    \n",
       "</tr>\n",
       "</table>"
      ],
      "text/plain": [
       "<econml.inference._inference.PopulationSummaryResults at 0x307873c20>"
      ]
     },
     "execution_count": 43,
     "metadata": {},
     "output_type": "execute_result"
    }
   ],
   "source": [
    "estimator.const_marginal_ate_inference()"
   ]
  },
  {
   "cell_type": "code",
   "execution_count": null,
   "metadata": {
    "colab": {
     "base_uri": "https://localhost:8080/"
    },
    "executionInfo": {
     "elapsed": 470,
     "status": "ok",
     "timestamp": 1724672081264,
     "user": {
      "displayName": "Yong Song",
      "userId": "00576951217859821315"
     },
     "user_tz": -600
    },
    "id": "SAPtfJZLw7QO",
    "outputId": "cd126f94-4665-4ea5-a893-0d54b2abc0c2"
   },
   "outputs": [
    {
     "data": {
      "text/plain": [
       "(array([-0.1816055]), array([0.00415246]))"
      ]
     },
     "execution_count": 44,
     "metadata": {},
     "output_type": "execute_result"
    }
   ],
   "source": [
    "estimator.const_marginal_ate_interval()"
   ]
  },
  {
   "cell_type": "markdown",
   "metadata": {
    "id": "fy2vPdVaxxrP"
   },
   "source": [
    "## Linear Models are NOT ideal"
   ]
  },
  {
   "cell_type": "code",
   "execution_count": null,
   "metadata": {
    "id": "EkTc6ivY5NCy"
   },
   "outputs": [],
   "source": [
    "model_y = LinearRegression()\n",
    "model_t = LinearRegression()"
   ]
  },
  {
   "cell_type": "code",
   "execution_count": null,
   "metadata": {
    "id": "bK4hP80F5NMg"
   },
   "outputs": [],
   "source": [
    "estimator = LinearDML(\n",
    "    model_y = model_y, # type: ignore\n",
    "    model_t = model_t, # type: ignore\n",
    "    cv = 4\n",
    ")"
   ]
  },
  {
   "cell_type": "code",
   "execution_count": null,
   "metadata": {
    "colab": {
     "base_uri": "https://localhost:8080/"
    },
    "executionInfo": {
     "elapsed": 665,
     "status": "ok",
     "timestamp": 1724672181401,
     "user": {
      "displayName": "Yong Song",
      "userId": "00576951217859821315"
     },
     "user_tz": -600
    },
    "id": "g0e9sOUQ5NMh",
    "outputId": "6d6a2bb8-b6da-4cb7-b70b-71824841588e"
   },
   "outputs": [
    {
     "data": {
      "text/plain": [
       "<econml.dml.dml.LinearDML at 0x12f83b110>"
      ]
     },
     "execution_count": 102,
     "metadata": {},
     "output_type": "execute_result"
    }
   ],
   "source": [
    "estimator.fit(Y=Y, T=T, W=W)"
   ]
  },
  {
   "cell_type": "code",
   "execution_count": null,
   "metadata": {
    "colab": {
     "base_uri": "https://localhost:8080/"
    },
    "executionInfo": {
     "elapsed": 530,
     "status": "ok",
     "timestamp": 1724672185392,
     "user": {
      "displayName": "Yong Song",
      "userId": "00576951217859821315"
     },
     "user_tz": -600
    },
    "id": "ceoNxkIQ5NMh",
    "outputId": "f00326bd-1ae9-4649-9e54-b139ad932f29"
   },
   "outputs": [
    {
     "data": {
      "text/plain": [
       "array([0.37007073])"
      ]
     },
     "execution_count": 103,
     "metadata": {},
     "output_type": "execute_result"
    }
   ],
   "source": [
    "estimator.const_marginal_ate()"
   ]
  },
  {
   "cell_type": "code",
   "execution_count": null,
   "metadata": {
    "colab": {
     "base_uri": "https://localhost:8080/"
    },
    "executionInfo": {
     "elapsed": 3,
     "status": "ok",
     "timestamp": 1724672188700,
     "user": {
      "displayName": "Yong Song",
      "userId": "00576951217859821315"
     },
     "user_tz": -600
    },
    "id": "_m2HJaoR5eQ2",
    "outputId": "e4de21c2-a34d-4a42-b000-4fb8f22ef1ba"
   },
   "outputs": [
    {
     "data": {
      "text/plain": [
       "(array([0.03219107]), array([0.70795038]))"
      ]
     },
     "execution_count": 104,
     "metadata": {},
     "output_type": "execute_result"
    }
   ],
   "source": [
    "estimator.const_marginal_ate_interval()"
   ]
  },
  {
   "cell_type": "markdown",
   "metadata": {
    "id": "Pok0zuA_-5-y"
   },
   "source": [
    "## Heterogeneous Treatment Effect\n",
    "\n",
    "What might affect treatment effect?"
   ]
  },
  {
   "cell_type": "code",
   "execution_count": null,
   "metadata": {
    "id": "Ejt7sWMBDN02"
   },
   "outputs": [],
   "source": [
    "control_names = controls.columns\n",
    "formula = \"y ~ phone*s +(\" + \"+\".join(control_names) + \")**2\"\n",
    "Y, W = patsy.dmatrices(formula, data=controls) # type: ignore\n",
    "formula = \"d ~ t\"\n",
    "T, X = patsy.dmatrices(formula, data=controls) # type: ignore"
   ]
  },
  {
   "cell_type": "code",
   "execution_count": null,
   "metadata": {
    "id": "RbnXNOm_DN1A"
   },
   "outputs": [],
   "source": [
    "Y = Y.ravel()"
   ]
  },
  {
   "cell_type": "code",
   "execution_count": null,
   "metadata": {
    "id": "-PnNmVAhSH8s"
   },
   "outputs": [],
   "source": [
    "model_t = LassoCV(cv=5, alphas=np.logspace(-3, 2, 50), max_iter=10000)\n",
    "model_y = LassoCV(cv=5, alphas=np.logspace(-3, 2, 50), max_iter=10000)\n",
    "\n",
    "Y = Y.ravel()"
   ]
  },
  {
   "cell_type": "code",
   "execution_count": null,
   "metadata": {
    "id": "12WFxrxVSH8s"
   },
   "outputs": [],
   "source": [
    "model_t.fit(W, T.ravel())\n",
    "model_t_cv = Lasso(alpha=model_t.alpha_, max_iter=10000)\n",
    "model_y.fit(W, Y)\n",
    "model_y_cv = Lasso(alpha=model_y.alpha_, max_iter=10000)"
   ]
  },
  {
   "cell_type": "code",
   "execution_count": null,
   "metadata": {
    "id": "VG7wTRK2DhkX"
   },
   "outputs": [],
   "source": [
    "estimator = LinearDML(\n",
    "    model_y = model_y_cv, # type: ignore\n",
    "    model_t = model_t_cv, # type: ignore\n",
    "    cv=4)"
   ]
  },
  {
   "cell_type": "code",
   "execution_count": null,
   "metadata": {
    "colab": {
     "base_uri": "https://localhost:8080/"
    },
    "executionInfo": {
     "elapsed": 5023,
     "status": "ok",
     "timestamp": 1724672284573,
     "user": {
      "displayName": "Yong Song",
      "userId": "00576951217859821315"
     },
     "user_tz": -600
    },
    "id": "oZdXwxeIDhkY",
    "outputId": "218e9fd1-ced0-42a1-8ef4-192c8d3376ed"
   },
   "outputs": [
    {
     "name": "stderr",
     "output_type": "stream",
     "text": [
      "/Users/yongs1/miniforge3/lib/python3.12/site-packages/sklearn/linear_model/_coordinate_descent.py:695: ConvergenceWarning: Objective did not converge. You might want to increase the number of iterations, check the scale of the features or consider increasing regularisation. Duality gap: 1.152e+01, tolerance: 1.132e-02\n",
      "  model = cd_fast.enet_coordinate_descent(\n",
      "/Users/yongs1/miniforge3/lib/python3.12/site-packages/sklearn/linear_model/_coordinate_descent.py:695: ConvergenceWarning: Objective did not converge. You might want to increase the number of iterations, check the scale of the features or consider increasing regularisation. Duality gap: 1.627e+01, tolerance: 1.852e-02\n",
      "  model = cd_fast.enet_coordinate_descent(\n",
      "/Users/yongs1/miniforge3/lib/python3.12/site-packages/sklearn/linear_model/_coordinate_descent.py:695: ConvergenceWarning: Objective did not converge. You might want to increase the number of iterations, check the scale of the features or consider increasing regularisation. Duality gap: 1.124e+01, tolerance: 9.411e-03\n",
      "  model = cd_fast.enet_coordinate_descent(\n",
      "/Users/yongs1/miniforge3/lib/python3.12/site-packages/sklearn/linear_model/_coordinate_descent.py:695: ConvergenceWarning: Objective did not converge. You might want to increase the number of iterations, check the scale of the features or consider increasing regularisation. Duality gap: 2.015e+01, tolerance: 2.105e-02\n",
      "  model = cd_fast.enet_coordinate_descent(\n",
      "/Users/yongs1/miniforge3/lib/python3.12/site-packages/sklearn/linear_model/_coordinate_descent.py:695: ConvergenceWarning: Objective did not converge. You might want to increase the number of iterations, check the scale of the features or consider increasing regularisation. Duality gap: 1.203e+01, tolerance: 1.056e-02\n",
      "  model = cd_fast.enet_coordinate_descent(\n",
      "/Users/yongs1/miniforge3/lib/python3.12/site-packages/sklearn/linear_model/_coordinate_descent.py:695: ConvergenceWarning: Objective did not converge. You might want to increase the number of iterations, check the scale of the features or consider increasing regularisation. Duality gap: 2.057e+01, tolerance: 2.087e-02\n",
      "  model = cd_fast.enet_coordinate_descent(\n",
      "/Users/yongs1/miniforge3/lib/python3.12/site-packages/sklearn/linear_model/_coordinate_descent.py:695: ConvergenceWarning: Objective did not converge. You might want to increase the number of iterations, check the scale of the features or consider increasing regularisation. Duality gap: 1.065e+01, tolerance: 9.241e-03\n",
      "  model = cd_fast.enet_coordinate_descent(\n",
      "/Users/yongs1/miniforge3/lib/python3.12/site-packages/sklearn/linear_model/_coordinate_descent.py:695: ConvergenceWarning: Objective did not converge. You might want to increase the number of iterations, check the scale of the features or consider increasing regularisation. Duality gap: 1.936e+01, tolerance: 1.984e-02\n",
      "  model = cd_fast.enet_coordinate_descent(\n",
      "/Users/yongs1/miniforge3/lib/python3.12/site-packages/econml/sklearn_extensions/linear_model.py:1815: UserWarning: Co-variance matrix is underdetermined. Inference will be invalid!\n",
      "  warnings.warn(\"Co-variance matrix is underdetermined. Inference will be invalid!\")\n"
     ]
    },
    {
     "data": {
      "text/plain": [
       "<econml.dml.dml.LinearDML at 0x30788b410>"
      ]
     },
     "execution_count": 48,
     "metadata": {},
     "output_type": "execute_result"
    }
   ],
   "source": [
    "estimator.fit(Y=Y, T=T, X=X, W=W)"
   ]
  },
  {
   "cell_type": "code",
   "execution_count": null,
   "metadata": {
    "colab": {
     "base_uri": "https://localhost:8080/"
    },
    "executionInfo": {
     "elapsed": 456,
     "status": "ok",
     "timestamp": 1724672288749,
     "user": {
      "displayName": "Yong Song",
      "userId": "00576951217859821315"
     },
     "user_tz": -600
    },
    "id": "FgurnON1DhkY",
    "outputId": "d9094bac-b1c7-469f-9ede-c8f4a707912e"
   },
   "outputs": [
    {
     "data": {
      "text/plain": [
       "array([-0.16842393])"
      ]
     },
     "execution_count": 49,
     "metadata": {},
     "output_type": "execute_result"
    }
   ],
   "source": [
    "estimator.const_marginal_ate(X)"
   ]
  },
  {
   "cell_type": "code",
   "execution_count": null,
   "metadata": {
    "colab": {
     "base_uri": "https://localhost:8080/"
    },
    "executionInfo": {
     "elapsed": 3,
     "status": "ok",
     "timestamp": 1724672292709,
     "user": {
      "displayName": "Yong Song",
      "userId": "00576951217859821315"
     },
     "user_tz": -600
    },
    "id": "FDTPpLBzF_ms",
    "outputId": "b3bcc067-3356-4547-8b58-be9b89d2b73d"
   },
   "outputs": [
    {
     "data": {
      "image/png": "[encoded data removed]",
      "text/latex": [
       "$\\displaystyle \\left( 624, \\  13\\right)$"
      ],
      "text/plain": [
       "(624, 13)"
      ]
     },
     "execution_count": 50,
     "metadata": {},
     "output_type": "execute_result"
    }
   ],
   "source": [
    "X0 = np.asarray(X)\n",
    "X0.shape"
   ]
  },
  {
   "cell_type": "code",
   "execution_count": null,
   "metadata": {
    "id": "IRC4E0TOGOpx"
   },
   "outputs": [],
   "source": [
    "Xu = np.unique(X0, axis=0)"
   ]
  },
  {
   "cell_type": "code",
   "execution_count": null,
   "metadata": {
    "id": "Y2OzT3dhE-OK"
   },
   "outputs": [],
   "source": [
    "me = estimator.const_marginal_effect(Xu)"
   ]
  },
  {
   "cell_type": "code",
   "execution_count": null,
   "metadata": {
    "id": "yOlc8KG4IEv5"
   },
   "outputs": [],
   "source": [
    "me_inter = estimator.const_marginal_effect_interval(Xu)"
   ]
  },
  {
   "cell_type": "code",
   "execution_count": null,
   "metadata": {
    "colab": {
     "base_uri": "https://localhost:8080/",
     "height": 552
    },
    "executionInfo": {
     "elapsed": 576,
     "status": "ok",
     "timestamp": 1724672340326,
     "user": {
      "displayName": "Yong Song",
      "userId": "00576951217859821315"
     },
     "user_tz": -600
    },
    "id": "zXo4-0M2IguX",
    "outputId": "654272bd-754f-485c-9c30-d62f69b88365"
   },
   "outputs": [
    {
     "name": "stderr",
     "output_type": "stream",
     "text": [
      "/var/folders/f5/l9hpzl4n77d48t3cndd3jf9m0000gn/T/ipykernel_80164/3819123879.py:10: UserWarning: No artists with labels found to put in legend.  Note that artists whose label start with an underscore are ignored when legend() is called with no argument.\n",
      "  plt.legend()\n"
     ]
    },
    {
     "data": {
      "image/png": "[encoded data removed]",
      "text/plain": [
       "<Figure size 1000x600 with 1 Axes>"
      ]
     },
     "metadata": {},
     "output_type": "display_data"
    }
   ],
   "source": [
    "y_values = me.ravel()\n",
    "x_values = np.arange(len(y_values))\n",
    "lower_bounds = me_inter[0].ravel()\n",
    "upper_bounds = me_inter[1].ravel()\n",
    "\n",
    "plt.figure(figsize=(10, 6))\n",
    "plt.errorbar(x_values, y_values, yerr=[y_values - lower_bounds, upper_bounds - y_values],\n",
    "             fmt='o', capsize=5)\n",
    "plt.title('Marginal Effects with Confidence Intervals')\n",
    "plt.legend()\n",
    "plt.grid(True)\n",
    "plt.show()"
   ]
  },
  {
   "cell_type": "code",
   "execution_count": null,
   "metadata": {
    "id": "Uqvjv1ynVWDo",
    "outputId": "0ac3f8b2-9fa6-4fbf-cf24-f88f6cbda8c5"
   },
   "outputs": [
    {
     "data": {
      "text/html": [
       "<table class=\"simpletable\">\n",
       "<caption>Uncertainty of Mean Point Estimate</caption>\n",
       "<tr>\n",
       "  <th>mean_point</th> <th>stderr_mean</th>  <th>zstat</th> <th>pvalue</th> <th>ci_mean_lower</th> <th>ci_mean_upper</th>\n",
       "</tr>\n",
       "<tr>\n",
       "    <td>-0.168</td>      <td>0.053</td>    <td>-3.179</td>  <td>0.001</td>    <td>-0.272</td>        <td>-0.065</td>    \n",
       "</tr>\n",
       "</table>\n",
       "<table class=\"simpletable\">\n",
       "<caption>Distribution of Point Estimate</caption>\n",
       "<tr>\n",
       "  <th>std_point</th> <th>pct_point_lower</th> <th>pct_point_upper</th>\n",
       "</tr>\n",
       "<tr>\n",
       "    <td>0.269</td>       <td>-0.607</td>           <td>0.27</td>      \n",
       "</tr>\n",
       "</table>\n",
       "<table class=\"simpletable\">\n",
       "<caption>Total Variance of Point Estimate</caption>\n",
       "<tr>\n",
       "  <th>stderr_point</th> <th>ci_point_lower</th> <th>ci_point_upper</th>\n",
       "</tr>\n",
       "<tr>\n",
       "      <td>0.274</td>         <td>-0.82</td>          <td>0.458</td>    \n",
       "</tr>\n",
       "</table>"
      ],
      "text/plain": [
       "<econml.inference._inference.PopulationSummaryResults at 0x30673ef30>"
      ]
     },
     "execution_count": 55,
     "metadata": {},
     "output_type": "execute_result"
    }
   ],
   "source": [
    "estimator.const_marginal_ate_inference(X)"
   ]
  },
  {
   "cell_type": "markdown",
   "metadata": {
    "id": "wGoH2_LhSH8t"
   },
   "source": [
    "# Double Machine Learning (DML)\n",
    "\n",
    "- critical thinking, my friends.\n",
    "\n",
    "[Chernozhukov2024](https://arxiv.org/abs/1608.00060), since 2016. Very difficult paper, but easy to understand the results with an example.\n",
    "\n",
    "**Note**, this example is not unique. There are many examples includeing IV methods.\n",
    "\n",
    "$$Y=D\\theta_0 + g_0(X)+U, \\quad E(U\\mid X, D)=0$$\n",
    "$$D = m_0(X)+V, \\quad E(V\\mid X)=0$$\n",
    "\n",
    "\n",
    "- $\\theta_0$ is not easy to be unbiased if $g_0$ is messy such as large dimensionality.\n",
    "    - Any regularisation such as LASSO may bias the causal effect.\n",
    "    - But regularisation may be necessary if there are many covariates.\n",
    "\n",
    "- We can use $V$ as as IV!\n",
    "    1. $V$ is related to $D$.\n",
    "    1. $V$ is unrelated to $U$.\n",
    "\n",
    "- However, due to the nature of ML, the resisual $\\hat{V}$ would not be independent of $U$ easily.\n",
    "\n",
    "- But, what if we **split the data** as in the cross validation?\n",
    "\n",
    "- We did it!! This is Double Machine Learning!\n",
    "    1. Split the data.\n",
    "    1. Use the training part to estimate $m_0$ and $g_0$.\n",
    "    2. Get an *OOS* prediction of $\\hat{V}$ with $D$ model.\n",
    "    3. Use $\\hat{V}$ with $Y$ model to obtain $\\hat{\\theta}$ by using the test sample.\n",
    "    4. You may average the $\\hat{\\theta}$ from different folds, or aggregate the folds first to get an consolidated $\\hat{\\theta}$. Later is preferred. Fortunately, we do not need to do it by hands.\n",
    "\n",
    "\n"
   ]
  },
  {
   "cell_type": "markdown",
   "metadata": {},
   "source": [
    "## linking DML paper to EconML\n",
    "\n",
    "Use the model\n",
    "\n",
    "$$Y=D\\theta_0 + g_0(X)+U, \\quad E(U\\mid X, D)=0$$\n",
    "$$D = m_0(X)+V, \\quad E(V\\mid X)=0$$\n",
    "\n",
    "**CATE** is conditional Average Treatment Effect\n",
    "\n",
    "$$Y-E(Y\\mid X) = [D-E(D\\mid X)]\\theta_0 + U$$\n",
    "$g_0(X)$ is canceled out.\n",
    "\n",
    "That is why we need\n",
    " - residual from model Y for $Y-E(Y\\mid X)$, and\n",
    " - residual from model T for $D-E(D\\mid X)$\n",
    "\n",
    "Why do we need CV? Because we want to estimate the population $Y-E(Y\\mid X)$ well. \n",
    "Any *population* is OOS, so CV is preferred!! \n",
    "The IV story from the DML paper is consistent with EconML if we disentagle the formula.\n",
    "They share the same idea of the 2SLS method and the FWL theorem."
   ]
  },
  {
   "cell_type": "markdown",
   "metadata": {
    "id": "GFa4foyBIiLy"
   },
   "source": [
    "# Synthetic controls\n",
    "\n",
    "Find similar observables to represent the control group.\n",
    "\n",
    "For a simple example, assume time series data $y_{it}$, where $y_{it}(1)$ if treated and $y_{it}(0)$ otherwise. We can only observe one of them. Suppose the treatment happens at time $T$ for $i=1$.\n",
    "\n",
    "- Only one series ($i=1$) is treated.\n",
    "  - You observe $y_{1t}=y_{1t}(0)$ for $t=1,2,...,T$.\n",
    "  - and $y_{1, T+1}(1)$.\n",
    "\n",
    "Suppose there are $J$ series including the treated one $i=1$. All other $J-1$ series are not treated.\n",
    "\n",
    "- We only observe $y_{kt}(0)$ for $k=2,...,J$ and $t=1,...,T, T+1$.\n",
    "\n",
    "The TE is\n",
    "$$y_{1, T+1}(1)- y_{1, T+1}(0).$$\n",
    "- Which one is unobservable?\n",
    "\n",
    "\n",
    "\n"
   ]
  },
  {
   "cell_type": "markdown",
   "metadata": {
    "id": "pQfYq8Yqhx8y"
   },
   "source": [
    "## Matrix Completion\n",
    "\n",
    "$$\\begin{bmatrix}\n",
    "y_{11}(0) & y_{12}(0) & \\cdots & y_{1T}(0) & ? \\\\\n",
    "y_{21}(0) & y_{22}(0) & \\cdots & y_{2T}(0) & y_{2, T+1}(0) \\\\\n",
    "\\vdots & \\vdots & \\ddots & \\vdots & \\vdots \\\\\n",
    "y_{J1}(0) & y_{J2}(0) & \\cdots & y_{JT}(0) & y_{J, T+1}(0) \\\\\n",
    "\\end{bmatrix}$$\n",
    "\n",
    "- Use data from other series to predict series $1$.\n",
    "---\n",
    "**Algorithm 16**\n",
    "\n",
    "1. Build a model for $E[y_{1t}(0)\\mid y_{-1t}(0)]$ and estimate by using data $t=1,...,T.$\n",
    "2. Use the model to predict unobserved $y_{1t}(0)$ for $t>T$. The treatment effect is\n",
    "$$\\hat{γ}_{1, T+s} = y_{1,T+s}(1) - \\hat{y}_{1,T+s}(0).$$\n",
    "---\n",
    "\n",
    "Application: the economic cost of terrorism in the Basque region of Spain. The terrorists' attack started in 1968."
   ]
  },
  {
   "cell_type": "code",
   "execution_count": null,
   "metadata": {
    "colab": {
     "base_uri": "https://localhost:8080/"
    },
    "executionInfo": {
     "elapsed": 2390,
     "status": "ok",
     "timestamp": 1724670510524,
     "user": {
      "displayName": "Yong Song",
      "userId": "00576951217859821315"
     },
     "user_tz": -600
    },
    "id": "YmlqAB27MMp-",
    "outputId": "486dbeaf-e423-447f-efbc-e4e5bdfa7ba8"
   },
   "outputs": [
    {
     "name": "stdout",
     "output_type": "stream",
     "text": [
      "<class 'pandas.core.frame.DataFrame'>\n",
      "RangeIndex: 774 entries, 0 to 773\n",
      "Data columns (total 17 columns):\n",
      " #   Column                 Non-Null Count  Dtype  \n",
      "---  ------                 --------------  -----  \n",
      " 0   regionno               774 non-null    int64  \n",
      " 1   regionname             774 non-null    object \n",
      " 2   year                   774 non-null    int64  \n",
      " 3   gdpcap                 774 non-null    float64\n",
      " 4   sec.agriculture        90 non-null     float64\n",
      " 5   sec.energy             90 non-null     float64\n",
      " 6   sec.industry           90 non-null     float64\n",
      " 7   sec.construction       90 non-null     float64\n",
      " 8   sec.services.venta     90 non-null     float64\n",
      " 9   sec.services.nonventa  90 non-null     float64\n",
      " 10  school.illit           108 non-null    float64\n",
      " 11  school.prim            108 non-null    float64\n",
      " 12  school.med             108 non-null    float64\n",
      " 13  school.high            108 non-null    float64\n",
      " 14  school.post.high       108 non-null    float64\n",
      " 15  popdens                18 non-null     float64\n",
      " 16  invest                 576 non-null    float64\n",
      "dtypes: float64(14), int64(2), object(1)\n",
      "memory usage: 102.9+ KB\n"
     ]
    }
   ],
   "source": [
    "basque = pd.read_csv('https://www.dropbox.com/scl/fi/lh0mnk3sezvnoen70ltit/basque.csv?rlkey=jhvyygd2mmmhtlavrte8kswxs&dl=1')\n",
    "basque.info()"
   ]
  },
  {
   "cell_type": "code",
   "execution_count": null,
   "metadata": {
    "colab": {
     "base_uri": "https://localhost:8080/"
    },
    "executionInfo": {
     "elapsed": 1850,
     "status": "ok",
     "timestamp": 1724670515549,
     "user": {
      "displayName": "Yong Song",
      "userId": "00576951217859821315"
     },
     "user_tz": -600
    },
    "id": "9qrxZMx5NBLi",
    "outputId": "c934df88-75cc-4495-ab5f-3668d2b865f5"
   },
   "outputs": [
    {
     "name": "stdout",
     "output_type": "stream",
     "text": [
      "<class 'pandas.core.frame.DataFrame'>\n",
      "RangeIndex: 17 entries, 0 to 16\n",
      "Data columns (total 35 columns):\n",
      " #   Column  Non-Null Count  Dtype  \n",
      "---  ------  --------------  -----  \n",
      " 0   1955    17 non-null     float64\n",
      " 1   1956    17 non-null     float64\n",
      " 2   1957    17 non-null     float64\n",
      " 3   1958    17 non-null     float64\n",
      " 4   1959    17 non-null     float64\n",
      " 5   1960    17 non-null     float64\n",
      " 6   1961    17 non-null     float64\n",
      " 7   1962    17 non-null     float64\n",
      " 8   1963    17 non-null     float64\n",
      " 9   1964    17 non-null     float64\n",
      " 10  1965    17 non-null     float64\n",
      " 11  1966    17 non-null     float64\n",
      " 12  1967    17 non-null     float64\n",
      " 13  1968    17 non-null     float64\n",
      " 14  1969    17 non-null     float64\n",
      " 15  1970    17 non-null     float64\n",
      " 16  1971    17 non-null     float64\n",
      " 17  1972    17 non-null     float64\n",
      " 18  1973    17 non-null     float64\n",
      " 19  1974    17 non-null     float64\n",
      " 20  1975    17 non-null     float64\n",
      " 21  1976    17 non-null     float64\n",
      " 22  1977    17 non-null     float64\n",
      " 23  1978    17 non-null     float64\n",
      " 24  1979    17 non-null     float64\n",
      " 25  1980    17 non-null     float64\n",
      " 26  1981    17 non-null     float64\n",
      " 27  1982    17 non-null     float64\n",
      " 28  1983    17 non-null     float64\n",
      " 29  1984    17 non-null     float64\n",
      " 30  1985    17 non-null     float64\n",
      " 31  1986    17 non-null     float64\n",
      " 32  1987    17 non-null     float64\n",
      " 33  1988    17 non-null     float64\n",
      " 34  1989    17 non-null     float64\n",
      "dtypes: float64(35)\n",
      "memory usage: 4.8 KB\n"
     ]
    }
   ],
   "source": [
    "y = pd.read_csv('https://www.dropbox.com/scl/fi/j6f0id4fp8hrf4no4nvt7/basque_1.csv?rlkey=4jm3jq6c8mwy1753o7ao4ya6x&dl=1')\n",
    "y.info()"
   ]
  },
  {
   "cell_type": "code",
   "execution_count": null,
   "metadata": {
    "id": "4MLDQllwN09u"
   },
   "outputs": [],
   "source": [
    "tyear = 1968\n",
    "y0t = y.iloc[:, :(tyear - 1954)].T\n",
    "y1t = y.iloc[:, (tyear - 1954):].T"
   ]
  },
  {
   "cell_type": "code",
   "execution_count": null,
   "metadata": {
    "colab": {
     "base_uri": "https://localhost:8080/",
     "height": 508
    },
    "executionInfo": {
     "elapsed": 351,
     "status": "ok",
     "timestamp": 1693630100949,
     "user": {
      "displayName": "Yong Song",
      "userId": "00576951217859821315"
     },
     "user_tz": -600
    },
    "id": "zGiz6pMRN1sm",
    "outputId": "d893e291-a823-4db0-80af-2f51bd59f030"
   },
   "outputs": [
    {
     "data": {
      "application/vnd.microsoft.datawrangler.viewer.v0+json": {
       "columns": [
        {
         "name": "index",
         "rawType": "object",
         "type": "string"
        },
        {
         "name": "0",
         "rawType": "float64",
         "type": "float"
        },
        {
         "name": "1",
         "rawType": "float64",
         "type": "float"
        },
        {
         "name": "2",
         "rawType": "float64",
         "type": "float"
        },
        {
         "name": "3",
         "rawType": "float64",
         "type": "float"
        },
        {
         "name": "4",
         "rawType": "float64",
         "type": "float"
        },
        {
         "name": "5",
         "rawType": "float64",
         "type": "float"
        },
        {
         "name": "6",
         "rawType": "float64",
         "type": "float"
        },
        {
         "name": "7",
         "rawType": "float64",
         "type": "float"
        },
        {
         "name": "8",
         "rawType": "float64",
         "type": "float"
        },
        {
         "name": "9",
         "rawType": "float64",
         "type": "float"
        },
        {
         "name": "10",
         "rawType": "float64",
         "type": "float"
        },
        {
         "name": "11",
         "rawType": "float64",
         "type": "float"
        },
        {
         "name": "12",
         "rawType": "float64",
         "type": "float"
        },
        {
         "name": "13",
         "rawType": "float64",
         "type": "float"
        },
        {
         "name": "14",
         "rawType": "float64",
         "type": "float"
        },
        {
         "name": "15",
         "rawType": "float64",
         "type": "float"
        },
        {
         "name": "16",
         "rawType": "float64",
         "type": "float"
        }
       ],
       "ref": "ab6da59a-0ba0-4c04-9118-064557962550",
       "rows": [
        [
         "1955",
         "3.85318463000527",
         "1.68873183014256",
         "2.28877455736698",
         "2.50292780466742",
         "3.14395886017778",
         "1.91438157910519",
         "2.55941169257165",
         "1.72914877104031",
         "1.32776351357759",
         "3.54662963030373",
         "2.57597822218206",
         "1.24343048331057",
         "1.63467579383708",
         "4.5944728159421",
         "1.67952011531164",
         "2.55512715884189",
         "2.39045993834351"
        ],
        [
         "1956",
         "3.94565829615088",
         "1.75849753289657",
         "2.44515862202038",
         "2.61553840887816",
         "3.34775783579134",
         "2.07183672271092",
         "2.69387317909169",
         "1.83833192260359",
         "1.41509567387136",
         "3.69044556954152",
         "2.73850328477578",
         "1.3325478478317",
         "1.72557836258558",
         "4.78663244304641",
         "1.76428168611981",
         "2.69815771282145",
         "2.53520421864679"
        ],
        [
         "1957",
         "4.03356173487263",
         "1.8276206972394",
         "2.60339893296391",
         "2.72579263939377",
         "3.54962865137026",
         "2.22607819361879",
         "2.8203369855404",
         "1.9476578120537",
         "1.50357039102109",
         "3.82683499817574",
         "2.89988579051354",
         "1.42245070657128",
         "1.81648104029429",
         "4.96343913945904",
         "1.85032844271056",
         "2.83983149415457",
         "2.68001997685371"
        ],
        [
         "1958",
         "4.02342189689665",
         "1.85275629430933",
         "2.63903175752798",
         "2.75185657752919",
         "3.64267348698363",
         "2.22086553674397",
         "2.87903450925294",
         "1.97136537649399",
         "1.5314196423441",
         "3.8756783776064",
         "2.96351049532723",
         "1.4402313799015",
         "1.84090251208918",
         "4.90616964837613",
         "1.88738929990427",
         "2.88189079243263",
         "2.72643528676517"
        ],
        [
         "1959",
         "4.01378196840523",
         "1.87803484718652",
         "2.67709221577038",
         "2.77742082410048",
         "3.73486167735558",
         "2.21343902614041",
         "2.94373029301896",
         "1.99514420091748",
         "1.5593401536503",
         "3.92173673384055",
         "3.02620685907542",
         "1.45808342217514",
         "1.86539567970814",
         "4.84640104571127",
         "1.92409320342067",
         "2.93087690975012",
         "2.77285059667662"
        ],
        [
         "1960",
         "4.28591839622273",
         "2.01013996001143",
         "2.8814623608517",
         "2.96729511957242",
         "4.05884050567026",
         "2.35768361487957",
         "3.1370322590588",
         "2.13881740226844",
         "1.66752359520466",
         "4.24178820002321",
         "3.21929439140435",
         "1.53584691396069",
         "1.98329041869734",
         "5.16109689921183",
         "2.11860898629967",
         "3.16352462877515",
         "2.96986570905801"
        ],
        [
         "1961",
         "4.57433609579741",
         "2.12917747377702",
         "3.09954297028416",
         "3.14388738227415",
         "4.36025410848017",
         "2.44572979148815",
         "3.32762067980577",
         "2.23950296427583",
         "1.75242790389967",
         "4.57533547892566",
         "3.36246790119118",
         "1.59625816399695",
         "2.00578416629847",
         "5.63260481310585",
         "2.30548404278465",
         "3.33590405357119",
         "3.1531705750087"
        ],
        [
         "1962",
         "4.89895735356304",
         "2.28034844571473",
         "3.35918318643055",
         "3.37353608023266",
         "4.64617269647288",
         "2.64824325443846",
         "3.55534143565008",
         "2.45422738104403",
         "1.92045131706231",
         "4.83804641196265",
         "3.56998002314629",
         "1.70558416240728",
         "2.18566114376082",
         "5.84083127825644",
         "2.52142249431245",
         "3.62339341208037",
         "3.40438446158241"
        ],
        [
         "1963",
         "5.19701498162913",
         "2.43101972608831",
         "3.61418169724945",
         "3.59725799604131",
         "4.91152526105822",
         "2.84475867525573",
         "3.77142262506471",
         "2.67223651257286",
         "2.09190240079285",
         "5.08133409636867",
         "3.76521014922076",
         "1.81769496609367",
         "2.36639542022592",
         "6.02449287996398",
         "2.73907445424354",
         "3.89481571462283",
         "3.66923755252406"
        ],
        [
         "1964",
         "5.33890297875272",
         "2.50885458681727",
         "3.68009129785463",
         "3.67259352726788",
         "5.05069971288895",
         "2.95115680362251",
         "3.83940290567092",
         "2.77777777777778",
         "2.18259064479066",
         "5.15809787814531",
         "3.82369302130195",
         "1.88281929040085",
         "2.45879739054746",
         "6.09932893754686",
         "2.85125684479379",
         "3.98514722286378",
         "3.80398473273819"
        ],
        [
         "1965",
         "5.46515300525185",
         "2.58469002752841",
         "3.74528699110522",
         "3.74335883107059",
         "5.18466150784486",
         "3.05419873932504",
         "3.90609832737521",
         "2.88217648612673",
         "2.27470713933854",
         "5.22365052507319",
         "3.8741786491527",
         "1.9488718468133",
         "2.54970006825617",
         "6.15202820120591",
         "2.96593834692599",
         "4.07297918368189",
         "3.92180821174419"
        ],
        [
         "1966",
         "5.54591562706414",
         "2.69444434855945",
         "3.88331910400042",
         "3.9093828242154",
         "5.46679525367194",
         "3.2317908209959",
         "4.03213348432256",
         "2.98807492292939",
         "2.3783919403329",
         "5.33247650503874",
         "3.97814892592072",
         "2.03263348969212",
         "2.66966570516683",
         "6.11046859449198",
         "3.09918601660686",
         "4.21001147760796",
         "4.03270487171076"
        ],
        [
         "1967",
         "5.61489572663949",
         "2.80234220537994",
         "4.01613812417992",
         "4.07312213948916",
         "5.73764638674664",
         "3.40338464261327",
         "4.15595544130248",
         "3.09454431127937",
         "2.48236221710092",
         "5.42944892070458",
         "4.07340761526283",
         "2.11760916733054",
         "2.78784635577056",
         "6.057340899252",
         "3.22729228939611",
         "4.35239938421612",
         "4.16031123501544"
        ],
        [
         "1968",
         "5.85218493307158",
         "2.98736079765435",
         "4.24364488215421",
         "4.30862614169389",
         "6.16145369598642",
         "3.66031153138724",
         "4.37589251494551",
         "3.30227086694538",
         "2.7090831539761",
         "5.67437885353069",
         "4.27977739828241",
         "2.24550122432932",
         "2.9783632986139",
         "6.2531419768738",
         "3.46115404318074",
         "4.55698352716746",
         "4.37303644968625"
        ]
       ],
       "shape": {
        "columns": 17,
        "rows": 14
       }
      },
      "text/html": [
       "<div>\n",
       "<style scoped>\n",
       "    .dataframe tbody tr th:only-of-type {\n",
       "        vertical-align: middle;\n",
       "    }\n",
       "\n",
       "    .dataframe tbody tr th {\n",
       "        vertical-align: top;\n",
       "    }\n",
       "\n",
       "    .dataframe thead th {\n",
       "        text-align: right;\n",
       "    }\n",
       "</style>\n",
       "<table border=\"1\" class=\"dataframe\">\n",
       "  <thead>\n",
       "    <tr style=\"text-align: right;\">\n",
       "      <th></th>\n",
       "      <th>0</th>\n",
       "      <th>1</th>\n",
       "      <th>2</th>\n",
       "      <th>3</th>\n",
       "      <th>4</th>\n",
       "      <th>5</th>\n",
       "      <th>6</th>\n",
       "      <th>7</th>\n",
       "      <th>8</th>\n",
       "      <th>9</th>\n",
       "      <th>10</th>\n",
       "      <th>11</th>\n",
       "      <th>12</th>\n",
       "      <th>13</th>\n",
       "      <th>14</th>\n",
       "      <th>15</th>\n",
       "      <th>16</th>\n",
       "    </tr>\n",
       "  </thead>\n",
       "  <tbody>\n",
       "    <tr>\n",
       "      <th>1955</th>\n",
       "      <td>3.853185</td>\n",
       "      <td>1.688732</td>\n",
       "      <td>2.288775</td>\n",
       "      <td>2.502928</td>\n",
       "      <td>3.143959</td>\n",
       "      <td>1.914382</td>\n",
       "      <td>2.559412</td>\n",
       "      <td>1.729149</td>\n",
       "      <td>1.327764</td>\n",
       "      <td>3.546630</td>\n",
       "      <td>2.575978</td>\n",
       "      <td>1.243430</td>\n",
       "      <td>1.634676</td>\n",
       "      <td>4.594473</td>\n",
       "      <td>1.679520</td>\n",
       "      <td>2.555127</td>\n",
       "      <td>2.390460</td>\n",
       "    </tr>\n",
       "    <tr>\n",
       "      <th>1956</th>\n",
       "      <td>3.945658</td>\n",
       "      <td>1.758498</td>\n",
       "      <td>2.445159</td>\n",
       "      <td>2.615538</td>\n",
       "      <td>3.347758</td>\n",
       "      <td>2.071837</td>\n",
       "      <td>2.693873</td>\n",
       "      <td>1.838332</td>\n",
       "      <td>1.415096</td>\n",
       "      <td>3.690446</td>\n",
       "      <td>2.738503</td>\n",
       "      <td>1.332548</td>\n",
       "      <td>1.725578</td>\n",
       "      <td>4.786632</td>\n",
       "      <td>1.764282</td>\n",
       "      <td>2.698158</td>\n",
       "      <td>2.535204</td>\n",
       "    </tr>\n",
       "    <tr>\n",
       "      <th>1957</th>\n",
       "      <td>4.033562</td>\n",
       "      <td>1.827621</td>\n",
       "      <td>2.603399</td>\n",
       "      <td>2.725793</td>\n",
       "      <td>3.549629</td>\n",
       "      <td>2.226078</td>\n",
       "      <td>2.820337</td>\n",
       "      <td>1.947658</td>\n",
       "      <td>1.503570</td>\n",
       "      <td>3.826835</td>\n",
       "      <td>2.899886</td>\n",
       "      <td>1.422451</td>\n",
       "      <td>1.816481</td>\n",
       "      <td>4.963439</td>\n",
       "      <td>1.850328</td>\n",
       "      <td>2.839831</td>\n",
       "      <td>2.680020</td>\n",
       "    </tr>\n",
       "    <tr>\n",
       "      <th>1958</th>\n",
       "      <td>4.023422</td>\n",
       "      <td>1.852756</td>\n",
       "      <td>2.639032</td>\n",
       "      <td>2.751857</td>\n",
       "      <td>3.642673</td>\n",
       "      <td>2.220866</td>\n",
       "      <td>2.879035</td>\n",
       "      <td>1.971365</td>\n",
       "      <td>1.531420</td>\n",
       "      <td>3.875678</td>\n",
       "      <td>2.963510</td>\n",
       "      <td>1.440231</td>\n",
       "      <td>1.840903</td>\n",
       "      <td>4.906170</td>\n",
       "      <td>1.887389</td>\n",
       "      <td>2.881891</td>\n",
       "      <td>2.726435</td>\n",
       "    </tr>\n",
       "    <tr>\n",
       "      <th>1959</th>\n",
       "      <td>4.013782</td>\n",
       "      <td>1.878035</td>\n",
       "      <td>2.677092</td>\n",
       "      <td>2.777421</td>\n",
       "      <td>3.734862</td>\n",
       "      <td>2.213439</td>\n",
       "      <td>2.943730</td>\n",
       "      <td>1.995144</td>\n",
       "      <td>1.559340</td>\n",
       "      <td>3.921737</td>\n",
       "      <td>3.026207</td>\n",
       "      <td>1.458083</td>\n",
       "      <td>1.865396</td>\n",
       "      <td>4.846401</td>\n",
       "      <td>1.924093</td>\n",
       "      <td>2.930877</td>\n",
       "      <td>2.772851</td>\n",
       "    </tr>\n",
       "    <tr>\n",
       "      <th>1960</th>\n",
       "      <td>4.285918</td>\n",
       "      <td>2.010140</td>\n",
       "      <td>2.881462</td>\n",
       "      <td>2.967295</td>\n",
       "      <td>4.058841</td>\n",
       "      <td>2.357684</td>\n",
       "      <td>3.137032</td>\n",
       "      <td>2.138817</td>\n",
       "      <td>1.667524</td>\n",
       "      <td>4.241788</td>\n",
       "      <td>3.219294</td>\n",
       "      <td>1.535847</td>\n",
       "      <td>1.983290</td>\n",
       "      <td>5.161097</td>\n",
       "      <td>2.118609</td>\n",
       "      <td>3.163525</td>\n",
       "      <td>2.969866</td>\n",
       "    </tr>\n",
       "    <tr>\n",
       "      <th>1961</th>\n",
       "      <td>4.574336</td>\n",
       "      <td>2.129177</td>\n",
       "      <td>3.099543</td>\n",
       "      <td>3.143887</td>\n",
       "      <td>4.360254</td>\n",
       "      <td>2.445730</td>\n",
       "      <td>3.327621</td>\n",
       "      <td>2.239503</td>\n",
       "      <td>1.752428</td>\n",
       "      <td>4.575335</td>\n",
       "      <td>3.362468</td>\n",
       "      <td>1.596258</td>\n",
       "      <td>2.005784</td>\n",
       "      <td>5.632605</td>\n",
       "      <td>2.305484</td>\n",
       "      <td>3.335904</td>\n",
       "      <td>3.153171</td>\n",
       "    </tr>\n",
       "    <tr>\n",
       "      <th>1962</th>\n",
       "      <td>4.898957</td>\n",
       "      <td>2.280348</td>\n",
       "      <td>3.359183</td>\n",
       "      <td>3.373536</td>\n",
       "      <td>4.646173</td>\n",
       "      <td>2.648243</td>\n",
       "      <td>3.555341</td>\n",
       "      <td>2.454227</td>\n",
       "      <td>1.920451</td>\n",
       "      <td>4.838046</td>\n",
       "      <td>3.569980</td>\n",
       "      <td>1.705584</td>\n",
       "      <td>2.185661</td>\n",
       "      <td>5.840831</td>\n",
       "      <td>2.521422</td>\n",
       "      <td>3.623393</td>\n",
       "      <td>3.404384</td>\n",
       "    </tr>\n",
       "    <tr>\n",
       "      <th>1963</th>\n",
       "      <td>5.197015</td>\n",
       "      <td>2.431020</td>\n",
       "      <td>3.614182</td>\n",
       "      <td>3.597258</td>\n",
       "      <td>4.911525</td>\n",
       "      <td>2.844759</td>\n",
       "      <td>3.771423</td>\n",
       "      <td>2.672237</td>\n",
       "      <td>2.091902</td>\n",
       "      <td>5.081334</td>\n",
       "      <td>3.765210</td>\n",
       "      <td>1.817695</td>\n",
       "      <td>2.366395</td>\n",
       "      <td>6.024493</td>\n",
       "      <td>2.739074</td>\n",
       "      <td>3.894816</td>\n",
       "      <td>3.669238</td>\n",
       "    </tr>\n",
       "    <tr>\n",
       "      <th>1964</th>\n",
       "      <td>5.338903</td>\n",
       "      <td>2.508855</td>\n",
       "      <td>3.680091</td>\n",
       "      <td>3.672594</td>\n",
       "      <td>5.050700</td>\n",
       "      <td>2.951157</td>\n",
       "      <td>3.839403</td>\n",
       "      <td>2.777778</td>\n",
       "      <td>2.182591</td>\n",
       "      <td>5.158098</td>\n",
       "      <td>3.823693</td>\n",
       "      <td>1.882819</td>\n",
       "      <td>2.458797</td>\n",
       "      <td>6.099329</td>\n",
       "      <td>2.851257</td>\n",
       "      <td>3.985147</td>\n",
       "      <td>3.803985</td>\n",
       "    </tr>\n",
       "    <tr>\n",
       "      <th>1965</th>\n",
       "      <td>5.465153</td>\n",
       "      <td>2.584690</td>\n",
       "      <td>3.745287</td>\n",
       "      <td>3.743359</td>\n",
       "      <td>5.184662</td>\n",
       "      <td>3.054199</td>\n",
       "      <td>3.906098</td>\n",
       "      <td>2.882176</td>\n",
       "      <td>2.274707</td>\n",
       "      <td>5.223651</td>\n",
       "      <td>3.874179</td>\n",
       "      <td>1.948872</td>\n",
       "      <td>2.549700</td>\n",
       "      <td>6.152028</td>\n",
       "      <td>2.965938</td>\n",
       "      <td>4.072979</td>\n",
       "      <td>3.921808</td>\n",
       "    </tr>\n",
       "    <tr>\n",
       "      <th>1966</th>\n",
       "      <td>5.545916</td>\n",
       "      <td>2.694444</td>\n",
       "      <td>3.883319</td>\n",
       "      <td>3.909383</td>\n",
       "      <td>5.466795</td>\n",
       "      <td>3.231791</td>\n",
       "      <td>4.032133</td>\n",
       "      <td>2.988075</td>\n",
       "      <td>2.378392</td>\n",
       "      <td>5.332477</td>\n",
       "      <td>3.978149</td>\n",
       "      <td>2.032633</td>\n",
       "      <td>2.669666</td>\n",
       "      <td>6.110469</td>\n",
       "      <td>3.099186</td>\n",
       "      <td>4.210011</td>\n",
       "      <td>4.032705</td>\n",
       "    </tr>\n",
       "    <tr>\n",
       "      <th>1967</th>\n",
       "      <td>5.614896</td>\n",
       "      <td>2.802342</td>\n",
       "      <td>4.016138</td>\n",
       "      <td>4.073122</td>\n",
       "      <td>5.737646</td>\n",
       "      <td>3.403385</td>\n",
       "      <td>4.155955</td>\n",
       "      <td>3.094544</td>\n",
       "      <td>2.482362</td>\n",
       "      <td>5.429449</td>\n",
       "      <td>4.073408</td>\n",
       "      <td>2.117609</td>\n",
       "      <td>2.787846</td>\n",
       "      <td>6.057341</td>\n",
       "      <td>3.227292</td>\n",
       "      <td>4.352399</td>\n",
       "      <td>4.160311</td>\n",
       "    </tr>\n",
       "    <tr>\n",
       "      <th>1968</th>\n",
       "      <td>5.852185</td>\n",
       "      <td>2.987361</td>\n",
       "      <td>4.243645</td>\n",
       "      <td>4.308626</td>\n",
       "      <td>6.161454</td>\n",
       "      <td>3.660312</td>\n",
       "      <td>4.375893</td>\n",
       "      <td>3.302271</td>\n",
       "      <td>2.709083</td>\n",
       "      <td>5.674379</td>\n",
       "      <td>4.279777</td>\n",
       "      <td>2.245501</td>\n",
       "      <td>2.978363</td>\n",
       "      <td>6.253142</td>\n",
       "      <td>3.461154</td>\n",
       "      <td>4.556984</td>\n",
       "      <td>4.373036</td>\n",
       "    </tr>\n",
       "  </tbody>\n",
       "</table>\n",
       "</div>"
      ],
      "text/plain": [
       "            0         1         2         3         4         5         6   \\\n",
       "1955  3.853185  1.688732  2.288775  2.502928  3.143959  1.914382  2.559412   \n",
       "1956  3.945658  1.758498  2.445159  2.615538  3.347758  2.071837  2.693873   \n",
       "1957  4.033562  1.827621  2.603399  2.725793  3.549629  2.226078  2.820337   \n",
       "1958  4.023422  1.852756  2.639032  2.751857  3.642673  2.220866  2.879035   \n",
       "1959  4.013782  1.878035  2.677092  2.777421  3.734862  2.213439  2.943730   \n",
       "1960  4.285918  2.010140  2.881462  2.967295  4.058841  2.357684  3.137032   \n",
       "1961  4.574336  2.129177  3.099543  3.143887  4.360254  2.445730  3.327621   \n",
       "1962  4.898957  2.280348  3.359183  3.373536  4.646173  2.648243  3.555341   \n",
       "1963  5.197015  2.431020  3.614182  3.597258  4.911525  2.844759  3.771423   \n",
       "1964  5.338903  2.508855  3.680091  3.672594  5.050700  2.951157  3.839403   \n",
       "1965  5.465153  2.584690  3.745287  3.743359  5.184662  3.054199  3.906098   \n",
       "1966  5.545916  2.694444  3.883319  3.909383  5.466795  3.231791  4.032133   \n",
       "1967  5.614896  2.802342  4.016138  4.073122  5.737646  3.403385  4.155955   \n",
       "1968  5.852185  2.987361  4.243645  4.308626  6.161454  3.660312  4.375893   \n",
       "\n",
       "            7         8         9         10        11        12        13  \\\n",
       "1955  1.729149  1.327764  3.546630  2.575978  1.243430  1.634676  4.594473   \n",
       "1956  1.838332  1.415096  3.690446  2.738503  1.332548  1.725578  4.786632   \n",
       "1957  1.947658  1.503570  3.826835  2.899886  1.422451  1.816481  4.963439   \n",
       "1958  1.971365  1.531420  3.875678  2.963510  1.440231  1.840903  4.906170   \n",
       "1959  1.995144  1.559340  3.921737  3.026207  1.458083  1.865396  4.846401   \n",
       "1960  2.138817  1.667524  4.241788  3.219294  1.535847  1.983290  5.161097   \n",
       "1961  2.239503  1.752428  4.575335  3.362468  1.596258  2.005784  5.632605   \n",
       "1962  2.454227  1.920451  4.838046  3.569980  1.705584  2.185661  5.840831   \n",
       "1963  2.672237  2.091902  5.081334  3.765210  1.817695  2.366395  6.024493   \n",
       "1964  2.777778  2.182591  5.158098  3.823693  1.882819  2.458797  6.099329   \n",
       "1965  2.882176  2.274707  5.223651  3.874179  1.948872  2.549700  6.152028   \n",
       "1966  2.988075  2.378392  5.332477  3.978149  2.032633  2.669666  6.110469   \n",
       "1967  3.094544  2.482362  5.429449  4.073408  2.117609  2.787846  6.057341   \n",
       "1968  3.302271  2.709083  5.674379  4.279777  2.245501  2.978363  6.253142   \n",
       "\n",
       "            14        15        16  \n",
       "1955  1.679520  2.555127  2.390460  \n",
       "1956  1.764282  2.698158  2.535204  \n",
       "1957  1.850328  2.839831  2.680020  \n",
       "1958  1.887389  2.881891  2.726435  \n",
       "1959  1.924093  2.930877  2.772851  \n",
       "1960  2.118609  3.163525  2.969866  \n",
       "1961  2.305484  3.335904  3.153171  \n",
       "1962  2.521422  3.623393  3.404384  \n",
       "1963  2.739074  3.894816  3.669238  \n",
       "1964  2.851257  3.985147  3.803985  \n",
       "1965  2.965938  4.072979  3.921808  \n",
       "1966  3.099186  4.210011  4.032705  \n",
       "1967  3.227292  4.352399  4.160311  \n",
       "1968  3.461154  4.556984  4.373036  "
      ]
     },
     "execution_count": 59,
     "metadata": {},
     "output_type": "execute_result"
    }
   ],
   "source": [
    "y0t"
   ]
  },
  {
   "cell_type": "code",
   "execution_count": null,
   "metadata": {
    "colab": {
     "base_uri": "https://localhost:8080/",
     "height": 727
    },
    "executionInfo": {
     "elapsed": 509,
     "status": "ok",
     "timestamp": 1724670524958,
     "user": {
      "displayName": "Yong Song",
      "userId": "00576951217859821315"
     },
     "user_tz": -600
    },
    "id": "8WY4ndfPQit1",
    "outputId": "0e5cba9f-c1f6-42da-b95e-3186cf8fc0f5"
   },
   "outputs": [
    {
     "data": {
      "application/vnd.microsoft.datawrangler.viewer.v0+json": {
       "columns": [
        {
         "name": "index",
         "rawType": "object",
         "type": "string"
        },
        {
         "name": "0",
         "rawType": "float64",
         "type": "float"
        },
        {
         "name": "1",
         "rawType": "float64",
         "type": "float"
        },
        {
         "name": "2",
         "rawType": "float64",
         "type": "float"
        },
        {
         "name": "3",
         "rawType": "float64",
         "type": "float"
        },
        {
         "name": "4",
         "rawType": "float64",
         "type": "float"
        },
        {
         "name": "5",
         "rawType": "float64",
         "type": "float"
        },
        {
         "name": "6",
         "rawType": "float64",
         "type": "float"
        },
        {
         "name": "7",
         "rawType": "float64",
         "type": "float"
        },
        {
         "name": "8",
         "rawType": "float64",
         "type": "float"
        },
        {
         "name": "9",
         "rawType": "float64",
         "type": "float"
        },
        {
         "name": "10",
         "rawType": "float64",
         "type": "float"
        },
        {
         "name": "11",
         "rawType": "float64",
         "type": "float"
        },
        {
         "name": "12",
         "rawType": "float64",
         "type": "float"
        },
        {
         "name": "13",
         "rawType": "float64",
         "type": "float"
        },
        {
         "name": "14",
         "rawType": "float64",
         "type": "float"
        },
        {
         "name": "15",
         "rawType": "float64",
         "type": "float"
        },
        {
         "name": "16",
         "rawType": "float64",
         "type": "float"
        }
       ],
       "ref": "e1b30c43-6e04-4f64-a5bc-ded469ce6e45",
       "rows": [
        [
         "1969",
         "6.08140541736959",
         "3.17909177525729",
         "4.47622090535517",
         "4.54970019029161",
         "6.58169103261233",
         "3.91288219060737",
         "4.61082556560291",
         "3.5209939058288",
         "2.94744365728096",
         "5.91552394419117",
         "4.48628970126839",
         "2.38196234878762",
         "3.17737783101313",
         "6.43558976174218",
         "3.70615545391049",
         "4.76570990180261",
         "4.60354179288618"
        ],
        [
         "1970",
         "6.17009424134957",
         "3.35432726531259",
         "4.59625802016946",
         "4.63160515103944",
         "6.88703243339515",
         "4.22493554087783",
         "4.7914166683403",
         "3.67052284726685",
         "3.13688952117196",
         "6.06683787193614",
         "4.65474132809153",
         "2.51849473322912",
         "3.36196799170661",
         "6.54334488067583",
         "3.90638380314888",
         "4.97943449960168",
         "4.79341630627856"
        ],
        [
         "1971",
         "6.28363340454625",
         "3.52292206586344",
         "4.72372186350775",
         "4.69965734539016",
         "7.16866626973767",
         "4.49357347398511",
         "4.96965161530299",
         "3.82183677501183",
         "3.31962299973445",
         "6.22764920820614",
         "4.81712387071886",
         "2.65402751662192",
         "3.53477584808358",
         "6.67473565030527",
         "4.08647543224257",
         "5.19965704901836",
         "4.9833618617337"
        ],
        [
         "1972",
         "6.55555539865284",
         "3.75621265018031",
         "5.00128538191097",
         "5.02256487683207",
         "7.5706937387309",
         "4.78191925981528",
         "5.15538433285244",
         "4.08176224901144",
         "3.62917745634339",
         "6.53906012902564",
         "5.13888906322524",
         "2.84640092367582",
         "3.78320471146079",
         "7.08690382895624",
         "4.37946292340023",
         "5.46679525367194",
         "5.23007699878718"
        ],
        [
         "1973",
         "6.81076856110308",
         "3.98771781234937",
         "5.28349060564169",
         "5.34561536408124",
         "7.95629785184144",
         "5.05491298663552",
         "5.33876045878633",
         "4.34540152311393",
         "3.94608672773181",
         "6.83797505609446",
         "5.44937164297924",
         "3.04562988978595",
         "4.0299913264179",
         "7.47500748948961",
         "4.66695228190941",
         "5.73050556983719",
         "5.47464997793599"
        ],
        [
         "1974",
         "7.1051843028108",
         "4.05184220872719",
         "5.44237378187705",
         "5.50249933821921",
         "7.97272207940588",
         "4.967794933172",
         "5.50835486038587",
         "4.46472429473276",
         "4.0281346442869",
         "6.98736082380481",
         "5.55798362507476",
         "3.10304190083525",
         "4.13239083266946",
         "7.65566963428976",
         "4.69780066325916",
         "5.98478995538105",
         "5.57583566734839"
        ],
        [
         "1975",
         "7.37789168217563",
         "4.11218219878026",
         "5.60097104649788",
         "5.65195658383319",
         "7.97414989411508",
         "4.88153374287034",
         "5.67523571669255",
         "4.58111952318869",
         "4.11196820091023",
         "7.12489302721544",
         "5.65595542386885",
         "3.15674098346343",
         "4.23100549675539",
         "7.81633801475248",
         "4.72272204453861",
         "6.22293646081588",
         "5.67609257985442"
        ],
        [
         "1976",
         "7.23293362192275",
         "4.22179356400403",
         "5.73657508987388",
         "5.59225945907196",
         "8.03484683784544",
         "4.94844316244466",
         "5.79605821676508",
         "4.7327193625482",
         "4.26071110332874",
         "7.13538981886872",
         "5.76135395118694",
         "3.26256794236245",
         "4.359040291641",
         "7.70708403904688",
         "4.78434732933448",
         "6.29777208255789",
         "5.81655232642794"
        ],
        [
         "1977",
         "7.08983137211913",
         "4.33169084084235",
         "5.86639552482773",
         "5.53870333225105",
         "8.0805482404023",
         "5.00792628933586",
         "5.90295647253686",
         "4.88467571974414",
         "4.41216798688098",
         "7.1429590673591",
         "5.86103991214564",
         "3.36539566227451",
         "4.48564683597655",
         "7.59997178540506",
         "4.84454436358027",
         "6.38446170444047",
         "5.9557982561623"
        ],
        [
         "1978",
         "6.78670360714461",
         "4.30519868904643",
         "5.92502135271619",
         "5.61461025086582",
         "8.04198765475489",
         "5.04091682859027",
         "5.91659524106394",
         "4.94680091402457",
         "4.44630086507092",
         "7.01935154409008",
         "5.81091123797219",
         "3.48707502550889",
         "4.52170787420112",
         "7.39003159393075",
         "4.8646100416622",
         "6.32419319229104",
         "6.06655239616248"
        ],
        [
         "1979",
         "6.6398173868571",
         "4.2269351788161",
         "5.95279923509578",
         "5.70429889381494",
         "8.00485575549843",
         "5.23350488727551",
         "5.90645540308796",
         "4.92037980429141",
         "4.40874053423352",
         "7.01099691034147",
         "5.77549262919858",
         "3.51585250893718",
         "4.55748343665203",
         "7.32147992593634",
         "4.83640372770168",
         "6.23964572831312",
         "6.10104266387059"
        ],
        [
         "1980",
         "6.56283917136956",
         "4.21151120606166",
         "5.97472159530871",
         "5.79698655783058",
         "8.25978257049325",
         "5.43708921125772",
         "5.8991001524676",
         "4.89374469668822",
         "4.32876329767946",
         "7.07883467098128",
         "5.79098807985665",
         "3.53956007337747",
         "4.58169091057689",
         "7.41716617517763",
         "4.76321035437978",
         "6.20844039328607",
         "6.10868339026461"
        ],
        [
         "1981",
         "6.50078545499277",
         "4.20701245654143",
         "6.01113958721057",
         "5.93566110017674",
         "8.53113361305252",
         "5.65824053758078",
         "5.91488151474021",
         "4.88103383338577",
         "4.26128249071694",
         "7.1822335603611",
         "5.8996715398558",
         "3.57276482842235",
         "4.61875176777059",
         "7.53213402476525",
         "4.70808345704241",
         "6.17787792355086",
         "6.13996020319529"
        ],
        [
         "1982",
         "6.54505860699956",
         "4.24907153689906",
         "6.13360477154407",
         "5.84975729939325",
         "8.7225078548986",
         "5.68730371470317",
         "5.9168807168376",
         "4.92309334958427",
         "4.34318745146476",
         "7.28720365609826",
         "6.01813788415364",
         "3.61096824247202",
         "4.71079700233527",
         "7.54284525012943",
         "4.81112539274493",
         "6.36203943474298",
         "6.30976860266486"
        ],
        [
         "1983",
         "6.59532980113941",
         "4.29163096258212",
         "6.26085418117145",
         "5.76906615548459",
         "8.92530722946346",
         "5.71986582237664",
         "5.94165957815066",
         "4.97072247633489",
         "4.42466441647253",
         "7.3978863181948",
         "6.13981724738802",
         "3.64895744073122",
         "4.80634116745104",
         "7.55855469865753",
         "4.90688355573073",
         "6.54470165332227",
         "6.5021422276392"
        ],
        [
         "1984",
         "6.76149675009149",
         "4.35868333796371",
         "6.37289361591443",
         "5.88731806607152",
         "9.27592116538132",
         "5.80134235154353",
         "6.02884910951782",
         "5.11346777246122",
         "4.55005714396891",
         "7.48429002846285",
         "6.23686070511662",
         "3.73714635522663",
         "4.89931430724034",
         "7.69922844310108",
         "5.03199080745345",
         "6.79720083463876",
         "6.62689252568463"
        ],
        [
         "1985",
         "6.93716067172772",
         "4.42659257650716",
         "6.49550132021431",
         "6.01128254301784",
         "9.65224186783687",
         "5.88560390390692",
         "6.13831751893432",
         "5.26199667700969",
         "4.67766350727359",
         "7.5699798313763",
         "6.33611823449439",
         "3.82847768243671",
         "4.99778645135988",
         "7.83918915187179",
         "5.15459851175334",
         "7.04777185592063",
         "6.7755639501995"
        ],
        [
         "1986",
         "7.33219115130052",
         "4.66323891764741",
         "6.92652092426717",
         "6.23479002511559",
         "10.2577834904313",
         "6.25678386323216",
         "6.42045126476141",
         "5.6473148785057",
         "4.98064831644084",
         "8.07769173930216",
         "6.73936039200853",
         "4.16173948556551",
         "5.2779205592487",
         "8.34761496715224",
         "5.4715080010622",
         "7.44929985127017",
         "7.16509586128294"
        ],
        [
         "1987",
         "7.74278812359415",
         "4.90067107988677",
         "7.3586118251928",
         "6.4652958041564",
         "10.8233358409874",
         "6.61268193392848",
         "6.71322475804904",
         "6.04463003594955",
         "5.2955586036523",
         "8.58397583251883",
         "7.14438731790917",
         "4.49857169714903",
         "5.56576687143517",
         "8.84961474455959",
         "5.78856044617832",
         "7.87917755222838",
         "7.58069105674049"
        ],
        [
         "1988",
         "8.12053664075889",
         "5.15959717075813",
         "7.80277028828817",
         "6.68816042096231",
         "11.1203945217661",
         "6.97700655211792",
         "7.02342186202938",
         "6.35439870834895",
         "5.67787778408178",
         "9.05741234228836",
         "7.56069729240306",
         "4.76949430812737",
         "5.90952590205812",
         "9.25449871465296",
         "6.12489274827728",
         "8.34975756089778",
         "8.00271316175289"
        ],
        [
         "1989",
         "8.50971116232416",
         "5.41773787637126",
         "8.24264530725596",
         "6.91352458519106",
         "11.4081689202081",
         "7.33790328181903",
         "7.33361896600971",
         "6.67402174295067",
         "6.06533857932332",
         "9.52584975721223",
         "7.96915167095116",
         "5.05141405608442",
         "6.25449874952023",
         "9.65795487003713",
         "6.45044278294929",
         "8.80391334200273",
         "8.45329940608487"
        ]
       ],
       "shape": {
        "columns": 17,
        "rows": 21
       }
      },
      "text/html": [
       "<div>\n",
       "<style scoped>\n",
       "    .dataframe tbody tr th:only-of-type {\n",
       "        vertical-align: middle;\n",
       "    }\n",
       "\n",
       "    .dataframe tbody tr th {\n",
       "        vertical-align: top;\n",
       "    }\n",
       "\n",
       "    .dataframe thead th {\n",
       "        text-align: right;\n",
       "    }\n",
       "</style>\n",
       "<table border=\"1\" class=\"dataframe\">\n",
       "  <thead>\n",
       "    <tr style=\"text-align: right;\">\n",
       "      <th></th>\n",
       "      <th>0</th>\n",
       "      <th>1</th>\n",
       "      <th>2</th>\n",
       "      <th>3</th>\n",
       "      <th>4</th>\n",
       "      <th>5</th>\n",
       "      <th>6</th>\n",
       "      <th>7</th>\n",
       "      <th>8</th>\n",
       "      <th>9</th>\n",
       "      <th>10</th>\n",
       "      <th>11</th>\n",
       "      <th>12</th>\n",
       "      <th>13</th>\n",
       "      <th>14</th>\n",
       "      <th>15</th>\n",
       "      <th>16</th>\n",
       "    </tr>\n",
       "  </thead>\n",
       "  <tbody>\n",
       "    <tr>\n",
       "      <th>1969</th>\n",
       "      <td>6.081405</td>\n",
       "      <td>3.179092</td>\n",
       "      <td>4.476221</td>\n",
       "      <td>4.549700</td>\n",
       "      <td>6.581691</td>\n",
       "      <td>3.912882</td>\n",
       "      <td>4.610826</td>\n",
       "      <td>3.520994</td>\n",
       "      <td>2.947444</td>\n",
       "      <td>5.915524</td>\n",
       "      <td>4.486290</td>\n",
       "      <td>2.381962</td>\n",
       "      <td>3.177378</td>\n",
       "      <td>6.435590</td>\n",
       "      <td>3.706155</td>\n",
       "      <td>4.765710</td>\n",
       "      <td>4.603542</td>\n",
       "    </tr>\n",
       "    <tr>\n",
       "      <th>1970</th>\n",
       "      <td>6.170094</td>\n",
       "      <td>3.354327</td>\n",
       "      <td>4.596258</td>\n",
       "      <td>4.631605</td>\n",
       "      <td>6.887032</td>\n",
       "      <td>4.224936</td>\n",
       "      <td>4.791417</td>\n",
       "      <td>3.670523</td>\n",
       "      <td>3.136890</td>\n",
       "      <td>6.066838</td>\n",
       "      <td>4.654741</td>\n",
       "      <td>2.518495</td>\n",
       "      <td>3.361968</td>\n",
       "      <td>6.543345</td>\n",
       "      <td>3.906384</td>\n",
       "      <td>4.979434</td>\n",
       "      <td>4.793416</td>\n",
       "    </tr>\n",
       "    <tr>\n",
       "      <th>1971</th>\n",
       "      <td>6.283633</td>\n",
       "      <td>3.522922</td>\n",
       "      <td>4.723722</td>\n",
       "      <td>4.699657</td>\n",
       "      <td>7.168666</td>\n",
       "      <td>4.493573</td>\n",
       "      <td>4.969652</td>\n",
       "      <td>3.821837</td>\n",
       "      <td>3.319623</td>\n",
       "      <td>6.227649</td>\n",
       "      <td>4.817124</td>\n",
       "      <td>2.654028</td>\n",
       "      <td>3.534776</td>\n",
       "      <td>6.674736</td>\n",
       "      <td>4.086475</td>\n",
       "      <td>5.199657</td>\n",
       "      <td>4.983362</td>\n",
       "    </tr>\n",
       "    <tr>\n",
       "      <th>1972</th>\n",
       "      <td>6.555555</td>\n",
       "      <td>3.756213</td>\n",
       "      <td>5.001285</td>\n",
       "      <td>5.022565</td>\n",
       "      <td>7.570694</td>\n",
       "      <td>4.781919</td>\n",
       "      <td>5.155384</td>\n",
       "      <td>4.081762</td>\n",
       "      <td>3.629177</td>\n",
       "      <td>6.539060</td>\n",
       "      <td>5.138889</td>\n",
       "      <td>2.846401</td>\n",
       "      <td>3.783205</td>\n",
       "      <td>7.086904</td>\n",
       "      <td>4.379463</td>\n",
       "      <td>5.466795</td>\n",
       "      <td>5.230077</td>\n",
       "    </tr>\n",
       "    <tr>\n",
       "      <th>1973</th>\n",
       "      <td>6.810769</td>\n",
       "      <td>3.987718</td>\n",
       "      <td>5.283491</td>\n",
       "      <td>5.345615</td>\n",
       "      <td>7.956298</td>\n",
       "      <td>5.054913</td>\n",
       "      <td>5.338760</td>\n",
       "      <td>4.345402</td>\n",
       "      <td>3.946087</td>\n",
       "      <td>6.837975</td>\n",
       "      <td>5.449372</td>\n",
       "      <td>3.045630</td>\n",
       "      <td>4.029991</td>\n",
       "      <td>7.475007</td>\n",
       "      <td>4.666952</td>\n",
       "      <td>5.730506</td>\n",
       "      <td>5.474650</td>\n",
       "    </tr>\n",
       "    <tr>\n",
       "      <th>1974</th>\n",
       "      <td>7.105184</td>\n",
       "      <td>4.051842</td>\n",
       "      <td>5.442374</td>\n",
       "      <td>5.502499</td>\n",
       "      <td>7.972722</td>\n",
       "      <td>4.967795</td>\n",
       "      <td>5.508355</td>\n",
       "      <td>4.464724</td>\n",
       "      <td>4.028135</td>\n",
       "      <td>6.987361</td>\n",
       "      <td>5.557984</td>\n",
       "      <td>3.103042</td>\n",
       "      <td>4.132391</td>\n",
       "      <td>7.655670</td>\n",
       "      <td>4.697801</td>\n",
       "      <td>5.984790</td>\n",
       "      <td>5.575836</td>\n",
       "    </tr>\n",
       "    <tr>\n",
       "      <th>1975</th>\n",
       "      <td>7.377892</td>\n",
       "      <td>4.112182</td>\n",
       "      <td>5.600971</td>\n",
       "      <td>5.651957</td>\n",
       "      <td>7.974150</td>\n",
       "      <td>4.881534</td>\n",
       "      <td>5.675236</td>\n",
       "      <td>4.581120</td>\n",
       "      <td>4.111968</td>\n",
       "      <td>7.124893</td>\n",
       "      <td>5.655955</td>\n",
       "      <td>3.156741</td>\n",
       "      <td>4.231005</td>\n",
       "      <td>7.816338</td>\n",
       "      <td>4.722722</td>\n",
       "      <td>6.222936</td>\n",
       "      <td>5.676093</td>\n",
       "    </tr>\n",
       "    <tr>\n",
       "      <th>1976</th>\n",
       "      <td>7.232934</td>\n",
       "      <td>4.221794</td>\n",
       "      <td>5.736575</td>\n",
       "      <td>5.592259</td>\n",
       "      <td>8.034847</td>\n",
       "      <td>4.948443</td>\n",
       "      <td>5.796058</td>\n",
       "      <td>4.732719</td>\n",
       "      <td>4.260711</td>\n",
       "      <td>7.135390</td>\n",
       "      <td>5.761354</td>\n",
       "      <td>3.262568</td>\n",
       "      <td>4.359040</td>\n",
       "      <td>7.707084</td>\n",
       "      <td>4.784347</td>\n",
       "      <td>6.297772</td>\n",
       "      <td>5.816552</td>\n",
       "    </tr>\n",
       "    <tr>\n",
       "      <th>1977</th>\n",
       "      <td>7.089831</td>\n",
       "      <td>4.331691</td>\n",
       "      <td>5.866396</td>\n",
       "      <td>5.538703</td>\n",
       "      <td>8.080548</td>\n",
       "      <td>5.007926</td>\n",
       "      <td>5.902956</td>\n",
       "      <td>4.884676</td>\n",
       "      <td>4.412168</td>\n",
       "      <td>7.142959</td>\n",
       "      <td>5.861040</td>\n",
       "      <td>3.365396</td>\n",
       "      <td>4.485647</td>\n",
       "      <td>7.599972</td>\n",
       "      <td>4.844544</td>\n",
       "      <td>6.384462</td>\n",
       "      <td>5.955798</td>\n",
       "    </tr>\n",
       "    <tr>\n",
       "      <th>1978</th>\n",
       "      <td>6.786704</td>\n",
       "      <td>4.305199</td>\n",
       "      <td>5.925021</td>\n",
       "      <td>5.614610</td>\n",
       "      <td>8.041988</td>\n",
       "      <td>5.040917</td>\n",
       "      <td>5.916595</td>\n",
       "      <td>4.946801</td>\n",
       "      <td>4.446301</td>\n",
       "      <td>7.019352</td>\n",
       "      <td>5.810911</td>\n",
       "      <td>3.487075</td>\n",
       "      <td>4.521708</td>\n",
       "      <td>7.390032</td>\n",
       "      <td>4.864610</td>\n",
       "      <td>6.324193</td>\n",
       "      <td>6.066552</td>\n",
       "    </tr>\n",
       "    <tr>\n",
       "      <th>1979</th>\n",
       "      <td>6.639817</td>\n",
       "      <td>4.226935</td>\n",
       "      <td>5.952799</td>\n",
       "      <td>5.704299</td>\n",
       "      <td>8.004856</td>\n",
       "      <td>5.233505</td>\n",
       "      <td>5.906455</td>\n",
       "      <td>4.920380</td>\n",
       "      <td>4.408741</td>\n",
       "      <td>7.010997</td>\n",
       "      <td>5.775493</td>\n",
       "      <td>3.515853</td>\n",
       "      <td>4.557483</td>\n",
       "      <td>7.321480</td>\n",
       "      <td>4.836404</td>\n",
       "      <td>6.239646</td>\n",
       "      <td>6.101043</td>\n",
       "    </tr>\n",
       "    <tr>\n",
       "      <th>1980</th>\n",
       "      <td>6.562839</td>\n",
       "      <td>4.211511</td>\n",
       "      <td>5.974722</td>\n",
       "      <td>5.796987</td>\n",
       "      <td>8.259783</td>\n",
       "      <td>5.437089</td>\n",
       "      <td>5.899100</td>\n",
       "      <td>4.893745</td>\n",
       "      <td>4.328763</td>\n",
       "      <td>7.078835</td>\n",
       "      <td>5.790988</td>\n",
       "      <td>3.539560</td>\n",
       "      <td>4.581691</td>\n",
       "      <td>7.417166</td>\n",
       "      <td>4.763210</td>\n",
       "      <td>6.208440</td>\n",
       "      <td>6.108683</td>\n",
       "    </tr>\n",
       "    <tr>\n",
       "      <th>1981</th>\n",
       "      <td>6.500785</td>\n",
       "      <td>4.207012</td>\n",
       "      <td>6.011140</td>\n",
       "      <td>5.935661</td>\n",
       "      <td>8.531134</td>\n",
       "      <td>5.658241</td>\n",
       "      <td>5.914882</td>\n",
       "      <td>4.881034</td>\n",
       "      <td>4.261282</td>\n",
       "      <td>7.182234</td>\n",
       "      <td>5.899672</td>\n",
       "      <td>3.572765</td>\n",
       "      <td>4.618752</td>\n",
       "      <td>7.532134</td>\n",
       "      <td>4.708083</td>\n",
       "      <td>6.177878</td>\n",
       "      <td>6.139960</td>\n",
       "    </tr>\n",
       "    <tr>\n",
       "      <th>1982</th>\n",
       "      <td>6.545059</td>\n",
       "      <td>4.249072</td>\n",
       "      <td>6.133605</td>\n",
       "      <td>5.849757</td>\n",
       "      <td>8.722508</td>\n",
       "      <td>5.687304</td>\n",
       "      <td>5.916881</td>\n",
       "      <td>4.923093</td>\n",
       "      <td>4.343187</td>\n",
       "      <td>7.287204</td>\n",
       "      <td>6.018138</td>\n",
       "      <td>3.610968</td>\n",
       "      <td>4.710797</td>\n",
       "      <td>7.542845</td>\n",
       "      <td>4.811125</td>\n",
       "      <td>6.362039</td>\n",
       "      <td>6.309769</td>\n",
       "    </tr>\n",
       "    <tr>\n",
       "      <th>1983</th>\n",
       "      <td>6.595330</td>\n",
       "      <td>4.291631</td>\n",
       "      <td>6.260854</td>\n",
       "      <td>5.769066</td>\n",
       "      <td>8.925307</td>\n",
       "      <td>5.719866</td>\n",
       "      <td>5.941660</td>\n",
       "      <td>4.970722</td>\n",
       "      <td>4.424664</td>\n",
       "      <td>7.397886</td>\n",
       "      <td>6.139817</td>\n",
       "      <td>3.648957</td>\n",
       "      <td>4.806341</td>\n",
       "      <td>7.558555</td>\n",
       "      <td>4.906884</td>\n",
       "      <td>6.544702</td>\n",
       "      <td>6.502142</td>\n",
       "    </tr>\n",
       "    <tr>\n",
       "      <th>1984</th>\n",
       "      <td>6.761497</td>\n",
       "      <td>4.358683</td>\n",
       "      <td>6.372894</td>\n",
       "      <td>5.887318</td>\n",
       "      <td>9.275921</td>\n",
       "      <td>5.801342</td>\n",
       "      <td>6.028849</td>\n",
       "      <td>5.113468</td>\n",
       "      <td>4.550057</td>\n",
       "      <td>7.484290</td>\n",
       "      <td>6.236861</td>\n",
       "      <td>3.737146</td>\n",
       "      <td>4.899314</td>\n",
       "      <td>7.699228</td>\n",
       "      <td>5.031991</td>\n",
       "      <td>6.797201</td>\n",
       "      <td>6.626893</td>\n",
       "    </tr>\n",
       "    <tr>\n",
       "      <th>1985</th>\n",
       "      <td>6.937161</td>\n",
       "      <td>4.426593</td>\n",
       "      <td>6.495501</td>\n",
       "      <td>6.011283</td>\n",
       "      <td>9.652242</td>\n",
       "      <td>5.885604</td>\n",
       "      <td>6.138318</td>\n",
       "      <td>5.261997</td>\n",
       "      <td>4.677664</td>\n",
       "      <td>7.569980</td>\n",
       "      <td>6.336118</td>\n",
       "      <td>3.828478</td>\n",
       "      <td>4.997786</td>\n",
       "      <td>7.839189</td>\n",
       "      <td>5.154599</td>\n",
       "      <td>7.047772</td>\n",
       "      <td>6.775564</td>\n",
       "    </tr>\n",
       "    <tr>\n",
       "      <th>1986</th>\n",
       "      <td>7.332191</td>\n",
       "      <td>4.663239</td>\n",
       "      <td>6.926521</td>\n",
       "      <td>6.234790</td>\n",
       "      <td>10.257783</td>\n",
       "      <td>6.256784</td>\n",
       "      <td>6.420451</td>\n",
       "      <td>5.647315</td>\n",
       "      <td>4.980648</td>\n",
       "      <td>8.077692</td>\n",
       "      <td>6.739360</td>\n",
       "      <td>4.161739</td>\n",
       "      <td>5.277921</td>\n",
       "      <td>8.347615</td>\n",
       "      <td>5.471508</td>\n",
       "      <td>7.449300</td>\n",
       "      <td>7.165096</td>\n",
       "    </tr>\n",
       "    <tr>\n",
       "      <th>1987</th>\n",
       "      <td>7.742788</td>\n",
       "      <td>4.900671</td>\n",
       "      <td>7.358612</td>\n",
       "      <td>6.465296</td>\n",
       "      <td>10.823336</td>\n",
       "      <td>6.612682</td>\n",
       "      <td>6.713225</td>\n",
       "      <td>6.044630</td>\n",
       "      <td>5.295559</td>\n",
       "      <td>8.583976</td>\n",
       "      <td>7.144387</td>\n",
       "      <td>4.498572</td>\n",
       "      <td>5.565767</td>\n",
       "      <td>8.849615</td>\n",
       "      <td>5.788560</td>\n",
       "      <td>7.879178</td>\n",
       "      <td>7.580691</td>\n",
       "    </tr>\n",
       "    <tr>\n",
       "      <th>1988</th>\n",
       "      <td>8.120537</td>\n",
       "      <td>5.159597</td>\n",
       "      <td>7.802770</td>\n",
       "      <td>6.688160</td>\n",
       "      <td>11.120395</td>\n",
       "      <td>6.977007</td>\n",
       "      <td>7.023422</td>\n",
       "      <td>6.354399</td>\n",
       "      <td>5.677878</td>\n",
       "      <td>9.057412</td>\n",
       "      <td>7.560697</td>\n",
       "      <td>4.769494</td>\n",
       "      <td>5.909526</td>\n",
       "      <td>9.254499</td>\n",
       "      <td>6.124893</td>\n",
       "      <td>8.349758</td>\n",
       "      <td>8.002713</td>\n",
       "    </tr>\n",
       "    <tr>\n",
       "      <th>1989</th>\n",
       "      <td>8.509711</td>\n",
       "      <td>5.417738</td>\n",
       "      <td>8.242645</td>\n",
       "      <td>6.913525</td>\n",
       "      <td>11.408169</td>\n",
       "      <td>7.337903</td>\n",
       "      <td>7.333619</td>\n",
       "      <td>6.674022</td>\n",
       "      <td>6.065339</td>\n",
       "      <td>9.525850</td>\n",
       "      <td>7.969152</td>\n",
       "      <td>5.051414</td>\n",
       "      <td>6.254499</td>\n",
       "      <td>9.657955</td>\n",
       "      <td>6.450443</td>\n",
       "      <td>8.803913</td>\n",
       "      <td>8.453299</td>\n",
       "    </tr>\n",
       "  </tbody>\n",
       "</table>\n",
       "</div>"
      ],
      "text/plain": [
       "            0         1         2         3          4         5         6   \\\n",
       "1969  6.081405  3.179092  4.476221  4.549700   6.581691  3.912882  4.610826   \n",
       "1970  6.170094  3.354327  4.596258  4.631605   6.887032  4.224936  4.791417   \n",
       "1971  6.283633  3.522922  4.723722  4.699657   7.168666  4.493573  4.969652   \n",
       "1972  6.555555  3.756213  5.001285  5.022565   7.570694  4.781919  5.155384   \n",
       "1973  6.810769  3.987718  5.283491  5.345615   7.956298  5.054913  5.338760   \n",
       "1974  7.105184  4.051842  5.442374  5.502499   7.972722  4.967795  5.508355   \n",
       "1975  7.377892  4.112182  5.600971  5.651957   7.974150  4.881534  5.675236   \n",
       "1976  7.232934  4.221794  5.736575  5.592259   8.034847  4.948443  5.796058   \n",
       "1977  7.089831  4.331691  5.866396  5.538703   8.080548  5.007926  5.902956   \n",
       "1978  6.786704  4.305199  5.925021  5.614610   8.041988  5.040917  5.916595   \n",
       "1979  6.639817  4.226935  5.952799  5.704299   8.004856  5.233505  5.906455   \n",
       "1980  6.562839  4.211511  5.974722  5.796987   8.259783  5.437089  5.899100   \n",
       "1981  6.500785  4.207012  6.011140  5.935661   8.531134  5.658241  5.914882   \n",
       "1982  6.545059  4.249072  6.133605  5.849757   8.722508  5.687304  5.916881   \n",
       "1983  6.595330  4.291631  6.260854  5.769066   8.925307  5.719866  5.941660   \n",
       "1984  6.761497  4.358683  6.372894  5.887318   9.275921  5.801342  6.028849   \n",
       "1985  6.937161  4.426593  6.495501  6.011283   9.652242  5.885604  6.138318   \n",
       "1986  7.332191  4.663239  6.926521  6.234790  10.257783  6.256784  6.420451   \n",
       "1987  7.742788  4.900671  7.358612  6.465296  10.823336  6.612682  6.713225   \n",
       "1988  8.120537  5.159597  7.802770  6.688160  11.120395  6.977007  7.023422   \n",
       "1989  8.509711  5.417738  8.242645  6.913525  11.408169  7.337903  7.333619   \n",
       "\n",
       "            7         8         9         10        11        12        13  \\\n",
       "1969  3.520994  2.947444  5.915524  4.486290  2.381962  3.177378  6.435590   \n",
       "1970  3.670523  3.136890  6.066838  4.654741  2.518495  3.361968  6.543345   \n",
       "1971  3.821837  3.319623  6.227649  4.817124  2.654028  3.534776  6.674736   \n",
       "1972  4.081762  3.629177  6.539060  5.138889  2.846401  3.783205  7.086904   \n",
       "1973  4.345402  3.946087  6.837975  5.449372  3.045630  4.029991  7.475007   \n",
       "1974  4.464724  4.028135  6.987361  5.557984  3.103042  4.132391  7.655670   \n",
       "1975  4.581120  4.111968  7.124893  5.655955  3.156741  4.231005  7.816338   \n",
       "1976  4.732719  4.260711  7.135390  5.761354  3.262568  4.359040  7.707084   \n",
       "1977  4.884676  4.412168  7.142959  5.861040  3.365396  4.485647  7.599972   \n",
       "1978  4.946801  4.446301  7.019352  5.810911  3.487075  4.521708  7.390032   \n",
       "1979  4.920380  4.408741  7.010997  5.775493  3.515853  4.557483  7.321480   \n",
       "1980  4.893745  4.328763  7.078835  5.790988  3.539560  4.581691  7.417166   \n",
       "1981  4.881034  4.261282  7.182234  5.899672  3.572765  4.618752  7.532134   \n",
       "1982  4.923093  4.343187  7.287204  6.018138  3.610968  4.710797  7.542845   \n",
       "1983  4.970722  4.424664  7.397886  6.139817  3.648957  4.806341  7.558555   \n",
       "1984  5.113468  4.550057  7.484290  6.236861  3.737146  4.899314  7.699228   \n",
       "1985  5.261997  4.677664  7.569980  6.336118  3.828478  4.997786  7.839189   \n",
       "1986  5.647315  4.980648  8.077692  6.739360  4.161739  5.277921  8.347615   \n",
       "1987  6.044630  5.295559  8.583976  7.144387  4.498572  5.565767  8.849615   \n",
       "1988  6.354399  5.677878  9.057412  7.560697  4.769494  5.909526  9.254499   \n",
       "1989  6.674022  6.065339  9.525850  7.969152  5.051414  6.254499  9.657955   \n",
       "\n",
       "            14        15        16  \n",
       "1969  3.706155  4.765710  4.603542  \n",
       "1970  3.906384  4.979434  4.793416  \n",
       "1971  4.086475  5.199657  4.983362  \n",
       "1972  4.379463  5.466795  5.230077  \n",
       "1973  4.666952  5.730506  5.474650  \n",
       "1974  4.697801  5.984790  5.575836  \n",
       "1975  4.722722  6.222936  5.676093  \n",
       "1976  4.784347  6.297772  5.816552  \n",
       "1977  4.844544  6.384462  5.955798  \n",
       "1978  4.864610  6.324193  6.066552  \n",
       "1979  4.836404  6.239646  6.101043  \n",
       "1980  4.763210  6.208440  6.108683  \n",
       "1981  4.708083  6.177878  6.139960  \n",
       "1982  4.811125  6.362039  6.309769  \n",
       "1983  4.906884  6.544702  6.502142  \n",
       "1984  5.031991  6.797201  6.626893  \n",
       "1985  5.154599  7.047772  6.775564  \n",
       "1986  5.471508  7.449300  7.165096  \n",
       "1987  5.788560  7.879178  7.580691  \n",
       "1988  6.124893  8.349758  8.002713  \n",
       "1989  6.450443  8.803913  8.453299  "
      ]
     },
     "execution_count": 60,
     "metadata": {},
     "output_type": "execute_result"
    }
   ],
   "source": [
    "y1t"
   ]
  },
  {
   "cell_type": "code",
   "execution_count": null,
   "metadata": {
    "id": "uhU0FZSfOjT_"
   },
   "outputs": [],
   "source": [
    "y0t_y = y0t.iloc[:, 0]\n",
    "y0t_X = y0t.iloc[:, 1:]\n"
   ]
  },
  {
   "cell_type": "code",
   "execution_count": null,
   "metadata": {
    "colab": {
     "base_uri": "https://localhost:8080/",
     "height": 508
    },
    "executionInfo": {
     "elapsed": 534,
     "status": "ok",
     "timestamp": 1724670533784,
     "user": {
      "displayName": "Yong Song",
      "userId": "00576951217859821315"
     },
     "user_tz": -600
    },
    "id": "NWzF3VpTO5pt",
    "outputId": "7903f489-fbc3-4eac-c9cf-723ddc86ded7"
   },
   "outputs": [
    {
     "data": {
      "application/vnd.microsoft.datawrangler.viewer.v0+json": {
       "columns": [
        {
         "name": "index",
         "rawType": "object",
         "type": "string"
        },
        {
         "name": "1",
         "rawType": "float64",
         "type": "float"
        },
        {
         "name": "2",
         "rawType": "float64",
         "type": "float"
        },
        {
         "name": "3",
         "rawType": "float64",
         "type": "float"
        },
        {
         "name": "4",
         "rawType": "float64",
         "type": "float"
        },
        {
         "name": "5",
         "rawType": "float64",
         "type": "float"
        },
        {
         "name": "6",
         "rawType": "float64",
         "type": "float"
        },
        {
         "name": "7",
         "rawType": "float64",
         "type": "float"
        },
        {
         "name": "8",
         "rawType": "float64",
         "type": "float"
        },
        {
         "name": "9",
         "rawType": "float64",
         "type": "float"
        },
        {
         "name": "10",
         "rawType": "float64",
         "type": "float"
        },
        {
         "name": "11",
         "rawType": "float64",
         "type": "float"
        },
        {
         "name": "12",
         "rawType": "float64",
         "type": "float"
        },
        {
         "name": "13",
         "rawType": "float64",
         "type": "float"
        },
        {
         "name": "14",
         "rawType": "float64",
         "type": "float"
        },
        {
         "name": "15",
         "rawType": "float64",
         "type": "float"
        },
        {
         "name": "16",
         "rawType": "float64",
         "type": "float"
        }
       ],
       "ref": "de4eea29-37ff-4d48-997b-e4c4847d23c6",
       "rows": [
        [
         "1955",
         "1.68873183014256",
         "2.28877455736698",
         "2.50292780466742",
         "3.14395886017778",
         "1.91438157910519",
         "2.55941169257165",
         "1.72914877104031",
         "1.32776351357759",
         "3.54662963030373",
         "2.57597822218206",
         "1.24343048331057",
         "1.63467579383708",
         "4.5944728159421",
         "1.67952011531164",
         "2.55512715884189",
         "2.39045993834351"
        ],
        [
         "1956",
         "1.75849753289657",
         "2.44515862202038",
         "2.61553840887816",
         "3.34775783579134",
         "2.07183672271092",
         "2.69387317909169",
         "1.83833192260359",
         "1.41509567387136",
         "3.69044556954152",
         "2.73850328477578",
         "1.3325478478317",
         "1.72557836258558",
         "4.78663244304641",
         "1.76428168611981",
         "2.69815771282145",
         "2.53520421864679"
        ],
        [
         "1957",
         "1.8276206972394",
         "2.60339893296391",
         "2.72579263939377",
         "3.54962865137026",
         "2.22607819361879",
         "2.8203369855404",
         "1.9476578120537",
         "1.50357039102109",
         "3.82683499817574",
         "2.89988579051354",
         "1.42245070657128",
         "1.81648104029429",
         "4.96343913945904",
         "1.85032844271056",
         "2.83983149415457",
         "2.68001997685371"
        ],
        [
         "1958",
         "1.85275629430933",
         "2.63903175752798",
         "2.75185657752919",
         "3.64267348698363",
         "2.22086553674397",
         "2.87903450925294",
         "1.97136537649399",
         "1.5314196423441",
         "3.8756783776064",
         "2.96351049532723",
         "1.4402313799015",
         "1.84090251208918",
         "4.90616964837613",
         "1.88738929990427",
         "2.88189079243263",
         "2.72643528676517"
        ],
        [
         "1959",
         "1.87803484718652",
         "2.67709221577038",
         "2.77742082410048",
         "3.73486167735558",
         "2.21343902614041",
         "2.94373029301896",
         "1.99514420091748",
         "1.5593401536503",
         "3.92173673384055",
         "3.02620685907542",
         "1.45808342217514",
         "1.86539567970814",
         "4.84640104571127",
         "1.92409320342067",
         "2.93087690975012",
         "2.77285059667662"
        ],
        [
         "1960",
         "2.01013996001143",
         "2.8814623608517",
         "2.96729511957242",
         "4.05884050567026",
         "2.35768361487957",
         "3.1370322590588",
         "2.13881740226844",
         "1.66752359520466",
         "4.24178820002321",
         "3.21929439140435",
         "1.53584691396069",
         "1.98329041869734",
         "5.16109689921183",
         "2.11860898629967",
         "3.16352462877515",
         "2.96986570905801"
        ],
        [
         "1961",
         "2.12917747377702",
         "3.09954297028416",
         "3.14388738227415",
         "4.36025410848017",
         "2.44572979148815",
         "3.32762067980577",
         "2.23950296427583",
         "1.75242790389967",
         "4.57533547892566",
         "3.36246790119118",
         "1.59625816399695",
         "2.00578416629847",
         "5.63260481310585",
         "2.30548404278465",
         "3.33590405357119",
         "3.1531705750087"
        ],
        [
         "1962",
         "2.28034844571473",
         "3.35918318643055",
         "3.37353608023266",
         "4.64617269647288",
         "2.64824325443846",
         "3.55534143565008",
         "2.45422738104403",
         "1.92045131706231",
         "4.83804641196265",
         "3.56998002314629",
         "1.70558416240728",
         "2.18566114376082",
         "5.84083127825644",
         "2.52142249431245",
         "3.62339341208037",
         "3.40438446158241"
        ],
        [
         "1963",
         "2.43101972608831",
         "3.61418169724945",
         "3.59725799604131",
         "4.91152526105822",
         "2.84475867525573",
         "3.77142262506471",
         "2.67223651257286",
         "2.09190240079285",
         "5.08133409636867",
         "3.76521014922076",
         "1.81769496609367",
         "2.36639542022592",
         "6.02449287996398",
         "2.73907445424354",
         "3.89481571462283",
         "3.66923755252406"
        ],
        [
         "1964",
         "2.50885458681727",
         "3.68009129785463",
         "3.67259352726788",
         "5.05069971288895",
         "2.95115680362251",
         "3.83940290567092",
         "2.77777777777778",
         "2.18259064479066",
         "5.15809787814531",
         "3.82369302130195",
         "1.88281929040085",
         "2.45879739054746",
         "6.09932893754686",
         "2.85125684479379",
         "3.98514722286378",
         "3.80398473273819"
        ],
        [
         "1965",
         "2.58469002752841",
         "3.74528699110522",
         "3.74335883107059",
         "5.18466150784486",
         "3.05419873932504",
         "3.90609832737521",
         "2.88217648612673",
         "2.27470713933854",
         "5.22365052507319",
         "3.8741786491527",
         "1.9488718468133",
         "2.54970006825617",
         "6.15202820120591",
         "2.96593834692599",
         "4.07297918368189",
         "3.92180821174419"
        ],
        [
         "1966",
         "2.69444434855945",
         "3.88331910400042",
         "3.9093828242154",
         "5.46679525367194",
         "3.2317908209959",
         "4.03213348432256",
         "2.98807492292939",
         "2.3783919403329",
         "5.33247650503874",
         "3.97814892592072",
         "2.03263348969212",
         "2.66966570516683",
         "6.11046859449198",
         "3.09918601660686",
         "4.21001147760796",
         "4.03270487171076"
        ],
        [
         "1967",
         "2.80234220537994",
         "4.01613812417992",
         "4.07312213948916",
         "5.73764638674664",
         "3.40338464261327",
         "4.15595544130248",
         "3.09454431127937",
         "2.48236221710092",
         "5.42944892070458",
         "4.07340761526283",
         "2.11760916733054",
         "2.78784635577056",
         "6.057340899252",
         "3.22729228939611",
         "4.35239938421612",
         "4.16031123501544"
        ],
        [
         "1968",
         "2.98736079765435",
         "4.24364488215421",
         "4.30862614169389",
         "6.16145369598642",
         "3.66031153138724",
         "4.37589251494551",
         "3.30227086694538",
         "2.7090831539761",
         "5.67437885353069",
         "4.27977739828241",
         "2.24550122432932",
         "2.9783632986139",
         "6.2531419768738",
         "3.46115404318074",
         "4.55698352716746",
         "4.37303644968625"
        ]
       ],
       "shape": {
        "columns": 16,
        "rows": 14
       }
      },
      "text/html": [
       "<div>\n",
       "<style scoped>\n",
       "    .dataframe tbody tr th:only-of-type {\n",
       "        vertical-align: middle;\n",
       "    }\n",
       "\n",
       "    .dataframe tbody tr th {\n",
       "        vertical-align: top;\n",
       "    }\n",
       "\n",
       "    .dataframe thead th {\n",
       "        text-align: right;\n",
       "    }\n",
       "</style>\n",
       "<table border=\"1\" class=\"dataframe\">\n",
       "  <thead>\n",
       "    <tr style=\"text-align: right;\">\n",
       "      <th></th>\n",
       "      <th>1</th>\n",
       "      <th>2</th>\n",
       "      <th>3</th>\n",
       "      <th>4</th>\n",
       "      <th>5</th>\n",
       "      <th>6</th>\n",
       "      <th>7</th>\n",
       "      <th>8</th>\n",
       "      <th>9</th>\n",
       "      <th>10</th>\n",
       "      <th>11</th>\n",
       "      <th>12</th>\n",
       "      <th>13</th>\n",
       "      <th>14</th>\n",
       "      <th>15</th>\n",
       "      <th>16</th>\n",
       "    </tr>\n",
       "  </thead>\n",
       "  <tbody>\n",
       "    <tr>\n",
       "      <th>1955</th>\n",
       "      <td>1.688732</td>\n",
       "      <td>2.288775</td>\n",
       "      <td>2.502928</td>\n",
       "      <td>3.143959</td>\n",
       "      <td>1.914382</td>\n",
       "      <td>2.559412</td>\n",
       "      <td>1.729149</td>\n",
       "      <td>1.327764</td>\n",
       "      <td>3.546630</td>\n",
       "      <td>2.575978</td>\n",
       "      <td>1.243430</td>\n",
       "      <td>1.634676</td>\n",
       "      <td>4.594473</td>\n",
       "      <td>1.679520</td>\n",
       "      <td>2.555127</td>\n",
       "      <td>2.390460</td>\n",
       "    </tr>\n",
       "    <tr>\n",
       "      <th>1956</th>\n",
       "      <td>1.758498</td>\n",
       "      <td>2.445159</td>\n",
       "      <td>2.615538</td>\n",
       "      <td>3.347758</td>\n",
       "      <td>2.071837</td>\n",
       "      <td>2.693873</td>\n",
       "      <td>1.838332</td>\n",
       "      <td>1.415096</td>\n",
       "      <td>3.690446</td>\n",
       "      <td>2.738503</td>\n",
       "      <td>1.332548</td>\n",
       "      <td>1.725578</td>\n",
       "      <td>4.786632</td>\n",
       "      <td>1.764282</td>\n",
       "      <td>2.698158</td>\n",
       "      <td>2.535204</td>\n",
       "    </tr>\n",
       "    <tr>\n",
       "      <th>1957</th>\n",
       "      <td>1.827621</td>\n",
       "      <td>2.603399</td>\n",
       "      <td>2.725793</td>\n",
       "      <td>3.549629</td>\n",
       "      <td>2.226078</td>\n",
       "      <td>2.820337</td>\n",
       "      <td>1.947658</td>\n",
       "      <td>1.503570</td>\n",
       "      <td>3.826835</td>\n",
       "      <td>2.899886</td>\n",
       "      <td>1.422451</td>\n",
       "      <td>1.816481</td>\n",
       "      <td>4.963439</td>\n",
       "      <td>1.850328</td>\n",
       "      <td>2.839831</td>\n",
       "      <td>2.680020</td>\n",
       "    </tr>\n",
       "    <tr>\n",
       "      <th>1958</th>\n",
       "      <td>1.852756</td>\n",
       "      <td>2.639032</td>\n",
       "      <td>2.751857</td>\n",
       "      <td>3.642673</td>\n",
       "      <td>2.220866</td>\n",
       "      <td>2.879035</td>\n",
       "      <td>1.971365</td>\n",
       "      <td>1.531420</td>\n",
       "      <td>3.875678</td>\n",
       "      <td>2.963510</td>\n",
       "      <td>1.440231</td>\n",
       "      <td>1.840903</td>\n",
       "      <td>4.906170</td>\n",
       "      <td>1.887389</td>\n",
       "      <td>2.881891</td>\n",
       "      <td>2.726435</td>\n",
       "    </tr>\n",
       "    <tr>\n",
       "      <th>1959</th>\n",
       "      <td>1.878035</td>\n",
       "      <td>2.677092</td>\n",
       "      <td>2.777421</td>\n",
       "      <td>3.734862</td>\n",
       "      <td>2.213439</td>\n",
       "      <td>2.943730</td>\n",
       "      <td>1.995144</td>\n",
       "      <td>1.559340</td>\n",
       "      <td>3.921737</td>\n",
       "      <td>3.026207</td>\n",
       "      <td>1.458083</td>\n",
       "      <td>1.865396</td>\n",
       "      <td>4.846401</td>\n",
       "      <td>1.924093</td>\n",
       "      <td>2.930877</td>\n",
       "      <td>2.772851</td>\n",
       "    </tr>\n",
       "    <tr>\n",
       "      <th>1960</th>\n",
       "      <td>2.010140</td>\n",
       "      <td>2.881462</td>\n",
       "      <td>2.967295</td>\n",
       "      <td>4.058841</td>\n",
       "      <td>2.357684</td>\n",
       "      <td>3.137032</td>\n",
       "      <td>2.138817</td>\n",
       "      <td>1.667524</td>\n",
       "      <td>4.241788</td>\n",
       "      <td>3.219294</td>\n",
       "      <td>1.535847</td>\n",
       "      <td>1.983290</td>\n",
       "      <td>5.161097</td>\n",
       "      <td>2.118609</td>\n",
       "      <td>3.163525</td>\n",
       "      <td>2.969866</td>\n",
       "    </tr>\n",
       "    <tr>\n",
       "      <th>1961</th>\n",
       "      <td>2.129177</td>\n",
       "      <td>3.099543</td>\n",
       "      <td>3.143887</td>\n",
       "      <td>4.360254</td>\n",
       "      <td>2.445730</td>\n",
       "      <td>3.327621</td>\n",
       "      <td>2.239503</td>\n",
       "      <td>1.752428</td>\n",
       "      <td>4.575335</td>\n",
       "      <td>3.362468</td>\n",
       "      <td>1.596258</td>\n",
       "      <td>2.005784</td>\n",
       "      <td>5.632605</td>\n",
       "      <td>2.305484</td>\n",
       "      <td>3.335904</td>\n",
       "      <td>3.153171</td>\n",
       "    </tr>\n",
       "    <tr>\n",
       "      <th>1962</th>\n",
       "      <td>2.280348</td>\n",
       "      <td>3.359183</td>\n",
       "      <td>3.373536</td>\n",
       "      <td>4.646173</td>\n",
       "      <td>2.648243</td>\n",
       "      <td>3.555341</td>\n",
       "      <td>2.454227</td>\n",
       "      <td>1.920451</td>\n",
       "      <td>4.838046</td>\n",
       "      <td>3.569980</td>\n",
       "      <td>1.705584</td>\n",
       "      <td>2.185661</td>\n",
       "      <td>5.840831</td>\n",
       "      <td>2.521422</td>\n",
       "      <td>3.623393</td>\n",
       "      <td>3.404384</td>\n",
       "    </tr>\n",
       "    <tr>\n",
       "      <th>1963</th>\n",
       "      <td>2.431020</td>\n",
       "      <td>3.614182</td>\n",
       "      <td>3.597258</td>\n",
       "      <td>4.911525</td>\n",
       "      <td>2.844759</td>\n",
       "      <td>3.771423</td>\n",
       "      <td>2.672237</td>\n",
       "      <td>2.091902</td>\n",
       "      <td>5.081334</td>\n",
       "      <td>3.765210</td>\n",
       "      <td>1.817695</td>\n",
       "      <td>2.366395</td>\n",
       "      <td>6.024493</td>\n",
       "      <td>2.739074</td>\n",
       "      <td>3.894816</td>\n",
       "      <td>3.669238</td>\n",
       "    </tr>\n",
       "    <tr>\n",
       "      <th>1964</th>\n",
       "      <td>2.508855</td>\n",
       "      <td>3.680091</td>\n",
       "      <td>3.672594</td>\n",
       "      <td>5.050700</td>\n",
       "      <td>2.951157</td>\n",
       "      <td>3.839403</td>\n",
       "      <td>2.777778</td>\n",
       "      <td>2.182591</td>\n",
       "      <td>5.158098</td>\n",
       "      <td>3.823693</td>\n",
       "      <td>1.882819</td>\n",
       "      <td>2.458797</td>\n",
       "      <td>6.099329</td>\n",
       "      <td>2.851257</td>\n",
       "      <td>3.985147</td>\n",
       "      <td>3.803985</td>\n",
       "    </tr>\n",
       "    <tr>\n",
       "      <th>1965</th>\n",
       "      <td>2.584690</td>\n",
       "      <td>3.745287</td>\n",
       "      <td>3.743359</td>\n",
       "      <td>5.184662</td>\n",
       "      <td>3.054199</td>\n",
       "      <td>3.906098</td>\n",
       "      <td>2.882176</td>\n",
       "      <td>2.274707</td>\n",
       "      <td>5.223651</td>\n",
       "      <td>3.874179</td>\n",
       "      <td>1.948872</td>\n",
       "      <td>2.549700</td>\n",
       "      <td>6.152028</td>\n",
       "      <td>2.965938</td>\n",
       "      <td>4.072979</td>\n",
       "      <td>3.921808</td>\n",
       "    </tr>\n",
       "    <tr>\n",
       "      <th>1966</th>\n",
       "      <td>2.694444</td>\n",
       "      <td>3.883319</td>\n",
       "      <td>3.909383</td>\n",
       "      <td>5.466795</td>\n",
       "      <td>3.231791</td>\n",
       "      <td>4.032133</td>\n",
       "      <td>2.988075</td>\n",
       "      <td>2.378392</td>\n",
       "      <td>5.332477</td>\n",
       "      <td>3.978149</td>\n",
       "      <td>2.032633</td>\n",
       "      <td>2.669666</td>\n",
       "      <td>6.110469</td>\n",
       "      <td>3.099186</td>\n",
       "      <td>4.210011</td>\n",
       "      <td>4.032705</td>\n",
       "    </tr>\n",
       "    <tr>\n",
       "      <th>1967</th>\n",
       "      <td>2.802342</td>\n",
       "      <td>4.016138</td>\n",
       "      <td>4.073122</td>\n",
       "      <td>5.737646</td>\n",
       "      <td>3.403385</td>\n",
       "      <td>4.155955</td>\n",
       "      <td>3.094544</td>\n",
       "      <td>2.482362</td>\n",
       "      <td>5.429449</td>\n",
       "      <td>4.073408</td>\n",
       "      <td>2.117609</td>\n",
       "      <td>2.787846</td>\n",
       "      <td>6.057341</td>\n",
       "      <td>3.227292</td>\n",
       "      <td>4.352399</td>\n",
       "      <td>4.160311</td>\n",
       "    </tr>\n",
       "    <tr>\n",
       "      <th>1968</th>\n",
       "      <td>2.987361</td>\n",
       "      <td>4.243645</td>\n",
       "      <td>4.308626</td>\n",
       "      <td>6.161454</td>\n",
       "      <td>3.660312</td>\n",
       "      <td>4.375893</td>\n",
       "      <td>3.302271</td>\n",
       "      <td>2.709083</td>\n",
       "      <td>5.674379</td>\n",
       "      <td>4.279777</td>\n",
       "      <td>2.245501</td>\n",
       "      <td>2.978363</td>\n",
       "      <td>6.253142</td>\n",
       "      <td>3.461154</td>\n",
       "      <td>4.556984</td>\n",
       "      <td>4.373036</td>\n",
       "    </tr>\n",
       "  </tbody>\n",
       "</table>\n",
       "</div>"
      ],
      "text/plain": [
       "            1         2         3         4         5         6         7   \\\n",
       "1955  1.688732  2.288775  2.502928  3.143959  1.914382  2.559412  1.729149   \n",
       "1956  1.758498  2.445159  2.615538  3.347758  2.071837  2.693873  1.838332   \n",
       "1957  1.827621  2.603399  2.725793  3.549629  2.226078  2.820337  1.947658   \n",
       "1958  1.852756  2.639032  2.751857  3.642673  2.220866  2.879035  1.971365   \n",
       "1959  1.878035  2.677092  2.777421  3.734862  2.213439  2.943730  1.995144   \n",
       "1960  2.010140  2.881462  2.967295  4.058841  2.357684  3.137032  2.138817   \n",
       "1961  2.129177  3.099543  3.143887  4.360254  2.445730  3.327621  2.239503   \n",
       "1962  2.280348  3.359183  3.373536  4.646173  2.648243  3.555341  2.454227   \n",
       "1963  2.431020  3.614182  3.597258  4.911525  2.844759  3.771423  2.672237   \n",
       "1964  2.508855  3.680091  3.672594  5.050700  2.951157  3.839403  2.777778   \n",
       "1965  2.584690  3.745287  3.743359  5.184662  3.054199  3.906098  2.882176   \n",
       "1966  2.694444  3.883319  3.909383  5.466795  3.231791  4.032133  2.988075   \n",
       "1967  2.802342  4.016138  4.073122  5.737646  3.403385  4.155955  3.094544   \n",
       "1968  2.987361  4.243645  4.308626  6.161454  3.660312  4.375893  3.302271   \n",
       "\n",
       "            8         9         10        11        12        13        14  \\\n",
       "1955  1.327764  3.546630  2.575978  1.243430  1.634676  4.594473  1.679520   \n",
       "1956  1.415096  3.690446  2.738503  1.332548  1.725578  4.786632  1.764282   \n",
       "1957  1.503570  3.826835  2.899886  1.422451  1.816481  4.963439  1.850328   \n",
       "1958  1.531420  3.875678  2.963510  1.440231  1.840903  4.906170  1.887389   \n",
       "1959  1.559340  3.921737  3.026207  1.458083  1.865396  4.846401  1.924093   \n",
       "1960  1.667524  4.241788  3.219294  1.535847  1.983290  5.161097  2.118609   \n",
       "1961  1.752428  4.575335  3.362468  1.596258  2.005784  5.632605  2.305484   \n",
       "1962  1.920451  4.838046  3.569980  1.705584  2.185661  5.840831  2.521422   \n",
       "1963  2.091902  5.081334  3.765210  1.817695  2.366395  6.024493  2.739074   \n",
       "1964  2.182591  5.158098  3.823693  1.882819  2.458797  6.099329  2.851257   \n",
       "1965  2.274707  5.223651  3.874179  1.948872  2.549700  6.152028  2.965938   \n",
       "1966  2.378392  5.332477  3.978149  2.032633  2.669666  6.110469  3.099186   \n",
       "1967  2.482362  5.429449  4.073408  2.117609  2.787846  6.057341  3.227292   \n",
       "1968  2.709083  5.674379  4.279777  2.245501  2.978363  6.253142  3.461154   \n",
       "\n",
       "            15        16  \n",
       "1955  2.555127  2.390460  \n",
       "1956  2.698158  2.535204  \n",
       "1957  2.839831  2.680020  \n",
       "1958  2.881891  2.726435  \n",
       "1959  2.930877  2.772851  \n",
       "1960  3.163525  2.969866  \n",
       "1961  3.335904  3.153171  \n",
       "1962  3.623393  3.404384  \n",
       "1963  3.894816  3.669238  \n",
       "1964  3.985147  3.803985  \n",
       "1965  4.072979  3.921808  \n",
       "1966  4.210011  4.032705  \n",
       "1967  4.352399  4.160311  \n",
       "1968  4.556984  4.373036  "
      ]
     },
     "execution_count": 62,
     "metadata": {},
     "output_type": "execute_result"
    }
   ],
   "source": [
    "y0t_X"
   ]
  },
  {
   "cell_type": "code",
   "execution_count": null,
   "metadata": {
    "colab": {
     "base_uri": "https://localhost:8080/",
     "height": 1000
    },
    "executionInfo": {
     "elapsed": 506,
     "status": "ok",
     "timestamp": 1724670539486,
     "user": {
      "displayName": "Yong Song",
      "userId": "00576951217859821315"
     },
     "user_tz": -600
    },
    "id": "HVrHNnWmPRlv",
    "outputId": "e57ec3d1-d430-4e93-9c89-2f6d6f904cad"
   },
   "outputs": [
    {
     "name": "stderr",
     "output_type": "stream",
     "text": [
      "/Users/yongs1/miniforge3/lib/python3.12/site-packages/sklearn/linear_model/_coordinate_descent.py:695: ConvergenceWarning: Objective did not converge. You might want to increase the number of iterations, check the scale of the features or consider increasing regularisation. Duality gap: 1.024e-03, tolerance: 6.070e-04\n",
      "  model = cd_fast.enet_coordinate_descent(\n",
      "/Users/yongs1/miniforge3/lib/python3.12/site-packages/sklearn/linear_model/_coordinate_descent.py:695: ConvergenceWarning: Objective did not converge. You might want to increase the number of iterations, check the scale of the features or consider increasing regularisation. Duality gap: 1.436e-03, tolerance: 6.070e-04\n",
      "  model = cd_fast.enet_coordinate_descent(\n",
      "/Users/yongs1/miniforge3/lib/python3.12/site-packages/sklearn/linear_model/_coordinate_descent.py:695: ConvergenceWarning: Objective did not converge. You might want to increase the number of iterations, check the scale of the features or consider increasing regularisation. Duality gap: 1.616e-03, tolerance: 6.070e-04\n",
      "  model = cd_fast.enet_coordinate_descent(\n",
      "/Users/yongs1/miniforge3/lib/python3.12/site-packages/sklearn/linear_model/_coordinate_descent.py:695: ConvergenceWarning: Objective did not converge. You might want to increase the number of iterations, check the scale of the features or consider increasing regularisation. Duality gap: 1.362e-03, tolerance: 6.070e-04\n",
      "  model = cd_fast.enet_coordinate_descent(\n",
      "/Users/yongs1/miniforge3/lib/python3.12/site-packages/sklearn/linear_model/_coordinate_descent.py:695: ConvergenceWarning: Objective did not converge. You might want to increase the number of iterations, check the scale of the features or consider increasing regularisation. Duality gap: 1.131e-03, tolerance: 6.070e-04\n",
      "  model = cd_fast.enet_coordinate_descent(\n",
      "/Users/yongs1/miniforge3/lib/python3.12/site-packages/sklearn/linear_model/_coordinate_descent.py:695: ConvergenceWarning: Objective did not converge. You might want to increase the number of iterations, check the scale of the features or consider increasing regularisation. Duality gap: 8.579e-04, tolerance: 6.070e-04\n",
      "  model = cd_fast.enet_coordinate_descent(\n",
      "/Users/yongs1/miniforge3/lib/python3.12/site-packages/sklearn/linear_model/_coordinate_descent.py:695: ConvergenceWarning: Objective did not converge. You might want to increase the number of iterations, check the scale of the features or consider increasing regularisation. Duality gap: 6.944e-04, tolerance: 6.070e-04\n",
      "  model = cd_fast.enet_coordinate_descent(\n",
      "/Users/yongs1/miniforge3/lib/python3.12/site-packages/sklearn/linear_model/_coordinate_descent.py:695: ConvergenceWarning: Objective did not converge. You might want to increase the number of iterations, check the scale of the features or consider increasing regularisation. Duality gap: 6.643e-04, tolerance: 6.241e-04\n",
      "  model = cd_fast.enet_coordinate_descent(\n",
      "/Users/yongs1/miniforge3/lib/python3.12/site-packages/sklearn/linear_model/_coordinate_descent.py:695: ConvergenceWarning: Objective did not converge. You might want to increase the number of iterations, check the scale of the features or consider increasing regularisation. Duality gap: 9.519e-04, tolerance: 6.241e-04\n",
      "  model = cd_fast.enet_coordinate_descent(\n",
      "/Users/yongs1/miniforge3/lib/python3.12/site-packages/sklearn/linear_model/_coordinate_descent.py:695: ConvergenceWarning: Objective did not converge. You might want to increase the number of iterations, check the scale of the features or consider increasing regularisation. Duality gap: 8.661e-04, tolerance: 6.387e-04\n",
      "  model = cd_fast.enet_coordinate_descent(\n",
      "/Users/yongs1/miniforge3/lib/python3.12/site-packages/sklearn/linear_model/_coordinate_descent.py:695: ConvergenceWarning: Objective did not converge. You might want to increase the number of iterations, check the scale of the features or consider increasing regularisation. Duality gap: 7.873e-04, tolerance: 6.387e-04\n",
      "  model = cd_fast.enet_coordinate_descent(\n",
      "/Users/yongs1/miniforge3/lib/python3.12/site-packages/sklearn/linear_model/_coordinate_descent.py:695: ConvergenceWarning: Objective did not converge. You might want to increase the number of iterations, check the scale of the features or consider increasing regularisation. Duality gap: 9.057e-04, tolerance: 6.387e-04\n",
      "  model = cd_fast.enet_coordinate_descent(\n",
      "/Users/yongs1/miniforge3/lib/python3.12/site-packages/sklearn/linear_model/_coordinate_descent.py:695: ConvergenceWarning: Objective did not converge. You might want to increase the number of iterations, check the scale of the features or consider increasing regularisation. Duality gap: 8.856e-04, tolerance: 6.371e-04\n",
      "  model = cd_fast.enet_coordinate_descent(\n",
      "/Users/yongs1/miniforge3/lib/python3.12/site-packages/sklearn/linear_model/_coordinate_descent.py:695: ConvergenceWarning: Objective did not converge. You might want to increase the number of iterations, check the scale of the features or consider increasing regularisation. Duality gap: 7.651e-04, tolerance: 6.371e-04\n",
      "  model = cd_fast.enet_coordinate_descent(\n",
      "/Users/yongs1/miniforge3/lib/python3.12/site-packages/sklearn/linear_model/_coordinate_descent.py:695: ConvergenceWarning: Objective did not converge. You might want to increase the number of iterations, check the scale of the features or consider increasing regularisation. Duality gap: 8.806e-04, tolerance: 6.371e-04\n",
      "  model = cd_fast.enet_coordinate_descent(\n",
      "/Users/yongs1/miniforge3/lib/python3.12/site-packages/sklearn/linear_model/_coordinate_descent.py:695: ConvergenceWarning: Objective did not converge. You might want to increase the number of iterations, check the scale of the features or consider increasing regularisation. Duality gap: 1.091e-03, tolerance: 6.356e-04\n",
      "  model = cd_fast.enet_coordinate_descent(\n",
      "/Users/yongs1/miniforge3/lib/python3.12/site-packages/sklearn/linear_model/_coordinate_descent.py:695: ConvergenceWarning: Objective did not converge. You might want to increase the number of iterations, check the scale of the features or consider increasing regularisation. Duality gap: 9.464e-04, tolerance: 6.356e-04\n",
      "  model = cd_fast.enet_coordinate_descent(\n",
      "/Users/yongs1/miniforge3/lib/python3.12/site-packages/sklearn/linear_model/_coordinate_descent.py:695: ConvergenceWarning: Objective did not converge. You might want to increase the number of iterations, check the scale of the features or consider increasing regularisation. Duality gap: 7.728e-04, tolerance: 6.714e-04\n",
      "  model = cd_fast.enet_coordinate_descent(\n",
      "/Users/yongs1/miniforge3/lib/python3.12/site-packages/sklearn/linear_model/_coordinate_descent.py:695: ConvergenceWarning: Objective did not converge. You might want to increase the number of iterations, check the scale of the features or consider increasing regularisation. Duality gap: 7.631e-04, tolerance: 6.714e-04\n",
      "  model = cd_fast.enet_coordinate_descent(\n",
      "/Users/yongs1/miniforge3/lib/python3.12/site-packages/sklearn/linear_model/_coordinate_descent.py:695: ConvergenceWarning: Objective did not converge. You might want to increase the number of iterations, check the scale of the features or consider increasing regularisation. Duality gap: 1.040e-03, tolerance: 6.714e-04\n",
      "  model = cd_fast.enet_coordinate_descent(\n",
      "/Users/yongs1/miniforge3/lib/python3.12/site-packages/sklearn/linear_model/_coordinate_descent.py:695: ConvergenceWarning: Objective did not converge. You might want to increase the number of iterations, check the scale of the features or consider increasing regularisation. Duality gap: 7.086e-04, tolerance: 6.919e-04\n",
      "  model = cd_fast.enet_coordinate_descent(\n",
      "/Users/yongs1/miniforge3/lib/python3.12/site-packages/sklearn/linear_model/_coordinate_descent.py:695: ConvergenceWarning: Objective did not converge. You might want to increase the number of iterations, check the scale of the features or consider increasing regularisation. Duality gap: 1.004e-03, tolerance: 6.935e-04\n",
      "  model = cd_fast.enet_coordinate_descent(\n",
      "/Users/yongs1/miniforge3/lib/python3.12/site-packages/sklearn/linear_model/_coordinate_descent.py:695: ConvergenceWarning: Objective did not converge. You might want to increase the number of iterations, check the scale of the features or consider increasing regularisation. Duality gap: 7.615e-04, tolerance: 6.935e-04\n",
      "  model = cd_fast.enet_coordinate_descent(\n",
      "/Users/yongs1/miniforge3/lib/python3.12/site-packages/sklearn/linear_model/_coordinate_descent.py:695: ConvergenceWarning: Objective did not converge. You might want to increase the number of iterations, check the scale of the features or consider increasing regularisation. Duality gap: 9.482e-04, tolerance: 6.750e-04\n",
      "  model = cd_fast.enet_coordinate_descent(\n",
      "/Users/yongs1/miniforge3/lib/python3.12/site-packages/sklearn/linear_model/_coordinate_descent.py:695: ConvergenceWarning: Objective did not converge. You might want to increase the number of iterations, check the scale of the features or consider increasing regularisation. Duality gap: 1.076e-03, tolerance: 6.750e-04\n",
      "  model = cd_fast.enet_coordinate_descent(\n",
      "/Users/yongs1/miniforge3/lib/python3.12/site-packages/sklearn/linear_model/_coordinate_descent.py:695: ConvergenceWarning: Objective did not converge. You might want to increase the number of iterations, check the scale of the features or consider increasing regularisation. Duality gap: 8.613e-04, tolerance: 6.750e-04\n",
      "  model = cd_fast.enet_coordinate_descent(\n",
      "/Users/yongs1/miniforge3/lib/python3.12/site-packages/sklearn/linear_model/_coordinate_descent.py:695: ConvergenceWarning: Objective did not converge. You might want to increase the number of iterations, check the scale of the features or consider increasing regularisation. Duality gap: 6.765e-04, tolerance: 6.750e-04\n",
      "  model = cd_fast.enet_coordinate_descent(\n",
      "/Users/yongs1/miniforge3/lib/python3.12/site-packages/sklearn/linear_model/_coordinate_descent.py:695: ConvergenceWarning: Objective did not converge. You might want to increase the number of iterations, check the scale of the features or consider increasing regularisation. Duality gap: 8.103e-04, tolerance: 6.595e-04\n",
      "  model = cd_fast.enet_coordinate_descent(\n",
      "/Users/yongs1/miniforge3/lib/python3.12/site-packages/sklearn/linear_model/_coordinate_descent.py:695: ConvergenceWarning: Objective did not converge. You might want to increase the number of iterations, check the scale of the features or consider increasing regularisation. Duality gap: 6.933e-04, tolerance: 6.595e-04\n",
      "  model = cd_fast.enet_coordinate_descent(\n",
      "/Users/yongs1/miniforge3/lib/python3.12/site-packages/sklearn/linear_model/_coordinate_descent.py:695: ConvergenceWarning: Objective did not converge. You might want to increase the number of iterations, check the scale of the features or consider increasing regularisation. Duality gap: 1.002e-03, tolerance: 6.595e-04\n",
      "  model = cd_fast.enet_coordinate_descent(\n",
      "/Users/yongs1/miniforge3/lib/python3.12/site-packages/sklearn/linear_model/_coordinate_descent.py:695: ConvergenceWarning: Objective did not converge. You might want to increase the number of iterations, check the scale of the features or consider increasing regularisation. Duality gap: 6.565e-04, tolerance: 6.421e-04\n",
      "  model = cd_fast.enet_coordinate_descent(\n",
      "/Users/yongs1/miniforge3/lib/python3.12/site-packages/sklearn/linear_model/_coordinate_descent.py:695: ConvergenceWarning: Objective did not converge. You might want to increase the number of iterations, check the scale of the features or consider increasing regularisation. Duality gap: 8.277e-04, tolerance: 6.421e-04\n",
      "  model = cd_fast.enet_coordinate_descent(\n",
      "/Users/yongs1/miniforge3/lib/python3.12/site-packages/sklearn/linear_model/_coordinate_descent.py:695: ConvergenceWarning: Objective did not converge. You might want to increase the number of iterations, check the scale of the features or consider increasing regularisation. Duality gap: 6.938e-04, tolerance: 6.421e-04\n",
      "  model = cd_fast.enet_coordinate_descent(\n",
      "/Users/yongs1/miniforge3/lib/python3.12/site-packages/sklearn/linear_model/_coordinate_descent.py:695: ConvergenceWarning: Objective did not converge. You might want to increase the number of iterations, check the scale of the features or consider increasing regularisation. Duality gap: 8.469e-04, tolerance: 6.291e-04\n",
      "  model = cd_fast.enet_coordinate_descent(\n",
      "/Users/yongs1/miniforge3/lib/python3.12/site-packages/sklearn/linear_model/_coordinate_descent.py:695: ConvergenceWarning: Objective did not converge. You might want to increase the number of iterations, check the scale of the features or consider increasing regularisation. Duality gap: 6.890e-04, tolerance: 6.291e-04\n",
      "  model = cd_fast.enet_coordinate_descent(\n",
      "/Users/yongs1/miniforge3/lib/python3.12/site-packages/sklearn/linear_model/_coordinate_descent.py:695: ConvergenceWarning: Objective did not converge. You might want to increase the number of iterations, check the scale of the features or consider increasing regularisation. Duality gap: 9.705e-04, tolerance: 6.291e-04\n",
      "  model = cd_fast.enet_coordinate_descent(\n",
      "/Users/yongs1/miniforge3/lib/python3.12/site-packages/sklearn/linear_model/_coordinate_descent.py:695: ConvergenceWarning: Objective did not converge. You might want to increase the number of iterations, check the scale of the features or consider increasing regularisation. Duality gap: 7.818e-04, tolerance: 6.169e-04\n",
      "  model = cd_fast.enet_coordinate_descent(\n",
      "/Users/yongs1/miniforge3/lib/python3.12/site-packages/sklearn/linear_model/_coordinate_descent.py:695: ConvergenceWarning: Objective did not converge. You might want to increase the number of iterations, check the scale of the features or consider increasing regularisation. Duality gap: 6.394e-04, tolerance: 6.169e-04\n",
      "  model = cd_fast.enet_coordinate_descent(\n",
      "/Users/yongs1/miniforge3/lib/python3.12/site-packages/sklearn/linear_model/_coordinate_descent.py:695: ConvergenceWarning: Objective did not converge. You might want to increase the number of iterations, check the scale of the features or consider increasing regularisation. Duality gap: 9.788e-04, tolerance: 6.169e-04\n",
      "  model = cd_fast.enet_coordinate_descent(\n",
      "/Users/yongs1/miniforge3/lib/python3.12/site-packages/sklearn/linear_model/_coordinate_descent.py:695: ConvergenceWarning: Objective did not converge. You might want to increase the number of iterations, check the scale of the features or consider increasing regularisation. Duality gap: 7.100e-04, tolerance: 5.672e-04\n",
      "  model = cd_fast.enet_coordinate_descent(\n",
      "/Users/yongs1/miniforge3/lib/python3.12/site-packages/sklearn/linear_model/_coordinate_descent.py:695: ConvergenceWarning: Objective did not converge. You might want to increase the number of iterations, check the scale of the features or consider increasing regularisation. Duality gap: 8.268e-04, tolerance: 5.672e-04\n",
      "  model = cd_fast.enet_coordinate_descent(\n",
      "/Users/yongs1/miniforge3/lib/python3.12/site-packages/sklearn/linear_model/_coordinate_descent.py:695: ConvergenceWarning: Objective did not converge. You might want to increase the number of iterations, check the scale of the features or consider increasing regularisation. Duality gap: 6.931e-04, tolerance: 5.672e-04\n",
      "  model = cd_fast.enet_coordinate_descent(\n"
     ]
    },
    {
     "data": {
      "text/html": [
       "<style>#sk-container-id-6 {\n",
       "  /* Definition of color scheme common for light and dark mode */\n",
       "  --sklearn-color-text: #000;\n",
       "  --sklearn-color-text-muted: #666;\n",
       "  --sklearn-color-line: gray;\n",
       "  /* Definition of color scheme for unfitted estimators */\n",
       "  --sklearn-color-unfitted-level-0: #fff5e6;\n",
       "  --sklearn-color-unfitted-level-1: #f6e4d2;\n",
       "  --sklearn-color-unfitted-level-2: #ffe0b3;\n",
       "  --sklearn-color-unfitted-level-3: chocolate;\n",
       "  /* Definition of color scheme for fitted estimators */\n",
       "  --sklearn-color-fitted-level-0: #f0f8ff;\n",
       "  --sklearn-color-fitted-level-1: #d4ebff;\n",
       "  --sklearn-color-fitted-level-2: #b3dbfd;\n",
       "  --sklearn-color-fitted-level-3: cornflowerblue;\n",
       "\n",
       "  /* Specific color for light theme */\n",
       "  --sklearn-color-text-on-default-background: var(--sg-text-color, var(--theme-code-foreground, var(--jp-content-font-color1, black)));\n",
       "  --sklearn-color-background: var(--sg-background-color, var(--theme-background, var(--jp-layout-color0, white)));\n",
       "  --sklearn-color-border-box: var(--sg-text-color, var(--theme-code-foreground, var(--jp-content-font-color1, black)));\n",
       "  --sklearn-color-icon: #696969;\n",
       "\n",
       "  @media (prefers-color-scheme: dark) {\n",
       "    /* Redefinition of color scheme for dark theme */\n",
       "    --sklearn-color-text-on-default-background: var(--sg-text-color, var(--theme-code-foreground, var(--jp-content-font-color1, white)));\n",
       "    --sklearn-color-background: var(--sg-background-color, var(--theme-background, var(--jp-layout-color0, #111)));\n",
       "    --sklearn-color-border-box: var(--sg-text-color, var(--theme-code-foreground, var(--jp-content-font-color1, white)));\n",
       "    --sklearn-color-icon: #878787;\n",
       "  }\n",
       "}\n",
       "\n",
       "#sk-container-id-6 {\n",
       "  color: var(--sklearn-color-text);\n",
       "}\n",
       "\n",
       "#sk-container-id-6 pre {\n",
       "  padding: 0;\n",
       "}\n",
       "\n",
       "#sk-container-id-6 input.sk-hidden--visually {\n",
       "  border: 0;\n",
       "  clip: rect(1px 1px 1px 1px);\n",
       "  clip: rect(1px, 1px, 1px, 1px);\n",
       "  height: 1px;\n",
       "  margin: -1px;\n",
       "  overflow: hidden;\n",
       "  padding: 0;\n",
       "  position: absolute;\n",
       "  width: 1px;\n",
       "}\n",
       "\n",
       "#sk-container-id-6 div.sk-dashed-wrapped {\n",
       "  border: 1px dashed var(--sklearn-color-line);\n",
       "  margin: 0 0.4em 0.5em 0.4em;\n",
       "  box-sizing: border-box;\n",
       "  padding-bottom: 0.4em;\n",
       "  background-color: var(--sklearn-color-background);\n",
       "}\n",
       "\n",
       "#sk-container-id-6 div.sk-container {\n",
       "  /* jupyter's `normalize.less` sets `[hidden] { display: none; }`\n",
       "     but bootstrap.min.css set `[hidden] { display: none !important; }`\n",
       "     so we also need the `!important` here to be able to override the\n",
       "     default hidden behavior on the sphinx rendered scikit-learn.org.\n",
       "     See: https://github.com/scikit-learn/scikit-learn/issues/21755 */\n",
       "  display: inline-block !important;\n",
       "  position: relative;\n",
       "}\n",
       "\n",
       "#sk-container-id-6 div.sk-text-repr-fallback {\n",
       "  display: none;\n",
       "}\n",
       "\n",
       "div.sk-parallel-item,\n",
       "div.sk-serial,\n",
       "div.sk-item {\n",
       "  /* draw centered vertical line to link estimators */\n",
       "  background-image: linear-gradient(var(--sklearn-color-text-on-default-background), var(--sklearn-color-text-on-default-background));\n",
       "  background-size: 2px 100%;\n",
       "  background-repeat: no-repeat;\n",
       "  background-position: center center;\n",
       "}\n",
       "\n",
       "/* Parallel-specific style estimator block */\n",
       "\n",
       "#sk-container-id-6 div.sk-parallel-item::after {\n",
       "  content: \"\";\n",
       "  width: 100%;\n",
       "  border-bottom: 2px solid var(--sklearn-color-text-on-default-background);\n",
       "  flex-grow: 1;\n",
       "}\n",
       "\n",
       "#sk-container-id-6 div.sk-parallel {\n",
       "  display: flex;\n",
       "  align-items: stretch;\n",
       "  justify-content: center;\n",
       "  background-color: var(--sklearn-color-background);\n",
       "  position: relative;\n",
       "}\n",
       "\n",
       "#sk-container-id-6 div.sk-parallel-item {\n",
       "  display: flex;\n",
       "  flex-direction: column;\n",
       "}\n",
       "\n",
       "#sk-container-id-6 div.sk-parallel-item:first-child::after {\n",
       "  align-self: flex-end;\n",
       "  width: 50%;\n",
       "}\n",
       "\n",
       "#sk-container-id-6 div.sk-parallel-item:last-child::after {\n",
       "  align-self: flex-start;\n",
       "  width: 50%;\n",
       "}\n",
       "\n",
       "#sk-container-id-6 div.sk-parallel-item:only-child::after {\n",
       "  width: 0;\n",
       "}\n",
       "\n",
       "/* Serial-specific style estimator block */\n",
       "\n",
       "#sk-container-id-6 div.sk-serial {\n",
       "  display: flex;\n",
       "  flex-direction: column;\n",
       "  align-items: center;\n",
       "  background-color: var(--sklearn-color-background);\n",
       "  padding-right: 1em;\n",
       "  padding-left: 1em;\n",
       "}\n",
       "\n",
       "\n",
       "/* Toggleable style: style used for estimator/Pipeline/ColumnTransformer box that is\n",
       "clickable and can be expanded/collapsed.\n",
       "- Pipeline and ColumnTransformer use this feature and define the default style\n",
       "- Estimators will overwrite some part of the style using the `sk-estimator` class\n",
       "*/\n",
       "\n",
       "/* Pipeline and ColumnTransformer style (default) */\n",
       "\n",
       "#sk-container-id-6 div.sk-toggleable {\n",
       "  /* Default theme specific background. It is overwritten whether we have a\n",
       "  specific estimator or a Pipeline/ColumnTransformer */\n",
       "  background-color: var(--sklearn-color-background);\n",
       "}\n",
       "\n",
       "/* Toggleable label */\n",
       "#sk-container-id-6 label.sk-toggleable__label {\n",
       "  cursor: pointer;\n",
       "  display: flex;\n",
       "  width: 100%;\n",
       "  margin-bottom: 0;\n",
       "  padding: 0.5em;\n",
       "  box-sizing: border-box;\n",
       "  text-align: center;\n",
       "  align-items: start;\n",
       "  justify-content: space-between;\n",
       "  gap: 0.5em;\n",
       "}\n",
       "\n",
       "#sk-container-id-6 label.sk-toggleable__label .caption {\n",
       "  font-size: 0.6rem;\n",
       "  font-weight: lighter;\n",
       "  color: var(--sklearn-color-text-muted);\n",
       "}\n",
       "\n",
       "#sk-container-id-6 label.sk-toggleable__label-arrow:before {\n",
       "  /* Arrow on the left of the label */\n",
       "  content: \"▸\";\n",
       "  float: left;\n",
       "  margin-right: 0.25em;\n",
       "  color: var(--sklearn-color-icon);\n",
       "}\n",
       "\n",
       "#sk-container-id-6 label.sk-toggleable__label-arrow:hover:before {\n",
       "  color: var(--sklearn-color-text);\n",
       "}\n",
       "\n",
       "/* Toggleable content - dropdown */\n",
       "\n",
       "#sk-container-id-6 div.sk-toggleable__content {\n",
       "  max-height: 0;\n",
       "  max-width: 0;\n",
       "  overflow: hidden;\n",
       "  text-align: left;\n",
       "  /* unfitted */\n",
       "  background-color: var(--sklearn-color-unfitted-level-0);\n",
       "}\n",
       "\n",
       "#sk-container-id-6 div.sk-toggleable__content.fitted {\n",
       "  /* fitted */\n",
       "  background-color: var(--sklearn-color-fitted-level-0);\n",
       "}\n",
       "\n",
       "#sk-container-id-6 div.sk-toggleable__content pre {\n",
       "  margin: 0.2em;\n",
       "  border-radius: 0.25em;\n",
       "  color: var(--sklearn-color-text);\n",
       "  /* unfitted */\n",
       "  background-color: var(--sklearn-color-unfitted-level-0);\n",
       "}\n",
       "\n",
       "#sk-container-id-6 div.sk-toggleable__content.fitted pre {\n",
       "  /* unfitted */\n",
       "  background-color: var(--sklearn-color-fitted-level-0);\n",
       "}\n",
       "\n",
       "#sk-container-id-6 input.sk-toggleable__control:checked~div.sk-toggleable__content {\n",
       "  /* Expand drop-down */\n",
       "  max-height: 200px;\n",
       "  max-width: 100%;\n",
       "  overflow: auto;\n",
       "}\n",
       "\n",
       "#sk-container-id-6 input.sk-toggleable__control:checked~label.sk-toggleable__label-arrow:before {\n",
       "  content: \"▾\";\n",
       "}\n",
       "\n",
       "/* Pipeline/ColumnTransformer-specific style */\n",
       "\n",
       "#sk-container-id-6 div.sk-label input.sk-toggleable__control:checked~label.sk-toggleable__label {\n",
       "  color: var(--sklearn-color-text);\n",
       "  background-color: var(--sklearn-color-unfitted-level-2);\n",
       "}\n",
       "\n",
       "#sk-container-id-6 div.sk-label.fitted input.sk-toggleable__control:checked~label.sk-toggleable__label {\n",
       "  background-color: var(--sklearn-color-fitted-level-2);\n",
       "}\n",
       "\n",
       "/* Estimator-specific style */\n",
       "\n",
       "/* Colorize estimator box */\n",
       "#sk-container-id-6 div.sk-estimator input.sk-toggleable__control:checked~label.sk-toggleable__label {\n",
       "  /* unfitted */\n",
       "  background-color: var(--sklearn-color-unfitted-level-2);\n",
       "}\n",
       "\n",
       "#sk-container-id-6 div.sk-estimator.fitted input.sk-toggleable__control:checked~label.sk-toggleable__label {\n",
       "  /* fitted */\n",
       "  background-color: var(--sklearn-color-fitted-level-2);\n",
       "}\n",
       "\n",
       "#sk-container-id-6 div.sk-label label.sk-toggleable__label,\n",
       "#sk-container-id-6 div.sk-label label {\n",
       "  /* The background is the default theme color */\n",
       "  color: var(--sklearn-color-text-on-default-background);\n",
       "}\n",
       "\n",
       "/* On hover, darken the color of the background */\n",
       "#sk-container-id-6 div.sk-label:hover label.sk-toggleable__label {\n",
       "  color: var(--sklearn-color-text);\n",
       "  background-color: var(--sklearn-color-unfitted-level-2);\n",
       "}\n",
       "\n",
       "/* Label box, darken color on hover, fitted */\n",
       "#sk-container-id-6 div.sk-label.fitted:hover label.sk-toggleable__label.fitted {\n",
       "  color: var(--sklearn-color-text);\n",
       "  background-color: var(--sklearn-color-fitted-level-2);\n",
       "}\n",
       "\n",
       "/* Estimator label */\n",
       "\n",
       "#sk-container-id-6 div.sk-label label {\n",
       "  font-family: monospace;\n",
       "  font-weight: bold;\n",
       "  display: inline-block;\n",
       "  line-height: 1.2em;\n",
       "}\n",
       "\n",
       "#sk-container-id-6 div.sk-label-container {\n",
       "  text-align: center;\n",
       "}\n",
       "\n",
       "/* Estimator-specific */\n",
       "#sk-container-id-6 div.sk-estimator {\n",
       "  font-family: monospace;\n",
       "  border: 1px dotted var(--sklearn-color-border-box);\n",
       "  border-radius: 0.25em;\n",
       "  box-sizing: border-box;\n",
       "  margin-bottom: 0.5em;\n",
       "  /* unfitted */\n",
       "  background-color: var(--sklearn-color-unfitted-level-0);\n",
       "}\n",
       "\n",
       "#sk-container-id-6 div.sk-estimator.fitted {\n",
       "  /* fitted */\n",
       "  background-color: var(--sklearn-color-fitted-level-0);\n",
       "}\n",
       "\n",
       "/* on hover */\n",
       "#sk-container-id-6 div.sk-estimator:hover {\n",
       "  /* unfitted */\n",
       "  background-color: var(--sklearn-color-unfitted-level-2);\n",
       "}\n",
       "\n",
       "#sk-container-id-6 div.sk-estimator.fitted:hover {\n",
       "  /* fitted */\n",
       "  background-color: var(--sklearn-color-fitted-level-2);\n",
       "}\n",
       "\n",
       "/* Specification for estimator info (e.g. \"i\" and \"?\") */\n",
       "\n",
       "/* Common style for \"i\" and \"?\" */\n",
       "\n",
       ".sk-estimator-doc-link,\n",
       "a:link.sk-estimator-doc-link,\n",
       "a:visited.sk-estimator-doc-link {\n",
       "  float: right;\n",
       "  font-size: smaller;\n",
       "  line-height: 1em;\n",
       "  font-family: monospace;\n",
       "  background-color: var(--sklearn-color-background);\n",
       "  border-radius: 1em;\n",
       "  height: 1em;\n",
       "  width: 1em;\n",
       "  text-decoration: none !important;\n",
       "  margin-left: 0.5em;\n",
       "  text-align: center;\n",
       "  /* unfitted */\n",
       "  border: var(--sklearn-color-unfitted-level-1) 1pt solid;\n",
       "  color: var(--sklearn-color-unfitted-level-1);\n",
       "}\n",
       "\n",
       ".sk-estimator-doc-link.fitted,\n",
       "a:link.sk-estimator-doc-link.fitted,\n",
       "a:visited.sk-estimator-doc-link.fitted {\n",
       "  /* fitted */\n",
       "  border: var(--sklearn-color-fitted-level-1) 1pt solid;\n",
       "  color: var(--sklearn-color-fitted-level-1);\n",
       "}\n",
       "\n",
       "/* On hover */\n",
       "div.sk-estimator:hover .sk-estimator-doc-link:hover,\n",
       ".sk-estimator-doc-link:hover,\n",
       "div.sk-label-container:hover .sk-estimator-doc-link:hover,\n",
       ".sk-estimator-doc-link:hover {\n",
       "  /* unfitted */\n",
       "  background-color: var(--sklearn-color-unfitted-level-3);\n",
       "  color: var(--sklearn-color-background);\n",
       "  text-decoration: none;\n",
       "}\n",
       "\n",
       "div.sk-estimator.fitted:hover .sk-estimator-doc-link.fitted:hover,\n",
       ".sk-estimator-doc-link.fitted:hover,\n",
       "div.sk-label-container:hover .sk-estimator-doc-link.fitted:hover,\n",
       ".sk-estimator-doc-link.fitted:hover {\n",
       "  /* fitted */\n",
       "  background-color: var(--sklearn-color-fitted-level-3);\n",
       "  color: var(--sklearn-color-background);\n",
       "  text-decoration: none;\n",
       "}\n",
       "\n",
       "/* Span, style for the box shown on hovering the info icon */\n",
       ".sk-estimator-doc-link span {\n",
       "  display: none;\n",
       "  z-index: 9999;\n",
       "  position: relative;\n",
       "  font-weight: normal;\n",
       "  right: .2ex;\n",
       "  padding: .5ex;\n",
       "  margin: .5ex;\n",
       "  width: min-content;\n",
       "  min-width: 20ex;\n",
       "  max-width: 50ex;\n",
       "  color: var(--sklearn-color-text);\n",
       "  box-shadow: 2pt 2pt 4pt #999;\n",
       "  /* unfitted */\n",
       "  background: var(--sklearn-color-unfitted-level-0);\n",
       "  border: .5pt solid var(--sklearn-color-unfitted-level-3);\n",
       "}\n",
       "\n",
       ".sk-estimator-doc-link.fitted span {\n",
       "  /* fitted */\n",
       "  background: var(--sklearn-color-fitted-level-0);\n",
       "  border: var(--sklearn-color-fitted-level-3);\n",
       "}\n",
       "\n",
       ".sk-estimator-doc-link:hover span {\n",
       "  display: block;\n",
       "}\n",
       "\n",
       "/* \"?\"-specific style due to the `<a>` HTML tag */\n",
       "\n",
       "#sk-container-id-6 a.estimator_doc_link {\n",
       "  float: right;\n",
       "  font-size: 1rem;\n",
       "  line-height: 1em;\n",
       "  font-family: monospace;\n",
       "  background-color: var(--sklearn-color-background);\n",
       "  border-radius: 1rem;\n",
       "  height: 1rem;\n",
       "  width: 1rem;\n",
       "  text-decoration: none;\n",
       "  /* unfitted */\n",
       "  color: var(--sklearn-color-unfitted-level-1);\n",
       "  border: var(--sklearn-color-unfitted-level-1) 1pt solid;\n",
       "}\n",
       "\n",
       "#sk-container-id-6 a.estimator_doc_link.fitted {\n",
       "  /* fitted */\n",
       "  border: var(--sklearn-color-fitted-level-1) 1pt solid;\n",
       "  color: var(--sklearn-color-fitted-level-1);\n",
       "}\n",
       "\n",
       "/* On hover */\n",
       "#sk-container-id-6 a.estimator_doc_link:hover {\n",
       "  /* unfitted */\n",
       "  background-color: var(--sklearn-color-unfitted-level-3);\n",
       "  color: var(--sklearn-color-background);\n",
       "  text-decoration: none;\n",
       "}\n",
       "\n",
       "#sk-container-id-6 a.estimator_doc_link.fitted:hover {\n",
       "  /* fitted */\n",
       "  background-color: var(--sklearn-color-fitted-level-3);\n",
       "}\n",
       "</style><div id=\"sk-container-id-6\" class=\"sk-top-container\"><div class=\"sk-text-repr-fallback\"><pre>LassoCV(alphas=array([1.00000000e-06, 1.32194115e-06, 1.74752840e-06, 2.31012970e-06,\n",
       "       3.05385551e-06, 4.03701726e-06, 5.33669923e-06, 7.05480231e-06,\n",
       "       9.32603347e-06, 1.23284674e-05, 1.62975083e-05, 2.15443469e-05,\n",
       "       2.84803587e-05, 3.76493581e-05, 4.97702356e-05, 6.57933225e-05,\n",
       "       8.69749003e-05, 1.14975700e-04, 1.51991108e-04, 2.00923300e-04,\n",
       "       2.65608778e-04, 3.51119173e-0...\n",
       "       1.62975083e+03, 2.15443469e+03, 2.84803587e+03, 3.76493581e+03,\n",
       "       4.97702356e+03, 6.57933225e+03, 8.69749003e+03, 1.14975700e+04,\n",
       "       1.51991108e+04, 2.00923300e+04, 2.65608778e+04, 3.51119173e+04,\n",
       "       4.64158883e+04, 6.13590727e+04, 8.11130831e+04, 1.07226722e+05,\n",
       "       1.41747416e+05, 1.87381742e+05, 2.47707636e+05, 3.27454916e+05,\n",
       "       4.32876128e+05, 5.72236766e+05, 7.56463328e+05, 1.00000000e+06]),\n",
       "        cv=14)</pre><b>In a Jupyter environment, please rerun this cell to show the HTML representation or trust the notebook. <br />On GitHub, the HTML representation is unable to render, please try loading this page with nbviewer.org.</b></div><div class=\"sk-container\" hidden><div class=\"sk-item\"><div class=\"sk-estimator fitted sk-toggleable\"><input class=\"sk-toggleable__control sk-hidden--visually\" id=\"sk-estimator-id-6\" type=\"checkbox\" checked><label for=\"sk-estimator-id-6\" class=\"sk-toggleable__label fitted sk-toggleable__label-arrow\"><div><div>LassoCV</div></div><div><a class=\"sk-estimator-doc-link fitted\" rel=\"noreferrer\" target=\"_blank\" href=\"https://scikit-learn.org/1.6/modules/generated/sklearn.linear_model.LassoCV.html\">?<span>Documentation for LassoCV</span></a><span class=\"sk-estimator-doc-link fitted\">i<span>Fitted</span></span></div></label><div class=\"sk-toggleable__content fitted\"><pre>LassoCV(alphas=array([1.00000000e-06, 1.32194115e-06, 1.74752840e-06, 2.31012970e-06,\n",
       "       3.05385551e-06, 4.03701726e-06, 5.33669923e-06, 7.05480231e-06,\n",
       "       9.32603347e-06, 1.23284674e-05, 1.62975083e-05, 2.15443469e-05,\n",
       "       2.84803587e-05, 3.76493581e-05, 4.97702356e-05, 6.57933225e-05,\n",
       "       8.69749003e-05, 1.14975700e-04, 1.51991108e-04, 2.00923300e-04,\n",
       "       2.65608778e-04, 3.51119173e-0...\n",
       "       1.62975083e+03, 2.15443469e+03, 2.84803587e+03, 3.76493581e+03,\n",
       "       4.97702356e+03, 6.57933225e+03, 8.69749003e+03, 1.14975700e+04,\n",
       "       1.51991108e+04, 2.00923300e+04, 2.65608778e+04, 3.51119173e+04,\n",
       "       4.64158883e+04, 6.13590727e+04, 8.11130831e+04, 1.07226722e+05,\n",
       "       1.41747416e+05, 1.87381742e+05, 2.47707636e+05, 3.27454916e+05,\n",
       "       4.32876128e+05, 5.72236766e+05, 7.56463328e+05, 1.00000000e+06]),\n",
       "        cv=14)</pre></div> </div></div></div></div>"
      ],
      "text/plain": [
       "LassoCV(alphas=array([1.00000000e-06, 1.32194115e-06, 1.74752840e-06, 2.31012970e-06,\n",
       "       3.05385551e-06, 4.03701726e-06, 5.33669923e-06, 7.05480231e-06,\n",
       "       9.32603347e-06, 1.23284674e-05, 1.62975083e-05, 2.15443469e-05,\n",
       "       2.84803587e-05, 3.76493581e-05, 4.97702356e-05, 6.57933225e-05,\n",
       "       8.69749003e-05, 1.14975700e-04, 1.51991108e-04, 2.00923300e-04,\n",
       "       2.65608778e-04, 3.51119173e-0...\n",
       "       1.62975083e+03, 2.15443469e+03, 2.84803587e+03, 3.76493581e+03,\n",
       "       4.97702356e+03, 6.57933225e+03, 8.69749003e+03, 1.14975700e+04,\n",
       "       1.51991108e+04, 2.00923300e+04, 2.65608778e+04, 3.51119173e+04,\n",
       "       4.64158883e+04, 6.13590727e+04, 8.11130831e+04, 1.07226722e+05,\n",
       "       1.41747416e+05, 1.87381742e+05, 2.47707636e+05, 3.27454916e+05,\n",
       "       4.32876128e+05, 5.72236766e+05, 7.56463328e+05, 1.00000000e+06]),\n",
       "        cv=14)"
      ]
     },
     "execution_count": 63,
     "metadata": {},
     "output_type": "execute_result"
    }
   ],
   "source": [
    "lasso_cv = LassoCV(alphas=np.logspace(-6, 6, 100), cv=len(y0t_y))  # LOOCV\n",
    "lasso_cv.fit(y0t_X, y0t_y)"
   ]
  },
  {
   "cell_type": "code",
   "execution_count": null,
   "metadata": {
    "id": "IJmLuip0PS9e"
   },
   "outputs": [],
   "source": [
    "y0t_pred = lasso_cv.predict(y0t_X)"
   ]
  },
  {
   "cell_type": "code",
   "execution_count": null,
   "metadata": {
    "colab": {
     "base_uri": "https://localhost:8080/",
     "height": 559
    },
    "executionInfo": {
     "elapsed": 1271,
     "status": "ok",
     "timestamp": 1724670551587,
     "user": {
      "displayName": "Yong Song",
      "userId": "00576951217859821315"
     },
     "user_tz": -600
    },
    "id": "UH8ZzUhgP8Om",
    "outputId": "9623e2f5-178c-4447-f007-8a4397ee5ae9"
   },
   "outputs": [
    {
     "data": {
      "text/plain": [
       "<matplotlib.legend.Legend at 0x30673e7b0>"
      ]
     },
     "execution_count": 65,
     "metadata": {},
     "output_type": "execute_result"
    },
    {
     "data": {
      "image/png": "[encoded data removed]",
      "text/plain": [
       "<Figure size 800x600 with 1 Axes>"
      ]
     },
     "metadata": {},
     "output_type": "display_data"
    }
   ],
   "source": [
    "x = y0t.index\n",
    "y1 = y0t_y\n",
    "y2 = y0t_pred\n",
    "plt.figure(figsize=(8, 6))  # Optional: specify the figure size\n",
    "plt.plot(x, y1, label='True value', color='blue', linestyle='--')\n",
    "plt.plot(x, y2, label='Predicted value', color='red', linestyle='-')\n",
    "\n",
    "# Add labels and a legend\n",
    "plt.xlabel('Time')\n",
    "plt.ylabel('GDP per capita')\n",
    "plt.legend()\n"
   ]
  },
  {
   "cell_type": "code",
   "execution_count": null,
   "metadata": {
    "id": "nFBPZduOQVvm"
   },
   "outputs": [],
   "source": [
    "y1t_pred = lasso_cv.predict(y1t.iloc[:, 1:])\n",
    "y1t_y = y1t.iloc[:, 0]"
   ]
  },
  {
   "cell_type": "code",
   "execution_count": null,
   "metadata": {
    "colab": {
     "base_uri": "https://localhost:8080/",
     "height": 559
    },
    "executionInfo": {
     "elapsed": 642,
     "status": "ok",
     "timestamp": 1724670569125,
     "user": {
      "displayName": "Yong Song",
      "userId": "00576951217859821315"
     },
     "user_tz": -600
    },
    "id": "1RV1oiqhQzUw",
    "outputId": "aa2f3735-1a8e-4683-e61a-5f5b8f1cff92"
   },
   "outputs": [
    {
     "data": {
      "text/plain": [
       "<matplotlib.legend.Legend at 0x308e898b0>"
      ]
     },
     "execution_count": 68,
     "metadata": {},
     "output_type": "execute_result"
    },
    {
     "data": {
      "image/png": "[encoded data removed]",
      "text/plain": [
       "<Figure size 800x600 with 1 Axes>"
      ]
     },
     "metadata": {},
     "output_type": "display_data"
    }
   ],
   "source": [
    "x = y1t.index\n",
    "y1 = y1t_y\n",
    "y2 = y1t_pred\n",
    "plt.figure(figsize=(8, 6))  # Optional: specify the figure size\n",
    "plt.plot(x, y1, label='True value', color='blue', linestyle='--')\n",
    "plt.plot(x, y2, label='Predicted value', color='red', linestyle='-')\n",
    "\n",
    "# Add labels and a legend\n",
    "plt.xlabel('Time')\n",
    "plt.ylabel('GDP per capita')\n",
    "plt.xticks(rotation=45)\n",
    "plt.legend()\n"
   ]
  },
  {
   "cell_type": "code",
   "execution_count": null,
   "metadata": {
    "id": "Mtb9HFQ7md1m"
   },
   "outputs": [],
   "source": [
    "# put them together\n",
    "x = y.T.index\n",
    "y_true = y.iloc[0,:]\n",
    "y_pred = np.concatenate((y0t_pred, y1t_pred))"
   ]
  },
  {
   "cell_type": "code",
   "execution_count": null,
   "metadata": {
    "colab": {
     "base_uri": "https://localhost:8080/",
     "height": 542
    },
    "executionInfo": {
     "elapsed": 476,
     "status": "ok",
     "timestamp": 1693636994539,
     "user": {
      "displayName": "Yong Song",
      "userId": "00576951217859821315"
     },
     "user_tz": -600
    },
    "id": "hKhJT10Dm_mr",
    "outputId": "0d71507a-c8a9-4bba-8b54-7461242e5d1e"
   },
   "outputs": [
    {
     "data": {
      "application/vnd.plotly.v1+json": {
       "config": {
        "plotlyServerURL": "https://plot.ly"
       },
       "data": [
        {
         "mode": "lines",
         "name": "True value",
         "type": "scatter",
         "x": [
          "1955",
          "1956",
          "1957",
          "1958",
          "1959",
          "1960",
          "1961",
          "1962",
          "1963",
          "1964",
          "1965",
          "1966",
          "1967",
          "1968",
          "1969",
          "1970",
          "1971",
          "1972",
          "1973",
          "1974",
          "1975",
          "1976",
          "1977",
          "1978",
          "1979",
          "1980",
          "1981",
          "1982",
          "1983",
          "1984",
          "1985",
          "1986",
          "1987",
          "1988",
          "1989"
         ],
         "y": {
          "bdata": "eJSadlLTDkDdRflLtZAPQCuz5gFeIhBAwLnk6PsXEEDETD7cHA4QQNRnxMrHJBFA5HLxwh5MEkA3NchGiJgTQDetm0u+yRRAJwrpYQlbFUBxxcQRUdwVQJh2koEELxZAkXexOad1FkDcvsYqo2gXQEpHFfFbUxhAXFZPLy2uGEAvUZLLcCIZQB1SsYPjOBpANkAaHTo+G0DyfxJvtWscQMB/gQn2gh1AKzDBJobuHEA6oFXB/FscQElTYaGVJRtAjNr/SSyPGkCPwmfpWEAaQJUG/ubNABpAn93t1yMuGkBs6aginmEaQOqc1s3FCxtA+6sQDKe/G0DfbMvqKVQdQL3GKnOd+B5A6w6E+rY9IEBFLYnc+AQhQA==",
          "dtype": "f8"
         }
        },
        {
         "mode": "lines",
         "name": "Predicted value",
         "type": "scatter",
         "x": [
          "1955",
          "1956",
          "1957",
          "1958",
          "1959",
          "1960",
          "1961",
          "1962",
          "1963",
          "1964",
          "1965",
          "1966",
          "1967",
          "1968",
          "1969",
          "1970",
          "1971",
          "1972",
          "1973",
          "1974",
          "1975",
          "1976",
          "1977",
          "1978",
          "1979",
          "1980",
          "1981",
          "1982",
          "1983",
          "1984",
          "1985",
          "1986",
          "1987",
          "1988",
          "1989"
         ],
         "y": {
          "bdata": "HlfIuqrKDkAOrakJhJkPQF+MXvt+JRBAscFstAoWEEDx4QXdlQsQQO03sRkaJhFAeeP7w3tREkCBrDatz5ETQIswv2yXzhRAmLhr38xYFUDaO0lAM9sVQJQoKST9KRZAfWgyDoF4FkCgMGjpnmoXQKWHiLLtchhAQhBTJ5hHGUBXtIP2Ei0aQNvd4NnMRhtAZHNErc5cHEAVEEl2wJ0dQFXh1FG32B5Ary43tbBmH0BvxJRRXvMfQB8DjmY9rB9AV6vvVKZgH0D9ugs/KAQfQJWOtIgNhB5AxNf4IvI3HkD3pOpmdAEeQMmjJiFCDh5AoyGaicYlHkCD8r4AO24fQG4TC1EnayBAdIZLVfhTIUAezWm9R0EiQA==",
          "dtype": "f8"
         }
        }
       ],
       "layout": {
        "template": {
         "data": {
          "bar": [
           {
            "error_x": {
             "color": "#2a3f5f"
            },
            "error_y": {
             "color": "#2a3f5f"
            },
            "marker": {
             "line": {
              "color": "#E5ECF6",
              "width": 0.5
             },
             "pattern": {
              "fillmode": "overlay",
              "size": 10,
              "solidity": 0.2
             }
            },
            "type": "bar"
           }
          ],
          "barpolar": [
           {
            "marker": {
             "line": {
              "color": "#E5ECF6",
              "width": 0.5
             },
             "pattern": {
              "fillmode": "overlay",
              "size": 10,
              "solidity": 0.2
             }
            },
            "type": "barpolar"
           }
          ],
          "carpet": [
           {
            "aaxis": {
             "endlinecolor": "#2a3f5f",
             "gridcolor": "white",
             "linecolor": "white",
             "minorgridcolor": "white",
             "startlinecolor": "#2a3f5f"
            },
            "baxis": {
             "endlinecolor": "#2a3f5f",
             "gridcolor": "white",
             "linecolor": "white",
             "minorgridcolor": "white",
             "startlinecolor": "#2a3f5f"
            },
            "type": "carpet"
           }
          ],
          "choropleth": [
           {
            "colorbar": {
             "outlinewidth": 0,
             "ticks": ""
            },
            "type": "choropleth"
           }
          ],
          "contour": [
           {
            "colorbar": {
             "outlinewidth": 0,
             "ticks": ""
            },
            "colorscale": [
             [
              0,
              "#0d0887"
             ],
             [
              0.1111111111111111,
              "#46039f"
             ],
             [
              0.2222222222222222,
              "#7201a8"
             ],
             [
              0.3333333333333333,
              "#9c179e"
             ],
             [
              0.4444444444444444,
              "#bd3786"
             ],
             [
              0.5555555555555556,
              "#d8576b"
             ],
             [
              0.6666666666666666,
              "#ed7953"
             ],
             [
              0.7777777777777778,
              "#fb9f3a"
             ],
             [
              0.8888888888888888,
              "#fdca26"
             ],
             [
              1,
              "#f0f921"
             ]
            ],
            "type": "contour"
           }
          ],
          "contourcarpet": [
           {
            "colorbar": {
             "outlinewidth": 0,
             "ticks": ""
            },
            "type": "contourcarpet"
           }
          ],
          "heatmap": [
           {
            "colorbar": {
             "outlinewidth": 0,
             "ticks": ""
            },
            "colorscale": [
             [
              0,
              "#0d0887"
             ],
             [
              0.1111111111111111,
              "#46039f"
             ],
             [
              0.2222222222222222,
              "#7201a8"
             ],
             [
              0.3333333333333333,
              "#9c179e"
             ],
             [
              0.4444444444444444,
              "#bd3786"
             ],
             [
              0.5555555555555556,
              "#d8576b"
             ],
             [
              0.6666666666666666,
              "#ed7953"
             ],
             [
              0.7777777777777778,
              "#fb9f3a"
             ],
             [
              0.8888888888888888,
              "#fdca26"
             ],
             [
              1,
              "#f0f921"
             ]
            ],
            "type": "heatmap"
           }
          ],
          "histogram": [
           {
            "marker": {
             "pattern": {
              "fillmode": "overlay",
              "size": 10,
              "solidity": 0.2
             }
            },
            "type": "histogram"
           }
          ],
          "histogram2d": [
           {
            "colorbar": {
             "outlinewidth": 0,
             "ticks": ""
            },
            "colorscale": [
             [
              0,
              "#0d0887"
             ],
             [
              0.1111111111111111,
              "#46039f"
             ],
             [
              0.2222222222222222,
              "#7201a8"
             ],
             [
              0.3333333333333333,
              "#9c179e"
             ],
             [
              0.4444444444444444,
              "#bd3786"
             ],
             [
              0.5555555555555556,
              "#d8576b"
             ],
             [
              0.6666666666666666,
              "#ed7953"
             ],
             [
              0.7777777777777778,
              "#fb9f3a"
             ],
             [
              0.8888888888888888,
              "#fdca26"
             ],
             [
              1,
              "#f0f921"
             ]
            ],
            "type": "histogram2d"
           }
          ],
          "histogram2dcontour": [
           {
            "colorbar": {
             "outlinewidth": 0,
             "ticks": ""
            },
            "colorscale": [
             [
              0,
              "#0d0887"
             ],
             [
              0.1111111111111111,
              "#46039f"
             ],
             [
              0.2222222222222222,
              "#7201a8"
             ],
             [
              0.3333333333333333,
              "#9c179e"
             ],
             [
              0.4444444444444444,
              "#bd3786"
             ],
             [
              0.5555555555555556,
              "#d8576b"
             ],
             [
              0.6666666666666666,
              "#ed7953"
             ],
             [
              0.7777777777777778,
              "#fb9f3a"
             ],
             [
              0.8888888888888888,
              "#fdca26"
             ],
             [
              1,
              "#f0f921"
             ]
            ],
            "type": "histogram2dcontour"
           }
          ],
          "mesh3d": [
           {
            "colorbar": {
             "outlinewidth": 0,
             "ticks": ""
            },
            "type": "mesh3d"
           }
          ],
          "parcoords": [
           {
            "line": {
             "colorbar": {
              "outlinewidth": 0,
              "ticks": ""
             }
            },
            "type": "parcoords"
           }
          ],
          "pie": [
           {
            "automargin": true,
            "type": "pie"
           }
          ],
          "scatter": [
           {
            "fillpattern": {
             "fillmode": "overlay",
             "size": 10,
             "solidity": 0.2
            },
            "type": "scatter"
           }
          ],
          "scatter3d": [
           {
            "line": {
             "colorbar": {
              "outlinewidth": 0,
              "ticks": ""
             }
            },
            "marker": {
             "colorbar": {
              "outlinewidth": 0,
              "ticks": ""
             }
            },
            "type": "scatter3d"
           }
          ],
          "scattercarpet": [
           {
            "marker": {
             "colorbar": {
              "outlinewidth": 0,
              "ticks": ""
             }
            },
            "type": "scattercarpet"
           }
          ],
          "scattergeo": [
           {
            "marker": {
             "colorbar": {
              "outlinewidth": 0,
              "ticks": ""
             }
            },
            "type": "scattergeo"
           }
          ],
          "scattergl": [
           {
            "marker": {
             "colorbar": {
              "outlinewidth": 0,
              "ticks": ""
             }
            },
            "type": "scattergl"
           }
          ],
          "scattermap": [
           {
            "marker": {
             "colorbar": {
              "outlinewidth": 0,
              "ticks": ""
             }
            },
            "type": "scattermap"
           }
          ],
          "scattermapbox": [
           {
            "marker": {
             "colorbar": {
              "outlinewidth": 0,
              "ticks": ""
             }
            },
            "type": "scattermapbox"
           }
          ],
          "scatterpolar": [
           {
            "marker": {
             "colorbar": {
              "outlinewidth": 0,
              "ticks": ""
             }
            },
            "type": "scatterpolar"
           }
          ],
          "scatterpolargl": [
           {
            "marker": {
             "colorbar": {
              "outlinewidth": 0,
              "ticks": ""
             }
            },
            "type": "scatterpolargl"
           }
          ],
          "scatterternary": [
           {
            "marker": {
             "colorbar": {
              "outlinewidth": 0,
              "ticks": ""
             }
            },
            "type": "scatterternary"
           }
          ],
          "surface": [
           {
            "colorbar": {
             "outlinewidth": 0,
             "ticks": ""
            },
            "colorscale": [
             [
              0,
              "#0d0887"
             ],
             [
              0.1111111111111111,
              "#46039f"
             ],
             [
              0.2222222222222222,
              "#7201a8"
             ],
             [
              0.3333333333333333,
              "#9c179e"
             ],
             [
              0.4444444444444444,
              "#bd3786"
             ],
             [
              0.5555555555555556,
              "#d8576b"
             ],
             [
              0.6666666666666666,
              "#ed7953"
             ],
             [
              0.7777777777777778,
              "#fb9f3a"
             ],
             [
              0.8888888888888888,
              "#fdca26"
             ],
             [
              1,
              "#f0f921"
             ]
            ],
            "type": "surface"
           }
          ],
          "table": [
           {
            "cells": {
             "fill": {
              "color": "#EBF0F8"
             },
             "line": {
              "color": "white"
             }
            },
            "header": {
             "fill": {
              "color": "#C8D4E3"
             },
             "line": {
              "color": "white"
             }
            },
            "type": "table"
           }
          ]
         },
         "layout": {
          "annotationdefaults": {
           "arrowcolor": "#2a3f5f",
           "arrowhead": 0,
           "arrowwidth": 1
          },
          "autotypenumbers": "strict",
          "coloraxis": {
           "colorbar": {
            "outlinewidth": 0,
            "ticks": ""
           }
          },
          "colorscale": {
           "diverging": [
            [
             0,
             "#8e0152"
            ],
            [
             0.1,
             "#c51b7d"
            ],
            [
             0.2,
             "#de77ae"
            ],
            [
             0.3,
             "#f1b6da"
            ],
            [
             0.4,
             "#fde0ef"
            ],
            [
             0.5,
             "#f7f7f7"
            ],
            [
             0.6,
             "#e6f5d0"
            ],
            [
             0.7,
             "#b8e186"
            ],
            [
             0.8,
             "#7fbc41"
            ],
            [
             0.9,
             "#4d9221"
            ],
            [
             1,
             "#276419"
            ]
           ],
           "sequential": [
            [
             0,
             "#0d0887"
            ],
            [
             0.1111111111111111,
             "#46039f"
            ],
            [
             0.2222222222222222,
             "#7201a8"
            ],
            [
             0.3333333333333333,
             "#9c179e"
            ],
            [
             0.4444444444444444,
             "#bd3786"
            ],
            [
             0.5555555555555556,
             "#d8576b"
            ],
            [
             0.6666666666666666,
             "#ed7953"
            ],
            [
             0.7777777777777778,
             "#fb9f3a"
            ],
            [
             0.8888888888888888,
             "#fdca26"
            ],
            [
             1,
             "#f0f921"
            ]
           ],
           "sequentialminus": [
            [
             0,
             "#0d0887"
            ],
            [
             0.1111111111111111,
             "#46039f"
            ],
            [
             0.2222222222222222,
             "#7201a8"
            ],
            [
             0.3333333333333333,
             "#9c179e"
            ],
            [
             0.4444444444444444,
             "#bd3786"
            ],
            [
             0.5555555555555556,
             "#d8576b"
            ],
            [
             0.6666666666666666,
             "#ed7953"
            ],
            [
             0.7777777777777778,
             "#fb9f3a"
            ],
            [
             0.8888888888888888,
             "#fdca26"
            ],
            [
             1,
             "#f0f921"
            ]
           ]
          },
          "colorway": [
           "#636efa",
           "#EF553B",
           "#00cc96",
           "#ab63fa",
           "#FFA15A",
           "#19d3f3",
           "#FF6692",
           "#B6E880",
           "#FF97FF",
           "#FECB52"
          ],
          "font": {
           "color": "#2a3f5f"
          },
          "geo": {
           "bgcolor": "white",
           "lakecolor": "white",
           "landcolor": "#E5ECF6",
           "showlakes": true,
           "showland": true,
           "subunitcolor": "white"
          },
          "hoverlabel": {
           "align": "left"
          },
          "hovermode": "closest",
          "mapbox": {
           "style": "light"
          },
          "paper_bgcolor": "white",
          "plot_bgcolor": "#E5ECF6",
          "polar": {
           "angularaxis": {
            "gridcolor": "white",
            "linecolor": "white",
            "ticks": ""
           },
           "bgcolor": "#E5ECF6",
           "radialaxis": {
            "gridcolor": "white",
            "linecolor": "white",
            "ticks": ""
           }
          },
          "scene": {
           "xaxis": {
            "backgroundcolor": "#E5ECF6",
            "gridcolor": "white",
            "gridwidth": 2,
            "linecolor": "white",
            "showbackground": true,
            "ticks": "",
            "zerolinecolor": "white"
           },
           "yaxis": {
            "backgroundcolor": "#E5ECF6",
            "gridcolor": "white",
            "gridwidth": 2,
            "linecolor": "white",
            "showbackground": true,
            "ticks": "",
            "zerolinecolor": "white"
           },
           "zaxis": {
            "backgroundcolor": "#E5ECF6",
            "gridcolor": "white",
            "gridwidth": 2,
            "linecolor": "white",
            "showbackground": true,
            "ticks": "",
            "zerolinecolor": "white"
           }
          },
          "shapedefaults": {
           "line": {
            "color": "#2a3f5f"
           }
          },
          "ternary": {
           "aaxis": {
            "gridcolor": "white",
            "linecolor": "white",
            "ticks": ""
           },
           "baxis": {
            "gridcolor": "white",
            "linecolor": "white",
            "ticks": ""
           },
           "bgcolor": "#E5ECF6",
           "caxis": {
            "gridcolor": "white",
            "linecolor": "white",
            "ticks": ""
           }
          },
          "title": {
           "x": 0.05
          },
          "xaxis": {
           "automargin": true,
           "gridcolor": "white",
           "linecolor": "white",
           "ticks": "",
           "title": {
            "standoff": 15
           },
           "zerolinecolor": "white",
           "zerolinewidth": 2
          },
          "yaxis": {
           "automargin": true,
           "gridcolor": "white",
           "linecolor": "white",
           "ticks": "",
           "title": {
            "standoff": 15
           },
           "zerolinecolor": "white",
           "zerolinewidth": 2
          }
         }
        },
        "title": {
         "text": "True and Predicted values"
        },
        "xaxis": {
         "title": {
          "text": "time"
         }
        },
        "yaxis": {
         "title": {
          "text": "GDP per cap"
         }
        }
       }
      }
     },
     "metadata": {},
     "output_type": "display_data"
    }
   ],
   "source": [
    "trace1 = go.Scatter(x=x, y=y_true, mode='lines', name='True value')\n",
    "trace2 = go.Scatter(x=x, y=y_pred, mode='lines', name='Predicted value')\n",
    "\n",
    "# Create the layout\n",
    "layout = go.Layout(\n",
    "    title='True and Predicted values',\n",
    "    xaxis=dict(title='time'),\n",
    "    yaxis=dict(title='GDP per cap')\n",
    ")\n",
    "\n",
    "# Create a figure with both traces\n",
    "fig = go.Figure(data=[trace1, trace2], layout=layout)\n",
    "\n",
    "# Show the interactive plot\n",
    "fig.show()"
   ]
  }
 ],
 "metadata": {
  "colab": {
   "provenance": [
    {
     "file_id": "1xyCgCsXNwnmPjRrFwzRettcMZjO1BaJR",
     "timestamp": 1724323159756
    }
   ],
   "toc_visible": true
  },
  "kernelspec": {
   "display_name": "base",
   "language": "python",
   "name": "python3"
  },
  "language_info": {
   "codemirror_mode": {
    "name": "ipython",
    "version": 3
   },
   "file_extension": ".py",
   "mimetype": "text/x-python",
   "name": "python",
   "nbconvert_exporter": "python",
   "pygments_lexer": "ipython3",
   "version": "3.12.9"
  }
 },
 "nbformat": 4,
 "nbformat_minor": 0
}
